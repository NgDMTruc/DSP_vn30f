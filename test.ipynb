{
 "cells": [
  {
   "cell_type": "code",
   "execution_count": 11,
   "metadata": {},
   "outputs": [],
   "source": [
    "from sqlalchemy import create_engine, inspect\n",
    "import pandas as pd\n",
    "import psycopg2\n",
    "\n",
    "def read_from_postgresql(table_name, user, password, host, port, dbname, schema):\n",
    "    engine = create_engine(f'postgresql+psycopg2://{user}:{password}@{host}:{port}/{dbname}')\n",
    "    # Read the table into a DataFrame\n",
    "    df = pd.read_sql_table(table_name, engine, schema=schema)\n",
    "\n",
    "    return df\n",
    "\n",
    "host = '192.168.1.35'\n",
    "port = '5432' \n",
    "dbname = 'postgres'\n",
    "user = 'postgres'\n",
    "password = 'postgres'\n",
    "schema = 'public'\n",
    "symbol = 'vn30f1m_model'\n",
    "\n",
    "df = read_from_postgresql(symbol, user, password, host, port, dbname, schema)\n",
    "\n"
   ]
  },
  {
   "cell_type": "code",
   "execution_count": 12,
   "metadata": {},
   "outputs": [
    {
     "name": "stdout",
     "output_type": "stream",
     "text": [
      "            Date      time   Close  position\n",
      "1005  2024-06-11  14:01:00  1301.0      -2.0\n",
      "1006  2024-06-11  14:02:00  1301.8      -2.0\n",
      "1007  2024-06-11  14:03:00  1301.8      -2.0\n",
      "1008  2024-06-11  14:04:00  1302.3      -2.0\n",
      "1009  2024-06-11  14:05:00  1302.5      -2.0\n",
      "1010  2024-06-11  14:05:00  1302.5      -2.0\n",
      "1011  2024-06-11  14:06:00  1304.2       0.0\n",
      "1012  2024-06-11  14:08:00  1303.9       2.0\n",
      "1013  2024-06-11  14:09:00  1303.0       0.0\n",
      "1014  2024-06-11  14:10:00  1304.1       0.0\n",
      "1015  2024-06-11  14:11:00  1304.0       2.0\n",
      "1016  2024-06-11  14:11:00  1304.0       2.0\n",
      "1017  2024-06-11  14:12:00  1303.0       0.0\n",
      "1018  2024-06-11  14:14:00  1302.7      -2.0\n",
      "1019  2024-06-11  14:15:00  1302.6      -2.0\n",
      "1020  2024-06-11  14:15:00  1302.6      -2.0\n",
      "1021  2024-06-11  14:16:00  1302.4      -2.0\n",
      "1022  2024-06-11  14:18:00  1301.6      -2.0\n",
      "1023  2024-06-11  14:19:00  1302.4      -2.0\n",
      "1024  2024-06-11  14:20:00  1302.2      -2.0\n",
      "1025  2024-06-11  14:21:00  1303.0       0.0\n",
      "1026  2024-06-11  14:21:00  1303.0       0.0\n",
      "1027  2024-06-11  14:22:00  1306.2       2.0\n",
      "1028  2024-06-11  14:24:00  1304.5       2.0\n",
      "1029  2024-06-11  14:25:00  1305.7       2.0\n",
      "1030  2024-06-11  14:26:00  1305.1       2.0\n",
      "1031  2024-06-11  14:27:00  1305.9       2.0\n",
      "1032  2024-06-11  14:28:00  1306.6       2.0\n",
      "1033  2024-06-11  14:29:00  1308.2       2.0\n",
      "1034  2024-06-11  14:30:00  1307.2       2.0\n"
     ]
    }
   ],
   "source": [
    "print(df.tail(30))"
   ]
  },
  {
   "cell_type": "code",
   "execution_count": 13,
   "metadata": {},
   "outputs": [],
   "source": [
    "df.to_csv('check.csv')"
   ]
  },
  {
   "cell_type": "code",
   "execution_count": 5,
   "metadata": {},
   "outputs": [],
   "source": [
    "from datetime import datetime, timedelta, timezone\n",
    "import pandas as pd\n",
    "import numpy as np\n",
    "import requests"
   ]
  },
  {
   "cell_type": "code",
   "execution_count": 8,
   "metadata": {},
   "outputs": [],
   "source": [
    "start_time = 1600000000\n",
    "now_time = 9999999999\n",
    "symbol = 'VN30F1M'\n",
    "rolling_window = 1 # Số phút muốn dự đoán tiếp theo"
   ]
  }
 ],
 "metadata": {
  "kernelspec": {
   "display_name": "Python 3",
   "language": "python",
   "name": "python3"
  },
  "language_info": {
   "codemirror_mode": {
    "name": "ipython",
    "version": 3
   },
   "file_extension": ".py",
   "mimetype": "text/x-python",
   "name": "python",
   "nbconvert_exporter": "python",
   "pygments_lexer": "ipython3",
   "version": "3.10.1"
  }
 },
 "nbformat": 4,
 "nbformat_minor": 2
}
