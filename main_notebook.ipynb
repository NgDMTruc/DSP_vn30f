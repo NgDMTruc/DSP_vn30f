{
 "cells": [
  {
   "cell_type": "markdown",
   "metadata": {},
   "source": [
    "## Install dependencies"
   ]
  },
  {
   "cell_type": "code",
   "execution_count": 1,
   "metadata": {},
   "outputs": [
    {
     "name": "stderr",
     "output_type": "stream",
     "text": [
      "c:\\Users\\Minh Truc\\AppData\\Local\\Programs\\Python\\Python310\\lib\\site-packages\\tqdm\\auto.py:21: TqdmWarning: IProgress not found. Please update jupyter and ipywidgets. See https://ipywidgets.readthedocs.io/en/stable/user_install.html\n",
      "  from .autonotebook import tqdm as notebook_tqdm\n"
     ]
    }
   ],
   "source": [
    "from datetime import datetime, timedelta, timezone\n",
    "import pandas as pd\n",
    "import numpy as np\n",
    "import requests\n",
    "import os\n",
    "import logging\n",
    "import sys\n",
    "import optuna\n",
    "import joblib\n",
    "import xgboost as xgb"
   ]
  },
  {
   "cell_type": "code",
   "execution_count": 2,
   "metadata": {},
   "outputs": [],
   "source": [
    "from sklearn.model_selection import train_test_split\n",
    "from sklearn.preprocessing import StandardScaler\n",
    "from datetime import datetime, timedelta\n",
    "from ta import add_all_ta_features"
   ]
  },
  {
   "cell_type": "code",
   "execution_count": 38,
   "metadata": {},
   "outputs": [],
   "source": [
    "import matplotlib.pyplot as plt\n",
    "import matplotlib"
   ]
  },
  {
   "cell_type": "markdown",
   "metadata": {},
   "source": [
    "## Variables"
   ]
  },
  {
   "cell_type": "code",
   "execution_count": 3,
   "metadata": {},
   "outputs": [],
   "source": [
    "current_storage = os.path.join(\"d:\", \"data\")\n",
    "vn30f_storage = os.path.join(current_storage, 'vn30f')"
   ]
  },
  {
   "cell_type": "code",
   "execution_count": 4,
   "metadata": {},
   "outputs": [],
   "source": [
    "start_time = 0\n",
    "now_time = 9999999999\n",
    "symbol = 'VN30F1M'\n",
    "rolling_window = 1 # Số phút muốn dự đoán tiếp theo"
   ]
  },
  {
   "cell_type": "code",
   "execution_count": 5,
   "metadata": {},
   "outputs": [],
   "source": [
    "# Add stream handler of stdout to show the messages\n",
    "optuna.logging.get_logger(\"optuna\").addHandler(logging.StreamHandler(sys.stdout))\n",
    "study_name = \"btc1-study\"  # Unique identifier of the study.\n",
    "storage_name = \"sqlite:///{}.db\".format(study_name)"
   ]
  },
  {
   "cell_type": "markdown",
   "metadata": {},
   "source": [
    "## Formulas"
   ]
  },
  {
   "cell_type": "code",
   "execution_count": 6,
   "metadata": {},
   "outputs": [],
   "source": [
    "def choose_position(roi, trade_threshold = 0.0005):\n",
    "    pos =0\n",
    "    # Predict position base on change in future\n",
    "    if roi > trade_threshold:\n",
    "        pos = 1\n",
    "    elif roi < -trade_threshold:\n",
    "        pos = -1\n",
    "    else:\n",
    "        pos = 0\n",
    "\n",
    "    return pos"
   ]
  },
  {
   "cell_type": "code",
   "execution_count": 7,
   "metadata": {},
   "outputs": [],
   "source": [
    "def backtest_position_ps(position, price, percentage, periods):\n",
    "    # Shift positions to align with future price changes and handle NaN by filling with 0\n",
    "    pos = pd.Series(position, index=pd.Series(price).index).shift(1).fillna(0)\n",
    "    pos = pd.Series(pos).rolling(periods).sum() #pos for 10 hour predict\n",
    "\n",
    "    price_array = pd.Series(price).shift(1).fillna(0)\n",
    "\n",
    "    pos_diff = pos.diff()\n",
    "    fee = pos_diff*price_array*0.05*0.01\n",
    "\n",
    "    # Calculate price changes over the given periods\n",
    "    ch = pd.Series(price) - price_array\n",
    "\n",
    "    # Calculate total PnL\n",
    "    total_pnl = pos*ch - fee\n",
    "    return total_pnl"
   ]
  },
  {
   "cell_type": "code",
   "execution_count": 8,
   "metadata": {},
   "outputs": [],
   "source": [
    "def calculate_sharpe_ratio(pnl):\n",
    "    pnl = np.diff(pnl)\n",
    "    std = np.std(pnl) if np.std(pnl) != 0 else 0.001\n",
    "    sharpe = np.mean(pnl)/std*np.sqrt(252)\n",
    "    return sharpe"
   ]
  },
  {
   "cell_type": "code",
   "execution_count": 9,
   "metadata": {},
   "outputs": [],
   "source": [
    "def sharpe_for_vn30f(y_pred, y_price, trade_threshold, fee_perc, periods):\n",
    "\n",
    "    # Predict position base on change in future\n",
    "    pos = [choose_position(roi, trade_threshold) for roi in y_pred]\n",
    "    pos = np.array(pos)\n",
    "\n",
    "    # Calculate PNL\n",
    "    pnl = backtest_position_ps(pos, y_price, fee_perc, periods)\n",
    "    pnl = np.cumsum(pnl)\n",
    "\n",
    "    # Standardalize PNL to date\n",
    "    daily_pnl = [pnl.iloc[i] for i in range(0, len(pnl), 24)]\n",
    "    daily_pnl = pd.Series(daily_pnl).fillna(0)\n",
    "\n",
    "    # Calculate Sharpe\n",
    "    sharpe = calculate_sharpe_ratio(daily_pnl)\n",
    "\n",
    "    return pos, pnl, daily_pnl, sharpe"
   ]
  },
  {
   "cell_type": "code",
   "execution_count": 10,
   "metadata": {},
   "outputs": [],
   "source": [
    "def calculate_hitrate(pos_predict, pos_true):\n",
    "    if len(pos_predict) != len(pos_true):\n",
    "        raise ValueError(\"Độ dài của hai mảng không khớp\")\n",
    "\n",
    "    # Tính số lượng dự đoán đúng (các phần tử tương ứng giống nhau)\n",
    "    correct_predictions = np.sum(pos_predict == pos_true)\n",
    "\n",
    "    # Tính tỷ lệ hit rate\n",
    "    hit_rate_value = correct_predictions / len(pos_predict)\n",
    "\n",
    "    return hit_rate_value"
   ]
  },
  {
   "cell_type": "markdown",
   "metadata": {},
   "source": [
    "# Function for data"
   ]
  },
  {
   "cell_type": "code",
   "execution_count": 11,
   "metadata": {},
   "outputs": [],
   "source": [
    "def scale_data(data):\n",
    "    scaler = StandardScaler()\n",
    "    scaler.fit(data)\n",
    "    data=pd.DataFrame(scaler.transform(data), index=data.index, columns=data.columns)\n",
    "\n",
    "    return data"
   ]
  },
  {
   "cell_type": "code",
   "execution_count": 12,
   "metadata": {},
   "outputs": [],
   "source": [
    "def split_data(data):\n",
    "    \"\"\"\n",
    "    Hàm này chia dữ liệu thành 2 phần: tập huấn luyện và tập hold out.\n",
    "\n",
    "    Args:\n",
    "    data (pandas.DataFrame): DataFrame chứa dữ liệu cần chia.\n",
    "\n",
    "    Returns:\n",
    "    pandas.DataFrame: DataFrame chứa dữ liệu tập huấn luyện.\n",
    "    pandas.DataFrame: DataFrame chứa dữ liệu tập giữ lại.\n",
    "    \"\"\"\n",
    "    # Chia dữ liệu thành 3 phần\n",
    "    new_part = np.array_split(data, 3)\n",
    "\n",
    "    # Access each part individually\n",
    "    hold_out = new_part[2]\n",
    "    train_data = pd.concat([new_part[0], new_part[1]], axis=0)\n",
    "\n",
    "    return train_data, hold_out\n",
    "\n",
    "def split_optuna_data(data):\n",
    "    \"\"\"\n",
    "    Hàm này chia dữ liệu thành các tập train và test để sử dụng trong quá trình tối ưu hóa bằng Optuna.\n",
    "\n",
    "    Args:\n",
    "    data (pandas.DataFrame): DataFrame chứa dữ liệu cần chia.\n",
    "\n",
    "    Returns:\n",
    "    pandas.DataFrame: DataFrame chứa dữ liệu train (đã được chuẩn hóa).\n",
    "    pandas.DataFrame: DataFrame chứa dữ liệu test (đã được chuẩn hóa).\n",
    "    pandas.Series: Series chứa nhãn tương ứng với dữ liệu train.\n",
    "    pandas.Series: Series chứa nhãn tương ứng với dữ liệu test.\n",
    "    \"\"\"\n",
    "    # Chia dữ liệu thành tập train và tập hold out\n",
    "    train_data, _ = split_data(data)\n",
    "    \n",
    "    # Loại bỏ các cột không cần thiết\n",
    "    if 'Open' in train_data.columns:\n",
    "        optuna_data = train_data.drop(['Open','High','Low','Close','Volume', 'Return', 'Date', 'time'], axis=1)\n",
    "    else:\n",
    "        optuna_data = train_data.drop(['Close', 'Return', 'Date', 'time'], axis=1)\n",
    "    \n",
    "    # Chuẩn hóa dữ liệu\n",
    "    optuna_data = scale_data(optuna_data)\n",
    "    \n",
    "    # Chia dữ liệu thành tập train và tập test\n",
    "    X_train, X_valid, y_train, y_valid = train_test_split(optuna_data, train_data['Return'], test_size=0.5, shuffle=False)\n",
    "\n",
    "    return X_train, X_valid, y_train, y_valid, train_data"
   ]
  },
  {
   "cell_type": "markdown",
   "metadata": {},
   "source": [
    "## Get data"
   ]
  },
  {
   "cell_type": "code",
   "execution_count": 13,
   "metadata": {},
   "outputs": [],
   "source": [
    "def get_vn30f(start_time, now_time, symbol):\n",
    "    def vn30f():\n",
    "            return requests.get(f\"https://services.entrade.com.vn/chart-api/chart?from={start_time}&resolution=1&symbol={symbol}&to={now_time}\").json()\n",
    "    vn30fm = pd.DataFrame(vn30f()).iloc[:,:6]\n",
    "    vn30fm['t'] = vn30fm['t'].astype(int).apply(lambda x: datetime.utcfromtimestamp(x) + timedelta(hours = 7))\n",
    "    vn30fm.columns = ['Date','Open','High','Low','Close','Volume']\n",
    "    ohlc_dict = {                                                                                                             \n",
    "        'Open': 'first',                                                                                                    \n",
    "        'High': 'max',                                                                                                       \n",
    "        'Low': 'min',                                                         \n",
    "        'Close': 'last',                                                                                                    \n",
    "        'Volume': 'sum',}\n",
    "    vn30fm = pd.DataFrame(vn30f()).iloc[:,:6]\n",
    "    vn30fm['t'] = vn30fm['t'].astype(int).apply(lambda x: datetime.utcfromtimestamp(x) + timedelta(hours = 7))\n",
    "    vn30fm.columns = ['Date','Open','High','Low','Close','Volume']\n",
    "    dt_object = datetime.utcfromtimestamp(start_time) + timedelta(hours = 7)\n",
    "    now_object = datetime.utcfromtimestamp(now_time) + timedelta(hours = 7)\n",
    "\n",
    "    print(f'===> Data {symbol} from {dt_object} to {now_object} has been appended ')\n",
    "    \n",
    "    return vn30fm"
   ]
  },
  {
   "cell_type": "code",
   "execution_count": 14,
   "metadata": {},
   "outputs": [
    {
     "name": "stdout",
     "output_type": "stream",
     "text": [
      "===> Data VN30F1M from 1970-01-01 07:00:00 to 2286-11-21 00:46:39 has been appended \n"
     ]
    }
   ],
   "source": [
    "df = get_vn30f(start_time, now_time, symbol)"
   ]
  },
  {
   "cell_type": "code",
   "execution_count": 15,
   "metadata": {},
   "outputs": [],
   "source": [
    "data = df.copy()"
   ]
  },
  {
   "cell_type": "markdown",
   "metadata": {},
   "source": [
    "## Preprocess"
   ]
  },
  {
   "cell_type": "code",
   "execution_count": 16,
   "metadata": {},
   "outputs": [],
   "source": [
    "from scipy.stats.mstats import winsorize\n",
    "# Áp dụng Winsorization\n",
    "data['Close'] = winsorize(data['Close'], limits=[0.05, 0.05])"
   ]
  },
  {
   "cell_type": "code",
   "execution_count": 17,
   "metadata": {},
   "outputs": [],
   "source": [
    "def process_data(data):\n",
    "    data.set_index('Date', inplace =True)\n",
    "    data.columns = ['Open','High','Low','Close','Volume']\n",
    "\n",
    "    data['Date'] = [str(i)[:10] for i in data.index]\n",
    "    data['time'] = [str(i)[11:] for i in data.index]\n",
    "\n",
    "    data = data[~data.index.duplicated(keep='first')] # Handling duplicate\n",
    "    data_model = data.pivot(index = 'Date', columns = 'time', values = ['Open','High','Low','Close','Volume']).ffill(axis = 1).stack().reset_index() # Handling missing values\n",
    "    # data_model.columns = ['Date','time','Close']\n",
    "\n",
    "    return data_model"
   ]
  },
  {
   "cell_type": "code",
   "execution_count": 18,
   "metadata": {},
   "outputs": [],
   "source": [
    "data = process_data(data)"
   ]
  },
  {
   "cell_type": "code",
   "execution_count": 19,
   "metadata": {},
   "outputs": [
    {
     "data": {
      "text/html": [
       "<div>\n",
       "<style scoped>\n",
       "    .dataframe tbody tr th:only-of-type {\n",
       "        vertical-align: middle;\n",
       "    }\n",
       "\n",
       "    .dataframe tbody tr th {\n",
       "        vertical-align: top;\n",
       "    }\n",
       "\n",
       "    .dataframe thead th {\n",
       "        text-align: right;\n",
       "    }\n",
       "</style>\n",
       "<table border=\"1\" class=\"dataframe\">\n",
       "  <thead>\n",
       "    <tr style=\"text-align: right;\">\n",
       "      <th></th>\n",
       "      <th>Date</th>\n",
       "      <th>time</th>\n",
       "      <th>Open</th>\n",
       "      <th>High</th>\n",
       "      <th>Low</th>\n",
       "      <th>Close</th>\n",
       "      <th>Volume</th>\n",
       "    </tr>\n",
       "  </thead>\n",
       "  <tbody>\n",
       "    <tr>\n",
       "      <th>0</th>\n",
       "      <td>2018-08-13</td>\n",
       "      <td>09:00:00</td>\n",
       "      <td>943.5</td>\n",
       "      <td>943.5</td>\n",
       "      <td>942.9</td>\n",
       "      <td>942.9</td>\n",
       "      <td>975.0</td>\n",
       "    </tr>\n",
       "    <tr>\n",
       "      <th>1</th>\n",
       "      <td>2018-08-13</td>\n",
       "      <td>09:01:00</td>\n",
       "      <td>943.0</td>\n",
       "      <td>943.1</td>\n",
       "      <td>942.9</td>\n",
       "      <td>943.1</td>\n",
       "      <td>220.0</td>\n",
       "    </tr>\n",
       "    <tr>\n",
       "      <th>2</th>\n",
       "      <td>2018-08-13</td>\n",
       "      <td>09:02:00</td>\n",
       "      <td>943.0</td>\n",
       "      <td>943.6</td>\n",
       "      <td>943.0</td>\n",
       "      <td>943.5</td>\n",
       "      <td>121.0</td>\n",
       "    </tr>\n",
       "    <tr>\n",
       "      <th>3</th>\n",
       "      <td>2018-08-13</td>\n",
       "      <td>09:03:00</td>\n",
       "      <td>943.3</td>\n",
       "      <td>943.4</td>\n",
       "      <td>943.3</td>\n",
       "      <td>943.4</td>\n",
       "      <td>135.0</td>\n",
       "    </tr>\n",
       "    <tr>\n",
       "      <th>4</th>\n",
       "      <td>2018-08-13</td>\n",
       "      <td>09:04:00</td>\n",
       "      <td>943.2</td>\n",
       "      <td>943.2</td>\n",
       "      <td>943.0</td>\n",
       "      <td>943.1</td>\n",
       "      <td>361.0</td>\n",
       "    </tr>\n",
       "    <tr>\n",
       "      <th>...</th>\n",
       "      <td>...</td>\n",
       "      <td>...</td>\n",
       "      <td>...</td>\n",
       "      <td>...</td>\n",
       "      <td>...</td>\n",
       "      <td>...</td>\n",
       "      <td>...</td>\n",
       "    </tr>\n",
       "    <tr>\n",
       "      <th>322807</th>\n",
       "      <td>2024-06-06</td>\n",
       "      <td>14:27:00</td>\n",
       "      <td>1293.7</td>\n",
       "      <td>1294.8</td>\n",
       "      <td>1293.0</td>\n",
       "      <td>1294.4</td>\n",
       "      <td>3263.0</td>\n",
       "    </tr>\n",
       "    <tr>\n",
       "      <th>322808</th>\n",
       "      <td>2024-06-06</td>\n",
       "      <td>14:28:00</td>\n",
       "      <td>1294.9</td>\n",
       "      <td>1295.6</td>\n",
       "      <td>1294.8</td>\n",
       "      <td>1295.0</td>\n",
       "      <td>2860.0</td>\n",
       "    </tr>\n",
       "    <tr>\n",
       "      <th>322809</th>\n",
       "      <td>2024-06-06</td>\n",
       "      <td>14:29:00</td>\n",
       "      <td>1294.8</td>\n",
       "      <td>1295.6</td>\n",
       "      <td>1294.1</td>\n",
       "      <td>1295.6</td>\n",
       "      <td>2310.0</td>\n",
       "    </tr>\n",
       "    <tr>\n",
       "      <th>322810</th>\n",
       "      <td>2024-06-06</td>\n",
       "      <td>14:30:00</td>\n",
       "      <td>1294.9</td>\n",
       "      <td>1294.9</td>\n",
       "      <td>1294.9</td>\n",
       "      <td>1294.9</td>\n",
       "      <td>503.0</td>\n",
       "    </tr>\n",
       "    <tr>\n",
       "      <th>322811</th>\n",
       "      <td>2024-06-06</td>\n",
       "      <td>14:45:00</td>\n",
       "      <td>1298.7</td>\n",
       "      <td>1298.7</td>\n",
       "      <td>1298.7</td>\n",
       "      <td>1298.7</td>\n",
       "      <td>6494.0</td>\n",
       "    </tr>\n",
       "  </tbody>\n",
       "</table>\n",
       "<p>322812 rows × 7 columns</p>\n",
       "</div>"
      ],
      "text/plain": [
       "              Date      time    Open    High     Low   Close  Volume\n",
       "0       2018-08-13  09:00:00   943.5   943.5   942.9   942.9   975.0\n",
       "1       2018-08-13  09:01:00   943.0   943.1   942.9   943.1   220.0\n",
       "2       2018-08-13  09:02:00   943.0   943.6   943.0   943.5   121.0\n",
       "3       2018-08-13  09:03:00   943.3   943.4   943.3   943.4   135.0\n",
       "4       2018-08-13  09:04:00   943.2   943.2   943.0   943.1   361.0\n",
       "...            ...       ...     ...     ...     ...     ...     ...\n",
       "322807  2024-06-06  14:27:00  1293.7  1294.8  1293.0  1294.4  3263.0\n",
       "322808  2024-06-06  14:28:00  1294.9  1295.6  1294.8  1295.0  2860.0\n",
       "322809  2024-06-06  14:29:00  1294.8  1295.6  1294.1  1295.6  2310.0\n",
       "322810  2024-06-06  14:30:00  1294.9  1294.9  1294.9  1294.9   503.0\n",
       "322811  2024-06-06  14:45:00  1298.7  1298.7  1298.7  1298.7  6494.0\n",
       "\n",
       "[322812 rows x 7 columns]"
      ]
     },
     "execution_count": 19,
     "metadata": {},
     "output_type": "execute_result"
    }
   ],
   "source": [
    "data"
   ]
  },
  {
   "cell_type": "markdown",
   "metadata": {},
   "source": [
    "## Create features"
   ]
  },
  {
   "cell_type": "code",
   "execution_count": 20,
   "metadata": {},
   "outputs": [],
   "source": [
    "def generate_features(df, shift=1):\n",
    "    \"\"\"\n",
    "    Hàm này tạo ra các features mới từ dữ liệu cổ phiếu.\n",
    "\n",
    "    Args:\n",
    "    df (pandas.DataFrame): DataFrame chứa dữ liệu cần tạo features, có các cột 'open', 'high', 'low', 'close' và 'volume'.\n",
    "\n",
    "    Returns:\n",
    "    pandas.DataFrame: DataFrame đã được mở rộng với các features mới.\n",
    "    \"\"\"\n",
    "\n",
    "    # Thêm tất cả các đặc trưng kỹ thuật từ thư viện TA-Lib\n",
    "    df_shift = df.shift(shift)\n",
    "    df_shift = add_all_ta_features(df_shift, open=\"Open\", high=\"High\", low=\"Low\", close=\"Close\", volume=\"Volume\")\n",
    "\n",
    "    # Drop the original OHLCV columns from the shifted DataFrame\n",
    "    df_shift = df_shift.drop(columns=['Date','time', 'Open','High','Low','Close','Volume'])\n",
    "\n",
    "    df = pd.concat([df, df_shift], axis=1)\n",
    "\n",
    "    ### Ví dụ các features thêm tay\n",
    "    # Tính phần trăm thay đổi của giá đóng cửa trong 5 phút\n",
    "    df['Trend_5min'] = df['Close'].shift(shift).pct_change(periods=5)\n",
    "\n",
    "    # Tính độ lệch chuẩn của giá đóng cửa trong 30 phút\n",
    "    df['Std_Rolling_30min'] = df['Close'].shift(shift).rolling(window=30, min_periods=1).std()\n",
    "\n",
    "    # Tính độ lệch của giá đóng cửa so với trung bình động 30 phút\n",
    "    ma_30min = df['Close'].shift(shift).rolling(window=30, min_periods=1).mean()\n",
    "    df['Close_Minus_MA_30min'] = df['Close'].shift(shift) - ma_30min\n",
    "\n",
    "    # Tính trung bình động 10 phút của giá đóng cửa\n",
    "    df['SMA_10'] = df['Close'].shift(shift).rolling(window=10, min_periods=1).mean()\n",
    "\n",
    "    # Identify numeric columns\n",
    "    numeric_cols = df.select_dtypes(include=[np.number]).columns\n",
    "\n",
    "    # Replace infinite values with NaN in numeric columns\n",
    "    df[numeric_cols] = df[numeric_cols].replace([np.inf, -np.inf], np.nan)\n",
    "\n",
    "    # Điền các giá trị NaN với 0\n",
    "    df = df.fillna(0)\n",
    "\n",
    "    return df"
   ]
  },
  {
   "cell_type": "code",
   "execution_count": 21,
   "metadata": {},
   "outputs": [
    {
     "name": "stderr",
     "output_type": "stream",
     "text": [
      "c:\\Users\\Minh Truc\\AppData\\Local\\Programs\\Python\\Python310\\lib\\site-packages\\numpy\\core\\fromnumeric.py:57: RuntimeWarning: invalid value encountered in accumulate\n",
      "  return bound(*args, **kwds)\n"
     ]
    }
   ],
   "source": [
    "data  = generate_features(data)"
   ]
  },
  {
   "cell_type": "markdown",
   "metadata": {},
   "source": [
    "Thêm các feature khác, ví dụ giá vàng (xem xét phù hợp với thời gian trong data)"
   ]
  },
  {
   "cell_type": "markdown",
   "metadata": {},
   "source": [
    "# Add Predict Features"
   ]
  },
  {
   "cell_type": "code",
   "execution_count": 22,
   "metadata": {},
   "outputs": [
    {
     "data": {
      "text/html": [
       "<div>\n",
       "<style scoped>\n",
       "    .dataframe tbody tr th:only-of-type {\n",
       "        vertical-align: middle;\n",
       "    }\n",
       "\n",
       "    .dataframe tbody tr th {\n",
       "        vertical-align: top;\n",
       "    }\n",
       "\n",
       "    .dataframe thead th {\n",
       "        text-align: right;\n",
       "    }\n",
       "</style>\n",
       "<table border=\"1\" class=\"dataframe\">\n",
       "  <thead>\n",
       "    <tr style=\"text-align: right;\">\n",
       "      <th></th>\n",
       "      <th>Date</th>\n",
       "      <th>time</th>\n",
       "      <th>Open</th>\n",
       "      <th>High</th>\n",
       "      <th>Low</th>\n",
       "      <th>Close</th>\n",
       "      <th>Volume</th>\n",
       "      <th>volume_adi</th>\n",
       "      <th>volume_obv</th>\n",
       "      <th>volume_cmf</th>\n",
       "      <th>...</th>\n",
       "      <th>momentum_pvo_hist</th>\n",
       "      <th>momentum_kama</th>\n",
       "      <th>others_dr</th>\n",
       "      <th>others_dlr</th>\n",
       "      <th>others_cr</th>\n",
       "      <th>Trend_5min</th>\n",
       "      <th>Std_Rolling_30min</th>\n",
       "      <th>Close_Minus_MA_30min</th>\n",
       "      <th>SMA_10</th>\n",
       "      <th>Return</th>\n",
       "    </tr>\n",
       "  </thead>\n",
       "  <tbody>\n",
       "    <tr>\n",
       "      <th>1</th>\n",
       "      <td>2018-08-13</td>\n",
       "      <td>09:01:00</td>\n",
       "      <td>943.0</td>\n",
       "      <td>943.1</td>\n",
       "      <td>942.9</td>\n",
       "      <td>943.1</td>\n",
       "      <td>220.0</td>\n",
       "      <td>-975.000000</td>\n",
       "      <td>975.0</td>\n",
       "      <td>0.000000</td>\n",
       "      <td>...</td>\n",
       "      <td>0.000000</td>\n",
       "      <td>0.000000</td>\n",
       "      <td>0.000000</td>\n",
       "      <td>0.000000</td>\n",
       "      <td>0.0</td>\n",
       "      <td>0.000000</td>\n",
       "      <td>0.000000</td>\n",
       "      <td>0.000000</td>\n",
       "      <td>942.900000</td>\n",
       "      <td>0.000424</td>\n",
       "    </tr>\n",
       "    <tr>\n",
       "      <th>2</th>\n",
       "      <td>2018-08-13</td>\n",
       "      <td>09:02:00</td>\n",
       "      <td>943.0</td>\n",
       "      <td>943.6</td>\n",
       "      <td>943.0</td>\n",
       "      <td>943.5</td>\n",
       "      <td>121.0</td>\n",
       "      <td>-755.000000</td>\n",
       "      <td>1195.0</td>\n",
       "      <td>0.000000</td>\n",
       "      <td>...</td>\n",
       "      <td>0.000000</td>\n",
       "      <td>0.000000</td>\n",
       "      <td>0.021211</td>\n",
       "      <td>0.021209</td>\n",
       "      <td>0.0</td>\n",
       "      <td>0.000000</td>\n",
       "      <td>0.141421</td>\n",
       "      <td>0.100000</td>\n",
       "      <td>943.000000</td>\n",
       "      <td>-0.000106</td>\n",
       "    </tr>\n",
       "    <tr>\n",
       "      <th>3</th>\n",
       "      <td>2018-08-13</td>\n",
       "      <td>09:03:00</td>\n",
       "      <td>943.3</td>\n",
       "      <td>943.4</td>\n",
       "      <td>943.3</td>\n",
       "      <td>943.4</td>\n",
       "      <td>135.0</td>\n",
       "      <td>-674.333333</td>\n",
       "      <td>1316.0</td>\n",
       "      <td>0.000000</td>\n",
       "      <td>...</td>\n",
       "      <td>0.000000</td>\n",
       "      <td>0.000000</td>\n",
       "      <td>0.042413</td>\n",
       "      <td>0.042404</td>\n",
       "      <td>0.0</td>\n",
       "      <td>0.000000</td>\n",
       "      <td>0.305505</td>\n",
       "      <td>0.333333</td>\n",
       "      <td>943.166667</td>\n",
       "      <td>-0.000318</td>\n",
       "    </tr>\n",
       "    <tr>\n",
       "      <th>4</th>\n",
       "      <td>2018-08-13</td>\n",
       "      <td>09:04:00</td>\n",
       "      <td>943.2</td>\n",
       "      <td>943.2</td>\n",
       "      <td>943.0</td>\n",
       "      <td>943.1</td>\n",
       "      <td>361.0</td>\n",
       "      <td>-539.333333</td>\n",
       "      <td>1181.0</td>\n",
       "      <td>0.000000</td>\n",
       "      <td>...</td>\n",
       "      <td>0.000000</td>\n",
       "      <td>0.000000</td>\n",
       "      <td>-0.010599</td>\n",
       "      <td>-0.010599</td>\n",
       "      <td>0.0</td>\n",
       "      <td>0.000000</td>\n",
       "      <td>0.275379</td>\n",
       "      <td>0.175000</td>\n",
       "      <td>943.225000</td>\n",
       "      <td>-0.000106</td>\n",
       "    </tr>\n",
       "    <tr>\n",
       "      <th>5</th>\n",
       "      <td>2018-08-13</td>\n",
       "      <td>09:05:00</td>\n",
       "      <td>943.1</td>\n",
       "      <td>943.1</td>\n",
       "      <td>942.9</td>\n",
       "      <td>943.0</td>\n",
       "      <td>343.0</td>\n",
       "      <td>-539.333333</td>\n",
       "      <td>820.0</td>\n",
       "      <td>0.000000</td>\n",
       "      <td>...</td>\n",
       "      <td>0.000000</td>\n",
       "      <td>0.000000</td>\n",
       "      <td>-0.031800</td>\n",
       "      <td>-0.031805</td>\n",
       "      <td>0.0</td>\n",
       "      <td>0.000000</td>\n",
       "      <td>0.244949</td>\n",
       "      <td>-0.100000</td>\n",
       "      <td>943.200000</td>\n",
       "      <td>0.000106</td>\n",
       "    </tr>\n",
       "    <tr>\n",
       "      <th>...</th>\n",
       "      <td>...</td>\n",
       "      <td>...</td>\n",
       "      <td>...</td>\n",
       "      <td>...</td>\n",
       "      <td>...</td>\n",
       "      <td>...</td>\n",
       "      <td>...</td>\n",
       "      <td>...</td>\n",
       "      <td>...</td>\n",
       "      <td>...</td>\n",
       "      <td>...</td>\n",
       "      <td>...</td>\n",
       "      <td>...</td>\n",
       "      <td>...</td>\n",
       "      <td>...</td>\n",
       "      <td>...</td>\n",
       "      <td>...</td>\n",
       "      <td>...</td>\n",
       "      <td>...</td>\n",
       "      <td>...</td>\n",
       "      <td>...</td>\n",
       "    </tr>\n",
       "    <tr>\n",
       "      <th>322807</th>\n",
       "      <td>2024-06-06</td>\n",
       "      <td>14:27:00</td>\n",
       "      <td>1293.7</td>\n",
       "      <td>1294.8</td>\n",
       "      <td>1293.0</td>\n",
       "      <td>1294.4</td>\n",
       "      <td>3263.0</td>\n",
       "      <td>0.000000</td>\n",
       "      <td>38070877.2</td>\n",
       "      <td>-0.324495</td>\n",
       "      <td>...</td>\n",
       "      <td>4.103433</td>\n",
       "      <td>1295.302998</td>\n",
       "      <td>0.077369</td>\n",
       "      <td>0.077340</td>\n",
       "      <td>0.0</td>\n",
       "      <td>-0.001467</td>\n",
       "      <td>2.493645</td>\n",
       "      <td>-4.763333</td>\n",
       "      <td>1296.620000</td>\n",
       "      <td>0.000464</td>\n",
       "    </tr>\n",
       "    <tr>\n",
       "      <th>322808</th>\n",
       "      <td>2024-06-06</td>\n",
       "      <td>14:28:00</td>\n",
       "      <td>1294.9</td>\n",
       "      <td>1295.6</td>\n",
       "      <td>1294.8</td>\n",
       "      <td>1295.0</td>\n",
       "      <td>2860.0</td>\n",
       "      <td>0.000000</td>\n",
       "      <td>38074140.2</td>\n",
       "      <td>-0.259406</td>\n",
       "      <td>...</td>\n",
       "      <td>3.577669</td>\n",
       "      <td>1295.129961</td>\n",
       "      <td>0.069579</td>\n",
       "      <td>0.069554</td>\n",
       "      <td>0.0</td>\n",
       "      <td>-0.001080</td>\n",
       "      <td>2.591456</td>\n",
       "      <td>-3.743333</td>\n",
       "      <td>1295.870000</td>\n",
       "      <td>0.000463</td>\n",
       "    </tr>\n",
       "    <tr>\n",
       "      <th>322809</th>\n",
       "      <td>2024-06-06</td>\n",
       "      <td>14:29:00</td>\n",
       "      <td>1294.8</td>\n",
       "      <td>1295.6</td>\n",
       "      <td>1294.1</td>\n",
       "      <td>1295.6</td>\n",
       "      <td>2310.0</td>\n",
       "      <td>0.000000</td>\n",
       "      <td>38077000.2</td>\n",
       "      <td>-0.297875</td>\n",
       "      <td>...</td>\n",
       "      <td>1.982627</td>\n",
       "      <td>1295.112102</td>\n",
       "      <td>0.046354</td>\n",
       "      <td>0.046343</td>\n",
       "      <td>0.0</td>\n",
       "      <td>0.000077</td>\n",
       "      <td>2.654175</td>\n",
       "      <td>-3.046667</td>\n",
       "      <td>1295.270000</td>\n",
       "      <td>-0.000540</td>\n",
       "    </tr>\n",
       "    <tr>\n",
       "      <th>322810</th>\n",
       "      <td>2024-06-06</td>\n",
       "      <td>14:30:00</td>\n",
       "      <td>1294.9</td>\n",
       "      <td>1294.9</td>\n",
       "      <td>1294.9</td>\n",
       "      <td>1294.9</td>\n",
       "      <td>503.0</td>\n",
       "      <td>0.000000</td>\n",
       "      <td>38079310.2</td>\n",
       "      <td>-0.205406</td>\n",
       "      <td>...</td>\n",
       "      <td>-0.509211</td>\n",
       "      <td>1295.155118</td>\n",
       "      <td>0.046332</td>\n",
       "      <td>0.046321</td>\n",
       "      <td>0.0</td>\n",
       "      <td>0.001391</td>\n",
       "      <td>2.681473</td>\n",
       "      <td>-2.326667</td>\n",
       "      <td>1294.830000</td>\n",
       "      <td>0.002935</td>\n",
       "    </tr>\n",
       "    <tr>\n",
       "      <th>322811</th>\n",
       "      <td>2024-06-06</td>\n",
       "      <td>14:45:00</td>\n",
       "      <td>1298.7</td>\n",
       "      <td>1298.7</td>\n",
       "      <td>1298.7</td>\n",
       "      <td>1298.7</td>\n",
       "      <td>6494.0</td>\n",
       "      <td>0.000000</td>\n",
       "      <td>38078807.2</td>\n",
       "      <td>-0.173755</td>\n",
       "      <td>...</td>\n",
       "      <td>-6.767410</td>\n",
       "      <td>1295.142434</td>\n",
       "      <td>-0.054029</td>\n",
       "      <td>-0.054044</td>\n",
       "      <td>0.0</td>\n",
       "      <td>0.001857</td>\n",
       "      <td>2.737876</td>\n",
       "      <td>-2.930000</td>\n",
       "      <td>1294.580000</td>\n",
       "      <td>0.000000</td>\n",
       "    </tr>\n",
       "  </tbody>\n",
       "</table>\n",
       "<p>322811 rows × 98 columns</p>\n",
       "</div>"
      ],
      "text/plain": [
       "              Date      time    Open    High     Low   Close  Volume  \\\n",
       "1       2018-08-13  09:01:00   943.0   943.1   942.9   943.1   220.0   \n",
       "2       2018-08-13  09:02:00   943.0   943.6   943.0   943.5   121.0   \n",
       "3       2018-08-13  09:03:00   943.3   943.4   943.3   943.4   135.0   \n",
       "4       2018-08-13  09:04:00   943.2   943.2   943.0   943.1   361.0   \n",
       "5       2018-08-13  09:05:00   943.1   943.1   942.9   943.0   343.0   \n",
       "...            ...       ...     ...     ...     ...     ...     ...   \n",
       "322807  2024-06-06  14:27:00  1293.7  1294.8  1293.0  1294.4  3263.0   \n",
       "322808  2024-06-06  14:28:00  1294.9  1295.6  1294.8  1295.0  2860.0   \n",
       "322809  2024-06-06  14:29:00  1294.8  1295.6  1294.1  1295.6  2310.0   \n",
       "322810  2024-06-06  14:30:00  1294.9  1294.9  1294.9  1294.9   503.0   \n",
       "322811  2024-06-06  14:45:00  1298.7  1298.7  1298.7  1298.7  6494.0   \n",
       "\n",
       "        volume_adi  volume_obv  volume_cmf  ...  momentum_pvo_hist  \\\n",
       "1      -975.000000       975.0    0.000000  ...           0.000000   \n",
       "2      -755.000000      1195.0    0.000000  ...           0.000000   \n",
       "3      -674.333333      1316.0    0.000000  ...           0.000000   \n",
       "4      -539.333333      1181.0    0.000000  ...           0.000000   \n",
       "5      -539.333333       820.0    0.000000  ...           0.000000   \n",
       "...            ...         ...         ...  ...                ...   \n",
       "322807    0.000000  38070877.2   -0.324495  ...           4.103433   \n",
       "322808    0.000000  38074140.2   -0.259406  ...           3.577669   \n",
       "322809    0.000000  38077000.2   -0.297875  ...           1.982627   \n",
       "322810    0.000000  38079310.2   -0.205406  ...          -0.509211   \n",
       "322811    0.000000  38078807.2   -0.173755  ...          -6.767410   \n",
       "\n",
       "        momentum_kama  others_dr  others_dlr  others_cr  Trend_5min  \\\n",
       "1            0.000000   0.000000    0.000000        0.0    0.000000   \n",
       "2            0.000000   0.021211    0.021209        0.0    0.000000   \n",
       "3            0.000000   0.042413    0.042404        0.0    0.000000   \n",
       "4            0.000000  -0.010599   -0.010599        0.0    0.000000   \n",
       "5            0.000000  -0.031800   -0.031805        0.0    0.000000   \n",
       "...               ...        ...         ...        ...         ...   \n",
       "322807    1295.302998   0.077369    0.077340        0.0   -0.001467   \n",
       "322808    1295.129961   0.069579    0.069554        0.0   -0.001080   \n",
       "322809    1295.112102   0.046354    0.046343        0.0    0.000077   \n",
       "322810    1295.155118   0.046332    0.046321        0.0    0.001391   \n",
       "322811    1295.142434  -0.054029   -0.054044        0.0    0.001857   \n",
       "\n",
       "        Std_Rolling_30min  Close_Minus_MA_30min       SMA_10    Return  \n",
       "1                0.000000              0.000000   942.900000  0.000424  \n",
       "2                0.141421              0.100000   943.000000 -0.000106  \n",
       "3                0.305505              0.333333   943.166667 -0.000318  \n",
       "4                0.275379              0.175000   943.225000 -0.000106  \n",
       "5                0.244949             -0.100000   943.200000  0.000106  \n",
       "...                   ...                   ...          ...       ...  \n",
       "322807           2.493645             -4.763333  1296.620000  0.000464  \n",
       "322808           2.591456             -3.743333  1295.870000  0.000463  \n",
       "322809           2.654175             -3.046667  1295.270000 -0.000540  \n",
       "322810           2.681473             -2.326667  1294.830000  0.002935  \n",
       "322811           2.737876             -2.930000  1294.580000  0.000000  \n",
       "\n",
       "[322811 rows x 98 columns]"
      ]
     },
     "execution_count": 22,
     "metadata": {},
     "output_type": "execute_result"
    }
   ],
   "source": [
    "data['Return'] = (data['Close'].shift(-rolling_window) - data['Close'])/data['Close']\n",
    "data = data.fillna(0)\n",
    "data = data.drop(index=0)\n",
    "data"
   ]
  },
  {
   "cell_type": "markdown",
   "metadata": {},
   "source": [
    "# Feature Engineering"
   ]
  },
  {
   "cell_type": "code",
   "execution_count": 23,
   "metadata": {},
   "outputs": [],
   "source": [
    "def drop_high_corr_columns(df, threshold=0.6):\n",
    "    ohlcv_columns = {'Date','time', 'Open','High','Low','Close','Volume'}\n",
    "\n",
    "     # Identify non-OHLCV and non-date/time columns\n",
    "    non_corr_columns = [col for col in df.columns if col not in ohlcv_columns]\n",
    "\n",
    "    # Compute the correlation matrix only for non-OHLCV and non-date/time columns\n",
    "    corr_matrix = df[non_corr_columns].corr().abs()\n",
    "\n",
    "    # Create a set to keep track of columns to drop\n",
    "    to_drop = set()\n",
    "\n",
    "    # Iterate over the upper triangle of the correlation matrix\n",
    "    for i in range(len(corr_matrix.columns)):\n",
    "        for j in range(i + 1, len(corr_matrix.columns)):\n",
    "            if corr_matrix.iloc[i, j] > threshold:\n",
    "                # If the correlation is higher than the threshold, mark the column with the higher index to drop\n",
    "                col_to_drop = corr_matrix.columns[j]\n",
    "                if col_to_drop not in ohlcv_columns:\n",
    "                    to_drop.add(col_to_drop)\n",
    "\n",
    "    # Drop the columns from the DataFrame\n",
    "    df_dropped = df.drop(columns=to_drop)\n",
    "    return df_dropped\n",
    "\n",
    "data = drop_high_corr_columns(data)"
   ]
  },
  {
   "cell_type": "code",
   "execution_count": 24,
   "metadata": {},
   "outputs": [],
   "source": [
    "def objective(trial, X_train, X_valid, y_train, y_valid, y_price):\n",
    "\n",
    "    # Select features based on Optuna's suggestions\n",
    "    selected_features = []\n",
    "    for col in X_train.columns:\n",
    "        if trial.suggest_categorical(col, [0, 1]):\n",
    "            selected_features.append(col)\n",
    "\n",
    "    for t in trial.study.trials:\n",
    "        if t.state != optuna.trial.TrialState.COMPLETE:\n",
    "            continue\n",
    "\n",
    "    # trade_threshold = trial.suggest_float('trade_threshold', 0.008, 0.08, step=0.0004)\n",
    "    trade_threshold  = 0.0005\n",
    "\n",
    "    # Use only the selected features in training\n",
    "    X_train_selected = X_train[selected_features]\n",
    "    X_valid_selected = X_valid[selected_features]\n",
    "\n",
    "    # Train the model\n",
    "    model = xgb.XGBRegressor()\n",
    "    model.fit(X_train_selected, y_train)\n",
    "\n",
    "    y_pred_train = model.predict(X_train_selected)\n",
    "    y_pred_valid = model.predict(X_valid_selected)\n",
    "\n",
    "    _, pos_is, _, sharpe_is = sharpe_for_vn30f(y_pred_train, y_price[:len(y_pred_train)], trade_threshold=trade_threshold, fee_perc=0.01, periods=10)\n",
    "    _, pos_os, _, sharpe_oos = sharpe_for_vn30f(y_pred_valid, y_price[len(y_pred_train):], trade_threshold=trade_threshold, fee_perc=0.01, periods=10)\n",
    "\n",
    "    print('Trade times in sample:',len(pos_is[pos_is != 0]), 'Trade times out sample:',len(pos_os[pos_os != 0]))\n",
    "\n",
    "    return sharpe_oos, abs((abs(sharpe_is / sharpe_oos))-1)\n",
    "\n",
    "X_train, X_valid, y_train, y_valid, train_data = split_optuna_data(data)"
   ]
  },
  {
   "cell_type": "code",
   "execution_count": null,
   "metadata": {},
   "outputs": [],
   "source": [
    "\"\"\"## Define number of trials (no 2)\"\"\"\n",
    "\n",
    "# Create a study object and optimize the objective function\n",
    "study = optuna.create_study(directions=['maximize', 'minimize'])\n",
    "unique_trials = 50\n",
    "\n",
    "while unique_trials > len(set(str(t.params) for t in study.trials)):\n",
    "    study.optimize(lambda trial: objective(trial, X_train, X_valid, y_train, y_valid, train_data['Close']), n_trials=1)\n",
    "    study.trials_dataframe().sort_values('values_0').to_csv('feature_trials.csv')\n",
    "    joblib.dump(study, 'abmodel.pkl')\n",
    "    \n",
    "trials = study.trials\n",
    "trials.sort(key=lambda trial: trial.values, reverse=True)\n",
    "study.trials_dataframe().sort_values('values_0', ascending=False).duplicated().sum()\n",
    "\n",
    "\"\"\"## Checking part for fixing bug\"\"\"\n",
    "df =study.trials_dataframe()\n",
    "\n",
    "# df.to_csv('save_trials.csv')"
   ]
  },
  {
   "cell_type": "markdown",
   "metadata": {},
   "source": [
    "Retrieve Top PNL"
   ]
  },
  {
   "cell_type": "code",
   "execution_count": 28,
   "metadata": {},
   "outputs": [],
   "source": [
    "trials = study.trials\n",
    "\n",
    "# Sort trials based on objective values\n",
    "trials.sort(key=lambda trial: trial.values, reverse=True)\n",
    "\n",
    "# Define top pnl to take for clustering\n",
    "top_trials = trials[:100]\n",
    "\n",
    "new_df_no_close_col = data.drop(['Date','time', 'Open','High','Low','Close','Volume', 'Return' ], axis=1)\n",
    "\n",
    "# Extract hyperparameters from top trials\n",
    "top_features_list = []\n",
    "\n",
    "for trial in top_trials:\n",
    "  best_selected_features = [col for col in new_df_no_close_col.columns if trial.params[col] == 1]\n",
    "  top_features_list.append(best_selected_features)"
   ]
  },
  {
   "cell_type": "code",
   "execution_count": 31,
   "metadata": {},
   "outputs": [],
   "source": [
    "top_pnl = []\n",
    "trade_threshold  = 0.0005\n",
    "\n",
    "for best_selected_features in top_features_list:\n",
    "\n",
    "    new_df_selected = data[['Close', 'Return']+best_selected_features]\n",
    "    train_select_col_data, _ = split_data(new_df_selected)\n",
    "\n",
    "    retrain_data = train_select_col_data.drop(['Close', 'Return'], axis=1)\n",
    "    retrain_data = scale_data(retrain_data)\n",
    "\n",
    "    X_train, X_valid, y_train, y_valid = train_test_split(retrain_data,\n",
    "                                                      train_select_col_data['Return'],\n",
    "                                                      test_size=0.5,shuffle=False)\n",
    "\n",
    "    # Create and train model\n",
    "    model = xgb.XGBRegressor()\n",
    "    model.fit(X_train, y_train)\n",
    "\n",
    "    # Make predictions\n",
    "    y_pred_valid = model.predict(X_valid)\n",
    "    _, pnl_valid, _, _ = sharpe_for_vn30f(y_pred_valid, y_valid, trade_threshold=trade_threshold, fee_perc=0.01, periods=10)\n",
    "    pnl_valid_no_nan = np.nan_to_num(pnl_valid, nan=0)\n",
    "    top_pnl.append(pnl_valid_no_nan)"
   ]
  },
  {
   "cell_type": "markdown",
   "metadata": {},
   "source": [
    "# ONC"
   ]
  },
  {
   "cell_type": "code",
   "execution_count": 35,
   "metadata": {},
   "outputs": [],
   "source": [
    "from sklearn.cluster import KMeans\n",
    "from sklearn.metrics import silhouette_samples, silhouette_score"
   ]
  },
  {
   "cell_type": "code",
   "execution_count": 36,
   "metadata": {},
   "outputs": [],
   "source": [
    "def cov2corr(cov):\n",
    "    # Derive the correlation matrix from a covariance matrix\n",
    "    std = np.sqrt(np.diag(cov))\n",
    "    corr = cov/np.outer(std,std)\n",
    "    corr[corr<-1], corr[corr>1] = -1,1 #for numerical errors\n",
    "    return corr\n",
    "\n",
    "def clusterKMeansBase(corr0, maxNumClusters=10, n_init=10, debug=False):\n",
    "    corr0[corr0 > 1] = 1\n",
    "    dist_matrix = ((1-corr0)/2.)**.5\n",
    "    silh_coef_optimal = pd.Series(dtype='float64') #observations matrixs\n",
    "    kmeans, stat = None, None\n",
    "    maxNumClusters = min(maxNumClusters, int(np.floor(dist_matrix.shape[0]/2)))\n",
    "    print(\"maxNumClusters\"+str(maxNumClusters))\n",
    "    for init in range(0, n_init):\n",
    "    #The [outer] loop repeats the first loop multiple times, thereby obtaining different initializations. Ref: de Prado and Lewis (2018)\n",
    "    #DETECTION OF FALSE INVESTMENT STRATEGIES USING UNSUPERVISED LEARNING METHODS\n",
    "        for num_clusters in range(2, maxNumClusters+1):\n",
    "            #(maxNumClusters + 2 - num_clusters) # go in reverse order to view more sub-optimal solutions\n",
    "            kmeans_ = KMeans(n_clusters=num_clusters, n_init=10) #, random_state=3425) #n_jobs=None #n_jobs=None - use all CPUs\n",
    "            kmeans_ = kmeans_.fit(dist_matrix)\n",
    "            silh_coef = silhouette_samples(dist_matrix, kmeans_.labels_)\n",
    "            stat = (silh_coef.mean()/silh_coef.std(), silh_coef_optimal.mean()/silh_coef_optimal.std())\n",
    "\n",
    "            # If this metric better than the previous set as the optimal number of clusters\n",
    "            if np.isnan(stat[1]) or stat[0] > stat[1]:\n",
    "                silh_coef_optimal = silh_coef\n",
    "                kmeans = kmeans_\n",
    "                if debug==True:\n",
    "                    print(kmeans)\n",
    "                    print(stat)\n",
    "                    silhouette_avg = silhouette_score(dist_matrix, kmeans_.labels_)\n",
    "                    print(\"For n_clusters =\"+ str(num_clusters)+ \"The average silhouette_score is :\"+ str(silhouette_avg))\n",
    "                    print(\"********\")\n",
    "\n",
    "    newIdx = np.argsort(kmeans.labels_)\n",
    "    #print(newIdx)\n",
    "\n",
    "    corr1 = corr0.iloc[newIdx] #reorder rows\n",
    "    corr1 = corr1.iloc[:, newIdx] #reorder columns\n",
    "\n",
    "    clstrs = {i:corr0.columns[np.where(kmeans.labels_==i)[0]].tolist() for i in np.unique(kmeans.labels_)} #cluster members\n",
    "    silh_coef_optimal = pd.Series(silh_coef_optimal, index=dist_matrix.index)\n",
    "\n",
    "    return corr1, clstrs, silh_coef_optimal\n",
    "\n",
    "def makeNewOutputs(corr0, clstrs, clstrs2):\n",
    "    clstrsNew, newIdx = {}, []\n",
    "    for i in clstrs.keys():\n",
    "        clstrsNew[len(clstrsNew.keys())] = list(clstrs[i])\n",
    "\n",
    "    for i in clstrs2.keys():\n",
    "        clstrsNew[len(clstrsNew.keys())] = list(clstrs2[i])\n",
    "\n",
    "    newIdx = [j for i in clstrsNew for j in clstrsNew[i]]\n",
    "    corrNew = corr0.loc[newIdx, newIdx]\n",
    "\n",
    "    dist = ((1 - corr0) / 2.)**.5\n",
    "    kmeans_labels = np.zeros(len(dist.columns))\n",
    "    for i in clstrsNew.keys():\n",
    "        idxs = [dist.index.get_loc(k) for k in clstrsNew[i]]\n",
    "        kmeans_labels[idxs] = i\n",
    "\n",
    "    silhNew = pd.Series(silhouette_samples(dist, kmeans_labels), index=dist.index)\n",
    "\n",
    "    return corrNew, clstrsNew, silhNew\n",
    "\n",
    "def clusterKMeansTop(corr0: pd.DataFrame, maxNumClusters=None, n_init=10):\n",
    "    if maxNumClusters == None:\n",
    "        maxNumClusters = corr0.shape[1]-1\n",
    "\n",
    "    corr1, clstrs, silh = clusterKMeansBase(corr0, maxNumClusters=min(maxNumClusters, corr0.shape[1]-1), n_init=10)#n_init)\n",
    "    print(\"clstrs length:\"+str(len(clstrs.keys())))\n",
    "    print(\"best clustr:\"+str(len(clstrs.keys())))\n",
    "    #for i in clstrs.keys():\n",
    "    #    print(\"std:\"+str(np.std(silh[clstrs[i]])))\n",
    "\n",
    "    clusterTstats = {i:np.mean(silh[clstrs[i]])/np.std(silh[clstrs[i]]) for i in clstrs.keys()}\n",
    "    tStatMean = np.sum(list(clusterTstats.values()))/len(clusterTstats)\n",
    "    redoClusters = [i for i in clusterTstats.keys() if clusterTstats[i] < tStatMean]\n",
    "    #print(\"redo cluster:\"+str(redoClusters))\n",
    "    if len(redoClusters) <= 2:\n",
    "        print(\"If 2 or less clusters have a quality rating less than the average then stop.\")\n",
    "        print(\"redoCluster <=1:\"+str(redoClusters)+\" clstrs len:\"+str(len(clstrs.keys())))\n",
    "        return corr1, clstrs, silh\n",
    "    else:\n",
    "        keysRedo = [j for i in redoClusters for j in clstrs[i]]\n",
    "        corrTmp = corr0.loc[keysRedo, keysRedo]\n",
    "        _, clstrs2, _ = clusterKMeansTop(corrTmp, maxNumClusters=min(maxNumClusters, corrTmp.shape[1]-1), n_init=n_init)\n",
    "        print(\"clstrs2.len, stat:\"+str(len(clstrs2.keys())))\n",
    "        #Make new outputs, if necessary\n",
    "        dict_redo_clstrs = {i:clstrs[i] for i in clstrs.keys() if i not in redoClusters}\n",
    "        corrNew, clstrsNew, silhNew = makeNewOutputs(corr0, dict_redo_clstrs, clstrs2)\n",
    "        newTstatMean = np.mean([np.mean(silhNew[clstrsNew[i]])/np.std(silhNew[clstrsNew[i]]) for i in clstrsNew.keys()])\n",
    "        if newTstatMean <= tStatMean:\n",
    "            print(\"newTstatMean <= tStatMean\"+str(newTstatMean)+ \" (len:newClst)\"+str(len(clstrsNew.keys()))+\" <= \"+str(tStatMean)+ \" (len:Clst)\"+str(len(clstrs.keys())))\n",
    "            return corr1, clstrs, silh\n",
    "        else:\n",
    "            print(\"newTstatMean > tStatMean\"+str(newTstatMean)+ \" (len:newClst)\"+str(len(clstrsNew.keys()))\n",
    "                  +\" > \"+str(tStatMean)+ \" (len:Clst)\"+str(len(clstrs.keys())))\n",
    "            return corrNew, clstrsNew, silhNew\n",
    "            #return corr1, clstrs, silh, stat"
   ]
  },
  {
   "cell_type": "code",
   "execution_count": 37,
   "metadata": {},
   "outputs": [
    {
     "name": "stdout",
     "output_type": "stream",
     "text": [
      "maxNumClusters25\n",
      "clstrs length:2\n",
      "best clustr:2\n",
      "If 2 or less clusters have a quality rating less than the average then stop.\n",
      "redoCluster <=1:[1] clstrs len:2\n",
      "Cluster 0:\n",
      "Cluster 1:\n"
     ]
    }
   ],
   "source": [
    "# FREQUENCY FEATURE TABLE\n",
    "correlation_matrix = np.corrcoef(top_pnl)\n",
    "corr = pd.DataFrame(correlation_matrix)"
   ]
  },
  {
   "cell_type": "code",
   "execution_count": 39,
   "metadata": {},
   "outputs": [
    {
     "data": {
      "image/png": "[encoded data removed]",
      "text/plain": [
       "<Figure size 480x480 with 2 Axes>"
      ]
     },
     "metadata": {},
     "output_type": "display_data"
    },
    {
     "name": "stdout",
     "output_type": "stream",
     "text": [
      "maxNumClusters25\n",
      "clstrs length:2\n",
      "best clustr:2\n",
      "If 2 or less clusters have a quality rating less than the average then stop.\n",
      "redoCluster <=1:[1] clstrs len:2\n"
     ]
    },
    {
     "data": {
      "image/png": "[encoded data removed]",
      "text/plain": [
       "<Figure size 480x480 with 2 Axes>"
      ]
     },
     "metadata": {},
     "output_type": "display_data"
    }
   ],
   "source": [
    "#Draw ground truth\n",
    "matplotlib.pyplot.matshow(corr) #invert y-axis to get origo at lower left corner\n",
    "matplotlib.pyplot.gca().xaxis.tick_bottom()\n",
    "matplotlib.pyplot.gca().invert_yaxis()\n",
    "matplotlib.pyplot.colorbar()\n",
    "matplotlib.pyplot.show()\n",
    "\n",
    "#draw prediction based on ONC\n",
    "corrNew, clstrsNew, silhNew = clusterKMeansTop(corr)\n",
    "matplotlib.pyplot.matshow(corrNew)\n",
    "matplotlib.pyplot.gca().xaxis.tick_bottom()\n",
    "matplotlib.pyplot.gca().invert_yaxis()\n",
    "matplotlib.pyplot.colorbar()\n",
    "matplotlib.pyplot.show()"
   ]
  },
  {
   "cell_type": "code",
   "execution_count": 42,
   "metadata": {},
   "outputs": [
    {
     "name": "stdout",
     "output_type": "stream",
     "text": [
      "Cluster 0:\n",
      "- Trial 8: {'volume_adi': 1, 'volume_obv': 1, 'volume_cmf': 1, 'volume_fi': 1, 'volume_em': 1, 'volume_sma_em': 0, 'volume_vpt': 0, 'volume_mfi': 0, 'volatility_bbw': 1, 'volatility_bbhi': 0, 'volatility_bbli': 0, 'volatility_kcw': 0, 'volatility_kcp': 0, 'volatility_kchi': 1, 'trend_macd': 1, 'trend_macd_diff': 1, 'trend_vortex_ind_neg': 1, 'trend_mass_index': 1, 'trend_dpo': 0, 'trend_adx': 1, 'trend_aroon_up': 0, 'trend_aroon_down': 1, 'trend_psar_up': 0, 'trend_psar_down': 0, 'trend_psar_up_indicator': 0, 'trend_psar_down_indicator': 0, 'momentum_pvo': 1, 'momentum_pvo_hist': 0, 'others_dr': 1, 'others_cr': 0}\n",
      "- Trial 11: {'volume_adi': 0, 'volume_obv': 0, 'volume_cmf': 1, 'volume_fi': 1, 'volume_em': 0, 'volume_sma_em': 0, 'volume_vpt': 1, 'volume_mfi': 0, 'volatility_bbw': 1, 'volatility_bbhi': 0, 'volatility_bbli': 1, 'volatility_kcw': 1, 'volatility_kcp': 0, 'volatility_kchi': 0, 'trend_macd': 1, 'trend_macd_diff': 0, 'trend_vortex_ind_neg': 0, 'trend_mass_index': 0, 'trend_dpo': 0, 'trend_adx': 1, 'trend_aroon_up': 1, 'trend_aroon_down': 1, 'trend_psar_up': 0, 'trend_psar_down': 0, 'trend_psar_up_indicator': 0, 'trend_psar_down_indicator': 1, 'momentum_pvo': 0, 'momentum_pvo_hist': 0, 'others_dr': 0, 'others_cr': 1}\n",
      "- Trial 25: {'volume_adi': 0, 'volume_obv': 1, 'volume_cmf': 1, 'volume_fi': 0, 'volume_em': 0, 'volume_sma_em': 1, 'volume_vpt': 0, 'volume_mfi': 1, 'volatility_bbw': 1, 'volatility_bbhi': 1, 'volatility_bbli': 0, 'volatility_kcw': 0, 'volatility_kcp': 1, 'volatility_kchi': 1, 'trend_macd': 1, 'trend_macd_diff': 1, 'trend_vortex_ind_neg': 0, 'trend_mass_index': 0, 'trend_dpo': 0, 'trend_adx': 0, 'trend_aroon_up': 0, 'trend_aroon_down': 0, 'trend_psar_up': 0, 'trend_psar_down': 1, 'trend_psar_up_indicator': 1, 'trend_psar_down_indicator': 0, 'momentum_pvo': 1, 'momentum_pvo_hist': 1, 'others_dr': 1, 'others_cr': 0}\n",
      "- Trial 24: {'volume_adi': 1, 'volume_obv': 1, 'volume_cmf': 0, 'volume_fi': 1, 'volume_em': 0, 'volume_sma_em': 1, 'volume_vpt': 0, 'volume_mfi': 1, 'volatility_bbw': 0, 'volatility_bbhi': 0, 'volatility_bbli': 1, 'volatility_kcw': 0, 'volatility_kcp': 1, 'volatility_kchi': 0, 'trend_macd': 1, 'trend_macd_diff': 0, 'trend_vortex_ind_neg': 0, 'trend_mass_index': 0, 'trend_dpo': 0, 'trend_adx': 0, 'trend_aroon_up': 0, 'trend_aroon_down': 1, 'trend_psar_up': 0, 'trend_psar_down': 0, 'trend_psar_up_indicator': 1, 'trend_psar_down_indicator': 0, 'momentum_pvo': 1, 'momentum_pvo_hist': 0, 'others_dr': 0, 'others_cr': 1}\n",
      "- Trial 35: {'volume_adi': 1, 'volume_obv': 1, 'volume_cmf': 1, 'volume_fi': 0, 'volume_em': 0, 'volume_sma_em': 1, 'volume_vpt': 1, 'volume_mfi': 1, 'volatility_bbw': 0, 'volatility_bbhi': 0, 'volatility_bbli': 0, 'volatility_kcw': 0, 'volatility_kcp': 0, 'volatility_kchi': 1, 'trend_macd': 1, 'trend_macd_diff': 1, 'trend_vortex_ind_neg': 0, 'trend_mass_index': 0, 'trend_dpo': 0, 'trend_adx': 1, 'trend_aroon_up': 0, 'trend_aroon_down': 0, 'trend_psar_up': 0, 'trend_psar_down': 0, 'trend_psar_up_indicator': 1, 'trend_psar_down_indicator': 1, 'momentum_pvo': 0, 'momentum_pvo_hist': 1, 'others_dr': 1, 'others_cr': 1}\n",
      "- Trial 1: {'volume_adi': 1, 'volume_obv': 1, 'volume_cmf': 0, 'volume_fi': 1, 'volume_em': 0, 'volume_sma_em': 1, 'volume_vpt': 1, 'volume_mfi': 0, 'volatility_bbw': 0, 'volatility_bbhi': 1, 'volatility_bbli': 1, 'volatility_kcw': 0, 'volatility_kcp': 0, 'volatility_kchi': 0, 'trend_macd': 1, 'trend_macd_diff': 0, 'trend_vortex_ind_neg': 0, 'trend_mass_index': 0, 'trend_dpo': 1, 'trend_adx': 1, 'trend_aroon_up': 1, 'trend_aroon_down': 1, 'trend_psar_up': 1, 'trend_psar_down': 1, 'trend_psar_up_indicator': 0, 'trend_psar_down_indicator': 1, 'momentum_pvo': 1, 'momentum_pvo_hist': 1, 'others_dr': 0, 'others_cr': 0}\n",
      "- Trial 14: {'volume_adi': 0, 'volume_obv': 1, 'volume_cmf': 0, 'volume_fi': 0, 'volume_em': 0, 'volume_sma_em': 1, 'volume_vpt': 0, 'volume_mfi': 0, 'volatility_bbw': 0, 'volatility_bbhi': 1, 'volatility_bbli': 0, 'volatility_kcw': 1, 'volatility_kcp': 0, 'volatility_kchi': 0, 'trend_macd': 0, 'trend_macd_diff': 1, 'trend_vortex_ind_neg': 0, 'trend_mass_index': 1, 'trend_dpo': 0, 'trend_adx': 1, 'trend_aroon_up': 1, 'trend_aroon_down': 1, 'trend_psar_up': 0, 'trend_psar_down': 1, 'trend_psar_up_indicator': 0, 'trend_psar_down_indicator': 1, 'momentum_pvo': 1, 'momentum_pvo_hist': 0, 'others_dr': 1, 'others_cr': 0}\n",
      "- Trial 49: {'volume_adi': 1, 'volume_obv': 1, 'volume_cmf': 0, 'volume_fi': 0, 'volume_em': 1, 'volume_sma_em': 0, 'volume_vpt': 0, 'volume_mfi': 0, 'volatility_bbw': 1, 'volatility_bbhi': 0, 'volatility_bbli': 0, 'volatility_kcw': 1, 'volatility_kcp': 0, 'volatility_kchi': 1, 'trend_macd': 1, 'trend_macd_diff': 0, 'trend_vortex_ind_neg': 0, 'trend_mass_index': 0, 'trend_dpo': 1, 'trend_adx': 0, 'trend_aroon_up': 1, 'trend_aroon_down': 1, 'trend_psar_up': 1, 'trend_psar_down': 1, 'trend_psar_up_indicator': 1, 'trend_psar_down_indicator': 1, 'momentum_pvo': 0, 'momentum_pvo_hist': 1, 'others_dr': 0, 'others_cr': 0}\n",
      "- Trial 34: {'volume_adi': 1, 'volume_obv': 1, 'volume_cmf': 1, 'volume_fi': 0, 'volume_em': 1, 'volume_sma_em': 1, 'volume_vpt': 1, 'volume_mfi': 1, 'volatility_bbw': 0, 'volatility_bbhi': 0, 'volatility_bbli': 0, 'volatility_kcw': 0, 'volatility_kcp': 1, 'volatility_kchi': 0, 'trend_macd': 1, 'trend_macd_diff': 1, 'trend_vortex_ind_neg': 0, 'trend_mass_index': 1, 'trend_dpo': 1, 'trend_adx': 1, 'trend_aroon_up': 1, 'trend_aroon_down': 1, 'trend_psar_up': 1, 'trend_psar_down': 0, 'trend_psar_up_indicator': 0, 'trend_psar_down_indicator': 0, 'momentum_pvo': 0, 'momentum_pvo_hist': 0, 'others_dr': 1, 'others_cr': 1}\n",
      "- Trial 44: {'volume_adi': 1, 'volume_obv': 1, 'volume_cmf': 0, 'volume_fi': 0, 'volume_em': 1, 'volume_sma_em': 0, 'volume_vpt': 0, 'volume_mfi': 0, 'volatility_bbw': 1, 'volatility_bbhi': 1, 'volatility_bbli': 1, 'volatility_kcw': 1, 'volatility_kcp': 1, 'volatility_kchi': 1, 'trend_macd': 1, 'trend_macd_diff': 0, 'trend_vortex_ind_neg': 0, 'trend_mass_index': 0, 'trend_dpo': 0, 'trend_adx': 1, 'trend_aroon_up': 1, 'trend_aroon_down': 1, 'trend_psar_up': 1, 'trend_psar_down': 1, 'trend_psar_up_indicator': 0, 'trend_psar_down_indicator': 0, 'momentum_pvo': 0, 'momentum_pvo_hist': 1, 'others_dr': 0, 'others_cr': 1}\n",
      "- Trial 5: {'volume_adi': 0, 'volume_obv': 1, 'volume_cmf': 1, 'volume_fi': 0, 'volume_em': 0, 'volume_sma_em': 0, 'volume_vpt': 1, 'volume_mfi': 0, 'volatility_bbw': 0, 'volatility_bbhi': 0, 'volatility_bbli': 1, 'volatility_kcw': 1, 'volatility_kcp': 1, 'volatility_kchi': 1, 'trend_macd': 0, 'trend_macd_diff': 0, 'trend_vortex_ind_neg': 0, 'trend_mass_index': 0, 'trend_dpo': 1, 'trend_adx': 0, 'trend_aroon_up': 1, 'trend_aroon_down': 0, 'trend_psar_up': 0, 'trend_psar_down': 0, 'trend_psar_up_indicator': 1, 'trend_psar_down_indicator': 0, 'momentum_pvo': 0, 'momentum_pvo_hist': 1, 'others_dr': 0, 'others_cr': 0}\n",
      "- Trial 28: {'volume_adi': 1, 'volume_obv': 1, 'volume_cmf': 1, 'volume_fi': 0, 'volume_em': 0, 'volume_sma_em': 0, 'volume_vpt': 0, 'volume_mfi': 1, 'volatility_bbw': 0, 'volatility_bbhi': 0, 'volatility_bbli': 1, 'volatility_kcw': 0, 'volatility_kcp': 1, 'volatility_kchi': 1, 'trend_macd': 0, 'trend_macd_diff': 0, 'trend_vortex_ind_neg': 0, 'trend_mass_index': 1, 'trend_dpo': 1, 'trend_adx': 0, 'trend_aroon_up': 0, 'trend_aroon_down': 1, 'trend_psar_up': 0, 'trend_psar_down': 1, 'trend_psar_up_indicator': 0, 'trend_psar_down_indicator': 0, 'momentum_pvo': 0, 'momentum_pvo_hist': 1, 'others_dr': 0, 'others_cr': 1}\n",
      "- Trial 46: {'volume_adi': 0, 'volume_obv': 1, 'volume_cmf': 0, 'volume_fi': 1, 'volume_em': 1, 'volume_sma_em': 0, 'volume_vpt': 1, 'volume_mfi': 0, 'volatility_bbw': 1, 'volatility_bbhi': 1, 'volatility_bbli': 0, 'volatility_kcw': 1, 'volatility_kcp': 0, 'volatility_kchi': 1, 'trend_macd': 0, 'trend_macd_diff': 1, 'trend_vortex_ind_neg': 0, 'trend_mass_index': 0, 'trend_dpo': 1, 'trend_adx': 1, 'trend_aroon_up': 1, 'trend_aroon_down': 1, 'trend_psar_up': 0, 'trend_psar_down': 0, 'trend_psar_up_indicator': 1, 'trend_psar_down_indicator': 0, 'momentum_pvo': 1, 'momentum_pvo_hist': 1, 'others_dr': 1, 'others_cr': 1}\n",
      "- Trial 17: {'volume_adi': 1, 'volume_obv': 0, 'volume_cmf': 1, 'volume_fi': 1, 'volume_em': 0, 'volume_sma_em': 1, 'volume_vpt': 0, 'volume_mfi': 1, 'volatility_bbw': 1, 'volatility_bbhi': 0, 'volatility_bbli': 0, 'volatility_kcw': 0, 'volatility_kcp': 0, 'volatility_kchi': 1, 'trend_macd': 1, 'trend_macd_diff': 0, 'trend_vortex_ind_neg': 1, 'trend_mass_index': 1, 'trend_dpo': 1, 'trend_adx': 1, 'trend_aroon_up': 0, 'trend_aroon_down': 0, 'trend_psar_up': 1, 'trend_psar_down': 0, 'trend_psar_up_indicator': 1, 'trend_psar_down_indicator': 1, 'momentum_pvo': 1, 'momentum_pvo_hist': 1, 'others_dr': 0, 'others_cr': 1}\n",
      "- Trial 37: {'volume_adi': 1, 'volume_obv': 1, 'volume_cmf': 1, 'volume_fi': 0, 'volume_em': 0, 'volume_sma_em': 1, 'volume_vpt': 0, 'volume_mfi': 0, 'volatility_bbw': 0, 'volatility_bbhi': 1, 'volatility_bbli': 0, 'volatility_kcw': 1, 'volatility_kcp': 0, 'volatility_kchi': 1, 'trend_macd': 1, 'trend_macd_diff': 1, 'trend_vortex_ind_neg': 1, 'trend_mass_index': 1, 'trend_dpo': 1, 'trend_adx': 1, 'trend_aroon_up': 1, 'trend_aroon_down': 0, 'trend_psar_up': 1, 'trend_psar_down': 1, 'trend_psar_up_indicator': 0, 'trend_psar_down_indicator': 1, 'momentum_pvo': 0, 'momentum_pvo_hist': 0, 'others_dr': 1, 'others_cr': 1}\n",
      "- Trial 3: {'volume_adi': 0, 'volume_obv': 1, 'volume_cmf': 0, 'volume_fi': 0, 'volume_em': 0, 'volume_sma_em': 0, 'volume_vpt': 0, 'volume_mfi': 1, 'volatility_bbw': 1, 'volatility_bbhi': 0, 'volatility_bbli': 1, 'volatility_kcw': 0, 'volatility_kcp': 0, 'volatility_kchi': 0, 'trend_macd': 1, 'trend_macd_diff': 1, 'trend_vortex_ind_neg': 0, 'trend_mass_index': 0, 'trend_dpo': 1, 'trend_adx': 1, 'trend_aroon_up': 1, 'trend_aroon_down': 1, 'trend_psar_up': 1, 'trend_psar_down': 1, 'trend_psar_up_indicator': 1, 'trend_psar_down_indicator': 0, 'momentum_pvo': 1, 'momentum_pvo_hist': 1, 'others_dr': 0, 'others_cr': 0}\n",
      "- Trial 45: {'volume_adi': 1, 'volume_obv': 1, 'volume_cmf': 0, 'volume_fi': 0, 'volume_em': 1, 'volume_sma_em': 1, 'volume_vpt': 1, 'volume_mfi': 1, 'volatility_bbw': 0, 'volatility_bbhi': 0, 'volatility_bbli': 0, 'volatility_kcw': 1, 'volatility_kcp': 1, 'volatility_kchi': 0, 'trend_macd': 1, 'trend_macd_diff': 1, 'trend_vortex_ind_neg': 0, 'trend_mass_index': 0, 'trend_dpo': 0, 'trend_adx': 1, 'trend_aroon_up': 1, 'trend_aroon_down': 0, 'trend_psar_up': 0, 'trend_psar_down': 1, 'trend_psar_up_indicator': 1, 'trend_psar_down_indicator': 0, 'momentum_pvo': 0, 'momentum_pvo_hist': 0, 'others_dr': 0, 'others_cr': 1}\n",
      "- Trial 20: {'volume_adi': 1, 'volume_obv': 0, 'volume_cmf': 0, 'volume_fi': 0, 'volume_em': 1, 'volume_sma_em': 0, 'volume_vpt': 1, 'volume_mfi': 0, 'volatility_bbw': 1, 'volatility_bbhi': 0, 'volatility_bbli': 1, 'volatility_kcw': 0, 'volatility_kcp': 0, 'volatility_kchi': 0, 'trend_macd': 0, 'trend_macd_diff': 0, 'trend_vortex_ind_neg': 1, 'trend_mass_index': 1, 'trend_dpo': 1, 'trend_adx': 1, 'trend_aroon_up': 0, 'trend_aroon_down': 1, 'trend_psar_up': 0, 'trend_psar_down': 0, 'trend_psar_up_indicator': 0, 'trend_psar_down_indicator': 0, 'momentum_pvo': 0, 'momentum_pvo_hist': 1, 'others_dr': 1, 'others_cr': 0}\n",
      "- Trial 38: {'volume_adi': 0, 'volume_obv': 1, 'volume_cmf': 0, 'volume_fi': 0, 'volume_em': 1, 'volume_sma_em': 1, 'volume_vpt': 0, 'volume_mfi': 1, 'volatility_bbw': 1, 'volatility_bbhi': 1, 'volatility_bbli': 0, 'volatility_kcw': 1, 'volatility_kcp': 1, 'volatility_kchi': 0, 'trend_macd': 0, 'trend_macd_diff': 0, 'trend_vortex_ind_neg': 1, 'trend_mass_index': 1, 'trend_dpo': 1, 'trend_adx': 0, 'trend_aroon_up': 0, 'trend_aroon_down': 1, 'trend_psar_up': 1, 'trend_psar_down': 1, 'trend_psar_up_indicator': 0, 'trend_psar_down_indicator': 1, 'momentum_pvo': 0, 'momentum_pvo_hist': 1, 'others_dr': 1, 'others_cr': 0}\n",
      "- Trial 31: {'volume_adi': 1, 'volume_obv': 1, 'volume_cmf': 0, 'volume_fi': 0, 'volume_em': 1, 'volume_sma_em': 1, 'volume_vpt': 0, 'volume_mfi': 0, 'volatility_bbw': 0, 'volatility_bbhi': 0, 'volatility_bbli': 0, 'volatility_kcw': 1, 'volatility_kcp': 0, 'volatility_kchi': 1, 'trend_macd': 1, 'trend_macd_diff': 0, 'trend_vortex_ind_neg': 0, 'trend_mass_index': 0, 'trend_dpo': 1, 'trend_adx': 1, 'trend_aroon_up': 1, 'trend_aroon_down': 1, 'trend_psar_up': 1, 'trend_psar_down': 1, 'trend_psar_up_indicator': 0, 'trend_psar_down_indicator': 0, 'momentum_pvo': 1, 'momentum_pvo_hist': 1, 'others_dr': 1, 'others_cr': 1}\n",
      "- Trial 0: {'volume_adi': 0, 'volume_obv': 1, 'volume_cmf': 0, 'volume_fi': 0, 'volume_em': 1, 'volume_sma_em': 0, 'volume_vpt': 1, 'volume_mfi': 0, 'volatility_bbw': 0, 'volatility_bbhi': 0, 'volatility_bbli': 0, 'volatility_kcw': 1, 'volatility_kcp': 0, 'volatility_kchi': 0, 'trend_macd': 0, 'trend_macd_diff': 0, 'trend_vortex_ind_neg': 1, 'trend_mass_index': 1, 'trend_dpo': 0, 'trend_adx': 0, 'trend_aroon_up': 1, 'trend_aroon_down': 0, 'trend_psar_up': 0, 'trend_psar_down': 0, 'trend_psar_up_indicator': 1, 'trend_psar_down_indicator': 0, 'momentum_pvo': 1, 'momentum_pvo_hist': 1, 'others_dr': 0, 'others_cr': 1}\n",
      "- Trial 36: {'volume_adi': 0, 'volume_obv': 1, 'volume_cmf': 1, 'volume_fi': 1, 'volume_em': 1, 'volume_sma_em': 0, 'volume_vpt': 1, 'volume_mfi': 1, 'volatility_bbw': 0, 'volatility_bbhi': 0, 'volatility_bbli': 0, 'volatility_kcw': 0, 'volatility_kcp': 0, 'volatility_kchi': 0, 'trend_macd': 0, 'trend_macd_diff': 0, 'trend_vortex_ind_neg': 1, 'trend_mass_index': 1, 'trend_dpo': 1, 'trend_adx': 1, 'trend_aroon_up': 0, 'trend_aroon_down': 0, 'trend_psar_up': 1, 'trend_psar_down': 1, 'trend_psar_up_indicator': 0, 'trend_psar_down_indicator': 1, 'momentum_pvo': 0, 'momentum_pvo_hist': 0, 'others_dr': 1, 'others_cr': 0}\n",
      "- Trial 47: {'volume_adi': 0, 'volume_obv': 1, 'volume_cmf': 0, 'volume_fi': 1, 'volume_em': 0, 'volume_sma_em': 1, 'volume_vpt': 1, 'volume_mfi': 0, 'volatility_bbw': 1, 'volatility_bbhi': 0, 'volatility_bbli': 1, 'volatility_kcw': 0, 'volatility_kcp': 0, 'volatility_kchi': 1, 'trend_macd': 0, 'trend_macd_diff': 0, 'trend_vortex_ind_neg': 1, 'trend_mass_index': 0, 'trend_dpo': 0, 'trend_adx': 1, 'trend_aroon_up': 1, 'trend_aroon_down': 1, 'trend_psar_up': 1, 'trend_psar_down': 1, 'trend_psar_up_indicator': 0, 'trend_psar_down_indicator': 0, 'momentum_pvo': 1, 'momentum_pvo_hist': 1, 'others_dr': 1, 'others_cr': 1}\n",
      "- Trial 30: {'volume_adi': 1, 'volume_obv': 1, 'volume_cmf': 1, 'volume_fi': 1, 'volume_em': 0, 'volume_sma_em': 0, 'volume_vpt': 0, 'volume_mfi': 0, 'volatility_bbw': 1, 'volatility_bbhi': 0, 'volatility_bbli': 1, 'volatility_kcw': 1, 'volatility_kcp': 1, 'volatility_kchi': 1, 'trend_macd': 0, 'trend_macd_diff': 1, 'trend_vortex_ind_neg': 1, 'trend_mass_index': 0, 'trend_dpo': 1, 'trend_adx': 0, 'trend_aroon_up': 1, 'trend_aroon_down': 1, 'trend_psar_up': 1, 'trend_psar_down': 0, 'trend_psar_up_indicator': 1, 'trend_psar_down_indicator': 1, 'momentum_pvo': 1, 'momentum_pvo_hist': 0, 'others_dr': 1, 'others_cr': 0}\n",
      "- Trial 48: {'volume_adi': 1, 'volume_obv': 1, 'volume_cmf': 1, 'volume_fi': 0, 'volume_em': 1, 'volume_sma_em': 1, 'volume_vpt': 0, 'volume_mfi': 0, 'volatility_bbw': 0, 'volatility_bbhi': 0, 'volatility_bbli': 1, 'volatility_kcw': 0, 'volatility_kcp': 0, 'volatility_kchi': 0, 'trend_macd': 0, 'trend_macd_diff': 0, 'trend_vortex_ind_neg': 0, 'trend_mass_index': 0, 'trend_dpo': 1, 'trend_adx': 0, 'trend_aroon_up': 0, 'trend_aroon_down': 0, 'trend_psar_up': 1, 'trend_psar_down': 1, 'trend_psar_up_indicator': 1, 'trend_psar_down_indicator': 1, 'momentum_pvo': 1, 'momentum_pvo_hist': 1, 'others_dr': 1, 'others_cr': 1}\n",
      "- Trial 42: {'volume_adi': 0, 'volume_obv': 0, 'volume_cmf': 1, 'volume_fi': 0, 'volume_em': 0, 'volume_sma_em': 1, 'volume_vpt': 0, 'volume_mfi': 0, 'volatility_bbw': 1, 'volatility_bbhi': 1, 'volatility_bbli': 0, 'volatility_kcw': 0, 'volatility_kcp': 1, 'volatility_kchi': 1, 'trend_macd': 1, 'trend_macd_diff': 0, 'trend_vortex_ind_neg': 0, 'trend_mass_index': 0, 'trend_dpo': 0, 'trend_adx': 0, 'trend_aroon_up': 0, 'trend_aroon_down': 0, 'trend_psar_up': 0, 'trend_psar_down': 1, 'trend_psar_up_indicator': 1, 'trend_psar_down_indicator': 0, 'momentum_pvo': 1, 'momentum_pvo_hist': 1, 'others_dr': 1, 'others_cr': 0}\n",
      "- Trial 6: {'volume_adi': 1, 'volume_obv': 1, 'volume_cmf': 1, 'volume_fi': 1, 'volume_em': 1, 'volume_sma_em': 0, 'volume_vpt': 0, 'volume_mfi': 1, 'volatility_bbw': 1, 'volatility_bbhi': 0, 'volatility_bbli': 1, 'volatility_kcw': 0, 'volatility_kcp': 1, 'volatility_kchi': 0, 'trend_macd': 0, 'trend_macd_diff': 0, 'trend_vortex_ind_neg': 0, 'trend_mass_index': 1, 'trend_dpo': 1, 'trend_adx': 1, 'trend_aroon_up': 1, 'trend_aroon_down': 0, 'trend_psar_up': 1, 'trend_psar_down': 1, 'trend_psar_up_indicator': 0, 'trend_psar_down_indicator': 0, 'momentum_pvo': 0, 'momentum_pvo_hist': 1, 'others_dr': 1, 'others_cr': 0}\n",
      "- Trial 13: {'volume_adi': 0, 'volume_obv': 1, 'volume_cmf': 0, 'volume_fi': 0, 'volume_em': 0, 'volume_sma_em': 0, 'volume_vpt': 1, 'volume_mfi': 1, 'volatility_bbw': 1, 'volatility_bbhi': 0, 'volatility_bbli': 1, 'volatility_kcw': 0, 'volatility_kcp': 1, 'volatility_kchi': 0, 'trend_macd': 0, 'trend_macd_diff': 0, 'trend_vortex_ind_neg': 0, 'trend_mass_index': 1, 'trend_dpo': 0, 'trend_adx': 1, 'trend_aroon_up': 0, 'trend_aroon_down': 0, 'trend_psar_up': 0, 'trend_psar_down': 1, 'trend_psar_up_indicator': 0, 'trend_psar_down_indicator': 0, 'momentum_pvo': 0, 'momentum_pvo_hist': 1, 'others_dr': 1, 'others_cr': 0}\n",
      "- Trial 21: {'volume_adi': 0, 'volume_obv': 0, 'volume_cmf': 0, 'volume_fi': 0, 'volume_em': 1, 'volume_sma_em': 1, 'volume_vpt': 0, 'volume_mfi': 1, 'volatility_bbw': 0, 'volatility_bbhi': 0, 'volatility_bbli': 0, 'volatility_kcw': 0, 'volatility_kcp': 0, 'volatility_kchi': 1, 'trend_macd': 0, 'trend_macd_diff': 0, 'trend_vortex_ind_neg': 1, 'trend_mass_index': 0, 'trend_dpo': 1, 'trend_adx': 0, 'trend_aroon_up': 0, 'trend_aroon_down': 0, 'trend_psar_up': 1, 'trend_psar_down': 0, 'trend_psar_up_indicator': 0, 'trend_psar_down_indicator': 1, 'momentum_pvo': 1, 'momentum_pvo_hist': 1, 'others_dr': 0, 'others_cr': 1}\n",
      "- Trial 12: {'volume_adi': 1, 'volume_obv': 1, 'volume_cmf': 0, 'volume_fi': 1, 'volume_em': 0, 'volume_sma_em': 1, 'volume_vpt': 0, 'volume_mfi': 0, 'volatility_bbw': 1, 'volatility_bbhi': 1, 'volatility_bbli': 0, 'volatility_kcw': 0, 'volatility_kcp': 1, 'volatility_kchi': 0, 'trend_macd': 0, 'trend_macd_diff': 1, 'trend_vortex_ind_neg': 1, 'trend_mass_index': 1, 'trend_dpo': 1, 'trend_adx': 1, 'trend_aroon_up': 0, 'trend_aroon_down': 1, 'trend_psar_up': 1, 'trend_psar_down': 1, 'trend_psar_up_indicator': 1, 'trend_psar_down_indicator': 1, 'momentum_pvo': 1, 'momentum_pvo_hist': 1, 'others_dr': 0, 'others_cr': 1}\n",
      "- Trial 18: {'volume_adi': 1, 'volume_obv': 1, 'volume_cmf': 1, 'volume_fi': 1, 'volume_em': 0, 'volume_sma_em': 1, 'volume_vpt': 1, 'volume_mfi': 0, 'volatility_bbw': 1, 'volatility_bbhi': 0, 'volatility_bbli': 0, 'volatility_kcw': 1, 'volatility_kcp': 1, 'volatility_kchi': 1, 'trend_macd': 1, 'trend_macd_diff': 0, 'trend_vortex_ind_neg': 1, 'trend_mass_index': 1, 'trend_dpo': 0, 'trend_adx': 0, 'trend_aroon_up': 0, 'trend_aroon_down': 1, 'trend_psar_up': 0, 'trend_psar_down': 1, 'trend_psar_up_indicator': 1, 'trend_psar_down_indicator': 0, 'momentum_pvo': 0, 'momentum_pvo_hist': 0, 'others_dr': 1, 'others_cr': 1}\n",
      "- Trial 27: {'volume_adi': 1, 'volume_obv': 1, 'volume_cmf': 1, 'volume_fi': 1, 'volume_em': 0, 'volume_sma_em': 1, 'volume_vpt': 1, 'volume_mfi': 1, 'volatility_bbw': 1, 'volatility_bbhi': 0, 'volatility_bbli': 0, 'volatility_kcw': 1, 'volatility_kcp': 0, 'volatility_kchi': 1, 'trend_macd': 0, 'trend_macd_diff': 1, 'trend_vortex_ind_neg': 0, 'trend_mass_index': 0, 'trend_dpo': 0, 'trend_adx': 0, 'trend_aroon_up': 0, 'trend_aroon_down': 0, 'trend_psar_up': 0, 'trend_psar_down': 0, 'trend_psar_up_indicator': 0, 'trend_psar_down_indicator': 0, 'momentum_pvo': 0, 'momentum_pvo_hist': 0, 'others_dr': 1, 'others_cr': 1}\n",
      "- Trial 23: {'volume_adi': 1, 'volume_obv': 1, 'volume_cmf': 1, 'volume_fi': 0, 'volume_em': 1, 'volume_sma_em': 0, 'volume_vpt': 0, 'volume_mfi': 0, 'volatility_bbw': 1, 'volatility_bbhi': 0, 'volatility_bbli': 1, 'volatility_kcw': 1, 'volatility_kcp': 1, 'volatility_kchi': 0, 'trend_macd': 0, 'trend_macd_diff': 0, 'trend_vortex_ind_neg': 1, 'trend_mass_index': 1, 'trend_dpo': 1, 'trend_adx': 1, 'trend_aroon_up': 0, 'trend_aroon_down': 1, 'trend_psar_up': 1, 'trend_psar_down': 0, 'trend_psar_up_indicator': 0, 'trend_psar_down_indicator': 1, 'momentum_pvo': 0, 'momentum_pvo_hist': 0, 'others_dr': 1, 'others_cr': 1}\n",
      "- Trial 19: {'volume_adi': 1, 'volume_obv': 1, 'volume_cmf': 1, 'volume_fi': 1, 'volume_em': 1, 'volume_sma_em': 0, 'volume_vpt': 1, 'volume_mfi': 0, 'volatility_bbw': 1, 'volatility_bbhi': 0, 'volatility_bbli': 1, 'volatility_kcw': 1, 'volatility_kcp': 1, 'volatility_kchi': 0, 'trend_macd': 1, 'trend_macd_diff': 0, 'trend_vortex_ind_neg': 0, 'trend_mass_index': 0, 'trend_dpo': 1, 'trend_adx': 0, 'trend_aroon_up': 1, 'trend_aroon_down': 0, 'trend_psar_up': 0, 'trend_psar_down': 1, 'trend_psar_up_indicator': 1, 'trend_psar_down_indicator': 1, 'momentum_pvo': 0, 'momentum_pvo_hist': 0, 'others_dr': 0, 'others_cr': 0}\n",
      "- Trial 26: {'volume_adi': 1, 'volume_obv': 1, 'volume_cmf': 1, 'volume_fi': 1, 'volume_em': 1, 'volume_sma_em': 0, 'volume_vpt': 1, 'volume_mfi': 1, 'volatility_bbw': 0, 'volatility_bbhi': 0, 'volatility_bbli': 0, 'volatility_kcw': 1, 'volatility_kcp': 0, 'volatility_kchi': 0, 'trend_macd': 0, 'trend_macd_diff': 0, 'trend_vortex_ind_neg': 1, 'trend_mass_index': 1, 'trend_dpo': 0, 'trend_adx': 0, 'trend_aroon_up': 1, 'trend_aroon_down': 1, 'trend_psar_up': 1, 'trend_psar_down': 1, 'trend_psar_up_indicator': 1, 'trend_psar_down_indicator': 1, 'momentum_pvo': 1, 'momentum_pvo_hist': 0, 'others_dr': 1, 'others_cr': 0}\n",
      "- Trial 2: {'volume_adi': 0, 'volume_obv': 1, 'volume_cmf': 1, 'volume_fi': 1, 'volume_em': 1, 'volume_sma_em': 1, 'volume_vpt': 1, 'volume_mfi': 1, 'volatility_bbw': 1, 'volatility_bbhi': 0, 'volatility_bbli': 0, 'volatility_kcw': 1, 'volatility_kcp': 0, 'volatility_kchi': 1, 'trend_macd': 1, 'trend_macd_diff': 0, 'trend_vortex_ind_neg': 1, 'trend_mass_index': 1, 'trend_dpo': 0, 'trend_adx': 0, 'trend_aroon_up': 1, 'trend_aroon_down': 1, 'trend_psar_up': 0, 'trend_psar_down': 0, 'trend_psar_up_indicator': 0, 'trend_psar_down_indicator': 1, 'momentum_pvo': 0, 'momentum_pvo_hist': 0, 'others_dr': 1, 'others_cr': 0}\n",
      "- Trial 7: {'volume_adi': 1, 'volume_obv': 1, 'volume_cmf': 0, 'volume_fi': 1, 'volume_em': 1, 'volume_sma_em': 1, 'volume_vpt': 0, 'volume_mfi': 0, 'volatility_bbw': 0, 'volatility_bbhi': 0, 'volatility_bbli': 0, 'volatility_kcw': 1, 'volatility_kcp': 0, 'volatility_kchi': 0, 'trend_macd': 1, 'trend_macd_diff': 0, 'trend_vortex_ind_neg': 0, 'trend_mass_index': 1, 'trend_dpo': 1, 'trend_adx': 0, 'trend_aroon_up': 1, 'trend_aroon_down': 1, 'trend_psar_up': 1, 'trend_psar_down': 0, 'trend_psar_up_indicator': 1, 'trend_psar_down_indicator': 0, 'momentum_pvo': 1, 'momentum_pvo_hist': 1, 'others_dr': 1, 'others_cr': 1}\n",
      "Cluster 1:\n",
      "- Trial 22: {'volume_adi': 1, 'volume_obv': 0, 'volume_cmf': 1, 'volume_fi': 0, 'volume_em': 0, 'volume_sma_em': 1, 'volume_vpt': 1, 'volume_mfi': 0, 'volatility_bbw': 0, 'volatility_bbhi': 0, 'volatility_bbli': 0, 'volatility_kcw': 1, 'volatility_kcp': 0, 'volatility_kchi': 1, 'trend_macd': 1, 'trend_macd_diff': 1, 'trend_vortex_ind_neg': 1, 'trend_mass_index': 0, 'trend_dpo': 1, 'trend_adx': 0, 'trend_aroon_up': 0, 'trend_aroon_down': 1, 'trend_psar_up': 0, 'trend_psar_down': 0, 'trend_psar_up_indicator': 1, 'trend_psar_down_indicator': 1, 'momentum_pvo': 1, 'momentum_pvo_hist': 0, 'others_dr': 0, 'others_cr': 0}\n",
      "- Trial 41: {'volume_adi': 1, 'volume_obv': 0, 'volume_cmf': 0, 'volume_fi': 1, 'volume_em': 0, 'volume_sma_em': 1, 'volume_vpt': 1, 'volume_mfi': 1, 'volatility_bbw': 0, 'volatility_bbhi': 0, 'volatility_bbli': 1, 'volatility_kcw': 0, 'volatility_kcp': 1, 'volatility_kchi': 0, 'trend_macd': 0, 'trend_macd_diff': 0, 'trend_vortex_ind_neg': 1, 'trend_mass_index': 1, 'trend_dpo': 0, 'trend_adx': 0, 'trend_aroon_up': 0, 'trend_aroon_down': 0, 'trend_psar_up': 1, 'trend_psar_down': 0, 'trend_psar_up_indicator': 1, 'trend_psar_down_indicator': 1, 'momentum_pvo': 1, 'momentum_pvo_hist': 0, 'others_dr': 0, 'others_cr': 1}\n",
      "- Trial 40: {'volume_adi': 0, 'volume_obv': 0, 'volume_cmf': 0, 'volume_fi': 1, 'volume_em': 0, 'volume_sma_em': 1, 'volume_vpt': 0, 'volume_mfi': 0, 'volatility_bbw': 1, 'volatility_bbhi': 0, 'volatility_bbli': 0, 'volatility_kcw': 0, 'volatility_kcp': 0, 'volatility_kchi': 0, 'trend_macd': 0, 'trend_macd_diff': 0, 'trend_vortex_ind_neg': 1, 'trend_mass_index': 0, 'trend_dpo': 1, 'trend_adx': 0, 'trend_aroon_up': 1, 'trend_aroon_down': 0, 'trend_psar_up': 1, 'trend_psar_down': 1, 'trend_psar_up_indicator': 0, 'trend_psar_down_indicator': 1, 'momentum_pvo': 0, 'momentum_pvo_hist': 0, 'others_dr': 0, 'others_cr': 1}\n",
      "- Trial 4: {'volume_adi': 0, 'volume_obv': 1, 'volume_cmf': 1, 'volume_fi': 1, 'volume_em': 0, 'volume_sma_em': 0, 'volume_vpt': 1, 'volume_mfi': 0, 'volatility_bbw': 1, 'volatility_bbhi': 0, 'volatility_bbli': 0, 'volatility_kcw': 1, 'volatility_kcp': 0, 'volatility_kchi': 0, 'trend_macd': 1, 'trend_macd_diff': 0, 'trend_vortex_ind_neg': 0, 'trend_mass_index': 1, 'trend_dpo': 0, 'trend_adx': 0, 'trend_aroon_up': 0, 'trend_aroon_down': 1, 'trend_psar_up': 0, 'trend_psar_down': 1, 'trend_psar_up_indicator': 1, 'trend_psar_down_indicator': 1, 'momentum_pvo': 1, 'momentum_pvo_hist': 0, 'others_dr': 0, 'others_cr': 1}\n",
      "- Trial 29: {'volume_adi': 1, 'volume_obv': 1, 'volume_cmf': 1, 'volume_fi': 1, 'volume_em': 0, 'volume_sma_em': 1, 'volume_vpt': 1, 'volume_mfi': 1, 'volatility_bbw': 1, 'volatility_bbhi': 0, 'volatility_bbli': 1, 'volatility_kcw': 1, 'volatility_kcp': 1, 'volatility_kchi': 0, 'trend_macd': 1, 'trend_macd_diff': 1, 'trend_vortex_ind_neg': 1, 'trend_mass_index': 1, 'trend_dpo': 0, 'trend_adx': 0, 'trend_aroon_up': 1, 'trend_aroon_down': 0, 'trend_psar_up': 1, 'trend_psar_down': 1, 'trend_psar_up_indicator': 1, 'trend_psar_down_indicator': 1, 'momentum_pvo': 0, 'momentum_pvo_hist': 1, 'others_dr': 0, 'others_cr': 0}\n",
      "- Trial 33: {'volume_adi': 1, 'volume_obv': 0, 'volume_cmf': 1, 'volume_fi': 1, 'volume_em': 1, 'volume_sma_em': 1, 'volume_vpt': 1, 'volume_mfi': 0, 'volatility_bbw': 1, 'volatility_bbhi': 1, 'volatility_bbli': 1, 'volatility_kcw': 0, 'volatility_kcp': 1, 'volatility_kchi': 1, 'trend_macd': 0, 'trend_macd_diff': 1, 'trend_vortex_ind_neg': 0, 'trend_mass_index': 1, 'trend_dpo': 0, 'trend_adx': 1, 'trend_aroon_up': 0, 'trend_aroon_down': 0, 'trend_psar_up': 0, 'trend_psar_down': 0, 'trend_psar_up_indicator': 1, 'trend_psar_down_indicator': 0, 'momentum_pvo': 1, 'momentum_pvo_hist': 0, 'others_dr': 0, 'others_cr': 1}\n",
      "- Trial 10: {'volume_adi': 0, 'volume_obv': 0, 'volume_cmf': 0, 'volume_fi': 1, 'volume_em': 1, 'volume_sma_em': 1, 'volume_vpt': 1, 'volume_mfi': 1, 'volatility_bbw': 1, 'volatility_bbhi': 0, 'volatility_bbli': 1, 'volatility_kcw': 0, 'volatility_kcp': 0, 'volatility_kchi': 1, 'trend_macd': 0, 'trend_macd_diff': 1, 'trend_vortex_ind_neg': 0, 'trend_mass_index': 1, 'trend_dpo': 0, 'trend_adx': 0, 'trend_aroon_up': 1, 'trend_aroon_down': 1, 'trend_psar_up': 1, 'trend_psar_down': 1, 'trend_psar_up_indicator': 1, 'trend_psar_down_indicator': 1, 'momentum_pvo': 0, 'momentum_pvo_hist': 1, 'others_dr': 1, 'others_cr': 0}\n",
      "- Trial 9: {'volume_adi': 1, 'volume_obv': 0, 'volume_cmf': 1, 'volume_fi': 0, 'volume_em': 1, 'volume_sma_em': 1, 'volume_vpt': 0, 'volume_mfi': 0, 'volatility_bbw': 1, 'volatility_bbhi': 0, 'volatility_bbli': 0, 'volatility_kcw': 0, 'volatility_kcp': 0, 'volatility_kchi': 0, 'trend_macd': 0, 'trend_macd_diff': 0, 'trend_vortex_ind_neg': 0, 'trend_mass_index': 0, 'trend_dpo': 1, 'trend_adx': 1, 'trend_aroon_up': 0, 'trend_aroon_down': 0, 'trend_psar_up': 1, 'trend_psar_down': 0, 'trend_psar_up_indicator': 0, 'trend_psar_down_indicator': 0, 'momentum_pvo': 0, 'momentum_pvo_hist': 0, 'others_dr': 0, 'others_cr': 1}\n",
      "- Trial 32: {'volume_adi': 0, 'volume_obv': 1, 'volume_cmf': 0, 'volume_fi': 0, 'volume_em': 1, 'volume_sma_em': 0, 'volume_vpt': 1, 'volume_mfi': 0, 'volatility_bbw': 1, 'volatility_bbhi': 0, 'volatility_bbli': 0, 'volatility_kcw': 0, 'volatility_kcp': 1, 'volatility_kchi': 1, 'trend_macd': 0, 'trend_macd_diff': 1, 'trend_vortex_ind_neg': 0, 'trend_mass_index': 1, 'trend_dpo': 1, 'trend_adx': 0, 'trend_aroon_up': 0, 'trend_aroon_down': 1, 'trend_psar_up': 1, 'trend_psar_down': 0, 'trend_psar_up_indicator': 1, 'trend_psar_down_indicator': 1, 'momentum_pvo': 1, 'momentum_pvo_hist': 1, 'others_dr': 0, 'others_cr': 0}\n",
      "- Trial 43: {'volume_adi': 0, 'volume_obv': 1, 'volume_cmf': 1, 'volume_fi': 0, 'volume_em': 1, 'volume_sma_em': 1, 'volume_vpt': 0, 'volume_mfi': 0, 'volatility_bbw': 1, 'volatility_bbhi': 0, 'volatility_bbli': 0, 'volatility_kcw': 0, 'volatility_kcp': 0, 'volatility_kchi': 1, 'trend_macd': 0, 'trend_macd_diff': 0, 'trend_vortex_ind_neg': 0, 'trend_mass_index': 0, 'trend_dpo': 0, 'trend_adx': 0, 'trend_aroon_up': 1, 'trend_aroon_down': 0, 'trend_psar_up': 0, 'trend_psar_down': 0, 'trend_psar_up_indicator': 0, 'trend_psar_down_indicator': 1, 'momentum_pvo': 0, 'momentum_pvo_hist': 0, 'others_dr': 0, 'others_cr': 1}\n",
      "- Trial 15: {'volume_adi': 0, 'volume_obv': 1, 'volume_cmf': 0, 'volume_fi': 0, 'volume_em': 0, 'volume_sma_em': 0, 'volume_vpt': 1, 'volume_mfi': 0, 'volatility_bbw': 0, 'volatility_bbhi': 1, 'volatility_bbli': 1, 'volatility_kcw': 0, 'volatility_kcp': 0, 'volatility_kchi': 0, 'trend_macd': 0, 'trend_macd_diff': 0, 'trend_vortex_ind_neg': 1, 'trend_mass_index': 1, 'trend_dpo': 0, 'trend_adx': 1, 'trend_aroon_up': 0, 'trend_aroon_down': 1, 'trend_psar_up': 1, 'trend_psar_down': 0, 'trend_psar_up_indicator': 0, 'trend_psar_down_indicator': 1, 'momentum_pvo': 0, 'momentum_pvo_hist': 0, 'others_dr': 0, 'others_cr': 0}\n",
      "- Trial 16: {'volume_adi': 1, 'volume_obv': 0, 'volume_cmf': 0, 'volume_fi': 0, 'volume_em': 1, 'volume_sma_em': 1, 'volume_vpt': 0, 'volume_mfi': 0, 'volatility_bbw': 1, 'volatility_bbhi': 1, 'volatility_bbli': 0, 'volatility_kcw': 1, 'volatility_kcp': 0, 'volatility_kchi': 0, 'trend_macd': 0, 'trend_macd_diff': 0, 'trend_vortex_ind_neg': 0, 'trend_mass_index': 1, 'trend_dpo': 1, 'trend_adx': 1, 'trend_aroon_up': 0, 'trend_aroon_down': 1, 'trend_psar_up': 0, 'trend_psar_down': 0, 'trend_psar_up_indicator': 0, 'trend_psar_down_indicator': 0, 'momentum_pvo': 0, 'momentum_pvo_hist': 0, 'others_dr': 0, 'others_cr': 0}\n",
      "- Trial 39: {'volume_adi': 0, 'volume_obv': 0, 'volume_cmf': 1, 'volume_fi': 1, 'volume_em': 1, 'volume_sma_em': 1, 'volume_vpt': 1, 'volume_mfi': 1, 'volatility_bbw': 1, 'volatility_bbhi': 0, 'volatility_bbli': 1, 'volatility_kcw': 0, 'volatility_kcp': 1, 'volatility_kchi': 1, 'trend_macd': 0, 'trend_macd_diff': 0, 'trend_vortex_ind_neg': 0, 'trend_mass_index': 0, 'trend_dpo': 0, 'trend_adx': 0, 'trend_aroon_up': 0, 'trend_aroon_down': 1, 'trend_psar_up': 1, 'trend_psar_down': 0, 'trend_psar_up_indicator': 0, 'trend_psar_down_indicator': 0, 'momentum_pvo': 1, 'momentum_pvo_hist': 0, 'others_dr': 1, 'others_cr': 1}\n"
     ]
    }
   ],
   "source": [
    "for cluster_number, cluster_indices in clstrsNew.items():\n",
    "    print(f\"Cluster {cluster_number}:\")\n",
    "    for idx in cluster_indices:\n",
    "        trial_number = top_trials[idx].number\n",
    "        trial_params = top_trials[idx].params\n",
    "        print(f\"- Trial {trial_number}: {trial_params}\")"
   ]
  },
  {
   "cell_type": "code",
   "execution_count": 43,
   "metadata": {},
   "outputs": [
    {
     "name": "stdout",
     "output_type": "stream",
     "text": [
      "Cluster 0:\n",
      "             Feature  Frequency\n",
      "0         volume_obv         32\n",
      "1         volume_adi         23\n",
      "2          others_dr         23\n",
      "3   trend_aroon_down         22\n",
      "4  momentum_pvo_hist         22\n",
      "5     volatility_bbw         21\n",
      "6    trend_psar_down         21\n",
      "7          trend_dpo         21\n",
      "8         volume_cmf         20\n",
      "9          trend_adx         20\n",
      "Cluster 1:\n",
      "                     Feature  Frequency\n",
      "0              volume_sma_em         10\n",
      "1             volatility_bbw         10\n",
      "2                 volume_vpt          9\n",
      "3  trend_psar_down_indicator          9\n",
      "4           trend_mass_index          8\n",
      "5              trend_psar_up          8\n",
      "6                 volume_cmf          7\n",
      "7           trend_aroon_down          7\n",
      "8    trend_psar_up_indicator          7\n",
      "9                  volume_fi          7\n"
     ]
    }
   ],
   "source": [
    "import pandas as pd\n",
    "\n",
    "cluster_frequencies = []\n",
    "\n",
    "for cluster_number, cluster_indices in clstrsNew.items():\n",
    "    cluster_frequency = {}\n",
    "\n",
    "    for idx in cluster_indices:\n",
    "        trial_features = top_trials[idx].number\n",
    "        trial_params = top_trials[idx].params\n",
    "        for key, value in trial_params.items():\n",
    "            if value == 1:\n",
    "                cluster_frequency[key] = cluster_frequency.get(key, 0) + 1\n",
    "\n",
    "    sorted_frequency = sorted(cluster_frequency.items(), key=lambda x: x[1],  reverse=True)\n",
    "\n",
    "    print(f\"Cluster {cluster_number}:\")\n",
    "    top_features = sorted_frequency[:10]\n",
    "    df = pd.DataFrame(top_features, columns=['Feature', 'Frequency'])\n",
    "    print(df)\n"
   ]
  },
  {
   "cell_type": "code",
   "execution_count": 44,
   "metadata": {},
   "outputs": [
    {
     "name": "stdout",
     "output_type": "stream",
     "text": [
      "Cluster 0: [8, 11, 25, 24, 35, 1, 14, 49, 34, 44, 5, 28, 46, 17, 37, 3, 45, 20, 38, 31, 0, 36, 47, 30, 48, 42, 6, 13, 21, 12, 18, 27, 23, 19, 26, 2, 7]\n",
      "Cluster 1: [22, 41, 40, 4, 29, 33, 10, 9, 32, 43, 15, 16, 39]\n"
     ]
    }
   ],
   "source": [
    "cluster_lists = []\n",
    "\n",
    "# Iterate through each cluster and its members\n",
    "for cluster_number, cluster_indices in clstrsNew.items():\n",
    "    cluster_list = []\n",
    "\n",
    "    # Iterate through each index in the cluster\n",
    "    for idx in cluster_indices:\n",
    "        trial_number = top_trials[idx].number\n",
    "        cluster_list.append(trial_number)\n",
    "\n",
    "    cluster_lists.append(cluster_list)\n",
    "\n",
    "# Print the lists for each cluster\n",
    "for i, cluster_list in enumerate(cluster_lists):\n",
    "    print(f\"Cluster {i}: {cluster_list}\")"
   ]
  },
  {
   "cell_type": "code",
   "execution_count": 45,
   "metadata": {},
   "outputs": [
    {
     "name": "stdout",
     "output_type": "stream",
     "text": [
      "Top 10 features for Cluster 0: ['volume_obv', 'volume_adi', 'others_dr', 'trend_aroon_down', 'momentum_pvo_hist', 'volatility_bbw', 'trend_psar_down', 'trend_dpo', 'volume_cmf', 'trend_adx']\n",
      "Top 10 features for Cluster 1: ['volume_sma_em', 'volatility_bbw', 'volume_vpt', 'trend_psar_down_indicator', 'trend_mass_index', 'trend_psar_up', 'volume_cmf', 'trend_aroon_down', 'trend_psar_up_indicator', 'volume_fi']\n"
     ]
    }
   ],
   "source": [
    "top_10_features_per_cluster = []\n",
    "\n",
    "for cluster_number, cluster_indices in clstrsNew.items():\n",
    "    cluster_frequency = {}\n",
    "\n",
    "    for idx in cluster_indices:\n",
    "        trial_params = top_trials[idx].params\n",
    "        for key, value in trial_params.items():\n",
    "            if value == 1:\n",
    "                cluster_frequency[key] = cluster_frequency.get(key, 0) + 1\n",
    "\n",
    "    sorted_cluster_frequency = sorted(cluster_frequency.items(), key=lambda x: x[1], reverse=True)\n",
    "    top_10_features_cluster = [feature for feature, _ in sorted_cluster_frequency[:10]]\n",
    "    top_10_features_per_cluster.append(top_10_features_cluster)\n",
    "    print(f\"Top 10 features for Cluster {cluster_number}: {top_10_features_cluster}\")"
   ]
  },
  {
   "cell_type": "code",
   "execution_count": 46,
   "metadata": {},
   "outputs": [
    {
     "data": {
      "text/plain": [
       "[['volume_obv',\n",
       "  'volume_adi',\n",
       "  'others_dr',\n",
       "  'trend_aroon_down',\n",
       "  'momentum_pvo_hist',\n",
       "  'volatility_bbw',\n",
       "  'trend_psar_down',\n",
       "  'trend_dpo',\n",
       "  'volume_cmf',\n",
       "  'trend_adx'],\n",
       " ['volume_sma_em',\n",
       "  'volatility_bbw',\n",
       "  'volume_vpt',\n",
       "  'trend_psar_down_indicator',\n",
       "  'trend_mass_index',\n",
       "  'trend_psar_up',\n",
       "  'volume_cmf',\n",
       "  'trend_aroon_down',\n",
       "  'trend_psar_up_indicator',\n",
       "  'volume_fi']]"
      ]
     },
     "execution_count": 46,
     "metadata": {},
     "output_type": "execute_result"
    }
   ],
   "source": [
    "top_10_features_per_cluster"
   ]
  },
  {
   "cell_type": "code",
   "execution_count": 47,
   "metadata": {},
   "outputs": [],
   "source": [
    "top10_feat = pd.DataFrame(top_10_features_per_cluster)"
   ]
  },
  {
   "cell_type": "code",
   "execution_count": 48,
   "metadata": {},
   "outputs": [],
   "source": [
    "selected_columns_cluster = []\n",
    "for item in top_10_features_per_cluster:\n",
    "  selected_columns = new_df_no_close_col.loc[:, item]\n",
    "  selected_columns_cluster.append(selected_columns)"
   ]
  },
  {
   "cell_type": "markdown",
   "metadata": {},
   "source": [
    "# Model selection"
   ]
  },
  {
   "cell_type": "markdown",
   "metadata": {},
   "source": [
    "## Custom Early Stopping"
   ]
  },
  {
   "cell_type": "code",
   "execution_count": 51,
   "metadata": {},
   "outputs": [],
   "source": [
    "from xgboost import callback"
   ]
  },
  {
   "cell_type": "code",
   "execution_count": 52,
   "metadata": {},
   "outputs": [],
   "source": [
    "min_delta = 0.0001\n",
    "patience = 30\n",
    "\n",
    "\n",
    "class CustomEarlyStopping(callback.TrainingCallback):\n",
    "    def __init__(self, min_delta, patience, verbose=False):\n",
    "        super().__init__()\n",
    "        self.min_delta = min_delta\n",
    "        self.patience = patience\n",
    "        self.verbose = verbose\n",
    "        self.best_score = np.inf\n",
    "        self.wait = 0\n",
    "        self.stopped_epoch = 0\n",
    "\n",
    "    def after_iteration(self, model, epoch, evals_log):\n",
    "        if not evals_log:\n",
    "            return False\n",
    "        metric_name = next(iter(evals_log['validation_0']))\n",
    "        score = evals_log['validation_0'][metric_name][-1]\n",
    "        if score < (self.best_score - self.min_delta):\n",
    "            self.best_score = score\n",
    "            self.wait = 0\n",
    "        else:\n",
    "            self.wait += 1\n",
    "            if self.wait >= self.patience:\n",
    "                if self.verbose:\n",
    "                    print(f\"\\nStopping. Best score: {self.best_score}\")\n",
    "                self.stopped_epoch = epoch\n",
    "                return True\n",
    "        return False\n",
    "\n",
    "    def get_best_score(self):\n",
    "        return self.best_score"
   ]
  },
  {
   "cell_type": "markdown",
   "metadata": {},
   "source": [
    "## Hyperparameter Tuning"
   ]
  },
  {
   "cell_type": "code",
   "execution_count": 56,
   "metadata": {},
   "outputs": [],
   "source": [
    "def objective_params(trial, X_train, X_valid, y_train, y_valid, y_close):\n",
    "    # Define the hyperparameter search space\n",
    "    params = {\n",
    "        'max_depth': trial.suggest_int('max_depth', 3, 6),\n",
    "        'learning_rate': trial.suggest_float('learning_rate', 0.01, 0.1),\n",
    "        'n_estimators': 8000,  # does not matter, think of it as max epochs, and we stop the model based on early stopping, so any extremely high number works\n",
    "        'min_child_weight': trial.suggest_int('min_child_weight', 1, 10),  # can't comment, never played with that\n",
    "        'subsample': trial.suggest_float('subsample', 0.5, 1.0),  # you dont want to sample less than 50% of your data\n",
    "        'colsample_bytree': trial.suggest_float('colsample_bytree', 0.3, 1.0),  # you dont want to sample less than 30% of your features pr boosting round\n",
    "        }\n",
    "    trade_threshold  = 0.0005\n",
    "\n",
    "    # Check duplication and skip if it's detected.\n",
    "    for t in trial.study.trials:\n",
    "        if t.state != optuna.trial.TrialState.COMPLETE:\n",
    "            continue\n",
    "\n",
    "    custom_early_stopping_instance = CustomEarlyStopping(min_delta=min_delta, patience=patience, verbose=True)\n",
    "\n",
    "    # Train the model\n",
    "    model = xgb.XGBRegressor(**params)\n",
    "    model.fit(X_train, y_train, callbacks=[custom_early_stopping_instance])\n",
    "\n",
    "    y_pred_train = model.predict(X_train)\n",
    "    y_pred_valid = model.predict(X_valid)\n",
    "\n",
    "\n",
    "    pos, pnl, daily_pnl, sharpe_is = sharpe_for_vn30f(y_pred_train, y_close[:len(y_pred_train)], trade_threshold=trade_threshold, fee_perc=0.01, periods=10)\n",
    "    _, _, _, sharpe_oos = sharpe_for_vn30f(y_pred_valid, y_close[len(y_pred_train):], trade_threshold=trade_threshold, fee_perc=0.01, periods=10)\n",
    "\n",
    "    return sharpe_oos, abs((abs(sharpe_is / sharpe_oos))-1)"
   ]
  },
  {
   "cell_type": "code",
   "execution_count": 58,
   "metadata": {},
   "outputs": [
    {
     "name": "stderr",
     "output_type": "stream",
     "text": [
      "[I 2024-06-07 09:32:39,324] A new study created in memory with name: no-name-02ba2bc0-5c9c-4778-83c7-2b7c7cb8df2b\n"
     ]
    },
    {
     "name": "stdout",
     "output_type": "stream",
     "text": [
      "A new study created in memory with name: no-name-02ba2bc0-5c9c-4778-83c7-2b7c7cb8df2b\n"
     ]
    },
    {
     "name": "stderr",
     "output_type": "stream",
     "text": [
      "c:\\Users\\Minh Truc\\AppData\\Local\\Programs\\Python\\Python310\\lib\\site-packages\\xgboost\\sklearn.py:889: UserWarning: `callbacks` in `fit` method is deprecated for better compatibility with scikit-learn, use `callbacks` in constructor or`set_params` instead.\n",
      "  warnings.warn(\n",
      "[I 2024-06-07 09:32:54,469] Trial 0 finished with values: [-0.259812833448803, 1.0] and parameters: {'max_depth': 5, 'learning_rate': 0.07336164127146513, 'min_child_weight': 7, 'subsample': 0.9802426629025335, 'colsample_bytree': 0.9411195739559144}. \n"
     ]
    },
    {
     "name": "stdout",
     "output_type": "stream",
     "text": [
      "Trial 0 finished with values: [-0.259812833448803, 1.0] and parameters: {'max_depth': 5, 'learning_rate': 0.07336164127146513, 'min_child_weight': 7, 'subsample': 0.9802426629025335, 'colsample_bytree': 0.9411195739559144}. \n"
     ]
    },
    {
     "name": "stderr",
     "output_type": "stream",
     "text": [
      "c:\\Users\\Minh Truc\\AppData\\Local\\Programs\\Python\\Python310\\lib\\site-packages\\xgboost\\sklearn.py:889: UserWarning: `callbacks` in `fit` method is deprecated for better compatibility with scikit-learn, use `callbacks` in constructor or`set_params` instead.\n",
      "  warnings.warn(\n",
      "[I 2024-06-07 09:33:13,317] Trial 1 finished with values: [-0.3134562452056347, 2.6257409942849366] and parameters: {'max_depth': 6, 'learning_rate': 0.04958955801258164, 'min_child_weight': 3, 'subsample': 0.5177405272044083, 'colsample_bytree': 0.39079216984964416}. \n"
     ]
    },
    {
     "name": "stdout",
     "output_type": "stream",
     "text": [
      "Trial 1 finished with values: [-0.3134562452056347, 2.6257409942849366] and parameters: {'max_depth': 6, 'learning_rate': 0.04958955801258164, 'min_child_weight': 3, 'subsample': 0.5177405272044083, 'colsample_bytree': 0.39079216984964416}. \n"
     ]
    },
    {
     "name": "stderr",
     "output_type": "stream",
     "text": [
      "c:\\Users\\Minh Truc\\AppData\\Local\\Programs\\Python\\Python310\\lib\\site-packages\\xgboost\\sklearn.py:889: UserWarning: `callbacks` in `fit` method is deprecated for better compatibility with scikit-learn, use `callbacks` in constructor or`set_params` instead.\n",
      "  warnings.warn(\n",
      "[I 2024-06-07 09:33:34,697] Trial 2 finished with values: [-0.18442902260891134, 0.9497519673185169] and parameters: {'max_depth': 4, 'learning_rate': 0.015360125368748615, 'min_child_weight': 6, 'subsample': 0.6873279059468027, 'colsample_bytree': 0.6004093000981798}. \n"
     ]
    },
    {
     "name": "stdout",
     "output_type": "stream",
     "text": [
      "Trial 2 finished with values: [-0.18442902260891134, 0.9497519673185169] and parameters: {'max_depth': 4, 'learning_rate': 0.015360125368748615, 'min_child_weight': 6, 'subsample': 0.6873279059468027, 'colsample_bytree': 0.6004093000981798}. \n"
     ]
    },
    {
     "name": "stderr",
     "output_type": "stream",
     "text": [
      "c:\\Users\\Minh Truc\\AppData\\Local\\Programs\\Python\\Python310\\lib\\site-packages\\xgboost\\sklearn.py:889: UserWarning: `callbacks` in `fit` method is deprecated for better compatibility with scikit-learn, use `callbacks` in constructor or`set_params` instead.\n",
      "  warnings.warn(\n",
      "[I 2024-06-07 09:33:51,612] Trial 3 finished with values: [-0.4945985222278687, 1.0] and parameters: {'max_depth': 4, 'learning_rate': 0.025155857869720404, 'min_child_weight': 5, 'subsample': 0.9103032692542212, 'colsample_bytree': 0.5196562572288319}. \n"
     ]
    },
    {
     "name": "stdout",
     "output_type": "stream",
     "text": [
      "Trial 3 finished with values: [-0.4945985222278687, 1.0] and parameters: {'max_depth': 4, 'learning_rate': 0.025155857869720404, 'min_child_weight': 5, 'subsample': 0.9103032692542212, 'colsample_bytree': 0.5196562572288319}. \n"
     ]
    },
    {
     "name": "stderr",
     "output_type": "stream",
     "text": [
      "c:\\Users\\Minh Truc\\AppData\\Local\\Programs\\Python\\Python310\\lib\\site-packages\\xgboost\\sklearn.py:889: UserWarning: `callbacks` in `fit` method is deprecated for better compatibility with scikit-learn, use `callbacks` in constructor or`set_params` instead.\n",
      "  warnings.warn(\n",
      "[I 2024-06-07 09:34:08,359] Trial 4 finished with values: [-0.5264637164851762, 0.3859731109565996] and parameters: {'max_depth': 4, 'learning_rate': 0.030351485286532434, 'min_child_weight': 1, 'subsample': 0.8830233194511475, 'colsample_bytree': 0.37692164096798497}. \n"
     ]
    },
    {
     "name": "stdout",
     "output_type": "stream",
     "text": [
      "Trial 4 finished with values: [-0.5264637164851762, 0.3859731109565996] and parameters: {'max_depth': 4, 'learning_rate': 0.030351485286532434, 'min_child_weight': 1, 'subsample': 0.8830233194511475, 'colsample_bytree': 0.37692164096798497}. \n"
     ]
    },
    {
     "name": "stderr",
     "output_type": "stream",
     "text": [
      "c:\\Users\\Minh Truc\\AppData\\Local\\Programs\\Python\\Python310\\lib\\site-packages\\xgboost\\sklearn.py:889: UserWarning: `callbacks` in `fit` method is deprecated for better compatibility with scikit-learn, use `callbacks` in constructor or`set_params` instead.\n",
      "  warnings.warn(\n",
      "[I 2024-06-07 09:34:25,674] Trial 5 finished with values: [-0.27620264146143164, 2.1069293009634693] and parameters: {'max_depth': 6, 'learning_rate': 0.07290100919233843, 'min_child_weight': 3, 'subsample': 0.7426692273457243, 'colsample_bytree': 0.3357776004154457}. \n"
     ]
    },
    {
     "name": "stdout",
     "output_type": "stream",
     "text": [
      "Trial 5 finished with values: [-0.27620264146143164, 2.1069293009634693] and parameters: {'max_depth': 6, 'learning_rate': 0.07290100919233843, 'min_child_weight': 3, 'subsample': 0.7426692273457243, 'colsample_bytree': 0.3357776004154457}. \n"
     ]
    },
    {
     "name": "stderr",
     "output_type": "stream",
     "text": [
      "c:\\Users\\Minh Truc\\AppData\\Local\\Programs\\Python\\Python310\\lib\\site-packages\\xgboost\\sklearn.py:889: UserWarning: `callbacks` in `fit` method is deprecated for better compatibility with scikit-learn, use `callbacks` in constructor or`set_params` instead.\n",
      "  warnings.warn(\n",
      "[I 2024-06-07 09:34:41,888] Trial 6 finished with values: [0.04269098844608804, 1.0] and parameters: {'max_depth': 3, 'learning_rate': 0.02753165571231573, 'min_child_weight': 10, 'subsample': 0.9976304903571449, 'colsample_bytree': 0.6548149917519712}. \n"
     ]
    },
    {
     "name": "stdout",
     "output_type": "stream",
     "text": [
      "Trial 6 finished with values: [0.04269098844608804, 1.0] and parameters: {'max_depth': 3, 'learning_rate': 0.02753165571231573, 'min_child_weight': 10, 'subsample': 0.9976304903571449, 'colsample_bytree': 0.6548149917519712}. \n"
     ]
    },
    {
     "name": "stderr",
     "output_type": "stream",
     "text": [
      "c:\\Users\\Minh Truc\\AppData\\Local\\Programs\\Python\\Python310\\lib\\site-packages\\xgboost\\sklearn.py:889: UserWarning: `callbacks` in `fit` method is deprecated for better compatibility with scikit-learn, use `callbacks` in constructor or`set_params` instead.\n",
      "  warnings.warn(\n",
      "[I 2024-06-07 09:35:01,186] Trial 7 finished with values: [-0.4829540475689606, 1.2406153443323826] and parameters: {'max_depth': 6, 'learning_rate': 0.0962262957302119, 'min_child_weight': 10, 'subsample': 0.5819563977689359, 'colsample_bytree': 0.7841343989580917}. \n"
     ]
    },
    {
     "name": "stdout",
     "output_type": "stream",
     "text": [
      "Trial 7 finished with values: [-0.4829540475689606, 1.2406153443323826] and parameters: {'max_depth': 6, 'learning_rate': 0.0962262957302119, 'min_child_weight': 10, 'subsample': 0.5819563977689359, 'colsample_bytree': 0.7841343989580917}. \n"
     ]
    },
    {
     "name": "stderr",
     "output_type": "stream",
     "text": [
      "c:\\Users\\Minh Truc\\AppData\\Local\\Programs\\Python\\Python310\\lib\\site-packages\\xgboost\\sklearn.py:889: UserWarning: `callbacks` in `fit` method is deprecated for better compatibility with scikit-learn, use `callbacks` in constructor or`set_params` instead.\n",
      "  warnings.warn(\n",
      "[I 2024-06-07 09:35:17,549] Trial 8 finished with values: [-0.10573646953027196, 1.1393787032248301] and parameters: {'max_depth': 6, 'learning_rate': 0.09015221448332722, 'min_child_weight': 9, 'subsample': 0.9401007561015231, 'colsample_bytree': 0.7843607959233401}. \n"
     ]
    },
    {
     "name": "stdout",
     "output_type": "stream",
     "text": [
      "Trial 8 finished with values: [-0.10573646953027196, 1.1393787032248301] and parameters: {'max_depth': 6, 'learning_rate': 0.09015221448332722, 'min_child_weight': 9, 'subsample': 0.9401007561015231, 'colsample_bytree': 0.7843607959233401}. \n"
     ]
    },
    {
     "name": "stderr",
     "output_type": "stream",
     "text": [
      "c:\\Users\\Minh Truc\\AppData\\Local\\Programs\\Python\\Python310\\lib\\site-packages\\xgboost\\sklearn.py:889: UserWarning: `callbacks` in `fit` method is deprecated for better compatibility with scikit-learn, use `callbacks` in constructor or`set_params` instead.\n",
      "  warnings.warn(\n",
      "[I 2024-06-07 09:35:37,917] Trial 9 finished with values: [-0.4241992675074059, 0.3440656856025186] and parameters: {'max_depth': 3, 'learning_rate': 0.04728764718566987, 'min_child_weight': 6, 'subsample': 0.6552337846834118, 'colsample_bytree': 0.42237004483747254}. \n"
     ]
    },
    {
     "name": "stdout",
     "output_type": "stream",
     "text": [
      "Trial 9 finished with values: [-0.4241992675074059, 0.3440656856025186] and parameters: {'max_depth': 3, 'learning_rate': 0.04728764718566987, 'min_child_weight': 6, 'subsample': 0.6552337846834118, 'colsample_bytree': 0.42237004483747254}. \n"
     ]
    },
    {
     "name": "stderr",
     "output_type": "stream",
     "text": [
      "[I 2024-06-07 09:35:38,314] A new study created in memory with name: no-name-79a2073d-c146-4c70-bbec-bcba8bfc5925\n"
     ]
    },
    {
     "name": "stdout",
     "output_type": "stream",
     "text": [
      "A new study created in memory with name: no-name-79a2073d-c146-4c70-bbec-bcba8bfc5925\n"
     ]
    },
    {
     "name": "stderr",
     "output_type": "stream",
     "text": [
      "c:\\Users\\Minh Truc\\AppData\\Local\\Programs\\Python\\Python310\\lib\\site-packages\\xgboost\\sklearn.py:889: UserWarning: `callbacks` in `fit` method is deprecated for better compatibility with scikit-learn, use `callbacks` in constructor or`set_params` instead.\n",
      "  warnings.warn(\n",
      "[I 2024-06-07 09:35:57,329] Trial 0 finished with values: [-0.5307024488341932, 0.5476259097470333] and parameters: {'max_depth': 3, 'learning_rate': 0.039750565477611174, 'min_child_weight': 3, 'subsample': 0.7255244726900154, 'colsample_bytree': 0.5936718281935485}. \n"
     ]
    },
    {
     "name": "stdout",
     "output_type": "stream",
     "text": [
      "Trial 0 finished with values: [-0.5307024488341932, 0.5476259097470333] and parameters: {'max_depth': 3, 'learning_rate': 0.039750565477611174, 'min_child_weight': 3, 'subsample': 0.7255244726900154, 'colsample_bytree': 0.5936718281935485}. \n"
     ]
    },
    {
     "name": "stderr",
     "output_type": "stream",
     "text": [
      "c:\\Users\\Minh Truc\\AppData\\Local\\Programs\\Python\\Python310\\lib\\site-packages\\xgboost\\sklearn.py:889: UserWarning: `callbacks` in `fit` method is deprecated for better compatibility with scikit-learn, use `callbacks` in constructor or`set_params` instead.\n",
      "  warnings.warn(\n",
      "[I 2024-06-07 09:36:15,676] Trial 1 finished with values: [-0.06669219502380463, 15.566252855224402] and parameters: {'max_depth': 6, 'learning_rate': 0.08627666533861131, 'min_child_weight': 2, 'subsample': 0.5931539167336009, 'colsample_bytree': 0.5886675496287488}. \n"
     ]
    },
    {
     "name": "stdout",
     "output_type": "stream",
     "text": [
      "Trial 1 finished with values: [-0.06669219502380463, 15.566252855224402] and parameters: {'max_depth': 6, 'learning_rate': 0.08627666533861131, 'min_child_weight': 2, 'subsample': 0.5931539167336009, 'colsample_bytree': 0.5886675496287488}. \n"
     ]
    },
    {
     "name": "stderr",
     "output_type": "stream",
     "text": [
      "c:\\Users\\Minh Truc\\AppData\\Local\\Programs\\Python\\Python310\\lib\\site-packages\\xgboost\\sklearn.py:889: UserWarning: `callbacks` in `fit` method is deprecated for better compatibility with scikit-learn, use `callbacks` in constructor or`set_params` instead.\n",
      "  warnings.warn(\n",
      "[I 2024-06-07 09:36:34,789] Trial 2 finished with values: [0.22391920251812358, 1.8055216347315084] and parameters: {'max_depth': 5, 'learning_rate': 0.054003276534395406, 'min_child_weight': 10, 'subsample': 0.6593470503083012, 'colsample_bytree': 0.5954243900851823}. \n"
     ]
    },
    {
     "name": "stdout",
     "output_type": "stream",
     "text": [
      "Trial 2 finished with values: [0.22391920251812358, 1.8055216347315084] and parameters: {'max_depth': 5, 'learning_rate': 0.054003276534395406, 'min_child_weight': 10, 'subsample': 0.6593470503083012, 'colsample_bytree': 0.5954243900851823}. \n"
     ]
    },
    {
     "name": "stderr",
     "output_type": "stream",
     "text": [
      "c:\\Users\\Minh Truc\\AppData\\Local\\Programs\\Python\\Python310\\lib\\site-packages\\xgboost\\sklearn.py:889: UserWarning: `callbacks` in `fit` method is deprecated for better compatibility with scikit-learn, use `callbacks` in constructor or`set_params` instead.\n",
      "  warnings.warn(\n",
      "[I 2024-06-07 09:36:56,171] Trial 3 finished with values: [0.06783029005590581, 15.814321564718522] and parameters: {'max_depth': 6, 'learning_rate': 0.05416615848907427, 'min_child_weight': 5, 'subsample': 0.5393901464246379, 'colsample_bytree': 0.8667747315857135}. \n"
     ]
    },
    {
     "name": "stdout",
     "output_type": "stream",
     "text": [
      "Trial 3 finished with values: [0.06783029005590581, 15.814321564718522] and parameters: {'max_depth': 6, 'learning_rate': 0.05416615848907427, 'min_child_weight': 5, 'subsample': 0.5393901464246379, 'colsample_bytree': 0.8667747315857135}. \n"
     ]
    },
    {
     "name": "stderr",
     "output_type": "stream",
     "text": [
      "c:\\Users\\Minh Truc\\AppData\\Local\\Programs\\Python\\Python310\\lib\\site-packages\\xgboost\\sklearn.py:889: UserWarning: `callbacks` in `fit` method is deprecated for better compatibility with scikit-learn, use `callbacks` in constructor or`set_params` instead.\n",
      "  warnings.warn(\n",
      "[I 2024-06-07 09:37:13,369] Trial 4 finished with values: [0.1910071768227336, 0.9387680696826972] and parameters: {'max_depth': 4, 'learning_rate': 0.0810772727042139, 'min_child_weight': 6, 'subsample': 0.8174292045948884, 'colsample_bytree': 0.5144416524765829}. \n"
     ]
    },
    {
     "name": "stdout",
     "output_type": "stream",
     "text": [
      "Trial 4 finished with values: [0.1910071768227336, 0.9387680696826972] and parameters: {'max_depth': 4, 'learning_rate': 0.0810772727042139, 'min_child_weight': 6, 'subsample': 0.8174292045948884, 'colsample_bytree': 0.5144416524765829}. \n"
     ]
    },
    {
     "name": "stderr",
     "output_type": "stream",
     "text": [
      "c:\\Users\\Minh Truc\\AppData\\Local\\Programs\\Python\\Python310\\lib\\site-packages\\xgboost\\sklearn.py:889: UserWarning: `callbacks` in `fit` method is deprecated for better compatibility with scikit-learn, use `callbacks` in constructor or`set_params` instead.\n",
      "  warnings.warn(\n",
      "[I 2024-06-07 09:37:33,733] Trial 5 finished with values: [0.052775204945360234, 16.167300907539534] and parameters: {'max_depth': 5, 'learning_rate': 0.09487288952948664, 'min_child_weight': 10, 'subsample': 0.572828567457754, 'colsample_bytree': 0.5545055560239563}. \n"
     ]
    },
    {
     "name": "stdout",
     "output_type": "stream",
     "text": [
      "Trial 5 finished with values: [0.052775204945360234, 16.167300907539534] and parameters: {'max_depth': 5, 'learning_rate': 0.09487288952948664, 'min_child_weight': 10, 'subsample': 0.572828567457754, 'colsample_bytree': 0.5545055560239563}. \n"
     ]
    },
    {
     "name": "stderr",
     "output_type": "stream",
     "text": [
      "c:\\Users\\Minh Truc\\AppData\\Local\\Programs\\Python\\Python310\\lib\\site-packages\\xgboost\\sklearn.py:889: UserWarning: `callbacks` in `fit` method is deprecated for better compatibility with scikit-learn, use `callbacks` in constructor or`set_params` instead.\n",
      "  warnings.warn(\n",
      "[I 2024-06-07 09:37:56,114] Trial 6 finished with values: [-0.03761746482139028, 13.414365744241774] and parameters: {'max_depth': 3, 'learning_rate': 0.07790037976933963, 'min_child_weight': 5, 'subsample': 0.5038991560672934, 'colsample_bytree': 0.7293415003266154}. \n"
     ]
    },
    {
     "name": "stdout",
     "output_type": "stream",
     "text": [
      "Trial 6 finished with values: [-0.03761746482139028, 13.414365744241774] and parameters: {'max_depth': 3, 'learning_rate': 0.07790037976933963, 'min_child_weight': 5, 'subsample': 0.5038991560672934, 'colsample_bytree': 0.7293415003266154}. \n"
     ]
    },
    {
     "name": "stderr",
     "output_type": "stream",
     "text": [
      "c:\\Users\\Minh Truc\\AppData\\Local\\Programs\\Python\\Python310\\lib\\site-packages\\xgboost\\sklearn.py:889: UserWarning: `callbacks` in `fit` method is deprecated for better compatibility with scikit-learn, use `callbacks` in constructor or`set_params` instead.\n",
      "  warnings.warn(\n",
      "C:\\Users\\Minh Truc\\AppData\\Local\\Temp\\ipykernel_13616\\3147659466.py:31: RuntimeWarning: divide by zero encountered in scalar divide\n",
      "  return sharpe_oos, abs((abs(sharpe_is / sharpe_oos))-1)\n",
      "[I 2024-06-07 09:38:12,245] Trial 7 finished with values: [0.0, inf] and parameters: {'max_depth': 6, 'learning_rate': 0.05831590384317032, 'min_child_weight': 8, 'subsample': 0.9637154565643936, 'colsample_bytree': 0.586698618429921}. \n"
     ]
    },
    {
     "name": "stdout",
     "output_type": "stream",
     "text": [
      "Trial 7 finished with values: [0.0, inf] and parameters: {'max_depth': 6, 'learning_rate': 0.05831590384317032, 'min_child_weight': 8, 'subsample': 0.9637154565643936, 'colsample_bytree': 0.586698618429921}. \n"
     ]
    },
    {
     "name": "stderr",
     "output_type": "stream",
     "text": [
      "c:\\Users\\Minh Truc\\AppData\\Local\\Programs\\Python\\Python310\\lib\\site-packages\\xgboost\\sklearn.py:889: UserWarning: `callbacks` in `fit` method is deprecated for better compatibility with scikit-learn, use `callbacks` in constructor or`set_params` instead.\n",
      "  warnings.warn(\n",
      "[I 2024-06-07 09:38:32,425] Trial 8 finished with values: [0.4811799606075941, 1.365375869920689] and parameters: {'max_depth': 5, 'learning_rate': 0.07119529655863892, 'min_child_weight': 5, 'subsample': 0.5458880424202555, 'colsample_bytree': 0.9738076161419396}. \n"
     ]
    },
    {
     "name": "stdout",
     "output_type": "stream",
     "text": [
      "Trial 8 finished with values: [0.4811799606075941, 1.365375869920689] and parameters: {'max_depth': 5, 'learning_rate': 0.07119529655863892, 'min_child_weight': 5, 'subsample': 0.5458880424202555, 'colsample_bytree': 0.9738076161419396}. \n"
     ]
    },
    {
     "name": "stderr",
     "output_type": "stream",
     "text": [
      "c:\\Users\\Minh Truc\\AppData\\Local\\Programs\\Python\\Python310\\lib\\site-packages\\xgboost\\sklearn.py:889: UserWarning: `callbacks` in `fit` method is deprecated for better compatibility with scikit-learn, use `callbacks` in constructor or`set_params` instead.\n",
      "  warnings.warn(\n",
      "[I 2024-06-07 09:38:49,409] Trial 9 finished with values: [0.02777124594951746, 10.451008312580386] and parameters: {'max_depth': 4, 'learning_rate': 0.031189801172781494, 'min_child_weight': 2, 'subsample': 0.8463354774559123, 'colsample_bytree': 0.44610289622637045}. \n"
     ]
    },
    {
     "name": "stdout",
     "output_type": "stream",
     "text": [
      "Trial 9 finished with values: [0.02777124594951746, 10.451008312580386] and parameters: {'max_depth': 4, 'learning_rate': 0.031189801172781494, 'min_child_weight': 2, 'subsample': 0.8463354774559123, 'colsample_bytree': 0.44610289622637045}. \n"
     ]
    }
   ],
   "source": [
    "best_params_list = []\n",
    "for idx, data_item in enumerate(selected_columns_cluster):\n",
    "    train_cols, _ = split_data(data_item)\n",
    "    optuna_data = scale_data(train_cols)\n",
    "\n",
    "    X_train, X_valid, y_train, y_valid = train_test_split(optuna_data,\n",
    "                                                            train_data['Return'],\n",
    "                                                            test_size=0.5,\n",
    "                                                            shuffle=False)\n",
    "    study = optuna.create_study(directions=['maximize', 'minimize'])\n",
    "\n",
    "    unique_trials = 10\n",
    "    while unique_trials > len(set(str(t.params) for t in study.trials)):\n",
    "        study.optimize(lambda trial: objective_params(trial, X_train, X_valid, y_train, y_valid, train_data['Close']), n_trials=1)\n",
    "\n",
    "    # Retrieve all trials\n",
    "    trials = study.trials\n",
    "\n",
    "    # Sort trials based on objective values\n",
    "    trials.sort(key=lambda trial: trial.values, reverse=True)\n",
    "\n",
    "    # Select top 1 trials\n",
    "    params = trials[0].params\n",
    "    best_params_list.append(params)\n",
    "\n",
    "    model = xgb.XGBRegressor(**params)\n",
    "    model.fit(X_train, y_train)\n",
    "\n",
    "    model.save_model(f'best_in_cluster_{idx}.json')"
   ]
  },
  {
   "cell_type": "code",
   "execution_count": 62,
   "metadata": {},
   "outputs": [],
   "source": [
    "# trials = study.trials\n",
    "# trials.sort(key=lambda trial: trial.values, reverse=True)\n",
    "# study.trials_dataframe().sort_values('values_0', ascending=False)"
   ]
  },
  {
   "cell_type": "markdown",
   "metadata": {},
   "source": [
    "Test on hold_out"
   ]
  },
  {
   "cell_type": "code",
   "execution_count": 63,
   "metadata": {},
   "outputs": [],
   "source": [
    "train_data, hold_out = split_data(data)"
   ]
  },
  {
   "cell_type": "code",
   "execution_count": 64,
   "metadata": {},
   "outputs": [
    {
     "data": {
      "text/plain": [
       "[0.0, -0.14814245450168648]"
      ]
     },
     "execution_count": 64,
     "metadata": {},
     "output_type": "execute_result"
    }
   ],
   "source": [
    "sharpe_list = []\n",
    "trade_threshold  = 0.0005\n",
    "\n",
    "for idx, data_item in enumerate(selected_columns_cluster):\n",
    "\n",
    "    _, hold_out_cols = split_data(data_item)\n",
    "\n",
    "    xbg_reg = xgb.XGBRegressor()\n",
    "    # Create and train model\n",
    "    xbg_reg.load_model(f\"best_in_cluster_{idx}.json\")\n",
    "\n",
    "    # Make predictions\n",
    "    y_hold_out = xbg_reg.predict(hold_out_cols)\n",
    "    pos, pnl, daily, sharpe = sharpe_for_vn30f(y_hold_out, hold_out['Return'], trade_threshold=trade_threshold, fee_perc=0.01, periods=10)\n",
    "\n",
    "    sharpe_list.append(sharpe)\n",
    "\n",
    "sharpe_list"
   ]
  },
  {
   "cell_type": "code",
   "execution_count": 68,
   "metadata": {},
   "outputs": [],
   "source": [
    "def return_result_df(hold_out, y_hold_out, data, train_data, pos, pnl):\n",
    "    result = pd.DataFrame()\n",
    "    result['Close_Holdout'] = hold_out['Close']\n",
    "    result['Ground_value_Holdout'] = hold_out['Return']\n",
    "    result['Predict_diff_Holdout'] = pd.Series(y_hold_out, index=data.index[len(train_data):len(data)])\n",
    "    result['Position_predict_Holdout'] = pd.Series(pos, index=data.index[len(train_data):len(data)])\n",
    "    result['PNL_Holdout'] = pd.Series(pnl)\n",
    "    return result"
   ]
  },
  {
   "cell_type": "code",
   "execution_count": 69,
   "metadata": {},
   "outputs": [
    {
     "name": "stdout",
     "output_type": "stream",
     "text": [
      "Pnl ratio for cluster 0: 215209    NaN\n",
      "215210    NaN\n",
      "215211    NaN\n",
      "215212    NaN\n",
      "215213    NaN\n",
      "         ... \n",
      "322807    0.0\n",
      "322808    0.0\n",
      "322809    0.0\n",
      "322810    0.0\n",
      "322811    0.0\n",
      "Length: 107603, dtype: float64\n",
      "Pnl ratio for cluster 1: 215209         NaN\n",
      "215210         NaN\n",
      "215211         NaN\n",
      "215212         NaN\n",
      "215213         NaN\n",
      "            ...   \n",
      "322807   -0.013065\n",
      "322808   -0.013065\n",
      "322809   -0.013065\n",
      "322810   -0.013065\n",
      "322811   -0.013065\n",
      "Length: 107603, dtype: float64\n"
     ]
    },
    {
     "data": {
      "image/png": "[encoded data removed]",
      "text/plain": [
       "<Figure size 1000x1200 with 2 Axes>"
      ]
     },
     "metadata": {},
     "output_type": "display_data"
    }
   ],
   "source": [
    "pnl_data = []\n",
    "sharpe_list = []\n",
    "result = None\n",
    "trade_threshold  = 0.0005\n",
    "\n",
    "# Create a single figure and set of subplots\n",
    "fig, axes = plt.subplots(len(selected_columns_cluster), figsize=(10, 12))\n",
    "\n",
    "for idx, data_item in enumerate(selected_columns_cluster):\n",
    "    _, hold_out_cols = split_data(data_item)\n",
    "\n",
    "    # Create and train model\n",
    "    model.load_model(f\"best_in_cluster_{idx}.json\")\n",
    "\n",
    "    # Make predictions\n",
    "    y_hold_out = model.predict(hold_out_cols)\n",
    "    pos, pnl, daily, sharpe = sharpe_for_vn30f(y_hold_out, hold_out['Return'], trade_threshold=trade_threshold, fee_perc=0.01, periods=10)\n",
    "\n",
    "    print(f\"Pnl ratio for cluster {idx}: {pnl}\")\n",
    "    # Append PnL data to the list\n",
    "    pnl_data.append(pnl)\n",
    "    result = return_result_df(hold_out, y_hold_out, data, train_data, pos, pnl)\n",
    "    sharpe_list.append(sharpe)\n",
    "\n",
    "    # Plot PnL for each cluster\n",
    "    if len(selected_columns_cluster) == 1:\n",
    "        ax = axes\n",
    "    else:\n",
    "        ax = axes[idx]\n",
    "\n",
    "    ax.plot(pnl, label=f'Cluster {idx}')\n",
    "    ax.set_title(f'PnL for Cluster {idx}')\n",
    "    ax.set_xlabel('Date')\n",
    "    ax.set_ylabel('PnL')\n",
    "    ax.legend()\n",
    "    ax.grid(True)\n",
    "\n",
    "# Adjust layout\n",
    "plt.tight_layout()\n",
    "plt.show()"
   ]
  },
  {
   "cell_type": "code",
   "execution_count": 70,
   "metadata": {},
   "outputs": [
    {
     "name": "stdout",
     "output_type": "stream",
     "text": [
      "['volume_obv volume_adi others_dr trend_aroon_down momentum_pvo_hist volatility_bbw trend_psar_down trend_dpo volume_cmf trend_adx', 'volume_sma_em volatility_bbw volume_vpt trend_psar_down_indicator trend_mass_index trend_psar_up volume_cmf trend_aroon_down trend_psar_up_indicator volume_fi']\n"
     ]
    }
   ],
   "source": [
    "#Top 10 feature into list\n",
    "feature=[]\n",
    "for i in top_10_features_per_cluster:\n",
    "    listToStr = ' '.join([str(elem) for elem in i])\n",
    "    feature.append(listToStr)\n",
    "print(feature)"
   ]
  },
  {
   "cell_type": "code",
   "execution_count": 72,
   "metadata": {},
   "outputs": [],
   "source": [
    "name=[]\n",
    "for i in range(len(selected_columns_cluster)):\n",
    "  name.append( 'Cluster '+ str(i))"
   ]
  },
  {
   "cell_type": "code",
   "execution_count": 73,
   "metadata": {},
   "outputs": [
    {
     "data": {
      "text/html": [
       "<div>\n",
       "<style scoped>\n",
       "    .dataframe tbody tr th:only-of-type {\n",
       "        vertical-align: middle;\n",
       "    }\n",
       "\n",
       "    .dataframe tbody tr th {\n",
       "        vertical-align: top;\n",
       "    }\n",
       "\n",
       "    .dataframe thead th {\n",
       "        text-align: right;\n",
       "    }\n",
       "</style>\n",
       "<table border=\"1\" class=\"dataframe\">\n",
       "  <thead>\n",
       "    <tr style=\"text-align: right;\">\n",
       "      <th></th>\n",
       "      <th>Top 10 Feature</th>\n",
       "      <th>Best params</th>\n",
       "      <th>Best sharpe</th>\n",
       "    </tr>\n",
       "  </thead>\n",
       "  <tbody>\n",
       "    <tr>\n",
       "      <th>Cluster 0</th>\n",
       "      <td>volume_obv volume_adi others_dr trend_aroon_do...</td>\n",
       "      <td>{'max_depth': 3, 'learning_rate': 0.0275316557...</td>\n",
       "      <td>0.000000</td>\n",
       "    </tr>\n",
       "    <tr>\n",
       "      <th>Cluster 1</th>\n",
       "      <td>volume_sma_em volatility_bbw volume_vpt trend_...</td>\n",
       "      <td>{'max_depth': 5, 'learning_rate': 0.0711952965...</td>\n",
       "      <td>-0.148142</td>\n",
       "    </tr>\n",
       "  </tbody>\n",
       "</table>\n",
       "</div>"
      ],
      "text/plain": [
       "                                              Top 10 Feature  \\\n",
       "Cluster 0  volume_obv volume_adi others_dr trend_aroon_do...   \n",
       "Cluster 1  volume_sma_em volatility_bbw volume_vpt trend_...   \n",
       "\n",
       "                                                 Best params  Best sharpe  \n",
       "Cluster 0  {'max_depth': 3, 'learning_rate': 0.0275316557...     0.000000  \n",
       "Cluster 1  {'max_depth': 5, 'learning_rate': 0.0711952965...    -0.148142  "
      ]
     },
     "execution_count": 73,
     "metadata": {},
     "output_type": "execute_result"
    }
   ],
   "source": [
    "dict = {'Top 10 Feature' : feature, 'Best params': best_params_list, 'Best sharpe':sharpe_list}\n",
    "df_result = pd.DataFrame(dict, index=name)\n",
    "df_result"
   ]
  },
  {
   "cell_type": "code",
   "execution_count": 74,
   "metadata": {},
   "outputs": [
    {
     "data": {
      "text/html": [
       "<div>\n",
       "<style scoped>\n",
       "    .dataframe tbody tr th:only-of-type {\n",
       "        vertical-align: middle;\n",
       "    }\n",
       "\n",
       "    .dataframe tbody tr th {\n",
       "        vertical-align: top;\n",
       "    }\n",
       "\n",
       "    .dataframe thead th {\n",
       "        text-align: right;\n",
       "    }\n",
       "</style>\n",
       "<table border=\"1\" class=\"dataframe\">\n",
       "  <thead>\n",
       "    <tr style=\"text-align: right;\">\n",
       "      <th></th>\n",
       "      <th>Cluster 0</th>\n",
       "      <th>Cluster 1</th>\n",
       "    </tr>\n",
       "  </thead>\n",
       "  <tbody>\n",
       "    <tr>\n",
       "      <th>215209</th>\n",
       "      <td>NaN</td>\n",
       "      <td>NaN</td>\n",
       "    </tr>\n",
       "    <tr>\n",
       "      <th>215210</th>\n",
       "      <td>NaN</td>\n",
       "      <td>NaN</td>\n",
       "    </tr>\n",
       "    <tr>\n",
       "      <th>215211</th>\n",
       "      <td>NaN</td>\n",
       "      <td>NaN</td>\n",
       "    </tr>\n",
       "    <tr>\n",
       "      <th>215212</th>\n",
       "      <td>NaN</td>\n",
       "      <td>NaN</td>\n",
       "    </tr>\n",
       "    <tr>\n",
       "      <th>215213</th>\n",
       "      <td>NaN</td>\n",
       "      <td>NaN</td>\n",
       "    </tr>\n",
       "    <tr>\n",
       "      <th>...</th>\n",
       "      <td>...</td>\n",
       "      <td>...</td>\n",
       "    </tr>\n",
       "    <tr>\n",
       "      <th>322807</th>\n",
       "      <td>0.0</td>\n",
       "      <td>-0.013065</td>\n",
       "    </tr>\n",
       "    <tr>\n",
       "      <th>322808</th>\n",
       "      <td>0.0</td>\n",
       "      <td>-0.013065</td>\n",
       "    </tr>\n",
       "    <tr>\n",
       "      <th>322809</th>\n",
       "      <td>0.0</td>\n",
       "      <td>-0.013065</td>\n",
       "    </tr>\n",
       "    <tr>\n",
       "      <th>322810</th>\n",
       "      <td>0.0</td>\n",
       "      <td>-0.013065</td>\n",
       "    </tr>\n",
       "    <tr>\n",
       "      <th>322811</th>\n",
       "      <td>0.0</td>\n",
       "      <td>-0.013065</td>\n",
       "    </tr>\n",
       "  </tbody>\n",
       "</table>\n",
       "<p>107603 rows × 2 columns</p>\n",
       "</div>"
      ],
      "text/plain": [
       "        Cluster 0  Cluster 1\n",
       "215209        NaN        NaN\n",
       "215210        NaN        NaN\n",
       "215211        NaN        NaN\n",
       "215212        NaN        NaN\n",
       "215213        NaN        NaN\n",
       "...           ...        ...\n",
       "322807        0.0  -0.013065\n",
       "322808        0.0  -0.013065\n",
       "322809        0.0  -0.013065\n",
       "322810        0.0  -0.013065\n",
       "322811        0.0  -0.013065\n",
       "\n",
       "[107603 rows x 2 columns]"
      ]
     },
     "execution_count": 74,
     "metadata": {},
     "output_type": "execute_result"
    }
   ],
   "source": [
    "#DataFrame of Pnl hold out\n",
    "df_pnl = pd.DataFrame()\n",
    "for i in range(len(selected_columns_cluster)):\n",
    "  df_pnl[name[i]]=pnl_data[i]\n",
    "df_pnl"
   ]
  },
  {
   "cell_type": "code",
   "execution_count": null,
   "metadata": {},
   "outputs": [],
   "source": []
  }
 ],
 "metadata": {
  "kernelspec": {
   "display_name": "Python 3",
   "language": "python",
   "name": "python3"
  },
  "language_info": {
   "codemirror_mode": {
    "name": "ipython",
    "version": 3
   },
   "file_extension": ".py",
   "mimetype": "text/x-python",
   "name": "python",
   "nbconvert_exporter": "python",
   "pygments_lexer": "ipython3",
   "version": "3.10.1"
  }
 },
 "nbformat": 4,
 "nbformat_minor": 2
}
