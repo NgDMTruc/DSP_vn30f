{
  "cells": [
    {
      "cell_type": "markdown",
      "metadata": {
        "id": "EhK1f5uMqm_4"
      },
      "source": [
        "## Install dependencies"
      ]
    },
    {
      "cell_type": "code",
      "source": [
        "!pip install optuna joblib xgboost ta"
      ],
      "metadata": {
        "id": "9y1X1vpKq88O",
        "colab": {
          "base_uri": "https://localhost:8080/"
        },
        "outputId": "0c71d0b2-fd21-4b41-c4fd-b6f83d6009b7"
      },
      "execution_count": 22,
      "outputs": [
        {
          "output_type": "stream",
          "name": "stdout",
          "text": [
            "Requirement already satisfied: optuna in /usr/local/lib/python3.10/dist-packages (3.6.1)\n",
            "Requirement already satisfied: joblib in /usr/local/lib/python3.10/dist-packages (1.4.2)\n",
            "Requirement already satisfied: xgboost in /usr/local/lib/python3.10/dist-packages (2.0.3)\n",
            "Requirement already satisfied: ta in /usr/local/lib/python3.10/dist-packages (0.11.0)\n",
            "Requirement already satisfied: alembic>=1.5.0 in /usr/local/lib/python3.10/dist-packages (from optuna) (1.13.1)\n",
            "Requirement already satisfied: colorlog in /usr/local/lib/python3.10/dist-packages (from optuna) (6.8.2)\n",
            "Requirement already satisfied: numpy in /usr/local/lib/python3.10/dist-packages (from optuna) (1.25.2)\n",
            "Requirement already satisfied: packaging>=20.0 in /usr/local/lib/python3.10/dist-packages (from optuna) (24.0)\n",
            "Requirement already satisfied: sqlalchemy>=1.3.0 in /usr/local/lib/python3.10/dist-packages (from optuna) (2.0.30)\n",
            "Requirement already satisfied: tqdm in /usr/local/lib/python3.10/dist-packages (from optuna) (4.66.4)\n",
            "Requirement already satisfied: PyYAML in /usr/local/lib/python3.10/dist-packages (from optuna) (6.0.1)\n",
            "Requirement already satisfied: scipy in /usr/local/lib/python3.10/dist-packages (from xgboost) (1.11.4)\n",
            "Requirement already satisfied: pandas in /usr/local/lib/python3.10/dist-packages (from ta) (2.0.3)\n",
            "Requirement already satisfied: Mako in /usr/local/lib/python3.10/dist-packages (from alembic>=1.5.0->optuna) (1.3.5)\n",
            "Requirement already satisfied: typing-extensions>=4 in /usr/local/lib/python3.10/dist-packages (from alembic>=1.5.0->optuna) (4.12.1)\n",
            "Requirement already satisfied: greenlet!=0.4.17 in /usr/local/lib/python3.10/dist-packages (from sqlalchemy>=1.3.0->optuna) (3.0.3)\n",
            "Requirement already satisfied: python-dateutil>=2.8.2 in /usr/local/lib/python3.10/dist-packages (from pandas->ta) (2.8.2)\n",
            "Requirement already satisfied: pytz>=2020.1 in /usr/local/lib/python3.10/dist-packages (from pandas->ta) (2023.4)\n",
            "Requirement already satisfied: tzdata>=2022.1 in /usr/local/lib/python3.10/dist-packages (from pandas->ta) (2024.1)\n",
            "Requirement already satisfied: six>=1.5 in /usr/local/lib/python3.10/dist-packages (from python-dateutil>=2.8.2->pandas->ta) (1.16.0)\n",
            "Requirement already satisfied: MarkupSafe>=0.9.2 in /usr/local/lib/python3.10/dist-packages (from Mako->alembic>=1.5.0->optuna) (2.1.5)\n"
          ]
        }
      ]
    },
    {
      "cell_type": "code",
      "execution_count": 23,
      "metadata": {
        "id": "-6lzb3uQqm_5"
      },
      "outputs": [],
      "source": [
        "from datetime import datetime, timedelta, timezone\n",
        "import pandas as pd\n",
        "import numpy as np\n",
        "import requests\n",
        "import os\n",
        "import logging\n",
        "import sys\n",
        "import optuna\n",
        "import joblib\n",
        "import xgboost as xgb"
      ]
    },
    {
      "cell_type": "code",
      "execution_count": 24,
      "metadata": {
        "id": "BOUmyN92qm_6"
      },
      "outputs": [],
      "source": [
        "from sklearn.model_selection import train_test_split\n",
        "from sklearn.preprocessing import StandardScaler\n",
        "from datetime import datetime, timedelta\n",
        "from ta import add_all_ta_features"
      ]
    },
    {
      "cell_type": "code",
      "execution_count": 25,
      "metadata": {
        "id": "8WDgqNpBqm_7"
      },
      "outputs": [],
      "source": [
        "import matplotlib.pyplot as plt\n",
        "import matplotlib"
      ]
    },
    {
      "cell_type": "markdown",
      "metadata": {
        "id": "1AoNRGHXqm_7"
      },
      "source": [
        "## Variables"
      ]
    },
    {
      "cell_type": "code",
      "execution_count": 26,
      "metadata": {
        "id": "U_IayMGGqm_7"
      },
      "outputs": [],
      "source": [
        "current_storage = os.path.join(\"d:\", \"data\")\n",
        "vn30f_storage = os.path.join(current_storage, 'vn30f')"
      ]
    },
    {
      "cell_type": "code",
      "execution_count": 27,
      "metadata": {
        "id": "xEfE2-HKqm_7"
      },
      "outputs": [],
      "source": [
        "start_time = 0\n",
        "now_time = 9999999999\n",
        "symbol = 'VN30F1M'\n",
        "rolling_window = 1 # Số phút muốn dự đoán tiếp theo"
      ]
    },
    {
      "cell_type": "code",
      "execution_count": 28,
      "metadata": {
        "id": "RpHTaKY6qm_9"
      },
      "outputs": [],
      "source": [
        "# Add stream handler of stdout to show the messages\n",
        "optuna.logging.get_logger(\"optuna\").addHandler(logging.StreamHandler(sys.stdout))\n",
        "study_name = \"btc1-study\"  # Unique identifier of the study.\n",
        "storage_name = \"sqlite:///{}.db\".format(study_name)"
      ]
    },
    {
      "cell_type": "markdown",
      "metadata": {
        "id": "cWnAMLgxqm_9"
      },
      "source": [
        "## Formulas"
      ]
    },
    {
      "cell_type": "code",
      "execution_count": 29,
      "metadata": {
        "id": "nkBSamYkqm_9"
      },
      "outputs": [],
      "source": [
        "def choose_position(roi, trade_threshold = 0.0005):\n",
        "    pos =0\n",
        "    # Predict position base on change in future\n",
        "    if roi > trade_threshold:\n",
        "        pos = 1\n",
        "    elif roi < -trade_threshold:\n",
        "        pos = -1\n",
        "    else:\n",
        "        pos = 0\n",
        "\n",
        "    return pos"
      ]
    },
    {
      "cell_type": "code",
      "execution_count": 30,
      "metadata": {
        "id": "DvQTvE_-qm_-"
      },
      "outputs": [],
      "source": [
        "def backtest_position_ps(position, price, percentage, periods):\n",
        "    # Shift positions to align with future price changes and handle NaN by filling with 0\n",
        "    pos = pd.Series(position, index=pd.Series(price).index).shift(1).fillna(0)\n",
        "    pos = pd.Series(pos).rolling(periods).sum() #pos for 10 hour predict\n",
        "\n",
        "    price_array = pd.Series(price).shift(1).fillna(0)\n",
        "\n",
        "    pos_diff = pos.diff()\n",
        "    fee = pos_diff*price_array*0.05*0.01\n",
        "\n",
        "    # Calculate price changes over the given periods\n",
        "    ch = pd.Series(price) - price_array\n",
        "\n",
        "    # Calculate total PnL\n",
        "    total_pnl = pos*ch - fee\n",
        "    return total_pnl"
      ]
    },
    {
      "cell_type": "code",
      "execution_count": 31,
      "metadata": {
        "id": "KBSYVj2Eqm_-"
      },
      "outputs": [],
      "source": [
        "def calculate_sharpe_ratio(pnl):\n",
        "    pnl = np.diff(pnl)\n",
        "    std = np.std(pnl) if np.std(pnl) != 0 else 0.001\n",
        "    sharpe = np.mean(pnl)/std*np.sqrt(252)\n",
        "    return sharpe"
      ]
    },
    {
      "cell_type": "code",
      "execution_count": 32,
      "metadata": {
        "id": "R6Wk1h4Bqm_-"
      },
      "outputs": [],
      "source": [
        "def sharpe_for_vn30f(y_pred, y_price, trade_threshold, fee_perc, periods):\n",
        "\n",
        "    # Predict position base on change in future\n",
        "    pos = [choose_position(roi, trade_threshold) for roi in y_pred]\n",
        "    pos = np.array(pos)\n",
        "\n",
        "    # Calculate PNL\n",
        "    pnl = backtest_position_ps(pos, y_price, fee_perc, periods)\n",
        "    pnl = np.cumsum(pnl)\n",
        "\n",
        "    # Standardalize PNL to date\n",
        "    daily_pnl = [pnl.iloc[i] for i in range(0, len(pnl), 24)]\n",
        "    daily_pnl = pd.Series(daily_pnl).fillna(0)\n",
        "\n",
        "    # Calculate Sharpe\n",
        "    sharpe = calculate_sharpe_ratio(daily_pnl)\n",
        "\n",
        "    return pos, pnl, daily_pnl, sharpe"
      ]
    },
    {
      "cell_type": "code",
      "execution_count": 33,
      "metadata": {
        "id": "tFGU3CMsqm__"
      },
      "outputs": [],
      "source": [
        "def calculate_hitrate(pos_predict, pos_true):\n",
        "    if len(pos_predict) != len(pos_true):\n",
        "        raise ValueError(\"Độ dài của hai mảng không khớp\")\n",
        "\n",
        "    # Tính số lượng dự đoán đúng (các phần tử tương ứng giống nhau)\n",
        "    correct_predictions = np.sum(pos_predict == pos_true)\n",
        "\n",
        "    # Tính tỷ lệ hit rate\n",
        "    hit_rate_value = correct_predictions / len(pos_predict)\n",
        "\n",
        "    return hit_rate_value"
      ]
    },
    {
      "cell_type": "markdown",
      "metadata": {
        "id": "fmDF4G5hqm__"
      },
      "source": [
        "# Function for data"
      ]
    },
    {
      "cell_type": "code",
      "execution_count": 34,
      "metadata": {
        "id": "aBNzE_Pkqm__"
      },
      "outputs": [],
      "source": [
        "def scale_data(data):\n",
        "    scaler = StandardScaler()\n",
        "    scaler.fit(data)\n",
        "    data=pd.DataFrame(scaler.transform(data), index=data.index, columns=data.columns)\n",
        "\n",
        "    return data"
      ]
    },
    {
      "cell_type": "code",
      "execution_count": 35,
      "metadata": {
        "id": "rqUtt9Jbqm__"
      },
      "outputs": [],
      "source": [
        "def split_data(data):\n",
        "    \"\"\"\n",
        "    Hàm này chia dữ liệu thành 2 phần: tập huấn luyện và tập hold out.\n",
        "\n",
        "    Args:\n",
        "    data (pandas.DataFrame): DataFrame chứa dữ liệu cần chia.\n",
        "\n",
        "    Returns:\n",
        "    pandas.DataFrame: DataFrame chứa dữ liệu tập huấn luyện.\n",
        "    pandas.DataFrame: DataFrame chứa dữ liệu tập giữ lại.\n",
        "    \"\"\"\n",
        "    # Chia dữ liệu thành 3 phần\n",
        "    new_part = np.array_split(data, 3)\n",
        "\n",
        "    # Access each part individually\n",
        "    hold_out = new_part[2]\n",
        "    train_data = pd.concat([new_part[0], new_part[1]], axis=0)\n",
        "\n",
        "    return train_data, hold_out\n",
        "\n",
        "def split_optuna_data(data):\n",
        "    \"\"\"\n",
        "    Hàm này chia dữ liệu thành các tập train và test để sử dụng trong quá trình tối ưu hóa bằng Optuna.\n",
        "\n",
        "    Args:\n",
        "    data (pandas.DataFrame): DataFrame chứa dữ liệu cần chia.\n",
        "\n",
        "    Returns:\n",
        "    pandas.DataFrame: DataFrame chứa dữ liệu train (đã được chuẩn hóa).\n",
        "    pandas.DataFrame: DataFrame chứa dữ liệu test (đã được chuẩn hóa).\n",
        "    pandas.Series: Series chứa nhãn tương ứng với dữ liệu train.\n",
        "    pandas.Series: Series chứa nhãn tương ứng với dữ liệu test.\n",
        "    \"\"\"\n",
        "    # Chia dữ liệu thành tập train và tập hold out\n",
        "    train_data, _ = split_data(data)\n",
        "\n",
        "    # Loại bỏ các cột không cần thiết\n",
        "    if 'Open' in train_data.columns:\n",
        "        optuna_data = train_data.drop(['Open','High','Low','Close','Volume', 'Return', 'Date', 'time'], axis=1)\n",
        "    else:\n",
        "        optuna_data = train_data.drop(['Close', 'Return', 'Date', 'time'], axis=1)\n",
        "\n",
        "    # Chuẩn hóa dữ liệu\n",
        "    optuna_data = scale_data(optuna_data)\n",
        "\n",
        "    # Chia dữ liệu thành tập train và tập test\n",
        "    X_train, X_valid, y_train, y_valid = train_test_split(optuna_data, train_data['Return'], test_size=0.5, shuffle=False)\n",
        "\n",
        "    return X_train, X_valid, y_train, y_valid, train_data"
      ]
    },
    {
      "cell_type": "markdown",
      "metadata": {
        "id": "cKojL2mzqm__"
      },
      "source": [
        "## Get data"
      ]
    },
    {
      "cell_type": "code",
      "execution_count": 36,
      "metadata": {
        "id": "04gLwoRhqm__"
      },
      "outputs": [],
      "source": [
        "def get_vn30f(start_time, now_time, symbol):\n",
        "    def vn30f():\n",
        "            return requests.get(f\"https://services.entrade.com.vn/chart-api/v2/ohlcs/index?from={1677628800}&to={1690848000}&symbol=VN30&resolution=1\").json()\n",
        "    vn30fm = pd.DataFrame(vn30f()).iloc[:,:6]\n",
        "    vn30fm['t'] = vn30fm['t'].astype(int).apply(lambda x: datetime.utcfromtimestamp(x) + timedelta(hours = 7))\n",
        "    vn30fm.columns = ['Date','Open','High','Low','Close','Volume']\n",
        "    ohlc_dict = {\n",
        "        'Open': 'first',\n",
        "        'High': 'max',\n",
        "        'Low': 'min',\n",
        "        'Close': 'last',\n",
        "        'Volume': 'sum',}\n",
        "    vn30fm = pd.DataFrame(vn30f()).iloc[:,:6]\n",
        "    vn30fm['t'] = vn30fm['t'].astype(int).apply(lambda x: datetime.utcfromtimestamp(x) + timedelta(hours = 7))\n",
        "    vn30fm.columns = ['Date','Open','High','Low','Close','Volume']\n",
        "    dt_object = datetime.utcfromtimestamp(1677628800) + timedelta(hours = 7)\n",
        "    now_object = datetime.utcfromtimestamp(1690848000) + timedelta(hours = 7)\n",
        "\n",
        "    print(f'===> Data {symbol} from {dt_object} to {now_object} has been appended ')\n",
        "\n",
        "    return vn30fm\n",
        "\n",
        "# df2 = get_vn30f(start_time, now_time, symbol)"
      ]
    },
    {
      "cell_type": "code",
      "execution_count": 37,
      "metadata": {
        "id": "H8XyGWJ8qm__",
        "colab": {
          "base_uri": "https://localhost:8080/"
        },
        "outputId": "9746a1ee-3588-478c-ec75-da7d2f71af10"
      },
      "outputs": [
        {
          "output_type": "stream",
          "name": "stdout",
          "text": [
            "===> Data VN30F1M from 2023-03-01 07:00:00 to 2023-08-01 07:00:00 has been appended \n"
          ]
        }
      ],
      "source": [
        "df = get_vn30f(start_time, now_time, symbol)"
      ]
    },
    {
      "cell_type": "code",
      "execution_count": 38,
      "metadata": {
        "id": "WbdOiZFtqnAA"
      },
      "outputs": [],
      "source": [
        "data = df.copy()"
      ]
    },
    {
      "cell_type": "code",
      "source": [
        "data_april_2023 = data[\n",
        "    (data['Date'] >= '2023-04-01') & (data['Date'] <= '2023-07-30')\n",
        "]\n",
        "data_april_2023"
      ],
      "metadata": {
        "colab": {
          "base_uri": "https://localhost:8080/",
          "height": 423
        },
        "id": "O99omUlQOfIJ",
        "outputId": "6290aab1-9a5b-448b-f71f-c5492cde0808"
      },
      "execution_count": 39,
      "outputs": [
        {
          "output_type": "execute_result",
          "data": {
            "text/plain": [
              "                     Date     Open     High      Low    Close    Volume\n",
              "5213  2023-04-03 09:15:00  1085.15  1085.76  1084.22  1085.37   6387700\n",
              "5214  2023-04-03 09:16:00  1085.22  1086.72  1085.22  1086.72   2035900\n",
              "5215  2023-04-03 09:17:00  1086.73  1086.92  1086.23  1086.79   1684400\n",
              "5216  2023-04-03 09:18:00  1086.59  1086.59  1085.59  1085.59   1971500\n",
              "5217  2023-04-03 09:19:00  1085.97  1086.23  1085.35  1085.96   1767700\n",
              "...                   ...      ...      ...      ...      ...       ...\n",
              "23774 2023-07-28 14:27:00  1207.73  1208.06  1206.98  1207.48   1402592\n",
              "23775 2023-07-28 14:28:00  1208.12  1208.76  1207.86  1208.69   2258000\n",
              "23776 2023-07-28 14:29:00  1208.72  1208.77  1208.13  1208.23   1339904\n",
              "23777 2023-07-28 14:30:00  1208.28  1208.28  1208.28  1208.28     31408\n",
              "23778 2023-07-28 14:45:00  1210.40  1212.45  1210.40  1212.45  12298304\n",
              "\n",
              "[18566 rows x 6 columns]"
            ],
            "text/html": [
              "\n",
              "  <div id=\"df-e8a9d4cc-5382-4116-8e37-32f5f82bcdad\" class=\"colab-df-container\">\n",
              "    <div>\n",
              "<style scoped>\n",
              "    .dataframe tbody tr th:only-of-type {\n",
              "        vertical-align: middle;\n",
              "    }\n",
              "\n",
              "    .dataframe tbody tr th {\n",
              "        vertical-align: top;\n",
              "    }\n",
              "\n",
              "    .dataframe thead th {\n",
              "        text-align: right;\n",
              "    }\n",
              "</style>\n",
              "<table border=\"1\" class=\"dataframe\">\n",
              "  <thead>\n",
              "    <tr style=\"text-align: right;\">\n",
              "      <th></th>\n",
              "      <th>Date</th>\n",
              "      <th>Open</th>\n",
              "      <th>High</th>\n",
              "      <th>Low</th>\n",
              "      <th>Close</th>\n",
              "      <th>Volume</th>\n",
              "    </tr>\n",
              "  </thead>\n",
              "  <tbody>\n",
              "    <tr>\n",
              "      <th>5213</th>\n",
              "      <td>2023-04-03 09:15:00</td>\n",
              "      <td>1085.15</td>\n",
              "      <td>1085.76</td>\n",
              "      <td>1084.22</td>\n",
              "      <td>1085.37</td>\n",
              "      <td>6387700</td>\n",
              "    </tr>\n",
              "    <tr>\n",
              "      <th>5214</th>\n",
              "      <td>2023-04-03 09:16:00</td>\n",
              "      <td>1085.22</td>\n",
              "      <td>1086.72</td>\n",
              "      <td>1085.22</td>\n",
              "      <td>1086.72</td>\n",
              "      <td>2035900</td>\n",
              "    </tr>\n",
              "    <tr>\n",
              "      <th>5215</th>\n",
              "      <td>2023-04-03 09:17:00</td>\n",
              "      <td>1086.73</td>\n",
              "      <td>1086.92</td>\n",
              "      <td>1086.23</td>\n",
              "      <td>1086.79</td>\n",
              "      <td>1684400</td>\n",
              "    </tr>\n",
              "    <tr>\n",
              "      <th>5216</th>\n",
              "      <td>2023-04-03 09:18:00</td>\n",
              "      <td>1086.59</td>\n",
              "      <td>1086.59</td>\n",
              "      <td>1085.59</td>\n",
              "      <td>1085.59</td>\n",
              "      <td>1971500</td>\n",
              "    </tr>\n",
              "    <tr>\n",
              "      <th>5217</th>\n",
              "      <td>2023-04-03 09:19:00</td>\n",
              "      <td>1085.97</td>\n",
              "      <td>1086.23</td>\n",
              "      <td>1085.35</td>\n",
              "      <td>1085.96</td>\n",
              "      <td>1767700</td>\n",
              "    </tr>\n",
              "    <tr>\n",
              "      <th>...</th>\n",
              "      <td>...</td>\n",
              "      <td>...</td>\n",
              "      <td>...</td>\n",
              "      <td>...</td>\n",
              "      <td>...</td>\n",
              "      <td>...</td>\n",
              "    </tr>\n",
              "    <tr>\n",
              "      <th>23774</th>\n",
              "      <td>2023-07-28 14:27:00</td>\n",
              "      <td>1207.73</td>\n",
              "      <td>1208.06</td>\n",
              "      <td>1206.98</td>\n",
              "      <td>1207.48</td>\n",
              "      <td>1402592</td>\n",
              "    </tr>\n",
              "    <tr>\n",
              "      <th>23775</th>\n",
              "      <td>2023-07-28 14:28:00</td>\n",
              "      <td>1208.12</td>\n",
              "      <td>1208.76</td>\n",
              "      <td>1207.86</td>\n",
              "      <td>1208.69</td>\n",
              "      <td>2258000</td>\n",
              "    </tr>\n",
              "    <tr>\n",
              "      <th>23776</th>\n",
              "      <td>2023-07-28 14:29:00</td>\n",
              "      <td>1208.72</td>\n",
              "      <td>1208.77</td>\n",
              "      <td>1208.13</td>\n",
              "      <td>1208.23</td>\n",
              "      <td>1339904</td>\n",
              "    </tr>\n",
              "    <tr>\n",
              "      <th>23777</th>\n",
              "      <td>2023-07-28 14:30:00</td>\n",
              "      <td>1208.28</td>\n",
              "      <td>1208.28</td>\n",
              "      <td>1208.28</td>\n",
              "      <td>1208.28</td>\n",
              "      <td>31408</td>\n",
              "    </tr>\n",
              "    <tr>\n",
              "      <th>23778</th>\n",
              "      <td>2023-07-28 14:45:00</td>\n",
              "      <td>1210.40</td>\n",
              "      <td>1212.45</td>\n",
              "      <td>1210.40</td>\n",
              "      <td>1212.45</td>\n",
              "      <td>12298304</td>\n",
              "    </tr>\n",
              "  </tbody>\n",
              "</table>\n",
              "<p>18566 rows × 6 columns</p>\n",
              "</div>\n",
              "    <div class=\"colab-df-buttons\">\n",
              "\n",
              "  <div class=\"colab-df-container\">\n",
              "    <button class=\"colab-df-convert\" onclick=\"convertToInteractive('df-e8a9d4cc-5382-4116-8e37-32f5f82bcdad')\"\n",
              "            title=\"Convert this dataframe to an interactive table.\"\n",
              "            style=\"display:none;\">\n",
              "\n",
              "  <svg xmlns=\"http://www.w3.org/2000/svg\" height=\"24px\" viewBox=\"0 -960 960 960\">\n",
              "    <path d=\"M120-120v-720h720v720H120Zm60-500h600v-160H180v160Zm220 220h160v-160H400v160Zm0 220h160v-160H400v160ZM180-400h160v-160H180v160Zm440 0h160v-160H620v160ZM180-180h160v-160H180v160Zm440 0h160v-160H620v160Z\"/>\n",
              "  </svg>\n",
              "    </button>\n",
              "\n",
              "  <style>\n",
              "    .colab-df-container {\n",
              "      display:flex;\n",
              "      gap: 12px;\n",
              "    }\n",
              "\n",
              "    .colab-df-convert {\n",
              "      background-color: #E8F0FE;\n",
              "      border: none;\n",
              "      border-radius: 50%;\n",
              "      cursor: pointer;\n",
              "      display: none;\n",
              "      fill: #1967D2;\n",
              "      height: 32px;\n",
              "      padding: 0 0 0 0;\n",
              "      width: 32px;\n",
              "    }\n",
              "\n",
              "    .colab-df-convert:hover {\n",
              "      background-color: #E2EBFA;\n",
              "      box-shadow: 0px 1px 2px rgba(60, 64, 67, 0.3), 0px 1px 3px 1px rgba(60, 64, 67, 0.15);\n",
              "      fill: #174EA6;\n",
              "    }\n",
              "\n",
              "    .colab-df-buttons div {\n",
              "      margin-bottom: 4px;\n",
              "    }\n",
              "\n",
              "    [theme=dark] .colab-df-convert {\n",
              "      background-color: #3B4455;\n",
              "      fill: #D2E3FC;\n",
              "    }\n",
              "\n",
              "    [theme=dark] .colab-df-convert:hover {\n",
              "      background-color: #434B5C;\n",
              "      box-shadow: 0px 1px 3px 1px rgba(0, 0, 0, 0.15);\n",
              "      filter: drop-shadow(0px 1px 2px rgba(0, 0, 0, 0.3));\n",
              "      fill: #FFFFFF;\n",
              "    }\n",
              "  </style>\n",
              "\n",
              "    <script>\n",
              "      const buttonEl =\n",
              "        document.querySelector('#df-e8a9d4cc-5382-4116-8e37-32f5f82bcdad button.colab-df-convert');\n",
              "      buttonEl.style.display =\n",
              "        google.colab.kernel.accessAllowed ? 'block' : 'none';\n",
              "\n",
              "      async function convertToInteractive(key) {\n",
              "        const element = document.querySelector('#df-e8a9d4cc-5382-4116-8e37-32f5f82bcdad');\n",
              "        const dataTable =\n",
              "          await google.colab.kernel.invokeFunction('convertToInteractive',\n",
              "                                                    [key], {});\n",
              "        if (!dataTable) return;\n",
              "\n",
              "        const docLinkHtml = 'Like what you see? Visit the ' +\n",
              "          '<a target=\"_blank\" href=https://colab.research.google.com/notebooks/data_table.ipynb>data table notebook</a>'\n",
              "          + ' to learn more about interactive tables.';\n",
              "        element.innerHTML = '';\n",
              "        dataTable['output_type'] = 'display_data';\n",
              "        await google.colab.output.renderOutput(dataTable, element);\n",
              "        const docLink = document.createElement('div');\n",
              "        docLink.innerHTML = docLinkHtml;\n",
              "        element.appendChild(docLink);\n",
              "      }\n",
              "    </script>\n",
              "  </div>\n",
              "\n",
              "\n",
              "<div id=\"df-74744696-a6ba-4812-b8a0-c80019ff35b4\">\n",
              "  <button class=\"colab-df-quickchart\" onclick=\"quickchart('df-74744696-a6ba-4812-b8a0-c80019ff35b4')\"\n",
              "            title=\"Suggest charts\"\n",
              "            style=\"display:none;\">\n",
              "\n",
              "<svg xmlns=\"http://www.w3.org/2000/svg\" height=\"24px\"viewBox=\"0 0 24 24\"\n",
              "     width=\"24px\">\n",
              "    <g>\n",
              "        <path d=\"M19 3H5c-1.1 0-2 .9-2 2v14c0 1.1.9 2 2 2h14c1.1 0 2-.9 2-2V5c0-1.1-.9-2-2-2zM9 17H7v-7h2v7zm4 0h-2V7h2v10zm4 0h-2v-4h2v4z\"/>\n",
              "    </g>\n",
              "</svg>\n",
              "  </button>\n",
              "\n",
              "<style>\n",
              "  .colab-df-quickchart {\n",
              "      --bg-color: #E8F0FE;\n",
              "      --fill-color: #1967D2;\n",
              "      --hover-bg-color: #E2EBFA;\n",
              "      --hover-fill-color: #174EA6;\n",
              "      --disabled-fill-color: #AAA;\n",
              "      --disabled-bg-color: #DDD;\n",
              "  }\n",
              "\n",
              "  [theme=dark] .colab-df-quickchart {\n",
              "      --bg-color: #3B4455;\n",
              "      --fill-color: #D2E3FC;\n",
              "      --hover-bg-color: #434B5C;\n",
              "      --hover-fill-color: #FFFFFF;\n",
              "      --disabled-bg-color: #3B4455;\n",
              "      --disabled-fill-color: #666;\n",
              "  }\n",
              "\n",
              "  .colab-df-quickchart {\n",
              "    background-color: var(--bg-color);\n",
              "    border: none;\n",
              "    border-radius: 50%;\n",
              "    cursor: pointer;\n",
              "    display: none;\n",
              "    fill: var(--fill-color);\n",
              "    height: 32px;\n",
              "    padding: 0;\n",
              "    width: 32px;\n",
              "  }\n",
              "\n",
              "  .colab-df-quickchart:hover {\n",
              "    background-color: var(--hover-bg-color);\n",
              "    box-shadow: 0 1px 2px rgba(60, 64, 67, 0.3), 0 1px 3px 1px rgba(60, 64, 67, 0.15);\n",
              "    fill: var(--button-hover-fill-color);\n",
              "  }\n",
              "\n",
              "  .colab-df-quickchart-complete:disabled,\n",
              "  .colab-df-quickchart-complete:disabled:hover {\n",
              "    background-color: var(--disabled-bg-color);\n",
              "    fill: var(--disabled-fill-color);\n",
              "    box-shadow: none;\n",
              "  }\n",
              "\n",
              "  .colab-df-spinner {\n",
              "    border: 2px solid var(--fill-color);\n",
              "    border-color: transparent;\n",
              "    border-bottom-color: var(--fill-color);\n",
              "    animation:\n",
              "      spin 1s steps(1) infinite;\n",
              "  }\n",
              "\n",
              "  @keyframes spin {\n",
              "    0% {\n",
              "      border-color: transparent;\n",
              "      border-bottom-color: var(--fill-color);\n",
              "      border-left-color: var(--fill-color);\n",
              "    }\n",
              "    20% {\n",
              "      border-color: transparent;\n",
              "      border-left-color: var(--fill-color);\n",
              "      border-top-color: var(--fill-color);\n",
              "    }\n",
              "    30% {\n",
              "      border-color: transparent;\n",
              "      border-left-color: var(--fill-color);\n",
              "      border-top-color: var(--fill-color);\n",
              "      border-right-color: var(--fill-color);\n",
              "    }\n",
              "    40% {\n",
              "      border-color: transparent;\n",
              "      border-right-color: var(--fill-color);\n",
              "      border-top-color: var(--fill-color);\n",
              "    }\n",
              "    60% {\n",
              "      border-color: transparent;\n",
              "      border-right-color: var(--fill-color);\n",
              "    }\n",
              "    80% {\n",
              "      border-color: transparent;\n",
              "      border-right-color: var(--fill-color);\n",
              "      border-bottom-color: var(--fill-color);\n",
              "    }\n",
              "    90% {\n",
              "      border-color: transparent;\n",
              "      border-bottom-color: var(--fill-color);\n",
              "    }\n",
              "  }\n",
              "</style>\n",
              "\n",
              "  <script>\n",
              "    async function quickchart(key) {\n",
              "      const quickchartButtonEl =\n",
              "        document.querySelector('#' + key + ' button');\n",
              "      quickchartButtonEl.disabled = true;  // To prevent multiple clicks.\n",
              "      quickchartButtonEl.classList.add('colab-df-spinner');\n",
              "      try {\n",
              "        const charts = await google.colab.kernel.invokeFunction(\n",
              "            'suggestCharts', [key], {});\n",
              "      } catch (error) {\n",
              "        console.error('Error during call to suggestCharts:', error);\n",
              "      }\n",
              "      quickchartButtonEl.classList.remove('colab-df-spinner');\n",
              "      quickchartButtonEl.classList.add('colab-df-quickchart-complete');\n",
              "    }\n",
              "    (() => {\n",
              "      let quickchartButtonEl =\n",
              "        document.querySelector('#df-74744696-a6ba-4812-b8a0-c80019ff35b4 button');\n",
              "      quickchartButtonEl.style.display =\n",
              "        google.colab.kernel.accessAllowed ? 'block' : 'none';\n",
              "    })();\n",
              "  </script>\n",
              "</div>\n",
              "\n",
              "  <div id=\"id_e359ac90-c3bc-45db-8505-c37feaa1e42d\">\n",
              "    <style>\n",
              "      .colab-df-generate {\n",
              "        background-color: #E8F0FE;\n",
              "        border: none;\n",
              "        border-radius: 50%;\n",
              "        cursor: pointer;\n",
              "        display: none;\n",
              "        fill: #1967D2;\n",
              "        height: 32px;\n",
              "        padding: 0 0 0 0;\n",
              "        width: 32px;\n",
              "      }\n",
              "\n",
              "      .colab-df-generate:hover {\n",
              "        background-color: #E2EBFA;\n",
              "        box-shadow: 0px 1px 2px rgba(60, 64, 67, 0.3), 0px 1px 3px 1px rgba(60, 64, 67, 0.15);\n",
              "        fill: #174EA6;\n",
              "      }\n",
              "\n",
              "      [theme=dark] .colab-df-generate {\n",
              "        background-color: #3B4455;\n",
              "        fill: #D2E3FC;\n",
              "      }\n",
              "\n",
              "      [theme=dark] .colab-df-generate:hover {\n",
              "        background-color: #434B5C;\n",
              "        box-shadow: 0px 1px 3px 1px rgba(0, 0, 0, 0.15);\n",
              "        filter: drop-shadow(0px 1px 2px rgba(0, 0, 0, 0.3));\n",
              "        fill: #FFFFFF;\n",
              "      }\n",
              "    </style>\n",
              "    <button class=\"colab-df-generate\" onclick=\"generateWithVariable('data_april_2023')\"\n",
              "            title=\"Generate code using this dataframe.\"\n",
              "            style=\"display:none;\">\n",
              "\n",
              "  <svg xmlns=\"http://www.w3.org/2000/svg\" height=\"24px\"viewBox=\"0 0 24 24\"\n",
              "       width=\"24px\">\n",
              "    <path d=\"M7,19H8.4L18.45,9,17,7.55,7,17.6ZM5,21V16.75L18.45,3.32a2,2,0,0,1,2.83,0l1.4,1.43a1.91,1.91,0,0,1,.58,1.4,1.91,1.91,0,0,1-.58,1.4L9.25,21ZM18.45,9,17,7.55Zm-12,3A5.31,5.31,0,0,0,4.9,8.1,5.31,5.31,0,0,0,1,6.5,5.31,5.31,0,0,0,4.9,4.9,5.31,5.31,0,0,0,6.5,1,5.31,5.31,0,0,0,8.1,4.9,5.31,5.31,0,0,0,12,6.5,5.46,5.46,0,0,0,6.5,12Z\"/>\n",
              "  </svg>\n",
              "    </button>\n",
              "    <script>\n",
              "      (() => {\n",
              "      const buttonEl =\n",
              "        document.querySelector('#id_e359ac90-c3bc-45db-8505-c37feaa1e42d button.colab-df-generate');\n",
              "      buttonEl.style.display =\n",
              "        google.colab.kernel.accessAllowed ? 'block' : 'none';\n",
              "\n",
              "      buttonEl.onclick = () => {\n",
              "        google.colab.notebook.generateWithVariable('data_april_2023');\n",
              "      }\n",
              "      })();\n",
              "    </script>\n",
              "  </div>\n",
              "\n",
              "    </div>\n",
              "  </div>\n"
            ],
            "application/vnd.google.colaboratory.intrinsic+json": {
              "type": "dataframe",
              "variable_name": "data_april_2023",
              "summary": "{\n  \"name\": \"data_april_2023\",\n  \"rows\": 18566,\n  \"fields\": [\n    {\n      \"column\": \"Date\",\n      \"properties\": {\n        \"dtype\": \"date\",\n        \"min\": \"2023-04-03 09:15:00\",\n        \"max\": \"2023-07-28 14:45:00\",\n        \"num_unique_values\": 18566,\n        \"samples\": [\n          \"2023-04-07 13:43:00\",\n          \"2023-06-02 13:59:00\",\n          \"2023-04-17 10:04:00\"\n        ],\n        \"semantic_type\": \"\",\n        \"description\": \"\"\n      }\n    },\n    {\n      \"column\": \"Open\",\n      \"properties\": {\n        \"dtype\": \"number\",\n        \"std\": 43.249114362056865,\n        \"min\": 1030.47,\n        \"max\": 1210.4,\n        \"num_unique_values\": 9630,\n        \"samples\": [\n          1087.36,\n          1097.41,\n          1071.69\n        ],\n        \"semantic_type\": \"\",\n        \"description\": \"\"\n      }\n    },\n    {\n      \"column\": \"High\",\n      \"properties\": {\n        \"dtype\": \"number\",\n        \"std\": 43.27483331155457,\n        \"min\": 1030.69,\n        \"max\": 1212.45,\n        \"num_unique_values\": 9613,\n        \"samples\": [\n          1200.49,\n          1051.22,\n          1086.62\n        ],\n        \"semantic_type\": \"\",\n        \"description\": \"\"\n      }\n    },\n    {\n      \"column\": \"Low\",\n      \"properties\": {\n        \"dtype\": \"number\",\n        \"std\": 43.23042807146791,\n        \"min\": 1029.94,\n        \"max\": 1210.4,\n        \"num_unique_values\": 9608,\n        \"samples\": [\n          1042.23,\n          1101.57,\n          1162.33\n        ],\n        \"semantic_type\": \"\",\n        \"description\": \"\"\n      }\n    },\n    {\n      \"column\": \"Close\",\n      \"properties\": {\n        \"dtype\": \"number\",\n        \"std\": 43.25293821450603,\n        \"min\": 1030.47,\n        \"max\": 1212.45,\n        \"num_unique_values\": 9711,\n        \"samples\": [\n          1148.7,\n          1133.47,\n          1170.57\n        ],\n        \"semantic_type\": \"\",\n        \"description\": \"\"\n      }\n    },\n    {\n      \"column\": \"Volume\",\n      \"properties\": {\n        \"dtype\": \"number\",\n        \"std\": 1242968,\n        \"min\": 100,\n        \"max\": 35478400,\n        \"num_unique_values\": 13865,\n        \"samples\": [\n          1960096,\n          552200,\n          443584\n        ],\n        \"semantic_type\": \"\",\n        \"description\": \"\"\n      }\n    }\n  ]\n}"
            }
          },
          "metadata": {},
          "execution_count": 39
        }
      ]
    },
    {
      "cell_type": "markdown",
      "metadata": {
        "id": "CVnajMk3qnAA"
      },
      "source": [
        "## Preprocess"
      ]
    },
    {
      "cell_type": "code",
      "execution_count": 40,
      "metadata": {
        "id": "ujwxx5YlqnAA"
      },
      "outputs": [],
      "source": [
        "from scipy.stats.mstats import winsorize\n",
        "# Áp dụng Winsorization\n",
        "data['Close'] = winsorize(data['Close'], limits=[0.05, 0.05])"
      ]
    },
    {
      "cell_type": "code",
      "execution_count": 41,
      "metadata": {
        "id": "gSLYyILZqnAA"
      },
      "outputs": [],
      "source": [
        "def process_data(data):\n",
        "    data.set_index('Date', inplace =True)\n",
        "    data.columns = ['Open','High','Low','Close','Volume']\n",
        "\n",
        "    data['Date'] = [str(i)[:10] for i in data.index]\n",
        "    data['time'] = [str(i)[11:] for i in data.index]\n",
        "\n",
        "    data = data[~data.index.duplicated(keep='first')] # Handling duplicate\n",
        "    data_model = data.pivot(index = 'Date', columns = 'time', values = ['Open','High','Low','Close','Volume']).ffill(axis = 1).stack().reset_index() # Handling missing values\n",
        "    # data_model.columns = ['Date','time','Close']\n",
        "\n",
        "    return data_model"
      ]
    },
    {
      "cell_type": "code",
      "execution_count": 42,
      "metadata": {
        "id": "rIkgvyquqnAA"
      },
      "outputs": [],
      "source": [
        "data = process_data(data)"
      ]
    },
    {
      "cell_type": "code",
      "execution_count": 43,
      "metadata": {
        "id": "K6SIVJpGqnAA",
        "colab": {
          "base_uri": "https://localhost:8080/",
          "height": 423
        },
        "outputId": "5b287ff9-249d-486f-c6cb-64007e1d5f68"
      },
      "outputs": [
        {
          "output_type": "execute_result",
          "data": {
            "text/plain": [
              "             Date      time     Open     High      Low    Close      Volume\n",
              "0      2023-03-01  09:15:00  1008.16  1009.58  1008.16  1029.36   1007200.0\n",
              "1      2023-03-01  09:16:00  1010.71  1010.71  1008.34  1029.36    592900.0\n",
              "2      2023-03-01  09:17:00  1008.60  1008.60  1004.45  1029.36    884700.0\n",
              "3      2023-03-01  09:18:00  1004.51  1005.49  1004.49  1029.36    265500.0\n",
              "4      2023-03-01  09:19:00  1003.14  1004.11  1002.25  1029.36    861000.0\n",
              "...           ...       ...      ...      ...      ...      ...         ...\n",
              "24057  2023-07-31  14:27:00  1227.80  1229.02  1227.60  1189.23   3089600.0\n",
              "24058  2023-07-31  14:28:00  1228.21  1229.54  1228.21  1189.23   3717600.0\n",
              "24059  2023-07-31  14:29:00  1229.74  1230.17  1229.69  1189.23   3368800.0\n",
              "24060  2023-07-31  14:30:00  1229.70  1229.70  1229.70  1189.23     88416.0\n",
              "24061  2023-07-31  14:45:00  1230.81  1230.81  1230.81  1189.23  20186592.0\n",
              "\n",
              "[24062 rows x 7 columns]"
            ],
            "text/html": [
              "\n",
              "  <div id=\"df-a85003f9-cb68-4c7e-9a4f-cb2d82f5cc87\" class=\"colab-df-container\">\n",
              "    <div>\n",
              "<style scoped>\n",
              "    .dataframe tbody tr th:only-of-type {\n",
              "        vertical-align: middle;\n",
              "    }\n",
              "\n",
              "    .dataframe tbody tr th {\n",
              "        vertical-align: top;\n",
              "    }\n",
              "\n",
              "    .dataframe thead th {\n",
              "        text-align: right;\n",
              "    }\n",
              "</style>\n",
              "<table border=\"1\" class=\"dataframe\">\n",
              "  <thead>\n",
              "    <tr style=\"text-align: right;\">\n",
              "      <th></th>\n",
              "      <th>Date</th>\n",
              "      <th>time</th>\n",
              "      <th>Open</th>\n",
              "      <th>High</th>\n",
              "      <th>Low</th>\n",
              "      <th>Close</th>\n",
              "      <th>Volume</th>\n",
              "    </tr>\n",
              "  </thead>\n",
              "  <tbody>\n",
              "    <tr>\n",
              "      <th>0</th>\n",
              "      <td>2023-03-01</td>\n",
              "      <td>09:15:00</td>\n",
              "      <td>1008.16</td>\n",
              "      <td>1009.58</td>\n",
              "      <td>1008.16</td>\n",
              "      <td>1029.36</td>\n",
              "      <td>1007200.0</td>\n",
              "    </tr>\n",
              "    <tr>\n",
              "      <th>1</th>\n",
              "      <td>2023-03-01</td>\n",
              "      <td>09:16:00</td>\n",
              "      <td>1010.71</td>\n",
              "      <td>1010.71</td>\n",
              "      <td>1008.34</td>\n",
              "      <td>1029.36</td>\n",
              "      <td>592900.0</td>\n",
              "    </tr>\n",
              "    <tr>\n",
              "      <th>2</th>\n",
              "      <td>2023-03-01</td>\n",
              "      <td>09:17:00</td>\n",
              "      <td>1008.60</td>\n",
              "      <td>1008.60</td>\n",
              "      <td>1004.45</td>\n",
              "      <td>1029.36</td>\n",
              "      <td>884700.0</td>\n",
              "    </tr>\n",
              "    <tr>\n",
              "      <th>3</th>\n",
              "      <td>2023-03-01</td>\n",
              "      <td>09:18:00</td>\n",
              "      <td>1004.51</td>\n",
              "      <td>1005.49</td>\n",
              "      <td>1004.49</td>\n",
              "      <td>1029.36</td>\n",
              "      <td>265500.0</td>\n",
              "    </tr>\n",
              "    <tr>\n",
              "      <th>4</th>\n",
              "      <td>2023-03-01</td>\n",
              "      <td>09:19:00</td>\n",
              "      <td>1003.14</td>\n",
              "      <td>1004.11</td>\n",
              "      <td>1002.25</td>\n",
              "      <td>1029.36</td>\n",
              "      <td>861000.0</td>\n",
              "    </tr>\n",
              "    <tr>\n",
              "      <th>...</th>\n",
              "      <td>...</td>\n",
              "      <td>...</td>\n",
              "      <td>...</td>\n",
              "      <td>...</td>\n",
              "      <td>...</td>\n",
              "      <td>...</td>\n",
              "      <td>...</td>\n",
              "    </tr>\n",
              "    <tr>\n",
              "      <th>24057</th>\n",
              "      <td>2023-07-31</td>\n",
              "      <td>14:27:00</td>\n",
              "      <td>1227.80</td>\n",
              "      <td>1229.02</td>\n",
              "      <td>1227.60</td>\n",
              "      <td>1189.23</td>\n",
              "      <td>3089600.0</td>\n",
              "    </tr>\n",
              "    <tr>\n",
              "      <th>24058</th>\n",
              "      <td>2023-07-31</td>\n",
              "      <td>14:28:00</td>\n",
              "      <td>1228.21</td>\n",
              "      <td>1229.54</td>\n",
              "      <td>1228.21</td>\n",
              "      <td>1189.23</td>\n",
              "      <td>3717600.0</td>\n",
              "    </tr>\n",
              "    <tr>\n",
              "      <th>24059</th>\n",
              "      <td>2023-07-31</td>\n",
              "      <td>14:29:00</td>\n",
              "      <td>1229.74</td>\n",
              "      <td>1230.17</td>\n",
              "      <td>1229.69</td>\n",
              "      <td>1189.23</td>\n",
              "      <td>3368800.0</td>\n",
              "    </tr>\n",
              "    <tr>\n",
              "      <th>24060</th>\n",
              "      <td>2023-07-31</td>\n",
              "      <td>14:30:00</td>\n",
              "      <td>1229.70</td>\n",
              "      <td>1229.70</td>\n",
              "      <td>1229.70</td>\n",
              "      <td>1189.23</td>\n",
              "      <td>88416.0</td>\n",
              "    </tr>\n",
              "    <tr>\n",
              "      <th>24061</th>\n",
              "      <td>2023-07-31</td>\n",
              "      <td>14:45:00</td>\n",
              "      <td>1230.81</td>\n",
              "      <td>1230.81</td>\n",
              "      <td>1230.81</td>\n",
              "      <td>1189.23</td>\n",
              "      <td>20186592.0</td>\n",
              "    </tr>\n",
              "  </tbody>\n",
              "</table>\n",
              "<p>24062 rows × 7 columns</p>\n",
              "</div>\n",
              "    <div class=\"colab-df-buttons\">\n",
              "\n",
              "  <div class=\"colab-df-container\">\n",
              "    <button class=\"colab-df-convert\" onclick=\"convertToInteractive('df-a85003f9-cb68-4c7e-9a4f-cb2d82f5cc87')\"\n",
              "            title=\"Convert this dataframe to an interactive table.\"\n",
              "            style=\"display:none;\">\n",
              "\n",
              "  <svg xmlns=\"http://www.w3.org/2000/svg\" height=\"24px\" viewBox=\"0 -960 960 960\">\n",
              "    <path d=\"M120-120v-720h720v720H120Zm60-500h600v-160H180v160Zm220 220h160v-160H400v160Zm0 220h160v-160H400v160ZM180-400h160v-160H180v160Zm440 0h160v-160H620v160ZM180-180h160v-160H180v160Zm440 0h160v-160H620v160Z\"/>\n",
              "  </svg>\n",
              "    </button>\n",
              "\n",
              "  <style>\n",
              "    .colab-df-container {\n",
              "      display:flex;\n",
              "      gap: 12px;\n",
              "    }\n",
              "\n",
              "    .colab-df-convert {\n",
              "      background-color: #E8F0FE;\n",
              "      border: none;\n",
              "      border-radius: 50%;\n",
              "      cursor: pointer;\n",
              "      display: none;\n",
              "      fill: #1967D2;\n",
              "      height: 32px;\n",
              "      padding: 0 0 0 0;\n",
              "      width: 32px;\n",
              "    }\n",
              "\n",
              "    .colab-df-convert:hover {\n",
              "      background-color: #E2EBFA;\n",
              "      box-shadow: 0px 1px 2px rgba(60, 64, 67, 0.3), 0px 1px 3px 1px rgba(60, 64, 67, 0.15);\n",
              "      fill: #174EA6;\n",
              "    }\n",
              "\n",
              "    .colab-df-buttons div {\n",
              "      margin-bottom: 4px;\n",
              "    }\n",
              "\n",
              "    [theme=dark] .colab-df-convert {\n",
              "      background-color: #3B4455;\n",
              "      fill: #D2E3FC;\n",
              "    }\n",
              "\n",
              "    [theme=dark] .colab-df-convert:hover {\n",
              "      background-color: #434B5C;\n",
              "      box-shadow: 0px 1px 3px 1px rgba(0, 0, 0, 0.15);\n",
              "      filter: drop-shadow(0px 1px 2px rgba(0, 0, 0, 0.3));\n",
              "      fill: #FFFFFF;\n",
              "    }\n",
              "  </style>\n",
              "\n",
              "    <script>\n",
              "      const buttonEl =\n",
              "        document.querySelector('#df-a85003f9-cb68-4c7e-9a4f-cb2d82f5cc87 button.colab-df-convert');\n",
              "      buttonEl.style.display =\n",
              "        google.colab.kernel.accessAllowed ? 'block' : 'none';\n",
              "\n",
              "      async function convertToInteractive(key) {\n",
              "        const element = document.querySelector('#df-a85003f9-cb68-4c7e-9a4f-cb2d82f5cc87');\n",
              "        const dataTable =\n",
              "          await google.colab.kernel.invokeFunction('convertToInteractive',\n",
              "                                                    [key], {});\n",
              "        if (!dataTable) return;\n",
              "\n",
              "        const docLinkHtml = 'Like what you see? Visit the ' +\n",
              "          '<a target=\"_blank\" href=https://colab.research.google.com/notebooks/data_table.ipynb>data table notebook</a>'\n",
              "          + ' to learn more about interactive tables.';\n",
              "        element.innerHTML = '';\n",
              "        dataTable['output_type'] = 'display_data';\n",
              "        await google.colab.output.renderOutput(dataTable, element);\n",
              "        const docLink = document.createElement('div');\n",
              "        docLink.innerHTML = docLinkHtml;\n",
              "        element.appendChild(docLink);\n",
              "      }\n",
              "    </script>\n",
              "  </div>\n",
              "\n",
              "\n",
              "<div id=\"df-cb19e60c-11cd-4b3c-9b35-33b6ccadfb73\">\n",
              "  <button class=\"colab-df-quickchart\" onclick=\"quickchart('df-cb19e60c-11cd-4b3c-9b35-33b6ccadfb73')\"\n",
              "            title=\"Suggest charts\"\n",
              "            style=\"display:none;\">\n",
              "\n",
              "<svg xmlns=\"http://www.w3.org/2000/svg\" height=\"24px\"viewBox=\"0 0 24 24\"\n",
              "     width=\"24px\">\n",
              "    <g>\n",
              "        <path d=\"M19 3H5c-1.1 0-2 .9-2 2v14c0 1.1.9 2 2 2h14c1.1 0 2-.9 2-2V5c0-1.1-.9-2-2-2zM9 17H7v-7h2v7zm4 0h-2V7h2v10zm4 0h-2v-4h2v4z\"/>\n",
              "    </g>\n",
              "</svg>\n",
              "  </button>\n",
              "\n",
              "<style>\n",
              "  .colab-df-quickchart {\n",
              "      --bg-color: #E8F0FE;\n",
              "      --fill-color: #1967D2;\n",
              "      --hover-bg-color: #E2EBFA;\n",
              "      --hover-fill-color: #174EA6;\n",
              "      --disabled-fill-color: #AAA;\n",
              "      --disabled-bg-color: #DDD;\n",
              "  }\n",
              "\n",
              "  [theme=dark] .colab-df-quickchart {\n",
              "      --bg-color: #3B4455;\n",
              "      --fill-color: #D2E3FC;\n",
              "      --hover-bg-color: #434B5C;\n",
              "      --hover-fill-color: #FFFFFF;\n",
              "      --disabled-bg-color: #3B4455;\n",
              "      --disabled-fill-color: #666;\n",
              "  }\n",
              "\n",
              "  .colab-df-quickchart {\n",
              "    background-color: var(--bg-color);\n",
              "    border: none;\n",
              "    border-radius: 50%;\n",
              "    cursor: pointer;\n",
              "    display: none;\n",
              "    fill: var(--fill-color);\n",
              "    height: 32px;\n",
              "    padding: 0;\n",
              "    width: 32px;\n",
              "  }\n",
              "\n",
              "  .colab-df-quickchart:hover {\n",
              "    background-color: var(--hover-bg-color);\n",
              "    box-shadow: 0 1px 2px rgba(60, 64, 67, 0.3), 0 1px 3px 1px rgba(60, 64, 67, 0.15);\n",
              "    fill: var(--button-hover-fill-color);\n",
              "  }\n",
              "\n",
              "  .colab-df-quickchart-complete:disabled,\n",
              "  .colab-df-quickchart-complete:disabled:hover {\n",
              "    background-color: var(--disabled-bg-color);\n",
              "    fill: var(--disabled-fill-color);\n",
              "    box-shadow: none;\n",
              "  }\n",
              "\n",
              "  .colab-df-spinner {\n",
              "    border: 2px solid var(--fill-color);\n",
              "    border-color: transparent;\n",
              "    border-bottom-color: var(--fill-color);\n",
              "    animation:\n",
              "      spin 1s steps(1) infinite;\n",
              "  }\n",
              "\n",
              "  @keyframes spin {\n",
              "    0% {\n",
              "      border-color: transparent;\n",
              "      border-bottom-color: var(--fill-color);\n",
              "      border-left-color: var(--fill-color);\n",
              "    }\n",
              "    20% {\n",
              "      border-color: transparent;\n",
              "      border-left-color: var(--fill-color);\n",
              "      border-top-color: var(--fill-color);\n",
              "    }\n",
              "    30% {\n",
              "      border-color: transparent;\n",
              "      border-left-color: var(--fill-color);\n",
              "      border-top-color: var(--fill-color);\n",
              "      border-right-color: var(--fill-color);\n",
              "    }\n",
              "    40% {\n",
              "      border-color: transparent;\n",
              "      border-right-color: var(--fill-color);\n",
              "      border-top-color: var(--fill-color);\n",
              "    }\n",
              "    60% {\n",
              "      border-color: transparent;\n",
              "      border-right-color: var(--fill-color);\n",
              "    }\n",
              "    80% {\n",
              "      border-color: transparent;\n",
              "      border-right-color: var(--fill-color);\n",
              "      border-bottom-color: var(--fill-color);\n",
              "    }\n",
              "    90% {\n",
              "      border-color: transparent;\n",
              "      border-bottom-color: var(--fill-color);\n",
              "    }\n",
              "  }\n",
              "</style>\n",
              "\n",
              "  <script>\n",
              "    async function quickchart(key) {\n",
              "      const quickchartButtonEl =\n",
              "        document.querySelector('#' + key + ' button');\n",
              "      quickchartButtonEl.disabled = true;  // To prevent multiple clicks.\n",
              "      quickchartButtonEl.classList.add('colab-df-spinner');\n",
              "      try {\n",
              "        const charts = await google.colab.kernel.invokeFunction(\n",
              "            'suggestCharts', [key], {});\n",
              "      } catch (error) {\n",
              "        console.error('Error during call to suggestCharts:', error);\n",
              "      }\n",
              "      quickchartButtonEl.classList.remove('colab-df-spinner');\n",
              "      quickchartButtonEl.classList.add('colab-df-quickchart-complete');\n",
              "    }\n",
              "    (() => {\n",
              "      let quickchartButtonEl =\n",
              "        document.querySelector('#df-cb19e60c-11cd-4b3c-9b35-33b6ccadfb73 button');\n",
              "      quickchartButtonEl.style.display =\n",
              "        google.colab.kernel.accessAllowed ? 'block' : 'none';\n",
              "    })();\n",
              "  </script>\n",
              "</div>\n",
              "\n",
              "  <div id=\"id_e18e2003-3e3a-4822-93fa-8e3417841259\">\n",
              "    <style>\n",
              "      .colab-df-generate {\n",
              "        background-color: #E8F0FE;\n",
              "        border: none;\n",
              "        border-radius: 50%;\n",
              "        cursor: pointer;\n",
              "        display: none;\n",
              "        fill: #1967D2;\n",
              "        height: 32px;\n",
              "        padding: 0 0 0 0;\n",
              "        width: 32px;\n",
              "      }\n",
              "\n",
              "      .colab-df-generate:hover {\n",
              "        background-color: #E2EBFA;\n",
              "        box-shadow: 0px 1px 2px rgba(60, 64, 67, 0.3), 0px 1px 3px 1px rgba(60, 64, 67, 0.15);\n",
              "        fill: #174EA6;\n",
              "      }\n",
              "\n",
              "      [theme=dark] .colab-df-generate {\n",
              "        background-color: #3B4455;\n",
              "        fill: #D2E3FC;\n",
              "      }\n",
              "\n",
              "      [theme=dark] .colab-df-generate:hover {\n",
              "        background-color: #434B5C;\n",
              "        box-shadow: 0px 1px 3px 1px rgba(0, 0, 0, 0.15);\n",
              "        filter: drop-shadow(0px 1px 2px rgba(0, 0, 0, 0.3));\n",
              "        fill: #FFFFFF;\n",
              "      }\n",
              "    </style>\n",
              "    <button class=\"colab-df-generate\" onclick=\"generateWithVariable('data')\"\n",
              "            title=\"Generate code using this dataframe.\"\n",
              "            style=\"display:none;\">\n",
              "\n",
              "  <svg xmlns=\"http://www.w3.org/2000/svg\" height=\"24px\"viewBox=\"0 0 24 24\"\n",
              "       width=\"24px\">\n",
              "    <path d=\"M7,19H8.4L18.45,9,17,7.55,7,17.6ZM5,21V16.75L18.45,3.32a2,2,0,0,1,2.83,0l1.4,1.43a1.91,1.91,0,0,1,.58,1.4,1.91,1.91,0,0,1-.58,1.4L9.25,21ZM18.45,9,17,7.55Zm-12,3A5.31,5.31,0,0,0,4.9,8.1,5.31,5.31,0,0,0,1,6.5,5.31,5.31,0,0,0,4.9,4.9,5.31,5.31,0,0,0,6.5,1,5.31,5.31,0,0,0,8.1,4.9,5.31,5.31,0,0,0,12,6.5,5.46,5.46,0,0,0,6.5,12Z\"/>\n",
              "  </svg>\n",
              "    </button>\n",
              "    <script>\n",
              "      (() => {\n",
              "      const buttonEl =\n",
              "        document.querySelector('#id_e18e2003-3e3a-4822-93fa-8e3417841259 button.colab-df-generate');\n",
              "      buttonEl.style.display =\n",
              "        google.colab.kernel.accessAllowed ? 'block' : 'none';\n",
              "\n",
              "      buttonEl.onclick = () => {\n",
              "        google.colab.notebook.generateWithVariable('data');\n",
              "      }\n",
              "      })();\n",
              "    </script>\n",
              "  </div>\n",
              "\n",
              "    </div>\n",
              "  </div>\n"
            ],
            "application/vnd.google.colaboratory.intrinsic+json": {
              "type": "dataframe",
              "variable_name": "data",
              "summary": "{\n  \"name\": \"data\",\n  \"rows\": 24062,\n  \"fields\": [\n    {\n      \"column\": \"Date\",\n      \"properties\": {\n        \"dtype\": \"object\",\n        \"num_unique_values\": 106,\n        \"samples\": [\n          \"2023-07-24\",\n          \"2023-03-15\",\n          \"2023-03-07\"\n        ],\n        \"semantic_type\": \"\",\n        \"description\": \"\"\n      }\n    },\n    {\n      \"column\": \"time\",\n      \"properties\": {\n        \"dtype\": \"object\",\n        \"num_unique_values\": 227,\n        \"samples\": [\n          \"09:24:00\",\n          \"13:08:00\",\n          \"09:30:00\"\n        ],\n        \"semantic_type\": \"\",\n        \"description\": \"\"\n      }\n    },\n    {\n      \"column\": \"Open\",\n      \"properties\": {\n        \"dtype\": \"number\",\n        \"std\": 46.88652052559518,\n        \"min\": 1001.44,\n        \"max\": 1230.81,\n        \"num_unique_values\": 11480,\n        \"samples\": [\n          1048.14,\n          1086.47,\n          1132.61\n        ],\n        \"semantic_type\": \"\",\n        \"description\": \"\"\n      }\n    },\n    {\n      \"column\": \"High\",\n      \"properties\": {\n        \"dtype\": \"number\",\n        \"std\": 46.88963856625262,\n        \"min\": 1001.97,\n        \"max\": 1230.81,\n        \"num_unique_values\": 11402,\n        \"samples\": [\n          1118.75,\n          1053.54,\n          1090.59\n        ],\n        \"semantic_type\": \"\",\n        \"description\": \"\"\n      }\n    },\n    {\n      \"column\": \"Low\",\n      \"properties\": {\n        \"dtype\": \"number\",\n        \"std\": 46.8867470623307,\n        \"min\": 1001.05,\n        \"max\": 1230.81,\n        \"num_unique_values\": 11461,\n        \"samples\": [\n          1140.95,\n          1030.55,\n          1040.11\n        ],\n        \"semantic_type\": \"\",\n        \"description\": \"\"\n      }\n    },\n    {\n      \"column\": \"Close\",\n      \"properties\": {\n        \"dtype\": \"number\",\n        \"std\": 44.749499342493145,\n        \"min\": 1029.36,\n        \"max\": 1189.23,\n        \"num_unique_values\": 9922,\n        \"samples\": [\n          1095.78,\n          1047.48,\n          1044.25\n        ],\n        \"semantic_type\": \"\",\n        \"description\": \"\"\n      }\n    },\n    {\n      \"column\": \"Volume\",\n      \"properties\": {\n        \"dtype\": \"number\",\n        \"std\": 1287118.0721627166,\n        \"min\": 100.0,\n        \"max\": 67773104.0,\n        \"num_unique_values\": 16478,\n        \"samples\": [\n          242700.0,\n          712000.0,\n          1020400.0\n        ],\n        \"semantic_type\": \"\",\n        \"description\": \"\"\n      }\n    }\n  ]\n}"
            }
          },
          "metadata": {},
          "execution_count": 43
        }
      ],
      "source": [
        "data"
      ]
    },
    {
      "cell_type": "markdown",
      "metadata": {
        "id": "AQlr_9yzqnAA"
      },
      "source": [
        "## Create features"
      ]
    },
    {
      "cell_type": "code",
      "execution_count": 44,
      "metadata": {
        "id": "1VS6xEuFqnAB"
      },
      "outputs": [],
      "source": [
        "def generate_features(df, shift=1):\n",
        "    \"\"\"\n",
        "    Hàm này tạo ra các features mới từ dữ liệu cổ phiếu.\n",
        "\n",
        "    Args:\n",
        "    df (pandas.DataFrame): DataFrame chứa dữ liệu cần tạo features, có các cột 'open', 'high', 'low', 'close' và 'volume'.\n",
        "\n",
        "    Returns:\n",
        "    pandas.DataFrame: DataFrame đã được mở rộng với các features mới.\n",
        "    \"\"\"\n",
        "\n",
        "    # Thêm tất cả các đặc trưng kỹ thuật từ thư viện TA-Lib\n",
        "    df_shift = df.shift(shift)\n",
        "    df_shift = add_all_ta_features(df_shift, open=\"Open\", high=\"High\", low=\"Low\", close=\"Close\", volume=\"Volume\")\n",
        "\n",
        "    # Drop the original OHLCV columns from the shifted DataFrame\n",
        "    df_shift = df_shift.drop(columns=['Date','time', 'Open','High','Low','Close','Volume'])\n",
        "\n",
        "    df = pd.concat([df, df_shift], axis=1)\n",
        "\n",
        "    ### Ví dụ các features thêm tay\n",
        "    # Tính phần trăm thay đổi của giá đóng cửa trong 5 phút\n",
        "    df['Trend_5min'] = df['Close'].shift(shift).pct_change(periods=5)\n",
        "\n",
        "    # Tính độ lệch chuẩn của giá đóng cửa trong 30 phút\n",
        "    df['Std_Rolling_30min'] = df['Close'].shift(shift).rolling(window=30, min_periods=1).std()\n",
        "\n",
        "    # Tính độ lệch của giá đóng cửa so với trung bình động 30 phút\n",
        "    ma_30min = df['Close'].shift(shift).rolling(window=30, min_periods=1).mean()\n",
        "    df['Close_Minus_MA_30min'] = df['Close'].shift(shift) - ma_30min\n",
        "\n",
        "    # Tính trung bình động 10 phút của giá đóng cửa\n",
        "    df['SMA_10'] = df['Close'].shift(shift).rolling(window=10, min_periods=1).mean()\n",
        "\n",
        "    # Identify numeric columns\n",
        "    numeric_cols = df.select_dtypes(include=[np.number]).columns\n",
        "\n",
        "    # Replace infinite values with NaN in numeric columns\n",
        "    df[numeric_cols] = df[numeric_cols].replace([np.inf, -np.inf], np.nan)\n",
        "\n",
        "    # Điền các giá trị NaN với 0\n",
        "    df = df.fillna(0)\n",
        "\n",
        "    return df"
      ]
    },
    {
      "cell_type": "code",
      "execution_count": 45,
      "metadata": {
        "id": "IGxFy81RqnAB",
        "colab": {
          "base_uri": "https://localhost:8080/"
        },
        "outputId": "745f598f-a61a-4d33-b0c6-ee120b7f58ec"
      },
      "outputs": [
        {
          "output_type": "stream",
          "name": "stderr",
          "text": [
            "/usr/local/lib/python3.10/dist-packages/numpy/core/fromnumeric.py:59: RuntimeWarning: invalid value encountered in accumulate\n",
            "  return bound(*args, **kwds)\n"
          ]
        }
      ],
      "source": [
        "data  = generate_features(data)"
      ]
    },
    {
      "cell_type": "markdown",
      "metadata": {
        "id": "gQzKrJCjqnAB"
      },
      "source": [
        "Thêm các feature khác, ví dụ giá vàng (xem xét phù hợp với thời gian trong data)"
      ]
    },
    {
      "cell_type": "markdown",
      "metadata": {
        "id": "9DFSNfJOqnAB"
      },
      "source": [
        "# Add Predict Features"
      ]
    },
    {
      "cell_type": "code",
      "execution_count": 46,
      "metadata": {
        "id": "k2-q2CCOqnAB",
        "colab": {
          "base_uri": "https://localhost:8080/",
          "height": 617
        },
        "outputId": "2aa3e3c3-e710-4485-b490-214e289dffdd"
      },
      "outputs": [
        {
          "output_type": "execute_result",
          "data": {
            "text/plain": [
              "             Date      time     Open     High      Low    Close      Volume  \\\n",
              "1      2023-03-01  09:16:00  1010.71  1010.71  1008.34  1029.36    592900.0   \n",
              "2      2023-03-01  09:17:00  1008.60  1008.60  1004.45  1029.36    884700.0   \n",
              "3      2023-03-01  09:18:00  1004.51  1005.49  1004.49  1029.36    265500.0   \n",
              "4      2023-03-01  09:19:00  1003.14  1004.11  1002.25  1029.36    861000.0   \n",
              "5      2023-03-01  09:20:00  1002.35  1002.36  1001.62  1029.36    438700.0   \n",
              "...           ...       ...      ...      ...      ...      ...         ...   \n",
              "24057  2023-07-31  14:27:00  1227.80  1229.02  1227.60  1189.23   3089600.0   \n",
              "24058  2023-07-31  14:28:00  1228.21  1229.54  1228.21  1189.23   3717600.0   \n",
              "24059  2023-07-31  14:29:00  1229.74  1230.17  1229.69  1189.23   3368800.0   \n",
              "24060  2023-07-31  14:30:00  1229.70  1229.70  1229.70  1189.23     88416.0   \n",
              "24061  2023-07-31  14:45:00  1230.81  1230.81  1230.81  1189.23  20186592.0   \n",
              "\n",
              "         volume_adi    volume_obv  volume_cmf  ...  momentum_pvo_hist  \\\n",
              "1      2.906694e+07  1.007200e+06    0.000000  ...           0.000000   \n",
              "2      3.899114e+07  1.600100e+06    0.000000  ...           0.000000   \n",
              "3      4.872710e+07  2.484800e+06    0.000000  ...           0.000000   \n",
              "4      6.166757e+07  2.750300e+06    0.000000  ...           0.000000   \n",
              "5      8.590518e+07  3.611300e+06    0.000000  ...           0.000000   \n",
              "...             ...           ...         ...  ...                ...   \n",
              "24057  0.000000e+00  2.611128e+09 -115.370111  ...           8.936953   \n",
              "24058  0.000000e+00  2.614217e+09 -109.124943  ...           7.935707   \n",
              "24059  0.000000e+00  2.617935e+09 -104.686549  ...           8.233947   \n",
              "24060  0.000000e+00  2.621304e+09 -108.873006  ...           6.927609   \n",
              "24061  0.000000e+00  2.621392e+09    0.000000  ...          -2.304385   \n",
              "\n",
              "       momentum_kama  others_dr  others_dlr  others_cr  Trend_5min  \\\n",
              "1           0.000000        0.0         0.0        0.0         0.0   \n",
              "2           0.000000        0.0         0.0        0.0         0.0   \n",
              "3           0.000000        0.0         0.0        0.0         0.0   \n",
              "4           0.000000        0.0         0.0        0.0         0.0   \n",
              "5           0.000000        0.0         0.0        0.0         0.0   \n",
              "...              ...        ...         ...        ...         ...   \n",
              "24057    1189.226590        0.0         0.0        0.0         0.0   \n",
              "24058    1189.226605        0.0         0.0        0.0         0.0   \n",
              "24059    1189.226619        0.0         0.0        0.0         0.0   \n",
              "24060    1189.226633        0.0         0.0        0.0         0.0   \n",
              "24061    1189.226647        0.0         0.0        0.0         0.0   \n",
              "\n",
              "       Std_Rolling_30min  Close_Minus_MA_30min   SMA_10  Return  \n",
              "1                    0.0                   0.0  1029.36     0.0  \n",
              "2                    0.0                   0.0  1029.36     0.0  \n",
              "3                    0.0                   0.0  1029.36     0.0  \n",
              "4                    0.0                   0.0  1029.36     0.0  \n",
              "5                    0.0                   0.0  1029.36     0.0  \n",
              "...                  ...                   ...      ...     ...  \n",
              "24057                0.0                   0.0  1189.23     0.0  \n",
              "24058                0.0                   0.0  1189.23     0.0  \n",
              "24059                0.0                   0.0  1189.23     0.0  \n",
              "24060                0.0                   0.0  1189.23     0.0  \n",
              "24061                0.0                   0.0  1189.23     0.0  \n",
              "\n",
              "[24061 rows x 98 columns]"
            ],
            "text/html": [
              "\n",
              "  <div id=\"df-cfaa762a-8ec6-415f-a2f2-00d8f89142e3\" class=\"colab-df-container\">\n",
              "    <div>\n",
              "<style scoped>\n",
              "    .dataframe tbody tr th:only-of-type {\n",
              "        vertical-align: middle;\n",
              "    }\n",
              "\n",
              "    .dataframe tbody tr th {\n",
              "        vertical-align: top;\n",
              "    }\n",
              "\n",
              "    .dataframe thead th {\n",
              "        text-align: right;\n",
              "    }\n",
              "</style>\n",
              "<table border=\"1\" class=\"dataframe\">\n",
              "  <thead>\n",
              "    <tr style=\"text-align: right;\">\n",
              "      <th></th>\n",
              "      <th>Date</th>\n",
              "      <th>time</th>\n",
              "      <th>Open</th>\n",
              "      <th>High</th>\n",
              "      <th>Low</th>\n",
              "      <th>Close</th>\n",
              "      <th>Volume</th>\n",
              "      <th>volume_adi</th>\n",
              "      <th>volume_obv</th>\n",
              "      <th>volume_cmf</th>\n",
              "      <th>...</th>\n",
              "      <th>momentum_pvo_hist</th>\n",
              "      <th>momentum_kama</th>\n",
              "      <th>others_dr</th>\n",
              "      <th>others_dlr</th>\n",
              "      <th>others_cr</th>\n",
              "      <th>Trend_5min</th>\n",
              "      <th>Std_Rolling_30min</th>\n",
              "      <th>Close_Minus_MA_30min</th>\n",
              "      <th>SMA_10</th>\n",
              "      <th>Return</th>\n",
              "    </tr>\n",
              "  </thead>\n",
              "  <tbody>\n",
              "    <tr>\n",
              "      <th>1</th>\n",
              "      <td>2023-03-01</td>\n",
              "      <td>09:16:00</td>\n",
              "      <td>1010.71</td>\n",
              "      <td>1010.71</td>\n",
              "      <td>1008.34</td>\n",
              "      <td>1029.36</td>\n",
              "      <td>592900.0</td>\n",
              "      <td>2.906694e+07</td>\n",
              "      <td>1.007200e+06</td>\n",
              "      <td>0.000000</td>\n",
              "      <td>...</td>\n",
              "      <td>0.000000</td>\n",
              "      <td>0.000000</td>\n",
              "      <td>0.0</td>\n",
              "      <td>0.0</td>\n",
              "      <td>0.0</td>\n",
              "      <td>0.0</td>\n",
              "      <td>0.0</td>\n",
              "      <td>0.0</td>\n",
              "      <td>1029.36</td>\n",
              "      <td>0.0</td>\n",
              "    </tr>\n",
              "    <tr>\n",
              "      <th>2</th>\n",
              "      <td>2023-03-01</td>\n",
              "      <td>09:17:00</td>\n",
              "      <td>1008.60</td>\n",
              "      <td>1008.60</td>\n",
              "      <td>1004.45</td>\n",
              "      <td>1029.36</td>\n",
              "      <td>884700.0</td>\n",
              "      <td>3.899114e+07</td>\n",
              "      <td>1.600100e+06</td>\n",
              "      <td>0.000000</td>\n",
              "      <td>...</td>\n",
              "      <td>0.000000</td>\n",
              "      <td>0.000000</td>\n",
              "      <td>0.0</td>\n",
              "      <td>0.0</td>\n",
              "      <td>0.0</td>\n",
              "      <td>0.0</td>\n",
              "      <td>0.0</td>\n",
              "      <td>0.0</td>\n",
              "      <td>1029.36</td>\n",
              "      <td>0.0</td>\n",
              "    </tr>\n",
              "    <tr>\n",
              "      <th>3</th>\n",
              "      <td>2023-03-01</td>\n",
              "      <td>09:18:00</td>\n",
              "      <td>1004.51</td>\n",
              "      <td>1005.49</td>\n",
              "      <td>1004.49</td>\n",
              "      <td>1029.36</td>\n",
              "      <td>265500.0</td>\n",
              "      <td>4.872710e+07</td>\n",
              "      <td>2.484800e+06</td>\n",
              "      <td>0.000000</td>\n",
              "      <td>...</td>\n",
              "      <td>0.000000</td>\n",
              "      <td>0.000000</td>\n",
              "      <td>0.0</td>\n",
              "      <td>0.0</td>\n",
              "      <td>0.0</td>\n",
              "      <td>0.0</td>\n",
              "      <td>0.0</td>\n",
              "      <td>0.0</td>\n",
              "      <td>1029.36</td>\n",
              "      <td>0.0</td>\n",
              "    </tr>\n",
              "    <tr>\n",
              "      <th>4</th>\n",
              "      <td>2023-03-01</td>\n",
              "      <td>09:19:00</td>\n",
              "      <td>1003.14</td>\n",
              "      <td>1004.11</td>\n",
              "      <td>1002.25</td>\n",
              "      <td>1029.36</td>\n",
              "      <td>861000.0</td>\n",
              "      <td>6.166757e+07</td>\n",
              "      <td>2.750300e+06</td>\n",
              "      <td>0.000000</td>\n",
              "      <td>...</td>\n",
              "      <td>0.000000</td>\n",
              "      <td>0.000000</td>\n",
              "      <td>0.0</td>\n",
              "      <td>0.0</td>\n",
              "      <td>0.0</td>\n",
              "      <td>0.0</td>\n",
              "      <td>0.0</td>\n",
              "      <td>0.0</td>\n",
              "      <td>1029.36</td>\n",
              "      <td>0.0</td>\n",
              "    </tr>\n",
              "    <tr>\n",
              "      <th>5</th>\n",
              "      <td>2023-03-01</td>\n",
              "      <td>09:20:00</td>\n",
              "      <td>1002.35</td>\n",
              "      <td>1002.36</td>\n",
              "      <td>1001.62</td>\n",
              "      <td>1029.36</td>\n",
              "      <td>438700.0</td>\n",
              "      <td>8.590518e+07</td>\n",
              "      <td>3.611300e+06</td>\n",
              "      <td>0.000000</td>\n",
              "      <td>...</td>\n",
              "      <td>0.000000</td>\n",
              "      <td>0.000000</td>\n",
              "      <td>0.0</td>\n",
              "      <td>0.0</td>\n",
              "      <td>0.0</td>\n",
              "      <td>0.0</td>\n",
              "      <td>0.0</td>\n",
              "      <td>0.0</td>\n",
              "      <td>1029.36</td>\n",
              "      <td>0.0</td>\n",
              "    </tr>\n",
              "    <tr>\n",
              "      <th>...</th>\n",
              "      <td>...</td>\n",
              "      <td>...</td>\n",
              "      <td>...</td>\n",
              "      <td>...</td>\n",
              "      <td>...</td>\n",
              "      <td>...</td>\n",
              "      <td>...</td>\n",
              "      <td>...</td>\n",
              "      <td>...</td>\n",
              "      <td>...</td>\n",
              "      <td>...</td>\n",
              "      <td>...</td>\n",
              "      <td>...</td>\n",
              "      <td>...</td>\n",
              "      <td>...</td>\n",
              "      <td>...</td>\n",
              "      <td>...</td>\n",
              "      <td>...</td>\n",
              "      <td>...</td>\n",
              "      <td>...</td>\n",
              "      <td>...</td>\n",
              "    </tr>\n",
              "    <tr>\n",
              "      <th>24057</th>\n",
              "      <td>2023-07-31</td>\n",
              "      <td>14:27:00</td>\n",
              "      <td>1227.80</td>\n",
              "      <td>1229.02</td>\n",
              "      <td>1227.60</td>\n",
              "      <td>1189.23</td>\n",
              "      <td>3089600.0</td>\n",
              "      <td>0.000000e+00</td>\n",
              "      <td>2.611128e+09</td>\n",
              "      <td>-115.370111</td>\n",
              "      <td>...</td>\n",
              "      <td>8.936953</td>\n",
              "      <td>1189.226590</td>\n",
              "      <td>0.0</td>\n",
              "      <td>0.0</td>\n",
              "      <td>0.0</td>\n",
              "      <td>0.0</td>\n",
              "      <td>0.0</td>\n",
              "      <td>0.0</td>\n",
              "      <td>1189.23</td>\n",
              "      <td>0.0</td>\n",
              "    </tr>\n",
              "    <tr>\n",
              "      <th>24058</th>\n",
              "      <td>2023-07-31</td>\n",
              "      <td>14:28:00</td>\n",
              "      <td>1228.21</td>\n",
              "      <td>1229.54</td>\n",
              "      <td>1228.21</td>\n",
              "      <td>1189.23</td>\n",
              "      <td>3717600.0</td>\n",
              "      <td>0.000000e+00</td>\n",
              "      <td>2.614217e+09</td>\n",
              "      <td>-109.124943</td>\n",
              "      <td>...</td>\n",
              "      <td>7.935707</td>\n",
              "      <td>1189.226605</td>\n",
              "      <td>0.0</td>\n",
              "      <td>0.0</td>\n",
              "      <td>0.0</td>\n",
              "      <td>0.0</td>\n",
              "      <td>0.0</td>\n",
              "      <td>0.0</td>\n",
              "      <td>1189.23</td>\n",
              "      <td>0.0</td>\n",
              "    </tr>\n",
              "    <tr>\n",
              "      <th>24059</th>\n",
              "      <td>2023-07-31</td>\n",
              "      <td>14:29:00</td>\n",
              "      <td>1229.74</td>\n",
              "      <td>1230.17</td>\n",
              "      <td>1229.69</td>\n",
              "      <td>1189.23</td>\n",
              "      <td>3368800.0</td>\n",
              "      <td>0.000000e+00</td>\n",
              "      <td>2.617935e+09</td>\n",
              "      <td>-104.686549</td>\n",
              "      <td>...</td>\n",
              "      <td>8.233947</td>\n",
              "      <td>1189.226619</td>\n",
              "      <td>0.0</td>\n",
              "      <td>0.0</td>\n",
              "      <td>0.0</td>\n",
              "      <td>0.0</td>\n",
              "      <td>0.0</td>\n",
              "      <td>0.0</td>\n",
              "      <td>1189.23</td>\n",
              "      <td>0.0</td>\n",
              "    </tr>\n",
              "    <tr>\n",
              "      <th>24060</th>\n",
              "      <td>2023-07-31</td>\n",
              "      <td>14:30:00</td>\n",
              "      <td>1229.70</td>\n",
              "      <td>1229.70</td>\n",
              "      <td>1229.70</td>\n",
              "      <td>1189.23</td>\n",
              "      <td>88416.0</td>\n",
              "      <td>0.000000e+00</td>\n",
              "      <td>2.621304e+09</td>\n",
              "      <td>-108.873006</td>\n",
              "      <td>...</td>\n",
              "      <td>6.927609</td>\n",
              "      <td>1189.226633</td>\n",
              "      <td>0.0</td>\n",
              "      <td>0.0</td>\n",
              "      <td>0.0</td>\n",
              "      <td>0.0</td>\n",
              "      <td>0.0</td>\n",
              "      <td>0.0</td>\n",
              "      <td>1189.23</td>\n",
              "      <td>0.0</td>\n",
              "    </tr>\n",
              "    <tr>\n",
              "      <th>24061</th>\n",
              "      <td>2023-07-31</td>\n",
              "      <td>14:45:00</td>\n",
              "      <td>1230.81</td>\n",
              "      <td>1230.81</td>\n",
              "      <td>1230.81</td>\n",
              "      <td>1189.23</td>\n",
              "      <td>20186592.0</td>\n",
              "      <td>0.000000e+00</td>\n",
              "      <td>2.621392e+09</td>\n",
              "      <td>0.000000</td>\n",
              "      <td>...</td>\n",
              "      <td>-2.304385</td>\n",
              "      <td>1189.226647</td>\n",
              "      <td>0.0</td>\n",
              "      <td>0.0</td>\n",
              "      <td>0.0</td>\n",
              "      <td>0.0</td>\n",
              "      <td>0.0</td>\n",
              "      <td>0.0</td>\n",
              "      <td>1189.23</td>\n",
              "      <td>0.0</td>\n",
              "    </tr>\n",
              "  </tbody>\n",
              "</table>\n",
              "<p>24061 rows × 98 columns</p>\n",
              "</div>\n",
              "    <div class=\"colab-df-buttons\">\n",
              "\n",
              "  <div class=\"colab-df-container\">\n",
              "    <button class=\"colab-df-convert\" onclick=\"convertToInteractive('df-cfaa762a-8ec6-415f-a2f2-00d8f89142e3')\"\n",
              "            title=\"Convert this dataframe to an interactive table.\"\n",
              "            style=\"display:none;\">\n",
              "\n",
              "  <svg xmlns=\"http://www.w3.org/2000/svg\" height=\"24px\" viewBox=\"0 -960 960 960\">\n",
              "    <path d=\"M120-120v-720h720v720H120Zm60-500h600v-160H180v160Zm220 220h160v-160H400v160Zm0 220h160v-160H400v160ZM180-400h160v-160H180v160Zm440 0h160v-160H620v160ZM180-180h160v-160H180v160Zm440 0h160v-160H620v160Z\"/>\n",
              "  </svg>\n",
              "    </button>\n",
              "\n",
              "  <style>\n",
              "    .colab-df-container {\n",
              "      display:flex;\n",
              "      gap: 12px;\n",
              "    }\n",
              "\n",
              "    .colab-df-convert {\n",
              "      background-color: #E8F0FE;\n",
              "      border: none;\n",
              "      border-radius: 50%;\n",
              "      cursor: pointer;\n",
              "      display: none;\n",
              "      fill: #1967D2;\n",
              "      height: 32px;\n",
              "      padding: 0 0 0 0;\n",
              "      width: 32px;\n",
              "    }\n",
              "\n",
              "    .colab-df-convert:hover {\n",
              "      background-color: #E2EBFA;\n",
              "      box-shadow: 0px 1px 2px rgba(60, 64, 67, 0.3), 0px 1px 3px 1px rgba(60, 64, 67, 0.15);\n",
              "      fill: #174EA6;\n",
              "    }\n",
              "\n",
              "    .colab-df-buttons div {\n",
              "      margin-bottom: 4px;\n",
              "    }\n",
              "\n",
              "    [theme=dark] .colab-df-convert {\n",
              "      background-color: #3B4455;\n",
              "      fill: #D2E3FC;\n",
              "    }\n",
              "\n",
              "    [theme=dark] .colab-df-convert:hover {\n",
              "      background-color: #434B5C;\n",
              "      box-shadow: 0px 1px 3px 1px rgba(0, 0, 0, 0.15);\n",
              "      filter: drop-shadow(0px 1px 2px rgba(0, 0, 0, 0.3));\n",
              "      fill: #FFFFFF;\n",
              "    }\n",
              "  </style>\n",
              "\n",
              "    <script>\n",
              "      const buttonEl =\n",
              "        document.querySelector('#df-cfaa762a-8ec6-415f-a2f2-00d8f89142e3 button.colab-df-convert');\n",
              "      buttonEl.style.display =\n",
              "        google.colab.kernel.accessAllowed ? 'block' : 'none';\n",
              "\n",
              "      async function convertToInteractive(key) {\n",
              "        const element = document.querySelector('#df-cfaa762a-8ec6-415f-a2f2-00d8f89142e3');\n",
              "        const dataTable =\n",
              "          await google.colab.kernel.invokeFunction('convertToInteractive',\n",
              "                                                    [key], {});\n",
              "        if (!dataTable) return;\n",
              "\n",
              "        const docLinkHtml = 'Like what you see? Visit the ' +\n",
              "          '<a target=\"_blank\" href=https://colab.research.google.com/notebooks/data_table.ipynb>data table notebook</a>'\n",
              "          + ' to learn more about interactive tables.';\n",
              "        element.innerHTML = '';\n",
              "        dataTable['output_type'] = 'display_data';\n",
              "        await google.colab.output.renderOutput(dataTable, element);\n",
              "        const docLink = document.createElement('div');\n",
              "        docLink.innerHTML = docLinkHtml;\n",
              "        element.appendChild(docLink);\n",
              "      }\n",
              "    </script>\n",
              "  </div>\n",
              "\n",
              "\n",
              "<div id=\"df-b7c0abc7-e6a9-4bcb-b9db-2425a906c87e\">\n",
              "  <button class=\"colab-df-quickchart\" onclick=\"quickchart('df-b7c0abc7-e6a9-4bcb-b9db-2425a906c87e')\"\n",
              "            title=\"Suggest charts\"\n",
              "            style=\"display:none;\">\n",
              "\n",
              "<svg xmlns=\"http://www.w3.org/2000/svg\" height=\"24px\"viewBox=\"0 0 24 24\"\n",
              "     width=\"24px\">\n",
              "    <g>\n",
              "        <path d=\"M19 3H5c-1.1 0-2 .9-2 2v14c0 1.1.9 2 2 2h14c1.1 0 2-.9 2-2V5c0-1.1-.9-2-2-2zM9 17H7v-7h2v7zm4 0h-2V7h2v10zm4 0h-2v-4h2v4z\"/>\n",
              "    </g>\n",
              "</svg>\n",
              "  </button>\n",
              "\n",
              "<style>\n",
              "  .colab-df-quickchart {\n",
              "      --bg-color: #E8F0FE;\n",
              "      --fill-color: #1967D2;\n",
              "      --hover-bg-color: #E2EBFA;\n",
              "      --hover-fill-color: #174EA6;\n",
              "      --disabled-fill-color: #AAA;\n",
              "      --disabled-bg-color: #DDD;\n",
              "  }\n",
              "\n",
              "  [theme=dark] .colab-df-quickchart {\n",
              "      --bg-color: #3B4455;\n",
              "      --fill-color: #D2E3FC;\n",
              "      --hover-bg-color: #434B5C;\n",
              "      --hover-fill-color: #FFFFFF;\n",
              "      --disabled-bg-color: #3B4455;\n",
              "      --disabled-fill-color: #666;\n",
              "  }\n",
              "\n",
              "  .colab-df-quickchart {\n",
              "    background-color: var(--bg-color);\n",
              "    border: none;\n",
              "    border-radius: 50%;\n",
              "    cursor: pointer;\n",
              "    display: none;\n",
              "    fill: var(--fill-color);\n",
              "    height: 32px;\n",
              "    padding: 0;\n",
              "    width: 32px;\n",
              "  }\n",
              "\n",
              "  .colab-df-quickchart:hover {\n",
              "    background-color: var(--hover-bg-color);\n",
              "    box-shadow: 0 1px 2px rgba(60, 64, 67, 0.3), 0 1px 3px 1px rgba(60, 64, 67, 0.15);\n",
              "    fill: var(--button-hover-fill-color);\n",
              "  }\n",
              "\n",
              "  .colab-df-quickchart-complete:disabled,\n",
              "  .colab-df-quickchart-complete:disabled:hover {\n",
              "    background-color: var(--disabled-bg-color);\n",
              "    fill: var(--disabled-fill-color);\n",
              "    box-shadow: none;\n",
              "  }\n",
              "\n",
              "  .colab-df-spinner {\n",
              "    border: 2px solid var(--fill-color);\n",
              "    border-color: transparent;\n",
              "    border-bottom-color: var(--fill-color);\n",
              "    animation:\n",
              "      spin 1s steps(1) infinite;\n",
              "  }\n",
              "\n",
              "  @keyframes spin {\n",
              "    0% {\n",
              "      border-color: transparent;\n",
              "      border-bottom-color: var(--fill-color);\n",
              "      border-left-color: var(--fill-color);\n",
              "    }\n",
              "    20% {\n",
              "      border-color: transparent;\n",
              "      border-left-color: var(--fill-color);\n",
              "      border-top-color: var(--fill-color);\n",
              "    }\n",
              "    30% {\n",
              "      border-color: transparent;\n",
              "      border-left-color: var(--fill-color);\n",
              "      border-top-color: var(--fill-color);\n",
              "      border-right-color: var(--fill-color);\n",
              "    }\n",
              "    40% {\n",
              "      border-color: transparent;\n",
              "      border-right-color: var(--fill-color);\n",
              "      border-top-color: var(--fill-color);\n",
              "    }\n",
              "    60% {\n",
              "      border-color: transparent;\n",
              "      border-right-color: var(--fill-color);\n",
              "    }\n",
              "    80% {\n",
              "      border-color: transparent;\n",
              "      border-right-color: var(--fill-color);\n",
              "      border-bottom-color: var(--fill-color);\n",
              "    }\n",
              "    90% {\n",
              "      border-color: transparent;\n",
              "      border-bottom-color: var(--fill-color);\n",
              "    }\n",
              "  }\n",
              "</style>\n",
              "\n",
              "  <script>\n",
              "    async function quickchart(key) {\n",
              "      const quickchartButtonEl =\n",
              "        document.querySelector('#' + key + ' button');\n",
              "      quickchartButtonEl.disabled = true;  // To prevent multiple clicks.\n",
              "      quickchartButtonEl.classList.add('colab-df-spinner');\n",
              "      try {\n",
              "        const charts = await google.colab.kernel.invokeFunction(\n",
              "            'suggestCharts', [key], {});\n",
              "      } catch (error) {\n",
              "        console.error('Error during call to suggestCharts:', error);\n",
              "      }\n",
              "      quickchartButtonEl.classList.remove('colab-df-spinner');\n",
              "      quickchartButtonEl.classList.add('colab-df-quickchart-complete');\n",
              "    }\n",
              "    (() => {\n",
              "      let quickchartButtonEl =\n",
              "        document.querySelector('#df-b7c0abc7-e6a9-4bcb-b9db-2425a906c87e button');\n",
              "      quickchartButtonEl.style.display =\n",
              "        google.colab.kernel.accessAllowed ? 'block' : 'none';\n",
              "    })();\n",
              "  </script>\n",
              "</div>\n",
              "\n",
              "  <div id=\"id_811fa7b1-ae60-4dc7-b22f-88e67f8ecfd8\">\n",
              "    <style>\n",
              "      .colab-df-generate {\n",
              "        background-color: #E8F0FE;\n",
              "        border: none;\n",
              "        border-radius: 50%;\n",
              "        cursor: pointer;\n",
              "        display: none;\n",
              "        fill: #1967D2;\n",
              "        height: 32px;\n",
              "        padding: 0 0 0 0;\n",
              "        width: 32px;\n",
              "      }\n",
              "\n",
              "      .colab-df-generate:hover {\n",
              "        background-color: #E2EBFA;\n",
              "        box-shadow: 0px 1px 2px rgba(60, 64, 67, 0.3), 0px 1px 3px 1px rgba(60, 64, 67, 0.15);\n",
              "        fill: #174EA6;\n",
              "      }\n",
              "\n",
              "      [theme=dark] .colab-df-generate {\n",
              "        background-color: #3B4455;\n",
              "        fill: #D2E3FC;\n",
              "      }\n",
              "\n",
              "      [theme=dark] .colab-df-generate:hover {\n",
              "        background-color: #434B5C;\n",
              "        box-shadow: 0px 1px 3px 1px rgba(0, 0, 0, 0.15);\n",
              "        filter: drop-shadow(0px 1px 2px rgba(0, 0, 0, 0.3));\n",
              "        fill: #FFFFFF;\n",
              "      }\n",
              "    </style>\n",
              "    <button class=\"colab-df-generate\" onclick=\"generateWithVariable('data')\"\n",
              "            title=\"Generate code using this dataframe.\"\n",
              "            style=\"display:none;\">\n",
              "\n",
              "  <svg xmlns=\"http://www.w3.org/2000/svg\" height=\"24px\"viewBox=\"0 0 24 24\"\n",
              "       width=\"24px\">\n",
              "    <path d=\"M7,19H8.4L18.45,9,17,7.55,7,17.6ZM5,21V16.75L18.45,3.32a2,2,0,0,1,2.83,0l1.4,1.43a1.91,1.91,0,0,1,.58,1.4,1.91,1.91,0,0,1-.58,1.4L9.25,21ZM18.45,9,17,7.55Zm-12,3A5.31,5.31,0,0,0,4.9,8.1,5.31,5.31,0,0,0,1,6.5,5.31,5.31,0,0,0,4.9,4.9,5.31,5.31,0,0,0,6.5,1,5.31,5.31,0,0,0,8.1,4.9,5.31,5.31,0,0,0,12,6.5,5.46,5.46,0,0,0,6.5,12Z\"/>\n",
              "  </svg>\n",
              "    </button>\n",
              "    <script>\n",
              "      (() => {\n",
              "      const buttonEl =\n",
              "        document.querySelector('#id_811fa7b1-ae60-4dc7-b22f-88e67f8ecfd8 button.colab-df-generate');\n",
              "      buttonEl.style.display =\n",
              "        google.colab.kernel.accessAllowed ? 'block' : 'none';\n",
              "\n",
              "      buttonEl.onclick = () => {\n",
              "        google.colab.notebook.generateWithVariable('data');\n",
              "      }\n",
              "      })();\n",
              "    </script>\n",
              "  </div>\n",
              "\n",
              "    </div>\n",
              "  </div>\n"
            ],
            "application/vnd.google.colaboratory.intrinsic+json": {
              "type": "dataframe",
              "variable_name": "data"
            }
          },
          "metadata": {},
          "execution_count": 46
        }
      ],
      "source": [
        "data['Return'] = (data['Close'].shift(-rolling_window) - data['Close'])/data['Close']\n",
        "data = data.fillna(0)\n",
        "data = data.drop(index=0)\n",
        "data"
      ]
    },
    {
      "cell_type": "markdown",
      "metadata": {
        "id": "nVQerGPmqnAC"
      },
      "source": [
        "# Feature Engineering"
      ]
    },
    {
      "cell_type": "code",
      "execution_count": 47,
      "metadata": {
        "id": "-9nK3_PfqnAC"
      },
      "outputs": [],
      "source": [
        "def drop_high_corr_columns(df, threshold=0.6):\n",
        "    ohlcv_columns = {'Date','time', 'Open','High','Low','Close','Volume'}\n",
        "\n",
        "     # Identify non-OHLCV and non-date/time columns\n",
        "    non_corr_columns = [col for col in df.columns if col not in ohlcv_columns]\n",
        "\n",
        "    # Compute the correlation matrix only for non-OHLCV and non-date/time columns\n",
        "    corr_matrix = df[non_corr_columns].corr().abs()\n",
        "\n",
        "    # Create a set to keep track of columns to drop\n",
        "    to_drop = set()\n",
        "\n",
        "    # Iterate over the upper triangle of the correlation matrix\n",
        "    for i in range(len(corr_matrix.columns)):\n",
        "        for j in range(i + 1, len(corr_matrix.columns)):\n",
        "            if corr_matrix.iloc[i, j] > threshold:\n",
        "                # If the correlation is higher than the threshold, mark the column with the higher index to drop\n",
        "                col_to_drop = corr_matrix.columns[j]\n",
        "                if col_to_drop not in ohlcv_columns:\n",
        "                    to_drop.add(col_to_drop)\n",
        "\n",
        "    # Drop the columns from the DataFrame\n",
        "    df_dropped = df.drop(columns=to_drop)\n",
        "    return df_dropped\n",
        "\n",
        "data = drop_high_corr_columns(data)"
      ]
    },
    {
      "cell_type": "code",
      "execution_count": 48,
      "metadata": {
        "id": "M3LHQmLyqnAC"
      },
      "outputs": [],
      "source": [
        "def objective(trial, X_train, X_valid, y_train, y_valid, y_price):\n",
        "\n",
        "    # Select features based on Optuna's suggestions\n",
        "    selected_features = []\n",
        "    for col in X_train.columns:\n",
        "        if trial.suggest_categorical(col, [0, 1]):\n",
        "            selected_features.append(col)\n",
        "\n",
        "    for t in trial.study.trials:\n",
        "        if t.state != optuna.trial.TrialState.COMPLETE:\n",
        "            continue\n",
        "\n",
        "    # trade_threshold = trial.suggest_float('trade_threshold', 0.008, 0.08, step=0.0004)\n",
        "    trade_threshold  = 0.0005\n",
        "\n",
        "    # Use only the selected features in training\n",
        "    X_train_selected = X_train[selected_features]\n",
        "    X_valid_selected = X_valid[selected_features]\n",
        "\n",
        "    # Train the model\n",
        "    model = xgb.XGBRegressor()\n",
        "    model.fit(X_train_selected, y_train)\n",
        "\n",
        "    y_pred_train = model.predict(X_train_selected)\n",
        "    y_pred_valid = model.predict(X_valid_selected)\n",
        "\n",
        "    _, pos_is, _, sharpe_is = sharpe_for_vn30f(y_pred_train, y_price[:len(y_pred_train)], trade_threshold=trade_threshold, fee_perc=0.01, periods=10)\n",
        "    _, pos_os, _, sharpe_oos = sharpe_for_vn30f(y_pred_valid, y_price[len(y_pred_train):], trade_threshold=trade_threshold, fee_perc=0.01, periods=10)\n",
        "\n",
        "    print('Trade times in sample:',len(pos_is[pos_is != 0]), 'Trade times out sample:',len(pos_os[pos_os != 0]))\n",
        "\n",
        "    return sharpe_oos, abs((abs(sharpe_is / sharpe_oos))-1)\n",
        "\n",
        "X_train, X_valid, y_train, y_valid, train_data = split_optuna_data(data)"
      ]
    },
    {
      "cell_type": "code",
      "execution_count": 49,
      "metadata": {
        "id": "JCMZkqqqqnAC",
        "colab": {
          "base_uri": "https://localhost:8080/"
        },
        "outputId": "70b829ba-452d-495d-d00a-c766d85fe543"
      },
      "outputs": [
        {
          "output_type": "stream",
          "name": "stderr",
          "text": [
            "[I 2024-06-11 02:59:43,254] A new study created in memory with name: no-name-7b6dc38b-96a4-4e4e-bb3f-b2b511ad6d9c\n"
          ]
        },
        {
          "output_type": "stream",
          "name": "stdout",
          "text": [
            "A new study created in memory with name: no-name-7b6dc38b-96a4-4e4e-bb3f-b2b511ad6d9c\n",
            "A new study created in memory with name: no-name-7b6dc38b-96a4-4e4e-bb3f-b2b511ad6d9c\n"
          ]
        },
        {
          "output_type": "stream",
          "name": "stderr",
          "text": [
            "[I 2024-06-11 02:59:45,722] Trial 0 finished with values: [-1.0595071355463723, 1.311865890649607] and parameters: {'volume_adi': 1, 'volume_obv': 1, 'volume_fi': 0, 'volume_em': 0, 'volume_sma_em': 0, 'volume_mfi': 1, 'volatility_bbw': 0, 'volatility_bbp': 0, 'volatility_bbhi': 1, 'volatility_bbli': 1, 'volatility_kcw': 0, 'volatility_kchi': 0, 'volatility_kcli': 1, 'volatility_ui': 1, 'trend_macd': 1, 'trend_mass_index': 0, 'trend_adx': 1, 'trend_aroon_up': 1, 'trend_aroon_down': 1, 'trend_psar_up': 0, 'trend_psar_down': 0, 'trend_psar_up_indicator': 1, 'trend_psar_down_indicator': 0, 'momentum_pvo': 1, 'momentum_pvo_hist': 0, 'others_dr': 1, 'others_cr': 0}. \n"
          ]
        },
        {
          "output_type": "stream",
          "name": "stdout",
          "text": [
            "Trade times in sample: 6926 Trade times out sample: 7617\n",
            "Trial 0 finished with values: [-1.0595071355463723, 1.311865890649607] and parameters: {'volume_adi': 1, 'volume_obv': 1, 'volume_fi': 0, 'volume_em': 0, 'volume_sma_em': 0, 'volume_mfi': 1, 'volatility_bbw': 0, 'volatility_bbp': 0, 'volatility_bbhi': 1, 'volatility_bbli': 1, 'volatility_kcw': 0, 'volatility_kchi': 0, 'volatility_kcli': 1, 'volatility_ui': 1, 'trend_macd': 1, 'trend_mass_index': 0, 'trend_adx': 1, 'trend_aroon_up': 1, 'trend_aroon_down': 1, 'trend_psar_up': 0, 'trend_psar_down': 0, 'trend_psar_up_indicator': 1, 'trend_psar_down_indicator': 0, 'momentum_pvo': 1, 'momentum_pvo_hist': 0, 'others_dr': 1, 'others_cr': 0}. \n",
            "Trial 0 finished with values: [-1.0595071355463723, 1.311865890649607] and parameters: {'volume_adi': 1, 'volume_obv': 1, 'volume_fi': 0, 'volume_em': 0, 'volume_sma_em': 0, 'volume_mfi': 1, 'volatility_bbw': 0, 'volatility_bbp': 0, 'volatility_bbhi': 1, 'volatility_bbli': 1, 'volatility_kcw': 0, 'volatility_kchi': 0, 'volatility_kcli': 1, 'volatility_ui': 1, 'trend_macd': 1, 'trend_mass_index': 0, 'trend_adx': 1, 'trend_aroon_up': 1, 'trend_aroon_down': 1, 'trend_psar_up': 0, 'trend_psar_down': 0, 'trend_psar_up_indicator': 1, 'trend_psar_down_indicator': 0, 'momentum_pvo': 1, 'momentum_pvo_hist': 0, 'others_dr': 1, 'others_cr': 0}. \n"
          ]
        },
        {
          "output_type": "stream",
          "name": "stderr",
          "text": [
            "[I 2024-06-11 02:59:48,569] Trial 1 finished with values: [1.5837732703992247, 0.3848052244753253] and parameters: {'volume_adi': 1, 'volume_obv': 1, 'volume_fi': 1, 'volume_em': 0, 'volume_sma_em': 1, 'volume_mfi': 0, 'volatility_bbw': 1, 'volatility_bbp': 0, 'volatility_bbhi': 1, 'volatility_bbli': 0, 'volatility_kcw': 0, 'volatility_kchi': 1, 'volatility_kcli': 0, 'volatility_ui': 0, 'trend_macd': 1, 'trend_mass_index': 0, 'trend_adx': 1, 'trend_aroon_up': 0, 'trend_aroon_down': 0, 'trend_psar_up': 0, 'trend_psar_down': 1, 'trend_psar_up_indicator': 1, 'trend_psar_down_indicator': 1, 'momentum_pvo': 0, 'momentum_pvo_hist': 1, 'others_dr': 0, 'others_cr': 0}. \n"
          ]
        },
        {
          "output_type": "stream",
          "name": "stdout",
          "text": [
            "Trade times in sample: 6924 Trade times out sample: 7308\n",
            "Trial 1 finished with values: [1.5837732703992247, 0.3848052244753253] and parameters: {'volume_adi': 1, 'volume_obv': 1, 'volume_fi': 1, 'volume_em': 0, 'volume_sma_em': 1, 'volume_mfi': 0, 'volatility_bbw': 1, 'volatility_bbp': 0, 'volatility_bbhi': 1, 'volatility_bbli': 0, 'volatility_kcw': 0, 'volatility_kchi': 1, 'volatility_kcli': 0, 'volatility_ui': 0, 'trend_macd': 1, 'trend_mass_index': 0, 'trend_adx': 1, 'trend_aroon_up': 0, 'trend_aroon_down': 0, 'trend_psar_up': 0, 'trend_psar_down': 1, 'trend_psar_up_indicator': 1, 'trend_psar_down_indicator': 1, 'momentum_pvo': 0, 'momentum_pvo_hist': 1, 'others_dr': 0, 'others_cr': 0}. \n",
            "Trial 1 finished with values: [1.5837732703992247, 0.3848052244753253] and parameters: {'volume_adi': 1, 'volume_obv': 1, 'volume_fi': 1, 'volume_em': 0, 'volume_sma_em': 1, 'volume_mfi': 0, 'volatility_bbw': 1, 'volatility_bbp': 0, 'volatility_bbhi': 1, 'volatility_bbli': 0, 'volatility_kcw': 0, 'volatility_kchi': 1, 'volatility_kcli': 0, 'volatility_ui': 0, 'trend_macd': 1, 'trend_mass_index': 0, 'trend_adx': 1, 'trend_aroon_up': 0, 'trend_aroon_down': 0, 'trend_psar_up': 0, 'trend_psar_down': 1, 'trend_psar_up_indicator': 1, 'trend_psar_down_indicator': 1, 'momentum_pvo': 0, 'momentum_pvo_hist': 1, 'others_dr': 0, 'others_cr': 0}. \n"
          ]
        },
        {
          "output_type": "stream",
          "name": "stderr",
          "text": [
            "[I 2024-06-11 02:59:49,105] Trial 2 finished with values: [0.25810795722083674, 8.663636481718493] and parameters: {'volume_adi': 1, 'volume_obv': 0, 'volume_fi': 0, 'volume_em': 0, 'volume_sma_em': 1, 'volume_mfi': 0, 'volatility_bbw': 0, 'volatility_bbp': 1, 'volatility_bbhi': 0, 'volatility_bbli': 0, 'volatility_kcw': 0, 'volatility_kchi': 1, 'volatility_kcli': 0, 'volatility_ui': 0, 'trend_macd': 0, 'trend_mass_index': 0, 'trend_adx': 0, 'trend_aroon_up': 0, 'trend_aroon_down': 0, 'trend_psar_up': 1, 'trend_psar_down': 1, 'trend_psar_up_indicator': 1, 'trend_psar_down_indicator': 1, 'momentum_pvo': 1, 'momentum_pvo_hist': 1, 'others_dr': 1, 'others_cr': 0}. \n"
          ]
        },
        {
          "output_type": "stream",
          "name": "stdout",
          "text": [
            "Trade times in sample: 7756 Trade times out sample: 7314\n",
            "Trial 2 finished with values: [0.25810795722083674, 8.663636481718493] and parameters: {'volume_adi': 1, 'volume_obv': 0, 'volume_fi': 0, 'volume_em': 0, 'volume_sma_em': 1, 'volume_mfi': 0, 'volatility_bbw': 0, 'volatility_bbp': 1, 'volatility_bbhi': 0, 'volatility_bbli': 0, 'volatility_kcw': 0, 'volatility_kchi': 1, 'volatility_kcli': 0, 'volatility_ui': 0, 'trend_macd': 0, 'trend_mass_index': 0, 'trend_adx': 0, 'trend_aroon_up': 0, 'trend_aroon_down': 0, 'trend_psar_up': 1, 'trend_psar_down': 1, 'trend_psar_up_indicator': 1, 'trend_psar_down_indicator': 1, 'momentum_pvo': 1, 'momentum_pvo_hist': 1, 'others_dr': 1, 'others_cr': 0}. \n",
            "Trial 2 finished with values: [0.25810795722083674, 8.663636481718493] and parameters: {'volume_adi': 1, 'volume_obv': 0, 'volume_fi': 0, 'volume_em': 0, 'volume_sma_em': 1, 'volume_mfi': 0, 'volatility_bbw': 0, 'volatility_bbp': 1, 'volatility_bbhi': 0, 'volatility_bbli': 0, 'volatility_kcw': 0, 'volatility_kchi': 1, 'volatility_kcli': 0, 'volatility_ui': 0, 'trend_macd': 0, 'trend_mass_index': 0, 'trend_adx': 0, 'trend_aroon_up': 0, 'trend_aroon_down': 0, 'trend_psar_up': 1, 'trend_psar_down': 1, 'trend_psar_up_indicator': 1, 'trend_psar_down_indicator': 1, 'momentum_pvo': 1, 'momentum_pvo_hist': 1, 'others_dr': 1, 'others_cr': 0}. \n"
          ]
        },
        {
          "output_type": "stream",
          "name": "stderr",
          "text": [
            "[I 2024-06-11 02:59:49,795] Trial 3 finished with values: [-0.03445924270298814, 66.03515455748261] and parameters: {'volume_adi': 1, 'volume_obv': 0, 'volume_fi': 1, 'volume_em': 0, 'volume_sma_em': 0, 'volume_mfi': 0, 'volatility_bbw': 0, 'volatility_bbp': 0, 'volatility_bbhi': 1, 'volatility_bbli': 0, 'volatility_kcw': 1, 'volatility_kchi': 1, 'volatility_kcli': 0, 'volatility_ui': 1, 'trend_macd': 1, 'trend_mass_index': 0, 'trend_adx': 0, 'trend_aroon_up': 0, 'trend_aroon_down': 0, 'trend_psar_up': 1, 'trend_psar_down': 0, 'trend_psar_up_indicator': 1, 'trend_psar_down_indicator': 1, 'momentum_pvo': 0, 'momentum_pvo_hist': 0, 'others_dr': 1, 'others_cr': 1}. \n"
          ]
        },
        {
          "output_type": "stream",
          "name": "stdout",
          "text": [
            "Trade times in sample: 7803 Trade times out sample: 6290\n",
            "Trial 3 finished with values: [-0.03445924270298814, 66.03515455748261] and parameters: {'volume_adi': 1, 'volume_obv': 0, 'volume_fi': 1, 'volume_em': 0, 'volume_sma_em': 0, 'volume_mfi': 0, 'volatility_bbw': 0, 'volatility_bbp': 0, 'volatility_bbhi': 1, 'volatility_bbli': 0, 'volatility_kcw': 1, 'volatility_kchi': 1, 'volatility_kcli': 0, 'volatility_ui': 1, 'trend_macd': 1, 'trend_mass_index': 0, 'trend_adx': 0, 'trend_aroon_up': 0, 'trend_aroon_down': 0, 'trend_psar_up': 1, 'trend_psar_down': 0, 'trend_psar_up_indicator': 1, 'trend_psar_down_indicator': 1, 'momentum_pvo': 0, 'momentum_pvo_hist': 0, 'others_dr': 1, 'others_cr': 1}. \n",
            "Trial 3 finished with values: [-0.03445924270298814, 66.03515455748261] and parameters: {'volume_adi': 1, 'volume_obv': 0, 'volume_fi': 1, 'volume_em': 0, 'volume_sma_em': 0, 'volume_mfi': 0, 'volatility_bbw': 0, 'volatility_bbp': 0, 'volatility_bbhi': 1, 'volatility_bbli': 0, 'volatility_kcw': 1, 'volatility_kchi': 1, 'volatility_kcli': 0, 'volatility_ui': 1, 'trend_macd': 1, 'trend_mass_index': 0, 'trend_adx': 0, 'trend_aroon_up': 0, 'trend_aroon_down': 0, 'trend_psar_up': 1, 'trend_psar_down': 0, 'trend_psar_up_indicator': 1, 'trend_psar_down_indicator': 1, 'momentum_pvo': 0, 'momentum_pvo_hist': 0, 'others_dr': 1, 'others_cr': 1}. \n"
          ]
        },
        {
          "output_type": "stream",
          "name": "stderr",
          "text": [
            "[I 2024-06-11 02:59:50,999] Trial 4 finished with values: [-0.6235709995346171, 3.498247614497121] and parameters: {'volume_adi': 0, 'volume_obv': 0, 'volume_fi': 1, 'volume_em': 0, 'volume_sma_em': 1, 'volume_mfi': 1, 'volatility_bbw': 1, 'volatility_bbp': 0, 'volatility_bbhi': 1, 'volatility_bbli': 0, 'volatility_kcw': 1, 'volatility_kchi': 0, 'volatility_kcli': 1, 'volatility_ui': 0, 'trend_macd': 0, 'trend_mass_index': 1, 'trend_adx': 0, 'trend_aroon_up': 1, 'trend_aroon_down': 0, 'trend_psar_up': 1, 'trend_psar_down': 1, 'trend_psar_up_indicator': 0, 'trend_psar_down_indicator': 0, 'momentum_pvo': 1, 'momentum_pvo_hist': 1, 'others_dr': 0, 'others_cr': 1}. \n"
          ]
        },
        {
          "output_type": "stream",
          "name": "stdout",
          "text": [
            "Trade times in sample: 7116 Trade times out sample: 7927\n",
            "Trial 4 finished with values: [-0.6235709995346171, 3.498247614497121] and parameters: {'volume_adi': 0, 'volume_obv': 0, 'volume_fi': 1, 'volume_em': 0, 'volume_sma_em': 1, 'volume_mfi': 1, 'volatility_bbw': 1, 'volatility_bbp': 0, 'volatility_bbhi': 1, 'volatility_bbli': 0, 'volatility_kcw': 1, 'volatility_kchi': 0, 'volatility_kcli': 1, 'volatility_ui': 0, 'trend_macd': 0, 'trend_mass_index': 1, 'trend_adx': 0, 'trend_aroon_up': 1, 'trend_aroon_down': 0, 'trend_psar_up': 1, 'trend_psar_down': 1, 'trend_psar_up_indicator': 0, 'trend_psar_down_indicator': 0, 'momentum_pvo': 1, 'momentum_pvo_hist': 1, 'others_dr': 0, 'others_cr': 1}. \n",
            "Trial 4 finished with values: [-0.6235709995346171, 3.498247614497121] and parameters: {'volume_adi': 0, 'volume_obv': 0, 'volume_fi': 1, 'volume_em': 0, 'volume_sma_em': 1, 'volume_mfi': 1, 'volatility_bbw': 1, 'volatility_bbp': 0, 'volatility_bbhi': 1, 'volatility_bbli': 0, 'volatility_kcw': 1, 'volatility_kchi': 0, 'volatility_kcli': 1, 'volatility_ui': 0, 'trend_macd': 0, 'trend_mass_index': 1, 'trend_adx': 0, 'trend_aroon_up': 1, 'trend_aroon_down': 0, 'trend_psar_up': 1, 'trend_psar_down': 1, 'trend_psar_up_indicator': 0, 'trend_psar_down_indicator': 0, 'momentum_pvo': 1, 'momentum_pvo_hist': 1, 'others_dr': 0, 'others_cr': 1}. \n"
          ]
        },
        {
          "output_type": "stream",
          "name": "stderr",
          "text": [
            "[I 2024-06-11 02:59:53,283] Trial 5 finished with values: [0.3032171406480844, 7.791688998903151] and parameters: {'volume_adi': 1, 'volume_obv': 1, 'volume_fi': 1, 'volume_em': 0, 'volume_sma_em': 1, 'volume_mfi': 0, 'volatility_bbw': 0, 'volatility_bbp': 1, 'volatility_bbhi': 0, 'volatility_bbli': 0, 'volatility_kcw': 0, 'volatility_kchi': 1, 'volatility_kcli': 1, 'volatility_ui': 1, 'trend_macd': 0, 'trend_mass_index': 1, 'trend_adx': 1, 'trend_aroon_up': 0, 'trend_aroon_down': 1, 'trend_psar_up': 1, 'trend_psar_down': 0, 'trend_psar_up_indicator': 1, 'trend_psar_down_indicator': 0, 'momentum_pvo': 1, 'momentum_pvo_hist': 1, 'others_dr': 0, 'others_cr': 1}. \n"
          ]
        },
        {
          "output_type": "stream",
          "name": "stdout",
          "text": [
            "Trade times in sample: 7114 Trade times out sample: 6768\n",
            "Trial 5 finished with values: [0.3032171406480844, 7.791688998903151] and parameters: {'volume_adi': 1, 'volume_obv': 1, 'volume_fi': 1, 'volume_em': 0, 'volume_sma_em': 1, 'volume_mfi': 0, 'volatility_bbw': 0, 'volatility_bbp': 1, 'volatility_bbhi': 0, 'volatility_bbli': 0, 'volatility_kcw': 0, 'volatility_kchi': 1, 'volatility_kcli': 1, 'volatility_ui': 1, 'trend_macd': 0, 'trend_mass_index': 1, 'trend_adx': 1, 'trend_aroon_up': 0, 'trend_aroon_down': 1, 'trend_psar_up': 1, 'trend_psar_down': 0, 'trend_psar_up_indicator': 1, 'trend_psar_down_indicator': 0, 'momentum_pvo': 1, 'momentum_pvo_hist': 1, 'others_dr': 0, 'others_cr': 1}. \n",
            "Trial 5 finished with values: [0.3032171406480844, 7.791688998903151] and parameters: {'volume_adi': 1, 'volume_obv': 1, 'volume_fi': 1, 'volume_em': 0, 'volume_sma_em': 1, 'volume_mfi': 0, 'volatility_bbw': 0, 'volatility_bbp': 1, 'volatility_bbhi': 0, 'volatility_bbli': 0, 'volatility_kcw': 0, 'volatility_kchi': 1, 'volatility_kcli': 1, 'volatility_ui': 1, 'trend_macd': 0, 'trend_mass_index': 1, 'trend_adx': 1, 'trend_aroon_up': 0, 'trend_aroon_down': 1, 'trend_psar_up': 1, 'trend_psar_down': 0, 'trend_psar_up_indicator': 1, 'trend_psar_down_indicator': 0, 'momentum_pvo': 1, 'momentum_pvo_hist': 1, 'others_dr': 0, 'others_cr': 1}. \n"
          ]
        },
        {
          "output_type": "stream",
          "name": "stderr",
          "text": [
            "[I 2024-06-11 02:59:54,073] Trial 6 finished with values: [1.5864030858569633, 0.3148585680863709] and parameters: {'volume_adi': 0, 'volume_obv': 1, 'volume_fi': 0, 'volume_em': 0, 'volume_sma_em': 1, 'volume_mfi': 0, 'volatility_bbw': 0, 'volatility_bbp': 0, 'volatility_bbhi': 0, 'volatility_bbli': 0, 'volatility_kcw': 1, 'volatility_kchi': 1, 'volatility_kcli': 1, 'volatility_ui': 0, 'trend_macd': 0, 'trend_mass_index': 0, 'trend_adx': 1, 'trend_aroon_up': 1, 'trend_aroon_down': 0, 'trend_psar_up': 0, 'trend_psar_down': 0, 'trend_psar_up_indicator': 0, 'trend_psar_down_indicator': 0, 'momentum_pvo': 0, 'momentum_pvo_hist': 0, 'others_dr': 0, 'others_cr': 0}. \n"
          ]
        },
        {
          "output_type": "stream",
          "name": "stdout",
          "text": [
            "Trade times in sample: 6700 Trade times out sample: 7901\n",
            "Trial 6 finished with values: [1.5864030858569633, 0.3148585680863709] and parameters: {'volume_adi': 0, 'volume_obv': 1, 'volume_fi': 0, 'volume_em': 0, 'volume_sma_em': 1, 'volume_mfi': 0, 'volatility_bbw': 0, 'volatility_bbp': 0, 'volatility_bbhi': 0, 'volatility_bbli': 0, 'volatility_kcw': 1, 'volatility_kchi': 1, 'volatility_kcli': 1, 'volatility_ui': 0, 'trend_macd': 0, 'trend_mass_index': 0, 'trend_adx': 1, 'trend_aroon_up': 1, 'trend_aroon_down': 0, 'trend_psar_up': 0, 'trend_psar_down': 0, 'trend_psar_up_indicator': 0, 'trend_psar_down_indicator': 0, 'momentum_pvo': 0, 'momentum_pvo_hist': 0, 'others_dr': 0, 'others_cr': 0}. \n",
            "Trial 6 finished with values: [1.5864030858569633, 0.3148585680863709] and parameters: {'volume_adi': 0, 'volume_obv': 1, 'volume_fi': 0, 'volume_em': 0, 'volume_sma_em': 1, 'volume_mfi': 0, 'volatility_bbw': 0, 'volatility_bbp': 0, 'volatility_bbhi': 0, 'volatility_bbli': 0, 'volatility_kcw': 1, 'volatility_kchi': 1, 'volatility_kcli': 1, 'volatility_ui': 0, 'trend_macd': 0, 'trend_mass_index': 0, 'trend_adx': 1, 'trend_aroon_up': 1, 'trend_aroon_down': 0, 'trend_psar_up': 0, 'trend_psar_down': 0, 'trend_psar_up_indicator': 0, 'trend_psar_down_indicator': 0, 'momentum_pvo': 0, 'momentum_pvo_hist': 0, 'others_dr': 0, 'others_cr': 0}. \n"
          ]
        },
        {
          "output_type": "stream",
          "name": "stderr",
          "text": [
            "[I 2024-06-11 02:59:54,699] Trial 7 finished with values: [-0.5567063770093655, 4.381601760157559] and parameters: {'volume_adi': 0, 'volume_obv': 1, 'volume_fi': 1, 'volume_em': 1, 'volume_sma_em': 0, 'volume_mfi': 0, 'volatility_bbw': 0, 'volatility_bbp': 0, 'volatility_bbhi': 0, 'volatility_bbli': 0, 'volatility_kcw': 0, 'volatility_kchi': 1, 'volatility_kcli': 0, 'volatility_ui': 0, 'trend_macd': 0, 'trend_mass_index': 1, 'trend_adx': 0, 'trend_aroon_up': 1, 'trend_aroon_down': 1, 'trend_psar_up': 0, 'trend_psar_down': 1, 'trend_psar_up_indicator': 1, 'trend_psar_down_indicator': 1, 'momentum_pvo': 1, 'momentum_pvo_hist': 0, 'others_dr': 0, 'others_cr': 0}. \n"
          ]
        },
        {
          "output_type": "stream",
          "name": "stdout",
          "text": [
            "Trade times in sample: 6920 Trade times out sample: 7669\n",
            "Trial 7 finished with values: [-0.5567063770093655, 4.381601760157559] and parameters: {'volume_adi': 0, 'volume_obv': 1, 'volume_fi': 1, 'volume_em': 1, 'volume_sma_em': 0, 'volume_mfi': 0, 'volatility_bbw': 0, 'volatility_bbp': 0, 'volatility_bbhi': 0, 'volatility_bbli': 0, 'volatility_kcw': 0, 'volatility_kchi': 1, 'volatility_kcli': 0, 'volatility_ui': 0, 'trend_macd': 0, 'trend_mass_index': 1, 'trend_adx': 0, 'trend_aroon_up': 1, 'trend_aroon_down': 1, 'trend_psar_up': 0, 'trend_psar_down': 1, 'trend_psar_up_indicator': 1, 'trend_psar_down_indicator': 1, 'momentum_pvo': 1, 'momentum_pvo_hist': 0, 'others_dr': 0, 'others_cr': 0}. \n",
            "Trial 7 finished with values: [-0.5567063770093655, 4.381601760157559] and parameters: {'volume_adi': 0, 'volume_obv': 1, 'volume_fi': 1, 'volume_em': 1, 'volume_sma_em': 0, 'volume_mfi': 0, 'volatility_bbw': 0, 'volatility_bbp': 0, 'volatility_bbhi': 0, 'volatility_bbli': 0, 'volatility_kcw': 0, 'volatility_kchi': 1, 'volatility_kcli': 0, 'volatility_ui': 0, 'trend_macd': 0, 'trend_mass_index': 1, 'trend_adx': 0, 'trend_aroon_up': 1, 'trend_aroon_down': 1, 'trend_psar_up': 0, 'trend_psar_down': 1, 'trend_psar_up_indicator': 1, 'trend_psar_down_indicator': 1, 'momentum_pvo': 1, 'momentum_pvo_hist': 0, 'others_dr': 0, 'others_cr': 0}. \n"
          ]
        },
        {
          "output_type": "stream",
          "name": "stderr",
          "text": [
            "[I 2024-06-11 02:59:56,544] Trial 8 finished with values: [1.6443762568026845, 0.9476373746606643] and parameters: {'volume_adi': 0, 'volume_obv': 0, 'volume_fi': 1, 'volume_em': 0, 'volume_sma_em': 0, 'volume_mfi': 1, 'volatility_bbw': 0, 'volatility_bbp': 1, 'volatility_bbhi': 1, 'volatility_bbli': 1, 'volatility_kcw': 0, 'volatility_kchi': 1, 'volatility_kcli': 0, 'volatility_ui': 1, 'trend_macd': 1, 'trend_mass_index': 0, 'trend_adx': 1, 'trend_aroon_up': 1, 'trend_aroon_down': 0, 'trend_psar_up': 0, 'trend_psar_down': 0, 'trend_psar_up_indicator': 0, 'trend_psar_down_indicator': 0, 'momentum_pvo': 1, 'momentum_pvo_hist': 0, 'others_dr': 0, 'others_cr': 1}. \n"
          ]
        },
        {
          "output_type": "stream",
          "name": "stdout",
          "text": [
            "Trade times in sample: 6914 Trade times out sample: 7486\n",
            "Trial 8 finished with values: [1.6443762568026845, 0.9476373746606643] and parameters: {'volume_adi': 0, 'volume_obv': 0, 'volume_fi': 1, 'volume_em': 0, 'volume_sma_em': 0, 'volume_mfi': 1, 'volatility_bbw': 0, 'volatility_bbp': 1, 'volatility_bbhi': 1, 'volatility_bbli': 1, 'volatility_kcw': 0, 'volatility_kchi': 1, 'volatility_kcli': 0, 'volatility_ui': 1, 'trend_macd': 1, 'trend_mass_index': 0, 'trend_adx': 1, 'trend_aroon_up': 1, 'trend_aroon_down': 0, 'trend_psar_up': 0, 'trend_psar_down': 0, 'trend_psar_up_indicator': 0, 'trend_psar_down_indicator': 0, 'momentum_pvo': 1, 'momentum_pvo_hist': 0, 'others_dr': 0, 'others_cr': 1}. \n",
            "Trial 8 finished with values: [1.6443762568026845, 0.9476373746606643] and parameters: {'volume_adi': 0, 'volume_obv': 0, 'volume_fi': 1, 'volume_em': 0, 'volume_sma_em': 0, 'volume_mfi': 1, 'volatility_bbw': 0, 'volatility_bbp': 1, 'volatility_bbhi': 1, 'volatility_bbli': 1, 'volatility_kcw': 0, 'volatility_kchi': 1, 'volatility_kcli': 0, 'volatility_ui': 1, 'trend_macd': 1, 'trend_mass_index': 0, 'trend_adx': 1, 'trend_aroon_up': 1, 'trend_aroon_down': 0, 'trend_psar_up': 0, 'trend_psar_down': 0, 'trend_psar_up_indicator': 0, 'trend_psar_down_indicator': 0, 'momentum_pvo': 1, 'momentum_pvo_hist': 0, 'others_dr': 0, 'others_cr': 1}. \n"
          ]
        },
        {
          "output_type": "stream",
          "name": "stderr",
          "text": [
            "[I 2024-06-11 02:59:57,811] Trial 9 finished with values: [-0.00245894572642638, 872.671853264889] and parameters: {'volume_adi': 0, 'volume_obv': 1, 'volume_fi': 0, 'volume_em': 1, 'volume_sma_em': 1, 'volume_mfi': 0, 'volatility_bbw': 1, 'volatility_bbp': 0, 'volatility_bbhi': 0, 'volatility_bbli': 1, 'volatility_kcw': 1, 'volatility_kchi': 0, 'volatility_kcli': 1, 'volatility_ui': 1, 'trend_macd': 0, 'trend_mass_index': 0, 'trend_adx': 0, 'trend_aroon_up': 0, 'trend_aroon_down': 1, 'trend_psar_up': 0, 'trend_psar_down': 0, 'trend_psar_up_indicator': 0, 'trend_psar_down_indicator': 0, 'momentum_pvo': 0, 'momentum_pvo_hist': 0, 'others_dr': 0, 'others_cr': 0}. \n"
          ]
        },
        {
          "output_type": "stream",
          "name": "stdout",
          "text": [
            "Trade times in sample: 7764 Trade times out sample: 7673\n",
            "Trial 9 finished with values: [-0.00245894572642638, 872.671853264889] and parameters: {'volume_adi': 0, 'volume_obv': 1, 'volume_fi': 0, 'volume_em': 1, 'volume_sma_em': 1, 'volume_mfi': 0, 'volatility_bbw': 1, 'volatility_bbp': 0, 'volatility_bbhi': 0, 'volatility_bbli': 1, 'volatility_kcw': 1, 'volatility_kchi': 0, 'volatility_kcli': 1, 'volatility_ui': 1, 'trend_macd': 0, 'trend_mass_index': 0, 'trend_adx': 0, 'trend_aroon_up': 0, 'trend_aroon_down': 1, 'trend_psar_up': 0, 'trend_psar_down': 0, 'trend_psar_up_indicator': 0, 'trend_psar_down_indicator': 0, 'momentum_pvo': 0, 'momentum_pvo_hist': 0, 'others_dr': 0, 'others_cr': 0}. \n",
            "Trial 9 finished with values: [-0.00245894572642638, 872.671853264889] and parameters: {'volume_adi': 0, 'volume_obv': 1, 'volume_fi': 0, 'volume_em': 1, 'volume_sma_em': 1, 'volume_mfi': 0, 'volatility_bbw': 1, 'volatility_bbp': 0, 'volatility_bbhi': 0, 'volatility_bbli': 1, 'volatility_kcw': 1, 'volatility_kchi': 0, 'volatility_kcli': 1, 'volatility_ui': 1, 'trend_macd': 0, 'trend_mass_index': 0, 'trend_adx': 0, 'trend_aroon_up': 0, 'trend_aroon_down': 1, 'trend_psar_up': 0, 'trend_psar_down': 0, 'trend_psar_up_indicator': 0, 'trend_psar_down_indicator': 0, 'momentum_pvo': 0, 'momentum_pvo_hist': 0, 'others_dr': 0, 'others_cr': 0}. \n"
          ]
        },
        {
          "output_type": "stream",
          "name": "stderr",
          "text": [
            "[I 2024-06-11 02:59:59,818] Trial 10 finished with values: [1.668430110755323, 0.32245175150905014] and parameters: {'volume_adi': 0, 'volume_obv': 0, 'volume_fi': 0, 'volume_em': 1, 'volume_sma_em': 1, 'volume_mfi': 1, 'volatility_bbw': 1, 'volatility_bbp': 1, 'volatility_bbhi': 0, 'volatility_bbli': 1, 'volatility_kcw': 0, 'volatility_kchi': 1, 'volatility_kcli': 1, 'volatility_ui': 0, 'trend_macd': 0, 'trend_mass_index': 0, 'trend_adx': 0, 'trend_aroon_up': 0, 'trend_aroon_down': 1, 'trend_psar_up': 0, 'trend_psar_down': 1, 'trend_psar_up_indicator': 0, 'trend_psar_down_indicator': 0, 'momentum_pvo': 0, 'momentum_pvo_hist': 0, 'others_dr': 0, 'others_cr': 0}. \n"
          ]
        },
        {
          "output_type": "stream",
          "name": "stdout",
          "text": [
            "Trade times in sample: 7764 Trade times out sample: 8021\n",
            "Trial 10 finished with values: [1.668430110755323, 0.32245175150905014] and parameters: {'volume_adi': 0, 'volume_obv': 0, 'volume_fi': 0, 'volume_em': 1, 'volume_sma_em': 1, 'volume_mfi': 1, 'volatility_bbw': 1, 'volatility_bbp': 1, 'volatility_bbhi': 0, 'volatility_bbli': 1, 'volatility_kcw': 0, 'volatility_kchi': 1, 'volatility_kcli': 1, 'volatility_ui': 0, 'trend_macd': 0, 'trend_mass_index': 0, 'trend_adx': 0, 'trend_aroon_up': 0, 'trend_aroon_down': 1, 'trend_psar_up': 0, 'trend_psar_down': 1, 'trend_psar_up_indicator': 0, 'trend_psar_down_indicator': 0, 'momentum_pvo': 0, 'momentum_pvo_hist': 0, 'others_dr': 0, 'others_cr': 0}. \n",
            "Trial 10 finished with values: [1.668430110755323, 0.32245175150905014] and parameters: {'volume_adi': 0, 'volume_obv': 0, 'volume_fi': 0, 'volume_em': 1, 'volume_sma_em': 1, 'volume_mfi': 1, 'volatility_bbw': 1, 'volatility_bbp': 1, 'volatility_bbhi': 0, 'volatility_bbli': 1, 'volatility_kcw': 0, 'volatility_kchi': 1, 'volatility_kcli': 1, 'volatility_ui': 0, 'trend_macd': 0, 'trend_mass_index': 0, 'trend_adx': 0, 'trend_aroon_up': 0, 'trend_aroon_down': 1, 'trend_psar_up': 0, 'trend_psar_down': 1, 'trend_psar_up_indicator': 0, 'trend_psar_down_indicator': 0, 'momentum_pvo': 0, 'momentum_pvo_hist': 0, 'others_dr': 0, 'others_cr': 0}. \n"
          ]
        },
        {
          "output_type": "stream",
          "name": "stderr",
          "text": [
            "[I 2024-06-11 03:00:01,099] Trial 11 finished with values: [-0.6085246099120935, 3.620288877764282] and parameters: {'volume_adi': 1, 'volume_obv': 0, 'volume_fi': 0, 'volume_em': 0, 'volume_sma_em': 1, 'volume_mfi': 1, 'volatility_bbw': 0, 'volatility_bbp': 0, 'volatility_bbhi': 0, 'volatility_bbli': 1, 'volatility_kcw': 1, 'volatility_kchi': 0, 'volatility_kcli': 1, 'volatility_ui': 1, 'trend_macd': 1, 'trend_mass_index': 1, 'trend_adx': 0, 'trend_aroon_up': 1, 'trend_aroon_down': 0, 'trend_psar_up': 1, 'trend_psar_down': 0, 'trend_psar_up_indicator': 1, 'trend_psar_down_indicator': 0, 'momentum_pvo': 1, 'momentum_pvo_hist': 1, 'others_dr': 1, 'others_cr': 1}. \n"
          ]
        },
        {
          "output_type": "stream",
          "name": "stdout",
          "text": [
            "Trade times in sample: 6924 Trade times out sample: 7940\n",
            "Trial 11 finished with values: [-0.6085246099120935, 3.620288877764282] and parameters: {'volume_adi': 1, 'volume_obv': 0, 'volume_fi': 0, 'volume_em': 0, 'volume_sma_em': 1, 'volume_mfi': 1, 'volatility_bbw': 0, 'volatility_bbp': 0, 'volatility_bbhi': 0, 'volatility_bbli': 1, 'volatility_kcw': 1, 'volatility_kchi': 0, 'volatility_kcli': 1, 'volatility_ui': 1, 'trend_macd': 1, 'trend_mass_index': 1, 'trend_adx': 0, 'trend_aroon_up': 1, 'trend_aroon_down': 0, 'trend_psar_up': 1, 'trend_psar_down': 0, 'trend_psar_up_indicator': 1, 'trend_psar_down_indicator': 0, 'momentum_pvo': 1, 'momentum_pvo_hist': 1, 'others_dr': 1, 'others_cr': 1}. \n",
            "Trial 11 finished with values: [-0.6085246099120935, 3.620288877764282] and parameters: {'volume_adi': 1, 'volume_obv': 0, 'volume_fi': 0, 'volume_em': 0, 'volume_sma_em': 1, 'volume_mfi': 1, 'volatility_bbw': 0, 'volatility_bbp': 0, 'volatility_bbhi': 0, 'volatility_bbli': 1, 'volatility_kcw': 1, 'volatility_kchi': 0, 'volatility_kcli': 1, 'volatility_ui': 1, 'trend_macd': 1, 'trend_mass_index': 1, 'trend_adx': 0, 'trend_aroon_up': 1, 'trend_aroon_down': 0, 'trend_psar_up': 1, 'trend_psar_down': 0, 'trend_psar_up_indicator': 1, 'trend_psar_down_indicator': 0, 'momentum_pvo': 1, 'momentum_pvo_hist': 1, 'others_dr': 1, 'others_cr': 1}. \n"
          ]
        },
        {
          "output_type": "stream",
          "name": "stderr",
          "text": [
            "[I 2024-06-11 03:00:02,272] Trial 12 finished with values: [-1.3039029916106166, 0.6481241046240993] and parameters: {'volume_adi': 1, 'volume_obv': 0, 'volume_fi': 0, 'volume_em': 0, 'volume_sma_em': 1, 'volume_mfi': 1, 'volatility_bbw': 0, 'volatility_bbp': 0, 'volatility_bbhi': 1, 'volatility_bbli': 0, 'volatility_kcw': 1, 'volatility_kchi': 0, 'volatility_kcli': 0, 'volatility_ui': 0, 'trend_macd': 1, 'trend_mass_index': 1, 'trend_adx': 0, 'trend_aroon_up': 0, 'trend_aroon_down': 1, 'trend_psar_up': 1, 'trend_psar_down': 1, 'trend_psar_up_indicator': 1, 'trend_psar_down_indicator': 0, 'momentum_pvo': 0, 'momentum_pvo_hist': 1, 'others_dr': 0, 'others_cr': 0}. \n"
          ]
        },
        {
          "output_type": "stream",
          "name": "stdout",
          "text": [
            "Trade times in sample: 7117 Trade times out sample: 6768\n",
            "Trial 12 finished with values: [-1.3039029916106166, 0.6481241046240993] and parameters: {'volume_adi': 1, 'volume_obv': 0, 'volume_fi': 0, 'volume_em': 0, 'volume_sma_em': 1, 'volume_mfi': 1, 'volatility_bbw': 0, 'volatility_bbp': 0, 'volatility_bbhi': 1, 'volatility_bbli': 0, 'volatility_kcw': 1, 'volatility_kchi': 0, 'volatility_kcli': 0, 'volatility_ui': 0, 'trend_macd': 1, 'trend_mass_index': 1, 'trend_adx': 0, 'trend_aroon_up': 0, 'trend_aroon_down': 1, 'trend_psar_up': 1, 'trend_psar_down': 1, 'trend_psar_up_indicator': 1, 'trend_psar_down_indicator': 0, 'momentum_pvo': 0, 'momentum_pvo_hist': 1, 'others_dr': 0, 'others_cr': 0}. \n",
            "Trial 12 finished with values: [-1.3039029916106166, 0.6481241046240993] and parameters: {'volume_adi': 1, 'volume_obv': 0, 'volume_fi': 0, 'volume_em': 0, 'volume_sma_em': 1, 'volume_mfi': 1, 'volatility_bbw': 0, 'volatility_bbp': 0, 'volatility_bbhi': 1, 'volatility_bbli': 0, 'volatility_kcw': 1, 'volatility_kchi': 0, 'volatility_kcli': 0, 'volatility_ui': 0, 'trend_macd': 1, 'trend_mass_index': 1, 'trend_adx': 0, 'trend_aroon_up': 0, 'trend_aroon_down': 1, 'trend_psar_up': 1, 'trend_psar_down': 1, 'trend_psar_up_indicator': 1, 'trend_psar_down_indicator': 0, 'momentum_pvo': 0, 'momentum_pvo_hist': 1, 'others_dr': 0, 'others_cr': 0}. \n"
          ]
        },
        {
          "output_type": "stream",
          "name": "stderr",
          "text": [
            "[I 2024-06-11 03:00:03,802] Trial 13 finished with values: [-1.1716489874772442, 1.970234909788339] and parameters: {'volume_adi': 0, 'volume_obv': 1, 'volume_fi': 1, 'volume_em': 1, 'volume_sma_em': 0, 'volume_mfi': 0, 'volatility_bbw': 0, 'volatility_bbp': 0, 'volatility_bbhi': 1, 'volatility_bbli': 0, 'volatility_kcw': 1, 'volatility_kchi': 0, 'volatility_kcli': 0, 'volatility_ui': 0, 'trend_macd': 0, 'trend_mass_index': 1, 'trend_adx': 1, 'trend_aroon_up': 1, 'trend_aroon_down': 0, 'trend_psar_up': 0, 'trend_psar_down': 1, 'trend_psar_up_indicator': 1, 'trend_psar_down_indicator': 1, 'momentum_pvo': 1, 'momentum_pvo_hist': 1, 'others_dr': 1, 'others_cr': 1}. \n"
          ]
        },
        {
          "output_type": "stream",
          "name": "stdout",
          "text": [
            "Trade times in sample: 7805 Trade times out sample: 7931\n",
            "Trial 13 finished with values: [-1.1716489874772442, 1.970234909788339] and parameters: {'volume_adi': 0, 'volume_obv': 1, 'volume_fi': 1, 'volume_em': 1, 'volume_sma_em': 0, 'volume_mfi': 0, 'volatility_bbw': 0, 'volatility_bbp': 0, 'volatility_bbhi': 1, 'volatility_bbli': 0, 'volatility_kcw': 1, 'volatility_kchi': 0, 'volatility_kcli': 0, 'volatility_ui': 0, 'trend_macd': 0, 'trend_mass_index': 1, 'trend_adx': 1, 'trend_aroon_up': 1, 'trend_aroon_down': 0, 'trend_psar_up': 0, 'trend_psar_down': 1, 'trend_psar_up_indicator': 1, 'trend_psar_down_indicator': 1, 'momentum_pvo': 1, 'momentum_pvo_hist': 1, 'others_dr': 1, 'others_cr': 1}. \n",
            "Trial 13 finished with values: [-1.1716489874772442, 1.970234909788339] and parameters: {'volume_adi': 0, 'volume_obv': 1, 'volume_fi': 1, 'volume_em': 1, 'volume_sma_em': 0, 'volume_mfi': 0, 'volatility_bbw': 0, 'volatility_bbp': 0, 'volatility_bbhi': 1, 'volatility_bbli': 0, 'volatility_kcw': 1, 'volatility_kchi': 0, 'volatility_kcli': 0, 'volatility_ui': 0, 'trend_macd': 0, 'trend_mass_index': 1, 'trend_adx': 1, 'trend_aroon_up': 1, 'trend_aroon_down': 0, 'trend_psar_up': 0, 'trend_psar_down': 1, 'trend_psar_up_indicator': 1, 'trend_psar_down_indicator': 1, 'momentum_pvo': 1, 'momentum_pvo_hist': 1, 'others_dr': 1, 'others_cr': 1}. \n"
          ]
        },
        {
          "output_type": "stream",
          "name": "stderr",
          "text": [
            "[I 2024-06-11 03:00:05,150] Trial 14 finished with values: [0.554118975235614, 4.07446816857182] and parameters: {'volume_adi': 0, 'volume_obv': 1, 'volume_fi': 0, 'volume_em': 1, 'volume_sma_em': 0, 'volume_mfi': 0, 'volatility_bbw': 0, 'volatility_bbp': 1, 'volatility_bbhi': 0, 'volatility_bbli': 1, 'volatility_kcw': 1, 'volatility_kchi': 1, 'volatility_kcli': 1, 'volatility_ui': 0, 'trend_macd': 0, 'trend_mass_index': 1, 'trend_adx': 1, 'trend_aroon_up': 0, 'trend_aroon_down': 0, 'trend_psar_up': 1, 'trend_psar_down': 0, 'trend_psar_up_indicator': 0, 'trend_psar_down_indicator': 1, 'momentum_pvo': 1, 'momentum_pvo_hist': 1, 'others_dr': 1, 'others_cr': 0}. \n"
          ]
        },
        {
          "output_type": "stream",
          "name": "stdout",
          "text": [
            "Trade times in sample: 7577 Trade times out sample: 7948\n",
            "Trial 14 finished with values: [0.554118975235614, 4.07446816857182] and parameters: {'volume_adi': 0, 'volume_obv': 1, 'volume_fi': 0, 'volume_em': 1, 'volume_sma_em': 0, 'volume_mfi': 0, 'volatility_bbw': 0, 'volatility_bbp': 1, 'volatility_bbhi': 0, 'volatility_bbli': 1, 'volatility_kcw': 1, 'volatility_kchi': 1, 'volatility_kcli': 1, 'volatility_ui': 0, 'trend_macd': 0, 'trend_mass_index': 1, 'trend_adx': 1, 'trend_aroon_up': 0, 'trend_aroon_down': 0, 'trend_psar_up': 1, 'trend_psar_down': 0, 'trend_psar_up_indicator': 0, 'trend_psar_down_indicator': 1, 'momentum_pvo': 1, 'momentum_pvo_hist': 1, 'others_dr': 1, 'others_cr': 0}. \n",
            "Trial 14 finished with values: [0.554118975235614, 4.07446816857182] and parameters: {'volume_adi': 0, 'volume_obv': 1, 'volume_fi': 0, 'volume_em': 1, 'volume_sma_em': 0, 'volume_mfi': 0, 'volatility_bbw': 0, 'volatility_bbp': 1, 'volatility_bbhi': 0, 'volatility_bbli': 1, 'volatility_kcw': 1, 'volatility_kchi': 1, 'volatility_kcli': 1, 'volatility_ui': 0, 'trend_macd': 0, 'trend_mass_index': 1, 'trend_adx': 1, 'trend_aroon_up': 0, 'trend_aroon_down': 0, 'trend_psar_up': 1, 'trend_psar_down': 0, 'trend_psar_up_indicator': 0, 'trend_psar_down_indicator': 1, 'momentum_pvo': 1, 'momentum_pvo_hist': 1, 'others_dr': 1, 'others_cr': 0}. \n"
          ]
        },
        {
          "output_type": "stream",
          "name": "stderr",
          "text": [
            "[I 2024-06-11 03:00:06,054] Trial 15 finished with values: [-0.31549557913122384, 7.341479483239974] and parameters: {'volume_adi': 0, 'volume_obv': 1, 'volume_fi': 1, 'volume_em': 0, 'volume_sma_em': 0, 'volume_mfi': 0, 'volatility_bbw': 0, 'volatility_bbp': 1, 'volatility_bbhi': 0, 'volatility_bbli': 1, 'volatility_kcw': 1, 'volatility_kchi': 0, 'volatility_kcli': 1, 'volatility_ui': 0, 'trend_macd': 1, 'trend_mass_index': 0, 'trend_adx': 0, 'trend_aroon_up': 0, 'trend_aroon_down': 0, 'trend_psar_up': 0, 'trend_psar_down': 1, 'trend_psar_up_indicator': 1, 'trend_psar_down_indicator': 0, 'momentum_pvo': 0, 'momentum_pvo_hist': 0, 'others_dr': 1, 'others_cr': 0}. \n"
          ]
        },
        {
          "output_type": "stream",
          "name": "stdout",
          "text": [
            "Trade times in sample: 7805 Trade times out sample: 7941\n",
            "Trial 15 finished with values: [-0.31549557913122384, 7.341479483239974] and parameters: {'volume_adi': 0, 'volume_obv': 1, 'volume_fi': 1, 'volume_em': 0, 'volume_sma_em': 0, 'volume_mfi': 0, 'volatility_bbw': 0, 'volatility_bbp': 1, 'volatility_bbhi': 0, 'volatility_bbli': 1, 'volatility_kcw': 1, 'volatility_kchi': 0, 'volatility_kcli': 1, 'volatility_ui': 0, 'trend_macd': 1, 'trend_mass_index': 0, 'trend_adx': 0, 'trend_aroon_up': 0, 'trend_aroon_down': 0, 'trend_psar_up': 0, 'trend_psar_down': 1, 'trend_psar_up_indicator': 1, 'trend_psar_down_indicator': 0, 'momentum_pvo': 0, 'momentum_pvo_hist': 0, 'others_dr': 1, 'others_cr': 0}. \n",
            "Trial 15 finished with values: [-0.31549557913122384, 7.341479483239974] and parameters: {'volume_adi': 0, 'volume_obv': 1, 'volume_fi': 1, 'volume_em': 0, 'volume_sma_em': 0, 'volume_mfi': 0, 'volatility_bbw': 0, 'volatility_bbp': 1, 'volatility_bbhi': 0, 'volatility_bbli': 1, 'volatility_kcw': 1, 'volatility_kchi': 0, 'volatility_kcli': 1, 'volatility_ui': 0, 'trend_macd': 1, 'trend_mass_index': 0, 'trend_adx': 0, 'trend_aroon_up': 0, 'trend_aroon_down': 0, 'trend_psar_up': 0, 'trend_psar_down': 1, 'trend_psar_up_indicator': 1, 'trend_psar_down_indicator': 0, 'momentum_pvo': 0, 'momentum_pvo_hist': 0, 'others_dr': 1, 'others_cr': 0}. \n"
          ]
        },
        {
          "output_type": "stream",
          "name": "stderr",
          "text": [
            "[I 2024-06-11 03:00:06,276] Trial 16 finished with values: [-0.4753126313923432, 3.9010791834655114] and parameters: {'volume_adi': 1, 'volume_obv': 0, 'volume_fi': 1, 'volume_em': 1, 'volume_sma_em': 1, 'volume_mfi': 1, 'volatility_bbw': 1, 'volatility_bbp': 1, 'volatility_bbhi': 1, 'volatility_bbli': 1, 'volatility_kcw': 0, 'volatility_kchi': 1, 'volatility_kcli': 1, 'volatility_ui': 0, 'trend_macd': 1, 'trend_mass_index': 1, 'trend_adx': 1, 'trend_aroon_up': 1, 'trend_aroon_down': 0, 'trend_psar_up': 0, 'trend_psar_down': 0, 'trend_psar_up_indicator': 1, 'trend_psar_down_indicator': 1, 'momentum_pvo': 0, 'momentum_pvo_hist': 1, 'others_dr': 1, 'others_cr': 1}. \n"
          ]
        },
        {
          "output_type": "stream",
          "name": "stdout",
          "text": [
            "Trade times in sample: 7803 Trade times out sample: 7944\n",
            "Trial 16 finished with values: [-0.4753126313923432, 3.9010791834655114] and parameters: {'volume_adi': 1, 'volume_obv': 0, 'volume_fi': 1, 'volume_em': 1, 'volume_sma_em': 1, 'volume_mfi': 1, 'volatility_bbw': 1, 'volatility_bbp': 1, 'volatility_bbhi': 1, 'volatility_bbli': 1, 'volatility_kcw': 0, 'volatility_kchi': 1, 'volatility_kcli': 1, 'volatility_ui': 0, 'trend_macd': 1, 'trend_mass_index': 1, 'trend_adx': 1, 'trend_aroon_up': 1, 'trend_aroon_down': 0, 'trend_psar_up': 0, 'trend_psar_down': 0, 'trend_psar_up_indicator': 1, 'trend_psar_down_indicator': 1, 'momentum_pvo': 0, 'momentum_pvo_hist': 1, 'others_dr': 1, 'others_cr': 1}. \n",
            "Trial 16 finished with values: [-0.4753126313923432, 3.9010791834655114] and parameters: {'volume_adi': 1, 'volume_obv': 0, 'volume_fi': 1, 'volume_em': 1, 'volume_sma_em': 1, 'volume_mfi': 1, 'volatility_bbw': 1, 'volatility_bbp': 1, 'volatility_bbhi': 1, 'volatility_bbli': 1, 'volatility_kcw': 0, 'volatility_kchi': 1, 'volatility_kcli': 1, 'volatility_ui': 0, 'trend_macd': 1, 'trend_mass_index': 1, 'trend_adx': 1, 'trend_aroon_up': 1, 'trend_aroon_down': 0, 'trend_psar_up': 0, 'trend_psar_down': 0, 'trend_psar_up_indicator': 1, 'trend_psar_down_indicator': 1, 'momentum_pvo': 0, 'momentum_pvo_hist': 1, 'others_dr': 1, 'others_cr': 1}. \n"
          ]
        },
        {
          "output_type": "stream",
          "name": "stderr",
          "text": [
            "[I 2024-06-11 03:00:06,505] Trial 17 finished with values: [-0.6600429623170515, 2.612104045300985] and parameters: {'volume_adi': 1, 'volume_obv': 1, 'volume_fi': 1, 'volume_em': 0, 'volume_sma_em': 1, 'volume_mfi': 1, 'volatility_bbw': 0, 'volatility_bbp': 1, 'volatility_bbhi': 1, 'volatility_bbli': 1, 'volatility_kcw': 1, 'volatility_kchi': 1, 'volatility_kcli': 0, 'volatility_ui': 0, 'trend_macd': 1, 'trend_mass_index': 1, 'trend_adx': 0, 'trend_aroon_up': 0, 'trend_aroon_down': 1, 'trend_psar_up': 1, 'trend_psar_down': 1, 'trend_psar_up_indicator': 1, 'trend_psar_down_indicator': 1, 'momentum_pvo': 1, 'momentum_pvo_hist': 0, 'others_dr': 0, 'others_cr': 0}. \n"
          ]
        },
        {
          "output_type": "stream",
          "name": "stdout",
          "text": [
            "Trade times in sample: 6924 Trade times out sample: 6289\n",
            "Trial 17 finished with values: [-0.6600429623170515, 2.612104045300985] and parameters: {'volume_adi': 1, 'volume_obv': 1, 'volume_fi': 1, 'volume_em': 0, 'volume_sma_em': 1, 'volume_mfi': 1, 'volatility_bbw': 0, 'volatility_bbp': 1, 'volatility_bbhi': 1, 'volatility_bbli': 1, 'volatility_kcw': 1, 'volatility_kchi': 1, 'volatility_kcli': 0, 'volatility_ui': 0, 'trend_macd': 1, 'trend_mass_index': 1, 'trend_adx': 0, 'trend_aroon_up': 0, 'trend_aroon_down': 1, 'trend_psar_up': 1, 'trend_psar_down': 1, 'trend_psar_up_indicator': 1, 'trend_psar_down_indicator': 1, 'momentum_pvo': 1, 'momentum_pvo_hist': 0, 'others_dr': 0, 'others_cr': 0}. \n",
            "Trial 17 finished with values: [-0.6600429623170515, 2.612104045300985] and parameters: {'volume_adi': 1, 'volume_obv': 1, 'volume_fi': 1, 'volume_em': 0, 'volume_sma_em': 1, 'volume_mfi': 1, 'volatility_bbw': 0, 'volatility_bbp': 1, 'volatility_bbhi': 1, 'volatility_bbli': 1, 'volatility_kcw': 1, 'volatility_kchi': 1, 'volatility_kcli': 0, 'volatility_ui': 0, 'trend_macd': 1, 'trend_mass_index': 1, 'trend_adx': 0, 'trend_aroon_up': 0, 'trend_aroon_down': 1, 'trend_psar_up': 1, 'trend_psar_down': 1, 'trend_psar_up_indicator': 1, 'trend_psar_down_indicator': 1, 'momentum_pvo': 1, 'momentum_pvo_hist': 0, 'others_dr': 0, 'others_cr': 0}. \n"
          ]
        },
        {
          "output_type": "stream",
          "name": "stderr",
          "text": [
            "[I 2024-06-11 03:00:06,699] Trial 18 finished with values: [-1.3273405769626667, 1.0523439703746824] and parameters: {'volume_adi': 0, 'volume_obv': 1, 'volume_fi': 1, 'volume_em': 0, 'volume_sma_em': 0, 'volume_mfi': 0, 'volatility_bbw': 0, 'volatility_bbp': 1, 'volatility_bbhi': 0, 'volatility_bbli': 1, 'volatility_kcw': 1, 'volatility_kchi': 0, 'volatility_kcli': 0, 'volatility_ui': 0, 'trend_macd': 1, 'trend_mass_index': 1, 'trend_adx': 0, 'trend_aroon_up': 0, 'trend_aroon_down': 0, 'trend_psar_up': 1, 'trend_psar_down': 1, 'trend_psar_up_indicator': 1, 'trend_psar_down_indicator': 0, 'momentum_pvo': 1, 'momentum_pvo_hist': 1, 'others_dr': 0, 'others_cr': 1}. \n"
          ]
        },
        {
          "output_type": "stream",
          "name": "stdout",
          "text": [
            "Trade times in sample: 7114 Trade times out sample: 6986\n",
            "Trial 18 finished with values: [-1.3273405769626667, 1.0523439703746824] and parameters: {'volume_adi': 0, 'volume_obv': 1, 'volume_fi': 1, 'volume_em': 0, 'volume_sma_em': 0, 'volume_mfi': 0, 'volatility_bbw': 0, 'volatility_bbp': 1, 'volatility_bbhi': 0, 'volatility_bbli': 1, 'volatility_kcw': 1, 'volatility_kchi': 0, 'volatility_kcli': 0, 'volatility_ui': 0, 'trend_macd': 1, 'trend_mass_index': 1, 'trend_adx': 0, 'trend_aroon_up': 0, 'trend_aroon_down': 0, 'trend_psar_up': 1, 'trend_psar_down': 1, 'trend_psar_up_indicator': 1, 'trend_psar_down_indicator': 0, 'momentum_pvo': 1, 'momentum_pvo_hist': 1, 'others_dr': 0, 'others_cr': 1}. \n",
            "Trial 18 finished with values: [-1.3273405769626667, 1.0523439703746824] and parameters: {'volume_adi': 0, 'volume_obv': 1, 'volume_fi': 1, 'volume_em': 0, 'volume_sma_em': 0, 'volume_mfi': 0, 'volatility_bbw': 0, 'volatility_bbp': 1, 'volatility_bbhi': 0, 'volatility_bbli': 1, 'volatility_kcw': 1, 'volatility_kchi': 0, 'volatility_kcli': 0, 'volatility_ui': 0, 'trend_macd': 1, 'trend_mass_index': 1, 'trend_adx': 0, 'trend_aroon_up': 0, 'trend_aroon_down': 0, 'trend_psar_up': 1, 'trend_psar_down': 1, 'trend_psar_up_indicator': 1, 'trend_psar_down_indicator': 0, 'momentum_pvo': 1, 'momentum_pvo_hist': 1, 'others_dr': 0, 'others_cr': 1}. \n"
          ]
        },
        {
          "output_type": "stream",
          "name": "stderr",
          "text": [
            "[I 2024-06-11 03:00:06,888] Trial 19 finished with values: [1.764823216219361, 0.28590599215263834] and parameters: {'volume_adi': 0, 'volume_obv': 1, 'volume_fi': 1, 'volume_em': 0, 'volume_sma_em': 0, 'volume_mfi': 0, 'volatility_bbw': 1, 'volatility_bbp': 0, 'volatility_bbhi': 1, 'volatility_bbli': 0, 'volatility_kcw': 0, 'volatility_kchi': 0, 'volatility_kcli': 1, 'volatility_ui': 0, 'trend_macd': 1, 'trend_mass_index': 0, 'trend_adx': 0, 'trend_aroon_up': 1, 'trend_aroon_down': 0, 'trend_psar_up': 0, 'trend_psar_down': 1, 'trend_psar_up_indicator': 1, 'trend_psar_down_indicator': 1, 'momentum_pvo': 0, 'momentum_pvo_hist': 0, 'others_dr': 1, 'others_cr': 1}. \n"
          ]
        },
        {
          "output_type": "stream",
          "name": "stdout",
          "text": [
            "Trade times in sample: 6924 Trade times out sample: 7424\n",
            "Trial 19 finished with values: [1.764823216219361, 0.28590599215263834] and parameters: {'volume_adi': 0, 'volume_obv': 1, 'volume_fi': 1, 'volume_em': 0, 'volume_sma_em': 0, 'volume_mfi': 0, 'volatility_bbw': 1, 'volatility_bbp': 0, 'volatility_bbhi': 1, 'volatility_bbli': 0, 'volatility_kcw': 0, 'volatility_kchi': 0, 'volatility_kcli': 1, 'volatility_ui': 0, 'trend_macd': 1, 'trend_mass_index': 0, 'trend_adx': 0, 'trend_aroon_up': 1, 'trend_aroon_down': 0, 'trend_psar_up': 0, 'trend_psar_down': 1, 'trend_psar_up_indicator': 1, 'trend_psar_down_indicator': 1, 'momentum_pvo': 0, 'momentum_pvo_hist': 0, 'others_dr': 1, 'others_cr': 1}. \n",
            "Trial 19 finished with values: [1.764823216219361, 0.28590599215263834] and parameters: {'volume_adi': 0, 'volume_obv': 1, 'volume_fi': 1, 'volume_em': 0, 'volume_sma_em': 0, 'volume_mfi': 0, 'volatility_bbw': 1, 'volatility_bbp': 0, 'volatility_bbhi': 1, 'volatility_bbli': 0, 'volatility_kcw': 0, 'volatility_kchi': 0, 'volatility_kcli': 1, 'volatility_ui': 0, 'trend_macd': 1, 'trend_mass_index': 0, 'trend_adx': 0, 'trend_aroon_up': 1, 'trend_aroon_down': 0, 'trend_psar_up': 0, 'trend_psar_down': 1, 'trend_psar_up_indicator': 1, 'trend_psar_down_indicator': 1, 'momentum_pvo': 0, 'momentum_pvo_hist': 0, 'others_dr': 1, 'others_cr': 1}. \n"
          ]
        },
        {
          "output_type": "stream",
          "name": "stderr",
          "text": [
            "[I 2024-06-11 03:00:07,085] Trial 20 finished with values: [-0.2875801792616045, 9.511049955844966] and parameters: {'volume_adi': 1, 'volume_obv': 0, 'volume_fi': 0, 'volume_em': 1, 'volume_sma_em': 0, 'volume_mfi': 0, 'volatility_bbw': 0, 'volatility_bbp': 0, 'volatility_bbhi': 1, 'volatility_bbli': 1, 'volatility_kcw': 0, 'volatility_kchi': 1, 'volatility_kcli': 1, 'volatility_ui': 0, 'trend_macd': 1, 'trend_mass_index': 1, 'trend_adx': 0, 'trend_aroon_up': 0, 'trend_aroon_down': 1, 'trend_psar_up': 0, 'trend_psar_down': 0, 'trend_psar_up_indicator': 1, 'trend_psar_down_indicator': 0, 'momentum_pvo': 1, 'momentum_pvo_hist': 1, 'others_dr': 0, 'others_cr': 0}. \n"
          ]
        },
        {
          "output_type": "stream",
          "name": "stdout",
          "text": [
            "Trade times in sample: 7123 Trade times out sample: 7304\n",
            "Trial 20 finished with values: [-0.2875801792616045, 9.511049955844966] and parameters: {'volume_adi': 1, 'volume_obv': 0, 'volume_fi': 0, 'volume_em': 1, 'volume_sma_em': 0, 'volume_mfi': 0, 'volatility_bbw': 0, 'volatility_bbp': 0, 'volatility_bbhi': 1, 'volatility_bbli': 1, 'volatility_kcw': 0, 'volatility_kchi': 1, 'volatility_kcli': 1, 'volatility_ui': 0, 'trend_macd': 1, 'trend_mass_index': 1, 'trend_adx': 0, 'trend_aroon_up': 0, 'trend_aroon_down': 1, 'trend_psar_up': 0, 'trend_psar_down': 0, 'trend_psar_up_indicator': 1, 'trend_psar_down_indicator': 0, 'momentum_pvo': 1, 'momentum_pvo_hist': 1, 'others_dr': 0, 'others_cr': 0}. \n",
            "Trial 20 finished with values: [-0.2875801792616045, 9.511049955844966] and parameters: {'volume_adi': 1, 'volume_obv': 0, 'volume_fi': 0, 'volume_em': 1, 'volume_sma_em': 0, 'volume_mfi': 0, 'volatility_bbw': 0, 'volatility_bbp': 0, 'volatility_bbhi': 1, 'volatility_bbli': 1, 'volatility_kcw': 0, 'volatility_kchi': 1, 'volatility_kcli': 1, 'volatility_ui': 0, 'trend_macd': 1, 'trend_mass_index': 1, 'trend_adx': 0, 'trend_aroon_up': 0, 'trend_aroon_down': 1, 'trend_psar_up': 0, 'trend_psar_down': 0, 'trend_psar_up_indicator': 1, 'trend_psar_down_indicator': 0, 'momentum_pvo': 1, 'momentum_pvo_hist': 1, 'others_dr': 0, 'others_cr': 0}. \n"
          ]
        },
        {
          "output_type": "stream",
          "name": "stderr",
          "text": [
            "[I 2024-06-11 03:00:07,277] Trial 21 finished with values: [-0.5997836981413639, 3.5432451291344247] and parameters: {'volume_adi': 1, 'volume_obv': 0, 'volume_fi': 1, 'volume_em': 0, 'volume_sma_em': 1, 'volume_mfi': 0, 'volatility_bbw': 0, 'volatility_bbp': 0, 'volatility_bbhi': 1, 'volatility_bbli': 1, 'volatility_kcw': 1, 'volatility_kchi': 1, 'volatility_kcli': 0, 'volatility_ui': 0, 'trend_macd': 0, 'trend_mass_index': 1, 'trend_adx': 0, 'trend_aroon_up': 0, 'trend_aroon_down': 0, 'trend_psar_up': 0, 'trend_psar_down': 0, 'trend_psar_up_indicator': 1, 'trend_psar_down_indicator': 1, 'momentum_pvo': 0, 'momentum_pvo_hist': 0, 'others_dr': 1, 'others_cr': 1}. \n"
          ]
        },
        {
          "output_type": "stream",
          "name": "stdout",
          "text": [
            "Trade times in sample: 7764 Trade times out sample: 7704\n",
            "Trial 21 finished with values: [-0.5997836981413639, 3.5432451291344247] and parameters: {'volume_adi': 1, 'volume_obv': 0, 'volume_fi': 1, 'volume_em': 0, 'volume_sma_em': 1, 'volume_mfi': 0, 'volatility_bbw': 0, 'volatility_bbp': 0, 'volatility_bbhi': 1, 'volatility_bbli': 1, 'volatility_kcw': 1, 'volatility_kchi': 1, 'volatility_kcli': 0, 'volatility_ui': 0, 'trend_macd': 0, 'trend_mass_index': 1, 'trend_adx': 0, 'trend_aroon_up': 0, 'trend_aroon_down': 0, 'trend_psar_up': 0, 'trend_psar_down': 0, 'trend_psar_up_indicator': 1, 'trend_psar_down_indicator': 1, 'momentum_pvo': 0, 'momentum_pvo_hist': 0, 'others_dr': 1, 'others_cr': 1}. \n",
            "Trial 21 finished with values: [-0.5997836981413639, 3.5432451291344247] and parameters: {'volume_adi': 1, 'volume_obv': 0, 'volume_fi': 1, 'volume_em': 0, 'volume_sma_em': 1, 'volume_mfi': 0, 'volatility_bbw': 0, 'volatility_bbp': 0, 'volatility_bbhi': 1, 'volatility_bbli': 1, 'volatility_kcw': 1, 'volatility_kchi': 1, 'volatility_kcli': 0, 'volatility_ui': 0, 'trend_macd': 0, 'trend_mass_index': 1, 'trend_adx': 0, 'trend_aroon_up': 0, 'trend_aroon_down': 0, 'trend_psar_up': 0, 'trend_psar_down': 0, 'trend_psar_up_indicator': 1, 'trend_psar_down_indicator': 1, 'momentum_pvo': 0, 'momentum_pvo_hist': 0, 'others_dr': 1, 'others_cr': 1}. \n",
            "Trade times in sample:"
          ]
        },
        {
          "output_type": "stream",
          "name": "stderr",
          "text": [
            "[I 2024-06-11 03:00:07,488] Trial 22 finished with values: [1.04862370304231, 2.1400828460048027] and parameters: {'volume_adi': 0, 'volume_obv': 0, 'volume_fi': 0, 'volume_em': 1, 'volume_sma_em': 0, 'volume_mfi': 0, 'volatility_bbw': 1, 'volatility_bbp': 1, 'volatility_bbhi': 0, 'volatility_bbli': 0, 'volatility_kcw': 0, 'volatility_kchi': 0, 'volatility_kcli': 1, 'volatility_ui': 0, 'trend_macd': 0, 'trend_mass_index': 1, 'trend_adx': 0, 'trend_aroon_up': 0, 'trend_aroon_down': 0, 'trend_psar_up': 1, 'trend_psar_down': 1, 'trend_psar_up_indicator': 1, 'trend_psar_down_indicator': 1, 'momentum_pvo': 1, 'momentum_pvo_hist': 0, 'others_dr': 0, 'others_cr': 0}. \n"
          ]
        },
        {
          "output_type": "stream",
          "name": "stdout",
          "text": [
            " 7577 Trade times out sample: 7669\n",
            "Trial 22 finished with values: [1.04862370304231, 2.1400828460048027] and parameters: {'volume_adi': 0, 'volume_obv': 0, 'volume_fi': 0, 'volume_em': 1, 'volume_sma_em': 0, 'volume_mfi': 0, 'volatility_bbw': 1, 'volatility_bbp': 1, 'volatility_bbhi': 0, 'volatility_bbli': 0, 'volatility_kcw': 0, 'volatility_kchi': 0, 'volatility_kcli': 1, 'volatility_ui': 0, 'trend_macd': 0, 'trend_mass_index': 1, 'trend_adx': 0, 'trend_aroon_up': 0, 'trend_aroon_down': 0, 'trend_psar_up': 1, 'trend_psar_down': 1, 'trend_psar_up_indicator': 1, 'trend_psar_down_indicator': 1, 'momentum_pvo': 1, 'momentum_pvo_hist': 0, 'others_dr': 0, 'others_cr': 0}. \n",
            "Trial 22 finished with values: [1.04862370304231, 2.1400828460048027] and parameters: {'volume_adi': 0, 'volume_obv': 0, 'volume_fi': 0, 'volume_em': 1, 'volume_sma_em': 0, 'volume_mfi': 0, 'volatility_bbw': 1, 'volatility_bbp': 1, 'volatility_bbhi': 0, 'volatility_bbli': 0, 'volatility_kcw': 0, 'volatility_kchi': 0, 'volatility_kcli': 1, 'volatility_ui': 0, 'trend_macd': 0, 'trend_mass_index': 1, 'trend_adx': 0, 'trend_aroon_up': 0, 'trend_aroon_down': 0, 'trend_psar_up': 1, 'trend_psar_down': 1, 'trend_psar_up_indicator': 1, 'trend_psar_down_indicator': 1, 'momentum_pvo': 1, 'momentum_pvo_hist': 0, 'others_dr': 0, 'others_cr': 0}. \n"
          ]
        },
        {
          "output_type": "stream",
          "name": "stderr",
          "text": [
            "[I 2024-06-11 03:00:07,704] Trial 23 finished with values: [0.05697786419623946, 55.048716070874306] and parameters: {'volume_adi': 1, 'volume_obv': 1, 'volume_fi': 0, 'volume_em': 1, 'volume_sma_em': 0, 'volume_mfi': 1, 'volatility_bbw': 0, 'volatility_bbp': 1, 'volatility_bbhi': 1, 'volatility_bbli': 1, 'volatility_kcw': 0, 'volatility_kchi': 1, 'volatility_kcli': 1, 'volatility_ui': 0, 'trend_macd': 1, 'trend_mass_index': 1, 'trend_adx': 1, 'trend_aroon_up': 0, 'trend_aroon_down': 0, 'trend_psar_up': 0, 'trend_psar_down': 0, 'trend_psar_up_indicator': 0, 'trend_psar_down_indicator': 0, 'momentum_pvo': 1, 'momentum_pvo_hist': 1, 'others_dr': 1, 'others_cr': 1}. \n"
          ]
        },
        {
          "output_type": "stream",
          "name": "stdout",
          "text": [
            "Trade times in sample: 7805 Trade times out sample: 7809\n",
            "Trial 23 finished with values: [0.05697786419623946, 55.048716070874306] and parameters: {'volume_adi': 1, 'volume_obv': 1, 'volume_fi': 0, 'volume_em': 1, 'volume_sma_em': 0, 'volume_mfi': 1, 'volatility_bbw': 0, 'volatility_bbp': 1, 'volatility_bbhi': 1, 'volatility_bbli': 1, 'volatility_kcw': 0, 'volatility_kchi': 1, 'volatility_kcli': 1, 'volatility_ui': 0, 'trend_macd': 1, 'trend_mass_index': 1, 'trend_adx': 1, 'trend_aroon_up': 0, 'trend_aroon_down': 0, 'trend_psar_up': 0, 'trend_psar_down': 0, 'trend_psar_up_indicator': 0, 'trend_psar_down_indicator': 0, 'momentum_pvo': 1, 'momentum_pvo_hist': 1, 'others_dr': 1, 'others_cr': 1}. \n",
            "Trial 23 finished with values: [0.05697786419623946, 55.048716070874306] and parameters: {'volume_adi': 1, 'volume_obv': 1, 'volume_fi': 0, 'volume_em': 1, 'volume_sma_em': 0, 'volume_mfi': 1, 'volatility_bbw': 0, 'volatility_bbp': 1, 'volatility_bbhi': 1, 'volatility_bbli': 1, 'volatility_kcw': 0, 'volatility_kchi': 1, 'volatility_kcli': 1, 'volatility_ui': 0, 'trend_macd': 1, 'trend_mass_index': 1, 'trend_adx': 1, 'trend_aroon_up': 0, 'trend_aroon_down': 0, 'trend_psar_up': 0, 'trend_psar_down': 0, 'trend_psar_up_indicator': 0, 'trend_psar_down_indicator': 0, 'momentum_pvo': 1, 'momentum_pvo_hist': 1, 'others_dr': 1, 'others_cr': 1}. \n",
            "Trade times in sample: 6924 Trade times out sample: 7308\n"
          ]
        },
        {
          "output_type": "stream",
          "name": "stderr",
          "text": [
            "[I 2024-06-11 03:00:07,910] Trial 24 finished with values: [-1.4924185257045262, 0.8894173186845418] and parameters: {'volume_adi': 0, 'volume_obv': 1, 'volume_fi': 1, 'volume_em': 0, 'volume_sma_em': 1, 'volume_mfi': 0, 'volatility_bbw': 0, 'volatility_bbp': 1, 'volatility_bbhi': 0, 'volatility_bbli': 0, 'volatility_kcw': 0, 'volatility_kchi': 0, 'volatility_kcli': 0, 'volatility_ui': 0, 'trend_macd': 1, 'trend_mass_index': 0, 'trend_adx': 0, 'trend_aroon_up': 0, 'trend_aroon_down': 1, 'trend_psar_up': 1, 'trend_psar_down': 0, 'trend_psar_up_indicator': 1, 'trend_psar_down_indicator': 1, 'momentum_pvo': 1, 'momentum_pvo_hist': 0, 'others_dr': 0, 'others_cr': 1}. \n"
          ]
        },
        {
          "output_type": "stream",
          "name": "stdout",
          "text": [
            "Trial 24 finished with values: [-1.4924185257045262, 0.8894173186845418] and parameters: {'volume_adi': 0, 'volume_obv': 1, 'volume_fi': 1, 'volume_em': 0, 'volume_sma_em': 1, 'volume_mfi': 0, 'volatility_bbw': 0, 'volatility_bbp': 1, 'volatility_bbhi': 0, 'volatility_bbli': 0, 'volatility_kcw': 0, 'volatility_kchi': 0, 'volatility_kcli': 0, 'volatility_ui': 0, 'trend_macd': 1, 'trend_mass_index': 0, 'trend_adx': 0, 'trend_aroon_up': 0, 'trend_aroon_down': 1, 'trend_psar_up': 1, 'trend_psar_down': 0, 'trend_psar_up_indicator': 1, 'trend_psar_down_indicator': 1, 'momentum_pvo': 1, 'momentum_pvo_hist': 0, 'others_dr': 0, 'others_cr': 1}. \n",
            "Trial 24 finished with values: [-1.4924185257045262, 0.8894173186845418] and parameters: {'volume_adi': 0, 'volume_obv': 1, 'volume_fi': 1, 'volume_em': 0, 'volume_sma_em': 1, 'volume_mfi': 0, 'volatility_bbw': 0, 'volatility_bbp': 1, 'volatility_bbhi': 0, 'volatility_bbli': 0, 'volatility_kcw': 0, 'volatility_kchi': 0, 'volatility_kcli': 0, 'volatility_ui': 0, 'trend_macd': 1, 'trend_mass_index': 0, 'trend_adx': 0, 'trend_aroon_up': 0, 'trend_aroon_down': 1, 'trend_psar_up': 1, 'trend_psar_down': 0, 'trend_psar_up_indicator': 1, 'trend_psar_down_indicator': 1, 'momentum_pvo': 1, 'momentum_pvo_hist': 0, 'others_dr': 0, 'others_cr': 1}. \n"
          ]
        },
        {
          "output_type": "stream",
          "name": "stderr",
          "text": [
            "[I 2024-06-11 03:00:08,150] Trial 25 finished with values: [0.5923431193471904, 3.826920437222734] and parameters: {'volume_adi': 0, 'volume_obv': 1, 'volume_fi': 0, 'volume_em': 1, 'volume_sma_em': 0, 'volume_mfi': 1, 'volatility_bbw': 1, 'volatility_bbp': 1, 'volatility_bbhi': 0, 'volatility_bbli': 0, 'volatility_kcw': 0, 'volatility_kchi': 1, 'volatility_kcli': 1, 'volatility_ui': 1, 'trend_macd': 1, 'trend_mass_index': 0, 'trend_adx': 1, 'trend_aroon_up': 0, 'trend_aroon_down': 0, 'trend_psar_up': 1, 'trend_psar_down': 0, 'trend_psar_up_indicator': 0, 'trend_psar_down_indicator': 1, 'momentum_pvo': 1, 'momentum_pvo_hist': 0, 'others_dr': 0, 'others_cr': 1}. \n"
          ]
        },
        {
          "output_type": "stream",
          "name": "stdout",
          "text": [
            "Trade times in sample: 6925 Trade times out sample: 7669\n",
            "Trial 25 finished with values: [0.5923431193471904, 3.826920437222734] and parameters: {'volume_adi': 0, 'volume_obv': 1, 'volume_fi': 0, 'volume_em': 1, 'volume_sma_em': 0, 'volume_mfi': 1, 'volatility_bbw': 1, 'volatility_bbp': 1, 'volatility_bbhi': 0, 'volatility_bbli': 0, 'volatility_kcw': 0, 'volatility_kchi': 1, 'volatility_kcli': 1, 'volatility_ui': 1, 'trend_macd': 1, 'trend_mass_index': 0, 'trend_adx': 1, 'trend_aroon_up': 0, 'trend_aroon_down': 0, 'trend_psar_up': 1, 'trend_psar_down': 0, 'trend_psar_up_indicator': 0, 'trend_psar_down_indicator': 1, 'momentum_pvo': 1, 'momentum_pvo_hist': 0, 'others_dr': 0, 'others_cr': 1}. \n",
            "Trial 25 finished with values: [0.5923431193471904, 3.826920437222734] and parameters: {'volume_adi': 0, 'volume_obv': 1, 'volume_fi': 0, 'volume_em': 1, 'volume_sma_em': 0, 'volume_mfi': 1, 'volatility_bbw': 1, 'volatility_bbp': 1, 'volatility_bbhi': 0, 'volatility_bbli': 0, 'volatility_kcw': 0, 'volatility_kchi': 1, 'volatility_kcli': 1, 'volatility_ui': 1, 'trend_macd': 1, 'trend_mass_index': 0, 'trend_adx': 1, 'trend_aroon_up': 0, 'trend_aroon_down': 0, 'trend_psar_up': 1, 'trend_psar_down': 0, 'trend_psar_up_indicator': 0, 'trend_psar_down_indicator': 1, 'momentum_pvo': 1, 'momentum_pvo_hist': 0, 'others_dr': 0, 'others_cr': 1}. \n"
          ]
        },
        {
          "output_type": "stream",
          "name": "stderr",
          "text": [
            "[I 2024-06-11 03:00:08,331] Trial 26 finished with values: [-1.1020945469247883, 0.9206404470309235] and parameters: {'volume_adi': 0, 'volume_obv': 0, 'volume_fi': 0, 'volume_em': 0, 'volume_sma_em': 0, 'volume_mfi': 0, 'volatility_bbw': 0, 'volatility_bbp': 0, 'volatility_bbhi': 0, 'volatility_bbli': 0, 'volatility_kcw': 0, 'volatility_kchi': 1, 'volatility_kcli': 0, 'volatility_ui': 0, 'trend_macd': 0, 'trend_mass_index': 0, 'trend_adx': 0, 'trend_aroon_up': 0, 'trend_aroon_down': 1, 'trend_psar_up': 1, 'trend_psar_down': 0, 'trend_psar_up_indicator': 0, 'trend_psar_down_indicator': 1, 'momentum_pvo': 0, 'momentum_pvo_hist': 1, 'others_dr': 1, 'others_cr': 1}. \n"
          ]
        },
        {
          "output_type": "stream",
          "name": "stdout",
          "text": [
            "Trade times in sample: 6654 Trade times out sample: 6956\n",
            "Trial 26 finished with values: [-1.1020945469247883, 0.9206404470309235] and parameters: {'volume_adi': 0, 'volume_obv': 0, 'volume_fi': 0, 'volume_em': 0, 'volume_sma_em': 0, 'volume_mfi': 0, 'volatility_bbw': 0, 'volatility_bbp': 0, 'volatility_bbhi': 0, 'volatility_bbli': 0, 'volatility_kcw': 0, 'volatility_kchi': 1, 'volatility_kcli': 0, 'volatility_ui': 0, 'trend_macd': 0, 'trend_mass_index': 0, 'trend_adx': 0, 'trend_aroon_up': 0, 'trend_aroon_down': 1, 'trend_psar_up': 1, 'trend_psar_down': 0, 'trend_psar_up_indicator': 0, 'trend_psar_down_indicator': 1, 'momentum_pvo': 0, 'momentum_pvo_hist': 1, 'others_dr': 1, 'others_cr': 1}. \n",
            "Trial 26 finished with values: [-1.1020945469247883, 0.9206404470309235] and parameters: {'volume_adi': 0, 'volume_obv': 0, 'volume_fi': 0, 'volume_em': 0, 'volume_sma_em': 0, 'volume_mfi': 0, 'volatility_bbw': 0, 'volatility_bbp': 0, 'volatility_bbhi': 0, 'volatility_bbli': 0, 'volatility_kcw': 0, 'volatility_kchi': 1, 'volatility_kcli': 0, 'volatility_ui': 0, 'trend_macd': 0, 'trend_mass_index': 0, 'trend_adx': 0, 'trend_aroon_up': 0, 'trend_aroon_down': 1, 'trend_psar_up': 1, 'trend_psar_down': 0, 'trend_psar_up_indicator': 0, 'trend_psar_down_indicator': 1, 'momentum_pvo': 0, 'momentum_pvo_hist': 1, 'others_dr': 1, 'others_cr': 1}. \n"
          ]
        },
        {
          "output_type": "stream",
          "name": "stderr",
          "text": [
            "[I 2024-06-11 03:00:08,561] Trial 27 finished with values: [-0.0044226224017435796, 628.395090215942] and parameters: {'volume_adi': 1, 'volume_obv': 1, 'volume_fi': 0, 'volume_em': 0, 'volume_sma_em': 0, 'volume_mfi': 0, 'volatility_bbw': 0, 'volatility_bbp': 0, 'volatility_bbhi': 1, 'volatility_bbli': 1, 'volatility_kcw': 0, 'volatility_kchi': 0, 'volatility_kcli': 0, 'volatility_ui': 0, 'trend_macd': 1, 'trend_mass_index': 1, 'trend_adx': 1, 'trend_aroon_up': 1, 'trend_aroon_down': 1, 'trend_psar_up': 1, 'trend_psar_down': 0, 'trend_psar_up_indicator': 0, 'trend_psar_down_indicator': 0, 'momentum_pvo': 0, 'momentum_pvo_hist': 1, 'others_dr': 1, 'others_cr': 0}. \n"
          ]
        },
        {
          "output_type": "stream",
          "name": "stdout",
          "text": [
            "Trade times in sample: 7805 Trade times out sample: 7721\n",
            "Trial 27 finished with values: [-0.0044226224017435796, 628.395090215942] and parameters: {'volume_adi': 1, 'volume_obv': 1, 'volume_fi': 0, 'volume_em': 0, 'volume_sma_em': 0, 'volume_mfi': 0, 'volatility_bbw': 0, 'volatility_bbp': 0, 'volatility_bbhi': 1, 'volatility_bbli': 1, 'volatility_kcw': 0, 'volatility_kchi': 0, 'volatility_kcli': 0, 'volatility_ui': 0, 'trend_macd': 1, 'trend_mass_index': 1, 'trend_adx': 1, 'trend_aroon_up': 1, 'trend_aroon_down': 1, 'trend_psar_up': 1, 'trend_psar_down': 0, 'trend_psar_up_indicator': 0, 'trend_psar_down_indicator': 0, 'momentum_pvo': 0, 'momentum_pvo_hist': 1, 'others_dr': 1, 'others_cr': 0}. \n",
            "Trial 27 finished with values: [-0.0044226224017435796, 628.395090215942] and parameters: {'volume_adi': 1, 'volume_obv': 1, 'volume_fi': 0, 'volume_em': 0, 'volume_sma_em': 0, 'volume_mfi': 0, 'volatility_bbw': 0, 'volatility_bbp': 0, 'volatility_bbhi': 1, 'volatility_bbli': 1, 'volatility_kcw': 0, 'volatility_kchi': 0, 'volatility_kcli': 0, 'volatility_ui': 0, 'trend_macd': 1, 'trend_mass_index': 1, 'trend_adx': 1, 'trend_aroon_up': 1, 'trend_aroon_down': 1, 'trend_psar_up': 1, 'trend_psar_down': 0, 'trend_psar_up_indicator': 0, 'trend_psar_down_indicator': 0, 'momentum_pvo': 0, 'momentum_pvo_hist': 1, 'others_dr': 1, 'others_cr': 0}. \n"
          ]
        },
        {
          "output_type": "stream",
          "name": "stderr",
          "text": [
            "[I 2024-06-11 03:00:08,789] Trial 28 finished with values: [0.23464297914802104, 11.65975382134736] and parameters: {'volume_adi': 1, 'volume_obv': 0, 'volume_fi': 1, 'volume_em': 1, 'volume_sma_em': 0, 'volume_mfi': 1, 'volatility_bbw': 1, 'volatility_bbp': 0, 'volatility_bbhi': 0, 'volatility_bbli': 1, 'volatility_kcw': 0, 'volatility_kchi': 1, 'volatility_kcli': 0, 'volatility_ui': 1, 'trend_macd': 0, 'trend_mass_index': 0, 'trend_adx': 1, 'trend_aroon_up': 0, 'trend_aroon_down': 0, 'trend_psar_up': 0, 'trend_psar_down': 1, 'trend_psar_up_indicator': 1, 'trend_psar_down_indicator': 0, 'momentum_pvo': 1, 'momentum_pvo_hist': 1, 'others_dr': 1, 'others_cr': 0}. \n"
          ]
        },
        {
          "output_type": "stream",
          "name": "stdout",
          "text": [
            "Trade times in sample: 7803 Trade times out sample: 7916\n",
            "Trial 28 finished with values: [0.23464297914802104, 11.65975382134736] and parameters: {'volume_adi': 1, 'volume_obv': 0, 'volume_fi': 1, 'volume_em': 1, 'volume_sma_em': 0, 'volume_mfi': 1, 'volatility_bbw': 1, 'volatility_bbp': 0, 'volatility_bbhi': 0, 'volatility_bbli': 1, 'volatility_kcw': 0, 'volatility_kchi': 1, 'volatility_kcli': 0, 'volatility_ui': 1, 'trend_macd': 0, 'trend_mass_index': 0, 'trend_adx': 1, 'trend_aroon_up': 0, 'trend_aroon_down': 0, 'trend_psar_up': 0, 'trend_psar_down': 1, 'trend_psar_up_indicator': 1, 'trend_psar_down_indicator': 0, 'momentum_pvo': 1, 'momentum_pvo_hist': 1, 'others_dr': 1, 'others_cr': 0}. \n",
            "Trial 28 finished with values: [0.23464297914802104, 11.65975382134736] and parameters: {'volume_adi': 1, 'volume_obv': 0, 'volume_fi': 1, 'volume_em': 1, 'volume_sma_em': 0, 'volume_mfi': 1, 'volatility_bbw': 1, 'volatility_bbp': 0, 'volatility_bbhi': 0, 'volatility_bbli': 1, 'volatility_kcw': 0, 'volatility_kchi': 1, 'volatility_kcli': 0, 'volatility_ui': 1, 'trend_macd': 0, 'trend_mass_index': 0, 'trend_adx': 1, 'trend_aroon_up': 0, 'trend_aroon_down': 0, 'trend_psar_up': 0, 'trend_psar_down': 1, 'trend_psar_up_indicator': 1, 'trend_psar_down_indicator': 0, 'momentum_pvo': 1, 'momentum_pvo_hist': 1, 'others_dr': 1, 'others_cr': 0}. \n"
          ]
        },
        {
          "output_type": "stream",
          "name": "stderr",
          "text": [
            "[I 2024-06-11 03:00:09,399] Trial 29 finished with values: [0.052004664885193244, 47.41542827244116] and parameters: {'volume_adi': 1, 'volume_obv': 0, 'volume_fi': 0, 'volume_em': 1, 'volume_sma_em': 0, 'volume_mfi': 0, 'volatility_bbw': 1, 'volatility_bbp': 0, 'volatility_bbhi': 1, 'volatility_bbli': 0, 'volatility_kcw': 1, 'volatility_kchi': 1, 'volatility_kcli': 0, 'volatility_ui': 0, 'trend_macd': 1, 'trend_mass_index': 1, 'trend_adx': 1, 'trend_aroon_up': 0, 'trend_aroon_down': 0, 'trend_psar_up': 1, 'trend_psar_down': 0, 'trend_psar_up_indicator': 0, 'trend_psar_down_indicator': 1, 'momentum_pvo': 0, 'momentum_pvo_hist': 1, 'others_dr': 1, 'others_cr': 0}. \n"
          ]
        },
        {
          "output_type": "stream",
          "name": "stdout",
          "text": [
            "Trade times in sample: 7803 Trade times out sample: 7880\n",
            "Trial 29 finished with values: [0.052004664885193244, 47.41542827244116] and parameters: {'volume_adi': 1, 'volume_obv': 0, 'volume_fi': 0, 'volume_em': 1, 'volume_sma_em': 0, 'volume_mfi': 0, 'volatility_bbw': 1, 'volatility_bbp': 0, 'volatility_bbhi': 1, 'volatility_bbli': 0, 'volatility_kcw': 1, 'volatility_kchi': 1, 'volatility_kcli': 0, 'volatility_ui': 0, 'trend_macd': 1, 'trend_mass_index': 1, 'trend_adx': 1, 'trend_aroon_up': 0, 'trend_aroon_down': 0, 'trend_psar_up': 1, 'trend_psar_down': 0, 'trend_psar_up_indicator': 0, 'trend_psar_down_indicator': 1, 'momentum_pvo': 0, 'momentum_pvo_hist': 1, 'others_dr': 1, 'others_cr': 0}. \n",
            "Trial 29 finished with values: [0.052004664885193244, 47.41542827244116] and parameters: {'volume_adi': 1, 'volume_obv': 0, 'volume_fi': 0, 'volume_em': 1, 'volume_sma_em': 0, 'volume_mfi': 0, 'volatility_bbw': 1, 'volatility_bbp': 0, 'volatility_bbhi': 1, 'volatility_bbli': 0, 'volatility_kcw': 1, 'volatility_kchi': 1, 'volatility_kcli': 0, 'volatility_ui': 0, 'trend_macd': 1, 'trend_mass_index': 1, 'trend_adx': 1, 'trend_aroon_up': 0, 'trend_aroon_down': 0, 'trend_psar_up': 1, 'trend_psar_down': 0, 'trend_psar_up_indicator': 0, 'trend_psar_down_indicator': 1, 'momentum_pvo': 0, 'momentum_pvo_hist': 1, 'others_dr': 1, 'others_cr': 0}. \n"
          ]
        },
        {
          "output_type": "stream",
          "name": "stderr",
          "text": [
            "[I 2024-06-11 03:00:10,746] Trial 30 finished with values: [0.35948540981171356, 6.852082669558732] and parameters: {'volume_adi': 0, 'volume_obv': 1, 'volume_fi': 1, 'volume_em': 1, 'volume_sma_em': 0, 'volume_mfi': 1, 'volatility_bbw': 0, 'volatility_bbp': 1, 'volatility_bbhi': 1, 'volatility_bbli': 1, 'volatility_kcw': 0, 'volatility_kchi': 1, 'volatility_kcli': 1, 'volatility_ui': 1, 'trend_macd': 0, 'trend_mass_index': 0, 'trend_adx': 1, 'trend_aroon_up': 1, 'trend_aroon_down': 0, 'trend_psar_up': 0, 'trend_psar_down': 1, 'trend_psar_up_indicator': 0, 'trend_psar_down_indicator': 0, 'momentum_pvo': 1, 'momentum_pvo_hist': 0, 'others_dr': 0, 'others_cr': 1}. \n"
          ]
        },
        {
          "output_type": "stream",
          "name": "stdout",
          "text": [
            "Trade times in sample: 7577 Trade times out sample: 7880\n",
            "Trial 30 finished with values: [0.35948540981171356, 6.852082669558732] and parameters: {'volume_adi': 0, 'volume_obv': 1, 'volume_fi': 1, 'volume_em': 1, 'volume_sma_em': 0, 'volume_mfi': 1, 'volatility_bbw': 0, 'volatility_bbp': 1, 'volatility_bbhi': 1, 'volatility_bbli': 1, 'volatility_kcw': 0, 'volatility_kchi': 1, 'volatility_kcli': 1, 'volatility_ui': 1, 'trend_macd': 0, 'trend_mass_index': 0, 'trend_adx': 1, 'trend_aroon_up': 1, 'trend_aroon_down': 0, 'trend_psar_up': 0, 'trend_psar_down': 1, 'trend_psar_up_indicator': 0, 'trend_psar_down_indicator': 0, 'momentum_pvo': 1, 'momentum_pvo_hist': 0, 'others_dr': 0, 'others_cr': 1}. \n",
            "Trial 30 finished with values: [0.35948540981171356, 6.852082669558732] and parameters: {'volume_adi': 0, 'volume_obv': 1, 'volume_fi': 1, 'volume_em': 1, 'volume_sma_em': 0, 'volume_mfi': 1, 'volatility_bbw': 0, 'volatility_bbp': 1, 'volatility_bbhi': 1, 'volatility_bbli': 1, 'volatility_kcw': 0, 'volatility_kchi': 1, 'volatility_kcli': 1, 'volatility_ui': 1, 'trend_macd': 0, 'trend_mass_index': 0, 'trend_adx': 1, 'trend_aroon_up': 1, 'trend_aroon_down': 0, 'trend_psar_up': 0, 'trend_psar_down': 1, 'trend_psar_up_indicator': 0, 'trend_psar_down_indicator': 0, 'momentum_pvo': 1, 'momentum_pvo_hist': 0, 'others_dr': 0, 'others_cr': 1}. \n"
          ]
        },
        {
          "output_type": "stream",
          "name": "stderr",
          "text": [
            "[I 2024-06-11 03:00:11,641] Trial 31 finished with values: [1.5001879539218663, 0.7174281868893824] and parameters: {'volume_adi': 0, 'volume_obv': 0, 'volume_fi': 1, 'volume_em': 1, 'volume_sma_em': 1, 'volume_mfi': 1, 'volatility_bbw': 1, 'volatility_bbp': 0, 'volatility_bbhi': 1, 'volatility_bbli': 1, 'volatility_kcw': 1, 'volatility_kchi': 1, 'volatility_kcli': 1, 'volatility_ui': 0, 'trend_macd': 1, 'trend_mass_index': 0, 'trend_adx': 1, 'trend_aroon_up': 1, 'trend_aroon_down': 1, 'trend_psar_up': 0, 'trend_psar_down': 1, 'trend_psar_up_indicator': 0, 'trend_psar_down_indicator': 0, 'momentum_pvo': 1, 'momentum_pvo_hist': 0, 'others_dr': 0, 'others_cr': 0}. \n"
          ]
        },
        {
          "output_type": "stream",
          "name": "stdout",
          "text": [
            "Trade times in sample: 7803 Trade times out sample: 7673\n",
            "Trial 31 finished with values: [1.5001879539218663, 0.7174281868893824] and parameters: {'volume_adi': 0, 'volume_obv': 0, 'volume_fi': 1, 'volume_em': 1, 'volume_sma_em': 1, 'volume_mfi': 1, 'volatility_bbw': 1, 'volatility_bbp': 0, 'volatility_bbhi': 1, 'volatility_bbli': 1, 'volatility_kcw': 1, 'volatility_kchi': 1, 'volatility_kcli': 1, 'volatility_ui': 0, 'trend_macd': 1, 'trend_mass_index': 0, 'trend_adx': 1, 'trend_aroon_up': 1, 'trend_aroon_down': 1, 'trend_psar_up': 0, 'trend_psar_down': 1, 'trend_psar_up_indicator': 0, 'trend_psar_down_indicator': 0, 'momentum_pvo': 1, 'momentum_pvo_hist': 0, 'others_dr': 0, 'others_cr': 0}. \n",
            "Trial 31 finished with values: [1.5001879539218663, 0.7174281868893824] and parameters: {'volume_adi': 0, 'volume_obv': 0, 'volume_fi': 1, 'volume_em': 1, 'volume_sma_em': 1, 'volume_mfi': 1, 'volatility_bbw': 1, 'volatility_bbp': 0, 'volatility_bbhi': 1, 'volatility_bbli': 1, 'volatility_kcw': 1, 'volatility_kchi': 1, 'volatility_kcli': 1, 'volatility_ui': 0, 'trend_macd': 1, 'trend_mass_index': 0, 'trend_adx': 1, 'trend_aroon_up': 1, 'trend_aroon_down': 1, 'trend_psar_up': 0, 'trend_psar_down': 1, 'trend_psar_up_indicator': 0, 'trend_psar_down_indicator': 0, 'momentum_pvo': 1, 'momentum_pvo_hist': 0, 'others_dr': 0, 'others_cr': 0}. \n"
          ]
        },
        {
          "output_type": "stream",
          "name": "stderr",
          "text": [
            "[I 2024-06-11 03:00:11,874] Trial 32 finished with values: [0.6252774540338049, 3.4770269768046838] and parameters: {'volume_adi': 1, 'volume_obv': 0, 'volume_fi': 0, 'volume_em': 1, 'volume_sma_em': 1, 'volume_mfi': 1, 'volatility_bbw': 0, 'volatility_bbp': 1, 'volatility_bbhi': 0, 'volatility_bbli': 0, 'volatility_kcw': 0, 'volatility_kchi': 0, 'volatility_kcli': 0, 'volatility_ui': 1, 'trend_macd': 1, 'trend_mass_index': 0, 'trend_adx': 0, 'trend_aroon_up': 1, 'trend_aroon_down': 1, 'trend_psar_up': 0, 'trend_psar_down': 0, 'trend_psar_up_indicator': 1, 'trend_psar_down_indicator': 1, 'momentum_pvo': 1, 'momentum_pvo_hist': 1, 'others_dr': 0, 'others_cr': 0}. \n"
          ]
        },
        {
          "output_type": "stream",
          "name": "stdout",
          "text": [
            "Trade times in sample: 7756 Trade times out sample: 7880\n",
            "Trial 32 finished with values: [0.6252774540338049, 3.4770269768046838] and parameters: {'volume_adi': 1, 'volume_obv': 0, 'volume_fi': 0, 'volume_em': 1, 'volume_sma_em': 1, 'volume_mfi': 1, 'volatility_bbw': 0, 'volatility_bbp': 1, 'volatility_bbhi': 0, 'volatility_bbli': 0, 'volatility_kcw': 0, 'volatility_kchi': 0, 'volatility_kcli': 0, 'volatility_ui': 1, 'trend_macd': 1, 'trend_mass_index': 0, 'trend_adx': 0, 'trend_aroon_up': 1, 'trend_aroon_down': 1, 'trend_psar_up': 0, 'trend_psar_down': 0, 'trend_psar_up_indicator': 1, 'trend_psar_down_indicator': 1, 'momentum_pvo': 1, 'momentum_pvo_hist': 1, 'others_dr': 0, 'others_cr': 0}. \n",
            "Trial 32 finished with values: [0.6252774540338049, 3.4770269768046838] and parameters: {'volume_adi': 1, 'volume_obv': 0, 'volume_fi': 0, 'volume_em': 1, 'volume_sma_em': 1, 'volume_mfi': 1, 'volatility_bbw': 0, 'volatility_bbp': 1, 'volatility_bbhi': 0, 'volatility_bbli': 0, 'volatility_kcw': 0, 'volatility_kchi': 0, 'volatility_kcli': 0, 'volatility_ui': 1, 'trend_macd': 1, 'trend_mass_index': 0, 'trend_adx': 0, 'trend_aroon_up': 1, 'trend_aroon_down': 1, 'trend_psar_up': 0, 'trend_psar_down': 0, 'trend_psar_up_indicator': 1, 'trend_psar_down_indicator': 1, 'momentum_pvo': 1, 'momentum_pvo_hist': 1, 'others_dr': 0, 'others_cr': 0}. \n"
          ]
        },
        {
          "output_type": "stream",
          "name": "stderr",
          "text": [
            "[I 2024-06-11 03:00:12,099] Trial 33 finished with values: [0.694027127054458, 2.24618378411491] and parameters: {'volume_adi': 1, 'volume_obv': 0, 'volume_fi': 0, 'volume_em': 0, 'volume_sma_em': 0, 'volume_mfi': 0, 'volatility_bbw': 1, 'volatility_bbp': 1, 'volatility_bbhi': 0, 'volatility_bbli': 1, 'volatility_kcw': 1, 'volatility_kchi': 1, 'volatility_kcli': 0, 'volatility_ui': 0, 'trend_macd': 1, 'trend_mass_index': 0, 'trend_adx': 1, 'trend_aroon_up': 0, 'trend_aroon_down': 0, 'trend_psar_up': 0, 'trend_psar_down': 1, 'trend_psar_up_indicator': 0, 'trend_psar_down_indicator': 1, 'momentum_pvo': 1, 'momentum_pvo_hist': 0, 'others_dr': 1, 'others_cr': 1}. \n"
          ]
        },
        {
          "output_type": "stream",
          "name": "stdout",
          "text": [
            "Trade times in sample: 6924 Trade times out sample: 7429\n",
            "Trial 33 finished with values: [0.694027127054458, 2.24618378411491] and parameters: {'volume_adi': 1, 'volume_obv': 0, 'volume_fi': 0, 'volume_em': 0, 'volume_sma_em': 0, 'volume_mfi': 0, 'volatility_bbw': 1, 'volatility_bbp': 1, 'volatility_bbhi': 0, 'volatility_bbli': 1, 'volatility_kcw': 1, 'volatility_kchi': 1, 'volatility_kcli': 0, 'volatility_ui': 0, 'trend_macd': 1, 'trend_mass_index': 0, 'trend_adx': 1, 'trend_aroon_up': 0, 'trend_aroon_down': 0, 'trend_psar_up': 0, 'trend_psar_down': 1, 'trend_psar_up_indicator': 0, 'trend_psar_down_indicator': 1, 'momentum_pvo': 1, 'momentum_pvo_hist': 0, 'others_dr': 1, 'others_cr': 1}. \n",
            "Trial 33 finished with values: [0.694027127054458, 2.24618378411491] and parameters: {'volume_adi': 1, 'volume_obv': 0, 'volume_fi': 0, 'volume_em': 0, 'volume_sma_em': 0, 'volume_mfi': 0, 'volatility_bbw': 1, 'volatility_bbp': 1, 'volatility_bbhi': 0, 'volatility_bbli': 1, 'volatility_kcw': 1, 'volatility_kchi': 1, 'volatility_kcli': 0, 'volatility_ui': 0, 'trend_macd': 1, 'trend_mass_index': 0, 'trend_adx': 1, 'trend_aroon_up': 0, 'trend_aroon_down': 0, 'trend_psar_up': 0, 'trend_psar_down': 1, 'trend_psar_up_indicator': 0, 'trend_psar_down_indicator': 1, 'momentum_pvo': 1, 'momentum_pvo_hist': 0, 'others_dr': 1, 'others_cr': 1}. \n"
          ]
        },
        {
          "output_type": "stream",
          "name": "stderr",
          "text": [
            "[I 2024-06-11 03:00:12,327] Trial 34 finished with values: [-1.5551142250550678, 1.036413458669672] and parameters: {'volume_adi': 0, 'volume_obv': 0, 'volume_fi': 1, 'volume_em': 1, 'volume_sma_em': 0, 'volume_mfi': 1, 'volatility_bbw': 0, 'volatility_bbp': 0, 'volatility_bbhi': 1, 'volatility_bbli': 1, 'volatility_kcw': 1, 'volatility_kchi': 1, 'volatility_kcli': 0, 'volatility_ui': 0, 'trend_macd': 0, 'trend_mass_index': 1, 'trend_adx': 0, 'trend_aroon_up': 1, 'trend_aroon_down': 0, 'trend_psar_up': 0, 'trend_psar_down': 1, 'trend_psar_up_indicator': 1, 'trend_psar_down_indicator': 0, 'momentum_pvo': 0, 'momentum_pvo_hist': 0, 'others_dr': 1, 'others_cr': 1}. \n"
          ]
        },
        {
          "output_type": "stream",
          "name": "stdout",
          "text": [
            "Trade times in sample: 7803 Trade times out sample: 7928\n",
            "Trial 34 finished with values: [-1.5551142250550678, 1.036413458669672] and parameters: {'volume_adi': 0, 'volume_obv': 0, 'volume_fi': 1, 'volume_em': 1, 'volume_sma_em': 0, 'volume_mfi': 1, 'volatility_bbw': 0, 'volatility_bbp': 0, 'volatility_bbhi': 1, 'volatility_bbli': 1, 'volatility_kcw': 1, 'volatility_kchi': 1, 'volatility_kcli': 0, 'volatility_ui': 0, 'trend_macd': 0, 'trend_mass_index': 1, 'trend_adx': 0, 'trend_aroon_up': 1, 'trend_aroon_down': 0, 'trend_psar_up': 0, 'trend_psar_down': 1, 'trend_psar_up_indicator': 1, 'trend_psar_down_indicator': 0, 'momentum_pvo': 0, 'momentum_pvo_hist': 0, 'others_dr': 1, 'others_cr': 1}. \n",
            "Trial 34 finished with values: [-1.5551142250550678, 1.036413458669672] and parameters: {'volume_adi': 0, 'volume_obv': 0, 'volume_fi': 1, 'volume_em': 1, 'volume_sma_em': 0, 'volume_mfi': 1, 'volatility_bbw': 0, 'volatility_bbp': 0, 'volatility_bbhi': 1, 'volatility_bbli': 1, 'volatility_kcw': 1, 'volatility_kchi': 1, 'volatility_kcli': 0, 'volatility_ui': 0, 'trend_macd': 0, 'trend_mass_index': 1, 'trend_adx': 0, 'trend_aroon_up': 1, 'trend_aroon_down': 0, 'trend_psar_up': 0, 'trend_psar_down': 1, 'trend_psar_up_indicator': 1, 'trend_psar_down_indicator': 0, 'momentum_pvo': 0, 'momentum_pvo_hist': 0, 'others_dr': 1, 'others_cr': 1}. \n"
          ]
        },
        {
          "output_type": "stream",
          "name": "stderr",
          "text": [
            "[I 2024-06-11 03:00:12,544] Trial 35 finished with values: [-0.10474088031711105, 23.62071713771886] and parameters: {'volume_adi': 1, 'volume_obv': 1, 'volume_fi': 0, 'volume_em': 0, 'volume_sma_em': 0, 'volume_mfi': 0, 'volatility_bbw': 0, 'volatility_bbp': 1, 'volatility_bbhi': 0, 'volatility_bbli': 0, 'volatility_kcw': 1, 'volatility_kchi': 0, 'volatility_kcli': 1, 'volatility_ui': 0, 'trend_macd': 1, 'trend_mass_index': 1, 'trend_adx': 0, 'trend_aroon_up': 0, 'trend_aroon_down': 0, 'trend_psar_up': 1, 'trend_psar_down': 1, 'trend_psar_up_indicator': 1, 'trend_psar_down_indicator': 0, 'momentum_pvo': 0, 'momentum_pvo_hist': 0, 'others_dr': 1, 'others_cr': 0}. \n"
          ]
        },
        {
          "output_type": "stream",
          "name": "stdout",
          "text": [
            "Trade times in sample: 7114 Trade times out sample: 7940\n",
            "Trial 35 finished with values: [-0.10474088031711105, 23.62071713771886] and parameters: {'volume_adi': 1, 'volume_obv': 1, 'volume_fi': 0, 'volume_em': 0, 'volume_sma_em': 0, 'volume_mfi': 0, 'volatility_bbw': 0, 'volatility_bbp': 1, 'volatility_bbhi': 0, 'volatility_bbli': 0, 'volatility_kcw': 1, 'volatility_kchi': 0, 'volatility_kcli': 1, 'volatility_ui': 0, 'trend_macd': 1, 'trend_mass_index': 1, 'trend_adx': 0, 'trend_aroon_up': 0, 'trend_aroon_down': 0, 'trend_psar_up': 1, 'trend_psar_down': 1, 'trend_psar_up_indicator': 1, 'trend_psar_down_indicator': 0, 'momentum_pvo': 0, 'momentum_pvo_hist': 0, 'others_dr': 1, 'others_cr': 0}. \n",
            "Trial 35 finished with values: [-0.10474088031711105, 23.62071713771886] and parameters: {'volume_adi': 1, 'volume_obv': 1, 'volume_fi': 0, 'volume_em': 0, 'volume_sma_em': 0, 'volume_mfi': 0, 'volatility_bbw': 0, 'volatility_bbp': 1, 'volatility_bbhi': 0, 'volatility_bbli': 0, 'volatility_kcw': 1, 'volatility_kchi': 0, 'volatility_kcli': 1, 'volatility_ui': 0, 'trend_macd': 1, 'trend_mass_index': 1, 'trend_adx': 0, 'trend_aroon_up': 0, 'trend_aroon_down': 0, 'trend_psar_up': 1, 'trend_psar_down': 1, 'trend_psar_up_indicator': 1, 'trend_psar_down_indicator': 0, 'momentum_pvo': 0, 'momentum_pvo_hist': 0, 'others_dr': 1, 'others_cr': 0}. \n"
          ]
        },
        {
          "output_type": "stream",
          "name": "stderr",
          "text": [
            "[I 2024-06-11 03:00:12,792] Trial 36 finished with values: [0.10891766156680374, 26.05415726522302] and parameters: {'volume_adi': 0, 'volume_obv': 1, 'volume_fi': 0, 'volume_em': 0, 'volume_sma_em': 1, 'volume_mfi': 0, 'volatility_bbw': 1, 'volatility_bbp': 1, 'volatility_bbhi': 1, 'volatility_bbli': 1, 'volatility_kcw': 1, 'volatility_kchi': 0, 'volatility_kcli': 1, 'volatility_ui': 0, 'trend_macd': 1, 'trend_mass_index': 0, 'trend_adx': 1, 'trend_aroon_up': 1, 'trend_aroon_down': 0, 'trend_psar_up': 0, 'trend_psar_down': 0, 'trend_psar_up_indicator': 0, 'trend_psar_down_indicator': 1, 'momentum_pvo': 0, 'momentum_pvo_hist': 1, 'others_dr': 1, 'others_cr': 0}. \n"
          ]
        },
        {
          "output_type": "stream",
          "name": "stdout",
          "text": [
            "Trade times in sample: 7805 Trade times out sample: 7409\n",
            "Trial 36 finished with values: [0.10891766156680374, 26.05415726522302] and parameters: {'volume_adi': 0, 'volume_obv': 1, 'volume_fi': 0, 'volume_em': 0, 'volume_sma_em': 1, 'volume_mfi': 0, 'volatility_bbw': 1, 'volatility_bbp': 1, 'volatility_bbhi': 1, 'volatility_bbli': 1, 'volatility_kcw': 1, 'volatility_kchi': 0, 'volatility_kcli': 1, 'volatility_ui': 0, 'trend_macd': 1, 'trend_mass_index': 0, 'trend_adx': 1, 'trend_aroon_up': 1, 'trend_aroon_down': 0, 'trend_psar_up': 0, 'trend_psar_down': 0, 'trend_psar_up_indicator': 0, 'trend_psar_down_indicator': 1, 'momentum_pvo': 0, 'momentum_pvo_hist': 1, 'others_dr': 1, 'others_cr': 0}. \n",
            "Trial 36 finished with values: [0.10891766156680374, 26.05415726522302] and parameters: {'volume_adi': 0, 'volume_obv': 1, 'volume_fi': 0, 'volume_em': 0, 'volume_sma_em': 1, 'volume_mfi': 0, 'volatility_bbw': 1, 'volatility_bbp': 1, 'volatility_bbhi': 1, 'volatility_bbli': 1, 'volatility_kcw': 1, 'volatility_kchi': 0, 'volatility_kcli': 1, 'volatility_ui': 0, 'trend_macd': 1, 'trend_mass_index': 0, 'trend_adx': 1, 'trend_aroon_up': 1, 'trend_aroon_down': 0, 'trend_psar_up': 0, 'trend_psar_down': 0, 'trend_psar_up_indicator': 0, 'trend_psar_down_indicator': 1, 'momentum_pvo': 0, 'momentum_pvo_hist': 1, 'others_dr': 1, 'others_cr': 0}. \n"
          ]
        },
        {
          "output_type": "stream",
          "name": "stderr",
          "text": [
            "[I 2024-06-11 03:00:13,027] Trial 37 finished with values: [-0.58191170440122, 4.998436528175234] and parameters: {'volume_adi': 1, 'volume_obv': 0, 'volume_fi': 1, 'volume_em': 1, 'volume_sma_em': 1, 'volume_mfi': 1, 'volatility_bbw': 0, 'volatility_bbp': 0, 'volatility_bbhi': 1, 'volatility_bbli': 1, 'volatility_kcw': 0, 'volatility_kchi': 0, 'volatility_kcli': 0, 'volatility_ui': 0, 'trend_macd': 0, 'trend_mass_index': 1, 'trend_adx': 0, 'trend_aroon_up': 1, 'trend_aroon_down': 1, 'trend_psar_up': 0, 'trend_psar_down': 1, 'trend_psar_up_indicator': 0, 'trend_psar_down_indicator': 0, 'momentum_pvo': 1, 'momentum_pvo_hist': 0, 'others_dr': 1, 'others_cr': 1}. \n"
          ]
        },
        {
          "output_type": "stream",
          "name": "stdout",
          "text": [
            "Trade times in sample: 7803 Trade times out sample: 7916\n",
            "Trial 37 finished with values: [-0.58191170440122, 4.998436528175234] and parameters: {'volume_adi': 1, 'volume_obv': 0, 'volume_fi': 1, 'volume_em': 1, 'volume_sma_em': 1, 'volume_mfi': 1, 'volatility_bbw': 0, 'volatility_bbp': 0, 'volatility_bbhi': 1, 'volatility_bbli': 1, 'volatility_kcw': 0, 'volatility_kchi': 0, 'volatility_kcli': 0, 'volatility_ui': 0, 'trend_macd': 0, 'trend_mass_index': 1, 'trend_adx': 0, 'trend_aroon_up': 1, 'trend_aroon_down': 1, 'trend_psar_up': 0, 'trend_psar_down': 1, 'trend_psar_up_indicator': 0, 'trend_psar_down_indicator': 0, 'momentum_pvo': 1, 'momentum_pvo_hist': 0, 'others_dr': 1, 'others_cr': 1}. \n",
            "Trial 37 finished with values: [-0.58191170440122, 4.998436528175234] and parameters: {'volume_adi': 1, 'volume_obv': 0, 'volume_fi': 1, 'volume_em': 1, 'volume_sma_em': 1, 'volume_mfi': 1, 'volatility_bbw': 0, 'volatility_bbp': 0, 'volatility_bbhi': 1, 'volatility_bbli': 1, 'volatility_kcw': 0, 'volatility_kchi': 0, 'volatility_kcli': 0, 'volatility_ui': 0, 'trend_macd': 0, 'trend_mass_index': 1, 'trend_adx': 0, 'trend_aroon_up': 1, 'trend_aroon_down': 1, 'trend_psar_up': 0, 'trend_psar_down': 1, 'trend_psar_up_indicator': 0, 'trend_psar_down_indicator': 0, 'momentum_pvo': 1, 'momentum_pvo_hist': 0, 'others_dr': 1, 'others_cr': 1}. \n"
          ]
        },
        {
          "output_type": "stream",
          "name": "stderr",
          "text": [
            "[I 2024-06-11 03:00:13,277] Trial 38 finished with values: [-1.421045469215893, 1.3363166621011393] and parameters: {'volume_adi': 0, 'volume_obv': 0, 'volume_fi': 0, 'volume_em': 0, 'volume_sma_em': 1, 'volume_mfi': 0, 'volatility_bbw': 0, 'volatility_bbp': 1, 'volatility_bbhi': 1, 'volatility_bbli': 1, 'volatility_kcw': 1, 'volatility_kchi': 0, 'volatility_kcli': 1, 'volatility_ui': 1, 'trend_macd': 0, 'trend_mass_index': 1, 'trend_adx': 1, 'trend_aroon_up': 1, 'trend_aroon_down': 1, 'trend_psar_up': 0, 'trend_psar_down': 0, 'trend_psar_up_indicator': 1, 'trend_psar_down_indicator': 1, 'momentum_pvo': 1, 'momentum_pvo_hist': 0, 'others_dr': 1, 'others_cr': 0}. \n"
          ]
        },
        {
          "output_type": "stream",
          "name": "stdout",
          "text": [
            "Trade times in sample: 7114 Trade times out sample: 7940\n",
            "Trial 38 finished with values: [-1.421045469215893, 1.3363166621011393] and parameters: {'volume_adi': 0, 'volume_obv': 0, 'volume_fi': 0, 'volume_em': 0, 'volume_sma_em': 1, 'volume_mfi': 0, 'volatility_bbw': 0, 'volatility_bbp': 1, 'volatility_bbhi': 1, 'volatility_bbli': 1, 'volatility_kcw': 1, 'volatility_kchi': 0, 'volatility_kcli': 1, 'volatility_ui': 1, 'trend_macd': 0, 'trend_mass_index': 1, 'trend_adx': 1, 'trend_aroon_up': 1, 'trend_aroon_down': 1, 'trend_psar_up': 0, 'trend_psar_down': 0, 'trend_psar_up_indicator': 1, 'trend_psar_down_indicator': 1, 'momentum_pvo': 1, 'momentum_pvo_hist': 0, 'others_dr': 1, 'others_cr': 0}. \n",
            "Trial 38 finished with values: [-1.421045469215893, 1.3363166621011393] and parameters: {'volume_adi': 0, 'volume_obv': 0, 'volume_fi': 0, 'volume_em': 0, 'volume_sma_em': 1, 'volume_mfi': 0, 'volatility_bbw': 0, 'volatility_bbp': 1, 'volatility_bbhi': 1, 'volatility_bbli': 1, 'volatility_kcw': 1, 'volatility_kchi': 0, 'volatility_kcli': 1, 'volatility_ui': 1, 'trend_macd': 0, 'trend_mass_index': 1, 'trend_adx': 1, 'trend_aroon_up': 1, 'trend_aroon_down': 1, 'trend_psar_up': 0, 'trend_psar_down': 0, 'trend_psar_up_indicator': 1, 'trend_psar_down_indicator': 1, 'momentum_pvo': 1, 'momentum_pvo_hist': 0, 'others_dr': 1, 'others_cr': 0}. \n"
          ]
        },
        {
          "output_type": "stream",
          "name": "stderr",
          "text": [
            "[I 2024-06-11 03:00:13,548] Trial 39 finished with values: [-0.45380380272734594, 5.536883501393147] and parameters: {'volume_adi': 0, 'volume_obv': 0, 'volume_fi': 1, 'volume_em': 1, 'volume_sma_em': 1, 'volume_mfi': 0, 'volatility_bbw': 1, 'volatility_bbp': 0, 'volatility_bbhi': 0, 'volatility_bbli': 1, 'volatility_kcw': 0, 'volatility_kchi': 0, 'volatility_kcli': 1, 'volatility_ui': 1, 'trend_macd': 1, 'trend_mass_index': 0, 'trend_adx': 1, 'trend_aroon_up': 1, 'trend_aroon_down': 1, 'trend_psar_up': 1, 'trend_psar_down': 1, 'trend_psar_up_indicator': 1, 'trend_psar_down_indicator': 0, 'momentum_pvo': 0, 'momentum_pvo_hist': 1, 'others_dr': 1, 'others_cr': 1}. \n"
          ]
        },
        {
          "output_type": "stream",
          "name": "stdout",
          "text": [
            "Trade times in sample: 7803 Trade times out sample: 7874\n",
            "Trial 39 finished with values: [-0.45380380272734594, 5.536883501393147] and parameters: {'volume_adi': 0, 'volume_obv': 0, 'volume_fi': 1, 'volume_em': 1, 'volume_sma_em': 1, 'volume_mfi': 0, 'volatility_bbw': 1, 'volatility_bbp': 0, 'volatility_bbhi': 0, 'volatility_bbli': 1, 'volatility_kcw': 0, 'volatility_kchi': 0, 'volatility_kcli': 1, 'volatility_ui': 1, 'trend_macd': 1, 'trend_mass_index': 0, 'trend_adx': 1, 'trend_aroon_up': 1, 'trend_aroon_down': 1, 'trend_psar_up': 1, 'trend_psar_down': 1, 'trend_psar_up_indicator': 1, 'trend_psar_down_indicator': 0, 'momentum_pvo': 0, 'momentum_pvo_hist': 1, 'others_dr': 1, 'others_cr': 1}. \n",
            "Trial 39 finished with values: [-0.45380380272734594, 5.536883501393147] and parameters: {'volume_adi': 0, 'volume_obv': 0, 'volume_fi': 1, 'volume_em': 1, 'volume_sma_em': 1, 'volume_mfi': 0, 'volatility_bbw': 1, 'volatility_bbp': 0, 'volatility_bbhi': 0, 'volatility_bbli': 1, 'volatility_kcw': 0, 'volatility_kchi': 0, 'volatility_kcli': 1, 'volatility_ui': 1, 'trend_macd': 1, 'trend_mass_index': 0, 'trend_adx': 1, 'trend_aroon_up': 1, 'trend_aroon_down': 1, 'trend_psar_up': 1, 'trend_psar_down': 1, 'trend_psar_up_indicator': 1, 'trend_psar_down_indicator': 0, 'momentum_pvo': 0, 'momentum_pvo_hist': 1, 'others_dr': 1, 'others_cr': 1}. \n"
          ]
        },
        {
          "output_type": "stream",
          "name": "stderr",
          "text": [
            "[I 2024-06-11 03:00:13,836] Trial 40 finished with values: [-0.7435143680599892, 2.444702123526872] and parameters: {'volume_adi': 0, 'volume_obv': 0, 'volume_fi': 0, 'volume_em': 1, 'volume_sma_em': 1, 'volume_mfi': 0, 'volatility_bbw': 0, 'volatility_bbp': 1, 'volatility_bbhi': 1, 'volatility_bbli': 0, 'volatility_kcw': 0, 'volatility_kchi': 1, 'volatility_kcli': 1, 'volatility_ui': 1, 'trend_macd': 1, 'trend_mass_index': 1, 'trend_adx': 0, 'trend_aroon_up': 1, 'trend_aroon_down': 0, 'trend_psar_up': 0, 'trend_psar_down': 1, 'trend_psar_up_indicator': 0, 'trend_psar_down_indicator': 1, 'momentum_pvo': 0, 'momentum_pvo_hist': 0, 'others_dr': 1, 'others_cr': 1}. \n"
          ]
        },
        {
          "output_type": "stream",
          "name": "stdout",
          "text": [
            "Trade times in sample: 7764 Trade times out sample: 7426\n",
            "Trial 40 finished with values: [-0.7435143680599892, 2.444702123526872] and parameters: {'volume_adi': 0, 'volume_obv': 0, 'volume_fi': 0, 'volume_em': 1, 'volume_sma_em': 1, 'volume_mfi': 0, 'volatility_bbw': 0, 'volatility_bbp': 1, 'volatility_bbhi': 1, 'volatility_bbli': 0, 'volatility_kcw': 0, 'volatility_kchi': 1, 'volatility_kcli': 1, 'volatility_ui': 1, 'trend_macd': 1, 'trend_mass_index': 1, 'trend_adx': 0, 'trend_aroon_up': 1, 'trend_aroon_down': 0, 'trend_psar_up': 0, 'trend_psar_down': 1, 'trend_psar_up_indicator': 0, 'trend_psar_down_indicator': 1, 'momentum_pvo': 0, 'momentum_pvo_hist': 0, 'others_dr': 1, 'others_cr': 1}. \n",
            "Trial 40 finished with values: [-0.7435143680599892, 2.444702123526872] and parameters: {'volume_adi': 0, 'volume_obv': 0, 'volume_fi': 0, 'volume_em': 1, 'volume_sma_em': 1, 'volume_mfi': 0, 'volatility_bbw': 0, 'volatility_bbp': 1, 'volatility_bbhi': 1, 'volatility_bbli': 0, 'volatility_kcw': 0, 'volatility_kchi': 1, 'volatility_kcli': 1, 'volatility_ui': 1, 'trend_macd': 1, 'trend_mass_index': 1, 'trend_adx': 0, 'trend_aroon_up': 1, 'trend_aroon_down': 0, 'trend_psar_up': 0, 'trend_psar_down': 1, 'trend_psar_up_indicator': 0, 'trend_psar_down_indicator': 1, 'momentum_pvo': 0, 'momentum_pvo_hist': 0, 'others_dr': 1, 'others_cr': 1}. \n"
          ]
        },
        {
          "output_type": "stream",
          "name": "stderr",
          "text": [
            "[I 2024-06-11 03:00:14,067] Trial 41 finished with values: [0.87744519370531, 2.8347956018231515] and parameters: {'volume_adi': 0, 'volume_obv': 0, 'volume_fi': 1, 'volume_em': 1, 'volume_sma_em': 1, 'volume_mfi': 0, 'volatility_bbw': 0, 'volatility_bbp': 0, 'volatility_bbhi': 0, 'volatility_bbli': 1, 'volatility_kcw': 1, 'volatility_kchi': 0, 'volatility_kcli': 0, 'volatility_ui': 0, 'trend_macd': 1, 'trend_mass_index': 0, 'trend_adx': 0, 'trend_aroon_up': 0, 'trend_aroon_down': 1, 'trend_psar_up': 0, 'trend_psar_down': 1, 'trend_psar_up_indicator': 1, 'trend_psar_down_indicator': 0, 'momentum_pvo': 0, 'momentum_pvo_hist': 1, 'others_dr': 0, 'others_cr': 0}. \n"
          ]
        },
        {
          "output_type": "stream",
          "name": "stdout",
          "text": [
            "Trade times in sample: 7804 Trade times out sample: 7653\n",
            "Trial 41 finished with values: [0.87744519370531, 2.8347956018231515] and parameters: {'volume_adi': 0, 'volume_obv': 0, 'volume_fi': 1, 'volume_em': 1, 'volume_sma_em': 1, 'volume_mfi': 0, 'volatility_bbw': 0, 'volatility_bbp': 0, 'volatility_bbhi': 0, 'volatility_bbli': 1, 'volatility_kcw': 1, 'volatility_kchi': 0, 'volatility_kcli': 0, 'volatility_ui': 0, 'trend_macd': 1, 'trend_mass_index': 0, 'trend_adx': 0, 'trend_aroon_up': 0, 'trend_aroon_down': 1, 'trend_psar_up': 0, 'trend_psar_down': 1, 'trend_psar_up_indicator': 1, 'trend_psar_down_indicator': 0, 'momentum_pvo': 0, 'momentum_pvo_hist': 1, 'others_dr': 0, 'others_cr': 0}. \n",
            "Trial 41 finished with values: [0.87744519370531, 2.8347956018231515] and parameters: {'volume_adi': 0, 'volume_obv': 0, 'volume_fi': 1, 'volume_em': 1, 'volume_sma_em': 1, 'volume_mfi': 0, 'volatility_bbw': 0, 'volatility_bbp': 0, 'volatility_bbhi': 0, 'volatility_bbli': 1, 'volatility_kcw': 1, 'volatility_kchi': 0, 'volatility_kcli': 0, 'volatility_ui': 0, 'trend_macd': 1, 'trend_mass_index': 0, 'trend_adx': 0, 'trend_aroon_up': 0, 'trend_aroon_down': 1, 'trend_psar_up': 0, 'trend_psar_down': 1, 'trend_psar_up_indicator': 1, 'trend_psar_down_indicator': 0, 'momentum_pvo': 0, 'momentum_pvo_hist': 1, 'others_dr': 0, 'others_cr': 0}. \n"
          ]
        },
        {
          "output_type": "stream",
          "name": "stderr",
          "text": [
            "[I 2024-06-11 03:00:14,311] Trial 42 finished with values: [-0.5039238139466672, 4.5092910139363696] and parameters: {'volume_adi': 0, 'volume_obv': 1, 'volume_fi': 0, 'volume_em': 0, 'volume_sma_em': 1, 'volume_mfi': 0, 'volatility_bbw': 0, 'volatility_bbp': 0, 'volatility_bbhi': 1, 'volatility_bbli': 1, 'volatility_kcw': 1, 'volatility_kchi': 1, 'volatility_kcli': 1, 'volatility_ui': 0, 'trend_macd': 1, 'trend_mass_index': 1, 'trend_adx': 1, 'trend_aroon_up': 1, 'trend_aroon_down': 0, 'trend_psar_up': 1, 'trend_psar_down': 0, 'trend_psar_up_indicator': 1, 'trend_psar_down_indicator': 0, 'momentum_pvo': 0, 'momentum_pvo_hist': 0, 'others_dr': 1, 'others_cr': 0}. \n"
          ]
        },
        {
          "output_type": "stream",
          "name": "stdout",
          "text": [
            "Trade times in sample: 7805 Trade times out sample: 7940\n",
            "Trial 42 finished with values: [-0.5039238139466672, 4.5092910139363696] and parameters: {'volume_adi': 0, 'volume_obv': 1, 'volume_fi': 0, 'volume_em': 0, 'volume_sma_em': 1, 'volume_mfi': 0, 'volatility_bbw': 0, 'volatility_bbp': 0, 'volatility_bbhi': 1, 'volatility_bbli': 1, 'volatility_kcw': 1, 'volatility_kchi': 1, 'volatility_kcli': 1, 'volatility_ui': 0, 'trend_macd': 1, 'trend_mass_index': 1, 'trend_adx': 1, 'trend_aroon_up': 1, 'trend_aroon_down': 0, 'trend_psar_up': 1, 'trend_psar_down': 0, 'trend_psar_up_indicator': 1, 'trend_psar_down_indicator': 0, 'momentum_pvo': 0, 'momentum_pvo_hist': 0, 'others_dr': 1, 'others_cr': 0}. \n",
            "Trial 42 finished with values: [-0.5039238139466672, 4.5092910139363696] and parameters: {'volume_adi': 0, 'volume_obv': 1, 'volume_fi': 0, 'volume_em': 0, 'volume_sma_em': 1, 'volume_mfi': 0, 'volatility_bbw': 0, 'volatility_bbp': 0, 'volatility_bbhi': 1, 'volatility_bbli': 1, 'volatility_kcw': 1, 'volatility_kchi': 1, 'volatility_kcli': 1, 'volatility_ui': 0, 'trend_macd': 1, 'trend_mass_index': 1, 'trend_adx': 1, 'trend_aroon_up': 1, 'trend_aroon_down': 0, 'trend_psar_up': 1, 'trend_psar_down': 0, 'trend_psar_up_indicator': 1, 'trend_psar_down_indicator': 0, 'momentum_pvo': 0, 'momentum_pvo_hist': 0, 'others_dr': 1, 'others_cr': 0}. \n"
          ]
        },
        {
          "output_type": "stream",
          "name": "stderr",
          "text": [
            "[I 2024-06-11 03:00:14,560] Trial 43 finished with values: [1.1236647514708127, 1.3546626334032692] and parameters: {'volume_adi': 0, 'volume_obv': 0, 'volume_fi': 1, 'volume_em': 0, 'volume_sma_em': 0, 'volume_mfi': 1, 'volatility_bbw': 1, 'volatility_bbp': 0, 'volatility_bbhi': 0, 'volatility_bbli': 0, 'volatility_kcw': 0, 'volatility_kchi': 1, 'volatility_kcli': 1, 'volatility_ui': 0, 'trend_macd': 1, 'trend_mass_index': 1, 'trend_adx': 1, 'trend_aroon_up': 1, 'trend_aroon_down': 0, 'trend_psar_up': 1, 'trend_psar_down': 1, 'trend_psar_up_indicator': 0, 'trend_psar_down_indicator': 0, 'momentum_pvo': 1, 'momentum_pvo_hist': 1, 'others_dr': 1, 'others_cr': 1}. \n"
          ]
        },
        {
          "output_type": "stream",
          "name": "stdout",
          "text": [
            "Trade times in sample: 6922 Trade times out sample: 7308\n",
            "Trial 43 finished with values: [1.1236647514708127, 1.3546626334032692] and parameters: {'volume_adi': 0, 'volume_obv': 0, 'volume_fi': 1, 'volume_em': 0, 'volume_sma_em': 0, 'volume_mfi': 1, 'volatility_bbw': 1, 'volatility_bbp': 0, 'volatility_bbhi': 0, 'volatility_bbli': 0, 'volatility_kcw': 0, 'volatility_kchi': 1, 'volatility_kcli': 1, 'volatility_ui': 0, 'trend_macd': 1, 'trend_mass_index': 1, 'trend_adx': 1, 'trend_aroon_up': 1, 'trend_aroon_down': 0, 'trend_psar_up': 1, 'trend_psar_down': 1, 'trend_psar_up_indicator': 0, 'trend_psar_down_indicator': 0, 'momentum_pvo': 1, 'momentum_pvo_hist': 1, 'others_dr': 1, 'others_cr': 1}. \n",
            "Trial 43 finished with values: [1.1236647514708127, 1.3546626334032692] and parameters: {'volume_adi': 0, 'volume_obv': 0, 'volume_fi': 1, 'volume_em': 0, 'volume_sma_em': 0, 'volume_mfi': 1, 'volatility_bbw': 1, 'volatility_bbp': 0, 'volatility_bbhi': 0, 'volatility_bbli': 0, 'volatility_kcw': 0, 'volatility_kchi': 1, 'volatility_kcli': 1, 'volatility_ui': 0, 'trend_macd': 1, 'trend_mass_index': 1, 'trend_adx': 1, 'trend_aroon_up': 1, 'trend_aroon_down': 0, 'trend_psar_up': 1, 'trend_psar_down': 1, 'trend_psar_up_indicator': 0, 'trend_psar_down_indicator': 0, 'momentum_pvo': 1, 'momentum_pvo_hist': 1, 'others_dr': 1, 'others_cr': 1}. \n"
          ]
        },
        {
          "output_type": "stream",
          "name": "stderr",
          "text": [
            "[I 2024-06-11 03:00:14,820] Trial 44 finished with values: [0.6565743734582274, 2.055628038108159] and parameters: {'volume_adi': 1, 'volume_obv': 1, 'volume_fi': 0, 'volume_em': 0, 'volume_sma_em': 0, 'volume_mfi': 1, 'volatility_bbw': 1, 'volatility_bbp': 0, 'volatility_bbhi': 1, 'volatility_bbli': 1, 'volatility_kcw': 0, 'volatility_kchi': 0, 'volatility_kcli': 1, 'volatility_ui': 0, 'trend_macd': 1, 'trend_mass_index': 0, 'trend_adx': 0, 'trend_aroon_up': 1, 'trend_aroon_down': 0, 'trend_psar_up': 1, 'trend_psar_down': 0, 'trend_psar_up_indicator': 0, 'trend_psar_down_indicator': 1, 'momentum_pvo': 1, 'momentum_pvo_hist': 1, 'others_dr': 0, 'others_cr': 0}. \n"
          ]
        },
        {
          "output_type": "stream",
          "name": "stdout",
          "text": [
            "Trade times in sample: 7126 Trade times out sample: 7257\n",
            "Trial 44 finished with values: [0.6565743734582274, 2.055628038108159] and parameters: {'volume_adi': 1, 'volume_obv': 1, 'volume_fi': 0, 'volume_em': 0, 'volume_sma_em': 0, 'volume_mfi': 1, 'volatility_bbw': 1, 'volatility_bbp': 0, 'volatility_bbhi': 1, 'volatility_bbli': 1, 'volatility_kcw': 0, 'volatility_kchi': 0, 'volatility_kcli': 1, 'volatility_ui': 0, 'trend_macd': 1, 'trend_mass_index': 0, 'trend_adx': 0, 'trend_aroon_up': 1, 'trend_aroon_down': 0, 'trend_psar_up': 1, 'trend_psar_down': 0, 'trend_psar_up_indicator': 0, 'trend_psar_down_indicator': 1, 'momentum_pvo': 1, 'momentum_pvo_hist': 1, 'others_dr': 0, 'others_cr': 0}. \n",
            "Trial 44 finished with values: [0.6565743734582274, 2.055628038108159] and parameters: {'volume_adi': 1, 'volume_obv': 1, 'volume_fi': 0, 'volume_em': 0, 'volume_sma_em': 0, 'volume_mfi': 1, 'volatility_bbw': 1, 'volatility_bbp': 0, 'volatility_bbhi': 1, 'volatility_bbli': 1, 'volatility_kcw': 0, 'volatility_kchi': 0, 'volatility_kcli': 1, 'volatility_ui': 0, 'trend_macd': 1, 'trend_mass_index': 0, 'trend_adx': 0, 'trend_aroon_up': 1, 'trend_aroon_down': 0, 'trend_psar_up': 1, 'trend_psar_down': 0, 'trend_psar_up_indicator': 0, 'trend_psar_down_indicator': 1, 'momentum_pvo': 1, 'momentum_pvo_hist': 1, 'others_dr': 0, 'others_cr': 0}. \n"
          ]
        },
        {
          "output_type": "stream",
          "name": "stderr",
          "text": [
            "[I 2024-06-11 03:00:15,070] Trial 45 finished with values: [-0.6236591456556486, 3.713502293326945] and parameters: {'volume_adi': 0, 'volume_obv': 0, 'volume_fi': 1, 'volume_em': 1, 'volume_sma_em': 1, 'volume_mfi': 1, 'volatility_bbw': 0, 'volatility_bbp': 1, 'volatility_bbhi': 0, 'volatility_bbli': 0, 'volatility_kcw': 0, 'volatility_kchi': 0, 'volatility_kcli': 0, 'volatility_ui': 0, 'trend_macd': 1, 'trend_mass_index': 1, 'trend_adx': 0, 'trend_aroon_up': 1, 'trend_aroon_down': 0, 'trend_psar_up': 1, 'trend_psar_down': 1, 'trend_psar_up_indicator': 0, 'trend_psar_down_indicator': 0, 'momentum_pvo': 1, 'momentum_pvo_hist': 0, 'others_dr': 1, 'others_cr': 0}. \n"
          ]
        },
        {
          "output_type": "stream",
          "name": "stdout",
          "text": [
            "Trade times in sample: 7764 Trade times out sample: 7952\n",
            "Trial 45 finished with values: [-0.6236591456556486, 3.713502293326945] and parameters: {'volume_adi': 0, 'volume_obv': 0, 'volume_fi': 1, 'volume_em': 1, 'volume_sma_em': 1, 'volume_mfi': 1, 'volatility_bbw': 0, 'volatility_bbp': 1, 'volatility_bbhi': 0, 'volatility_bbli': 0, 'volatility_kcw': 0, 'volatility_kchi': 0, 'volatility_kcli': 0, 'volatility_ui': 0, 'trend_macd': 1, 'trend_mass_index': 1, 'trend_adx': 0, 'trend_aroon_up': 1, 'trend_aroon_down': 0, 'trend_psar_up': 1, 'trend_psar_down': 1, 'trend_psar_up_indicator': 0, 'trend_psar_down_indicator': 0, 'momentum_pvo': 1, 'momentum_pvo_hist': 0, 'others_dr': 1, 'others_cr': 0}. \n",
            "Trial 45 finished with values: [-0.6236591456556486, 3.713502293326945] and parameters: {'volume_adi': 0, 'volume_obv': 0, 'volume_fi': 1, 'volume_em': 1, 'volume_sma_em': 1, 'volume_mfi': 1, 'volatility_bbw': 0, 'volatility_bbp': 1, 'volatility_bbhi': 0, 'volatility_bbli': 0, 'volatility_kcw': 0, 'volatility_kchi': 0, 'volatility_kcli': 0, 'volatility_ui': 0, 'trend_macd': 1, 'trend_mass_index': 1, 'trend_adx': 0, 'trend_aroon_up': 1, 'trend_aroon_down': 0, 'trend_psar_up': 1, 'trend_psar_down': 1, 'trend_psar_up_indicator': 0, 'trend_psar_down_indicator': 0, 'momentum_pvo': 1, 'momentum_pvo_hist': 0, 'others_dr': 1, 'others_cr': 0}. \n"
          ]
        },
        {
          "output_type": "stream",
          "name": "stderr",
          "text": [
            "[I 2024-06-11 03:00:15,332] Trial 46 finished with values: [-0.13436870593414402, 20.178945128102747] and parameters: {'volume_adi': 0, 'volume_obv': 0, 'volume_fi': 1, 'volume_em': 1, 'volume_sma_em': 1, 'volume_mfi': 0, 'volatility_bbw': 0, 'volatility_bbp': 0, 'volatility_bbhi': 1, 'volatility_bbli': 0, 'volatility_kcw': 1, 'volatility_kchi': 0, 'volatility_kcli': 1, 'volatility_ui': 0, 'trend_macd': 1, 'trend_mass_index': 1, 'trend_adx': 1, 'trend_aroon_up': 0, 'trend_aroon_down': 0, 'trend_psar_up': 1, 'trend_psar_down': 0, 'trend_psar_up_indicator': 1, 'trend_psar_down_indicator': 1, 'momentum_pvo': 1, 'momentum_pvo_hist': 1, 'others_dr': 0, 'others_cr': 1}. \n"
          ]
        },
        {
          "output_type": "stream",
          "name": "stdout",
          "text": [
            "Trade times in sample: 7764 Trade times out sample: 7809\n",
            "Trial 46 finished with values: [-0.13436870593414402, 20.178945128102747] and parameters: {'volume_adi': 0, 'volume_obv': 0, 'volume_fi': 1, 'volume_em': 1, 'volume_sma_em': 1, 'volume_mfi': 0, 'volatility_bbw': 0, 'volatility_bbp': 0, 'volatility_bbhi': 1, 'volatility_bbli': 0, 'volatility_kcw': 1, 'volatility_kchi': 0, 'volatility_kcli': 1, 'volatility_ui': 0, 'trend_macd': 1, 'trend_mass_index': 1, 'trend_adx': 1, 'trend_aroon_up': 0, 'trend_aroon_down': 0, 'trend_psar_up': 1, 'trend_psar_down': 0, 'trend_psar_up_indicator': 1, 'trend_psar_down_indicator': 1, 'momentum_pvo': 1, 'momentum_pvo_hist': 1, 'others_dr': 0, 'others_cr': 1}. \n",
            "Trial 46 finished with values: [-0.13436870593414402, 20.178945128102747] and parameters: {'volume_adi': 0, 'volume_obv': 0, 'volume_fi': 1, 'volume_em': 1, 'volume_sma_em': 1, 'volume_mfi': 0, 'volatility_bbw': 0, 'volatility_bbp': 0, 'volatility_bbhi': 1, 'volatility_bbli': 0, 'volatility_kcw': 1, 'volatility_kchi': 0, 'volatility_kcli': 1, 'volatility_ui': 0, 'trend_macd': 1, 'trend_mass_index': 1, 'trend_adx': 1, 'trend_aroon_up': 0, 'trend_aroon_down': 0, 'trend_psar_up': 1, 'trend_psar_down': 0, 'trend_psar_up_indicator': 1, 'trend_psar_down_indicator': 1, 'momentum_pvo': 1, 'momentum_pvo_hist': 1, 'others_dr': 0, 'others_cr': 1}. \n"
          ]
        },
        {
          "output_type": "stream",
          "name": "stderr",
          "text": [
            "[I 2024-06-11 03:00:15,569] Trial 47 finished with values: [-1.2347948458419213, 0.862607005447648] and parameters: {'volume_adi': 0, 'volume_obv': 0, 'volume_fi': 1, 'volume_em': 0, 'volume_sma_em': 0, 'volume_mfi': 1, 'volatility_bbw': 0, 'volatility_bbp': 1, 'volatility_bbhi': 0, 'volatility_bbli': 1, 'volatility_kcw': 1, 'volatility_kchi': 1, 'volatility_kcli': 0, 'volatility_ui': 1, 'trend_macd': 0, 'trend_mass_index': 0, 'trend_adx': 0, 'trend_aroon_up': 0, 'trend_aroon_down': 1, 'trend_psar_up': 0, 'trend_psar_down': 1, 'trend_psar_up_indicator': 0, 'trend_psar_down_indicator': 0, 'momentum_pvo': 0, 'momentum_pvo_hist': 1, 'others_dr': 0, 'others_cr': 1}. \n"
          ]
        },
        {
          "output_type": "stream",
          "name": "stdout",
          "text": [
            "Trade times in sample: 6924 Trade times out sample: 6290\n",
            "Trial 47 finished with values: [-1.2347948458419213, 0.862607005447648] and parameters: {'volume_adi': 0, 'volume_obv': 0, 'volume_fi': 1, 'volume_em': 0, 'volume_sma_em': 0, 'volume_mfi': 1, 'volatility_bbw': 0, 'volatility_bbp': 1, 'volatility_bbhi': 0, 'volatility_bbli': 1, 'volatility_kcw': 1, 'volatility_kchi': 1, 'volatility_kcli': 0, 'volatility_ui': 1, 'trend_macd': 0, 'trend_mass_index': 0, 'trend_adx': 0, 'trend_aroon_up': 0, 'trend_aroon_down': 1, 'trend_psar_up': 0, 'trend_psar_down': 1, 'trend_psar_up_indicator': 0, 'trend_psar_down_indicator': 0, 'momentum_pvo': 0, 'momentum_pvo_hist': 1, 'others_dr': 0, 'others_cr': 1}. \n",
            "Trial 47 finished with values: [-1.2347948458419213, 0.862607005447648] and parameters: {'volume_adi': 0, 'volume_obv': 0, 'volume_fi': 1, 'volume_em': 0, 'volume_sma_em': 0, 'volume_mfi': 1, 'volatility_bbw': 0, 'volatility_bbp': 1, 'volatility_bbhi': 0, 'volatility_bbli': 1, 'volatility_kcw': 1, 'volatility_kchi': 1, 'volatility_kcli': 0, 'volatility_ui': 1, 'trend_macd': 0, 'trend_mass_index': 0, 'trend_adx': 0, 'trend_aroon_up': 0, 'trend_aroon_down': 1, 'trend_psar_up': 0, 'trend_psar_down': 1, 'trend_psar_up_indicator': 0, 'trend_psar_down_indicator': 0, 'momentum_pvo': 0, 'momentum_pvo_hist': 1, 'others_dr': 0, 'others_cr': 1}. \n"
          ]
        },
        {
          "output_type": "stream",
          "name": "stderr",
          "text": [
            "[I 2024-06-11 03:00:15,860] Trial 48 finished with values: [-1.4292393455544103, 0.5621096922930071] and parameters: {'volume_adi': 0, 'volume_obv': 1, 'volume_fi': 0, 'volume_em': 0, 'volume_sma_em': 1, 'volume_mfi': 1, 'volatility_bbw': 1, 'volatility_bbp': 1, 'volatility_bbhi': 0, 'volatility_bbli': 1, 'volatility_kcw': 1, 'volatility_kchi': 0, 'volatility_kcli': 1, 'volatility_ui': 0, 'trend_macd': 0, 'trend_mass_index': 0, 'trend_adx': 0, 'trend_aroon_up': 0, 'trend_aroon_down': 1, 'trend_psar_up': 0, 'trend_psar_down': 1, 'trend_psar_up_indicator': 1, 'trend_psar_down_indicator': 1, 'momentum_pvo': 0, 'momentum_pvo_hist': 0, 'others_dr': 1, 'others_cr': 0}. \n"
          ]
        },
        {
          "output_type": "stream",
          "name": "stdout",
          "text": [
            "Trade times in sample: 7805 Trade times out sample: 7651\n",
            "Trial 48 finished with values: [-1.4292393455544103, 0.5621096922930071] and parameters: {'volume_adi': 0, 'volume_obv': 1, 'volume_fi': 0, 'volume_em': 0, 'volume_sma_em': 1, 'volume_mfi': 1, 'volatility_bbw': 1, 'volatility_bbp': 1, 'volatility_bbhi': 0, 'volatility_bbli': 1, 'volatility_kcw': 1, 'volatility_kchi': 0, 'volatility_kcli': 1, 'volatility_ui': 0, 'trend_macd': 0, 'trend_mass_index': 0, 'trend_adx': 0, 'trend_aroon_up': 0, 'trend_aroon_down': 1, 'trend_psar_up': 0, 'trend_psar_down': 1, 'trend_psar_up_indicator': 1, 'trend_psar_down_indicator': 1, 'momentum_pvo': 0, 'momentum_pvo_hist': 0, 'others_dr': 1, 'others_cr': 0}. \n",
            "Trial 48 finished with values: [-1.4292393455544103, 0.5621096922930071] and parameters: {'volume_adi': 0, 'volume_obv': 1, 'volume_fi': 0, 'volume_em': 0, 'volume_sma_em': 1, 'volume_mfi': 1, 'volatility_bbw': 1, 'volatility_bbp': 1, 'volatility_bbhi': 0, 'volatility_bbli': 1, 'volatility_kcw': 1, 'volatility_kchi': 0, 'volatility_kcli': 1, 'volatility_ui': 0, 'trend_macd': 0, 'trend_mass_index': 0, 'trend_adx': 0, 'trend_aroon_up': 0, 'trend_aroon_down': 1, 'trend_psar_up': 0, 'trend_psar_down': 1, 'trend_psar_up_indicator': 1, 'trend_psar_down_indicator': 1, 'momentum_pvo': 0, 'momentum_pvo_hist': 0, 'others_dr': 1, 'others_cr': 0}. \n"
          ]
        },
        {
          "output_type": "stream",
          "name": "stderr",
          "text": [
            "[I 2024-06-11 03:00:16,115] Trial 49 finished with values: [1.018499890544041, 0.854428695221032] and parameters: {'volume_adi': 0, 'volume_obv': 0, 'volume_fi': 0, 'volume_em': 0, 'volume_sma_em': 0, 'volume_mfi': 1, 'volatility_bbw': 1, 'volatility_bbp': 0, 'volatility_bbhi': 0, 'volatility_bbli': 1, 'volatility_kcw': 0, 'volatility_kchi': 1, 'volatility_kcli': 1, 'volatility_ui': 0, 'trend_macd': 0, 'trend_mass_index': 0, 'trend_adx': 0, 'trend_aroon_up': 1, 'trend_aroon_down': 0, 'trend_psar_up': 1, 'trend_psar_down': 0, 'trend_psar_up_indicator': 0, 'trend_psar_down_indicator': 0, 'momentum_pvo': 1, 'momentum_pvo_hist': 0, 'others_dr': 1, 'others_cr': 0}. \n"
          ]
        },
        {
          "output_type": "stream",
          "name": "stdout",
          "text": [
            "Trade times in sample: 6934 Trade times out sample: 7704\n",
            "Trial 49 finished with values: [1.018499890544041, 0.854428695221032] and parameters: {'volume_adi': 0, 'volume_obv': 0, 'volume_fi': 0, 'volume_em': 0, 'volume_sma_em': 0, 'volume_mfi': 1, 'volatility_bbw': 1, 'volatility_bbp': 0, 'volatility_bbhi': 0, 'volatility_bbli': 1, 'volatility_kcw': 0, 'volatility_kchi': 1, 'volatility_kcli': 1, 'volatility_ui': 0, 'trend_macd': 0, 'trend_mass_index': 0, 'trend_adx': 0, 'trend_aroon_up': 1, 'trend_aroon_down': 0, 'trend_psar_up': 1, 'trend_psar_down': 0, 'trend_psar_up_indicator': 0, 'trend_psar_down_indicator': 0, 'momentum_pvo': 1, 'momentum_pvo_hist': 0, 'others_dr': 1, 'others_cr': 0}. \n",
            "Trial 49 finished with values: [1.018499890544041, 0.854428695221032] and parameters: {'volume_adi': 0, 'volume_obv': 0, 'volume_fi': 0, 'volume_em': 0, 'volume_sma_em': 0, 'volume_mfi': 1, 'volatility_bbw': 1, 'volatility_bbp': 0, 'volatility_bbhi': 0, 'volatility_bbli': 1, 'volatility_kcw': 0, 'volatility_kchi': 1, 'volatility_kcli': 1, 'volatility_ui': 0, 'trend_macd': 0, 'trend_mass_index': 0, 'trend_adx': 0, 'trend_aroon_up': 1, 'trend_aroon_down': 0, 'trend_psar_up': 1, 'trend_psar_down': 0, 'trend_psar_up_indicator': 0, 'trend_psar_down_indicator': 0, 'momentum_pvo': 1, 'momentum_pvo_hist': 0, 'others_dr': 1, 'others_cr': 0}. \n"
          ]
        }
      ],
      "source": [
        "\"\"\"## Define number of trials (no 2)\"\"\"\n",
        "\n",
        "# Create a study object and optimize the objective function\n",
        "study = optuna.create_study(directions=['maximize', 'minimize'])\n",
        "unique_trials = 50\n",
        "\n",
        "while unique_trials > len(set(str(t.params) for t in study.trials)):\n",
        "    study.optimize(lambda trial: objective(trial, X_train, X_valid, y_train, y_valid, train_data['Close']), n_trials=1)\n",
        "    study.trials_dataframe().sort_values('values_0').to_csv('feature_trials.csv')\n",
        "    joblib.dump(study, 'abmodel.pkl')\n",
        "\n",
        "trials = study.trials\n",
        "trials.sort(key=lambda trial: trial.values, reverse=True)\n",
        "study.trials_dataframe().sort_values('values_0', ascending=False).duplicated().sum()\n",
        "\n",
        "\"\"\"## Checking part for fixing bug\"\"\"\n",
        "df =study.trials_dataframe()\n",
        "\n",
        "# df.to_csv('save_trials.csv')"
      ]
    },
    {
      "cell_type": "markdown",
      "metadata": {
        "id": "DYFKKBhpqnAC"
      },
      "source": [
        "Retrieve Top PNL"
      ]
    },
    {
      "cell_type": "code",
      "execution_count": 50,
      "metadata": {
        "id": "oWzuIq5PqnAC"
      },
      "outputs": [],
      "source": [
        "trials = study.trials\n",
        "\n",
        "# Sort trials based on objective values\n",
        "trials.sort(key=lambda trial: trial.values, reverse=True)\n",
        "\n",
        "# Define top pnl to take for clustering\n",
        "top_trials = trials[:100]\n",
        "\n",
        "new_df_no_close_col = data.drop(['Date','time', 'Open','High','Low','Close','Volume', 'Return' ], axis=1)\n",
        "\n",
        "# Extract hyperparameters from top trials\n",
        "top_features_list = []\n",
        "\n",
        "for trial in top_trials:\n",
        "  best_selected_features = [col for col in new_df_no_close_col.columns if trial.params[col] == 1]\n",
        "  top_features_list.append(best_selected_features)"
      ]
    },
    {
      "cell_type": "code",
      "execution_count": 51,
      "metadata": {
        "id": "cutCw_EwqnAD"
      },
      "outputs": [],
      "source": [
        "top_pnl = []\n",
        "trade_threshold  = 0.0005\n",
        "\n",
        "for best_selected_features in top_features_list:\n",
        "\n",
        "    new_df_selected = data[['Close', 'Return']+best_selected_features]\n",
        "    train_select_col_data, _ = split_data(new_df_selected)\n",
        "\n",
        "    retrain_data = train_select_col_data.drop(['Close', 'Return'], axis=1)\n",
        "    retrain_data = scale_data(retrain_data)\n",
        "\n",
        "    X_train, X_valid, y_train, y_valid = train_test_split(retrain_data,\n",
        "                                                      train_select_col_data['Return'],\n",
        "                                                      test_size=0.5,shuffle=False)\n",
        "\n",
        "    # Create and train model\n",
        "    model = xgb.XGBRegressor()\n",
        "    model.fit(X_train, y_train)\n",
        "\n",
        "    # Make predictions\n",
        "    y_pred_valid = model.predict(X_valid)\n",
        "    _, pnl_valid, _, _ = sharpe_for_vn30f(y_pred_valid, y_valid, trade_threshold=trade_threshold, fee_perc=0.01, periods=10)\n",
        "    pnl_valid_no_nan = np.nan_to_num(pnl_valid, nan=0)\n",
        "    top_pnl.append(pnl_valid_no_nan)"
      ]
    },
    {
      "cell_type": "markdown",
      "metadata": {
        "id": "l8vKyBBgqnAH"
      },
      "source": [
        "# ONC"
      ]
    },
    {
      "cell_type": "code",
      "execution_count": 52,
      "metadata": {
        "id": "TPd5wBN9qnAH"
      },
      "outputs": [],
      "source": [
        "from sklearn.cluster import KMeans\n",
        "from sklearn.metrics import silhouette_samples, silhouette_score"
      ]
    },
    {
      "cell_type": "code",
      "execution_count": 53,
      "metadata": {
        "id": "0st2dHHbqnAH"
      },
      "outputs": [],
      "source": [
        "def cov2corr(cov):\n",
        "    # Derive the correlation matrix from a covariance matrix\n",
        "    std = np.sqrt(np.diag(cov))\n",
        "    corr = cov/np.outer(std,std)\n",
        "    corr[corr<-1], corr[corr>1] = -1,1 #for numerical errors\n",
        "    return corr\n",
        "\n",
        "def clusterKMeansBase(corr0, maxNumClusters=10, n_init=10, debug=False):\n",
        "    corr0[corr0 > 1] = 1\n",
        "    dist_matrix = ((1-corr0)/2.)**.5\n",
        "    silh_coef_optimal = pd.Series(dtype='float64') #observations matrixs\n",
        "    kmeans, stat = None, None\n",
        "    maxNumClusters = min(maxNumClusters, int(np.floor(dist_matrix.shape[0]/2)))\n",
        "    print(\"maxNumClusters\"+str(maxNumClusters))\n",
        "    for init in range(0, n_init):\n",
        "    #The [outer] loop repeats the first loop multiple times, thereby obtaining different initializations. Ref: de Prado and Lewis (2018)\n",
        "    #DETECTION OF FALSE INVESTMENT STRATEGIES USING UNSUPERVISED LEARNING METHODS\n",
        "        for num_clusters in range(2, maxNumClusters+1):\n",
        "            #(maxNumClusters + 2 - num_clusters) # go in reverse order to view more sub-optimal solutions\n",
        "            kmeans_ = KMeans(n_clusters=num_clusters, n_init=10) #, random_state=3425) #n_jobs=None #n_jobs=None - use all CPUs\n",
        "            kmeans_ = kmeans_.fit(dist_matrix)\n",
        "            silh_coef = silhouette_samples(dist_matrix, kmeans_.labels_)\n",
        "            stat = (silh_coef.mean()/silh_coef.std(), silh_coef_optimal.mean()/silh_coef_optimal.std())\n",
        "\n",
        "            # If this metric better than the previous set as the optimal number of clusters\n",
        "            if np.isnan(stat[1]) or stat[0] > stat[1]:\n",
        "                silh_coef_optimal = silh_coef\n",
        "                kmeans = kmeans_\n",
        "                if debug==True:\n",
        "                    print(kmeans)\n",
        "                    print(stat)\n",
        "                    silhouette_avg = silhouette_score(dist_matrix, kmeans_.labels_)\n",
        "                    print(\"For n_clusters =\"+ str(num_clusters)+ \"The average silhouette_score is :\"+ str(silhouette_avg))\n",
        "                    print(\"********\")\n",
        "\n",
        "    newIdx = np.argsort(kmeans.labels_)\n",
        "    #print(newIdx)\n",
        "\n",
        "    corr1 = corr0.iloc[newIdx] #reorder rows\n",
        "    corr1 = corr1.iloc[:, newIdx] #reorder columns\n",
        "\n",
        "    clstrs = {i:corr0.columns[np.where(kmeans.labels_==i)[0]].tolist() for i in np.unique(kmeans.labels_)} #cluster members\n",
        "    silh_coef_optimal = pd.Series(silh_coef_optimal, index=dist_matrix.index)\n",
        "\n",
        "    return corr1, clstrs, silh_coef_optimal\n",
        "\n",
        "def makeNewOutputs(corr0, clstrs, clstrs2):\n",
        "    clstrsNew, newIdx = {}, []\n",
        "    for i in clstrs.keys():\n",
        "        clstrsNew[len(clstrsNew.keys())] = list(clstrs[i])\n",
        "\n",
        "    for i in clstrs2.keys():\n",
        "        clstrsNew[len(clstrsNew.keys())] = list(clstrs2[i])\n",
        "\n",
        "    newIdx = [j for i in clstrsNew for j in clstrsNew[i]]\n",
        "    corrNew = corr0.loc[newIdx, newIdx]\n",
        "\n",
        "    dist = ((1 - corr0) / 2.)**.5\n",
        "    kmeans_labels = np.zeros(len(dist.columns))\n",
        "    for i in clstrsNew.keys():\n",
        "        idxs = [dist.index.get_loc(k) for k in clstrsNew[i]]\n",
        "        kmeans_labels[idxs] = i\n",
        "\n",
        "    silhNew = pd.Series(silhouette_samples(dist, kmeans_labels), index=dist.index)\n",
        "\n",
        "    return corrNew, clstrsNew, silhNew\n",
        "\n",
        "def clusterKMeansTop(corr0: pd.DataFrame, maxNumClusters=None, n_init=10):\n",
        "    if maxNumClusters == None:\n",
        "        maxNumClusters = corr0.shape[1]-1\n",
        "\n",
        "    corr1, clstrs, silh = clusterKMeansBase(corr0, maxNumClusters=min(maxNumClusters, corr0.shape[1]-1), n_init=10)#n_init)\n",
        "    print(\"clstrs length:\"+str(len(clstrs.keys())))\n",
        "    print(\"best clustr:\"+str(len(clstrs.keys())))\n",
        "    #for i in clstrs.keys():\n",
        "    #    print(\"std:\"+str(np.std(silh[clstrs[i]])))\n",
        "\n",
        "    clusterTstats = {i:np.mean(silh[clstrs[i]])/np.std(silh[clstrs[i]]) for i in clstrs.keys()}\n",
        "    tStatMean = np.sum(list(clusterTstats.values()))/len(clusterTstats)\n",
        "    redoClusters = [i for i in clusterTstats.keys() if clusterTstats[i] < tStatMean]\n",
        "    #print(\"redo cluster:\"+str(redoClusters))\n",
        "    if len(redoClusters) <= 2:\n",
        "        print(\"If 2 or less clusters have a quality rating less than the average then stop.\")\n",
        "        print(\"redoCluster <=1:\"+str(redoClusters)+\" clstrs len:\"+str(len(clstrs.keys())))\n",
        "        return corr1, clstrs, silh\n",
        "    else:\n",
        "        keysRedo = [j for i in redoClusters for j in clstrs[i]]\n",
        "        corrTmp = corr0.loc[keysRedo, keysRedo]\n",
        "        _, clstrs2, _ = clusterKMeansTop(corrTmp, maxNumClusters=min(maxNumClusters, corrTmp.shape[1]-1), n_init=n_init)\n",
        "        print(\"clstrs2.len, stat:\"+str(len(clstrs2.keys())))\n",
        "        #Make new outputs, if necessary\n",
        "        dict_redo_clstrs = {i:clstrs[i] for i in clstrs.keys() if i not in redoClusters}\n",
        "        corrNew, clstrsNew, silhNew = makeNewOutputs(corr0, dict_redo_clstrs, clstrs2)\n",
        "        newTstatMean = np.mean([np.mean(silhNew[clstrsNew[i]])/np.std(silhNew[clstrsNew[i]]) for i in clstrsNew.keys()])\n",
        "        if newTstatMean <= tStatMean:\n",
        "            print(\"newTstatMean <= tStatMean\"+str(newTstatMean)+ \" (len:newClst)\"+str(len(clstrsNew.keys()))+\" <= \"+str(tStatMean)+ \" (len:Clst)\"+str(len(clstrs.keys())))\n",
        "            return corr1, clstrs, silh\n",
        "        else:\n",
        "            print(\"newTstatMean > tStatMean\"+str(newTstatMean)+ \" (len:newClst)\"+str(len(clstrsNew.keys()))\n",
        "                  +\" > \"+str(tStatMean)+ \" (len:Clst)\"+str(len(clstrs.keys())))\n",
        "            return corrNew, clstrsNew, silhNew\n",
        "            #return corr1, clstrs, silh, stat"
      ]
    },
    {
      "cell_type": "code",
      "execution_count": 54,
      "metadata": {
        "id": "7FqBCm3aqnAI"
      },
      "outputs": [],
      "source": [
        "# FREQUENCY FEATURE TABLE\n",
        "correlation_matrix = np.corrcoef(top_pnl)\n",
        "corr = pd.DataFrame(correlation_matrix)"
      ]
    },
    {
      "cell_type": "code",
      "execution_count": 55,
      "metadata": {
        "id": "T5xhYDxSqnAI",
        "colab": {
          "base_uri": "https://localhost:8080/",
          "height": 901
        },
        "outputId": "e51a934d-0a80-4c69-92a7-7863535c15ed"
      },
      "outputs": [
        {
          "output_type": "display_data",
          "data": {
            "text/plain": [
              "<Figure size 480x480 with 2 Axes>"
            ],
            "image/png": "[encoded data removed]"
          },
          "metadata": {}
        },
        {
          "output_type": "stream",
          "name": "stdout",
          "text": [
            "maxNumClusters25\n",
            "clstrs length:2\n",
            "best clustr:2\n",
            "If 2 or less clusters have a quality rating less than the average then stop.\n",
            "redoCluster <=1:[0] clstrs len:2\n"
          ]
        },
        {
          "output_type": "display_data",
          "data": {
            "text/plain": [
              "<Figure size 480x480 with 2 Axes>"
            ],
            "image/png": "[encoded data removed]"
          },
          "metadata": {}
        }
      ],
      "source": [
        "#Draw ground truth\n",
        "matplotlib.pyplot.matshow(corr) #invert y-axis to get origo at lower left corner\n",
        "matplotlib.pyplot.gca().xaxis.tick_bottom()\n",
        "matplotlib.pyplot.gca().invert_yaxis()\n",
        "matplotlib.pyplot.colorbar()\n",
        "matplotlib.pyplot.show()\n",
        "\n",
        "#draw prediction based on ONC\n",
        "corrNew, clstrsNew, silhNew = clusterKMeansTop(corr)\n",
        "matplotlib.pyplot.matshow(corrNew)\n",
        "matplotlib.pyplot.gca().xaxis.tick_bottom()\n",
        "matplotlib.pyplot.gca().invert_yaxis()\n",
        "matplotlib.pyplot.colorbar()\n",
        "matplotlib.pyplot.show()"
      ]
    },
    {
      "cell_type": "code",
      "execution_count": 56,
      "metadata": {
        "id": "V4B5g50ZqnAI",
        "colab": {
          "base_uri": "https://localhost:8080/"
        },
        "outputId": "a1553b01-d357-4d4f-8adc-a7c15968f97f"
      },
      "outputs": [
        {
          "output_type": "stream",
          "name": "stdout",
          "text": [
            "Cluster 0:\n",
            "- Trial 19: {'volume_adi': 0, 'volume_obv': 1, 'volume_fi': 1, 'volume_em': 0, 'volume_sma_em': 0, 'volume_mfi': 0, 'volatility_bbw': 1, 'volatility_bbp': 0, 'volatility_bbhi': 1, 'volatility_bbli': 0, 'volatility_kcw': 0, 'volatility_kchi': 0, 'volatility_kcli': 1, 'volatility_ui': 0, 'trend_macd': 1, 'trend_mass_index': 0, 'trend_adx': 0, 'trend_aroon_up': 1, 'trend_aroon_down': 0, 'trend_psar_up': 0, 'trend_psar_down': 1, 'trend_psar_up_indicator': 1, 'trend_psar_down_indicator': 1, 'momentum_pvo': 0, 'momentum_pvo_hist': 0, 'others_dr': 1, 'others_cr': 1}\n",
            "- Trial 8: {'volume_adi': 0, 'volume_obv': 0, 'volume_fi': 1, 'volume_em': 0, 'volume_sma_em': 0, 'volume_mfi': 1, 'volatility_bbw': 0, 'volatility_bbp': 1, 'volatility_bbhi': 1, 'volatility_bbli': 1, 'volatility_kcw': 0, 'volatility_kchi': 1, 'volatility_kcli': 0, 'volatility_ui': 1, 'trend_macd': 1, 'trend_mass_index': 0, 'trend_adx': 1, 'trend_aroon_up': 1, 'trend_aroon_down': 0, 'trend_psar_up': 0, 'trend_psar_down': 0, 'trend_psar_up_indicator': 0, 'trend_psar_down_indicator': 0, 'momentum_pvo': 1, 'momentum_pvo_hist': 0, 'others_dr': 0, 'others_cr': 1}\n",
            "- Trial 41: {'volume_adi': 0, 'volume_obv': 0, 'volume_fi': 1, 'volume_em': 1, 'volume_sma_em': 1, 'volume_mfi': 0, 'volatility_bbw': 0, 'volatility_bbp': 0, 'volatility_bbhi': 0, 'volatility_bbli': 1, 'volatility_kcw': 1, 'volatility_kchi': 0, 'volatility_kcli': 0, 'volatility_ui': 0, 'trend_macd': 1, 'trend_mass_index': 0, 'trend_adx': 0, 'trend_aroon_up': 0, 'trend_aroon_down': 1, 'trend_psar_up': 0, 'trend_psar_down': 1, 'trend_psar_up_indicator': 1, 'trend_psar_down_indicator': 0, 'momentum_pvo': 0, 'momentum_pvo_hist': 1, 'others_dr': 0, 'others_cr': 0}\n",
            "- Trial 33: {'volume_adi': 1, 'volume_obv': 0, 'volume_fi': 0, 'volume_em': 0, 'volume_sma_em': 0, 'volume_mfi': 0, 'volatility_bbw': 1, 'volatility_bbp': 1, 'volatility_bbhi': 0, 'volatility_bbli': 1, 'volatility_kcw': 1, 'volatility_kchi': 1, 'volatility_kcli': 0, 'volatility_ui': 0, 'trend_macd': 1, 'trend_mass_index': 0, 'trend_adx': 1, 'trend_aroon_up': 0, 'trend_aroon_down': 0, 'trend_psar_up': 0, 'trend_psar_down': 1, 'trend_psar_up_indicator': 0, 'trend_psar_down_indicator': 1, 'momentum_pvo': 1, 'momentum_pvo_hist': 0, 'others_dr': 1, 'others_cr': 1}\n",
            "- Trial 44: {'volume_adi': 1, 'volume_obv': 1, 'volume_fi': 0, 'volume_em': 0, 'volume_sma_em': 0, 'volume_mfi': 1, 'volatility_bbw': 1, 'volatility_bbp': 0, 'volatility_bbhi': 1, 'volatility_bbli': 1, 'volatility_kcw': 0, 'volatility_kchi': 0, 'volatility_kcli': 1, 'volatility_ui': 0, 'trend_macd': 1, 'trend_mass_index': 0, 'trend_adx': 0, 'trend_aroon_up': 1, 'trend_aroon_down': 0, 'trend_psar_up': 1, 'trend_psar_down': 0, 'trend_psar_up_indicator': 0, 'trend_psar_down_indicator': 1, 'momentum_pvo': 1, 'momentum_pvo_hist': 1, 'others_dr': 0, 'others_cr': 0}\n",
            "- Trial 32: {'volume_adi': 1, 'volume_obv': 0, 'volume_fi': 0, 'volume_em': 1, 'volume_sma_em': 1, 'volume_mfi': 1, 'volatility_bbw': 0, 'volatility_bbp': 1, 'volatility_bbhi': 0, 'volatility_bbli': 0, 'volatility_kcw': 0, 'volatility_kchi': 0, 'volatility_kcli': 0, 'volatility_ui': 1, 'trend_macd': 1, 'trend_mass_index': 0, 'trend_adx': 0, 'trend_aroon_up': 1, 'trend_aroon_down': 1, 'trend_psar_up': 0, 'trend_psar_down': 0, 'trend_psar_up_indicator': 1, 'trend_psar_down_indicator': 1, 'momentum_pvo': 1, 'momentum_pvo_hist': 1, 'others_dr': 0, 'others_cr': 0}\n",
            "- Trial 30: {'volume_adi': 0, 'volume_obv': 1, 'volume_fi': 1, 'volume_em': 1, 'volume_sma_em': 0, 'volume_mfi': 1, 'volatility_bbw': 0, 'volatility_bbp': 1, 'volatility_bbhi': 1, 'volatility_bbli': 1, 'volatility_kcw': 0, 'volatility_kchi': 1, 'volatility_kcli': 1, 'volatility_ui': 1, 'trend_macd': 0, 'trend_mass_index': 0, 'trend_adx': 1, 'trend_aroon_up': 1, 'trend_aroon_down': 0, 'trend_psar_up': 0, 'trend_psar_down': 1, 'trend_psar_up_indicator': 0, 'trend_psar_down_indicator': 0, 'momentum_pvo': 1, 'momentum_pvo_hist': 0, 'others_dr': 0, 'others_cr': 1}\n",
            "- Trial 5: {'volume_adi': 1, 'volume_obv': 1, 'volume_fi': 1, 'volume_em': 0, 'volume_sma_em': 1, 'volume_mfi': 0, 'volatility_bbw': 0, 'volatility_bbp': 1, 'volatility_bbhi': 0, 'volatility_bbli': 0, 'volatility_kcw': 0, 'volatility_kchi': 1, 'volatility_kcli': 1, 'volatility_ui': 1, 'trend_macd': 0, 'trend_mass_index': 1, 'trend_adx': 1, 'trend_aroon_up': 0, 'trend_aroon_down': 1, 'trend_psar_up': 1, 'trend_psar_down': 0, 'trend_psar_up_indicator': 1, 'trend_psar_down_indicator': 0, 'momentum_pvo': 1, 'momentum_pvo_hist': 1, 'others_dr': 0, 'others_cr': 1}\n",
            "- Trial 9: {'volume_adi': 0, 'volume_obv': 1, 'volume_fi': 0, 'volume_em': 1, 'volume_sma_em': 1, 'volume_mfi': 0, 'volatility_bbw': 1, 'volatility_bbp': 0, 'volatility_bbhi': 0, 'volatility_bbli': 1, 'volatility_kcw': 1, 'volatility_kchi': 0, 'volatility_kcli': 1, 'volatility_ui': 1, 'trend_macd': 0, 'trend_mass_index': 0, 'trend_adx': 0, 'trend_aroon_up': 0, 'trend_aroon_down': 1, 'trend_psar_up': 0, 'trend_psar_down': 0, 'trend_psar_up_indicator': 0, 'trend_psar_down_indicator': 0, 'momentum_pvo': 0, 'momentum_pvo_hist': 0, 'others_dr': 0, 'others_cr': 0}\n",
            "- Trial 3: {'volume_adi': 1, 'volume_obv': 0, 'volume_fi': 1, 'volume_em': 0, 'volume_sma_em': 0, 'volume_mfi': 0, 'volatility_bbw': 0, 'volatility_bbp': 0, 'volatility_bbhi': 1, 'volatility_bbli': 0, 'volatility_kcw': 1, 'volatility_kchi': 1, 'volatility_kcli': 0, 'volatility_ui': 1, 'trend_macd': 1, 'trend_mass_index': 0, 'trend_adx': 0, 'trend_aroon_up': 0, 'trend_aroon_down': 0, 'trend_psar_up': 1, 'trend_psar_down': 0, 'trend_psar_up_indicator': 1, 'trend_psar_down_indicator': 1, 'momentum_pvo': 0, 'momentum_pvo_hist': 0, 'others_dr': 1, 'others_cr': 1}\n",
            "- Trial 35: {'volume_adi': 1, 'volume_obv': 1, 'volume_fi': 0, 'volume_em': 0, 'volume_sma_em': 0, 'volume_mfi': 0, 'volatility_bbw': 0, 'volatility_bbp': 1, 'volatility_bbhi': 0, 'volatility_bbli': 0, 'volatility_kcw': 1, 'volatility_kchi': 0, 'volatility_kcli': 1, 'volatility_ui': 0, 'trend_macd': 1, 'trend_mass_index': 1, 'trend_adx': 0, 'trend_aroon_up': 0, 'trend_aroon_down': 0, 'trend_psar_up': 1, 'trend_psar_down': 1, 'trend_psar_up_indicator': 1, 'trend_psar_down_indicator': 0, 'momentum_pvo': 0, 'momentum_pvo_hist': 0, 'others_dr': 1, 'others_cr': 0}\n",
            "- Trial 15: {'volume_adi': 0, 'volume_obv': 1, 'volume_fi': 1, 'volume_em': 0, 'volume_sma_em': 0, 'volume_mfi': 0, 'volatility_bbw': 0, 'volatility_bbp': 1, 'volatility_bbhi': 0, 'volatility_bbli': 1, 'volatility_kcw': 1, 'volatility_kchi': 0, 'volatility_kcli': 1, 'volatility_ui': 0, 'trend_macd': 1, 'trend_mass_index': 0, 'trend_adx': 0, 'trend_aroon_up': 0, 'trend_aroon_down': 0, 'trend_psar_up': 0, 'trend_psar_down': 1, 'trend_psar_up_indicator': 1, 'trend_psar_down_indicator': 0, 'momentum_pvo': 0, 'momentum_pvo_hist': 0, 'others_dr': 1, 'others_cr': 0}\n",
            "- Trial 16: {'volume_adi': 1, 'volume_obv': 0, 'volume_fi': 1, 'volume_em': 1, 'volume_sma_em': 1, 'volume_mfi': 1, 'volatility_bbw': 1, 'volatility_bbp': 1, 'volatility_bbhi': 1, 'volatility_bbli': 1, 'volatility_kcw': 0, 'volatility_kchi': 1, 'volatility_kcli': 1, 'volatility_ui': 0, 'trend_macd': 1, 'trend_mass_index': 1, 'trend_adx': 1, 'trend_aroon_up': 1, 'trend_aroon_down': 0, 'trend_psar_up': 0, 'trend_psar_down': 0, 'trend_psar_up_indicator': 1, 'trend_psar_down_indicator': 1, 'momentum_pvo': 0, 'momentum_pvo_hist': 1, 'others_dr': 1, 'others_cr': 1}\n",
            "- Trial 37: {'volume_adi': 1, 'volume_obv': 0, 'volume_fi': 1, 'volume_em': 1, 'volume_sma_em': 1, 'volume_mfi': 1, 'volatility_bbw': 0, 'volatility_bbp': 0, 'volatility_bbhi': 1, 'volatility_bbli': 1, 'volatility_kcw': 0, 'volatility_kchi': 0, 'volatility_kcli': 0, 'volatility_ui': 0, 'trend_macd': 0, 'trend_mass_index': 1, 'trend_adx': 0, 'trend_aroon_up': 1, 'trend_aroon_down': 1, 'trend_psar_up': 0, 'trend_psar_down': 1, 'trend_psar_up_indicator': 0, 'trend_psar_down_indicator': 0, 'momentum_pvo': 1, 'momentum_pvo_hist': 0, 'others_dr': 1, 'others_cr': 1}\n",
            "- Trial 21: {'volume_adi': 1, 'volume_obv': 0, 'volume_fi': 1, 'volume_em': 0, 'volume_sma_em': 1, 'volume_mfi': 0, 'volatility_bbw': 0, 'volatility_bbp': 0, 'volatility_bbhi': 1, 'volatility_bbli': 1, 'volatility_kcw': 1, 'volatility_kchi': 1, 'volatility_kcli': 0, 'volatility_ui': 0, 'trend_macd': 0, 'trend_mass_index': 1, 'trend_adx': 0, 'trend_aroon_up': 0, 'trend_aroon_down': 0, 'trend_psar_up': 0, 'trend_psar_down': 0, 'trend_psar_up_indicator': 1, 'trend_psar_down_indicator': 1, 'momentum_pvo': 0, 'momentum_pvo_hist': 0, 'others_dr': 1, 'others_cr': 1}\n",
            "- Trial 17: {'volume_adi': 1, 'volume_obv': 1, 'volume_fi': 1, 'volume_em': 0, 'volume_sma_em': 1, 'volume_mfi': 1, 'volatility_bbw': 0, 'volatility_bbp': 1, 'volatility_bbhi': 1, 'volatility_bbli': 1, 'volatility_kcw': 1, 'volatility_kchi': 1, 'volatility_kcli': 0, 'volatility_ui': 0, 'trend_macd': 1, 'trend_mass_index': 1, 'trend_adx': 0, 'trend_aroon_up': 0, 'trend_aroon_down': 1, 'trend_psar_up': 1, 'trend_psar_down': 1, 'trend_psar_up_indicator': 1, 'trend_psar_down_indicator': 1, 'momentum_pvo': 1, 'momentum_pvo_hist': 0, 'others_dr': 0, 'others_cr': 0}\n",
            "- Trial 0: {'volume_adi': 1, 'volume_obv': 1, 'volume_fi': 0, 'volume_em': 0, 'volume_sma_em': 0, 'volume_mfi': 1, 'volatility_bbw': 0, 'volatility_bbp': 0, 'volatility_bbhi': 1, 'volatility_bbli': 1, 'volatility_kcw': 0, 'volatility_kchi': 0, 'volatility_kcli': 1, 'volatility_ui': 1, 'trend_macd': 1, 'trend_mass_index': 0, 'trend_adx': 1, 'trend_aroon_up': 1, 'trend_aroon_down': 1, 'trend_psar_up': 0, 'trend_psar_down': 0, 'trend_psar_up_indicator': 1, 'trend_psar_down_indicator': 0, 'momentum_pvo': 1, 'momentum_pvo_hist': 0, 'others_dr': 1, 'others_cr': 0}\n",
            "- Trial 26: {'volume_adi': 0, 'volume_obv': 0, 'volume_fi': 0, 'volume_em': 0, 'volume_sma_em': 0, 'volume_mfi': 0, 'volatility_bbw': 0, 'volatility_bbp': 0, 'volatility_bbhi': 0, 'volatility_bbli': 0, 'volatility_kcw': 0, 'volatility_kchi': 1, 'volatility_kcli': 0, 'volatility_ui': 0, 'trend_macd': 0, 'trend_mass_index': 0, 'trend_adx': 0, 'trend_aroon_up': 0, 'trend_aroon_down': 1, 'trend_psar_up': 1, 'trend_psar_down': 0, 'trend_psar_up_indicator': 0, 'trend_psar_down_indicator': 1, 'momentum_pvo': 0, 'momentum_pvo_hist': 1, 'others_dr': 1, 'others_cr': 1}\n",
            "- Trial 47: {'volume_adi': 0, 'volume_obv': 0, 'volume_fi': 1, 'volume_em': 0, 'volume_sma_em': 0, 'volume_mfi': 1, 'volatility_bbw': 0, 'volatility_bbp': 1, 'volatility_bbhi': 0, 'volatility_bbli': 1, 'volatility_kcw': 1, 'volatility_kchi': 1, 'volatility_kcli': 0, 'volatility_ui': 1, 'trend_macd': 0, 'trend_mass_index': 0, 'trend_adx': 0, 'trend_aroon_up': 0, 'trend_aroon_down': 1, 'trend_psar_up': 0, 'trend_psar_down': 1, 'trend_psar_up_indicator': 0, 'trend_psar_down_indicator': 0, 'momentum_pvo': 0, 'momentum_pvo_hist': 1, 'others_dr': 0, 'others_cr': 1}\n",
            "- Trial 12: {'volume_adi': 1, 'volume_obv': 0, 'volume_fi': 0, 'volume_em': 0, 'volume_sma_em': 1, 'volume_mfi': 1, 'volatility_bbw': 0, 'volatility_bbp': 0, 'volatility_bbhi': 1, 'volatility_bbli': 0, 'volatility_kcw': 1, 'volatility_kchi': 0, 'volatility_kcli': 0, 'volatility_ui': 0, 'trend_macd': 1, 'trend_mass_index': 1, 'trend_adx': 0, 'trend_aroon_up': 0, 'trend_aroon_down': 1, 'trend_psar_up': 1, 'trend_psar_down': 1, 'trend_psar_up_indicator': 1, 'trend_psar_down_indicator': 0, 'momentum_pvo': 0, 'momentum_pvo_hist': 1, 'others_dr': 0, 'others_cr': 0}\n",
            "- Trial 18: {'volume_adi': 0, 'volume_obv': 1, 'volume_fi': 1, 'volume_em': 0, 'volume_sma_em': 0, 'volume_mfi': 0, 'volatility_bbw': 0, 'volatility_bbp': 1, 'volatility_bbhi': 0, 'volatility_bbli': 1, 'volatility_kcw': 1, 'volatility_kchi': 0, 'volatility_kcli': 0, 'volatility_ui': 0, 'trend_macd': 1, 'trend_mass_index': 1, 'trend_adx': 0, 'trend_aroon_up': 0, 'trend_aroon_down': 0, 'trend_psar_up': 1, 'trend_psar_down': 1, 'trend_psar_up_indicator': 1, 'trend_psar_down_indicator': 0, 'momentum_pvo': 1, 'momentum_pvo_hist': 1, 'others_dr': 0, 'others_cr': 1}\n",
            "- Trial 24: {'volume_adi': 0, 'volume_obv': 1, 'volume_fi': 1, 'volume_em': 0, 'volume_sma_em': 1, 'volume_mfi': 0, 'volatility_bbw': 0, 'volatility_bbp': 1, 'volatility_bbhi': 0, 'volatility_bbli': 0, 'volatility_kcw': 0, 'volatility_kchi': 0, 'volatility_kcli': 0, 'volatility_ui': 0, 'trend_macd': 1, 'trend_mass_index': 0, 'trend_adx': 0, 'trend_aroon_up': 0, 'trend_aroon_down': 1, 'trend_psar_up': 1, 'trend_psar_down': 0, 'trend_psar_up_indicator': 1, 'trend_psar_down_indicator': 1, 'momentum_pvo': 1, 'momentum_pvo_hist': 0, 'others_dr': 0, 'others_cr': 1}\n",
            "- Trial 34: {'volume_adi': 0, 'volume_obv': 0, 'volume_fi': 1, 'volume_em': 1, 'volume_sma_em': 0, 'volume_mfi': 1, 'volatility_bbw': 0, 'volatility_bbp': 0, 'volatility_bbhi': 1, 'volatility_bbli': 1, 'volatility_kcw': 1, 'volatility_kchi': 1, 'volatility_kcli': 0, 'volatility_ui': 0, 'trend_macd': 0, 'trend_mass_index': 1, 'trend_adx': 0, 'trend_aroon_up': 1, 'trend_aroon_down': 0, 'trend_psar_up': 0, 'trend_psar_down': 1, 'trend_psar_up_indicator': 1, 'trend_psar_down_indicator': 0, 'momentum_pvo': 0, 'momentum_pvo_hist': 0, 'others_dr': 1, 'others_cr': 1}\n",
            "Cluster 1:\n",
            "- Trial 10: {'volume_adi': 0, 'volume_obv': 0, 'volume_fi': 0, 'volume_em': 1, 'volume_sma_em': 1, 'volume_mfi': 1, 'volatility_bbw': 1, 'volatility_bbp': 1, 'volatility_bbhi': 0, 'volatility_bbli': 1, 'volatility_kcw': 0, 'volatility_kchi': 1, 'volatility_kcli': 1, 'volatility_ui': 0, 'trend_macd': 0, 'trend_mass_index': 0, 'trend_adx': 0, 'trend_aroon_up': 0, 'trend_aroon_down': 1, 'trend_psar_up': 0, 'trend_psar_down': 1, 'trend_psar_up_indicator': 0, 'trend_psar_down_indicator': 0, 'momentum_pvo': 0, 'momentum_pvo_hist': 0, 'others_dr': 0, 'others_cr': 0}\n",
            "- Trial 6: {'volume_adi': 0, 'volume_obv': 1, 'volume_fi': 0, 'volume_em': 0, 'volume_sma_em': 1, 'volume_mfi': 0, 'volatility_bbw': 0, 'volatility_bbp': 0, 'volatility_bbhi': 0, 'volatility_bbli': 0, 'volatility_kcw': 1, 'volatility_kchi': 1, 'volatility_kcli': 1, 'volatility_ui': 0, 'trend_macd': 0, 'trend_mass_index': 0, 'trend_adx': 1, 'trend_aroon_up': 1, 'trend_aroon_down': 0, 'trend_psar_up': 0, 'trend_psar_down': 0, 'trend_psar_up_indicator': 0, 'trend_psar_down_indicator': 0, 'momentum_pvo': 0, 'momentum_pvo_hist': 0, 'others_dr': 0, 'others_cr': 0}\n",
            "- Trial 1: {'volume_adi': 1, 'volume_obv': 1, 'volume_fi': 1, 'volume_em': 0, 'volume_sma_em': 1, 'volume_mfi': 0, 'volatility_bbw': 1, 'volatility_bbp': 0, 'volatility_bbhi': 1, 'volatility_bbli': 0, 'volatility_kcw': 0, 'volatility_kchi': 1, 'volatility_kcli': 0, 'volatility_ui': 0, 'trend_macd': 1, 'trend_mass_index': 0, 'trend_adx': 1, 'trend_aroon_up': 0, 'trend_aroon_down': 0, 'trend_psar_up': 0, 'trend_psar_down': 1, 'trend_psar_up_indicator': 1, 'trend_psar_down_indicator': 1, 'momentum_pvo': 0, 'momentum_pvo_hist': 1, 'others_dr': 0, 'others_cr': 0}\n",
            "- Trial 31: {'volume_adi': 0, 'volume_obv': 0, 'volume_fi': 1, 'volume_em': 1, 'volume_sma_em': 1, 'volume_mfi': 1, 'volatility_bbw': 1, 'volatility_bbp': 0, 'volatility_bbhi': 1, 'volatility_bbli': 1, 'volatility_kcw': 1, 'volatility_kchi': 1, 'volatility_kcli': 1, 'volatility_ui': 0, 'trend_macd': 1, 'trend_mass_index': 0, 'trend_adx': 1, 'trend_aroon_up': 1, 'trend_aroon_down': 1, 'trend_psar_up': 0, 'trend_psar_down': 1, 'trend_psar_up_indicator': 0, 'trend_psar_down_indicator': 0, 'momentum_pvo': 1, 'momentum_pvo_hist': 0, 'others_dr': 0, 'others_cr': 0}\n",
            "- Trial 43: {'volume_adi': 0, 'volume_obv': 0, 'volume_fi': 1, 'volume_em': 0, 'volume_sma_em': 0, 'volume_mfi': 1, 'volatility_bbw': 1, 'volatility_bbp': 0, 'volatility_bbhi': 0, 'volatility_bbli': 0, 'volatility_kcw': 0, 'volatility_kchi': 1, 'volatility_kcli': 1, 'volatility_ui': 0, 'trend_macd': 1, 'trend_mass_index': 1, 'trend_adx': 1, 'trend_aroon_up': 1, 'trend_aroon_down': 0, 'trend_psar_up': 1, 'trend_psar_down': 1, 'trend_psar_up_indicator': 0, 'trend_psar_down_indicator': 0, 'momentum_pvo': 1, 'momentum_pvo_hist': 1, 'others_dr': 1, 'others_cr': 1}\n",
            "- Trial 22: {'volume_adi': 0, 'volume_obv': 0, 'volume_fi': 0, 'volume_em': 1, 'volume_sma_em': 0, 'volume_mfi': 0, 'volatility_bbw': 1, 'volatility_bbp': 1, 'volatility_bbhi': 0, 'volatility_bbli': 0, 'volatility_kcw': 0, 'volatility_kchi': 0, 'volatility_kcli': 1, 'volatility_ui': 0, 'trend_macd': 0, 'trend_mass_index': 1, 'trend_adx': 0, 'trend_aroon_up': 0, 'trend_aroon_down': 0, 'trend_psar_up': 1, 'trend_psar_down': 1, 'trend_psar_up_indicator': 1, 'trend_psar_down_indicator': 1, 'momentum_pvo': 1, 'momentum_pvo_hist': 0, 'others_dr': 0, 'others_cr': 0}\n",
            "- Trial 49: {'volume_adi': 0, 'volume_obv': 0, 'volume_fi': 0, 'volume_em': 0, 'volume_sma_em': 0, 'volume_mfi': 1, 'volatility_bbw': 1, 'volatility_bbp': 0, 'volatility_bbhi': 0, 'volatility_bbli': 1, 'volatility_kcw': 0, 'volatility_kchi': 1, 'volatility_kcli': 1, 'volatility_ui': 0, 'trend_macd': 0, 'trend_mass_index': 0, 'trend_adx': 0, 'trend_aroon_up': 1, 'trend_aroon_down': 0, 'trend_psar_up': 1, 'trend_psar_down': 0, 'trend_psar_up_indicator': 0, 'trend_psar_down_indicator': 0, 'momentum_pvo': 1, 'momentum_pvo_hist': 0, 'others_dr': 1, 'others_cr': 0}\n",
            "- Trial 25: {'volume_adi': 0, 'volume_obv': 1, 'volume_fi': 0, 'volume_em': 1, 'volume_sma_em': 0, 'volume_mfi': 1, 'volatility_bbw': 1, 'volatility_bbp': 1, 'volatility_bbhi': 0, 'volatility_bbli': 0, 'volatility_kcw': 0, 'volatility_kchi': 1, 'volatility_kcli': 1, 'volatility_ui': 1, 'trend_macd': 1, 'trend_mass_index': 0, 'trend_adx': 1, 'trend_aroon_up': 0, 'trend_aroon_down': 0, 'trend_psar_up': 1, 'trend_psar_down': 0, 'trend_psar_up_indicator': 0, 'trend_psar_down_indicator': 1, 'momentum_pvo': 1, 'momentum_pvo_hist': 0, 'others_dr': 0, 'others_cr': 1}\n",
            "- Trial 14: {'volume_adi': 0, 'volume_obv': 1, 'volume_fi': 0, 'volume_em': 1, 'volume_sma_em': 0, 'volume_mfi': 0, 'volatility_bbw': 0, 'volatility_bbp': 1, 'volatility_bbhi': 0, 'volatility_bbli': 1, 'volatility_kcw': 1, 'volatility_kchi': 1, 'volatility_kcli': 1, 'volatility_ui': 0, 'trend_macd': 0, 'trend_mass_index': 1, 'trend_adx': 1, 'trend_aroon_up': 0, 'trend_aroon_down': 0, 'trend_psar_up': 1, 'trend_psar_down': 0, 'trend_psar_up_indicator': 0, 'trend_psar_down_indicator': 1, 'momentum_pvo': 1, 'momentum_pvo_hist': 1, 'others_dr': 1, 'others_cr': 0}\n",
            "- Trial 2: {'volume_adi': 1, 'volume_obv': 0, 'volume_fi': 0, 'volume_em': 0, 'volume_sma_em': 1, 'volume_mfi': 0, 'volatility_bbw': 0, 'volatility_bbp': 1, 'volatility_bbhi': 0, 'volatility_bbli': 0, 'volatility_kcw': 0, 'volatility_kchi': 1, 'volatility_kcli': 0, 'volatility_ui': 0, 'trend_macd': 0, 'trend_mass_index': 0, 'trend_adx': 0, 'trend_aroon_up': 0, 'trend_aroon_down': 0, 'trend_psar_up': 1, 'trend_psar_down': 1, 'trend_psar_up_indicator': 1, 'trend_psar_down_indicator': 1, 'momentum_pvo': 1, 'momentum_pvo_hist': 1, 'others_dr': 1, 'others_cr': 0}\n",
            "- Trial 28: {'volume_adi': 1, 'volume_obv': 0, 'volume_fi': 1, 'volume_em': 1, 'volume_sma_em': 0, 'volume_mfi': 1, 'volatility_bbw': 1, 'volatility_bbp': 0, 'volatility_bbhi': 0, 'volatility_bbli': 1, 'volatility_kcw': 0, 'volatility_kchi': 1, 'volatility_kcli': 0, 'volatility_ui': 1, 'trend_macd': 0, 'trend_mass_index': 0, 'trend_adx': 1, 'trend_aroon_up': 0, 'trend_aroon_down': 0, 'trend_psar_up': 0, 'trend_psar_down': 1, 'trend_psar_up_indicator': 1, 'trend_psar_down_indicator': 0, 'momentum_pvo': 1, 'momentum_pvo_hist': 1, 'others_dr': 1, 'others_cr': 0}\n",
            "- Trial 36: {'volume_adi': 0, 'volume_obv': 1, 'volume_fi': 0, 'volume_em': 0, 'volume_sma_em': 1, 'volume_mfi': 0, 'volatility_bbw': 1, 'volatility_bbp': 1, 'volatility_bbhi': 1, 'volatility_bbli': 1, 'volatility_kcw': 1, 'volatility_kchi': 0, 'volatility_kcli': 1, 'volatility_ui': 0, 'trend_macd': 1, 'trend_mass_index': 0, 'trend_adx': 1, 'trend_aroon_up': 1, 'trend_aroon_down': 0, 'trend_psar_up': 0, 'trend_psar_down': 0, 'trend_psar_up_indicator': 0, 'trend_psar_down_indicator': 1, 'momentum_pvo': 0, 'momentum_pvo_hist': 1, 'others_dr': 1, 'others_cr': 0}\n",
            "- Trial 23: {'volume_adi': 1, 'volume_obv': 1, 'volume_fi': 0, 'volume_em': 1, 'volume_sma_em': 0, 'volume_mfi': 1, 'volatility_bbw': 0, 'volatility_bbp': 1, 'volatility_bbhi': 1, 'volatility_bbli': 1, 'volatility_kcw': 0, 'volatility_kchi': 1, 'volatility_kcli': 1, 'volatility_ui': 0, 'trend_macd': 1, 'trend_mass_index': 1, 'trend_adx': 1, 'trend_aroon_up': 0, 'trend_aroon_down': 0, 'trend_psar_up': 0, 'trend_psar_down': 0, 'trend_psar_up_indicator': 0, 'trend_psar_down_indicator': 0, 'momentum_pvo': 1, 'momentum_pvo_hist': 1, 'others_dr': 1, 'others_cr': 1}\n",
            "- Trial 29: {'volume_adi': 1, 'volume_obv': 0, 'volume_fi': 0, 'volume_em': 1, 'volume_sma_em': 0, 'volume_mfi': 0, 'volatility_bbw': 1, 'volatility_bbp': 0, 'volatility_bbhi': 1, 'volatility_bbli': 0, 'volatility_kcw': 1, 'volatility_kchi': 1, 'volatility_kcli': 0, 'volatility_ui': 0, 'trend_macd': 1, 'trend_mass_index': 1, 'trend_adx': 1, 'trend_aroon_up': 0, 'trend_aroon_down': 0, 'trend_psar_up': 1, 'trend_psar_down': 0, 'trend_psar_up_indicator': 0, 'trend_psar_down_indicator': 1, 'momentum_pvo': 0, 'momentum_pvo_hist': 1, 'others_dr': 1, 'others_cr': 0}\n",
            "- Trial 27: {'volume_adi': 1, 'volume_obv': 1, 'volume_fi': 0, 'volume_em': 0, 'volume_sma_em': 0, 'volume_mfi': 0, 'volatility_bbw': 0, 'volatility_bbp': 0, 'volatility_bbhi': 1, 'volatility_bbli': 1, 'volatility_kcw': 0, 'volatility_kchi': 0, 'volatility_kcli': 0, 'volatility_ui': 0, 'trend_macd': 1, 'trend_mass_index': 1, 'trend_adx': 1, 'trend_aroon_up': 1, 'trend_aroon_down': 1, 'trend_psar_up': 1, 'trend_psar_down': 0, 'trend_psar_up_indicator': 0, 'trend_psar_down_indicator': 0, 'momentum_pvo': 0, 'momentum_pvo_hist': 1, 'others_dr': 1, 'others_cr': 0}\n",
            "- Trial 46: {'volume_adi': 0, 'volume_obv': 0, 'volume_fi': 1, 'volume_em': 1, 'volume_sma_em': 1, 'volume_mfi': 0, 'volatility_bbw': 0, 'volatility_bbp': 0, 'volatility_bbhi': 1, 'volatility_bbli': 0, 'volatility_kcw': 1, 'volatility_kchi': 0, 'volatility_kcli': 1, 'volatility_ui': 0, 'trend_macd': 1, 'trend_mass_index': 1, 'trend_adx': 1, 'trend_aroon_up': 0, 'trend_aroon_down': 0, 'trend_psar_up': 1, 'trend_psar_down': 0, 'trend_psar_up_indicator': 1, 'trend_psar_down_indicator': 1, 'momentum_pvo': 1, 'momentum_pvo_hist': 1, 'others_dr': 0, 'others_cr': 1}\n",
            "- Trial 20: {'volume_adi': 1, 'volume_obv': 0, 'volume_fi': 0, 'volume_em': 1, 'volume_sma_em': 0, 'volume_mfi': 0, 'volatility_bbw': 0, 'volatility_bbp': 0, 'volatility_bbhi': 1, 'volatility_bbli': 1, 'volatility_kcw': 0, 'volatility_kchi': 1, 'volatility_kcli': 1, 'volatility_ui': 0, 'trend_macd': 1, 'trend_mass_index': 1, 'trend_adx': 0, 'trend_aroon_up': 0, 'trend_aroon_down': 1, 'trend_psar_up': 0, 'trend_psar_down': 0, 'trend_psar_up_indicator': 1, 'trend_psar_down_indicator': 0, 'momentum_pvo': 1, 'momentum_pvo_hist': 1, 'others_dr': 0, 'others_cr': 0}\n",
            "- Trial 39: {'volume_adi': 0, 'volume_obv': 0, 'volume_fi': 1, 'volume_em': 1, 'volume_sma_em': 1, 'volume_mfi': 0, 'volatility_bbw': 1, 'volatility_bbp': 0, 'volatility_bbhi': 0, 'volatility_bbli': 1, 'volatility_kcw': 0, 'volatility_kchi': 0, 'volatility_kcli': 1, 'volatility_ui': 1, 'trend_macd': 1, 'trend_mass_index': 0, 'trend_adx': 1, 'trend_aroon_up': 1, 'trend_aroon_down': 1, 'trend_psar_up': 1, 'trend_psar_down': 1, 'trend_psar_up_indicator': 1, 'trend_psar_down_indicator': 0, 'momentum_pvo': 0, 'momentum_pvo_hist': 1, 'others_dr': 1, 'others_cr': 1}\n",
            "- Trial 42: {'volume_adi': 0, 'volume_obv': 1, 'volume_fi': 0, 'volume_em': 0, 'volume_sma_em': 1, 'volume_mfi': 0, 'volatility_bbw': 0, 'volatility_bbp': 0, 'volatility_bbhi': 1, 'volatility_bbli': 1, 'volatility_kcw': 1, 'volatility_kchi': 1, 'volatility_kcli': 1, 'volatility_ui': 0, 'trend_macd': 1, 'trend_mass_index': 1, 'trend_adx': 1, 'trend_aroon_up': 1, 'trend_aroon_down': 0, 'trend_psar_up': 1, 'trend_psar_down': 0, 'trend_psar_up_indicator': 1, 'trend_psar_down_indicator': 0, 'momentum_pvo': 0, 'momentum_pvo_hist': 0, 'others_dr': 1, 'others_cr': 0}\n",
            "- Trial 7: {'volume_adi': 0, 'volume_obv': 1, 'volume_fi': 1, 'volume_em': 1, 'volume_sma_em': 0, 'volume_mfi': 0, 'volatility_bbw': 0, 'volatility_bbp': 0, 'volatility_bbhi': 0, 'volatility_bbli': 0, 'volatility_kcw': 0, 'volatility_kchi': 1, 'volatility_kcli': 0, 'volatility_ui': 0, 'trend_macd': 0, 'trend_mass_index': 1, 'trend_adx': 0, 'trend_aroon_up': 1, 'trend_aroon_down': 1, 'trend_psar_up': 0, 'trend_psar_down': 1, 'trend_psar_up_indicator': 1, 'trend_psar_down_indicator': 1, 'momentum_pvo': 1, 'momentum_pvo_hist': 0, 'others_dr': 0, 'others_cr': 0}\n",
            "- Trial 11: {'volume_adi': 1, 'volume_obv': 0, 'volume_fi': 0, 'volume_em': 0, 'volume_sma_em': 1, 'volume_mfi': 1, 'volatility_bbw': 0, 'volatility_bbp': 0, 'volatility_bbhi': 0, 'volatility_bbli': 1, 'volatility_kcw': 1, 'volatility_kchi': 0, 'volatility_kcli': 1, 'volatility_ui': 1, 'trend_macd': 1, 'trend_mass_index': 1, 'trend_adx': 0, 'trend_aroon_up': 1, 'trend_aroon_down': 0, 'trend_psar_up': 1, 'trend_psar_down': 0, 'trend_psar_up_indicator': 1, 'trend_psar_down_indicator': 0, 'momentum_pvo': 1, 'momentum_pvo_hist': 1, 'others_dr': 1, 'others_cr': 1}\n",
            "- Trial 4: {'volume_adi': 0, 'volume_obv': 0, 'volume_fi': 1, 'volume_em': 0, 'volume_sma_em': 1, 'volume_mfi': 1, 'volatility_bbw': 1, 'volatility_bbp': 0, 'volatility_bbhi': 1, 'volatility_bbli': 0, 'volatility_kcw': 1, 'volatility_kchi': 0, 'volatility_kcli': 1, 'volatility_ui': 0, 'trend_macd': 0, 'trend_mass_index': 1, 'trend_adx': 0, 'trend_aroon_up': 1, 'trend_aroon_down': 0, 'trend_psar_up': 1, 'trend_psar_down': 1, 'trend_psar_up_indicator': 0, 'trend_psar_down_indicator': 0, 'momentum_pvo': 1, 'momentum_pvo_hist': 1, 'others_dr': 0, 'others_cr': 1}\n",
            "- Trial 45: {'volume_adi': 0, 'volume_obv': 0, 'volume_fi': 1, 'volume_em': 1, 'volume_sma_em': 1, 'volume_mfi': 1, 'volatility_bbw': 0, 'volatility_bbp': 1, 'volatility_bbhi': 0, 'volatility_bbli': 0, 'volatility_kcw': 0, 'volatility_kchi': 0, 'volatility_kcli': 0, 'volatility_ui': 0, 'trend_macd': 1, 'trend_mass_index': 1, 'trend_adx': 0, 'trend_aroon_up': 1, 'trend_aroon_down': 0, 'trend_psar_up': 1, 'trend_psar_down': 1, 'trend_psar_up_indicator': 0, 'trend_psar_down_indicator': 0, 'momentum_pvo': 1, 'momentum_pvo_hist': 0, 'others_dr': 1, 'others_cr': 0}\n",
            "- Trial 40: {'volume_adi': 0, 'volume_obv': 0, 'volume_fi': 0, 'volume_em': 1, 'volume_sma_em': 1, 'volume_mfi': 0, 'volatility_bbw': 0, 'volatility_bbp': 1, 'volatility_bbhi': 1, 'volatility_bbli': 0, 'volatility_kcw': 0, 'volatility_kchi': 1, 'volatility_kcli': 1, 'volatility_ui': 1, 'trend_macd': 1, 'trend_mass_index': 1, 'trend_adx': 0, 'trend_aroon_up': 1, 'trend_aroon_down': 0, 'trend_psar_up': 0, 'trend_psar_down': 1, 'trend_psar_up_indicator': 0, 'trend_psar_down_indicator': 1, 'momentum_pvo': 0, 'momentum_pvo_hist': 0, 'others_dr': 1, 'others_cr': 1}\n",
            "- Trial 13: {'volume_adi': 0, 'volume_obv': 1, 'volume_fi': 1, 'volume_em': 1, 'volume_sma_em': 0, 'volume_mfi': 0, 'volatility_bbw': 0, 'volatility_bbp': 0, 'volatility_bbhi': 1, 'volatility_bbli': 0, 'volatility_kcw': 1, 'volatility_kchi': 0, 'volatility_kcli': 0, 'volatility_ui': 0, 'trend_macd': 0, 'trend_mass_index': 1, 'trend_adx': 1, 'trend_aroon_up': 1, 'trend_aroon_down': 0, 'trend_psar_up': 0, 'trend_psar_down': 1, 'trend_psar_up_indicator': 1, 'trend_psar_down_indicator': 1, 'momentum_pvo': 1, 'momentum_pvo_hist': 1, 'others_dr': 1, 'others_cr': 1}\n",
            "- Trial 38: {'volume_adi': 0, 'volume_obv': 0, 'volume_fi': 0, 'volume_em': 0, 'volume_sma_em': 1, 'volume_mfi': 0, 'volatility_bbw': 0, 'volatility_bbp': 1, 'volatility_bbhi': 1, 'volatility_bbli': 1, 'volatility_kcw': 1, 'volatility_kchi': 0, 'volatility_kcli': 1, 'volatility_ui': 1, 'trend_macd': 0, 'trend_mass_index': 1, 'trend_adx': 1, 'trend_aroon_up': 1, 'trend_aroon_down': 1, 'trend_psar_up': 0, 'trend_psar_down': 0, 'trend_psar_up_indicator': 1, 'trend_psar_down_indicator': 1, 'momentum_pvo': 1, 'momentum_pvo_hist': 0, 'others_dr': 1, 'others_cr': 0}\n",
            "- Trial 48: {'volume_adi': 0, 'volume_obv': 1, 'volume_fi': 0, 'volume_em': 0, 'volume_sma_em': 1, 'volume_mfi': 1, 'volatility_bbw': 1, 'volatility_bbp': 1, 'volatility_bbhi': 0, 'volatility_bbli': 1, 'volatility_kcw': 1, 'volatility_kchi': 0, 'volatility_kcli': 1, 'volatility_ui': 0, 'trend_macd': 0, 'trend_mass_index': 0, 'trend_adx': 0, 'trend_aroon_up': 0, 'trend_aroon_down': 1, 'trend_psar_up': 0, 'trend_psar_down': 1, 'trend_psar_up_indicator': 1, 'trend_psar_down_indicator': 1, 'momentum_pvo': 0, 'momentum_pvo_hist': 0, 'others_dr': 1, 'others_cr': 0}\n"
          ]
        }
      ],
      "source": [
        "for cluster_number, cluster_indices in clstrsNew.items():\n",
        "    print(f\"Cluster {cluster_number}:\")\n",
        "    for idx in cluster_indices:\n",
        "        trial_number = top_trials[idx].number\n",
        "        trial_params = top_trials[idx].params\n",
        "        print(f\"- Trial {trial_number}: {trial_params}\")"
      ]
    },
    {
      "cell_type": "code",
      "execution_count": 57,
      "metadata": {
        "id": "w5cPZ8xSqnAI",
        "colab": {
          "base_uri": "https://localhost:8080/"
        },
        "outputId": "6a02cf7f-9360-4582-895d-0fa830cb908b"
      },
      "outputs": [
        {
          "output_type": "stream",
          "name": "stdout",
          "text": [
            "Cluster 0:\n",
            "                   Feature  Frequency\n",
            "0                volume_fi         15\n",
            "1               trend_macd         15\n",
            "2  trend_psar_up_indicator         15\n",
            "3          volatility_bbli         15\n",
            "4                others_cr         14\n",
            "5          volatility_bbhi         12\n",
            "6          trend_psar_down         12\n",
            "7           volatility_bbp         12\n",
            "8           volatility_kcw         12\n",
            "9               volume_adi         12\n",
            "Cluster 1:\n",
            "            Feature  Frequency\n",
            "0   volatility_kcli         19\n",
            "1      momentum_pvo         17\n",
            "2         others_dr         17\n",
            "3   volatility_kchi         16\n",
            "4         trend_adx         16\n",
            "5  trend_mass_index         16\n",
            "6         volume_em         15\n",
            "7     volume_sma_em         15\n",
            "8    trend_aroon_up         15\n",
            "9        trend_macd         15\n"
          ]
        }
      ],
      "source": [
        "import pandas as pd\n",
        "\n",
        "cluster_frequencies = []\n",
        "\n",
        "for cluster_number, cluster_indices in clstrsNew.items():\n",
        "    cluster_frequency = {}\n",
        "\n",
        "    for idx in cluster_indices:\n",
        "        trial_features = top_trials[idx].number\n",
        "        trial_params = top_trials[idx].params\n",
        "        for key, value in trial_params.items():\n",
        "            if value == 1:\n",
        "                cluster_frequency[key] = cluster_frequency.get(key, 0) + 1\n",
        "\n",
        "    sorted_frequency = sorted(cluster_frequency.items(), key=lambda x: x[1],  reverse=True)\n",
        "\n",
        "    print(f\"Cluster {cluster_number}:\")\n",
        "    top_features = sorted_frequency[:10]\n",
        "    df = pd.DataFrame(top_features, columns=['Feature', 'Frequency'])\n",
        "    print(df)\n"
      ]
    },
    {
      "cell_type": "code",
      "execution_count": 58,
      "metadata": {
        "id": "WqXnwhndqnAJ",
        "colab": {
          "base_uri": "https://localhost:8080/"
        },
        "outputId": "38916ae9-6ba7-47ca-939d-9e0b82f92828"
      },
      "outputs": [
        {
          "output_type": "stream",
          "name": "stdout",
          "text": [
            "Cluster 0: [19, 8, 41, 33, 44, 32, 30, 5, 9, 3, 35, 15, 16, 37, 21, 17, 0, 26, 47, 12, 18, 24, 34]\n",
            "Cluster 1: [10, 6, 1, 31, 43, 22, 49, 25, 14, 2, 28, 36, 23, 29, 27, 46, 20, 39, 42, 7, 11, 4, 45, 40, 13, 38, 48]\n"
          ]
        }
      ],
      "source": [
        "cluster_lists = []\n",
        "\n",
        "# Iterate through each cluster and its members\n",
        "for cluster_number, cluster_indices in clstrsNew.items():\n",
        "    cluster_list = []\n",
        "\n",
        "    # Iterate through each index in the cluster\n",
        "    for idx in cluster_indices:\n",
        "        trial_number = top_trials[idx].number\n",
        "        cluster_list.append(trial_number)\n",
        "\n",
        "    cluster_lists.append(cluster_list)\n",
        "\n",
        "# Print the lists for each cluster\n",
        "for i, cluster_list in enumerate(cluster_lists):\n",
        "    print(f\"Cluster {i}: {cluster_list}\")"
      ]
    },
    {
      "cell_type": "code",
      "execution_count": 59,
      "metadata": {
        "id": "mWNyvwA_qnAJ",
        "colab": {
          "base_uri": "https://localhost:8080/"
        },
        "outputId": "b670f7a1-8ead-43f5-9a7c-4082a29f0dd6"
      },
      "outputs": [
        {
          "output_type": "stream",
          "name": "stdout",
          "text": [
            "Top 10 features for Cluster 0: ['volume_fi', 'trend_macd', 'trend_psar_up_indicator', 'volatility_bbli', 'others_cr', 'volatility_bbhi', 'trend_psar_down', 'volatility_bbp', 'volatility_kcw', 'volume_adi']\n",
            "Top 10 features for Cluster 1: ['volatility_kcli', 'momentum_pvo', 'others_dr', 'volatility_kchi', 'trend_adx', 'trend_mass_index', 'volume_em', 'volume_sma_em', 'trend_aroon_up', 'trend_macd']\n"
          ]
        }
      ],
      "source": [
        "top_10_features_per_cluster = []\n",
        "\n",
        "for cluster_number, cluster_indices in clstrsNew.items():\n",
        "    cluster_frequency = {}\n",
        "\n",
        "    for idx in cluster_indices:\n",
        "        trial_params = top_trials[idx].params\n",
        "        for key, value in trial_params.items():\n",
        "            if value == 1:\n",
        "                cluster_frequency[key] = cluster_frequency.get(key, 0) + 1\n",
        "\n",
        "    sorted_cluster_frequency = sorted(cluster_frequency.items(), key=lambda x: x[1], reverse=True)\n",
        "    top_10_features_cluster = [feature for feature, _ in sorted_cluster_frequency[:10]]\n",
        "    top_10_features_per_cluster.append(top_10_features_cluster)\n",
        "    print(f\"Top 10 features for Cluster {cluster_number}: {top_10_features_cluster}\")"
      ]
    },
    {
      "cell_type": "code",
      "execution_count": 60,
      "metadata": {
        "id": "mrqWExveqnAJ",
        "colab": {
          "base_uri": "https://localhost:8080/"
        },
        "outputId": "84992a82-2b6c-420c-fb0e-c57e77c7d423"
      },
      "outputs": [
        {
          "output_type": "execute_result",
          "data": {
            "text/plain": [
              "[['volume_fi',\n",
              "  'trend_macd',\n",
              "  'trend_psar_up_indicator',\n",
              "  'volatility_bbli',\n",
              "  'others_cr',\n",
              "  'volatility_bbhi',\n",
              "  'trend_psar_down',\n",
              "  'volatility_bbp',\n",
              "  'volatility_kcw',\n",
              "  'volume_adi'],\n",
              " ['volatility_kcli',\n",
              "  'momentum_pvo',\n",
              "  'others_dr',\n",
              "  'volatility_kchi',\n",
              "  'trend_adx',\n",
              "  'trend_mass_index',\n",
              "  'volume_em',\n",
              "  'volume_sma_em',\n",
              "  'trend_aroon_up',\n",
              "  'trend_macd']]"
            ]
          },
          "metadata": {},
          "execution_count": 60
        }
      ],
      "source": [
        "top_10_features_per_cluster"
      ]
    },
    {
      "cell_type": "code",
      "execution_count": 61,
      "metadata": {
        "id": "RbGe0Y6FqnAK"
      },
      "outputs": [],
      "source": [
        "top10_feat = pd.DataFrame(top_10_features_per_cluster)"
      ]
    },
    {
      "cell_type": "code",
      "execution_count": 62,
      "metadata": {
        "id": "2_DrQbneqnAK"
      },
      "outputs": [],
      "source": [
        "selected_columns_cluster = []\n",
        "for item in top_10_features_per_cluster:\n",
        "  selected_columns = new_df_no_close_col.loc[:, item]\n",
        "  selected_columns_cluster.append(selected_columns)"
      ]
    },
    {
      "cell_type": "markdown",
      "metadata": {
        "id": "tuOGlO_tqnAK"
      },
      "source": [
        "# Model selection"
      ]
    },
    {
      "cell_type": "markdown",
      "metadata": {
        "id": "rxwojZV6qnAK"
      },
      "source": [
        "## Custom Early Stopping"
      ]
    },
    {
      "cell_type": "code",
      "execution_count": 63,
      "metadata": {
        "id": "FSf9W4XzqnAL"
      },
      "outputs": [],
      "source": [
        "from xgboost import callback"
      ]
    },
    {
      "cell_type": "code",
      "execution_count": 64,
      "metadata": {
        "id": "CUVrgTA4qnAL"
      },
      "outputs": [],
      "source": [
        "min_delta = 0.0001\n",
        "patience = 30\n",
        "\n",
        "\n",
        "class CustomEarlyStopping(callback.TrainingCallback):\n",
        "    def __init__(self, min_delta, patience, verbose=False):\n",
        "        super().__init__()\n",
        "        self.min_delta = min_delta\n",
        "        self.patience = patience\n",
        "        self.verbose = verbose\n",
        "        self.best_score = np.inf\n",
        "        self.wait = 0\n",
        "        self.stopped_epoch = 0\n",
        "\n",
        "    def after_iteration(self, model, epoch, evals_log):\n",
        "        if not evals_log:\n",
        "            return False\n",
        "        metric_name = next(iter(evals_log['validation_0']))\n",
        "        score = evals_log['validation_0'][metric_name][-1]\n",
        "        if score < (self.best_score - self.min_delta):\n",
        "            self.best_score = score\n",
        "            self.wait = 0\n",
        "        else:\n",
        "            self.wait += 1\n",
        "            if self.wait >= self.patience:\n",
        "                if self.verbose:\n",
        "                    print(f\"\\nStopping. Best score: {self.best_score}\")\n",
        "                self.stopped_epoch = epoch\n",
        "                return True\n",
        "        return False\n",
        "\n",
        "    def get_best_score(self):\n",
        "        return self.best_score"
      ]
    },
    {
      "cell_type": "markdown",
      "metadata": {
        "id": "VNG_94woqnAL"
      },
      "source": [
        "## Hyperparameter Tuning"
      ]
    },
    {
      "cell_type": "code",
      "execution_count": 65,
      "metadata": {
        "id": "T0bcD4ZRqnAL"
      },
      "outputs": [],
      "source": [
        "def objective_params(trial, X_train, X_valid, y_train, y_valid, y_close):\n",
        "    # Define the hyperparameter search space\n",
        "    params = {\n",
        "        'max_depth': trial.suggest_int('max_depth', 3, 6),\n",
        "        'learning_rate': trial.suggest_float('learning_rate', 0.01, 0.1),\n",
        "        'n_estimators': 8000,  # does not matter, think of it as max epochs, and we stop the model based on early stopping, so any extremely high number works\n",
        "        'min_child_weight': trial.suggest_int('min_child_weight', 1, 10),  # can't comment, never played with that\n",
        "        'subsample': trial.suggest_float('subsample', 0.5, 1.0),  # you dont want to sample less than 50% of your data\n",
        "        'colsample_bytree': trial.suggest_float('colsample_bytree', 0.3, 1.0),  # you dont want to sample less than 30% of your features pr boosting round\n",
        "        }\n",
        "    trade_threshold  = 0.0005\n",
        "\n",
        "    # Check duplication and skip if it's detected.\n",
        "    for t in trial.study.trials:\n",
        "        if t.state != optuna.trial.TrialState.COMPLETE:\n",
        "            continue\n",
        "\n",
        "    custom_early_stopping_instance = CustomEarlyStopping(min_delta=min_delta, patience=patience, verbose=True)\n",
        "\n",
        "    # Train the model\n",
        "    model = xgb.XGBRegressor(**params)\n",
        "    model.fit(X_train, y_train, callbacks=[custom_early_stopping_instance])\n",
        "\n",
        "    y_pred_train = model.predict(X_train)\n",
        "    y_pred_valid = model.predict(X_valid)\n",
        "\n",
        "\n",
        "    pos, pnl, daily_pnl, sharpe_is = sharpe_for_vn30f(y_pred_train, y_close[:len(y_pred_train)], trade_threshold=trade_threshold, fee_perc=0.01, periods=10)\n",
        "    _, _, _, sharpe_oos = sharpe_for_vn30f(y_pred_valid, y_close[len(y_pred_train):], trade_threshold=trade_threshold, fee_perc=0.01, periods=10)\n",
        "\n",
        "    return sharpe_oos, abs((abs(sharpe_is / sharpe_oos))-1)"
      ]
    },
    {
      "cell_type": "code",
      "execution_count": 66,
      "metadata": {
        "id": "gKNvShYMqnAM",
        "colab": {
          "base_uri": "https://localhost:8080/"
        },
        "outputId": "ba7450ca-b0ff-4648-ffea-620f540ddb8f"
      },
      "outputs": [
        {
          "output_type": "stream",
          "name": "stderr",
          "text": [
            "[I 2024-06-11 03:00:32,705] A new study created in memory with name: no-name-4edbce0d-0ad8-412a-a0c3-b14b05298f0f\n"
          ]
        },
        {
          "output_type": "stream",
          "name": "stdout",
          "text": [
            "A new study created in memory with name: no-name-4edbce0d-0ad8-412a-a0c3-b14b05298f0f\n",
            "A new study created in memory with name: no-name-4edbce0d-0ad8-412a-a0c3-b14b05298f0f\n"
          ]
        },
        {
          "output_type": "stream",
          "name": "stderr",
          "text": [
            "/usr/local/lib/python3.10/dist-packages/xgboost/sklearn.py:889: UserWarning: `callbacks` in `fit` method is deprecated for better compatibility with scikit-learn, use `callbacks` in constructor or`set_params` instead.\n",
            "  warnings.warn(\n",
            "[I 2024-06-11 03:00:39,332] Trial 0 finished with values: [-0.5229914873879623, 5.491584186702173] and parameters: {'max_depth': 5, 'learning_rate': 0.014821502523821455, 'min_child_weight': 1, 'subsample': 0.521819386945474, 'colsample_bytree': 0.7912826973691697}. \n"
          ]
        },
        {
          "output_type": "stream",
          "name": "stdout",
          "text": [
            "Trial 0 finished with values: [-0.5229914873879623, 5.491584186702173] and parameters: {'max_depth': 5, 'learning_rate': 0.014821502523821455, 'min_child_weight': 1, 'subsample': 0.521819386945474, 'colsample_bytree': 0.7912826973691697}. \n",
            "Trial 0 finished with values: [-0.5229914873879623, 5.491584186702173] and parameters: {'max_depth': 5, 'learning_rate': 0.014821502523821455, 'min_child_weight': 1, 'subsample': 0.521819386945474, 'colsample_bytree': 0.7912826973691697}. \n"
          ]
        },
        {
          "output_type": "stream",
          "name": "stderr",
          "text": [
            "/usr/local/lib/python3.10/dist-packages/xgboost/sklearn.py:889: UserWarning: `callbacks` in `fit` method is deprecated for better compatibility with scikit-learn, use `callbacks` in constructor or`set_params` instead.\n",
            "  warnings.warn(\n",
            "[I 2024-06-11 03:00:42,330] Trial 1 finished with values: [-0.6302169926101298, 2.5246607560015195] and parameters: {'max_depth': 3, 'learning_rate': 0.03122902767195225, 'min_child_weight': 2, 'subsample': 0.8393713951636812, 'colsample_bytree': 0.5531371087462144}. \n"
          ]
        },
        {
          "output_type": "stream",
          "name": "stdout",
          "text": [
            "Trial 1 finished with values: [-0.6302169926101298, 2.5246607560015195] and parameters: {'max_depth': 3, 'learning_rate': 0.03122902767195225, 'min_child_weight': 2, 'subsample': 0.8393713951636812, 'colsample_bytree': 0.5531371087462144}. \n",
            "Trial 1 finished with values: [-0.6302169926101298, 2.5246607560015195] and parameters: {'max_depth': 3, 'learning_rate': 0.03122902767195225, 'min_child_weight': 2, 'subsample': 0.8393713951636812, 'colsample_bytree': 0.5531371087462144}. \n"
          ]
        },
        {
          "output_type": "stream",
          "name": "stderr",
          "text": [
            "/usr/local/lib/python3.10/dist-packages/xgboost/sklearn.py:889: UserWarning: `callbacks` in `fit` method is deprecated for better compatibility with scikit-learn, use `callbacks` in constructor or`set_params` instead.\n",
            "  warnings.warn(\n",
            "[I 2024-06-11 03:00:45,734] Trial 2 finished with values: [-0.011824946305720311, 253.4080911668171] and parameters: {'max_depth': 3, 'learning_rate': 0.049179531365259974, 'min_child_weight': 7, 'subsample': 0.696245417376478, 'colsample_bytree': 0.6104898403069232}. \n"
          ]
        },
        {
          "output_type": "stream",
          "name": "stdout",
          "text": [
            "Trial 2 finished with values: [-0.011824946305720311, 253.4080911668171] and parameters: {'max_depth': 3, 'learning_rate': 0.049179531365259974, 'min_child_weight': 7, 'subsample': 0.696245417376478, 'colsample_bytree': 0.6104898403069232}. \n",
            "Trial 2 finished with values: [-0.011824946305720311, 253.4080911668171] and parameters: {'max_depth': 3, 'learning_rate': 0.049179531365259974, 'min_child_weight': 7, 'subsample': 0.696245417376478, 'colsample_bytree': 0.6104898403069232}. \n"
          ]
        },
        {
          "output_type": "stream",
          "name": "stderr",
          "text": [
            "/usr/local/lib/python3.10/dist-packages/xgboost/sklearn.py:889: UserWarning: `callbacks` in `fit` method is deprecated for better compatibility with scikit-learn, use `callbacks` in constructor or`set_params` instead.\n",
            "  warnings.warn(\n",
            "[I 2024-06-11 03:00:50,993] Trial 3 finished with values: [1.0091847704505552, 1.2976013708341734] and parameters: {'max_depth': 4, 'learning_rate': 0.022558011538883115, 'min_child_weight': 5, 'subsample': 0.8824431053214844, 'colsample_bytree': 0.627171756355265}. \n"
          ]
        },
        {
          "output_type": "stream",
          "name": "stdout",
          "text": [
            "Trial 3 finished with values: [1.0091847704505552, 1.2976013708341734] and parameters: {'max_depth': 4, 'learning_rate': 0.022558011538883115, 'min_child_weight': 5, 'subsample': 0.8824431053214844, 'colsample_bytree': 0.627171756355265}. \n",
            "Trial 3 finished with values: [1.0091847704505552, 1.2976013708341734] and parameters: {'max_depth': 4, 'learning_rate': 0.022558011538883115, 'min_child_weight': 5, 'subsample': 0.8824431053214844, 'colsample_bytree': 0.627171756355265}. \n"
          ]
        },
        {
          "output_type": "stream",
          "name": "stderr",
          "text": [
            "/usr/local/lib/python3.10/dist-packages/xgboost/sklearn.py:889: UserWarning: `callbacks` in `fit` method is deprecated for better compatibility with scikit-learn, use `callbacks` in constructor or`set_params` instead.\n",
            "  warnings.warn(\n",
            "[I 2024-06-11 03:00:54,013] Trial 4 finished with values: [-0.5161682665733188, 4.259434374459199] and parameters: {'max_depth': 5, 'learning_rate': 0.04075689255953584, 'min_child_weight': 10, 'subsample': 0.7763860659715847, 'colsample_bytree': 0.5701400484325274}. \n"
          ]
        },
        {
          "output_type": "stream",
          "name": "stdout",
          "text": [
            "Trial 4 finished with values: [-0.5161682665733188, 4.259434374459199] and parameters: {'max_depth': 5, 'learning_rate': 0.04075689255953584, 'min_child_weight': 10, 'subsample': 0.7763860659715847, 'colsample_bytree': 0.5701400484325274}. \n",
            "Trial 4 finished with values: [-0.5161682665733188, 4.259434374459199] and parameters: {'max_depth': 5, 'learning_rate': 0.04075689255953584, 'min_child_weight': 10, 'subsample': 0.7763860659715847, 'colsample_bytree': 0.5701400484325274}. \n"
          ]
        },
        {
          "output_type": "stream",
          "name": "stderr",
          "text": [
            "/usr/local/lib/python3.10/dist-packages/xgboost/sklearn.py:889: UserWarning: `callbacks` in `fit` method is deprecated for better compatibility with scikit-learn, use `callbacks` in constructor or`set_params` instead.\n",
            "  warnings.warn(\n",
            "[I 2024-06-11 03:00:57,548] Trial 5 finished with values: [-0.008645178781746189, 433.6957319757133] and parameters: {'max_depth': 4, 'learning_rate': 0.07617703905429143, 'min_child_weight': 5, 'subsample': 0.5489822626093497, 'colsample_bytree': 0.6271234625484751}. \n"
          ]
        },
        {
          "output_type": "stream",
          "name": "stdout",
          "text": [
            "Trial 5 finished with values: [-0.008645178781746189, 433.6957319757133] and parameters: {'max_depth': 4, 'learning_rate': 0.07617703905429143, 'min_child_weight': 5, 'subsample': 0.5489822626093497, 'colsample_bytree': 0.6271234625484751}. \n",
            "Trial 5 finished with values: [-0.008645178781746189, 433.6957319757133] and parameters: {'max_depth': 4, 'learning_rate': 0.07617703905429143, 'min_child_weight': 5, 'subsample': 0.5489822626093497, 'colsample_bytree': 0.6271234625484751}. \n"
          ]
        },
        {
          "output_type": "stream",
          "name": "stderr",
          "text": [
            "/usr/local/lib/python3.10/dist-packages/xgboost/sklearn.py:889: UserWarning: `callbacks` in `fit` method is deprecated for better compatibility with scikit-learn, use `callbacks` in constructor or`set_params` instead.\n",
            "  warnings.warn(\n",
            "[I 2024-06-11 03:01:02,284] Trial 6 finished with values: [-1.292928322957091, 0.6571420581927518] and parameters: {'max_depth': 5, 'learning_rate': 0.054120645399242634, 'min_child_weight': 8, 'subsample': 0.9238126553238272, 'colsample_bytree': 0.49072402548390626}. \n"
          ]
        },
        {
          "output_type": "stream",
          "name": "stdout",
          "text": [
            "Trial 6 finished with values: [-1.292928322957091, 0.6571420581927518] and parameters: {'max_depth': 5, 'learning_rate': 0.054120645399242634, 'min_child_weight': 8, 'subsample': 0.9238126553238272, 'colsample_bytree': 0.49072402548390626}. \n",
            "Trial 6 finished with values: [-1.292928322957091, 0.6571420581927518] and parameters: {'max_depth': 5, 'learning_rate': 0.054120645399242634, 'min_child_weight': 8, 'subsample': 0.9238126553238272, 'colsample_bytree': 0.49072402548390626}. \n"
          ]
        },
        {
          "output_type": "stream",
          "name": "stderr",
          "text": [
            "/usr/local/lib/python3.10/dist-packages/xgboost/sklearn.py:889: UserWarning: `callbacks` in `fit` method is deprecated for better compatibility with scikit-learn, use `callbacks` in constructor or`set_params` instead.\n",
            "  warnings.warn(\n",
            "[I 2024-06-11 03:01:05,326] Trial 7 finished with values: [0.32411328962256103, 6.800344154124028] and parameters: {'max_depth': 6, 'learning_rate': 0.039147084019823655, 'min_child_weight': 6, 'subsample': 0.8965421648046056, 'colsample_bytree': 0.882659391423561}. \n"
          ]
        },
        {
          "output_type": "stream",
          "name": "stdout",
          "text": [
            "Trial 7 finished with values: [0.32411328962256103, 6.800344154124028] and parameters: {'max_depth': 6, 'learning_rate': 0.039147084019823655, 'min_child_weight': 6, 'subsample': 0.8965421648046056, 'colsample_bytree': 0.882659391423561}. \n",
            "Trial 7 finished with values: [0.32411328962256103, 6.800344154124028] and parameters: {'max_depth': 6, 'learning_rate': 0.039147084019823655, 'min_child_weight': 6, 'subsample': 0.8965421648046056, 'colsample_bytree': 0.882659391423561}. \n"
          ]
        },
        {
          "output_type": "stream",
          "name": "stderr",
          "text": [
            "/usr/local/lib/python3.10/dist-packages/xgboost/sklearn.py:889: UserWarning: `callbacks` in `fit` method is deprecated for better compatibility with scikit-learn, use `callbacks` in constructor or`set_params` instead.\n",
            "  warnings.warn(\n",
            "[I 2024-06-11 03:01:08,257] Trial 8 finished with values: [0.2004914339013448, 11.225711324073231] and parameters: {'max_depth': 6, 'learning_rate': 0.08647448697105946, 'min_child_weight': 4, 'subsample': 0.9285122747990033, 'colsample_bytree': 0.9172838042010949}. \n"
          ]
        },
        {
          "output_type": "stream",
          "name": "stdout",
          "text": [
            "Trial 8 finished with values: [0.2004914339013448, 11.225711324073231] and parameters: {'max_depth': 6, 'learning_rate': 0.08647448697105946, 'min_child_weight': 4, 'subsample': 0.9285122747990033, 'colsample_bytree': 0.9172838042010949}. \n",
            "Trial 8 finished with values: [0.2004914339013448, 11.225711324073231] and parameters: {'max_depth': 6, 'learning_rate': 0.08647448697105946, 'min_child_weight': 4, 'subsample': 0.9285122747990033, 'colsample_bytree': 0.9172838042010949}. \n"
          ]
        },
        {
          "output_type": "stream",
          "name": "stderr",
          "text": [
            "/usr/local/lib/python3.10/dist-packages/xgboost/sklearn.py:889: UserWarning: `callbacks` in `fit` method is deprecated for better compatibility with scikit-learn, use `callbacks` in constructor or`set_params` instead.\n",
            "  warnings.warn(\n",
            "[I 2024-06-11 03:01:11,537] Trial 9 finished with values: [0.4198919771012255, 6.511624348717649] and parameters: {'max_depth': 4, 'learning_rate': 0.059959296238169646, 'min_child_weight': 2, 'subsample': 0.7409785357838287, 'colsample_bytree': 0.9038426294476078}. \n"
          ]
        },
        {
          "output_type": "stream",
          "name": "stdout",
          "text": [
            "Trial 9 finished with values: [0.4198919771012255, 6.511624348717649] and parameters: {'max_depth': 4, 'learning_rate': 0.059959296238169646, 'min_child_weight': 2, 'subsample': 0.7409785357838287, 'colsample_bytree': 0.9038426294476078}. \n",
            "Trial 9 finished with values: [0.4198919771012255, 6.511624348717649] and parameters: {'max_depth': 4, 'learning_rate': 0.059959296238169646, 'min_child_weight': 2, 'subsample': 0.7409785357838287, 'colsample_bytree': 0.9038426294476078}. \n"
          ]
        },
        {
          "output_type": "stream",
          "name": "stderr",
          "text": [
            "[I 2024-06-11 03:01:11,646] A new study created in memory with name: no-name-10b2de3c-21db-4116-b178-787889724de3\n"
          ]
        },
        {
          "output_type": "stream",
          "name": "stdout",
          "text": [
            "A new study created in memory with name: no-name-10b2de3c-21db-4116-b178-787889724de3\n",
            "A new study created in memory with name: no-name-10b2de3c-21db-4116-b178-787889724de3\n"
          ]
        },
        {
          "output_type": "stream",
          "name": "stderr",
          "text": [
            "/usr/local/lib/python3.10/dist-packages/xgboost/sklearn.py:889: UserWarning: `callbacks` in `fit` method is deprecated for better compatibility with scikit-learn, use `callbacks` in constructor or`set_params` instead.\n",
            "  warnings.warn(\n",
            "[I 2024-06-11 03:01:18,574] Trial 0 finished with values: [-0.5792303476912809, 4.9470823338940235] and parameters: {'max_depth': 4, 'learning_rate': 0.013980899937893882, 'min_child_weight': 5, 'subsample': 0.5284886638213824, 'colsample_bytree': 0.6618246985338987}. \n"
          ]
        },
        {
          "output_type": "stream",
          "name": "stdout",
          "text": [
            "Trial 0 finished with values: [-0.5792303476912809, 4.9470823338940235] and parameters: {'max_depth': 4, 'learning_rate': 0.013980899937893882, 'min_child_weight': 5, 'subsample': 0.5284886638213824, 'colsample_bytree': 0.6618246985338987}. \n",
            "Trial 0 finished with values: [-0.5792303476912809, 4.9470823338940235] and parameters: {'max_depth': 4, 'learning_rate': 0.013980899937893882, 'min_child_weight': 5, 'subsample': 0.5284886638213824, 'colsample_bytree': 0.6618246985338987}. \n"
          ]
        },
        {
          "output_type": "stream",
          "name": "stderr",
          "text": [
            "/usr/local/lib/python3.10/dist-packages/xgboost/sklearn.py:889: UserWarning: `callbacks` in `fit` method is deprecated for better compatibility with scikit-learn, use `callbacks` in constructor or`set_params` instead.\n",
            "  warnings.warn(\n",
            "[I 2024-06-11 03:01:21,877] Trial 1 finished with values: [-0.22497234487102025, 9.573253391873909] and parameters: {'max_depth': 4, 'learning_rate': 0.032379500401630464, 'min_child_weight': 9, 'subsample': 0.7187800527566156, 'colsample_bytree': 0.3475069849325883}. \n"
          ]
        },
        {
          "output_type": "stream",
          "name": "stdout",
          "text": [
            "Trial 1 finished with values: [-0.22497234487102025, 9.573253391873909] and parameters: {'max_depth': 4, 'learning_rate': 0.032379500401630464, 'min_child_weight': 9, 'subsample': 0.7187800527566156, 'colsample_bytree': 0.3475069849325883}. \n",
            "Trial 1 finished with values: [-0.22497234487102025, 9.573253391873909] and parameters: {'max_depth': 4, 'learning_rate': 0.032379500401630464, 'min_child_weight': 9, 'subsample': 0.7187800527566156, 'colsample_bytree': 0.3475069849325883}. \n"
          ]
        },
        {
          "output_type": "stream",
          "name": "stderr",
          "text": [
            "/usr/local/lib/python3.10/dist-packages/xgboost/sklearn.py:889: UserWarning: `callbacks` in `fit` method is deprecated for better compatibility with scikit-learn, use `callbacks` in constructor or`set_params` instead.\n",
            "  warnings.warn(\n",
            "[I 2024-06-11 03:01:25,945] Trial 2 finished with values: [-0.24148028304388244, 11.474539721650725] and parameters: {'max_depth': 3, 'learning_rate': 0.03724788579388508, 'min_child_weight': 5, 'subsample': 0.7750185211648108, 'colsample_bytree': 0.9291193049717608}. \n"
          ]
        },
        {
          "output_type": "stream",
          "name": "stdout",
          "text": [
            "Trial 2 finished with values: [-0.24148028304388244, 11.474539721650725] and parameters: {'max_depth': 3, 'learning_rate': 0.03724788579388508, 'min_child_weight': 5, 'subsample': 0.7750185211648108, 'colsample_bytree': 0.9291193049717608}. \n",
            "Trial 2 finished with values: [-0.24148028304388244, 11.474539721650725] and parameters: {'max_depth': 3, 'learning_rate': 0.03724788579388508, 'min_child_weight': 5, 'subsample': 0.7750185211648108, 'colsample_bytree': 0.9291193049717608}. \n"
          ]
        },
        {
          "output_type": "stream",
          "name": "stderr",
          "text": [
            "/usr/local/lib/python3.10/dist-packages/xgboost/sklearn.py:889: UserWarning: `callbacks` in `fit` method is deprecated for better compatibility with scikit-learn, use `callbacks` in constructor or`set_params` instead.\n",
            "  warnings.warn(\n",
            "[I 2024-06-11 03:01:31,273] Trial 3 finished with values: [-0.29849366655438736, 11.294287361234053] and parameters: {'max_depth': 5, 'learning_rate': 0.0561628093181762, 'min_child_weight': 3, 'subsample': 0.6747814489293057, 'colsample_bytree': 0.7767411226484995}. \n"
          ]
        },
        {
          "output_type": "stream",
          "name": "stdout",
          "text": [
            "Trial 3 finished with values: [-0.29849366655438736, 11.294287361234053] and parameters: {'max_depth': 5, 'learning_rate': 0.0561628093181762, 'min_child_weight': 3, 'subsample': 0.6747814489293057, 'colsample_bytree': 0.7767411226484995}. \n",
            "Trial 3 finished with values: [-0.29849366655438736, 11.294287361234053] and parameters: {'max_depth': 5, 'learning_rate': 0.0561628093181762, 'min_child_weight': 3, 'subsample': 0.6747814489293057, 'colsample_bytree': 0.7767411226484995}. \n"
          ]
        },
        {
          "output_type": "stream",
          "name": "stderr",
          "text": [
            "/usr/local/lib/python3.10/dist-packages/xgboost/sklearn.py:889: UserWarning: `callbacks` in `fit` method is deprecated for better compatibility with scikit-learn, use `callbacks` in constructor or`set_params` instead.\n",
            "  warnings.warn(\n",
            "[I 2024-06-11 03:01:37,619] Trial 4 finished with values: [-0.7394092479324357, 2.5913835431288685] and parameters: {'max_depth': 3, 'learning_rate': 0.017724649405663817, 'min_child_weight': 8, 'subsample': 0.6878218417983368, 'colsample_bytree': 0.40820919302486347}. \n"
          ]
        },
        {
          "output_type": "stream",
          "name": "stdout",
          "text": [
            "Trial 4 finished with values: [-0.7394092479324357, 2.5913835431288685] and parameters: {'max_depth': 3, 'learning_rate': 0.017724649405663817, 'min_child_weight': 8, 'subsample': 0.6878218417983368, 'colsample_bytree': 0.40820919302486347}. \n",
            "Trial 4 finished with values: [-0.7394092479324357, 2.5913835431288685] and parameters: {'max_depth': 3, 'learning_rate': 0.017724649405663817, 'min_child_weight': 8, 'subsample': 0.6878218417983368, 'colsample_bytree': 0.40820919302486347}. \n"
          ]
        },
        {
          "output_type": "stream",
          "name": "stderr",
          "text": [
            "/usr/local/lib/python3.10/dist-packages/xgboost/sklearn.py:889: UserWarning: `callbacks` in `fit` method is deprecated for better compatibility with scikit-learn, use `callbacks` in constructor or`set_params` instead.\n",
            "  warnings.warn(\n",
            "[I 2024-06-11 03:01:43,123] Trial 5 finished with values: [-0.8759711686034124, 1.4239512799098382] and parameters: {'max_depth': 3, 'learning_rate': 0.08214806208862832, 'min_child_weight': 10, 'subsample': 0.877017373927574, 'colsample_bytree': 0.5348092145458346}. \n"
          ]
        },
        {
          "output_type": "stream",
          "name": "stdout",
          "text": [
            "Trial 5 finished with values: [-0.8759711686034124, 1.4239512799098382] and parameters: {'max_depth': 3, 'learning_rate': 0.08214806208862832, 'min_child_weight': 10, 'subsample': 0.877017373927574, 'colsample_bytree': 0.5348092145458346}. \n",
            "Trial 5 finished with values: [-0.8759711686034124, 1.4239512799098382] and parameters: {'max_depth': 3, 'learning_rate': 0.08214806208862832, 'min_child_weight': 10, 'subsample': 0.877017373927574, 'colsample_bytree': 0.5348092145458346}. \n"
          ]
        },
        {
          "output_type": "stream",
          "name": "stderr",
          "text": [
            "/usr/local/lib/python3.10/dist-packages/xgboost/sklearn.py:889: UserWarning: `callbacks` in `fit` method is deprecated for better compatibility with scikit-learn, use `callbacks` in constructor or`set_params` instead.\n",
            "  warnings.warn(\n",
            "[I 2024-06-11 03:01:47,391] Trial 6 finished with values: [0.6832303810427155, 3.689020264644806] and parameters: {'max_depth': 6, 'learning_rate': 0.04469908936792014, 'min_child_weight': 2, 'subsample': 0.8020322587120092, 'colsample_bytree': 0.795082819238474}. \n"
          ]
        },
        {
          "output_type": "stream",
          "name": "stdout",
          "text": [
            "Trial 6 finished with values: [0.6832303810427155, 3.689020264644806] and parameters: {'max_depth': 6, 'learning_rate': 0.04469908936792014, 'min_child_weight': 2, 'subsample': 0.8020322587120092, 'colsample_bytree': 0.795082819238474}. \n",
            "Trial 6 finished with values: [0.6832303810427155, 3.689020264644806] and parameters: {'max_depth': 6, 'learning_rate': 0.04469908936792014, 'min_child_weight': 2, 'subsample': 0.8020322587120092, 'colsample_bytree': 0.795082819238474}. \n"
          ]
        },
        {
          "output_type": "stream",
          "name": "stderr",
          "text": [
            "/usr/local/lib/python3.10/dist-packages/xgboost/sklearn.py:889: UserWarning: `callbacks` in `fit` method is deprecated for better compatibility with scikit-learn, use `callbacks` in constructor or`set_params` instead.\n",
            "  warnings.warn(\n",
            "[I 2024-06-11 03:01:51,765] Trial 7 finished with values: [-0.5138316358648887, 4.888550431986647] and parameters: {'max_depth': 6, 'learning_rate': 0.01086643668198597, 'min_child_weight': 9, 'subsample': 0.6665800589120934, 'colsample_bytree': 0.49269482468792875}. \n"
          ]
        },
        {
          "output_type": "stream",
          "name": "stdout",
          "text": [
            "Trial 7 finished with values: [-0.5138316358648887, 4.888550431986647] and parameters: {'max_depth': 6, 'learning_rate': 0.01086643668198597, 'min_child_weight': 9, 'subsample': 0.6665800589120934, 'colsample_bytree': 0.49269482468792875}. \n",
            "Trial 7 finished with values: [-0.5138316358648887, 4.888550431986647] and parameters: {'max_depth': 6, 'learning_rate': 0.01086643668198597, 'min_child_weight': 9, 'subsample': 0.6665800589120934, 'colsample_bytree': 0.49269482468792875}. \n"
          ]
        },
        {
          "output_type": "stream",
          "name": "stderr",
          "text": [
            "/usr/local/lib/python3.10/dist-packages/xgboost/sklearn.py:889: UserWarning: `callbacks` in `fit` method is deprecated for better compatibility with scikit-learn, use `callbacks` in constructor or`set_params` instead.\n",
            "  warnings.warn(\n",
            "[I 2024-06-11 03:01:57,092] Trial 8 finished with values: [-0.1630705530637403, 19.320679049277604] and parameters: {'max_depth': 3, 'learning_rate': 0.06894460209280583, 'min_child_weight': 6, 'subsample': 0.6737811078087845, 'colsample_bytree': 0.8082195514981381}. \n"
          ]
        },
        {
          "output_type": "stream",
          "name": "stdout",
          "text": [
            "Trial 8 finished with values: [-0.1630705530637403, 19.320679049277604] and parameters: {'max_depth': 3, 'learning_rate': 0.06894460209280583, 'min_child_weight': 6, 'subsample': 0.6737811078087845, 'colsample_bytree': 0.8082195514981381}. \n",
            "Trial 8 finished with values: [-0.1630705530637403, 19.320679049277604] and parameters: {'max_depth': 3, 'learning_rate': 0.06894460209280583, 'min_child_weight': 6, 'subsample': 0.6737811078087845, 'colsample_bytree': 0.8082195514981381}. \n"
          ]
        },
        {
          "output_type": "stream",
          "name": "stderr",
          "text": [
            "/usr/local/lib/python3.10/dist-packages/xgboost/sklearn.py:889: UserWarning: `callbacks` in `fit` method is deprecated for better compatibility with scikit-learn, use `callbacks` in constructor or`set_params` instead.\n",
            "  warnings.warn(\n",
            "[I 2024-06-11 03:02:00,822] Trial 9 finished with values: [-0.19725792410931126, 15.41369827627926] and parameters: {'max_depth': 5, 'learning_rate': 0.025982588745369295, 'min_child_weight': 9, 'subsample': 0.6041285181031717, 'colsample_bytree': 0.4671372861083635}. \n"
          ]
        },
        {
          "output_type": "stream",
          "name": "stdout",
          "text": [
            "Trial 9 finished with values: [-0.19725792410931126, 15.41369827627926] and parameters: {'max_depth': 5, 'learning_rate': 0.025982588745369295, 'min_child_weight': 9, 'subsample': 0.6041285181031717, 'colsample_bytree': 0.4671372861083635}. \n",
            "Trial 9 finished with values: [-0.19725792410931126, 15.41369827627926] and parameters: {'max_depth': 5, 'learning_rate': 0.025982588745369295, 'min_child_weight': 9, 'subsample': 0.6041285181031717, 'colsample_bytree': 0.4671372861083635}. \n"
          ]
        }
      ],
      "source": [
        "best_params_list = []\n",
        "for idx, data_item in enumerate(selected_columns_cluster):\n",
        "    train_cols, _ = split_data(data_item)\n",
        "    optuna_data = scale_data(train_cols)\n",
        "\n",
        "    X_train, X_valid, y_train, y_valid = train_test_split(optuna_data,\n",
        "                                                            train_data['Return'],\n",
        "                                                            test_size=0.5,\n",
        "                                                            shuffle=False)\n",
        "    study = optuna.create_study(directions=['maximize', 'minimize'])\n",
        "\n",
        "    unique_trials = 10\n",
        "    while unique_trials > len(set(str(t.params) for t in study.trials)):\n",
        "        study.optimize(lambda trial: objective_params(trial, X_train, X_valid, y_train, y_valid, train_data['Close']), n_trials=1)\n",
        "\n",
        "    # Retrieve all trials\n",
        "    trials = study.trials\n",
        "\n",
        "    # Sort trials based on objective values\n",
        "    trials.sort(key=lambda trial: trial.values, reverse=True)\n",
        "\n",
        "    # Select top 1 trials\n",
        "    params = trials[0].params\n",
        "    best_params_list.append(params)\n",
        "\n",
        "    model = xgb.XGBRegressor(**params)\n",
        "    model.fit(X_train, y_train)\n",
        "\n",
        "    model.save_model(f'best_in_cluster_{idx}.json')"
      ]
    },
    {
      "cell_type": "code",
      "execution_count": 67,
      "metadata": {
        "id": "bICDZWmoqnAM"
      },
      "outputs": [],
      "source": [
        "# trials = study.trials\n",
        "# trials.sort(key=lambda trial: trial.values, reverse=True)\n",
        "# study.trials_dataframe().sort_values('values_0', ascending=False)"
      ]
    },
    {
      "cell_type": "markdown",
      "metadata": {
        "id": "ZfJ2jbgfqnAM"
      },
      "source": [
        "Test on hold_out"
      ]
    },
    {
      "cell_type": "code",
      "execution_count": 68,
      "metadata": {
        "id": "FWdWQB46qnAM"
      },
      "outputs": [],
      "source": [
        "train_data, hold_out = split_data(data)"
      ]
    },
    {
      "cell_type": "code",
      "execution_count": 69,
      "metadata": {
        "id": "2Pv0F-_HqnAM",
        "colab": {
          "base_uri": "https://localhost:8080/"
        },
        "outputId": "1625b3cd-8e79-4341-9013-df3643797d8e"
      },
      "outputs": [
        {
          "output_type": "execute_result",
          "data": {
            "text/plain": [
              "[0.0, 0.16521071798753945]"
            ]
          },
          "metadata": {},
          "execution_count": 69
        }
      ],
      "source": [
        "sharpe_list = []\n",
        "trade_threshold  = 0.0005\n",
        "\n",
        "for idx, data_item in enumerate(selected_columns_cluster):\n",
        "\n",
        "    _, hold_out_cols = split_data(data_item)\n",
        "\n",
        "    xbg_reg = xgb.XGBRegressor()\n",
        "    # Create and train model\n",
        "    xbg_reg.load_model(f\"best_in_cluster_{idx}.json\")\n",
        "\n",
        "    # Make predictions\n",
        "    y_hold_out = xbg_reg.predict(hold_out_cols)\n",
        "    pos, pnl, daily, sharpe = sharpe_for_vn30f(y_hold_out, hold_out['Return'], trade_threshold=trade_threshold, fee_perc=0.01, periods=10)\n",
        "\n",
        "    sharpe_list.append(sharpe)\n",
        "\n",
        "sharpe_list"
      ]
    },
    {
      "cell_type": "code",
      "execution_count": 70,
      "metadata": {
        "id": "IG-_sUBMqnAN"
      },
      "outputs": [],
      "source": [
        "def return_result_df(hold_out, y_hold_out, data, train_data, pos, pnl):\n",
        "    result = pd.DataFrame()\n",
        "    result['Close_Holdout'] = hold_out['Close']\n",
        "    result['Ground_value_Holdout'] = hold_out['Return']\n",
        "    result['Predict_diff_Holdout'] = pd.Series(y_hold_out, index=data.index[len(train_data):len(data)])\n",
        "    result['Position_predict_Holdout'] = pd.Series(pos, index=data.index[len(train_data):len(data)])\n",
        "    result['PNL_Holdout'] = pd.Series(pnl)\n",
        "    return result"
      ]
    },
    {
      "cell_type": "code",
      "execution_count": 71,
      "metadata": {
        "id": "tMF5DfvAqnAN",
        "colab": {
          "base_uri": "https://localhost:8080/",
          "height": 1000
        },
        "outputId": "faf1a4e8-cbc3-4c64-e236-bdc6de3f4739"
      },
      "outputs": [
        {
          "output_type": "stream",
          "name": "stdout",
          "text": [
            "Pnl ratio for cluster 0: 16042    NaN\n",
            "16043    NaN\n",
            "16044    NaN\n",
            "16045    NaN\n",
            "16046    NaN\n",
            "        ... \n",
            "24057    0.0\n",
            "24058    0.0\n",
            "24059    0.0\n",
            "24060    0.0\n",
            "24061    0.0\n",
            "Length: 8020, dtype: float64\n",
            "Pnl ratio for cluster 1: 16042         NaN\n",
            "16043         NaN\n",
            "16044         NaN\n",
            "16045         NaN\n",
            "16046         NaN\n",
            "           ...   \n",
            "24057    0.012928\n",
            "24058    0.012928\n",
            "24059    0.012928\n",
            "24060    0.012928\n",
            "24061    0.012928\n",
            "Length: 8020, dtype: float64\n"
          ]
        },
        {
          "output_type": "display_data",
          "data": {
            "text/plain": [
              "<Figure size 1000x1200 with 2 Axes>"
            ],
            "image/png": "[encoded data removed]"
          },
          "metadata": {}
        }
      ],
      "source": [
        "pnl_data = []\n",
        "sharpe_list = []\n",
        "result = None\n",
        "trade_threshold  = 0.0005\n",
        "\n",
        "# Create a single figure and set of subplots\n",
        "fig, axes = plt.subplots(len(selected_columns_cluster), figsize=(10, 12))\n",
        "\n",
        "for idx, data_item in enumerate(selected_columns_cluster):\n",
        "    _, hold_out_cols = split_data(data_item)\n",
        "\n",
        "    # Create and train model\n",
        "    model.load_model(f\"best_in_cluster_{idx}.json\")\n",
        "\n",
        "    # Make predictions\n",
        "    y_hold_out = model.predict(hold_out_cols)\n",
        "    pos, pnl, daily, sharpe = sharpe_for_vn30f(y_hold_out, hold_out['Return'], trade_threshold=trade_threshold, fee_perc=0.01, periods=10)\n",
        "\n",
        "    print(f\"Pnl ratio for cluster {idx}: {pnl}\")\n",
        "    # Append PnL data to the list\n",
        "    pnl_data.append(pnl)\n",
        "    result = return_result_df(hold_out, y_hold_out, data, train_data, pos, pnl)\n",
        "    sharpe_list.append(sharpe)\n",
        "\n",
        "    # Plot PnL for each cluster\n",
        "    if len(selected_columns_cluster) == 1:\n",
        "        ax = axes\n",
        "    else:\n",
        "        ax = axes[idx]\n",
        "\n",
        "    ax.plot(pnl, label=f'Cluster {idx}')\n",
        "    ax.set_title(f'PnL for Cluster {idx}')\n",
        "    ax.set_xlabel('Date')\n",
        "    ax.set_ylabel('PnL')\n",
        "    ax.legend()\n",
        "    ax.grid(True)\n",
        "\n",
        "# Adjust layout\n",
        "plt.tight_layout()\n",
        "plt.show()"
      ]
    },
    {
      "cell_type": "code",
      "execution_count": 72,
      "metadata": {
        "id": "MuHQIzsZqnAN",
        "colab": {
          "base_uri": "https://localhost:8080/"
        },
        "outputId": "6a09c211-2695-4f97-c5a3-8110cbc50332"
      },
      "outputs": [
        {
          "output_type": "stream",
          "name": "stdout",
          "text": [
            "['volume_fi trend_macd trend_psar_up_indicator volatility_bbli others_cr volatility_bbhi trend_psar_down volatility_bbp volatility_kcw volume_adi', 'volatility_kcli momentum_pvo others_dr volatility_kchi trend_adx trend_mass_index volume_em volume_sma_em trend_aroon_up trend_macd']\n"
          ]
        }
      ],
      "source": [
        "#Top 10 feature into list\n",
        "feature=[]\n",
        "for i in top_10_features_per_cluster:\n",
        "    listToStr = ' '.join([str(elem) for elem in i])\n",
        "    feature.append(listToStr)\n",
        "print(feature)"
      ]
    },
    {
      "cell_type": "code",
      "execution_count": 73,
      "metadata": {
        "id": "CYX69HnfqnAN"
      },
      "outputs": [],
      "source": [
        "name=[]\n",
        "for i in range(len(selected_columns_cluster)):\n",
        "  name.append( 'Cluster '+ str(i))"
      ]
    },
    {
      "cell_type": "code",
      "execution_count": 74,
      "metadata": {
        "id": "zj3kWFscqnAO",
        "colab": {
          "base_uri": "https://localhost:8080/",
          "height": 125
        },
        "outputId": "25d80aa3-a04d-4782-b6aa-ac3ba2f6666e"
      },
      "outputs": [
        {
          "output_type": "execute_result",
          "data": {
            "text/plain": [
              "                                              Top 10 Feature  \\\n",
              "Cluster 0  volume_fi trend_macd trend_psar_up_indicator v...   \n",
              "Cluster 1  volatility_kcli momentum_pvo others_dr volatil...   \n",
              "\n",
              "                                                 Best params  Best sharpe  \n",
              "Cluster 0  {'max_depth': 4, 'learning_rate': 0.0225580115...     0.000000  \n",
              "Cluster 1  {'max_depth': 6, 'learning_rate': 0.0446990893...     0.165211  "
            ],
            "text/html": [
              "\n",
              "  <div id=\"df-90c60d5d-3ccb-447e-b9e0-46fd9e303573\" class=\"colab-df-container\">\n",
              "    <div>\n",
              "<style scoped>\n",
              "    .dataframe tbody tr th:only-of-type {\n",
              "        vertical-align: middle;\n",
              "    }\n",
              "\n",
              "    .dataframe tbody tr th {\n",
              "        vertical-align: top;\n",
              "    }\n",
              "\n",
              "    .dataframe thead th {\n",
              "        text-align: right;\n",
              "    }\n",
              "</style>\n",
              "<table border=\"1\" class=\"dataframe\">\n",
              "  <thead>\n",
              "    <tr style=\"text-align: right;\">\n",
              "      <th></th>\n",
              "      <th>Top 10 Feature</th>\n",
              "      <th>Best params</th>\n",
              "      <th>Best sharpe</th>\n",
              "    </tr>\n",
              "  </thead>\n",
              "  <tbody>\n",
              "    <tr>\n",
              "      <th>Cluster 0</th>\n",
              "      <td>volume_fi trend_macd trend_psar_up_indicator v...</td>\n",
              "      <td>{'max_depth': 4, 'learning_rate': 0.0225580115...</td>\n",
              "      <td>0.000000</td>\n",
              "    </tr>\n",
              "    <tr>\n",
              "      <th>Cluster 1</th>\n",
              "      <td>volatility_kcli momentum_pvo others_dr volatil...</td>\n",
              "      <td>{'max_depth': 6, 'learning_rate': 0.0446990893...</td>\n",
              "      <td>0.165211</td>\n",
              "    </tr>\n",
              "  </tbody>\n",
              "</table>\n",
              "</div>\n",
              "    <div class=\"colab-df-buttons\">\n",
              "\n",
              "  <div class=\"colab-df-container\">\n",
              "    <button class=\"colab-df-convert\" onclick=\"convertToInteractive('df-90c60d5d-3ccb-447e-b9e0-46fd9e303573')\"\n",
              "            title=\"Convert this dataframe to an interactive table.\"\n",
              "            style=\"display:none;\">\n",
              "\n",
              "  <svg xmlns=\"http://www.w3.org/2000/svg\" height=\"24px\" viewBox=\"0 -960 960 960\">\n",
              "    <path d=\"M120-120v-720h720v720H120Zm60-500h600v-160H180v160Zm220 220h160v-160H400v160Zm0 220h160v-160H400v160ZM180-400h160v-160H180v160Zm440 0h160v-160H620v160ZM180-180h160v-160H180v160Zm440 0h160v-160H620v160Z\"/>\n",
              "  </svg>\n",
              "    </button>\n",
              "\n",
              "  <style>\n",
              "    .colab-df-container {\n",
              "      display:flex;\n",
              "      gap: 12px;\n",
              "    }\n",
              "\n",
              "    .colab-df-convert {\n",
              "      background-color: #E8F0FE;\n",
              "      border: none;\n",
              "      border-radius: 50%;\n",
              "      cursor: pointer;\n",
              "      display: none;\n",
              "      fill: #1967D2;\n",
              "      height: 32px;\n",
              "      padding: 0 0 0 0;\n",
              "      width: 32px;\n",
              "    }\n",
              "\n",
              "    .colab-df-convert:hover {\n",
              "      background-color: #E2EBFA;\n",
              "      box-shadow: 0px 1px 2px rgba(60, 64, 67, 0.3), 0px 1px 3px 1px rgba(60, 64, 67, 0.15);\n",
              "      fill: #174EA6;\n",
              "    }\n",
              "\n",
              "    .colab-df-buttons div {\n",
              "      margin-bottom: 4px;\n",
              "    }\n",
              "\n",
              "    [theme=dark] .colab-df-convert {\n",
              "      background-color: #3B4455;\n",
              "      fill: #D2E3FC;\n",
              "    }\n",
              "\n",
              "    [theme=dark] .colab-df-convert:hover {\n",
              "      background-color: #434B5C;\n",
              "      box-shadow: 0px 1px 3px 1px rgba(0, 0, 0, 0.15);\n",
              "      filter: drop-shadow(0px 1px 2px rgba(0, 0, 0, 0.3));\n",
              "      fill: #FFFFFF;\n",
              "    }\n",
              "  </style>\n",
              "\n",
              "    <script>\n",
              "      const buttonEl =\n",
              "        document.querySelector('#df-90c60d5d-3ccb-447e-b9e0-46fd9e303573 button.colab-df-convert');\n",
              "      buttonEl.style.display =\n",
              "        google.colab.kernel.accessAllowed ? 'block' : 'none';\n",
              "\n",
              "      async function convertToInteractive(key) {\n",
              "        const element = document.querySelector('#df-90c60d5d-3ccb-447e-b9e0-46fd9e303573');\n",
              "        const dataTable =\n",
              "          await google.colab.kernel.invokeFunction('convertToInteractive',\n",
              "                                                    [key], {});\n",
              "        if (!dataTable) return;\n",
              "\n",
              "        const docLinkHtml = 'Like what you see? Visit the ' +\n",
              "          '<a target=\"_blank\" href=https://colab.research.google.com/notebooks/data_table.ipynb>data table notebook</a>'\n",
              "          + ' to learn more about interactive tables.';\n",
              "        element.innerHTML = '';\n",
              "        dataTable['output_type'] = 'display_data';\n",
              "        await google.colab.output.renderOutput(dataTable, element);\n",
              "        const docLink = document.createElement('div');\n",
              "        docLink.innerHTML = docLinkHtml;\n",
              "        element.appendChild(docLink);\n",
              "      }\n",
              "    </script>\n",
              "  </div>\n",
              "\n",
              "\n",
              "<div id=\"df-878f90fc-2c59-4983-92a5-a202d410393e\">\n",
              "  <button class=\"colab-df-quickchart\" onclick=\"quickchart('df-878f90fc-2c59-4983-92a5-a202d410393e')\"\n",
              "            title=\"Suggest charts\"\n",
              "            style=\"display:none;\">\n",
              "\n",
              "<svg xmlns=\"http://www.w3.org/2000/svg\" height=\"24px\"viewBox=\"0 0 24 24\"\n",
              "     width=\"24px\">\n",
              "    <g>\n",
              "        <path d=\"M19 3H5c-1.1 0-2 .9-2 2v14c0 1.1.9 2 2 2h14c1.1 0 2-.9 2-2V5c0-1.1-.9-2-2-2zM9 17H7v-7h2v7zm4 0h-2V7h2v10zm4 0h-2v-4h2v4z\"/>\n",
              "    </g>\n",
              "</svg>\n",
              "  </button>\n",
              "\n",
              "<style>\n",
              "  .colab-df-quickchart {\n",
              "      --bg-color: #E8F0FE;\n",
              "      --fill-color: #1967D2;\n",
              "      --hover-bg-color: #E2EBFA;\n",
              "      --hover-fill-color: #174EA6;\n",
              "      --disabled-fill-color: #AAA;\n",
              "      --disabled-bg-color: #DDD;\n",
              "  }\n",
              "\n",
              "  [theme=dark] .colab-df-quickchart {\n",
              "      --bg-color: #3B4455;\n",
              "      --fill-color: #D2E3FC;\n",
              "      --hover-bg-color: #434B5C;\n",
              "      --hover-fill-color: #FFFFFF;\n",
              "      --disabled-bg-color: #3B4455;\n",
              "      --disabled-fill-color: #666;\n",
              "  }\n",
              "\n",
              "  .colab-df-quickchart {\n",
              "    background-color: var(--bg-color);\n",
              "    border: none;\n",
              "    border-radius: 50%;\n",
              "    cursor: pointer;\n",
              "    display: none;\n",
              "    fill: var(--fill-color);\n",
              "    height: 32px;\n",
              "    padding: 0;\n",
              "    width: 32px;\n",
              "  }\n",
              "\n",
              "  .colab-df-quickchart:hover {\n",
              "    background-color: var(--hover-bg-color);\n",
              "    box-shadow: 0 1px 2px rgba(60, 64, 67, 0.3), 0 1px 3px 1px rgba(60, 64, 67, 0.15);\n",
              "    fill: var(--button-hover-fill-color);\n",
              "  }\n",
              "\n",
              "  .colab-df-quickchart-complete:disabled,\n",
              "  .colab-df-quickchart-complete:disabled:hover {\n",
              "    background-color: var(--disabled-bg-color);\n",
              "    fill: var(--disabled-fill-color);\n",
              "    box-shadow: none;\n",
              "  }\n",
              "\n",
              "  .colab-df-spinner {\n",
              "    border: 2px solid var(--fill-color);\n",
              "    border-color: transparent;\n",
              "    border-bottom-color: var(--fill-color);\n",
              "    animation:\n",
              "      spin 1s steps(1) infinite;\n",
              "  }\n",
              "\n",
              "  @keyframes spin {\n",
              "    0% {\n",
              "      border-color: transparent;\n",
              "      border-bottom-color: var(--fill-color);\n",
              "      border-left-color: var(--fill-color);\n",
              "    }\n",
              "    20% {\n",
              "      border-color: transparent;\n",
              "      border-left-color: var(--fill-color);\n",
              "      border-top-color: var(--fill-color);\n",
              "    }\n",
              "    30% {\n",
              "      border-color: transparent;\n",
              "      border-left-color: var(--fill-color);\n",
              "      border-top-color: var(--fill-color);\n",
              "      border-right-color: var(--fill-color);\n",
              "    }\n",
              "    40% {\n",
              "      border-color: transparent;\n",
              "      border-right-color: var(--fill-color);\n",
              "      border-top-color: var(--fill-color);\n",
              "    }\n",
              "    60% {\n",
              "      border-color: transparent;\n",
              "      border-right-color: var(--fill-color);\n",
              "    }\n",
              "    80% {\n",
              "      border-color: transparent;\n",
              "      border-right-color: var(--fill-color);\n",
              "      border-bottom-color: var(--fill-color);\n",
              "    }\n",
              "    90% {\n",
              "      border-color: transparent;\n",
              "      border-bottom-color: var(--fill-color);\n",
              "    }\n",
              "  }\n",
              "</style>\n",
              "\n",
              "  <script>\n",
              "    async function quickchart(key) {\n",
              "      const quickchartButtonEl =\n",
              "        document.querySelector('#' + key + ' button');\n",
              "      quickchartButtonEl.disabled = true;  // To prevent multiple clicks.\n",
              "      quickchartButtonEl.classList.add('colab-df-spinner');\n",
              "      try {\n",
              "        const charts = await google.colab.kernel.invokeFunction(\n",
              "            'suggestCharts', [key], {});\n",
              "      } catch (error) {\n",
              "        console.error('Error during call to suggestCharts:', error);\n",
              "      }\n",
              "      quickchartButtonEl.classList.remove('colab-df-spinner');\n",
              "      quickchartButtonEl.classList.add('colab-df-quickchart-complete');\n",
              "    }\n",
              "    (() => {\n",
              "      let quickchartButtonEl =\n",
              "        document.querySelector('#df-878f90fc-2c59-4983-92a5-a202d410393e button');\n",
              "      quickchartButtonEl.style.display =\n",
              "        google.colab.kernel.accessAllowed ? 'block' : 'none';\n",
              "    })();\n",
              "  </script>\n",
              "</div>\n",
              "\n",
              "  <div id=\"id_21e257c5-0ec7-42b7-9768-dfbd8e4fd915\">\n",
              "    <style>\n",
              "      .colab-df-generate {\n",
              "        background-color: #E8F0FE;\n",
              "        border: none;\n",
              "        border-radius: 50%;\n",
              "        cursor: pointer;\n",
              "        display: none;\n",
              "        fill: #1967D2;\n",
              "        height: 32px;\n",
              "        padding: 0 0 0 0;\n",
              "        width: 32px;\n",
              "      }\n",
              "\n",
              "      .colab-df-generate:hover {\n",
              "        background-color: #E2EBFA;\n",
              "        box-shadow: 0px 1px 2px rgba(60, 64, 67, 0.3), 0px 1px 3px 1px rgba(60, 64, 67, 0.15);\n",
              "        fill: #174EA6;\n",
              "      }\n",
              "\n",
              "      [theme=dark] .colab-df-generate {\n",
              "        background-color: #3B4455;\n",
              "        fill: #D2E3FC;\n",
              "      }\n",
              "\n",
              "      [theme=dark] .colab-df-generate:hover {\n",
              "        background-color: #434B5C;\n",
              "        box-shadow: 0px 1px 3px 1px rgba(0, 0, 0, 0.15);\n",
              "        filter: drop-shadow(0px 1px 2px rgba(0, 0, 0, 0.3));\n",
              "        fill: #FFFFFF;\n",
              "      }\n",
              "    </style>\n",
              "    <button class=\"colab-df-generate\" onclick=\"generateWithVariable('df_result')\"\n",
              "            title=\"Generate code using this dataframe.\"\n",
              "            style=\"display:none;\">\n",
              "\n",
              "  <svg xmlns=\"http://www.w3.org/2000/svg\" height=\"24px\"viewBox=\"0 0 24 24\"\n",
              "       width=\"24px\">\n",
              "    <path d=\"M7,19H8.4L18.45,9,17,7.55,7,17.6ZM5,21V16.75L18.45,3.32a2,2,0,0,1,2.83,0l1.4,1.43a1.91,1.91,0,0,1,.58,1.4,1.91,1.91,0,0,1-.58,1.4L9.25,21ZM18.45,9,17,7.55Zm-12,3A5.31,5.31,0,0,0,4.9,8.1,5.31,5.31,0,0,0,1,6.5,5.31,5.31,0,0,0,4.9,4.9,5.31,5.31,0,0,0,6.5,1,5.31,5.31,0,0,0,8.1,4.9,5.31,5.31,0,0,0,12,6.5,5.46,5.46,0,0,0,6.5,12Z\"/>\n",
              "  </svg>\n",
              "    </button>\n",
              "    <script>\n",
              "      (() => {\n",
              "      const buttonEl =\n",
              "        document.querySelector('#id_21e257c5-0ec7-42b7-9768-dfbd8e4fd915 button.colab-df-generate');\n",
              "      buttonEl.style.display =\n",
              "        google.colab.kernel.accessAllowed ? 'block' : 'none';\n",
              "\n",
              "      buttonEl.onclick = () => {\n",
              "        google.colab.notebook.generateWithVariable('df_result');\n",
              "      }\n",
              "      })();\n",
              "    </script>\n",
              "  </div>\n",
              "\n",
              "    </div>\n",
              "  </div>\n"
            ],
            "application/vnd.google.colaboratory.intrinsic+json": {
              "type": "dataframe",
              "variable_name": "df_result",
              "summary": "{\n  \"name\": \"df_result\",\n  \"rows\": 2,\n  \"fields\": [\n    {\n      \"column\": \"Top 10 Feature\",\n      \"properties\": {\n        \"dtype\": \"string\",\n        \"num_unique_values\": 2,\n        \"samples\": [\n          \"volatility_kcli momentum_pvo others_dr volatility_kchi trend_adx trend_mass_index volume_em volume_sma_em trend_aroon_up trend_macd\",\n          \"volume_fi trend_macd trend_psar_up_indicator volatility_bbli others_cr volatility_bbhi trend_psar_down volatility_bbp volatility_kcw volume_adi\"\n        ],\n        \"semantic_type\": \"\",\n        \"description\": \"\"\n      }\n    },\n    {\n      \"column\": \"Best params\",\n      \"properties\": {\n        \"dtype\": \"object\",\n        \"semantic_type\": \"\",\n        \"description\": \"\"\n      }\n    },\n    {\n      \"column\": \"Best sharpe\",\n      \"properties\": {\n        \"dtype\": \"number\",\n        \"std\": 0.11682161901368747,\n        \"min\": 0.0,\n        \"max\": 0.16521071798753945,\n        \"num_unique_values\": 2,\n        \"samples\": [\n          0.16521071798753945,\n          0.0\n        ],\n        \"semantic_type\": \"\",\n        \"description\": \"\"\n      }\n    }\n  ]\n}"
            }
          },
          "metadata": {},
          "execution_count": 74
        }
      ],
      "source": [
        "dict = {'Top 10 Feature' : feature, 'Best params': best_params_list, 'Best sharpe':sharpe_list}\n",
        "df_result = pd.DataFrame(dict, index=name)\n",
        "df_result"
      ]
    },
    {
      "cell_type": "code",
      "execution_count": 75,
      "metadata": {
        "id": "gC6RQbaHqnAO",
        "colab": {
          "base_uri": "https://localhost:8080/",
          "height": 423
        },
        "outputId": "a7b2c48e-fb87-4346-c208-acd77d00f34d"
      },
      "outputs": [
        {
          "output_type": "execute_result",
          "data": {
            "text/plain": [
              "       Cluster 0  Cluster 1\n",
              "16042        NaN        NaN\n",
              "16043        NaN        NaN\n",
              "16044        NaN        NaN\n",
              "16045        NaN        NaN\n",
              "16046        NaN        NaN\n",
              "...          ...        ...\n",
              "24057        0.0   0.012928\n",
              "24058        0.0   0.012928\n",
              "24059        0.0   0.012928\n",
              "24060        0.0   0.012928\n",
              "24061        0.0   0.012928\n",
              "\n",
              "[8020 rows x 2 columns]"
            ],
            "text/html": [
              "\n",
              "  <div id=\"df-f9ecac52-f782-4347-9e2f-852470e57a59\" class=\"colab-df-container\">\n",
              "    <div>\n",
              "<style scoped>\n",
              "    .dataframe tbody tr th:only-of-type {\n",
              "        vertical-align: middle;\n",
              "    }\n",
              "\n",
              "    .dataframe tbody tr th {\n",
              "        vertical-align: top;\n",
              "    }\n",
              "\n",
              "    .dataframe thead th {\n",
              "        text-align: right;\n",
              "    }\n",
              "</style>\n",
              "<table border=\"1\" class=\"dataframe\">\n",
              "  <thead>\n",
              "    <tr style=\"text-align: right;\">\n",
              "      <th></th>\n",
              "      <th>Cluster 0</th>\n",
              "      <th>Cluster 1</th>\n",
              "    </tr>\n",
              "  </thead>\n",
              "  <tbody>\n",
              "    <tr>\n",
              "      <th>16042</th>\n",
              "      <td>NaN</td>\n",
              "      <td>NaN</td>\n",
              "    </tr>\n",
              "    <tr>\n",
              "      <th>16043</th>\n",
              "      <td>NaN</td>\n",
              "      <td>NaN</td>\n",
              "    </tr>\n",
              "    <tr>\n",
              "      <th>16044</th>\n",
              "      <td>NaN</td>\n",
              "      <td>NaN</td>\n",
              "    </tr>\n",
              "    <tr>\n",
              "      <th>16045</th>\n",
              "      <td>NaN</td>\n",
              "      <td>NaN</td>\n",
              "    </tr>\n",
              "    <tr>\n",
              "      <th>16046</th>\n",
              "      <td>NaN</td>\n",
              "      <td>NaN</td>\n",
              "    </tr>\n",
              "    <tr>\n",
              "      <th>...</th>\n",
              "      <td>...</td>\n",
              "      <td>...</td>\n",
              "    </tr>\n",
              "    <tr>\n",
              "      <th>24057</th>\n",
              "      <td>0.0</td>\n",
              "      <td>0.012928</td>\n",
              "    </tr>\n",
              "    <tr>\n",
              "      <th>24058</th>\n",
              "      <td>0.0</td>\n",
              "      <td>0.012928</td>\n",
              "    </tr>\n",
              "    <tr>\n",
              "      <th>24059</th>\n",
              "      <td>0.0</td>\n",
              "      <td>0.012928</td>\n",
              "    </tr>\n",
              "    <tr>\n",
              "      <th>24060</th>\n",
              "      <td>0.0</td>\n",
              "      <td>0.012928</td>\n",
              "    </tr>\n",
              "    <tr>\n",
              "      <th>24061</th>\n",
              "      <td>0.0</td>\n",
              "      <td>0.012928</td>\n",
              "    </tr>\n",
              "  </tbody>\n",
              "</table>\n",
              "<p>8020 rows × 2 columns</p>\n",
              "</div>\n",
              "    <div class=\"colab-df-buttons\">\n",
              "\n",
              "  <div class=\"colab-df-container\">\n",
              "    <button class=\"colab-df-convert\" onclick=\"convertToInteractive('df-f9ecac52-f782-4347-9e2f-852470e57a59')\"\n",
              "            title=\"Convert this dataframe to an interactive table.\"\n",
              "            style=\"display:none;\">\n",
              "\n",
              "  <svg xmlns=\"http://www.w3.org/2000/svg\" height=\"24px\" viewBox=\"0 -960 960 960\">\n",
              "    <path d=\"M120-120v-720h720v720H120Zm60-500h600v-160H180v160Zm220 220h160v-160H400v160Zm0 220h160v-160H400v160ZM180-400h160v-160H180v160Zm440 0h160v-160H620v160ZM180-180h160v-160H180v160Zm440 0h160v-160H620v160Z\"/>\n",
              "  </svg>\n",
              "    </button>\n",
              "\n",
              "  <style>\n",
              "    .colab-df-container {\n",
              "      display:flex;\n",
              "      gap: 12px;\n",
              "    }\n",
              "\n",
              "    .colab-df-convert {\n",
              "      background-color: #E8F0FE;\n",
              "      border: none;\n",
              "      border-radius: 50%;\n",
              "      cursor: pointer;\n",
              "      display: none;\n",
              "      fill: #1967D2;\n",
              "      height: 32px;\n",
              "      padding: 0 0 0 0;\n",
              "      width: 32px;\n",
              "    }\n",
              "\n",
              "    .colab-df-convert:hover {\n",
              "      background-color: #E2EBFA;\n",
              "      box-shadow: 0px 1px 2px rgba(60, 64, 67, 0.3), 0px 1px 3px 1px rgba(60, 64, 67, 0.15);\n",
              "      fill: #174EA6;\n",
              "    }\n",
              "\n",
              "    .colab-df-buttons div {\n",
              "      margin-bottom: 4px;\n",
              "    }\n",
              "\n",
              "    [theme=dark] .colab-df-convert {\n",
              "      background-color: #3B4455;\n",
              "      fill: #D2E3FC;\n",
              "    }\n",
              "\n",
              "    [theme=dark] .colab-df-convert:hover {\n",
              "      background-color: #434B5C;\n",
              "      box-shadow: 0px 1px 3px 1px rgba(0, 0, 0, 0.15);\n",
              "      filter: drop-shadow(0px 1px 2px rgba(0, 0, 0, 0.3));\n",
              "      fill: #FFFFFF;\n",
              "    }\n",
              "  </style>\n",
              "\n",
              "    <script>\n",
              "      const buttonEl =\n",
              "        document.querySelector('#df-f9ecac52-f782-4347-9e2f-852470e57a59 button.colab-df-convert');\n",
              "      buttonEl.style.display =\n",
              "        google.colab.kernel.accessAllowed ? 'block' : 'none';\n",
              "\n",
              "      async function convertToInteractive(key) {\n",
              "        const element = document.querySelector('#df-f9ecac52-f782-4347-9e2f-852470e57a59');\n",
              "        const dataTable =\n",
              "          await google.colab.kernel.invokeFunction('convertToInteractive',\n",
              "                                                    [key], {});\n",
              "        if (!dataTable) return;\n",
              "\n",
              "        const docLinkHtml = 'Like what you see? Visit the ' +\n",
              "          '<a target=\"_blank\" href=https://colab.research.google.com/notebooks/data_table.ipynb>data table notebook</a>'\n",
              "          + ' to learn more about interactive tables.';\n",
              "        element.innerHTML = '';\n",
              "        dataTable['output_type'] = 'display_data';\n",
              "        await google.colab.output.renderOutput(dataTable, element);\n",
              "        const docLink = document.createElement('div');\n",
              "        docLink.innerHTML = docLinkHtml;\n",
              "        element.appendChild(docLink);\n",
              "      }\n",
              "    </script>\n",
              "  </div>\n",
              "\n",
              "\n",
              "<div id=\"df-921e23f8-a4f8-4f31-99e6-55fdbe236ad3\">\n",
              "  <button class=\"colab-df-quickchart\" onclick=\"quickchart('df-921e23f8-a4f8-4f31-99e6-55fdbe236ad3')\"\n",
              "            title=\"Suggest charts\"\n",
              "            style=\"display:none;\">\n",
              "\n",
              "<svg xmlns=\"http://www.w3.org/2000/svg\" height=\"24px\"viewBox=\"0 0 24 24\"\n",
              "     width=\"24px\">\n",
              "    <g>\n",
              "        <path d=\"M19 3H5c-1.1 0-2 .9-2 2v14c0 1.1.9 2 2 2h14c1.1 0 2-.9 2-2V5c0-1.1-.9-2-2-2zM9 17H7v-7h2v7zm4 0h-2V7h2v10zm4 0h-2v-4h2v4z\"/>\n",
              "    </g>\n",
              "</svg>\n",
              "  </button>\n",
              "\n",
              "<style>\n",
              "  .colab-df-quickchart {\n",
              "      --bg-color: #E8F0FE;\n",
              "      --fill-color: #1967D2;\n",
              "      --hover-bg-color: #E2EBFA;\n",
              "      --hover-fill-color: #174EA6;\n",
              "      --disabled-fill-color: #AAA;\n",
              "      --disabled-bg-color: #DDD;\n",
              "  }\n",
              "\n",
              "  [theme=dark] .colab-df-quickchart {\n",
              "      --bg-color: #3B4455;\n",
              "      --fill-color: #D2E3FC;\n",
              "      --hover-bg-color: #434B5C;\n",
              "      --hover-fill-color: #FFFFFF;\n",
              "      --disabled-bg-color: #3B4455;\n",
              "      --disabled-fill-color: #666;\n",
              "  }\n",
              "\n",
              "  .colab-df-quickchart {\n",
              "    background-color: var(--bg-color);\n",
              "    border: none;\n",
              "    border-radius: 50%;\n",
              "    cursor: pointer;\n",
              "    display: none;\n",
              "    fill: var(--fill-color);\n",
              "    height: 32px;\n",
              "    padding: 0;\n",
              "    width: 32px;\n",
              "  }\n",
              "\n",
              "  .colab-df-quickchart:hover {\n",
              "    background-color: var(--hover-bg-color);\n",
              "    box-shadow: 0 1px 2px rgba(60, 64, 67, 0.3), 0 1px 3px 1px rgba(60, 64, 67, 0.15);\n",
              "    fill: var(--button-hover-fill-color);\n",
              "  }\n",
              "\n",
              "  .colab-df-quickchart-complete:disabled,\n",
              "  .colab-df-quickchart-complete:disabled:hover {\n",
              "    background-color: var(--disabled-bg-color);\n",
              "    fill: var(--disabled-fill-color);\n",
              "    box-shadow: none;\n",
              "  }\n",
              "\n",
              "  .colab-df-spinner {\n",
              "    border: 2px solid var(--fill-color);\n",
              "    border-color: transparent;\n",
              "    border-bottom-color: var(--fill-color);\n",
              "    animation:\n",
              "      spin 1s steps(1) infinite;\n",
              "  }\n",
              "\n",
              "  @keyframes spin {\n",
              "    0% {\n",
              "      border-color: transparent;\n",
              "      border-bottom-color: var(--fill-color);\n",
              "      border-left-color: var(--fill-color);\n",
              "    }\n",
              "    20% {\n",
              "      border-color: transparent;\n",
              "      border-left-color: var(--fill-color);\n",
              "      border-top-color: var(--fill-color);\n",
              "    }\n",
              "    30% {\n",
              "      border-color: transparent;\n",
              "      border-left-color: var(--fill-color);\n",
              "      border-top-color: var(--fill-color);\n",
              "      border-right-color: var(--fill-color);\n",
              "    }\n",
              "    40% {\n",
              "      border-color: transparent;\n",
              "      border-right-color: var(--fill-color);\n",
              "      border-top-color: var(--fill-color);\n",
              "    }\n",
              "    60% {\n",
              "      border-color: transparent;\n",
              "      border-right-color: var(--fill-color);\n",
              "    }\n",
              "    80% {\n",
              "      border-color: transparent;\n",
              "      border-right-color: var(--fill-color);\n",
              "      border-bottom-color: var(--fill-color);\n",
              "    }\n",
              "    90% {\n",
              "      border-color: transparent;\n",
              "      border-bottom-color: var(--fill-color);\n",
              "    }\n",
              "  }\n",
              "</style>\n",
              "\n",
              "  <script>\n",
              "    async function quickchart(key) {\n",
              "      const quickchartButtonEl =\n",
              "        document.querySelector('#' + key + ' button');\n",
              "      quickchartButtonEl.disabled = true;  // To prevent multiple clicks.\n",
              "      quickchartButtonEl.classList.add('colab-df-spinner');\n",
              "      try {\n",
              "        const charts = await google.colab.kernel.invokeFunction(\n",
              "            'suggestCharts', [key], {});\n",
              "      } catch (error) {\n",
              "        console.error('Error during call to suggestCharts:', error);\n",
              "      }\n",
              "      quickchartButtonEl.classList.remove('colab-df-spinner');\n",
              "      quickchartButtonEl.classList.add('colab-df-quickchart-complete');\n",
              "    }\n",
              "    (() => {\n",
              "      let quickchartButtonEl =\n",
              "        document.querySelector('#df-921e23f8-a4f8-4f31-99e6-55fdbe236ad3 button');\n",
              "      quickchartButtonEl.style.display =\n",
              "        google.colab.kernel.accessAllowed ? 'block' : 'none';\n",
              "    })();\n",
              "  </script>\n",
              "</div>\n",
              "\n",
              "  <div id=\"id_e2415e88-19d2-4282-8f0f-9a180d741c52\">\n",
              "    <style>\n",
              "      .colab-df-generate {\n",
              "        background-color: #E8F0FE;\n",
              "        border: none;\n",
              "        border-radius: 50%;\n",
              "        cursor: pointer;\n",
              "        display: none;\n",
              "        fill: #1967D2;\n",
              "        height: 32px;\n",
              "        padding: 0 0 0 0;\n",
              "        width: 32px;\n",
              "      }\n",
              "\n",
              "      .colab-df-generate:hover {\n",
              "        background-color: #E2EBFA;\n",
              "        box-shadow: 0px 1px 2px rgba(60, 64, 67, 0.3), 0px 1px 3px 1px rgba(60, 64, 67, 0.15);\n",
              "        fill: #174EA6;\n",
              "      }\n",
              "\n",
              "      [theme=dark] .colab-df-generate {\n",
              "        background-color: #3B4455;\n",
              "        fill: #D2E3FC;\n",
              "      }\n",
              "\n",
              "      [theme=dark] .colab-df-generate:hover {\n",
              "        background-color: #434B5C;\n",
              "        box-shadow: 0px 1px 3px 1px rgba(0, 0, 0, 0.15);\n",
              "        filter: drop-shadow(0px 1px 2px rgba(0, 0, 0, 0.3));\n",
              "        fill: #FFFFFF;\n",
              "      }\n",
              "    </style>\n",
              "    <button class=\"colab-df-generate\" onclick=\"generateWithVariable('df_pnl')\"\n",
              "            title=\"Generate code using this dataframe.\"\n",
              "            style=\"display:none;\">\n",
              "\n",
              "  <svg xmlns=\"http://www.w3.org/2000/svg\" height=\"24px\"viewBox=\"0 0 24 24\"\n",
              "       width=\"24px\">\n",
              "    <path d=\"M7,19H8.4L18.45,9,17,7.55,7,17.6ZM5,21V16.75L18.45,3.32a2,2,0,0,1,2.83,0l1.4,1.43a1.91,1.91,0,0,1,.58,1.4,1.91,1.91,0,0,1-.58,1.4L9.25,21ZM18.45,9,17,7.55Zm-12,3A5.31,5.31,0,0,0,4.9,8.1,5.31,5.31,0,0,0,1,6.5,5.31,5.31,0,0,0,4.9,4.9,5.31,5.31,0,0,0,6.5,1,5.31,5.31,0,0,0,8.1,4.9,5.31,5.31,0,0,0,12,6.5,5.46,5.46,0,0,0,6.5,12Z\"/>\n",
              "  </svg>\n",
              "    </button>\n",
              "    <script>\n",
              "      (() => {\n",
              "      const buttonEl =\n",
              "        document.querySelector('#id_e2415e88-19d2-4282-8f0f-9a180d741c52 button.colab-df-generate');\n",
              "      buttonEl.style.display =\n",
              "        google.colab.kernel.accessAllowed ? 'block' : 'none';\n",
              "\n",
              "      buttonEl.onclick = () => {\n",
              "        google.colab.notebook.generateWithVariable('df_pnl');\n",
              "      }\n",
              "      })();\n",
              "    </script>\n",
              "  </div>\n",
              "\n",
              "    </div>\n",
              "  </div>\n"
            ],
            "application/vnd.google.colaboratory.intrinsic+json": {
              "type": "dataframe",
              "variable_name": "df_pnl",
              "summary": "{\n  \"name\": \"df_pnl\",\n  \"rows\": 8020,\n  \"fields\": [\n    {\n      \"column\": \"Cluster 0\",\n      \"properties\": {\n        \"dtype\": \"number\",\n        \"std\": 0.0,\n        \"min\": 0.0,\n        \"max\": 0.0,\n        \"num_unique_values\": 1,\n        \"samples\": [\n          0.0\n        ],\n        \"semantic_type\": \"\",\n        \"description\": \"\"\n      }\n    },\n    {\n      \"column\": \"Cluster 1\",\n      \"properties\": {\n        \"dtype\": \"number\",\n        \"std\": 0.00796280134010754,\n        \"min\": -0.023320763444722278,\n        \"max\": 0.0583565006862128,\n        \"num_unique_values\": 6477,\n        \"samples\": [\n          0.009915423790405754\n        ],\n        \"semantic_type\": \"\",\n        \"description\": \"\"\n      }\n    }\n  ]\n}"
            }
          },
          "metadata": {},
          "execution_count": 75
        }
      ],
      "source": [
        "#DataFrame of Pnl hold out\n",
        "df_pnl = pd.DataFrame()\n",
        "for i in range(len(selected_columns_cluster)):\n",
        "  df_pnl[name[i]]=pnl_data[i]\n",
        "df_pnl"
      ]
    }
  ],
  "metadata": {
    "kernelspec": {
      "display_name": "Python 3",
      "language": "python",
      "name": "python3"
    },
    "language_info": {
      "codemirror_mode": {
        "name": "ipython",
        "version": 3
      },
      "file_extension": ".py",
      "mimetype": "text/x-python",
      "name": "python",
      "nbconvert_exporter": "python",
      "pygments_lexer": "ipython3",
      "version": "3.10.1"
    },
    "colab": {
      "provenance": []
    }
  },
  "nbformat": 4,
  "nbformat_minor": 0
}