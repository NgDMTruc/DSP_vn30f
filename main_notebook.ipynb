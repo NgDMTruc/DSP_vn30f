{
 "cells": [
  {
   "cell_type": "markdown",
   "metadata": {},
   "source": [
    "## Install dependencies"
   ]
  },
  {
   "cell_type": "code",
   "execution_count": 72,
   "metadata": {},
   "outputs": [],
   "source": [
    "from datetime import datetime, timedelta, timezone\n",
    "import pandas as pd\n",
    "import numpy as np\n",
    "import requests\n",
    "import os\n",
    "import logging\n",
    "import sys\n",
    "import optuna\n",
    "import joblib\n",
    "import xgboost as xgb"
   ]
  },
  {
   "cell_type": "code",
   "execution_count": 2,
   "metadata": {},
   "outputs": [],
   "source": [
    "from sklearn.model_selection import train_test_split\n",
    "from sklearn.preprocessing import StandardScaler\n",
    "from datetime import datetime, timedelta\n",
    "from ta import add_all_ta_features"
   ]
  },
  {
   "cell_type": "markdown",
   "metadata": {},
   "source": [
    "## Variables"
   ]
  },
  {
   "cell_type": "code",
   "execution_count": null,
   "metadata": {},
   "outputs": [],
   "source": [
    "current_storage = os.path.join(\"d:\", \"data\")\n",
    "vn30f_storage = os.path.join(current_storage, 'vn30f')"
   ]
  },
  {
   "cell_type": "code",
   "execution_count": 57,
   "metadata": {},
   "outputs": [],
   "source": [
    "start_time = 0\n",
    "now_time = 9999999999\n",
    "symbol = 'VN30F1M'\n",
    "rolling_window = 1 # Số phút muốn dự đoán tiếp theo"
   ]
  },
  {
   "cell_type": "code",
   "execution_count": 62,
   "metadata": {},
   "outputs": [],
   "source": [
    "# Add stream handler of stdout to show the messages\n",
    "optuna.logging.get_logger(\"optuna\").addHandler(logging.StreamHandler(sys.stdout))\n",
    "study_name = \"btc1-study\"  # Unique identifier of the study.\n",
    "storage_name = \"sqlite:///{}.db\".format(study_name)"
   ]
  },
  {
   "cell_type": "markdown",
   "metadata": {},
   "source": [
    "## Formulas"
   ]
  },
  {
   "cell_type": "code",
   "execution_count": 5,
   "metadata": {},
   "outputs": [],
   "source": [
    "def choose_position(roi, trade_threshold = 0.01):\n",
    "    pos =0\n",
    "    # Predict position base on change in future\n",
    "    if roi > trade_threshold:\n",
    "        pos = 1\n",
    "    elif roi < -trade_threshold:\n",
    "        pos = -1\n",
    "    else:\n",
    "        pos = 0\n",
    "\n",
    "    return pos"
   ]
  },
  {
   "cell_type": "code",
   "execution_count": 6,
   "metadata": {},
   "outputs": [],
   "source": [
    "def backtest_position_ps(position, price, percentage, periods):\n",
    "    # Shift positions to align with future price changes and handle NaN by filling with 0\n",
    "    pos = pd.Series(position, index=pd.Series(price).index).shift(1).fillna(0)\n",
    "    pos = pd.Series(pos).rolling(periods).sum() #pos for 10 hour predict\n",
    "\n",
    "    price_array = pd.Series(price).shift(1).fillna(0)\n",
    "\n",
    "    pos_diff = pos.diff()\n",
    "    fee = pos_diff*price_array*0.05*0.01\n",
    "\n",
    "    # Calculate price changes over the given periods\n",
    "    ch = pd.Series(price) - price_array\n",
    "\n",
    "    # Calculate total PnL\n",
    "    total_pnl = pos*ch - fee\n",
    "    return total_pnl"
   ]
  },
  {
   "cell_type": "code",
   "execution_count": 7,
   "metadata": {},
   "outputs": [],
   "source": [
    "def calculate_sharpe_ratio(pnl):\n",
    "    pnl = np.diff(pnl)\n",
    "    std = np.std(pnl) if np.std(pnl) != 0 else 0.001\n",
    "    sharpe = np.mean(pnl)/std*np.sqrt(252)\n",
    "    return sharpe"
   ]
  },
  {
   "cell_type": "code",
   "execution_count": 8,
   "metadata": {},
   "outputs": [],
   "source": [
    "def sharpe_for_vn30f(y_pred, y_price, trade_threshold, fee_perc, periods):\n",
    "\n",
    "    # Predict position base on change in future\n",
    "    pos = [choose_position(roi, trade_threshold) for roi in y_pred]\n",
    "    pos = np.array(pos)\n",
    "\n",
    "    # Calculate PNL\n",
    "    pnl = backtest_position_ps(pos, y_price, fee_perc, periods)\n",
    "    pnl = np.cumsum(pnl)\n",
    "\n",
    "    # Standardalize PNL to date\n",
    "    daily_pnl = [pnl.iloc[i] for i in range(0, len(pnl), 24)]\n",
    "    daily_pnl = pd.Series(daily_pnl).fillna(0)\n",
    "\n",
    "    # Calculate Sharpe\n",
    "    sharpe = calculate_sharpe_ratio(daily_pnl)\n",
    "\n",
    "    return pos, pnl, daily_pnl, sharpe"
   ]
  },
  {
   "cell_type": "code",
   "execution_count": 9,
   "metadata": {},
   "outputs": [],
   "source": [
    "def calculate_hitrate(pos_predict, pos_true):\n",
    "    if len(pos_predict) != len(pos_true):\n",
    "        raise ValueError(\"Độ dài của hai mảng không khớp\")\n",
    "\n",
    "    # Tính số lượng dự đoán đúng (các phần tử tương ứng giống nhau)\n",
    "    correct_predictions = np.sum(pos_predict == pos_true)\n",
    "\n",
    "    # Tính tỷ lệ hit rate\n",
    "    hit_rate_value = correct_predictions / len(pos_predict)\n",
    "\n",
    "    return hit_rate_value"
   ]
  },
  {
   "cell_type": "markdown",
   "metadata": {},
   "source": [
    "# Function for data"
   ]
  },
  {
   "cell_type": "code",
   "execution_count": 10,
   "metadata": {},
   "outputs": [],
   "source": [
    "def scale_data(data):\n",
    "    scaler = StandardScaler()\n",
    "    scaler.fit(data)\n",
    "    data=pd.DataFrame(scaler.transform(data), index=data.index, columns=data.columns)\n",
    "\n",
    "    return data"
   ]
  },
  {
   "cell_type": "code",
   "execution_count": 65,
   "metadata": {},
   "outputs": [],
   "source": [
    "def split_data(data):\n",
    "    \"\"\"\n",
    "    Hàm này chia dữ liệu thành 2 phần: tập huấn luyện và tập hold out.\n",
    "\n",
    "    Args:\n",
    "    data (pandas.DataFrame): DataFrame chứa dữ liệu cần chia.\n",
    "\n",
    "    Returns:\n",
    "    pandas.DataFrame: DataFrame chứa dữ liệu tập huấn luyện.\n",
    "    pandas.DataFrame: DataFrame chứa dữ liệu tập giữ lại.\n",
    "    \"\"\"\n",
    "    # Chia dữ liệu thành 3 phần\n",
    "    new_part = np.array_split(data, 3)\n",
    "\n",
    "    # Access each part individually\n",
    "    hold_out = new_part[2]\n",
    "    train_data = pd.concat([new_part[0], new_part[1]], axis=0)\n",
    "\n",
    "    return train_data, hold_out\n",
    "\n",
    "def split_optuna_data(data):\n",
    "    \"\"\"\n",
    "    Hàm này chia dữ liệu thành các tập train và test để sử dụng trong quá trình tối ưu hóa bằng Optuna.\n",
    "\n",
    "    Args:\n",
    "    data (pandas.DataFrame): DataFrame chứa dữ liệu cần chia.\n",
    "\n",
    "    Returns:\n",
    "    pandas.DataFrame: DataFrame chứa dữ liệu train (đã được chuẩn hóa).\n",
    "    pandas.DataFrame: DataFrame chứa dữ liệu test (đã được chuẩn hóa).\n",
    "    pandas.Series: Series chứa nhãn tương ứng với dữ liệu train.\n",
    "    pandas.Series: Series chứa nhãn tương ứng với dữ liệu test.\n",
    "    \"\"\"\n",
    "    # Chia dữ liệu thành tập train và tập hold out\n",
    "    train_data, _ = split_data(data)\n",
    "    \n",
    "    # Loại bỏ các cột không cần thiết\n",
    "    if 'Open' in train_data.columns:\n",
    "        optuna_data = train_data.drop(['Open','High','Low','Close','Volume', 'Return', 'Date', 'time'], axis=1)\n",
    "    else:\n",
    "        optuna_data = train_data.drop(['Close', 'Return', 'Date', 'time'], axis=1)\n",
    "    \n",
    "    # Chuẩn hóa dữ liệu\n",
    "    optuna_data = scale_data(optuna_data)\n",
    "    \n",
    "    # Chia dữ liệu thành tập train và tập test\n",
    "    X_train, X_valid, y_train, y_valid = train_test_split(optuna_data, train_data['Return'], test_size=0.5, shuffle=False)\n",
    "\n",
    "    return X_train, X_valid, y_train, y_valid, train_data"
   ]
  },
  {
   "cell_type": "markdown",
   "metadata": {},
   "source": [
    "## Get data"
   ]
  },
  {
   "cell_type": "code",
   "execution_count": 11,
   "metadata": {},
   "outputs": [],
   "source": [
    "def get_vn30f(start_time, now_time, symbol):\n",
    "    def vn30f():\n",
    "            return requests.get(f\"https://services.entrade.com.vn/chart-api/chart?from={start_time}&resolution=1&symbol={symbol}&to={now_time}\").json()\n",
    "    vn30fm = pd.DataFrame(vn30f()).iloc[:,:6]\n",
    "    vn30fm['t'] = vn30fm['t'].astype(int).apply(lambda x: datetime.utcfromtimestamp(x) + timedelta(hours = 7))\n",
    "    vn30fm.columns = ['Date','Open','High','Low','Close','Volume']\n",
    "    ohlc_dict = {                                                                                                             \n",
    "        'Open': 'first',                                                                                                    \n",
    "        'High': 'max',                                                                                                       \n",
    "        'Low': 'min',                                                         \n",
    "        'Close': 'last',                                                                                                    \n",
    "        'Volume': 'sum',}\n",
    "    vn30fm = pd.DataFrame(vn30f()).iloc[:,:6]\n",
    "    vn30fm['t'] = vn30fm['t'].astype(int).apply(lambda x: datetime.utcfromtimestamp(x) + timedelta(hours = 7))\n",
    "    vn30fm.columns = ['Date','Open','High','Low','Close','Volume']\n",
    "    dt_object = datetime.utcfromtimestamp(start_time) + timedelta(hours = 7)\n",
    "    now_object = datetime.utcfromtimestamp(now_time) + timedelta(hours = 7)\n",
    "\n",
    "    print(f'===> Data {symbol} from {dt_object} to {now_object} has been appended ')\n",
    "    \n",
    "    return vn30fm"
   ]
  },
  {
   "cell_type": "code",
   "execution_count": 12,
   "metadata": {},
   "outputs": [
    {
     "name": "stdout",
     "output_type": "stream",
     "text": [
      "===> Data VN30F1M from 1970-01-01 07:00:00 to 2286-11-21 00:46:39 has been appended \n"
     ]
    }
   ],
   "source": [
    "df = get_vn30f(start_time, now_time, symbol)"
   ]
  },
  {
   "cell_type": "code",
   "execution_count": 50,
   "metadata": {},
   "outputs": [],
   "source": [
    "data = df.copy()"
   ]
  },
  {
   "cell_type": "markdown",
   "metadata": {},
   "source": [
    "## Preprocess"
   ]
  },
  {
   "cell_type": "markdown",
   "metadata": {},
   "source": [
    "Thêm phần xử lý outlier ở đây"
   ]
  },
  {
   "cell_type": "code",
   "execution_count": 51,
   "metadata": {},
   "outputs": [],
   "source": [
    "def process_data(data):\n",
    "    data.set_index('Date', inplace =True)\n",
    "    data.columns = ['Open','High','Low','Close','Volume']\n",
    "\n",
    "    data['Date'] = [str(i)[:10] for i in data.index]\n",
    "    data['time'] = [str(i)[11:] for i in data.index]\n",
    "\n",
    "    data = data[~data.index.duplicated(keep='first')] # Handling duplicate\n",
    "    data_model = data.pivot(index = 'Date', columns = 'time', values = ['Open','High','Low','Close','Volume']).ffill(axis = 1).stack().reset_index() # Handling missing values\n",
    "    # data_model.columns = ['Date','time','Close']\n",
    "\n",
    "    return data_model"
   ]
  },
  {
   "cell_type": "code",
   "execution_count": 52,
   "metadata": {},
   "outputs": [],
   "source": [
    "data = process_data(data)"
   ]
  },
  {
   "cell_type": "code",
   "execution_count": 53,
   "metadata": {},
   "outputs": [
    {
     "data": {
      "text/html": [
       "<div>\n",
       "<style scoped>\n",
       "    .dataframe tbody tr th:only-of-type {\n",
       "        vertical-align: middle;\n",
       "    }\n",
       "\n",
       "    .dataframe tbody tr th {\n",
       "        vertical-align: top;\n",
       "    }\n",
       "\n",
       "    .dataframe thead th {\n",
       "        text-align: right;\n",
       "    }\n",
       "</style>\n",
       "<table border=\"1\" class=\"dataframe\">\n",
       "  <thead>\n",
       "    <tr style=\"text-align: right;\">\n",
       "      <th></th>\n",
       "      <th>Date</th>\n",
       "      <th>time</th>\n",
       "      <th>Open</th>\n",
       "      <th>High</th>\n",
       "      <th>Low</th>\n",
       "      <th>Close</th>\n",
       "      <th>Volume</th>\n",
       "    </tr>\n",
       "  </thead>\n",
       "  <tbody>\n",
       "    <tr>\n",
       "      <th>0</th>\n",
       "      <td>2018-08-13</td>\n",
       "      <td>09:00:00</td>\n",
       "      <td>943.5</td>\n",
       "      <td>943.5</td>\n",
       "      <td>942.9</td>\n",
       "      <td>942.9</td>\n",
       "      <td>975.0</td>\n",
       "    </tr>\n",
       "    <tr>\n",
       "      <th>1</th>\n",
       "      <td>2018-08-13</td>\n",
       "      <td>09:01:00</td>\n",
       "      <td>943.0</td>\n",
       "      <td>943.1</td>\n",
       "      <td>942.9</td>\n",
       "      <td>943.1</td>\n",
       "      <td>220.0</td>\n",
       "    </tr>\n",
       "    <tr>\n",
       "      <th>2</th>\n",
       "      <td>2018-08-13</td>\n",
       "      <td>09:02:00</td>\n",
       "      <td>943.0</td>\n",
       "      <td>943.6</td>\n",
       "      <td>943.0</td>\n",
       "      <td>943.5</td>\n",
       "      <td>121.0</td>\n",
       "    </tr>\n",
       "    <tr>\n",
       "      <th>3</th>\n",
       "      <td>2018-08-13</td>\n",
       "      <td>09:03:00</td>\n",
       "      <td>943.3</td>\n",
       "      <td>943.4</td>\n",
       "      <td>943.3</td>\n",
       "      <td>943.4</td>\n",
       "      <td>135.0</td>\n",
       "    </tr>\n",
       "    <tr>\n",
       "      <th>4</th>\n",
       "      <td>2018-08-13</td>\n",
       "      <td>09:04:00</td>\n",
       "      <td>943.2</td>\n",
       "      <td>943.2</td>\n",
       "      <td>943.0</td>\n",
       "      <td>943.1</td>\n",
       "      <td>361.0</td>\n",
       "    </tr>\n",
       "    <tr>\n",
       "      <th>...</th>\n",
       "      <td>...</td>\n",
       "      <td>...</td>\n",
       "      <td>...</td>\n",
       "      <td>...</td>\n",
       "      <td>...</td>\n",
       "      <td>...</td>\n",
       "      <td>...</td>\n",
       "    </tr>\n",
       "    <tr>\n",
       "      <th>321831</th>\n",
       "      <td>2024-05-31</td>\n",
       "      <td>14:27:00</td>\n",
       "      <td>1269.4</td>\n",
       "      <td>1269.7</td>\n",
       "      <td>1268.6</td>\n",
       "      <td>1268.8</td>\n",
       "      <td>1707.0</td>\n",
       "    </tr>\n",
       "    <tr>\n",
       "      <th>321832</th>\n",
       "      <td>2024-05-31</td>\n",
       "      <td>14:28:00</td>\n",
       "      <td>1268.7</td>\n",
       "      <td>1269.4</td>\n",
       "      <td>1268.7</td>\n",
       "      <td>1269.4</td>\n",
       "      <td>1805.0</td>\n",
       "    </tr>\n",
       "    <tr>\n",
       "      <th>321833</th>\n",
       "      <td>2024-05-31</td>\n",
       "      <td>14:29:00</td>\n",
       "      <td>1269.2</td>\n",
       "      <td>1269.4</td>\n",
       "      <td>1268.3</td>\n",
       "      <td>1268.3</td>\n",
       "      <td>2103.0</td>\n",
       "    </tr>\n",
       "    <tr>\n",
       "      <th>321834</th>\n",
       "      <td>2024-05-31</td>\n",
       "      <td>14:30:00</td>\n",
       "      <td>1268.2</td>\n",
       "      <td>1268.6</td>\n",
       "      <td>1268.2</td>\n",
       "      <td>1268.6</td>\n",
       "      <td>224.0</td>\n",
       "    </tr>\n",
       "    <tr>\n",
       "      <th>321835</th>\n",
       "      <td>2024-05-31</td>\n",
       "      <td>14:45:00</td>\n",
       "      <td>1270.0</td>\n",
       "      <td>1270.0</td>\n",
       "      <td>1270.0</td>\n",
       "      <td>1270.0</td>\n",
       "      <td>7359.0</td>\n",
       "    </tr>\n",
       "  </tbody>\n",
       "</table>\n",
       "<p>321836 rows × 7 columns</p>\n",
       "</div>"
      ],
      "text/plain": [
       "              Date      time    Open    High     Low   Close  Volume\n",
       "0       2018-08-13  09:00:00   943.5   943.5   942.9   942.9   975.0\n",
       "1       2018-08-13  09:01:00   943.0   943.1   942.9   943.1   220.0\n",
       "2       2018-08-13  09:02:00   943.0   943.6   943.0   943.5   121.0\n",
       "3       2018-08-13  09:03:00   943.3   943.4   943.3   943.4   135.0\n",
       "4       2018-08-13  09:04:00   943.2   943.2   943.0   943.1   361.0\n",
       "...            ...       ...     ...     ...     ...     ...     ...\n",
       "321831  2024-05-31  14:27:00  1269.4  1269.7  1268.6  1268.8  1707.0\n",
       "321832  2024-05-31  14:28:00  1268.7  1269.4  1268.7  1269.4  1805.0\n",
       "321833  2024-05-31  14:29:00  1269.2  1269.4  1268.3  1268.3  2103.0\n",
       "321834  2024-05-31  14:30:00  1268.2  1268.6  1268.2  1268.6   224.0\n",
       "321835  2024-05-31  14:45:00  1270.0  1270.0  1270.0  1270.0  7359.0\n",
       "\n",
       "[321836 rows x 7 columns]"
      ]
     },
     "execution_count": 53,
     "metadata": {},
     "output_type": "execute_result"
    }
   ],
   "source": [
    "data"
   ]
  },
  {
   "cell_type": "markdown",
   "metadata": {},
   "source": [
    "## Create features"
   ]
  },
  {
   "cell_type": "code",
   "execution_count": 54,
   "metadata": {},
   "outputs": [],
   "source": [
    "def generate_features(df, shift=1):\n",
    "    \"\"\"\n",
    "    Hàm này tạo ra các features mới từ dữ liệu cổ phiếu.\n",
    "\n",
    "    Args:\n",
    "    df (pandas.DataFrame): DataFrame chứa dữ liệu cần tạo features, có các cột 'open', 'high', 'low', 'close' và 'volume'.\n",
    "\n",
    "    Returns:\n",
    "    pandas.DataFrame: DataFrame đã được mở rộng với các features mới.\n",
    "    \"\"\"\n",
    "\n",
    "    # Thêm tất cả các đặc trưng kỹ thuật từ thư viện TA-Lib\n",
    "    df_shift = df.shift(shift)\n",
    "    df_shift = add_all_ta_features(df_shift, open=\"Open\", high=\"High\", low=\"Low\", close=\"Close\", volume=\"Volume\")\n",
    "\n",
    "    # Drop the original OHLCV columns from the shifted DataFrame\n",
    "    df_shift = df_shift.drop(columns=['Date','time', 'Open','High','Low','Close','Volume'])\n",
    "\n",
    "    df = pd.concat([df, df_shift], axis=1)\n",
    "\n",
    "    ### Ví dụ các features thêm tay\n",
    "    # Tính phần trăm thay đổi của giá đóng cửa trong 5 phút\n",
    "    df['Trend_5min'] = df['Close'].shift(shift).pct_change(periods=5)\n",
    "\n",
    "    # Tính độ lệch chuẩn của giá đóng cửa trong 30 phút\n",
    "    df['Std_Rolling_30min'] = df['Close'].shift(shift).rolling(window=30, min_periods=1).std()\n",
    "\n",
    "    # Tính độ lệch của giá đóng cửa so với trung bình động 30 phút\n",
    "    ma_30min = df['Close'].shift(shift).rolling(window=30, min_periods=1).mean()\n",
    "    df['Close_Minus_MA_30min'] = df['Close'].shift(shift) - ma_30min\n",
    "\n",
    "    # Tính trung bình động 10 phút của giá đóng cửa\n",
    "    df['SMA_10'] = df['Close'].shift(shift).rolling(window=10, min_periods=1).mean()\n",
    "\n",
    "    # Identify numeric columns\n",
    "    numeric_cols = df.select_dtypes(include=[np.number]).columns\n",
    "\n",
    "    # Replace infinite values with NaN in numeric columns\n",
    "    df[numeric_cols] = df[numeric_cols].replace([np.inf, -np.inf], np.nan)\n",
    "\n",
    "    # Điền các giá trị NaN với 0\n",
    "    df = df.fillna(0)\n",
    "\n",
    "    return df"
   ]
  },
  {
   "cell_type": "code",
   "execution_count": 55,
   "metadata": {},
   "outputs": [],
   "source": [
    "data  = generate_features(data)"
   ]
  },
  {
   "cell_type": "markdown",
   "metadata": {},
   "source": [
    "Thêm các feature khác, ví dụ giá vàng (xem xét phù hợp với thời gian trong data)"
   ]
  },
  {
   "cell_type": "markdown",
   "metadata": {},
   "source": [
    "# Add Predict Features"
   ]
  },
  {
   "cell_type": "code",
   "execution_count": 61,
   "metadata": {},
   "outputs": [
    {
     "data": {
      "text/html": [
       "<div>\n",
       "<style scoped>\n",
       "    .dataframe tbody tr th:only-of-type {\n",
       "        vertical-align: middle;\n",
       "    }\n",
       "\n",
       "    .dataframe tbody tr th {\n",
       "        vertical-align: top;\n",
       "    }\n",
       "\n",
       "    .dataframe thead th {\n",
       "        text-align: right;\n",
       "    }\n",
       "</style>\n",
       "<table border=\"1\" class=\"dataframe\">\n",
       "  <thead>\n",
       "    <tr style=\"text-align: right;\">\n",
       "      <th></th>\n",
       "      <th>Date</th>\n",
       "      <th>time</th>\n",
       "      <th>Open</th>\n",
       "      <th>High</th>\n",
       "      <th>Low</th>\n",
       "      <th>Close</th>\n",
       "      <th>Volume</th>\n",
       "      <th>volume_adi</th>\n",
       "      <th>volume_obv</th>\n",
       "      <th>volume_cmf</th>\n",
       "      <th>...</th>\n",
       "      <th>momentum_pvo_hist</th>\n",
       "      <th>momentum_kama</th>\n",
       "      <th>others_dr</th>\n",
       "      <th>others_dlr</th>\n",
       "      <th>others_cr</th>\n",
       "      <th>Trend_5min</th>\n",
       "      <th>Std_Rolling_30min</th>\n",
       "      <th>Close_Minus_MA_30min</th>\n",
       "      <th>SMA_10</th>\n",
       "      <th>Return</th>\n",
       "    </tr>\n",
       "  </thead>\n",
       "  <tbody>\n",
       "    <tr>\n",
       "      <th>1</th>\n",
       "      <td>2018-08-13</td>\n",
       "      <td>09:01:00</td>\n",
       "      <td>943.0</td>\n",
       "      <td>943.1</td>\n",
       "      <td>942.9</td>\n",
       "      <td>943.1</td>\n",
       "      <td>220.0</td>\n",
       "      <td>-975.000000</td>\n",
       "      <td>975.0</td>\n",
       "      <td>0.000000</td>\n",
       "      <td>...</td>\n",
       "      <td>0.000000</td>\n",
       "      <td>0.000000</td>\n",
       "      <td>0.000000</td>\n",
       "      <td>0.000000</td>\n",
       "      <td>0.0</td>\n",
       "      <td>0.000000</td>\n",
       "      <td>0.000000</td>\n",
       "      <td>0.000000</td>\n",
       "      <td>942.900000</td>\n",
       "      <td>0.000424</td>\n",
       "    </tr>\n",
       "    <tr>\n",
       "      <th>2</th>\n",
       "      <td>2018-08-13</td>\n",
       "      <td>09:02:00</td>\n",
       "      <td>943.0</td>\n",
       "      <td>943.6</td>\n",
       "      <td>943.0</td>\n",
       "      <td>943.5</td>\n",
       "      <td>121.0</td>\n",
       "      <td>-755.000000</td>\n",
       "      <td>1195.0</td>\n",
       "      <td>0.000000</td>\n",
       "      <td>...</td>\n",
       "      <td>0.000000</td>\n",
       "      <td>0.000000</td>\n",
       "      <td>0.021211</td>\n",
       "      <td>0.021209</td>\n",
       "      <td>0.0</td>\n",
       "      <td>0.000000</td>\n",
       "      <td>0.141421</td>\n",
       "      <td>0.100000</td>\n",
       "      <td>943.000000</td>\n",
       "      <td>-0.000106</td>\n",
       "    </tr>\n",
       "    <tr>\n",
       "      <th>3</th>\n",
       "      <td>2018-08-13</td>\n",
       "      <td>09:03:00</td>\n",
       "      <td>943.3</td>\n",
       "      <td>943.4</td>\n",
       "      <td>943.3</td>\n",
       "      <td>943.4</td>\n",
       "      <td>135.0</td>\n",
       "      <td>-674.333333</td>\n",
       "      <td>1316.0</td>\n",
       "      <td>0.000000</td>\n",
       "      <td>...</td>\n",
       "      <td>0.000000</td>\n",
       "      <td>0.000000</td>\n",
       "      <td>0.042413</td>\n",
       "      <td>0.042404</td>\n",
       "      <td>0.0</td>\n",
       "      <td>0.000000</td>\n",
       "      <td>0.305505</td>\n",
       "      <td>0.333333</td>\n",
       "      <td>943.166667</td>\n",
       "      <td>-0.000318</td>\n",
       "    </tr>\n",
       "    <tr>\n",
       "      <th>4</th>\n",
       "      <td>2018-08-13</td>\n",
       "      <td>09:04:00</td>\n",
       "      <td>943.2</td>\n",
       "      <td>943.2</td>\n",
       "      <td>943.0</td>\n",
       "      <td>943.1</td>\n",
       "      <td>361.0</td>\n",
       "      <td>-539.333333</td>\n",
       "      <td>1181.0</td>\n",
       "      <td>0.000000</td>\n",
       "      <td>...</td>\n",
       "      <td>0.000000</td>\n",
       "      <td>0.000000</td>\n",
       "      <td>-0.010599</td>\n",
       "      <td>-0.010599</td>\n",
       "      <td>0.0</td>\n",
       "      <td>0.000000</td>\n",
       "      <td>0.275379</td>\n",
       "      <td>0.175000</td>\n",
       "      <td>943.225000</td>\n",
       "      <td>-0.000106</td>\n",
       "    </tr>\n",
       "    <tr>\n",
       "      <th>5</th>\n",
       "      <td>2018-08-13</td>\n",
       "      <td>09:05:00</td>\n",
       "      <td>943.1</td>\n",
       "      <td>943.1</td>\n",
       "      <td>942.9</td>\n",
       "      <td>943.0</td>\n",
       "      <td>343.0</td>\n",
       "      <td>-539.333333</td>\n",
       "      <td>820.0</td>\n",
       "      <td>0.000000</td>\n",
       "      <td>...</td>\n",
       "      <td>0.000000</td>\n",
       "      <td>0.000000</td>\n",
       "      <td>-0.031800</td>\n",
       "      <td>-0.031805</td>\n",
       "      <td>0.0</td>\n",
       "      <td>0.000000</td>\n",
       "      <td>0.244949</td>\n",
       "      <td>-0.100000</td>\n",
       "      <td>943.200000</td>\n",
       "      <td>0.000106</td>\n",
       "    </tr>\n",
       "    <tr>\n",
       "      <th>...</th>\n",
       "      <td>...</td>\n",
       "      <td>...</td>\n",
       "      <td>...</td>\n",
       "      <td>...</td>\n",
       "      <td>...</td>\n",
       "      <td>...</td>\n",
       "      <td>...</td>\n",
       "      <td>...</td>\n",
       "      <td>...</td>\n",
       "      <td>...</td>\n",
       "      <td>...</td>\n",
       "      <td>...</td>\n",
       "      <td>...</td>\n",
       "      <td>...</td>\n",
       "      <td>...</td>\n",
       "      <td>...</td>\n",
       "      <td>...</td>\n",
       "      <td>...</td>\n",
       "      <td>...</td>\n",
       "      <td>...</td>\n",
       "      <td>...</td>\n",
       "    </tr>\n",
       "    <tr>\n",
       "      <th>321831</th>\n",
       "      <td>2024-05-31</td>\n",
       "      <td>14:27:00</td>\n",
       "      <td>1269.4</td>\n",
       "      <td>1269.7</td>\n",
       "      <td>1268.6</td>\n",
       "      <td>1268.8</td>\n",
       "      <td>1707.0</td>\n",
       "      <td>-265438.223300</td>\n",
       "      <td>16175491.4</td>\n",
       "      <td>0.046359</td>\n",
       "      <td>...</td>\n",
       "      <td>-11.227438</td>\n",
       "      <td>1269.377569</td>\n",
       "      <td>-0.062977</td>\n",
       "      <td>-0.062997</td>\n",
       "      <td>0.0</td>\n",
       "      <td>-0.000158</td>\n",
       "      <td>1.687357</td>\n",
       "      <td>-0.620000</td>\n",
       "      <td>1270.160000</td>\n",
       "      <td>0.000473</td>\n",
       "    </tr>\n",
       "    <tr>\n",
       "      <th>321832</th>\n",
       "      <td>2024-05-31</td>\n",
       "      <td>14:28:00</td>\n",
       "      <td>1268.7</td>\n",
       "      <td>1269.4</td>\n",
       "      <td>1268.7</td>\n",
       "      <td>1269.4</td>\n",
       "      <td>1805.0</td>\n",
       "      <td>-266524.496028</td>\n",
       "      <td>16173784.4</td>\n",
       "      <td>0.120624</td>\n",
       "      <td>...</td>\n",
       "      <td>-6.297804</td>\n",
       "      <td>1269.338726</td>\n",
       "      <td>-0.055140</td>\n",
       "      <td>-0.055155</td>\n",
       "      <td>0.0</td>\n",
       "      <td>-0.001102</td>\n",
       "      <td>1.680093</td>\n",
       "      <td>-1.226667</td>\n",
       "      <td>1269.940000</td>\n",
       "      <td>-0.000867</td>\n",
       "    </tr>\n",
       "    <tr>\n",
       "      <th>321833</th>\n",
       "      <td>2024-05-31</td>\n",
       "      <td>14:29:00</td>\n",
       "      <td>1269.2</td>\n",
       "      <td>1269.4</td>\n",
       "      <td>1268.3</td>\n",
       "      <td>1268.3</td>\n",
       "      <td>2103.0</td>\n",
       "      <td>-264719.496028</td>\n",
       "      <td>16175589.4</td>\n",
       "      <td>0.130776</td>\n",
       "      <td>...</td>\n",
       "      <td>-2.473416</td>\n",
       "      <td>1269.340451</td>\n",
       "      <td>0.047289</td>\n",
       "      <td>0.047278</td>\n",
       "      <td>0.0</td>\n",
       "      <td>-0.000787</td>\n",
       "      <td>1.656905</td>\n",
       "      <td>-0.553333</td>\n",
       "      <td>1269.820000</td>\n",
       "      <td>0.000237</td>\n",
       "    </tr>\n",
       "    <tr>\n",
       "      <th>321834</th>\n",
       "      <td>2024-05-31</td>\n",
       "      <td>14:30:00</td>\n",
       "      <td>1268.2</td>\n",
       "      <td>1268.6</td>\n",
       "      <td>1268.2</td>\n",
       "      <td>1268.6</td>\n",
       "      <td>224.0</td>\n",
       "      <td>-266822.496028</td>\n",
       "      <td>16173486.4</td>\n",
       "      <td>0.019718</td>\n",
       "      <td>...</td>\n",
       "      <td>1.278459</td>\n",
       "      <td>1269.311175</td>\n",
       "      <td>-0.086655</td>\n",
       "      <td>-0.086693</td>\n",
       "      <td>0.0</td>\n",
       "      <td>-0.001181</td>\n",
       "      <td>1.649577</td>\n",
       "      <td>-1.540000</td>\n",
       "      <td>1269.700000</td>\n",
       "      <td>0.001104</td>\n",
       "    </tr>\n",
       "    <tr>\n",
       "      <th>321835</th>\n",
       "      <td>2024-05-31</td>\n",
       "      <td>14:45:00</td>\n",
       "      <td>1270.0</td>\n",
       "      <td>1270.0</td>\n",
       "      <td>1270.0</td>\n",
       "      <td>1270.0</td>\n",
       "      <td>7359.0</td>\n",
       "      <td>-266598.496028</td>\n",
       "      <td>16173710.4</td>\n",
       "      <td>-0.012527</td>\n",
       "      <td>...</td>\n",
       "      <td>-4.786931</td>\n",
       "      <td>1269.263558</td>\n",
       "      <td>0.023654</td>\n",
       "      <td>0.023651</td>\n",
       "      <td>0.0</td>\n",
       "      <td>-0.001338</td>\n",
       "      <td>1.536394</td>\n",
       "      <td>-1.086667</td>\n",
       "      <td>1269.500000</td>\n",
       "      <td>0.000000</td>\n",
       "    </tr>\n",
       "  </tbody>\n",
       "</table>\n",
       "<p>321835 rows × 98 columns</p>\n",
       "</div>"
      ],
      "text/plain": [
       "              Date      time    Open    High     Low   Close  Volume  \\\n",
       "1       2018-08-13  09:01:00   943.0   943.1   942.9   943.1   220.0   \n",
       "2       2018-08-13  09:02:00   943.0   943.6   943.0   943.5   121.0   \n",
       "3       2018-08-13  09:03:00   943.3   943.4   943.3   943.4   135.0   \n",
       "4       2018-08-13  09:04:00   943.2   943.2   943.0   943.1   361.0   \n",
       "5       2018-08-13  09:05:00   943.1   943.1   942.9   943.0   343.0   \n",
       "...            ...       ...     ...     ...     ...     ...     ...   \n",
       "321831  2024-05-31  14:27:00  1269.4  1269.7  1268.6  1268.8  1707.0   \n",
       "321832  2024-05-31  14:28:00  1268.7  1269.4  1268.7  1269.4  1805.0   \n",
       "321833  2024-05-31  14:29:00  1269.2  1269.4  1268.3  1268.3  2103.0   \n",
       "321834  2024-05-31  14:30:00  1268.2  1268.6  1268.2  1268.6   224.0   \n",
       "321835  2024-05-31  14:45:00  1270.0  1270.0  1270.0  1270.0  7359.0   \n",
       "\n",
       "           volume_adi  volume_obv  volume_cmf  ...  momentum_pvo_hist  \\\n",
       "1         -975.000000       975.0    0.000000  ...           0.000000   \n",
       "2         -755.000000      1195.0    0.000000  ...           0.000000   \n",
       "3         -674.333333      1316.0    0.000000  ...           0.000000   \n",
       "4         -539.333333      1181.0    0.000000  ...           0.000000   \n",
       "5         -539.333333       820.0    0.000000  ...           0.000000   \n",
       "...               ...         ...         ...  ...                ...   \n",
       "321831 -265438.223300  16175491.4    0.046359  ...         -11.227438   \n",
       "321832 -266524.496028  16173784.4    0.120624  ...          -6.297804   \n",
       "321833 -264719.496028  16175589.4    0.130776  ...          -2.473416   \n",
       "321834 -266822.496028  16173486.4    0.019718  ...           1.278459   \n",
       "321835 -266598.496028  16173710.4   -0.012527  ...          -4.786931   \n",
       "\n",
       "        momentum_kama  others_dr  others_dlr  others_cr  Trend_5min  \\\n",
       "1            0.000000   0.000000    0.000000        0.0    0.000000   \n",
       "2            0.000000   0.021211    0.021209        0.0    0.000000   \n",
       "3            0.000000   0.042413    0.042404        0.0    0.000000   \n",
       "4            0.000000  -0.010599   -0.010599        0.0    0.000000   \n",
       "5            0.000000  -0.031800   -0.031805        0.0    0.000000   \n",
       "...               ...        ...         ...        ...         ...   \n",
       "321831    1269.377569  -0.062977   -0.062997        0.0   -0.000158   \n",
       "321832    1269.338726  -0.055140   -0.055155        0.0   -0.001102   \n",
       "321833    1269.340451   0.047289    0.047278        0.0   -0.000787   \n",
       "321834    1269.311175  -0.086655   -0.086693        0.0   -0.001181   \n",
       "321835    1269.263558   0.023654    0.023651        0.0   -0.001338   \n",
       "\n",
       "        Std_Rolling_30min  Close_Minus_MA_30min       SMA_10    Return  \n",
       "1                0.000000              0.000000   942.900000  0.000424  \n",
       "2                0.141421              0.100000   943.000000 -0.000106  \n",
       "3                0.305505              0.333333   943.166667 -0.000318  \n",
       "4                0.275379              0.175000   943.225000 -0.000106  \n",
       "5                0.244949             -0.100000   943.200000  0.000106  \n",
       "...                   ...                   ...          ...       ...  \n",
       "321831           1.687357             -0.620000  1270.160000  0.000473  \n",
       "321832           1.680093             -1.226667  1269.940000 -0.000867  \n",
       "321833           1.656905             -0.553333  1269.820000  0.000237  \n",
       "321834           1.649577             -1.540000  1269.700000  0.001104  \n",
       "321835           1.536394             -1.086667  1269.500000  0.000000  \n",
       "\n",
       "[321835 rows x 98 columns]"
      ]
     },
     "execution_count": 61,
     "metadata": {},
     "output_type": "execute_result"
    }
   ],
   "source": [
    "data['Return'] = (data['Close'].shift(-rolling_window) - data['Close'])/data['Close']\n",
    "data = data.fillna(0)\n",
    "data = data.drop(index=0)\n",
    "data"
   ]
  },
  {
   "cell_type": "markdown",
   "metadata": {},
   "source": [
    "# Feature Engineering"
   ]
  },
  {
   "cell_type": "code",
   "execution_count": 67,
   "metadata": {},
   "outputs": [],
   "source": [
    "def drop_high_corr_columns(df, threshold=0.6):\n",
    "    ohlcv_columns = {'Date','time', 'Open','High','Low','Close','Volume'}\n",
    "\n",
    "     # Identify non-OHLCV and non-date/time columns\n",
    "    non_corr_columns = [col for col in df.columns if col not in ohlcv_columns]\n",
    "\n",
    "    # Compute the correlation matrix only for non-OHLCV and non-date/time columns\n",
    "    corr_matrix = df[non_corr_columns].corr().abs()\n",
    "\n",
    "    # Create a set to keep track of columns to drop\n",
    "    to_drop = set()\n",
    "\n",
    "    # Iterate over the upper triangle of the correlation matrix\n",
    "    for i in range(len(corr_matrix.columns)):\n",
    "        for j in range(i + 1, len(corr_matrix.columns)):\n",
    "            if corr_matrix.iloc[i, j] > threshold:\n",
    "                # If the correlation is higher than the threshold, mark the column with the higher index to drop\n",
    "                col_to_drop = corr_matrix.columns[j]\n",
    "                if col_to_drop not in ohlcv_columns:\n",
    "                    to_drop.add(col_to_drop)\n",
    "\n",
    "    # Drop the columns from the DataFrame\n",
    "    df_dropped = df.drop(columns=to_drop)\n",
    "    return df_dropped\n",
    "\n",
    "data = drop_high_corr_columns(data)"
   ]
  },
  {
   "cell_type": "code",
   "execution_count": 69,
   "metadata": {},
   "outputs": [],
   "source": [
    "def objective(trial, X_train, X_valid, y_train, y_valid, y_price):\n",
    "\n",
    "    # Select features based on Optuna's suggestions\n",
    "    selected_features = []\n",
    "    for col in X_train.columns:\n",
    "        if trial.suggest_categorical(col, [0, 1]):\n",
    "            selected_features.append(col)\n",
    "\n",
    "    for t in trial.study.trials:\n",
    "        if t.state != optuna.trial.TrialState.COMPLETE:\n",
    "            continue\n",
    "\n",
    "    # trade_threshold = trial.suggest_float('trade_threshold', 0.008, 0.08, step=0.0004)\n",
    "    trade_threshold  = 0.005\n",
    "\n",
    "    # Use only the selected features in training\n",
    "    X_train_selected = X_train[selected_features]\n",
    "    X_valid_selected = X_valid[selected_features]\n",
    "\n",
    "    # Train the model\n",
    "    model = xgb.XGBRegressor()\n",
    "    model.fit(X_train_selected, y_train)\n",
    "\n",
    "    y_pred_train = model.predict(X_train_selected)\n",
    "    y_pred_valid = model.predict(X_valid_selected)\n",
    "\n",
    "    _, pos_is, _, sharpe_is = sharpe_for_vn30f(y_pred_train, y_price[:len(y_pred_train)], trade_threshold=trade_threshold, fee_perc=0.01, periods=10)\n",
    "    _, pos_os, _, sharpe_oos = sharpe_for_vn30f(y_pred_valid, y_price[len(y_pred_train):], trade_threshold=trade_threshold, fee_perc=0.01, periods=10)\n",
    "\n",
    "    print('Trade times in sample:',len(pos_is[pos_is != 0]), 'Trade times out sample:',len(pos_os[pos_os != 0]))\n",
    "\n",
    "    return sharpe_oos, abs((abs(sharpe_is / sharpe_oos))-1)\n",
    "\n",
    "X_train, X_valid, y_train, y_valid, train_data = split_optuna_data(data)"
   ]
  },
  {
   "cell_type": "code",
   "execution_count": 73,
   "metadata": {},
   "outputs": [
    {
     "name": "stderr",
     "output_type": "stream",
     "text": [
      "[I 2024-06-02 22:53:51,945] A new study created in memory with name: no-name-f2ae8cf5-21d3-4de5-bf09-7e2ef6b7b676\n"
     ]
    },
    {
     "name": "stdout",
     "output_type": "stream",
     "text": [
      "A new study created in memory with name: no-name-f2ae8cf5-21d3-4de5-bf09-7e2ef6b7b676\n"
     ]
    },
    {
     "name": "stderr",
     "output_type": "stream",
     "text": [
      "[I 2024-06-02 22:53:52,793] Trial 0 finished with values: [0.2399149404562337, 1.3250724034610033] and parameters: {'volume_adi': 0, 'volume_obv': 0, 'volume_cmf': 0, 'volume_fi': 1, 'volume_em': 0, 'volume_sma_em': 0, 'volume_mfi': 1, 'volatility_bbw': 1, 'volatility_bbhi': 0, 'volatility_bbli': 1, 'volatility_kcp': 1, 'trend_macd': 0, 'trend_mass_index': 1, 'trend_dpo': 0, 'trend_adx': 0, 'trend_aroon_up': 0, 'trend_aroon_down': 1, 'trend_psar_up': 0, 'trend_psar_down': 1, 'trend_psar_up_indicator': 0, 'trend_psar_down_indicator': 1, 'momentum_pvo': 0, 'momentum_pvo_hist': 0, 'others_dr': 1, 'others_cr': 0}. \n"
     ]
    },
    {
     "name": "stdout",
     "output_type": "stream",
     "text": [
      "Trade times in sample: 12129 Trade times out sample: 106962\n",
      "Trial 0 finished with values: [0.2399149404562337, 1.3250724034610033] and parameters: {'volume_adi': 0, 'volume_obv': 0, 'volume_cmf': 0, 'volume_fi': 1, 'volume_em': 0, 'volume_sma_em': 0, 'volume_mfi': 1, 'volatility_bbw': 1, 'volatility_bbhi': 0, 'volatility_bbli': 1, 'volatility_kcp': 1, 'trend_macd': 0, 'trend_mass_index': 1, 'trend_dpo': 0, 'trend_adx': 0, 'trend_aroon_up': 0, 'trend_aroon_down': 1, 'trend_psar_up': 0, 'trend_psar_down': 1, 'trend_psar_up_indicator': 0, 'trend_psar_down_indicator': 1, 'momentum_pvo': 0, 'momentum_pvo_hist': 0, 'others_dr': 1, 'others_cr': 0}. \n"
     ]
    },
    {
     "name": "stderr",
     "output_type": "stream",
     "text": [
      "[I 2024-06-02 22:53:53,734] Trial 1 finished with values: [-0.30780333748207583, 2.0050306868415215] and parameters: {'volume_adi': 0, 'volume_obv': 1, 'volume_cmf': 1, 'volume_fi': 1, 'volume_em': 1, 'volume_sma_em': 1, 'volume_mfi': 0, 'volatility_bbw': 0, 'volatility_bbhi': 0, 'volatility_bbli': 0, 'volatility_kcp': 1, 'trend_macd': 1, 'trend_mass_index': 0, 'trend_dpo': 1, 'trend_adx': 0, 'trend_aroon_up': 0, 'trend_aroon_down': 1, 'trend_psar_up': 0, 'trend_psar_down': 0, 'trend_psar_up_indicator': 1, 'trend_psar_down_indicator': 1, 'momentum_pvo': 0, 'momentum_pvo_hist': 1, 'others_dr': 0, 'others_cr': 1}. \n"
     ]
    },
    {
     "name": "stdout",
     "output_type": "stream",
     "text": [
      "Trade times in sample: 94845 Trade times out sample: 106963\n",
      "Trial 1 finished with values: [-0.30780333748207583, 2.0050306868415215] and parameters: {'volume_adi': 0, 'volume_obv': 1, 'volume_cmf': 1, 'volume_fi': 1, 'volume_em': 1, 'volume_sma_em': 1, 'volume_mfi': 0, 'volatility_bbw': 0, 'volatility_bbhi': 0, 'volatility_bbli': 0, 'volatility_kcp': 1, 'trend_macd': 1, 'trend_mass_index': 0, 'trend_dpo': 1, 'trend_adx': 0, 'trend_aroon_up': 0, 'trend_aroon_down': 1, 'trend_psar_up': 0, 'trend_psar_down': 0, 'trend_psar_up_indicator': 1, 'trend_psar_down_indicator': 1, 'momentum_pvo': 0, 'momentum_pvo_hist': 1, 'others_dr': 0, 'others_cr': 1}. \n"
     ]
    },
    {
     "name": "stderr",
     "output_type": "stream",
     "text": [
      "[I 2024-06-02 22:53:54,663] Trial 2 finished with values: [-0.0347491436759677, 27.930630326378726] and parameters: {'volume_adi': 0, 'volume_obv': 1, 'volume_cmf': 0, 'volume_fi': 1, 'volume_em': 0, 'volume_sma_em': 1, 'volume_mfi': 0, 'volatility_bbw': 1, 'volatility_bbhi': 1, 'volatility_bbli': 1, 'volatility_kcp': 1, 'trend_macd': 0, 'trend_mass_index': 1, 'trend_dpo': 1, 'trend_adx': 1, 'trend_aroon_up': 0, 'trend_aroon_down': 0, 'trend_psar_up': 0, 'trend_psar_down': 1, 'trend_psar_up_indicator': 1, 'trend_psar_down_indicator': 0, 'momentum_pvo': 1, 'momentum_pvo_hist': 1, 'others_dr': 1, 'others_cr': 0}. \n"
     ]
    },
    {
     "name": "stdout",
     "output_type": "stream",
     "text": [
      "Trade times in sample: 94845 Trade times out sample: 105731\n",
      "Trial 2 finished with values: [-0.0347491436759677, 27.930630326378726] and parameters: {'volume_adi': 0, 'volume_obv': 1, 'volume_cmf': 0, 'volume_fi': 1, 'volume_em': 0, 'volume_sma_em': 1, 'volume_mfi': 0, 'volatility_bbw': 1, 'volatility_bbhi': 1, 'volatility_bbli': 1, 'volatility_kcp': 1, 'trend_macd': 0, 'trend_mass_index': 1, 'trend_dpo': 1, 'trend_adx': 1, 'trend_aroon_up': 0, 'trend_aroon_down': 0, 'trend_psar_up': 0, 'trend_psar_down': 1, 'trend_psar_up_indicator': 1, 'trend_psar_down_indicator': 0, 'momentum_pvo': 1, 'momentum_pvo_hist': 1, 'others_dr': 1, 'others_cr': 0}. \n"
     ]
    },
    {
     "name": "stderr",
     "output_type": "stream",
     "text": [
      "[I 2024-06-02 22:53:55,532] Trial 3 finished with values: [-0.16698343835319338, 3.8513709033297845] and parameters: {'volume_adi': 0, 'volume_obv': 0, 'volume_cmf': 0, 'volume_fi': 0, 'volume_em': 1, 'volume_sma_em': 0, 'volume_mfi': 1, 'volatility_bbw': 1, 'volatility_bbhi': 0, 'volatility_bbli': 0, 'volatility_kcp': 0, 'trend_macd': 0, 'trend_mass_index': 1, 'trend_dpo': 1, 'trend_adx': 1, 'trend_aroon_up': 1, 'trend_aroon_down': 0, 'trend_psar_up': 1, 'trend_psar_down': 0, 'trend_psar_up_indicator': 0, 'trend_psar_down_indicator': 1, 'momentum_pvo': 0, 'momentum_pvo_hist': 1, 'others_dr': 0, 'others_cr': 1}. \n"
     ]
    },
    {
     "name": "stdout",
     "output_type": "stream",
     "text": [
      "Trade times in sample: 93135 Trade times out sample: 106963\n",
      "Trial 3 finished with values: [-0.16698343835319338, 3.8513709033297845] and parameters: {'volume_adi': 0, 'volume_obv': 0, 'volume_cmf': 0, 'volume_fi': 0, 'volume_em': 1, 'volume_sma_em': 0, 'volume_mfi': 1, 'volatility_bbw': 1, 'volatility_bbhi': 0, 'volatility_bbli': 0, 'volatility_kcp': 0, 'trend_macd': 0, 'trend_mass_index': 1, 'trend_dpo': 1, 'trend_adx': 1, 'trend_aroon_up': 1, 'trend_aroon_down': 0, 'trend_psar_up': 1, 'trend_psar_down': 0, 'trend_psar_up_indicator': 0, 'trend_psar_down_indicator': 1, 'momentum_pvo': 0, 'momentum_pvo_hist': 1, 'others_dr': 0, 'others_cr': 1}. \n"
     ]
    },
    {
     "name": "stderr",
     "output_type": "stream",
     "text": [
      "[I 2024-06-02 22:53:56,404] Trial 4 finished with values: [-0.21999265070821633, 2.4630777368014085] and parameters: {'volume_adi': 1, 'volume_obv': 1, 'volume_cmf': 0, 'volume_fi': 0, 'volume_em': 1, 'volume_sma_em': 0, 'volume_mfi': 1, 'volatility_bbw': 0, 'volatility_bbhi': 1, 'volatility_bbli': 0, 'volatility_kcp': 0, 'trend_macd': 1, 'trend_mass_index': 1, 'trend_dpo': 0, 'trend_adx': 0, 'trend_aroon_up': 1, 'trend_aroon_down': 1, 'trend_psar_up': 1, 'trend_psar_down': 0, 'trend_psar_up_indicator': 0, 'trend_psar_down_indicator': 1, 'momentum_pvo': 1, 'momentum_pvo_hist': 0, 'others_dr': 1, 'others_cr': 0}. \n"
     ]
    },
    {
     "name": "stdout",
     "output_type": "stream",
     "text": [
      "Trade times in sample: 70445 Trade times out sample: 106963\n",
      "Trial 4 finished with values: [-0.21999265070821633, 2.4630777368014085] and parameters: {'volume_adi': 1, 'volume_obv': 1, 'volume_cmf': 0, 'volume_fi': 0, 'volume_em': 1, 'volume_sma_em': 0, 'volume_mfi': 1, 'volatility_bbw': 0, 'volatility_bbhi': 1, 'volatility_bbli': 0, 'volatility_kcp': 0, 'trend_macd': 1, 'trend_mass_index': 1, 'trend_dpo': 0, 'trend_adx': 0, 'trend_aroon_up': 1, 'trend_aroon_down': 1, 'trend_psar_up': 1, 'trend_psar_down': 0, 'trend_psar_up_indicator': 0, 'trend_psar_down_indicator': 1, 'momentum_pvo': 1, 'momentum_pvo_hist': 0, 'others_dr': 1, 'others_cr': 0}. \n"
     ]
    },
    {
     "name": "stderr",
     "output_type": "stream",
     "text": [
      "[I 2024-06-02 22:53:57,254] Trial 5 finished with values: [-0.22596637732331717, 2.8233707486550537] and parameters: {'volume_adi': 0, 'volume_obv': 1, 'volume_cmf': 1, 'volume_fi': 0, 'volume_em': 1, 'volume_sma_em': 1, 'volume_mfi': 0, 'volatility_bbw': 0, 'volatility_bbhi': 0, 'volatility_bbli': 1, 'volatility_kcp': 0, 'trend_macd': 0, 'trend_mass_index': 0, 'trend_dpo': 1, 'trend_adx': 1, 'trend_aroon_up': 0, 'trend_aroon_down': 1, 'trend_psar_up': 0, 'trend_psar_down': 1, 'trend_psar_up_indicator': 0, 'trend_psar_down_indicator': 1, 'momentum_pvo': 1, 'momentum_pvo_hist': 0, 'others_dr': 0, 'others_cr': 1}. \n"
     ]
    },
    {
     "name": "stdout",
     "output_type": "stream",
     "text": [
      "Trade times in sample: 70445 Trade times out sample: 106963\n",
      "Trial 5 finished with values: [-0.22596637732331717, 2.8233707486550537] and parameters: {'volume_adi': 0, 'volume_obv': 1, 'volume_cmf': 1, 'volume_fi': 0, 'volume_em': 1, 'volume_sma_em': 1, 'volume_mfi': 0, 'volatility_bbw': 0, 'volatility_bbhi': 0, 'volatility_bbli': 1, 'volatility_kcp': 0, 'trend_macd': 0, 'trend_mass_index': 0, 'trend_dpo': 1, 'trend_adx': 1, 'trend_aroon_up': 0, 'trend_aroon_down': 1, 'trend_psar_up': 0, 'trend_psar_down': 1, 'trend_psar_up_indicator': 0, 'trend_psar_down_indicator': 1, 'momentum_pvo': 1, 'momentum_pvo_hist': 0, 'others_dr': 0, 'others_cr': 1}. \n"
     ]
    },
    {
     "name": "stderr",
     "output_type": "stream",
     "text": [
      "[I 2024-06-02 22:53:58,134] Trial 6 finished with values: [-0.18031987318259624, 3.6350992852490354] and parameters: {'volume_adi': 1, 'volume_obv': 1, 'volume_cmf': 0, 'volume_fi': 1, 'volume_em': 1, 'volume_sma_em': 0, 'volume_mfi': 0, 'volatility_bbw': 0, 'volatility_bbhi': 0, 'volatility_bbli': 0, 'volatility_kcp': 0, 'trend_macd': 0, 'trend_mass_index': 1, 'trend_dpo': 1, 'trend_adx': 0, 'trend_aroon_up': 0, 'trend_aroon_down': 1, 'trend_psar_up': 0, 'trend_psar_down': 1, 'trend_psar_up_indicator': 1, 'trend_psar_down_indicator': 1, 'momentum_pvo': 1, 'momentum_pvo_hist': 0, 'others_dr': 1, 'others_cr': 0}. \n"
     ]
    },
    {
     "name": "stdout",
     "output_type": "stream",
     "text": [
      "Trade times in sample: 70445 Trade times out sample: 106963\n",
      "Trial 6 finished with values: [-0.18031987318259624, 3.6350992852490354] and parameters: {'volume_adi': 1, 'volume_obv': 1, 'volume_cmf': 0, 'volume_fi': 1, 'volume_em': 1, 'volume_sma_em': 0, 'volume_mfi': 0, 'volatility_bbw': 0, 'volatility_bbhi': 0, 'volatility_bbli': 0, 'volatility_kcp': 0, 'trend_macd': 0, 'trend_mass_index': 1, 'trend_dpo': 1, 'trend_adx': 0, 'trend_aroon_up': 0, 'trend_aroon_down': 1, 'trend_psar_up': 0, 'trend_psar_down': 1, 'trend_psar_up_indicator': 1, 'trend_psar_down_indicator': 1, 'momentum_pvo': 1, 'momentum_pvo_hist': 0, 'others_dr': 1, 'others_cr': 0}. \n"
     ]
    },
    {
     "name": "stderr",
     "output_type": "stream",
     "text": [
      "[I 2024-06-02 22:53:59,030] Trial 7 finished with values: [-0.1878877114393023, 3.8876213501184775] and parameters: {'volume_adi': 0, 'volume_obv': 1, 'volume_cmf': 0, 'volume_fi': 0, 'volume_em': 0, 'volume_sma_em': 1, 'volume_mfi': 1, 'volatility_bbw': 1, 'volatility_bbhi': 0, 'volatility_bbli': 0, 'volatility_kcp': 1, 'trend_macd': 0, 'trend_mass_index': 1, 'trend_dpo': 0, 'trend_adx': 0, 'trend_aroon_up': 1, 'trend_aroon_down': 1, 'trend_psar_up': 1, 'trend_psar_down': 1, 'trend_psar_up_indicator': 0, 'trend_psar_down_indicator': 1, 'momentum_pvo': 1, 'momentum_pvo_hist': 1, 'others_dr': 1, 'others_cr': 0}. \n"
     ]
    },
    {
     "name": "stdout",
     "output_type": "stream",
     "text": [
      "Trade times in sample: 94845 Trade times out sample: 105735\n",
      "Trial 7 finished with values: [-0.1878877114393023, 3.8876213501184775] and parameters: {'volume_adi': 0, 'volume_obv': 1, 'volume_cmf': 0, 'volume_fi': 0, 'volume_em': 0, 'volume_sma_em': 1, 'volume_mfi': 1, 'volatility_bbw': 1, 'volatility_bbhi': 0, 'volatility_bbli': 0, 'volatility_kcp': 1, 'trend_macd': 0, 'trend_mass_index': 1, 'trend_dpo': 0, 'trend_adx': 0, 'trend_aroon_up': 1, 'trend_aroon_down': 1, 'trend_psar_up': 1, 'trend_psar_down': 1, 'trend_psar_up_indicator': 0, 'trend_psar_down_indicator': 1, 'momentum_pvo': 1, 'momentum_pvo_hist': 1, 'others_dr': 1, 'others_cr': 0}. \n"
     ]
    },
    {
     "name": "stderr",
     "output_type": "stream",
     "text": [
      "[I 2024-06-02 22:53:59,912] Trial 8 finished with values: [-0.13380614092250406, 3.037663972093247] and parameters: {'volume_adi': 0, 'volume_obv': 0, 'volume_cmf': 1, 'volume_fi': 0, 'volume_em': 1, 'volume_sma_em': 0, 'volume_mfi': 1, 'volatility_bbw': 1, 'volatility_bbhi': 1, 'volatility_bbli': 0, 'volatility_kcp': 0, 'trend_macd': 1, 'trend_mass_index': 1, 'trend_dpo': 1, 'trend_adx': 1, 'trend_aroon_up': 0, 'trend_aroon_down': 0, 'trend_psar_up': 0, 'trend_psar_down': 0, 'trend_psar_up_indicator': 1, 'trend_psar_down_indicator': 0, 'momentum_pvo': 0, 'momentum_pvo_hist': 0, 'others_dr': 0, 'others_cr': 1}. \n"
     ]
    },
    {
     "name": "stdout",
     "output_type": "stream",
     "text": [
      "Trade times in sample: 70445 Trade times out sample: 106963\n",
      "Trial 8 finished with values: [-0.13380614092250406, 3.037663972093247] and parameters: {'volume_adi': 0, 'volume_obv': 0, 'volume_cmf': 1, 'volume_fi': 0, 'volume_em': 1, 'volume_sma_em': 0, 'volume_mfi': 1, 'volatility_bbw': 1, 'volatility_bbhi': 1, 'volatility_bbli': 0, 'volatility_kcp': 0, 'trend_macd': 1, 'trend_mass_index': 1, 'trend_dpo': 1, 'trend_adx': 1, 'trend_aroon_up': 0, 'trend_aroon_down': 0, 'trend_psar_up': 0, 'trend_psar_down': 0, 'trend_psar_up_indicator': 1, 'trend_psar_down_indicator': 0, 'momentum_pvo': 0, 'momentum_pvo_hist': 0, 'others_dr': 0, 'others_cr': 1}. \n"
     ]
    },
    {
     "name": "stderr",
     "output_type": "stream",
     "text": [
      "[I 2024-06-02 22:54:00,832] Trial 9 finished with values: [-0.028586107460441844, 30.769385647398867] and parameters: {'volume_adi': 1, 'volume_obv': 0, 'volume_cmf': 1, 'volume_fi': 1, 'volume_em': 1, 'volume_sma_em': 1, 'volume_mfi': 0, 'volatility_bbw': 0, 'volatility_bbhi': 0, 'volatility_bbli': 0, 'volatility_kcp': 0, 'trend_macd': 1, 'trend_mass_index': 1, 'trend_dpo': 1, 'trend_adx': 1, 'trend_aroon_up': 1, 'trend_aroon_down': 1, 'trend_psar_up': 1, 'trend_psar_down': 1, 'trend_psar_up_indicator': 0, 'trend_psar_down_indicator': 0, 'momentum_pvo': 0, 'momentum_pvo_hist': 0, 'others_dr': 1, 'others_cr': 0}. \n"
     ]
    },
    {
     "name": "stdout",
     "output_type": "stream",
     "text": [
      "Trade times in sample: 94845 Trade times out sample: 106963\n",
      "Trial 9 finished with values: [-0.028586107460441844, 30.769385647398867] and parameters: {'volume_adi': 1, 'volume_obv': 0, 'volume_cmf': 1, 'volume_fi': 1, 'volume_em': 1, 'volume_sma_em': 1, 'volume_mfi': 0, 'volatility_bbw': 0, 'volatility_bbhi': 0, 'volatility_bbli': 0, 'volatility_kcp': 0, 'trend_macd': 1, 'trend_mass_index': 1, 'trend_dpo': 1, 'trend_adx': 1, 'trend_aroon_up': 1, 'trend_aroon_down': 1, 'trend_psar_up': 1, 'trend_psar_down': 1, 'trend_psar_up_indicator': 0, 'trend_psar_down_indicator': 0, 'momentum_pvo': 0, 'momentum_pvo_hist': 0, 'others_dr': 1, 'others_cr': 0}. \n"
     ]
    },
    {
     "name": "stderr",
     "output_type": "stream",
     "text": [
      "[I 2024-06-02 22:54:01,761] Trial 10 finished with values: [-0.537530838510194, 0.6605090147080841] and parameters: {'volume_adi': 1, 'volume_obv': 1, 'volume_cmf': 0, 'volume_fi': 1, 'volume_em': 1, 'volume_sma_em': 1, 'volume_mfi': 0, 'volatility_bbw': 1, 'volatility_bbhi': 0, 'volatility_bbli': 1, 'volatility_kcp': 0, 'trend_macd': 0, 'trend_mass_index': 0, 'trend_dpo': 1, 'trend_adx': 0, 'trend_aroon_up': 1, 'trend_aroon_down': 1, 'trend_psar_up': 0, 'trend_psar_down': 0, 'trend_psar_up_indicator': 1, 'trend_psar_down_indicator': 1, 'momentum_pvo': 1, 'momentum_pvo_hist': 1, 'others_dr': 1, 'others_cr': 0}. \n"
     ]
    },
    {
     "name": "stdout",
     "output_type": "stream",
     "text": [
      "Trade times in sample: 94845 Trade times out sample: 106963\n",
      "Trial 10 finished with values: [-0.537530838510194, 0.6605090147080841] and parameters: {'volume_adi': 1, 'volume_obv': 1, 'volume_cmf': 0, 'volume_fi': 1, 'volume_em': 1, 'volume_sma_em': 1, 'volume_mfi': 0, 'volatility_bbw': 1, 'volatility_bbhi': 0, 'volatility_bbli': 1, 'volatility_kcp': 0, 'trend_macd': 0, 'trend_mass_index': 0, 'trend_dpo': 1, 'trend_adx': 0, 'trend_aroon_up': 1, 'trend_aroon_down': 1, 'trend_psar_up': 0, 'trend_psar_down': 0, 'trend_psar_up_indicator': 1, 'trend_psar_down_indicator': 1, 'momentum_pvo': 1, 'momentum_pvo_hist': 1, 'others_dr': 1, 'others_cr': 0}. \n"
     ]
    },
    {
     "name": "stderr",
     "output_type": "stream",
     "text": [
      "[I 2024-06-02 22:54:02,609] Trial 11 finished with values: [-0.08644157483792225, 6.888063958625379] and parameters: {'volume_adi': 0, 'volume_obv': 1, 'volume_cmf': 1, 'volume_fi': 1, 'volume_em': 1, 'volume_sma_em': 0, 'volume_mfi': 1, 'volatility_bbw': 0, 'volatility_bbhi': 0, 'volatility_bbli': 1, 'volatility_kcp': 1, 'trend_macd': 0, 'trend_mass_index': 0, 'trend_dpo': 0, 'trend_adx': 0, 'trend_aroon_up': 0, 'trend_aroon_down': 0, 'trend_psar_up': 0, 'trend_psar_down': 0, 'trend_psar_up_indicator': 0, 'trend_psar_down_indicator': 1, 'momentum_pvo': 1, 'momentum_pvo_hist': 1, 'others_dr': 0, 'others_cr': 0}. \n"
     ]
    },
    {
     "name": "stdout",
     "output_type": "stream",
     "text": [
      "Trade times in sample: 70445 Trade times out sample: 106963\n",
      "Trial 11 finished with values: [-0.08644157483792225, 6.888063958625379] and parameters: {'volume_adi': 0, 'volume_obv': 1, 'volume_cmf': 1, 'volume_fi': 1, 'volume_em': 1, 'volume_sma_em': 0, 'volume_mfi': 1, 'volatility_bbw': 0, 'volatility_bbhi': 0, 'volatility_bbli': 1, 'volatility_kcp': 1, 'trend_macd': 0, 'trend_mass_index': 0, 'trend_dpo': 0, 'trend_adx': 0, 'trend_aroon_up': 0, 'trend_aroon_down': 0, 'trend_psar_up': 0, 'trend_psar_down': 0, 'trend_psar_up_indicator': 0, 'trend_psar_down_indicator': 1, 'momentum_pvo': 1, 'momentum_pvo_hist': 1, 'others_dr': 0, 'others_cr': 0}. \n"
     ]
    },
    {
     "name": "stderr",
     "output_type": "stream",
     "text": [
      "[I 2024-06-02 22:54:03,522] Trial 12 finished with values: [0.015419720845130666, 55.78705156522361] and parameters: {'volume_adi': 1, 'volume_obv': 1, 'volume_cmf': 1, 'volume_fi': 1, 'volume_em': 1, 'volume_sma_em': 0, 'volume_mfi': 1, 'volatility_bbw': 1, 'volatility_bbhi': 0, 'volatility_bbli': 1, 'volatility_kcp': 0, 'trend_macd': 0, 'trend_mass_index': 0, 'trend_dpo': 1, 'trend_adx': 1, 'trend_aroon_up': 0, 'trend_aroon_down': 1, 'trend_psar_up': 0, 'trend_psar_down': 0, 'trend_psar_up_indicator': 0, 'trend_psar_down_indicator': 0, 'momentum_pvo': 1, 'momentum_pvo_hist': 1, 'others_dr': 0, 'others_cr': 0}. \n"
     ]
    },
    {
     "name": "stdout",
     "output_type": "stream",
     "text": [
      "Trade times in sample: 70445 Trade times out sample: 106963\n",
      "Trial 12 finished with values: [0.015419720845130666, 55.78705156522361] and parameters: {'volume_adi': 1, 'volume_obv': 1, 'volume_cmf': 1, 'volume_fi': 1, 'volume_em': 1, 'volume_sma_em': 0, 'volume_mfi': 1, 'volatility_bbw': 1, 'volatility_bbhi': 0, 'volatility_bbli': 1, 'volatility_kcp': 0, 'trend_macd': 0, 'trend_mass_index': 0, 'trend_dpo': 1, 'trend_adx': 1, 'trend_aroon_up': 0, 'trend_aroon_down': 1, 'trend_psar_up': 0, 'trend_psar_down': 0, 'trend_psar_up_indicator': 0, 'trend_psar_down_indicator': 0, 'momentum_pvo': 1, 'momentum_pvo_hist': 1, 'others_dr': 0, 'others_cr': 0}. \n"
     ]
    },
    {
     "name": "stderr",
     "output_type": "stream",
     "text": [
      "[I 2024-06-02 22:54:04,420] Trial 13 finished with values: [-0.1063422591467713, 6.375337020906559] and parameters: {'volume_adi': 1, 'volume_obv': 0, 'volume_cmf': 0, 'volume_fi': 0, 'volume_em': 0, 'volume_sma_em': 1, 'volume_mfi': 0, 'volatility_bbw': 1, 'volatility_bbhi': 0, 'volatility_bbli': 1, 'volatility_kcp': 1, 'trend_macd': 1, 'trend_mass_index': 1, 'trend_dpo': 0, 'trend_adx': 1, 'trend_aroon_up': 0, 'trend_aroon_down': 1, 'trend_psar_up': 1, 'trend_psar_down': 0, 'trend_psar_up_indicator': 0, 'trend_psar_down_indicator': 0, 'momentum_pvo': 1, 'momentum_pvo_hist': 0, 'others_dr': 0, 'others_cr': 1}. \n"
     ]
    },
    {
     "name": "stdout",
     "output_type": "stream",
     "text": [
      "Trade times in sample: 12129 Trade times out sample: 103052\n",
      "Trial 13 finished with values: [-0.1063422591467713, 6.375337020906559] and parameters: {'volume_adi': 1, 'volume_obv': 0, 'volume_cmf': 0, 'volume_fi': 0, 'volume_em': 0, 'volume_sma_em': 1, 'volume_mfi': 0, 'volatility_bbw': 1, 'volatility_bbhi': 0, 'volatility_bbli': 1, 'volatility_kcp': 1, 'trend_macd': 1, 'trend_mass_index': 1, 'trend_dpo': 0, 'trend_adx': 1, 'trend_aroon_up': 0, 'trend_aroon_down': 1, 'trend_psar_up': 1, 'trend_psar_down': 0, 'trend_psar_up_indicator': 0, 'trend_psar_down_indicator': 0, 'momentum_pvo': 1, 'momentum_pvo_hist': 0, 'others_dr': 0, 'others_cr': 1}. \n"
     ]
    },
    {
     "name": "stderr",
     "output_type": "stream",
     "text": [
      "[I 2024-06-02 22:54:05,277] Trial 14 finished with values: [0.12263012122240906, 4.263393967388754] and parameters: {'volume_adi': 1, 'volume_obv': 0, 'volume_cmf': 0, 'volume_fi': 0, 'volume_em': 0, 'volume_sma_em': 1, 'volume_mfi': 0, 'volatility_bbw': 1, 'volatility_bbhi': 0, 'volatility_bbli': 1, 'volatility_kcp': 0, 'trend_macd': 1, 'trend_mass_index': 1, 'trend_dpo': 1, 'trend_adx': 0, 'trend_aroon_up': 1, 'trend_aroon_down': 0, 'trend_psar_up': 1, 'trend_psar_down': 0, 'trend_psar_up_indicator': 1, 'trend_psar_down_indicator': 0, 'momentum_pvo': 0, 'momentum_pvo_hist': 0, 'others_dr': 0, 'others_cr': 0}. \n"
     ]
    },
    {
     "name": "stdout",
     "output_type": "stream",
     "text": [
      "Trade times in sample: 70689 Trade times out sample: 96469\n",
      "Trial 14 finished with values: [0.12263012122240906, 4.263393967388754] and parameters: {'volume_adi': 1, 'volume_obv': 0, 'volume_cmf': 0, 'volume_fi': 0, 'volume_em': 0, 'volume_sma_em': 1, 'volume_mfi': 0, 'volatility_bbw': 1, 'volatility_bbhi': 0, 'volatility_bbli': 1, 'volatility_kcp': 0, 'trend_macd': 1, 'trend_mass_index': 1, 'trend_dpo': 1, 'trend_adx': 0, 'trend_aroon_up': 1, 'trend_aroon_down': 0, 'trend_psar_up': 1, 'trend_psar_down': 0, 'trend_psar_up_indicator': 1, 'trend_psar_down_indicator': 0, 'momentum_pvo': 0, 'momentum_pvo_hist': 0, 'others_dr': 0, 'others_cr': 0}. \n"
     ]
    },
    {
     "name": "stderr",
     "output_type": "stream",
     "text": [
      "[I 2024-06-02 22:54:06,245] Trial 15 finished with values: [-0.22857157744710832, 2.796263476817967] and parameters: {'volume_adi': 0, 'volume_obv': 1, 'volume_cmf': 1, 'volume_fi': 1, 'volume_em': 1, 'volume_sma_em': 0, 'volume_mfi': 1, 'volatility_bbw': 1, 'volatility_bbhi': 1, 'volatility_bbli': 0, 'volatility_kcp': 1, 'trend_macd': 0, 'trend_mass_index': 1, 'trend_dpo': 1, 'trend_adx': 0, 'trend_aroon_up': 1, 'trend_aroon_down': 1, 'trend_psar_up': 1, 'trend_psar_down': 0, 'trend_psar_up_indicator': 0, 'trend_psar_down_indicator': 1, 'momentum_pvo': 1, 'momentum_pvo_hist': 0, 'others_dr': 1, 'others_cr': 1}. \n"
     ]
    },
    {
     "name": "stdout",
     "output_type": "stream",
     "text": [
      "Trade times in sample: 70445 Trade times out sample: 106963\n",
      "Trial 15 finished with values: [-0.22857157744710832, 2.796263476817967] and parameters: {'volume_adi': 0, 'volume_obv': 1, 'volume_cmf': 1, 'volume_fi': 1, 'volume_em': 1, 'volume_sma_em': 0, 'volume_mfi': 1, 'volatility_bbw': 1, 'volatility_bbhi': 1, 'volatility_bbli': 0, 'volatility_kcp': 1, 'trend_macd': 0, 'trend_mass_index': 1, 'trend_dpo': 1, 'trend_adx': 0, 'trend_aroon_up': 1, 'trend_aroon_down': 1, 'trend_psar_up': 1, 'trend_psar_down': 0, 'trend_psar_up_indicator': 0, 'trend_psar_down_indicator': 1, 'momentum_pvo': 1, 'momentum_pvo_hist': 0, 'others_dr': 1, 'others_cr': 1}. \n"
     ]
    },
    {
     "name": "stderr",
     "output_type": "stream",
     "text": [
      "[I 2024-06-02 22:54:07,191] Trial 16 finished with values: [-0.3454644696003304, 1.6352486825125703] and parameters: {'volume_adi': 0, 'volume_obv': 1, 'volume_cmf': 0, 'volume_fi': 0, 'volume_em': 0, 'volume_sma_em': 1, 'volume_mfi': 0, 'volatility_bbw': 0, 'volatility_bbhi': 0, 'volatility_bbli': 0, 'volatility_kcp': 1, 'trend_macd': 0, 'trend_mass_index': 0, 'trend_dpo': 0, 'trend_adx': 1, 'trend_aroon_up': 0, 'trend_aroon_down': 1, 'trend_psar_up': 0, 'trend_psar_down': 1, 'trend_psar_up_indicator': 0, 'trend_psar_down_indicator': 1, 'momentum_pvo': 0, 'momentum_pvo_hist': 1, 'others_dr': 1, 'others_cr': 1}. \n"
     ]
    },
    {
     "name": "stdout",
     "output_type": "stream",
     "text": [
      "Trade times in sample: 94845 Trade times out sample: 106959\n",
      "Trial 16 finished with values: [-0.3454644696003304, 1.6352486825125703] and parameters: {'volume_adi': 0, 'volume_obv': 1, 'volume_cmf': 0, 'volume_fi': 0, 'volume_em': 0, 'volume_sma_em': 1, 'volume_mfi': 0, 'volatility_bbw': 0, 'volatility_bbhi': 0, 'volatility_bbli': 0, 'volatility_kcp': 1, 'trend_macd': 0, 'trend_mass_index': 0, 'trend_dpo': 0, 'trend_adx': 1, 'trend_aroon_up': 0, 'trend_aroon_down': 1, 'trend_psar_up': 0, 'trend_psar_down': 1, 'trend_psar_up_indicator': 0, 'trend_psar_down_indicator': 1, 'momentum_pvo': 0, 'momentum_pvo_hist': 1, 'others_dr': 1, 'others_cr': 1}. \n"
     ]
    },
    {
     "name": "stderr",
     "output_type": "stream",
     "text": [
      "[I 2024-06-02 22:54:08,222] Trial 17 finished with values: [-0.2969427805726854, 2.468427013270446] and parameters: {'volume_adi': 0, 'volume_obv': 1, 'volume_cmf': 1, 'volume_fi': 1, 'volume_em': 1, 'volume_sma_em': 1, 'volume_mfi': 0, 'volatility_bbw': 1, 'volatility_bbhi': 0, 'volatility_bbli': 0, 'volatility_kcp': 0, 'trend_macd': 0, 'trend_mass_index': 0, 'trend_dpo': 1, 'trend_adx': 1, 'trend_aroon_up': 1, 'trend_aroon_down': 1, 'trend_psar_up': 1, 'trend_psar_down': 1, 'trend_psar_up_indicator': 0, 'trend_psar_down_indicator': 1, 'momentum_pvo': 1, 'momentum_pvo_hist': 1, 'others_dr': 1, 'others_cr': 0}. \n"
     ]
    },
    {
     "name": "stdout",
     "output_type": "stream",
     "text": [
      "Trade times in sample: 94845 Trade times out sample: 106963\n",
      "Trial 17 finished with values: [-0.2969427805726854, 2.468427013270446] and parameters: {'volume_adi': 0, 'volume_obv': 1, 'volume_cmf': 1, 'volume_fi': 1, 'volume_em': 1, 'volume_sma_em': 1, 'volume_mfi': 0, 'volatility_bbw': 1, 'volatility_bbhi': 0, 'volatility_bbli': 0, 'volatility_kcp': 0, 'trend_macd': 0, 'trend_mass_index': 0, 'trend_dpo': 1, 'trend_adx': 1, 'trend_aroon_up': 1, 'trend_aroon_down': 1, 'trend_psar_up': 1, 'trend_psar_down': 1, 'trend_psar_up_indicator': 0, 'trend_psar_down_indicator': 1, 'momentum_pvo': 1, 'momentum_pvo_hist': 1, 'others_dr': 1, 'others_cr': 0}. \n"
     ]
    },
    {
     "name": "stderr",
     "output_type": "stream",
     "text": [
      "[I 2024-06-02 22:54:09,086] Trial 18 finished with values: [-0.09328982503623352, 5.488826300209088] and parameters: {'volume_adi': 1, 'volume_obv': 1, 'volume_cmf': 0, 'volume_fi': 0, 'volume_em': 0, 'volume_sma_em': 1, 'volume_mfi': 0, 'volatility_bbw': 0, 'volatility_bbhi': 1, 'volatility_bbli': 0, 'volatility_kcp': 1, 'trend_macd': 0, 'trend_mass_index': 0, 'trend_dpo': 0, 'trend_adx': 1, 'trend_aroon_up': 1, 'trend_aroon_down': 0, 'trend_psar_up': 0, 'trend_psar_down': 0, 'trend_psar_up_indicator': 1, 'trend_psar_down_indicator': 0, 'momentum_pvo': 1, 'momentum_pvo_hist': 0, 'others_dr': 0, 'others_cr': 0}. \n"
     ]
    },
    {
     "name": "stdout",
     "output_type": "stream",
     "text": [
      "Trade times in sample: 13593 Trade times out sample: 100609\n",
      "Trial 18 finished with values: [-0.09328982503623352, 5.488826300209088] and parameters: {'volume_adi': 1, 'volume_obv': 1, 'volume_cmf': 0, 'volume_fi': 0, 'volume_em': 0, 'volume_sma_em': 1, 'volume_mfi': 0, 'volatility_bbw': 0, 'volatility_bbhi': 1, 'volatility_bbli': 0, 'volatility_kcp': 1, 'trend_macd': 0, 'trend_mass_index': 0, 'trend_dpo': 0, 'trend_adx': 1, 'trend_aroon_up': 1, 'trend_aroon_down': 0, 'trend_psar_up': 0, 'trend_psar_down': 0, 'trend_psar_up_indicator': 1, 'trend_psar_down_indicator': 0, 'momentum_pvo': 1, 'momentum_pvo_hist': 0, 'others_dr': 0, 'others_cr': 0}. \n"
     ]
    },
    {
     "name": "stderr",
     "output_type": "stream",
     "text": [
      "[I 2024-06-02 22:54:10,090] Trial 19 finished with values: [0.17543567244580294, 3.6734394370717913] and parameters: {'volume_adi': 1, 'volume_obv': 1, 'volume_cmf': 1, 'volume_fi': 0, 'volume_em': 0, 'volume_sma_em': 0, 'volume_mfi': 1, 'volatility_bbw': 1, 'volatility_bbhi': 1, 'volatility_bbli': 0, 'volatility_kcp': 0, 'trend_macd': 0, 'trend_mass_index': 1, 'trend_dpo': 0, 'trend_adx': 0, 'trend_aroon_up': 0, 'trend_aroon_down': 1, 'trend_psar_up': 0, 'trend_psar_down': 1, 'trend_psar_up_indicator': 1, 'trend_psar_down_indicator': 0, 'momentum_pvo': 1, 'momentum_pvo_hist': 0, 'others_dr': 1, 'others_cr': 1}. \n"
     ]
    },
    {
     "name": "stdout",
     "output_type": "stream",
     "text": [
      "Trade times in sample: 12129 Trade times out sample: 102583\n",
      "Trial 19 finished with values: [0.17543567244580294, 3.6734394370717913] and parameters: {'volume_adi': 1, 'volume_obv': 1, 'volume_cmf': 1, 'volume_fi': 0, 'volume_em': 0, 'volume_sma_em': 0, 'volume_mfi': 1, 'volatility_bbw': 1, 'volatility_bbhi': 1, 'volatility_bbli': 0, 'volatility_kcp': 0, 'trend_macd': 0, 'trend_mass_index': 1, 'trend_dpo': 0, 'trend_adx': 0, 'trend_aroon_up': 0, 'trend_aroon_down': 1, 'trend_psar_up': 0, 'trend_psar_down': 1, 'trend_psar_up_indicator': 1, 'trend_psar_down_indicator': 0, 'momentum_pvo': 1, 'momentum_pvo_hist': 0, 'others_dr': 1, 'others_cr': 1}. \n"
     ]
    },
    {
     "name": "stderr",
     "output_type": "stream",
     "text": [
      "[I 2024-06-02 22:54:11,126] Trial 20 finished with values: [-0.056280308780797296, 14.92453241443911] and parameters: {'volume_adi': 0, 'volume_obv': 1, 'volume_cmf': 0, 'volume_fi': 1, 'volume_em': 1, 'volume_sma_em': 1, 'volume_mfi': 1, 'volatility_bbw': 1, 'volatility_bbhi': 1, 'volatility_bbli': 0, 'volatility_kcp': 1, 'trend_macd': 1, 'trend_mass_index': 0, 'trend_dpo': 0, 'trend_adx': 1, 'trend_aroon_up': 0, 'trend_aroon_down': 1, 'trend_psar_up': 1, 'trend_psar_down': 1, 'trend_psar_up_indicator': 1, 'trend_psar_down_indicator': 0, 'momentum_pvo': 1, 'momentum_pvo_hist': 1, 'others_dr': 0, 'others_cr': 1}. \n"
     ]
    },
    {
     "name": "stdout",
     "output_type": "stream",
     "text": [
      "Trade times in sample: 70445 Trade times out sample: 106963\n",
      "Trial 20 finished with values: [-0.056280308780797296, 14.92453241443911] and parameters: {'volume_adi': 0, 'volume_obv': 1, 'volume_cmf': 0, 'volume_fi': 1, 'volume_em': 1, 'volume_sma_em': 1, 'volume_mfi': 1, 'volatility_bbw': 1, 'volatility_bbhi': 1, 'volatility_bbli': 0, 'volatility_kcp': 1, 'trend_macd': 1, 'trend_mass_index': 0, 'trend_dpo': 0, 'trend_adx': 1, 'trend_aroon_up': 0, 'trend_aroon_down': 1, 'trend_psar_up': 1, 'trend_psar_down': 1, 'trend_psar_up_indicator': 1, 'trend_psar_down_indicator': 0, 'momentum_pvo': 1, 'momentum_pvo_hist': 1, 'others_dr': 0, 'others_cr': 1}. \n"
     ]
    },
    {
     "name": "stderr",
     "output_type": "stream",
     "text": [
      "[I 2024-06-02 22:54:12,231] Trial 21 finished with values: [0.022710341709287762, 28.248522740831245] and parameters: {'volume_adi': 1, 'volume_obv': 0, 'volume_cmf': 0, 'volume_fi': 0, 'volume_em': 0, 'volume_sma_em': 0, 'volume_mfi': 0, 'volatility_bbw': 1, 'volatility_bbhi': 1, 'volatility_bbli': 0, 'volatility_kcp': 1, 'trend_macd': 0, 'trend_mass_index': 0, 'trend_dpo': 0, 'trend_adx': 1, 'trend_aroon_up': 0, 'trend_aroon_down': 1, 'trend_psar_up': 1, 'trend_psar_down': 0, 'trend_psar_up_indicator': 0, 'trend_psar_down_indicator': 1, 'momentum_pvo': 1, 'momentum_pvo_hist': 1, 'others_dr': 1, 'others_cr': 0}. \n"
     ]
    },
    {
     "name": "stdout",
     "output_type": "stream",
     "text": [
      "Trade times in sample: 11397 Trade times out sample: 103291\n",
      "Trial 21 finished with values: [0.022710341709287762, 28.248522740831245] and parameters: {'volume_adi': 1, 'volume_obv': 0, 'volume_cmf': 0, 'volume_fi': 0, 'volume_em': 0, 'volume_sma_em': 0, 'volume_mfi': 0, 'volatility_bbw': 1, 'volatility_bbhi': 1, 'volatility_bbli': 0, 'volatility_kcp': 1, 'trend_macd': 0, 'trend_mass_index': 0, 'trend_dpo': 0, 'trend_adx': 1, 'trend_aroon_up': 0, 'trend_aroon_down': 1, 'trend_psar_up': 1, 'trend_psar_down': 0, 'trend_psar_up_indicator': 0, 'trend_psar_down_indicator': 1, 'momentum_pvo': 1, 'momentum_pvo_hist': 1, 'others_dr': 1, 'others_cr': 0}. \n"
     ]
    },
    {
     "name": "stderr",
     "output_type": "stream",
     "text": [
      "[I 2024-06-02 22:54:13,159] Trial 22 finished with values: [-0.22842727986360467, 2.2860992012751837] and parameters: {'volume_adi': 0, 'volume_obv': 0, 'volume_cmf': 1, 'volume_fi': 1, 'volume_em': 0, 'volume_sma_em': 1, 'volume_mfi': 0, 'volatility_bbw': 1, 'volatility_bbhi': 1, 'volatility_bbli': 1, 'volatility_kcp': 1, 'trend_macd': 0, 'trend_mass_index': 1, 'trend_dpo': 0, 'trend_adx': 0, 'trend_aroon_up': 1, 'trend_aroon_down': 0, 'trend_psar_up': 1, 'trend_psar_down': 0, 'trend_psar_up_indicator': 1, 'trend_psar_down_indicator': 0, 'momentum_pvo': 0, 'momentum_pvo_hist': 0, 'others_dr': 1, 'others_cr': 0}. \n"
     ]
    },
    {
     "name": "stdout",
     "output_type": "stream",
     "text": [
      "Trade times in sample: 94845 Trade times out sample: 100460\n",
      "Trial 22 finished with values: [-0.22842727986360467, 2.2860992012751837] and parameters: {'volume_adi': 0, 'volume_obv': 0, 'volume_cmf': 1, 'volume_fi': 1, 'volume_em': 0, 'volume_sma_em': 1, 'volume_mfi': 0, 'volatility_bbw': 1, 'volatility_bbhi': 1, 'volatility_bbli': 1, 'volatility_kcp': 1, 'trend_macd': 0, 'trend_mass_index': 1, 'trend_dpo': 0, 'trend_adx': 0, 'trend_aroon_up': 1, 'trend_aroon_down': 0, 'trend_psar_up': 1, 'trend_psar_down': 0, 'trend_psar_up_indicator': 1, 'trend_psar_down_indicator': 0, 'momentum_pvo': 0, 'momentum_pvo_hist': 0, 'others_dr': 1, 'others_cr': 0}. \n"
     ]
    },
    {
     "name": "stderr",
     "output_type": "stream",
     "text": [
      "[I 2024-06-02 22:54:14,221] Trial 23 finished with values: [-0.07151116080254806, 9.663425329086143] and parameters: {'volume_adi': 1, 'volume_obv': 0, 'volume_cmf': 1, 'volume_fi': 1, 'volume_em': 1, 'volume_sma_em': 1, 'volume_mfi': 1, 'volatility_bbw': 0, 'volatility_bbhi': 0, 'volatility_bbli': 1, 'volatility_kcp': 0, 'trend_macd': 0, 'trend_mass_index': 1, 'trend_dpo': 1, 'trend_adx': 0, 'trend_aroon_up': 0, 'trend_aroon_down': 1, 'trend_psar_up': 0, 'trend_psar_down': 0, 'trend_psar_up_indicator': 0, 'trend_psar_down_indicator': 0, 'momentum_pvo': 0, 'momentum_pvo_hist': 0, 'others_dr': 1, 'others_cr': 0}. \n"
     ]
    },
    {
     "name": "stdout",
     "output_type": "stream",
     "text": [
      "Trade times in sample: 94845 Trade times out sample: 106963\n",
      "Trial 23 finished with values: [-0.07151116080254806, 9.663425329086143] and parameters: {'volume_adi': 1, 'volume_obv': 0, 'volume_cmf': 1, 'volume_fi': 1, 'volume_em': 1, 'volume_sma_em': 1, 'volume_mfi': 1, 'volatility_bbw': 0, 'volatility_bbhi': 0, 'volatility_bbli': 1, 'volatility_kcp': 0, 'trend_macd': 0, 'trend_mass_index': 1, 'trend_dpo': 1, 'trend_adx': 0, 'trend_aroon_up': 0, 'trend_aroon_down': 1, 'trend_psar_up': 0, 'trend_psar_down': 0, 'trend_psar_up_indicator': 0, 'trend_psar_down_indicator': 0, 'momentum_pvo': 0, 'momentum_pvo_hist': 0, 'others_dr': 1, 'others_cr': 0}. \n"
     ]
    },
    {
     "name": "stderr",
     "output_type": "stream",
     "text": [
      "[I 2024-06-02 22:54:15,277] Trial 24 finished with values: [-0.3701663311142137, 1.4862150108083219] and parameters: {'volume_adi': 1, 'volume_obv': 0, 'volume_cmf': 1, 'volume_fi': 1, 'volume_em': 1, 'volume_sma_em': 1, 'volume_mfi': 0, 'volatility_bbw': 1, 'volatility_bbhi': 1, 'volatility_bbli': 1, 'volatility_kcp': 1, 'trend_macd': 1, 'trend_mass_index': 0, 'trend_dpo': 1, 'trend_adx': 1, 'trend_aroon_up': 0, 'trend_aroon_down': 0, 'trend_psar_up': 1, 'trend_psar_down': 0, 'trend_psar_up_indicator': 1, 'trend_psar_down_indicator': 1, 'momentum_pvo': 1, 'momentum_pvo_hist': 1, 'others_dr': 0, 'others_cr': 1}. \n"
     ]
    },
    {
     "name": "stdout",
     "output_type": "stream",
     "text": [
      "Trade times in sample: 94845 Trade times out sample: 106963\n",
      "Trial 24 finished with values: [-0.3701663311142137, 1.4862150108083219] and parameters: {'volume_adi': 1, 'volume_obv': 0, 'volume_cmf': 1, 'volume_fi': 1, 'volume_em': 1, 'volume_sma_em': 1, 'volume_mfi': 0, 'volatility_bbw': 1, 'volatility_bbhi': 1, 'volatility_bbli': 1, 'volatility_kcp': 1, 'trend_macd': 1, 'trend_mass_index': 0, 'trend_dpo': 1, 'trend_adx': 1, 'trend_aroon_up': 0, 'trend_aroon_down': 0, 'trend_psar_up': 1, 'trend_psar_down': 0, 'trend_psar_up_indicator': 1, 'trend_psar_down_indicator': 1, 'momentum_pvo': 1, 'momentum_pvo_hist': 1, 'others_dr': 0, 'others_cr': 1}. \n"
     ]
    },
    {
     "name": "stderr",
     "output_type": "stream",
     "text": [
      "[I 2024-06-02 22:54:16,317] Trial 25 finished with values: [-0.33490548005817616, 1.7598552028496899] and parameters: {'volume_adi': 0, 'volume_obv': 0, 'volume_cmf': 1, 'volume_fi': 1, 'volume_em': 1, 'volume_sma_em': 1, 'volume_mfi': 1, 'volatility_bbw': 1, 'volatility_bbhi': 0, 'volatility_bbli': 0, 'volatility_kcp': 0, 'trend_macd': 1, 'trend_mass_index': 1, 'trend_dpo': 1, 'trend_adx': 1, 'trend_aroon_up': 0, 'trend_aroon_down': 0, 'trend_psar_up': 1, 'trend_psar_down': 1, 'trend_psar_up_indicator': 1, 'trend_psar_down_indicator': 1, 'momentum_pvo': 0, 'momentum_pvo_hist': 1, 'others_dr': 1, 'others_cr': 0}. \n"
     ]
    },
    {
     "name": "stdout",
     "output_type": "stream",
     "text": [
      "Trade times in sample: 94845 Trade times out sample: 106963\n",
      "Trial 25 finished with values: [-0.33490548005817616, 1.7598552028496899] and parameters: {'volume_adi': 0, 'volume_obv': 0, 'volume_cmf': 1, 'volume_fi': 1, 'volume_em': 1, 'volume_sma_em': 1, 'volume_mfi': 1, 'volatility_bbw': 1, 'volatility_bbhi': 0, 'volatility_bbli': 0, 'volatility_kcp': 0, 'trend_macd': 1, 'trend_mass_index': 1, 'trend_dpo': 1, 'trend_adx': 1, 'trend_aroon_up': 0, 'trend_aroon_down': 0, 'trend_psar_up': 1, 'trend_psar_down': 1, 'trend_psar_up_indicator': 1, 'trend_psar_down_indicator': 1, 'momentum_pvo': 0, 'momentum_pvo_hist': 1, 'others_dr': 1, 'others_cr': 0}. \n"
     ]
    },
    {
     "name": "stderr",
     "output_type": "stream",
     "text": [
      "[I 2024-06-02 22:54:17,287] Trial 26 finished with values: [0.1109372272561961, 5.2258476358683446] and parameters: {'volume_adi': 1, 'volume_obv': 0, 'volume_cmf': 1, 'volume_fi': 0, 'volume_em': 0, 'volume_sma_em': 0, 'volume_mfi': 0, 'volatility_bbw': 1, 'volatility_bbhi': 1, 'volatility_bbli': 0, 'volatility_kcp': 1, 'trend_macd': 1, 'trend_mass_index': 0, 'trend_dpo': 0, 'trend_adx': 0, 'trend_aroon_up': 1, 'trend_aroon_down': 0, 'trend_psar_up': 0, 'trend_psar_down': 1, 'trend_psar_up_indicator': 0, 'trend_psar_down_indicator': 0, 'momentum_pvo': 0, 'momentum_pvo_hist': 0, 'others_dr': 1, 'others_cr': 0}. \n"
     ]
    },
    {
     "name": "stdout",
     "output_type": "stream",
     "text": [
      "Trade times in sample: 72641 Trade times out sample: 103125\n",
      "Trial 26 finished with values: [0.1109372272561961, 5.2258476358683446] and parameters: {'volume_adi': 1, 'volume_obv': 0, 'volume_cmf': 1, 'volume_fi': 0, 'volume_em': 0, 'volume_sma_em': 0, 'volume_mfi': 0, 'volatility_bbw': 1, 'volatility_bbhi': 1, 'volatility_bbli': 0, 'volatility_kcp': 1, 'trend_macd': 1, 'trend_mass_index': 0, 'trend_dpo': 0, 'trend_adx': 0, 'trend_aroon_up': 1, 'trend_aroon_down': 0, 'trend_psar_up': 0, 'trend_psar_down': 1, 'trend_psar_up_indicator': 0, 'trend_psar_down_indicator': 0, 'momentum_pvo': 0, 'momentum_pvo_hist': 0, 'others_dr': 1, 'others_cr': 0}. \n"
     ]
    },
    {
     "name": "stderr",
     "output_type": "stream",
     "text": [
      "[I 2024-06-02 22:54:18,303] Trial 27 finished with values: [0.02364643478231871, 42.40670434850382] and parameters: {'volume_adi': 0, 'volume_obv': 0, 'volume_cmf': 1, 'volume_fi': 1, 'volume_em': 1, 'volume_sma_em': 1, 'volume_mfi': 1, 'volatility_bbw': 0, 'volatility_bbhi': 1, 'volatility_bbli': 1, 'volatility_kcp': 1, 'trend_macd': 0, 'trend_mass_index': 1, 'trend_dpo': 1, 'trend_adx': 1, 'trend_aroon_up': 1, 'trend_aroon_down': 0, 'trend_psar_up': 0, 'trend_psar_down': 0, 'trend_psar_up_indicator': 1, 'trend_psar_down_indicator': 1, 'momentum_pvo': 1, 'momentum_pvo_hist': 0, 'others_dr': 1, 'others_cr': 1}. \n"
     ]
    },
    {
     "name": "stdout",
     "output_type": "stream",
     "text": [
      "Trade times in sample: 94845 Trade times out sample: 106963\n",
      "Trial 27 finished with values: [0.02364643478231871, 42.40670434850382] and parameters: {'volume_adi': 0, 'volume_obv': 0, 'volume_cmf': 1, 'volume_fi': 1, 'volume_em': 1, 'volume_sma_em': 1, 'volume_mfi': 1, 'volatility_bbw': 0, 'volatility_bbhi': 1, 'volatility_bbli': 1, 'volatility_kcp': 1, 'trend_macd': 0, 'trend_mass_index': 1, 'trend_dpo': 1, 'trend_adx': 1, 'trend_aroon_up': 1, 'trend_aroon_down': 0, 'trend_psar_up': 0, 'trend_psar_down': 0, 'trend_psar_up_indicator': 1, 'trend_psar_down_indicator': 1, 'momentum_pvo': 1, 'momentum_pvo_hist': 0, 'others_dr': 1, 'others_cr': 1}. \n"
     ]
    },
    {
     "name": "stderr",
     "output_type": "stream",
     "text": [
      "[I 2024-06-02 22:54:19,307] Trial 28 finished with values: [-0.22669808292305915, 3.0524285769568635] and parameters: {'volume_adi': 0, 'volume_obv': 0, 'volume_cmf': 0, 'volume_fi': 0, 'volume_em': 1, 'volume_sma_em': 1, 'volume_mfi': 0, 'volatility_bbw': 1, 'volatility_bbhi': 1, 'volatility_bbli': 1, 'volatility_kcp': 1, 'trend_macd': 1, 'trend_mass_index': 0, 'trend_dpo': 0, 'trend_adx': 1, 'trend_aroon_up': 1, 'trend_aroon_down': 1, 'trend_psar_up': 0, 'trend_psar_down': 1, 'trend_psar_up_indicator': 0, 'trend_psar_down_indicator': 1, 'momentum_pvo': 1, 'momentum_pvo_hist': 0, 'others_dr': 1, 'others_cr': 1}. \n"
     ]
    },
    {
     "name": "stdout",
     "output_type": "stream",
     "text": [
      "Trade times in sample: 70445 Trade times out sample: 106963\n",
      "Trial 28 finished with values: [-0.22669808292305915, 3.0524285769568635] and parameters: {'volume_adi': 0, 'volume_obv': 0, 'volume_cmf': 0, 'volume_fi': 0, 'volume_em': 1, 'volume_sma_em': 1, 'volume_mfi': 0, 'volatility_bbw': 1, 'volatility_bbhi': 1, 'volatility_bbli': 1, 'volatility_kcp': 1, 'trend_macd': 1, 'trend_mass_index': 0, 'trend_dpo': 0, 'trend_adx': 1, 'trend_aroon_up': 1, 'trend_aroon_down': 1, 'trend_psar_up': 0, 'trend_psar_down': 1, 'trend_psar_up_indicator': 0, 'trend_psar_down_indicator': 1, 'momentum_pvo': 1, 'momentum_pvo_hist': 0, 'others_dr': 1, 'others_cr': 1}. \n"
     ]
    },
    {
     "name": "stderr",
     "output_type": "stream",
     "text": [
      "[I 2024-06-02 22:54:20,205] Trial 29 finished with values: [-0.26297170802362746, 0.9928728600283028] and parameters: {'volume_adi': 1, 'volume_obv': 1, 'volume_cmf': 0, 'volume_fi': 0, 'volume_em': 1, 'volume_sma_em': 0, 'volume_mfi': 0, 'volatility_bbw': 0, 'volatility_bbhi': 0, 'volatility_bbli': 0, 'volatility_kcp': 1, 'trend_macd': 0, 'trend_mass_index': 0, 'trend_dpo': 1, 'trend_adx': 0, 'trend_aroon_up': 1, 'trend_aroon_down': 0, 'trend_psar_up': 1, 'trend_psar_down': 0, 'trend_psar_up_indicator': 1, 'trend_psar_down_indicator': 1, 'momentum_pvo': 0, 'momentum_pvo_hist': 1, 'others_dr': 0, 'others_cr': 1}. \n"
     ]
    },
    {
     "name": "stdout",
     "output_type": "stream",
     "text": [
      "Trade times in sample: 70445 Trade times out sample: 106963\n",
      "Trial 29 finished with values: [-0.26297170802362746, 0.9928728600283028] and parameters: {'volume_adi': 1, 'volume_obv': 1, 'volume_cmf': 0, 'volume_fi': 0, 'volume_em': 1, 'volume_sma_em': 0, 'volume_mfi': 0, 'volatility_bbw': 0, 'volatility_bbhi': 0, 'volatility_bbli': 0, 'volatility_kcp': 1, 'trend_macd': 0, 'trend_mass_index': 0, 'trend_dpo': 1, 'trend_adx': 0, 'trend_aroon_up': 1, 'trend_aroon_down': 0, 'trend_psar_up': 1, 'trend_psar_down': 0, 'trend_psar_up_indicator': 1, 'trend_psar_down_indicator': 1, 'momentum_pvo': 0, 'momentum_pvo_hist': 1, 'others_dr': 0, 'others_cr': 1}. \n"
     ]
    },
    {
     "name": "stderr",
     "output_type": "stream",
     "text": [
      "[I 2024-06-02 22:54:21,110] Trial 30 finished with values: [0.08198951669230164, 10.215513823558846] and parameters: {'volume_adi': 0, 'volume_obv': 1, 'volume_cmf': 1, 'volume_fi': 0, 'volume_em': 0, 'volume_sma_em': 0, 'volume_mfi': 1, 'volatility_bbw': 1, 'volatility_bbhi': 0, 'volatility_bbli': 0, 'volatility_kcp': 1, 'trend_macd': 0, 'trend_mass_index': 0, 'trend_dpo': 0, 'trend_adx': 1, 'trend_aroon_up': 1, 'trend_aroon_down': 0, 'trend_psar_up': 0, 'trend_psar_down': 1, 'trend_psar_up_indicator': 0, 'trend_psar_down_indicator': 0, 'momentum_pvo': 1, 'momentum_pvo_hist': 1, 'others_dr': 1, 'others_cr': 0}. \n"
     ]
    },
    {
     "name": "stdout",
     "output_type": "stream",
     "text": [
      "Trade times in sample: 12129 Trade times out sample: 107069\n",
      "Trial 30 finished with values: [0.08198951669230164, 10.215513823558846] and parameters: {'volume_adi': 0, 'volume_obv': 1, 'volume_cmf': 1, 'volume_fi': 0, 'volume_em': 0, 'volume_sma_em': 0, 'volume_mfi': 1, 'volatility_bbw': 1, 'volatility_bbhi': 0, 'volatility_bbli': 0, 'volatility_kcp': 1, 'trend_macd': 0, 'trend_mass_index': 0, 'trend_dpo': 0, 'trend_adx': 1, 'trend_aroon_up': 1, 'trend_aroon_down': 0, 'trend_psar_up': 0, 'trend_psar_down': 1, 'trend_psar_up_indicator': 0, 'trend_psar_down_indicator': 0, 'momentum_pvo': 1, 'momentum_pvo_hist': 1, 'others_dr': 1, 'others_cr': 0}. \n"
     ]
    },
    {
     "name": "stderr",
     "output_type": "stream",
     "text": [
      "[I 2024-06-02 22:54:22,126] Trial 31 finished with values: [0.22349301130821603, 2.967042985268105] and parameters: {'volume_adi': 1, 'volume_obv': 1, 'volume_cmf': 1, 'volume_fi': 1, 'volume_em': 0, 'volume_sma_em': 1, 'volume_mfi': 1, 'volatility_bbw': 1, 'volatility_bbhi': 0, 'volatility_bbli': 0, 'volatility_kcp': 0, 'trend_macd': 1, 'trend_mass_index': 1, 'trend_dpo': 0, 'trend_adx': 0, 'trend_aroon_up': 1, 'trend_aroon_down': 1, 'trend_psar_up': 0, 'trend_psar_down': 0, 'trend_psar_up_indicator': 0, 'trend_psar_down_indicator': 1, 'momentum_pvo': 0, 'momentum_pvo_hist': 1, 'others_dr': 0, 'others_cr': 1}. \n"
     ]
    },
    {
     "name": "stdout",
     "output_type": "stream",
     "text": [
      "Trade times in sample: 94845 Trade times out sample: 104611\n",
      "Trial 31 finished with values: [0.22349301130821603, 2.967042985268105] and parameters: {'volume_adi': 1, 'volume_obv': 1, 'volume_cmf': 1, 'volume_fi': 1, 'volume_em': 0, 'volume_sma_em': 1, 'volume_mfi': 1, 'volatility_bbw': 1, 'volatility_bbhi': 0, 'volatility_bbli': 0, 'volatility_kcp': 0, 'trend_macd': 1, 'trend_mass_index': 1, 'trend_dpo': 0, 'trend_adx': 0, 'trend_aroon_up': 1, 'trend_aroon_down': 1, 'trend_psar_up': 0, 'trend_psar_down': 0, 'trend_psar_up_indicator': 0, 'trend_psar_down_indicator': 1, 'momentum_pvo': 0, 'momentum_pvo_hist': 1, 'others_dr': 0, 'others_cr': 1}. \n"
     ]
    },
    {
     "name": "stderr",
     "output_type": "stream",
     "text": [
      "[I 2024-06-02 22:54:23,109] Trial 32 finished with values: [-0.30943200205812876, 1.907360448926974] and parameters: {'volume_adi': 0, 'volume_obv': 1, 'volume_cmf': 1, 'volume_fi': 0, 'volume_em': 1, 'volume_sma_em': 1, 'volume_mfi': 0, 'volatility_bbw': 1, 'volatility_bbhi': 1, 'volatility_bbli': 0, 'volatility_kcp': 1, 'trend_macd': 1, 'trend_mass_index': 1, 'trend_dpo': 1, 'trend_adx': 1, 'trend_aroon_up': 0, 'trend_aroon_down': 1, 'trend_psar_up': 1, 'trend_psar_down': 1, 'trend_psar_up_indicator': 0, 'trend_psar_down_indicator': 1, 'momentum_pvo': 0, 'momentum_pvo_hist': 1, 'others_dr': 0, 'others_cr': 0}. \n"
     ]
    },
    {
     "name": "stdout",
     "output_type": "stream",
     "text": [
      "Trade times in sample: 94845 Trade times out sample: 106963\n",
      "Trial 32 finished with values: [-0.30943200205812876, 1.907360448926974] and parameters: {'volume_adi': 0, 'volume_obv': 1, 'volume_cmf': 1, 'volume_fi': 0, 'volume_em': 1, 'volume_sma_em': 1, 'volume_mfi': 0, 'volatility_bbw': 1, 'volatility_bbhi': 1, 'volatility_bbli': 0, 'volatility_kcp': 1, 'trend_macd': 1, 'trend_mass_index': 1, 'trend_dpo': 1, 'trend_adx': 1, 'trend_aroon_up': 0, 'trend_aroon_down': 1, 'trend_psar_up': 1, 'trend_psar_down': 1, 'trend_psar_up_indicator': 0, 'trend_psar_down_indicator': 1, 'momentum_pvo': 0, 'momentum_pvo_hist': 1, 'others_dr': 0, 'others_cr': 0}. \n"
     ]
    },
    {
     "name": "stderr",
     "output_type": "stream",
     "text": [
      "[I 2024-06-02 22:54:24,008] Trial 33 finished with values: [0.15564878021056378, 3.5451928551073406] and parameters: {'volume_adi': 0, 'volume_obv': 1, 'volume_cmf': 0, 'volume_fi': 0, 'volume_em': 0, 'volume_sma_em': 0, 'volume_mfi': 0, 'volatility_bbw': 1, 'volatility_bbhi': 1, 'volatility_bbli': 1, 'volatility_kcp': 1, 'trend_macd': 0, 'trend_mass_index': 0, 'trend_dpo': 1, 'trend_adx': 1, 'trend_aroon_up': 1, 'trend_aroon_down': 0, 'trend_psar_up': 0, 'trend_psar_down': 1, 'trend_psar_up_indicator': 1, 'trend_psar_down_indicator': 0, 'momentum_pvo': 1, 'momentum_pvo_hist': 1, 'others_dr': 0, 'others_cr': 0}. \n"
     ]
    },
    {
     "name": "stdout",
     "output_type": "stream",
     "text": [
      "Trade times in sample: 12129 Trade times out sample: 95817\n",
      "Trial 33 finished with values: [0.15564878021056378, 3.5451928551073406] and parameters: {'volume_adi': 0, 'volume_obv': 1, 'volume_cmf': 0, 'volume_fi': 0, 'volume_em': 0, 'volume_sma_em': 0, 'volume_mfi': 0, 'volatility_bbw': 1, 'volatility_bbhi': 1, 'volatility_bbli': 1, 'volatility_kcp': 1, 'trend_macd': 0, 'trend_mass_index': 0, 'trend_dpo': 1, 'trend_adx': 1, 'trend_aroon_up': 1, 'trend_aroon_down': 0, 'trend_psar_up': 0, 'trend_psar_down': 1, 'trend_psar_up_indicator': 1, 'trend_psar_down_indicator': 0, 'momentum_pvo': 1, 'momentum_pvo_hist': 1, 'others_dr': 0, 'others_cr': 0}. \n"
     ]
    },
    {
     "name": "stderr",
     "output_type": "stream",
     "text": [
      "[I 2024-06-02 22:54:24,922] Trial 34 finished with values: [-0.04193328163303327, 18.449123702418134] and parameters: {'volume_adi': 0, 'volume_obv': 1, 'volume_cmf': 1, 'volume_fi': 1, 'volume_em': 1, 'volume_sma_em': 0, 'volume_mfi': 1, 'volatility_bbw': 1, 'volatility_bbhi': 0, 'volatility_bbli': 1, 'volatility_kcp': 0, 'trend_macd': 0, 'trend_mass_index': 0, 'trend_dpo': 1, 'trend_adx': 0, 'trend_aroon_up': 1, 'trend_aroon_down': 1, 'trend_psar_up': 0, 'trend_psar_down': 0, 'trend_psar_up_indicator': 1, 'trend_psar_down_indicator': 1, 'momentum_pvo': 0, 'momentum_pvo_hist': 1, 'others_dr': 0, 'others_cr': 0}. \n"
     ]
    },
    {
     "name": "stdout",
     "output_type": "stream",
     "text": [
      "Trade times in sample: 70445 Trade times out sample: 106963\n",
      "Trial 34 finished with values: [-0.04193328163303327, 18.449123702418134] and parameters: {'volume_adi': 0, 'volume_obv': 1, 'volume_cmf': 1, 'volume_fi': 1, 'volume_em': 1, 'volume_sma_em': 0, 'volume_mfi': 1, 'volatility_bbw': 1, 'volatility_bbhi': 0, 'volatility_bbli': 1, 'volatility_kcp': 0, 'trend_macd': 0, 'trend_mass_index': 0, 'trend_dpo': 1, 'trend_adx': 0, 'trend_aroon_up': 1, 'trend_aroon_down': 1, 'trend_psar_up': 0, 'trend_psar_down': 0, 'trend_psar_up_indicator': 1, 'trend_psar_down_indicator': 1, 'momentum_pvo': 0, 'momentum_pvo_hist': 1, 'others_dr': 0, 'others_cr': 0}. \n"
     ]
    },
    {
     "name": "stderr",
     "output_type": "stream",
     "text": [
      "[I 2024-06-02 22:54:25,804] Trial 35 finished with values: [-0.03192773089195809, 22.61318094978328] and parameters: {'volume_adi': 0, 'volume_obv': 1, 'volume_cmf': 0, 'volume_fi': 1, 'volume_em': 0, 'volume_sma_em': 0, 'volume_mfi': 0, 'volatility_bbw': 0, 'volatility_bbhi': 0, 'volatility_bbli': 0, 'volatility_kcp': 1, 'trend_macd': 0, 'trend_mass_index': 0, 'trend_dpo': 1, 'trend_adx': 1, 'trend_aroon_up': 0, 'trend_aroon_down': 1, 'trend_psar_up': 1, 'trend_psar_down': 0, 'trend_psar_up_indicator': 1, 'trend_psar_down_indicator': 0, 'momentum_pvo': 1, 'momentum_pvo_hist': 0, 'others_dr': 1, 'others_cr': 0}. \n"
     ]
    },
    {
     "name": "stdout",
     "output_type": "stream",
     "text": [
      "Trade times in sample: 12129 Trade times out sample: 104511\n",
      "Trial 35 finished with values: [-0.03192773089195809, 22.61318094978328] and parameters: {'volume_adi': 0, 'volume_obv': 1, 'volume_cmf': 0, 'volume_fi': 1, 'volume_em': 0, 'volume_sma_em': 0, 'volume_mfi': 0, 'volatility_bbw': 0, 'volatility_bbhi': 0, 'volatility_bbli': 0, 'volatility_kcp': 1, 'trend_macd': 0, 'trend_mass_index': 0, 'trend_dpo': 1, 'trend_adx': 1, 'trend_aroon_up': 0, 'trend_aroon_down': 1, 'trend_psar_up': 1, 'trend_psar_down': 0, 'trend_psar_up_indicator': 1, 'trend_psar_down_indicator': 0, 'momentum_pvo': 1, 'momentum_pvo_hist': 0, 'others_dr': 1, 'others_cr': 0}. \n"
     ]
    },
    {
     "name": "stderr",
     "output_type": "stream",
     "text": [
      "[I 2024-06-02 22:54:26,802] Trial 36 finished with values: [-0.1401720404302516, 5.307063869843322] and parameters: {'volume_adi': 1, 'volume_obv': 1, 'volume_cmf': 0, 'volume_fi': 1, 'volume_em': 1, 'volume_sma_em': 0, 'volume_mfi': 1, 'volatility_bbw': 1, 'volatility_bbhi': 1, 'volatility_bbli': 1, 'volatility_kcp': 1, 'trend_macd': 1, 'trend_mass_index': 0, 'trend_dpo': 1, 'trend_adx': 0, 'trend_aroon_up': 1, 'trend_aroon_down': 1, 'trend_psar_up': 1, 'trend_psar_down': 1, 'trend_psar_up_indicator': 0, 'trend_psar_down_indicator': 1, 'momentum_pvo': 0, 'momentum_pvo_hist': 1, 'others_dr': 0, 'others_cr': 1}. \n"
     ]
    },
    {
     "name": "stdout",
     "output_type": "stream",
     "text": [
      "Trade times in sample: 70445 Trade times out sample: 106963\n",
      "Trial 36 finished with values: [-0.1401720404302516, 5.307063869843322] and parameters: {'volume_adi': 1, 'volume_obv': 1, 'volume_cmf': 0, 'volume_fi': 1, 'volume_em': 1, 'volume_sma_em': 0, 'volume_mfi': 1, 'volatility_bbw': 1, 'volatility_bbhi': 1, 'volatility_bbli': 1, 'volatility_kcp': 1, 'trend_macd': 1, 'trend_mass_index': 0, 'trend_dpo': 1, 'trend_adx': 0, 'trend_aroon_up': 1, 'trend_aroon_down': 1, 'trend_psar_up': 1, 'trend_psar_down': 1, 'trend_psar_up_indicator': 0, 'trend_psar_down_indicator': 1, 'momentum_pvo': 0, 'momentum_pvo_hist': 1, 'others_dr': 0, 'others_cr': 1}. \n"
     ]
    },
    {
     "name": "stderr",
     "output_type": "stream",
     "text": [
      "[I 2024-06-02 22:54:27,762] Trial 37 finished with values: [-0.026025006517405223, 32.8215587516122] and parameters: {'volume_adi': 1, 'volume_obv': 1, 'volume_cmf': 1, 'volume_fi': 1, 'volume_em': 1, 'volume_sma_em': 1, 'volume_mfi': 0, 'volatility_bbw': 1, 'volatility_bbhi': 1, 'volatility_bbli': 1, 'volatility_kcp': 0, 'trend_macd': 0, 'trend_mass_index': 1, 'trend_dpo': 0, 'trend_adx': 1, 'trend_aroon_up': 0, 'trend_aroon_down': 1, 'trend_psar_up': 0, 'trend_psar_down': 0, 'trend_psar_up_indicator': 1, 'trend_psar_down_indicator': 0, 'momentum_pvo': 1, 'momentum_pvo_hist': 0, 'others_dr': 0, 'others_cr': 1}. \n"
     ]
    },
    {
     "name": "stdout",
     "output_type": "stream",
     "text": [
      "Trade times in sample: 94845 Trade times out sample: 106963\n",
      "Trial 37 finished with values: [-0.026025006517405223, 32.8215587516122] and parameters: {'volume_adi': 1, 'volume_obv': 1, 'volume_cmf': 1, 'volume_fi': 1, 'volume_em': 1, 'volume_sma_em': 1, 'volume_mfi': 0, 'volatility_bbw': 1, 'volatility_bbhi': 1, 'volatility_bbli': 1, 'volatility_kcp': 0, 'trend_macd': 0, 'trend_mass_index': 1, 'trend_dpo': 0, 'trend_adx': 1, 'trend_aroon_up': 0, 'trend_aroon_down': 1, 'trend_psar_up': 0, 'trend_psar_down': 0, 'trend_psar_up_indicator': 1, 'trend_psar_down_indicator': 0, 'momentum_pvo': 1, 'momentum_pvo_hist': 0, 'others_dr': 0, 'others_cr': 1}. \n"
     ]
    },
    {
     "name": "stderr",
     "output_type": "stream",
     "text": [
      "[I 2024-06-02 22:54:28,733] Trial 38 finished with values: [-0.6648470532642228, 0.34101752976108624] and parameters: {'volume_adi': 0, 'volume_obv': 0, 'volume_cmf': 0, 'volume_fi': 0, 'volume_em': 1, 'volume_sma_em': 1, 'volume_mfi': 1, 'volatility_bbw': 1, 'volatility_bbhi': 0, 'volatility_bbli': 1, 'volatility_kcp': 0, 'trend_macd': 0, 'trend_mass_index': 0, 'trend_dpo': 1, 'trend_adx': 1, 'trend_aroon_up': 1, 'trend_aroon_down': 0, 'trend_psar_up': 1, 'trend_psar_down': 1, 'trend_psar_up_indicator': 1, 'trend_psar_down_indicator': 0, 'momentum_pvo': 1, 'momentum_pvo_hist': 1, 'others_dr': 1, 'others_cr': 1}. \n"
     ]
    },
    {
     "name": "stdout",
     "output_type": "stream",
     "text": [
      "Trade times in sample: 94685 Trade times out sample: 106963\n",
      "Trial 38 finished with values: [-0.6648470532642228, 0.34101752976108624] and parameters: {'volume_adi': 0, 'volume_obv': 0, 'volume_cmf': 0, 'volume_fi': 0, 'volume_em': 1, 'volume_sma_em': 1, 'volume_mfi': 1, 'volatility_bbw': 1, 'volatility_bbhi': 0, 'volatility_bbli': 1, 'volatility_kcp': 0, 'trend_macd': 0, 'trend_mass_index': 0, 'trend_dpo': 1, 'trend_adx': 1, 'trend_aroon_up': 1, 'trend_aroon_down': 0, 'trend_psar_up': 1, 'trend_psar_down': 1, 'trend_psar_up_indicator': 1, 'trend_psar_down_indicator': 0, 'momentum_pvo': 1, 'momentum_pvo_hist': 1, 'others_dr': 1, 'others_cr': 1}. \n"
     ]
    },
    {
     "name": "stderr",
     "output_type": "stream",
     "text": [
      "[I 2024-06-02 22:54:29,693] Trial 39 finished with values: [-0.20139973900258887, 2.5300066198104774] and parameters: {'volume_adi': 0, 'volume_obv': 1, 'volume_cmf': 0, 'volume_fi': 0, 'volume_em': 0, 'volume_sma_em': 0, 'volume_mfi': 1, 'volatility_bbw': 1, 'volatility_bbhi': 1, 'volatility_bbli': 1, 'volatility_kcp': 0, 'trend_macd': 0, 'trend_mass_index': 1, 'trend_dpo': 1, 'trend_adx': 1, 'trend_aroon_up': 0, 'trend_aroon_down': 0, 'trend_psar_up': 1, 'trend_psar_down': 1, 'trend_psar_up_indicator': 1, 'trend_psar_down_indicator': 1, 'momentum_pvo': 1, 'momentum_pvo_hist': 1, 'others_dr': 1, 'others_cr': 1}. \n"
     ]
    },
    {
     "name": "stdout",
     "output_type": "stream",
     "text": [
      "Trade times in sample: 11486 Trade times out sample: 103223\n",
      "Trial 39 finished with values: [-0.20139973900258887, 2.5300066198104774] and parameters: {'volume_adi': 0, 'volume_obv': 1, 'volume_cmf': 0, 'volume_fi': 0, 'volume_em': 0, 'volume_sma_em': 0, 'volume_mfi': 1, 'volatility_bbw': 1, 'volatility_bbhi': 1, 'volatility_bbli': 1, 'volatility_kcp': 0, 'trend_macd': 0, 'trend_mass_index': 1, 'trend_dpo': 1, 'trend_adx': 1, 'trend_aroon_up': 0, 'trend_aroon_down': 0, 'trend_psar_up': 1, 'trend_psar_down': 1, 'trend_psar_up_indicator': 1, 'trend_psar_down_indicator': 1, 'momentum_pvo': 1, 'momentum_pvo_hist': 1, 'others_dr': 1, 'others_cr': 1}. \n"
     ]
    },
    {
     "name": "stderr",
     "output_type": "stream",
     "text": [
      "[I 2024-06-02 22:54:30,569] Trial 40 finished with values: [-0.1513794525480454, 2.8352248607094763] and parameters: {'volume_adi': 1, 'volume_obv': 1, 'volume_cmf': 0, 'volume_fi': 0, 'volume_em': 1, 'volume_sma_em': 0, 'volume_mfi': 0, 'volatility_bbw': 1, 'volatility_bbhi': 1, 'volatility_bbli': 0, 'volatility_kcp': 0, 'trend_macd': 0, 'trend_mass_index': 0, 'trend_dpo': 0, 'trend_adx': 0, 'trend_aroon_up': 1, 'trend_aroon_down': 1, 'trend_psar_up': 0, 'trend_psar_down': 1, 'trend_psar_up_indicator': 0, 'trend_psar_down_indicator': 1, 'momentum_pvo': 0, 'momentum_pvo_hist': 0, 'others_dr': 0, 'others_cr': 1}. \n"
     ]
    },
    {
     "name": "stdout",
     "output_type": "stream",
     "text": [
      "Trade times in sample: 46045 Trade times out sample: 106963\n",
      "Trial 40 finished with values: [-0.1513794525480454, 2.8352248607094763] and parameters: {'volume_adi': 1, 'volume_obv': 1, 'volume_cmf': 0, 'volume_fi': 0, 'volume_em': 1, 'volume_sma_em': 0, 'volume_mfi': 0, 'volatility_bbw': 1, 'volatility_bbhi': 1, 'volatility_bbli': 0, 'volatility_kcp': 0, 'trend_macd': 0, 'trend_mass_index': 0, 'trend_dpo': 0, 'trend_adx': 0, 'trend_aroon_up': 1, 'trend_aroon_down': 1, 'trend_psar_up': 0, 'trend_psar_down': 1, 'trend_psar_up_indicator': 0, 'trend_psar_down_indicator': 1, 'momentum_pvo': 0, 'momentum_pvo_hist': 0, 'others_dr': 0, 'others_cr': 1}. \n"
     ]
    },
    {
     "name": "stderr",
     "output_type": "stream",
     "text": [
      "[I 2024-06-02 22:54:31,513] Trial 41 finished with values: [-0.09698235351129776, 6.451419271936282] and parameters: {'volume_adi': 0, 'volume_obv': 1, 'volume_cmf': 0, 'volume_fi': 0, 'volume_em': 1, 'volume_sma_em': 0, 'volume_mfi': 0, 'volatility_bbw': 1, 'volatility_bbhi': 1, 'volatility_bbli': 0, 'volatility_kcp': 1, 'trend_macd': 0, 'trend_mass_index': 0, 'trend_dpo': 0, 'trend_adx': 1, 'trend_aroon_up': 1, 'trend_aroon_down': 1, 'trend_psar_up': 0, 'trend_psar_down': 1, 'trend_psar_up_indicator': 1, 'trend_psar_down_indicator': 0, 'momentum_pvo': 0, 'momentum_pvo_hist': 0, 'others_dr': 0, 'others_cr': 0}. \n"
     ]
    },
    {
     "name": "stdout",
     "output_type": "stream",
     "text": [
      "Trade times in sample: 70445 Trade times out sample: 106963\n",
      "Trial 41 finished with values: [-0.09698235351129776, 6.451419271936282] and parameters: {'volume_adi': 0, 'volume_obv': 1, 'volume_cmf': 0, 'volume_fi': 0, 'volume_em': 1, 'volume_sma_em': 0, 'volume_mfi': 0, 'volatility_bbw': 1, 'volatility_bbhi': 1, 'volatility_bbli': 0, 'volatility_kcp': 1, 'trend_macd': 0, 'trend_mass_index': 0, 'trend_dpo': 0, 'trend_adx': 1, 'trend_aroon_up': 1, 'trend_aroon_down': 1, 'trend_psar_up': 0, 'trend_psar_down': 1, 'trend_psar_up_indicator': 1, 'trend_psar_down_indicator': 0, 'momentum_pvo': 0, 'momentum_pvo_hist': 0, 'others_dr': 0, 'others_cr': 0}. \n"
     ]
    },
    {
     "name": "stderr",
     "output_type": "stream",
     "text": [
      "[I 2024-06-02 22:54:32,491] Trial 42 finished with values: [-0.16066066474256235, 5.270359820811167] and parameters: {'volume_adi': 0, 'volume_obv': 1, 'volume_cmf': 0, 'volume_fi': 0, 'volume_em': 1, 'volume_sma_em': 1, 'volume_mfi': 0, 'volatility_bbw': 1, 'volatility_bbhi': 1, 'volatility_bbli': 1, 'volatility_kcp': 0, 'trend_macd': 1, 'trend_mass_index': 0, 'trend_dpo': 1, 'trend_adx': 0, 'trend_aroon_up': 1, 'trend_aroon_down': 0, 'trend_psar_up': 1, 'trend_psar_down': 0, 'trend_psar_up_indicator': 0, 'trend_psar_down_indicator': 1, 'momentum_pvo': 1, 'momentum_pvo_hist': 1, 'others_dr': 1, 'others_cr': 1}. \n"
     ]
    },
    {
     "name": "stdout",
     "output_type": "stream",
     "text": [
      "Trade times in sample: 70445 Trade times out sample: 106963\n",
      "Trial 42 finished with values: [-0.16066066474256235, 5.270359820811167] and parameters: {'volume_adi': 0, 'volume_obv': 1, 'volume_cmf': 0, 'volume_fi': 0, 'volume_em': 1, 'volume_sma_em': 1, 'volume_mfi': 0, 'volatility_bbw': 1, 'volatility_bbhi': 1, 'volatility_bbli': 1, 'volatility_kcp': 0, 'trend_macd': 1, 'trend_mass_index': 0, 'trend_dpo': 1, 'trend_adx': 0, 'trend_aroon_up': 1, 'trend_aroon_down': 0, 'trend_psar_up': 1, 'trend_psar_down': 0, 'trend_psar_up_indicator': 0, 'trend_psar_down_indicator': 1, 'momentum_pvo': 1, 'momentum_pvo_hist': 1, 'others_dr': 1, 'others_cr': 1}. \n"
     ]
    },
    {
     "name": "stderr",
     "output_type": "stream",
     "text": [
      "[I 2024-06-02 22:54:33,426] Trial 43 finished with values: [-0.14297176673436865, 4.698515731293571] and parameters: {'volume_adi': 1, 'volume_obv': 1, 'volume_cmf': 0, 'volume_fi': 1, 'volume_em': 0, 'volume_sma_em': 1, 'volume_mfi': 1, 'volatility_bbw': 1, 'volatility_bbhi': 0, 'volatility_bbli': 0, 'volatility_kcp': 0, 'trend_macd': 1, 'trend_mass_index': 0, 'trend_dpo': 1, 'trend_adx': 0, 'trend_aroon_up': 1, 'trend_aroon_down': 0, 'trend_psar_up': 0, 'trend_psar_down': 0, 'trend_psar_up_indicator': 0, 'trend_psar_down_indicator': 1, 'momentum_pvo': 1, 'momentum_pvo_hist': 0, 'others_dr': 1, 'others_cr': 0}. \n"
     ]
    },
    {
     "name": "stdout",
     "output_type": "stream",
     "text": [
      "Trade times in sample: 12129 Trade times out sample: 104611\n",
      "Trial 43 finished with values: [-0.14297176673436865, 4.698515731293571] and parameters: {'volume_adi': 1, 'volume_obv': 1, 'volume_cmf': 0, 'volume_fi': 1, 'volume_em': 0, 'volume_sma_em': 1, 'volume_mfi': 1, 'volatility_bbw': 1, 'volatility_bbhi': 0, 'volatility_bbli': 0, 'volatility_kcp': 0, 'trend_macd': 1, 'trend_mass_index': 0, 'trend_dpo': 1, 'trend_adx': 0, 'trend_aroon_up': 1, 'trend_aroon_down': 0, 'trend_psar_up': 0, 'trend_psar_down': 0, 'trend_psar_up_indicator': 0, 'trend_psar_down_indicator': 1, 'momentum_pvo': 1, 'momentum_pvo_hist': 0, 'others_dr': 1, 'others_cr': 0}. \n"
     ]
    },
    {
     "name": "stderr",
     "output_type": "stream",
     "text": [
      "[I 2024-06-02 22:54:34,289] Trial 44 finished with values: [0.09635870028960444, 6.549807744840724] and parameters: {'volume_adi': 1, 'volume_obv': 1, 'volume_cmf': 0, 'volume_fi': 0, 'volume_em': 0, 'volume_sma_em': 1, 'volume_mfi': 1, 'volatility_bbw': 0, 'volatility_bbhi': 0, 'volatility_bbli': 0, 'volatility_kcp': 0, 'trend_macd': 0, 'trend_mass_index': 0, 'trend_dpo': 0, 'trend_adx': 0, 'trend_aroon_up': 0, 'trend_aroon_down': 1, 'trend_psar_up': 1, 'trend_psar_down': 0, 'trend_psar_up_indicator': 1, 'trend_psar_down_indicator': 0, 'momentum_pvo': 0, 'momentum_pvo_hist': 0, 'others_dr': 0, 'others_cr': 1}. \n"
     ]
    },
    {
     "name": "stdout",
     "output_type": "stream",
     "text": [
      "Trade times in sample: 94845 Trade times out sample: 100620\n",
      "Trial 44 finished with values: [0.09635870028960444, 6.549807744840724] and parameters: {'volume_adi': 1, 'volume_obv': 1, 'volume_cmf': 0, 'volume_fi': 0, 'volume_em': 0, 'volume_sma_em': 1, 'volume_mfi': 1, 'volatility_bbw': 0, 'volatility_bbhi': 0, 'volatility_bbli': 0, 'volatility_kcp': 0, 'trend_macd': 0, 'trend_mass_index': 0, 'trend_dpo': 0, 'trend_adx': 0, 'trend_aroon_up': 0, 'trend_aroon_down': 1, 'trend_psar_up': 1, 'trend_psar_down': 0, 'trend_psar_up_indicator': 1, 'trend_psar_down_indicator': 0, 'momentum_pvo': 0, 'momentum_pvo_hist': 0, 'others_dr': 0, 'others_cr': 1}. \n"
     ]
    },
    {
     "name": "stderr",
     "output_type": "stream",
     "text": [
      "[I 2024-06-02 22:54:35,236] Trial 45 finished with values: [-0.421398492050932, 0.8124141154591906] and parameters: {'volume_adi': 0, 'volume_obv': 1, 'volume_cmf': 1, 'volume_fi': 1, 'volume_em': 1, 'volume_sma_em': 0, 'volume_mfi': 0, 'volatility_bbw': 1, 'volatility_bbhi': 0, 'volatility_bbli': 1, 'volatility_kcp': 1, 'trend_macd': 0, 'trend_mass_index': 0, 'trend_dpo': 1, 'trend_adx': 1, 'trend_aroon_up': 1, 'trend_aroon_down': 0, 'trend_psar_up': 0, 'trend_psar_down': 1, 'trend_psar_up_indicator': 1, 'trend_psar_down_indicator': 0, 'momentum_pvo': 1, 'momentum_pvo_hist': 0, 'others_dr': 0, 'others_cr': 1}. \n"
     ]
    },
    {
     "name": "stdout",
     "output_type": "stream",
     "text": [
      "Trade times in sample: 70445 Trade times out sample: 106963\n",
      "Trial 45 finished with values: [-0.421398492050932, 0.8124141154591906] and parameters: {'volume_adi': 0, 'volume_obv': 1, 'volume_cmf': 1, 'volume_fi': 1, 'volume_em': 1, 'volume_sma_em': 0, 'volume_mfi': 0, 'volatility_bbw': 1, 'volatility_bbhi': 0, 'volatility_bbli': 1, 'volatility_kcp': 1, 'trend_macd': 0, 'trend_mass_index': 0, 'trend_dpo': 1, 'trend_adx': 1, 'trend_aroon_up': 1, 'trend_aroon_down': 0, 'trend_psar_up': 0, 'trend_psar_down': 1, 'trend_psar_up_indicator': 1, 'trend_psar_down_indicator': 0, 'momentum_pvo': 1, 'momentum_pvo_hist': 0, 'others_dr': 0, 'others_cr': 1}. \n"
     ]
    },
    {
     "name": "stderr",
     "output_type": "stream",
     "text": [
      "[I 2024-06-02 22:54:36,176] Trial 46 finished with values: [0.10373023888215958, 6.7762364330998945] and parameters: {'volume_adi': 1, 'volume_obv': 0, 'volume_cmf': 1, 'volume_fi': 1, 'volume_em': 0, 'volume_sma_em': 0, 'volume_mfi': 1, 'volatility_bbw': 1, 'volatility_bbhi': 0, 'volatility_bbli': 0, 'volatility_kcp': 0, 'trend_macd': 1, 'trend_mass_index': 1, 'trend_dpo': 0, 'trend_adx': 0, 'trend_aroon_up': 1, 'trend_aroon_down': 1, 'trend_psar_up': 1, 'trend_psar_down': 0, 'trend_psar_up_indicator': 1, 'trend_psar_down_indicator': 1, 'momentum_pvo': 1, 'momentum_pvo_hist': 0, 'others_dr': 0, 'others_cr': 1}. \n"
     ]
    },
    {
     "name": "stdout",
     "output_type": "stream",
     "text": [
      "Trade times in sample: 94845 Trade times out sample: 96086\n",
      "Trial 46 finished with values: [0.10373023888215958, 6.7762364330998945] and parameters: {'volume_adi': 1, 'volume_obv': 0, 'volume_cmf': 1, 'volume_fi': 1, 'volume_em': 0, 'volume_sma_em': 0, 'volume_mfi': 1, 'volatility_bbw': 1, 'volatility_bbhi': 0, 'volatility_bbli': 0, 'volatility_kcp': 0, 'trend_macd': 1, 'trend_mass_index': 1, 'trend_dpo': 0, 'trend_adx': 0, 'trend_aroon_up': 1, 'trend_aroon_down': 1, 'trend_psar_up': 1, 'trend_psar_down': 0, 'trend_psar_up_indicator': 1, 'trend_psar_down_indicator': 1, 'momentum_pvo': 1, 'momentum_pvo_hist': 0, 'others_dr': 0, 'others_cr': 1}. \n"
     ]
    },
    {
     "name": "stderr",
     "output_type": "stream",
     "text": [
      "[I 2024-06-02 22:54:37,143] Trial 47 finished with values: [-0.24310167479417658, 2.824932528330221] and parameters: {'volume_adi': 1, 'volume_obv': 1, 'volume_cmf': 1, 'volume_fi': 1, 'volume_em': 1, 'volume_sma_em': 1, 'volume_mfi': 0, 'volatility_bbw': 0, 'volatility_bbhi': 1, 'volatility_bbli': 0, 'volatility_kcp': 0, 'trend_macd': 0, 'trend_mass_index': 0, 'trend_dpo': 0, 'trend_adx': 0, 'trend_aroon_up': 0, 'trend_aroon_down': 1, 'trend_psar_up': 1, 'trend_psar_down': 1, 'trend_psar_up_indicator': 1, 'trend_psar_down_indicator': 0, 'momentum_pvo': 1, 'momentum_pvo_hist': 1, 'others_dr': 1, 'others_cr': 1}. \n"
     ]
    },
    {
     "name": "stdout",
     "output_type": "stream",
     "text": [
      "Trade times in sample: 94845 Trade times out sample: 106963\n",
      "Trial 47 finished with values: [-0.24310167479417658, 2.824932528330221] and parameters: {'volume_adi': 1, 'volume_obv': 1, 'volume_cmf': 1, 'volume_fi': 1, 'volume_em': 1, 'volume_sma_em': 1, 'volume_mfi': 0, 'volatility_bbw': 0, 'volatility_bbhi': 1, 'volatility_bbli': 0, 'volatility_kcp': 0, 'trend_macd': 0, 'trend_mass_index': 0, 'trend_dpo': 0, 'trend_adx': 0, 'trend_aroon_up': 0, 'trend_aroon_down': 1, 'trend_psar_up': 1, 'trend_psar_down': 1, 'trend_psar_up_indicator': 1, 'trend_psar_down_indicator': 0, 'momentum_pvo': 1, 'momentum_pvo_hist': 1, 'others_dr': 1, 'others_cr': 1}. \n"
     ]
    },
    {
     "name": "stderr",
     "output_type": "stream",
     "text": [
      "[I 2024-06-02 22:54:38,085] Trial 48 finished with values: [-0.44278225569874047, 0.7974884492074179] and parameters: {'volume_adi': 1, 'volume_obv': 1, 'volume_cmf': 1, 'volume_fi': 0, 'volume_em': 1, 'volume_sma_em': 0, 'volume_mfi': 1, 'volatility_bbw': 1, 'volatility_bbhi': 0, 'volatility_bbli': 1, 'volatility_kcp': 0, 'trend_macd': 1, 'trend_mass_index': 0, 'trend_dpo': 0, 'trend_adx': 0, 'trend_aroon_up': 1, 'trend_aroon_down': 0, 'trend_psar_up': 1, 'trend_psar_down': 1, 'trend_psar_up_indicator': 1, 'trend_psar_down_indicator': 1, 'momentum_pvo': 0, 'momentum_pvo_hist': 1, 'others_dr': 1, 'others_cr': 0}. \n"
     ]
    },
    {
     "name": "stdout",
     "output_type": "stream",
     "text": [
      "Trade times in sample: 70445 Trade times out sample: 106963\n",
      "Trial 48 finished with values: [-0.44278225569874047, 0.7974884492074179] and parameters: {'volume_adi': 1, 'volume_obv': 1, 'volume_cmf': 1, 'volume_fi': 0, 'volume_em': 1, 'volume_sma_em': 0, 'volume_mfi': 1, 'volatility_bbw': 1, 'volatility_bbhi': 0, 'volatility_bbli': 1, 'volatility_kcp': 0, 'trend_macd': 1, 'trend_mass_index': 0, 'trend_dpo': 0, 'trend_adx': 0, 'trend_aroon_up': 1, 'trend_aroon_down': 0, 'trend_psar_up': 1, 'trend_psar_down': 1, 'trend_psar_up_indicator': 1, 'trend_psar_down_indicator': 1, 'momentum_pvo': 0, 'momentum_pvo_hist': 1, 'others_dr': 1, 'others_cr': 0}. \n"
     ]
    },
    {
     "name": "stderr",
     "output_type": "stream",
     "text": [
      "[I 2024-06-02 22:54:39,119] Trial 49 finished with values: [-0.2665902564118872, 2.3344237338188845] and parameters: {'volume_adi': 1, 'volume_obv': 0, 'volume_cmf': 1, 'volume_fi': 0, 'volume_em': 0, 'volume_sma_em': 1, 'volume_mfi': 1, 'volatility_bbw': 1, 'volatility_bbhi': 1, 'volatility_bbli': 1, 'volatility_kcp': 1, 'trend_macd': 1, 'trend_mass_index': 1, 'trend_dpo': 1, 'trend_adx': 0, 'trend_aroon_up': 1, 'trend_aroon_down': 0, 'trend_psar_up': 1, 'trend_psar_down': 0, 'trend_psar_up_indicator': 1, 'trend_psar_down_indicator': 1, 'momentum_pvo': 1, 'momentum_pvo_hist': 1, 'others_dr': 1, 'others_cr': 1}. \n"
     ]
    },
    {
     "name": "stdout",
     "output_type": "stream",
     "text": [
      "Trade times in sample: 94845 Trade times out sample: 104038\n",
      "Trial 49 finished with values: [-0.2665902564118872, 2.3344237338188845] and parameters: {'volume_adi': 1, 'volume_obv': 0, 'volume_cmf': 1, 'volume_fi': 0, 'volume_em': 0, 'volume_sma_em': 1, 'volume_mfi': 1, 'volatility_bbw': 1, 'volatility_bbhi': 1, 'volatility_bbli': 1, 'volatility_kcp': 1, 'trend_macd': 1, 'trend_mass_index': 1, 'trend_dpo': 1, 'trend_adx': 0, 'trend_aroon_up': 1, 'trend_aroon_down': 0, 'trend_psar_up': 1, 'trend_psar_down': 0, 'trend_psar_up_indicator': 1, 'trend_psar_down_indicator': 1, 'momentum_pvo': 1, 'momentum_pvo_hist': 1, 'others_dr': 1, 'others_cr': 1}. \n"
     ]
    }
   ],
   "source": [
    "\"\"\"## Define number of trials (no 2)\"\"\"\n",
    "\n",
    "# Create a study object and optimize the objective function\n",
    "study = optuna.create_study(directions=['maximize', 'minimize'])\n",
    "unique_trials = 50\n",
    "\n",
    "while unique_trials > len(set(str(t.params) for t in study.trials)):\n",
    "    study.optimize(lambda trial: objective(trial, X_train, X_valid, y_train, y_valid, train_data['Close']), n_trials=1)\n",
    "    study.trials_dataframe().sort_values('values_0').to_csv('feature_trials.csv')\n",
    "    joblib.dump(study, 'abmodel.pkl')\n",
    "    \n",
    "trials = study.trials\n",
    "trials.sort(key=lambda trial: trial.values, reverse=True)\n",
    "study.trials_dataframe().sort_values('values_0', ascending=False).duplicated().sum()\n",
    "\n",
    "\"\"\"## Checking part for fixing bug\"\"\"\n",
    "df =study.trials_dataframe()\n",
    "\n",
    "df.to_csv('save_trials.csv')"
   ]
  },
  {
   "cell_type": "markdown",
   "metadata": {},
   "source": []
  }
 ],
 "metadata": {
  "kernelspec": {
   "display_name": "Python 3",
   "language": "python",
   "name": "python3"
  },
  "language_info": {
   "codemirror_mode": {
    "name": "ipython",
    "version": 3
   },
   "file_extension": ".py",
   "mimetype": "text/x-python",
   "name": "python",
   "nbconvert_exporter": "python",
   "pygments_lexer": "ipython3",
   "version": "3.10.1"
  }
 },
 "nbformat": 4,
 "nbformat_minor": 2
}
