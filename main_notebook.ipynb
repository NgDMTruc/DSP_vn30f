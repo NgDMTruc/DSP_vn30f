{
 "cells": [
  {
   "cell_type": "markdown",
   "metadata": {},
   "source": [
    "## Install dependencies"
   ]
  },
  {
   "cell_type": "code",
   "execution_count": 1,
   "metadata": {},
   "outputs": [
    {
     "name": "stderr",
     "output_type": "stream",
     "text": [
      "c:\\Users\\Minh Truc\\AppData\\Local\\Programs\\Python\\Python310\\lib\\site-packages\\tqdm\\auto.py:21: TqdmWarning: IProgress not found. Please update jupyter and ipywidgets. See https://ipywidgets.readthedocs.io/en/stable/user_install.html\n",
      "  from .autonotebook import tqdm as notebook_tqdm\n"
     ]
    }
   ],
   "source": [
    "from datetime import datetime, timedelta, timezone\n",
    "import pandas as pd\n",
    "import numpy as np\n",
    "import requests\n",
    "import os\n",
    "import logging\n",
    "import sys\n",
    "import optuna\n",
    "import joblib\n",
    "import xgboost as xgb"
   ]
  },
  {
   "cell_type": "code",
   "execution_count": 2,
   "metadata": {},
   "outputs": [],
   "source": [
    "from sklearn.model_selection import train_test_split\n",
    "from sklearn.preprocessing import StandardScaler\n",
    "from datetime import datetime, timedelta\n",
    "from ta import add_all_ta_features"
   ]
  },
  {
   "cell_type": "code",
   "execution_count": 3,
   "metadata": {},
   "outputs": [],
   "source": [
    "import matplotlib.pyplot as plt\n",
    "import matplotlib"
   ]
  },
  {
   "cell_type": "markdown",
   "metadata": {},
   "source": [
    "## Variables"
   ]
  },
  {
   "cell_type": "code",
   "execution_count": 4,
   "metadata": {},
   "outputs": [],
   "source": [
    "current_storage = os.path.join(\"d:\", \"data\")\n",
    "vn30f_storage = os.path.join(current_storage, 'vn30f')"
   ]
  },
  {
   "cell_type": "code",
   "execution_count": 5,
   "metadata": {},
   "outputs": [],
   "source": [
    "start_time = 0\n",
    "now_time = 9999999999\n",
    "symbol = 'VN30F1M'\n",
    "rolling_window = 1 # Số phút muốn dự đoán tiếp theo"
   ]
  },
  {
   "cell_type": "code",
   "execution_count": 6,
   "metadata": {},
   "outputs": [],
   "source": [
    "# Add stream handler of stdout to show the messages\n",
    "optuna.logging.get_logger(\"optuna\").addHandler(logging.StreamHandler(sys.stdout))\n",
    "study_name = \"btc1-study\"  # Unique identifier of the study.\n",
    "storage_name = \"sqlite:///{}.db\".format(study_name)"
   ]
  },
  {
   "cell_type": "markdown",
   "metadata": {},
   "source": [
    "## Formulas"
   ]
  },
  {
   "cell_type": "code",
   "execution_count": 7,
   "metadata": {},
   "outputs": [],
   "source": [
    "def choose_position(roi, trade_threshold = 0.0005):\n",
    "    pos =0\n",
    "    # Predict position base on change in future\n",
    "    if roi > trade_threshold:\n",
    "        pos = 1\n",
    "    elif roi < -trade_threshold:\n",
    "        pos = -1\n",
    "    else:\n",
    "        pos = 0\n",
    "\n",
    "    return pos"
   ]
  },
  {
   "cell_type": "code",
   "execution_count": 8,
   "metadata": {},
   "outputs": [],
   "source": [
    "def backtest_position_ps(position, price, percentage, periods):\n",
    "    # Shift positions to align with future price changes and handle NaN by filling with 0\n",
    "    pos = pd.Series(position, index=pd.Series(price).index).shift(1).fillna(0)\n",
    "    pos = pd.Series(pos).rolling(periods).sum() #pos for 10 hour predict\n",
    "\n",
    "    price_array = pd.Series(price).shift(1).fillna(0)\n",
    "\n",
    "    pos_diff = pos.diff()\n",
    "    fee = pos_diff*price_array*0.05*0.01\n",
    "\n",
    "    # Calculate price changes over the given periods\n",
    "    ch = pd.Series(price) - price_array\n",
    "\n",
    "    # Calculate total PnL\n",
    "    total_pnl = pos*ch - fee\n",
    "    return total_pnl"
   ]
  },
  {
   "cell_type": "code",
   "execution_count": 9,
   "metadata": {},
   "outputs": [],
   "source": [
    "def calculate_sharpe_ratio(pnl):\n",
    "    pnl = np.diff(pnl)\n",
    "    std = np.std(pnl) if np.std(pnl) != 0 else 0.001\n",
    "    sharpe = np.mean(pnl)/std*np.sqrt(252)\n",
    "    return sharpe"
   ]
  },
  {
   "cell_type": "code",
   "execution_count": 10,
   "metadata": {},
   "outputs": [],
   "source": [
    "def sharpe_for_vn30f(y_pred, y_price, trade_threshold, fee_perc, periods):\n",
    "\n",
    "    # Predict position base on change in future\n",
    "    pos = [choose_position(roi, trade_threshold) for roi in y_pred]\n",
    "    pos = np.array(pos)\n",
    "\n",
    "    # Calculate PNL\n",
    "    pnl = backtest_position_ps(pos, y_price, fee_perc, periods)\n",
    "    pnl = np.cumsum(pnl)\n",
    "\n",
    "    # Standardalize PNL to date\n",
    "    daily_pnl = [pnl.iloc[i] for i in range(0, len(pnl), 24)]\n",
    "    daily_pnl = pd.Series(daily_pnl).fillna(0)\n",
    "\n",
    "    # Calculate Sharpe\n",
    "    sharpe = calculate_sharpe_ratio(daily_pnl)\n",
    "\n",
    "    return pos, pnl, daily_pnl, sharpe"
   ]
  },
  {
   "cell_type": "code",
   "execution_count": 11,
   "metadata": {},
   "outputs": [],
   "source": [
    "def calculate_hitrate(pos_predict, pos_true):\n",
    "    if len(pos_predict) != len(pos_true):\n",
    "        raise ValueError(\"Độ dài của hai mảng không khớp\")\n",
    "\n",
    "    # Tính số lượng dự đoán đúng (các phần tử tương ứng giống nhau)\n",
    "    correct_predictions = np.sum(pos_predict == pos_true)\n",
    "\n",
    "    # Tính tỷ lệ hit rate\n",
    "    hit_rate_value = correct_predictions / len(pos_predict)\n",
    "\n",
    "    return hit_rate_value"
   ]
  },
  {
   "cell_type": "markdown",
   "metadata": {},
   "source": [
    "# Function for data"
   ]
  },
  {
   "cell_type": "code",
   "execution_count": 12,
   "metadata": {},
   "outputs": [],
   "source": [
    "def scale_data(data):\n",
    "    scaler = StandardScaler()\n",
    "    scaler.fit(data)\n",
    "    data=pd.DataFrame(scaler.transform(data), index=data.index, columns=data.columns)\n",
    "\n",
    "    return data"
   ]
  },
  {
   "cell_type": "code",
   "execution_count": 13,
   "metadata": {},
   "outputs": [],
   "source": [
    "def split_data(data):\n",
    "    \"\"\"\n",
    "    Hàm này chia dữ liệu thành 2 phần: tập huấn luyện và tập hold out.\n",
    "\n",
    "    Args:\n",
    "    data (pandas.DataFrame): DataFrame chứa dữ liệu cần chia.\n",
    "\n",
    "    Returns:\n",
    "    pandas.DataFrame: DataFrame chứa dữ liệu tập huấn luyện.\n",
    "    pandas.DataFrame: DataFrame chứa dữ liệu tập giữ lại.\n",
    "    \"\"\"\n",
    "    # Chia dữ liệu thành 3 phần\n",
    "    new_part = np.array_split(data, 3)\n",
    "\n",
    "    # Access each part individually\n",
    "    hold_out = new_part[2]\n",
    "    train_data = pd.concat([new_part[0], new_part[1]], axis=0)\n",
    "\n",
    "    return train_data, hold_out\n",
    "\n",
    "def split_optuna_data(data):\n",
    "    \"\"\"\n",
    "    Hàm này chia dữ liệu thành các tập train và test để sử dụng trong quá trình tối ưu hóa bằng Optuna.\n",
    "\n",
    "    Args:\n",
    "    data (pandas.DataFrame): DataFrame chứa dữ liệu cần chia.\n",
    "\n",
    "    Returns:\n",
    "    pandas.DataFrame: DataFrame chứa dữ liệu train (đã được chuẩn hóa).\n",
    "    pandas.DataFrame: DataFrame chứa dữ liệu test (đã được chuẩn hóa).\n",
    "    pandas.Series: Series chứa nhãn tương ứng với dữ liệu train.\n",
    "    pandas.Series: Series chứa nhãn tương ứng với dữ liệu test.\n",
    "    \"\"\"\n",
    "    # Chia dữ liệu thành tập train và tập hold out\n",
    "    train_data, _ = split_data(data)\n",
    "    \n",
    "    # Loại bỏ các cột không cần thiết\n",
    "    if 'Open' in train_data.columns:\n",
    "        optuna_data = train_data.drop(['Open','High','Low','Close','Volume', 'Return', 'Date', 'time'], axis=1)\n",
    "    else:\n",
    "        optuna_data = train_data.drop(['Close', 'Return', 'Date', 'time'], axis=1)\n",
    "    \n",
    "    # Chuẩn hóa dữ liệu\n",
    "    optuna_data = scale_data(optuna_data)\n",
    "    \n",
    "    # Chia dữ liệu thành tập train và tập test\n",
    "    X_train, X_valid, y_train, y_valid = train_test_split(optuna_data, train_data['Return'], test_size=0.5, shuffle=False)\n",
    "\n",
    "    return X_train, X_valid, y_train, y_valid, train_data"
   ]
  },
  {
   "cell_type": "markdown",
   "metadata": {},
   "source": [
    "# Get data"
   ]
  },
  {
   "cell_type": "code",
   "execution_count": 14,
   "metadata": {},
   "outputs": [],
   "source": [
    "def get_vn30f(start_time, now_time, symbol):\n",
    "    def vn30f():\n",
    "            return requests.get(f\"https://services.entrade.com.vn/chart-api/chart?from={start_time}&resolution=1&symbol={symbol}&to={now_time}\").json()\n",
    "    vn30fm = pd.DataFrame(vn30f()).iloc[:,:6]\n",
    "    vn30fm['t'] = vn30fm['t'].astype(int).apply(lambda x: datetime.utcfromtimestamp(x) + timedelta(hours = 7))\n",
    "    vn30fm.columns = ['Date','Open','High','Low','Close','Volume']\n",
    "    ohlc_dict = {                                                                                                             \n",
    "        'Open': 'first',                                                                                                    \n",
    "        'High': 'max',                                                                                                       \n",
    "        'Low': 'min',                                                         \n",
    "        'Close': 'last',                                                                                                    \n",
    "        'Volume': 'sum',}\n",
    "    vn30fm = pd.DataFrame(vn30f()).iloc[:,:6]\n",
    "    vn30fm['t'] = vn30fm['t'].astype(int).apply(lambda x: datetime.utcfromtimestamp(x) + timedelta(hours = 7))\n",
    "    vn30fm.columns = ['Date','Open','High','Low','Close','Volume']\n",
    "    dt_object = datetime.utcfromtimestamp(start_time) + timedelta(hours = 7)\n",
    "    now_object = datetime.utcfromtimestamp(now_time) + timedelta(hours = 7)\n",
    "\n",
    "    print(f'===> Data {symbol} from {dt_object} to {now_object} has been appended ')\n",
    "    \n",
    "    return vn30fm"
   ]
  },
  {
   "cell_type": "code",
   "execution_count": 15,
   "metadata": {},
   "outputs": [
    {
     "name": "stdout",
     "output_type": "stream",
     "text": [
      "===> Data VN30F1M from 1970-01-01 07:00:00 to 2286-11-21 00:46:39 has been appended \n"
     ]
    }
   ],
   "source": [
    "df = get_vn30f(start_time, now_time, symbol)"
   ]
  },
  {
   "cell_type": "code",
   "execution_count": 16,
   "metadata": {},
   "outputs": [],
   "source": [
    "data = df.copy()"
   ]
  },
  {
   "cell_type": "markdown",
   "metadata": {},
   "source": [
    "## Preprocess"
   ]
  },
  {
   "cell_type": "code",
   "execution_count": 17,
   "metadata": {},
   "outputs": [],
   "source": [
    "from scipy.stats.mstats import winsorize\n",
    "# Áp dụng Winsorization\n",
    "data['Close'] = winsorize(data['Close'], limits=[0.05, 0.05])"
   ]
  },
  {
   "cell_type": "code",
   "execution_count": 18,
   "metadata": {},
   "outputs": [],
   "source": [
    "def process_data(data):\n",
    "    data.set_index('Date', inplace =True)\n",
    "    data.columns = ['Open','High','Low','Close','Volume']\n",
    "\n",
    "    data['Date'] = [str(i)[:10] for i in data.index]\n",
    "    data['time'] = [str(i)[11:] for i in data.index]\n",
    "\n",
    "    data = data[~data.index.duplicated(keep='first')] # Handling duplicate\n",
    "    data_model = data.pivot(index = 'Date', columns = 'time', values = ['Open','High','Low','Close','Volume']).ffill(axis = 1).stack().reset_index() # Handling missing values\n",
    "    # data_model.columns = ['Date','time','Close']\n",
    "\n",
    "    return data_model"
   ]
  },
  {
   "cell_type": "code",
   "execution_count": 19,
   "metadata": {},
   "outputs": [],
   "source": [
    "data = process_data(data)"
   ]
  },
  {
   "cell_type": "code",
   "execution_count": 20,
   "metadata": {},
   "outputs": [
    {
     "data": {
      "text/html": [
       "<div>\n",
       "<style scoped>\n",
       "    .dataframe tbody tr th:only-of-type {\n",
       "        vertical-align: middle;\n",
       "    }\n",
       "\n",
       "    .dataframe tbody tr th {\n",
       "        vertical-align: top;\n",
       "    }\n",
       "\n",
       "    .dataframe thead th {\n",
       "        text-align: right;\n",
       "    }\n",
       "</style>\n",
       "<table border=\"1\" class=\"dataframe\">\n",
       "  <thead>\n",
       "    <tr style=\"text-align: right;\">\n",
       "      <th></th>\n",
       "      <th>Date</th>\n",
       "      <th>time</th>\n",
       "      <th>Open</th>\n",
       "      <th>High</th>\n",
       "      <th>Low</th>\n",
       "      <th>Close</th>\n",
       "      <th>Volume</th>\n",
       "    </tr>\n",
       "  </thead>\n",
       "  <tbody>\n",
       "    <tr>\n",
       "      <th>0</th>\n",
       "      <td>2018-08-13</td>\n",
       "      <td>09:00:00</td>\n",
       "      <td>943.5</td>\n",
       "      <td>943.5</td>\n",
       "      <td>942.9</td>\n",
       "      <td>942.9</td>\n",
       "      <td>975.0</td>\n",
       "    </tr>\n",
       "    <tr>\n",
       "      <th>1</th>\n",
       "      <td>2018-08-13</td>\n",
       "      <td>09:01:00</td>\n",
       "      <td>943.0</td>\n",
       "      <td>943.1</td>\n",
       "      <td>942.9</td>\n",
       "      <td>943.1</td>\n",
       "      <td>220.0</td>\n",
       "    </tr>\n",
       "    <tr>\n",
       "      <th>2</th>\n",
       "      <td>2018-08-13</td>\n",
       "      <td>09:02:00</td>\n",
       "      <td>943.0</td>\n",
       "      <td>943.6</td>\n",
       "      <td>943.0</td>\n",
       "      <td>943.5</td>\n",
       "      <td>121.0</td>\n",
       "    </tr>\n",
       "    <tr>\n",
       "      <th>3</th>\n",
       "      <td>2018-08-13</td>\n",
       "      <td>09:03:00</td>\n",
       "      <td>943.3</td>\n",
       "      <td>943.4</td>\n",
       "      <td>943.3</td>\n",
       "      <td>943.4</td>\n",
       "      <td>135.0</td>\n",
       "    </tr>\n",
       "    <tr>\n",
       "      <th>4</th>\n",
       "      <td>2018-08-13</td>\n",
       "      <td>09:04:00</td>\n",
       "      <td>943.2</td>\n",
       "      <td>943.2</td>\n",
       "      <td>943.0</td>\n",
       "      <td>943.1</td>\n",
       "      <td>361.0</td>\n",
       "    </tr>\n",
       "    <tr>\n",
       "      <th>...</th>\n",
       "      <td>...</td>\n",
       "      <td>...</td>\n",
       "      <td>...</td>\n",
       "      <td>...</td>\n",
       "      <td>...</td>\n",
       "      <td>...</td>\n",
       "      <td>...</td>\n",
       "    </tr>\n",
       "    <tr>\n",
       "      <th>323051</th>\n",
       "      <td>2024-06-07</td>\n",
       "      <td>14:27:00</td>\n",
       "      <td>1302.5</td>\n",
       "      <td>1302.9</td>\n",
       "      <td>1302.5</td>\n",
       "      <td>1302.8</td>\n",
       "      <td>241.0</td>\n",
       "    </tr>\n",
       "    <tr>\n",
       "      <th>323052</th>\n",
       "      <td>2024-06-07</td>\n",
       "      <td>14:28:00</td>\n",
       "      <td>1302.5</td>\n",
       "      <td>1302.9</td>\n",
       "      <td>1302.5</td>\n",
       "      <td>1302.8</td>\n",
       "      <td>241.0</td>\n",
       "    </tr>\n",
       "    <tr>\n",
       "      <th>323053</th>\n",
       "      <td>2024-06-07</td>\n",
       "      <td>14:29:00</td>\n",
       "      <td>1302.5</td>\n",
       "      <td>1302.9</td>\n",
       "      <td>1302.5</td>\n",
       "      <td>1302.8</td>\n",
       "      <td>241.0</td>\n",
       "    </tr>\n",
       "    <tr>\n",
       "      <th>323054</th>\n",
       "      <td>2024-06-07</td>\n",
       "      <td>14:30:00</td>\n",
       "      <td>1302.5</td>\n",
       "      <td>1302.9</td>\n",
       "      <td>1302.5</td>\n",
       "      <td>1302.8</td>\n",
       "      <td>241.0</td>\n",
       "    </tr>\n",
       "    <tr>\n",
       "      <th>323055</th>\n",
       "      <td>2024-06-07</td>\n",
       "      <td>14:45:00</td>\n",
       "      <td>1302.5</td>\n",
       "      <td>1302.9</td>\n",
       "      <td>1302.5</td>\n",
       "      <td>1302.8</td>\n",
       "      <td>241.0</td>\n",
       "    </tr>\n",
       "  </tbody>\n",
       "</table>\n",
       "<p>323056 rows × 7 columns</p>\n",
       "</div>"
      ],
      "text/plain": [
       "              Date      time    Open    High     Low   Close  Volume\n",
       "0       2018-08-13  09:00:00   943.5   943.5   942.9   942.9   975.0\n",
       "1       2018-08-13  09:01:00   943.0   943.1   942.9   943.1   220.0\n",
       "2       2018-08-13  09:02:00   943.0   943.6   943.0   943.5   121.0\n",
       "3       2018-08-13  09:03:00   943.3   943.4   943.3   943.4   135.0\n",
       "4       2018-08-13  09:04:00   943.2   943.2   943.0   943.1   361.0\n",
       "...            ...       ...     ...     ...     ...     ...     ...\n",
       "323051  2024-06-07  14:27:00  1302.5  1302.9  1302.5  1302.8   241.0\n",
       "323052  2024-06-07  14:28:00  1302.5  1302.9  1302.5  1302.8   241.0\n",
       "323053  2024-06-07  14:29:00  1302.5  1302.9  1302.5  1302.8   241.0\n",
       "323054  2024-06-07  14:30:00  1302.5  1302.9  1302.5  1302.8   241.0\n",
       "323055  2024-06-07  14:45:00  1302.5  1302.9  1302.5  1302.8   241.0\n",
       "\n",
       "[323056 rows x 7 columns]"
      ]
     },
     "execution_count": 20,
     "metadata": {},
     "output_type": "execute_result"
    }
   ],
   "source": [
    "data"
   ]
  },
  {
   "cell_type": "markdown",
   "metadata": {},
   "source": [
    "## Create features"
   ]
  },
  {
   "cell_type": "code",
   "execution_count": 21,
   "metadata": {},
   "outputs": [],
   "source": [
    "def generate_features(df, shift=1):\n",
    "    \"\"\"\n",
    "    Hàm này tạo ra các features mới từ dữ liệu cổ phiếu.\n",
    "\n",
    "    Args:\n",
    "    df (pandas.DataFrame): DataFrame chứa dữ liệu cần tạo features, có các cột 'open', 'high', 'low', 'close' và 'volume'.\n",
    "\n",
    "    Returns:\n",
    "    pandas.DataFrame: DataFrame đã được mở rộng với các features mới.\n",
    "    \"\"\"\n",
    "\n",
    "    # Thêm tất cả các đặc trưng kỹ thuật từ thư viện TA-Lib\n",
    "    df_shift = df.shift(shift)\n",
    "    df_shift = add_all_ta_features(df_shift, open=\"Open\", high=\"High\", low=\"Low\", close=\"Close\", volume=\"Volume\")\n",
    "\n",
    "    # Drop the original OHLCV columns from the shifted DataFrame\n",
    "    df_shift = df_shift.drop(columns=['Date','time', 'Open','High','Low','Close','Volume'])\n",
    "\n",
    "    df = pd.concat([df, df_shift], axis=1)\n",
    "\n",
    "    ### Ví dụ các features thêm tay\n",
    "    # Tính phần trăm thay đổi của giá đóng cửa trong 5 phút\n",
    "    df['Trend_5min'] = df['Close'].shift(shift).pct_change(periods=5)\n",
    "\n",
    "    # Tính độ lệch chuẩn của giá đóng cửa trong 30 phút\n",
    "    df['Std_Rolling_30min'] = df['Close'].shift(shift).rolling(window=30, min_periods=1).std()\n",
    "\n",
    "    # Tính độ lệch của giá đóng cửa so với trung bình động 30 phút\n",
    "    ma_30min = df['Close'].shift(shift).rolling(window=30, min_periods=1).mean()\n",
    "    df['Close_Minus_MA_30min'] = df['Close'].shift(shift) - ma_30min\n",
    "\n",
    "    # Tính trung bình động 10 phút của giá đóng cửa\n",
    "    df['SMA_10'] = df['Close'].shift(shift).rolling(window=10, min_periods=1).mean()\n",
    "\n",
    "    # Identify numeric columns\n",
    "    numeric_cols = df.select_dtypes(include=[np.number]).columns\n",
    "\n",
    "    # Replace infinite values with NaN in numeric columns\n",
    "    df[numeric_cols] = df[numeric_cols].replace([np.inf, -np.inf], np.nan)\n",
    "\n",
    "    # Điền các giá trị NaN với 0\n",
    "    df = df.fillna(0)\n",
    "\n",
    "    return df"
   ]
  },
  {
   "cell_type": "code",
   "execution_count": 22,
   "metadata": {},
   "outputs": [
    {
     "name": "stderr",
     "output_type": "stream",
     "text": [
      "c:\\Users\\Minh Truc\\AppData\\Local\\Programs\\Python\\Python310\\lib\\site-packages\\numpy\\core\\fromnumeric.py:57: RuntimeWarning: invalid value encountered in accumulate\n",
      "  return bound(*args, **kwds)\n"
     ]
    }
   ],
   "source": [
    "data  = generate_features(data)"
   ]
  },
  {
   "cell_type": "markdown",
   "metadata": {},
   "source": [
    "Thêm các feature khác, ví dụ giá vàng (xem xét phù hợp với thời gian trong data)"
   ]
  },
  {
   "cell_type": "markdown",
   "metadata": {},
   "source": [
    "# Add Predict Features"
   ]
  },
  {
   "cell_type": "code",
   "execution_count": 23,
   "metadata": {},
   "outputs": [
    {
     "data": {
      "text/html": [
       "<div>\n",
       "<style scoped>\n",
       "    .dataframe tbody tr th:only-of-type {\n",
       "        vertical-align: middle;\n",
       "    }\n",
       "\n",
       "    .dataframe tbody tr th {\n",
       "        vertical-align: top;\n",
       "    }\n",
       "\n",
       "    .dataframe thead th {\n",
       "        text-align: right;\n",
       "    }\n",
       "</style>\n",
       "<table border=\"1\" class=\"dataframe\">\n",
       "  <thead>\n",
       "    <tr style=\"text-align: right;\">\n",
       "      <th></th>\n",
       "      <th>Date</th>\n",
       "      <th>time</th>\n",
       "      <th>Open</th>\n",
       "      <th>High</th>\n",
       "      <th>Low</th>\n",
       "      <th>Close</th>\n",
       "      <th>Volume</th>\n",
       "      <th>volume_adi</th>\n",
       "      <th>volume_obv</th>\n",
       "      <th>volume_cmf</th>\n",
       "      <th>...</th>\n",
       "      <th>momentum_pvo_hist</th>\n",
       "      <th>momentum_kama</th>\n",
       "      <th>others_dr</th>\n",
       "      <th>others_dlr</th>\n",
       "      <th>others_cr</th>\n",
       "      <th>Trend_5min</th>\n",
       "      <th>Std_Rolling_30min</th>\n",
       "      <th>Close_Minus_MA_30min</th>\n",
       "      <th>SMA_10</th>\n",
       "      <th>Return</th>\n",
       "    </tr>\n",
       "  </thead>\n",
       "  <tbody>\n",
       "    <tr>\n",
       "      <th>1</th>\n",
       "      <td>2018-08-13</td>\n",
       "      <td>09:01:00</td>\n",
       "      <td>943.0</td>\n",
       "      <td>943.1</td>\n",
       "      <td>942.9</td>\n",
       "      <td>943.1</td>\n",
       "      <td>220.0</td>\n",
       "      <td>-975.000000</td>\n",
       "      <td>975.0</td>\n",
       "      <td>0.0</td>\n",
       "      <td>...</td>\n",
       "      <td>0.000000</td>\n",
       "      <td>0.000000</td>\n",
       "      <td>0.000000</td>\n",
       "      <td>0.000000</td>\n",
       "      <td>0.0</td>\n",
       "      <td>0.0</td>\n",
       "      <td>0.000000</td>\n",
       "      <td>0.000000</td>\n",
       "      <td>942.900000</td>\n",
       "      <td>0.000424</td>\n",
       "    </tr>\n",
       "    <tr>\n",
       "      <th>2</th>\n",
       "      <td>2018-08-13</td>\n",
       "      <td>09:02:00</td>\n",
       "      <td>943.0</td>\n",
       "      <td>943.6</td>\n",
       "      <td>943.0</td>\n",
       "      <td>943.5</td>\n",
       "      <td>121.0</td>\n",
       "      <td>-755.000000</td>\n",
       "      <td>1195.0</td>\n",
       "      <td>0.0</td>\n",
       "      <td>...</td>\n",
       "      <td>0.000000</td>\n",
       "      <td>0.000000</td>\n",
       "      <td>0.021211</td>\n",
       "      <td>0.021209</td>\n",
       "      <td>0.0</td>\n",
       "      <td>0.0</td>\n",
       "      <td>0.141421</td>\n",
       "      <td>0.100000</td>\n",
       "      <td>943.000000</td>\n",
       "      <td>-0.000106</td>\n",
       "    </tr>\n",
       "    <tr>\n",
       "      <th>3</th>\n",
       "      <td>2018-08-13</td>\n",
       "      <td>09:03:00</td>\n",
       "      <td>943.3</td>\n",
       "      <td>943.4</td>\n",
       "      <td>943.3</td>\n",
       "      <td>943.4</td>\n",
       "      <td>135.0</td>\n",
       "      <td>-674.333333</td>\n",
       "      <td>1316.0</td>\n",
       "      <td>0.0</td>\n",
       "      <td>...</td>\n",
       "      <td>0.000000</td>\n",
       "      <td>0.000000</td>\n",
       "      <td>0.042413</td>\n",
       "      <td>0.042404</td>\n",
       "      <td>0.0</td>\n",
       "      <td>0.0</td>\n",
       "      <td>0.305505</td>\n",
       "      <td>0.333333</td>\n",
       "      <td>943.166667</td>\n",
       "      <td>-0.000318</td>\n",
       "    </tr>\n",
       "    <tr>\n",
       "      <th>4</th>\n",
       "      <td>2018-08-13</td>\n",
       "      <td>09:04:00</td>\n",
       "      <td>943.2</td>\n",
       "      <td>943.2</td>\n",
       "      <td>943.0</td>\n",
       "      <td>943.1</td>\n",
       "      <td>361.0</td>\n",
       "      <td>-539.333333</td>\n",
       "      <td>1181.0</td>\n",
       "      <td>0.0</td>\n",
       "      <td>...</td>\n",
       "      <td>0.000000</td>\n",
       "      <td>0.000000</td>\n",
       "      <td>-0.010599</td>\n",
       "      <td>-0.010599</td>\n",
       "      <td>0.0</td>\n",
       "      <td>0.0</td>\n",
       "      <td>0.275379</td>\n",
       "      <td>0.175000</td>\n",
       "      <td>943.225000</td>\n",
       "      <td>-0.000106</td>\n",
       "    </tr>\n",
       "    <tr>\n",
       "      <th>5</th>\n",
       "      <td>2018-08-13</td>\n",
       "      <td>09:05:00</td>\n",
       "      <td>943.1</td>\n",
       "      <td>943.1</td>\n",
       "      <td>942.9</td>\n",
       "      <td>943.0</td>\n",
       "      <td>343.0</td>\n",
       "      <td>-539.333333</td>\n",
       "      <td>820.0</td>\n",
       "      <td>0.0</td>\n",
       "      <td>...</td>\n",
       "      <td>0.000000</td>\n",
       "      <td>0.000000</td>\n",
       "      <td>-0.031800</td>\n",
       "      <td>-0.031805</td>\n",
       "      <td>0.0</td>\n",
       "      <td>0.0</td>\n",
       "      <td>0.244949</td>\n",
       "      <td>-0.100000</td>\n",
       "      <td>943.200000</td>\n",
       "      <td>0.000106</td>\n",
       "    </tr>\n",
       "    <tr>\n",
       "      <th>...</th>\n",
       "      <td>...</td>\n",
       "      <td>...</td>\n",
       "      <td>...</td>\n",
       "      <td>...</td>\n",
       "      <td>...</td>\n",
       "      <td>...</td>\n",
       "      <td>...</td>\n",
       "      <td>...</td>\n",
       "      <td>...</td>\n",
       "      <td>...</td>\n",
       "      <td>...</td>\n",
       "      <td>...</td>\n",
       "      <td>...</td>\n",
       "      <td>...</td>\n",
       "      <td>...</td>\n",
       "      <td>...</td>\n",
       "      <td>...</td>\n",
       "      <td>...</td>\n",
       "      <td>...</td>\n",
       "      <td>...</td>\n",
       "      <td>...</td>\n",
       "    </tr>\n",
       "    <tr>\n",
       "      <th>323051</th>\n",
       "      <td>2024-06-07</td>\n",
       "      <td>14:27:00</td>\n",
       "      <td>1302.5</td>\n",
       "      <td>1302.9</td>\n",
       "      <td>1302.5</td>\n",
       "      <td>1302.8</td>\n",
       "      <td>241.0</td>\n",
       "      <td>0.000000</td>\n",
       "      <td>38118024.2</td>\n",
       "      <td>0.5</td>\n",
       "      <td>...</td>\n",
       "      <td>0.002681</td>\n",
       "      <td>1302.796042</td>\n",
       "      <td>0.000000</td>\n",
       "      <td>0.000000</td>\n",
       "      <td>0.0</td>\n",
       "      <td>0.0</td>\n",
       "      <td>0.000000</td>\n",
       "      <td>0.000000</td>\n",
       "      <td>1302.800000</td>\n",
       "      <td>0.000000</td>\n",
       "    </tr>\n",
       "    <tr>\n",
       "      <th>323052</th>\n",
       "      <td>2024-06-07</td>\n",
       "      <td>14:28:00</td>\n",
       "      <td>1302.5</td>\n",
       "      <td>1302.9</td>\n",
       "      <td>1302.5</td>\n",
       "      <td>1302.8</td>\n",
       "      <td>241.0</td>\n",
       "      <td>0.000000</td>\n",
       "      <td>38118265.2</td>\n",
       "      <td>0.5</td>\n",
       "      <td>...</td>\n",
       "      <td>0.002482</td>\n",
       "      <td>1302.796058</td>\n",
       "      <td>0.000000</td>\n",
       "      <td>0.000000</td>\n",
       "      <td>0.0</td>\n",
       "      <td>0.0</td>\n",
       "      <td>0.000000</td>\n",
       "      <td>0.000000</td>\n",
       "      <td>1302.800000</td>\n",
       "      <td>0.000000</td>\n",
       "    </tr>\n",
       "    <tr>\n",
       "      <th>323053</th>\n",
       "      <td>2024-06-07</td>\n",
       "      <td>14:29:00</td>\n",
       "      <td>1302.5</td>\n",
       "      <td>1302.9</td>\n",
       "      <td>1302.5</td>\n",
       "      <td>1302.8</td>\n",
       "      <td>241.0</td>\n",
       "      <td>0.000000</td>\n",
       "      <td>38118506.2</td>\n",
       "      <td>0.5</td>\n",
       "      <td>...</td>\n",
       "      <td>0.002298</td>\n",
       "      <td>1302.796075</td>\n",
       "      <td>0.000000</td>\n",
       "      <td>0.000000</td>\n",
       "      <td>0.0</td>\n",
       "      <td>0.0</td>\n",
       "      <td>0.000000</td>\n",
       "      <td>0.000000</td>\n",
       "      <td>1302.800000</td>\n",
       "      <td>0.000000</td>\n",
       "    </tr>\n",
       "    <tr>\n",
       "      <th>323054</th>\n",
       "      <td>2024-06-07</td>\n",
       "      <td>14:30:00</td>\n",
       "      <td>1302.5</td>\n",
       "      <td>1302.9</td>\n",
       "      <td>1302.5</td>\n",
       "      <td>1302.8</td>\n",
       "      <td>241.0</td>\n",
       "      <td>0.000000</td>\n",
       "      <td>38118747.2</td>\n",
       "      <td>0.5</td>\n",
       "      <td>...</td>\n",
       "      <td>0.002128</td>\n",
       "      <td>1302.796091</td>\n",
       "      <td>0.000000</td>\n",
       "      <td>0.000000</td>\n",
       "      <td>0.0</td>\n",
       "      <td>0.0</td>\n",
       "      <td>0.000000</td>\n",
       "      <td>0.000000</td>\n",
       "      <td>1302.800000</td>\n",
       "      <td>0.000000</td>\n",
       "    </tr>\n",
       "    <tr>\n",
       "      <th>323055</th>\n",
       "      <td>2024-06-07</td>\n",
       "      <td>14:45:00</td>\n",
       "      <td>1302.5</td>\n",
       "      <td>1302.9</td>\n",
       "      <td>1302.5</td>\n",
       "      <td>1302.8</td>\n",
       "      <td>241.0</td>\n",
       "      <td>0.000000</td>\n",
       "      <td>38118988.2</td>\n",
       "      <td>0.5</td>\n",
       "      <td>...</td>\n",
       "      <td>0.001970</td>\n",
       "      <td>1302.796108</td>\n",
       "      <td>0.000000</td>\n",
       "      <td>0.000000</td>\n",
       "      <td>0.0</td>\n",
       "      <td>0.0</td>\n",
       "      <td>0.000000</td>\n",
       "      <td>0.000000</td>\n",
       "      <td>1302.800000</td>\n",
       "      <td>0.000000</td>\n",
       "    </tr>\n",
       "  </tbody>\n",
       "</table>\n",
       "<p>323055 rows × 98 columns</p>\n",
       "</div>"
      ],
      "text/plain": [
       "              Date      time    Open    High     Low   Close  Volume  \\\n",
       "1       2018-08-13  09:01:00   943.0   943.1   942.9   943.1   220.0   \n",
       "2       2018-08-13  09:02:00   943.0   943.6   943.0   943.5   121.0   \n",
       "3       2018-08-13  09:03:00   943.3   943.4   943.3   943.4   135.0   \n",
       "4       2018-08-13  09:04:00   943.2   943.2   943.0   943.1   361.0   \n",
       "5       2018-08-13  09:05:00   943.1   943.1   942.9   943.0   343.0   \n",
       "...            ...       ...     ...     ...     ...     ...     ...   \n",
       "323051  2024-06-07  14:27:00  1302.5  1302.9  1302.5  1302.8   241.0   \n",
       "323052  2024-06-07  14:28:00  1302.5  1302.9  1302.5  1302.8   241.0   \n",
       "323053  2024-06-07  14:29:00  1302.5  1302.9  1302.5  1302.8   241.0   \n",
       "323054  2024-06-07  14:30:00  1302.5  1302.9  1302.5  1302.8   241.0   \n",
       "323055  2024-06-07  14:45:00  1302.5  1302.9  1302.5  1302.8   241.0   \n",
       "\n",
       "        volume_adi  volume_obv  volume_cmf  ...  momentum_pvo_hist  \\\n",
       "1      -975.000000       975.0         0.0  ...           0.000000   \n",
       "2      -755.000000      1195.0         0.0  ...           0.000000   \n",
       "3      -674.333333      1316.0         0.0  ...           0.000000   \n",
       "4      -539.333333      1181.0         0.0  ...           0.000000   \n",
       "5      -539.333333       820.0         0.0  ...           0.000000   \n",
       "...            ...         ...         ...  ...                ...   \n",
       "323051    0.000000  38118024.2         0.5  ...           0.002681   \n",
       "323052    0.000000  38118265.2         0.5  ...           0.002482   \n",
       "323053    0.000000  38118506.2         0.5  ...           0.002298   \n",
       "323054    0.000000  38118747.2         0.5  ...           0.002128   \n",
       "323055    0.000000  38118988.2         0.5  ...           0.001970   \n",
       "\n",
       "        momentum_kama  others_dr  others_dlr  others_cr  Trend_5min  \\\n",
       "1            0.000000   0.000000    0.000000        0.0         0.0   \n",
       "2            0.000000   0.021211    0.021209        0.0         0.0   \n",
       "3            0.000000   0.042413    0.042404        0.0         0.0   \n",
       "4            0.000000  -0.010599   -0.010599        0.0         0.0   \n",
       "5            0.000000  -0.031800   -0.031805        0.0         0.0   \n",
       "...               ...        ...         ...        ...         ...   \n",
       "323051    1302.796042   0.000000    0.000000        0.0         0.0   \n",
       "323052    1302.796058   0.000000    0.000000        0.0         0.0   \n",
       "323053    1302.796075   0.000000    0.000000        0.0         0.0   \n",
       "323054    1302.796091   0.000000    0.000000        0.0         0.0   \n",
       "323055    1302.796108   0.000000    0.000000        0.0         0.0   \n",
       "\n",
       "        Std_Rolling_30min  Close_Minus_MA_30min       SMA_10    Return  \n",
       "1                0.000000              0.000000   942.900000  0.000424  \n",
       "2                0.141421              0.100000   943.000000 -0.000106  \n",
       "3                0.305505              0.333333   943.166667 -0.000318  \n",
       "4                0.275379              0.175000   943.225000 -0.000106  \n",
       "5                0.244949             -0.100000   943.200000  0.000106  \n",
       "...                   ...                   ...          ...       ...  \n",
       "323051           0.000000              0.000000  1302.800000  0.000000  \n",
       "323052           0.000000              0.000000  1302.800000  0.000000  \n",
       "323053           0.000000              0.000000  1302.800000  0.000000  \n",
       "323054           0.000000              0.000000  1302.800000  0.000000  \n",
       "323055           0.000000              0.000000  1302.800000  0.000000  \n",
       "\n",
       "[323055 rows x 98 columns]"
      ]
     },
     "execution_count": 23,
     "metadata": {},
     "output_type": "execute_result"
    }
   ],
   "source": [
    "data['Return'] = (data['Close'].shift(-rolling_window) - data['Close'])/data['Close']\n",
    "data = data.fillna(0)\n",
    "data = data.drop(index=0)\n",
    "data"
   ]
  },
  {
   "cell_type": "markdown",
   "metadata": {},
   "source": [
    "# Feature Engineering"
   ]
  },
  {
   "cell_type": "code",
   "execution_count": 24,
   "metadata": {},
   "outputs": [],
   "source": [
    "def drop_high_corr_columns(df, threshold=0.6):\n",
    "    ohlcv_columns = {'Date','time', 'Open','High','Low','Close','Volume'}\n",
    "\n",
    "     # Identify non-OHLCV and non-date/time columns\n",
    "    non_corr_columns = [col for col in df.columns if col not in ohlcv_columns]\n",
    "\n",
    "    # Compute the correlation matrix only for non-OHLCV and non-date/time columns\n",
    "    corr_matrix = df[non_corr_columns].corr().abs()\n",
    "\n",
    "    # Create a set to keep track of columns to drop\n",
    "    to_drop = set()\n",
    "\n",
    "    # Iterate over the upper triangle of the correlation matrix\n",
    "    for i in range(len(corr_matrix.columns)):\n",
    "        for j in range(i + 1, len(corr_matrix.columns)):\n",
    "            if corr_matrix.iloc[i, j] > threshold:\n",
    "                # If the correlation is higher than the threshold, mark the column with the higher index to drop\n",
    "                col_to_drop = corr_matrix.columns[j]\n",
    "                if col_to_drop not in ohlcv_columns:\n",
    "                    to_drop.add(col_to_drop)\n",
    "\n",
    "    # Drop the columns from the DataFrame\n",
    "    df_dropped = df.drop(columns=to_drop)\n",
    "    return df_dropped\n",
    "\n",
    "data = drop_high_corr_columns(data)"
   ]
  },
  {
   "cell_type": "code",
   "execution_count": 25,
   "metadata": {},
   "outputs": [],
   "source": [
    "def objective(trial, X_train, X_valid, y_train, y_valid, y_price):\n",
    "\n",
    "    # Select features based on Optuna's suggestions\n",
    "    selected_features = []\n",
    "    for col in X_train.columns:\n",
    "        if trial.suggest_categorical(col, [0, 1]):\n",
    "            selected_features.append(col)\n",
    "\n",
    "    for t in trial.study.trials:\n",
    "        if t.state != optuna.trial.TrialState.COMPLETE:\n",
    "            continue\n",
    "\n",
    "    # trade_threshold = trial.suggest_float('trade_threshold', 0.008, 0.08, step=0.0004)\n",
    "    trade_threshold  = 0.0005\n",
    "\n",
    "    # Use only the selected features in training\n",
    "    X_train_selected = X_train[selected_features]\n",
    "    X_valid_selected = X_valid[selected_features]\n",
    "\n",
    "    # Train the model\n",
    "    model = xgb.XGBRegressor()\n",
    "    model.fit(X_train_selected, y_train)\n",
    "\n",
    "    y_pred_train = model.predict(X_train_selected)\n",
    "    y_pred_valid = model.predict(X_valid_selected)\n",
    "\n",
    "    _, pos_is, _, sharpe_is = sharpe_for_vn30f(y_pred_train, y_price[:len(y_pred_train)], trade_threshold=trade_threshold, fee_perc=0.01, periods=10)\n",
    "    _, pos_os, _, sharpe_oos = sharpe_for_vn30f(y_pred_valid, y_price[len(y_pred_train):], trade_threshold=trade_threshold, fee_perc=0.01, periods=10)\n",
    "\n",
    "    print('Trade times in sample:',len(pos_is[pos_is != 0]), 'Trade times out sample:',len(pos_os[pos_os != 0]))\n",
    "\n",
    "    return sharpe_oos, abs((abs(sharpe_is / sharpe_oos))-1)\n",
    "\n",
    "X_train, X_valid, y_train, y_valid, train_data = split_optuna_data(data)"
   ]
  },
  {
   "cell_type": "code",
   "execution_count": 26,
   "metadata": {},
   "outputs": [
    {
     "name": "stderr",
     "output_type": "stream",
     "text": [
      "[I 2024-06-07 11:02:30,793] A new study created in memory with name: no-name-94f382fb-ece0-47cf-b3b6-f5ce7a43d120\n"
     ]
    },
    {
     "name": "stdout",
     "output_type": "stream",
     "text": [
      "A new study created in memory with name: no-name-94f382fb-ece0-47cf-b3b6-f5ce7a43d120\n"
     ]
    },
    {
     "name": "stderr",
     "output_type": "stream",
     "text": [
      "[I 2024-06-07 11:02:37,508] Trial 0 finished with values: [-0.2425551495114941, 3.983330826610997] and parameters: {'volume_adi': 1, 'volume_obv': 1, 'volume_cmf': 1, 'volume_fi': 1, 'volume_em': 0, 'volume_sma_em': 1, 'volume_vpt': 0, 'volume_mfi': 0, 'volatility_bbw': 0, 'volatility_bbhi': 1, 'volatility_bbli': 1, 'volatility_kcw': 1, 'volatility_kcp': 1, 'volatility_kchi': 1, 'trend_macd': 1, 'trend_macd_diff': 0, 'trend_vortex_ind_neg': 0, 'trend_mass_index': 0, 'trend_dpo': 1, 'trend_adx': 0, 'trend_aroon_up': 1, 'trend_aroon_down': 0, 'trend_psar_up': 0, 'trend_psar_down': 1, 'trend_psar_up_indicator': 0, 'trend_psar_down_indicator': 1, 'momentum_pvo': 0, 'momentum_pvo_hist': 1, 'others_dr': 1, 'others_cr': 0}. \n"
     ]
    },
    {
     "name": "stdout",
     "output_type": "stream",
     "text": [
      "Trade times in sample: 106975 Trade times out sample: 107643\n",
      "Trial 0 finished with values: [-0.2425551495114941, 3.983330826610997] and parameters: {'volume_adi': 1, 'volume_obv': 1, 'volume_cmf': 1, 'volume_fi': 1, 'volume_em': 0, 'volume_sma_em': 1, 'volume_vpt': 0, 'volume_mfi': 0, 'volatility_bbw': 0, 'volatility_bbhi': 1, 'volatility_bbli': 1, 'volatility_kcw': 1, 'volatility_kcp': 1, 'volatility_kchi': 1, 'trend_macd': 1, 'trend_macd_diff': 0, 'trend_vortex_ind_neg': 0, 'trend_mass_index': 0, 'trend_dpo': 1, 'trend_adx': 0, 'trend_aroon_up': 1, 'trend_aroon_down': 0, 'trend_psar_up': 0, 'trend_psar_down': 1, 'trend_psar_up_indicator': 0, 'trend_psar_down_indicator': 1, 'momentum_pvo': 0, 'momentum_pvo_hist': 1, 'others_dr': 1, 'others_cr': 0}. \n"
     ]
    },
    {
     "name": "stderr",
     "output_type": "stream",
     "text": [
      "[I 2024-06-07 11:02:43,358] Trial 1 finished with values: [-0.37128728151125145, 1.8361425840987846] and parameters: {'volume_adi': 1, 'volume_obv': 1, 'volume_cmf': 0, 'volume_fi': 1, 'volume_em': 1, 'volume_sma_em': 1, 'volume_vpt': 1, 'volume_mfi': 1, 'volatility_bbw': 1, 'volatility_bbhi': 1, 'volatility_bbli': 0, 'volatility_kcw': 1, 'volatility_kcp': 0, 'volatility_kchi': 0, 'trend_macd': 0, 'trend_macd_diff': 1, 'trend_vortex_ind_neg': 1, 'trend_mass_index': 1, 'trend_dpo': 0, 'trend_adx': 0, 'trend_aroon_up': 0, 'trend_aroon_down': 1, 'trend_psar_up': 0, 'trend_psar_down': 1, 'trend_psar_up_indicator': 1, 'trend_psar_down_indicator': 1, 'momentum_pvo': 0, 'momentum_pvo_hist': 0, 'others_dr': 1, 'others_cr': 1}. \n"
     ]
    },
    {
     "name": "stdout",
     "output_type": "stream",
     "text": [
      "Trade times in sample: 106976 Trade times out sample: 107647\n",
      "Trial 1 finished with values: [-0.37128728151125145, 1.8361425840987846] and parameters: {'volume_adi': 1, 'volume_obv': 1, 'volume_cmf': 0, 'volume_fi': 1, 'volume_em': 1, 'volume_sma_em': 1, 'volume_vpt': 1, 'volume_mfi': 1, 'volatility_bbw': 1, 'volatility_bbhi': 1, 'volatility_bbli': 0, 'volatility_kcw': 1, 'volatility_kcp': 0, 'volatility_kchi': 0, 'trend_macd': 0, 'trend_macd_diff': 1, 'trend_vortex_ind_neg': 1, 'trend_mass_index': 1, 'trend_dpo': 0, 'trend_adx': 0, 'trend_aroon_up': 0, 'trend_aroon_down': 1, 'trend_psar_up': 0, 'trend_psar_down': 1, 'trend_psar_up_indicator': 1, 'trend_psar_down_indicator': 1, 'momentum_pvo': 0, 'momentum_pvo_hist': 0, 'others_dr': 1, 'others_cr': 1}. \n"
     ]
    },
    {
     "name": "stderr",
     "output_type": "stream",
     "text": [
      "[I 2024-06-07 11:02:48,033] Trial 2 finished with values: [-0.21788273613217815, 3.0315075638257465] and parameters: {'volume_adi': 1, 'volume_obv': 1, 'volume_cmf': 0, 'volume_fi': 1, 'volume_em': 0, 'volume_sma_em': 1, 'volume_vpt': 1, 'volume_mfi': 0, 'volatility_bbw': 0, 'volatility_bbhi': 1, 'volatility_bbli': 1, 'volatility_kcw': 0, 'volatility_kcp': 0, 'volatility_kchi': 1, 'trend_macd': 0, 'trend_macd_diff': 0, 'trend_vortex_ind_neg': 1, 'trend_mass_index': 1, 'trend_dpo': 1, 'trend_adx': 1, 'trend_aroon_up': 1, 'trend_aroon_down': 1, 'trend_psar_up': 0, 'trend_psar_down': 0, 'trend_psar_up_indicator': 1, 'trend_psar_down_indicator': 0, 'momentum_pvo': 1, 'momentum_pvo_hist': 0, 'others_dr': 0, 'others_cr': 0}. \n"
     ]
    },
    {
     "name": "stdout",
     "output_type": "stream",
     "text": [
      "Trade times in sample: 106965 Trade times out sample: 107658\n",
      "Trial 2 finished with values: [-0.21788273613217815, 3.0315075638257465] and parameters: {'volume_adi': 1, 'volume_obv': 1, 'volume_cmf': 0, 'volume_fi': 1, 'volume_em': 0, 'volume_sma_em': 1, 'volume_vpt': 1, 'volume_mfi': 0, 'volatility_bbw': 0, 'volatility_bbhi': 1, 'volatility_bbli': 1, 'volatility_kcw': 0, 'volatility_kcp': 0, 'volatility_kchi': 1, 'trend_macd': 0, 'trend_macd_diff': 0, 'trend_vortex_ind_neg': 1, 'trend_mass_index': 1, 'trend_dpo': 1, 'trend_adx': 1, 'trend_aroon_up': 1, 'trend_aroon_down': 1, 'trend_psar_up': 0, 'trend_psar_down': 0, 'trend_psar_up_indicator': 1, 'trend_psar_down_indicator': 0, 'momentum_pvo': 1, 'momentum_pvo_hist': 0, 'others_dr': 0, 'others_cr': 0}. \n"
     ]
    },
    {
     "name": "stderr",
     "output_type": "stream",
     "text": [
      "[I 2024-06-07 11:02:52,585] Trial 3 finished with values: [0.020280042833436592, 43.416822252733745] and parameters: {'volume_adi': 1, 'volume_obv': 0, 'volume_cmf': 0, 'volume_fi': 1, 'volume_em': 0, 'volume_sma_em': 0, 'volume_vpt': 0, 'volume_mfi': 1, 'volatility_bbw': 0, 'volatility_bbhi': 0, 'volatility_bbli': 0, 'volatility_kcw': 1, 'volatility_kcp': 1, 'volatility_kchi': 0, 'trend_macd': 1, 'trend_macd_diff': 1, 'trend_vortex_ind_neg': 0, 'trend_mass_index': 1, 'trend_dpo': 0, 'trend_adx': 1, 'trend_aroon_up': 1, 'trend_aroon_down': 0, 'trend_psar_up': 1, 'trend_psar_down': 0, 'trend_psar_up_indicator': 0, 'trend_psar_down_indicator': 0, 'momentum_pvo': 1, 'momentum_pvo_hist': 0, 'others_dr': 0, 'others_cr': 1}. \n"
     ]
    },
    {
     "name": "stdout",
     "output_type": "stream",
     "text": [
      "Trade times in sample: 100620 Trade times out sample: 106860\n",
      "Trial 3 finished with values: [0.020280042833436592, 43.416822252733745] and parameters: {'volume_adi': 1, 'volume_obv': 0, 'volume_cmf': 0, 'volume_fi': 1, 'volume_em': 0, 'volume_sma_em': 0, 'volume_vpt': 0, 'volume_mfi': 1, 'volatility_bbw': 0, 'volatility_bbhi': 0, 'volatility_bbli': 0, 'volatility_kcw': 1, 'volatility_kcp': 1, 'volatility_kchi': 0, 'trend_macd': 1, 'trend_macd_diff': 1, 'trend_vortex_ind_neg': 0, 'trend_mass_index': 1, 'trend_dpo': 0, 'trend_adx': 1, 'trend_aroon_up': 1, 'trend_aroon_down': 0, 'trend_psar_up': 1, 'trend_psar_down': 0, 'trend_psar_up_indicator': 0, 'trend_psar_down_indicator': 0, 'momentum_pvo': 1, 'momentum_pvo_hist': 0, 'others_dr': 0, 'others_cr': 1}. \n"
     ]
    },
    {
     "name": "stderr",
     "output_type": "stream",
     "text": [
      "[I 2024-06-07 11:02:56,375] Trial 4 finished with values: [-0.11965473501456095, 7.616220552991283] and parameters: {'volume_adi': 1, 'volume_obv': 1, 'volume_cmf': 0, 'volume_fi': 1, 'volume_em': 0, 'volume_sma_em': 0, 'volume_vpt': 0, 'volume_mfi': 0, 'volatility_bbw': 1, 'volatility_bbhi': 1, 'volatility_bbli': 0, 'volatility_kcw': 1, 'volatility_kcp': 0, 'volatility_kchi': 0, 'trend_macd': 0, 'trend_macd_diff': 0, 'trend_vortex_ind_neg': 1, 'trend_mass_index': 0, 'trend_dpo': 1, 'trend_adx': 0, 'trend_aroon_up': 0, 'trend_aroon_down': 0, 'trend_psar_up': 1, 'trend_psar_down': 1, 'trend_psar_up_indicator': 1, 'trend_psar_down_indicator': 0, 'momentum_pvo': 1, 'momentum_pvo_hist': 0, 'others_dr': 1, 'others_cr': 1}. \n"
     ]
    },
    {
     "name": "stdout",
     "output_type": "stream",
     "text": [
      "Trade times in sample: 107276 Trade times out sample: 107657\n",
      "Trial 4 finished with values: [-0.11965473501456095, 7.616220552991283] and parameters: {'volume_adi': 1, 'volume_obv': 1, 'volume_cmf': 0, 'volume_fi': 1, 'volume_em': 0, 'volume_sma_em': 0, 'volume_vpt': 0, 'volume_mfi': 0, 'volatility_bbw': 1, 'volatility_bbhi': 1, 'volatility_bbli': 0, 'volatility_kcw': 1, 'volatility_kcp': 0, 'volatility_kchi': 0, 'trend_macd': 0, 'trend_macd_diff': 0, 'trend_vortex_ind_neg': 1, 'trend_mass_index': 0, 'trend_dpo': 1, 'trend_adx': 0, 'trend_aroon_up': 0, 'trend_aroon_down': 0, 'trend_psar_up': 1, 'trend_psar_down': 1, 'trend_psar_up_indicator': 1, 'trend_psar_down_indicator': 0, 'momentum_pvo': 1, 'momentum_pvo_hist': 0, 'others_dr': 1, 'others_cr': 1}. \n"
     ]
    },
    {
     "name": "stderr",
     "output_type": "stream",
     "text": [
      "[I 2024-06-07 11:03:00,879] Trial 5 finished with values: [0.11685984506399083, 6.065086319572954] and parameters: {'volume_adi': 0, 'volume_obv': 1, 'volume_cmf': 0, 'volume_fi': 0, 'volume_em': 0, 'volume_sma_em': 0, 'volume_vpt': 0, 'volume_mfi': 1, 'volatility_bbw': 0, 'volatility_bbhi': 0, 'volatility_bbli': 1, 'volatility_kcw': 0, 'volatility_kcp': 0, 'volatility_kchi': 0, 'trend_macd': 1, 'trend_macd_diff': 0, 'trend_vortex_ind_neg': 0, 'trend_mass_index': 0, 'trend_dpo': 1, 'trend_adx': 1, 'trend_aroon_up': 1, 'trend_aroon_down': 0, 'trend_psar_up': 1, 'trend_psar_down': 1, 'trend_psar_up_indicator': 0, 'trend_psar_down_indicator': 0, 'momentum_pvo': 1, 'momentum_pvo_hist': 0, 'others_dr': 1, 'others_cr': 0}. \n"
     ]
    },
    {
     "name": "stdout",
     "output_type": "stream",
     "text": [
      "Trade times in sample: 97446 Trade times out sample: 107659\n",
      "Trial 5 finished with values: [0.11685984506399083, 6.065086319572954] and parameters: {'volume_adi': 0, 'volume_obv': 1, 'volume_cmf': 0, 'volume_fi': 0, 'volume_em': 0, 'volume_sma_em': 0, 'volume_vpt': 0, 'volume_mfi': 1, 'volatility_bbw': 0, 'volatility_bbhi': 0, 'volatility_bbli': 1, 'volatility_kcw': 0, 'volatility_kcp': 0, 'volatility_kchi': 0, 'trend_macd': 1, 'trend_macd_diff': 0, 'trend_vortex_ind_neg': 0, 'trend_mass_index': 0, 'trend_dpo': 1, 'trend_adx': 1, 'trend_aroon_up': 1, 'trend_aroon_down': 0, 'trend_psar_up': 1, 'trend_psar_down': 1, 'trend_psar_up_indicator': 0, 'trend_psar_down_indicator': 0, 'momentum_pvo': 1, 'momentum_pvo_hist': 0, 'others_dr': 1, 'others_cr': 0}. \n"
     ]
    },
    {
     "name": "stderr",
     "output_type": "stream",
     "text": [
      "[I 2024-06-07 11:03:03,635] Trial 6 finished with values: [-0.11654822910787258, 8.820996403417006] and parameters: {'volume_adi': 1, 'volume_obv': 1, 'volume_cmf': 1, 'volume_fi': 0, 'volume_em': 1, 'volume_sma_em': 0, 'volume_vpt': 0, 'volume_mfi': 1, 'volatility_bbw': 1, 'volatility_bbhi': 1, 'volatility_bbli': 1, 'volatility_kcw': 1, 'volatility_kcp': 0, 'volatility_kchi': 0, 'trend_macd': 1, 'trend_macd_diff': 0, 'trend_vortex_ind_neg': 1, 'trend_mass_index': 0, 'trend_dpo': 1, 'trend_adx': 1, 'trend_aroon_up': 0, 'trend_aroon_down': 1, 'trend_psar_up': 1, 'trend_psar_down': 0, 'trend_psar_up_indicator': 1, 'trend_psar_down_indicator': 1, 'momentum_pvo': 1, 'momentum_pvo_hist': 0, 'others_dr': 0, 'others_cr': 1}. \n"
     ]
    },
    {
     "name": "stdout",
     "output_type": "stream",
     "text": [
      "Trade times in sample: 106972 Trade times out sample: 107647\n",
      "Trial 6 finished with values: [-0.11654822910787258, 8.820996403417006] and parameters: {'volume_adi': 1, 'volume_obv': 1, 'volume_cmf': 1, 'volume_fi': 0, 'volume_em': 1, 'volume_sma_em': 0, 'volume_vpt': 0, 'volume_mfi': 1, 'volatility_bbw': 1, 'volatility_bbhi': 1, 'volatility_bbli': 1, 'volatility_kcw': 1, 'volatility_kcp': 0, 'volatility_kchi': 0, 'trend_macd': 1, 'trend_macd_diff': 0, 'trend_vortex_ind_neg': 1, 'trend_mass_index': 0, 'trend_dpo': 1, 'trend_adx': 1, 'trend_aroon_up': 0, 'trend_aroon_down': 1, 'trend_psar_up': 1, 'trend_psar_down': 0, 'trend_psar_up_indicator': 1, 'trend_psar_down_indicator': 1, 'momentum_pvo': 1, 'momentum_pvo_hist': 0, 'others_dr': 0, 'others_cr': 1}. \n"
     ]
    },
    {
     "name": "stderr",
     "output_type": "stream",
     "text": [
      "[I 2024-06-07 11:03:10,717] Trial 7 finished with values: [-0.37025667587672956, 2.866887894364561] and parameters: {'volume_adi': 1, 'volume_obv': 1, 'volume_cmf': 0, 'volume_fi': 1, 'volume_em': 1, 'volume_sma_em': 1, 'volume_vpt': 1, 'volume_mfi': 0, 'volatility_bbw': 1, 'volatility_bbhi': 0, 'volatility_bbli': 0, 'volatility_kcw': 0, 'volatility_kcp': 0, 'volatility_kchi': 0, 'trend_macd': 1, 'trend_macd_diff': 0, 'trend_vortex_ind_neg': 1, 'trend_mass_index': 0, 'trend_dpo': 1, 'trend_adx': 0, 'trend_aroon_up': 1, 'trend_aroon_down': 0, 'trend_psar_up': 0, 'trend_psar_down': 1, 'trend_psar_up_indicator': 1, 'trend_psar_down_indicator': 0, 'momentum_pvo': 0, 'momentum_pvo_hist': 1, 'others_dr': 0, 'others_cr': 0}. \n"
     ]
    },
    {
     "name": "stdout",
     "output_type": "stream",
     "text": [
      "Trade times in sample: 106968 Trade times out sample: 107667\n",
      "Trial 7 finished with values: [-0.37025667587672956, 2.866887894364561] and parameters: {'volume_adi': 1, 'volume_obv': 1, 'volume_cmf': 0, 'volume_fi': 1, 'volume_em': 1, 'volume_sma_em': 1, 'volume_vpt': 1, 'volume_mfi': 0, 'volatility_bbw': 1, 'volatility_bbhi': 0, 'volatility_bbli': 0, 'volatility_kcw': 0, 'volatility_kcp': 0, 'volatility_kchi': 0, 'trend_macd': 1, 'trend_macd_diff': 0, 'trend_vortex_ind_neg': 1, 'trend_mass_index': 0, 'trend_dpo': 1, 'trend_adx': 0, 'trend_aroon_up': 1, 'trend_aroon_down': 0, 'trend_psar_up': 0, 'trend_psar_down': 1, 'trend_psar_up_indicator': 1, 'trend_psar_down_indicator': 0, 'momentum_pvo': 0, 'momentum_pvo_hist': 1, 'others_dr': 0, 'others_cr': 0}. \n"
     ]
    },
    {
     "name": "stderr",
     "output_type": "stream",
     "text": [
      "[I 2024-06-07 11:03:16,873] Trial 8 finished with values: [-0.04845476586485669, 17.23196016047514] and parameters: {'volume_adi': 1, 'volume_obv': 1, 'volume_cmf': 0, 'volume_fi': 1, 'volume_em': 0, 'volume_sma_em': 1, 'volume_vpt': 0, 'volume_mfi': 1, 'volatility_bbw': 1, 'volatility_bbhi': 0, 'volatility_bbli': 0, 'volatility_kcw': 0, 'volatility_kcp': 0, 'volatility_kchi': 0, 'trend_macd': 0, 'trend_macd_diff': 1, 'trend_vortex_ind_neg': 0, 'trend_mass_index': 0, 'trend_dpo': 0, 'trend_adx': 0, 'trend_aroon_up': 1, 'trend_aroon_down': 0, 'trend_psar_up': 1, 'trend_psar_down': 0, 'trend_psar_up_indicator': 1, 'trend_psar_down_indicator': 1, 'momentum_pvo': 1, 'momentum_pvo_hist': 0, 'others_dr': 0, 'others_cr': 1}. \n"
     ]
    },
    {
     "name": "stdout",
     "output_type": "stream",
     "text": [
      "Trade times in sample: 107224 Trade times out sample: 107685\n",
      "Trial 8 finished with values: [-0.04845476586485669, 17.23196016047514] and parameters: {'volume_adi': 1, 'volume_obv': 1, 'volume_cmf': 0, 'volume_fi': 1, 'volume_em': 0, 'volume_sma_em': 1, 'volume_vpt': 0, 'volume_mfi': 1, 'volatility_bbw': 1, 'volatility_bbhi': 0, 'volatility_bbli': 0, 'volatility_kcw': 0, 'volatility_kcp': 0, 'volatility_kchi': 0, 'trend_macd': 0, 'trend_macd_diff': 1, 'trend_vortex_ind_neg': 0, 'trend_mass_index': 0, 'trend_dpo': 0, 'trend_adx': 0, 'trend_aroon_up': 1, 'trend_aroon_down': 0, 'trend_psar_up': 1, 'trend_psar_down': 0, 'trend_psar_up_indicator': 1, 'trend_psar_down_indicator': 1, 'momentum_pvo': 1, 'momentum_pvo_hist': 0, 'others_dr': 0, 'others_cr': 1}. \n"
     ]
    },
    {
     "name": "stderr",
     "output_type": "stream",
     "text": [
      "[I 2024-06-07 11:03:22,242] Trial 9 finished with values: [0.22889075178302476, 2.83837824527643] and parameters: {'volume_adi': 1, 'volume_obv': 0, 'volume_cmf': 0, 'volume_fi': 1, 'volume_em': 1, 'volume_sma_em': 0, 'volume_vpt': 1, 'volume_mfi': 1, 'volatility_bbw': 0, 'volatility_bbhi': 1, 'volatility_bbli': 0, 'volatility_kcw': 0, 'volatility_kcp': 0, 'volatility_kchi': 0, 'trend_macd': 1, 'trend_macd_diff': 1, 'trend_vortex_ind_neg': 0, 'trend_mass_index': 1, 'trend_dpo': 0, 'trend_adx': 0, 'trend_aroon_up': 1, 'trend_aroon_down': 0, 'trend_psar_up': 0, 'trend_psar_down': 1, 'trend_psar_up_indicator': 1, 'trend_psar_down_indicator': 0, 'momentum_pvo': 0, 'momentum_pvo_hist': 0, 'others_dr': 0, 'others_cr': 0}. \n"
     ]
    },
    {
     "name": "stdout",
     "output_type": "stream",
     "text": [
      "Trade times in sample: 106962 Trade times out sample: 106958\n",
      "Trial 9 finished with values: [0.22889075178302476, 2.83837824527643] and parameters: {'volume_adi': 1, 'volume_obv': 0, 'volume_cmf': 0, 'volume_fi': 1, 'volume_em': 1, 'volume_sma_em': 0, 'volume_vpt': 1, 'volume_mfi': 1, 'volatility_bbw': 0, 'volatility_bbhi': 1, 'volatility_bbli': 0, 'volatility_kcw': 0, 'volatility_kcp': 0, 'volatility_kchi': 0, 'trend_macd': 1, 'trend_macd_diff': 1, 'trend_vortex_ind_neg': 0, 'trend_mass_index': 1, 'trend_dpo': 0, 'trend_adx': 0, 'trend_aroon_up': 1, 'trend_aroon_down': 0, 'trend_psar_up': 0, 'trend_psar_down': 1, 'trend_psar_up_indicator': 1, 'trend_psar_down_indicator': 0, 'momentum_pvo': 0, 'momentum_pvo_hist': 0, 'others_dr': 0, 'others_cr': 0}. \n"
     ]
    },
    {
     "name": "stderr",
     "output_type": "stream",
     "text": [
      "[I 2024-06-07 11:03:27,773] Trial 10 finished with values: [0.27822807183415865, 2.153468954856731] and parameters: {'volume_adi': 1, 'volume_obv': 1, 'volume_cmf': 1, 'volume_fi': 0, 'volume_em': 0, 'volume_sma_em': 1, 'volume_vpt': 0, 'volume_mfi': 0, 'volatility_bbw': 0, 'volatility_bbhi': 1, 'volatility_bbli': 0, 'volatility_kcw': 0, 'volatility_kcp': 1, 'volatility_kchi': 1, 'trend_macd': 1, 'trend_macd_diff': 1, 'trend_vortex_ind_neg': 0, 'trend_mass_index': 0, 'trend_dpo': 0, 'trend_adx': 1, 'trend_aroon_up': 0, 'trend_aroon_down': 0, 'trend_psar_up': 0, 'trend_psar_down': 1, 'trend_psar_up_indicator': 0, 'trend_psar_down_indicator': 1, 'momentum_pvo': 1, 'momentum_pvo_hist': 0, 'others_dr': 1, 'others_cr': 0}. \n"
     ]
    },
    {
     "name": "stdout",
     "output_type": "stream",
     "text": [
      "Trade times in sample: 106738 Trade times out sample: 107659\n",
      "Trial 10 finished with values: [0.27822807183415865, 2.153468954856731] and parameters: {'volume_adi': 1, 'volume_obv': 1, 'volume_cmf': 1, 'volume_fi': 0, 'volume_em': 0, 'volume_sma_em': 1, 'volume_vpt': 0, 'volume_mfi': 0, 'volatility_bbw': 0, 'volatility_bbhi': 1, 'volatility_bbli': 0, 'volatility_kcw': 0, 'volatility_kcp': 1, 'volatility_kchi': 1, 'trend_macd': 1, 'trend_macd_diff': 1, 'trend_vortex_ind_neg': 0, 'trend_mass_index': 0, 'trend_dpo': 0, 'trend_adx': 1, 'trend_aroon_up': 0, 'trend_aroon_down': 0, 'trend_psar_up': 0, 'trend_psar_down': 1, 'trend_psar_up_indicator': 0, 'trend_psar_down_indicator': 1, 'momentum_pvo': 1, 'momentum_pvo_hist': 0, 'others_dr': 1, 'others_cr': 0}. \n"
     ]
    },
    {
     "name": "stderr",
     "output_type": "stream",
     "text": [
      "[I 2024-06-07 11:03:32,142] Trial 11 finished with values: [-0.016567765100094334, 69.72670992580645] and parameters: {'volume_adi': 0, 'volume_obv': 1, 'volume_cmf': 0, 'volume_fi': 0, 'volume_em': 1, 'volume_sma_em': 0, 'volume_vpt': 0, 'volume_mfi': 0, 'volatility_bbw': 1, 'volatility_bbhi': 1, 'volatility_bbli': 0, 'volatility_kcw': 1, 'volatility_kcp': 1, 'volatility_kchi': 0, 'trend_macd': 1, 'trend_macd_diff': 1, 'trend_vortex_ind_neg': 0, 'trend_mass_index': 1, 'trend_dpo': 0, 'trend_adx': 1, 'trend_aroon_up': 0, 'trend_aroon_down': 0, 'trend_psar_up': 1, 'trend_psar_down': 1, 'trend_psar_up_indicator': 1, 'trend_psar_down_indicator': 0, 'momentum_pvo': 1, 'momentum_pvo_hist': 1, 'others_dr': 1, 'others_cr': 0}. \n"
     ]
    },
    {
     "name": "stdout",
     "output_type": "stream",
     "text": [
      "Trade times in sample: 102114 Trade times out sample: 107647\n",
      "Trial 11 finished with values: [-0.016567765100094334, 69.72670992580645] and parameters: {'volume_adi': 0, 'volume_obv': 1, 'volume_cmf': 0, 'volume_fi': 0, 'volume_em': 1, 'volume_sma_em': 0, 'volume_vpt': 0, 'volume_mfi': 0, 'volatility_bbw': 1, 'volatility_bbhi': 1, 'volatility_bbli': 0, 'volatility_kcw': 1, 'volatility_kcp': 1, 'volatility_kchi': 0, 'trend_macd': 1, 'trend_macd_diff': 1, 'trend_vortex_ind_neg': 0, 'trend_mass_index': 1, 'trend_dpo': 0, 'trend_adx': 1, 'trend_aroon_up': 0, 'trend_aroon_down': 0, 'trend_psar_up': 1, 'trend_psar_down': 1, 'trend_psar_up_indicator': 1, 'trend_psar_down_indicator': 0, 'momentum_pvo': 1, 'momentum_pvo_hist': 1, 'others_dr': 1, 'others_cr': 0}. \n"
     ]
    },
    {
     "name": "stderr",
     "output_type": "stream",
     "text": [
      "[I 2024-06-07 11:03:38,568] Trial 12 finished with values: [0.5507693836768436, 0.8280374374523898] and parameters: {'volume_adi': 1, 'volume_obv': 0, 'volume_cmf': 1, 'volume_fi': 1, 'volume_em': 1, 'volume_sma_em': 0, 'volume_vpt': 1, 'volume_mfi': 0, 'volatility_bbw': 1, 'volatility_bbhi': 0, 'volatility_bbli': 1, 'volatility_kcw': 0, 'volatility_kcp': 1, 'volatility_kchi': 1, 'trend_macd': 0, 'trend_macd_diff': 1, 'trend_vortex_ind_neg': 0, 'trend_mass_index': 0, 'trend_dpo': 1, 'trend_adx': 1, 'trend_aroon_up': 1, 'trend_aroon_down': 0, 'trend_psar_up': 1, 'trend_psar_down': 0, 'trend_psar_up_indicator': 1, 'trend_psar_down_indicator': 1, 'momentum_pvo': 0, 'momentum_pvo_hist': 1, 'others_dr': 0, 'others_cr': 0}. \n"
     ]
    },
    {
     "name": "stdout",
     "output_type": "stream",
     "text": [
      "Trade times in sample: 102381 Trade times out sample: 107278\n",
      "Trial 12 finished with values: [0.5507693836768436, 0.8280374374523898] and parameters: {'volume_adi': 1, 'volume_obv': 0, 'volume_cmf': 1, 'volume_fi': 1, 'volume_em': 1, 'volume_sma_em': 0, 'volume_vpt': 1, 'volume_mfi': 0, 'volatility_bbw': 1, 'volatility_bbhi': 0, 'volatility_bbli': 1, 'volatility_kcw': 0, 'volatility_kcp': 1, 'volatility_kchi': 1, 'trend_macd': 0, 'trend_macd_diff': 1, 'trend_vortex_ind_neg': 0, 'trend_mass_index': 0, 'trend_dpo': 1, 'trend_adx': 1, 'trend_aroon_up': 1, 'trend_aroon_down': 0, 'trend_psar_up': 1, 'trend_psar_down': 0, 'trend_psar_up_indicator': 1, 'trend_psar_down_indicator': 1, 'momentum_pvo': 0, 'momentum_pvo_hist': 1, 'others_dr': 0, 'others_cr': 0}. \n"
     ]
    },
    {
     "name": "stderr",
     "output_type": "stream",
     "text": [
      "[I 2024-06-07 11:03:45,233] Trial 13 finished with values: [0.10007719414020187, 9.999997461152205] and parameters: {'volume_adi': 0, 'volume_obv': 0, 'volume_cmf': 0, 'volume_fi': 1, 'volume_em': 1, 'volume_sma_em': 1, 'volume_vpt': 1, 'volume_mfi': 0, 'volatility_bbw': 1, 'volatility_bbhi': 0, 'volatility_bbli': 0, 'volatility_kcw': 0, 'volatility_kcp': 0, 'volatility_kchi': 0, 'trend_macd': 1, 'trend_macd_diff': 1, 'trend_vortex_ind_neg': 0, 'trend_mass_index': 0, 'trend_dpo': 1, 'trend_adx': 1, 'trend_aroon_up': 0, 'trend_aroon_down': 1, 'trend_psar_up': 1, 'trend_psar_down': 0, 'trend_psar_up_indicator': 1, 'trend_psar_down_indicator': 0, 'momentum_pvo': 0, 'momentum_pvo_hist': 1, 'others_dr': 0, 'others_cr': 0}. \n"
     ]
    },
    {
     "name": "stdout",
     "output_type": "stream",
     "text": [
      "Trade times in sample: 105753 Trade times out sample: 107633\n",
      "Trial 13 finished with values: [0.10007719414020187, 9.999997461152205] and parameters: {'volume_adi': 0, 'volume_obv': 0, 'volume_cmf': 0, 'volume_fi': 1, 'volume_em': 1, 'volume_sma_em': 1, 'volume_vpt': 1, 'volume_mfi': 0, 'volatility_bbw': 1, 'volatility_bbhi': 0, 'volatility_bbli': 0, 'volatility_kcw': 0, 'volatility_kcp': 0, 'volatility_kchi': 0, 'trend_macd': 1, 'trend_macd_diff': 1, 'trend_vortex_ind_neg': 0, 'trend_mass_index': 0, 'trend_dpo': 1, 'trend_adx': 1, 'trend_aroon_up': 0, 'trend_aroon_down': 1, 'trend_psar_up': 1, 'trend_psar_down': 0, 'trend_psar_up_indicator': 1, 'trend_psar_down_indicator': 0, 'momentum_pvo': 0, 'momentum_pvo_hist': 1, 'others_dr': 0, 'others_cr': 0}. \n"
     ]
    },
    {
     "name": "stderr",
     "output_type": "stream",
     "text": [
      "[I 2024-06-07 11:03:52,678] Trial 14 finished with values: [-0.11292546809997836, 10.005241741677002] and parameters: {'volume_adi': 1, 'volume_obv': 0, 'volume_cmf': 0, 'volume_fi': 0, 'volume_em': 1, 'volume_sma_em': 1, 'volume_vpt': 1, 'volume_mfi': 0, 'volatility_bbw': 1, 'volatility_bbhi': 1, 'volatility_bbli': 0, 'volatility_kcw': 1, 'volatility_kcp': 1, 'volatility_kchi': 1, 'trend_macd': 1, 'trend_macd_diff': 0, 'trend_vortex_ind_neg': 1, 'trend_mass_index': 1, 'trend_dpo': 1, 'trend_adx': 1, 'trend_aroon_up': 1, 'trend_aroon_down': 1, 'trend_psar_up': 0, 'trend_psar_down': 1, 'trend_psar_up_indicator': 0, 'trend_psar_down_indicator': 0, 'momentum_pvo': 1, 'momentum_pvo_hist': 0, 'others_dr': 0, 'others_cr': 0}. \n"
     ]
    },
    {
     "name": "stdout",
     "output_type": "stream",
     "text": [
      "Trade times in sample: 106611 Trade times out sample: 107643\n",
      "Trial 14 finished with values: [-0.11292546809997836, 10.005241741677002] and parameters: {'volume_adi': 1, 'volume_obv': 0, 'volume_cmf': 0, 'volume_fi': 0, 'volume_em': 1, 'volume_sma_em': 1, 'volume_vpt': 1, 'volume_mfi': 0, 'volatility_bbw': 1, 'volatility_bbhi': 1, 'volatility_bbli': 0, 'volatility_kcw': 1, 'volatility_kcp': 1, 'volatility_kchi': 1, 'trend_macd': 1, 'trend_macd_diff': 0, 'trend_vortex_ind_neg': 1, 'trend_mass_index': 1, 'trend_dpo': 1, 'trend_adx': 1, 'trend_aroon_up': 1, 'trend_aroon_down': 1, 'trend_psar_up': 0, 'trend_psar_down': 1, 'trend_psar_up_indicator': 0, 'trend_psar_down_indicator': 0, 'momentum_pvo': 1, 'momentum_pvo_hist': 0, 'others_dr': 0, 'others_cr': 0}. \n"
     ]
    },
    {
     "name": "stderr",
     "output_type": "stream",
     "text": [
      "[I 2024-06-07 11:03:59,873] Trial 15 finished with values: [-0.07208981710900424, 10.242792842392687] and parameters: {'volume_adi': 0, 'volume_obv': 1, 'volume_cmf': 1, 'volume_fi': 0, 'volume_em': 0, 'volume_sma_em': 1, 'volume_vpt': 0, 'volume_mfi': 1, 'volatility_bbw': 0, 'volatility_bbhi': 0, 'volatility_bbli': 0, 'volatility_kcw': 0, 'volatility_kcp': 0, 'volatility_kchi': 0, 'trend_macd': 0, 'trend_macd_diff': 0, 'trend_vortex_ind_neg': 1, 'trend_mass_index': 1, 'trend_dpo': 0, 'trend_adx': 0, 'trend_aroon_up': 1, 'trend_aroon_down': 0, 'trend_psar_up': 0, 'trend_psar_down': 1, 'trend_psar_up_indicator': 0, 'trend_psar_down_indicator': 1, 'momentum_pvo': 1, 'momentum_pvo_hist': 0, 'others_dr': 0, 'others_cr': 0}. \n"
     ]
    },
    {
     "name": "stdout",
     "output_type": "stream",
     "text": [
      "Trade times in sample: 106720 Trade times out sample: 107658\n",
      "Trial 15 finished with values: [-0.07208981710900424, 10.242792842392687] and parameters: {'volume_adi': 0, 'volume_obv': 1, 'volume_cmf': 1, 'volume_fi': 0, 'volume_em': 0, 'volume_sma_em': 1, 'volume_vpt': 0, 'volume_mfi': 1, 'volatility_bbw': 0, 'volatility_bbhi': 0, 'volatility_bbli': 0, 'volatility_kcw': 0, 'volatility_kcp': 0, 'volatility_kchi': 0, 'trend_macd': 0, 'trend_macd_diff': 0, 'trend_vortex_ind_neg': 1, 'trend_mass_index': 1, 'trend_dpo': 0, 'trend_adx': 0, 'trend_aroon_up': 1, 'trend_aroon_down': 0, 'trend_psar_up': 0, 'trend_psar_down': 1, 'trend_psar_up_indicator': 0, 'trend_psar_down_indicator': 1, 'momentum_pvo': 1, 'momentum_pvo_hist': 0, 'others_dr': 0, 'others_cr': 0}. \n"
     ]
    },
    {
     "name": "stderr",
     "output_type": "stream",
     "text": [
      "[I 2024-06-07 11:04:05,554] Trial 16 finished with values: [0.2552780275451308, 1.474731789345169] and parameters: {'volume_adi': 0, 'volume_obv': 0, 'volume_cmf': 0, 'volume_fi': 0, 'volume_em': 0, 'volume_sma_em': 0, 'volume_vpt': 0, 'volume_mfi': 0, 'volatility_bbw': 0, 'volatility_bbhi': 0, 'volatility_bbli': 0, 'volatility_kcw': 1, 'volatility_kcp': 0, 'volatility_kchi': 1, 'trend_macd': 0, 'trend_macd_diff': 0, 'trend_vortex_ind_neg': 0, 'trend_mass_index': 1, 'trend_dpo': 0, 'trend_adx': 1, 'trend_aroon_up': 1, 'trend_aroon_down': 1, 'trend_psar_up': 0, 'trend_psar_down': 1, 'trend_psar_up_indicator': 1, 'trend_psar_down_indicator': 1, 'momentum_pvo': 0, 'momentum_pvo_hist': 1, 'others_dr': 0, 'others_cr': 0}. \n"
     ]
    },
    {
     "name": "stdout",
     "output_type": "stream",
     "text": [
      "Trade times in sample: 97438 Trade times out sample: 106800\n",
      "Trial 16 finished with values: [0.2552780275451308, 1.474731789345169] and parameters: {'volume_adi': 0, 'volume_obv': 0, 'volume_cmf': 0, 'volume_fi': 0, 'volume_em': 0, 'volume_sma_em': 0, 'volume_vpt': 0, 'volume_mfi': 0, 'volatility_bbw': 0, 'volatility_bbhi': 0, 'volatility_bbli': 0, 'volatility_kcw': 1, 'volatility_kcp': 0, 'volatility_kchi': 1, 'trend_macd': 0, 'trend_macd_diff': 0, 'trend_vortex_ind_neg': 0, 'trend_mass_index': 1, 'trend_dpo': 0, 'trend_adx': 1, 'trend_aroon_up': 1, 'trend_aroon_down': 1, 'trend_psar_up': 0, 'trend_psar_down': 1, 'trend_psar_up_indicator': 1, 'trend_psar_down_indicator': 1, 'momentum_pvo': 0, 'momentum_pvo_hist': 1, 'others_dr': 0, 'others_cr': 0}. \n"
     ]
    },
    {
     "name": "stderr",
     "output_type": "stream",
     "text": [
      "[I 2024-06-07 11:04:11,825] Trial 17 finished with values: [-0.008134417768406536, 113.10132119932888] and parameters: {'volume_adi': 1, 'volume_obv': 0, 'volume_cmf': 0, 'volume_fi': 1, 'volume_em': 0, 'volume_sma_em': 1, 'volume_vpt': 1, 'volume_mfi': 1, 'volatility_bbw': 1, 'volatility_bbhi': 0, 'volatility_bbli': 1, 'volatility_kcw': 0, 'volatility_kcp': 0, 'volatility_kchi': 0, 'trend_macd': 0, 'trend_macd_diff': 0, 'trend_vortex_ind_neg': 0, 'trend_mass_index': 0, 'trend_dpo': 0, 'trend_adx': 0, 'trend_aroon_up': 0, 'trend_aroon_down': 1, 'trend_psar_up': 0, 'trend_psar_down': 1, 'trend_psar_up_indicator': 0, 'trend_psar_down_indicator': 1, 'momentum_pvo': 0, 'momentum_pvo_hist': 0, 'others_dr': 1, 'others_cr': 0}. \n"
     ]
    },
    {
     "name": "stdout",
     "output_type": "stream",
     "text": [
      "Trade times in sample: 106720 Trade times out sample: 106803\n",
      "Trial 17 finished with values: [-0.008134417768406536, 113.10132119932888] and parameters: {'volume_adi': 1, 'volume_obv': 0, 'volume_cmf': 0, 'volume_fi': 1, 'volume_em': 0, 'volume_sma_em': 1, 'volume_vpt': 1, 'volume_mfi': 1, 'volatility_bbw': 1, 'volatility_bbhi': 0, 'volatility_bbli': 1, 'volatility_kcw': 0, 'volatility_kcp': 0, 'volatility_kchi': 0, 'trend_macd': 0, 'trend_macd_diff': 0, 'trend_vortex_ind_neg': 0, 'trend_mass_index': 0, 'trend_dpo': 0, 'trend_adx': 0, 'trend_aroon_up': 0, 'trend_aroon_down': 1, 'trend_psar_up': 0, 'trend_psar_down': 1, 'trend_psar_up_indicator': 0, 'trend_psar_down_indicator': 1, 'momentum_pvo': 0, 'momentum_pvo_hist': 0, 'others_dr': 1, 'others_cr': 0}. \n"
     ]
    },
    {
     "name": "stderr",
     "output_type": "stream",
     "text": [
      "[I 2024-06-07 11:04:18,302] Trial 18 finished with values: [-0.12498592649905428, 6.816355461501991] and parameters: {'volume_adi': 1, 'volume_obv': 0, 'volume_cmf': 0, 'volume_fi': 0, 'volume_em': 0, 'volume_sma_em': 1, 'volume_vpt': 1, 'volume_mfi': 0, 'volatility_bbw': 1, 'volatility_bbhi': 0, 'volatility_bbli': 0, 'volatility_kcw': 1, 'volatility_kcp': 1, 'volatility_kchi': 0, 'trend_macd': 1, 'trend_macd_diff': 0, 'trend_vortex_ind_neg': 0, 'trend_mass_index': 1, 'trend_dpo': 0, 'trend_adx': 0, 'trend_aroon_up': 0, 'trend_aroon_down': 1, 'trend_psar_up': 1, 'trend_psar_down': 1, 'trend_psar_up_indicator': 1, 'trend_psar_down_indicator': 1, 'momentum_pvo': 1, 'momentum_pvo_hist': 1, 'others_dr': 0, 'others_cr': 1}. \n"
     ]
    },
    {
     "name": "stdout",
     "output_type": "stream",
     "text": [
      "Trade times in sample: 106965 Trade times out sample: 107389\n",
      "Trial 18 finished with values: [-0.12498592649905428, 6.816355461501991] and parameters: {'volume_adi': 1, 'volume_obv': 0, 'volume_cmf': 0, 'volume_fi': 0, 'volume_em': 0, 'volume_sma_em': 1, 'volume_vpt': 1, 'volume_mfi': 0, 'volatility_bbw': 1, 'volatility_bbhi': 0, 'volatility_bbli': 0, 'volatility_kcw': 1, 'volatility_kcp': 1, 'volatility_kchi': 0, 'trend_macd': 1, 'trend_macd_diff': 0, 'trend_vortex_ind_neg': 0, 'trend_mass_index': 1, 'trend_dpo': 0, 'trend_adx': 0, 'trend_aroon_up': 0, 'trend_aroon_down': 1, 'trend_psar_up': 1, 'trend_psar_down': 1, 'trend_psar_up_indicator': 1, 'trend_psar_down_indicator': 1, 'momentum_pvo': 1, 'momentum_pvo_hist': 1, 'others_dr': 0, 'others_cr': 1}. \n"
     ]
    },
    {
     "name": "stderr",
     "output_type": "stream",
     "text": [
      "[I 2024-06-07 11:04:25,136] Trial 19 finished with values: [0.1503304311093422, 6.161790645921826] and parameters: {'volume_adi': 0, 'volume_obv': 1, 'volume_cmf': 0, 'volume_fi': 0, 'volume_em': 1, 'volume_sma_em': 1, 'volume_vpt': 1, 'volume_mfi': 0, 'volatility_bbw': 0, 'volatility_bbhi': 1, 'volatility_bbli': 1, 'volatility_kcw': 0, 'volatility_kcp': 1, 'volatility_kchi': 0, 'trend_macd': 0, 'trend_macd_diff': 1, 'trend_vortex_ind_neg': 1, 'trend_mass_index': 1, 'trend_dpo': 0, 'trend_adx': 1, 'trend_aroon_up': 1, 'trend_aroon_down': 1, 'trend_psar_up': 0, 'trend_psar_down': 1, 'trend_psar_up_indicator': 0, 'trend_psar_down_indicator': 1, 'momentum_pvo': 0, 'momentum_pvo_hist': 1, 'others_dr': 0, 'others_cr': 1}. \n"
     ]
    },
    {
     "name": "stdout",
     "output_type": "stream",
     "text": [
      "Trade times in sample: 106720 Trade times out sample: 107658\n",
      "Trial 19 finished with values: [0.1503304311093422, 6.161790645921826] and parameters: {'volume_adi': 0, 'volume_obv': 1, 'volume_cmf': 0, 'volume_fi': 0, 'volume_em': 1, 'volume_sma_em': 1, 'volume_vpt': 1, 'volume_mfi': 0, 'volatility_bbw': 0, 'volatility_bbhi': 1, 'volatility_bbli': 1, 'volatility_kcw': 0, 'volatility_kcp': 1, 'volatility_kchi': 0, 'trend_macd': 0, 'trend_macd_diff': 1, 'trend_vortex_ind_neg': 1, 'trend_mass_index': 1, 'trend_dpo': 0, 'trend_adx': 1, 'trend_aroon_up': 1, 'trend_aroon_down': 1, 'trend_psar_up': 0, 'trend_psar_down': 1, 'trend_psar_up_indicator': 0, 'trend_psar_down_indicator': 1, 'momentum_pvo': 0, 'momentum_pvo_hist': 1, 'others_dr': 0, 'others_cr': 1}. \n"
     ]
    },
    {
     "name": "stderr",
     "output_type": "stream",
     "text": [
      "[I 2024-06-07 11:04:31,446] Trial 20 finished with values: [0.15838471014102248, 5.215866439540053] and parameters: {'volume_adi': 1, 'volume_obv': 1, 'volume_cmf': 0, 'volume_fi': 0, 'volume_em': 0, 'volume_sma_em': 1, 'volume_vpt': 0, 'volume_mfi': 0, 'volatility_bbw': 1, 'volatility_bbhi': 0, 'volatility_bbli': 0, 'volatility_kcw': 0, 'volatility_kcp': 1, 'volatility_kchi': 1, 'trend_macd': 1, 'trend_macd_diff': 1, 'trend_vortex_ind_neg': 0, 'trend_mass_index': 1, 'trend_dpo': 0, 'trend_adx': 1, 'trend_aroon_up': 0, 'trend_aroon_down': 1, 'trend_psar_up': 1, 'trend_psar_down': 0, 'trend_psar_up_indicator': 0, 'trend_psar_down_indicator': 0, 'momentum_pvo': 0, 'momentum_pvo_hist': 0, 'others_dr': 1, 'others_cr': 0}. \n"
     ]
    },
    {
     "name": "stdout",
     "output_type": "stream",
     "text": [
      "Trade times in sample: 105261 Trade times out sample: 107667\n",
      "Trial 20 finished with values: [0.15838471014102248, 5.215866439540053] and parameters: {'volume_adi': 1, 'volume_obv': 1, 'volume_cmf': 0, 'volume_fi': 0, 'volume_em': 0, 'volume_sma_em': 1, 'volume_vpt': 0, 'volume_mfi': 0, 'volatility_bbw': 1, 'volatility_bbhi': 0, 'volatility_bbli': 0, 'volatility_kcw': 0, 'volatility_kcp': 1, 'volatility_kchi': 1, 'trend_macd': 1, 'trend_macd_diff': 1, 'trend_vortex_ind_neg': 0, 'trend_mass_index': 1, 'trend_dpo': 0, 'trend_adx': 1, 'trend_aroon_up': 0, 'trend_aroon_down': 1, 'trend_psar_up': 1, 'trend_psar_down': 0, 'trend_psar_up_indicator': 0, 'trend_psar_down_indicator': 0, 'momentum_pvo': 0, 'momentum_pvo_hist': 0, 'others_dr': 1, 'others_cr': 0}. \n"
     ]
    },
    {
     "name": "stderr",
     "output_type": "stream",
     "text": [
      "[I 2024-06-07 11:04:38,293] Trial 21 finished with values: [-0.11077613275146728, 8.627641336656305] and parameters: {'volume_adi': 0, 'volume_obv': 0, 'volume_cmf': 0, 'volume_fi': 0, 'volume_em': 1, 'volume_sma_em': 1, 'volume_vpt': 1, 'volume_mfi': 0, 'volatility_bbw': 1, 'volatility_bbhi': 0, 'volatility_bbli': 1, 'volatility_kcw': 1, 'volatility_kcp': 1, 'volatility_kchi': 1, 'trend_macd': 1, 'trend_macd_diff': 1, 'trend_vortex_ind_neg': 0, 'trend_mass_index': 0, 'trend_dpo': 1, 'trend_adx': 1, 'trend_aroon_up': 0, 'trend_aroon_down': 1, 'trend_psar_up': 1, 'trend_psar_down': 0, 'trend_psar_up_indicator': 0, 'trend_psar_down_indicator': 1, 'momentum_pvo': 0, 'momentum_pvo_hist': 0, 'others_dr': 0, 'others_cr': 0}. \n"
     ]
    },
    {
     "name": "stdout",
     "output_type": "stream",
     "text": [
      "Trade times in sample: 105521 Trade times out sample: 107620\n",
      "Trial 21 finished with values: [-0.11077613275146728, 8.627641336656305] and parameters: {'volume_adi': 0, 'volume_obv': 0, 'volume_cmf': 0, 'volume_fi': 0, 'volume_em': 1, 'volume_sma_em': 1, 'volume_vpt': 1, 'volume_mfi': 0, 'volatility_bbw': 1, 'volatility_bbhi': 0, 'volatility_bbli': 1, 'volatility_kcw': 1, 'volatility_kcp': 1, 'volatility_kchi': 1, 'trend_macd': 1, 'trend_macd_diff': 1, 'trend_vortex_ind_neg': 0, 'trend_mass_index': 0, 'trend_dpo': 1, 'trend_adx': 1, 'trend_aroon_up': 0, 'trend_aroon_down': 1, 'trend_psar_up': 1, 'trend_psar_down': 0, 'trend_psar_up_indicator': 0, 'trend_psar_down_indicator': 1, 'momentum_pvo': 0, 'momentum_pvo_hist': 0, 'others_dr': 0, 'others_cr': 0}. \n"
     ]
    },
    {
     "name": "stderr",
     "output_type": "stream",
     "text": [
      "[I 2024-06-07 11:04:45,163] Trial 22 finished with values: [-0.1454551864554922, 7.239361682049768] and parameters: {'volume_adi': 1, 'volume_obv': 0, 'volume_cmf': 1, 'volume_fi': 1, 'volume_em': 1, 'volume_sma_em': 0, 'volume_vpt': 1, 'volume_mfi': 1, 'volatility_bbw': 1, 'volatility_bbhi': 1, 'volatility_bbli': 1, 'volatility_kcw': 1, 'volatility_kcp': 0, 'volatility_kchi': 1, 'trend_macd': 1, 'trend_macd_diff': 1, 'trend_vortex_ind_neg': 0, 'trend_mass_index': 0, 'trend_dpo': 0, 'trend_adx': 0, 'trend_aroon_up': 1, 'trend_aroon_down': 1, 'trend_psar_up': 0, 'trend_psar_down': 1, 'trend_psar_up_indicator': 0, 'trend_psar_down_indicator': 1, 'momentum_pvo': 1, 'momentum_pvo_hist': 1, 'others_dr': 0, 'others_cr': 0}. \n"
     ]
    },
    {
     "name": "stdout",
     "output_type": "stream",
     "text": [
      "Trade times in sample: 106956 Trade times out sample: 107278\n",
      "Trial 22 finished with values: [-0.1454551864554922, 7.239361682049768] and parameters: {'volume_adi': 1, 'volume_obv': 0, 'volume_cmf': 1, 'volume_fi': 1, 'volume_em': 1, 'volume_sma_em': 0, 'volume_vpt': 1, 'volume_mfi': 1, 'volatility_bbw': 1, 'volatility_bbhi': 1, 'volatility_bbli': 1, 'volatility_kcw': 1, 'volatility_kcp': 0, 'volatility_kchi': 1, 'trend_macd': 1, 'trend_macd_diff': 1, 'trend_vortex_ind_neg': 0, 'trend_mass_index': 0, 'trend_dpo': 0, 'trend_adx': 0, 'trend_aroon_up': 1, 'trend_aroon_down': 1, 'trend_psar_up': 0, 'trend_psar_down': 1, 'trend_psar_up_indicator': 0, 'trend_psar_down_indicator': 1, 'momentum_pvo': 1, 'momentum_pvo_hist': 1, 'others_dr': 0, 'others_cr': 0}. \n"
     ]
    },
    {
     "name": "stderr",
     "output_type": "stream",
     "text": [
      "[I 2024-06-07 11:04:52,519] Trial 23 finished with values: [0.050368251855294116, 16.88522533638419] and parameters: {'volume_adi': 0, 'volume_obv': 0, 'volume_cmf': 0, 'volume_fi': 0, 'volume_em': 0, 'volume_sma_em': 1, 'volume_vpt': 0, 'volume_mfi': 0, 'volatility_bbw': 0, 'volatility_bbhi': 0, 'volatility_bbli': 0, 'volatility_kcw': 1, 'volatility_kcp': 0, 'volatility_kchi': 0, 'trend_macd': 0, 'trend_macd_diff': 1, 'trend_vortex_ind_neg': 0, 'trend_mass_index': 0, 'trend_dpo': 1, 'trend_adx': 0, 'trend_aroon_up': 1, 'trend_aroon_down': 0, 'trend_psar_up': 0, 'trend_psar_down': 0, 'trend_psar_up_indicator': 1, 'trend_psar_down_indicator': 0, 'momentum_pvo': 1, 'momentum_pvo_hist': 0, 'others_dr': 0, 'others_cr': 0}. \n"
     ]
    },
    {
     "name": "stdout",
     "output_type": "stream",
     "text": [
      "Trade times in sample: 105741 Trade times out sample: 107654\n",
      "Trial 23 finished with values: [0.050368251855294116, 16.88522533638419] and parameters: {'volume_adi': 0, 'volume_obv': 0, 'volume_cmf': 0, 'volume_fi': 0, 'volume_em': 0, 'volume_sma_em': 1, 'volume_vpt': 0, 'volume_mfi': 0, 'volatility_bbw': 0, 'volatility_bbhi': 0, 'volatility_bbli': 0, 'volatility_kcw': 1, 'volatility_kcp': 0, 'volatility_kchi': 0, 'trend_macd': 0, 'trend_macd_diff': 1, 'trend_vortex_ind_neg': 0, 'trend_mass_index': 0, 'trend_dpo': 1, 'trend_adx': 0, 'trend_aroon_up': 1, 'trend_aroon_down': 0, 'trend_psar_up': 0, 'trend_psar_down': 0, 'trend_psar_up_indicator': 1, 'trend_psar_down_indicator': 0, 'momentum_pvo': 1, 'momentum_pvo_hist': 0, 'others_dr': 0, 'others_cr': 0}. \n"
     ]
    },
    {
     "name": "stderr",
     "output_type": "stream",
     "text": [
      "[I 2024-06-07 11:04:59,948] Trial 24 finished with values: [0.24302358026733276, 5.008157008071524] and parameters: {'volume_adi': 0, 'volume_obv': 1, 'volume_cmf': 1, 'volume_fi': 1, 'volume_em': 1, 'volume_sma_em': 1, 'volume_vpt': 0, 'volume_mfi': 0, 'volatility_bbw': 0, 'volatility_bbhi': 0, 'volatility_bbli': 1, 'volatility_kcw': 0, 'volatility_kcp': 0, 'volatility_kchi': 1, 'trend_macd': 1, 'trend_macd_diff': 1, 'trend_vortex_ind_neg': 1, 'trend_mass_index': 1, 'trend_dpo': 1, 'trend_adx': 1, 'trend_aroon_up': 0, 'trend_aroon_down': 1, 'trend_psar_up': 0, 'trend_psar_down': 1, 'trend_psar_up_indicator': 1, 'trend_psar_down_indicator': 0, 'momentum_pvo': 0, 'momentum_pvo_hist': 1, 'others_dr': 1, 'others_cr': 1}. \n"
     ]
    },
    {
     "name": "stdout",
     "output_type": "stream",
     "text": [
      "Trade times in sample: 106965 Trade times out sample: 107658\n",
      "Trial 24 finished with values: [0.24302358026733276, 5.008157008071524] and parameters: {'volume_adi': 0, 'volume_obv': 1, 'volume_cmf': 1, 'volume_fi': 1, 'volume_em': 1, 'volume_sma_em': 1, 'volume_vpt': 0, 'volume_mfi': 0, 'volatility_bbw': 0, 'volatility_bbhi': 0, 'volatility_bbli': 1, 'volatility_kcw': 0, 'volatility_kcp': 0, 'volatility_kchi': 1, 'trend_macd': 1, 'trend_macd_diff': 1, 'trend_vortex_ind_neg': 1, 'trend_mass_index': 1, 'trend_dpo': 1, 'trend_adx': 1, 'trend_aroon_up': 0, 'trend_aroon_down': 1, 'trend_psar_up': 0, 'trend_psar_down': 1, 'trend_psar_up_indicator': 1, 'trend_psar_down_indicator': 0, 'momentum_pvo': 0, 'momentum_pvo_hist': 1, 'others_dr': 1, 'others_cr': 1}. \n"
     ]
    },
    {
     "name": "stderr",
     "output_type": "stream",
     "text": [
      "[I 2024-06-07 11:05:07,605] Trial 25 finished with values: [0.2119955868103245, 3.236319499380399] and parameters: {'volume_adi': 1, 'volume_obv': 1, 'volume_cmf': 0, 'volume_fi': 0, 'volume_em': 0, 'volume_sma_em': 0, 'volume_vpt': 0, 'volume_mfi': 0, 'volatility_bbw': 1, 'volatility_bbhi': 0, 'volatility_bbli': 0, 'volatility_kcw': 0, 'volatility_kcp': 0, 'volatility_kchi': 0, 'trend_macd': 1, 'trend_macd_diff': 1, 'trend_vortex_ind_neg': 1, 'trend_mass_index': 1, 'trend_dpo': 0, 'trend_adx': 1, 'trend_aroon_up': 0, 'trend_aroon_down': 0, 'trend_psar_up': 0, 'trend_psar_down': 1, 'trend_psar_up_indicator': 1, 'trend_psar_down_indicator': 0, 'momentum_pvo': 0, 'momentum_pvo_hist': 0, 'others_dr': 1, 'others_cr': 1}. \n"
     ]
    },
    {
     "name": "stdout",
     "output_type": "stream",
     "text": [
      "Trade times in sample: 107276 Trade times out sample: 107672\n",
      "Trial 25 finished with values: [0.2119955868103245, 3.236319499380399] and parameters: {'volume_adi': 1, 'volume_obv': 1, 'volume_cmf': 0, 'volume_fi': 0, 'volume_em': 0, 'volume_sma_em': 0, 'volume_vpt': 0, 'volume_mfi': 0, 'volatility_bbw': 1, 'volatility_bbhi': 0, 'volatility_bbli': 0, 'volatility_kcw': 0, 'volatility_kcp': 0, 'volatility_kchi': 0, 'trend_macd': 1, 'trend_macd_diff': 1, 'trend_vortex_ind_neg': 1, 'trend_mass_index': 1, 'trend_dpo': 0, 'trend_adx': 1, 'trend_aroon_up': 0, 'trend_aroon_down': 0, 'trend_psar_up': 0, 'trend_psar_down': 1, 'trend_psar_up_indicator': 1, 'trend_psar_down_indicator': 0, 'momentum_pvo': 0, 'momentum_pvo_hist': 0, 'others_dr': 1, 'others_cr': 1}. \n"
     ]
    },
    {
     "name": "stderr",
     "output_type": "stream",
     "text": [
      "[I 2024-06-07 11:05:14,938] Trial 26 finished with values: [0.2822566975006957, 3.0131377590962884] and parameters: {'volume_adi': 0, 'volume_obv': 0, 'volume_cmf': 1, 'volume_fi': 0, 'volume_em': 0, 'volume_sma_em': 0, 'volume_vpt': 1, 'volume_mfi': 1, 'volatility_bbw': 1, 'volatility_bbhi': 1, 'volatility_bbli': 0, 'volatility_kcw': 0, 'volatility_kcp': 1, 'volatility_kchi': 0, 'trend_macd': 1, 'trend_macd_diff': 0, 'trend_vortex_ind_neg': 1, 'trend_mass_index': 1, 'trend_dpo': 1, 'trend_adx': 1, 'trend_aroon_up': 1, 'trend_aroon_down': 0, 'trend_psar_up': 1, 'trend_psar_down': 1, 'trend_psar_up_indicator': 0, 'trend_psar_down_indicator': 1, 'momentum_pvo': 1, 'momentum_pvo_hist': 0, 'others_dr': 1, 'others_cr': 0}. \n"
     ]
    },
    {
     "name": "stdout",
     "output_type": "stream",
     "text": [
      "Trade times in sample: 106980 Trade times out sample: 106830\n",
      "Trial 26 finished with values: [0.2822566975006957, 3.0131377590962884] and parameters: {'volume_adi': 0, 'volume_obv': 0, 'volume_cmf': 1, 'volume_fi': 0, 'volume_em': 0, 'volume_sma_em': 0, 'volume_vpt': 1, 'volume_mfi': 1, 'volatility_bbw': 1, 'volatility_bbhi': 1, 'volatility_bbli': 0, 'volatility_kcw': 0, 'volatility_kcp': 1, 'volatility_kchi': 0, 'trend_macd': 1, 'trend_macd_diff': 0, 'trend_vortex_ind_neg': 1, 'trend_mass_index': 1, 'trend_dpo': 1, 'trend_adx': 1, 'trend_aroon_up': 1, 'trend_aroon_down': 0, 'trend_psar_up': 1, 'trend_psar_down': 1, 'trend_psar_up_indicator': 0, 'trend_psar_down_indicator': 1, 'momentum_pvo': 1, 'momentum_pvo_hist': 0, 'others_dr': 1, 'others_cr': 0}. \n"
     ]
    },
    {
     "name": "stderr",
     "output_type": "stream",
     "text": [
      "[I 2024-06-07 11:05:21,704] Trial 27 finished with values: [-0.21940675620830025, 3.75134086761131] and parameters: {'volume_adi': 0, 'volume_obv': 0, 'volume_cmf': 0, 'volume_fi': 0, 'volume_em': 1, 'volume_sma_em': 1, 'volume_vpt': 1, 'volume_mfi': 0, 'volatility_bbw': 1, 'volatility_bbhi': 1, 'volatility_bbli': 1, 'volatility_kcw': 1, 'volatility_kcp': 0, 'volatility_kchi': 0, 'trend_macd': 0, 'trend_macd_diff': 1, 'trend_vortex_ind_neg': 1, 'trend_mass_index': 1, 'trend_dpo': 0, 'trend_adx': 0, 'trend_aroon_up': 1, 'trend_aroon_down': 1, 'trend_psar_up': 0, 'trend_psar_down': 1, 'trend_psar_up_indicator': 0, 'trend_psar_down_indicator': 1, 'momentum_pvo': 0, 'momentum_pvo_hist': 1, 'others_dr': 0, 'others_cr': 0}. \n"
     ]
    },
    {
     "name": "stdout",
     "output_type": "stream",
     "text": [
      "Trade times in sample: 106720 Trade times out sample: 107617\n",
      "Trial 27 finished with values: [-0.21940675620830025, 3.75134086761131] and parameters: {'volume_adi': 0, 'volume_obv': 0, 'volume_cmf': 0, 'volume_fi': 0, 'volume_em': 1, 'volume_sma_em': 1, 'volume_vpt': 1, 'volume_mfi': 0, 'volatility_bbw': 1, 'volatility_bbhi': 1, 'volatility_bbli': 1, 'volatility_kcw': 1, 'volatility_kcp': 0, 'volatility_kchi': 0, 'trend_macd': 0, 'trend_macd_diff': 1, 'trend_vortex_ind_neg': 1, 'trend_mass_index': 1, 'trend_dpo': 0, 'trend_adx': 0, 'trend_aroon_up': 1, 'trend_aroon_down': 1, 'trend_psar_up': 0, 'trend_psar_down': 1, 'trend_psar_up_indicator': 0, 'trend_psar_down_indicator': 1, 'momentum_pvo': 0, 'momentum_pvo_hist': 1, 'others_dr': 0, 'others_cr': 0}. \n"
     ]
    },
    {
     "name": "stderr",
     "output_type": "stream",
     "text": [
      "[I 2024-06-07 11:05:25,156] Trial 28 finished with values: [0.10200088492848405, 9.953615714481424] and parameters: {'volume_adi': 0, 'volume_obv': 0, 'volume_cmf': 1, 'volume_fi': 1, 'volume_em': 1, 'volume_sma_em': 0, 'volume_vpt': 0, 'volume_mfi': 1, 'volatility_bbw': 0, 'volatility_bbhi': 1, 'volatility_bbli': 0, 'volatility_kcw': 0, 'volatility_kcp': 0, 'volatility_kchi': 1, 'trend_macd': 1, 'trend_macd_diff': 1, 'trend_vortex_ind_neg': 0, 'trend_mass_index': 0, 'trend_dpo': 1, 'trend_adx': 0, 'trend_aroon_up': 0, 'trend_aroon_down': 1, 'trend_psar_up': 1, 'trend_psar_down': 1, 'trend_psar_up_indicator': 1, 'trend_psar_down_indicator': 0, 'momentum_pvo': 1, 'momentum_pvo_hist': 0, 'others_dr': 0, 'others_cr': 0}. \n"
     ]
    },
    {
     "name": "stdout",
     "output_type": "stream",
     "text": [
      "Trade times in sample: 106964 Trade times out sample: 107288\n",
      "Trial 28 finished with values: [0.10200088492848405, 9.953615714481424] and parameters: {'volume_adi': 0, 'volume_obv': 0, 'volume_cmf': 1, 'volume_fi': 1, 'volume_em': 1, 'volume_sma_em': 0, 'volume_vpt': 0, 'volume_mfi': 1, 'volatility_bbw': 0, 'volatility_bbhi': 1, 'volatility_bbli': 0, 'volatility_kcw': 0, 'volatility_kcp': 0, 'volatility_kchi': 1, 'trend_macd': 1, 'trend_macd_diff': 1, 'trend_vortex_ind_neg': 0, 'trend_mass_index': 0, 'trend_dpo': 1, 'trend_adx': 0, 'trend_aroon_up': 0, 'trend_aroon_down': 1, 'trend_psar_up': 1, 'trend_psar_down': 1, 'trend_psar_up_indicator': 1, 'trend_psar_down_indicator': 0, 'momentum_pvo': 1, 'momentum_pvo_hist': 0, 'others_dr': 0, 'others_cr': 0}. \n"
     ]
    },
    {
     "name": "stderr",
     "output_type": "stream",
     "text": [
      "[I 2024-06-07 11:05:27,552] Trial 29 finished with values: [-0.10780663132686927, 8.291660624640489] and parameters: {'volume_adi': 0, 'volume_obv': 1, 'volume_cmf': 1, 'volume_fi': 0, 'volume_em': 0, 'volume_sma_em': 0, 'volume_vpt': 0, 'volume_mfi': 1, 'volatility_bbw': 1, 'volatility_bbhi': 0, 'volatility_bbli': 0, 'volatility_kcw': 0, 'volatility_kcp': 1, 'volatility_kchi': 1, 'trend_macd': 1, 'trend_macd_diff': 0, 'trend_vortex_ind_neg': 1, 'trend_mass_index': 1, 'trend_dpo': 0, 'trend_adx': 0, 'trend_aroon_up': 1, 'trend_aroon_down': 0, 'trend_psar_up': 1, 'trend_psar_down': 1, 'trend_psar_up_indicator': 0, 'trend_psar_down_indicator': 0, 'momentum_pvo': 0, 'momentum_pvo_hist': 0, 'others_dr': 1, 'others_cr': 0}. \n"
     ]
    },
    {
     "name": "stdout",
     "output_type": "stream",
     "text": [
      "Trade times in sample: 107430 Trade times out sample: 107685\n",
      "Trial 29 finished with values: [-0.10780663132686927, 8.291660624640489] and parameters: {'volume_adi': 0, 'volume_obv': 1, 'volume_cmf': 1, 'volume_fi': 0, 'volume_em': 0, 'volume_sma_em': 0, 'volume_vpt': 0, 'volume_mfi': 1, 'volatility_bbw': 1, 'volatility_bbhi': 0, 'volatility_bbli': 0, 'volatility_kcw': 0, 'volatility_kcp': 1, 'volatility_kchi': 1, 'trend_macd': 1, 'trend_macd_diff': 0, 'trend_vortex_ind_neg': 1, 'trend_mass_index': 1, 'trend_dpo': 0, 'trend_adx': 0, 'trend_aroon_up': 1, 'trend_aroon_down': 0, 'trend_psar_up': 1, 'trend_psar_down': 1, 'trend_psar_up_indicator': 0, 'trend_psar_down_indicator': 0, 'momentum_pvo': 0, 'momentum_pvo_hist': 0, 'others_dr': 1, 'others_cr': 0}. \n"
     ]
    },
    {
     "name": "stderr",
     "output_type": "stream",
     "text": [
      "[I 2024-06-07 11:05:32,707] Trial 30 finished with values: [0.05519119977588878, 15.369942980959664] and parameters: {'volume_adi': 1, 'volume_obv': 1, 'volume_cmf': 1, 'volume_fi': 1, 'volume_em': 0, 'volume_sma_em': 1, 'volume_vpt': 1, 'volume_mfi': 0, 'volatility_bbw': 0, 'volatility_bbhi': 0, 'volatility_bbli': 1, 'volatility_kcw': 1, 'volatility_kcp': 0, 'volatility_kchi': 0, 'trend_macd': 0, 'trend_macd_diff': 0, 'trend_vortex_ind_neg': 0, 'trend_mass_index': 1, 'trend_dpo': 0, 'trend_adx': 1, 'trend_aroon_up': 0, 'trend_aroon_down': 0, 'trend_psar_up': 1, 'trend_psar_down': 1, 'trend_psar_up_indicator': 0, 'trend_psar_down_indicator': 1, 'momentum_pvo': 1, 'momentum_pvo_hist': 0, 'others_dr': 0, 'others_cr': 0}. \n"
     ]
    },
    {
     "name": "stdout",
     "output_type": "stream",
     "text": [
      "Trade times in sample: 106720 Trade times out sample: 107642\n",
      "Trial 30 finished with values: [0.05519119977588878, 15.369942980959664] and parameters: {'volume_adi': 1, 'volume_obv': 1, 'volume_cmf': 1, 'volume_fi': 1, 'volume_em': 0, 'volume_sma_em': 1, 'volume_vpt': 1, 'volume_mfi': 0, 'volatility_bbw': 0, 'volatility_bbhi': 0, 'volatility_bbli': 1, 'volatility_kcw': 1, 'volatility_kcp': 0, 'volatility_kchi': 0, 'trend_macd': 0, 'trend_macd_diff': 0, 'trend_vortex_ind_neg': 0, 'trend_mass_index': 1, 'trend_dpo': 0, 'trend_adx': 1, 'trend_aroon_up': 0, 'trend_aroon_down': 0, 'trend_psar_up': 1, 'trend_psar_down': 1, 'trend_psar_up_indicator': 0, 'trend_psar_down_indicator': 1, 'momentum_pvo': 1, 'momentum_pvo_hist': 0, 'others_dr': 0, 'others_cr': 0}. \n"
     ]
    },
    {
     "name": "stderr",
     "output_type": "stream",
     "text": [
      "[I 2024-06-07 11:05:40,443] Trial 31 finished with values: [-0.08193182758405504, 12.514787209581966] and parameters: {'volume_adi': 1, 'volume_obv': 1, 'volume_cmf': 1, 'volume_fi': 0, 'volume_em': 1, 'volume_sma_em': 0, 'volume_vpt': 0, 'volume_mfi': 1, 'volatility_bbw': 0, 'volatility_bbhi': 1, 'volatility_bbli': 0, 'volatility_kcw': 1, 'volatility_kcp': 1, 'volatility_kchi': 1, 'trend_macd': 1, 'trend_macd_diff': 0, 'trend_vortex_ind_neg': 1, 'trend_mass_index': 1, 'trend_dpo': 0, 'trend_adx': 1, 'trend_aroon_up': 1, 'trend_aroon_down': 0, 'trend_psar_up': 1, 'trend_psar_down': 0, 'trend_psar_up_indicator': 0, 'trend_psar_down_indicator': 0, 'momentum_pvo': 0, 'momentum_pvo_hist': 1, 'others_dr': 1, 'others_cr': 0}. \n"
     ]
    },
    {
     "name": "stdout",
     "output_type": "stream",
     "text": [
      "Trade times in sample: 107684 Trade times out sample: 107654\n",
      "Trial 31 finished with values: [-0.08193182758405504, 12.514787209581966] and parameters: {'volume_adi': 1, 'volume_obv': 1, 'volume_cmf': 1, 'volume_fi': 0, 'volume_em': 1, 'volume_sma_em': 0, 'volume_vpt': 0, 'volume_mfi': 1, 'volatility_bbw': 0, 'volatility_bbhi': 1, 'volatility_bbli': 0, 'volatility_kcw': 1, 'volatility_kcp': 1, 'volatility_kchi': 1, 'trend_macd': 1, 'trend_macd_diff': 0, 'trend_vortex_ind_neg': 1, 'trend_mass_index': 1, 'trend_dpo': 0, 'trend_adx': 1, 'trend_aroon_up': 1, 'trend_aroon_down': 0, 'trend_psar_up': 1, 'trend_psar_down': 0, 'trend_psar_up_indicator': 0, 'trend_psar_down_indicator': 0, 'momentum_pvo': 0, 'momentum_pvo_hist': 1, 'others_dr': 1, 'others_cr': 0}. \n"
     ]
    },
    {
     "name": "stderr",
     "output_type": "stream",
     "text": [
      "[I 2024-06-07 11:05:48,657] Trial 32 finished with values: [0.11372070143910074, 8.781259944199387] and parameters: {'volume_adi': 1, 'volume_obv': 0, 'volume_cmf': 0, 'volume_fi': 0, 'volume_em': 0, 'volume_sma_em': 1, 'volume_vpt': 1, 'volume_mfi': 0, 'volatility_bbw': 1, 'volatility_bbhi': 1, 'volatility_bbli': 1, 'volatility_kcw': 0, 'volatility_kcp': 1, 'volatility_kchi': 0, 'trend_macd': 1, 'trend_macd_diff': 1, 'trend_vortex_ind_neg': 0, 'trend_mass_index': 1, 'trend_dpo': 1, 'trend_adx': 0, 'trend_aroon_up': 1, 'trend_aroon_down': 1, 'trend_psar_up': 1, 'trend_psar_down': 0, 'trend_psar_up_indicator': 1, 'trend_psar_down_indicator': 1, 'momentum_pvo': 0, 'momentum_pvo_hist': 1, 'others_dr': 0, 'others_cr': 1}. \n"
     ]
    },
    {
     "name": "stdout",
     "output_type": "stream",
     "text": [
      "Trade times in sample: 106950 Trade times out sample: 106860\n",
      "Trial 32 finished with values: [0.11372070143910074, 8.781259944199387] and parameters: {'volume_adi': 1, 'volume_obv': 0, 'volume_cmf': 0, 'volume_fi': 0, 'volume_em': 0, 'volume_sma_em': 1, 'volume_vpt': 1, 'volume_mfi': 0, 'volatility_bbw': 1, 'volatility_bbhi': 1, 'volatility_bbli': 1, 'volatility_kcw': 0, 'volatility_kcp': 1, 'volatility_kchi': 0, 'trend_macd': 1, 'trend_macd_diff': 1, 'trend_vortex_ind_neg': 0, 'trend_mass_index': 1, 'trend_dpo': 1, 'trend_adx': 0, 'trend_aroon_up': 1, 'trend_aroon_down': 1, 'trend_psar_up': 1, 'trend_psar_down': 0, 'trend_psar_up_indicator': 1, 'trend_psar_down_indicator': 1, 'momentum_pvo': 0, 'momentum_pvo_hist': 1, 'others_dr': 0, 'others_cr': 1}. \n"
     ]
    },
    {
     "name": "stderr",
     "output_type": "stream",
     "text": [
      "[I 2024-06-07 11:05:56,133] Trial 33 finished with values: [-0.4097027162760985, 1.5028449792993115] and parameters: {'volume_adi': 1, 'volume_obv': 1, 'volume_cmf': 1, 'volume_fi': 1, 'volume_em': 0, 'volume_sma_em': 0, 'volume_vpt': 1, 'volume_mfi': 0, 'volatility_bbw': 1, 'volatility_bbhi': 1, 'volatility_bbli': 1, 'volatility_kcw': 0, 'volatility_kcp': 1, 'volatility_kchi': 0, 'trend_macd': 1, 'trend_macd_diff': 1, 'trend_vortex_ind_neg': 0, 'trend_mass_index': 0, 'trend_dpo': 1, 'trend_adx': 0, 'trend_aroon_up': 0, 'trend_aroon_down': 1, 'trend_psar_up': 0, 'trend_psar_down': 0, 'trend_psar_up_indicator': 0, 'trend_psar_down_indicator': 1, 'momentum_pvo': 1, 'momentum_pvo_hist': 0, 'others_dr': 0, 'others_cr': 1}. \n"
     ]
    },
    {
     "name": "stdout",
     "output_type": "stream",
     "text": [
      "Trade times in sample: 106976 Trade times out sample: 107670\n",
      "Trial 33 finished with values: [-0.4097027162760985, 1.5028449792993115] and parameters: {'volume_adi': 1, 'volume_obv': 1, 'volume_cmf': 1, 'volume_fi': 1, 'volume_em': 0, 'volume_sma_em': 0, 'volume_vpt': 1, 'volume_mfi': 0, 'volatility_bbw': 1, 'volatility_bbhi': 1, 'volatility_bbli': 1, 'volatility_kcw': 0, 'volatility_kcp': 1, 'volatility_kchi': 0, 'trend_macd': 1, 'trend_macd_diff': 1, 'trend_vortex_ind_neg': 0, 'trend_mass_index': 0, 'trend_dpo': 1, 'trend_adx': 0, 'trend_aroon_up': 0, 'trend_aroon_down': 1, 'trend_psar_up': 0, 'trend_psar_down': 0, 'trend_psar_up_indicator': 0, 'trend_psar_down_indicator': 1, 'momentum_pvo': 1, 'momentum_pvo_hist': 0, 'others_dr': 0, 'others_cr': 1}. \n"
     ]
    },
    {
     "name": "stderr",
     "output_type": "stream",
     "text": [
      "[I 2024-06-07 11:06:04,283] Trial 34 finished with values: [0.29508921949894923, 3.2854337604045725] and parameters: {'volume_adi': 1, 'volume_obv': 0, 'volume_cmf': 1, 'volume_fi': 1, 'volume_em': 0, 'volume_sma_em': 1, 'volume_vpt': 1, 'volume_mfi': 1, 'volatility_bbw': 0, 'volatility_bbhi': 0, 'volatility_bbli': 1, 'volatility_kcw': 0, 'volatility_kcp': 1, 'volatility_kchi': 0, 'trend_macd': 1, 'trend_macd_diff': 1, 'trend_vortex_ind_neg': 1, 'trend_mass_index': 1, 'trend_dpo': 0, 'trend_adx': 0, 'trend_aroon_up': 1, 'trend_aroon_down': 0, 'trend_psar_up': 1, 'trend_psar_down': 1, 'trend_psar_up_indicator': 1, 'trend_psar_down_indicator': 1, 'momentum_pvo': 1, 'momentum_pvo_hist': 1, 'others_dr': 1, 'others_cr': 0}. \n"
     ]
    },
    {
     "name": "stdout",
     "output_type": "stream",
     "text": [
      "Trade times in sample: 106734 Trade times out sample: 106812\n",
      "Trial 34 finished with values: [0.29508921949894923, 3.2854337604045725] and parameters: {'volume_adi': 1, 'volume_obv': 0, 'volume_cmf': 1, 'volume_fi': 1, 'volume_em': 0, 'volume_sma_em': 1, 'volume_vpt': 1, 'volume_mfi': 1, 'volatility_bbw': 0, 'volatility_bbhi': 0, 'volatility_bbli': 1, 'volatility_kcw': 0, 'volatility_kcp': 1, 'volatility_kchi': 0, 'trend_macd': 1, 'trend_macd_diff': 1, 'trend_vortex_ind_neg': 1, 'trend_mass_index': 1, 'trend_dpo': 0, 'trend_adx': 0, 'trend_aroon_up': 1, 'trend_aroon_down': 0, 'trend_psar_up': 1, 'trend_psar_down': 1, 'trend_psar_up_indicator': 1, 'trend_psar_down_indicator': 1, 'momentum_pvo': 1, 'momentum_pvo_hist': 1, 'others_dr': 1, 'others_cr': 0}. \n"
     ]
    },
    {
     "name": "stderr",
     "output_type": "stream",
     "text": [
      "[I 2024-06-07 11:06:11,602] Trial 35 finished with values: [-0.02078016457297408, 45.38646231185775] and parameters: {'volume_adi': 0, 'volume_obv': 0, 'volume_cmf': 0, 'volume_fi': 0, 'volume_em': 1, 'volume_sma_em': 1, 'volume_vpt': 0, 'volume_mfi': 0, 'volatility_bbw': 0, 'volatility_bbhi': 1, 'volatility_bbli': 0, 'volatility_kcw': 0, 'volatility_kcp': 1, 'volatility_kchi': 0, 'trend_macd': 1, 'trend_macd_diff': 0, 'trend_vortex_ind_neg': 0, 'trend_mass_index': 1, 'trend_dpo': 1, 'trend_adx': 1, 'trend_aroon_up': 0, 'trend_aroon_down': 1, 'trend_psar_up': 1, 'trend_psar_down': 1, 'trend_psar_up_indicator': 0, 'trend_psar_down_indicator': 0, 'momentum_pvo': 0, 'momentum_pvo_hist': 0, 'others_dr': 0, 'others_cr': 0}. \n"
     ]
    },
    {
     "name": "stdout",
     "output_type": "stream",
     "text": [
      "Trade times in sample: 106972 Trade times out sample: 107632\n",
      "Trial 35 finished with values: [-0.02078016457297408, 45.38646231185775] and parameters: {'volume_adi': 0, 'volume_obv': 0, 'volume_cmf': 0, 'volume_fi': 0, 'volume_em': 1, 'volume_sma_em': 1, 'volume_vpt': 0, 'volume_mfi': 0, 'volatility_bbw': 0, 'volatility_bbhi': 1, 'volatility_bbli': 0, 'volatility_kcw': 0, 'volatility_kcp': 1, 'volatility_kchi': 0, 'trend_macd': 1, 'trend_macd_diff': 0, 'trend_vortex_ind_neg': 0, 'trend_mass_index': 1, 'trend_dpo': 1, 'trend_adx': 1, 'trend_aroon_up': 0, 'trend_aroon_down': 1, 'trend_psar_up': 1, 'trend_psar_down': 1, 'trend_psar_up_indicator': 0, 'trend_psar_down_indicator': 0, 'momentum_pvo': 0, 'momentum_pvo_hist': 0, 'others_dr': 0, 'others_cr': 0}. \n"
     ]
    },
    {
     "name": "stderr",
     "output_type": "stream",
     "text": [
      "[I 2024-06-07 11:06:18,215] Trial 36 finished with values: [0.09061094904074943, 7.545923967920334] and parameters: {'volume_adi': 0, 'volume_obv': 0, 'volume_cmf': 0, 'volume_fi': 0, 'volume_em': 1, 'volume_sma_em': 0, 'volume_vpt': 0, 'volume_mfi': 0, 'volatility_bbw': 1, 'volatility_bbhi': 1, 'volatility_bbli': 1, 'volatility_kcw': 0, 'volatility_kcp': 0, 'volatility_kchi': 1, 'trend_macd': 1, 'trend_macd_diff': 0, 'trend_vortex_ind_neg': 1, 'trend_mass_index': 0, 'trend_dpo': 0, 'trend_adx': 1, 'trend_aroon_up': 0, 'trend_aroon_down': 1, 'trend_psar_up': 0, 'trend_psar_down': 1, 'trend_psar_up_indicator': 0, 'trend_psar_down_indicator': 0, 'momentum_pvo': 1, 'momentum_pvo_hist': 0, 'others_dr': 0, 'others_cr': 1}. \n"
     ]
    },
    {
     "name": "stdout",
     "output_type": "stream",
     "text": [
      "Trade times in sample: 103560 Trade times out sample: 107146\n",
      "Trial 36 finished with values: [0.09061094904074943, 7.545923967920334] and parameters: {'volume_adi': 0, 'volume_obv': 0, 'volume_cmf': 0, 'volume_fi': 0, 'volume_em': 1, 'volume_sma_em': 0, 'volume_vpt': 0, 'volume_mfi': 0, 'volatility_bbw': 1, 'volatility_bbhi': 1, 'volatility_bbli': 1, 'volatility_kcw': 0, 'volatility_kcp': 0, 'volatility_kchi': 1, 'trend_macd': 1, 'trend_macd_diff': 0, 'trend_vortex_ind_neg': 1, 'trend_mass_index': 0, 'trend_dpo': 0, 'trend_adx': 1, 'trend_aroon_up': 0, 'trend_aroon_down': 1, 'trend_psar_up': 0, 'trend_psar_down': 1, 'trend_psar_up_indicator': 0, 'trend_psar_down_indicator': 0, 'momentum_pvo': 1, 'momentum_pvo_hist': 0, 'others_dr': 0, 'others_cr': 1}. \n"
     ]
    },
    {
     "name": "stderr",
     "output_type": "stream",
     "text": [
      "[I 2024-06-07 11:06:22,491] Trial 37 finished with values: [0.12055287891639345, 5.092567508257383] and parameters: {'volume_adi': 1, 'volume_obv': 1, 'volume_cmf': 0, 'volume_fi': 0, 'volume_em': 1, 'volume_sma_em': 0, 'volume_vpt': 0, 'volume_mfi': 0, 'volatility_bbw': 0, 'volatility_bbhi': 0, 'volatility_bbli': 0, 'volatility_kcw': 1, 'volatility_kcp': 0, 'volatility_kchi': 1, 'trend_macd': 0, 'trend_macd_diff': 1, 'trend_vortex_ind_neg': 1, 'trend_mass_index': 0, 'trend_dpo': 0, 'trend_adx': 0, 'trend_aroon_up': 0, 'trend_aroon_down': 1, 'trend_psar_up': 0, 'trend_psar_down': 0, 'trend_psar_up_indicator': 1, 'trend_psar_down_indicator': 0, 'momentum_pvo': 0, 'momentum_pvo_hist': 0, 'others_dr': 1, 'others_cr': 0}. \n"
     ]
    },
    {
     "name": "stdout",
     "output_type": "stream",
     "text": [
      "Trade times in sample: 106476 Trade times out sample: 107681\n",
      "Trial 37 finished with values: [0.12055287891639345, 5.092567508257383] and parameters: {'volume_adi': 1, 'volume_obv': 1, 'volume_cmf': 0, 'volume_fi': 0, 'volume_em': 1, 'volume_sma_em': 0, 'volume_vpt': 0, 'volume_mfi': 0, 'volatility_bbw': 0, 'volatility_bbhi': 0, 'volatility_bbli': 0, 'volatility_kcw': 1, 'volatility_kcp': 0, 'volatility_kchi': 1, 'trend_macd': 0, 'trend_macd_diff': 1, 'trend_vortex_ind_neg': 1, 'trend_mass_index': 0, 'trend_dpo': 0, 'trend_adx': 0, 'trend_aroon_up': 0, 'trend_aroon_down': 1, 'trend_psar_up': 0, 'trend_psar_down': 0, 'trend_psar_up_indicator': 1, 'trend_psar_down_indicator': 0, 'momentum_pvo': 0, 'momentum_pvo_hist': 0, 'others_dr': 1, 'others_cr': 0}. \n"
     ]
    },
    {
     "name": "stderr",
     "output_type": "stream",
     "text": [
      "[I 2024-06-07 11:06:27,945] Trial 38 finished with values: [0.21712321492207295, 4.2500890818124155] and parameters: {'volume_adi': 0, 'volume_obv': 1, 'volume_cmf': 1, 'volume_fi': 1, 'volume_em': 1, 'volume_sma_em': 0, 'volume_vpt': 1, 'volume_mfi': 0, 'volatility_bbw': 0, 'volatility_bbhi': 0, 'volatility_bbli': 1, 'volatility_kcw': 0, 'volatility_kcp': 0, 'volatility_kchi': 1, 'trend_macd': 0, 'trend_macd_diff': 1, 'trend_vortex_ind_neg': 0, 'trend_mass_index': 0, 'trend_dpo': 0, 'trend_adx': 0, 'trend_aroon_up': 1, 'trend_aroon_down': 1, 'trend_psar_up': 0, 'trend_psar_down': 0, 'trend_psar_up_indicator': 1, 'trend_psar_down_indicator': 0, 'momentum_pvo': 0, 'momentum_pvo_hist': 1, 'others_dr': 0, 'others_cr': 0}. \n"
     ]
    },
    {
     "name": "stdout",
     "output_type": "stream",
     "text": [
      "Trade times in sample: 106720 Trade times out sample: 107681\n",
      "Trial 38 finished with values: [0.21712321492207295, 4.2500890818124155] and parameters: {'volume_adi': 0, 'volume_obv': 1, 'volume_cmf': 1, 'volume_fi': 1, 'volume_em': 1, 'volume_sma_em': 0, 'volume_vpt': 1, 'volume_mfi': 0, 'volatility_bbw': 0, 'volatility_bbhi': 0, 'volatility_bbli': 1, 'volatility_kcw': 0, 'volatility_kcp': 0, 'volatility_kchi': 1, 'trend_macd': 0, 'trend_macd_diff': 1, 'trend_vortex_ind_neg': 0, 'trend_mass_index': 0, 'trend_dpo': 0, 'trend_adx': 0, 'trend_aroon_up': 1, 'trend_aroon_down': 1, 'trend_psar_up': 0, 'trend_psar_down': 0, 'trend_psar_up_indicator': 1, 'trend_psar_down_indicator': 0, 'momentum_pvo': 0, 'momentum_pvo_hist': 1, 'others_dr': 0, 'others_cr': 0}. \n"
     ]
    },
    {
     "name": "stderr",
     "output_type": "stream",
     "text": [
      "[I 2024-06-07 11:06:35,058] Trial 39 finished with values: [-0.050554975731128715, 18.35120782242781] and parameters: {'volume_adi': 1, 'volume_obv': 1, 'volume_cmf': 0, 'volume_fi': 0, 'volume_em': 0, 'volume_sma_em': 0, 'volume_vpt': 1, 'volume_mfi': 1, 'volatility_bbw': 0, 'volatility_bbhi': 0, 'volatility_bbli': 1, 'volatility_kcw': 1, 'volatility_kcp': 0, 'volatility_kchi': 0, 'trend_macd': 1, 'trend_macd_diff': 0, 'trend_vortex_ind_neg': 0, 'trend_mass_index': 0, 'trend_dpo': 1, 'trend_adx': 1, 'trend_aroon_up': 0, 'trend_aroon_down': 1, 'trend_psar_up': 0, 'trend_psar_down': 1, 'trend_psar_up_indicator': 0, 'trend_psar_down_indicator': 1, 'momentum_pvo': 0, 'momentum_pvo_hist': 1, 'others_dr': 1, 'others_cr': 1}. \n"
     ]
    },
    {
     "name": "stdout",
     "output_type": "stream",
     "text": [
      "Trade times in sample: 106963 Trade times out sample: 107642\n",
      "Trial 39 finished with values: [-0.050554975731128715, 18.35120782242781] and parameters: {'volume_adi': 1, 'volume_obv': 1, 'volume_cmf': 0, 'volume_fi': 0, 'volume_em': 0, 'volume_sma_em': 0, 'volume_vpt': 1, 'volume_mfi': 1, 'volatility_bbw': 0, 'volatility_bbhi': 0, 'volatility_bbli': 1, 'volatility_kcw': 1, 'volatility_kcp': 0, 'volatility_kchi': 0, 'trend_macd': 1, 'trend_macd_diff': 0, 'trend_vortex_ind_neg': 0, 'trend_mass_index': 0, 'trend_dpo': 1, 'trend_adx': 1, 'trend_aroon_up': 0, 'trend_aroon_down': 1, 'trend_psar_up': 0, 'trend_psar_down': 1, 'trend_psar_up_indicator': 0, 'trend_psar_down_indicator': 1, 'momentum_pvo': 0, 'momentum_pvo_hist': 1, 'others_dr': 1, 'others_cr': 1}. \n"
     ]
    },
    {
     "name": "stderr",
     "output_type": "stream",
     "text": [
      "[I 2024-06-07 11:06:42,409] Trial 40 finished with values: [-0.068127516931781, 14.8288689882324] and parameters: {'volume_adi': 0, 'volume_obv': 1, 'volume_cmf': 1, 'volume_fi': 1, 'volume_em': 0, 'volume_sma_em': 0, 'volume_vpt': 0, 'volume_mfi': 0, 'volatility_bbw': 1, 'volatility_bbhi': 0, 'volatility_bbli': 1, 'volatility_kcw': 0, 'volatility_kcp': 0, 'volatility_kchi': 0, 'trend_macd': 1, 'trend_macd_diff': 1, 'trend_vortex_ind_neg': 1, 'trend_mass_index': 0, 'trend_dpo': 1, 'trend_adx': 1, 'trend_aroon_up': 1, 'trend_aroon_down': 0, 'trend_psar_up': 1, 'trend_psar_down': 1, 'trend_psar_up_indicator': 1, 'trend_psar_down_indicator': 0, 'momentum_pvo': 0, 'momentum_pvo_hist': 0, 'others_dr': 0, 'others_cr': 1}. \n"
     ]
    },
    {
     "name": "stdout",
     "output_type": "stream",
     "text": [
      "Trade times in sample: 106965 Trade times out sample: 107661\n",
      "Trial 40 finished with values: [-0.068127516931781, 14.8288689882324] and parameters: {'volume_adi': 0, 'volume_obv': 1, 'volume_cmf': 1, 'volume_fi': 1, 'volume_em': 0, 'volume_sma_em': 0, 'volume_vpt': 0, 'volume_mfi': 0, 'volatility_bbw': 1, 'volatility_bbhi': 0, 'volatility_bbli': 1, 'volatility_kcw': 0, 'volatility_kcp': 0, 'volatility_kchi': 0, 'trend_macd': 1, 'trend_macd_diff': 1, 'trend_vortex_ind_neg': 1, 'trend_mass_index': 0, 'trend_dpo': 1, 'trend_adx': 1, 'trend_aroon_up': 1, 'trend_aroon_down': 0, 'trend_psar_up': 1, 'trend_psar_down': 1, 'trend_psar_up_indicator': 1, 'trend_psar_down_indicator': 0, 'momentum_pvo': 0, 'momentum_pvo_hist': 0, 'others_dr': 0, 'others_cr': 1}. \n"
     ]
    },
    {
     "name": "stderr",
     "output_type": "stream",
     "text": [
      "[I 2024-06-07 11:06:50,049] Trial 41 finished with values: [-0.08269896345620624, 12.405466328808053] and parameters: {'volume_adi': 1, 'volume_obv': 1, 'volume_cmf': 0, 'volume_fi': 1, 'volume_em': 0, 'volume_sma_em': 0, 'volume_vpt': 1, 'volume_mfi': 0, 'volatility_bbw': 1, 'volatility_bbhi': 0, 'volatility_bbli': 0, 'volatility_kcw': 0, 'volatility_kcp': 1, 'volatility_kchi': 1, 'trend_macd': 1, 'trend_macd_diff': 0, 'trend_vortex_ind_neg': 0, 'trend_mass_index': 1, 'trend_dpo': 1, 'trend_adx': 0, 'trend_aroon_up': 1, 'trend_aroon_down': 1, 'trend_psar_up': 1, 'trend_psar_down': 1, 'trend_psar_up_indicator': 0, 'trend_psar_down_indicator': 1, 'momentum_pvo': 0, 'momentum_pvo_hist': 1, 'others_dr': 0, 'others_cr': 1}. \n"
     ]
    },
    {
     "name": "stdout",
     "output_type": "stream",
     "text": [
      "Trade times in sample: 106965 Trade times out sample: 107661\n",
      "Trial 41 finished with values: [-0.08269896345620624, 12.405466328808053] and parameters: {'volume_adi': 1, 'volume_obv': 1, 'volume_cmf': 0, 'volume_fi': 1, 'volume_em': 0, 'volume_sma_em': 0, 'volume_vpt': 1, 'volume_mfi': 0, 'volatility_bbw': 1, 'volatility_bbhi': 0, 'volatility_bbli': 0, 'volatility_kcw': 0, 'volatility_kcp': 1, 'volatility_kchi': 1, 'trend_macd': 1, 'trend_macd_diff': 0, 'trend_vortex_ind_neg': 0, 'trend_mass_index': 1, 'trend_dpo': 1, 'trend_adx': 0, 'trend_aroon_up': 1, 'trend_aroon_down': 1, 'trend_psar_up': 1, 'trend_psar_down': 1, 'trend_psar_up_indicator': 0, 'trend_psar_down_indicator': 1, 'momentum_pvo': 0, 'momentum_pvo_hist': 1, 'others_dr': 0, 'others_cr': 1}. \n"
     ]
    },
    {
     "name": "stderr",
     "output_type": "stream",
     "text": [
      "[I 2024-06-07 11:06:57,710] Trial 42 finished with values: [-0.39789793835091775, 1.7623886793206127] and parameters: {'volume_adi': 0, 'volume_obv': 1, 'volume_cmf': 1, 'volume_fi': 0, 'volume_em': 0, 'volume_sma_em': 0, 'volume_vpt': 1, 'volume_mfi': 0, 'volatility_bbw': 1, 'volatility_bbhi': 0, 'volatility_bbli': 1, 'volatility_kcw': 1, 'volatility_kcp': 1, 'volatility_kchi': 1, 'trend_macd': 1, 'trend_macd_diff': 0, 'trend_vortex_ind_neg': 1, 'trend_mass_index': 1, 'trend_dpo': 1, 'trend_adx': 0, 'trend_aroon_up': 0, 'trend_aroon_down': 0, 'trend_psar_up': 1, 'trend_psar_down': 0, 'trend_psar_up_indicator': 1, 'trend_psar_down_indicator': 0, 'momentum_pvo': 0, 'momentum_pvo_hist': 1, 'others_dr': 0, 'others_cr': 0}. \n"
     ]
    },
    {
     "name": "stdout",
     "output_type": "stream",
     "text": [
      "Trade times in sample: 102657 Trade times out sample: 107658\n",
      "Trial 42 finished with values: [-0.39789793835091775, 1.7623886793206127] and parameters: {'volume_adi': 0, 'volume_obv': 1, 'volume_cmf': 1, 'volume_fi': 0, 'volume_em': 0, 'volume_sma_em': 0, 'volume_vpt': 1, 'volume_mfi': 0, 'volatility_bbw': 1, 'volatility_bbhi': 0, 'volatility_bbli': 1, 'volatility_kcw': 1, 'volatility_kcp': 1, 'volatility_kchi': 1, 'trend_macd': 1, 'trend_macd_diff': 0, 'trend_vortex_ind_neg': 1, 'trend_mass_index': 1, 'trend_dpo': 1, 'trend_adx': 0, 'trend_aroon_up': 0, 'trend_aroon_down': 0, 'trend_psar_up': 1, 'trend_psar_down': 0, 'trend_psar_up_indicator': 1, 'trend_psar_down_indicator': 0, 'momentum_pvo': 0, 'momentum_pvo_hist': 1, 'others_dr': 0, 'others_cr': 0}. \n"
     ]
    },
    {
     "name": "stderr",
     "output_type": "stream",
     "text": [
      "[I 2024-06-07 11:07:05,301] Trial 43 finished with values: [-0.4350290505711421, 0.6603067460597716] and parameters: {'volume_adi': 1, 'volume_obv': 1, 'volume_cmf': 0, 'volume_fi': 0, 'volume_em': 0, 'volume_sma_em': 0, 'volume_vpt': 1, 'volume_mfi': 0, 'volatility_bbw': 0, 'volatility_bbhi': 1, 'volatility_bbli': 1, 'volatility_kcw': 0, 'volatility_kcp': 0, 'volatility_kchi': 0, 'trend_macd': 0, 'trend_macd_diff': 1, 'trend_vortex_ind_neg': 1, 'trend_mass_index': 1, 'trend_dpo': 0, 'trend_adx': 1, 'trend_aroon_up': 0, 'trend_aroon_down': 0, 'trend_psar_up': 0, 'trend_psar_down': 1, 'trend_psar_up_indicator': 0, 'trend_psar_down_indicator': 0, 'momentum_pvo': 0, 'momentum_pvo_hist': 0, 'others_dr': 0, 'others_cr': 1}. \n"
     ]
    },
    {
     "name": "stdout",
     "output_type": "stream",
     "text": [
      "Trade times in sample: 106965 Trade times out sample: 107658\n",
      "Trial 43 finished with values: [-0.4350290505711421, 0.6603067460597716] and parameters: {'volume_adi': 1, 'volume_obv': 1, 'volume_cmf': 0, 'volume_fi': 0, 'volume_em': 0, 'volume_sma_em': 0, 'volume_vpt': 1, 'volume_mfi': 0, 'volatility_bbw': 0, 'volatility_bbhi': 1, 'volatility_bbli': 1, 'volatility_kcw': 0, 'volatility_kcp': 0, 'volatility_kchi': 0, 'trend_macd': 0, 'trend_macd_diff': 1, 'trend_vortex_ind_neg': 1, 'trend_mass_index': 1, 'trend_dpo': 0, 'trend_adx': 1, 'trend_aroon_up': 0, 'trend_aroon_down': 0, 'trend_psar_up': 0, 'trend_psar_down': 1, 'trend_psar_up_indicator': 0, 'trend_psar_down_indicator': 0, 'momentum_pvo': 0, 'momentum_pvo_hist': 0, 'others_dr': 0, 'others_cr': 1}. \n"
     ]
    },
    {
     "name": "stderr",
     "output_type": "stream",
     "text": [
      "[I 2024-06-07 11:07:13,673] Trial 44 finished with values: [0.4439350503871465, 1.454236723281268] and parameters: {'volume_adi': 1, 'volume_obv': 0, 'volume_cmf': 1, 'volume_fi': 1, 'volume_em': 1, 'volume_sma_em': 0, 'volume_vpt': 0, 'volume_mfi': 1, 'volatility_bbw': 0, 'volatility_bbhi': 1, 'volatility_bbli': 0, 'volatility_kcw': 1, 'volatility_kcp': 1, 'volatility_kchi': 0, 'trend_macd': 1, 'trend_macd_diff': 0, 'trend_vortex_ind_neg': 0, 'trend_mass_index': 1, 'trend_dpo': 1, 'trend_adx': 1, 'trend_aroon_up': 0, 'trend_aroon_down': 0, 'trend_psar_up': 0, 'trend_psar_down': 0, 'trend_psar_up_indicator': 0, 'trend_psar_down_indicator': 1, 'momentum_pvo': 1, 'momentum_pvo_hist': 0, 'others_dr': 0, 'others_cr': 0}. \n"
     ]
    },
    {
     "name": "stdout",
     "output_type": "stream",
     "text": [
      "Trade times in sample: 106720 Trade times out sample: 107288\n",
      "Trial 44 finished with values: [0.4439350503871465, 1.454236723281268] and parameters: {'volume_adi': 1, 'volume_obv': 0, 'volume_cmf': 1, 'volume_fi': 1, 'volume_em': 1, 'volume_sma_em': 0, 'volume_vpt': 0, 'volume_mfi': 1, 'volatility_bbw': 0, 'volatility_bbhi': 1, 'volatility_bbli': 0, 'volatility_kcw': 1, 'volatility_kcp': 1, 'volatility_kchi': 0, 'trend_macd': 1, 'trend_macd_diff': 0, 'trend_vortex_ind_neg': 0, 'trend_mass_index': 1, 'trend_dpo': 1, 'trend_adx': 1, 'trend_aroon_up': 0, 'trend_aroon_down': 0, 'trend_psar_up': 0, 'trend_psar_down': 0, 'trend_psar_up_indicator': 0, 'trend_psar_down_indicator': 1, 'momentum_pvo': 1, 'momentum_pvo_hist': 0, 'others_dr': 0, 'others_cr': 0}. \n"
     ]
    },
    {
     "name": "stderr",
     "output_type": "stream",
     "text": [
      "[I 2024-06-07 11:07:21,388] Trial 45 finished with values: [0.3089198951293778, 2.163799772004071] and parameters: {'volume_adi': 1, 'volume_obv': 0, 'volume_cmf': 0, 'volume_fi': 0, 'volume_em': 0, 'volume_sma_em': 1, 'volume_vpt': 1, 'volume_mfi': 1, 'volatility_bbw': 1, 'volatility_bbhi': 0, 'volatility_bbli': 1, 'volatility_kcw': 1, 'volatility_kcp': 0, 'volatility_kchi': 0, 'trend_macd': 0, 'trend_macd_diff': 1, 'trend_vortex_ind_neg': 0, 'trend_mass_index': 0, 'trend_dpo': 1, 'trend_adx': 1, 'trend_aroon_up': 0, 'trend_aroon_down': 1, 'trend_psar_up': 1, 'trend_psar_down': 0, 'trend_psar_up_indicator': 0, 'trend_psar_down_indicator': 1, 'momentum_pvo': 0, 'momentum_pvo_hist': 1, 'others_dr': 0, 'others_cr': 1}. \n"
     ]
    },
    {
     "name": "stdout",
     "output_type": "stream",
     "text": [
      "Trade times in sample: 97446 Trade times out sample: 107621\n",
      "Trial 45 finished with values: [0.3089198951293778, 2.163799772004071] and parameters: {'volume_adi': 1, 'volume_obv': 0, 'volume_cmf': 0, 'volume_fi': 0, 'volume_em': 0, 'volume_sma_em': 1, 'volume_vpt': 1, 'volume_mfi': 1, 'volatility_bbw': 1, 'volatility_bbhi': 0, 'volatility_bbli': 1, 'volatility_kcw': 1, 'volatility_kcp': 0, 'volatility_kchi': 0, 'trend_macd': 0, 'trend_macd_diff': 1, 'trend_vortex_ind_neg': 0, 'trend_mass_index': 0, 'trend_dpo': 1, 'trend_adx': 1, 'trend_aroon_up': 0, 'trend_aroon_down': 1, 'trend_psar_up': 1, 'trend_psar_down': 0, 'trend_psar_up_indicator': 0, 'trend_psar_down_indicator': 1, 'momentum_pvo': 0, 'momentum_pvo_hist': 1, 'others_dr': 0, 'others_cr': 1}. \n"
     ]
    },
    {
     "name": "stderr",
     "output_type": "stream",
     "text": [
      "[I 2024-06-07 11:07:28,409] Trial 46 finished with values: [0.24868688506012035, 2.9487597620044985] and parameters: {'volume_adi': 0, 'volume_obv': 1, 'volume_cmf': 0, 'volume_fi': 1, 'volume_em': 0, 'volume_sma_em': 0, 'volume_vpt': 1, 'volume_mfi': 0, 'volatility_bbw': 1, 'volatility_bbhi': 0, 'volatility_bbli': 1, 'volatility_kcw': 1, 'volatility_kcp': 1, 'volatility_kchi': 1, 'trend_macd': 0, 'trend_macd_diff': 1, 'trend_vortex_ind_neg': 0, 'trend_mass_index': 1, 'trend_dpo': 0, 'trend_adx': 1, 'trend_aroon_up': 0, 'trend_aroon_down': 1, 'trend_psar_up': 1, 'trend_psar_down': 1, 'trend_psar_up_indicator': 0, 'trend_psar_down_indicator': 1, 'momentum_pvo': 1, 'momentum_pvo_hist': 0, 'others_dr': 0, 'others_cr': 0}. \n"
     ]
    },
    {
     "name": "stdout",
     "output_type": "stream",
     "text": [
      "Trade times in sample: 106965 Trade times out sample: 107621\n",
      "Trial 46 finished with values: [0.24868688506012035, 2.9487597620044985] and parameters: {'volume_adi': 0, 'volume_obv': 1, 'volume_cmf': 0, 'volume_fi': 1, 'volume_em': 0, 'volume_sma_em': 0, 'volume_vpt': 1, 'volume_mfi': 0, 'volatility_bbw': 1, 'volatility_bbhi': 0, 'volatility_bbli': 1, 'volatility_kcw': 1, 'volatility_kcp': 1, 'volatility_kchi': 1, 'trend_macd': 0, 'trend_macd_diff': 1, 'trend_vortex_ind_neg': 0, 'trend_mass_index': 1, 'trend_dpo': 0, 'trend_adx': 1, 'trend_aroon_up': 0, 'trend_aroon_down': 1, 'trend_psar_up': 1, 'trend_psar_down': 1, 'trend_psar_up_indicator': 0, 'trend_psar_down_indicator': 1, 'momentum_pvo': 1, 'momentum_pvo_hist': 0, 'others_dr': 0, 'others_cr': 0}. \n"
     ]
    },
    {
     "name": "stderr",
     "output_type": "stream",
     "text": [
      "[I 2024-06-07 11:07:36,239] Trial 47 finished with values: [0.3500887595346208, 2.12393344895] and parameters: {'volume_adi': 0, 'volume_obv': 0, 'volume_cmf': 0, 'volume_fi': 0, 'volume_em': 0, 'volume_sma_em': 0, 'volume_vpt': 0, 'volume_mfi': 1, 'volatility_bbw': 0, 'volatility_bbhi': 1, 'volatility_bbli': 0, 'volatility_kcw': 1, 'volatility_kcp': 0, 'volatility_kchi': 0, 'trend_macd': 0, 'trend_macd_diff': 0, 'trend_vortex_ind_neg': 1, 'trend_mass_index': 0, 'trend_dpo': 0, 'trend_adx': 1, 'trend_aroon_up': 1, 'trend_aroon_down': 0, 'trend_psar_up': 1, 'trend_psar_down': 1, 'trend_psar_up_indicator': 1, 'trend_psar_down_indicator': 0, 'momentum_pvo': 1, 'momentum_pvo_hist': 1, 'others_dr': 1, 'others_cr': 0}. \n"
     ]
    },
    {
     "name": "stdout",
     "output_type": "stream",
     "text": [
      "Trade times in sample: 106841 Trade times out sample: 107631\n",
      "Trial 47 finished with values: [0.3500887595346208, 2.12393344895] and parameters: {'volume_adi': 0, 'volume_obv': 0, 'volume_cmf': 0, 'volume_fi': 0, 'volume_em': 0, 'volume_sma_em': 0, 'volume_vpt': 0, 'volume_mfi': 1, 'volatility_bbw': 0, 'volatility_bbhi': 1, 'volatility_bbli': 0, 'volatility_kcw': 1, 'volatility_kcp': 0, 'volatility_kchi': 0, 'trend_macd': 0, 'trend_macd_diff': 0, 'trend_vortex_ind_neg': 1, 'trend_mass_index': 0, 'trend_dpo': 0, 'trend_adx': 1, 'trend_aroon_up': 1, 'trend_aroon_down': 0, 'trend_psar_up': 1, 'trend_psar_down': 1, 'trend_psar_up_indicator': 1, 'trend_psar_down_indicator': 0, 'momentum_pvo': 1, 'momentum_pvo_hist': 1, 'others_dr': 1, 'others_cr': 0}. \n"
     ]
    },
    {
     "name": "stderr",
     "output_type": "stream",
     "text": [
      "[I 2024-06-07 11:07:44,328] Trial 48 finished with values: [0.3240547172210593, 1.9155351314373474] and parameters: {'volume_adi': 0, 'volume_obv': 1, 'volume_cmf': 1, 'volume_fi': 0, 'volume_em': 1, 'volume_sma_em': 0, 'volume_vpt': 1, 'volume_mfi': 0, 'volatility_bbw': 1, 'volatility_bbhi': 1, 'volatility_bbli': 1, 'volatility_kcw': 1, 'volatility_kcp': 1, 'volatility_kchi': 1, 'trend_macd': 0, 'trend_macd_diff': 0, 'trend_vortex_ind_neg': 0, 'trend_mass_index': 0, 'trend_dpo': 1, 'trend_adx': 1, 'trend_aroon_up': 1, 'trend_aroon_down': 0, 'trend_psar_up': 0, 'trend_psar_down': 0, 'trend_psar_up_indicator': 0, 'trend_psar_down_indicator': 0, 'momentum_pvo': 1, 'momentum_pvo_hist': 1, 'others_dr': 0, 'others_cr': 0}. \n"
     ]
    },
    {
     "name": "stdout",
     "output_type": "stream",
     "text": [
      "Trade times in sample: 106964 Trade times out sample: 107659\n",
      "Trial 48 finished with values: [0.3240547172210593, 1.9155351314373474] and parameters: {'volume_adi': 0, 'volume_obv': 1, 'volume_cmf': 1, 'volume_fi': 0, 'volume_em': 1, 'volume_sma_em': 0, 'volume_vpt': 1, 'volume_mfi': 0, 'volatility_bbw': 1, 'volatility_bbhi': 1, 'volatility_bbli': 1, 'volatility_kcw': 1, 'volatility_kcp': 1, 'volatility_kchi': 1, 'trend_macd': 0, 'trend_macd_diff': 0, 'trend_vortex_ind_neg': 0, 'trend_mass_index': 0, 'trend_dpo': 1, 'trend_adx': 1, 'trend_aroon_up': 1, 'trend_aroon_down': 0, 'trend_psar_up': 0, 'trend_psar_down': 0, 'trend_psar_up_indicator': 0, 'trend_psar_down_indicator': 0, 'momentum_pvo': 1, 'momentum_pvo_hist': 1, 'others_dr': 0, 'others_cr': 0}. \n"
     ]
    },
    {
     "name": "stderr",
     "output_type": "stream",
     "text": [
      "[I 2024-06-07 11:07:51,639] Trial 49 finished with values: [-0.1915908972920203, 3.973130662610255] and parameters: {'volume_adi': 0, 'volume_obv': 1, 'volume_cmf': 1, 'volume_fi': 1, 'volume_em': 0, 'volume_sma_em': 0, 'volume_vpt': 1, 'volume_mfi': 0, 'volatility_bbw': 1, 'volatility_bbhi': 0, 'volatility_bbli': 0, 'volatility_kcw': 1, 'volatility_kcp': 0, 'volatility_kchi': 1, 'trend_macd': 1, 'trend_macd_diff': 0, 'trend_vortex_ind_neg': 1, 'trend_mass_index': 0, 'trend_dpo': 0, 'trend_adx': 0, 'trend_aroon_up': 0, 'trend_aroon_down': 1, 'trend_psar_up': 1, 'trend_psar_down': 1, 'trend_psar_up_indicator': 0, 'trend_psar_down_indicator': 1, 'momentum_pvo': 0, 'momentum_pvo_hist': 1, 'others_dr': 0, 'others_cr': 0}. \n"
     ]
    },
    {
     "name": "stdout",
     "output_type": "stream",
     "text": [
      "Trade times in sample: 101331 Trade times out sample: 107642\n",
      "Trial 49 finished with values: [-0.1915908972920203, 3.973130662610255] and parameters: {'volume_adi': 0, 'volume_obv': 1, 'volume_cmf': 1, 'volume_fi': 1, 'volume_em': 0, 'volume_sma_em': 0, 'volume_vpt': 1, 'volume_mfi': 0, 'volatility_bbw': 1, 'volatility_bbhi': 0, 'volatility_bbli': 0, 'volatility_kcw': 1, 'volatility_kcp': 0, 'volatility_kchi': 1, 'trend_macd': 1, 'trend_macd_diff': 0, 'trend_vortex_ind_neg': 1, 'trend_mass_index': 0, 'trend_dpo': 0, 'trend_adx': 0, 'trend_aroon_up': 0, 'trend_aroon_down': 1, 'trend_psar_up': 1, 'trend_psar_down': 1, 'trend_psar_up_indicator': 0, 'trend_psar_down_indicator': 1, 'momentum_pvo': 0, 'momentum_pvo_hist': 1, 'others_dr': 0, 'others_cr': 0}. \n"
     ]
    }
   ],
   "source": [
    "\"\"\"## Define number of trials (no 2)\"\"\"\n",
    "\n",
    "# Create a study object and optimize the objective function\n",
    "study = optuna.create_study(directions=['maximize', 'minimize'])\n",
    "unique_trials = 50\n",
    "\n",
    "while unique_trials > len(set(str(t.params) for t in study.trials)):\n",
    "    study.optimize(lambda trial: objective(trial, X_train, X_valid, y_train, y_valid, train_data['Close']), n_trials=1)\n",
    "    study.trials_dataframe().sort_values('values_0').to_csv('feature_trials.csv')\n",
    "    joblib.dump(study, 'abmodel.pkl')\n",
    "    \n",
    "trials = study.trials\n",
    "trials.sort(key=lambda trial: trial.values, reverse=True)\n",
    "study.trials_dataframe().sort_values('values_0', ascending=False).duplicated().sum()\n",
    "\n",
    "\"\"\"## Checking part for fixing bug\"\"\"\n",
    "df =study.trials_dataframe()\n",
    "\n",
    "# df.to_csv('save_trials.csv')"
   ]
  },
  {
   "cell_type": "markdown",
   "metadata": {},
   "source": [
    "Retrieve Top PNL"
   ]
  },
  {
   "cell_type": "code",
   "execution_count": 27,
   "metadata": {},
   "outputs": [],
   "source": [
    "trials = study.trials\n",
    "\n",
    "# Sort trials based on objective values\n",
    "trials.sort(key=lambda trial: trial.values, reverse=True)\n",
    "\n",
    "# Define top pnl to take for clustering\n",
    "top_trials = trials[:100]\n",
    "\n",
    "new_df_no_close_col = data.drop(['Date','time', 'Open','High','Low','Close','Volume', 'Return' ], axis=1)\n",
    "\n",
    "# Extract hyperparameters from top trials\n",
    "top_features_list = []\n",
    "\n",
    "for trial in top_trials:\n",
    "  best_selected_features = [col for col in new_df_no_close_col.columns if trial.params[col] == 1]\n",
    "  top_features_list.append(best_selected_features)"
   ]
  },
  {
   "cell_type": "code",
   "execution_count": 28,
   "metadata": {},
   "outputs": [],
   "source": [
    "top_pnl = []\n",
    "trade_threshold  = 0.0005\n",
    "\n",
    "for best_selected_features in top_features_list:\n",
    "\n",
    "    new_df_selected = data[['Close', 'Return']+best_selected_features]\n",
    "    train_select_col_data, _ = split_data(new_df_selected)\n",
    "\n",
    "    retrain_data = train_select_col_data.drop(['Close', 'Return'], axis=1)\n",
    "    retrain_data = scale_data(retrain_data)\n",
    "\n",
    "    X_train, X_valid, y_train, y_valid = train_test_split(retrain_data,\n",
    "                                                      train_select_col_data['Return'],\n",
    "                                                      test_size=0.5,shuffle=False)\n",
    "\n",
    "    # Create and train model\n",
    "    model = xgb.XGBRegressor()\n",
    "    model.fit(X_train, y_train)\n",
    "\n",
    "    # Make predictions\n",
    "    y_pred_valid = model.predict(X_valid)\n",
    "    _, pnl_valid, _, _ = sharpe_for_vn30f(y_pred_valid, y_valid, trade_threshold=trade_threshold, fee_perc=0.01, periods=10)\n",
    "    pnl_valid_no_nan = np.nan_to_num(pnl_valid, nan=0)\n",
    "    top_pnl.append(pnl_valid_no_nan)"
   ]
  },
  {
   "cell_type": "markdown",
   "metadata": {},
   "source": [
    "# ONC"
   ]
  },
  {
   "cell_type": "code",
   "execution_count": 29,
   "metadata": {},
   "outputs": [],
   "source": [
    "from sklearn.cluster import KMeans\n",
    "from sklearn.metrics import silhouette_samples, silhouette_score"
   ]
  },
  {
   "cell_type": "code",
   "execution_count": 30,
   "metadata": {},
   "outputs": [],
   "source": [
    "def cov2corr(cov):\n",
    "    # Derive the correlation matrix from a covariance matrix\n",
    "    std = np.sqrt(np.diag(cov))\n",
    "    corr = cov/np.outer(std,std)\n",
    "    corr[corr<-1], corr[corr>1] = -1,1 #for numerical errors\n",
    "    return corr\n",
    "\n",
    "def clusterKMeansBase(corr0, maxNumClusters=10, n_init=10, debug=False):\n",
    "    corr0[corr0 > 1] = 1\n",
    "    dist_matrix = ((1-corr0)/2.)**.5\n",
    "    silh_coef_optimal = pd.Series(dtype='float64') #observations matrixs\n",
    "    kmeans, stat = None, None\n",
    "    maxNumClusters = min(maxNumClusters, int(np.floor(dist_matrix.shape[0]/2)))\n",
    "    print(\"maxNumClusters\"+str(maxNumClusters))\n",
    "    for init in range(0, n_init):\n",
    "    #The [outer] loop repeats the first loop multiple times, thereby obtaining different initializations. Ref: de Prado and Lewis (2018)\n",
    "    #DETECTION OF FALSE INVESTMENT STRATEGIES USING UNSUPERVISED LEARNING METHODS\n",
    "        for num_clusters in range(2, maxNumClusters+1):\n",
    "            #(maxNumClusters + 2 - num_clusters) # go in reverse order to view more sub-optimal solutions\n",
    "            kmeans_ = KMeans(n_clusters=num_clusters, n_init=10) #, random_state=3425) #n_jobs=None #n_jobs=None - use all CPUs\n",
    "            kmeans_ = kmeans_.fit(dist_matrix)\n",
    "            silh_coef = silhouette_samples(dist_matrix, kmeans_.labels_)\n",
    "            stat = (silh_coef.mean()/silh_coef.std(), silh_coef_optimal.mean()/silh_coef_optimal.std())\n",
    "\n",
    "            # If this metric better than the previous set as the optimal number of clusters\n",
    "            if np.isnan(stat[1]) or stat[0] > stat[1]:\n",
    "                silh_coef_optimal = silh_coef\n",
    "                kmeans = kmeans_\n",
    "                if debug==True:\n",
    "                    print(kmeans)\n",
    "                    print(stat)\n",
    "                    silhouette_avg = silhouette_score(dist_matrix, kmeans_.labels_)\n",
    "                    print(\"For n_clusters =\"+ str(num_clusters)+ \"The average silhouette_score is :\"+ str(silhouette_avg))\n",
    "                    print(\"********\")\n",
    "\n",
    "    newIdx = np.argsort(kmeans.labels_)\n",
    "    #print(newIdx)\n",
    "\n",
    "    corr1 = corr0.iloc[newIdx] #reorder rows\n",
    "    corr1 = corr1.iloc[:, newIdx] #reorder columns\n",
    "\n",
    "    clstrs = {i:corr0.columns[np.where(kmeans.labels_==i)[0]].tolist() for i in np.unique(kmeans.labels_)} #cluster members\n",
    "    silh_coef_optimal = pd.Series(silh_coef_optimal, index=dist_matrix.index)\n",
    "\n",
    "    return corr1, clstrs, silh_coef_optimal\n",
    "\n",
    "def makeNewOutputs(corr0, clstrs, clstrs2):\n",
    "    clstrsNew, newIdx = {}, []\n",
    "    for i in clstrs.keys():\n",
    "        clstrsNew[len(clstrsNew.keys())] = list(clstrs[i])\n",
    "\n",
    "    for i in clstrs2.keys():\n",
    "        clstrsNew[len(clstrsNew.keys())] = list(clstrs2[i])\n",
    "\n",
    "    newIdx = [j for i in clstrsNew for j in clstrsNew[i]]\n",
    "    corrNew = corr0.loc[newIdx, newIdx]\n",
    "\n",
    "    dist = ((1 - corr0) / 2.)**.5\n",
    "    kmeans_labels = np.zeros(len(dist.columns))\n",
    "    for i in clstrsNew.keys():\n",
    "        idxs = [dist.index.get_loc(k) for k in clstrsNew[i]]\n",
    "        kmeans_labels[idxs] = i\n",
    "\n",
    "    silhNew = pd.Series(silhouette_samples(dist, kmeans_labels), index=dist.index)\n",
    "\n",
    "    return corrNew, clstrsNew, silhNew\n",
    "\n",
    "def clusterKMeansTop(corr0: pd.DataFrame, maxNumClusters=None, n_init=10):\n",
    "    if maxNumClusters == None:\n",
    "        maxNumClusters = corr0.shape[1]-1\n",
    "\n",
    "    corr1, clstrs, silh = clusterKMeansBase(corr0, maxNumClusters=min(maxNumClusters, corr0.shape[1]-1), n_init=10)#n_init)\n",
    "    print(\"clstrs length:\"+str(len(clstrs.keys())))\n",
    "    print(\"best clustr:\"+str(len(clstrs.keys())))\n",
    "    #for i in clstrs.keys():\n",
    "    #    print(\"std:\"+str(np.std(silh[clstrs[i]])))\n",
    "\n",
    "    clusterTstats = {i:np.mean(silh[clstrs[i]])/np.std(silh[clstrs[i]]) for i in clstrs.keys()}\n",
    "    tStatMean = np.sum(list(clusterTstats.values()))/len(clusterTstats)\n",
    "    redoClusters = [i for i in clusterTstats.keys() if clusterTstats[i] < tStatMean]\n",
    "    #print(\"redo cluster:\"+str(redoClusters))\n",
    "    if len(redoClusters) <= 2:\n",
    "        print(\"If 2 or less clusters have a quality rating less than the average then stop.\")\n",
    "        print(\"redoCluster <=1:\"+str(redoClusters)+\" clstrs len:\"+str(len(clstrs.keys())))\n",
    "        return corr1, clstrs, silh\n",
    "    else:\n",
    "        keysRedo = [j for i in redoClusters for j in clstrs[i]]\n",
    "        corrTmp = corr0.loc[keysRedo, keysRedo]\n",
    "        _, clstrs2, _ = clusterKMeansTop(corrTmp, maxNumClusters=min(maxNumClusters, corrTmp.shape[1]-1), n_init=n_init)\n",
    "        print(\"clstrs2.len, stat:\"+str(len(clstrs2.keys())))\n",
    "        #Make new outputs, if necessary\n",
    "        dict_redo_clstrs = {i:clstrs[i] for i in clstrs.keys() if i not in redoClusters}\n",
    "        corrNew, clstrsNew, silhNew = makeNewOutputs(corr0, dict_redo_clstrs, clstrs2)\n",
    "        newTstatMean = np.mean([np.mean(silhNew[clstrsNew[i]])/np.std(silhNew[clstrsNew[i]]) for i in clstrsNew.keys()])\n",
    "        if newTstatMean <= tStatMean:\n",
    "            print(\"newTstatMean <= tStatMean\"+str(newTstatMean)+ \" (len:newClst)\"+str(len(clstrsNew.keys()))+\" <= \"+str(tStatMean)+ \" (len:Clst)\"+str(len(clstrs.keys())))\n",
    "            return corr1, clstrs, silh\n",
    "        else:\n",
    "            print(\"newTstatMean > tStatMean\"+str(newTstatMean)+ \" (len:newClst)\"+str(len(clstrsNew.keys()))\n",
    "                  +\" > \"+str(tStatMean)+ \" (len:Clst)\"+str(len(clstrs.keys())))\n",
    "            return corrNew, clstrsNew, silhNew\n",
    "            #return corr1, clstrs, silh, stat"
   ]
  },
  {
   "cell_type": "code",
   "execution_count": 31,
   "metadata": {},
   "outputs": [],
   "source": [
    "# FREQUENCY FEATURE TABLE\n",
    "correlation_matrix = np.corrcoef(top_pnl)\n",
    "corr = pd.DataFrame(correlation_matrix)"
   ]
  },
  {
   "cell_type": "code",
   "execution_count": 32,
   "metadata": {},
   "outputs": [
    {
     "data": {
      "image/png": "[encoded data removed]",
      "text/plain": [
       "<Figure size 480x480 with 2 Axes>"
      ]
     },
     "metadata": {},
     "output_type": "display_data"
    },
    {
     "name": "stdout",
     "output_type": "stream",
     "text": [
      "maxNumClusters25\n",
      "clstrs length:2\n",
      "best clustr:2\n",
      "If 2 or less clusters have a quality rating less than the average then stop.\n",
      "redoCluster <=1:[0] clstrs len:2\n"
     ]
    },
    {
     "data": {
      "image/png": "[encoded data removed]",
      "text/plain": [
       "<Figure size 480x480 with 2 Axes>"
      ]
     },
     "metadata": {},
     "output_type": "display_data"
    }
   ],
   "source": [
    "#Draw ground truth\n",
    "matplotlib.pyplot.matshow(corr) #invert y-axis to get origo at lower left corner\n",
    "matplotlib.pyplot.gca().xaxis.tick_bottom()\n",
    "matplotlib.pyplot.gca().invert_yaxis()\n",
    "matplotlib.pyplot.colorbar()\n",
    "matplotlib.pyplot.show()\n",
    "\n",
    "#draw prediction based on ONC\n",
    "corrNew, clstrsNew, silhNew = clusterKMeansTop(corr)\n",
    "matplotlib.pyplot.matshow(corrNew)\n",
    "matplotlib.pyplot.gca().xaxis.tick_bottom()\n",
    "matplotlib.pyplot.gca().invert_yaxis()\n",
    "matplotlib.pyplot.colorbar()\n",
    "matplotlib.pyplot.show()"
   ]
  },
  {
   "cell_type": "code",
   "execution_count": 33,
   "metadata": {},
   "outputs": [
    {
     "name": "stdout",
     "output_type": "stream",
     "text": [
      "Cluster 0:\n",
      "- Trial 12: {'volume_adi': 1, 'volume_obv': 0, 'volume_cmf': 1, 'volume_fi': 1, 'volume_em': 1, 'volume_sma_em': 0, 'volume_vpt': 1, 'volume_mfi': 0, 'volatility_bbw': 1, 'volatility_bbhi': 0, 'volatility_bbli': 1, 'volatility_kcw': 0, 'volatility_kcp': 1, 'volatility_kchi': 1, 'trend_macd': 0, 'trend_macd_diff': 1, 'trend_vortex_ind_neg': 0, 'trend_mass_index': 0, 'trend_dpo': 1, 'trend_adx': 1, 'trend_aroon_up': 1, 'trend_aroon_down': 0, 'trend_psar_up': 1, 'trend_psar_down': 0, 'trend_psar_up_indicator': 1, 'trend_psar_down_indicator': 1, 'momentum_pvo': 0, 'momentum_pvo_hist': 1, 'others_dr': 0, 'others_cr': 0}\n",
      "- Trial 44: {'volume_adi': 1, 'volume_obv': 0, 'volume_cmf': 1, 'volume_fi': 1, 'volume_em': 1, 'volume_sma_em': 0, 'volume_vpt': 0, 'volume_mfi': 1, 'volatility_bbw': 0, 'volatility_bbhi': 1, 'volatility_bbli': 0, 'volatility_kcw': 1, 'volatility_kcp': 1, 'volatility_kchi': 0, 'trend_macd': 1, 'trend_macd_diff': 0, 'trend_vortex_ind_neg': 0, 'trend_mass_index': 1, 'trend_dpo': 1, 'trend_adx': 1, 'trend_aroon_up': 0, 'trend_aroon_down': 0, 'trend_psar_up': 0, 'trend_psar_down': 0, 'trend_psar_up_indicator': 0, 'trend_psar_down_indicator': 1, 'momentum_pvo': 1, 'momentum_pvo_hist': 0, 'others_dr': 0, 'others_cr': 0}\n",
      "- Trial 47: {'volume_adi': 0, 'volume_obv': 0, 'volume_cmf': 0, 'volume_fi': 0, 'volume_em': 0, 'volume_sma_em': 0, 'volume_vpt': 0, 'volume_mfi': 1, 'volatility_bbw': 0, 'volatility_bbhi': 1, 'volatility_bbli': 0, 'volatility_kcw': 1, 'volatility_kcp': 0, 'volatility_kchi': 0, 'trend_macd': 0, 'trend_macd_diff': 0, 'trend_vortex_ind_neg': 1, 'trend_mass_index': 0, 'trend_dpo': 0, 'trend_adx': 1, 'trend_aroon_up': 1, 'trend_aroon_down': 0, 'trend_psar_up': 1, 'trend_psar_down': 1, 'trend_psar_up_indicator': 1, 'trend_psar_down_indicator': 0, 'momentum_pvo': 1, 'momentum_pvo_hist': 1, 'others_dr': 1, 'others_cr': 0}\n",
      "- Trial 34: {'volume_adi': 1, 'volume_obv': 0, 'volume_cmf': 1, 'volume_fi': 1, 'volume_em': 0, 'volume_sma_em': 1, 'volume_vpt': 1, 'volume_mfi': 1, 'volatility_bbw': 0, 'volatility_bbhi': 0, 'volatility_bbli': 1, 'volatility_kcw': 0, 'volatility_kcp': 1, 'volatility_kchi': 0, 'trend_macd': 1, 'trend_macd_diff': 1, 'trend_vortex_ind_neg': 1, 'trend_mass_index': 1, 'trend_dpo': 0, 'trend_adx': 0, 'trend_aroon_up': 1, 'trend_aroon_down': 0, 'trend_psar_up': 1, 'trend_psar_down': 1, 'trend_psar_up_indicator': 1, 'trend_psar_down_indicator': 1, 'momentum_pvo': 1, 'momentum_pvo_hist': 1, 'others_dr': 1, 'others_cr': 0}\n",
      "- Trial 26: {'volume_adi': 0, 'volume_obv': 0, 'volume_cmf': 1, 'volume_fi': 0, 'volume_em': 0, 'volume_sma_em': 0, 'volume_vpt': 1, 'volume_mfi': 1, 'volatility_bbw': 1, 'volatility_bbhi': 1, 'volatility_bbli': 0, 'volatility_kcw': 0, 'volatility_kcp': 1, 'volatility_kchi': 0, 'trend_macd': 1, 'trend_macd_diff': 0, 'trend_vortex_ind_neg': 1, 'trend_mass_index': 1, 'trend_dpo': 1, 'trend_adx': 1, 'trend_aroon_up': 1, 'trend_aroon_down': 0, 'trend_psar_up': 1, 'trend_psar_down': 1, 'trend_psar_up_indicator': 0, 'trend_psar_down_indicator': 1, 'momentum_pvo': 1, 'momentum_pvo_hist': 0, 'others_dr': 1, 'others_cr': 0}\n",
      "- Trial 16: {'volume_adi': 0, 'volume_obv': 0, 'volume_cmf': 0, 'volume_fi': 0, 'volume_em': 0, 'volume_sma_em': 0, 'volume_vpt': 0, 'volume_mfi': 0, 'volatility_bbw': 0, 'volatility_bbhi': 0, 'volatility_bbli': 0, 'volatility_kcw': 1, 'volatility_kcp': 0, 'volatility_kchi': 1, 'trend_macd': 0, 'trend_macd_diff': 0, 'trend_vortex_ind_neg': 0, 'trend_mass_index': 1, 'trend_dpo': 0, 'trend_adx': 1, 'trend_aroon_up': 1, 'trend_aroon_down': 1, 'trend_psar_up': 0, 'trend_psar_down': 1, 'trend_psar_up_indicator': 1, 'trend_psar_down_indicator': 1, 'momentum_pvo': 0, 'momentum_pvo_hist': 1, 'others_dr': 0, 'others_cr': 0}\n",
      "- Trial 9: {'volume_adi': 1, 'volume_obv': 0, 'volume_cmf': 0, 'volume_fi': 1, 'volume_em': 1, 'volume_sma_em': 0, 'volume_vpt': 1, 'volume_mfi': 1, 'volatility_bbw': 0, 'volatility_bbhi': 1, 'volatility_bbli': 0, 'volatility_kcw': 0, 'volatility_kcp': 0, 'volatility_kchi': 0, 'trend_macd': 1, 'trend_macd_diff': 1, 'trend_vortex_ind_neg': 0, 'trend_mass_index': 1, 'trend_dpo': 0, 'trend_adx': 0, 'trend_aroon_up': 1, 'trend_aroon_down': 0, 'trend_psar_up': 0, 'trend_psar_down': 1, 'trend_psar_up_indicator': 1, 'trend_psar_down_indicator': 0, 'momentum_pvo': 0, 'momentum_pvo_hist': 0, 'others_dr': 0, 'others_cr': 0}\n",
      "- Trial 19: {'volume_adi': 0, 'volume_obv': 1, 'volume_cmf': 0, 'volume_fi': 0, 'volume_em': 1, 'volume_sma_em': 1, 'volume_vpt': 1, 'volume_mfi': 0, 'volatility_bbw': 0, 'volatility_bbhi': 1, 'volatility_bbli': 1, 'volatility_kcw': 0, 'volatility_kcp': 1, 'volatility_kchi': 0, 'trend_macd': 0, 'trend_macd_diff': 1, 'trend_vortex_ind_neg': 1, 'trend_mass_index': 1, 'trend_dpo': 0, 'trend_adx': 1, 'trend_aroon_up': 1, 'trend_aroon_down': 1, 'trend_psar_up': 0, 'trend_psar_down': 1, 'trend_psar_up_indicator': 0, 'trend_psar_down_indicator': 1, 'momentum_pvo': 0, 'momentum_pvo_hist': 1, 'others_dr': 0, 'others_cr': 1}\n",
      "- Trial 32: {'volume_adi': 1, 'volume_obv': 0, 'volume_cmf': 0, 'volume_fi': 0, 'volume_em': 0, 'volume_sma_em': 1, 'volume_vpt': 1, 'volume_mfi': 0, 'volatility_bbw': 1, 'volatility_bbhi': 1, 'volatility_bbli': 1, 'volatility_kcw': 0, 'volatility_kcp': 1, 'volatility_kchi': 0, 'trend_macd': 1, 'trend_macd_diff': 1, 'trend_vortex_ind_neg': 0, 'trend_mass_index': 1, 'trend_dpo': 1, 'trend_adx': 0, 'trend_aroon_up': 1, 'trend_aroon_down': 1, 'trend_psar_up': 1, 'trend_psar_down': 0, 'trend_psar_up_indicator': 1, 'trend_psar_down_indicator': 1, 'momentum_pvo': 0, 'momentum_pvo_hist': 1, 'others_dr': 0, 'others_cr': 1}\n",
      "- Trial 13: {'volume_adi': 0, 'volume_obv': 0, 'volume_cmf': 0, 'volume_fi': 1, 'volume_em': 1, 'volume_sma_em': 1, 'volume_vpt': 1, 'volume_mfi': 0, 'volatility_bbw': 1, 'volatility_bbhi': 0, 'volatility_bbli': 0, 'volatility_kcw': 0, 'volatility_kcp': 0, 'volatility_kchi': 0, 'trend_macd': 1, 'trend_macd_diff': 1, 'trend_vortex_ind_neg': 0, 'trend_mass_index': 0, 'trend_dpo': 1, 'trend_adx': 1, 'trend_aroon_up': 0, 'trend_aroon_down': 1, 'trend_psar_up': 1, 'trend_psar_down': 0, 'trend_psar_up_indicator': 1, 'trend_psar_down_indicator': 0, 'momentum_pvo': 0, 'momentum_pvo_hist': 1, 'others_dr': 0, 'others_cr': 0}\n",
      "- Trial 36: {'volume_adi': 0, 'volume_obv': 0, 'volume_cmf': 0, 'volume_fi': 0, 'volume_em': 1, 'volume_sma_em': 0, 'volume_vpt': 0, 'volume_mfi': 0, 'volatility_bbw': 1, 'volatility_bbhi': 1, 'volatility_bbli': 1, 'volatility_kcw': 0, 'volatility_kcp': 0, 'volatility_kchi': 1, 'trend_macd': 1, 'trend_macd_diff': 0, 'trend_vortex_ind_neg': 1, 'trend_mass_index': 0, 'trend_dpo': 0, 'trend_adx': 1, 'trend_aroon_up': 0, 'trend_aroon_down': 1, 'trend_psar_up': 0, 'trend_psar_down': 1, 'trend_psar_up_indicator': 0, 'trend_psar_down_indicator': 0, 'momentum_pvo': 1, 'momentum_pvo_hist': 0, 'others_dr': 0, 'others_cr': 1}\n",
      "- Trial 30: {'volume_adi': 1, 'volume_obv': 1, 'volume_cmf': 1, 'volume_fi': 1, 'volume_em': 0, 'volume_sma_em': 1, 'volume_vpt': 1, 'volume_mfi': 0, 'volatility_bbw': 0, 'volatility_bbhi': 0, 'volatility_bbli': 1, 'volatility_kcw': 1, 'volatility_kcp': 0, 'volatility_kchi': 0, 'trend_macd': 0, 'trend_macd_diff': 0, 'trend_vortex_ind_neg': 0, 'trend_mass_index': 1, 'trend_dpo': 0, 'trend_adx': 1, 'trend_aroon_up': 0, 'trend_aroon_down': 0, 'trend_psar_up': 1, 'trend_psar_down': 1, 'trend_psar_up_indicator': 0, 'trend_psar_down_indicator': 1, 'momentum_pvo': 1, 'momentum_pvo_hist': 0, 'others_dr': 0, 'others_cr': 0}\n",
      "- Trial 23: {'volume_adi': 0, 'volume_obv': 0, 'volume_cmf': 0, 'volume_fi': 0, 'volume_em': 0, 'volume_sma_em': 1, 'volume_vpt': 0, 'volume_mfi': 0, 'volatility_bbw': 0, 'volatility_bbhi': 0, 'volatility_bbli': 0, 'volatility_kcw': 1, 'volatility_kcp': 0, 'volatility_kchi': 0, 'trend_macd': 0, 'trend_macd_diff': 1, 'trend_vortex_ind_neg': 0, 'trend_mass_index': 0, 'trend_dpo': 1, 'trend_adx': 0, 'trend_aroon_up': 1, 'trend_aroon_down': 0, 'trend_psar_up': 0, 'trend_psar_down': 0, 'trend_psar_up_indicator': 1, 'trend_psar_down_indicator': 0, 'momentum_pvo': 1, 'momentum_pvo_hist': 0, 'others_dr': 0, 'others_cr': 0}\n",
      "- Trial 3: {'volume_adi': 1, 'volume_obv': 0, 'volume_cmf': 0, 'volume_fi': 1, 'volume_em': 0, 'volume_sma_em': 0, 'volume_vpt': 0, 'volume_mfi': 1, 'volatility_bbw': 0, 'volatility_bbhi': 0, 'volatility_bbli': 0, 'volatility_kcw': 1, 'volatility_kcp': 1, 'volatility_kchi': 0, 'trend_macd': 1, 'trend_macd_diff': 1, 'trend_vortex_ind_neg': 0, 'trend_mass_index': 1, 'trend_dpo': 0, 'trend_adx': 1, 'trend_aroon_up': 1, 'trend_aroon_down': 0, 'trend_psar_up': 1, 'trend_psar_down': 0, 'trend_psar_up_indicator': 0, 'trend_psar_down_indicator': 0, 'momentum_pvo': 1, 'momentum_pvo_hist': 0, 'others_dr': 0, 'others_cr': 1}\n",
      "- Trial 35: {'volume_adi': 0, 'volume_obv': 0, 'volume_cmf': 0, 'volume_fi': 0, 'volume_em': 1, 'volume_sma_em': 1, 'volume_vpt': 0, 'volume_mfi': 0, 'volatility_bbw': 0, 'volatility_bbhi': 1, 'volatility_bbli': 0, 'volatility_kcw': 0, 'volatility_kcp': 1, 'volatility_kchi': 0, 'trend_macd': 1, 'trend_macd_diff': 0, 'trend_vortex_ind_neg': 0, 'trend_mass_index': 1, 'trend_dpo': 1, 'trend_adx': 1, 'trend_aroon_up': 0, 'trend_aroon_down': 1, 'trend_psar_up': 1, 'trend_psar_down': 1, 'trend_psar_up_indicator': 0, 'trend_psar_down_indicator': 0, 'momentum_pvo': 0, 'momentum_pvo_hist': 0, 'others_dr': 0, 'others_cr': 0}\n",
      "- Trial 40: {'volume_adi': 0, 'volume_obv': 1, 'volume_cmf': 1, 'volume_fi': 1, 'volume_em': 0, 'volume_sma_em': 0, 'volume_vpt': 0, 'volume_mfi': 0, 'volatility_bbw': 1, 'volatility_bbhi': 0, 'volatility_bbli': 1, 'volatility_kcw': 0, 'volatility_kcp': 0, 'volatility_kchi': 0, 'trend_macd': 1, 'trend_macd_diff': 1, 'trend_vortex_ind_neg': 1, 'trend_mass_index': 0, 'trend_dpo': 1, 'trend_adx': 1, 'trend_aroon_up': 1, 'trend_aroon_down': 0, 'trend_psar_up': 1, 'trend_psar_down': 1, 'trend_psar_up_indicator': 1, 'trend_psar_down_indicator': 0, 'momentum_pvo': 0, 'momentum_pvo_hist': 0, 'others_dr': 0, 'others_cr': 1}\n",
      "- Trial 15: {'volume_adi': 0, 'volume_obv': 1, 'volume_cmf': 1, 'volume_fi': 0, 'volume_em': 0, 'volume_sma_em': 1, 'volume_vpt': 0, 'volume_mfi': 1, 'volatility_bbw': 0, 'volatility_bbhi': 0, 'volatility_bbli': 0, 'volatility_kcw': 0, 'volatility_kcp': 0, 'volatility_kchi': 0, 'trend_macd': 0, 'trend_macd_diff': 0, 'trend_vortex_ind_neg': 1, 'trend_mass_index': 1, 'trend_dpo': 0, 'trend_adx': 0, 'trend_aroon_up': 1, 'trend_aroon_down': 0, 'trend_psar_up': 0, 'trend_psar_down': 1, 'trend_psar_up_indicator': 0, 'trend_psar_down_indicator': 1, 'momentum_pvo': 1, 'momentum_pvo_hist': 0, 'others_dr': 0, 'others_cr': 0}\n",
      "- Trial 41: {'volume_adi': 1, 'volume_obv': 1, 'volume_cmf': 0, 'volume_fi': 1, 'volume_em': 0, 'volume_sma_em': 0, 'volume_vpt': 1, 'volume_mfi': 0, 'volatility_bbw': 1, 'volatility_bbhi': 0, 'volatility_bbli': 0, 'volatility_kcw': 0, 'volatility_kcp': 1, 'volatility_kchi': 1, 'trend_macd': 1, 'trend_macd_diff': 0, 'trend_vortex_ind_neg': 0, 'trend_mass_index': 1, 'trend_dpo': 1, 'trend_adx': 0, 'trend_aroon_up': 1, 'trend_aroon_down': 1, 'trend_psar_up': 1, 'trend_psar_down': 1, 'trend_psar_up_indicator': 0, 'trend_psar_down_indicator': 1, 'momentum_pvo': 0, 'momentum_pvo_hist': 1, 'others_dr': 0, 'others_cr': 1}\n",
      "- Trial 29: {'volume_adi': 0, 'volume_obv': 1, 'volume_cmf': 1, 'volume_fi': 0, 'volume_em': 0, 'volume_sma_em': 0, 'volume_vpt': 0, 'volume_mfi': 1, 'volatility_bbw': 1, 'volatility_bbhi': 0, 'volatility_bbli': 0, 'volatility_kcw': 0, 'volatility_kcp': 1, 'volatility_kchi': 1, 'trend_macd': 1, 'trend_macd_diff': 0, 'trend_vortex_ind_neg': 1, 'trend_mass_index': 1, 'trend_dpo': 0, 'trend_adx': 0, 'trend_aroon_up': 1, 'trend_aroon_down': 0, 'trend_psar_up': 1, 'trend_psar_down': 1, 'trend_psar_up_indicator': 0, 'trend_psar_down_indicator': 0, 'momentum_pvo': 0, 'momentum_pvo_hist': 0, 'others_dr': 1, 'others_cr': 0}\n",
      "- Trial 14: {'volume_adi': 1, 'volume_obv': 0, 'volume_cmf': 0, 'volume_fi': 0, 'volume_em': 1, 'volume_sma_em': 1, 'volume_vpt': 1, 'volume_mfi': 0, 'volatility_bbw': 1, 'volatility_bbhi': 1, 'volatility_bbli': 0, 'volatility_kcw': 1, 'volatility_kcp': 1, 'volatility_kchi': 1, 'trend_macd': 1, 'trend_macd_diff': 0, 'trend_vortex_ind_neg': 1, 'trend_mass_index': 1, 'trend_dpo': 1, 'trend_adx': 1, 'trend_aroon_up': 1, 'trend_aroon_down': 1, 'trend_psar_up': 0, 'trend_psar_down': 1, 'trend_psar_up_indicator': 0, 'trend_psar_down_indicator': 0, 'momentum_pvo': 1, 'momentum_pvo_hist': 0, 'others_dr': 0, 'others_cr': 0}\n",
      "- Trial 18: {'volume_adi': 1, 'volume_obv': 0, 'volume_cmf': 0, 'volume_fi': 0, 'volume_em': 0, 'volume_sma_em': 1, 'volume_vpt': 1, 'volume_mfi': 0, 'volatility_bbw': 1, 'volatility_bbhi': 0, 'volatility_bbli': 0, 'volatility_kcw': 1, 'volatility_kcp': 1, 'volatility_kchi': 0, 'trend_macd': 1, 'trend_macd_diff': 0, 'trend_vortex_ind_neg': 0, 'trend_mass_index': 1, 'trend_dpo': 0, 'trend_adx': 0, 'trend_aroon_up': 0, 'trend_aroon_down': 1, 'trend_psar_up': 1, 'trend_psar_down': 1, 'trend_psar_up_indicator': 1, 'trend_psar_down_indicator': 1, 'momentum_pvo': 1, 'momentum_pvo_hist': 1, 'others_dr': 0, 'others_cr': 1}\n",
      "- Trial 22: {'volume_adi': 1, 'volume_obv': 0, 'volume_cmf': 1, 'volume_fi': 1, 'volume_em': 1, 'volume_sma_em': 0, 'volume_vpt': 1, 'volume_mfi': 1, 'volatility_bbw': 1, 'volatility_bbhi': 1, 'volatility_bbli': 1, 'volatility_kcw': 1, 'volatility_kcp': 0, 'volatility_kchi': 1, 'trend_macd': 1, 'trend_macd_diff': 1, 'trend_vortex_ind_neg': 0, 'trend_mass_index': 0, 'trend_dpo': 0, 'trend_adx': 0, 'trend_aroon_up': 1, 'trend_aroon_down': 1, 'trend_psar_up': 0, 'trend_psar_down': 1, 'trend_psar_up_indicator': 0, 'trend_psar_down_indicator': 1, 'momentum_pvo': 1, 'momentum_pvo_hist': 1, 'others_dr': 0, 'others_cr': 0}\n",
      "- Trial 49: {'volume_adi': 0, 'volume_obv': 1, 'volume_cmf': 1, 'volume_fi': 1, 'volume_em': 0, 'volume_sma_em': 0, 'volume_vpt': 1, 'volume_mfi': 0, 'volatility_bbw': 1, 'volatility_bbhi': 0, 'volatility_bbli': 0, 'volatility_kcw': 1, 'volatility_kcp': 0, 'volatility_kchi': 1, 'trend_macd': 1, 'trend_macd_diff': 0, 'trend_vortex_ind_neg': 1, 'trend_mass_index': 0, 'trend_dpo': 0, 'trend_adx': 0, 'trend_aroon_up': 0, 'trend_aroon_down': 1, 'trend_psar_up': 1, 'trend_psar_down': 1, 'trend_psar_up_indicator': 0, 'trend_psar_down_indicator': 1, 'momentum_pvo': 0, 'momentum_pvo_hist': 1, 'others_dr': 0, 'others_cr': 0}\n",
      "- Trial 2: {'volume_adi': 1, 'volume_obv': 1, 'volume_cmf': 0, 'volume_fi': 1, 'volume_em': 0, 'volume_sma_em': 1, 'volume_vpt': 1, 'volume_mfi': 0, 'volatility_bbw': 0, 'volatility_bbhi': 1, 'volatility_bbli': 1, 'volatility_kcw': 0, 'volatility_kcp': 0, 'volatility_kchi': 1, 'trend_macd': 0, 'trend_macd_diff': 0, 'trend_vortex_ind_neg': 1, 'trend_mass_index': 1, 'trend_dpo': 1, 'trend_adx': 1, 'trend_aroon_up': 1, 'trend_aroon_down': 1, 'trend_psar_up': 0, 'trend_psar_down': 0, 'trend_psar_up_indicator': 1, 'trend_psar_down_indicator': 0, 'momentum_pvo': 1, 'momentum_pvo_hist': 0, 'others_dr': 0, 'others_cr': 0}\n",
      "- Trial 27: {'volume_adi': 0, 'volume_obv': 0, 'volume_cmf': 0, 'volume_fi': 0, 'volume_em': 1, 'volume_sma_em': 1, 'volume_vpt': 1, 'volume_mfi': 0, 'volatility_bbw': 1, 'volatility_bbhi': 1, 'volatility_bbli': 1, 'volatility_kcw': 1, 'volatility_kcp': 0, 'volatility_kchi': 0, 'trend_macd': 0, 'trend_macd_diff': 1, 'trend_vortex_ind_neg': 1, 'trend_mass_index': 1, 'trend_dpo': 0, 'trend_adx': 0, 'trend_aroon_up': 1, 'trend_aroon_down': 1, 'trend_psar_up': 0, 'trend_psar_down': 1, 'trend_psar_up_indicator': 0, 'trend_psar_down_indicator': 1, 'momentum_pvo': 0, 'momentum_pvo_hist': 1, 'others_dr': 0, 'others_cr': 0}\n",
      "- Trial 42: {'volume_adi': 0, 'volume_obv': 1, 'volume_cmf': 1, 'volume_fi': 0, 'volume_em': 0, 'volume_sma_em': 0, 'volume_vpt': 1, 'volume_mfi': 0, 'volatility_bbw': 1, 'volatility_bbhi': 0, 'volatility_bbli': 1, 'volatility_kcw': 1, 'volatility_kcp': 1, 'volatility_kchi': 1, 'trend_macd': 1, 'trend_macd_diff': 0, 'trend_vortex_ind_neg': 1, 'trend_mass_index': 1, 'trend_dpo': 1, 'trend_adx': 0, 'trend_aroon_up': 0, 'trend_aroon_down': 0, 'trend_psar_up': 1, 'trend_psar_down': 0, 'trend_psar_up_indicator': 1, 'trend_psar_down_indicator': 0, 'momentum_pvo': 0, 'momentum_pvo_hist': 1, 'others_dr': 0, 'others_cr': 0}\n",
      "- Trial 33: {'volume_adi': 1, 'volume_obv': 1, 'volume_cmf': 1, 'volume_fi': 1, 'volume_em': 0, 'volume_sma_em': 0, 'volume_vpt': 1, 'volume_mfi': 0, 'volatility_bbw': 1, 'volatility_bbhi': 1, 'volatility_bbli': 1, 'volatility_kcw': 0, 'volatility_kcp': 1, 'volatility_kchi': 0, 'trend_macd': 1, 'trend_macd_diff': 1, 'trend_vortex_ind_neg': 0, 'trend_mass_index': 0, 'trend_dpo': 1, 'trend_adx': 0, 'trend_aroon_up': 0, 'trend_aroon_down': 1, 'trend_psar_up': 0, 'trend_psar_down': 0, 'trend_psar_up_indicator': 0, 'trend_psar_down_indicator': 1, 'momentum_pvo': 1, 'momentum_pvo_hist': 0, 'others_dr': 0, 'others_cr': 1}\n",
      "- Trial 43: {'volume_adi': 1, 'volume_obv': 1, 'volume_cmf': 0, 'volume_fi': 0, 'volume_em': 0, 'volume_sma_em': 0, 'volume_vpt': 1, 'volume_mfi': 0, 'volatility_bbw': 0, 'volatility_bbhi': 1, 'volatility_bbli': 1, 'volatility_kcw': 0, 'volatility_kcp': 0, 'volatility_kchi': 0, 'trend_macd': 0, 'trend_macd_diff': 1, 'trend_vortex_ind_neg': 1, 'trend_mass_index': 1, 'trend_dpo': 0, 'trend_adx': 1, 'trend_aroon_up': 0, 'trend_aroon_down': 0, 'trend_psar_up': 0, 'trend_psar_down': 1, 'trend_psar_up_indicator': 0, 'trend_psar_down_indicator': 0, 'momentum_pvo': 0, 'momentum_pvo_hist': 0, 'others_dr': 0, 'others_cr': 1}\n",
      "Cluster 1:\n",
      "- Trial 48: {'volume_adi': 0, 'volume_obv': 1, 'volume_cmf': 1, 'volume_fi': 0, 'volume_em': 1, 'volume_sma_em': 0, 'volume_vpt': 1, 'volume_mfi': 0, 'volatility_bbw': 1, 'volatility_bbhi': 1, 'volatility_bbli': 1, 'volatility_kcw': 1, 'volatility_kcp': 1, 'volatility_kchi': 1, 'trend_macd': 0, 'trend_macd_diff': 0, 'trend_vortex_ind_neg': 0, 'trend_mass_index': 0, 'trend_dpo': 1, 'trend_adx': 1, 'trend_aroon_up': 1, 'trend_aroon_down': 0, 'trend_psar_up': 0, 'trend_psar_down': 0, 'trend_psar_up_indicator': 0, 'trend_psar_down_indicator': 0, 'momentum_pvo': 1, 'momentum_pvo_hist': 1, 'others_dr': 0, 'others_cr': 0}\n",
      "- Trial 45: {'volume_adi': 1, 'volume_obv': 0, 'volume_cmf': 0, 'volume_fi': 0, 'volume_em': 0, 'volume_sma_em': 1, 'volume_vpt': 1, 'volume_mfi': 1, 'volatility_bbw': 1, 'volatility_bbhi': 0, 'volatility_bbli': 1, 'volatility_kcw': 1, 'volatility_kcp': 0, 'volatility_kchi': 0, 'trend_macd': 0, 'trend_macd_diff': 1, 'trend_vortex_ind_neg': 0, 'trend_mass_index': 0, 'trend_dpo': 1, 'trend_adx': 1, 'trend_aroon_up': 0, 'trend_aroon_down': 1, 'trend_psar_up': 1, 'trend_psar_down': 0, 'trend_psar_up_indicator': 0, 'trend_psar_down_indicator': 1, 'momentum_pvo': 0, 'momentum_pvo_hist': 1, 'others_dr': 0, 'others_cr': 1}\n",
      "- Trial 10: {'volume_adi': 1, 'volume_obv': 1, 'volume_cmf': 1, 'volume_fi': 0, 'volume_em': 0, 'volume_sma_em': 1, 'volume_vpt': 0, 'volume_mfi': 0, 'volatility_bbw': 0, 'volatility_bbhi': 1, 'volatility_bbli': 0, 'volatility_kcw': 0, 'volatility_kcp': 1, 'volatility_kchi': 1, 'trend_macd': 1, 'trend_macd_diff': 1, 'trend_vortex_ind_neg': 0, 'trend_mass_index': 0, 'trend_dpo': 0, 'trend_adx': 1, 'trend_aroon_up': 0, 'trend_aroon_down': 0, 'trend_psar_up': 0, 'trend_psar_down': 1, 'trend_psar_up_indicator': 0, 'trend_psar_down_indicator': 1, 'momentum_pvo': 1, 'momentum_pvo_hist': 0, 'others_dr': 1, 'others_cr': 0}\n",
      "- Trial 46: {'volume_adi': 0, 'volume_obv': 1, 'volume_cmf': 0, 'volume_fi': 1, 'volume_em': 0, 'volume_sma_em': 0, 'volume_vpt': 1, 'volume_mfi': 0, 'volatility_bbw': 1, 'volatility_bbhi': 0, 'volatility_bbli': 1, 'volatility_kcw': 1, 'volatility_kcp': 1, 'volatility_kchi': 1, 'trend_macd': 0, 'trend_macd_diff': 1, 'trend_vortex_ind_neg': 0, 'trend_mass_index': 1, 'trend_dpo': 0, 'trend_adx': 1, 'trend_aroon_up': 0, 'trend_aroon_down': 1, 'trend_psar_up': 1, 'trend_psar_down': 1, 'trend_psar_up_indicator': 0, 'trend_psar_down_indicator': 1, 'momentum_pvo': 1, 'momentum_pvo_hist': 0, 'others_dr': 0, 'others_cr': 0}\n",
      "- Trial 24: {'volume_adi': 0, 'volume_obv': 1, 'volume_cmf': 1, 'volume_fi': 1, 'volume_em': 1, 'volume_sma_em': 1, 'volume_vpt': 0, 'volume_mfi': 0, 'volatility_bbw': 0, 'volatility_bbhi': 0, 'volatility_bbli': 1, 'volatility_kcw': 0, 'volatility_kcp': 0, 'volatility_kchi': 1, 'trend_macd': 1, 'trend_macd_diff': 1, 'trend_vortex_ind_neg': 1, 'trend_mass_index': 1, 'trend_dpo': 1, 'trend_adx': 1, 'trend_aroon_up': 0, 'trend_aroon_down': 1, 'trend_psar_up': 0, 'trend_psar_down': 1, 'trend_psar_up_indicator': 1, 'trend_psar_down_indicator': 0, 'momentum_pvo': 0, 'momentum_pvo_hist': 1, 'others_dr': 1, 'others_cr': 1}\n",
      "- Trial 38: {'volume_adi': 0, 'volume_obv': 1, 'volume_cmf': 1, 'volume_fi': 1, 'volume_em': 1, 'volume_sma_em': 0, 'volume_vpt': 1, 'volume_mfi': 0, 'volatility_bbw': 0, 'volatility_bbhi': 0, 'volatility_bbli': 1, 'volatility_kcw': 0, 'volatility_kcp': 0, 'volatility_kchi': 1, 'trend_macd': 0, 'trend_macd_diff': 1, 'trend_vortex_ind_neg': 0, 'trend_mass_index': 0, 'trend_dpo': 0, 'trend_adx': 0, 'trend_aroon_up': 1, 'trend_aroon_down': 1, 'trend_psar_up': 0, 'trend_psar_down': 0, 'trend_psar_up_indicator': 1, 'trend_psar_down_indicator': 0, 'momentum_pvo': 0, 'momentum_pvo_hist': 1, 'others_dr': 0, 'others_cr': 0}\n",
      "- Trial 25: {'volume_adi': 1, 'volume_obv': 1, 'volume_cmf': 0, 'volume_fi': 0, 'volume_em': 0, 'volume_sma_em': 0, 'volume_vpt': 0, 'volume_mfi': 0, 'volatility_bbw': 1, 'volatility_bbhi': 0, 'volatility_bbli': 0, 'volatility_kcw': 0, 'volatility_kcp': 0, 'volatility_kchi': 0, 'trend_macd': 1, 'trend_macd_diff': 1, 'trend_vortex_ind_neg': 1, 'trend_mass_index': 1, 'trend_dpo': 0, 'trend_adx': 1, 'trend_aroon_up': 0, 'trend_aroon_down': 0, 'trend_psar_up': 0, 'trend_psar_down': 1, 'trend_psar_up_indicator': 1, 'trend_psar_down_indicator': 0, 'momentum_pvo': 0, 'momentum_pvo_hist': 0, 'others_dr': 1, 'others_cr': 1}\n",
      "- Trial 20: {'volume_adi': 1, 'volume_obv': 1, 'volume_cmf': 0, 'volume_fi': 0, 'volume_em': 0, 'volume_sma_em': 1, 'volume_vpt': 0, 'volume_mfi': 0, 'volatility_bbw': 1, 'volatility_bbhi': 0, 'volatility_bbli': 0, 'volatility_kcw': 0, 'volatility_kcp': 1, 'volatility_kchi': 1, 'trend_macd': 1, 'trend_macd_diff': 1, 'trend_vortex_ind_neg': 0, 'trend_mass_index': 1, 'trend_dpo': 0, 'trend_adx': 1, 'trend_aroon_up': 0, 'trend_aroon_down': 1, 'trend_psar_up': 1, 'trend_psar_down': 0, 'trend_psar_up_indicator': 0, 'trend_psar_down_indicator': 0, 'momentum_pvo': 0, 'momentum_pvo_hist': 0, 'others_dr': 1, 'others_cr': 0}\n",
      "- Trial 37: {'volume_adi': 1, 'volume_obv': 1, 'volume_cmf': 0, 'volume_fi': 0, 'volume_em': 1, 'volume_sma_em': 0, 'volume_vpt': 0, 'volume_mfi': 0, 'volatility_bbw': 0, 'volatility_bbhi': 0, 'volatility_bbli': 0, 'volatility_kcw': 1, 'volatility_kcp': 0, 'volatility_kchi': 1, 'trend_macd': 0, 'trend_macd_diff': 1, 'trend_vortex_ind_neg': 1, 'trend_mass_index': 0, 'trend_dpo': 0, 'trend_adx': 0, 'trend_aroon_up': 0, 'trend_aroon_down': 1, 'trend_psar_up': 0, 'trend_psar_down': 0, 'trend_psar_up_indicator': 1, 'trend_psar_down_indicator': 0, 'momentum_pvo': 0, 'momentum_pvo_hist': 0, 'others_dr': 1, 'others_cr': 0}\n",
      "- Trial 5: {'volume_adi': 0, 'volume_obv': 1, 'volume_cmf': 0, 'volume_fi': 0, 'volume_em': 0, 'volume_sma_em': 0, 'volume_vpt': 0, 'volume_mfi': 1, 'volatility_bbw': 0, 'volatility_bbhi': 0, 'volatility_bbli': 1, 'volatility_kcw': 0, 'volatility_kcp': 0, 'volatility_kchi': 0, 'trend_macd': 1, 'trend_macd_diff': 0, 'trend_vortex_ind_neg': 0, 'trend_mass_index': 0, 'trend_dpo': 1, 'trend_adx': 1, 'trend_aroon_up': 1, 'trend_aroon_down': 0, 'trend_psar_up': 1, 'trend_psar_down': 1, 'trend_psar_up_indicator': 0, 'trend_psar_down_indicator': 0, 'momentum_pvo': 1, 'momentum_pvo_hist': 0, 'others_dr': 1, 'others_cr': 0}\n",
      "- Trial 28: {'volume_adi': 0, 'volume_obv': 0, 'volume_cmf': 1, 'volume_fi': 1, 'volume_em': 1, 'volume_sma_em': 0, 'volume_vpt': 0, 'volume_mfi': 1, 'volatility_bbw': 0, 'volatility_bbhi': 1, 'volatility_bbli': 0, 'volatility_kcw': 0, 'volatility_kcp': 0, 'volatility_kchi': 1, 'trend_macd': 1, 'trend_macd_diff': 1, 'trend_vortex_ind_neg': 0, 'trend_mass_index': 0, 'trend_dpo': 1, 'trend_adx': 0, 'trend_aroon_up': 0, 'trend_aroon_down': 1, 'trend_psar_up': 1, 'trend_psar_down': 1, 'trend_psar_up_indicator': 1, 'trend_psar_down_indicator': 0, 'momentum_pvo': 1, 'momentum_pvo_hist': 0, 'others_dr': 0, 'others_cr': 0}\n",
      "- Trial 17: {'volume_adi': 1, 'volume_obv': 0, 'volume_cmf': 0, 'volume_fi': 1, 'volume_em': 0, 'volume_sma_em': 1, 'volume_vpt': 1, 'volume_mfi': 1, 'volatility_bbw': 1, 'volatility_bbhi': 0, 'volatility_bbli': 1, 'volatility_kcw': 0, 'volatility_kcp': 0, 'volatility_kchi': 0, 'trend_macd': 0, 'trend_macd_diff': 0, 'trend_vortex_ind_neg': 0, 'trend_mass_index': 0, 'trend_dpo': 0, 'trend_adx': 0, 'trend_aroon_up': 0, 'trend_aroon_down': 1, 'trend_psar_up': 0, 'trend_psar_down': 1, 'trend_psar_up_indicator': 0, 'trend_psar_down_indicator': 1, 'momentum_pvo': 0, 'momentum_pvo_hist': 0, 'others_dr': 1, 'others_cr': 0}\n",
      "- Trial 11: {'volume_adi': 0, 'volume_obv': 1, 'volume_cmf': 0, 'volume_fi': 0, 'volume_em': 1, 'volume_sma_em': 0, 'volume_vpt': 0, 'volume_mfi': 0, 'volatility_bbw': 1, 'volatility_bbhi': 1, 'volatility_bbli': 0, 'volatility_kcw': 1, 'volatility_kcp': 1, 'volatility_kchi': 0, 'trend_macd': 1, 'trend_macd_diff': 1, 'trend_vortex_ind_neg': 0, 'trend_mass_index': 1, 'trend_dpo': 0, 'trend_adx': 1, 'trend_aroon_up': 0, 'trend_aroon_down': 0, 'trend_psar_up': 1, 'trend_psar_down': 1, 'trend_psar_up_indicator': 1, 'trend_psar_down_indicator': 0, 'momentum_pvo': 1, 'momentum_pvo_hist': 1, 'others_dr': 1, 'others_cr': 0}\n",
      "- Trial 8: {'volume_adi': 1, 'volume_obv': 1, 'volume_cmf': 0, 'volume_fi': 1, 'volume_em': 0, 'volume_sma_em': 1, 'volume_vpt': 0, 'volume_mfi': 1, 'volatility_bbw': 1, 'volatility_bbhi': 0, 'volatility_bbli': 0, 'volatility_kcw': 0, 'volatility_kcp': 0, 'volatility_kchi': 0, 'trend_macd': 0, 'trend_macd_diff': 1, 'trend_vortex_ind_neg': 0, 'trend_mass_index': 0, 'trend_dpo': 0, 'trend_adx': 0, 'trend_aroon_up': 1, 'trend_aroon_down': 0, 'trend_psar_up': 1, 'trend_psar_down': 0, 'trend_psar_up_indicator': 1, 'trend_psar_down_indicator': 1, 'momentum_pvo': 1, 'momentum_pvo_hist': 0, 'others_dr': 0, 'others_cr': 1}\n",
      "- Trial 39: {'volume_adi': 1, 'volume_obv': 1, 'volume_cmf': 0, 'volume_fi': 0, 'volume_em': 0, 'volume_sma_em': 0, 'volume_vpt': 1, 'volume_mfi': 1, 'volatility_bbw': 0, 'volatility_bbhi': 0, 'volatility_bbli': 1, 'volatility_kcw': 1, 'volatility_kcp': 0, 'volatility_kchi': 0, 'trend_macd': 1, 'trend_macd_diff': 0, 'trend_vortex_ind_neg': 0, 'trend_mass_index': 0, 'trend_dpo': 1, 'trend_adx': 1, 'trend_aroon_up': 0, 'trend_aroon_down': 1, 'trend_psar_up': 0, 'trend_psar_down': 1, 'trend_psar_up_indicator': 0, 'trend_psar_down_indicator': 1, 'momentum_pvo': 0, 'momentum_pvo_hist': 1, 'others_dr': 1, 'others_cr': 1}\n",
      "- Trial 31: {'volume_adi': 1, 'volume_obv': 1, 'volume_cmf': 1, 'volume_fi': 0, 'volume_em': 1, 'volume_sma_em': 0, 'volume_vpt': 0, 'volume_mfi': 1, 'volatility_bbw': 0, 'volatility_bbhi': 1, 'volatility_bbli': 0, 'volatility_kcw': 1, 'volatility_kcp': 1, 'volatility_kchi': 1, 'trend_macd': 1, 'trend_macd_diff': 0, 'trend_vortex_ind_neg': 1, 'trend_mass_index': 1, 'trend_dpo': 0, 'trend_adx': 1, 'trend_aroon_up': 1, 'trend_aroon_down': 0, 'trend_psar_up': 1, 'trend_psar_down': 0, 'trend_psar_up_indicator': 0, 'trend_psar_down_indicator': 0, 'momentum_pvo': 0, 'momentum_pvo_hist': 1, 'others_dr': 1, 'others_cr': 0}\n",
      "- Trial 21: {'volume_adi': 0, 'volume_obv': 0, 'volume_cmf': 0, 'volume_fi': 0, 'volume_em': 1, 'volume_sma_em': 1, 'volume_vpt': 1, 'volume_mfi': 0, 'volatility_bbw': 1, 'volatility_bbhi': 0, 'volatility_bbli': 1, 'volatility_kcw': 1, 'volatility_kcp': 1, 'volatility_kchi': 1, 'trend_macd': 1, 'trend_macd_diff': 1, 'trend_vortex_ind_neg': 0, 'trend_mass_index': 0, 'trend_dpo': 1, 'trend_adx': 1, 'trend_aroon_up': 0, 'trend_aroon_down': 1, 'trend_psar_up': 1, 'trend_psar_down': 0, 'trend_psar_up_indicator': 0, 'trend_psar_down_indicator': 1, 'momentum_pvo': 0, 'momentum_pvo_hist': 0, 'others_dr': 0, 'others_cr': 0}\n",
      "- Trial 6: {'volume_adi': 1, 'volume_obv': 1, 'volume_cmf': 1, 'volume_fi': 0, 'volume_em': 1, 'volume_sma_em': 0, 'volume_vpt': 0, 'volume_mfi': 1, 'volatility_bbw': 1, 'volatility_bbhi': 1, 'volatility_bbli': 1, 'volatility_kcw': 1, 'volatility_kcp': 0, 'volatility_kchi': 0, 'trend_macd': 1, 'trend_macd_diff': 0, 'trend_vortex_ind_neg': 1, 'trend_mass_index': 0, 'trend_dpo': 1, 'trend_adx': 1, 'trend_aroon_up': 0, 'trend_aroon_down': 1, 'trend_psar_up': 1, 'trend_psar_down': 0, 'trend_psar_up_indicator': 1, 'trend_psar_down_indicator': 1, 'momentum_pvo': 1, 'momentum_pvo_hist': 0, 'others_dr': 0, 'others_cr': 1}\n",
      "- Trial 4: {'volume_adi': 1, 'volume_obv': 1, 'volume_cmf': 0, 'volume_fi': 1, 'volume_em': 0, 'volume_sma_em': 0, 'volume_vpt': 0, 'volume_mfi': 0, 'volatility_bbw': 1, 'volatility_bbhi': 1, 'volatility_bbli': 0, 'volatility_kcw': 1, 'volatility_kcp': 0, 'volatility_kchi': 0, 'trend_macd': 0, 'trend_macd_diff': 0, 'trend_vortex_ind_neg': 1, 'trend_mass_index': 0, 'trend_dpo': 1, 'trend_adx': 0, 'trend_aroon_up': 0, 'trend_aroon_down': 0, 'trend_psar_up': 1, 'trend_psar_down': 1, 'trend_psar_up_indicator': 1, 'trend_psar_down_indicator': 0, 'momentum_pvo': 1, 'momentum_pvo_hist': 0, 'others_dr': 1, 'others_cr': 1}\n",
      "- Trial 0: {'volume_adi': 1, 'volume_obv': 1, 'volume_cmf': 1, 'volume_fi': 1, 'volume_em': 0, 'volume_sma_em': 1, 'volume_vpt': 0, 'volume_mfi': 0, 'volatility_bbw': 0, 'volatility_bbhi': 1, 'volatility_bbli': 1, 'volatility_kcw': 1, 'volatility_kcp': 1, 'volatility_kchi': 1, 'trend_macd': 1, 'trend_macd_diff': 0, 'trend_vortex_ind_neg': 0, 'trend_mass_index': 0, 'trend_dpo': 1, 'trend_adx': 0, 'trend_aroon_up': 1, 'trend_aroon_down': 0, 'trend_psar_up': 0, 'trend_psar_down': 1, 'trend_psar_up_indicator': 0, 'trend_psar_down_indicator': 1, 'momentum_pvo': 0, 'momentum_pvo_hist': 1, 'others_dr': 1, 'others_cr': 0}\n",
      "- Trial 7: {'volume_adi': 1, 'volume_obv': 1, 'volume_cmf': 0, 'volume_fi': 1, 'volume_em': 1, 'volume_sma_em': 1, 'volume_vpt': 1, 'volume_mfi': 0, 'volatility_bbw': 1, 'volatility_bbhi': 0, 'volatility_bbli': 0, 'volatility_kcw': 0, 'volatility_kcp': 0, 'volatility_kchi': 0, 'trend_macd': 1, 'trend_macd_diff': 0, 'trend_vortex_ind_neg': 1, 'trend_mass_index': 0, 'trend_dpo': 1, 'trend_adx': 0, 'trend_aroon_up': 1, 'trend_aroon_down': 0, 'trend_psar_up': 0, 'trend_psar_down': 1, 'trend_psar_up_indicator': 1, 'trend_psar_down_indicator': 0, 'momentum_pvo': 0, 'momentum_pvo_hist': 1, 'others_dr': 0, 'others_cr': 0}\n",
      "- Trial 1: {'volume_adi': 1, 'volume_obv': 1, 'volume_cmf': 0, 'volume_fi': 1, 'volume_em': 1, 'volume_sma_em': 1, 'volume_vpt': 1, 'volume_mfi': 1, 'volatility_bbw': 1, 'volatility_bbhi': 1, 'volatility_bbli': 0, 'volatility_kcw': 1, 'volatility_kcp': 0, 'volatility_kchi': 0, 'trend_macd': 0, 'trend_macd_diff': 1, 'trend_vortex_ind_neg': 1, 'trend_mass_index': 1, 'trend_dpo': 0, 'trend_adx': 0, 'trend_aroon_up': 0, 'trend_aroon_down': 1, 'trend_psar_up': 0, 'trend_psar_down': 1, 'trend_psar_up_indicator': 1, 'trend_psar_down_indicator': 1, 'momentum_pvo': 0, 'momentum_pvo_hist': 0, 'others_dr': 1, 'others_cr': 1}\n"
     ]
    }
   ],
   "source": [
    "for cluster_number, cluster_indices in clstrsNew.items():\n",
    "    print(f\"Cluster {cluster_number}:\")\n",
    "    for idx in cluster_indices:\n",
    "        trial_number = top_trials[idx].number\n",
    "        trial_params = top_trials[idx].params\n",
    "        print(f\"- Trial {trial_number}: {trial_params}\")"
   ]
  },
  {
   "cell_type": "code",
   "execution_count": 34,
   "metadata": {},
   "outputs": [
    {
     "name": "stdout",
     "output_type": "stream",
     "text": [
      "Cluster 0:\n",
      "                     Feature  Frequency\n",
      "0           trend_mass_index         19\n",
      "1            trend_psar_down         19\n",
      "2                 volume_vpt         18\n",
      "3             trend_aroon_up         18\n",
      "4                 trend_macd         18\n",
      "5             volatility_bbw         15\n",
      "6                  trend_adx         15\n",
      "7              trend_psar_up         15\n",
      "8  trend_psar_down_indicator         15\n",
      "9                 volume_adi         14\n",
      "Cluster 1:\n",
      "            Feature  Frequency\n",
      "0        volume_obv         18\n",
      "1        volume_adi         14\n",
      "2    volatility_bbw         13\n",
      "3         trend_adx         13\n",
      "4   trend_macd_diff         13\n",
      "5        trend_macd         13\n",
      "6   trend_psar_down         13\n",
      "7         others_dr         13\n",
      "8    volatility_kcw         12\n",
      "9  trend_aroon_down         12\n"
     ]
    }
   ],
   "source": [
    "import pandas as pd\n",
    "\n",
    "cluster_frequencies = []\n",
    "\n",
    "for cluster_number, cluster_indices in clstrsNew.items():\n",
    "    cluster_frequency = {}\n",
    "\n",
    "    for idx in cluster_indices:\n",
    "        trial_features = top_trials[idx].number\n",
    "        trial_params = top_trials[idx].params\n",
    "        for key, value in trial_params.items():\n",
    "            if value == 1:\n",
    "                cluster_frequency[key] = cluster_frequency.get(key, 0) + 1\n",
    "\n",
    "    sorted_frequency = sorted(cluster_frequency.items(), key=lambda x: x[1],  reverse=True)\n",
    "\n",
    "    print(f\"Cluster {cluster_number}:\")\n",
    "    top_features = sorted_frequency[:10]\n",
    "    df = pd.DataFrame(top_features, columns=['Feature', 'Frequency'])\n",
    "    print(df)\n"
   ]
  },
  {
   "cell_type": "code",
   "execution_count": 35,
   "metadata": {},
   "outputs": [
    {
     "name": "stdout",
     "output_type": "stream",
     "text": [
      "Cluster 0: [12, 44, 47, 34, 26, 16, 9, 19, 32, 13, 36, 30, 23, 3, 35, 40, 15, 41, 29, 14, 18, 22, 49, 2, 27, 42, 33, 43]\n",
      "Cluster 1: [48, 45, 10, 46, 24, 38, 25, 20, 37, 5, 28, 17, 11, 8, 39, 31, 21, 6, 4, 0, 7, 1]\n"
     ]
    }
   ],
   "source": [
    "cluster_lists = []\n",
    "\n",
    "# Iterate through each cluster and its members\n",
    "for cluster_number, cluster_indices in clstrsNew.items():\n",
    "    cluster_list = []\n",
    "\n",
    "    # Iterate through each index in the cluster\n",
    "    for idx in cluster_indices:\n",
    "        trial_number = top_trials[idx].number\n",
    "        cluster_list.append(trial_number)\n",
    "\n",
    "    cluster_lists.append(cluster_list)\n",
    "\n",
    "# Print the lists for each cluster\n",
    "for i, cluster_list in enumerate(cluster_lists):\n",
    "    print(f\"Cluster {i}: {cluster_list}\")"
   ]
  },
  {
   "cell_type": "code",
   "execution_count": 36,
   "metadata": {},
   "outputs": [
    {
     "name": "stdout",
     "output_type": "stream",
     "text": [
      "Top 10 features for Cluster 0: ['trend_mass_index', 'trend_psar_down', 'volume_vpt', 'trend_aroon_up', 'trend_macd', 'volatility_bbw', 'trend_adx', 'trend_psar_up', 'trend_psar_down_indicator', 'volume_adi']\n",
      "Top 10 features for Cluster 1: ['volume_obv', 'volume_adi', 'volatility_bbw', 'trend_adx', 'trend_macd_diff', 'trend_macd', 'trend_psar_down', 'others_dr', 'volatility_kcw', 'trend_aroon_down']\n"
     ]
    }
   ],
   "source": [
    "top_10_features_per_cluster = []\n",
    "\n",
    "for cluster_number, cluster_indices in clstrsNew.items():\n",
    "    cluster_frequency = {}\n",
    "\n",
    "    for idx in cluster_indices:\n",
    "        trial_params = top_trials[idx].params\n",
    "        for key, value in trial_params.items():\n",
    "            if value == 1:\n",
    "                cluster_frequency[key] = cluster_frequency.get(key, 0) + 1\n",
    "\n",
    "    sorted_cluster_frequency = sorted(cluster_frequency.items(), key=lambda x: x[1], reverse=True)\n",
    "    top_10_features_cluster = [feature for feature, _ in sorted_cluster_frequency[:10]]\n",
    "    top_10_features_per_cluster.append(top_10_features_cluster)\n",
    "    print(f\"Top 10 features for Cluster {cluster_number}: {top_10_features_cluster}\")"
   ]
  },
  {
   "cell_type": "code",
   "execution_count": 37,
   "metadata": {},
   "outputs": [
    {
     "data": {
      "text/plain": [
       "[['trend_mass_index',\n",
       "  'trend_psar_down',\n",
       "  'volume_vpt',\n",
       "  'trend_aroon_up',\n",
       "  'trend_macd',\n",
       "  'volatility_bbw',\n",
       "  'trend_adx',\n",
       "  'trend_psar_up',\n",
       "  'trend_psar_down_indicator',\n",
       "  'volume_adi'],\n",
       " ['volume_obv',\n",
       "  'volume_adi',\n",
       "  'volatility_bbw',\n",
       "  'trend_adx',\n",
       "  'trend_macd_diff',\n",
       "  'trend_macd',\n",
       "  'trend_psar_down',\n",
       "  'others_dr',\n",
       "  'volatility_kcw',\n",
       "  'trend_aroon_down']]"
      ]
     },
     "execution_count": 37,
     "metadata": {},
     "output_type": "execute_result"
    }
   ],
   "source": [
    "top_10_features_per_cluster"
   ]
  },
  {
   "cell_type": "code",
   "execution_count": 38,
   "metadata": {},
   "outputs": [],
   "source": [
    "top10_feat = pd.DataFrame(top_10_features_per_cluster)"
   ]
  },
  {
   "cell_type": "code",
   "execution_count": 39,
   "metadata": {},
   "outputs": [],
   "source": [
    "selected_columns_cluster = []\n",
    "for item in top_10_features_per_cluster:\n",
    "  selected_columns = new_df_no_close_col.loc[:, item]\n",
    "  selected_columns_cluster.append(selected_columns)"
   ]
  },
  {
   "cell_type": "markdown",
   "metadata": {},
   "source": [
    "# Model selection"
   ]
  },
  {
   "cell_type": "markdown",
   "metadata": {},
   "source": [
    "## Custom Early Stopping"
   ]
  },
  {
   "cell_type": "code",
   "execution_count": 40,
   "metadata": {},
   "outputs": [],
   "source": [
    "from xgboost import callback"
   ]
  },
  {
   "cell_type": "code",
   "execution_count": 41,
   "metadata": {},
   "outputs": [],
   "source": [
    "min_delta = 0.0001\n",
    "patience = 30\n",
    "\n",
    "\n",
    "class CustomEarlyStopping(callback.TrainingCallback):\n",
    "    def __init__(self, min_delta, patience, verbose=False):\n",
    "        super().__init__()\n",
    "        self.min_delta = min_delta\n",
    "        self.patience = patience\n",
    "        self.verbose = verbose\n",
    "        self.best_score = np.inf\n",
    "        self.wait = 0\n",
    "        self.stopped_epoch = 0\n",
    "\n",
    "    def after_iteration(self, model, epoch, evals_log):\n",
    "        if not evals_log:\n",
    "            return False\n",
    "        metric_name = next(iter(evals_log['validation_0']))\n",
    "        score = evals_log['validation_0'][metric_name][-1]\n",
    "        if score < (self.best_score - self.min_delta):\n",
    "            self.best_score = score\n",
    "            self.wait = 0\n",
    "        else:\n",
    "            self.wait += 1\n",
    "            if self.wait >= self.patience:\n",
    "                if self.verbose:\n",
    "                    print(f\"\\nStopping. Best score: {self.best_score}\")\n",
    "                self.stopped_epoch = epoch\n",
    "                return True\n",
    "        return False\n",
    "\n",
    "    def get_best_score(self):\n",
    "        return self.best_score"
   ]
  },
  {
   "cell_type": "markdown",
   "metadata": {},
   "source": [
    "## Hyperparameter Tuning"
   ]
  },
  {
   "cell_type": "code",
   "execution_count": 42,
   "metadata": {},
   "outputs": [],
   "source": [
    "def objective_params(trial, X_train, X_valid, y_train, y_valid, y_close):\n",
    "    # Define the hyperparameter search space\n",
    "    params = {\n",
    "        'max_depth': trial.suggest_int('max_depth', 3, 6),\n",
    "        'learning_rate': trial.suggest_float('learning_rate', 0.01, 0.1),\n",
    "        'n_estimators': 8000,  # does not matter, think of it as max epochs, and we stop the model based on early stopping, so any extremely high number works\n",
    "        'min_child_weight': trial.suggest_int('min_child_weight', 1, 10),  # can't comment, never played with that\n",
    "        'subsample': trial.suggest_float('subsample', 0.5, 1.0),  # you dont want to sample less than 50% of your data\n",
    "        'colsample_bytree': trial.suggest_float('colsample_bytree', 0.3, 1.0),  # you dont want to sample less than 30% of your features pr boosting round\n",
    "        }\n",
    "    trade_threshold  = 0.0005\n",
    "\n",
    "    # Check duplication and skip if it's detected.\n",
    "    for t in trial.study.trials:\n",
    "        if t.state != optuna.trial.TrialState.COMPLETE:\n",
    "            continue\n",
    "\n",
    "    custom_early_stopping_instance = CustomEarlyStopping(min_delta=min_delta, patience=patience, verbose=True)\n",
    "\n",
    "    # Train the model\n",
    "    model = xgb.XGBRegressor(**params)\n",
    "    model.fit(X_train, y_train, callbacks=[custom_early_stopping_instance])\n",
    "\n",
    "    y_pred_train = model.predict(X_train)\n",
    "    y_pred_valid = model.predict(X_valid)\n",
    "\n",
    "\n",
    "    pos, pnl, daily_pnl, sharpe_is = sharpe_for_vn30f(y_pred_train, y_close[:len(y_pred_train)], trade_threshold=trade_threshold, fee_perc=0.01, periods=10)\n",
    "    _, _, _, sharpe_oos = sharpe_for_vn30f(y_pred_valid, y_close[len(y_pred_train):], trade_threshold=trade_threshold, fee_perc=0.01, periods=10)\n",
    "\n",
    "    return sharpe_oos, abs((abs(sharpe_is / sharpe_oos))-1)"
   ]
  },
  {
   "cell_type": "code",
   "execution_count": 43,
   "metadata": {},
   "outputs": [
    {
     "name": "stderr",
     "output_type": "stream",
     "text": [
      "[I 2024-06-07 11:11:32,497] A new study created in memory with name: no-name-5de5345b-ba03-481c-a265-3b76c4063034\n"
     ]
    },
    {
     "name": "stdout",
     "output_type": "stream",
     "text": [
      "A new study created in memory with name: no-name-5de5345b-ba03-481c-a265-3b76c4063034\n"
     ]
    },
    {
     "name": "stderr",
     "output_type": "stream",
     "text": [
      "c:\\Users\\Minh Truc\\AppData\\Local\\Programs\\Python\\Python310\\lib\\site-packages\\xgboost\\sklearn.py:889: UserWarning: `callbacks` in `fit` method is deprecated for better compatibility with scikit-learn, use `callbacks` in constructor or`set_params` instead.\n",
      "  warnings.warn(\n",
      "[I 2024-06-07 11:11:53,559] Trial 0 finished with values: [-0.018607900510570152, 85.80032027632863] and parameters: {'max_depth': 6, 'learning_rate': 0.08186836462202125, 'min_child_weight': 10, 'subsample': 0.9151939183289242, 'colsample_bytree': 0.9498411325060756}. \n"
     ]
    },
    {
     "name": "stdout",
     "output_type": "stream",
     "text": [
      "Trial 0 finished with values: [-0.018607900510570152, 85.80032027632863] and parameters: {'max_depth': 6, 'learning_rate': 0.08186836462202125, 'min_child_weight': 10, 'subsample': 0.9151939183289242, 'colsample_bytree': 0.9498411325060756}. \n"
     ]
    },
    {
     "name": "stderr",
     "output_type": "stream",
     "text": [
      "c:\\Users\\Minh Truc\\AppData\\Local\\Programs\\Python\\Python310\\lib\\site-packages\\xgboost\\sklearn.py:889: UserWarning: `callbacks` in `fit` method is deprecated for better compatibility with scikit-learn, use `callbacks` in constructor or`set_params` instead.\n",
      "  warnings.warn(\n",
      "[I 2024-06-07 11:12:14,329] Trial 1 finished with values: [0.27320158304751435, 5.728045052040048] and parameters: {'max_depth': 5, 'learning_rate': 0.05382615812374369, 'min_child_weight': 7, 'subsample': 0.8132159058205798, 'colsample_bytree': 0.854193515442716}. \n"
     ]
    },
    {
     "name": "stdout",
     "output_type": "stream",
     "text": [
      "Trial 1 finished with values: [0.27320158304751435, 5.728045052040048] and parameters: {'max_depth': 5, 'learning_rate': 0.05382615812374369, 'min_child_weight': 7, 'subsample': 0.8132159058205798, 'colsample_bytree': 0.854193515442716}. \n"
     ]
    },
    {
     "name": "stderr",
     "output_type": "stream",
     "text": [
      "c:\\Users\\Minh Truc\\AppData\\Local\\Programs\\Python\\Python310\\lib\\site-packages\\xgboost\\sklearn.py:889: UserWarning: `callbacks` in `fit` method is deprecated for better compatibility with scikit-learn, use `callbacks` in constructor or`set_params` instead.\n",
      "  warnings.warn(\n",
      "[I 2024-06-07 11:12:53,307] Trial 2 finished with values: [0.1802381972468122, 3.9529209664405878] and parameters: {'max_depth': 3, 'learning_rate': 0.062210860478774097, 'min_child_weight': 5, 'subsample': 0.9131715264855995, 'colsample_bytree': 0.8780666158912476}. \n"
     ]
    },
    {
     "name": "stdout",
     "output_type": "stream",
     "text": [
      "Trial 2 finished with values: [0.1802381972468122, 3.9529209664405878] and parameters: {'max_depth': 3, 'learning_rate': 0.062210860478774097, 'min_child_weight': 5, 'subsample': 0.9131715264855995, 'colsample_bytree': 0.8780666158912476}. \n"
     ]
    },
    {
     "name": "stderr",
     "output_type": "stream",
     "text": [
      "c:\\Users\\Minh Truc\\AppData\\Local\\Programs\\Python\\Python310\\lib\\site-packages\\xgboost\\sklearn.py:889: UserWarning: `callbacks` in `fit` method is deprecated for better compatibility with scikit-learn, use `callbacks` in constructor or`set_params` instead.\n",
      "  warnings.warn(\n",
      "[I 2024-06-07 11:14:01,013] Trial 3 finished with values: [-0.1431675330191009, 15.516478203150722] and parameters: {'max_depth': 6, 'learning_rate': 0.05173708281232271, 'min_child_weight': 10, 'subsample': 0.6480581063282256, 'colsample_bytree': 0.6457038632537391}. \n"
     ]
    },
    {
     "name": "stdout",
     "output_type": "stream",
     "text": [
      "Trial 3 finished with values: [-0.1431675330191009, 15.516478203150722] and parameters: {'max_depth': 6, 'learning_rate': 0.05173708281232271, 'min_child_weight': 10, 'subsample': 0.6480581063282256, 'colsample_bytree': 0.6457038632537391}. \n"
     ]
    },
    {
     "name": "stderr",
     "output_type": "stream",
     "text": [
      "c:\\Users\\Minh Truc\\AppData\\Local\\Programs\\Python\\Python310\\lib\\site-packages\\xgboost\\sklearn.py:889: UserWarning: `callbacks` in `fit` method is deprecated for better compatibility with scikit-learn, use `callbacks` in constructor or`set_params` instead.\n",
      "  warnings.warn(\n",
      "[I 2024-06-07 11:15:09,637] Trial 4 finished with values: [0.0645125922825007, 27.73384332946075] and parameters: {'max_depth': 5, 'learning_rate': 0.025279477400065926, 'min_child_weight': 10, 'subsample': 0.7526930636842063, 'colsample_bytree': 0.7074874130615044}. \n"
     ]
    },
    {
     "name": "stdout",
     "output_type": "stream",
     "text": [
      "Trial 4 finished with values: [0.0645125922825007, 27.73384332946075] and parameters: {'max_depth': 5, 'learning_rate': 0.025279477400065926, 'min_child_weight': 10, 'subsample': 0.7526930636842063, 'colsample_bytree': 0.7074874130615044}. \n"
     ]
    },
    {
     "name": "stderr",
     "output_type": "stream",
     "text": [
      "c:\\Users\\Minh Truc\\AppData\\Local\\Programs\\Python\\Python310\\lib\\site-packages\\xgboost\\sklearn.py:889: UserWarning: `callbacks` in `fit` method is deprecated for better compatibility with scikit-learn, use `callbacks` in constructor or`set_params` instead.\n",
      "  warnings.warn(\n",
      "[I 2024-06-07 11:16:00,257] Trial 5 finished with values: [0.527062770219219, 2.4769802218897903] and parameters: {'max_depth': 3, 'learning_rate': 0.0869838445580584, 'min_child_weight': 5, 'subsample': 0.6784684415126914, 'colsample_bytree': 0.8651921006252217}. \n"
     ]
    },
    {
     "name": "stdout",
     "output_type": "stream",
     "text": [
      "Trial 5 finished with values: [0.527062770219219, 2.4769802218897903] and parameters: {'max_depth': 3, 'learning_rate': 0.0869838445580584, 'min_child_weight': 5, 'subsample': 0.6784684415126914, 'colsample_bytree': 0.8651921006252217}. \n"
     ]
    },
    {
     "name": "stderr",
     "output_type": "stream",
     "text": [
      "c:\\Users\\Minh Truc\\AppData\\Local\\Programs\\Python\\Python310\\lib\\site-packages\\xgboost\\sklearn.py:889: UserWarning: `callbacks` in `fit` method is deprecated for better compatibility with scikit-learn, use `callbacks` in constructor or`set_params` instead.\n",
      "  warnings.warn(\n",
      "[I 2024-06-07 11:16:49,017] Trial 6 finished with values: [-0.18468806591547726, 11.845071057247331] and parameters: {'max_depth': 6, 'learning_rate': 0.04241124837982443, 'min_child_weight': 10, 'subsample': 0.6990756306374485, 'colsample_bytree': 0.932973261819825}. \n"
     ]
    },
    {
     "name": "stdout",
     "output_type": "stream",
     "text": [
      "Trial 6 finished with values: [-0.18468806591547726, 11.845071057247331] and parameters: {'max_depth': 6, 'learning_rate': 0.04241124837982443, 'min_child_weight': 10, 'subsample': 0.6990756306374485, 'colsample_bytree': 0.932973261819825}. \n"
     ]
    },
    {
     "name": "stderr",
     "output_type": "stream",
     "text": [
      "c:\\Users\\Minh Truc\\AppData\\Local\\Programs\\Python\\Python310\\lib\\site-packages\\xgboost\\sklearn.py:889: UserWarning: `callbacks` in `fit` method is deprecated for better compatibility with scikit-learn, use `callbacks` in constructor or`set_params` instead.\n",
      "  warnings.warn(\n",
      "[I 2024-06-07 11:17:59,523] Trial 7 finished with values: [-0.07774954201398333, 32.195747913541084] and parameters: {'max_depth': 6, 'learning_rate': 0.046346627013445024, 'min_child_weight': 6, 'subsample': 0.5285955480053389, 'colsample_bytree': 0.8018354269271402}. \n"
     ]
    },
    {
     "name": "stdout",
     "output_type": "stream",
     "text": [
      "Trial 7 finished with values: [-0.07774954201398333, 32.195747913541084] and parameters: {'max_depth': 6, 'learning_rate': 0.046346627013445024, 'min_child_weight': 6, 'subsample': 0.5285955480053389, 'colsample_bytree': 0.8018354269271402}. \n"
     ]
    },
    {
     "name": "stderr",
     "output_type": "stream",
     "text": [
      "c:\\Users\\Minh Truc\\AppData\\Local\\Programs\\Python\\Python310\\lib\\site-packages\\xgboost\\sklearn.py:889: UserWarning: `callbacks` in `fit` method is deprecated for better compatibility with scikit-learn, use `callbacks` in constructor or`set_params` instead.\n",
      "  warnings.warn(\n",
      "[I 2024-06-07 11:19:08,176] Trial 8 finished with values: [0.3976617350508491, 3.4720790490029003] and parameters: {'max_depth': 3, 'learning_rate': 0.0879960167776032, 'min_child_weight': 9, 'subsample': 0.6928503122918086, 'colsample_bytree': 0.7058810462430094}. \n"
     ]
    },
    {
     "name": "stdout",
     "output_type": "stream",
     "text": [
      "Trial 8 finished with values: [0.3976617350508491, 3.4720790490029003] and parameters: {'max_depth': 3, 'learning_rate': 0.0879960167776032, 'min_child_weight': 9, 'subsample': 0.6928503122918086, 'colsample_bytree': 0.7058810462430094}. \n"
     ]
    },
    {
     "name": "stderr",
     "output_type": "stream",
     "text": [
      "c:\\Users\\Minh Truc\\AppData\\Local\\Programs\\Python\\Python310\\lib\\site-packages\\xgboost\\sklearn.py:889: UserWarning: `callbacks` in `fit` method is deprecated for better compatibility with scikit-learn, use `callbacks` in constructor or`set_params` instead.\n",
      "  warnings.warn(\n",
      "[I 2024-06-07 11:20:18,441] Trial 9 finished with values: [0.006091100461561067, 284.45501568385254] and parameters: {'max_depth': 3, 'learning_rate': 0.0737410988070901, 'min_child_weight': 10, 'subsample': 0.6725194588039081, 'colsample_bytree': 0.780617871523315}. \n"
     ]
    },
    {
     "name": "stdout",
     "output_type": "stream",
     "text": [
      "Trial 9 finished with values: [0.006091100461561067, 284.45501568385254] and parameters: {'max_depth': 3, 'learning_rate': 0.0737410988070901, 'min_child_weight': 10, 'subsample': 0.6725194588039081, 'colsample_bytree': 0.780617871523315}. \n"
     ]
    },
    {
     "name": "stderr",
     "output_type": "stream",
     "text": [
      "[I 2024-06-07 11:20:19,600] A new study created in memory with name: no-name-eb319cd1-bd28-430d-ac34-a3a041bef468\n"
     ]
    },
    {
     "name": "stdout",
     "output_type": "stream",
     "text": [
      "A new study created in memory with name: no-name-eb319cd1-bd28-430d-ac34-a3a041bef468\n"
     ]
    },
    {
     "name": "stderr",
     "output_type": "stream",
     "text": [
      "c:\\Users\\Minh Truc\\AppData\\Local\\Programs\\Python\\Python310\\lib\\site-packages\\xgboost\\sklearn.py:889: UserWarning: `callbacks` in `fit` method is deprecated for better compatibility with scikit-learn, use `callbacks` in constructor or`set_params` instead.\n",
      "  warnings.warn(\n",
      "[I 2024-06-07 11:21:29,869] Trial 0 finished with values: [-0.055716914603989594, 52.637229234472336] and parameters: {'max_depth': 6, 'learning_rate': 0.09208725321939774, 'min_child_weight': 9, 'subsample': 0.5091789690759104, 'colsample_bytree': 0.9302149865835139}. \n"
     ]
    },
    {
     "name": "stdout",
     "output_type": "stream",
     "text": [
      "Trial 0 finished with values: [-0.055716914603989594, 52.637229234472336] and parameters: {'max_depth': 6, 'learning_rate': 0.09208725321939774, 'min_child_weight': 9, 'subsample': 0.5091789690759104, 'colsample_bytree': 0.9302149865835139}. \n"
     ]
    },
    {
     "name": "stderr",
     "output_type": "stream",
     "text": [
      "c:\\Users\\Minh Truc\\AppData\\Local\\Programs\\Python\\Python310\\lib\\site-packages\\xgboost\\sklearn.py:889: UserWarning: `callbacks` in `fit` method is deprecated for better compatibility with scikit-learn, use `callbacks` in constructor or`set_params` instead.\n",
      "  warnings.warn(\n",
      "[I 2024-06-07 11:22:34,089] Trial 1 finished with values: [-0.025474835211108108, 33.1160111778943] and parameters: {'max_depth': 3, 'learning_rate': 0.01420563228889856, 'min_child_weight': 4, 'subsample': 0.9034477468370776, 'colsample_bytree': 0.6000425007816973}. \n"
     ]
    },
    {
     "name": "stdout",
     "output_type": "stream",
     "text": [
      "Trial 1 finished with values: [-0.025474835211108108, 33.1160111778943] and parameters: {'max_depth': 3, 'learning_rate': 0.01420563228889856, 'min_child_weight': 4, 'subsample': 0.9034477468370776, 'colsample_bytree': 0.6000425007816973}. \n"
     ]
    },
    {
     "name": "stderr",
     "output_type": "stream",
     "text": [
      "c:\\Users\\Minh Truc\\AppData\\Local\\Programs\\Python\\Python310\\lib\\site-packages\\xgboost\\sklearn.py:889: UserWarning: `callbacks` in `fit` method is deprecated for better compatibility with scikit-learn, use `callbacks` in constructor or`set_params` instead.\n",
      "  warnings.warn(\n",
      "[I 2024-06-07 11:23:23,996] Trial 2 finished with values: [0.04319698518977215, 43.4360706695827] and parameters: {'max_depth': 4, 'learning_rate': 0.09992324529177736, 'min_child_weight': 5, 'subsample': 0.7467520120212459, 'colsample_bytree': 0.4151331975150745}. \n"
     ]
    },
    {
     "name": "stdout",
     "output_type": "stream",
     "text": [
      "Trial 2 finished with values: [0.04319698518977215, 43.4360706695827] and parameters: {'max_depth': 4, 'learning_rate': 0.09992324529177736, 'min_child_weight': 5, 'subsample': 0.7467520120212459, 'colsample_bytree': 0.4151331975150745}. \n"
     ]
    },
    {
     "name": "stderr",
     "output_type": "stream",
     "text": [
      "c:\\Users\\Minh Truc\\AppData\\Local\\Programs\\Python\\Python310\\lib\\site-packages\\xgboost\\sklearn.py:889: UserWarning: `callbacks` in `fit` method is deprecated for better compatibility with scikit-learn, use `callbacks` in constructor or`set_params` instead.\n",
      "  warnings.warn(\n",
      "[I 2024-06-07 11:24:17,717] Trial 3 finished with values: [0.020328025263271404, 83.10319911774761] and parameters: {'max_depth': 6, 'learning_rate': 0.06649183416306738, 'min_child_weight': 3, 'subsample': 0.8931905912501439, 'colsample_bytree': 0.9155932557084914}. \n"
     ]
    },
    {
     "name": "stdout",
     "output_type": "stream",
     "text": [
      "Trial 3 finished with values: [0.020328025263271404, 83.10319911774761] and parameters: {'max_depth': 6, 'learning_rate': 0.06649183416306738, 'min_child_weight': 3, 'subsample': 0.8931905912501439, 'colsample_bytree': 0.9155932557084914}. \n"
     ]
    },
    {
     "name": "stderr",
     "output_type": "stream",
     "text": [
      "c:\\Users\\Minh Truc\\AppData\\Local\\Programs\\Python\\Python310\\lib\\site-packages\\xgboost\\sklearn.py:889: UserWarning: `callbacks` in `fit` method is deprecated for better compatibility with scikit-learn, use `callbacks` in constructor or`set_params` instead.\n",
      "  warnings.warn(\n",
      "[I 2024-06-07 11:25:18,139] Trial 4 finished with values: [-0.0535282878358269, 14.817561925110349] and parameters: {'max_depth': 3, 'learning_rate': 0.025842067319476913, 'min_child_weight': 6, 'subsample': 0.915579454466933, 'colsample_bytree': 0.6499132792606481}. \n"
     ]
    },
    {
     "name": "stdout",
     "output_type": "stream",
     "text": [
      "Trial 4 finished with values: [-0.0535282878358269, 14.817561925110349] and parameters: {'max_depth': 3, 'learning_rate': 0.025842067319476913, 'min_child_weight': 6, 'subsample': 0.915579454466933, 'colsample_bytree': 0.6499132792606481}. \n"
     ]
    },
    {
     "name": "stderr",
     "output_type": "stream",
     "text": [
      "c:\\Users\\Minh Truc\\AppData\\Local\\Programs\\Python\\Python310\\lib\\site-packages\\xgboost\\sklearn.py:889: UserWarning: `callbacks` in `fit` method is deprecated for better compatibility with scikit-learn, use `callbacks` in constructor or`set_params` instead.\n",
      "  warnings.warn(\n",
      "[I 2024-06-07 11:26:26,867] Trial 5 finished with values: [-0.16194464555178312, 12.895314779138946] and parameters: {'max_depth': 6, 'learning_rate': 0.04344448626974333, 'min_child_weight': 4, 'subsample': 0.6245635796516988, 'colsample_bytree': 0.37407560602630563}. \n"
     ]
    },
    {
     "name": "stdout",
     "output_type": "stream",
     "text": [
      "Trial 5 finished with values: [-0.16194464555178312, 12.895314779138946] and parameters: {'max_depth': 6, 'learning_rate': 0.04344448626974333, 'min_child_weight': 4, 'subsample': 0.6245635796516988, 'colsample_bytree': 0.37407560602630563}. \n"
     ]
    },
    {
     "name": "stderr",
     "output_type": "stream",
     "text": [
      "c:\\Users\\Minh Truc\\AppData\\Local\\Programs\\Python\\Python310\\lib\\site-packages\\xgboost\\sklearn.py:889: UserWarning: `callbacks` in `fit` method is deprecated for better compatibility with scikit-learn, use `callbacks` in constructor or`set_params` instead.\n",
      "  warnings.warn(\n",
      "[I 2024-06-07 11:27:25,642] Trial 6 finished with values: [0.020083740029137723, 58.52827573176882] and parameters: {'max_depth': 4, 'learning_rate': 0.07534154709140907, 'min_child_weight': 10, 'subsample': 0.9337848233422477, 'colsample_bytree': 0.9569738989026764}. \n"
     ]
    },
    {
     "name": "stdout",
     "output_type": "stream",
     "text": [
      "Trial 6 finished with values: [0.020083740029137723, 58.52827573176882] and parameters: {'max_depth': 4, 'learning_rate': 0.07534154709140907, 'min_child_weight': 10, 'subsample': 0.9337848233422477, 'colsample_bytree': 0.9569738989026764}. \n"
     ]
    },
    {
     "name": "stderr",
     "output_type": "stream",
     "text": [
      "c:\\Users\\Minh Truc\\AppData\\Local\\Programs\\Python\\Python310\\lib\\site-packages\\xgboost\\sklearn.py:889: UserWarning: `callbacks` in `fit` method is deprecated for better compatibility with scikit-learn, use `callbacks` in constructor or`set_params` instead.\n",
      "  warnings.warn(\n",
      "[I 2024-06-07 11:28:22,712] Trial 7 finished with values: [-0.3069686947767326, 1.6318481607777726] and parameters: {'max_depth': 3, 'learning_rate': 0.08795385395968261, 'min_child_weight': 6, 'subsample': 0.9082362921163678, 'colsample_bytree': 0.37137202981837947}. \n"
     ]
    },
    {
     "name": "stdout",
     "output_type": "stream",
     "text": [
      "Trial 7 finished with values: [-0.3069686947767326, 1.6318481607777726] and parameters: {'max_depth': 3, 'learning_rate': 0.08795385395968261, 'min_child_weight': 6, 'subsample': 0.9082362921163678, 'colsample_bytree': 0.37137202981837947}. \n"
     ]
    },
    {
     "name": "stderr",
     "output_type": "stream",
     "text": [
      "c:\\Users\\Minh Truc\\AppData\\Local\\Programs\\Python\\Python310\\lib\\site-packages\\xgboost\\sklearn.py:889: UserWarning: `callbacks` in `fit` method is deprecated for better compatibility with scikit-learn, use `callbacks` in constructor or`set_params` instead.\n",
      "  warnings.warn(\n",
      "[I 2024-06-07 11:29:21,918] Trial 8 finished with values: [0.203097729799125, 3.4366195110509983] and parameters: {'max_depth': 3, 'learning_rate': 0.021318363273687857, 'min_child_weight': 1, 'subsample': 0.910139978324172, 'colsample_bytree': 0.8246559106856446}. \n"
     ]
    },
    {
     "name": "stdout",
     "output_type": "stream",
     "text": [
      "Trial 8 finished with values: [0.203097729799125, 3.4366195110509983] and parameters: {'max_depth': 3, 'learning_rate': 0.021318363273687857, 'min_child_weight': 1, 'subsample': 0.910139978324172, 'colsample_bytree': 0.8246559106856446}. \n"
     ]
    },
    {
     "name": "stderr",
     "output_type": "stream",
     "text": [
      "c:\\Users\\Minh Truc\\AppData\\Local\\Programs\\Python\\Python310\\lib\\site-packages\\xgboost\\sklearn.py:889: UserWarning: `callbacks` in `fit` method is deprecated for better compatibility with scikit-learn, use `callbacks` in constructor or`set_params` instead.\n",
      "  warnings.warn(\n",
      "[I 2024-06-07 13:05:35,573] Trial 9 finished with values: [0.23353172720571008, 7.994040923112644] and parameters: {'max_depth': 4, 'learning_rate': 0.049027793795123724, 'min_child_weight': 9, 'subsample': 0.5641982227443123, 'colsample_bytree': 0.5024016021303135}. \n"
     ]
    },
    {
     "name": "stdout",
     "output_type": "stream",
     "text": [
      "Trial 9 finished with values: [0.23353172720571008, 7.994040923112644] and parameters: {'max_depth': 4, 'learning_rate': 0.049027793795123724, 'min_child_weight': 9, 'subsample': 0.5641982227443123, 'colsample_bytree': 0.5024016021303135}. \n"
     ]
    }
   ],
   "source": [
    "best_params_list = []\n",
    "for idx, data_item in enumerate(selected_columns_cluster):\n",
    "    train_cols, _ = split_data(data_item)\n",
    "    optuna_data = scale_data(train_cols)\n",
    "\n",
    "    X_train, X_valid, y_train, y_valid = train_test_split(optuna_data,\n",
    "                                                            train_data['Return'],\n",
    "                                                            test_size=0.5,\n",
    "                                                            shuffle=False)\n",
    "    study = optuna.create_study(directions=['maximize', 'minimize'])\n",
    "\n",
    "    unique_trials = 10\n",
    "    while unique_trials > len(set(str(t.params) for t in study.trials)):\n",
    "        study.optimize(lambda trial: objective_params(trial, X_train, X_valid, y_train, y_valid, train_data['Close']), n_trials=1)\n",
    "\n",
    "    # Retrieve all trials\n",
    "    trials = study.trials\n",
    "\n",
    "    # Sort trials based on objective values\n",
    "    trials.sort(key=lambda trial: trial.values, reverse=True)\n",
    "\n",
    "    # Select top 1 trials\n",
    "    params = trials[0].params\n",
    "    best_params_list.append(params)\n",
    "\n",
    "    model = xgb.XGBRegressor(**params)\n",
    "    model.fit(X_train, y_train)\n",
    "\n",
    "    model.save_model(f'best_in_cluster_{idx}.json')"
   ]
  },
  {
   "cell_type": "code",
   "execution_count": 44,
   "metadata": {},
   "outputs": [],
   "source": [
    "# trials = study.trials\n",
    "# trials.sort(key=lambda trial: trial.values, reverse=True)\n",
    "# study.trials_dataframe().sort_values('values_0', ascending=False)"
   ]
  },
  {
   "cell_type": "markdown",
   "metadata": {},
   "source": [
    "Test on hold_out"
   ]
  },
  {
   "cell_type": "code",
   "execution_count": 45,
   "metadata": {},
   "outputs": [],
   "source": [
    "train_data, hold_out = split_data(data)"
   ]
  },
  {
   "cell_type": "code",
   "execution_count": 46,
   "metadata": {},
   "outputs": [
    {
     "data": {
      "text/plain": [
       "[-0.03968067567380332, 0.08592537956435911]"
      ]
     },
     "execution_count": 46,
     "metadata": {},
     "output_type": "execute_result"
    }
   ],
   "source": [
    "sharpe_list = []\n",
    "trade_threshold  = 0.0005\n",
    "\n",
    "for idx, data_item in enumerate(selected_columns_cluster):\n",
    "\n",
    "    _, hold_out_cols = split_data(data_item)\n",
    "\n",
    "    xbg_reg = xgb.XGBRegressor()\n",
    "    # Create and train model\n",
    "    xbg_reg.load_model(f\"best_in_cluster_{idx}.json\")\n",
    "\n",
    "    # Make predictions\n",
    "    y_hold_out = xbg_reg.predict(hold_out_cols)\n",
    "    pos, pnl, daily, sharpe = sharpe_for_vn30f(y_hold_out, hold_out['Return'], trade_threshold=trade_threshold, fee_perc=0.01, periods=10)\n",
    "\n",
    "    sharpe_list.append(sharpe)\n",
    "\n",
    "sharpe_list"
   ]
  },
  {
   "cell_type": "code",
   "execution_count": 47,
   "metadata": {},
   "outputs": [],
   "source": [
    "def return_result_df(hold_out, y_hold_out, data, train_data, pos, pnl):\n",
    "    result = pd.DataFrame()\n",
    "    result['Close_Holdout'] = hold_out['Close']\n",
    "    result['Ground_value_Holdout'] = hold_out['Return']\n",
    "    result['Predict_diff_Holdout'] = pd.Series(y_hold_out, index=data.index[len(train_data):len(data)])\n",
    "    result['Position_predict_Holdout'] = pd.Series(pos, index=data.index[len(train_data):len(data)])\n",
    "    result['PNL_Holdout'] = pd.Series(pnl)\n",
    "    return result"
   ]
  },
  {
   "cell_type": "code",
   "execution_count": 48,
   "metadata": {},
   "outputs": [
    {
     "name": "stdout",
     "output_type": "stream",
     "text": [
      "Pnl ratio for cluster 0: 215371         NaN\n",
      "215372         NaN\n",
      "215373         NaN\n",
      "215374         NaN\n",
      "215375         NaN\n",
      "            ...   \n",
      "323051   -0.091992\n",
      "323052   -0.091992\n",
      "323053   -0.091992\n",
      "323054   -0.091992\n",
      "323055   -0.091992\n",
      "Length: 107685, dtype: float64\n",
      "Pnl ratio for cluster 1: 215371         NaN\n",
      "215372         NaN\n",
      "215373         NaN\n",
      "215374         NaN\n",
      "215375         NaN\n",
      "            ...   \n",
      "323051    0.304094\n",
      "323052    0.304094\n",
      "323053    0.304094\n",
      "323054    0.304094\n",
      "323055    0.304094\n",
      "Length: 107685, dtype: float64\n"
     ]
    },
    {
     "data": {
      "image/png": "[encoded data removed]",
      "text/plain": [
       "<Figure size 1000x1200 with 2 Axes>"
      ]
     },
     "metadata": {},
     "output_type": "display_data"
    }
   ],
   "source": [
    "pnl_data = []\n",
    "sharpe_list = []\n",
    "result = None\n",
    "trade_threshold  = 0.0005\n",
    "\n",
    "# Create a single figure and set of subplots\n",
    "fig, axes = plt.subplots(len(selected_columns_cluster), figsize=(10, 12))\n",
    "\n",
    "for idx, data_item in enumerate(selected_columns_cluster):\n",
    "    _, hold_out_cols = split_data(data_item)\n",
    "\n",
    "    # Create and train model\n",
    "    model.load_model(f\"best_in_cluster_{idx}.json\")\n",
    "\n",
    "    # Make predictions\n",
    "    y_hold_out = model.predict(hold_out_cols)\n",
    "    pos, pnl, daily, sharpe = sharpe_for_vn30f(y_hold_out, hold_out['Return'], trade_threshold=trade_threshold, fee_perc=0.01, periods=10)\n",
    "\n",
    "    print(f\"Pnl ratio for cluster {idx}: {pnl}\")\n",
    "    # Append PnL data to the list\n",
    "    pnl_data.append(pnl)\n",
    "    result = return_result_df(hold_out, y_hold_out, data, train_data, pos, pnl)\n",
    "    sharpe_list.append(sharpe)\n",
    "\n",
    "    # Plot PnL for each cluster\n",
    "    if len(selected_columns_cluster) == 1:\n",
    "        ax = axes\n",
    "    else:\n",
    "        ax = axes[idx]\n",
    "\n",
    "    ax.plot(pnl, label=f'Cluster {idx}')\n",
    "    ax.set_title(f'PnL for Cluster {idx}')\n",
    "    ax.set_xlabel('Date')\n",
    "    ax.set_ylabel('PnL')\n",
    "    ax.legend()\n",
    "    ax.grid(True)\n",
    "\n",
    "# Adjust layout\n",
    "plt.tight_layout()\n",
    "plt.show()"
   ]
  },
  {
   "cell_type": "code",
   "execution_count": 49,
   "metadata": {},
   "outputs": [
    {
     "name": "stdout",
     "output_type": "stream",
     "text": [
      "['trend_mass_index trend_psar_down volume_vpt trend_aroon_up trend_macd volatility_bbw trend_adx trend_psar_up trend_psar_down_indicator volume_adi', 'volume_obv volume_adi volatility_bbw trend_adx trend_macd_diff trend_macd trend_psar_down others_dr volatility_kcw trend_aroon_down']\n"
     ]
    }
   ],
   "source": [
    "#Top 10 feature into list\n",
    "feature=[]\n",
    "for i in top_10_features_per_cluster:\n",
    "    listToStr = ' '.join([str(elem) for elem in i])\n",
    "    feature.append(listToStr)\n",
    "print(feature)"
   ]
  },
  {
   "cell_type": "code",
   "execution_count": 50,
   "metadata": {},
   "outputs": [],
   "source": [
    "name=[]\n",
    "for i in range(len(selected_columns_cluster)):\n",
    "  name.append( 'Cluster '+ str(i))"
   ]
  },
  {
   "cell_type": "code",
   "execution_count": 51,
   "metadata": {},
   "outputs": [
    {
     "data": {
      "text/html": [
       "<div>\n",
       "<style scoped>\n",
       "    .dataframe tbody tr th:only-of-type {\n",
       "        vertical-align: middle;\n",
       "    }\n",
       "\n",
       "    .dataframe tbody tr th {\n",
       "        vertical-align: top;\n",
       "    }\n",
       "\n",
       "    .dataframe thead th {\n",
       "        text-align: right;\n",
       "    }\n",
       "</style>\n",
       "<table border=\"1\" class=\"dataframe\">\n",
       "  <thead>\n",
       "    <tr style=\"text-align: right;\">\n",
       "      <th></th>\n",
       "      <th>Top 10 Feature</th>\n",
       "      <th>Best params</th>\n",
       "      <th>Best sharpe</th>\n",
       "    </tr>\n",
       "  </thead>\n",
       "  <tbody>\n",
       "    <tr>\n",
       "      <th>Cluster 0</th>\n",
       "      <td>trend_mass_index trend_psar_down volume_vpt tr...</td>\n",
       "      <td>{'max_depth': 3, 'learning_rate': 0.0869838445...</td>\n",
       "      <td>-0.039681</td>\n",
       "    </tr>\n",
       "    <tr>\n",
       "      <th>Cluster 1</th>\n",
       "      <td>volume_obv volume_adi volatility_bbw trend_adx...</td>\n",
       "      <td>{'max_depth': 4, 'learning_rate': 0.0490277937...</td>\n",
       "      <td>0.085925</td>\n",
       "    </tr>\n",
       "  </tbody>\n",
       "</table>\n",
       "</div>"
      ],
      "text/plain": [
       "                                              Top 10 Feature  \\\n",
       "Cluster 0  trend_mass_index trend_psar_down volume_vpt tr...   \n",
       "Cluster 1  volume_obv volume_adi volatility_bbw trend_adx...   \n",
       "\n",
       "                                                 Best params  Best sharpe  \n",
       "Cluster 0  {'max_depth': 3, 'learning_rate': 0.0869838445...    -0.039681  \n",
       "Cluster 1  {'max_depth': 4, 'learning_rate': 0.0490277937...     0.085925  "
      ]
     },
     "execution_count": 51,
     "metadata": {},
     "output_type": "execute_result"
    }
   ],
   "source": [
    "dict = {'Top 10 Feature' : feature, 'Best params': best_params_list, 'Best sharpe':sharpe_list}\n",
    "df_result = pd.DataFrame(dict, index=name)\n",
    "df_result"
   ]
  },
  {
   "cell_type": "code",
   "execution_count": 52,
   "metadata": {},
   "outputs": [
    {
     "data": {
      "text/html": [
       "<div>\n",
       "<style scoped>\n",
       "    .dataframe tbody tr th:only-of-type {\n",
       "        vertical-align: middle;\n",
       "    }\n",
       "\n",
       "    .dataframe tbody tr th {\n",
       "        vertical-align: top;\n",
       "    }\n",
       "\n",
       "    .dataframe thead th {\n",
       "        text-align: right;\n",
       "    }\n",
       "</style>\n",
       "<table border=\"1\" class=\"dataframe\">\n",
       "  <thead>\n",
       "    <tr style=\"text-align: right;\">\n",
       "      <th></th>\n",
       "      <th>Cluster 0</th>\n",
       "      <th>Cluster 1</th>\n",
       "    </tr>\n",
       "  </thead>\n",
       "  <tbody>\n",
       "    <tr>\n",
       "      <th>215371</th>\n",
       "      <td>NaN</td>\n",
       "      <td>NaN</td>\n",
       "    </tr>\n",
       "    <tr>\n",
       "      <th>215372</th>\n",
       "      <td>NaN</td>\n",
       "      <td>NaN</td>\n",
       "    </tr>\n",
       "    <tr>\n",
       "      <th>215373</th>\n",
       "      <td>NaN</td>\n",
       "      <td>NaN</td>\n",
       "    </tr>\n",
       "    <tr>\n",
       "      <th>215374</th>\n",
       "      <td>NaN</td>\n",
       "      <td>NaN</td>\n",
       "    </tr>\n",
       "    <tr>\n",
       "      <th>215375</th>\n",
       "      <td>NaN</td>\n",
       "      <td>NaN</td>\n",
       "    </tr>\n",
       "    <tr>\n",
       "      <th>...</th>\n",
       "      <td>...</td>\n",
       "      <td>...</td>\n",
       "    </tr>\n",
       "    <tr>\n",
       "      <th>323051</th>\n",
       "      <td>-0.091992</td>\n",
       "      <td>0.304094</td>\n",
       "    </tr>\n",
       "    <tr>\n",
       "      <th>323052</th>\n",
       "      <td>-0.091992</td>\n",
       "      <td>0.304094</td>\n",
       "    </tr>\n",
       "    <tr>\n",
       "      <th>323053</th>\n",
       "      <td>-0.091992</td>\n",
       "      <td>0.304094</td>\n",
       "    </tr>\n",
       "    <tr>\n",
       "      <th>323054</th>\n",
       "      <td>-0.091992</td>\n",
       "      <td>0.304094</td>\n",
       "    </tr>\n",
       "    <tr>\n",
       "      <th>323055</th>\n",
       "      <td>-0.091992</td>\n",
       "      <td>0.304094</td>\n",
       "    </tr>\n",
       "  </tbody>\n",
       "</table>\n",
       "<p>107685 rows × 2 columns</p>\n",
       "</div>"
      ],
      "text/plain": [
       "        Cluster 0  Cluster 1\n",
       "215371        NaN        NaN\n",
       "215372        NaN        NaN\n",
       "215373        NaN        NaN\n",
       "215374        NaN        NaN\n",
       "215375        NaN        NaN\n",
       "...           ...        ...\n",
       "323051  -0.091992   0.304094\n",
       "323052  -0.091992   0.304094\n",
       "323053  -0.091992   0.304094\n",
       "323054  -0.091992   0.304094\n",
       "323055  -0.091992   0.304094\n",
       "\n",
       "[107685 rows x 2 columns]"
      ]
     },
     "execution_count": 52,
     "metadata": {},
     "output_type": "execute_result"
    }
   ],
   "source": [
    "#DataFrame of Pnl hold out\n",
    "df_pnl = pd.DataFrame()\n",
    "for i in range(len(selected_columns_cluster)):\n",
    "  df_pnl[name[i]]=pnl_data[i]\n",
    "df_pnl"
   ]
  },
  {
   "cell_type": "code",
   "execution_count": null,
   "metadata": {},
   "outputs": [],
   "source": []
  }
 ],
 "metadata": {
  "kernelspec": {
   "display_name": "Python 3",
   "language": "python",
   "name": "python3"
  },
  "language_info": {
   "codemirror_mode": {
    "name": "ipython",
    "version": 3
   },
   "file_extension": ".py",
   "mimetype": "text/x-python",
   "name": "python",
   "nbconvert_exporter": "python",
   "pygments_lexer": "ipython3",
   "version": "3.10.1"
  }
 },
 "nbformat": 4,
 "nbformat_minor": 2
}
