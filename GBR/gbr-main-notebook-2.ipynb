{
 "cells": [
  {
   "cell_type": "markdown",
   "id": "9c8c1bf6",
   "metadata": {
    "id": "EhK1f5uMqm_4",
    "papermill": {
     "duration": 0.023814,
     "end_time": "2024-07-02T06:40:48.194684",
     "exception": false,
     "start_time": "2024-07-02T06:40:48.170870",
     "status": "completed"
    },
    "tags": []
   },
   "source": [
    "## Install dependencies"
   ]
  },
  {
   "cell_type": "code",
   "execution_count": 1,
   "id": "fb0ab545",
   "metadata": {
    "execution": {
     "iopub.execute_input": "2024-07-02T06:40:48.241027Z",
     "iopub.status.busy": "2024-07-02T06:40:48.240611Z",
     "iopub.status.idle": "2024-07-02T06:41:08.594287Z",
     "shell.execute_reply": "2024-07-02T06:41:08.593100Z"
    },
    "id": "9y1X1vpKq88O",
    "outputId": "e50c0458-a807-49bc-d7f2-cf5088bba55d",
    "papermill": {
     "duration": 20.380432,
     "end_time": "2024-07-02T06:41:08.597207",
     "exception": false,
     "start_time": "2024-07-02T06:40:48.216775",
     "status": "completed"
    },
    "tags": []
   },
   "outputs": [
    {
     "name": "stdout",
     "output_type": "stream",
     "text": [
      "Requirement already satisfied: optuna in /opt/conda/lib/python3.10/site-packages (3.6.1)\r\n",
      "Requirement already satisfied: joblib in /opt/conda/lib/python3.10/site-packages (1.4.2)\r\n",
      "Requirement already satisfied: xgboost in /opt/conda/lib/python3.10/site-packages (2.0.3)\r\n",
      "Collecting ta\r\n",
      "  Downloading ta-0.11.0.tar.gz (25 kB)\r\n",
      "  Preparing metadata (setup.py) ... \u001b[?25l-\b \bdone\r\n",
      "\u001b[?25hCollecting vnstock\r\n",
      "  Downloading vnstock-0.2.9.0-py3-none-any.whl.metadata (7.9 kB)\r\n",
      "Requirement already satisfied: alembic>=1.5.0 in /opt/conda/lib/python3.10/site-packages (from optuna) (1.13.1)\r\n",
      "Requirement already satisfied: colorlog in /opt/conda/lib/python3.10/site-packages (from optuna) (6.8.2)\r\n",
      "Requirement already satisfied: numpy in /opt/conda/lib/python3.10/site-packages (from optuna) (1.26.4)\r\n",
      "Requirement already satisfied: packaging>=20.0 in /opt/conda/lib/python3.10/site-packages (from optuna) (21.3)\r\n",
      "Requirement already satisfied: sqlalchemy>=1.3.0 in /opt/conda/lib/python3.10/site-packages (from optuna) (2.0.25)\r\n",
      "Requirement already satisfied: tqdm in /opt/conda/lib/python3.10/site-packages (from optuna) (4.66.4)\r\n",
      "Requirement already satisfied: PyYAML in /opt/conda/lib/python3.10/site-packages (from optuna) (6.0.1)\r\n",
      "Requirement already satisfied: scipy in /opt/conda/lib/python3.10/site-packages (from xgboost) (1.11.4)\r\n",
      "Requirement already satisfied: pandas in /opt/conda/lib/python3.10/site-packages (from ta) (2.2.2)\r\n",
      "Requirement already satisfied: Mako in /opt/conda/lib/python3.10/site-packages (from alembic>=1.5.0->optuna) (1.3.5)\r\n",
      "Requirement already satisfied: typing-extensions>=4 in /opt/conda/lib/python3.10/site-packages (from alembic>=1.5.0->optuna) (4.9.0)\r\n",
      "Requirement already satisfied: pyparsing!=3.0.5,>=2.0.2 in /opt/conda/lib/python3.10/site-packages (from packaging>=20.0->optuna) (3.1.1)\r\n",
      "Requirement already satisfied: greenlet!=0.4.17 in /opt/conda/lib/python3.10/site-packages (from sqlalchemy>=1.3.0->optuna) (3.0.3)\r\n",
      "Requirement already satisfied: python-dateutil>=2.8.2 in /opt/conda/lib/python3.10/site-packages (from pandas->ta) (2.9.0.post0)\r\n",
      "Requirement already satisfied: pytz>=2020.1 in /opt/conda/lib/python3.10/site-packages (from pandas->ta) (2023.3.post1)\r\n",
      "Requirement already satisfied: tzdata>=2022.7 in /opt/conda/lib/python3.10/site-packages (from pandas->ta) (2023.4)\r\n",
      "Requirement already satisfied: six>=1.5 in /opt/conda/lib/python3.10/site-packages (from python-dateutil>=2.8.2->pandas->ta) (1.16.0)\r\n",
      "Requirement already satisfied: MarkupSafe>=0.9.2 in /opt/conda/lib/python3.10/site-packages (from Mako->alembic>=1.5.0->optuna) (2.1.3)\r\n",
      "Downloading vnstock-0.2.9.0-py3-none-any.whl (37 kB)\r\n",
      "Building wheels for collected packages: ta\r\n",
      "  Building wheel for ta (setup.py) ... \u001b[?25l-\b \b\\\b \bdone\r\n",
      "\u001b[?25h  Created wheel for ta: filename=ta-0.11.0-py3-none-any.whl size=29413 sha256=486c9d3f89118b441dc885bf7da5c878c25269ffa235ead33bb7ceeca1e866ca\r\n",
      "  Stored in directory: /root/.cache/pip/wheels/5f/67/4f/8a9f252836e053e532c6587a3230bc72a4deb16b03a829610b\r\n",
      "Successfully built ta\r\n",
      "Installing collected packages: vnstock, ta\r\n",
      "Successfully installed ta-0.11.0 vnstock-0.2.9.0\r\n"
     ]
    }
   ],
   "source": [
    "!pip install optuna joblib xgboost ta vnstock"
   ]
  },
  {
   "cell_type": "code",
   "execution_count": 2,
   "id": "8ca5bb0b",
   "metadata": {
    "execution": {
     "iopub.execute_input": "2024-07-02T06:41:08.648486Z",
     "iopub.status.busy": "2024-07-02T06:41:08.647395Z",
     "iopub.status.idle": "2024-07-02T06:41:26.905820Z",
     "shell.execute_reply": "2024-07-02T06:41:26.904340Z"
    },
    "id": "gpQcYaNLXb4K",
    "outputId": "206fd270-f538-445e-cc3a-d05a2d9136c3",
    "papermill": {
     "duration": 18.28779,
     "end_time": "2024-07-02T06:41:26.908652",
     "exception": false,
     "start_time": "2024-07-02T06:41:08.620862",
     "status": "completed"
    },
    "tags": []
   },
   "outputs": [
    {
     "name": "stdout",
     "output_type": "stream",
     "text": [
      "Collecting pandas-ta\r\n",
      "  Downloading pandas_ta-0.3.14b.tar.gz (115 kB)\r\n",
      "\u001b[2K     \u001b[90m━━━━━━━━━━━━━━━━━━━━━━━━━━━━━━━━━━━━━━━\u001b[0m \u001b[32m115.1/115.1 kB\u001b[0m \u001b[31m2.4 MB/s\u001b[0m eta \u001b[36m0:00:00\u001b[0m\r\n",
      "\u001b[?25h  Preparing metadata (setup.py) ... \u001b[?25l-\b \b\\\b \bdone\r\n",
      "\u001b[?25hRequirement already satisfied: pandas in /opt/conda/lib/python3.10/site-packages (from pandas-ta) (2.2.2)\r\n",
      "Requirement already satisfied: numpy>=1.22.4 in /opt/conda/lib/python3.10/site-packages (from pandas->pandas-ta) (1.26.4)\r\n",
      "Requirement already satisfied: python-dateutil>=2.8.2 in /opt/conda/lib/python3.10/site-packages (from pandas->pandas-ta) (2.9.0.post0)\r\n",
      "Requirement already satisfied: pytz>=2020.1 in /opt/conda/lib/python3.10/site-packages (from pandas->pandas-ta) (2023.3.post1)\r\n",
      "Requirement already satisfied: tzdata>=2022.7 in /opt/conda/lib/python3.10/site-packages (from pandas->pandas-ta) (2023.4)\r\n",
      "Requirement already satisfied: six>=1.5 in /opt/conda/lib/python3.10/site-packages (from python-dateutil>=2.8.2->pandas->pandas-ta) (1.16.0)\r\n",
      "Building wheels for collected packages: pandas-ta\r\n",
      "  Building wheel for pandas-ta (setup.py) ... \u001b[?25l-\b \b\\\b \b|\b \bdone\r\n",
      "\u001b[?25h  Created wheel for pandas-ta: filename=pandas_ta-0.3.14b0-py3-none-any.whl size=218910 sha256=8157b834e7c30c73a0e44f276a761104bbf34b9a6c331b182b9d22cf5df0a781\r\n",
      "  Stored in directory: /root/.cache/pip/wheels/69/00/ac/f7fa862c34b0e2ef320175100c233377b4c558944f12474cf0\r\n",
      "Successfully built pandas-ta\r\n",
      "Installing collected packages: pandas-ta\r\n",
      "Successfully installed pandas-ta-0.3.14b0\r\n"
     ]
    }
   ],
   "source": [
    "!pip install --upgrade pandas-ta"
   ]
  },
  {
   "cell_type": "code",
   "execution_count": 3,
   "id": "12cafaca",
   "metadata": {
    "execution": {
     "iopub.execute_input": "2024-07-02T06:41:26.961277Z",
     "iopub.status.busy": "2024-07-02T06:41:26.960803Z",
     "iopub.status.idle": "2024-07-02T06:41:29.699059Z",
     "shell.execute_reply": "2024-07-02T06:41:29.697739Z"
    },
    "id": "-6lzb3uQqm_5",
    "papermill": {
     "duration": 2.767889,
     "end_time": "2024-07-02T06:41:29.701814",
     "exception": false,
     "start_time": "2024-07-02T06:41:26.933925",
     "status": "completed"
    },
    "tags": []
   },
   "outputs": [],
   "source": [
    "from datetime import datetime, timedelta, timezone\n",
    "import pandas as pd\n",
    "import numpy as np\n",
    "import requests\n",
    "import os\n",
    "import logging\n",
    "import sys\n",
    "import optuna\n",
    "import joblib\n",
    "import xgboost as xgb"
   ]
  },
  {
   "cell_type": "code",
   "execution_count": 4,
   "id": "4ec1bf03",
   "metadata": {
    "execution": {
     "iopub.execute_input": "2024-07-02T06:41:29.754025Z",
     "iopub.status.busy": "2024-07-02T06:41:29.753005Z",
     "iopub.status.idle": "2024-07-02T06:41:30.403714Z",
     "shell.execute_reply": "2024-07-02T06:41:30.402674Z"
    },
    "id": "BOUmyN92qm_6",
    "papermill": {
     "duration": 0.67981,
     "end_time": "2024-07-02T06:41:30.406607",
     "exception": false,
     "start_time": "2024-07-02T06:41:29.726797",
     "status": "completed"
    },
    "tags": []
   },
   "outputs": [],
   "source": [
    "from sklearn.model_selection import train_test_split\n",
    "from sklearn.preprocessing import StandardScaler\n",
    "from datetime import datetime, timedelta\n",
    "from ta import add_all_ta_features\n",
    "import pandas_ta as ta\n",
    "from sklearn.ensemble import GradientBoostingRegressor"
   ]
  },
  {
   "cell_type": "code",
   "execution_count": 5,
   "id": "fa55dc84",
   "metadata": {
    "execution": {
     "iopub.execute_input": "2024-07-02T06:41:30.458881Z",
     "iopub.status.busy": "2024-07-02T06:41:30.458395Z",
     "iopub.status.idle": "2024-07-02T06:41:30.464100Z",
     "shell.execute_reply": "2024-07-02T06:41:30.462898Z"
    },
    "id": "8WDgqNpBqm_7",
    "papermill": {
     "duration": 0.034928,
     "end_time": "2024-07-02T06:41:30.466643",
     "exception": false,
     "start_time": "2024-07-02T06:41:30.431715",
     "status": "completed"
    },
    "tags": []
   },
   "outputs": [],
   "source": [
    "import matplotlib.pyplot as plt\n",
    "import matplotlib"
   ]
  },
  {
   "cell_type": "markdown",
   "id": "60f67a38",
   "metadata": {
    "id": "1AoNRGHXqm_7",
    "papermill": {
     "duration": 0.025275,
     "end_time": "2024-07-02T06:41:30.517346",
     "exception": false,
     "start_time": "2024-07-02T06:41:30.492071",
     "status": "completed"
    },
    "tags": []
   },
   "source": [
    "## Variables"
   ]
  },
  {
   "cell_type": "code",
   "execution_count": 6,
   "id": "feb4cc65",
   "metadata": {
    "execution": {
     "iopub.execute_input": "2024-07-02T06:41:30.569517Z",
     "iopub.status.busy": "2024-07-02T06:41:30.569086Z",
     "iopub.status.idle": "2024-07-02T06:41:30.574771Z",
     "shell.execute_reply": "2024-07-02T06:41:30.573673Z"
    },
    "id": "U_IayMGGqm_7",
    "papermill": {
     "duration": 0.034374,
     "end_time": "2024-07-02T06:41:30.577140",
     "exception": false,
     "start_time": "2024-07-02T06:41:30.542766",
     "status": "completed"
    },
    "tags": []
   },
   "outputs": [],
   "source": [
    "current_storage = os.path.join(\"d:\", \"data\")\n",
    "vn30f_storage = os.path.join(current_storage, 'vn30f')"
   ]
  },
  {
   "cell_type": "code",
   "execution_count": 7,
   "id": "25afbcc9",
   "metadata": {
    "execution": {
     "iopub.execute_input": "2024-07-02T06:41:30.628840Z",
     "iopub.status.busy": "2024-07-02T06:41:30.628398Z",
     "iopub.status.idle": "2024-07-02T06:41:30.633867Z",
     "shell.execute_reply": "2024-07-02T06:41:30.632745Z"
    },
    "id": "xEfE2-HKqm_7",
    "papermill": {
     "duration": 0.034013,
     "end_time": "2024-07-02T06:41:30.636171",
     "exception": false,
     "start_time": "2024-07-02T06:41:30.602158",
     "status": "completed"
    },
    "tags": []
   },
   "outputs": [],
   "source": [
    "start_time = 0\n",
    "now_time = 9999999999\n",
    "symbol = 'VN30F1M'\n",
    "rolling_window = 1 # Số phút muốn dự đoán tiếp theo"
   ]
  },
  {
   "cell_type": "code",
   "execution_count": 8,
   "id": "7bd799b3",
   "metadata": {
    "execution": {
     "iopub.execute_input": "2024-07-02T06:41:30.688775Z",
     "iopub.status.busy": "2024-07-02T06:41:30.688388Z",
     "iopub.status.idle": "2024-07-02T06:41:30.694359Z",
     "shell.execute_reply": "2024-07-02T06:41:30.693174Z"
    },
    "id": "RpHTaKY6qm_9",
    "papermill": {
     "duration": 0.035446,
     "end_time": "2024-07-02T06:41:30.696773",
     "exception": false,
     "start_time": "2024-07-02T06:41:30.661327",
     "status": "completed"
    },
    "tags": []
   },
   "outputs": [],
   "source": [
    "# Add stream handler of stdout to show the messages\n",
    "optuna.logging.get_logger(\"optuna\").addHandler(logging.StreamHandler(sys.stdout))\n",
    "study_name = \"btc1-study\"  # Unique identifier of the study.\n",
    "storage_name = \"sqlite:///{}.db\".format(study_name)"
   ]
  },
  {
   "cell_type": "markdown",
   "id": "9d52840d",
   "metadata": {
    "id": "cWnAMLgxqm_9",
    "papermill": {
     "duration": 0.024664,
     "end_time": "2024-07-02T06:41:30.746465",
     "exception": false,
     "start_time": "2024-07-02T06:41:30.721801",
     "status": "completed"
    },
    "tags": []
   },
   "source": [
    "## Formulas"
   ]
  },
  {
   "cell_type": "code",
   "execution_count": 9,
   "id": "44721543",
   "metadata": {
    "execution": {
     "iopub.execute_input": "2024-07-02T06:41:30.798483Z",
     "iopub.status.busy": "2024-07-02T06:41:30.797938Z",
     "iopub.status.idle": "2024-07-02T06:41:30.804256Z",
     "shell.execute_reply": "2024-07-02T06:41:30.803175Z"
    },
    "id": "nkBSamYkqm_9",
    "papermill": {
     "duration": 0.035166,
     "end_time": "2024-07-02T06:41:30.806660",
     "exception": false,
     "start_time": "2024-07-02T06:41:30.771494",
     "status": "completed"
    },
    "tags": []
   },
   "outputs": [],
   "source": [
    "def choose_position(roi, trade_threshold = 0.0005):\n",
    "    pos =0\n",
    "    # Predict position base on change in future\n",
    "    if roi > trade_threshold:\n",
    "        pos = 1\n",
    "    elif roi < -trade_threshold:\n",
    "        pos = -1\n",
    "    else:\n",
    "        pos = 0\n",
    "\n",
    "    return pos"
   ]
  },
  {
   "cell_type": "code",
   "execution_count": 10,
   "id": "8078a88c",
   "metadata": {
    "execution": {
     "iopub.execute_input": "2024-07-02T06:41:30.858464Z",
     "iopub.status.busy": "2024-07-02T06:41:30.858042Z",
     "iopub.status.idle": "2024-07-02T06:41:30.865811Z",
     "shell.execute_reply": "2024-07-02T06:41:30.864753Z"
    },
    "id": "DvQTvE_-qm_-",
    "papermill": {
     "duration": 0.036352,
     "end_time": "2024-07-02T06:41:30.868067",
     "exception": false,
     "start_time": "2024-07-02T06:41:30.831715",
     "status": "completed"
    },
    "tags": []
   },
   "outputs": [],
   "source": [
    "def backtest_position_ps(position, price, percentage, periods):\n",
    "    # Shift positions to align with future price changes and handle NaN by filling with 0\n",
    "    pos = pd.Series(position, index=pd.Series(price).index).shift(1).fillna(0)\n",
    "    pos = pd.Series(pos).rolling(periods).sum() #pos for 10 hour predict\n",
    "\n",
    "    price_array = pd.Series(price).shift(1).fillna(0)\n",
    "\n",
    "    pos_diff = pos.diff()\n",
    "    fee = pos_diff*price_array*0.05*0.01\n",
    "\n",
    "    # Calculate price changes over the given periods\n",
    "    ch = pd.Series(price) - price_array\n",
    "\n",
    "    # Calculate total PnL\n",
    "    total_pnl = pos*ch - fee\n",
    "    return total_pnl"
   ]
  },
  {
   "cell_type": "code",
   "execution_count": 11,
   "id": "b6573b79",
   "metadata": {
    "execution": {
     "iopub.execute_input": "2024-07-02T06:41:30.919939Z",
     "iopub.status.busy": "2024-07-02T06:41:30.919516Z",
     "iopub.status.idle": "2024-07-02T06:41:30.925583Z",
     "shell.execute_reply": "2024-07-02T06:41:30.924511Z"
    },
    "id": "KBSYVj2Eqm_-",
    "papermill": {
     "duration": 0.034809,
     "end_time": "2024-07-02T06:41:30.927974",
     "exception": false,
     "start_time": "2024-07-02T06:41:30.893165",
     "status": "completed"
    },
    "tags": []
   },
   "outputs": [],
   "source": [
    "def calculate_sharpe_ratio(pnl):\n",
    "    pnl = np.diff(pnl)\n",
    "    std = np.std(pnl) if np.std(pnl) != 0 else 0.001\n",
    "    sharpe = np.mean(pnl)/std*np.sqrt(252)\n",
    "    return sharpe"
   ]
  },
  {
   "cell_type": "code",
   "execution_count": 12,
   "id": "43e0c7be",
   "metadata": {
    "execution": {
     "iopub.execute_input": "2024-07-02T06:41:30.980105Z",
     "iopub.status.busy": "2024-07-02T06:41:30.979695Z",
     "iopub.status.idle": "2024-07-02T06:41:30.987502Z",
     "shell.execute_reply": "2024-07-02T06:41:30.986456Z"
    },
    "id": "R6Wk1h4Bqm_-",
    "papermill": {
     "duration": 0.036774,
     "end_time": "2024-07-02T06:41:30.989813",
     "exception": false,
     "start_time": "2024-07-02T06:41:30.953039",
     "status": "completed"
    },
    "tags": []
   },
   "outputs": [],
   "source": [
    "def sharpe_for_vn30f(y_pred, y_price, trade_threshold, fee_perc, periods):\n",
    "\n",
    "    # Predict position base on change in future\n",
    "    pos = [choose_position(roi, trade_threshold) for roi in y_pred]\n",
    "    pos = np.array(pos)\n",
    "\n",
    "    # Calculate PNL\n",
    "    pnl = backtest_position_ps(pos, y_price, fee_perc, periods)\n",
    "    pnl = np.cumsum(pnl)\n",
    "\n",
    "    # Standardalize PNL to date\n",
    "    daily_pnl = [pnl.iloc[i] for i in range(0, len(pnl), 241)]\n",
    "    daily_pnl = pd.Series(daily_pnl).fillna(0)\n",
    "\n",
    "    # Calculate Sharpe\n",
    "    sharpe = calculate_sharpe_ratio(daily_pnl)\n",
    "\n",
    "    return pos, pnl, daily_pnl, sharpe"
   ]
  },
  {
   "cell_type": "code",
   "execution_count": 13,
   "id": "0b45f488",
   "metadata": {
    "execution": {
     "iopub.execute_input": "2024-07-02T06:41:31.042644Z",
     "iopub.status.busy": "2024-07-02T06:41:31.041617Z",
     "iopub.status.idle": "2024-07-02T06:41:31.048670Z",
     "shell.execute_reply": "2024-07-02T06:41:31.047364Z"
    },
    "id": "tFGU3CMsqm__",
    "papermill": {
     "duration": 0.036067,
     "end_time": "2024-07-02T06:41:31.051065",
     "exception": false,
     "start_time": "2024-07-02T06:41:31.014998",
     "status": "completed"
    },
    "tags": []
   },
   "outputs": [],
   "source": [
    "def calculate_hitrate(pos_predict, pos_true):\n",
    "    if len(pos_predict) != len(pos_true):\n",
    "        raise ValueError(\"Độ dài của hai mảng không khớp\")\n",
    "\n",
    "    # Tính số lượng dự đoán đúng (các phần tử tương ứng giống nhau)\n",
    "    correct_predictions = np.sum(pos_predict == pos_true)\n",
    "\n",
    "    # Tính tỷ lệ hit rate\n",
    "    hit_rate_value = correct_predictions / len(pos_predict)\n",
    "\n",
    "    return hit_rate_value"
   ]
  },
  {
   "cell_type": "markdown",
   "id": "534753f8",
   "metadata": {
    "id": "fmDF4G5hqm__",
    "papermill": {
     "duration": 0.025913,
     "end_time": "2024-07-02T06:41:31.102915",
     "exception": false,
     "start_time": "2024-07-02T06:41:31.077002",
     "status": "completed"
    },
    "tags": []
   },
   "source": [
    "# Function for data"
   ]
  },
  {
   "cell_type": "code",
   "execution_count": 14,
   "id": "107a4c75",
   "metadata": {
    "execution": {
     "iopub.execute_input": "2024-07-02T06:41:31.156339Z",
     "iopub.status.busy": "2024-07-02T06:41:31.155894Z",
     "iopub.status.idle": "2024-07-02T06:41:31.162850Z",
     "shell.execute_reply": "2024-07-02T06:41:31.161701Z"
    },
    "id": "aBNzE_Pkqm__",
    "papermill": {
     "duration": 0.036442,
     "end_time": "2024-07-02T06:41:31.165374",
     "exception": false,
     "start_time": "2024-07-02T06:41:31.128932",
     "status": "completed"
    },
    "tags": []
   },
   "outputs": [],
   "source": [
    "def scale_data(data):\n",
    "    scaler = StandardScaler()\n",
    "    data = np.where(np.isinf(data), np.nan, data)\n",
    "    data = pd.DataFrame(data)\n",
    "    data = data.fillna(0)\n",
    "    scaler.fit(data)\n",
    "    data=pd.DataFrame(scaler.transform(data), index=data.index, columns=data.columns)\n",
    "\n",
    "    return data"
   ]
  },
  {
   "cell_type": "code",
   "execution_count": 15,
   "id": "f7428363",
   "metadata": {
    "execution": {
     "iopub.execute_input": "2024-07-02T06:41:31.218857Z",
     "iopub.status.busy": "2024-07-02T06:41:31.217845Z",
     "iopub.status.idle": "2024-07-02T06:41:31.229817Z",
     "shell.execute_reply": "2024-07-02T06:41:31.228710Z"
    },
    "id": "rqUtt9Jbqm__",
    "papermill": {
     "duration": 0.041481,
     "end_time": "2024-07-02T06:41:31.232324",
     "exception": false,
     "start_time": "2024-07-02T06:41:31.190843",
     "status": "completed"
    },
    "tags": []
   },
   "outputs": [],
   "source": [
    "def split_data(data):\n",
    "    \"\"\"\n",
    "    Hàm này chia dữ liệu thành 2 phần: tập huấn luyện và tập hold out.\n",
    "\n",
    "    Args:\n",
    "    data (pandas.DataFrame): DataFrame chứa dữ liệu cần chia.\n",
    "\n",
    "    Returns:\n",
    "    pandas.DataFrame: DataFrame chứa dữ liệu tập huấn luyện.\n",
    "    pandas.DataFrame: DataFrame chứa dữ liệu tập giữ lại.\n",
    "    \"\"\"\n",
    "    # Chia dữ liệu thành 3 phần\n",
    "    new_part = np.array_split(data, 3)\n",
    "\n",
    "    # Access each part individually\n",
    "    hold_out = new_part[2]\n",
    "    train_data = pd.concat([new_part[0], new_part[1]], axis=0)\n",
    "\n",
    "    return train_data, hold_out\n",
    "\n",
    "def split_optuna_data(data):\n",
    "    \"\"\"\n",
    "    Hàm này chia dữ liệu thành các tập train và test để sử dụng trong quá trình tối ưu hóa bằng Optuna.\n",
    "\n",
    "    Args:\n",
    "    data (pandas.DataFrame): DataFrame chứa dữ liệu cần chia.\n",
    "\n",
    "    Returns:\n",
    "    pandas.DataFrame: DataFrame chứa dữ liệu train (đã được chuẩn hóa).\n",
    "    pandas.DataFrame: DataFrame chứa dữ liệu test (đã được chuẩn hóa).\n",
    "    pandas.Series: Series chứa nhãn tương ứng với dữ liệu train.\n",
    "    pandas.Series: Series chứa nhãn tương ứng với dữ liệu test.\n",
    "    \"\"\"\n",
    "    # Chia dữ liệu thành tập train và tập hold out\n",
    "    train_data, _ = split_data(data)\n",
    "\n",
    "    # Loại bỏ các cột không cần thiết\n",
    "    if 'Open' in train_data.columns:\n",
    "        optuna_data = train_data.drop(['Open','High','Low','Close','Volume', 'Return', 'Date', 'time'], axis=1)\n",
    "    else:\n",
    "        optuna_data = train_data.drop(['Close', 'Return', 'Date', 'time'], axis=1)\n",
    "\n",
    "    # Chuẩn hóa dữ liệu\n",
    "    optuna_data = scale_data(optuna_data)\n",
    "\n",
    "    # Chia dữ liệu thành tập train và tập test\n",
    "    X_train, X_valid, y_train, y_valid = train_test_split(optuna_data, train_data['Return'], test_size=0.5, shuffle=False)\n",
    "\n",
    "    return X_train, X_valid, y_train, y_valid, train_data"
   ]
  },
  {
   "cell_type": "markdown",
   "id": "bcb0d98b",
   "metadata": {
    "id": "cKojL2mzqm__",
    "papermill": {
     "duration": 0.088015,
     "end_time": "2024-07-02T06:41:31.345847",
     "exception": false,
     "start_time": "2024-07-02T06:41:31.257832",
     "status": "completed"
    },
    "tags": []
   },
   "source": [
    "## Get data"
   ]
  },
  {
   "cell_type": "code",
   "execution_count": 16,
   "id": "2058899c",
   "metadata": {
    "execution": {
     "iopub.execute_input": "2024-07-02T06:41:31.401364Z",
     "iopub.status.busy": "2024-07-02T06:41:31.400244Z",
     "iopub.status.idle": "2024-07-02T06:41:31.411324Z",
     "shell.execute_reply": "2024-07-02T06:41:31.410121Z"
    },
    "id": "Dwcxd77MRG8v",
    "papermill": {
     "duration": 0.04264,
     "end_time": "2024-07-02T06:41:31.414158",
     "exception": false,
     "start_time": "2024-07-02T06:41:31.371518",
     "status": "completed"
    },
    "tags": []
   },
   "outputs": [],
   "source": [
    "def get_vn30f(start_time, now_time, symbol):\n",
    "    def vn30f():\n",
    "            return requests.get(f\"https://services.entrade.com.vn/chart-api/chart?from={start_time}&resolution=1&symbol={symbol}&to={now_time}\").json()\n",
    "    vn30fm = pd.DataFrame(vn30f()).iloc[:,:6]\n",
    "    vn30fm['t'] = vn30fm['t'].astype(int).apply(lambda x: datetime.utcfromtimestamp(x) + timedelta(hours = 7))\n",
    "    vn30fm.columns = ['Date','Open','High','Low','Close','Volume']\n",
    "    ohlc_dict = {\n",
    "        'Open': 'first',\n",
    "        'High': 'max',\n",
    "        'Low': 'min',\n",
    "        'Close': 'last',\n",
    "        'Volume': 'sum',}\n",
    "    vn30fm = pd.DataFrame(vn30f()).iloc[:,:6]\n",
    "    vn30fm['t'] = vn30fm['t'].astype(int).apply(lambda x: datetime.utcfromtimestamp(x) + timedelta(hours = 7))\n",
    "    vn30fm.columns = ['Date','Open','High','Low','Close','Volume']\n",
    "    dt_object = datetime.utcfromtimestamp(start_time) + timedelta(hours = 7)\n",
    "    now_object = datetime.utcfromtimestamp(now_time) + timedelta(hours = 7)\n",
    "\n",
    "    print(f'===> Data {symbol} from {dt_object} to {now_object} has been appended ')\n",
    "\n",
    "    return vn30fm"
   ]
  },
  {
   "cell_type": "code",
   "execution_count": 17,
   "id": "408c4aad",
   "metadata": {
    "execution": {
     "iopub.execute_input": "2024-07-02T06:41:31.468429Z",
     "iopub.status.busy": "2024-07-02T06:41:31.467989Z",
     "iopub.status.idle": "2024-07-02T06:41:40.019677Z",
     "shell.execute_reply": "2024-07-02T06:41:40.018266Z"
    },
    "id": "EptMr4pMcGw9",
    "outputId": "b59357c7-165a-4fd1-8292-3fafe55e556e",
    "papermill": {
     "duration": 8.582018,
     "end_time": "2024-07-02T06:41:40.022350",
     "exception": false,
     "start_time": "2024-07-02T06:41:31.440332",
     "status": "completed"
    },
    "tags": []
   },
   "outputs": [
    {
     "name": "stdout",
     "output_type": "stream",
     "text": [
      "===> Data VN30F1M from 1970-01-01 07:00:00 to 2286-11-21 00:46:39 has been appended \n"
     ]
    }
   ],
   "source": [
    "df = get_vn30f(start_time, now_time, symbol)"
   ]
  },
  {
   "cell_type": "code",
   "execution_count": 18,
   "id": "4de7bb4d",
   "metadata": {
    "execution": {
     "iopub.execute_input": "2024-07-02T06:41:40.078430Z",
     "iopub.status.busy": "2024-07-02T06:41:40.077975Z",
     "iopub.status.idle": "2024-07-02T06:41:40.105838Z",
     "shell.execute_reply": "2024-07-02T06:41:40.104695Z"
    },
    "id": "MmMI3SbSdanN",
    "outputId": "fa2fd769-1cd0-4423-d012-c00badf1d81d",
    "papermill": {
     "duration": 0.057902,
     "end_time": "2024-07-02T06:41:40.108311",
     "exception": false,
     "start_time": "2024-07-02T06:41:40.050409",
     "status": "completed"
    },
    "tags": []
   },
   "outputs": [
    {
     "data": {
      "text/html": [
       "<div>\n",
       "<style scoped>\n",
       "    .dataframe tbody tr th:only-of-type {\n",
       "        vertical-align: middle;\n",
       "    }\n",
       "\n",
       "    .dataframe tbody tr th {\n",
       "        vertical-align: top;\n",
       "    }\n",
       "\n",
       "    .dataframe thead th {\n",
       "        text-align: right;\n",
       "    }\n",
       "</style>\n",
       "<table border=\"1\" class=\"dataframe\">\n",
       "  <thead>\n",
       "    <tr style=\"text-align: right;\">\n",
       "      <th></th>\n",
       "      <th>Date</th>\n",
       "      <th>Open</th>\n",
       "      <th>High</th>\n",
       "      <th>Low</th>\n",
       "      <th>Close</th>\n",
       "      <th>Volume</th>\n",
       "    </tr>\n",
       "  </thead>\n",
       "  <tbody>\n",
       "    <tr>\n",
       "      <th>0</th>\n",
       "      <td>2018-08-13 09:00:00</td>\n",
       "      <td>943.5</td>\n",
       "      <td>943.5</td>\n",
       "      <td>942.9</td>\n",
       "      <td>942.9</td>\n",
       "      <td>975</td>\n",
       "    </tr>\n",
       "    <tr>\n",
       "      <th>1</th>\n",
       "      <td>2018-08-13 09:01:00</td>\n",
       "      <td>943.0</td>\n",
       "      <td>943.1</td>\n",
       "      <td>942.9</td>\n",
       "      <td>943.1</td>\n",
       "      <td>220</td>\n",
       "    </tr>\n",
       "    <tr>\n",
       "      <th>2</th>\n",
       "      <td>2018-08-13 09:02:00</td>\n",
       "      <td>943.0</td>\n",
       "      <td>943.6</td>\n",
       "      <td>943.0</td>\n",
       "      <td>943.5</td>\n",
       "      <td>121</td>\n",
       "    </tr>\n",
       "    <tr>\n",
       "      <th>3</th>\n",
       "      <td>2018-08-13 09:03:00</td>\n",
       "      <td>943.3</td>\n",
       "      <td>943.4</td>\n",
       "      <td>943.3</td>\n",
       "      <td>943.4</td>\n",
       "      <td>135</td>\n",
       "    </tr>\n",
       "    <tr>\n",
       "      <th>4</th>\n",
       "      <td>2018-08-13 09:04:00</td>\n",
       "      <td>943.2</td>\n",
       "      <td>943.2</td>\n",
       "      <td>943.0</td>\n",
       "      <td>943.1</td>\n",
       "      <td>361</td>\n",
       "    </tr>\n",
       "    <tr>\n",
       "      <th>...</th>\n",
       "      <td>...</td>\n",
       "      <td>...</td>\n",
       "      <td>...</td>\n",
       "      <td>...</td>\n",
       "      <td>...</td>\n",
       "      <td>...</td>\n",
       "    </tr>\n",
       "    <tr>\n",
       "      <th>325344</th>\n",
       "      <td>2024-07-02 13:36:00</td>\n",
       "      <td>1294.6</td>\n",
       "      <td>1294.7</td>\n",
       "      <td>1294.4</td>\n",
       "      <td>1294.6</td>\n",
       "      <td>808</td>\n",
       "    </tr>\n",
       "    <tr>\n",
       "      <th>325345</th>\n",
       "      <td>2024-07-02 13:37:00</td>\n",
       "      <td>1294.6</td>\n",
       "      <td>1295.3</td>\n",
       "      <td>1294.5</td>\n",
       "      <td>1294.6</td>\n",
       "      <td>628</td>\n",
       "    </tr>\n",
       "    <tr>\n",
       "      <th>325346</th>\n",
       "      <td>2024-07-02 13:38:00</td>\n",
       "      <td>1294.8</td>\n",
       "      <td>1295.2</td>\n",
       "      <td>1294.7</td>\n",
       "      <td>1295.2</td>\n",
       "      <td>276</td>\n",
       "    </tr>\n",
       "    <tr>\n",
       "      <th>325347</th>\n",
       "      <td>2024-07-02 13:39:00</td>\n",
       "      <td>1295.0</td>\n",
       "      <td>1295.3</td>\n",
       "      <td>1295.0</td>\n",
       "      <td>1295.0</td>\n",
       "      <td>380</td>\n",
       "    </tr>\n",
       "    <tr>\n",
       "      <th>325348</th>\n",
       "      <td>2024-07-02 13:40:00</td>\n",
       "      <td>1295.0</td>\n",
       "      <td>1295.2</td>\n",
       "      <td>1295.0</td>\n",
       "      <td>1295.0</td>\n",
       "      <td>339</td>\n",
       "    </tr>\n",
       "  </tbody>\n",
       "</table>\n",
       "<p>325349 rows × 6 columns</p>\n",
       "</div>"
      ],
      "text/plain": [
       "                      Date    Open    High     Low   Close  Volume\n",
       "0      2018-08-13 09:00:00   943.5   943.5   942.9   942.9     975\n",
       "1      2018-08-13 09:01:00   943.0   943.1   942.9   943.1     220\n",
       "2      2018-08-13 09:02:00   943.0   943.6   943.0   943.5     121\n",
       "3      2018-08-13 09:03:00   943.3   943.4   943.3   943.4     135\n",
       "4      2018-08-13 09:04:00   943.2   943.2   943.0   943.1     361\n",
       "...                    ...     ...     ...     ...     ...     ...\n",
       "325344 2024-07-02 13:36:00  1294.6  1294.7  1294.4  1294.6     808\n",
       "325345 2024-07-02 13:37:00  1294.6  1295.3  1294.5  1294.6     628\n",
       "325346 2024-07-02 13:38:00  1294.8  1295.2  1294.7  1295.2     276\n",
       "325347 2024-07-02 13:39:00  1295.0  1295.3  1295.0  1295.0     380\n",
       "325348 2024-07-02 13:40:00  1295.0  1295.2  1295.0  1295.0     339\n",
       "\n",
       "[325349 rows x 6 columns]"
      ]
     },
     "execution_count": 18,
     "metadata": {},
     "output_type": "execute_result"
    }
   ],
   "source": [
    "df"
   ]
  },
  {
   "cell_type": "markdown",
   "id": "d2ee1e0c",
   "metadata": {
    "id": "IgUSjj0jDRFl",
    "papermill": {
     "duration": 0.026025,
     "end_time": "2024-07-02T06:41:40.160802",
     "exception": false,
     "start_time": "2024-07-02T06:41:40.134777",
     "status": "completed"
    },
    "tags": []
   },
   "source": [
    "Fill missing data"
   ]
  },
  {
   "cell_type": "code",
   "execution_count": 19,
   "id": "ed891da1",
   "metadata": {
    "execution": {
     "iopub.execute_input": "2024-07-02T06:41:40.216518Z",
     "iopub.status.busy": "2024-07-02T06:41:40.215201Z",
     "iopub.status.idle": "2024-07-02T06:41:40.797723Z",
     "shell.execute_reply": "2024-07-02T06:41:40.796375Z"
    },
    "id": "H8XyGWJ8qm__",
    "outputId": "7587f5e1-1576-4dca-c832-3319dd3581a7",
    "papermill": {
     "duration": 0.612907,
     "end_time": "2024-07-02T06:41:40.800295",
     "exception": false,
     "start_time": "2024-07-02T06:41:40.187388",
     "status": "completed"
    },
    "tags": []
   },
   "outputs": [
    {
     "name": "stdout",
     "output_type": "stream",
     "text": [
      "The 'end_date' value in the report should be no more than 90 days from today for all resolutions shorter than 1 day. \n",
      "\n"
     ]
    },
    {
     "data": {
      "text/html": [
       "<div>\n",
       "<style scoped>\n",
       "    .dataframe tbody tr th:only-of-type {\n",
       "        vertical-align: middle;\n",
       "    }\n",
       "\n",
       "    .dataframe tbody tr th {\n",
       "        vertical-align: top;\n",
       "    }\n",
       "\n",
       "    .dataframe thead th {\n",
       "        text-align: right;\n",
       "    }\n",
       "</style>\n",
       "<table border=\"1\" class=\"dataframe\">\n",
       "  <thead>\n",
       "    <tr style=\"text-align: right;\">\n",
       "      <th></th>\n",
       "      <th>time</th>\n",
       "      <th>open</th>\n",
       "      <th>high</th>\n",
       "      <th>low</th>\n",
       "      <th>close</th>\n",
       "      <th>volume</th>\n",
       "      <th>ticker</th>\n",
       "    </tr>\n",
       "  </thead>\n",
       "  <tbody>\n",
       "    <tr>\n",
       "      <th>0</th>\n",
       "      <td>2023-04-03 09:00:00</td>\n",
       "      <td>1081.3</td>\n",
       "      <td>1082.6</td>\n",
       "      <td>1080.6</td>\n",
       "      <td>1080.6</td>\n",
       "      <td>10331</td>\n",
       "      <td>VN30F1M</td>\n",
       "    </tr>\n",
       "    <tr>\n",
       "      <th>1</th>\n",
       "      <td>2023-04-03 09:03:00</td>\n",
       "      <td>1080.7</td>\n",
       "      <td>1081.2</td>\n",
       "      <td>1080.4</td>\n",
       "      <td>1080.4</td>\n",
       "      <td>4257</td>\n",
       "      <td>VN30F1M</td>\n",
       "    </tr>\n",
       "    <tr>\n",
       "      <th>2</th>\n",
       "      <td>2023-04-03 09:06:00</td>\n",
       "      <td>1080.4</td>\n",
       "      <td>1080.4</td>\n",
       "      <td>1078.4</td>\n",
       "      <td>1078.9</td>\n",
       "      <td>5101</td>\n",
       "      <td>VN30F1M</td>\n",
       "    </tr>\n",
       "    <tr>\n",
       "      <th>3</th>\n",
       "      <td>2023-04-03 09:09:00</td>\n",
       "      <td>1078.9</td>\n",
       "      <td>1079.0</td>\n",
       "      <td>1077.0</td>\n",
       "      <td>1077.9</td>\n",
       "      <td>5891</td>\n",
       "      <td>VN30F1M</td>\n",
       "    </tr>\n",
       "    <tr>\n",
       "      <th>4</th>\n",
       "      <td>2023-04-03 09:12:00</td>\n",
       "      <td>1077.9</td>\n",
       "      <td>1078.5</td>\n",
       "      <td>1077.5</td>\n",
       "      <td>1078.3</td>\n",
       "      <td>3498</td>\n",
       "      <td>VN30F1M</td>\n",
       "    </tr>\n",
       "    <tr>\n",
       "      <th>...</th>\n",
       "      <td>...</td>\n",
       "      <td>...</td>\n",
       "      <td>...</td>\n",
       "      <td>...</td>\n",
       "      <td>...</td>\n",
       "      <td>...</td>\n",
       "      <td>...</td>\n",
       "    </tr>\n",
       "    <tr>\n",
       "      <th>6884</th>\n",
       "      <td>2023-07-31 14:21:00</td>\n",
       "      <td>1223.2</td>\n",
       "      <td>1225.4</td>\n",
       "      <td>1223.2</td>\n",
       "      <td>1224.7</td>\n",
       "      <td>5733</td>\n",
       "      <td>VN30F1M</td>\n",
       "    </tr>\n",
       "    <tr>\n",
       "      <th>6885</th>\n",
       "      <td>2023-07-31 14:24:00</td>\n",
       "      <td>1224.6</td>\n",
       "      <td>1228.8</td>\n",
       "      <td>1224.2</td>\n",
       "      <td>1228.5</td>\n",
       "      <td>6276</td>\n",
       "      <td>VN30F1M</td>\n",
       "    </tr>\n",
       "    <tr>\n",
       "      <th>6886</th>\n",
       "      <td>2023-07-31 14:27:00</td>\n",
       "      <td>1227.8</td>\n",
       "      <td>1231.8</td>\n",
       "      <td>1227.8</td>\n",
       "      <td>1231.8</td>\n",
       "      <td>6975</td>\n",
       "      <td>VN30F1M</td>\n",
       "    </tr>\n",
       "    <tr>\n",
       "      <th>6887</th>\n",
       "      <td>2023-07-31 14:30:00</td>\n",
       "      <td>1231.9</td>\n",
       "      <td>1232.0</td>\n",
       "      <td>1231.9</td>\n",
       "      <td>1232.0</td>\n",
       "      <td>195</td>\n",
       "      <td>VN30F1M</td>\n",
       "    </tr>\n",
       "    <tr>\n",
       "      <th>6888</th>\n",
       "      <td>2023-07-31 14:45:00</td>\n",
       "      <td>1234.2</td>\n",
       "      <td>1234.2</td>\n",
       "      <td>1234.2</td>\n",
       "      <td>1234.2</td>\n",
       "      <td>7378</td>\n",
       "      <td>VN30F1M</td>\n",
       "    </tr>\n",
       "  </tbody>\n",
       "</table>\n",
       "<p>6889 rows × 7 columns</p>\n",
       "</div>"
      ],
      "text/plain": [
       "                     time    open    high     low   close  volume   ticker\n",
       "0     2023-04-03 09:00:00  1081.3  1082.6  1080.6  1080.6   10331  VN30F1M\n",
       "1     2023-04-03 09:03:00  1080.7  1081.2  1080.4  1080.4    4257  VN30F1M\n",
       "2     2023-04-03 09:06:00  1080.4  1080.4  1078.4  1078.9    5101  VN30F1M\n",
       "3     2023-04-03 09:09:00  1078.9  1079.0  1077.0  1077.9    5891  VN30F1M\n",
       "4     2023-04-03 09:12:00  1077.9  1078.5  1077.5  1078.3    3498  VN30F1M\n",
       "...                   ...     ...     ...     ...     ...     ...      ...\n",
       "6884  2023-07-31 14:21:00  1223.2  1225.4  1223.2  1224.7    5733  VN30F1M\n",
       "6885  2023-07-31 14:24:00  1224.6  1228.8  1224.2  1228.5    6276  VN30F1M\n",
       "6886  2023-07-31 14:27:00  1227.8  1231.8  1227.8  1231.8    6975  VN30F1M\n",
       "6887  2023-07-31 14:30:00  1231.9  1232.0  1231.9  1232.0     195  VN30F1M\n",
       "6888  2023-07-31 14:45:00  1234.2  1234.2  1234.2  1234.2    7378  VN30F1M\n",
       "\n",
       "[6889 rows x 7 columns]"
      ]
     },
     "execution_count": 19,
     "metadata": {},
     "output_type": "execute_result"
    }
   ],
   "source": [
    "from vnstock import stock_historical_data\n",
    "df2 = stock_historical_data(\"VN30F1M\", \"2023-04-01\", \"2023-07-31\", \"3\", 'derivative')\n",
    "df2\n"
   ]
  },
  {
   "cell_type": "code",
   "execution_count": 20,
   "id": "3e919266",
   "metadata": {
    "execution": {
     "iopub.execute_input": "2024-07-02T06:41:40.856665Z",
     "iopub.status.busy": "2024-07-02T06:41:40.855750Z",
     "iopub.status.idle": "2024-07-02T06:41:40.877667Z",
     "shell.execute_reply": "2024-07-02T06:41:40.876489Z"
    },
    "id": "WbdOiZFtqnAA",
    "outputId": "08ae9b8d-85ba-40d2-fb33-8393220bf909",
    "papermill": {
     "duration": 0.053268,
     "end_time": "2024-07-02T06:41:40.880457",
     "exception": false,
     "start_time": "2024-07-02T06:41:40.827189",
     "status": "completed"
    },
    "tags": []
   },
   "outputs": [
    {
     "data": {
      "text/html": [
       "<div>\n",
       "<style scoped>\n",
       "    .dataframe tbody tr th:only-of-type {\n",
       "        vertical-align: middle;\n",
       "    }\n",
       "\n",
       "    .dataframe tbody tr th {\n",
       "        vertical-align: top;\n",
       "    }\n",
       "\n",
       "    .dataframe thead th {\n",
       "        text-align: right;\n",
       "    }\n",
       "</style>\n",
       "<table border=\"1\" class=\"dataframe\">\n",
       "  <thead>\n",
       "    <tr style=\"text-align: right;\">\n",
       "      <th></th>\n",
       "      <th>time</th>\n",
       "      <th>open</th>\n",
       "      <th>high</th>\n",
       "      <th>low</th>\n",
       "      <th>close</th>\n",
       "      <th>volume</th>\n",
       "    </tr>\n",
       "  </thead>\n",
       "  <tbody>\n",
       "    <tr>\n",
       "      <th>0</th>\n",
       "      <td>2023-04-03 09:00:00</td>\n",
       "      <td>1081.3</td>\n",
       "      <td>1082.6</td>\n",
       "      <td>1080.6</td>\n",
       "      <td>1080.6</td>\n",
       "      <td>10331</td>\n",
       "    </tr>\n",
       "    <tr>\n",
       "      <th>1</th>\n",
       "      <td>2023-04-03 09:03:00</td>\n",
       "      <td>1080.7</td>\n",
       "      <td>1081.2</td>\n",
       "      <td>1080.4</td>\n",
       "      <td>1080.4</td>\n",
       "      <td>4257</td>\n",
       "    </tr>\n",
       "    <tr>\n",
       "      <th>2</th>\n",
       "      <td>2023-04-03 09:06:00</td>\n",
       "      <td>1080.4</td>\n",
       "      <td>1080.4</td>\n",
       "      <td>1078.4</td>\n",
       "      <td>1078.9</td>\n",
       "      <td>5101</td>\n",
       "    </tr>\n",
       "    <tr>\n",
       "      <th>3</th>\n",
       "      <td>2023-04-03 09:09:00</td>\n",
       "      <td>1078.9</td>\n",
       "      <td>1079.0</td>\n",
       "      <td>1077.0</td>\n",
       "      <td>1077.9</td>\n",
       "      <td>5891</td>\n",
       "    </tr>\n",
       "    <tr>\n",
       "      <th>4</th>\n",
       "      <td>2023-04-03 09:12:00</td>\n",
       "      <td>1077.9</td>\n",
       "      <td>1078.5</td>\n",
       "      <td>1077.5</td>\n",
       "      <td>1078.3</td>\n",
       "      <td>3498</td>\n",
       "    </tr>\n",
       "    <tr>\n",
       "      <th>...</th>\n",
       "      <td>...</td>\n",
       "      <td>...</td>\n",
       "      <td>...</td>\n",
       "      <td>...</td>\n",
       "      <td>...</td>\n",
       "      <td>...</td>\n",
       "    </tr>\n",
       "    <tr>\n",
       "      <th>6884</th>\n",
       "      <td>2023-07-31 14:21:00</td>\n",
       "      <td>1223.2</td>\n",
       "      <td>1225.4</td>\n",
       "      <td>1223.2</td>\n",
       "      <td>1224.7</td>\n",
       "      <td>5733</td>\n",
       "    </tr>\n",
       "    <tr>\n",
       "      <th>6885</th>\n",
       "      <td>2023-07-31 14:24:00</td>\n",
       "      <td>1224.6</td>\n",
       "      <td>1228.8</td>\n",
       "      <td>1224.2</td>\n",
       "      <td>1228.5</td>\n",
       "      <td>6276</td>\n",
       "    </tr>\n",
       "    <tr>\n",
       "      <th>6886</th>\n",
       "      <td>2023-07-31 14:27:00</td>\n",
       "      <td>1227.8</td>\n",
       "      <td>1231.8</td>\n",
       "      <td>1227.8</td>\n",
       "      <td>1231.8</td>\n",
       "      <td>6975</td>\n",
       "    </tr>\n",
       "    <tr>\n",
       "      <th>6887</th>\n",
       "      <td>2023-07-31 14:30:00</td>\n",
       "      <td>1231.9</td>\n",
       "      <td>1232.0</td>\n",
       "      <td>1231.9</td>\n",
       "      <td>1232.0</td>\n",
       "      <td>195</td>\n",
       "    </tr>\n",
       "    <tr>\n",
       "      <th>6888</th>\n",
       "      <td>2023-07-31 14:45:00</td>\n",
       "      <td>1234.2</td>\n",
       "      <td>1234.2</td>\n",
       "      <td>1234.2</td>\n",
       "      <td>1234.2</td>\n",
       "      <td>7378</td>\n",
       "    </tr>\n",
       "  </tbody>\n",
       "</table>\n",
       "<p>6889 rows × 6 columns</p>\n",
       "</div>"
      ],
      "text/plain": [
       "                     time    open    high     low   close  volume\n",
       "0     2023-04-03 09:00:00  1081.3  1082.6  1080.6  1080.6   10331\n",
       "1     2023-04-03 09:03:00  1080.7  1081.2  1080.4  1080.4    4257\n",
       "2     2023-04-03 09:06:00  1080.4  1080.4  1078.4  1078.9    5101\n",
       "3     2023-04-03 09:09:00  1078.9  1079.0  1077.0  1077.9    5891\n",
       "4     2023-04-03 09:12:00  1077.9  1078.5  1077.5  1078.3    3498\n",
       "...                   ...     ...     ...     ...     ...     ...\n",
       "6884  2023-07-31 14:21:00  1223.2  1225.4  1223.2  1224.7    5733\n",
       "6885  2023-07-31 14:24:00  1224.6  1228.8  1224.2  1228.5    6276\n",
       "6886  2023-07-31 14:27:00  1227.8  1231.8  1227.8  1231.8    6975\n",
       "6887  2023-07-31 14:30:00  1231.9  1232.0  1231.9  1232.0     195\n",
       "6888  2023-07-31 14:45:00  1234.2  1234.2  1234.2  1234.2    7378\n",
       "\n",
       "[6889 rows x 6 columns]"
      ]
     },
     "execution_count": 20,
     "metadata": {},
     "output_type": "execute_result"
    }
   ],
   "source": [
    "temp = df2.drop(columns=['ticker'])\n",
    "temp"
   ]
  },
  {
   "cell_type": "code",
   "execution_count": 21,
   "id": "195042c4",
   "metadata": {
    "execution": {
     "iopub.execute_input": "2024-07-02T06:41:40.936841Z",
     "iopub.status.busy": "2024-07-02T06:41:40.936391Z",
     "iopub.status.idle": "2024-07-02T06:41:40.949986Z",
     "shell.execute_reply": "2024-07-02T06:41:40.948886Z"
    },
    "id": "DPbd-HATYCdC",
    "papermill": {
     "duration": 0.044707,
     "end_time": "2024-07-02T06:41:40.952471",
     "exception": false,
     "start_time": "2024-07-02T06:41:40.907764",
     "status": "completed"
    },
    "tags": []
   },
   "outputs": [],
   "source": [
    "temp['time'] = pd.to_datetime(temp['time'])"
   ]
  },
  {
   "cell_type": "code",
   "execution_count": 22,
   "id": "a1ddf0c6",
   "metadata": {
    "execution": {
     "iopub.execute_input": "2024-07-02T06:41:41.009670Z",
     "iopub.status.busy": "2024-07-02T06:41:41.009208Z",
     "iopub.status.idle": "2024-07-02T06:41:43.635797Z",
     "shell.execute_reply": "2024-07-02T06:41:43.634724Z"
    },
    "id": "O99omUlQOfIJ",
    "outputId": "77443eb2-52c1-4764-e122-7f54c4efd7ce",
    "papermill": {
     "duration": 2.658305,
     "end_time": "2024-07-02T06:41:43.638834",
     "exception": false,
     "start_time": "2024-07-02T06:41:40.980529",
     "status": "completed"
    },
    "tags": []
   },
   "outputs": [
    {
     "name": "stderr",
     "output_type": "stream",
     "text": [
      "/tmp/ipykernel_19/1441089219.py:25: FutureWarning: 'T' is deprecated and will be removed in a future version, please use 'min' instead.\n",
      "  df_resampled = temp.resample('1T').first().reindex(pd.date_range(start=temp.index[0], end=temp.index[-1], freq='1T')).ffill()\n"
     ]
    },
    {
     "data": {
      "text/html": [
       "<div>\n",
       "<style scoped>\n",
       "    .dataframe tbody tr th:only-of-type {\n",
       "        vertical-align: middle;\n",
       "    }\n",
       "\n",
       "    .dataframe tbody tr th {\n",
       "        vertical-align: top;\n",
       "    }\n",
       "\n",
       "    .dataframe thead th {\n",
       "        text-align: right;\n",
       "    }\n",
       "</style>\n",
       "<table border=\"1\" class=\"dataframe\">\n",
       "  <thead>\n",
       "    <tr style=\"text-align: right;\">\n",
       "      <th></th>\n",
       "      <th>Date</th>\n",
       "      <th>Open</th>\n",
       "      <th>High</th>\n",
       "      <th>Low</th>\n",
       "      <th>Close</th>\n",
       "      <th>Volume</th>\n",
       "    </tr>\n",
       "  </thead>\n",
       "  <tbody>\n",
       "    <tr>\n",
       "      <th>0</th>\n",
       "      <td>2023-04-03 09:00:00</td>\n",
       "      <td>1081.3</td>\n",
       "      <td>1082.6</td>\n",
       "      <td>1080.6</td>\n",
       "      <td>1080.6</td>\n",
       "      <td>3444.0</td>\n",
       "    </tr>\n",
       "    <tr>\n",
       "      <th>1</th>\n",
       "      <td>2023-04-03 09:01:00</td>\n",
       "      <td>1081.3</td>\n",
       "      <td>1082.6</td>\n",
       "      <td>1080.6</td>\n",
       "      <td>1080.6</td>\n",
       "      <td>3444.0</td>\n",
       "    </tr>\n",
       "    <tr>\n",
       "      <th>2</th>\n",
       "      <td>2023-04-03 09:02:00</td>\n",
       "      <td>1081.3</td>\n",
       "      <td>1082.6</td>\n",
       "      <td>1080.6</td>\n",
       "      <td>1080.6</td>\n",
       "      <td>3444.0</td>\n",
       "    </tr>\n",
       "    <tr>\n",
       "      <th>3</th>\n",
       "      <td>2023-04-03 09:03:00</td>\n",
       "      <td>1080.7</td>\n",
       "      <td>1081.2</td>\n",
       "      <td>1080.4</td>\n",
       "      <td>1080.4</td>\n",
       "      <td>1419.0</td>\n",
       "    </tr>\n",
       "    <tr>\n",
       "      <th>4</th>\n",
       "      <td>2023-04-03 09:04:00</td>\n",
       "      <td>1080.7</td>\n",
       "      <td>1081.2</td>\n",
       "      <td>1080.4</td>\n",
       "      <td>1080.4</td>\n",
       "      <td>1419.0</td>\n",
       "    </tr>\n",
       "    <tr>\n",
       "      <th>...</th>\n",
       "      <td>...</td>\n",
       "      <td>...</td>\n",
       "      <td>...</td>\n",
       "      <td>...</td>\n",
       "      <td>...</td>\n",
       "      <td>...</td>\n",
       "    </tr>\n",
       "    <tr>\n",
       "      <th>171687</th>\n",
       "      <td>2023-07-31 14:27:00</td>\n",
       "      <td>1227.8</td>\n",
       "      <td>1231.8</td>\n",
       "      <td>1227.8</td>\n",
       "      <td>1231.8</td>\n",
       "      <td>2325.0</td>\n",
       "    </tr>\n",
       "    <tr>\n",
       "      <th>171688</th>\n",
       "      <td>2023-07-31 14:28:00</td>\n",
       "      <td>1227.8</td>\n",
       "      <td>1231.8</td>\n",
       "      <td>1227.8</td>\n",
       "      <td>1231.8</td>\n",
       "      <td>2325.0</td>\n",
       "    </tr>\n",
       "    <tr>\n",
       "      <th>171689</th>\n",
       "      <td>2023-07-31 14:29:00</td>\n",
       "      <td>1227.8</td>\n",
       "      <td>1231.8</td>\n",
       "      <td>1227.8</td>\n",
       "      <td>1231.8</td>\n",
       "      <td>2325.0</td>\n",
       "    </tr>\n",
       "    <tr>\n",
       "      <th>171690</th>\n",
       "      <td>2023-07-31 14:30:00</td>\n",
       "      <td>1231.9</td>\n",
       "      <td>1232.0</td>\n",
       "      <td>1231.9</td>\n",
       "      <td>1232.0</td>\n",
       "      <td>195.0</td>\n",
       "    </tr>\n",
       "    <tr>\n",
       "      <th>171705</th>\n",
       "      <td>2023-07-31 14:45:00</td>\n",
       "      <td>1234.2</td>\n",
       "      <td>1234.2</td>\n",
       "      <td>1234.2</td>\n",
       "      <td>1234.2</td>\n",
       "      <td>7378.0</td>\n",
       "    </tr>\n",
       "  </tbody>\n",
       "</table>\n",
       "<p>29160 rows × 6 columns</p>\n",
       "</div>"
      ],
      "text/plain": [
       "                      Date    Open    High     Low   Close  Volume\n",
       "0      2023-04-03 09:00:00  1081.3  1082.6  1080.6  1080.6  3444.0\n",
       "1      2023-04-03 09:01:00  1081.3  1082.6  1080.6  1080.6  3444.0\n",
       "2      2023-04-03 09:02:00  1081.3  1082.6  1080.6  1080.6  3444.0\n",
       "3      2023-04-03 09:03:00  1080.7  1081.2  1080.4  1080.4  1419.0\n",
       "4      2023-04-03 09:04:00  1080.7  1081.2  1080.4  1080.4  1419.0\n",
       "...                    ...     ...     ...     ...     ...     ...\n",
       "171687 2023-07-31 14:27:00  1227.8  1231.8  1227.8  1231.8  2325.0\n",
       "171688 2023-07-31 14:28:00  1227.8  1231.8  1227.8  1231.8  2325.0\n",
       "171689 2023-07-31 14:29:00  1227.8  1231.8  1227.8  1231.8  2325.0\n",
       "171690 2023-07-31 14:30:00  1231.9  1232.0  1231.9  1232.0   195.0\n",
       "171705 2023-07-31 14:45:00  1234.2  1234.2  1234.2  1234.2  7378.0\n",
       "\n",
       "[29160 rows x 6 columns]"
      ]
     },
     "execution_count": 22,
     "metadata": {},
     "output_type": "execute_result"
    }
   ],
   "source": [
    "morning_start = pd.Timestamp('09:00:00').time()\n",
    "morning_end = pd.Timestamp('11:30:00').time()\n",
    "afternoon_start = pd.Timestamp('13:00:00').time()\n",
    "afternoon_end = pd.Timestamp('14:30:00').time()\n",
    "ATC = pd.Timestamp('14:45:00').time()\n",
    "\n",
    "time_points = []\n",
    "current_time = morning_start\n",
    "\n",
    "while current_time <= morning_end:\n",
    "    time_points.append(current_time)\n",
    "    current_time = (pd.Timestamp.combine(pd.Timestamp.today(), current_time) + pd.Timedelta(minutes=1)).time()\n",
    "\n",
    "current_time = afternoon_start\n",
    "while current_time <= afternoon_end:\n",
    "    time_points.append(current_time)\n",
    "    current_time = (pd.Timestamp.combine(pd.Timestamp.today(), current_time) + pd.Timedelta(minutes=1)).time()\n",
    "\n",
    "current_time = ATC\n",
    "while current_time == ATC:\n",
    "    time_points.append(current_time)\n",
    "    current_time = (pd.Timestamp.combine(pd.Timestamp.today(), current_time) + pd.Timedelta(minutes=1)).time()\n",
    "\n",
    "temp = temp.set_index('time')\n",
    "df_resampled = temp.resample('1T').first().reindex(pd.date_range(start=temp.index[0], end=temp.index[-1], freq='1T')).ffill()\n",
    "\n",
    "df_resampled = df_resampled.reset_index().rename(columns={'index': 'time'})\n",
    "temp = temp.reset_index().rename(columns={'index': 'time'})\n",
    "\n",
    "df_resampled = df_resampled[df_resampled['time'].dt.time.isin(time_points)]\n",
    "df_resampled = df_resampled.rename(columns={\n",
    "    'time': 'Date',\n",
    "    'open': 'Open',\n",
    "    'high': 'High',\n",
    "    'low': 'Low',\n",
    "    'close': 'Close',\n",
    "    'volume': 'Volume'\n",
    "})\n",
    "\n",
    "# Divide the Volume column by 3 and round to the nearest integer\n",
    "df_resampled['Volume'] = df_resampled.apply(\n",
    "    lambda row: round(row['Volume'] / 3) if row['Date'].time() < pd.Timestamp('14:30:00').time() else row['Volume'],\n",
    "    axis=1\n",
    ")\n",
    "\n",
    "df_resampled"
   ]
  },
  {
   "cell_type": "code",
   "execution_count": 23,
   "id": "da197a5a",
   "metadata": {
    "execution": {
     "iopub.execute_input": "2024-07-02T06:41:43.698400Z",
     "iopub.status.busy": "2024-07-02T06:41:43.697625Z",
     "iopub.status.idle": "2024-07-02T06:41:43.793368Z",
     "shell.execute_reply": "2024-07-02T06:41:43.792292Z"
    },
    "id": "v2xKpEoSR3i9",
    "papermill": {
     "duration": 0.128567,
     "end_time": "2024-07-02T06:41:43.796972",
     "exception": false,
     "start_time": "2024-07-02T06:41:43.668405",
     "status": "completed"
    },
    "tags": []
   },
   "outputs": [
    {
     "name": "stderr",
     "output_type": "stream",
     "text": [
      "/tmp/ipykernel_19/967041502.py:4: FutureWarning: A value is trying to be set on a copy of a DataFrame or Series through chained assignment using an inplace method.\n",
      "The behavior will change in pandas 3.0. This inplace method will never work because the intermediate object on which we are setting values always behaves as a copy.\n",
      "\n",
      "For example, when doing 'df[col].method(value, inplace=True)', try using 'df.method({col: value}, inplace=True)' or df[col] = df[col].method(value) instead, to perform the operation inplace on the original object.\n",
      "\n",
      "\n",
      "  combined_data[column].fillna(combined_data[f'{column}_data1'], inplace=True)\n"
     ]
    }
   ],
   "source": [
    "\n",
    "combined_data = pd.merge(df, df_resampled, on='Date', how='outer', suffixes=('', '_data1'))\n",
    "\n",
    "for column in ['Open', 'High', 'Low', 'Close', 'Volume']:\n",
    "    combined_data[column].fillna(combined_data[f'{column}_data1'], inplace=True)\n",
    "\n",
    "combined_data.drop(columns=[f'{column}_data1' for column in ['Open', 'High', 'Low', 'Close', 'Volume']], inplace=True)\n",
    "\n",
    "\n",
    "combined_data.sort_values('Date', inplace=True)\n",
    "\n",
    "combined_data.reset_index(drop=True, inplace=True)"
   ]
  },
  {
   "cell_type": "code",
   "execution_count": 24,
   "id": "75c02e19",
   "metadata": {
    "execution": {
     "iopub.execute_input": "2024-07-02T06:41:43.855877Z",
     "iopub.status.busy": "2024-07-02T06:41:43.855035Z",
     "iopub.status.idle": "2024-07-02T06:41:43.876258Z",
     "shell.execute_reply": "2024-07-02T06:41:43.875143Z"
    },
    "id": "_2VBuWNrSJQ-",
    "outputId": "e95a0396-21df-4677-ae1e-5e975f9138ec",
    "papermill": {
     "duration": 0.05331,
     "end_time": "2024-07-02T06:41:43.878641",
     "exception": false,
     "start_time": "2024-07-02T06:41:43.825331",
     "status": "completed"
    },
    "tags": []
   },
   "outputs": [
    {
     "data": {
      "text/html": [
       "<div>\n",
       "<style scoped>\n",
       "    .dataframe tbody tr th:only-of-type {\n",
       "        vertical-align: middle;\n",
       "    }\n",
       "\n",
       "    .dataframe tbody tr th {\n",
       "        vertical-align: top;\n",
       "    }\n",
       "\n",
       "    .dataframe thead th {\n",
       "        text-align: right;\n",
       "    }\n",
       "</style>\n",
       "<table border=\"1\" class=\"dataframe\">\n",
       "  <thead>\n",
       "    <tr style=\"text-align: right;\">\n",
       "      <th></th>\n",
       "      <th>Date</th>\n",
       "      <th>Open</th>\n",
       "      <th>High</th>\n",
       "      <th>Low</th>\n",
       "      <th>Close</th>\n",
       "      <th>Volume</th>\n",
       "    </tr>\n",
       "  </thead>\n",
       "  <tbody>\n",
       "    <tr>\n",
       "      <th>0</th>\n",
       "      <td>2018-08-13 09:00:00</td>\n",
       "      <td>943.5</td>\n",
       "      <td>943.5</td>\n",
       "      <td>942.9</td>\n",
       "      <td>942.9</td>\n",
       "      <td>975.0</td>\n",
       "    </tr>\n",
       "    <tr>\n",
       "      <th>1</th>\n",
       "      <td>2018-08-13 09:01:00</td>\n",
       "      <td>943.0</td>\n",
       "      <td>943.1</td>\n",
       "      <td>942.9</td>\n",
       "      <td>943.1</td>\n",
       "      <td>220.0</td>\n",
       "    </tr>\n",
       "    <tr>\n",
       "      <th>2</th>\n",
       "      <td>2018-08-13 09:02:00</td>\n",
       "      <td>943.0</td>\n",
       "      <td>943.6</td>\n",
       "      <td>943.0</td>\n",
       "      <td>943.5</td>\n",
       "      <td>121.0</td>\n",
       "    </tr>\n",
       "    <tr>\n",
       "      <th>3</th>\n",
       "      <td>2018-08-13 09:03:00</td>\n",
       "      <td>943.3</td>\n",
       "      <td>943.4</td>\n",
       "      <td>943.3</td>\n",
       "      <td>943.4</td>\n",
       "      <td>135.0</td>\n",
       "    </tr>\n",
       "    <tr>\n",
       "      <th>4</th>\n",
       "      <td>2018-08-13 09:04:00</td>\n",
       "      <td>943.2</td>\n",
       "      <td>943.2</td>\n",
       "      <td>943.0</td>\n",
       "      <td>943.1</td>\n",
       "      <td>361.0</td>\n",
       "    </tr>\n",
       "    <tr>\n",
       "      <th>...</th>\n",
       "      <td>...</td>\n",
       "      <td>...</td>\n",
       "      <td>...</td>\n",
       "      <td>...</td>\n",
       "      <td>...</td>\n",
       "      <td>...</td>\n",
       "    </tr>\n",
       "    <tr>\n",
       "      <th>354261</th>\n",
       "      <td>2024-07-02 13:36:00</td>\n",
       "      <td>1294.6</td>\n",
       "      <td>1294.7</td>\n",
       "      <td>1294.4</td>\n",
       "      <td>1294.6</td>\n",
       "      <td>808.0</td>\n",
       "    </tr>\n",
       "    <tr>\n",
       "      <th>354262</th>\n",
       "      <td>2024-07-02 13:37:00</td>\n",
       "      <td>1294.6</td>\n",
       "      <td>1295.3</td>\n",
       "      <td>1294.5</td>\n",
       "      <td>1294.6</td>\n",
       "      <td>628.0</td>\n",
       "    </tr>\n",
       "    <tr>\n",
       "      <th>354263</th>\n",
       "      <td>2024-07-02 13:38:00</td>\n",
       "      <td>1294.8</td>\n",
       "      <td>1295.2</td>\n",
       "      <td>1294.7</td>\n",
       "      <td>1295.2</td>\n",
       "      <td>276.0</td>\n",
       "    </tr>\n",
       "    <tr>\n",
       "      <th>354264</th>\n",
       "      <td>2024-07-02 13:39:00</td>\n",
       "      <td>1295.0</td>\n",
       "      <td>1295.3</td>\n",
       "      <td>1295.0</td>\n",
       "      <td>1295.0</td>\n",
       "      <td>380.0</td>\n",
       "    </tr>\n",
       "    <tr>\n",
       "      <th>354265</th>\n",
       "      <td>2024-07-02 13:40:00</td>\n",
       "      <td>1295.0</td>\n",
       "      <td>1295.2</td>\n",
       "      <td>1295.0</td>\n",
       "      <td>1295.0</td>\n",
       "      <td>339.0</td>\n",
       "    </tr>\n",
       "  </tbody>\n",
       "</table>\n",
       "<p>354266 rows × 6 columns</p>\n",
       "</div>"
      ],
      "text/plain": [
       "                      Date    Open    High     Low   Close  Volume\n",
       "0      2018-08-13 09:00:00   943.5   943.5   942.9   942.9   975.0\n",
       "1      2018-08-13 09:01:00   943.0   943.1   942.9   943.1   220.0\n",
       "2      2018-08-13 09:02:00   943.0   943.6   943.0   943.5   121.0\n",
       "3      2018-08-13 09:03:00   943.3   943.4   943.3   943.4   135.0\n",
       "4      2018-08-13 09:04:00   943.2   943.2   943.0   943.1   361.0\n",
       "...                    ...     ...     ...     ...     ...     ...\n",
       "354261 2024-07-02 13:36:00  1294.6  1294.7  1294.4  1294.6   808.0\n",
       "354262 2024-07-02 13:37:00  1294.6  1295.3  1294.5  1294.6   628.0\n",
       "354263 2024-07-02 13:38:00  1294.8  1295.2  1294.7  1295.2   276.0\n",
       "354264 2024-07-02 13:39:00  1295.0  1295.3  1295.0  1295.0   380.0\n",
       "354265 2024-07-02 13:40:00  1295.0  1295.2  1295.0  1295.0   339.0\n",
       "\n",
       "[354266 rows x 6 columns]"
      ]
     },
     "execution_count": 24,
     "metadata": {},
     "output_type": "execute_result"
    }
   ],
   "source": [
    "combined_data"
   ]
  },
  {
   "cell_type": "code",
   "execution_count": 25,
   "id": "2439c542",
   "metadata": {
    "execution": {
     "iopub.execute_input": "2024-07-02T06:41:43.939607Z",
     "iopub.status.busy": "2024-07-02T06:41:43.939154Z",
     "iopub.status.idle": "2024-07-02T06:41:43.944264Z",
     "shell.execute_reply": "2024-07-02T06:41:43.943071Z"
    },
    "id": "Ry5XUuzySfKG",
    "papermill": {
     "duration": 0.038253,
     "end_time": "2024-07-02T06:41:43.946700",
     "exception": false,
     "start_time": "2024-07-02T06:41:43.908447",
     "status": "completed"
    },
    "tags": []
   },
   "outputs": [],
   "source": [
    "data=combined_data"
   ]
  },
  {
   "cell_type": "code",
   "execution_count": 26,
   "id": "a8e893a7",
   "metadata": {
    "execution": {
     "iopub.execute_input": "2024-07-02T06:41:44.005908Z",
     "iopub.status.busy": "2024-07-02T06:41:44.005517Z",
     "iopub.status.idle": "2024-07-02T06:41:44.029434Z",
     "shell.execute_reply": "2024-07-02T06:41:44.028298Z"
    },
    "id": "3CiXOqameGVO",
    "outputId": "3ce99165-e80b-413d-84aa-8e400b3cb69a",
    "papermill": {
     "duration": 0.056119,
     "end_time": "2024-07-02T06:41:44.031828",
     "exception": false,
     "start_time": "2024-07-02T06:41:43.975709",
     "status": "completed"
    },
    "tags": []
   },
   "outputs": [
    {
     "data": {
      "text/html": [
       "<div>\n",
       "<style scoped>\n",
       "    .dataframe tbody tr th:only-of-type {\n",
       "        vertical-align: middle;\n",
       "    }\n",
       "\n",
       "    .dataframe tbody tr th {\n",
       "        vertical-align: top;\n",
       "    }\n",
       "\n",
       "    .dataframe thead th {\n",
       "        text-align: right;\n",
       "    }\n",
       "</style>\n",
       "<table border=\"1\" class=\"dataframe\">\n",
       "  <thead>\n",
       "    <tr style=\"text-align: right;\">\n",
       "      <th></th>\n",
       "      <th>Date</th>\n",
       "      <th>Open</th>\n",
       "      <th>High</th>\n",
       "      <th>Low</th>\n",
       "      <th>Close</th>\n",
       "      <th>Volume</th>\n",
       "    </tr>\n",
       "  </thead>\n",
       "  <tbody>\n",
       "    <tr>\n",
       "      <th>278507</th>\n",
       "      <td>2023-05-31 09:00:00</td>\n",
       "      <td>1067.7</td>\n",
       "      <td>1067.7</td>\n",
       "      <td>1066.8</td>\n",
       "      <td>1067.3</td>\n",
       "      <td>1860</td>\n",
       "    </tr>\n",
       "    <tr>\n",
       "      <th>278508</th>\n",
       "      <td>2023-05-31 09:01:00</td>\n",
       "      <td>1067.2</td>\n",
       "      <td>1067.3</td>\n",
       "      <td>1067.1</td>\n",
       "      <td>1067.2</td>\n",
       "      <td>641</td>\n",
       "    </tr>\n",
       "    <tr>\n",
       "      <th>278509</th>\n",
       "      <td>2023-05-31 09:02:00</td>\n",
       "      <td>1067.2</td>\n",
       "      <td>1068.1</td>\n",
       "      <td>1067.1</td>\n",
       "      <td>1068.1</td>\n",
       "      <td>724</td>\n",
       "    </tr>\n",
       "    <tr>\n",
       "      <th>278510</th>\n",
       "      <td>2023-05-31 09:03:00</td>\n",
       "      <td>1067.9</td>\n",
       "      <td>1068.1</td>\n",
       "      <td>1067.9</td>\n",
       "      <td>1068.0</td>\n",
       "      <td>428</td>\n",
       "    </tr>\n",
       "    <tr>\n",
       "      <th>278511</th>\n",
       "      <td>2023-05-31 09:04:00</td>\n",
       "      <td>1068.0</td>\n",
       "      <td>1068.1</td>\n",
       "      <td>1068.0</td>\n",
       "      <td>1068.1</td>\n",
       "      <td>312</td>\n",
       "    </tr>\n",
       "    <tr>\n",
       "      <th>...</th>\n",
       "      <td>...</td>\n",
       "      <td>...</td>\n",
       "      <td>...</td>\n",
       "      <td>...</td>\n",
       "      <td>...</td>\n",
       "      <td>...</td>\n",
       "    </tr>\n",
       "    <tr>\n",
       "      <th>278745</th>\n",
       "      <td>2023-05-31 14:27:00</td>\n",
       "      <td>1063.0</td>\n",
       "      <td>1063.0</td>\n",
       "      <td>1062.1</td>\n",
       "      <td>1062.2</td>\n",
       "      <td>1400</td>\n",
       "    </tr>\n",
       "    <tr>\n",
       "      <th>278746</th>\n",
       "      <td>2023-05-31 14:28:00</td>\n",
       "      <td>1062.7</td>\n",
       "      <td>1062.8</td>\n",
       "      <td>1062.3</td>\n",
       "      <td>1062.7</td>\n",
       "      <td>1022</td>\n",
       "    </tr>\n",
       "    <tr>\n",
       "      <th>278747</th>\n",
       "      <td>2023-05-31 14:29:00</td>\n",
       "      <td>1062.7</td>\n",
       "      <td>1063.0</td>\n",
       "      <td>1062.0</td>\n",
       "      <td>1062.6</td>\n",
       "      <td>2209</td>\n",
       "    </tr>\n",
       "    <tr>\n",
       "      <th>278748</th>\n",
       "      <td>2023-05-31 14:30:00</td>\n",
       "      <td>1062.2</td>\n",
       "      <td>1062.2</td>\n",
       "      <td>1062.2</td>\n",
       "      <td>1062.2</td>\n",
       "      <td>22</td>\n",
       "    </tr>\n",
       "    <tr>\n",
       "      <th>278749</th>\n",
       "      <td>2023-05-31 14:45:00</td>\n",
       "      <td>1062.6</td>\n",
       "      <td>1062.6</td>\n",
       "      <td>1062.6</td>\n",
       "      <td>1062.6</td>\n",
       "      <td>5649</td>\n",
       "    </tr>\n",
       "  </tbody>\n",
       "</table>\n",
       "<p>243 rows × 6 columns</p>\n",
       "</div>"
      ],
      "text/plain": [
       "                      Date    Open    High     Low   Close  Volume\n",
       "278507 2023-05-31 09:00:00  1067.7  1067.7  1066.8  1067.3    1860\n",
       "278508 2023-05-31 09:01:00  1067.2  1067.3  1067.1  1067.2     641\n",
       "278509 2023-05-31 09:02:00  1067.2  1068.1  1067.1  1068.1     724\n",
       "278510 2023-05-31 09:03:00  1067.9  1068.1  1067.9  1068.0     428\n",
       "278511 2023-05-31 09:04:00  1068.0  1068.1  1068.0  1068.1     312\n",
       "...                    ...     ...     ...     ...     ...     ...\n",
       "278745 2023-05-31 14:27:00  1063.0  1063.0  1062.1  1062.2    1400\n",
       "278746 2023-05-31 14:28:00  1062.7  1062.8  1062.3  1062.7    1022\n",
       "278747 2023-05-31 14:29:00  1062.7  1063.0  1062.0  1062.6    2209\n",
       "278748 2023-05-31 14:30:00  1062.2  1062.2  1062.2  1062.2      22\n",
       "278749 2023-05-31 14:45:00  1062.6  1062.6  1062.6  1062.6    5649\n",
       "\n",
       "[243 rows x 6 columns]"
      ]
     },
     "execution_count": 26,
     "metadata": {},
     "output_type": "execute_result"
    }
   ],
   "source": [
    "df[\n",
    "    (df['Date'] >= '2023-04-01') & (df['Date'] <= '2023-08-01')\n",
    "]"
   ]
  },
  {
   "cell_type": "code",
   "execution_count": 27,
   "id": "093260be",
   "metadata": {
    "execution": {
     "iopub.execute_input": "2024-07-02T06:41:44.091797Z",
     "iopub.status.busy": "2024-07-02T06:41:44.091376Z",
     "iopub.status.idle": "2024-07-02T06:41:44.117382Z",
     "shell.execute_reply": "2024-07-02T06:41:44.116265Z"
    },
    "id": "-e_nadYJDRFn",
    "outputId": "57eec791-7d6f-4e89-b52c-b1432206f856",
    "papermill": {
     "duration": 0.059145,
     "end_time": "2024-07-02T06:41:44.120071",
     "exception": false,
     "start_time": "2024-07-02T06:41:44.060926",
     "status": "completed"
    },
    "tags": []
   },
   "outputs": [
    {
     "data": {
      "text/html": [
       "<div>\n",
       "<style scoped>\n",
       "    .dataframe tbody tr th:only-of-type {\n",
       "        vertical-align: middle;\n",
       "    }\n",
       "\n",
       "    .dataframe tbody tr th {\n",
       "        vertical-align: top;\n",
       "    }\n",
       "\n",
       "    .dataframe thead th {\n",
       "        text-align: right;\n",
       "    }\n",
       "</style>\n",
       "<table border=\"1\" class=\"dataframe\">\n",
       "  <thead>\n",
       "    <tr style=\"text-align: right;\">\n",
       "      <th></th>\n",
       "      <th>Date</th>\n",
       "      <th>Open</th>\n",
       "      <th>High</th>\n",
       "      <th>Low</th>\n",
       "      <th>Close</th>\n",
       "      <th>Volume</th>\n",
       "    </tr>\n",
       "  </thead>\n",
       "  <tbody>\n",
       "    <tr>\n",
       "      <th>278507</th>\n",
       "      <td>2023-04-03 09:00:00</td>\n",
       "      <td>1081.3</td>\n",
       "      <td>1082.6</td>\n",
       "      <td>1080.6</td>\n",
       "      <td>1080.6</td>\n",
       "      <td>3444.0</td>\n",
       "    </tr>\n",
       "    <tr>\n",
       "      <th>278508</th>\n",
       "      <td>2023-04-03 09:01:00</td>\n",
       "      <td>1081.3</td>\n",
       "      <td>1082.6</td>\n",
       "      <td>1080.6</td>\n",
       "      <td>1080.6</td>\n",
       "      <td>3444.0</td>\n",
       "    </tr>\n",
       "    <tr>\n",
       "      <th>278509</th>\n",
       "      <td>2023-04-03 09:02:00</td>\n",
       "      <td>1081.3</td>\n",
       "      <td>1082.6</td>\n",
       "      <td>1080.6</td>\n",
       "      <td>1080.6</td>\n",
       "      <td>3444.0</td>\n",
       "    </tr>\n",
       "    <tr>\n",
       "      <th>278510</th>\n",
       "      <td>2023-04-03 09:03:00</td>\n",
       "      <td>1080.7</td>\n",
       "      <td>1081.2</td>\n",
       "      <td>1080.4</td>\n",
       "      <td>1080.4</td>\n",
       "      <td>1419.0</td>\n",
       "    </tr>\n",
       "    <tr>\n",
       "      <th>278511</th>\n",
       "      <td>2023-04-03 09:04:00</td>\n",
       "      <td>1080.7</td>\n",
       "      <td>1081.2</td>\n",
       "      <td>1080.4</td>\n",
       "      <td>1080.4</td>\n",
       "      <td>1419.0</td>\n",
       "    </tr>\n",
       "    <tr>\n",
       "      <th>...</th>\n",
       "      <td>...</td>\n",
       "      <td>...</td>\n",
       "      <td>...</td>\n",
       "      <td>...</td>\n",
       "      <td>...</td>\n",
       "      <td>...</td>\n",
       "    </tr>\n",
       "    <tr>\n",
       "      <th>307662</th>\n",
       "      <td>2023-07-31 14:27:00</td>\n",
       "      <td>1227.8</td>\n",
       "      <td>1231.8</td>\n",
       "      <td>1227.8</td>\n",
       "      <td>1231.8</td>\n",
       "      <td>2325.0</td>\n",
       "    </tr>\n",
       "    <tr>\n",
       "      <th>307663</th>\n",
       "      <td>2023-07-31 14:28:00</td>\n",
       "      <td>1227.8</td>\n",
       "      <td>1231.8</td>\n",
       "      <td>1227.8</td>\n",
       "      <td>1231.8</td>\n",
       "      <td>2325.0</td>\n",
       "    </tr>\n",
       "    <tr>\n",
       "      <th>307664</th>\n",
       "      <td>2023-07-31 14:29:00</td>\n",
       "      <td>1227.8</td>\n",
       "      <td>1231.8</td>\n",
       "      <td>1227.8</td>\n",
       "      <td>1231.8</td>\n",
       "      <td>2325.0</td>\n",
       "    </tr>\n",
       "    <tr>\n",
       "      <th>307665</th>\n",
       "      <td>2023-07-31 14:30:00</td>\n",
       "      <td>1231.9</td>\n",
       "      <td>1232.0</td>\n",
       "      <td>1231.9</td>\n",
       "      <td>1232.0</td>\n",
       "      <td>195.0</td>\n",
       "    </tr>\n",
       "    <tr>\n",
       "      <th>307666</th>\n",
       "      <td>2023-07-31 14:45:00</td>\n",
       "      <td>1234.2</td>\n",
       "      <td>1234.2</td>\n",
       "      <td>1234.2</td>\n",
       "      <td>1234.2</td>\n",
       "      <td>7378.0</td>\n",
       "    </tr>\n",
       "  </tbody>\n",
       "</table>\n",
       "<p>29160 rows × 6 columns</p>\n",
       "</div>"
      ],
      "text/plain": [
       "                      Date    Open    High     Low   Close  Volume\n",
       "278507 2023-04-03 09:00:00  1081.3  1082.6  1080.6  1080.6  3444.0\n",
       "278508 2023-04-03 09:01:00  1081.3  1082.6  1080.6  1080.6  3444.0\n",
       "278509 2023-04-03 09:02:00  1081.3  1082.6  1080.6  1080.6  3444.0\n",
       "278510 2023-04-03 09:03:00  1080.7  1081.2  1080.4  1080.4  1419.0\n",
       "278511 2023-04-03 09:04:00  1080.7  1081.2  1080.4  1080.4  1419.0\n",
       "...                    ...     ...     ...     ...     ...     ...\n",
       "307662 2023-07-31 14:27:00  1227.8  1231.8  1227.8  1231.8  2325.0\n",
       "307663 2023-07-31 14:28:00  1227.8  1231.8  1227.8  1231.8  2325.0\n",
       "307664 2023-07-31 14:29:00  1227.8  1231.8  1227.8  1231.8  2325.0\n",
       "307665 2023-07-31 14:30:00  1231.9  1232.0  1231.9  1232.0   195.0\n",
       "307666 2023-07-31 14:45:00  1234.2  1234.2  1234.2  1234.2  7378.0\n",
       "\n",
       "[29160 rows x 6 columns]"
      ]
     },
     "execution_count": 27,
     "metadata": {},
     "output_type": "execute_result"
    }
   ],
   "source": [
    "data[\n",
    "    (data['Date'] >= '2023-04-01') & (data['Date'] <= '2023-08-01')\n",
    "]"
   ]
  },
  {
   "cell_type": "markdown",
   "id": "4050c334",
   "metadata": {
    "id": "CVnajMk3qnAA",
    "papermill": {
     "duration": 0.029824,
     "end_time": "2024-07-02T06:41:44.179664",
     "exception": false,
     "start_time": "2024-07-02T06:41:44.149840",
     "status": "completed"
    },
    "tags": []
   },
   "source": [
    "## Preprocess"
   ]
  },
  {
   "cell_type": "code",
   "execution_count": 28,
   "id": "8f272997",
   "metadata": {
    "execution": {
     "iopub.execute_input": "2024-07-02T06:41:44.241530Z",
     "iopub.status.busy": "2024-07-02T06:41:44.240558Z",
     "iopub.status.idle": "2024-07-02T06:41:44.271105Z",
     "shell.execute_reply": "2024-07-02T06:41:44.269914Z"
    },
    "id": "ujwxx5YlqnAA",
    "papermill": {
     "duration": 0.064554,
     "end_time": "2024-07-02T06:41:44.273893",
     "exception": false,
     "start_time": "2024-07-02T06:41:44.209339",
     "status": "completed"
    },
    "tags": []
   },
   "outputs": [],
   "source": [
    "from scipy.stats.mstats import winsorize\n",
    "# Áp dụng Winsorization\n",
    "data['Close'] = winsorize(data['Close'], limits=[0.05, 0.05])"
   ]
  },
  {
   "cell_type": "code",
   "execution_count": 29,
   "id": "4a1526ec",
   "metadata": {
    "execution": {
     "iopub.execute_input": "2024-07-02T06:41:44.336468Z",
     "iopub.status.busy": "2024-07-02T06:41:44.335459Z",
     "iopub.status.idle": "2024-07-02T06:41:44.344371Z",
     "shell.execute_reply": "2024-07-02T06:41:44.343268Z"
    },
    "id": "gSLYyILZqnAA",
    "papermill": {
     "duration": 0.042968,
     "end_time": "2024-07-02T06:41:44.346885",
     "exception": false,
     "start_time": "2024-07-02T06:41:44.303917",
     "status": "completed"
    },
    "tags": []
   },
   "outputs": [],
   "source": [
    "def process_data(data):\n",
    "    data.set_index('Date', inplace =True)\n",
    "    data.columns = ['Open','High','Low','Close','Volume']\n",
    "\n",
    "    data['Date'] = [str(i)[:10] for i in data.index]\n",
    "    data['time'] = [str(i)[11:] for i in data.index]\n",
    "\n",
    "    data = data[~data.index.duplicated(keep='first')] # Handling duplicate\n",
    "    data_model = data.pivot(index = 'Date', columns = 'time', values = ['Open','High','Low','Close','Volume']).ffill(axis = 1).stack().reset_index() # Handling missing values\n",
    "    # data_model.columns = ['Date','time','Close']\n",
    "\n",
    "    return data_model"
   ]
  },
  {
   "cell_type": "code",
   "execution_count": 30,
   "id": "222df9d8",
   "metadata": {
    "execution": {
     "iopub.execute_input": "2024-07-02T06:41:44.409406Z",
     "iopub.status.busy": "2024-07-02T06:41:44.408509Z",
     "iopub.status.idle": "2024-07-02T06:41:49.454750Z",
     "shell.execute_reply": "2024-07-02T06:41:49.453529Z"
    },
    "id": "rIkgvyquqnAA",
    "papermill": {
     "duration": 5.081193,
     "end_time": "2024-07-02T06:41:49.458459",
     "exception": false,
     "start_time": "2024-07-02T06:41:44.377266",
     "status": "completed"
    },
    "tags": []
   },
   "outputs": [
    {
     "name": "stderr",
     "output_type": "stream",
     "text": [
      "/tmp/ipykernel_19/3085240317.py:9: FutureWarning: The previous implementation of stack is deprecated and will be removed in a future version of pandas. See the What's New notes for pandas 2.1.0 for details. Specify future_stack=True to adopt the new implementation and silence this warning.\n",
      "  data_model = data.pivot(index = 'Date', columns = 'time', values = ['Open','High','Low','Close','Volume']).ffill(axis = 1).stack().reset_index() # Handling missing values\n"
     ]
    }
   ],
   "source": [
    "data = process_data(data)"
   ]
  },
  {
   "cell_type": "code",
   "execution_count": 31,
   "id": "9effb825",
   "metadata": {
    "execution": {
     "iopub.execute_input": "2024-07-02T06:41:49.521102Z",
     "iopub.status.busy": "2024-07-02T06:41:49.520670Z",
     "iopub.status.idle": "2024-07-02T06:41:49.541265Z",
     "shell.execute_reply": "2024-07-02T06:41:49.540169Z"
    },
    "id": "K6SIVJpGqnAA",
    "outputId": "9cc29c72-3c4c-4798-e63e-71cccd2ec513",
    "papermill": {
     "duration": 0.05444,
     "end_time": "2024-07-02T06:41:49.543577",
     "exception": false,
     "start_time": "2024-07-02T06:41:49.489137",
     "status": "completed"
    },
    "tags": []
   },
   "outputs": [
    {
     "data": {
      "text/html": [
       "<div>\n",
       "<style scoped>\n",
       "    .dataframe tbody tr th:only-of-type {\n",
       "        vertical-align: middle;\n",
       "    }\n",
       "\n",
       "    .dataframe tbody tr th {\n",
       "        vertical-align: top;\n",
       "    }\n",
       "\n",
       "    .dataframe thead th {\n",
       "        text-align: right;\n",
       "    }\n",
       "</style>\n",
       "<table border=\"1\" class=\"dataframe\">\n",
       "  <thead>\n",
       "    <tr style=\"text-align: right;\">\n",
       "      <th></th>\n",
       "      <th>Date</th>\n",
       "      <th>time</th>\n",
       "      <th>Open</th>\n",
       "      <th>High</th>\n",
       "      <th>Low</th>\n",
       "      <th>Close</th>\n",
       "      <th>Volume</th>\n",
       "    </tr>\n",
       "  </thead>\n",
       "  <tbody>\n",
       "    <tr>\n",
       "      <th>0</th>\n",
       "      <td>2018-08-13</td>\n",
       "      <td>09:00:00</td>\n",
       "      <td>943.5</td>\n",
       "      <td>943.5</td>\n",
       "      <td>942.9</td>\n",
       "      <td>942.9</td>\n",
       "      <td>975.0</td>\n",
       "    </tr>\n",
       "    <tr>\n",
       "      <th>1</th>\n",
       "      <td>2018-08-13</td>\n",
       "      <td>09:01:00</td>\n",
       "      <td>943.0</td>\n",
       "      <td>943.1</td>\n",
       "      <td>942.9</td>\n",
       "      <td>943.1</td>\n",
       "      <td>220.0</td>\n",
       "    </tr>\n",
       "    <tr>\n",
       "      <th>2</th>\n",
       "      <td>2018-08-13</td>\n",
       "      <td>09:02:00</td>\n",
       "      <td>943.0</td>\n",
       "      <td>943.6</td>\n",
       "      <td>943.0</td>\n",
       "      <td>943.5</td>\n",
       "      <td>121.0</td>\n",
       "    </tr>\n",
       "    <tr>\n",
       "      <th>3</th>\n",
       "      <td>2018-08-13</td>\n",
       "      <td>09:03:00</td>\n",
       "      <td>943.3</td>\n",
       "      <td>943.4</td>\n",
       "      <td>943.3</td>\n",
       "      <td>943.4</td>\n",
       "      <td>135.0</td>\n",
       "    </tr>\n",
       "    <tr>\n",
       "      <th>4</th>\n",
       "      <td>2018-08-13</td>\n",
       "      <td>09:04:00</td>\n",
       "      <td>943.2</td>\n",
       "      <td>943.2</td>\n",
       "      <td>943.0</td>\n",
       "      <td>943.1</td>\n",
       "      <td>361.0</td>\n",
       "    </tr>\n",
       "    <tr>\n",
       "      <th>...</th>\n",
       "      <td>...</td>\n",
       "      <td>...</td>\n",
       "      <td>...</td>\n",
       "      <td>...</td>\n",
       "      <td>...</td>\n",
       "      <td>...</td>\n",
       "      <td>...</td>\n",
       "    </tr>\n",
       "    <tr>\n",
       "      <th>356235</th>\n",
       "      <td>2024-07-02</td>\n",
       "      <td>14:27:00</td>\n",
       "      <td>1295.0</td>\n",
       "      <td>1295.2</td>\n",
       "      <td>1295.0</td>\n",
       "      <td>1295.0</td>\n",
       "      <td>339.0</td>\n",
       "    </tr>\n",
       "    <tr>\n",
       "      <th>356236</th>\n",
       "      <td>2024-07-02</td>\n",
       "      <td>14:28:00</td>\n",
       "      <td>1295.0</td>\n",
       "      <td>1295.2</td>\n",
       "      <td>1295.0</td>\n",
       "      <td>1295.0</td>\n",
       "      <td>339.0</td>\n",
       "    </tr>\n",
       "    <tr>\n",
       "      <th>356237</th>\n",
       "      <td>2024-07-02</td>\n",
       "      <td>14:29:00</td>\n",
       "      <td>1295.0</td>\n",
       "      <td>1295.2</td>\n",
       "      <td>1295.0</td>\n",
       "      <td>1295.0</td>\n",
       "      <td>339.0</td>\n",
       "    </tr>\n",
       "    <tr>\n",
       "      <th>356238</th>\n",
       "      <td>2024-07-02</td>\n",
       "      <td>14:30:00</td>\n",
       "      <td>1295.0</td>\n",
       "      <td>1295.2</td>\n",
       "      <td>1295.0</td>\n",
       "      <td>1295.0</td>\n",
       "      <td>339.0</td>\n",
       "    </tr>\n",
       "    <tr>\n",
       "      <th>356239</th>\n",
       "      <td>2024-07-02</td>\n",
       "      <td>14:45:00</td>\n",
       "      <td>1295.0</td>\n",
       "      <td>1295.2</td>\n",
       "      <td>1295.0</td>\n",
       "      <td>1295.0</td>\n",
       "      <td>339.0</td>\n",
       "    </tr>\n",
       "  </tbody>\n",
       "</table>\n",
       "<p>356240 rows × 7 columns</p>\n",
       "</div>"
      ],
      "text/plain": [
       "              Date      time    Open    High     Low   Close  Volume\n",
       "0       2018-08-13  09:00:00   943.5   943.5   942.9   942.9   975.0\n",
       "1       2018-08-13  09:01:00   943.0   943.1   942.9   943.1   220.0\n",
       "2       2018-08-13  09:02:00   943.0   943.6   943.0   943.5   121.0\n",
       "3       2018-08-13  09:03:00   943.3   943.4   943.3   943.4   135.0\n",
       "4       2018-08-13  09:04:00   943.2   943.2   943.0   943.1   361.0\n",
       "...            ...       ...     ...     ...     ...     ...     ...\n",
       "356235  2024-07-02  14:27:00  1295.0  1295.2  1295.0  1295.0   339.0\n",
       "356236  2024-07-02  14:28:00  1295.0  1295.2  1295.0  1295.0   339.0\n",
       "356237  2024-07-02  14:29:00  1295.0  1295.2  1295.0  1295.0   339.0\n",
       "356238  2024-07-02  14:30:00  1295.0  1295.2  1295.0  1295.0   339.0\n",
       "356239  2024-07-02  14:45:00  1295.0  1295.2  1295.0  1295.0   339.0\n",
       "\n",
       "[356240 rows x 7 columns]"
      ]
     },
     "execution_count": 31,
     "metadata": {},
     "output_type": "execute_result"
    }
   ],
   "source": [
    "data"
   ]
  },
  {
   "cell_type": "markdown",
   "id": "e848652e",
   "metadata": {
    "id": "AQlr_9yzqnAA",
    "papermill": {
     "duration": 0.029775,
     "end_time": "2024-07-02T06:41:49.603666",
     "exception": false,
     "start_time": "2024-07-02T06:41:49.573891",
     "status": "completed"
    },
    "tags": []
   },
   "source": [
    "## Create features"
   ]
  },
  {
   "cell_type": "code",
   "execution_count": 32,
   "id": "121bd455",
   "metadata": {
    "execution": {
     "iopub.execute_input": "2024-07-02T06:41:49.666871Z",
     "iopub.status.busy": "2024-07-02T06:41:49.666021Z",
     "iopub.status.idle": "2024-07-02T06:41:49.672706Z",
     "shell.execute_reply": "2024-07-02T06:41:49.671435Z"
    },
    "id": "H06z83k2bpjv",
    "papermill": {
     "duration": 0.040647,
     "end_time": "2024-07-02T06:41:49.675082",
     "exception": false,
     "start_time": "2024-07-02T06:41:49.634435",
     "status": "completed"
    },
    "tags": []
   },
   "outputs": [],
   "source": [
    "def z_score_rolling(series, window=30):\n",
    "    \"\"\"Tính Z-score rolling\"\"\"\n",
    "    mean = series.rolling(window).mean()\n",
    "    std = series.rolling(window).std(ddof=0)\n",
    "    z_score = (series - mean) / std\n",
    "    return z_score"
   ]
  },
  {
   "cell_type": "code",
   "execution_count": 33,
   "id": "f43115d9",
   "metadata": {
    "execution": {
     "iopub.execute_input": "2024-07-02T06:41:49.737969Z",
     "iopub.status.busy": "2024-07-02T06:41:49.737536Z",
     "iopub.status.idle": "2024-07-02T06:41:49.755054Z",
     "shell.execute_reply": "2024-07-02T06:41:49.753916Z"
    },
    "id": "1VS6xEuFqnAB",
    "papermill": {
     "duration": 0.052011,
     "end_time": "2024-07-02T06:41:49.757562",
     "exception": false,
     "start_time": "2024-07-02T06:41:49.705551",
     "status": "completed"
    },
    "tags": []
   },
   "outputs": [],
   "source": [
    "def generate_features(data, shift=1):\n",
    "    \"\"\"\n",
    "    Hàm này tạo ra các features mới từ dữ liệu cổ phiếu.\n",
    "\n",
    "    Args:\n",
    "    df (pandas.DataFrame): DataFrame chứa dữ liệu cần tạo features, có các cột 'open', 'high', 'low', 'close' và 'volume'.\n",
    "\n",
    "    Returns:\n",
    "    pandas.DataFrame: DataFrame đã được mở rộng với các features mới.\n",
    "    \"\"\"\n",
    "    df = data.copy()\n",
    "    # Thêm tất cả các đặc trưng kỹ thuật từ thư viện TA-Lib\n",
    "    # Bollinger Bands\n",
    "    df['BB_Middle'] = df['Close'].rolling(window=20).mean()\n",
    "    df['BB_Std'] = df['Close'].rolling(window=20).std()\n",
    "    df['BB_Upper'] = df['BB_Middle'] + 2 * df['BB_Std']\n",
    "    df['BB_Lower'] = df['BB_Middle'] - 2 * df['BB_Std']\n",
    "\n",
    "    # RSI\n",
    "    df['RSI'] = ta.rsi(df['Close'], length=14)\n",
    "\n",
    "    # MACD\n",
    "    macd = ta.macd(df['Close'], fast=12, slow=26, signal=9)\n",
    "    df['MACD'] = macd['MACD_12_26_9']\n",
    "    df['MACD_Signal'] = macd['MACDs_12_26_9']\n",
    "    df['MACD_Hist'] = macd['MACDh_12_26_9']\n",
    "\n",
    "    # Stochastic Oscillator\n",
    "    stoch = ta.stoch(df['High'], df['Low'], df['Close'])\n",
    "    df['Stoch_K'] = stoch['STOCHk_14_3_3']\n",
    "    df['Stoch_D'] = stoch['STOCHd_14_3_3']\n",
    "\n",
    "    # ATR\n",
    "    df['ATR'] = ta.atr(df['High'], df['Low'], df['Close'], length=14)\n",
    "\n",
    "    # Z-score rolling\n",
    "    df['Z_Score_Rolling'] = z_score_rolling(df['Close'], window=30)\n",
    "\n",
    "    # Percent Change 5 minutes\n",
    "    df['Trend_5min'] = df['Close'].pct_change(periods=5)\n",
    "\n",
    "    # Rolling Standard Deviation 30 minutes\n",
    "    df['Std_Rolling_30min'] = df['Close'].rolling(window=30).std()\n",
    "\n",
    "    # Difference between Close and 30 minutes Moving Average\n",
    "    ma_30min = df['Close'].rolling(window=30).mean()\n",
    "    df['Close_Minus_MA_30min'] = df['Close'] - ma_30min\n",
    "\n",
    "    # Simple Moving Average 10 minutes\n",
    "    df['SMA_10'] = df['Close'].rolling(window=10).mean()\n",
    "\n",
    "    df_ta = df.copy()\n",
    "    df_ta.ta.cores = 0\n",
    "    df_ta.ta.strategy('common')\n",
    "\n",
    "    cols_to_drop = ['Open', 'High', 'Low', 'Close', 'Volume', 'Date', 'time']\n",
    "    df_ta = df_ta.drop(columns=cols_to_drop, errors='ignore')\n",
    "\n",
    "    # Concatenate original dataframe with features from pandas-ta\n",
    "    df = pd.concat([df, df_ta], axis=1)\n",
    "\n",
    "    # Replace infinite values and fill NaN values with 0\n",
    "    df.replace([np.inf, -np.inf], np.nan, inplace=True)\n",
    "    df.fillna(0, inplace=True)\n",
    "\n",
    "    df2 = data.copy()\n",
    "    df2 = add_all_ta_features(df2, open=\"Open\", high=\"High\", low=\"Low\", close=\"Close\", volume=\"Volume\")\n",
    "    df2 = df2.drop(columns=['Date','time', 'Open','High','Low','Close','Volume'])\n",
    "\n",
    "    df3 = pd.concat([df, df2], axis=1)\n",
    "\n",
    "    return df3"
   ]
  },
  {
   "cell_type": "code",
   "execution_count": 34,
   "id": "1a7aeeb3",
   "metadata": {
    "execution": {
     "iopub.execute_input": "2024-07-02T06:41:49.820139Z",
     "iopub.status.busy": "2024-07-02T06:41:49.819703Z",
     "iopub.status.idle": "2024-07-02T06:44:26.577395Z",
     "shell.execute_reply": "2024-07-02T06:44:26.576001Z"
    },
    "id": "IGxFy81RqnAB",
    "outputId": "9a8f8469-bbdc-4b98-8a24-db0b57ef333e",
    "papermill": {
     "duration": 156.792798,
     "end_time": "2024-07-02T06:44:26.580791",
     "exception": false,
     "start_time": "2024-07-02T06:41:49.787993",
     "status": "completed"
    },
    "tags": []
   },
   "outputs": [
    {
     "name": "stdout",
     "output_type": "stream",
     "text": [
      "[X] Not an available strategy.\n"
     ]
    },
    {
     "name": "stderr",
     "output_type": "stream",
     "text": [
      "/opt/conda/lib/python3.10/site-packages/numpy/core/fromnumeric.py:59: RuntimeWarning: invalid value encountered in accumulate\n",
      "  return bound(*args, **kwds)\n"
     ]
    }
   ],
   "source": [
    "data  = generate_features(data)"
   ]
  },
  {
   "cell_type": "markdown",
   "id": "09bc0deb",
   "metadata": {
    "id": "gQzKrJCjqnAB",
    "papermill": {
     "duration": 0.0308,
     "end_time": "2024-07-02T06:44:26.643698",
     "exception": false,
     "start_time": "2024-07-02T06:44:26.612898",
     "status": "completed"
    },
    "tags": []
   },
   "source": [
    "Thêm các feature khác, ví dụ giá vàng (xem xét phù hợp với thời gian trong data)"
   ]
  },
  {
   "cell_type": "markdown",
   "id": "ffbb22fe",
   "metadata": {
    "id": "nVQerGPmqnAC",
    "papermill": {
     "duration": 0.030483,
     "end_time": "2024-07-02T06:44:26.705826",
     "exception": false,
     "start_time": "2024-07-02T06:44:26.675343",
     "status": "completed"
    },
    "tags": []
   },
   "source": [
    "# Feature Engineering"
   ]
  },
  {
   "cell_type": "code",
   "execution_count": 35,
   "id": "0502692e",
   "metadata": {
    "execution": {
     "iopub.execute_input": "2024-07-02T06:44:26.769852Z",
     "iopub.status.busy": "2024-07-02T06:44:26.769406Z",
     "iopub.status.idle": "2024-07-02T06:44:48.698973Z",
     "shell.execute_reply": "2024-07-02T06:44:48.697699Z"
    },
    "id": "-9nK3_PfqnAC",
    "papermill": {
     "duration": 21.964768,
     "end_time": "2024-07-02T06:44:48.701746",
     "exception": false,
     "start_time": "2024-07-02T06:44:26.736978",
     "status": "completed"
    },
    "tags": []
   },
   "outputs": [],
   "source": [
    "def drop_high_corr_columns(df, threshold=0.6):\n",
    "    ohlcv_columns = {'Date','time', 'Open','High','Low','Close','Volume'}\n",
    "\n",
    "     # Identify non-OHLCV and non-date/time columns\n",
    "    non_corr_columns = [col for col in df.columns if col not in ohlcv_columns]\n",
    "\n",
    "    # Compute the correlation matrix only for non-OHLCV and non-date/time columns\n",
    "    corr_matrix = df[non_corr_columns].corr().abs()\n",
    "\n",
    "    # Create a set to keep track of columns to drop\n",
    "    to_drop = set()\n",
    "\n",
    "    # Iterate over the upper triangle of the correlation matrix\n",
    "    for i in range(len(corr_matrix.columns)):\n",
    "        for j in range(i + 1, len(corr_matrix.columns)):\n",
    "            if corr_matrix.iloc[i, j] > threshold:\n",
    "                # If the correlation is higher than the threshold, mark the column with the higher index to drop\n",
    "                col_to_drop = corr_matrix.columns[j]\n",
    "                if col_to_drop not in ohlcv_columns:\n",
    "                    to_drop.add(col_to_drop)\n",
    "\n",
    "    # Drop the columns from the DataFrame\n",
    "    df_dropped = df.drop(columns=to_drop)\n",
    "    return df_dropped\n",
    "\n",
    "data = drop_high_corr_columns(data)"
   ]
  },
  {
   "cell_type": "markdown",
   "id": "ce784567",
   "metadata": {
    "id": "9DFSNfJOqnAB",
    "papermill": {
     "duration": 0.030745,
     "end_time": "2024-07-02T06:44:48.763427",
     "exception": false,
     "start_time": "2024-07-02T06:44:48.732682",
     "status": "completed"
    },
    "tags": []
   },
   "source": [
    "# Add Predict Features"
   ]
  },
  {
   "cell_type": "code",
   "execution_count": 36,
   "id": "6b3f308e",
   "metadata": {
    "execution": {
     "iopub.execute_input": "2024-07-02T06:44:48.827172Z",
     "iopub.status.busy": "2024-07-02T06:44:48.826120Z",
     "iopub.status.idle": "2024-07-02T06:44:49.223717Z",
     "shell.execute_reply": "2024-07-02T06:44:49.222590Z"
    },
    "id": "nh3vE-96YUzQ",
    "outputId": "1f7ccdbb-4210-4011-d586-19b532abc0b0",
    "papermill": {
     "duration": 0.432465,
     "end_time": "2024-07-02T06:44:49.226508",
     "exception": false,
     "start_time": "2024-07-02T06:44:48.794043",
     "status": "completed"
    },
    "tags": []
   },
   "outputs": [
    {
     "data": {
      "text/html": [
       "<div>\n",
       "<style scoped>\n",
       "    .dataframe tbody tr th:only-of-type {\n",
       "        vertical-align: middle;\n",
       "    }\n",
       "\n",
       "    .dataframe tbody tr th {\n",
       "        vertical-align: top;\n",
       "    }\n",
       "\n",
       "    .dataframe thead th {\n",
       "        text-align: right;\n",
       "    }\n",
       "</style>\n",
       "<table border=\"1\" class=\"dataframe\">\n",
       "  <thead>\n",
       "    <tr style=\"text-align: right;\">\n",
       "      <th></th>\n",
       "      <th>Date</th>\n",
       "      <th>time</th>\n",
       "      <th>Open</th>\n",
       "      <th>High</th>\n",
       "      <th>Low</th>\n",
       "      <th>Close</th>\n",
       "      <th>Volume</th>\n",
       "      <th>volume_adi</th>\n",
       "      <th>volume_em</th>\n",
       "      <th>volume_sma_em</th>\n",
       "      <th>...</th>\n",
       "      <th>volatility_kcp</th>\n",
       "      <th>trend_mass_index</th>\n",
       "      <th>trend_dpo</th>\n",
       "      <th>trend_adx</th>\n",
       "      <th>trend_psar_up_indicator</th>\n",
       "      <th>trend_psar_down_indicator</th>\n",
       "      <th>momentum_pvo</th>\n",
       "      <th>momentum_pvo_hist</th>\n",
       "      <th>others_dr</th>\n",
       "      <th>Return</th>\n",
       "    </tr>\n",
       "  </thead>\n",
       "  <tbody>\n",
       "    <tr>\n",
       "      <th>1</th>\n",
       "      <td>2018-08-13</td>\n",
       "      <td>09:01:00</td>\n",
       "      <td>943.0</td>\n",
       "      <td>943.1</td>\n",
       "      <td>942.9</td>\n",
       "      <td>943.1</td>\n",
       "      <td>220.0</td>\n",
       "      <td>-755.000000</td>\n",
       "      <td>-18181.818182</td>\n",
       "      <td>0.0</td>\n",
       "      <td>...</td>\n",
       "      <td>0.541667</td>\n",
       "      <td>0.000000</td>\n",
       "      <td>0.0</td>\n",
       "      <td>0.000000</td>\n",
       "      <td>0.0</td>\n",
       "      <td>0.0</td>\n",
       "      <td>0.000000</td>\n",
       "      <td>0.000000</td>\n",
       "      <td>0.021211</td>\n",
       "      <td>0.000424</td>\n",
       "    </tr>\n",
       "    <tr>\n",
       "      <th>2</th>\n",
       "      <td>2018-08-13</td>\n",
       "      <td>09:02:00</td>\n",
       "      <td>943.0</td>\n",
       "      <td>943.6</td>\n",
       "      <td>943.0</td>\n",
       "      <td>943.5</td>\n",
       "      <td>121.0</td>\n",
       "      <td>-674.333333</td>\n",
       "      <td>148760.330579</td>\n",
       "      <td>0.0</td>\n",
       "      <td>...</td>\n",
       "      <td>0.857143</td>\n",
       "      <td>0.000000</td>\n",
       "      <td>0.0</td>\n",
       "      <td>0.000000</td>\n",
       "      <td>0.0</td>\n",
       "      <td>1.0</td>\n",
       "      <td>0.000000</td>\n",
       "      <td>0.000000</td>\n",
       "      <td>0.042413</td>\n",
       "      <td>-0.000106</td>\n",
       "    </tr>\n",
       "    <tr>\n",
       "      <th>3</th>\n",
       "      <td>2018-08-13</td>\n",
       "      <td>09:03:00</td>\n",
       "      <td>943.3</td>\n",
       "      <td>943.4</td>\n",
       "      <td>943.3</td>\n",
       "      <td>943.4</td>\n",
       "      <td>135.0</td>\n",
       "      <td>-539.333333</td>\n",
       "      <td>3703.703704</td>\n",
       "      <td>0.0</td>\n",
       "      <td>...</td>\n",
       "      <td>0.744444</td>\n",
       "      <td>0.000000</td>\n",
       "      <td>0.0</td>\n",
       "      <td>0.000000</td>\n",
       "      <td>0.0</td>\n",
       "      <td>0.0</td>\n",
       "      <td>0.000000</td>\n",
       "      <td>0.000000</td>\n",
       "      <td>-0.010599</td>\n",
       "      <td>-0.000318</td>\n",
       "    </tr>\n",
       "    <tr>\n",
       "      <th>4</th>\n",
       "      <td>2018-08-13</td>\n",
       "      <td>09:04:00</td>\n",
       "      <td>943.2</td>\n",
       "      <td>943.2</td>\n",
       "      <td>943.0</td>\n",
       "      <td>943.1</td>\n",
       "      <td>361.0</td>\n",
       "      <td>-539.333333</td>\n",
       "      <td>-13850.415512</td>\n",
       "      <td>0.0</td>\n",
       "      <td>...</td>\n",
       "      <td>0.362745</td>\n",
       "      <td>0.000000</td>\n",
       "      <td>0.0</td>\n",
       "      <td>0.000000</td>\n",
       "      <td>0.0</td>\n",
       "      <td>0.0</td>\n",
       "      <td>0.000000</td>\n",
       "      <td>0.000000</td>\n",
       "      <td>-0.031800</td>\n",
       "      <td>-0.000106</td>\n",
       "    </tr>\n",
       "    <tr>\n",
       "      <th>5</th>\n",
       "      <td>2018-08-13</td>\n",
       "      <td>09:05:00</td>\n",
       "      <td>943.1</td>\n",
       "      <td>943.1</td>\n",
       "      <td>942.9</td>\n",
       "      <td>943.0</td>\n",
       "      <td>343.0</td>\n",
       "      <td>-539.333333</td>\n",
       "      <td>-5830.903790</td>\n",
       "      <td>0.0</td>\n",
       "      <td>...</td>\n",
       "      <td>0.245614</td>\n",
       "      <td>0.000000</td>\n",
       "      <td>0.0</td>\n",
       "      <td>0.000000</td>\n",
       "      <td>0.0</td>\n",
       "      <td>0.0</td>\n",
       "      <td>0.000000</td>\n",
       "      <td>0.000000</td>\n",
       "      <td>-0.010603</td>\n",
       "      <td>0.000106</td>\n",
       "    </tr>\n",
       "    <tr>\n",
       "      <th>...</th>\n",
       "      <td>...</td>\n",
       "      <td>...</td>\n",
       "      <td>...</td>\n",
       "      <td>...</td>\n",
       "      <td>...</td>\n",
       "      <td>...</td>\n",
       "      <td>...</td>\n",
       "      <td>...</td>\n",
       "      <td>...</td>\n",
       "      <td>...</td>\n",
       "      <td>...</td>\n",
       "      <td>...</td>\n",
       "      <td>...</td>\n",
       "      <td>...</td>\n",
       "      <td>...</td>\n",
       "      <td>...</td>\n",
       "      <td>...</td>\n",
       "      <td>...</td>\n",
       "      <td>...</td>\n",
       "      <td>...</td>\n",
       "      <td>...</td>\n",
       "    </tr>\n",
       "    <tr>\n",
       "      <th>356235</th>\n",
       "      <td>2024-07-02</td>\n",
       "      <td>14:27:00</td>\n",
       "      <td>1295.0</td>\n",
       "      <td>1295.2</td>\n",
       "      <td>1295.0</td>\n",
       "      <td>1295.0</td>\n",
       "      <td>339.0</td>\n",
       "      <td>0.000000</td>\n",
       "      <td>0.000000</td>\n",
       "      <td>0.0</td>\n",
       "      <td>...</td>\n",
       "      <td>0.333333</td>\n",
       "      <td>24.743276</td>\n",
       "      <td>0.0</td>\n",
       "      <td>2.033592</td>\n",
       "      <td>0.0</td>\n",
       "      <td>0.0</td>\n",
       "      <td>-1.987405</td>\n",
       "      <td>0.836275</td>\n",
       "      <td>0.000000</td>\n",
       "      <td>0.000000</td>\n",
       "    </tr>\n",
       "    <tr>\n",
       "      <th>356236</th>\n",
       "      <td>2024-07-02</td>\n",
       "      <td>14:28:00</td>\n",
       "      <td>1295.0</td>\n",
       "      <td>1295.2</td>\n",
       "      <td>1295.0</td>\n",
       "      <td>1295.0</td>\n",
       "      <td>339.0</td>\n",
       "      <td>0.000000</td>\n",
       "      <td>0.000000</td>\n",
       "      <td>0.0</td>\n",
       "      <td>...</td>\n",
       "      <td>0.333333</td>\n",
       "      <td>24.786296</td>\n",
       "      <td>0.0</td>\n",
       "      <td>2.009593</td>\n",
       "      <td>0.0</td>\n",
       "      <td>0.0</td>\n",
       "      <td>-1.844949</td>\n",
       "      <td>0.782985</td>\n",
       "      <td>0.000000</td>\n",
       "      <td>0.000000</td>\n",
       "    </tr>\n",
       "    <tr>\n",
       "      <th>356237</th>\n",
       "      <td>2024-07-02</td>\n",
       "      <td>14:29:00</td>\n",
       "      <td>1295.0</td>\n",
       "      <td>1295.2</td>\n",
       "      <td>1295.0</td>\n",
       "      <td>1295.0</td>\n",
       "      <td>339.0</td>\n",
       "      <td>0.000000</td>\n",
       "      <td>0.000000</td>\n",
       "      <td>0.0</td>\n",
       "      <td>...</td>\n",
       "      <td>0.333333</td>\n",
       "      <td>24.822459</td>\n",
       "      <td>0.0</td>\n",
       "      <td>1.987309</td>\n",
       "      <td>0.0</td>\n",
       "      <td>0.0</td>\n",
       "      <td>-1.712356</td>\n",
       "      <td>0.732463</td>\n",
       "      <td>0.000000</td>\n",
       "      <td>0.000000</td>\n",
       "    </tr>\n",
       "    <tr>\n",
       "      <th>356238</th>\n",
       "      <td>2024-07-02</td>\n",
       "      <td>14:30:00</td>\n",
       "      <td>1295.0</td>\n",
       "      <td>1295.2</td>\n",
       "      <td>1295.0</td>\n",
       "      <td>1295.0</td>\n",
       "      <td>339.0</td>\n",
       "      <td>0.000000</td>\n",
       "      <td>0.000000</td>\n",
       "      <td>0.0</td>\n",
       "      <td>...</td>\n",
       "      <td>0.333333</td>\n",
       "      <td>24.852764</td>\n",
       "      <td>0.0</td>\n",
       "      <td>1.966616</td>\n",
       "      <td>0.0</td>\n",
       "      <td>0.0</td>\n",
       "      <td>-1.588994</td>\n",
       "      <td>0.684660</td>\n",
       "      <td>0.000000</td>\n",
       "      <td>0.000000</td>\n",
       "    </tr>\n",
       "    <tr>\n",
       "      <th>356239</th>\n",
       "      <td>2024-07-02</td>\n",
       "      <td>14:45:00</td>\n",
       "      <td>1295.0</td>\n",
       "      <td>1295.2</td>\n",
       "      <td>1295.0</td>\n",
       "      <td>1295.0</td>\n",
       "      <td>339.0</td>\n",
       "      <td>0.000000</td>\n",
       "      <td>0.000000</td>\n",
       "      <td>0.0</td>\n",
       "      <td>...</td>\n",
       "      <td>0.333333</td>\n",
       "      <td>24.878092</td>\n",
       "      <td>0.0</td>\n",
       "      <td>1.947402</td>\n",
       "      <td>0.0</td>\n",
       "      <td>0.0</td>\n",
       "      <td>-1.474264</td>\n",
       "      <td>0.639511</td>\n",
       "      <td>0.000000</td>\n",
       "      <td>0.000000</td>\n",
       "    </tr>\n",
       "  </tbody>\n",
       "</table>\n",
       "<p>356239 rows × 23 columns</p>\n",
       "</div>"
      ],
      "text/plain": [
       "              Date      time    Open    High     Low   Close  Volume  \\\n",
       "1       2018-08-13  09:01:00   943.0   943.1   942.9   943.1   220.0   \n",
       "2       2018-08-13  09:02:00   943.0   943.6   943.0   943.5   121.0   \n",
       "3       2018-08-13  09:03:00   943.3   943.4   943.3   943.4   135.0   \n",
       "4       2018-08-13  09:04:00   943.2   943.2   943.0   943.1   361.0   \n",
       "5       2018-08-13  09:05:00   943.1   943.1   942.9   943.0   343.0   \n",
       "...            ...       ...     ...     ...     ...     ...     ...   \n",
       "356235  2024-07-02  14:27:00  1295.0  1295.2  1295.0  1295.0   339.0   \n",
       "356236  2024-07-02  14:28:00  1295.0  1295.2  1295.0  1295.0   339.0   \n",
       "356237  2024-07-02  14:29:00  1295.0  1295.2  1295.0  1295.0   339.0   \n",
       "356238  2024-07-02  14:30:00  1295.0  1295.2  1295.0  1295.0   339.0   \n",
       "356239  2024-07-02  14:45:00  1295.0  1295.2  1295.0  1295.0   339.0   \n",
       "\n",
       "        volume_adi      volume_em  volume_sma_em  ...  volatility_kcp  \\\n",
       "1      -755.000000  -18181.818182            0.0  ...        0.541667   \n",
       "2      -674.333333  148760.330579            0.0  ...        0.857143   \n",
       "3      -539.333333    3703.703704            0.0  ...        0.744444   \n",
       "4      -539.333333  -13850.415512            0.0  ...        0.362745   \n",
       "5      -539.333333   -5830.903790            0.0  ...        0.245614   \n",
       "...            ...            ...            ...  ...             ...   \n",
       "356235    0.000000       0.000000            0.0  ...        0.333333   \n",
       "356236    0.000000       0.000000            0.0  ...        0.333333   \n",
       "356237    0.000000       0.000000            0.0  ...        0.333333   \n",
       "356238    0.000000       0.000000            0.0  ...        0.333333   \n",
       "356239    0.000000       0.000000            0.0  ...        0.333333   \n",
       "\n",
       "        trend_mass_index  trend_dpo  trend_adx  trend_psar_up_indicator  \\\n",
       "1               0.000000        0.0   0.000000                      0.0   \n",
       "2               0.000000        0.0   0.000000                      0.0   \n",
       "3               0.000000        0.0   0.000000                      0.0   \n",
       "4               0.000000        0.0   0.000000                      0.0   \n",
       "5               0.000000        0.0   0.000000                      0.0   \n",
       "...                  ...        ...        ...                      ...   \n",
       "356235         24.743276        0.0   2.033592                      0.0   \n",
       "356236         24.786296        0.0   2.009593                      0.0   \n",
       "356237         24.822459        0.0   1.987309                      0.0   \n",
       "356238         24.852764        0.0   1.966616                      0.0   \n",
       "356239         24.878092        0.0   1.947402                      0.0   \n",
       "\n",
       "        trend_psar_down_indicator  momentum_pvo  momentum_pvo_hist  others_dr  \\\n",
       "1                             0.0      0.000000           0.000000   0.021211   \n",
       "2                             1.0      0.000000           0.000000   0.042413   \n",
       "3                             0.0      0.000000           0.000000  -0.010599   \n",
       "4                             0.0      0.000000           0.000000  -0.031800   \n",
       "5                             0.0      0.000000           0.000000  -0.010603   \n",
       "...                           ...           ...                ...        ...   \n",
       "356235                        0.0     -1.987405           0.836275   0.000000   \n",
       "356236                        0.0     -1.844949           0.782985   0.000000   \n",
       "356237                        0.0     -1.712356           0.732463   0.000000   \n",
       "356238                        0.0     -1.588994           0.684660   0.000000   \n",
       "356239                        0.0     -1.474264           0.639511   0.000000   \n",
       "\n",
       "          Return  \n",
       "1       0.000424  \n",
       "2      -0.000106  \n",
       "3      -0.000318  \n",
       "4      -0.000106  \n",
       "5       0.000106  \n",
       "...          ...  \n",
       "356235  0.000000  \n",
       "356236  0.000000  \n",
       "356237  0.000000  \n",
       "356238  0.000000  \n",
       "356239  0.000000  \n",
       "\n",
       "[356239 rows x 23 columns]"
      ]
     },
     "execution_count": 36,
     "metadata": {},
     "output_type": "execute_result"
    }
   ],
   "source": [
    "data['Return'] = (data['Close'].shift(-rolling_window) - data['Close'])/data['Close']\n",
    "data = data.fillna(0)\n",
    "data = data.drop(index=0)\n",
    "data"
   ]
  },
  {
   "cell_type": "markdown",
   "id": "ea639198",
   "metadata": {
    "id": "RSoMZtvGYX93",
    "papermill": {
     "duration": 0.031,
     "end_time": "2024-07-02T06:44:49.288919",
     "exception": false,
     "start_time": "2024-07-02T06:44:49.257919",
     "status": "completed"
    },
    "tags": []
   },
   "source": [
    "# Select features using Optuna"
   ]
  },
  {
   "cell_type": "code",
   "execution_count": 37,
   "id": "44ad7d18",
   "metadata": {
    "execution": {
     "iopub.execute_input": "2024-07-02T06:44:49.354030Z",
     "iopub.status.busy": "2024-07-02T06:44:49.353635Z",
     "iopub.status.idle": "2024-07-02T06:44:49.583125Z",
     "shell.execute_reply": "2024-07-02T06:44:49.581775Z"
    },
    "id": "M3LHQmLyqnAC",
    "papermill": {
     "duration": 0.265536,
     "end_time": "2024-07-02T06:44:49.586007",
     "exception": false,
     "start_time": "2024-07-02T06:44:49.320471",
     "status": "completed"
    },
    "tags": []
   },
   "outputs": [
    {
     "name": "stderr",
     "output_type": "stream",
     "text": [
      "/opt/conda/lib/python3.10/site-packages/numpy/core/fromnumeric.py:59: FutureWarning: 'DataFrame.swapaxes' is deprecated and will be removed in a future version. Please use 'DataFrame.transpose' instead.\n",
      "  return bound(*args, **kwds)\n"
     ]
    }
   ],
   "source": [
    "def objective(trial, X_train, X_valid, y_train, y_valid, y_price):\n",
    "\n",
    "    # Select features based on Optuna's suggestions\n",
    "    selected_features = []\n",
    "\n",
    "    at_least_one_feature = False\n",
    "\n",
    "    for col in X_train.columns:\n",
    "        select_feature = trial.suggest_categorical(col, [0, 1])\n",
    "        if select_feature:\n",
    "            selected_features.append(col)\n",
    "            at_least_one_feature = True\n",
    "\n",
    "    # If no feature was selected, force selection of at least one feature\n",
    "    if not at_least_one_feature:\n",
    "        # Randomly select one feature to be included\n",
    "        forced_feature = trial.suggest_categorical('forced_feature', X_train.columns.tolist())\n",
    "        selected_features.append(forced_feature)\n",
    "\n",
    "    for t in trial.study.trials:\n",
    "        if t.state != optuna.trial.TrialState.COMPLETE:\n",
    "            continue\n",
    "        if t.params == trial.params:\n",
    "            return np.nan #t.values  # Return the previous value without re-evaluating i\n",
    "\n",
    "    trade_threshold  = 0.0001\n",
    "\n",
    "    # Use only the selected features in training\n",
    "    X_train_selected = X_train[selected_features]\n",
    "    X_valid_selected = X_valid[selected_features]\n",
    "\n",
    "    # Train the model\n",
    "    model = GradientBoostingRegressor()\n",
    "    model.fit(X_train_selected, y_train)\n",
    "\n",
    "    y_pred_train = model.predict(X_train_selected)\n",
    "    y_pred_valid = model.predict(X_valid_selected)\n",
    "\n",
    "    _, pos_is, _, sharpe_is = sharpe_for_vn30f(y_pred_train, y_price[:len(y_pred_train)], trade_threshold=trade_threshold, fee_perc=0.01, periods=10)\n",
    "    _, pos_os, _, sharpe_oos = sharpe_for_vn30f(y_pred_valid, y_price[len(y_pred_train):], trade_threshold=trade_threshold, fee_perc=0.01, periods=10)\n",
    "\n",
    "    print('Trade times in sample:',len(pos_is[pos_is != 0]), 'Trade times out sample:',len(pos_os[pos_os != 0]))\n",
    "\n",
    "    return sharpe_oos, abs((abs(sharpe_is / sharpe_oos))-1)\n",
    "\n",
    "X_train, X_valid, y_train, y_valid, train_data = split_optuna_data(data)"
   ]
  },
  {
   "cell_type": "code",
   "execution_count": 38,
   "id": "7ae0f0a6",
   "metadata": {
    "execution": {
     "iopub.execute_input": "2024-07-02T06:44:49.652331Z",
     "iopub.status.busy": "2024-07-02T06:44:49.651903Z",
     "iopub.status.idle": "2024-07-02T07:29:06.060673Z",
     "shell.execute_reply": "2024-07-02T07:29:06.059462Z"
    },
    "id": "JCMZkqqqqnAC",
    "outputId": "6522c662-7a29-4c96-fa2f-14f17c7b904f",
    "papermill": {
     "duration": 2656.445723,
     "end_time": "2024-07-02T07:29:06.063550",
     "exception": false,
     "start_time": "2024-07-02T06:44:49.617827",
     "status": "completed"
    },
    "tags": []
   },
   "outputs": [
    {
     "name": "stderr",
     "output_type": "stream",
     "text": [
      "[I 2024-07-02 06:44:49,656] A new study created in memory with name: no-name-f69756f9-5207-40db-8be1-c1ce6065fa19\n"
     ]
    },
    {
     "name": "stdout",
     "output_type": "stream",
     "text": [
      "A new study created in memory with name: no-name-f69756f9-5207-40db-8be1-c1ce6065fa19\n"
     ]
    },
    {
     "name": "stderr",
     "output_type": "stream",
     "text": [
      "[I 2024-07-02 06:45:15,877] Trial 0 finished with values: [-1.027067458166306, 0.9274689144146913] and parameters: {0: 0, 1: 0, 2: 1, 3: 1, 4: 0, 5: 1, 6: 1, 7: 1, 8: 0, 9: 1, 10: 0, 11: 1, 12: 0, 13: 0, 14: 0}. \n"
     ]
    },
    {
     "name": "stdout",
     "output_type": "stream",
     "text": [
      "Trade times in sample: 114840 Trade times out sample: 114636\n",
      "Trial 0 finished with values: [-1.027067458166306, 0.9274689144146913] and parameters: {0: 0, 1: 0, 2: 1, 3: 1, 4: 0, 5: 1, 6: 1, 7: 1, 8: 0, 9: 1, 10: 0, 11: 1, 12: 0, 13: 0, 14: 0}. \n"
     ]
    },
    {
     "name": "stderr",
     "output_type": "stream",
     "text": [
      "[I 2024-07-02 06:45:39,217] Trial 1 finished with values: [0.9731805675985865, 3.1613811121427045] and parameters: {0: 0, 1: 0, 2: 1, 3: 0, 4: 1, 5: 1, 6: 0, 7: 1, 8: 0, 9: 0, 10: 0, 11: 0, 12: 0, 13: 0, 14: 1}. \n"
     ]
    },
    {
     "name": "stdout",
     "output_type": "stream",
     "text": [
      "Trade times in sample: 118724 Trade times out sample: 118187\n",
      "Trial 1 finished with values: [0.9731805675985865, 3.1613811121427045] and parameters: {0: 0, 1: 0, 2: 1, 3: 0, 4: 1, 5: 1, 6: 0, 7: 1, 8: 0, 9: 0, 10: 0, 11: 0, 12: 0, 13: 0, 14: 1}. \n"
     ]
    },
    {
     "name": "stderr",
     "output_type": "stream",
     "text": [
      "[I 2024-07-02 06:46:11,874] Trial 2 finished with values: [-0.9674885500226138, 2.5469443405106538] and parameters: {0: 0, 1: 0, 2: 1, 3: 1, 4: 0, 5: 0, 6: 0, 7: 1, 8: 0, 9: 1, 10: 0, 11: 1, 12: 1, 13: 1, 14: 0}. \n"
     ]
    },
    {
     "name": "stdout",
     "output_type": "stream",
     "text": [
      "Trade times in sample: 117903 Trade times out sample: 118209\n",
      "Trial 2 finished with values: [-0.9674885500226138, 2.5469443405106538] and parameters: {0: 0, 1: 0, 2: 1, 3: 1, 4: 0, 5: 0, 6: 0, 7: 1, 8: 0, 9: 1, 10: 0, 11: 1, 12: 1, 13: 1, 14: 0}. \n"
     ]
    },
    {
     "name": "stderr",
     "output_type": "stream",
     "text": [
      "[I 2024-07-02 06:46:27,800] Trial 3 finished with values: [2.5456594476858814, 0.6706753913253931] and parameters: {0: 1, 1: 0, 2: 0, 3: 0, 4: 0, 5: 0, 6: 1, 7: 0, 8: 0, 9: 0, 10: 0, 11: 0, 12: 1, 13: 0, 14: 1}. \n"
     ]
    },
    {
     "name": "stdout",
     "output_type": "stream",
     "text": [
      "Trade times in sample: 118025 Trade times out sample: 118187\n",
      "Trial 3 finished with values: [2.5456594476858814, 0.6706753913253931] and parameters: {0: 1, 1: 0, 2: 0, 3: 0, 4: 0, 5: 0, 6: 1, 7: 0, 8: 0, 9: 0, 10: 0, 11: 0, 12: 1, 13: 0, 14: 1}. \n"
     ]
    },
    {
     "name": "stderr",
     "output_type": "stream",
     "text": [
      "[I 2024-07-02 06:47:04,030] Trial 4 finished with values: [0.06834530753772812, 58.643101380920534] and parameters: {0: 0, 1: 1, 2: 1, 3: 0, 4: 1, 5: 1, 6: 1, 7: 0, 8: 1, 9: 0, 10: 1, 11: 0, 12: 1, 13: 1, 14: 1}. \n"
     ]
    },
    {
     "name": "stdout",
     "output_type": "stream",
     "text": [
      "Trade times in sample: 118025 Trade times out sample: 118198\n",
      "Trial 4 finished with values: [0.06834530753772812, 58.643101380920534] and parameters: {0: 0, 1: 1, 2: 1, 3: 0, 4: 1, 5: 1, 6: 1, 7: 0, 8: 1, 9: 0, 10: 1, 11: 0, 12: 1, 13: 1, 14: 1}. \n"
     ]
    },
    {
     "name": "stderr",
     "output_type": "stream",
     "text": [
      "[I 2024-07-02 06:47:23,180] Trial 5 finished with values: [-0.8165576152631497, 2.0023662555400956] and parameters: {0: 1, 1: 1, 2: 1, 3: 1, 4: 1, 5: 0, 6: 1, 7: 0, 8: 1, 9: 0, 10: 1, 11: 1, 12: 0, 13: 0, 14: 0}. \n"
     ]
    },
    {
     "name": "stdout",
     "output_type": "stream",
     "text": [
      "Trade times in sample: 118025 Trade times out sample: 118187\n",
      "Trial 5 finished with values: [-0.8165576152631497, 2.0023662555400956] and parameters: {0: 1, 1: 1, 2: 1, 3: 1, 4: 1, 5: 0, 6: 1, 7: 0, 8: 1, 9: 0, 10: 1, 11: 1, 12: 0, 13: 0, 14: 0}. \n"
     ]
    },
    {
     "name": "stderr",
     "output_type": "stream",
     "text": [
      "[I 2024-07-02 06:47:57,805] Trial 6 finished with values: [1.6528987613492265, 1.61258794510178] and parameters: {0: 1, 1: 0, 2: 1, 3: 0, 4: 1, 5: 0, 6: 1, 7: 1, 8: 0, 9: 1, 10: 0, 11: 0, 12: 0, 13: 1, 14: 1}. \n"
     ]
    },
    {
     "name": "stdout",
     "output_type": "stream",
     "text": [
      "Trade times in sample: 118025 Trade times out sample: 118197\n",
      "Trial 6 finished with values: [1.6528987613492265, 1.61258794510178] and parameters: {0: 1, 1: 0, 2: 1, 3: 0, 4: 1, 5: 0, 6: 1, 7: 1, 8: 0, 9: 1, 10: 0, 11: 0, 12: 0, 13: 1, 14: 1}. \n"
     ]
    },
    {
     "name": "stderr",
     "output_type": "stream",
     "text": [
      "[I 2024-07-02 06:48:15,817] Trial 7 finished with values: [-0.6994013837586374, 3.664685300552276] and parameters: {0: 0, 1: 1, 2: 0, 3: 0, 4: 1, 5: 0, 6: 0, 7: 1, 8: 0, 9: 0, 10: 0, 11: 0, 12: 1, 13: 0, 14: 0}. \n"
     ]
    },
    {
     "name": "stdout",
     "output_type": "stream",
     "text": [
      "Trade times in sample: 118731 Trade times out sample: 118209\n",
      "Trial 7 finished with values: [-0.6994013837586374, 3.664685300552276] and parameters: {0: 0, 1: 1, 2: 0, 3: 0, 4: 1, 5: 0, 6: 0, 7: 1, 8: 0, 9: 0, 10: 0, 11: 0, 12: 1, 13: 0, 14: 0}. \n"
     ]
    },
    {
     "name": "stderr",
     "output_type": "stream",
     "text": [
      "[I 2024-07-02 06:48:46,537] Trial 8 finished with values: [-1.17614960403527, 1.4307137962799117] and parameters: {0: 0, 1: 1, 2: 1, 3: 1, 4: 1, 5: 0, 6: 1, 7: 1, 8: 0, 9: 1, 10: 0, 11: 1, 12: 0, 13: 1, 14: 0}. \n"
     ]
    },
    {
     "name": "stdout",
     "output_type": "stream",
     "text": [
      "Trade times in sample: 115341 Trade times out sample: 118208\n",
      "Trial 8 finished with values: [-1.17614960403527, 1.4307137962799117] and parameters: {0: 0, 1: 1, 2: 1, 3: 1, 4: 1, 5: 0, 6: 1, 7: 1, 8: 0, 9: 1, 10: 0, 11: 1, 12: 0, 13: 1, 14: 0}. \n"
     ]
    },
    {
     "name": "stderr",
     "output_type": "stream",
     "text": [
      "[I 2024-07-02 06:49:25,747] Trial 9 finished with values: [-0.5135380489021842, 5.36912885941299] and parameters: {0: 1, 1: 0, 2: 1, 3: 1, 4: 0, 5: 1, 6: 0, 7: 1, 8: 1, 9: 1, 10: 1, 11: 0, 12: 1, 13: 0, 14: 0}. \n"
     ]
    },
    {
     "name": "stdout",
     "output_type": "stream",
     "text": [
      "Trade times in sample: 117903 Trade times out sample: 118189\n",
      "Trial 9 finished with values: [-0.5135380489021842, 5.36912885941299] and parameters: {0: 1, 1: 0, 2: 1, 3: 1, 4: 0, 5: 1, 6: 0, 7: 1, 8: 1, 9: 1, 10: 1, 11: 0, 12: 1, 13: 0, 14: 0}. \n"
     ]
    },
    {
     "name": "stderr",
     "output_type": "stream",
     "text": [
      "[I 2024-07-02 06:49:50,055] Trial 10 finished with values: [-0.6873883353681832, 3.0177364582337702] and parameters: {0: 0, 1: 1, 2: 0, 3: 0, 4: 1, 5: 1, 6: 1, 7: 0, 8: 0, 9: 1, 10: 1, 11: 0, 12: 1, 13: 0, 14: 0}. \n"
     ]
    },
    {
     "name": "stdout",
     "output_type": "stream",
     "text": [
      "Trade times in sample: 115341 Trade times out sample: 118207\n",
      "Trial 10 finished with values: [-0.6873883353681832, 3.0177364582337702] and parameters: {0: 0, 1: 1, 2: 0, 3: 0, 4: 1, 5: 1, 6: 1, 7: 0, 8: 0, 9: 1, 10: 1, 11: 0, 12: 1, 13: 0, 14: 0}. \n"
     ]
    },
    {
     "name": "stderr",
     "output_type": "stream",
     "text": [
      "[I 2024-07-02 06:50:17,944] Trial 11 finished with values: [0.03416678113583642, 106.76198743616148] and parameters: {0: 0, 1: 1, 2: 1, 3: 1, 4: 1, 5: 1, 6: 1, 7: 0, 8: 0, 9: 1, 10: 0, 11: 1, 12: 0, 13: 0, 14: 1}. \n"
     ]
    },
    {
     "name": "stdout",
     "output_type": "stream",
     "text": [
      "Trade times in sample: 118025 Trade times out sample: 118187\n",
      "Trial 11 finished with values: [0.03416678113583642, 106.76198743616148] and parameters: {0: 0, 1: 1, 2: 1, 3: 1, 4: 1, 5: 1, 6: 1, 7: 0, 8: 0, 9: 1, 10: 0, 11: 1, 12: 0, 13: 0, 14: 1}. \n"
     ]
    },
    {
     "name": "stderr",
     "output_type": "stream",
     "text": [
      "[I 2024-07-02 06:50:47,092] Trial 12 finished with values: [0.3088406834818159, 8.83190459027925] and parameters: {0: 1, 1: 1, 2: 0, 3: 0, 4: 1, 5: 0, 6: 1, 7: 1, 8: 0, 9: 0, 10: 1, 11: 1, 12: 1, 13: 1, 14: 0}. \n"
     ]
    },
    {
     "name": "stdout",
     "output_type": "stream",
     "text": [
      "Trade times in sample: 118731 Trade times out sample: 118217\n",
      "Trial 12 finished with values: [0.3088406834818159, 8.83190459027925] and parameters: {0: 1, 1: 1, 2: 0, 3: 0, 4: 1, 5: 0, 6: 1, 7: 1, 8: 0, 9: 0, 10: 1, 11: 1, 12: 1, 13: 1, 14: 0}. \n"
     ]
    },
    {
     "name": "stderr",
     "output_type": "stream",
     "text": [
      "[I 2024-07-02 06:51:21,413] Trial 13 finished with values: [1.1603240741060978, 2.944178700261572] and parameters: {0: 1, 1: 0, 2: 0, 3: 0, 4: 0, 5: 1, 6: 0, 7: 1, 8: 0, 9: 0, 10: 1, 11: 1, 12: 1, 13: 1, 14: 1}. \n"
     ]
    },
    {
     "name": "stdout",
     "output_type": "stream",
     "text": [
      "Trade times in sample: 117781 Trade times out sample: 118209\n",
      "Trial 13 finished with values: [1.1603240741060978, 2.944178700261572] and parameters: {0: 1, 1: 0, 2: 0, 3: 0, 4: 0, 5: 1, 6: 0, 7: 1, 8: 0, 9: 0, 10: 1, 11: 1, 12: 1, 13: 1, 14: 1}. \n"
     ]
    },
    {
     "name": "stderr",
     "output_type": "stream",
     "text": [
      "[I 2024-07-02 06:51:46,398] Trial 14 finished with values: [-2.5307978868315253, 0.39018001181412476] and parameters: {0: 1, 1: 0, 2: 1, 3: 0, 4: 1, 5: 1, 6: 1, 7: 0, 8: 0, 9: 0, 10: 0, 11: 0, 12: 0, 13: 1, 14: 0}. \n"
     ]
    },
    {
     "name": "stdout",
     "output_type": "stream",
     "text": [
      "Trade times in sample: 118155 Trade times out sample: 117732\n",
      "Trial 14 finished with values: [-2.5307978868315253, 0.39018001181412476] and parameters: {0: 1, 1: 0, 2: 1, 3: 0, 4: 1, 5: 1, 6: 1, 7: 0, 8: 0, 9: 0, 10: 0, 11: 0, 12: 0, 13: 1, 14: 0}. \n"
     ]
    },
    {
     "name": "stderr",
     "output_type": "stream",
     "text": [
      "[I 2024-07-02 06:52:17,214] Trial 15 finished with values: [-3.280891942610576, 0.11135981429276143] and parameters: {0: 1, 1: 0, 2: 1, 3: 0, 4: 1, 5: 0, 6: 0, 7: 0, 8: 0, 9: 1, 10: 1, 11: 0, 12: 1, 13: 1, 14: 0}. \n"
     ]
    },
    {
     "name": "stdout",
     "output_type": "stream",
     "text": [
      "Trade times in sample: 115341 Trade times out sample: 116248\n",
      "Trial 15 finished with values: [-3.280891942610576, 0.11135981429276143] and parameters: {0: 1, 1: 0, 2: 1, 3: 0, 4: 1, 5: 0, 6: 0, 7: 0, 8: 0, 9: 1, 10: 1, 11: 0, 12: 1, 13: 1, 14: 0}. \n"
     ]
    },
    {
     "name": "stderr",
     "output_type": "stream",
     "text": [
      "[I 2024-07-02 06:52:41,612] Trial 16 finished with values: [-0.03852544209774601, 92.66935879276774] and parameters: {0: 0, 1: 1, 2: 0, 3: 0, 4: 0, 5: 0, 6: 1, 7: 1, 8: 0, 9: 0, 10: 1, 11: 1, 12: 1, 13: 1, 14: 0}. \n"
     ]
    },
    {
     "name": "stdout",
     "output_type": "stream",
     "text": [
      "Trade times in sample: 117781 Trade times out sample: 118220\n",
      "Trial 16 finished with values: [-0.03852544209774601, 92.66935879276774] and parameters: {0: 0, 1: 1, 2: 0, 3: 0, 4: 0, 5: 0, 6: 1, 7: 1, 8: 0, 9: 0, 10: 1, 11: 1, 12: 1, 13: 1, 14: 0}. \n"
     ]
    },
    {
     "name": "stderr",
     "output_type": "stream",
     "text": [
      "[I 2024-07-02 06:53:17,844] Trial 17 finished with values: [2.298349101680272, 0.97694489517803] and parameters: {0: 0, 1: 1, 2: 1, 3: 0, 4: 1, 5: 0, 6: 0, 7: 1, 8: 1, 9: 1, 10: 0, 11: 0, 12: 0, 13: 1, 14: 1}. \n"
     ]
    },
    {
     "name": "stdout",
     "output_type": "stream",
     "text": [
      "Trade times in sample: 118732 Trade times out sample: 118197\n",
      "Trial 17 finished with values: [2.298349101680272, 0.97694489517803] and parameters: {0: 0, 1: 1, 2: 1, 3: 0, 4: 1, 5: 0, 6: 0, 7: 1, 8: 1, 9: 1, 10: 0, 11: 0, 12: 0, 13: 1, 14: 1}. \n"
     ]
    },
    {
     "name": "stderr",
     "output_type": "stream",
     "text": [
      "[I 2024-07-02 06:53:27,642] Trial 18 finished with values: [2.453879186491104, 0.7828522829587146] and parameters: {0: 1, 1: 0, 2: 0, 3: 1, 4: 1, 5: 0, 6: 1, 7: 0, 8: 0, 9: 0, 10: 1, 11: 1, 12: 0, 13: 0, 14: 1}. \n"
     ]
    },
    {
     "name": "stdout",
     "output_type": "stream",
     "text": [
      "Trade times in sample: 118025 Trade times out sample: 118187\n",
      "Trial 18 finished with values: [2.453879186491104, 0.7828522829587146] and parameters: {0: 1, 1: 0, 2: 0, 3: 1, 4: 1, 5: 0, 6: 1, 7: 0, 8: 0, 9: 0, 10: 1, 11: 1, 12: 0, 13: 0, 14: 1}. \n"
     ]
    },
    {
     "name": "stderr",
     "output_type": "stream",
     "text": [
      "[I 2024-07-02 06:54:14,523] Trial 19 finished with values: [0.18823686055310013, 15.717551128687237] and parameters: {0: 1, 1: 1, 2: 1, 3: 1, 4: 0, 5: 1, 6: 0, 7: 1, 8: 0, 9: 1, 10: 0, 11: 0, 12: 1, 13: 1, 14: 0}. \n"
     ]
    },
    {
     "name": "stdout",
     "output_type": "stream",
     "text": [
      "Trade times in sample: 117913 Trade times out sample: 117722\n",
      "Trial 19 finished with values: [0.18823686055310013, 15.717551128687237] and parameters: {0: 1, 1: 1, 2: 1, 3: 1, 4: 0, 5: 1, 6: 0, 7: 1, 8: 0, 9: 1, 10: 0, 11: 0, 12: 1, 13: 1, 14: 0}. \n"
     ]
    },
    {
     "name": "stderr",
     "output_type": "stream",
     "text": [
      "[I 2024-07-02 06:54:45,905] Trial 20 finished with values: [-1.0268511422744449, 1.1076876189332552] and parameters: {0: 1, 1: 1, 2: 1, 3: 1, 4: 1, 5: 1, 6: 1, 7: 0, 8: 1, 9: 1, 10: 0, 11: 1, 12: 0, 13: 0, 14: 0}. \n"
     ]
    },
    {
     "name": "stdout",
     "output_type": "stream",
     "text": [
      "Trade times in sample: 118025 Trade times out sample: 117009\n",
      "Trial 20 finished with values: [-1.0268511422744449, 1.1076876189332552] and parameters: {0: 1, 1: 1, 2: 1, 3: 1, 4: 1, 5: 1, 6: 1, 7: 0, 8: 1, 9: 1, 10: 0, 11: 1, 12: 0, 13: 0, 14: 0}. \n"
     ]
    },
    {
     "name": "stderr",
     "output_type": "stream",
     "text": [
      "[I 2024-07-02 06:55:00,016] Trial 21 finished with values: [0.8661908014904662, 4.41508384525527] and parameters: {0: 0, 1: 0, 2: 0, 3: 0, 4: 0, 5: 0, 6: 0, 7: 0, 8: 0, 9: 0, 10: 0, 11: 1, 12: 1, 13: 1, 14: 0}. \n"
     ]
    },
    {
     "name": "stdout",
     "output_type": "stream",
     "text": [
      "Trade times in sample: 118641 Trade times out sample: 118208\n",
      "Trial 21 finished with values: [0.8661908014904662, 4.41508384525527] and parameters: {0: 0, 1: 0, 2: 0, 3: 0, 4: 0, 5: 0, 6: 0, 7: 0, 8: 0, 9: 0, 10: 0, 11: 1, 12: 1, 13: 1, 14: 0}. \n"
     ]
    },
    {
     "name": "stderr",
     "output_type": "stream",
     "text": [
      "[I 2024-07-02 06:55:30,292] Trial 22 finished with values: [-1.7150416001335353, 0.4504151120126121] and parameters: {0: 0, 1: 1, 2: 1, 3: 0, 4: 0, 5: 1, 6: 1, 7: 0, 8: 0, 9: 1, 10: 1, 11: 0, 12: 1, 13: 0, 14: 0}. \n"
     ]
    },
    {
     "name": "stdout",
     "output_type": "stream",
     "text": [
      "Trade times in sample: 115341 Trade times out sample: 116265\n",
      "Trial 22 finished with values: [-1.7150416001335353, 0.4504151120126121] and parameters: {0: 0, 1: 1, 2: 1, 3: 0, 4: 0, 5: 1, 6: 1, 7: 0, 8: 0, 9: 1, 10: 1, 11: 0, 12: 1, 13: 0, 14: 0}. \n"
     ]
    },
    {
     "name": "stderr",
     "output_type": "stream",
     "text": [
      "[I 2024-07-02 06:55:55,751] Trial 23 finished with values: [-0.9020816159319726, 1.310050874909939] and parameters: {0: 1, 1: 1, 2: 1, 3: 0, 4: 1, 5: 0, 6: 0, 7: 1, 8: 1, 9: 0, 10: 0, 11: 0, 12: 0, 13: 0, 14: 0}. \n"
     ]
    },
    {
     "name": "stdout",
     "output_type": "stream",
     "text": [
      "Trade times in sample: 118025 Trade times out sample: 117029\n",
      "Trial 23 finished with values: [-0.9020816159319726, 1.310050874909939] and parameters: {0: 1, 1: 1, 2: 1, 3: 0, 4: 1, 5: 0, 6: 0, 7: 1, 8: 1, 9: 0, 10: 0, 11: 0, 12: 0, 13: 0, 14: 0}. \n"
     ]
    },
    {
     "name": "stderr",
     "output_type": "stream",
     "text": [
      "[I 2024-07-02 06:56:29,819] Trial 24 finished with values: [0.6299298739143241, 5.355314411867254] and parameters: {0: 0, 1: 1, 2: 1, 3: 1, 4: 0, 5: 1, 6: 1, 7: 1, 8: 0, 9: 1, 10: 1, 11: 0, 12: 0, 13: 0, 14: 1}. \n"
     ]
    },
    {
     "name": "stdout",
     "output_type": "stream",
     "text": [
      "Trade times in sample: 118732 Trade times out sample: 118187\n",
      "Trial 24 finished with values: [0.6299298739143241, 5.355314411867254] and parameters: {0: 0, 1: 1, 2: 1, 3: 1, 4: 0, 5: 1, 6: 1, 7: 1, 8: 0, 9: 1, 10: 1, 11: 0, 12: 0, 13: 0, 14: 1}. \n"
     ]
    },
    {
     "name": "stderr",
     "output_type": "stream",
     "text": [
      "[I 2024-07-02 06:56:56,042] Trial 25 finished with values: [1.0344195976355972, 2.846732079736305] and parameters: {0: 1, 1: 1, 2: 1, 3: 0, 4: 1, 5: 1, 6: 1, 7: 0, 8: 0, 9: 0, 10: 1, 11: 1, 12: 0, 13: 0, 14: 1}. \n"
     ]
    },
    {
     "name": "stdout",
     "output_type": "stream",
     "text": [
      "Trade times in sample: 118025 Trade times out sample: 118187\n",
      "Trial 25 finished with values: [1.0344195976355972, 2.846732079736305] and parameters: {0: 1, 1: 1, 2: 1, 3: 0, 4: 1, 5: 1, 6: 1, 7: 0, 8: 0, 9: 0, 10: 1, 11: 1, 12: 0, 13: 0, 14: 1}. \n"
     ]
    },
    {
     "name": "stderr",
     "output_type": "stream",
     "text": [
      "[I 2024-07-02 06:57:14,050] Trial 26 finished with values: [1.3495440245597812, 1.5723560698700374] and parameters: {0: 0, 1: 0, 2: 0, 3: 0, 4: 0, 5: 0, 6: 1, 7: 1, 8: 0, 9: 0, 10: 1, 11: 1, 12: 1, 13: 0, 14: 1}. \n"
     ]
    },
    {
     "name": "stdout",
     "output_type": "stream",
     "text": [
      "Trade times in sample: 118025 Trade times out sample: 118187\n",
      "Trial 26 finished with values: [1.3495440245597812, 1.5723560698700374] and parameters: {0: 0, 1: 0, 2: 0, 3: 0, 4: 0, 5: 0, 6: 1, 7: 1, 8: 0, 9: 0, 10: 1, 11: 1, 12: 1, 13: 0, 14: 1}. \n"
     ]
    },
    {
     "name": "stderr",
     "output_type": "stream",
     "text": [
      "[I 2024-07-02 06:57:36,515] Trial 27 finished with values: [-1.4395499990979355, 1.2036523761582405] and parameters: {0: 1, 1: 1, 2: 1, 3: 0, 4: 0, 5: 0, 6: 1, 7: 0, 8: 0, 9: 0, 10: 0, 11: 0, 12: 0, 13: 1, 14: 0}. \n"
     ]
    },
    {
     "name": "stdout",
     "output_type": "stream",
     "text": [
      "Trade times in sample: 115341 Trade times out sample: 117722\n",
      "Trial 27 finished with values: [-1.4395499990979355, 1.2036523761582405] and parameters: {0: 1, 1: 1, 2: 1, 3: 0, 4: 0, 5: 0, 6: 1, 7: 0, 8: 0, 9: 0, 10: 0, 11: 0, 12: 0, 13: 1, 14: 0}. \n"
     ]
    },
    {
     "name": "stderr",
     "output_type": "stream",
     "text": [
      "[I 2024-07-02 06:58:10,861] Trial 28 finished with values: [1.694622444968519, 1.4264938572718018] and parameters: {0: 1, 1: 1, 2: 1, 3: 0, 4: 0, 5: 0, 6: 0, 7: 1, 8: 1, 9: 0, 10: 0, 11: 1, 12: 0, 13: 1, 14: 1}. \n"
     ]
    },
    {
     "name": "stdout",
     "output_type": "stream",
     "text": [
      "Trade times in sample: 118025 Trade times out sample: 118197\n",
      "Trial 28 finished with values: [1.694622444968519, 1.4264938572718018] and parameters: {0: 1, 1: 1, 2: 1, 3: 0, 4: 0, 5: 0, 6: 0, 7: 1, 8: 1, 9: 0, 10: 0, 11: 1, 12: 0, 13: 1, 14: 1}. \n"
     ]
    },
    {
     "name": "stderr",
     "output_type": "stream",
     "text": [
      "[I 2024-07-02 06:58:32,016] Trial 29 finished with values: [-0.7760135192804579, 3.02991607591765] and parameters: {0: 1, 1: 0, 2: 1, 3: 1, 4: 0, 5: 0, 6: 1, 7: 0, 8: 1, 9: 0, 10: 0, 11: 0, 12: 1, 13: 0, 14: 0}. \n"
     ]
    },
    {
     "name": "stdout",
     "output_type": "stream",
     "text": [
      "Trade times in sample: 118019 Trade times out sample: 115552\n",
      "Trial 29 finished with values: [-0.7760135192804579, 3.02991607591765] and parameters: {0: 1, 1: 0, 2: 1, 3: 1, 4: 0, 5: 0, 6: 1, 7: 0, 8: 1, 9: 0, 10: 0, 11: 0, 12: 1, 13: 0, 14: 0}. \n"
     ]
    },
    {
     "name": "stderr",
     "output_type": "stream",
     "text": [
      "[I 2024-07-02 06:59:07,118] Trial 30 finished with values: [0.91522435572724, 2.739856841598785] and parameters: {0: 1, 1: 1, 2: 0, 3: 1, 4: 1, 5: 1, 6: 1, 7: 0, 8: 0, 9: 1, 10: 0, 11: 0, 12: 1, 13: 1, 14: 0}. \n"
     ]
    },
    {
     "name": "stdout",
     "output_type": "stream",
     "text": [
      "Trade times in sample: 115341 Trade times out sample: 118238\n",
      "Trial 30 finished with values: [0.91522435572724, 2.739856841598785] and parameters: {0: 1, 1: 1, 2: 0, 3: 1, 4: 1, 5: 1, 6: 1, 7: 0, 8: 0, 9: 1, 10: 0, 11: 0, 12: 1, 13: 1, 14: 0}. \n"
     ]
    },
    {
     "name": "stderr",
     "output_type": "stream",
     "text": [
      "[I 2024-07-02 06:59:32,146] Trial 31 finished with values: [0.4681284890455614, 7.145819185292435] and parameters: {0: 1, 1: 1, 2: 0, 3: 0, 4: 0, 5: 0, 6: 0, 7: 0, 8: 1, 9: 0, 10: 0, 11: 1, 12: 1, 13: 1, 14: 0}. \n"
     ]
    },
    {
     "name": "stdout",
     "output_type": "stream",
     "text": [
      "Trade times in sample: 118018 Trade times out sample: 118190\n",
      "Trial 31 finished with values: [0.4681284890455614, 7.145819185292435] and parameters: {0: 1, 1: 1, 2: 0, 3: 0, 4: 0, 5: 0, 6: 0, 7: 0, 8: 1, 9: 0, 10: 0, 11: 1, 12: 1, 13: 1, 14: 0}. \n"
     ]
    },
    {
     "name": "stderr",
     "output_type": "stream",
     "text": [
      "[I 2024-07-02 06:59:44,199] Trial 32 finished with values: [-1.2334831524205343, 0.5351011377861603] and parameters: {0: 0, 1: 1, 2: 0, 3: 0, 4: 1, 5: 0, 6: 0, 7: 0, 8: 0, 9: 1, 10: 1, 11: 1, 12: 0, 13: 0, 14: 0}. \n"
     ]
    },
    {
     "name": "stdout",
     "output_type": "stream",
     "text": [
      "Trade times in sample: 118022 Trade times out sample: 118187\n",
      "Trial 32 finished with values: [-1.2334831524205343, 0.5351011377861603] and parameters: {0: 0, 1: 1, 2: 0, 3: 0, 4: 1, 5: 0, 6: 0, 7: 0, 8: 0, 9: 1, 10: 1, 11: 1, 12: 0, 13: 0, 14: 0}. \n"
     ]
    },
    {
     "name": "stderr",
     "output_type": "stream",
     "text": [
      "[I 2024-07-02 07:00:09,080] Trial 33 finished with values: [-1.183085502116658, 0.963660721820385] and parameters: {0: 1, 1: 0, 2: 1, 3: 0, 4: 0, 5: 0, 6: 1, 7: 1, 8: 0, 9: 1, 10: 1, 11: 1, 12: 0, 13: 0, 14: 0}. \n"
     ]
    },
    {
     "name": "stdout",
     "output_type": "stream",
     "text": [
      "Trade times in sample: 117903 Trade times out sample: 117254\n",
      "Trial 33 finished with values: [-1.183085502116658, 0.963660721820385] and parameters: {0: 1, 1: 0, 2: 1, 3: 0, 4: 0, 5: 0, 6: 1, 7: 1, 8: 0, 9: 1, 10: 1, 11: 1, 12: 0, 13: 0, 14: 0}. \n"
     ]
    },
    {
     "name": "stderr",
     "output_type": "stream",
     "text": [
      "[I 2024-07-02 07:00:40,159] Trial 34 finished with values: [0.4120599937319583, 7.71452822516326] and parameters: {0: 1, 1: 1, 2: 0, 3: 0, 4: 1, 5: 0, 6: 1, 7: 0, 8: 1, 9: 1, 10: 0, 11: 0, 12: 1, 13: 1, 14: 0}. \n"
     ]
    },
    {
     "name": "stdout",
     "output_type": "stream",
     "text": [
      "Trade times in sample: 118018 Trade times out sample: 118200\n",
      "Trial 34 finished with values: [0.4120599937319583, 7.71452822516326] and parameters: {0: 1, 1: 1, 2: 0, 3: 0, 4: 1, 5: 0, 6: 1, 7: 0, 8: 1, 9: 1, 10: 0, 11: 0, 12: 1, 13: 1, 14: 0}. \n"
     ]
    },
    {
     "name": "stderr",
     "output_type": "stream",
     "text": [
      "[I 2024-07-02 07:01:10,602] Trial 35 finished with values: [1.105044657125555, 2.3256320819835334] and parameters: {0: 1, 1: 0, 2: 0, 3: 0, 4: 0, 5: 1, 6: 0, 7: 1, 8: 1, 9: 1, 10: 1, 11: 1, 12: 0, 13: 0, 14: 1}. \n"
     ]
    },
    {
     "name": "stdout",
     "output_type": "stream",
     "text": [
      "Trade times in sample: 118024 Trade times out sample: 118187\n",
      "Trial 35 finished with values: [1.105044657125555, 2.3256320819835334] and parameters: {0: 1, 1: 0, 2: 0, 3: 0, 4: 0, 5: 1, 6: 0, 7: 1, 8: 1, 9: 1, 10: 1, 11: 1, 12: 0, 13: 0, 14: 1}. \n"
     ]
    },
    {
     "name": "stderr",
     "output_type": "stream",
     "text": [
      "[I 2024-07-02 07:01:32,214] Trial 36 finished with values: [0.8219945345685132, 3.683280971200216] and parameters: {0: 0, 1: 1, 2: 1, 3: 0, 4: 0, 5: 1, 6: 1, 7: 0, 8: 0, 9: 0, 10: 0, 11: 1, 12: 0, 13: 0, 14: 1}. \n"
     ]
    },
    {
     "name": "stdout",
     "output_type": "stream",
     "text": [
      "Trade times in sample: 118025 Trade times out sample: 118187\n",
      "Trial 36 finished with values: [0.8219945345685132, 3.683280971200216] and parameters: {0: 0, 1: 1, 2: 1, 3: 0, 4: 0, 5: 1, 6: 1, 7: 0, 8: 0, 9: 0, 10: 0, 11: 1, 12: 0, 13: 0, 14: 1}. \n"
     ]
    },
    {
     "name": "stderr",
     "output_type": "stream",
     "text": [
      "[I 2024-07-02 07:02:04,761] Trial 37 finished with values: [0.6344590297066603, 4.40851880777817] and parameters: {0: 1, 1: 1, 2: 1, 3: 0, 4: 1, 5: 0, 6: 1, 7: 1, 8: 0, 9: 1, 10: 0, 11: 1, 12: 0, 13: 0, 14: 1}. \n"
     ]
    },
    {
     "name": "stdout",
     "output_type": "stream",
     "text": [
      "Trade times in sample: 118732 Trade times out sample: 118187\n",
      "Trial 37 finished with values: [0.6344590297066603, 4.40851880777817] and parameters: {0: 1, 1: 1, 2: 1, 3: 0, 4: 1, 5: 0, 6: 1, 7: 1, 8: 0, 9: 1, 10: 0, 11: 1, 12: 0, 13: 0, 14: 1}. \n"
     ]
    },
    {
     "name": "stderr",
     "output_type": "stream",
     "text": [
      "[I 2024-07-02 07:02:25,102] Trial 38 finished with values: [0.664697713007976, 2.238188993544681] and parameters: {0: 0, 1: 0, 2: 0, 3: 1, 4: 1, 5: 1, 6: 1, 7: 0, 8: 0, 9: 1, 10: 0, 11: 1, 12: 1, 13: 0, 14: 0}. \n"
     ]
    },
    {
     "name": "stdout",
     "output_type": "stream",
     "text": [
      "Trade times in sample: 115341 Trade times out sample: 116853\n",
      "Trial 38 finished with values: [0.664697713007976, 2.238188993544681] and parameters: {0: 0, 1: 0, 2: 0, 3: 1, 4: 1, 5: 1, 6: 1, 7: 0, 8: 0, 9: 1, 10: 0, 11: 1, 12: 1, 13: 0, 14: 0}. \n"
     ]
    },
    {
     "name": "stderr",
     "output_type": "stream",
     "text": [
      "[I 2024-07-02 07:02:52,483] Trial 39 finished with values: [-0.7636500745916006, 3.555648165372924] and parameters: {0: 1, 1: 0, 2: 1, 3: 1, 4: 1, 5: 0, 6: 1, 7: 0, 8: 1, 9: 1, 10: 1, 11: 0, 12: 0, 13: 1, 14: 0}. \n"
     ]
    },
    {
     "name": "stdout",
     "output_type": "stream",
     "text": [
      "Trade times in sample: 118025 Trade times out sample: 117006\n",
      "Trial 39 finished with values: [-0.7636500745916006, 3.555648165372924] and parameters: {0: 1, 1: 0, 2: 1, 3: 1, 4: 1, 5: 0, 6: 1, 7: 0, 8: 1, 9: 1, 10: 1, 11: 0, 12: 0, 13: 1, 14: 0}. \n"
     ]
    },
    {
     "name": "stderr",
     "output_type": "stream",
     "text": [
      "[I 2024-07-02 07:03:12,281] Trial 40 finished with values: [1.490256444240818, 1.7364632827272017] and parameters: {0: 0, 1: 0, 2: 0, 3: 0, 4: 0, 5: 0, 6: 1, 7: 0, 8: 1, 9: 1, 10: 0, 11: 0, 12: 0, 13: 1, 14: 1}. \n"
     ]
    },
    {
     "name": "stdout",
     "output_type": "stream",
     "text": [
      "Trade times in sample: 118025 Trade times out sample: 118187\n",
      "Trial 40 finished with values: [1.490256444240818, 1.7364632827272017] and parameters: {0: 0, 1: 0, 2: 0, 3: 0, 4: 0, 5: 0, 6: 1, 7: 0, 8: 1, 9: 1, 10: 0, 11: 0, 12: 0, 13: 1, 14: 1}. \n"
     ]
    },
    {
     "name": "stderr",
     "output_type": "stream",
     "text": [
      "[I 2024-07-02 07:03:33,391] Trial 41 finished with values: [0.4488919652937903, 6.504405326622165] and parameters: {0: 1, 1: 0, 2: 0, 3: 0, 4: 1, 5: 0, 6: 0, 7: 0, 8: 1, 9: 1, 10: 0, 11: 0, 12: 1, 13: 0, 14: 0}. \n"
     ]
    },
    {
     "name": "stdout",
     "output_type": "stream",
     "text": [
      "Trade times in sample: 118025 Trade times out sample: 118198\n",
      "Trial 41 finished with values: [0.4488919652937903, 6.504405326622165] and parameters: {0: 1, 1: 0, 2: 0, 3: 0, 4: 1, 5: 0, 6: 0, 7: 0, 8: 1, 9: 1, 10: 0, 11: 0, 12: 1, 13: 0, 14: 0}. \n"
     ]
    },
    {
     "name": "stderr",
     "output_type": "stream",
     "text": [
      "[I 2024-07-02 07:03:53,241] Trial 42 finished with values: [0.7174107351416302, 3.3188233014228405] and parameters: {0: 0, 1: 0, 2: 0, 3: 1, 4: 0, 5: 0, 6: 0, 7: 1, 8: 1, 9: 1, 10: 0, 11: 0, 12: 0, 13: 0, 14: 1}. \n"
     ]
    },
    {
     "name": "stdout",
     "output_type": "stream",
     "text": [
      "Trade times in sample: 118025 Trade times out sample: 118187\n",
      "Trial 42 finished with values: [0.7174107351416302, 3.3188233014228405] and parameters: {0: 0, 1: 0, 2: 0, 3: 1, 4: 0, 5: 0, 6: 0, 7: 1, 8: 1, 9: 1, 10: 0, 11: 0, 12: 0, 13: 0, 14: 1}. \n"
     ]
    },
    {
     "name": "stderr",
     "output_type": "stream",
     "text": [
      "[I 2024-07-02 07:04:13,759] Trial 43 finished with values: [-0.39917094852177704, 4.9360849908086735] and parameters: {0: 0, 1: 1, 2: 0, 3: 0, 4: 1, 5: 1, 6: 1, 7: 1, 8: 1, 9: 0, 10: 0, 11: 1, 12: 0, 13: 0, 14: 0}. \n"
     ]
    },
    {
     "name": "stdout",
     "output_type": "stream",
     "text": [
      "Trade times in sample: 118025 Trade times out sample: 118242\n",
      "Trial 43 finished with values: [-0.39917094852177704, 4.9360849908086735] and parameters: {0: 0, 1: 1, 2: 0, 3: 0, 4: 1, 5: 1, 6: 1, 7: 1, 8: 1, 9: 0, 10: 0, 11: 1, 12: 0, 13: 0, 14: 0}. \n"
     ]
    },
    {
     "name": "stderr",
     "output_type": "stream",
     "text": [
      "[I 2024-07-02 07:04:40,267] Trial 44 finished with values: [1.802215137857041, 1.0449949709223358] and parameters: {0: 0, 1: 0, 2: 0, 3: 1, 4: 1, 5: 0, 6: 1, 7: 1, 8: 1, 9: 1, 10: 0, 11: 1, 12: 1, 13: 0, 14: 1}. \n"
     ]
    },
    {
     "name": "stdout",
     "output_type": "stream",
     "text": [
      "Trade times in sample: 118025 Trade times out sample: 118187\n",
      "Trial 44 finished with values: [1.802215137857041, 1.0449949709223358] and parameters: {0: 0, 1: 0, 2: 0, 3: 1, 4: 1, 5: 0, 6: 1, 7: 1, 8: 1, 9: 1, 10: 0, 11: 1, 12: 1, 13: 0, 14: 1}. \n"
     ]
    },
    {
     "name": "stderr",
     "output_type": "stream",
     "text": [
      "[I 2024-07-02 07:05:17,346] Trial 45 finished with values: [-0.838453401443433, 3.010665906112676] and parameters: {0: 1, 1: 1, 2: 0, 3: 0, 4: 0, 5: 1, 6: 1, 7: 1, 8: 1, 9: 1, 10: 0, 11: 0, 12: 1, 13: 0, 14: 0}. \n"
     ]
    },
    {
     "name": "stdout",
     "output_type": "stream",
     "text": [
      "Trade times in sample: 118018 Trade times out sample: 118240\n",
      "Trial 45 finished with values: [-0.838453401443433, 3.010665906112676] and parameters: {0: 1, 1: 1, 2: 0, 3: 0, 4: 0, 5: 1, 6: 1, 7: 1, 8: 1, 9: 1, 10: 0, 11: 0, 12: 1, 13: 0, 14: 0}. \n"
     ]
    },
    {
     "name": "stderr",
     "output_type": "stream",
     "text": [
      "[I 2024-07-02 07:05:32,168] Trial 46 finished with values: [-1.1669461155454148, 1.7899938969449427] and parameters: {0: 1, 1: 0, 2: 0, 3: 0, 4: 0, 5: 0, 6: 0, 7: 1, 8: 1, 9: 0, 10: 0, 11: 0, 12: 0, 13: 0, 14: 0}. \n"
     ]
    },
    {
     "name": "stdout",
     "output_type": "stream",
     "text": [
      "Trade times in sample: 118722 Trade times out sample: 115722\n",
      "Trial 46 finished with values: [-1.1669461155454148, 1.7899938969449427] and parameters: {0: 1, 1: 0, 2: 0, 3: 0, 4: 0, 5: 0, 6: 0, 7: 1, 8: 1, 9: 0, 10: 0, 11: 0, 12: 0, 13: 0, 14: 0}. \n"
     ]
    },
    {
     "name": "stderr",
     "output_type": "stream",
     "text": [
      "[I 2024-07-02 07:05:54,532] Trial 47 finished with values: [1.6682954060346116, 1.2304273186930401] and parameters: {0: 1, 1: 0, 2: 0, 3: 1, 4: 0, 5: 1, 6: 0, 7: 0, 8: 0, 9: 1, 10: 0, 11: 1, 12: 0, 13: 0, 14: 1}. \n"
     ]
    },
    {
     "name": "stdout",
     "output_type": "stream",
     "text": [
      "Trade times in sample: 118025 Trade times out sample: 118187\n",
      "Trial 47 finished with values: [1.6682954060346116, 1.2304273186930401] and parameters: {0: 1, 1: 0, 2: 0, 3: 1, 4: 0, 5: 1, 6: 0, 7: 0, 8: 0, 9: 1, 10: 0, 11: 1, 12: 0, 13: 0, 14: 1}. \n"
     ]
    },
    {
     "name": "stderr",
     "output_type": "stream",
     "text": [
      "[I 2024-07-02 07:06:22,982] Trial 48 finished with values: [1.4769406686359807, 1.7470169385096792] and parameters: {0: 1, 1: 0, 2: 1, 3: 1, 4: 0, 5: 0, 6: 1, 7: 0, 8: 0, 9: 0, 10: 1, 11: 0, 12: 1, 13: 1, 14: 1}. \n"
     ]
    },
    {
     "name": "stdout",
     "output_type": "stream",
     "text": [
      "Trade times in sample: 117886 Trade times out sample: 118187\n",
      "Trial 48 finished with values: [1.4769406686359807, 1.7470169385096792] and parameters: {0: 1, 1: 0, 2: 1, 3: 1, 4: 0, 5: 0, 6: 1, 7: 0, 8: 0, 9: 0, 10: 1, 11: 0, 12: 1, 13: 1, 14: 1}. \n"
     ]
    },
    {
     "name": "stderr",
     "output_type": "stream",
     "text": [
      "[I 2024-07-02 07:07:00,380] Trial 49 finished with values: [-0.7054436828965343, 3.6563642398826186] and parameters: {0: 1, 1: 0, 2: 1, 3: 1, 4: 1, 5: 0, 6: 1, 7: 1, 8: 0, 9: 1, 10: 0, 11: 0, 12: 1, 13: 1, 14: 0}. \n"
     ]
    },
    {
     "name": "stdout",
     "output_type": "stream",
     "text": [
      "Trade times in sample: 115341 Trade times out sample: 118190\n",
      "Trial 49 finished with values: [-0.7054436828965343, 3.6563642398826186] and parameters: {0: 1, 1: 0, 2: 1, 3: 1, 4: 1, 5: 0, 6: 1, 7: 1, 8: 0, 9: 1, 10: 0, 11: 0, 12: 1, 13: 1, 14: 0}. \n"
     ]
    },
    {
     "name": "stderr",
     "output_type": "stream",
     "text": [
      "[I 2024-07-02 07:07:25,977] Trial 50 finished with values: [-0.26682936981695893, 9.59010414859258] and parameters: {0: 1, 1: 1, 2: 1, 3: 0, 4: 1, 5: 0, 6: 1, 7: 0, 8: 1, 9: 0, 10: 0, 11: 1, 12: 0, 13: 1, 14: 0}. \n"
     ]
    },
    {
     "name": "stdout",
     "output_type": "stream",
     "text": [
      "Trade times in sample: 118025 Trade times out sample: 116990\n",
      "Trial 50 finished with values: [-0.26682936981695893, 9.59010414859258] and parameters: {0: 1, 1: 1, 2: 1, 3: 0, 4: 1, 5: 0, 6: 1, 7: 0, 8: 1, 9: 0, 10: 0, 11: 1, 12: 0, 13: 1, 14: 0}. \n"
     ]
    },
    {
     "name": "stderr",
     "output_type": "stream",
     "text": [
      "[I 2024-07-02 07:08:02,089] Trial 51 finished with values: [2.396234289857765, 0.883958349591766] and parameters: {0: 0, 1: 1, 2: 1, 3: 0, 4: 0, 5: 0, 6: 1, 7: 1, 8: 1, 9: 1, 10: 0, 11: 0, 12: 0, 13: 1, 14: 1}. \n"
     ]
    },
    {
     "name": "stdout",
     "output_type": "stream",
     "text": [
      "Trade times in sample: 118732 Trade times out sample: 118197\n",
      "Trial 51 finished with values: [2.396234289857765, 0.883958349591766] and parameters: {0: 0, 1: 1, 2: 1, 3: 0, 4: 0, 5: 0, 6: 1, 7: 1, 8: 1, 9: 1, 10: 0, 11: 0, 12: 0, 13: 1, 14: 1}. \n"
     ]
    },
    {
     "name": "stderr",
     "output_type": "stream",
     "text": [
      "[I 2024-07-02 07:08:30,284] Trial 52 finished with values: [1.012209429678131, 3.2307011666211594] and parameters: {0: 1, 1: 0, 2: 0, 3: 0, 4: 0, 5: 1, 6: 0, 7: 0, 8: 0, 9: 0, 10: 1, 11: 1, 12: 1, 13: 1, 14: 1}. \n"
     ]
    },
    {
     "name": "stdout",
     "output_type": "stream",
     "text": [
      "Trade times in sample: 118025 Trade times out sample: 118209\n",
      "Trial 52 finished with values: [1.012209429678131, 3.2307011666211594] and parameters: {0: 1, 1: 0, 2: 0, 3: 0, 4: 0, 5: 1, 6: 0, 7: 0, 8: 0, 9: 0, 10: 1, 11: 1, 12: 1, 13: 1, 14: 1}. \n"
     ]
    },
    {
     "name": "stderr",
     "output_type": "stream",
     "text": [
      "[I 2024-07-02 07:08:58,596] Trial 53 finished with values: [0.7664651347148538, 4.051081494831297] and parameters: {0: 1, 1: 0, 2: 1, 3: 0, 4: 0, 5: 1, 6: 0, 7: 0, 8: 0, 9: 1, 10: 0, 11: 1, 12: 0, 13: 0, 14: 1}. \n"
     ]
    },
    {
     "name": "stdout",
     "output_type": "stream",
     "text": [
      "Trade times in sample: 118024 Trade times out sample: 118187\n",
      "Trial 53 finished with values: [0.7664651347148538, 4.051081494831297] and parameters: {0: 1, 1: 0, 2: 1, 3: 0, 4: 0, 5: 1, 6: 0, 7: 0, 8: 0, 9: 1, 10: 0, 11: 1, 12: 0, 13: 0, 14: 1}. \n"
     ]
    },
    {
     "name": "stderr",
     "output_type": "stream",
     "text": [
      "[I 2024-07-02 07:09:10,658] Trial 54 finished with values: [-1.2973389937747004, 0.5962530937229087] and parameters: {0: 0, 1: 1, 2: 0, 3: 0, 4: 0, 5: 0, 6: 0, 7: 0, 8: 0, 9: 1, 10: 1, 11: 1, 12: 0, 13: 0, 14: 0}. \n"
     ]
    },
    {
     "name": "stdout",
     "output_type": "stream",
     "text": [
      "Trade times in sample: 118403 Trade times out sample: 118197\n",
      "Trial 54 finished with values: [-1.2973389937747004, 0.5962530937229087] and parameters: {0: 0, 1: 1, 2: 0, 3: 0, 4: 0, 5: 0, 6: 0, 7: 0, 8: 0, 9: 1, 10: 1, 11: 1, 12: 0, 13: 0, 14: 0}. \n"
     ]
    },
    {
     "name": "stderr",
     "output_type": "stream",
     "text": [
      "[I 2024-07-02 07:09:30,750] Trial 55 finished with values: [1.2156424974365005, 1.9897158205007468] and parameters: {0: 0, 1: 0, 2: 0, 3: 1, 4: 0, 5: 0, 6: 1, 7: 1, 8: 1, 9: 0, 10: 0, 11: 1, 12: 1, 13: 0, 14: 1}. \n"
     ]
    },
    {
     "name": "stdout",
     "output_type": "stream",
     "text": [
      "Trade times in sample: 118025 Trade times out sample: 118197\n",
      "Trial 55 finished with values: [1.2156424974365005, 1.9897158205007468] and parameters: {0: 0, 1: 0, 2: 0, 3: 1, 4: 0, 5: 0, 6: 1, 7: 1, 8: 1, 9: 0, 10: 0, 11: 1, 12: 1, 13: 0, 14: 1}. \n"
     ]
    },
    {
     "name": "stderr",
     "output_type": "stream",
     "text": [
      "[I 2024-07-02 07:09:54,680] Trial 56 finished with values: [1.7829622708409776, 1.1808618820281809] and parameters: {0: 0, 1: 0, 2: 0, 3: 1, 4: 1, 5: 1, 6: 1, 7: 0, 8: 0, 9: 1, 10: 0, 11: 1, 12: 1, 13: 0, 14: 1}. \n"
     ]
    },
    {
     "name": "stdout",
     "output_type": "stream",
     "text": [
      "Trade times in sample: 118024 Trade times out sample: 118187\n",
      "Trial 56 finished with values: [1.7829622708409776, 1.1808618820281809] and parameters: {0: 0, 1: 0, 2: 0, 3: 1, 4: 1, 5: 1, 6: 1, 7: 0, 8: 0, 9: 1, 10: 0, 11: 1, 12: 1, 13: 0, 14: 1}. \n"
     ]
    },
    {
     "name": "stderr",
     "output_type": "stream",
     "text": [
      "[I 2024-07-02 07:10:35,454] Trial 57 finished with values: [1.3538399276493531, 1.9587135394713373] and parameters: {0: 1, 1: 1, 2: 1, 3: 0, 4: 1, 5: 0, 6: 0, 7: 1, 8: 1, 9: 1, 10: 0, 11: 0, 12: 0, 13: 1, 14: 1}. \n"
     ]
    },
    {
     "name": "stdout",
     "output_type": "stream",
     "text": [
      "Trade times in sample: 118732 Trade times out sample: 118197\n",
      "Trial 57 finished with values: [1.3538399276493531, 1.9587135394713373] and parameters: {0: 1, 1: 1, 2: 1, 3: 0, 4: 1, 5: 0, 6: 0, 7: 1, 8: 1, 9: 1, 10: 0, 11: 0, 12: 0, 13: 1, 14: 1}. \n"
     ]
    },
    {
     "name": "stderr",
     "output_type": "stream",
     "text": [
      "[I 2024-07-02 07:11:07,910] Trial 58 finished with values: [2.188274442103113, 0.6599125916897748] and parameters: {0: 1, 1: 1, 2: 0, 3: 0, 4: 1, 5: 0, 6: 1, 7: 1, 8: 0, 9: 1, 10: 0, 11: 0, 12: 1, 13: 0, 14: 1}. \n"
     ]
    },
    {
     "name": "stdout",
     "output_type": "stream",
     "text": [
      "Trade times in sample: 118732 Trade times out sample: 118187\n",
      "Trial 58 finished with values: [2.188274442103113, 0.6599125916897748] and parameters: {0: 1, 1: 1, 2: 0, 3: 0, 4: 1, 5: 0, 6: 1, 7: 1, 8: 0, 9: 1, 10: 0, 11: 0, 12: 1, 13: 0, 14: 1}. \n"
     ]
    },
    {
     "name": "stderr",
     "output_type": "stream",
     "text": [
      "[I 2024-07-02 07:11:24,066] Trial 59 finished with values: [2.237649581867925, 0.8633546434324153] and parameters: {0: 1, 1: 0, 2: 0, 3: 1, 4: 1, 5: 0, 6: 1, 7: 0, 8: 0, 9: 0, 10: 0, 11: 1, 12: 1, 13: 0, 14: 1}. \n"
     ]
    },
    {
     "name": "stdout",
     "output_type": "stream",
     "text": [
      "Trade times in sample: 118025 Trade times out sample: 118187\n",
      "Trial 59 finished with values: [2.237649581867925, 0.8633546434324153] and parameters: {0: 1, 1: 0, 2: 0, 3: 1, 4: 1, 5: 0, 6: 1, 7: 0, 8: 0, 9: 0, 10: 0, 11: 1, 12: 1, 13: 0, 14: 1}. \n"
     ]
    },
    {
     "name": "stderr",
     "output_type": "stream",
     "text": [
      "[I 2024-07-02 07:11:42,549] Trial 60 finished with values: [-0.4423011334423728, 4.485952238709304] and parameters: {0: 1, 1: 0, 2: 0, 3: 0, 4: 0, 5: 0, 6: 0, 7: 1, 8: 0, 9: 1, 10: 0, 11: 0, 12: 0, 13: 0, 14: 0}. \n"
     ]
    },
    {
     "name": "stdout",
     "output_type": "stream",
     "text": [
      "Trade times in sample: 117860 Trade times out sample: 116058\n",
      "Trial 60 finished with values: [-0.4423011334423728, 4.485952238709304] and parameters: {0: 1, 1: 0, 2: 0, 3: 0, 4: 0, 5: 0, 6: 0, 7: 1, 8: 0, 9: 1, 10: 0, 11: 0, 12: 0, 13: 0, 14: 0}. \n"
     ]
    },
    {
     "name": "stderr",
     "output_type": "stream",
     "text": [
      "[I 2024-07-02 07:12:25,360] Trial 61 finished with values: [-0.17244577964539698, 23.330535576411858] and parameters: {0: 1, 1: 0, 2: 1, 3: 0, 4: 1, 5: 1, 6: 0, 7: 1, 8: 1, 9: 1, 10: 1, 11: 0, 12: 1, 13: 0, 14: 1}. \n"
     ]
    },
    {
     "name": "stdout",
     "output_type": "stream",
     "text": [
      "Trade times in sample: 118024 Trade times out sample: 118187\n",
      "Trial 61 finished with values: [-0.17244577964539698, 23.330535576411858] and parameters: {0: 1, 1: 0, 2: 1, 3: 0, 4: 1, 5: 1, 6: 0, 7: 1, 8: 1, 9: 1, 10: 1, 11: 0, 12: 1, 13: 0, 14: 1}. \n"
     ]
    },
    {
     "name": "stderr",
     "output_type": "stream",
     "text": [
      "[I 2024-07-02 07:12:43,633] Trial 62 finished with values: [1.8998112752889786, 1.2360358868722257] and parameters: {0: 1, 1: 0, 2: 0, 3: 0, 4: 0, 5: 0, 6: 1, 7: 0, 8: 1, 9: 0, 10: 0, 11: 0, 12: 0, 13: 1, 14: 1}. \n"
     ]
    },
    {
     "name": "stdout",
     "output_type": "stream",
     "text": [
      "Trade times in sample: 118025 Trade times out sample: 118208\n",
      "Trial 62 finished with values: [1.8998112752889786, 1.2360358868722257] and parameters: {0: 1, 1: 0, 2: 0, 3: 0, 4: 0, 5: 0, 6: 1, 7: 0, 8: 1, 9: 0, 10: 0, 11: 0, 12: 0, 13: 1, 14: 1}. \n"
     ]
    },
    {
     "name": "stderr",
     "output_type": "stream",
     "text": [
      "[I 2024-07-02 07:12:59,697] Trial 63 finished with values: [1.0371091665531662, 2.5967570981881107] and parameters: {0: 1, 1: 0, 2: 0, 3: 1, 4: 1, 5: 1, 6: 1, 7: 0, 8: 0, 9: 0, 10: 1, 11: 1, 12: 0, 13: 0, 14: 1}. \n"
     ]
    },
    {
     "name": "stdout",
     "output_type": "stream",
     "text": [
      "Trade times in sample: 118025 Trade times out sample: 118187\n",
      "Trial 63 finished with values: [1.0371091665531662, 2.5967570981881107] and parameters: {0: 1, 1: 0, 2: 0, 3: 1, 4: 1, 5: 1, 6: 1, 7: 0, 8: 0, 9: 0, 10: 1, 11: 1, 12: 0, 13: 0, 14: 1}. \n"
     ]
    },
    {
     "name": "stderr",
     "output_type": "stream",
     "text": [
      "[I 2024-07-02 07:13:39,144] Trial 64 finished with values: [-0.421722550998255, 6.672775281287435] and parameters: {0: 1, 1: 0, 2: 1, 3: 1, 4: 1, 5: 1, 6: 0, 7: 1, 8: 1, 9: 1, 10: 1, 11: 0, 12: 1, 13: 0, 14: 0}. \n"
     ]
    },
    {
     "name": "stdout",
     "output_type": "stream",
     "text": [
      "Trade times in sample: 118025 Trade times out sample: 118198\n",
      "Trial 64 finished with values: [-0.421722550998255, 6.672775281287435] and parameters: {0: 1, 1: 0, 2: 1, 3: 1, 4: 1, 5: 1, 6: 0, 7: 1, 8: 1, 9: 1, 10: 1, 11: 0, 12: 1, 13: 0, 14: 0}. \n"
     ]
    },
    {
     "name": "stderr",
     "output_type": "stream",
     "text": [
      "[I 2024-07-02 07:14:16,319] Trial 65 finished with values: [-0.9806457116353428, 2.3362996102962765] and parameters: {0: 1, 1: 1, 2: 0, 3: 1, 4: 0, 5: 1, 6: 1, 7: 1, 8: 1, 9: 1, 10: 0, 11: 0, 12: 1, 13: 0, 14: 0}. \n"
     ]
    },
    {
     "name": "stdout",
     "output_type": "stream",
     "text": [
      "Trade times in sample: 118018 Trade times out sample: 118240\n",
      "Trial 65 finished with values: [-0.9806457116353428, 2.3362996102962765] and parameters: {0: 1, 1: 1, 2: 0, 3: 1, 4: 0, 5: 1, 6: 1, 7: 1, 8: 1, 9: 1, 10: 0, 11: 0, 12: 1, 13: 0, 14: 0}. \n"
     ]
    },
    {
     "name": "stderr",
     "output_type": "stream",
     "text": [
      "[I 2024-07-02 07:14:48,775] Trial 66 finished with values: [0.6566829337783835, 4.133138981110187] and parameters: {0: 1, 1: 1, 2: 1, 3: 0, 4: 1, 5: 0, 6: 0, 7: 1, 8: 0, 9: 1, 10: 1, 11: 1, 12: 0, 13: 0, 14: 1}. \n"
     ]
    },
    {
     "name": "stdout",
     "output_type": "stream",
     "text": [
      "Trade times in sample: 118732 Trade times out sample: 118187\n",
      "Trial 66 finished with values: [0.6566829337783835, 4.133138981110187] and parameters: {0: 1, 1: 1, 2: 1, 3: 0, 4: 1, 5: 0, 6: 0, 7: 1, 8: 0, 9: 1, 10: 1, 11: 1, 12: 0, 13: 0, 14: 1}. \n"
     ]
    },
    {
     "name": "stderr",
     "output_type": "stream",
     "text": [
      "[I 2024-07-02 07:15:19,398] Trial 67 finished with values: [1.068944264089149, 2.644159977394606] and parameters: {0: 1, 1: 0, 2: 1, 3: 0, 4: 1, 5: 0, 6: 1, 7: 1, 8: 1, 9: 1, 10: 0, 11: 0, 12: 0, 13: 0, 14: 1}. \n"
     ]
    },
    {
     "name": "stdout",
     "output_type": "stream",
     "text": [
      "Trade times in sample: 118732 Trade times out sample: 118187\n",
      "Trial 67 finished with values: [1.068944264089149, 2.644159977394606] and parameters: {0: 1, 1: 0, 2: 1, 3: 0, 4: 1, 5: 0, 6: 1, 7: 1, 8: 1, 9: 1, 10: 0, 11: 0, 12: 0, 13: 0, 14: 1}. \n"
     ]
    },
    {
     "name": "stderr",
     "output_type": "stream",
     "text": [
      "[I 2024-07-02 07:15:44,359] Trial 68 finished with values: [-1.3625781323287744, 0.5657163361380761] and parameters: {0: 1, 1: 1, 2: 1, 3: 1, 4: 0, 5: 0, 6: 1, 7: 0, 8: 1, 9: 1, 10: 0, 11: 0, 12: 0, 13: 0, 14: 0}. \n"
     ]
    },
    {
     "name": "stdout",
     "output_type": "stream",
     "text": [
      "Trade times in sample: 118341 Trade times out sample: 117029\n",
      "Trial 68 finished with values: [-1.3625781323287744, 0.5657163361380761] and parameters: {0: 1, 1: 1, 2: 1, 3: 1, 4: 0, 5: 0, 6: 1, 7: 0, 8: 1, 9: 1, 10: 0, 11: 0, 12: 0, 13: 0, 14: 0}. \n"
     ]
    },
    {
     "name": "stderr",
     "output_type": "stream",
     "text": [
      "[W 2024-07-02 07:15:44,513] Trial 69 failed with parameters: {0: 1, 1: 0, 2: 0, 3: 0, 4: 0, 5: 0, 6: 1, 7: 0, 8: 0, 9: 0, 10: 0, 11: 0, 12: 1, 13: 0, 14: 1} because of the following error: The value nan is not acceptable.\n"
     ]
    },
    {
     "name": "stdout",
     "output_type": "stream",
     "text": [
      "Trial 69 failed with parameters: {0: 1, 1: 0, 2: 0, 3: 0, 4: 0, 5: 0, 6: 1, 7: 0, 8: 0, 9: 0, 10: 0, 11: 0, 12: 1, 13: 0, 14: 1} because of the following error: The value nan is not acceptable.\n"
     ]
    },
    {
     "name": "stderr",
     "output_type": "stream",
     "text": [
      "[W 2024-07-02 07:15:44,515] Trial 69 failed with value nan.\n"
     ]
    },
    {
     "name": "stdout",
     "output_type": "stream",
     "text": [
      "Trial 69 failed with value nan.\n"
     ]
    },
    {
     "name": "stderr",
     "output_type": "stream",
     "text": [
      "[I 2024-07-02 07:16:22,686] Trial 70 finished with values: [0.7529307379774832, 5.2014853198051325] and parameters: {0: 0, 1: 0, 2: 1, 3: 0, 4: 1, 5: 1, 6: 1, 7: 1, 8: 1, 9: 1, 10: 0, 11: 0, 12: 0, 13: 1, 14: 1}. \n"
     ]
    },
    {
     "name": "stdout",
     "output_type": "stream",
     "text": [
      "Trade times in sample: 118025 Trade times out sample: 118207\n",
      "Trial 70 finished with values: [0.7529307379774832, 5.2014853198051325] and parameters: {0: 0, 1: 0, 2: 1, 3: 0, 4: 1, 5: 1, 6: 1, 7: 1, 8: 1, 9: 1, 10: 0, 11: 0, 12: 0, 13: 1, 14: 1}. \n"
     ]
    },
    {
     "name": "stderr",
     "output_type": "stream",
     "text": [
      "[I 2024-07-02 07:16:47,165] Trial 71 finished with values: [1.4852588362957697, 1.4712426055282743] and parameters: {0: 1, 1: 0, 2: 0, 3: 0, 4: 1, 5: 1, 6: 0, 7: 0, 8: 0, 9: 0, 10: 0, 11: 0, 12: 1, 13: 1, 14: 0}. \n"
     ]
    },
    {
     "name": "stdout",
     "output_type": "stream",
     "text": [
      "Trade times in sample: 118348 Trade times out sample: 118200\n",
      "Trial 71 finished with values: [1.4852588362957697, 1.4712426055282743] and parameters: {0: 1, 1: 0, 2: 0, 3: 0, 4: 1, 5: 1, 6: 0, 7: 0, 8: 0, 9: 0, 10: 0, 11: 0, 12: 1, 13: 1, 14: 0}. \n"
     ]
    },
    {
     "name": "stderr",
     "output_type": "stream",
     "text": [
      "[W 2024-07-02 07:16:47,322] Trial 72 failed with parameters: {0: 0, 1: 1, 2: 0, 3: 0, 4: 1, 5: 1, 6: 1, 7: 0, 8: 0, 9: 1, 10: 1, 11: 0, 12: 1, 13: 0, 14: 0} because of the following error: The value nan is not acceptable.\n"
     ]
    },
    {
     "name": "stdout",
     "output_type": "stream",
     "text": [
      "Trial 72 failed with parameters: {0: 0, 1: 1, 2: 0, 3: 0, 4: 1, 5: 1, 6: 1, 7: 0, 8: 0, 9: 1, 10: 1, 11: 0, 12: 1, 13: 0, 14: 0} because of the following error: The value nan is not acceptable.\n"
     ]
    },
    {
     "name": "stderr",
     "output_type": "stream",
     "text": [
      "[W 2024-07-02 07:16:47,324] Trial 72 failed with value nan.\n"
     ]
    },
    {
     "name": "stdout",
     "output_type": "stream",
     "text": [
      "Trial 72 failed with value nan.\n"
     ]
    },
    {
     "name": "stderr",
     "output_type": "stream",
     "text": [
      "[I 2024-07-02 07:17:20,946] Trial 73 finished with values: [0.24509970284314572, 15.467065464986774] and parameters: {0: 0, 1: 1, 2: 1, 3: 0, 4: 0, 5: 1, 6: 1, 7: 1, 8: 0, 9: 1, 10: 0, 11: 1, 12: 0, 13: 0, 14: 1}. \n"
     ]
    },
    {
     "name": "stdout",
     "output_type": "stream",
     "text": [
      "Trade times in sample: 118732 Trade times out sample: 118187\n",
      "Trial 73 finished with values: [0.24509970284314572, 15.467065464986774] and parameters: {0: 0, 1: 1, 2: 1, 3: 0, 4: 0, 5: 1, 6: 1, 7: 1, 8: 0, 9: 1, 10: 0, 11: 1, 12: 0, 13: 0, 14: 1}. \n"
     ]
    },
    {
     "name": "stderr",
     "output_type": "stream",
     "text": [
      "[I 2024-07-02 07:17:36,206] Trial 74 finished with values: [-0.9926050481764326, 1.8591554413306701] and parameters: {0: 1, 1: 0, 2: 1, 3: 1, 4: 1, 5: 0, 6: 1, 7: 0, 8: 1, 9: 0, 10: 1, 11: 1, 12: 0, 13: 0, 14: 0}. \n"
     ]
    },
    {
     "name": "stdout",
     "output_type": "stream",
     "text": [
      "Trade times in sample: 118025 Trade times out sample: 118187\n",
      "Trial 74 finished with values: [-0.9926050481764326, 1.8591554413306701] and parameters: {0: 1, 1: 0, 2: 1, 3: 1, 4: 1, 5: 0, 6: 1, 7: 0, 8: 1, 9: 0, 10: 1, 11: 1, 12: 0, 13: 0, 14: 0}. \n"
     ]
    },
    {
     "name": "stderr",
     "output_type": "stream",
     "text": [
      "[I 2024-07-02 07:18:17,485] Trial 75 finished with values: [-1.4234671111694712, 1.1411794839636316] and parameters: {0: 1, 1: 1, 2: 1, 3: 0, 4: 1, 5: 0, 6: 1, 7: 1, 8: 0, 9: 1, 10: 0, 11: 0, 12: 1, 13: 1, 14: 0}. \n"
     ]
    },
    {
     "name": "stdout",
     "output_type": "stream",
     "text": [
      "Trade times in sample: 117913 Trade times out sample: 117712\n",
      "Trial 75 finished with values: [-1.4234671111694712, 1.1411794839636316] and parameters: {0: 1, 1: 1, 2: 1, 3: 0, 4: 1, 5: 0, 6: 1, 7: 1, 8: 0, 9: 1, 10: 0, 11: 0, 12: 1, 13: 1, 14: 0}. \n"
     ]
    },
    {
     "name": "stderr",
     "output_type": "stream",
     "text": [
      "[I 2024-07-02 07:18:37,544] Trial 76 finished with values: [0.7848029322936428, 3.633816593489178] and parameters: {0: 1, 1: 1, 2: 1, 3: 0, 4: 1, 5: 0, 6: 1, 7: 0, 8: 0, 9: 0, 10: 0, 11: 1, 12: 0, 13: 0, 14: 1}. \n"
     ]
    },
    {
     "name": "stdout",
     "output_type": "stream",
     "text": [
      "Trade times in sample: 118025 Trade times out sample: 118187\n",
      "Trial 76 finished with values: [0.7848029322936428, 3.633816593489178] and parameters: {0: 1, 1: 1, 2: 1, 3: 0, 4: 1, 5: 0, 6: 1, 7: 0, 8: 0, 9: 0, 10: 0, 11: 1, 12: 0, 13: 0, 14: 1}. \n"
     ]
    },
    {
     "name": "stderr",
     "output_type": "stream",
     "text": [
      "[I 2024-07-02 07:18:57,477] Trial 77 finished with values: [0.6416401399235383, 4.4701739800594] and parameters: {0: 1, 1: 1, 2: 0, 3: 0, 4: 0, 5: 1, 6: 1, 7: 0, 8: 0, 9: 0, 10: 0, 11: 1, 12: 0, 13: 0, 14: 1}. \n"
     ]
    },
    {
     "name": "stdout",
     "output_type": "stream",
     "text": [
      "Trade times in sample: 118025 Trade times out sample: 118187\n",
      "Trial 77 finished with values: [0.6416401399235383, 4.4701739800594] and parameters: {0: 1, 1: 1, 2: 0, 3: 0, 4: 0, 5: 1, 6: 1, 7: 0, 8: 0, 9: 0, 10: 0, 11: 1, 12: 0, 13: 0, 14: 1}. \n"
     ]
    },
    {
     "name": "stderr",
     "output_type": "stream",
     "text": [
      "[I 2024-07-02 07:19:25,054] Trial 78 finished with values: [-0.5345234066565246, 5.888155305535562] and parameters: {0: 0, 1: 1, 2: 1, 3: 0, 4: 1, 5: 1, 6: 0, 7: 0, 8: 0, 9: 1, 10: 0, 11: 1, 12: 0, 13: 0, 14: 1}. \n"
     ]
    },
    {
     "name": "stdout",
     "output_type": "stream",
     "text": [
      "Trade times in sample: 118025 Trade times out sample: 118187\n",
      "Trial 78 finished with values: [-0.5345234066565246, 5.888155305535562] and parameters: {0: 0, 1: 1, 2: 1, 3: 0, 4: 1, 5: 1, 6: 0, 7: 0, 8: 0, 9: 1, 10: 0, 11: 1, 12: 0, 13: 0, 14: 1}. \n"
     ]
    },
    {
     "name": "stderr",
     "output_type": "stream",
     "text": [
      "[I 2024-07-02 07:20:03,605] Trial 79 finished with values: [-1.128502845584678, 1.4210911607949912] and parameters: {0: 0, 1: 1, 2: 1, 3: 0, 4: 0, 5: 1, 6: 0, 7: 0, 8: 1, 9: 1, 10: 1, 11: 0, 12: 1, 13: 1, 14: 0}. \n"
     ]
    },
    {
     "name": "stdout",
     "output_type": "stream",
     "text": [
      "Trade times in sample: 118018 Trade times out sample: 118198\n",
      "Trial 79 finished with values: [-1.128502845584678, 1.4210911607949912] and parameters: {0: 0, 1: 1, 2: 1, 3: 0, 4: 0, 5: 1, 6: 0, 7: 0, 8: 1, 9: 1, 10: 1, 11: 0, 12: 1, 13: 1, 14: 0}. \n"
     ]
    },
    {
     "name": "stderr",
     "output_type": "stream",
     "text": [
      "[I 2024-07-02 07:20:31,857] Trial 80 finished with values: [0.8101496367247353, 3.959394475748825] and parameters: {0: 1, 1: 0, 2: 0, 3: 0, 4: 1, 5: 1, 6: 0, 7: 1, 8: 0, 9: 0, 10: 1, 11: 1, 12: 1, 13: 0, 14: 1}. \n"
     ]
    },
    {
     "name": "stdout",
     "output_type": "stream",
     "text": [
      "Trade times in sample: 117781 Trade times out sample: 118187\n",
      "Trial 80 finished with values: [0.8101496367247353, 3.959394475748825] and parameters: {0: 1, 1: 0, 2: 0, 3: 0, 4: 1, 5: 1, 6: 0, 7: 1, 8: 0, 9: 0, 10: 1, 11: 1, 12: 1, 13: 0, 14: 1}. \n"
     ]
    },
    {
     "name": "stderr",
     "output_type": "stream",
     "text": [
      "[I 2024-07-02 07:20:57,119] Trial 81 finished with values: [0.13272577447001965, 17.303079465110407] and parameters: {0: 1, 1: 1, 2: 0, 3: 1, 4: 1, 5: 1, 6: 1, 7: 0, 8: 1, 9: 1, 10: 0, 11: 1, 12: 0, 13: 0, 14: 0}. \n"
     ]
    },
    {
     "name": "stdout",
     "output_type": "stream",
     "text": [
      "Trade times in sample: 118025 Trade times out sample: 118197\n",
      "Trial 81 finished with values: [0.13272577447001965, 17.303079465110407] and parameters: {0: 1, 1: 1, 2: 0, 3: 1, 4: 1, 5: 1, 6: 1, 7: 0, 8: 1, 9: 1, 10: 0, 11: 1, 12: 0, 13: 0, 14: 0}. \n"
     ]
    },
    {
     "name": "stderr",
     "output_type": "stream",
     "text": [
      "[I 2024-07-02 07:21:24,722] Trial 82 finished with values: [0.9450246164372126, 2.8706986829721806] and parameters: {0: 0, 1: 1, 2: 1, 3: 0, 4: 1, 5: 1, 6: 0, 7: 1, 8: 0, 9: 0, 10: 0, 11: 1, 12: 0, 13: 0, 14: 1}. \n"
     ]
    },
    {
     "name": "stdout",
     "output_type": "stream",
     "text": [
      "Trade times in sample: 118025 Trade times out sample: 118187\n",
      "Trial 82 finished with values: [0.9450246164372126, 2.8706986829721806] and parameters: {0: 0, 1: 1, 2: 1, 3: 0, 4: 1, 5: 1, 6: 0, 7: 1, 8: 0, 9: 0, 10: 0, 11: 1, 12: 0, 13: 0, 14: 1}. \n"
     ]
    },
    {
     "name": "stderr",
     "output_type": "stream",
     "text": [
      "[I 2024-07-02 07:21:38,914] Trial 83 finished with values: [1.5223896511276511, 1.492527935176105] and parameters: {0: 0, 1: 0, 2: 0, 3: 1, 4: 1, 5: 0, 6: 1, 7: 0, 8: 1, 9: 0, 10: 1, 11: 1, 12: 1, 13: 0, 14: 1}. \n"
     ]
    },
    {
     "name": "stdout",
     "output_type": "stream",
     "text": [
      "Trade times in sample: 118025 Trade times out sample: 118187\n",
      "Trial 83 finished with values: [1.5223896511276511, 1.492527935176105] and parameters: {0: 0, 1: 0, 2: 0, 3: 1, 4: 1, 5: 0, 6: 1, 7: 0, 8: 1, 9: 0, 10: 1, 11: 1, 12: 1, 13: 0, 14: 1}. \n"
     ]
    },
    {
     "name": "stderr",
     "output_type": "stream",
     "text": [
      "[W 2024-07-02 07:21:39,101] Trial 84 failed with parameters: {0: 1, 1: 0, 2: 1, 3: 0, 4: 1, 5: 1, 6: 1, 7: 0, 8: 0, 9: 0, 10: 0, 11: 0, 12: 0, 13: 1, 14: 0} because of the following error: The value nan is not acceptable.\n"
     ]
    },
    {
     "name": "stdout",
     "output_type": "stream",
     "text": [
      "Trial 84 failed with parameters: {0: 1, 1: 0, 2: 1, 3: 0, 4: 1, 5: 1, 6: 1, 7: 0, 8: 0, 9: 0, 10: 0, 11: 0, 12: 0, 13: 1, 14: 0} because of the following error: The value nan is not acceptable.\n"
     ]
    },
    {
     "name": "stderr",
     "output_type": "stream",
     "text": [
      "[W 2024-07-02 07:21:39,103] Trial 84 failed with value nan.\n"
     ]
    },
    {
     "name": "stdout",
     "output_type": "stream",
     "text": [
      "Trial 84 failed with value nan.\n"
     ]
    },
    {
     "name": "stderr",
     "output_type": "stream",
     "text": [
      "[I 2024-07-02 07:22:00,712] Trial 85 finished with values: [0.9016680887493012, 3.049667117316722] and parameters: {0: 1, 1: 0, 2: 1, 3: 0, 4: 0, 5: 1, 6: 0, 7: 0, 8: 0, 9: 0, 10: 0, 11: 0, 12: 0, 13: 0, 14: 1}. \n"
     ]
    },
    {
     "name": "stdout",
     "output_type": "stream",
     "text": [
      "Trade times in sample: 118025 Trade times out sample: 118187\n",
      "Trial 85 finished with values: [0.9016680887493012, 3.049667117316722] and parameters: {0: 1, 1: 0, 2: 1, 3: 0, 4: 0, 5: 1, 6: 0, 7: 0, 8: 0, 9: 0, 10: 0, 11: 0, 12: 0, 13: 0, 14: 1}. \n"
     ]
    },
    {
     "name": "stderr",
     "output_type": "stream",
     "text": [
      "[W 2024-07-02 07:22:00,898] Trial 86 failed with parameters: {0: 1, 1: 0, 2: 0, 3: 0, 4: 0, 5: 0, 6: 0, 7: 1, 8: 1, 9: 0, 10: 0, 11: 0, 12: 0, 13: 0, 14: 0} because of the following error: The value nan is not acceptable.\n"
     ]
    },
    {
     "name": "stdout",
     "output_type": "stream",
     "text": [
      "Trial 86 failed with parameters: {0: 1, 1: 0, 2: 0, 3: 0, 4: 0, 5: 0, 6: 0, 7: 1, 8: 1, 9: 0, 10: 0, 11: 0, 12: 0, 13: 0, 14: 0} because of the following error: The value nan is not acceptable.\n"
     ]
    },
    {
     "name": "stderr",
     "output_type": "stream",
     "text": [
      "[W 2024-07-02 07:22:00,900] Trial 86 failed with value nan.\n"
     ]
    },
    {
     "name": "stdout",
     "output_type": "stream",
     "text": [
      "Trial 86 failed with value nan.\n"
     ]
    },
    {
     "name": "stderr",
     "output_type": "stream",
     "text": [
      "[I 2024-07-02 07:22:34,000] Trial 87 finished with values: [0.3816244783398904, 6.66179876972177] and parameters: {0: 1, 1: 0, 2: 0, 3: 0, 4: 0, 5: 1, 6: 1, 7: 0, 8: 1, 9: 1, 10: 0, 11: 0, 12: 1, 13: 1, 14: 0}. \n"
     ]
    },
    {
     "name": "stdout",
     "output_type": "stream",
     "text": [
      "Trade times in sample: 115341 Trade times out sample: 118190\n",
      "Trial 87 finished with values: [0.3816244783398904, 6.66179876972177] and parameters: {0: 1, 1: 0, 2: 0, 3: 0, 4: 0, 5: 1, 6: 1, 7: 0, 8: 1, 9: 1, 10: 0, 11: 0, 12: 1, 13: 1, 14: 0}. \n"
     ]
    },
    {
     "name": "stderr",
     "output_type": "stream",
     "text": [
      "[I 2024-07-02 07:23:01,515] Trial 88 finished with values: [0.9455297652951983, 2.988421170579756] and parameters: {0: 1, 1: 0, 2: 0, 3: 0, 4: 0, 5: 0, 6: 0, 7: 1, 8: 1, 9: 1, 10: 1, 11: 0, 12: 0, 13: 1, 14: 0}. \n"
     ]
    },
    {
     "name": "stdout",
     "output_type": "stream",
     "text": [
      "Trade times in sample: 118725 Trade times out sample: 118200\n",
      "Trial 88 finished with values: [0.9455297652951983, 2.988421170579756] and parameters: {0: 1, 1: 0, 2: 0, 3: 0, 4: 0, 5: 0, 6: 0, 7: 1, 8: 1, 9: 1, 10: 1, 11: 0, 12: 0, 13: 1, 14: 0}. \n"
     ]
    },
    {
     "name": "stderr",
     "output_type": "stream",
     "text": [
      "[I 2024-07-02 07:23:22,104] Trial 89 finished with values: [3.0376352918740683, 0.40642673171802457] and parameters: {0: 1, 1: 1, 2: 0, 3: 1, 4: 1, 5: 0, 6: 1, 7: 0, 8: 0, 9: 0, 10: 1, 11: 1, 12: 0, 13: 1, 14: 1}. \n"
     ]
    },
    {
     "name": "stdout",
     "output_type": "stream",
     "text": [
      "Trade times in sample: 118025 Trade times out sample: 118198\n",
      "Trial 89 finished with values: [3.0376352918740683, 0.40642673171802457] and parameters: {0: 1, 1: 1, 2: 0, 3: 1, 4: 1, 5: 0, 6: 1, 7: 0, 8: 0, 9: 0, 10: 1, 11: 1, 12: 0, 13: 1, 14: 1}. \n"
     ]
    },
    {
     "name": "stderr",
     "output_type": "stream",
     "text": [
      "[W 2024-07-02 07:23:22,303] Trial 90 failed with parameters: {0: 0, 1: 0, 2: 0, 3: 0, 4: 0, 5: 0, 6: 0, 7: 0, 8: 0, 9: 0, 10: 0, 11: 1, 12: 1, 13: 1, 14: 0} because of the following error: The value nan is not acceptable.\n"
     ]
    },
    {
     "name": "stdout",
     "output_type": "stream",
     "text": [
      "Trial 90 failed with parameters: {0: 0, 1: 0, 2: 0, 3: 0, 4: 0, 5: 0, 6: 0, 7: 0, 8: 0, 9: 0, 10: 0, 11: 1, 12: 1, 13: 1, 14: 0} because of the following error: The value nan is not acceptable.\n"
     ]
    },
    {
     "name": "stderr",
     "output_type": "stream",
     "text": [
      "[W 2024-07-02 07:23:22,305] Trial 90 failed with value nan.\n"
     ]
    },
    {
     "name": "stdout",
     "output_type": "stream",
     "text": [
      "Trial 90 failed with value nan.\n"
     ]
    },
    {
     "name": "stderr",
     "output_type": "stream",
     "text": [
      "[I 2024-07-02 07:23:38,664] Trial 91 finished with values: [2.047096685063717, 0.4566573029601575] and parameters: {0: 1, 1: 0, 2: 0, 3: 1, 4: 1, 5: 0, 6: 1, 7: 0, 8: 0, 9: 1, 10: 1, 11: 1, 12: 0, 13: 0, 14: 1}. \n"
     ]
    },
    {
     "name": "stdout",
     "output_type": "stream",
     "text": [
      "Trade times in sample: 118025 Trade times out sample: 118187\n",
      "Trial 91 finished with values: [2.047096685063717, 0.4566573029601575] and parameters: {0: 1, 1: 0, 2: 0, 3: 1, 4: 1, 5: 0, 6: 1, 7: 0, 8: 0, 9: 1, 10: 1, 11: 1, 12: 0, 13: 0, 14: 1}. \n"
     ]
    },
    {
     "name": "stderr",
     "output_type": "stream",
     "text": [
      "[I 2024-07-02 07:24:03,319] Trial 92 finished with values: [0.6511524502241504, 3.303502626849644] and parameters: {0: 0, 1: 1, 2: 0, 3: 0, 4: 1, 5: 1, 6: 1, 7: 1, 8: 0, 9: 0, 10: 0, 11: 0, 12: 1, 13: 0, 14: 0}. \n"
     ]
    },
    {
     "name": "stdout",
     "output_type": "stream",
     "text": [
      "Trade times in sample: 118731 Trade times out sample: 117731\n",
      "Trial 92 finished with values: [0.6511524502241504, 3.303502626849644] and parameters: {0: 0, 1: 1, 2: 0, 3: 0, 4: 1, 5: 1, 6: 1, 7: 1, 8: 0, 9: 0, 10: 0, 11: 0, 12: 1, 13: 0, 14: 0}. \n"
     ]
    },
    {
     "name": "stderr",
     "output_type": "stream",
     "text": [
      "[I 2024-07-02 07:24:44,906] Trial 93 finished with values: [-1.906786902560676, 0.5115906567546378] and parameters: {0: 1, 1: 1, 2: 1, 3: 1, 4: 1, 5: 0, 6: 1, 7: 1, 8: 0, 9: 1, 10: 0, 11: 1, 12: 1, 13: 1, 14: 0}. \n"
     ]
    },
    {
     "name": "stdout",
     "output_type": "stream",
     "text": [
      "Trade times in sample: 117913 Trade times out sample: 118208\n",
      "Trial 93 finished with values: [-1.906786902560676, 0.5115906567546378] and parameters: {0: 1, 1: 1, 2: 1, 3: 1, 4: 1, 5: 0, 6: 1, 7: 1, 8: 0, 9: 1, 10: 0, 11: 1, 12: 1, 13: 1, 14: 0}. \n"
     ]
    },
    {
     "name": "stderr",
     "output_type": "stream",
     "text": [
      "[I 2024-07-02 07:25:08,938] Trial 94 finished with values: [0.24110007625396498, 15.857604616826595] and parameters: {0: 0, 1: 0, 2: 1, 3: 1, 4: 0, 5: 1, 6: 1, 7: 0, 8: 0, 9: 0, 10: 0, 11: 0, 12: 0, 13: 1, 14: 1}. \n"
     ]
    },
    {
     "name": "stdout",
     "output_type": "stream",
     "text": [
      "Trade times in sample: 118025 Trade times out sample: 118207\n",
      "Trial 94 finished with values: [0.24110007625396498, 15.857604616826595] and parameters: {0: 0, 1: 0, 2: 1, 3: 1, 4: 0, 5: 1, 6: 1, 7: 0, 8: 0, 9: 0, 10: 0, 11: 0, 12: 0, 13: 1, 14: 1}. \n"
     ]
    },
    {
     "name": "stderr",
     "output_type": "stream",
     "text": [
      "[I 2024-07-02 07:25:21,019] Trial 95 finished with values: [1.11081943656525, 1.9143256970562992] and parameters: {0: 1, 1: 0, 2: 0, 3: 0, 4: 0, 5: 0, 6: 0, 7: 0, 8: 1, 9: 0, 10: 0, 11: 0, 12: 0, 13: 0, 14: 1}. \n"
     ]
    },
    {
     "name": "stdout",
     "output_type": "stream",
     "text": [
      "Trade times in sample: 117781 Trade times out sample: 118187\n",
      "Trial 95 finished with values: [1.11081943656525, 1.9143256970562992] and parameters: {0: 1, 1: 0, 2: 0, 3: 0, 4: 0, 5: 0, 6: 0, 7: 0, 8: 1, 9: 0, 10: 0, 11: 0, 12: 0, 13: 0, 14: 1}. \n"
     ]
    },
    {
     "name": "stderr",
     "output_type": "stream",
     "text": [
      "[I 2024-07-02 07:25:35,358] Trial 96 finished with values: [1.6321493665299702, 1.2440524117098253] and parameters: {0: 0, 1: 0, 2: 0, 3: 0, 4: 1, 5: 0, 6: 1, 7: 0, 8: 1, 9: 0, 10: 0, 11: 1, 12: 1, 13: 0, 14: 1}. \n"
     ]
    },
    {
     "name": "stdout",
     "output_type": "stream",
     "text": [
      "Trade times in sample: 118025 Trade times out sample: 118187\n",
      "Trial 96 finished with values: [1.6321493665299702, 1.2440524117098253] and parameters: {0: 0, 1: 0, 2: 0, 3: 0, 4: 1, 5: 0, 6: 1, 7: 0, 8: 1, 9: 0, 10: 0, 11: 1, 12: 1, 13: 0, 14: 1}. \n"
     ]
    },
    {
     "name": "stderr",
     "output_type": "stream",
     "text": [
      "[W 2024-07-02 07:25:35,566] Trial 97 failed with parameters: {0: 0, 1: 0, 2: 0, 3: 1, 4: 1, 5: 1, 6: 1, 7: 0, 8: 0, 9: 1, 10: 0, 11: 1, 12: 1, 13: 0, 14: 1} because of the following error: The value nan is not acceptable.\n"
     ]
    },
    {
     "name": "stdout",
     "output_type": "stream",
     "text": [
      "Trial 97 failed with parameters: {0: 0, 1: 0, 2: 0, 3: 1, 4: 1, 5: 1, 6: 1, 7: 0, 8: 0, 9: 1, 10: 0, 11: 1, 12: 1, 13: 0, 14: 1} because of the following error: The value nan is not acceptable.\n"
     ]
    },
    {
     "name": "stderr",
     "output_type": "stream",
     "text": [
      "[W 2024-07-02 07:25:35,568] Trial 97 failed with value nan.\n"
     ]
    },
    {
     "name": "stdout",
     "output_type": "stream",
     "text": [
      "Trial 97 failed with value nan.\n"
     ]
    },
    {
     "name": "stderr",
     "output_type": "stream",
     "text": [
      "[I 2024-07-02 07:25:54,772] Trial 98 finished with values: [0.11969217801775431, 30.198582365444977] and parameters: {0: 1, 1: 1, 2: 0, 3: 0, 4: 1, 5: 0, 6: 1, 7: 0, 8: 1, 9: 0, 10: 0, 11: 0, 12: 0, 13: 1, 14: 0}. \n"
     ]
    },
    {
     "name": "stdout",
     "output_type": "stream",
     "text": [
      "Trade times in sample: 118025 Trade times out sample: 118200\n",
      "Trial 98 finished with values: [0.11969217801775431, 30.198582365444977] and parameters: {0: 1, 1: 1, 2: 0, 3: 0, 4: 1, 5: 0, 6: 1, 7: 0, 8: 1, 9: 0, 10: 0, 11: 0, 12: 0, 13: 1, 14: 0}. \n"
     ]
    },
    {
     "name": "stderr",
     "output_type": "stream",
     "text": [
      "[I 2024-07-02 07:26:09,039] Trial 99 finished with values: [2.066892709166476, 1.162492810561873] and parameters: {0: 0, 1: 0, 2: 0, 3: 1, 4: 1, 5: 0, 6: 1, 7: 0, 8: 1, 9: 0, 10: 1, 11: 1, 12: 0, 13: 1, 14: 1}. \n"
     ]
    },
    {
     "name": "stdout",
     "output_type": "stream",
     "text": [
      "Trade times in sample: 118025 Trade times out sample: 118187\n",
      "Trial 99 finished with values: [2.066892709166476, 1.162492810561873] and parameters: {0: 0, 1: 0, 2: 0, 3: 1, 4: 1, 5: 0, 6: 1, 7: 0, 8: 1, 9: 0, 10: 1, 11: 1, 12: 0, 13: 1, 14: 1}. \n"
     ]
    },
    {
     "name": "stderr",
     "output_type": "stream",
     "text": [
      "[I 2024-07-02 07:26:38,040] Trial 100 finished with values: [0.7884091148410082, 3.215780794789457] and parameters: {0: 1, 1: 1, 2: 0, 3: 1, 4: 1, 5: 1, 6: 1, 7: 0, 8: 0, 9: 1, 10: 0, 11: 0, 12: 0, 13: 1, 14: 0}. \n"
     ]
    },
    {
     "name": "stdout",
     "output_type": "stream",
     "text": [
      "Trade times in sample: 115208 Trade times out sample: 118236\n",
      "Trial 100 finished with values: [0.7884091148410082, 3.215780794789457] and parameters: {0: 1, 1: 1, 2: 0, 3: 1, 4: 1, 5: 1, 6: 1, 7: 0, 8: 0, 9: 1, 10: 0, 11: 0, 12: 0, 13: 1, 14: 0}. \n"
     ]
    },
    {
     "name": "stderr",
     "output_type": "stream",
     "text": [
      "[I 2024-07-02 07:27:03,776] Trial 101 finished with values: [1.1030049656170147, 2.3649785076802465] and parameters: {0: 0, 1: 0, 2: 0, 3: 0, 4: 0, 5: 1, 6: 0, 7: 1, 8: 1, 9: 1, 10: 0, 11: 0, 12: 0, 13: 0, 14: 1}. \n"
     ]
    },
    {
     "name": "stdout",
     "output_type": "stream",
     "text": [
      "Trade times in sample: 118024 Trade times out sample: 118187\n",
      "Trial 101 finished with values: [1.1030049656170147, 2.3649785076802465] and parameters: {0: 0, 1: 0, 2: 0, 3: 0, 4: 0, 5: 1, 6: 0, 7: 1, 8: 1, 9: 1, 10: 0, 11: 0, 12: 0, 13: 0, 14: 1}. \n"
     ]
    },
    {
     "name": "stderr",
     "output_type": "stream",
     "text": [
      "[I 2024-07-02 07:27:28,972] Trial 102 finished with values: [-0.8676947939870346, 1.6161040871615349] and parameters: {0: 1, 1: 1, 2: 1, 3: 0, 4: 1, 5: 0, 6: 0, 7: 1, 8: 1, 9: 0, 10: 1, 11: 0, 12: 0, 13: 0, 14: 0}. \n"
     ]
    },
    {
     "name": "stdout",
     "output_type": "stream",
     "text": [
      "Trade times in sample: 118025 Trade times out sample: 118187\n",
      "Trial 102 finished with values: [-0.8676947939870346, 1.6161040871615349] and parameters: {0: 1, 1: 1, 2: 1, 3: 0, 4: 1, 5: 0, 6: 0, 7: 1, 8: 1, 9: 0, 10: 1, 11: 0, 12: 0, 13: 0, 14: 0}. \n"
     ]
    },
    {
     "name": "stderr",
     "output_type": "stream",
     "text": [
      "[I 2024-07-02 07:27:50,639] Trial 103 finished with values: [0.9958946563156256, 2.1916127700191064] and parameters: {0: 0, 1: 1, 2: 0, 3: 0, 4: 0, 5: 0, 6: 1, 7: 1, 8: 0, 9: 0, 10: 0, 11: 0, 12: 1, 13: 0, 14: 1}. \n"
     ]
    },
    {
     "name": "stdout",
     "output_type": "stream",
     "text": [
      "Trade times in sample: 118025 Trade times out sample: 118187\n",
      "Trial 103 finished with values: [0.9958946563156256, 2.1916127700191064] and parameters: {0: 0, 1: 1, 2: 0, 3: 0, 4: 0, 5: 0, 6: 1, 7: 1, 8: 0, 9: 0, 10: 0, 11: 0, 12: 1, 13: 0, 14: 1}. \n"
     ]
    },
    {
     "name": "stderr",
     "output_type": "stream",
     "text": [
      "[I 2024-07-02 07:28:19,523] Trial 104 finished with values: [1.574663750186714, 1.6853651311882119] and parameters: {0: 1, 1: 0, 2: 1, 3: 0, 4: 1, 5: 0, 6: 0, 7: 0, 8: 0, 9: 1, 10: 0, 11: 0, 12: 0, 13: 1, 14: 1}. \n"
     ]
    },
    {
     "name": "stdout",
     "output_type": "stream",
     "text": [
      "Trade times in sample: 118025 Trade times out sample: 118208\n",
      "Trial 104 finished with values: [1.574663750186714, 1.6853651311882119] and parameters: {0: 1, 1: 0, 2: 1, 3: 0, 4: 1, 5: 0, 6: 0, 7: 0, 8: 0, 9: 1, 10: 0, 11: 0, 12: 0, 13: 1, 14: 1}. \n"
     ]
    },
    {
     "name": "stderr",
     "output_type": "stream",
     "text": [
      "[I 2024-07-02 07:29:05,876] Trial 105 finished with values: [1.1349032511315844, 2.9544683292707927] and parameters: {0: 0, 1: 1, 2: 1, 3: 0, 4: 0, 5: 1, 6: 1, 7: 1, 8: 0, 9: 1, 10: 1, 11: 1, 12: 1, 13: 1, 14: 1}. \n"
     ]
    },
    {
     "name": "stdout",
     "output_type": "stream",
     "text": [
      "Trade times in sample: 118025 Trade times out sample: 118208\n",
      "Trial 105 finished with values: [1.1349032511315844, 2.9544683292707927] and parameters: {0: 0, 1: 1, 2: 1, 3: 0, 4: 0, 5: 1, 6: 1, 7: 1, 8: 0, 9: 1, 10: 1, 11: 1, 12: 1, 13: 1, 14: 1}. \n"
     ]
    }
   ],
   "source": [
    "\"\"\"## Define number of trials (no 2)\"\"\"\n",
    "\n",
    "# Create a study object and optimize the objective function\n",
    "study = optuna.create_study(directions=['maximize', 'minimize'])\n",
    "unique_trials = 100\n",
    "\n",
    "while unique_trials > len(set(str(t.params) for t in study.trials)):\n",
    "    study.optimize(lambda trial: objective(trial, X_train, X_valid, y_train, y_valid, train_data['Close']), n_trials=1)\n",
    "    study.trials_dataframe().sort_values('values_0').to_csv('gbr_feature_trials.csv')\n",
    "    joblib.dump(study, 'gbrmodel.pkl')\n"
   ]
  },
  {
   "cell_type": "code",
   "execution_count": 39,
   "id": "02dc6cc9",
   "metadata": {
    "execution": {
     "iopub.execute_input": "2024-07-02T07:29:06.171634Z",
     "iopub.status.busy": "2024-07-02T07:29:06.171183Z",
     "iopub.status.idle": "2024-07-02T07:29:06.210157Z",
     "shell.execute_reply": "2024-07-02T07:29:06.209068Z"
    },
    "papermill": {
     "duration": 0.095914,
     "end_time": "2024-07-02T07:29:06.212702",
     "exception": false,
     "start_time": "2024-07-02T07:29:06.116788",
     "status": "completed"
    },
    "tags": []
   },
   "outputs": [
    {
     "data": {
      "text/html": [
       "<div>\n",
       "<style scoped>\n",
       "    .dataframe tbody tr th:only-of-type {\n",
       "        vertical-align: middle;\n",
       "    }\n",
       "\n",
       "    .dataframe tbody tr th {\n",
       "        vertical-align: top;\n",
       "    }\n",
       "\n",
       "    .dataframe thead th {\n",
       "        text-align: right;\n",
       "    }\n",
       "</style>\n",
       "<table border=\"1\" class=\"dataframe\">\n",
       "  <thead>\n",
       "    <tr style=\"text-align: right;\">\n",
       "      <th></th>\n",
       "      <th>number</th>\n",
       "      <th>values_0</th>\n",
       "      <th>values_1</th>\n",
       "      <th>datetime_start</th>\n",
       "      <th>datetime_complete</th>\n",
       "      <th>duration</th>\n",
       "      <th>params_0</th>\n",
       "      <th>params_1</th>\n",
       "      <th>params_2</th>\n",
       "      <th>params_3</th>\n",
       "      <th>...</th>\n",
       "      <th>params_7</th>\n",
       "      <th>params_8</th>\n",
       "      <th>params_9</th>\n",
       "      <th>params_10</th>\n",
       "      <th>params_11</th>\n",
       "      <th>params_12</th>\n",
       "      <th>params_13</th>\n",
       "      <th>params_14</th>\n",
       "      <th>system_attrs_nsga2:generation</th>\n",
       "      <th>state</th>\n",
       "    </tr>\n",
       "  </thead>\n",
       "  <tbody>\n",
       "    <tr>\n",
       "      <th>15</th>\n",
       "      <td>15</td>\n",
       "      <td>-3.280892</td>\n",
       "      <td>0.111360</td>\n",
       "      <td>2024-07-02 06:51:46.433794</td>\n",
       "      <td>2024-07-02 06:52:17.213698</td>\n",
       "      <td>0 days 00:00:30.779904</td>\n",
       "      <td>1</td>\n",
       "      <td>0</td>\n",
       "      <td>1</td>\n",
       "      <td>0</td>\n",
       "      <td>...</td>\n",
       "      <td>0</td>\n",
       "      <td>0</td>\n",
       "      <td>1</td>\n",
       "      <td>1</td>\n",
       "      <td>0</td>\n",
       "      <td>1</td>\n",
       "      <td>1</td>\n",
       "      <td>0</td>\n",
       "      <td>0</td>\n",
       "      <td>COMPLETE</td>\n",
       "    </tr>\n",
       "    <tr>\n",
       "      <th>14</th>\n",
       "      <td>14</td>\n",
       "      <td>-2.530798</td>\n",
       "      <td>0.390180</td>\n",
       "      <td>2024-07-02 06:51:21.451196</td>\n",
       "      <td>2024-07-02 06:51:46.397665</td>\n",
       "      <td>0 days 00:00:24.946469</td>\n",
       "      <td>1</td>\n",
       "      <td>0</td>\n",
       "      <td>1</td>\n",
       "      <td>0</td>\n",
       "      <td>...</td>\n",
       "      <td>0</td>\n",
       "      <td>0</td>\n",
       "      <td>0</td>\n",
       "      <td>0</td>\n",
       "      <td>0</td>\n",
       "      <td>0</td>\n",
       "      <td>1</td>\n",
       "      <td>0</td>\n",
       "      <td>0</td>\n",
       "      <td>COMPLETE</td>\n",
       "    </tr>\n",
       "    <tr>\n",
       "      <th>93</th>\n",
       "      <td>93</td>\n",
       "      <td>-1.906787</td>\n",
       "      <td>0.511591</td>\n",
       "      <td>2024-07-02 07:24:03.496490</td>\n",
       "      <td>2024-07-02 07:24:44.905903</td>\n",
       "      <td>0 days 00:00:41.409413</td>\n",
       "      <td>1</td>\n",
       "      <td>1</td>\n",
       "      <td>1</td>\n",
       "      <td>1</td>\n",
       "      <td>...</td>\n",
       "      <td>1</td>\n",
       "      <td>0</td>\n",
       "      <td>1</td>\n",
       "      <td>0</td>\n",
       "      <td>1</td>\n",
       "      <td>1</td>\n",
       "      <td>1</td>\n",
       "      <td>0</td>\n",
       "      <td>1</td>\n",
       "      <td>COMPLETE</td>\n",
       "    </tr>\n",
       "    <tr>\n",
       "      <th>22</th>\n",
       "      <td>22</td>\n",
       "      <td>-1.715042</td>\n",
       "      <td>0.450415</td>\n",
       "      <td>2024-07-02 06:55:00.063676</td>\n",
       "      <td>2024-07-02 06:55:30.291891</td>\n",
       "      <td>0 days 00:00:30.228215</td>\n",
       "      <td>0</td>\n",
       "      <td>1</td>\n",
       "      <td>1</td>\n",
       "      <td>0</td>\n",
       "      <td>...</td>\n",
       "      <td>0</td>\n",
       "      <td>0</td>\n",
       "      <td>1</td>\n",
       "      <td>1</td>\n",
       "      <td>0</td>\n",
       "      <td>1</td>\n",
       "      <td>0</td>\n",
       "      <td>0</td>\n",
       "      <td>0</td>\n",
       "      <td>COMPLETE</td>\n",
       "    </tr>\n",
       "    <tr>\n",
       "      <th>27</th>\n",
       "      <td>27</td>\n",
       "      <td>-1.439550</td>\n",
       "      <td>1.203652</td>\n",
       "      <td>2024-07-02 06:57:14.105348</td>\n",
       "      <td>2024-07-02 06:57:36.514590</td>\n",
       "      <td>0 days 00:00:22.409242</td>\n",
       "      <td>1</td>\n",
       "      <td>1</td>\n",
       "      <td>1</td>\n",
       "      <td>0</td>\n",
       "      <td>...</td>\n",
       "      <td>0</td>\n",
       "      <td>0</td>\n",
       "      <td>0</td>\n",
       "      <td>0</td>\n",
       "      <td>0</td>\n",
       "      <td>0</td>\n",
       "      <td>1</td>\n",
       "      <td>0</td>\n",
       "      <td>0</td>\n",
       "      <td>COMPLETE</td>\n",
       "    </tr>\n",
       "    <tr>\n",
       "      <th>...</th>\n",
       "      <td>...</td>\n",
       "      <td>...</td>\n",
       "      <td>...</td>\n",
       "      <td>...</td>\n",
       "      <td>...</td>\n",
       "      <td>...</td>\n",
       "      <td>...</td>\n",
       "      <td>...</td>\n",
       "      <td>...</td>\n",
       "      <td>...</td>\n",
       "      <td>...</td>\n",
       "      <td>...</td>\n",
       "      <td>...</td>\n",
       "      <td>...</td>\n",
       "      <td>...</td>\n",
       "      <td>...</td>\n",
       "      <td>...</td>\n",
       "      <td>...</td>\n",
       "      <td>...</td>\n",
       "      <td>...</td>\n",
       "      <td>...</td>\n",
       "    </tr>\n",
       "    <tr>\n",
       "      <th>17</th>\n",
       "      <td>17</td>\n",
       "      <td>2.298349</td>\n",
       "      <td>0.976945</td>\n",
       "      <td>2024-07-02 06:52:41.651597</td>\n",
       "      <td>2024-07-02 06:53:17.844111</td>\n",
       "      <td>0 days 00:00:36.192514</td>\n",
       "      <td>0</td>\n",
       "      <td>1</td>\n",
       "      <td>1</td>\n",
       "      <td>0</td>\n",
       "      <td>...</td>\n",
       "      <td>1</td>\n",
       "      <td>1</td>\n",
       "      <td>1</td>\n",
       "      <td>0</td>\n",
       "      <td>0</td>\n",
       "      <td>0</td>\n",
       "      <td>1</td>\n",
       "      <td>1</td>\n",
       "      <td>0</td>\n",
       "      <td>COMPLETE</td>\n",
       "    </tr>\n",
       "    <tr>\n",
       "      <th>51</th>\n",
       "      <td>51</td>\n",
       "      <td>2.396234</td>\n",
       "      <td>0.883958</td>\n",
       "      <td>2024-07-02 07:07:26.070902</td>\n",
       "      <td>2024-07-02 07:08:02.088775</td>\n",
       "      <td>0 days 00:00:36.017873</td>\n",
       "      <td>0</td>\n",
       "      <td>1</td>\n",
       "      <td>1</td>\n",
       "      <td>0</td>\n",
       "      <td>...</td>\n",
       "      <td>1</td>\n",
       "      <td>1</td>\n",
       "      <td>1</td>\n",
       "      <td>0</td>\n",
       "      <td>0</td>\n",
       "      <td>0</td>\n",
       "      <td>1</td>\n",
       "      <td>1</td>\n",
       "      <td>1</td>\n",
       "      <td>COMPLETE</td>\n",
       "    </tr>\n",
       "    <tr>\n",
       "      <th>18</th>\n",
       "      <td>18</td>\n",
       "      <td>2.453879</td>\n",
       "      <td>0.782852</td>\n",
       "      <td>2024-07-02 06:53:17.894743</td>\n",
       "      <td>2024-07-02 06:53:27.641686</td>\n",
       "      <td>0 days 00:00:09.746943</td>\n",
       "      <td>1</td>\n",
       "      <td>0</td>\n",
       "      <td>0</td>\n",
       "      <td>1</td>\n",
       "      <td>...</td>\n",
       "      <td>0</td>\n",
       "      <td>0</td>\n",
       "      <td>0</td>\n",
       "      <td>1</td>\n",
       "      <td>1</td>\n",
       "      <td>0</td>\n",
       "      <td>0</td>\n",
       "      <td>1</td>\n",
       "      <td>0</td>\n",
       "      <td>COMPLETE</td>\n",
       "    </tr>\n",
       "    <tr>\n",
       "      <th>3</th>\n",
       "      <td>3</td>\n",
       "      <td>2.545659</td>\n",
       "      <td>0.670675</td>\n",
       "      <td>2024-07-02 06:46:11.890675</td>\n",
       "      <td>2024-07-02 06:46:27.799626</td>\n",
       "      <td>0 days 00:00:15.908951</td>\n",
       "      <td>1</td>\n",
       "      <td>0</td>\n",
       "      <td>0</td>\n",
       "      <td>0</td>\n",
       "      <td>...</td>\n",
       "      <td>0</td>\n",
       "      <td>0</td>\n",
       "      <td>0</td>\n",
       "      <td>0</td>\n",
       "      <td>0</td>\n",
       "      <td>1</td>\n",
       "      <td>0</td>\n",
       "      <td>1</td>\n",
       "      <td>0</td>\n",
       "      <td>COMPLETE</td>\n",
       "    </tr>\n",
       "    <tr>\n",
       "      <th>89</th>\n",
       "      <td>89</td>\n",
       "      <td>3.037635</td>\n",
       "      <td>0.406427</td>\n",
       "      <td>2024-07-02 07:23:01.669695</td>\n",
       "      <td>2024-07-02 07:23:22.103918</td>\n",
       "      <td>0 days 00:00:20.434223</td>\n",
       "      <td>1</td>\n",
       "      <td>1</td>\n",
       "      <td>0</td>\n",
       "      <td>1</td>\n",
       "      <td>...</td>\n",
       "      <td>0</td>\n",
       "      <td>0</td>\n",
       "      <td>0</td>\n",
       "      <td>1</td>\n",
       "      <td>1</td>\n",
       "      <td>0</td>\n",
       "      <td>1</td>\n",
       "      <td>1</td>\n",
       "      <td>1</td>\n",
       "      <td>COMPLETE</td>\n",
       "    </tr>\n",
       "  </tbody>\n",
       "</table>\n",
       "<p>106 rows × 23 columns</p>\n",
       "</div>"
      ],
      "text/plain": [
       "    number  values_0  values_1             datetime_start  \\\n",
       "15      15 -3.280892  0.111360 2024-07-02 06:51:46.433794   \n",
       "14      14 -2.530798  0.390180 2024-07-02 06:51:21.451196   \n",
       "93      93 -1.906787  0.511591 2024-07-02 07:24:03.496490   \n",
       "22      22 -1.715042  0.450415 2024-07-02 06:55:00.063676   \n",
       "27      27 -1.439550  1.203652 2024-07-02 06:57:14.105348   \n",
       "..     ...       ...       ...                        ...   \n",
       "17      17  2.298349  0.976945 2024-07-02 06:52:41.651597   \n",
       "51      51  2.396234  0.883958 2024-07-02 07:07:26.070902   \n",
       "18      18  2.453879  0.782852 2024-07-02 06:53:17.894743   \n",
       "3        3  2.545659  0.670675 2024-07-02 06:46:11.890675   \n",
       "89      89  3.037635  0.406427 2024-07-02 07:23:01.669695   \n",
       "\n",
       "            datetime_complete               duration  params_0  params_1  \\\n",
       "15 2024-07-02 06:52:17.213698 0 days 00:00:30.779904         1         0   \n",
       "14 2024-07-02 06:51:46.397665 0 days 00:00:24.946469         1         0   \n",
       "93 2024-07-02 07:24:44.905903 0 days 00:00:41.409413         1         1   \n",
       "22 2024-07-02 06:55:30.291891 0 days 00:00:30.228215         0         1   \n",
       "27 2024-07-02 06:57:36.514590 0 days 00:00:22.409242         1         1   \n",
       "..                        ...                    ...       ...       ...   \n",
       "17 2024-07-02 06:53:17.844111 0 days 00:00:36.192514         0         1   \n",
       "51 2024-07-02 07:08:02.088775 0 days 00:00:36.017873         0         1   \n",
       "18 2024-07-02 06:53:27.641686 0 days 00:00:09.746943         1         0   \n",
       "3  2024-07-02 06:46:27.799626 0 days 00:00:15.908951         1         0   \n",
       "89 2024-07-02 07:23:22.103918 0 days 00:00:20.434223         1         1   \n",
       "\n",
       "    params_2  params_3  ...  params_7  params_8  params_9  params_10  \\\n",
       "15         1         0  ...         0         0         1          1   \n",
       "14         1         0  ...         0         0         0          0   \n",
       "93         1         1  ...         1         0         1          0   \n",
       "22         1         0  ...         0         0         1          1   \n",
       "27         1         0  ...         0         0         0          0   \n",
       "..       ...       ...  ...       ...       ...       ...        ...   \n",
       "17         1         0  ...         1         1         1          0   \n",
       "51         1         0  ...         1         1         1          0   \n",
       "18         0         1  ...         0         0         0          1   \n",
       "3          0         0  ...         0         0         0          0   \n",
       "89         0         1  ...         0         0         0          1   \n",
       "\n",
       "    params_11  params_12  params_13  params_14  system_attrs_nsga2:generation  \\\n",
       "15          0          1          1          0                              0   \n",
       "14          0          0          1          0                              0   \n",
       "93          1          1          1          0                              1   \n",
       "22          0          1          0          0                              0   \n",
       "27          0          0          1          0                              0   \n",
       "..        ...        ...        ...        ...                            ...   \n",
       "17          0          0          1          1                              0   \n",
       "51          0          0          1          1                              1   \n",
       "18          1          0          0          1                              0   \n",
       "3           0          1          0          1                              0   \n",
       "89          1          0          1          1                              1   \n",
       "\n",
       "       state  \n",
       "15  COMPLETE  \n",
       "14  COMPLETE  \n",
       "93  COMPLETE  \n",
       "22  COMPLETE  \n",
       "27  COMPLETE  \n",
       "..       ...  \n",
       "17  COMPLETE  \n",
       "51  COMPLETE  \n",
       "18  COMPLETE  \n",
       "3   COMPLETE  \n",
       "89  COMPLETE  \n",
       "\n",
       "[106 rows x 23 columns]"
      ]
     },
     "execution_count": 39,
     "metadata": {},
     "output_type": "execute_result"
    }
   ],
   "source": [
    "study.trials_dataframe().fillna(0).sort_values('values_0')"
   ]
  },
  {
   "cell_type": "markdown",
   "id": "d6dc13db",
   "metadata": {
    "id": "DYFKKBhpqnAC",
    "papermill": {
     "duration": 0.053692,
     "end_time": "2024-07-02T07:29:06.321458",
     "exception": false,
     "start_time": "2024-07-02T07:29:06.267766",
     "status": "completed"
    },
    "tags": []
   },
   "source": [
    "# Retrieve Top PNL"
   ]
  },
  {
   "cell_type": "code",
   "execution_count": 40,
   "id": "32201372",
   "metadata": {
    "execution": {
     "iopub.execute_input": "2024-07-02T07:29:06.432104Z",
     "iopub.status.busy": "2024-07-02T07:29:06.431107Z",
     "iopub.status.idle": "2024-07-02T07:29:06.480125Z",
     "shell.execute_reply": "2024-07-02T07:29:06.478824Z"
    },
    "id": "2GOEnQ0GXb4V",
    "papermill": {
     "duration": 0.107347,
     "end_time": "2024-07-02T07:29:06.483049",
     "exception": false,
     "start_time": "2024-07-02T07:29:06.375702",
     "status": "completed"
    },
    "tags": []
   },
   "outputs": [],
   "source": [
    "# study = joblib.load(open(\"rabmodel.pkl\", \"rb\"))\n",
    "trials = study.trials"
   ]
  },
  {
   "cell_type": "code",
   "execution_count": 41,
   "id": "c6f75857",
   "metadata": {
    "execution": {
     "iopub.execute_input": "2024-07-02T07:29:06.593094Z",
     "iopub.status.busy": "2024-07-02T07:29:06.592040Z",
     "iopub.status.idle": "2024-07-02T07:29:06.673665Z",
     "shell.execute_reply": "2024-07-02T07:29:06.672586Z"
    },
    "id": "oWzuIq5PqnAC",
    "papermill": {
     "duration": 0.139401,
     "end_time": "2024-07-02T07:29:06.676354",
     "exception": false,
     "start_time": "2024-07-02T07:29:06.536953",
     "status": "completed"
    },
    "tags": []
   },
   "outputs": [],
   "source": [
    "completed_trials = [t for t in study.trials if t.values is not None]\n",
    "\n",
    "# Sort the completed trials based on their objective values\n",
    "completed_trials.sort(key=lambda trial: trial.values, reverse=True)\n",
    "\n",
    "# Define top pnl to take for clustering\n",
    "top_trials = completed_trials\n",
    "\n",
    "new_df_no_close_col = data.drop(['Date','time', 'Open','High','Low','Close','Volume', 'Return' ], axis=1)\n",
    "\n",
    "# Extract hyperparameters from top trials\n",
    "top_features_list = []\n",
    "\n",
    "for trial in top_trials:\n",
    "  best_selected_features = [col for idx, col  in enumerate(new_df_no_close_col.columns) if trial.params[idx] == 1] # if bug try change from idx to col\n",
    "  top_features_list.append(best_selected_features)"
   ]
  },
  {
   "cell_type": "code",
   "execution_count": 42,
   "id": "4c2ee14d",
   "metadata": {
    "execution": {
     "iopub.execute_input": "2024-07-02T07:29:06.786304Z",
     "iopub.status.busy": "2024-07-02T07:29:06.785865Z",
     "iopub.status.idle": "2024-07-02T08:13:20.026595Z",
     "shell.execute_reply": "2024-07-02T08:13:20.025300Z"
    },
    "id": "cutCw_EwqnAD",
    "papermill": {
     "duration": 2653.299271,
     "end_time": "2024-07-02T08:13:20.029588",
     "exception": false,
     "start_time": "2024-07-02T07:29:06.730317",
     "status": "completed"
    },
    "tags": []
   },
   "outputs": [
    {
     "name": "stderr",
     "output_type": "stream",
     "text": [
      "/opt/conda/lib/python3.10/site-packages/numpy/core/fromnumeric.py:59: FutureWarning: 'DataFrame.swapaxes' is deprecated and will be removed in a future version. Please use 'DataFrame.transpose' instead.\n",
      "  return bound(*args, **kwds)\n",
      "/opt/conda/lib/python3.10/site-packages/numpy/core/fromnumeric.py:59: FutureWarning: 'DataFrame.swapaxes' is deprecated and will be removed in a future version. Please use 'DataFrame.transpose' instead.\n",
      "  return bound(*args, **kwds)\n",
      "/opt/conda/lib/python3.10/site-packages/numpy/core/fromnumeric.py:59: FutureWarning: 'DataFrame.swapaxes' is deprecated and will be removed in a future version. Please use 'DataFrame.transpose' instead.\n",
      "  return bound(*args, **kwds)\n",
      "/opt/conda/lib/python3.10/site-packages/numpy/core/fromnumeric.py:59: FutureWarning: 'DataFrame.swapaxes' is deprecated and will be removed in a future version. Please use 'DataFrame.transpose' instead.\n",
      "  return bound(*args, **kwds)\n",
      "/opt/conda/lib/python3.10/site-packages/numpy/core/fromnumeric.py:59: FutureWarning: 'DataFrame.swapaxes' is deprecated and will be removed in a future version. Please use 'DataFrame.transpose' instead.\n",
      "  return bound(*args, **kwds)\n",
      "/opt/conda/lib/python3.10/site-packages/numpy/core/fromnumeric.py:59: FutureWarning: 'DataFrame.swapaxes' is deprecated and will be removed in a future version. Please use 'DataFrame.transpose' instead.\n",
      "  return bound(*args, **kwds)\n",
      "/opt/conda/lib/python3.10/site-packages/numpy/core/fromnumeric.py:59: FutureWarning: 'DataFrame.swapaxes' is deprecated and will be removed in a future version. Please use 'DataFrame.transpose' instead.\n",
      "  return bound(*args, **kwds)\n",
      "/opt/conda/lib/python3.10/site-packages/numpy/core/fromnumeric.py:59: FutureWarning: 'DataFrame.swapaxes' is deprecated and will be removed in a future version. Please use 'DataFrame.transpose' instead.\n",
      "  return bound(*args, **kwds)\n",
      "/opt/conda/lib/python3.10/site-packages/numpy/core/fromnumeric.py:59: FutureWarning: 'DataFrame.swapaxes' is deprecated and will be removed in a future version. Please use 'DataFrame.transpose' instead.\n",
      "  return bound(*args, **kwds)\n",
      "/opt/conda/lib/python3.10/site-packages/numpy/core/fromnumeric.py:59: FutureWarning: 'DataFrame.swapaxes' is deprecated and will be removed in a future version. Please use 'DataFrame.transpose' instead.\n",
      "  return bound(*args, **kwds)\n",
      "/opt/conda/lib/python3.10/site-packages/numpy/core/fromnumeric.py:59: FutureWarning: 'DataFrame.swapaxes' is deprecated and will be removed in a future version. Please use 'DataFrame.transpose' instead.\n",
      "  return bound(*args, **kwds)\n",
      "/opt/conda/lib/python3.10/site-packages/numpy/core/fromnumeric.py:59: FutureWarning: 'DataFrame.swapaxes' is deprecated and will be removed in a future version. Please use 'DataFrame.transpose' instead.\n",
      "  return bound(*args, **kwds)\n",
      "/opt/conda/lib/python3.10/site-packages/numpy/core/fromnumeric.py:59: FutureWarning: 'DataFrame.swapaxes' is deprecated and will be removed in a future version. Please use 'DataFrame.transpose' instead.\n",
      "  return bound(*args, **kwds)\n",
      "/opt/conda/lib/python3.10/site-packages/numpy/core/fromnumeric.py:59: FutureWarning: 'DataFrame.swapaxes' is deprecated and will be removed in a future version. Please use 'DataFrame.transpose' instead.\n",
      "  return bound(*args, **kwds)\n",
      "/opt/conda/lib/python3.10/site-packages/numpy/core/fromnumeric.py:59: FutureWarning: 'DataFrame.swapaxes' is deprecated and will be removed in a future version. Please use 'DataFrame.transpose' instead.\n",
      "  return bound(*args, **kwds)\n",
      "/opt/conda/lib/python3.10/site-packages/numpy/core/fromnumeric.py:59: FutureWarning: 'DataFrame.swapaxes' is deprecated and will be removed in a future version. Please use 'DataFrame.transpose' instead.\n",
      "  return bound(*args, **kwds)\n",
      "/opt/conda/lib/python3.10/site-packages/numpy/core/fromnumeric.py:59: FutureWarning: 'DataFrame.swapaxes' is deprecated and will be removed in a future version. Please use 'DataFrame.transpose' instead.\n",
      "  return bound(*args, **kwds)\n",
      "/opt/conda/lib/python3.10/site-packages/numpy/core/fromnumeric.py:59: FutureWarning: 'DataFrame.swapaxes' is deprecated and will be removed in a future version. Please use 'DataFrame.transpose' instead.\n",
      "  return bound(*args, **kwds)\n",
      "/opt/conda/lib/python3.10/site-packages/numpy/core/fromnumeric.py:59: FutureWarning: 'DataFrame.swapaxes' is deprecated and will be removed in a future version. Please use 'DataFrame.transpose' instead.\n",
      "  return bound(*args, **kwds)\n",
      "/opt/conda/lib/python3.10/site-packages/numpy/core/fromnumeric.py:59: FutureWarning: 'DataFrame.swapaxes' is deprecated and will be removed in a future version. Please use 'DataFrame.transpose' instead.\n",
      "  return bound(*args, **kwds)\n",
      "/opt/conda/lib/python3.10/site-packages/numpy/core/fromnumeric.py:59: FutureWarning: 'DataFrame.swapaxes' is deprecated and will be removed in a future version. Please use 'DataFrame.transpose' instead.\n",
      "  return bound(*args, **kwds)\n",
      "/opt/conda/lib/python3.10/site-packages/numpy/core/fromnumeric.py:59: FutureWarning: 'DataFrame.swapaxes' is deprecated and will be removed in a future version. Please use 'DataFrame.transpose' instead.\n",
      "  return bound(*args, **kwds)\n",
      "/opt/conda/lib/python3.10/site-packages/numpy/core/fromnumeric.py:59: FutureWarning: 'DataFrame.swapaxes' is deprecated and will be removed in a future version. Please use 'DataFrame.transpose' instead.\n",
      "  return bound(*args, **kwds)\n",
      "/opt/conda/lib/python3.10/site-packages/numpy/core/fromnumeric.py:59: FutureWarning: 'DataFrame.swapaxes' is deprecated and will be removed in a future version. Please use 'DataFrame.transpose' instead.\n",
      "  return bound(*args, **kwds)\n",
      "/opt/conda/lib/python3.10/site-packages/numpy/core/fromnumeric.py:59: FutureWarning: 'DataFrame.swapaxes' is deprecated and will be removed in a future version. Please use 'DataFrame.transpose' instead.\n",
      "  return bound(*args, **kwds)\n",
      "/opt/conda/lib/python3.10/site-packages/numpy/core/fromnumeric.py:59: FutureWarning: 'DataFrame.swapaxes' is deprecated and will be removed in a future version. Please use 'DataFrame.transpose' instead.\n",
      "  return bound(*args, **kwds)\n",
      "/opt/conda/lib/python3.10/site-packages/numpy/core/fromnumeric.py:59: FutureWarning: 'DataFrame.swapaxes' is deprecated and will be removed in a future version. Please use 'DataFrame.transpose' instead.\n",
      "  return bound(*args, **kwds)\n",
      "/opt/conda/lib/python3.10/site-packages/numpy/core/fromnumeric.py:59: FutureWarning: 'DataFrame.swapaxes' is deprecated and will be removed in a future version. Please use 'DataFrame.transpose' instead.\n",
      "  return bound(*args, **kwds)\n",
      "/opt/conda/lib/python3.10/site-packages/numpy/core/fromnumeric.py:59: FutureWarning: 'DataFrame.swapaxes' is deprecated and will be removed in a future version. Please use 'DataFrame.transpose' instead.\n",
      "  return bound(*args, **kwds)\n",
      "/opt/conda/lib/python3.10/site-packages/numpy/core/fromnumeric.py:59: FutureWarning: 'DataFrame.swapaxes' is deprecated and will be removed in a future version. Please use 'DataFrame.transpose' instead.\n",
      "  return bound(*args, **kwds)\n",
      "/opt/conda/lib/python3.10/site-packages/numpy/core/fromnumeric.py:59: FutureWarning: 'DataFrame.swapaxes' is deprecated and will be removed in a future version. Please use 'DataFrame.transpose' instead.\n",
      "  return bound(*args, **kwds)\n",
      "/opt/conda/lib/python3.10/site-packages/numpy/core/fromnumeric.py:59: FutureWarning: 'DataFrame.swapaxes' is deprecated and will be removed in a future version. Please use 'DataFrame.transpose' instead.\n",
      "  return bound(*args, **kwds)\n",
      "/opt/conda/lib/python3.10/site-packages/numpy/core/fromnumeric.py:59: FutureWarning: 'DataFrame.swapaxes' is deprecated and will be removed in a future version. Please use 'DataFrame.transpose' instead.\n",
      "  return bound(*args, **kwds)\n",
      "/opt/conda/lib/python3.10/site-packages/numpy/core/fromnumeric.py:59: FutureWarning: 'DataFrame.swapaxes' is deprecated and will be removed in a future version. Please use 'DataFrame.transpose' instead.\n",
      "  return bound(*args, **kwds)\n",
      "/opt/conda/lib/python3.10/site-packages/numpy/core/fromnumeric.py:59: FutureWarning: 'DataFrame.swapaxes' is deprecated and will be removed in a future version. Please use 'DataFrame.transpose' instead.\n",
      "  return bound(*args, **kwds)\n",
      "/opt/conda/lib/python3.10/site-packages/numpy/core/fromnumeric.py:59: FutureWarning: 'DataFrame.swapaxes' is deprecated and will be removed in a future version. Please use 'DataFrame.transpose' instead.\n",
      "  return bound(*args, **kwds)\n",
      "/opt/conda/lib/python3.10/site-packages/numpy/core/fromnumeric.py:59: FutureWarning: 'DataFrame.swapaxes' is deprecated and will be removed in a future version. Please use 'DataFrame.transpose' instead.\n",
      "  return bound(*args, **kwds)\n",
      "/opt/conda/lib/python3.10/site-packages/numpy/core/fromnumeric.py:59: FutureWarning: 'DataFrame.swapaxes' is deprecated and will be removed in a future version. Please use 'DataFrame.transpose' instead.\n",
      "  return bound(*args, **kwds)\n",
      "/opt/conda/lib/python3.10/site-packages/numpy/core/fromnumeric.py:59: FutureWarning: 'DataFrame.swapaxes' is deprecated and will be removed in a future version. Please use 'DataFrame.transpose' instead.\n",
      "  return bound(*args, **kwds)\n",
      "/opt/conda/lib/python3.10/site-packages/numpy/core/fromnumeric.py:59: FutureWarning: 'DataFrame.swapaxes' is deprecated and will be removed in a future version. Please use 'DataFrame.transpose' instead.\n",
      "  return bound(*args, **kwds)\n",
      "/opt/conda/lib/python3.10/site-packages/numpy/core/fromnumeric.py:59: FutureWarning: 'DataFrame.swapaxes' is deprecated and will be removed in a future version. Please use 'DataFrame.transpose' instead.\n",
      "  return bound(*args, **kwds)\n",
      "/opt/conda/lib/python3.10/site-packages/numpy/core/fromnumeric.py:59: FutureWarning: 'DataFrame.swapaxes' is deprecated and will be removed in a future version. Please use 'DataFrame.transpose' instead.\n",
      "  return bound(*args, **kwds)\n",
      "/opt/conda/lib/python3.10/site-packages/numpy/core/fromnumeric.py:59: FutureWarning: 'DataFrame.swapaxes' is deprecated and will be removed in a future version. Please use 'DataFrame.transpose' instead.\n",
      "  return bound(*args, **kwds)\n",
      "/opt/conda/lib/python3.10/site-packages/numpy/core/fromnumeric.py:59: FutureWarning: 'DataFrame.swapaxes' is deprecated and will be removed in a future version. Please use 'DataFrame.transpose' instead.\n",
      "  return bound(*args, **kwds)\n",
      "/opt/conda/lib/python3.10/site-packages/numpy/core/fromnumeric.py:59: FutureWarning: 'DataFrame.swapaxes' is deprecated and will be removed in a future version. Please use 'DataFrame.transpose' instead.\n",
      "  return bound(*args, **kwds)\n",
      "/opt/conda/lib/python3.10/site-packages/numpy/core/fromnumeric.py:59: FutureWarning: 'DataFrame.swapaxes' is deprecated and will be removed in a future version. Please use 'DataFrame.transpose' instead.\n",
      "  return bound(*args, **kwds)\n",
      "/opt/conda/lib/python3.10/site-packages/numpy/core/fromnumeric.py:59: FutureWarning: 'DataFrame.swapaxes' is deprecated and will be removed in a future version. Please use 'DataFrame.transpose' instead.\n",
      "  return bound(*args, **kwds)\n",
      "/opt/conda/lib/python3.10/site-packages/numpy/core/fromnumeric.py:59: FutureWarning: 'DataFrame.swapaxes' is deprecated and will be removed in a future version. Please use 'DataFrame.transpose' instead.\n",
      "  return bound(*args, **kwds)\n",
      "/opt/conda/lib/python3.10/site-packages/numpy/core/fromnumeric.py:59: FutureWarning: 'DataFrame.swapaxes' is deprecated and will be removed in a future version. Please use 'DataFrame.transpose' instead.\n",
      "  return bound(*args, **kwds)\n",
      "/opt/conda/lib/python3.10/site-packages/numpy/core/fromnumeric.py:59: FutureWarning: 'DataFrame.swapaxes' is deprecated and will be removed in a future version. Please use 'DataFrame.transpose' instead.\n",
      "  return bound(*args, **kwds)\n",
      "/opt/conda/lib/python3.10/site-packages/numpy/core/fromnumeric.py:59: FutureWarning: 'DataFrame.swapaxes' is deprecated and will be removed in a future version. Please use 'DataFrame.transpose' instead.\n",
      "  return bound(*args, **kwds)\n",
      "/opt/conda/lib/python3.10/site-packages/numpy/core/fromnumeric.py:59: FutureWarning: 'DataFrame.swapaxes' is deprecated and will be removed in a future version. Please use 'DataFrame.transpose' instead.\n",
      "  return bound(*args, **kwds)\n",
      "/opt/conda/lib/python3.10/site-packages/numpy/core/fromnumeric.py:59: FutureWarning: 'DataFrame.swapaxes' is deprecated and will be removed in a future version. Please use 'DataFrame.transpose' instead.\n",
      "  return bound(*args, **kwds)\n",
      "/opt/conda/lib/python3.10/site-packages/numpy/core/fromnumeric.py:59: FutureWarning: 'DataFrame.swapaxes' is deprecated and will be removed in a future version. Please use 'DataFrame.transpose' instead.\n",
      "  return bound(*args, **kwds)\n",
      "/opt/conda/lib/python3.10/site-packages/numpy/core/fromnumeric.py:59: FutureWarning: 'DataFrame.swapaxes' is deprecated and will be removed in a future version. Please use 'DataFrame.transpose' instead.\n",
      "  return bound(*args, **kwds)\n",
      "/opt/conda/lib/python3.10/site-packages/numpy/core/fromnumeric.py:59: FutureWarning: 'DataFrame.swapaxes' is deprecated and will be removed in a future version. Please use 'DataFrame.transpose' instead.\n",
      "  return bound(*args, **kwds)\n",
      "/opt/conda/lib/python3.10/site-packages/numpy/core/fromnumeric.py:59: FutureWarning: 'DataFrame.swapaxes' is deprecated and will be removed in a future version. Please use 'DataFrame.transpose' instead.\n",
      "  return bound(*args, **kwds)\n",
      "/opt/conda/lib/python3.10/site-packages/numpy/core/fromnumeric.py:59: FutureWarning: 'DataFrame.swapaxes' is deprecated and will be removed in a future version. Please use 'DataFrame.transpose' instead.\n",
      "  return bound(*args, **kwds)\n",
      "/opt/conda/lib/python3.10/site-packages/numpy/core/fromnumeric.py:59: FutureWarning: 'DataFrame.swapaxes' is deprecated and will be removed in a future version. Please use 'DataFrame.transpose' instead.\n",
      "  return bound(*args, **kwds)\n",
      "/opt/conda/lib/python3.10/site-packages/numpy/core/fromnumeric.py:59: FutureWarning: 'DataFrame.swapaxes' is deprecated and will be removed in a future version. Please use 'DataFrame.transpose' instead.\n",
      "  return bound(*args, **kwds)\n",
      "/opt/conda/lib/python3.10/site-packages/numpy/core/fromnumeric.py:59: FutureWarning: 'DataFrame.swapaxes' is deprecated and will be removed in a future version. Please use 'DataFrame.transpose' instead.\n",
      "  return bound(*args, **kwds)\n",
      "/opt/conda/lib/python3.10/site-packages/numpy/core/fromnumeric.py:59: FutureWarning: 'DataFrame.swapaxes' is deprecated and will be removed in a future version. Please use 'DataFrame.transpose' instead.\n",
      "  return bound(*args, **kwds)\n",
      "/opt/conda/lib/python3.10/site-packages/numpy/core/fromnumeric.py:59: FutureWarning: 'DataFrame.swapaxes' is deprecated and will be removed in a future version. Please use 'DataFrame.transpose' instead.\n",
      "  return bound(*args, **kwds)\n",
      "/opt/conda/lib/python3.10/site-packages/numpy/core/fromnumeric.py:59: FutureWarning: 'DataFrame.swapaxes' is deprecated and will be removed in a future version. Please use 'DataFrame.transpose' instead.\n",
      "  return bound(*args, **kwds)\n",
      "/opt/conda/lib/python3.10/site-packages/numpy/core/fromnumeric.py:59: FutureWarning: 'DataFrame.swapaxes' is deprecated and will be removed in a future version. Please use 'DataFrame.transpose' instead.\n",
      "  return bound(*args, **kwds)\n",
      "/opt/conda/lib/python3.10/site-packages/numpy/core/fromnumeric.py:59: FutureWarning: 'DataFrame.swapaxes' is deprecated and will be removed in a future version. Please use 'DataFrame.transpose' instead.\n",
      "  return bound(*args, **kwds)\n",
      "/opt/conda/lib/python3.10/site-packages/numpy/core/fromnumeric.py:59: FutureWarning: 'DataFrame.swapaxes' is deprecated and will be removed in a future version. Please use 'DataFrame.transpose' instead.\n",
      "  return bound(*args, **kwds)\n",
      "/opt/conda/lib/python3.10/site-packages/numpy/core/fromnumeric.py:59: FutureWarning: 'DataFrame.swapaxes' is deprecated and will be removed in a future version. Please use 'DataFrame.transpose' instead.\n",
      "  return bound(*args, **kwds)\n",
      "/opt/conda/lib/python3.10/site-packages/numpy/core/fromnumeric.py:59: FutureWarning: 'DataFrame.swapaxes' is deprecated and will be removed in a future version. Please use 'DataFrame.transpose' instead.\n",
      "  return bound(*args, **kwds)\n",
      "/opt/conda/lib/python3.10/site-packages/numpy/core/fromnumeric.py:59: FutureWarning: 'DataFrame.swapaxes' is deprecated and will be removed in a future version. Please use 'DataFrame.transpose' instead.\n",
      "  return bound(*args, **kwds)\n",
      "/opt/conda/lib/python3.10/site-packages/numpy/core/fromnumeric.py:59: FutureWarning: 'DataFrame.swapaxes' is deprecated and will be removed in a future version. Please use 'DataFrame.transpose' instead.\n",
      "  return bound(*args, **kwds)\n",
      "/opt/conda/lib/python3.10/site-packages/numpy/core/fromnumeric.py:59: FutureWarning: 'DataFrame.swapaxes' is deprecated and will be removed in a future version. Please use 'DataFrame.transpose' instead.\n",
      "  return bound(*args, **kwds)\n",
      "/opt/conda/lib/python3.10/site-packages/numpy/core/fromnumeric.py:59: FutureWarning: 'DataFrame.swapaxes' is deprecated and will be removed in a future version. Please use 'DataFrame.transpose' instead.\n",
      "  return bound(*args, **kwds)\n",
      "/opt/conda/lib/python3.10/site-packages/numpy/core/fromnumeric.py:59: FutureWarning: 'DataFrame.swapaxes' is deprecated and will be removed in a future version. Please use 'DataFrame.transpose' instead.\n",
      "  return bound(*args, **kwds)\n",
      "/opt/conda/lib/python3.10/site-packages/numpy/core/fromnumeric.py:59: FutureWarning: 'DataFrame.swapaxes' is deprecated and will be removed in a future version. Please use 'DataFrame.transpose' instead.\n",
      "  return bound(*args, **kwds)\n",
      "/opt/conda/lib/python3.10/site-packages/numpy/core/fromnumeric.py:59: FutureWarning: 'DataFrame.swapaxes' is deprecated and will be removed in a future version. Please use 'DataFrame.transpose' instead.\n",
      "  return bound(*args, **kwds)\n",
      "/opt/conda/lib/python3.10/site-packages/numpy/core/fromnumeric.py:59: FutureWarning: 'DataFrame.swapaxes' is deprecated and will be removed in a future version. Please use 'DataFrame.transpose' instead.\n",
      "  return bound(*args, **kwds)\n",
      "/opt/conda/lib/python3.10/site-packages/numpy/core/fromnumeric.py:59: FutureWarning: 'DataFrame.swapaxes' is deprecated and will be removed in a future version. Please use 'DataFrame.transpose' instead.\n",
      "  return bound(*args, **kwds)\n",
      "/opt/conda/lib/python3.10/site-packages/numpy/core/fromnumeric.py:59: FutureWarning: 'DataFrame.swapaxes' is deprecated and will be removed in a future version. Please use 'DataFrame.transpose' instead.\n",
      "  return bound(*args, **kwds)\n",
      "/opt/conda/lib/python3.10/site-packages/numpy/core/fromnumeric.py:59: FutureWarning: 'DataFrame.swapaxes' is deprecated and will be removed in a future version. Please use 'DataFrame.transpose' instead.\n",
      "  return bound(*args, **kwds)\n",
      "/opt/conda/lib/python3.10/site-packages/numpy/core/fromnumeric.py:59: FutureWarning: 'DataFrame.swapaxes' is deprecated and will be removed in a future version. Please use 'DataFrame.transpose' instead.\n",
      "  return bound(*args, **kwds)\n",
      "/opt/conda/lib/python3.10/site-packages/numpy/core/fromnumeric.py:59: FutureWarning: 'DataFrame.swapaxes' is deprecated and will be removed in a future version. Please use 'DataFrame.transpose' instead.\n",
      "  return bound(*args, **kwds)\n",
      "/opt/conda/lib/python3.10/site-packages/numpy/core/fromnumeric.py:59: FutureWarning: 'DataFrame.swapaxes' is deprecated and will be removed in a future version. Please use 'DataFrame.transpose' instead.\n",
      "  return bound(*args, **kwds)\n",
      "/opt/conda/lib/python3.10/site-packages/numpy/core/fromnumeric.py:59: FutureWarning: 'DataFrame.swapaxes' is deprecated and will be removed in a future version. Please use 'DataFrame.transpose' instead.\n",
      "  return bound(*args, **kwds)\n",
      "/opt/conda/lib/python3.10/site-packages/numpy/core/fromnumeric.py:59: FutureWarning: 'DataFrame.swapaxes' is deprecated and will be removed in a future version. Please use 'DataFrame.transpose' instead.\n",
      "  return bound(*args, **kwds)\n",
      "/opt/conda/lib/python3.10/site-packages/numpy/core/fromnumeric.py:59: FutureWarning: 'DataFrame.swapaxes' is deprecated and will be removed in a future version. Please use 'DataFrame.transpose' instead.\n",
      "  return bound(*args, **kwds)\n",
      "/opt/conda/lib/python3.10/site-packages/numpy/core/fromnumeric.py:59: FutureWarning: 'DataFrame.swapaxes' is deprecated and will be removed in a future version. Please use 'DataFrame.transpose' instead.\n",
      "  return bound(*args, **kwds)\n",
      "/opt/conda/lib/python3.10/site-packages/numpy/core/fromnumeric.py:59: FutureWarning: 'DataFrame.swapaxes' is deprecated and will be removed in a future version. Please use 'DataFrame.transpose' instead.\n",
      "  return bound(*args, **kwds)\n",
      "/opt/conda/lib/python3.10/site-packages/numpy/core/fromnumeric.py:59: FutureWarning: 'DataFrame.swapaxes' is deprecated and will be removed in a future version. Please use 'DataFrame.transpose' instead.\n",
      "  return bound(*args, **kwds)\n",
      "/opt/conda/lib/python3.10/site-packages/numpy/core/fromnumeric.py:59: FutureWarning: 'DataFrame.swapaxes' is deprecated and will be removed in a future version. Please use 'DataFrame.transpose' instead.\n",
      "  return bound(*args, **kwds)\n",
      "/opt/conda/lib/python3.10/site-packages/numpy/core/fromnumeric.py:59: FutureWarning: 'DataFrame.swapaxes' is deprecated and will be removed in a future version. Please use 'DataFrame.transpose' instead.\n",
      "  return bound(*args, **kwds)\n",
      "/opt/conda/lib/python3.10/site-packages/numpy/core/fromnumeric.py:59: FutureWarning: 'DataFrame.swapaxes' is deprecated and will be removed in a future version. Please use 'DataFrame.transpose' instead.\n",
      "  return bound(*args, **kwds)\n",
      "/opt/conda/lib/python3.10/site-packages/numpy/core/fromnumeric.py:59: FutureWarning: 'DataFrame.swapaxes' is deprecated and will be removed in a future version. Please use 'DataFrame.transpose' instead.\n",
      "  return bound(*args, **kwds)\n",
      "/opt/conda/lib/python3.10/site-packages/numpy/core/fromnumeric.py:59: FutureWarning: 'DataFrame.swapaxes' is deprecated and will be removed in a future version. Please use 'DataFrame.transpose' instead.\n",
      "  return bound(*args, **kwds)\n",
      "/opt/conda/lib/python3.10/site-packages/numpy/core/fromnumeric.py:59: FutureWarning: 'DataFrame.swapaxes' is deprecated and will be removed in a future version. Please use 'DataFrame.transpose' instead.\n",
      "  return bound(*args, **kwds)\n",
      "/opt/conda/lib/python3.10/site-packages/numpy/core/fromnumeric.py:59: FutureWarning: 'DataFrame.swapaxes' is deprecated and will be removed in a future version. Please use 'DataFrame.transpose' instead.\n",
      "  return bound(*args, **kwds)\n",
      "/opt/conda/lib/python3.10/site-packages/numpy/core/fromnumeric.py:59: FutureWarning: 'DataFrame.swapaxes' is deprecated and will be removed in a future version. Please use 'DataFrame.transpose' instead.\n",
      "  return bound(*args, **kwds)\n",
      "/opt/conda/lib/python3.10/site-packages/numpy/core/fromnumeric.py:59: FutureWarning: 'DataFrame.swapaxes' is deprecated and will be removed in a future version. Please use 'DataFrame.transpose' instead.\n",
      "  return bound(*args, **kwds)\n",
      "/opt/conda/lib/python3.10/site-packages/numpy/core/fromnumeric.py:59: FutureWarning: 'DataFrame.swapaxes' is deprecated and will be removed in a future version. Please use 'DataFrame.transpose' instead.\n",
      "  return bound(*args, **kwds)\n",
      "/opt/conda/lib/python3.10/site-packages/numpy/core/fromnumeric.py:59: FutureWarning: 'DataFrame.swapaxes' is deprecated and will be removed in a future version. Please use 'DataFrame.transpose' instead.\n",
      "  return bound(*args, **kwds)\n"
     ]
    }
   ],
   "source": [
    "top_pnl = []\n",
    "trade_threshold  = 0.0005\n",
    "\n",
    "for best_selected_features in top_features_list:\n",
    "\n",
    "    new_df_selected = data[['Close', 'Return']+best_selected_features]\n",
    "    train_select_col_data, _ = split_data(new_df_selected)\n",
    "\n",
    "    retrain_data = train_select_col_data.drop(['Close', 'Return'], axis=1)\n",
    "    retrain_data = scale_data(retrain_data)\n",
    "\n",
    "    X_train, X_valid, y_train, y_valid = train_test_split(retrain_data,\n",
    "                                                      train_select_col_data['Return'],\n",
    "                                                      test_size=0.5,shuffle=False)\n",
    "\n",
    "    # Create and train model\n",
    "    model = GradientBoostingRegressor()\n",
    "    model.fit(X_train, y_train)\n",
    "\n",
    "    # Make predictions\n",
    "    y_pred_valid = model.predict(X_valid)\n",
    "    _, pnl_valid, _, _ = sharpe_for_vn30f(y_pred_valid, y_valid, trade_threshold=trade_threshold, fee_perc=0.01, periods=10)\n",
    "    pnl_valid_no_nan = np.nan_to_num(pnl_valid, nan=0)\n",
    "    top_pnl.append(pnl_valid_no_nan)"
   ]
  },
  {
   "cell_type": "markdown",
   "id": "e8c4ceae",
   "metadata": {
    "id": "w2BQiJlWXb4W",
    "papermill": {
     "duration": 0.062918,
     "end_time": "2024-07-02T08:13:20.156217",
     "exception": false,
     "start_time": "2024-07-02T08:13:20.093299",
     "status": "completed"
    },
    "tags": []
   },
   "source": [
    "Drop too high correlation PNL array"
   ]
  },
  {
   "cell_type": "code",
   "execution_count": 43,
   "id": "e6b2ca3d",
   "metadata": {
    "execution": {
     "iopub.execute_input": "2024-07-02T08:13:20.286269Z",
     "iopub.status.busy": "2024-07-02T08:13:20.285441Z",
     "iopub.status.idle": "2024-07-02T08:13:44.978190Z",
     "shell.execute_reply": "2024-07-02T08:13:44.977054Z"
    },
    "id": "Q1wekTJXXb4W",
    "outputId": "71cbe74d-b9e6-49f5-eb82-ccc398a560d9",
    "papermill": {
     "duration": 24.761865,
     "end_time": "2024-07-02T08:13:44.981275",
     "exception": false,
     "start_time": "2024-07-02T08:13:20.219410",
     "status": "completed"
    },
    "tags": []
   },
   "outputs": [
    {
     "name": "stdout",
     "output_type": "stream",
     "text": [
      "Columns to drop: [1, 2, 3, 4, 5, 6, 7, 8, 9, 10, 11, 12, 13, 14, 15, 16, 17, 18, 19, 20, 21, 22, 23, 24, 25, 26, 27, 28, 29, 30, 31, 32, 33, 34, 36, 37, 38, 39, 40, 41, 43, 44, 45, 46, 47, 48, 50, 51, 52, 55, 57, 58, 59, 60, 63, 64, 65, 66, 68, 69, 70, 71, 72, 74, 75, 77, 78, 82, 84, 86, 88, 89, 91, 94, 97, 99]\n",
      "DataFrame after dropping columns:\n",
      "              0         35        42        49        53        54        56  \\\n",
      "0       0.000000  0.000000  0.000000  0.000000  0.000000  0.000000  0.000000   \n",
      "1       0.000000  0.000000  0.000000  0.000000  0.000000  0.000000  0.000000   \n",
      "2       0.000000  0.000000  0.000000  0.000000  0.000000  0.000000  0.000000   \n",
      "3       0.000000  0.000000  0.000000  0.000000  0.000000  0.000000  0.000000   \n",
      "4       0.000000  0.000000  0.000000  0.000000  0.000000  0.000000  0.000000   \n",
      "...          ...       ...       ...       ...       ...       ...       ...   \n",
      "118742 -0.864942  0.044697  0.008252  0.155193 -0.032111 -0.017548  0.060542   \n",
      "118743 -0.864942  0.044697  0.008252  0.155193 -0.032111 -0.017548  0.060542   \n",
      "118744 -0.864942  0.044697  0.008252  0.155193 -0.032111 -0.017548  0.060542   \n",
      "118745 -0.864942  0.044697  0.008252  0.155193 -0.032111 -0.017548  0.060542   \n",
      "118746 -0.864942  0.044697  0.008252  0.155193 -0.032111 -0.017548  0.060542   \n",
      "\n",
      "             61       62        67  ...        81        83        85  \\\n",
      "0       0.00000  0.00000  0.000000  ...  0.000000  0.000000  0.000000   \n",
      "1       0.00000  0.00000  0.000000  ...  0.000000  0.000000  0.000000   \n",
      "2       0.00000  0.00000  0.000000  ...  0.000000  0.000000  0.000000   \n",
      "3       0.00000  0.00000  0.000000  ...  0.000000  0.000000  0.000000   \n",
      "4       0.00000  0.00000  0.000000  ...  0.000000  0.000000  0.000000   \n",
      "...         ...      ...       ...  ...       ...       ...       ...   \n",
      "118742 -0.00766  0.00952  0.028349  ...  0.011979  0.044539  0.132245   \n",
      "118743 -0.00766  0.00952  0.028349  ...  0.011979  0.044539  0.132245   \n",
      "118744 -0.00766  0.00952  0.028349  ...  0.011979  0.044539  0.132245   \n",
      "118745 -0.00766  0.00952  0.028349  ...  0.011979  0.044539  0.132245   \n",
      "118746 -0.00766  0.00952  0.028349  ...  0.011979  0.044539  0.132245   \n",
      "\n",
      "              87        90        92        93        95        96        98  \n",
      "0       0.000000  0.000000  0.000000  0.000000  0.000000  0.000000  0.000000  \n",
      "1       0.000000  0.000000  0.000000  0.000000  0.000000  0.000000  0.000000  \n",
      "2       0.000000  0.000000  0.000000  0.000000  0.000000  0.000000  0.000000  \n",
      "3       0.000000  0.000000  0.000000  0.000000  0.000000  0.000000  0.000000  \n",
      "4       0.000000  0.000000  0.000000  0.000000  0.000000  0.000000  0.000000  \n",
      "...          ...       ...       ...       ...       ...       ...       ...  \n",
      "118742 -0.036408 -0.050244  0.013048  0.034752 -0.066484 -0.009768  0.018711  \n",
      "118743 -0.036408 -0.050244  0.013048  0.034752 -0.066484 -0.009768  0.018711  \n",
      "118744 -0.036408 -0.050244  0.013048  0.034752 -0.066484 -0.009768  0.018711  \n",
      "118745 -0.036408 -0.050244  0.013048  0.034752 -0.066484 -0.009768  0.018711  \n",
      "118746 -0.036408 -0.050244  0.013048  0.034752 -0.066484 -0.009768  0.018711  \n",
      "\n",
      "[118747 rows x 24 columns]\n"
     ]
    }
   ],
   "source": [
    "pnl = pd.DataFrame(top_pnl)\n",
    "pnl = pnl.transpose()\n",
    "\n",
    "# Calculate the correlation matrix\n",
    "corr_matrix = pnl.corr().abs()\n",
    "\n",
    "# Create a mask to only look at the upper triangle (to avoid duplicate checks)\n",
    "upper_triangle_mask = corr_matrix.where(np.triu(np.ones(corr_matrix.shape), k=1).astype(bool))\n",
    "\n",
    "# Identify columns to drop\n",
    "to_drop = [column for column in upper_triangle_mask.columns if any(upper_triangle_mask[column] > 0.95)]\n",
    "\n",
    "# Drop the columns with high correlation\n",
    "pnl_dropped = pnl.drop(columns=to_drop)\n",
    "\n",
    "print(\"Columns to drop:\", to_drop)\n",
    "print(\"DataFrame after dropping columns:\")\n",
    "print(pnl_dropped)"
   ]
  },
  {
   "cell_type": "code",
   "execution_count": 44,
   "id": "30be63eb",
   "metadata": {
    "execution": {
     "iopub.execute_input": "2024-07-02T08:13:45.111626Z",
     "iopub.status.busy": "2024-07-02T08:13:45.111081Z",
     "iopub.status.idle": "2024-07-02T08:13:45.122253Z",
     "shell.execute_reply": "2024-07-02T08:13:45.121150Z"
    },
    "id": "pf9Imd4uXb4W",
    "papermill": {
     "duration": 0.079306,
     "end_time": "2024-07-02T08:13:45.124886",
     "exception": false,
     "start_time": "2024-07-02T08:13:45.045580",
     "status": "completed"
    },
    "tags": []
   },
   "outputs": [],
   "source": [
    "pnl_array = np.array(pnl_dropped.transpose())\n",
    "pnl_array = pnl_array[:100]"
   ]
  },
  {
   "cell_type": "code",
   "execution_count": 45,
   "id": "a6ec5802",
   "metadata": {
    "execution": {
     "iopub.execute_input": "2024-07-02T08:13:45.254909Z",
     "iopub.status.busy": "2024-07-02T08:13:45.254504Z",
     "iopub.status.idle": "2024-07-02T08:13:45.270102Z",
     "shell.execute_reply": "2024-07-02T08:13:45.269059Z"
    },
    "id": "N33x29M6Xb4W",
    "papermill": {
     "duration": 0.083498,
     "end_time": "2024-07-02T08:13:45.272903",
     "exception": false,
     "start_time": "2024-07-02T08:13:45.189405",
     "status": "completed"
    },
    "tags": []
   },
   "outputs": [],
   "source": [
    "# Identify columns with all zero values\n",
    "cols_to_keep = ~np.all(pnl_array == 0, axis=0)\n",
    "\n",
    "# Drop columns with all zero values\n",
    "pnl_array = pnl_array[:, cols_to_keep]"
   ]
  },
  {
   "cell_type": "markdown",
   "id": "81ded9d8",
   "metadata": {
    "id": "l8vKyBBgqnAH",
    "papermill": {
     "duration": 0.06386,
     "end_time": "2024-07-02T08:13:45.400899",
     "exception": false,
     "start_time": "2024-07-02T08:13:45.337039",
     "status": "completed"
    },
    "tags": []
   },
   "source": [
    "# ONC"
   ]
  },
  {
   "cell_type": "code",
   "execution_count": 46,
   "id": "ce6f64bd",
   "metadata": {
    "execution": {
     "iopub.execute_input": "2024-07-02T08:13:45.531090Z",
     "iopub.status.busy": "2024-07-02T08:13:45.530682Z",
     "iopub.status.idle": "2024-07-02T08:13:45.615953Z",
     "shell.execute_reply": "2024-07-02T08:13:45.614753Z"
    },
    "id": "TPd5wBN9qnAH",
    "papermill": {
     "duration": 0.153545,
     "end_time": "2024-07-02T08:13:45.618695",
     "exception": false,
     "start_time": "2024-07-02T08:13:45.465150",
     "status": "completed"
    },
    "tags": []
   },
   "outputs": [],
   "source": [
    "from sklearn.cluster import KMeans\n",
    "from sklearn.metrics import silhouette_samples, silhouette_score\n",
    "from sklearn.impute import SimpleImputer"
   ]
  },
  {
   "cell_type": "code",
   "execution_count": 47,
   "id": "2a7e27c1",
   "metadata": {
    "execution": {
     "iopub.execute_input": "2024-07-02T08:13:45.749617Z",
     "iopub.status.busy": "2024-07-02T08:13:45.749186Z",
     "iopub.status.idle": "2024-07-02T08:13:45.781100Z",
     "shell.execute_reply": "2024-07-02T08:13:45.779912Z"
    },
    "id": "0st2dHHbqnAH",
    "papermill": {
     "duration": 0.100354,
     "end_time": "2024-07-02T08:13:45.783428",
     "exception": false,
     "start_time": "2024-07-02T08:13:45.683074",
     "status": "completed"
    },
    "tags": []
   },
   "outputs": [],
   "source": [
    "def cov2corr(cov):\n",
    "    # Derive the correlation matrix from a covariance matrix\n",
    "    std = np.sqrt(np.diag(cov))\n",
    "    corr = cov/np.outer(std,std)\n",
    "    corr[corr<-1], corr[corr>1] = -1,1 #for numerical errors\n",
    "    return corr\n",
    "\n",
    "def clusterKMeansBase(corr0, maxNumClusters=10, n_init=10, debug=False):\n",
    "    corr0[corr0 > 1] = 1\n",
    "    dist_matrix = ((1 - corr0) / 2.)**.5\n",
    "\n",
    "    # Check and handle NaNs before starting the clustering process\n",
    "    if np.any(np.isnan(dist_matrix)):\n",
    "        imputer = SimpleImputer(strategy='mean')\n",
    "        dist_matrix = imputer.fit_transform(dist_matrix)\n",
    "    \n",
    "    silh_coef_optimal = pd.Series(dtype='float64')  # observations matrix\n",
    "    kmeans, stat = None, None\n",
    "    maxNumClusters = min(maxNumClusters, int(np.floor(dist_matrix.shape[0] / 2)))\n",
    "    print(\"maxNumClusters: \" + str(maxNumClusters))\n",
    "    \n",
    "    for init in range(n_init):\n",
    "        for num_clusters in range(2, maxNumClusters + 1):\n",
    "            kmeans_ = KMeans(n_clusters=num_clusters, n_init=10)\n",
    "            kmeans_ = kmeans_.fit(dist_matrix)\n",
    "            silh_coef = silhouette_samples(dist_matrix, kmeans_.labels_)\n",
    "            stat = (silh_coef.mean() / silh_coef.std(), silh_coef_optimal.mean() / silh_coef_optimal.std())\n",
    "\n",
    "            if np.isnan(stat[1]) or stat[0] > stat[1]:\n",
    "                silh_coef_optimal = silh_coef\n",
    "                kmeans = kmeans_\n",
    "                if debug:\n",
    "                    print(kmeans)\n",
    "                    print(stat)\n",
    "                    silhouette_avg = silhouette_score(dist_matrix, kmeans_.labels_)\n",
    "                    print(f\"For n_clusters = {num_clusters} the average silhouette_score is: {silhouette_avg}\")\n",
    "                    print(\"********\")\n",
    "    \n",
    "    if kmeans is None:\n",
    "        raise ValueError(\"KMeans clustering did not produce a valid model.\")\n",
    "    \n",
    "    newIdx = np.argsort(kmeans.labels_)\n",
    "    corr1 = corr0.iloc[newIdx]  # reorder rows\n",
    "    corr1 = corr1.iloc[:, newIdx]  # reorder columns\n",
    "    clstrs = {i: corr0.columns[np.where(kmeans.labels_ == i)[0]].tolist() for i in np.unique(kmeans.labels_)}  # cluster members\n",
    "    silh_coef_optimal = pd.Series(silh_coef_optimal, index=dist_matrix.index)\n",
    "\n",
    "    return corr1, clstrs, silh_coef_optimal\n",
    "\n",
    "def makeNewOutputs(corr0, clstrs, clstrs2):\n",
    "    clstrsNew, newIdx = {}, []\n",
    "    for i in clstrs.keys():\n",
    "        clstrsNew[len(clstrsNew.keys())] = list(clstrs[i])\n",
    "    for i in clstrs2.keys():\n",
    "        clstrsNew[len(clstrsNew.keys())] = list(clstrs2[i])\n",
    "    newIdx = [j for i in clstrsNew for j in clstrsNew[i]]\n",
    "    corrNew = corr0.loc[newIdx, newIdx]\n",
    "    dist = ((1 - corr0) / 2.)**.5\n",
    "    kmeans_labels = np.zeros(len(dist.columns))\n",
    "    for i in clstrsNew.keys():\n",
    "        idxs = [dist.index.get_loc(k) for k in clstrsNew[i]]\n",
    "        kmeans_labels[idxs] = i\n",
    "    silhNew = pd.Series(silhouette_samples(dist, kmeans_labels), index=dist.index)\n",
    "    return corrNew, clstrsNew, silhNew\n",
    "\n",
    "def clusterKMeansTop(corr0: pd.DataFrame, maxNumClusters=None, n_init=10):\n",
    "    if maxNumClusters is None:\n",
    "        maxNumClusters = corr0.shape[1] - 1\n",
    "    corr1, clstrs, silh = clusterKMeansBase(corr0, maxNumClusters=min(maxNumClusters, corr0.shape[1] - 1), n_init=n_init)\n",
    "    print(\"clstrs length: \" + str(len(clstrs.keys())))\n",
    "    print(\"best clustr: \" + str(len(clstrs.keys())))\n",
    "    clusterTstats = {i: np.mean(silh[clstrs[i]]) / np.std(silh[clstrs[i]]) for i in clstrs.keys()}\n",
    "    tStatMean = np.sum(list(clusterTstats.values())) / len(clusterTstats)\n",
    "    redoClusters = [i for i in clusterTstats.keys() if clusterTstats[i] < tStatMean]\n",
    "    if len(redoClusters) <= 2:\n",
    "        print(\"If 2 or less clusters have a quality rating less than the average then stop.\")\n",
    "        print(\"redoCluster <= 1: \" + str(redoClusters) + \" clstrs len: \" + str(len(clstrs.keys())))\n",
    "        return corr1, clstrs, silh\n",
    "    else:\n",
    "        keysRedo = [j for i in redoClusters for j in clstrs[i]]\n",
    "        corrTmp = corr0.loc[keysRedo, keysRedo]\n",
    "        _, clstrs2, _ = clusterKMeansTop(corrTmp, maxNumClusters=min(maxNumClusters, corrTmp.shape[1] - 1), n_init=n_init)\n",
    "        print(\"clstrs2.len, stat: \" + str(len(clstrs2.keys())))\n",
    "        dict_redo_clstrs = {i: clstrs[i] for i in clstrs.keys() if i not in redoClusters}\n",
    "        corrNew, clstrsNew, silhNew = makeNewOutputs(corr0, dict_redo_clstrs, clstrs2)\n",
    "        newTstatMean = np.mean([np.mean(silhNew[clstrsNew[i]]) / np.std(silhNew[clstrsNew[i]]) for i in clstrsNew.keys()])\n",
    "        if newTstatMean <= tStatMean:\n",
    "            print(f\"newTstatMean <= tStatMean: {newTstatMean} (len:newClst) {len(clstrsNew.keys())} <= {tStatMean} (len:Clst) {len(clstrs.keys())}\")\n",
    "            return corr1, clstrs, silh\n",
    "        else:\n",
    "            print(f\"newTstatMean > tStatMean: {newTstatMean} (len:newClst) {len(clstrsNew.keys())} > {tStatMean} (len:Clst) {len(clstrs.keys())}\")\n",
    "            return corrNew, clstrsNew, silhNew"
   ]
  },
  {
   "cell_type": "code",
   "execution_count": 48,
   "id": "a0693a55",
   "metadata": {
    "execution": {
     "iopub.execute_input": "2024-07-02T08:13:45.914482Z",
     "iopub.status.busy": "2024-07-02T08:13:45.913631Z",
     "iopub.status.idle": "2024-07-02T08:13:46.096691Z",
     "shell.execute_reply": "2024-07-02T08:13:46.095149Z"
    },
    "id": "7FqBCm3aqnAI",
    "papermill": {
     "duration": 0.252822,
     "end_time": "2024-07-02T08:13:46.100965",
     "exception": false,
     "start_time": "2024-07-02T08:13:45.848143",
     "status": "completed"
    },
    "tags": []
   },
   "outputs": [],
   "source": [
    "# FREQUENCY FEATURE TABLE\n",
    "correlation_matrix = np.corrcoef(top_pnl)\n",
    "corr = pd.DataFrame(correlation_matrix)"
   ]
  },
  {
   "cell_type": "code",
   "execution_count": 49,
   "id": "5b015669",
   "metadata": {
    "execution": {
     "iopub.execute_input": "2024-07-02T08:13:46.292071Z",
     "iopub.status.busy": "2024-07-02T08:13:46.291668Z",
     "iopub.status.idle": "2024-07-02T08:17:08.913263Z",
     "shell.execute_reply": "2024-07-02T08:17:08.912073Z"
    },
    "id": "T5xhYDxSqnAI",
    "outputId": "8e320ecd-3068-4cc2-8563-29ea82274ec2",
    "papermill": {
     "duration": 202.690868,
     "end_time": "2024-07-02T08:17:08.915702",
     "exception": false,
     "start_time": "2024-07-02T08:13:46.224834",
     "status": "completed"
    },
    "tags": []
   },
   "outputs": [
    {
     "data": {
      "image/png": "[encoded data removed]",
      "text/plain": [
       "<Figure size 480x480 with 2 Axes>"
      ]
     },
     "metadata": {},
     "output_type": "display_data"
    },
    {
     "name": "stdout",
     "output_type": "stream",
     "text": [
      "maxNumClusters: 50\n",
      "clstrs length: 2\n",
      "best clustr: 2\n",
      "If 2 or less clusters have a quality rating less than the average then stop.\n",
      "redoCluster <= 1: [1] clstrs len: 2\n"
     ]
    },
    {
     "data": {
      "image/png": "[encoded data removed]",
      "text/plain": [
       "<Figure size 480x480 with 2 Axes>"
      ]
     },
     "metadata": {},
     "output_type": "display_data"
    }
   ],
   "source": [
    "#Draw ground truth\n",
    "matplotlib.pyplot.matshow(corr) #invert y-axis to get origo at lower left corner\n",
    "matplotlib.pyplot.gca().xaxis.tick_bottom()\n",
    "matplotlib.pyplot.gca().invert_yaxis()\n",
    "matplotlib.pyplot.colorbar()\n",
    "matplotlib.pyplot.show()\n",
    "\n",
    "#draw prediction based on ONC\n",
    "corrNew, clstrsNew, silhNew = clusterKMeansTop(corr)\n",
    "matplotlib.pyplot.matshow(corrNew)\n",
    "matplotlib.pyplot.gca().xaxis.tick_bottom()\n",
    "matplotlib.pyplot.gca().invert_yaxis()\n",
    "matplotlib.pyplot.colorbar()\n",
    "matplotlib.pyplot.show()"
   ]
  },
  {
   "cell_type": "code",
   "execution_count": 50,
   "id": "faa85787",
   "metadata": {
    "execution": {
     "iopub.execute_input": "2024-07-02T08:17:09.051889Z",
     "iopub.status.busy": "2024-07-02T08:17:09.051041Z",
     "iopub.status.idle": "2024-07-02T08:17:09.059112Z",
     "shell.execute_reply": "2024-07-02T08:17:09.058077Z"
    },
    "id": "WqXnwhndqnAJ",
    "outputId": "9d773038-928f-4d8e-ca6e-92b8e6c48bd9",
    "papermill": {
     "duration": 0.079323,
     "end_time": "2024-07-02T08:17:09.061672",
     "exception": false,
     "start_time": "2024-07-02T08:17:08.982349",
     "status": "completed"
    },
    "tags": []
   },
   "outputs": [
    {
     "name": "stdout",
     "output_type": "stream",
     "text": [
      "Cluster 0: [89, 3, 18, 51, 17, 59, 58, 99, 91, 62, 44, 56, 28, 47, 6, 96, 104, 83, 40, 71, 48, 57, 26, 55, 13, 105, 95, 35, 101, 67, 63, 25, 52, 103, 1, 82, 30, 85, 21, 36, 80, 76, 53, 70, 42, 38, 66, 77, 37, 24, 31, 41, 34, 12, 73, 94, 19, 81, 4, 11, 16, 61, 43, 64, 9, 78, 49, 29, 102, 23, 2, 65, 74, 0, 79, 46, 8, 33, 75, 27, 93, 15]\n",
      "Cluster 1: [88, 100, 92, 87, 98, 50, 60, 10, 7, 39, 5, 45, 20, 32, 54, 68, 22, 14]\n"
     ]
    }
   ],
   "source": [
    "cluster_lists = []\n",
    "\n",
    "# Iterate through each cluster and its members\n",
    "for cluster_number, cluster_indices in clstrsNew.items():\n",
    "    cluster_list = []\n",
    "\n",
    "    # Iterate through each index in the cluster\n",
    "    for idx in cluster_indices:\n",
    "        trial_number = top_trials[idx].number\n",
    "        cluster_list.append(trial_number)\n",
    "\n",
    "    cluster_lists.append(cluster_list)\n",
    "\n",
    "# Print the lists for each cluster\n",
    "for i, cluster_list in enumerate(cluster_lists):\n",
    "    print(f\"Cluster {i}: {cluster_list}\")"
   ]
  },
  {
   "cell_type": "code",
   "execution_count": 51,
   "id": "44caf353",
   "metadata": {
    "execution": {
     "iopub.execute_input": "2024-07-02T08:17:09.197063Z",
     "iopub.status.busy": "2024-07-02T08:17:09.196178Z",
     "iopub.status.idle": "2024-07-02T08:17:09.207631Z",
     "shell.execute_reply": "2024-07-02T08:17:09.205781Z"
    },
    "id": "mWNyvwA_qnAJ",
    "outputId": "d7fe29f8-120f-4418-8bed-0c959bcc54c2",
    "papermill": {
     "duration": 0.082457,
     "end_time": "2024-07-02T08:17:09.210152",
     "exception": false,
     "start_time": "2024-07-02T08:17:09.127695",
     "status": "completed"
    },
    "tags": []
   },
   "outputs": [
    {
     "name": "stdout",
     "output_type": "stream",
     "text": [
      "Top 10 features for Cluster 0: [14, 0, 6, 4, 11, 2, 9, 7, 12, 1]\n",
      "Top 10 features for Cluster 1: [1, 6, 0, 9, 4, 8, 5, 10, 13, 2]\n"
     ]
    }
   ],
   "source": [
    "top_10_features_per_cluster = []\n",
    "\n",
    "for cluster_number, cluster_indices in clstrsNew.items():\n",
    "    cluster_frequency = {}\n",
    "\n",
    "    for idx in cluster_indices:\n",
    "        trial_params = top_trials[idx].params\n",
    "        for key, value in trial_params.items():\n",
    "            if value == 1:\n",
    "                cluster_frequency[key] = cluster_frequency.get(key, 0) + 1\n",
    "\n",
    "    sorted_cluster_frequency = sorted(cluster_frequency.items(), key=lambda x: x[1], reverse=True)\n",
    "    top_10_features_cluster = [feature for feature, _ in sorted_cluster_frequency[:10]]\n",
    "    top_10_features_per_cluster.append(top_10_features_cluster)\n",
    "    print(f\"Top 10 features for Cluster {cluster_number}: {top_10_features_cluster}\")"
   ]
  },
  {
   "cell_type": "code",
   "execution_count": 52,
   "id": "fc10e69f",
   "metadata": {
    "execution": {
     "iopub.execute_input": "2024-07-02T08:17:09.350188Z",
     "iopub.status.busy": "2024-07-02T08:17:09.349144Z",
     "iopub.status.idle": "2024-07-02T08:17:09.356898Z",
     "shell.execute_reply": "2024-07-02T08:17:09.355779Z"
    },
    "id": "mrqWExveqnAJ",
    "outputId": "d389b5ae-50a9-4df1-a572-52518f381b94",
    "papermill": {
     "duration": 0.079352,
     "end_time": "2024-07-02T08:17:09.359302",
     "exception": false,
     "start_time": "2024-07-02T08:17:09.279950",
     "status": "completed"
    },
    "tags": []
   },
   "outputs": [
    {
     "data": {
      "text/plain": [
       "[[14, 0, 6, 4, 11, 2, 9, 7, 12, 1], [1, 6, 0, 9, 4, 8, 5, 10, 13, 2]]"
      ]
     },
     "execution_count": 52,
     "metadata": {},
     "output_type": "execute_result"
    }
   ],
   "source": [
    "top_10_features_per_cluster"
   ]
  },
  {
   "cell_type": "code",
   "execution_count": 53,
   "id": "aacb94e7",
   "metadata": {
    "execution": {
     "iopub.execute_input": "2024-07-02T08:17:09.499010Z",
     "iopub.status.busy": "2024-07-02T08:17:09.498056Z",
     "iopub.status.idle": "2024-07-02T08:17:09.504460Z",
     "shell.execute_reply": "2024-07-02T08:17:09.503313Z"
    },
    "id": "RbGe0Y6FqnAK",
    "papermill": {
     "duration": 0.079174,
     "end_time": "2024-07-02T08:17:09.506768",
     "exception": false,
     "start_time": "2024-07-02T08:17:09.427594",
     "status": "completed"
    },
    "tags": []
   },
   "outputs": [],
   "source": [
    "top10_feat = pd.DataFrame(top_10_features_per_cluster)"
   ]
  },
  {
   "cell_type": "code",
   "execution_count": 54,
   "id": "eec2ff42",
   "metadata": {
    "execution": {
     "iopub.execute_input": "2024-07-02T08:17:09.642831Z",
     "iopub.status.busy": "2024-07-02T08:17:09.642389Z",
     "iopub.status.idle": "2024-07-02T08:17:09.667257Z",
     "shell.execute_reply": "2024-07-02T08:17:09.665832Z"
    },
    "id": "2_DrQbneqnAK",
    "papermill": {
     "duration": 0.096701,
     "end_time": "2024-07-02T08:17:09.670110",
     "exception": false,
     "start_time": "2024-07-02T08:17:09.573409",
     "status": "completed"
    },
    "tags": []
   },
   "outputs": [],
   "source": [
    "selected_columns_cluster = []\n",
    "for item in top_10_features_per_cluster:\n",
    "  selected_columns = new_df_no_close_col.iloc[:, item]\n",
    "  selected_columns_cluster.append(selected_columns)"
   ]
  },
  {
   "cell_type": "code",
   "execution_count": 55,
   "id": "a3409710",
   "metadata": {
    "execution": {
     "iopub.execute_input": "2024-07-02T08:17:09.806684Z",
     "iopub.status.busy": "2024-07-02T08:17:09.806237Z",
     "iopub.status.idle": "2024-07-02T08:17:09.830013Z",
     "shell.execute_reply": "2024-07-02T08:17:09.828877Z"
    },
    "id": "tMmpd-7pLkrQ",
    "outputId": "2b40d40e-9967-4f72-a89c-397850f580c2",
    "papermill": {
     "duration": 0.094727,
     "end_time": "2024-07-02T08:17:09.832468",
     "exception": false,
     "start_time": "2024-07-02T08:17:09.737741",
     "status": "completed"
    },
    "tags": []
   },
   "outputs": [
    {
     "data": {
      "text/plain": [
       "[        others_dr  volume_adi  volatility_kcp  volatility_bbli  \\\n",
       " 1        0.021211 -755.000000        0.541667              0.0   \n",
       " 2        0.042413 -674.333333        0.857143              0.0   \n",
       " 3       -0.010599 -539.333333        0.744444              0.0   \n",
       " 4       -0.031800 -539.333333        0.362745              0.0   \n",
       " 5       -0.010603 -539.333333        0.245614              0.0   \n",
       " ...           ...         ...             ...              ...   \n",
       " 356235   0.000000    0.000000        0.333333              0.0   \n",
       " 356236   0.000000    0.000000        0.333333              0.0   \n",
       " 356237   0.000000    0.000000        0.333333              0.0   \n",
       " 356238   0.000000    0.000000        0.333333              0.0   \n",
       " 356239   0.000000    0.000000        0.333333              0.0   \n",
       " \n",
       "         trend_psar_down_indicator  volume_sma_em  trend_adx  trend_mass_index  \\\n",
       " 1                             0.0            0.0   0.000000          0.000000   \n",
       " 2                             1.0            0.0   0.000000          0.000000   \n",
       " 3                             0.0            0.0   0.000000          0.000000   \n",
       " 4                             0.0            0.0   0.000000          0.000000   \n",
       " 5                             0.0            0.0   0.000000          0.000000   \n",
       " ...                           ...            ...        ...               ...   \n",
       " 356235                        0.0            0.0   2.033592         24.743276   \n",
       " 356236                        0.0            0.0   2.009593         24.786296   \n",
       " 356237                        0.0            0.0   1.987309         24.822459   \n",
       " 356238                        0.0            0.0   1.966616         24.852764   \n",
       " 356239                        0.0            0.0   1.947402         24.878092   \n",
       " \n",
       "         momentum_pvo      volume_em  \n",
       " 1           0.000000  -18181.818182  \n",
       " 2           0.000000  148760.330579  \n",
       " 3           0.000000    3703.703704  \n",
       " 4           0.000000  -13850.415512  \n",
       " 5           0.000000   -5830.903790  \n",
       " ...              ...            ...  \n",
       " 356235     -1.987405       0.000000  \n",
       " 356236     -1.844949       0.000000  \n",
       " 356237     -1.712356       0.000000  \n",
       " 356238     -1.588994       0.000000  \n",
       " 356239     -1.474264       0.000000  \n",
       " \n",
       " [356239 rows x 10 columns],\n",
       "             volume_em  volatility_kcp  volume_adi  trend_adx  volatility_bbli  \\\n",
       " 1       -18181.818182        0.541667 -755.000000   0.000000              0.0   \n",
       " 2       148760.330579        0.857143 -674.333333   0.000000              0.0   \n",
       " 3         3703.703704        0.744444 -539.333333   0.000000              0.0   \n",
       " 4       -13850.415512        0.362745 -539.333333   0.000000              0.0   \n",
       " 5        -5830.903790        0.245614 -539.333333   0.000000              0.0   \n",
       " ...               ...             ...         ...        ...              ...   \n",
       " 356235       0.000000        0.333333    0.000000   2.033592              0.0   \n",
       " 356236       0.000000        0.333333    0.000000   2.009593              0.0   \n",
       " 356237       0.000000        0.333333    0.000000   1.987309              0.0   \n",
       " 356238       0.000000        0.333333    0.000000   1.966616              0.0   \n",
       " 356239       0.000000        0.333333    0.000000   1.947402              0.0   \n",
       " \n",
       "         trend_dpo  volatility_kcw  trend_psar_up_indicator  momentum_pvo_hist  \\\n",
       " 1             0.0        0.000000                      0.0           0.000000   \n",
       " 2             0.0        0.000000                      0.0           0.000000   \n",
       " 3             0.0        0.000000                      0.0           0.000000   \n",
       " 4             0.0        0.000000                      0.0           0.000000   \n",
       " 5             0.0        0.000000                      0.0           0.000000   \n",
       " ...           ...             ...                      ...                ...   \n",
       " 356235        0.0        0.030886                      0.0           0.836275   \n",
       " 356236        0.0        0.030886                      0.0           0.782985   \n",
       " 356237        0.0        0.030886                      0.0           0.732463   \n",
       " 356238        0.0        0.030886                      0.0           0.684660   \n",
       " 356239        0.0        0.030886                      0.0           0.639511   \n",
       " \n",
       "         volume_sma_em  \n",
       " 1                 0.0  \n",
       " 2                 0.0  \n",
       " 3                 0.0  \n",
       " 4                 0.0  \n",
       " 5                 0.0  \n",
       " ...               ...  \n",
       " 356235            0.0  \n",
       " 356236            0.0  \n",
       " 356237            0.0  \n",
       " 356238            0.0  \n",
       " 356239            0.0  \n",
       " \n",
       " [356239 rows x 10 columns]]"
      ]
     },
     "execution_count": 55,
     "metadata": {},
     "output_type": "execute_result"
    }
   ],
   "source": [
    "selected_columns_cluster"
   ]
  },
  {
   "cell_type": "markdown",
   "id": "41012167",
   "metadata": {
    "id": "tuOGlO_tqnAK",
    "papermill": {
     "duration": 0.066571,
     "end_time": "2024-07-02T08:17:09.966485",
     "exception": false,
     "start_time": "2024-07-02T08:17:09.899914",
     "status": "completed"
    },
    "tags": []
   },
   "source": [
    "# Model selection"
   ]
  },
  {
   "cell_type": "markdown",
   "id": "91c4ac26",
   "metadata": {
    "id": "rxwojZV6qnAK",
    "papermill": {
     "duration": 0.06659,
     "end_time": "2024-07-02T08:17:10.101789",
     "exception": false,
     "start_time": "2024-07-02T08:17:10.035199",
     "status": "completed"
    },
    "tags": []
   },
   "source": [
    "## Custom Early Stopping"
   ]
  },
  {
   "cell_type": "code",
   "execution_count": 56,
   "id": "09a331db",
   "metadata": {
    "execution": {
     "iopub.execute_input": "2024-07-02T08:17:10.238205Z",
     "iopub.status.busy": "2024-07-02T08:17:10.237762Z",
     "iopub.status.idle": "2024-07-02T08:17:10.242899Z",
     "shell.execute_reply": "2024-07-02T08:17:10.241811Z"
    },
    "id": "FSf9W4XzqnAL",
    "papermill": {
     "duration": 0.076073,
     "end_time": "2024-07-02T08:17:10.245150",
     "exception": false,
     "start_time": "2024-07-02T08:17:10.169077",
     "status": "completed"
    },
    "tags": []
   },
   "outputs": [],
   "source": [
    "from xgboost import callback"
   ]
  },
  {
   "cell_type": "code",
   "execution_count": 57,
   "id": "6db2a66e",
   "metadata": {
    "execution": {
     "iopub.execute_input": "2024-07-02T08:17:10.381686Z",
     "iopub.status.busy": "2024-07-02T08:17:10.381268Z",
     "iopub.status.idle": "2024-07-02T08:17:10.391862Z",
     "shell.execute_reply": "2024-07-02T08:17:10.390784Z"
    },
    "id": "CUVrgTA4qnAL",
    "papermill": {
     "duration": 0.082057,
     "end_time": "2024-07-02T08:17:10.394319",
     "exception": false,
     "start_time": "2024-07-02T08:17:10.312262",
     "status": "completed"
    },
    "tags": []
   },
   "outputs": [],
   "source": [
    "min_delta = 0.0001\n",
    "patience = 30\n",
    "\n",
    "\n",
    "class CustomEarlyStopping(callback.TrainingCallback):\n",
    "    def __init__(self, min_delta, patience, verbose=False):\n",
    "        super().__init__()\n",
    "        self.min_delta = min_delta\n",
    "        self.patience = patience\n",
    "        self.verbose = verbose\n",
    "        self.best_score = np.inf\n",
    "        self.wait = 0\n",
    "        self.stopped_epoch = 0\n",
    "\n",
    "    def after_iteration(self, model, epoch, evals_log):\n",
    "        if not evals_log:\n",
    "            return False\n",
    "        metric_name = next(iter(evals_log['validation_0']))\n",
    "        score = evals_log['validation_0'][metric_name][-1]\n",
    "        if score < (self.best_score - self.min_delta):\n",
    "            self.best_score = score\n",
    "            self.wait = 0\n",
    "        else:\n",
    "            self.wait += 1\n",
    "            if self.wait >= self.patience:\n",
    "                if self.verbose:\n",
    "                    print(f\"\\nStopping. Best score: {self.best_score}\")\n",
    "                self.stopped_epoch = epoch\n",
    "                return True\n",
    "        return False\n",
    "\n",
    "    def get_best_score(self):\n",
    "        return self.best_score"
   ]
  },
  {
   "cell_type": "markdown",
   "id": "c3762565",
   "metadata": {
    "id": "VNG_94woqnAL",
    "papermill": {
     "duration": 0.066905,
     "end_time": "2024-07-02T08:17:10.530449",
     "exception": false,
     "start_time": "2024-07-02T08:17:10.463544",
     "status": "completed"
    },
    "tags": []
   },
   "source": [
    "## Hyperparameter Tuning"
   ]
  },
  {
   "cell_type": "code",
   "execution_count": 58,
   "id": "10a3e7a0",
   "metadata": {
    "execution": {
     "iopub.execute_input": "2024-07-02T08:17:10.667772Z",
     "iopub.status.busy": "2024-07-02T08:17:10.667353Z",
     "iopub.status.idle": "2024-07-02T08:17:10.679403Z",
     "shell.execute_reply": "2024-07-02T08:17:10.678142Z"
    },
    "id": "T0bcD4ZRqnAL",
    "papermill": {
     "duration": 0.084385,
     "end_time": "2024-07-02T08:17:10.681904",
     "exception": false,
     "start_time": "2024-07-02T08:17:10.597519",
     "status": "completed"
    },
    "tags": []
   },
   "outputs": [],
   "source": [
    "def objective_params(trial, X_train, X_valid, y_train, y_valid, y_close):\n",
    "    # Define the hyperparameter search space\n",
    "    params = {\n",
    "        'n_estimators': trial.suggest_int('n_estimators', 50, 300),\n",
    "        'learning_rate': trial.suggest_float('learning_rate', 0.01, 0.1),\n",
    "        'max_depth': trial.suggest_int('max_depth', 3, 10),\n",
    "        'min_samples_split' : trial.suggest_int('min_samples_split', 2, 10),\n",
    "        'min_samples_leaf': trial.suggest_int('min_samples_leaf', 1, 10)\n",
    "        }\n",
    "    trade_threshold  = 0.0005\n",
    "\n",
    "    # Check duplication and skip if it's detected.\n",
    "    for t in trial.study.trials:\n",
    "        if t.state != optuna.trial.TrialState.COMPLETE:\n",
    "            continue\n",
    "        if t.params == trial.params:\n",
    "            return np.nan #t.values  # Return the previous value without re-evaluating i\n",
    "\n",
    "\n",
    "    custom_early_stopping_instance = CustomEarlyStopping(min_delta=min_delta, patience=patience, verbose=True)\n",
    "\n",
    "    # Train the model\n",
    "    model = GradientBoostingRegressor(**params)\n",
    "    model.fit(X_train, y_train)\n",
    "\n",
    "    y_pred_train = model.predict(X_train)\n",
    "    y_pred_valid = model.predict(X_valid)\n",
    "\n",
    "\n",
    "    pos, pnl, daily_pnl, sharpe_is = sharpe_for_vn30f(y_pred_train, y_close[:len(y_pred_train)], trade_threshold=trade_threshold, fee_perc=0.01, periods=10)\n",
    "    _, _, _, sharpe_oos = sharpe_for_vn30f(y_pred_valid, y_close[len(y_pred_train):], trade_threshold=trade_threshold, fee_perc=0.01, periods=10)\n",
    "\n",
    "    return sharpe_oos, abs((abs(sharpe_is / sharpe_oos))-1)"
   ]
  },
  {
   "cell_type": "code",
   "execution_count": 59,
   "id": "d8e8e943",
   "metadata": {
    "execution": {
     "iopub.execute_input": "2024-07-02T08:17:10.816710Z",
     "iopub.status.busy": "2024-07-02T08:17:10.816296Z",
     "iopub.status.idle": "2024-07-02T08:17:10.820993Z",
     "shell.execute_reply": "2024-07-02T08:17:10.819942Z"
    },
    "papermill": {
     "duration": 0.074783,
     "end_time": "2024-07-02T08:17:10.823296",
     "exception": false,
     "start_time": "2024-07-02T08:17:10.748513",
     "status": "completed"
    },
    "tags": []
   },
   "outputs": [],
   "source": [
    "import pickle"
   ]
  },
  {
   "cell_type": "code",
   "execution_count": 60,
   "id": "8b6a06a2",
   "metadata": {
    "execution": {
     "iopub.execute_input": "2024-07-02T08:17:10.960780Z",
     "iopub.status.busy": "2024-07-02T08:17:10.959954Z",
     "iopub.status.idle": "2024-07-02T16:46:44.787878Z",
     "shell.execute_reply": "2024-07-02T16:46:44.786689Z"
    },
    "id": "gKNvShYMqnAM",
    "outputId": "a8eb0472-b604-4434-87c3-18351bbca671",
    "papermill": {
     "duration": 30573.899729,
     "end_time": "2024-07-02T16:46:44.790929",
     "exception": false,
     "start_time": "2024-07-02T08:17:10.891200",
     "status": "completed"
    },
    "tags": []
   },
   "outputs": [
    {
     "name": "stderr",
     "output_type": "stream",
     "text": [
      "/opt/conda/lib/python3.10/site-packages/numpy/core/fromnumeric.py:59: FutureWarning: 'DataFrame.swapaxes' is deprecated and will be removed in a future version. Please use 'DataFrame.transpose' instead.\n",
      "  return bound(*args, **kwds)\n",
      "[I 2024-07-02 08:17:11,047] A new study created in memory with name: no-name-6241c0a0-2bbe-4cf3-87c6-39f54a9db854\n"
     ]
    },
    {
     "name": "stdout",
     "output_type": "stream",
     "text": [
      "A new study created in memory with name: no-name-6241c0a0-2bbe-4cf3-87c6-39f54a9db854\n"
     ]
    },
    {
     "name": "stderr",
     "output_type": "stream",
     "text": [
      "[I 2024-07-02 08:22:09,852] Trial 0 finished with values: [2.0531716947696728, 0.5867621377315133] and parameters: {'n_estimators': 290, 'learning_rate': 0.056107759224974296, 'max_depth': 8, 'min_samples_split': 3, 'min_samples_leaf': 9}. \n"
     ]
    },
    {
     "name": "stdout",
     "output_type": "stream",
     "text": [
      "Trial 0 finished with values: [2.0531716947696728, 0.5867621377315133] and parameters: {'n_estimators': 290, 'learning_rate': 0.056107759224974296, 'max_depth': 8, 'min_samples_split': 3, 'min_samples_leaf': 9}. \n"
     ]
    },
    {
     "name": "stderr",
     "output_type": "stream",
     "text": [
      "[I 2024-07-02 08:23:27,503] Trial 1 finished with values: [2.6457352216902996, 0.05001867081850786] and parameters: {'n_estimators': 200, 'learning_rate': 0.04752119943135554, 'max_depth': 3, 'min_samples_split': 6, 'min_samples_leaf': 3}. \n"
     ]
    },
    {
     "name": "stdout",
     "output_type": "stream",
     "text": [
      "Trial 1 finished with values: [2.6457352216902996, 0.05001867081850786] and parameters: {'n_estimators': 200, 'learning_rate': 0.04752119943135554, 'max_depth': 3, 'min_samples_split': 6, 'min_samples_leaf': 3}. \n"
     ]
    },
    {
     "name": "stderr",
     "output_type": "stream",
     "text": [
      "[I 2024-07-02 08:26:47,924] Trial 2 finished with values: [2.6353179847059818, 0.19619314440449798] and parameters: {'n_estimators': 173, 'learning_rate': 0.055395465102020355, 'max_depth': 9, 'min_samples_split': 2, 'min_samples_leaf': 10}. \n"
     ]
    },
    {
     "name": "stdout",
     "output_type": "stream",
     "text": [
      "Trial 2 finished with values: [2.6353179847059818, 0.19619314440449798] and parameters: {'n_estimators': 173, 'learning_rate': 0.055395465102020355, 'max_depth': 9, 'min_samples_split': 2, 'min_samples_leaf': 10}. \n"
     ]
    },
    {
     "name": "stderr",
     "output_type": "stream",
     "text": [
      "[I 2024-07-02 08:30:31,037] Trial 3 finished with values: [1.4805054737662748, 2.2478106482627394] and parameters: {'n_estimators': 172, 'learning_rate': 0.06636579023265012, 'max_depth': 10, 'min_samples_split': 3, 'min_samples_leaf': 3}. \n"
     ]
    },
    {
     "name": "stdout",
     "output_type": "stream",
     "text": [
      "Trial 3 finished with values: [1.4805054737662748, 2.2478106482627394] and parameters: {'n_estimators': 172, 'learning_rate': 0.06636579023265012, 'max_depth': 10, 'min_samples_split': 3, 'min_samples_leaf': 3}. \n"
     ]
    },
    {
     "name": "stderr",
     "output_type": "stream",
     "text": [
      "[I 2024-07-02 08:31:42,838] Trial 4 finished with values: [3.875316499550838, 0.5976217718940242] and parameters: {'n_estimators': 111, 'learning_rate': 0.025821468153423878, 'max_depth': 5, 'min_samples_split': 2, 'min_samples_leaf': 6}. \n"
     ]
    },
    {
     "name": "stdout",
     "output_type": "stream",
     "text": [
      "Trial 4 finished with values: [3.875316499550838, 0.5976217718940242] and parameters: {'n_estimators': 111, 'learning_rate': 0.025821468153423878, 'max_depth': 5, 'min_samples_split': 2, 'min_samples_leaf': 6}. \n"
     ]
    },
    {
     "name": "stderr",
     "output_type": "stream",
     "text": [
      "[I 2024-07-02 08:36:09,703] Trial 5 finished with values: [1.630653633627541, 1.4561880000971104] and parameters: {'n_estimators': 206, 'learning_rate': 0.049522434362051546, 'max_depth': 10, 'min_samples_split': 8, 'min_samples_leaf': 8}. \n"
     ]
    },
    {
     "name": "stdout",
     "output_type": "stream",
     "text": [
      "Trial 5 finished with values: [1.630653633627541, 1.4561880000971104] and parameters: {'n_estimators': 206, 'learning_rate': 0.049522434362051546, 'max_depth': 10, 'min_samples_split': 8, 'min_samples_leaf': 8}. \n"
     ]
    },
    {
     "name": "stderr",
     "output_type": "stream",
     "text": [
      "[I 2024-07-02 08:41:56,342] Trial 6 finished with values: [2.194989051769747, 0.7175647285919897] and parameters: {'n_estimators': 268, 'learning_rate': 0.018074195927909292, 'max_depth': 10, 'min_samples_split': 10, 'min_samples_leaf': 8}. \n"
     ]
    },
    {
     "name": "stdout",
     "output_type": "stream",
     "text": [
      "Trial 6 finished with values: [2.194989051769747, 0.7175647285919897] and parameters: {'n_estimators': 268, 'learning_rate': 0.018074195927909292, 'max_depth': 10, 'min_samples_split': 10, 'min_samples_leaf': 8}. \n"
     ]
    },
    {
     "name": "stderr",
     "output_type": "stream",
     "text": [
      "[I 2024-07-02 08:46:26,198] Trial 7 finished with values: [2.251695731768208, 0.41833478036920635] and parameters: {'n_estimators': 299, 'learning_rate': 0.039965777821564095, 'max_depth': 7, 'min_samples_split': 4, 'min_samples_leaf': 6}. \n"
     ]
    },
    {
     "name": "stdout",
     "output_type": "stream",
     "text": [
      "Trial 7 finished with values: [2.251695731768208, 0.41833478036920635] and parameters: {'n_estimators': 299, 'learning_rate': 0.039965777821564095, 'max_depth': 7, 'min_samples_split': 4, 'min_samples_leaf': 6}. \n"
     ]
    },
    {
     "name": "stderr",
     "output_type": "stream",
     "text": [
      "[I 2024-07-02 08:50:29,610] Trial 8 finished with values: [1.1970578333456776, 2.6360567636240395] and parameters: {'n_estimators': 187, 'learning_rate': 0.04192523690843418, 'max_depth': 10, 'min_samples_split': 4, 'min_samples_leaf': 4}. \n"
     ]
    },
    {
     "name": "stdout",
     "output_type": "stream",
     "text": [
      "Trial 8 finished with values: [1.1970578333456776, 2.6360567636240395] and parameters: {'n_estimators': 187, 'learning_rate': 0.04192523690843418, 'max_depth': 10, 'min_samples_split': 4, 'min_samples_leaf': 4}. \n"
     ]
    },
    {
     "name": "stderr",
     "output_type": "stream",
     "text": [
      "[I 2024-07-02 08:51:08,515] Trial 9 finished with values: [3.341970027149656, 0.5591209423114305] and parameters: {'n_estimators': 60, 'learning_rate': 0.012615667180423284, 'max_depth': 5, 'min_samples_split': 3, 'min_samples_leaf': 9}. \n"
     ]
    },
    {
     "name": "stdout",
     "output_type": "stream",
     "text": [
      "Trial 9 finished with values: [3.341970027149656, 0.5591209423114305] and parameters: {'n_estimators': 60, 'learning_rate': 0.012615667180423284, 'max_depth': 5, 'min_samples_split': 3, 'min_samples_leaf': 9}. \n"
     ]
    },
    {
     "name": "stderr",
     "output_type": "stream",
     "text": [
      "[I 2024-07-02 08:52:48,606] Trial 10 finished with values: [2.9078382701670575, 0.07051108110902438] and parameters: {'n_estimators': 110, 'learning_rate': 0.06188324410622361, 'max_depth': 7, 'min_samples_split': 9, 'min_samples_leaf': 6}. \n"
     ]
    },
    {
     "name": "stdout",
     "output_type": "stream",
     "text": [
      "Trial 10 finished with values: [2.9078382701670575, 0.07051108110902438] and parameters: {'n_estimators': 110, 'learning_rate': 0.06188324410622361, 'max_depth': 7, 'min_samples_split': 9, 'min_samples_leaf': 6}. \n"
     ]
    },
    {
     "name": "stderr",
     "output_type": "stream",
     "text": [
      "[I 2024-07-02 08:54:32,425] Trial 11 finished with values: [2.886208881067029, 0.38774485706350637] and parameters: {'n_estimators': 160, 'learning_rate': 0.036202689401041696, 'max_depth': 5, 'min_samples_split': 9, 'min_samples_leaf': 7}. \n"
     ]
    },
    {
     "name": "stdout",
     "output_type": "stream",
     "text": [
      "Trial 11 finished with values: [2.886208881067029, 0.38774485706350637] and parameters: {'n_estimators': 160, 'learning_rate': 0.036202689401041696, 'max_depth': 5, 'min_samples_split': 9, 'min_samples_leaf': 7}. \n"
     ]
    },
    {
     "name": "stderr",
     "output_type": "stream",
     "text": [
      "[I 2024-07-02 08:58:45,070] Trial 12 finished with values: [2.0829441439955283, 1.4001227709839101] and parameters: {'n_estimators': 245, 'learning_rate': 0.09128385647856, 'max_depth': 8, 'min_samples_split': 2, 'min_samples_leaf': 3}. \n"
     ]
    },
    {
     "name": "stdout",
     "output_type": "stream",
     "text": [
      "Trial 12 finished with values: [2.0829441439955283, 1.4001227709839101] and parameters: {'n_estimators': 245, 'learning_rate': 0.09128385647856, 'max_depth': 8, 'min_samples_split': 2, 'min_samples_leaf': 3}. \n"
     ]
    },
    {
     "name": "stderr",
     "output_type": "stream",
     "text": [
      "[I 2024-07-02 09:01:15,636] Trial 13 finished with values: [0.8875823554344948, 4.3517909678920965] and parameters: {'n_estimators': 292, 'learning_rate': 0.09163016772669035, 'max_depth': 4, 'min_samples_split': 9, 'min_samples_leaf': 2}. \n"
     ]
    },
    {
     "name": "stdout",
     "output_type": "stream",
     "text": [
      "Trial 13 finished with values: [0.8875823554344948, 4.3517909678920965] and parameters: {'n_estimators': 292, 'learning_rate': 0.09163016772669035, 'max_depth': 4, 'min_samples_split': 9, 'min_samples_leaf': 2}. \n"
     ]
    },
    {
     "name": "stderr",
     "output_type": "stream",
     "text": [
      "[I 2024-07-02 09:04:47,652] Trial 14 finished with values: [0.05899750682233212, 84.60775814221725] and parameters: {'n_estimators': 165, 'learning_rate': 0.06125524715394435, 'max_depth': 10, 'min_samples_split': 7, 'min_samples_leaf': 2}. \n"
     ]
    },
    {
     "name": "stdout",
     "output_type": "stream",
     "text": [
      "Trial 14 finished with values: [0.05899750682233212, 84.60775814221725] and parameters: {'n_estimators': 165, 'learning_rate': 0.06125524715394435, 'max_depth': 10, 'min_samples_split': 7, 'min_samples_leaf': 2}. \n"
     ]
    },
    {
     "name": "stderr",
     "output_type": "stream",
     "text": [
      "[I 2024-07-02 09:06:55,289] Trial 15 finished with values: [3.3708654445725914, 0.2597841815395122] and parameters: {'n_estimators': 162, 'learning_rate': 0.032641214956143805, 'max_depth': 6, 'min_samples_split': 5, 'min_samples_leaf': 5}. \n"
     ]
    },
    {
     "name": "stdout",
     "output_type": "stream",
     "text": [
      "Trial 15 finished with values: [3.3708654445725914, 0.2597841815395122] and parameters: {'n_estimators': 162, 'learning_rate': 0.032641214956143805, 'max_depth': 6, 'min_samples_split': 5, 'min_samples_leaf': 5}. \n"
     ]
    },
    {
     "name": "stderr",
     "output_type": "stream",
     "text": [
      "[I 2024-07-02 09:11:52,352] Trial 16 finished with values: [-0.3895518527660075, 11.659247321828737] and parameters: {'n_estimators': 254, 'learning_rate': 0.03706454114409738, 'max_depth': 9, 'min_samples_split': 3, 'min_samples_leaf': 2}. \n"
     ]
    },
    {
     "name": "stdout",
     "output_type": "stream",
     "text": [
      "Trial 16 finished with values: [-0.3895518527660075, 11.659247321828737] and parameters: {'n_estimators': 254, 'learning_rate': 0.03706454114409738, 'max_depth': 9, 'min_samples_split': 3, 'min_samples_leaf': 2}. \n"
     ]
    },
    {
     "name": "stderr",
     "output_type": "stream",
     "text": [
      "[I 2024-07-02 09:14:50,341] Trial 17 finished with values: [2.7536944885438834, 0.133915928442345] and parameters: {'n_estimators': 170, 'learning_rate': 0.02731640923382212, 'max_depth': 8, 'min_samples_split': 8, 'min_samples_leaf': 8}. \n"
     ]
    },
    {
     "name": "stdout",
     "output_type": "stream",
     "text": [
      "Trial 17 finished with values: [2.7536944885438834, 0.133915928442345] and parameters: {'n_estimators': 170, 'learning_rate': 0.02731640923382212, 'max_depth': 8, 'min_samples_split': 8, 'min_samples_leaf': 8}. \n"
     ]
    },
    {
     "name": "stderr",
     "output_type": "stream",
     "text": [
      "[I 2024-07-02 09:18:57,007] Trial 18 finished with values: [2.2674373340286706, 0.7515570428072254] and parameters: {'n_estimators': 188, 'learning_rate': 0.09480013750592006, 'max_depth': 10, 'min_samples_split': 5, 'min_samples_leaf': 7}. \n"
     ]
    },
    {
     "name": "stdout",
     "output_type": "stream",
     "text": [
      "Trial 18 finished with values: [2.2674373340286706, 0.7515570428072254] and parameters: {'n_estimators': 188, 'learning_rate': 0.09480013750592006, 'max_depth': 10, 'min_samples_split': 5, 'min_samples_leaf': 7}. \n"
     ]
    },
    {
     "name": "stderr",
     "output_type": "stream",
     "text": [
      "[I 2024-07-02 09:20:02,689] Trial 19 finished with values: [3.2953323334354723, 0.13672741212008876] and parameters: {'n_estimators': 125, 'learning_rate': 0.09257255681800018, 'max_depth': 4, 'min_samples_split': 9, 'min_samples_leaf': 4}. \n"
     ]
    },
    {
     "name": "stdout",
     "output_type": "stream",
     "text": [
      "Trial 19 finished with values: [3.2953323334354723, 0.13672741212008876] and parameters: {'n_estimators': 125, 'learning_rate': 0.09257255681800018, 'max_depth': 4, 'min_samples_split': 9, 'min_samples_leaf': 4}. \n"
     ]
    },
    {
     "name": "stderr",
     "output_type": "stream",
     "text": [
      "[I 2024-07-02 09:23:07,585] Trial 20 finished with values: [1.7718850537616588, 1.007943516606951] and parameters: {'n_estimators': 177, 'learning_rate': 0.05030168235600407, 'max_depth': 8, 'min_samples_split': 2, 'min_samples_leaf': 4}. \n"
     ]
    },
    {
     "name": "stdout",
     "output_type": "stream",
     "text": [
      "Trial 20 finished with values: [1.7718850537616588, 1.007943516606951] and parameters: {'n_estimators': 177, 'learning_rate': 0.05030168235600407, 'max_depth': 8, 'min_samples_split': 2, 'min_samples_leaf': 4}. \n"
     ]
    },
    {
     "name": "stderr",
     "output_type": "stream",
     "text": [
      "[I 2024-07-02 09:25:09,755] Trial 21 finished with values: [2.552896604845565, 0.22462799528995547] and parameters: {'n_estimators': 133, 'learning_rate': 0.010608377513857471, 'max_depth': 7, 'min_samples_split': 7, 'min_samples_leaf': 3}. \n"
     ]
    },
    {
     "name": "stdout",
     "output_type": "stream",
     "text": [
      "Trial 21 finished with values: [2.552896604845565, 0.22462799528995547] and parameters: {'n_estimators': 133, 'learning_rate': 0.010608377513857471, 'max_depth': 7, 'min_samples_split': 7, 'min_samples_leaf': 3}. \n"
     ]
    },
    {
     "name": "stderr",
     "output_type": "stream",
     "text": [
      "[I 2024-07-02 09:28:26,314] Trial 22 finished with values: [3.055836933701858, 0.2661600731175052] and parameters: {'n_estimators': 251, 'learning_rate': 0.012880093313952058, 'max_depth': 6, 'min_samples_split': 4, 'min_samples_leaf': 8}. \n"
     ]
    },
    {
     "name": "stdout",
     "output_type": "stream",
     "text": [
      "Trial 22 finished with values: [3.055836933701858, 0.2661600731175052] and parameters: {'n_estimators': 251, 'learning_rate': 0.012880093313952058, 'max_depth': 6, 'min_samples_split': 4, 'min_samples_leaf': 8}. \n"
     ]
    },
    {
     "name": "stderr",
     "output_type": "stream",
     "text": [
      "[I 2024-07-02 09:30:21,959] Trial 23 finished with values: [3.881929390934153, 0.5983072257623222] and parameters: {'n_estimators': 177, 'learning_rate': 0.018610509253024623, 'max_depth': 5, 'min_samples_split': 7, 'min_samples_leaf': 6}. \n"
     ]
    },
    {
     "name": "stdout",
     "output_type": "stream",
     "text": [
      "Trial 23 finished with values: [3.881929390934153, 0.5983072257623222] and parameters: {'n_estimators': 177, 'learning_rate': 0.018610509253024623, 'max_depth': 5, 'min_samples_split': 7, 'min_samples_leaf': 6}. \n"
     ]
    },
    {
     "name": "stderr",
     "output_type": "stream",
     "text": [
      "[I 2024-07-02 09:34:46,871] Trial 24 finished with values: [2.426621273335057, 0.7779894959180664] and parameters: {'n_estimators': 254, 'learning_rate': 0.0771192858585189, 'max_depth': 8, 'min_samples_split': 2, 'min_samples_leaf': 5}. \n"
     ]
    },
    {
     "name": "stdout",
     "output_type": "stream",
     "text": [
      "Trial 24 finished with values: [2.426621273335057, 0.7779894959180664] and parameters: {'n_estimators': 254, 'learning_rate': 0.0771192858585189, 'max_depth': 8, 'min_samples_split': 2, 'min_samples_leaf': 5}. \n"
     ]
    },
    {
     "name": "stderr",
     "output_type": "stream",
     "text": [
      "[I 2024-07-02 09:35:13,408] Trial 25 finished with values: [3.4166223925076555, 0.5732147260566474] and parameters: {'n_estimators': 67, 'learning_rate': 0.03882544707377621, 'max_depth': 3, 'min_samples_split': 6, 'min_samples_leaf': 9}. \n"
     ]
    },
    {
     "name": "stdout",
     "output_type": "stream",
     "text": [
      "Trial 25 finished with values: [3.4166223925076555, 0.5732147260566474] and parameters: {'n_estimators': 67, 'learning_rate': 0.03882544707377621, 'max_depth': 3, 'min_samples_split': 6, 'min_samples_leaf': 9}. \n"
     ]
    },
    {
     "name": "stderr",
     "output_type": "stream",
     "text": [
      "[I 2024-07-02 09:36:09,106] Trial 26 finished with values: [2.3232556395568897, 0.06665919243434948] and parameters: {'n_estimators': 71, 'learning_rate': 0.0659662107036751, 'max_depth': 6, 'min_samples_split': 10, 'min_samples_leaf': 10}. \n"
     ]
    },
    {
     "name": "stdout",
     "output_type": "stream",
     "text": [
      "Trial 26 finished with values: [2.3232556395568897, 0.06665919243434948] and parameters: {'n_estimators': 71, 'learning_rate': 0.0659662107036751, 'max_depth': 6, 'min_samples_split': 10, 'min_samples_leaf': 10}. \n"
     ]
    },
    {
     "name": "stderr",
     "output_type": "stream",
     "text": [
      "[I 2024-07-02 09:38:18,125] Trial 27 finished with values: [2.128354380946831, 0.891698358354412] and parameters: {'n_estimators': 109, 'learning_rate': 0.05359865324127422, 'max_depth': 9, 'min_samples_split': 4, 'min_samples_leaf': 4}. \n"
     ]
    },
    {
     "name": "stdout",
     "output_type": "stream",
     "text": [
      "Trial 27 finished with values: [2.128354380946831, 0.891698358354412] and parameters: {'n_estimators': 109, 'learning_rate': 0.05359865324127422, 'max_depth': 9, 'min_samples_split': 4, 'min_samples_leaf': 4}. \n"
     ]
    },
    {
     "name": "stderr",
     "output_type": "stream",
     "text": [
      "[I 2024-07-02 09:40:56,946] Trial 28 finished with values: [2.757247761616817, 0.14959266258490633] and parameters: {'n_estimators': 203, 'learning_rate': 0.04319812751919723, 'max_depth': 6, 'min_samples_split': 4, 'min_samples_leaf': 4}. \n"
     ]
    },
    {
     "name": "stdout",
     "output_type": "stream",
     "text": [
      "Trial 28 finished with values: [2.757247761616817, 0.14959266258490633] and parameters: {'n_estimators': 203, 'learning_rate': 0.04319812751919723, 'max_depth': 6, 'min_samples_split': 4, 'min_samples_leaf': 4}. \n"
     ]
    },
    {
     "name": "stderr",
     "output_type": "stream",
     "text": [
      "[I 2024-07-02 09:41:44,767] Trial 29 finished with values: [3.454514241124337, 0.5590258298095062] and parameters: {'n_estimators': 90, 'learning_rate': 0.034797342627002965, 'max_depth': 4, 'min_samples_split': 2, 'min_samples_leaf': 4}. \n"
     ]
    },
    {
     "name": "stdout",
     "output_type": "stream",
     "text": [
      "Trial 29 finished with values: [3.454514241124337, 0.5590258298095062] and parameters: {'n_estimators': 90, 'learning_rate': 0.034797342627002965, 'max_depth': 4, 'min_samples_split': 2, 'min_samples_leaf': 4}. \n"
     ]
    },
    {
     "name": "stderr",
     "output_type": "stream",
     "text": [
      "[I 2024-07-02 09:43:40,963] Trial 30 finished with values: [3.0527174074400802, 0.0425271360930114] and parameters: {'n_estimators': 127, 'learning_rate': 0.06827831757654225, 'max_depth': 7, 'min_samples_split': 3, 'min_samples_leaf': 7}. \n"
     ]
    },
    {
     "name": "stdout",
     "output_type": "stream",
     "text": [
      "Trial 30 finished with values: [3.0527174074400802, 0.0425271360930114] and parameters: {'n_estimators': 127, 'learning_rate': 0.06827831757654225, 'max_depth': 7, 'min_samples_split': 3, 'min_samples_leaf': 7}. \n"
     ]
    },
    {
     "name": "stderr",
     "output_type": "stream",
     "text": [
      "[I 2024-07-02 09:46:38,470] Trial 31 finished with values: [2.4679380471330536, 0.5722777460678514] and parameters: {'n_estimators': 136, 'learning_rate': 0.043405347861781816, 'max_depth': 10, 'min_samples_split': 5, 'min_samples_leaf': 6}. \n"
     ]
    },
    {
     "name": "stdout",
     "output_type": "stream",
     "text": [
      "Trial 31 finished with values: [2.4679380471330536, 0.5722777460678514] and parameters: {'n_estimators': 136, 'learning_rate': 0.043405347861781816, 'max_depth': 10, 'min_samples_split': 5, 'min_samples_leaf': 6}. \n"
     ]
    },
    {
     "name": "stderr",
     "output_type": "stream",
     "text": [
      "[I 2024-07-02 09:51:49,161] Trial 32 finished with values: [1.6678545377460046, 1.2890258087543205] and parameters: {'n_estimators': 241, 'learning_rate': 0.08881662154265671, 'max_depth': 10, 'min_samples_split': 5, 'min_samples_leaf': 7}. \n"
     ]
    },
    {
     "name": "stdout",
     "output_type": "stream",
     "text": [
      "Trial 32 finished with values: [1.6678545377460046, 1.2890258087543205] and parameters: {'n_estimators': 241, 'learning_rate': 0.08881662154265671, 'max_depth': 10, 'min_samples_split': 5, 'min_samples_leaf': 7}. \n"
     ]
    },
    {
     "name": "stderr",
     "output_type": "stream",
     "text": [
      "[I 2024-07-02 09:53:11,178] Trial 33 finished with values: [2.1502407771734764, 0.1051391935206697] and parameters: {'n_estimators': 126, 'learning_rate': 0.08331697991930812, 'max_depth': 5, 'min_samples_split': 4, 'min_samples_leaf': 10}. \n"
     ]
    },
    {
     "name": "stdout",
     "output_type": "stream",
     "text": [
      "Trial 33 finished with values: [2.1502407771734764, 0.1051391935206697] and parameters: {'n_estimators': 126, 'learning_rate': 0.08331697991930812, 'max_depth': 5, 'min_samples_split': 4, 'min_samples_leaf': 10}. \n"
     ]
    },
    {
     "name": "stderr",
     "output_type": "stream",
     "text": [
      "[I 2024-07-02 09:57:39,693] Trial 34 finished with values: [2.3179516112169622, 0.7114832465836989] and parameters: {'n_estimators': 260, 'learning_rate': 0.07368456074641667, 'max_depth': 8, 'min_samples_split': 4, 'min_samples_leaf': 6}. \n"
     ]
    },
    {
     "name": "stdout",
     "output_type": "stream",
     "text": [
      "Trial 34 finished with values: [2.3179516112169622, 0.7114832465836989] and parameters: {'n_estimators': 260, 'learning_rate': 0.07368456074641667, 'max_depth': 8, 'min_samples_split': 4, 'min_samples_leaf': 6}. \n"
     ]
    },
    {
     "name": "stderr",
     "output_type": "stream",
     "text": [
      "[I 2024-07-02 09:59:29,403] Trial 35 finished with values: [2.296925407512307, 0.3370570676901401] and parameters: {'n_estimators': 106, 'learning_rate': 0.01976136033396897, 'max_depth': 8, 'min_samples_split': 6, 'min_samples_leaf': 10}. \n"
     ]
    },
    {
     "name": "stdout",
     "output_type": "stream",
     "text": [
      "Trial 35 finished with values: [2.296925407512307, 0.3370570676901401] and parameters: {'n_estimators': 106, 'learning_rate': 0.01976136033396897, 'max_depth': 8, 'min_samples_split': 6, 'min_samples_leaf': 10}. \n"
     ]
    },
    {
     "name": "stderr",
     "output_type": "stream",
     "text": [
      "[I 2024-07-02 10:04:17,511] Trial 36 finished with values: [2.7027933619484283, 0.440722495158981] and parameters: {'n_estimators': 246, 'learning_rate': 0.024817027122823885, 'max_depth': 9, 'min_samples_split': 9, 'min_samples_leaf': 5}. \n"
     ]
    },
    {
     "name": "stdout",
     "output_type": "stream",
     "text": [
      "Trial 36 finished with values: [2.7027933619484283, 0.440722495158981] and parameters: {'n_estimators': 246, 'learning_rate': 0.024817027122823885, 'max_depth': 9, 'min_samples_split': 9, 'min_samples_leaf': 5}. \n"
     ]
    },
    {
     "name": "stderr",
     "output_type": "stream",
     "text": [
      "[I 2024-07-02 10:07:23,371] Trial 37 finished with values: [2.000781720464356, 0.9011154707370632] and parameters: {'n_estimators': 158, 'learning_rate': 0.0897010317075779, 'max_depth': 9, 'min_samples_split': 9, 'min_samples_leaf': 8}. \n"
     ]
    },
    {
     "name": "stdout",
     "output_type": "stream",
     "text": [
      "Trial 37 finished with values: [2.000781720464356, 0.9011154707370632] and parameters: {'n_estimators': 158, 'learning_rate': 0.0897010317075779, 'max_depth': 9, 'min_samples_split': 9, 'min_samples_leaf': 8}. \n"
     ]
    },
    {
     "name": "stderr",
     "output_type": "stream",
     "text": [
      "[I 2024-07-02 10:07:50,322] Trial 38 finished with values: [2.8009449139987077, 0.48760407731408084] and parameters: {'n_estimators': 68, 'learning_rate': 0.03457633662413992, 'max_depth': 3, 'min_samples_split': 4, 'min_samples_leaf': 10}. \n"
     ]
    },
    {
     "name": "stdout",
     "output_type": "stream",
     "text": [
      "Trial 38 finished with values: [2.8009449139987077, 0.48760407731408084] and parameters: {'n_estimators': 68, 'learning_rate': 0.03457633662413992, 'max_depth': 3, 'min_samples_split': 4, 'min_samples_leaf': 10}. \n"
     ]
    },
    {
     "name": "stderr",
     "output_type": "stream",
     "text": [
      "[I 2024-07-02 10:10:10,328] Trial 39 finished with values: [2.542905430248778, 0.6427987226861684] and parameters: {'n_estimators': 178, 'learning_rate': 0.08643429680917326, 'max_depth': 6, 'min_samples_split': 9, 'min_samples_leaf': 4}. \n"
     ]
    },
    {
     "name": "stdout",
     "output_type": "stream",
     "text": [
      "Trial 39 finished with values: [2.542905430248778, 0.6427987226861684] and parameters: {'n_estimators': 178, 'learning_rate': 0.08643429680917326, 'max_depth': 6, 'min_samples_split': 9, 'min_samples_leaf': 4}. \n"
     ]
    },
    {
     "name": "stderr",
     "output_type": "stream",
     "text": [
      "[I 2024-07-02 10:11:49,031] Trial 40 finished with values: [1.2034212403979871, 2.0812713351140553] and parameters: {'n_estimators': 250, 'learning_rate': 0.06088460311382207, 'max_depth': 3, 'min_samples_split': 8, 'min_samples_leaf': 1}. \n"
     ]
    },
    {
     "name": "stdout",
     "output_type": "stream",
     "text": [
      "Trial 40 finished with values: [1.2034212403979871, 2.0812713351140553] and parameters: {'n_estimators': 250, 'learning_rate': 0.06088460311382207, 'max_depth': 3, 'min_samples_split': 8, 'min_samples_leaf': 1}. \n"
     ]
    },
    {
     "name": "stderr",
     "output_type": "stream",
     "text": [
      "[I 2024-07-02 10:15:50,242] Trial 41 finished with values: [0.733113633566872, 7.915616904010713] and parameters: {'n_estimators': 270, 'learning_rate': 0.0938399661592644, 'max_depth': 7, 'min_samples_split': 3, 'min_samples_leaf': 1}. \n"
     ]
    },
    {
     "name": "stdout",
     "output_type": "stream",
     "text": [
      "Trial 41 finished with values: [0.733113633566872, 7.915616904010713] and parameters: {'n_estimators': 270, 'learning_rate': 0.0938399661592644, 'max_depth': 7, 'min_samples_split': 3, 'min_samples_leaf': 1}. \n"
     ]
    },
    {
     "name": "stderr",
     "output_type": "stream",
     "text": [
      "[I 2024-07-02 10:19:19,391] Trial 42 finished with values: [2.034218902193511, 0.723821737554772] and parameters: {'n_estimators': 177, 'learning_rate': 0.06053606843334872, 'max_depth': 9, 'min_samples_split': 5, 'min_samples_leaf': 9}. \n"
     ]
    },
    {
     "name": "stdout",
     "output_type": "stream",
     "text": [
      "Trial 42 finished with values: [2.034218902193511, 0.723821737554772] and parameters: {'n_estimators': 177, 'learning_rate': 0.06053606843334872, 'max_depth': 9, 'min_samples_split': 5, 'min_samples_leaf': 9}. \n"
     ]
    },
    {
     "name": "stderr",
     "output_type": "stream",
     "text": [
      "[I 2024-07-02 10:22:12,205] Trial 43 finished with values: [2.734692638985538, 0.09328563370469922] and parameters: {'n_estimators': 183, 'learning_rate': 0.05556481728861625, 'max_depth': 7, 'min_samples_split': 10, 'min_samples_leaf': 9}. \n"
     ]
    },
    {
     "name": "stdout",
     "output_type": "stream",
     "text": [
      "Trial 43 finished with values: [2.734692638985538, 0.09328563370469922] and parameters: {'n_estimators': 183, 'learning_rate': 0.05556481728861625, 'max_depth': 7, 'min_samples_split': 10, 'min_samples_leaf': 9}. \n"
     ]
    },
    {
     "name": "stderr",
     "output_type": "stream",
     "text": [
      "[I 2024-07-02 10:24:35,890] Trial 44 finished with values: [1.886761672120877, 1.251932286105256] and parameters: {'n_estimators': 265, 'learning_rate': 0.09649864455287553, 'max_depth': 4, 'min_samples_split': 10, 'min_samples_leaf': 4}. \n"
     ]
    },
    {
     "name": "stdout",
     "output_type": "stream",
     "text": [
      "Trial 44 finished with values: [1.886761672120877, 1.251932286105256] and parameters: {'n_estimators': 265, 'learning_rate': 0.09649864455287553, 'max_depth': 4, 'min_samples_split': 10, 'min_samples_leaf': 4}. \n"
     ]
    },
    {
     "name": "stderr",
     "output_type": "stream",
     "text": [
      "[I 2024-07-02 10:26:38,347] Trial 45 finished with values: [2.426518581284482, 0.2640735197041766] and parameters: {'n_estimators': 113, 'learning_rate': 0.07574169579119203, 'max_depth': 8, 'min_samples_split': 2, 'min_samples_leaf': 10}. \n"
     ]
    },
    {
     "name": "stdout",
     "output_type": "stream",
     "text": [
      "Trial 45 finished with values: [2.426518581284482, 0.2640735197041766] and parameters: {'n_estimators': 113, 'learning_rate': 0.07574169579119203, 'max_depth': 8, 'min_samples_split': 2, 'min_samples_leaf': 10}. \n"
     ]
    },
    {
     "name": "stderr",
     "output_type": "stream",
     "text": [
      "[I 2024-07-02 10:28:08,534] Trial 46 finished with values: [2.5999353174736473, 0.18431216505307568] and parameters: {'n_estimators': 220, 'learning_rate': 0.08940724232003681, 'max_depth': 3, 'min_samples_split': 8, 'min_samples_leaf': 8}. \n"
     ]
    },
    {
     "name": "stdout",
     "output_type": "stream",
     "text": [
      "Trial 46 finished with values: [2.5999353174736473, 0.18431216505307568] and parameters: {'n_estimators': 220, 'learning_rate': 0.08940724232003681, 'max_depth': 3, 'min_samples_split': 8, 'min_samples_leaf': 8}. \n"
     ]
    },
    {
     "name": "stderr",
     "output_type": "stream",
     "text": [
      "[I 2024-07-02 10:33:25,437] Trial 47 finished with values: [2.1662617469415313, 0.6882825142952245] and parameters: {'n_estimators': 261, 'learning_rate': 0.0881143092948325, 'max_depth': 9, 'min_samples_split': 10, 'min_samples_leaf': 9}. \n"
     ]
    },
    {
     "name": "stdout",
     "output_type": "stream",
     "text": [
      "Trial 47 finished with values: [2.1662617469415313, 0.6882825142952245] and parameters: {'n_estimators': 261, 'learning_rate': 0.0881143092948325, 'max_depth': 9, 'min_samples_split': 10, 'min_samples_leaf': 9}. \n"
     ]
    },
    {
     "name": "stderr",
     "output_type": "stream",
     "text": [
      "[I 2024-07-02 10:35:08,939] Trial 48 finished with values: [3.231567060617201, 0.4573611223839019] and parameters: {'n_estimators': 254, 'learning_rate': 0.054533442848998075, 'max_depth': 3, 'min_samples_split': 2, 'min_samples_leaf': 8}. \n"
     ]
    },
    {
     "name": "stdout",
     "output_type": "stream",
     "text": [
      "Trial 48 finished with values: [3.231567060617201, 0.4573611223839019] and parameters: {'n_estimators': 254, 'learning_rate': 0.054533442848998075, 'max_depth': 3, 'min_samples_split': 2, 'min_samples_leaf': 8}. \n"
     ]
    },
    {
     "name": "stderr",
     "output_type": "stream",
     "text": [
      "[I 2024-07-02 10:38:00,234] Trial 49 finished with values: [3.278327525869705, 0.4530674178478482] and parameters: {'n_estimators': 253, 'learning_rate': 0.02115684369239695, 'max_depth': 5, 'min_samples_split': 6, 'min_samples_leaf': 8}. \n"
     ]
    },
    {
     "name": "stdout",
     "output_type": "stream",
     "text": [
      "Trial 49 finished with values: [3.278327525869705, 0.4530674178478482] and parameters: {'n_estimators': 253, 'learning_rate': 0.02115684369239695, 'max_depth': 5, 'min_samples_split': 6, 'min_samples_leaf': 8}. \n"
     ]
    },
    {
     "name": "stderr",
     "output_type": "stream",
     "text": [
      "[I 2024-07-02 10:41:26,397] Trial 50 finished with values: [1.9251486959528858, 0.9124286525836616] and parameters: {'n_estimators': 190, 'learning_rate': 0.08881662154265671, 'max_depth': 8, 'min_samples_split': 4, 'min_samples_leaf': 7}. \n"
     ]
    },
    {
     "name": "stdout",
     "output_type": "stream",
     "text": [
      "Trial 50 finished with values: [1.9251486959528858, 0.9124286525836616] and parameters: {'n_estimators': 190, 'learning_rate': 0.08881662154265671, 'max_depth': 8, 'min_samples_split': 4, 'min_samples_leaf': 7}. \n"
     ]
    },
    {
     "name": "stderr",
     "output_type": "stream",
     "text": [
      "[I 2024-07-02 10:44:19,945] Trial 51 finished with values: [2.044037510100263, 0.44157189592708534] and parameters: {'n_estimators': 160, 'learning_rate': 0.08562124141175491, 'max_depth': 8, 'min_samples_split': 4, 'min_samples_leaf': 10}. \n"
     ]
    },
    {
     "name": "stdout",
     "output_type": "stream",
     "text": [
      "Trial 51 finished with values: [2.044037510100263, 0.44157189592708534] and parameters: {'n_estimators': 160, 'learning_rate': 0.08562124141175491, 'max_depth': 8, 'min_samples_split': 4, 'min_samples_leaf': 10}. \n"
     ]
    },
    {
     "name": "stderr",
     "output_type": "stream",
     "text": [
      "[I 2024-07-02 10:50:17,263] Trial 52 finished with values: [1.3334853994664684, 2.1835447094514957] and parameters: {'n_estimators': 265, 'learning_rate': 0.07601663648687874, 'max_depth': 10, 'min_samples_split': 8, 'min_samples_leaf': 7}. \n"
     ]
    },
    {
     "name": "stdout",
     "output_type": "stream",
     "text": [
      "Trial 52 finished with values: [1.3334853994664684, 2.1835447094514957] and parameters: {'n_estimators': 265, 'learning_rate': 0.07601663648687874, 'max_depth': 10, 'min_samples_split': 8, 'min_samples_leaf': 7}. \n"
     ]
    },
    {
     "name": "stderr",
     "output_type": "stream",
     "text": [
      "[I 2024-07-02 10:50:54,285] Trial 53 finished with values: [2.9849592044411697, 0.5700200160165614] and parameters: {'n_estimators': 68, 'learning_rate': 0.03457633662413992, 'max_depth': 4, 'min_samples_split': 2, 'min_samples_leaf': 10}. \n"
     ]
    },
    {
     "name": "stdout",
     "output_type": "stream",
     "text": [
      "Trial 53 finished with values: [2.9849592044411697, 0.5700200160165614] and parameters: {'n_estimators': 68, 'learning_rate': 0.03457633662413992, 'max_depth': 4, 'min_samples_split': 2, 'min_samples_leaf': 10}. \n"
     ]
    },
    {
     "name": "stderr",
     "output_type": "stream",
     "text": [
      "[I 2024-07-02 10:52:44,703] Trial 54 finished with values: [2.9331056586883846, 0.1888294349316908] and parameters: {'n_estimators': 203, 'learning_rate': 0.03842381082632097, 'max_depth': 4, 'min_samples_split': 9, 'min_samples_leaf': 4}. \n"
     ]
    },
    {
     "name": "stdout",
     "output_type": "stream",
     "text": [
      "Trial 54 finished with values: [2.9331056586883846, 0.1888294349316908] and parameters: {'n_estimators': 203, 'learning_rate': 0.03842381082632097, 'max_depth': 4, 'min_samples_split': 9, 'min_samples_leaf': 4}. \n"
     ]
    },
    {
     "name": "stderr",
     "output_type": "stream",
     "text": [
      "[I 2024-07-02 10:55:43,643] Trial 55 finished with values: [2.819002561434361, 0.0030063339570240988] and parameters: {'n_estimators': 220, 'learning_rate': 0.08940724232003681, 'max_depth': 6, 'min_samples_split': 4, 'min_samples_leaf': 8}. \n"
     ]
    },
    {
     "name": "stdout",
     "output_type": "stream",
     "text": [
      "Trial 55 finished with values: [2.819002561434361, 0.0030063339570240988] and parameters: {'n_estimators': 220, 'learning_rate': 0.08940724232003681, 'max_depth': 6, 'min_samples_split': 4, 'min_samples_leaf': 8}. \n"
     ]
    },
    {
     "name": "stderr",
     "output_type": "stream",
     "text": [
      "[I 2024-07-02 10:57:10,591] Trial 56 finished with values: [2.350121258330147, 0.32039455769110914] and parameters: {'n_estimators': 71, 'learning_rate': 0.0659662107036751, 'max_depth': 9, 'min_samples_split': 10, 'min_samples_leaf': 7}. \n"
     ]
    },
    {
     "name": "stdout",
     "output_type": "stream",
     "text": [
      "Trial 56 finished with values: [2.350121258330147, 0.32039455769110914] and parameters: {'n_estimators': 71, 'learning_rate': 0.0659662107036751, 'max_depth': 9, 'min_samples_split': 10, 'min_samples_leaf': 7}. \n"
     ]
    },
    {
     "name": "stderr",
     "output_type": "stream",
     "text": [
      "[I 2024-07-02 10:58:26,659] Trial 57 finished with values: [3.3377423432781805, 0.5060191982842259] and parameters: {'n_estimators': 186, 'learning_rate': 0.054533442848998075, 'max_depth': 3, 'min_samples_split': 2, 'min_samples_leaf': 8}. \n"
     ]
    },
    {
     "name": "stdout",
     "output_type": "stream",
     "text": [
      "Trial 57 finished with values: [3.3377423432781805, 0.5060191982842259] and parameters: {'n_estimators': 186, 'learning_rate': 0.054533442848998075, 'max_depth': 3, 'min_samples_split': 2, 'min_samples_leaf': 8}. \n"
     ]
    },
    {
     "name": "stderr",
     "output_type": "stream",
     "text": [
      "[I 2024-07-02 11:01:59,837] Trial 58 finished with values: [1.9412904759680887, 1.0737056815791592] and parameters: {'n_estimators': 197, 'learning_rate': 0.0771192858585189, 'max_depth': 8, 'min_samples_split': 6, 'min_samples_leaf': 4}. \n"
     ]
    },
    {
     "name": "stdout",
     "output_type": "stream",
     "text": [
      "Trial 58 finished with values: [1.9412904759680887, 1.0737056815791592] and parameters: {'n_estimators': 197, 'learning_rate': 0.0771192858585189, 'max_depth': 8, 'min_samples_split': 6, 'min_samples_leaf': 4}. \n"
     ]
    },
    {
     "name": "stderr",
     "output_type": "stream",
     "text": [
      "[I 2024-07-02 11:03:49,160] Trial 59 finished with values: [1.8381667340074288, 1.1217417810366066] and parameters: {'n_estimators': 90, 'learning_rate': 0.034797342627002965, 'max_depth': 9, 'min_samples_split': 10, 'min_samples_leaf': 4}. \n"
     ]
    },
    {
     "name": "stdout",
     "output_type": "stream",
     "text": [
      "Trial 59 finished with values: [1.8381667340074288, 1.1217417810366066] and parameters: {'n_estimators': 90, 'learning_rate': 0.034797342627002965, 'max_depth': 9, 'min_samples_split': 10, 'min_samples_leaf': 4}. \n"
     ]
    },
    {
     "name": "stderr",
     "output_type": "stream",
     "text": [
      "[I 2024-07-02 11:06:20,371] Trial 60 finished with values: [2.407507064809303, 0.5612592294026224] and parameters: {'n_estimators': 112, 'learning_rate': 0.043405347861781816, 'max_depth': 10, 'min_samples_split': 5, 'min_samples_leaf': 6}. \n"
     ]
    },
    {
     "name": "stdout",
     "output_type": "stream",
     "text": [
      "Trial 60 finished with values: [2.407507064809303, 0.5612592294026224] and parameters: {'n_estimators': 112, 'learning_rate': 0.043405347861781816, 'max_depth': 10, 'min_samples_split': 5, 'min_samples_leaf': 6}. \n"
     ]
    },
    {
     "name": "stderr",
     "output_type": "stream",
     "text": [
      "[I 2024-07-02 11:11:21,038] Trial 61 finished with values: [2.7841413357352276, 0.3273511131484883] and parameters: {'n_estimators': 246, 'learning_rate': 0.015736024410445693, 'max_depth': 9, 'min_samples_split': 10, 'min_samples_leaf': 5}. \n"
     ]
    },
    {
     "name": "stdout",
     "output_type": "stream",
     "text": [
      "Trial 61 finished with values: [2.7841413357352276, 0.3273511131484883] and parameters: {'n_estimators': 246, 'learning_rate': 0.015736024410445693, 'max_depth': 9, 'min_samples_split': 10, 'min_samples_leaf': 5}. \n"
     ]
    },
    {
     "name": "stderr",
     "output_type": "stream",
     "text": [
      "[I 2024-07-02 11:15:00,008] Trial 62 finished with values: [1.8238051004877542, 0.8123412783880861] and parameters: {'n_estimators': 268, 'learning_rate': 0.0659662107036751, 'max_depth': 6, 'min_samples_split': 10, 'min_samples_leaf': 6}. \n"
     ]
    },
    {
     "name": "stdout",
     "output_type": "stream",
     "text": [
      "Trial 62 finished with values: [1.8238051004877542, 0.8123412783880861] and parameters: {'n_estimators': 268, 'learning_rate': 0.0659662107036751, 'max_depth': 6, 'min_samples_split': 10, 'min_samples_leaf': 6}. \n"
     ]
    },
    {
     "name": "stderr",
     "output_type": "stream",
     "text": [
      "[I 2024-07-02 11:16:02,238] Trial 63 finished with values: [2.9852416089749774, 0.5307277242643392] and parameters: {'n_estimators': 113, 'learning_rate': 0.05752973254602077, 'max_depth': 4, 'min_samples_split': 2, 'min_samples_leaf': 10}. \n"
     ]
    },
    {
     "name": "stdout",
     "output_type": "stream",
     "text": [
      "Trial 63 finished with values: [2.9852416089749774, 0.5307277242643392] and parameters: {'n_estimators': 113, 'learning_rate': 0.05752973254602077, 'max_depth': 4, 'min_samples_split': 2, 'min_samples_leaf': 10}. \n"
     ]
    },
    {
     "name": "stderr",
     "output_type": "stream",
     "text": [
      "[I 2024-07-02 11:18:19,925] Trial 64 finished with values: [1.6795179829083098, 0.9636051057907298] and parameters: {'n_estimators': 127, 'learning_rate': 0.06827831757654225, 'max_depth': 8, 'min_samples_split': 3, 'min_samples_leaf': 7}. \n"
     ]
    },
    {
     "name": "stdout",
     "output_type": "stream",
     "text": [
      "Trial 64 finished with values: [1.6795179829083098, 0.9636051057907298] and parameters: {'n_estimators': 127, 'learning_rate': 0.06827831757654225, 'max_depth': 8, 'min_samples_split': 3, 'min_samples_leaf': 7}. \n"
     ]
    },
    {
     "name": "stderr",
     "output_type": "stream",
     "text": [
      "[I 2024-07-02 11:19:57,374] Trial 65 finished with values: [3.4433681200036275, 0.05491564431429763] and parameters: {'n_estimators': 90, 'learning_rate': 0.039303844540264886, 'max_depth': 8, 'min_samples_split': 2, 'min_samples_leaf': 5}. \n"
     ]
    },
    {
     "name": "stdout",
     "output_type": "stream",
     "text": [
      "Trial 65 finished with values: [3.4433681200036275, 0.05491564431429763] and parameters: {'n_estimators': 90, 'learning_rate': 0.039303844540264886, 'max_depth': 8, 'min_samples_split': 2, 'min_samples_leaf': 5}. \n"
     ]
    },
    {
     "name": "stderr",
     "output_type": "stream",
     "text": [
      "[I 2024-07-02 11:21:34,030] Trial 66 finished with values: [3.284656239946589, 0.21405934951347005] and parameters: {'n_estimators': 177, 'learning_rate': 0.0449273421770978, 'max_depth': 4, 'min_samples_split': 9, 'min_samples_leaf': 4}. \n"
     ]
    },
    {
     "name": "stdout",
     "output_type": "stream",
     "text": [
      "Trial 66 finished with values: [3.284656239946589, 0.21405934951347005] and parameters: {'n_estimators': 177, 'learning_rate': 0.0449273421770978, 'max_depth': 4, 'min_samples_split': 9, 'min_samples_leaf': 4}. \n"
     ]
    },
    {
     "name": "stderr",
     "output_type": "stream",
     "text": [
      "[I 2024-07-02 11:24:26,391] Trial 67 finished with values: [3.1056489511039693, 0.5136838960835334] and parameters: {'n_estimators': 253, 'learning_rate': 0.012615667180423284, 'max_depth': 5, 'min_samples_split': 9, 'min_samples_leaf': 9}. \n"
     ]
    },
    {
     "name": "stdout",
     "output_type": "stream",
     "text": [
      "Trial 67 finished with values: [3.1056489511039693, 0.5136838960835334] and parameters: {'n_estimators': 253, 'learning_rate': 0.012615667180423284, 'max_depth': 5, 'min_samples_split': 9, 'min_samples_leaf': 9}. \n"
     ]
    },
    {
     "name": "stderr",
     "output_type": "stream",
     "text": [
      "[W 2024-07-02 11:24:26,429] Trial 68 failed with parameters: {'n_estimators': 106, 'learning_rate': 0.01976136033396897, 'max_depth': 8, 'min_samples_split': 6, 'min_samples_leaf': 10} because of the following error: The value nan is not acceptable.\n"
     ]
    },
    {
     "name": "stdout",
     "output_type": "stream",
     "text": [
      "Trial 68 failed with parameters: {'n_estimators': 106, 'learning_rate': 0.01976136033396897, 'max_depth': 8, 'min_samples_split': 6, 'min_samples_leaf': 10} because of the following error: The value nan is not acceptable.\n"
     ]
    },
    {
     "name": "stderr",
     "output_type": "stream",
     "text": [
      "[W 2024-07-02 11:24:26,432] Trial 68 failed with value nan.\n"
     ]
    },
    {
     "name": "stdout",
     "output_type": "stream",
     "text": [
      "Trial 68 failed with value nan.\n"
     ]
    },
    {
     "name": "stderr",
     "output_type": "stream",
     "text": [
      "[I 2024-07-02 11:27:14,563] Trial 69 finished with values: [3.0249007598947526, 0.02165339503502728] and parameters: {'n_estimators': 177, 'learning_rate': 0.06188324410622361, 'max_depth': 7, 'min_samples_split': 3, 'min_samples_leaf': 9}. \n"
     ]
    },
    {
     "name": "stdout",
     "output_type": "stream",
     "text": [
      "Trial 69 finished with values: [3.0249007598947526, 0.02165339503502728] and parameters: {'n_estimators': 177, 'learning_rate': 0.06188324410622361, 'max_depth': 7, 'min_samples_split': 3, 'min_samples_leaf': 9}. \n"
     ]
    },
    {
     "name": "stderr",
     "output_type": "stream",
     "text": [
      "[I 2024-07-02 11:32:16,807] Trial 70 finished with values: [2.3960998688128528, 0.4290815614018588] and parameters: {'n_estimators': 246, 'learning_rate': 0.024817027122823885, 'max_depth': 9, 'min_samples_split': 2, 'min_samples_leaf': 10}. \n"
     ]
    },
    {
     "name": "stdout",
     "output_type": "stream",
     "text": [
      "Trial 70 finished with values: [2.3960998688128528, 0.4290815614018588] and parameters: {'n_estimators': 246, 'learning_rate': 0.024817027122823885, 'max_depth': 9, 'min_samples_split': 2, 'min_samples_leaf': 10}. \n"
     ]
    },
    {
     "name": "stderr",
     "output_type": "stream",
     "text": [
      "[I 2024-07-02 11:33:38,971] Trial 71 finished with values: [3.327419713064908, 0.5083660018322609] and parameters: {'n_estimators': 200, 'learning_rate': 0.05868453233928045, 'max_depth': 3, 'min_samples_split': 9, 'min_samples_leaf': 8}. \n"
     ]
    },
    {
     "name": "stdout",
     "output_type": "stream",
     "text": [
      "Trial 71 finished with values: [3.327419713064908, 0.5083660018322609] and parameters: {'n_estimators': 200, 'learning_rate': 0.05868453233928045, 'max_depth': 3, 'min_samples_split': 9, 'min_samples_leaf': 8}. \n"
     ]
    },
    {
     "name": "stderr",
     "output_type": "stream",
     "text": [
      "[I 2024-07-02 11:35:11,212] Trial 72 finished with values: [2.161117621478921, 0.17713872034914835] and parameters: {'n_estimators': 113, 'learning_rate': 0.06391577228051672, 'max_depth': 6, 'min_samples_split': 4, 'min_samples_leaf': 9}. \n"
     ]
    },
    {
     "name": "stdout",
     "output_type": "stream",
     "text": [
      "Trial 72 finished with values: [2.161117621478921, 0.17713872034914835] and parameters: {'n_estimators': 113, 'learning_rate': 0.06391577228051672, 'max_depth': 6, 'min_samples_split': 4, 'min_samples_leaf': 9}. \n"
     ]
    },
    {
     "name": "stderr",
     "output_type": "stream",
     "text": [
      "[I 2024-07-02 11:38:00,421] Trial 73 finished with values: [2.5400368763691072, 0.2075101723496635] and parameters: {'n_estimators': 156, 'learning_rate': 0.043405347861781816, 'max_depth': 8, 'min_samples_split': 6, 'min_samples_leaf': 10}. \n"
     ]
    },
    {
     "name": "stdout",
     "output_type": "stream",
     "text": [
      "Trial 73 finished with values: [2.5400368763691072, 0.2075101723496635] and parameters: {'n_estimators': 156, 'learning_rate': 0.043405347861781816, 'max_depth': 8, 'min_samples_split': 6, 'min_samples_leaf': 10}. \n"
     ]
    },
    {
     "name": "stderr",
     "output_type": "stream",
     "text": [
      "[I 2024-07-02 11:40:52,543] Trial 74 finished with values: [2.3068440562854313, 0.04403194004829514] and parameters: {'n_estimators': 253, 'learning_rate': 0.05484589416622992, 'max_depth': 5, 'min_samples_split': 10, 'min_samples_leaf': 10}. \n"
     ]
    },
    {
     "name": "stdout",
     "output_type": "stream",
     "text": [
      "Trial 74 finished with values: [2.3068440562854313, 0.04403194004829514] and parameters: {'n_estimators': 253, 'learning_rate': 0.05484589416622992, 'max_depth': 5, 'min_samples_split': 10, 'min_samples_leaf': 10}. \n"
     ]
    },
    {
     "name": "stderr",
     "output_type": "stream",
     "text": [
      "[W 2024-07-02 11:40:52,580] Trial 75 failed with parameters: {'n_estimators': 60, 'learning_rate': 0.012615667180423284, 'max_depth': 5, 'min_samples_split': 3, 'min_samples_leaf': 9} because of the following error: The value nan is not acceptable.\n"
     ]
    },
    {
     "name": "stdout",
     "output_type": "stream",
     "text": [
      "Trial 75 failed with parameters: {'n_estimators': 60, 'learning_rate': 0.012615667180423284, 'max_depth': 5, 'min_samples_split': 3, 'min_samples_leaf': 9} because of the following error: The value nan is not acceptable.\n"
     ]
    },
    {
     "name": "stderr",
     "output_type": "stream",
     "text": [
      "[W 2024-07-02 11:40:52,584] Trial 75 failed with value nan.\n"
     ]
    },
    {
     "name": "stdout",
     "output_type": "stream",
     "text": [
      "Trial 75 failed with value nan.\n"
     ]
    },
    {
     "name": "stderr",
     "output_type": "stream",
     "text": [
      "[W 2024-07-02 11:40:52,623] Trial 76 failed with parameters: {'n_estimators': 110, 'learning_rate': 0.06188324410622361, 'max_depth': 7, 'min_samples_split': 9, 'min_samples_leaf': 6} because of the following error: The value nan is not acceptable.\n"
     ]
    },
    {
     "name": "stdout",
     "output_type": "stream",
     "text": [
      "Trial 76 failed with parameters: {'n_estimators': 110, 'learning_rate': 0.06188324410622361, 'max_depth': 7, 'min_samples_split': 9, 'min_samples_leaf': 6} because of the following error: The value nan is not acceptable.\n"
     ]
    },
    {
     "name": "stderr",
     "output_type": "stream",
     "text": [
      "[W 2024-07-02 11:40:52,625] Trial 76 failed with value nan.\n"
     ]
    },
    {
     "name": "stdout",
     "output_type": "stream",
     "text": [
      "Trial 76 failed with value nan.\n"
     ]
    },
    {
     "name": "stderr",
     "output_type": "stream",
     "text": [
      "[I 2024-07-02 11:43:47,991] Trial 77 finished with values: [2.459852361889969, 0.3865393863281408] and parameters: {'n_estimators': 160, 'learning_rate': 0.036202689401041696, 'max_depth': 8, 'min_samples_split': 3, 'min_samples_leaf': 9}. \n"
     ]
    },
    {
     "name": "stdout",
     "output_type": "stream",
     "text": [
      "Trial 77 finished with values: [2.459852361889969, 0.3865393863281408] and parameters: {'n_estimators': 160, 'learning_rate': 0.036202689401041696, 'max_depth': 8, 'min_samples_split': 3, 'min_samples_leaf': 9}. \n"
     ]
    },
    {
     "name": "stderr",
     "output_type": "stream",
     "text": [
      "[I 2024-07-02 11:46:01,399] Trial 78 finished with values: [2.542033046929799, 0.13094892664136126] and parameters: {'n_estimators': 122, 'learning_rate': 0.055395465102020355, 'max_depth': 8, 'min_samples_split': 9, 'min_samples_leaf': 10}. \n"
     ]
    },
    {
     "name": "stdout",
     "output_type": "stream",
     "text": [
      "Trial 78 finished with values: [2.542033046929799, 0.13094892664136126] and parameters: {'n_estimators': 122, 'learning_rate': 0.055395465102020355, 'max_depth': 8, 'min_samples_split': 9, 'min_samples_leaf': 10}. \n"
     ]
    },
    {
     "name": "stderr",
     "output_type": "stream",
     "text": [
      "[W 2024-07-02 11:46:01,441] Trial 79 failed with parameters: {'n_estimators': 106, 'learning_rate': 0.01976136033396897, 'max_depth': 8, 'min_samples_split': 6, 'min_samples_leaf': 10} because of the following error: The value nan is not acceptable.\n"
     ]
    },
    {
     "name": "stdout",
     "output_type": "stream",
     "text": [
      "Trial 79 failed with parameters: {'n_estimators': 106, 'learning_rate': 0.01976136033396897, 'max_depth': 8, 'min_samples_split': 6, 'min_samples_leaf': 10} because of the following error: The value nan is not acceptable.\n"
     ]
    },
    {
     "name": "stderr",
     "output_type": "stream",
     "text": [
      "[W 2024-07-02 11:46:01,443] Trial 79 failed with value nan.\n"
     ]
    },
    {
     "name": "stdout",
     "output_type": "stream",
     "text": [
      "Trial 79 failed with value nan.\n"
     ]
    },
    {
     "name": "stderr",
     "output_type": "stream",
     "text": [
      "[I 2024-07-02 11:49:38,712] Trial 80 finished with values: [1.894071337090869, 1.3779705238605393] and parameters: {'n_estimators': 200, 'learning_rate': 0.07574169579119203, 'max_depth': 8, 'min_samples_split': 3, 'min_samples_leaf': 3}. \n"
     ]
    },
    {
     "name": "stdout",
     "output_type": "stream",
     "text": [
      "Trial 80 finished with values: [1.894071337090869, 1.3779705238605393] and parameters: {'n_estimators': 200, 'learning_rate': 0.07574169579119203, 'max_depth': 8, 'min_samples_split': 3, 'min_samples_leaf': 3}. \n"
     ]
    },
    {
     "name": "stderr",
     "output_type": "stream",
     "text": [
      "[I 2024-07-02 11:53:54,982] Trial 81 finished with values: [2.524218226208715, 0.3144708675668346] and parameters: {'n_estimators': 237, 'learning_rate': 0.02807280586171291, 'max_depth': 8, 'min_samples_split': 4, 'min_samples_leaf': 6}. \n"
     ]
    },
    {
     "name": "stdout",
     "output_type": "stream",
     "text": [
      "Trial 81 finished with values: [2.524218226208715, 0.3144708675668346] and parameters: {'n_estimators': 237, 'learning_rate': 0.02807280586171291, 'max_depth': 8, 'min_samples_split': 4, 'min_samples_leaf': 6}. \n"
     ]
    },
    {
     "name": "stderr",
     "output_type": "stream",
     "text": [
      "[W 2024-07-02 11:53:55,025] Trial 82 failed with parameters: {'n_estimators': 177, 'learning_rate': 0.018610509253024623, 'max_depth': 5, 'min_samples_split': 7, 'min_samples_leaf': 6} because of the following error: The value nan is not acceptable.\n"
     ]
    },
    {
     "name": "stdout",
     "output_type": "stream",
     "text": [
      "Trial 82 failed with parameters: {'n_estimators': 177, 'learning_rate': 0.018610509253024623, 'max_depth': 5, 'min_samples_split': 7, 'min_samples_leaf': 6} because of the following error: The value nan is not acceptable.\n"
     ]
    },
    {
     "name": "stderr",
     "output_type": "stream",
     "text": [
      "[W 2024-07-02 11:53:55,029] Trial 82 failed with value nan.\n"
     ]
    },
    {
     "name": "stdout",
     "output_type": "stream",
     "text": [
      "Trial 82 failed with value nan.\n"
     ]
    },
    {
     "name": "stderr",
     "output_type": "stream",
     "text": [
      "[I 2024-07-02 11:56:06,700] Trial 83 finished with values: [3.4777575292229805, 0.21338132864208048] and parameters: {'n_estimators': 162, 'learning_rate': 0.03457633662413992, 'max_depth': 6, 'min_samples_split': 4, 'min_samples_leaf': 5}. \n"
     ]
    },
    {
     "name": "stdout",
     "output_type": "stream",
     "text": [
      "Trial 83 finished with values: [3.4777575292229805, 0.21338132864208048] and parameters: {'n_estimators': 162, 'learning_rate': 0.03457633662413992, 'max_depth': 6, 'min_samples_split': 4, 'min_samples_leaf': 5}. \n"
     ]
    },
    {
     "name": "stderr",
     "output_type": "stream",
     "text": [
      "[I 2024-07-02 11:58:36,185] Trial 84 finished with values: [2.535266913512135, 0.3112249420001536] and parameters: {'n_estimators': 111, 'learning_rate': 0.014228047112286573, 'max_depth': 10, 'min_samples_split': 4, 'min_samples_leaf': 7}. \n"
     ]
    },
    {
     "name": "stdout",
     "output_type": "stream",
     "text": [
      "Trial 84 finished with values: [2.535266913512135, 0.3112249420001536] and parameters: {'n_estimators': 111, 'learning_rate': 0.014228047112286573, 'max_depth': 10, 'min_samples_split': 4, 'min_samples_leaf': 7}. \n"
     ]
    },
    {
     "name": "stderr",
     "output_type": "stream",
     "text": [
      "[W 2024-07-02 11:58:36,232] Trial 85 failed with parameters: {'n_estimators': 71, 'learning_rate': 0.0659662107036751, 'max_depth': 6, 'min_samples_split': 10, 'min_samples_leaf': 10} because of the following error: The value nan is not acceptable.\n"
     ]
    },
    {
     "name": "stdout",
     "output_type": "stream",
     "text": [
      "Trial 85 failed with parameters: {'n_estimators': 71, 'learning_rate': 0.0659662107036751, 'max_depth': 6, 'min_samples_split': 10, 'min_samples_leaf': 10} because of the following error: The value nan is not acceptable.\n"
     ]
    },
    {
     "name": "stderr",
     "output_type": "stream",
     "text": [
      "[W 2024-07-02 11:58:36,234] Trial 85 failed with value nan.\n"
     ]
    },
    {
     "name": "stdout",
     "output_type": "stream",
     "text": [
      "Trial 85 failed with value nan.\n"
     ]
    },
    {
     "name": "stderr",
     "output_type": "stream",
     "text": [
      "[I 2024-07-02 12:02:01,423] Trial 86 finished with values: [1.9034488231024167, 0.5209341440410049] and parameters: {'n_estimators': 253, 'learning_rate': 0.08643429680917326, 'max_depth': 6, 'min_samples_split': 9, 'min_samples_leaf': 10}. \n"
     ]
    },
    {
     "name": "stdout",
     "output_type": "stream",
     "text": [
      "Trial 86 finished with values: [1.9034488231024167, 0.5209341440410049] and parameters: {'n_estimators': 253, 'learning_rate': 0.08643429680917326, 'max_depth': 6, 'min_samples_split': 9, 'min_samples_leaf': 10}. \n"
     ]
    },
    {
     "name": "stderr",
     "output_type": "stream",
     "text": [
      "[I 2024-07-02 12:06:43,107] Trial 87 finished with values: [2.4289585667442855, 0.5841059970600477] and parameters: {'n_estimators': 210, 'learning_rate': 0.043405347861781816, 'max_depth': 10, 'min_samples_split': 2, 'min_samples_leaf': 6}. \n"
     ]
    },
    {
     "name": "stdout",
     "output_type": "stream",
     "text": [
      "Trial 87 finished with values: [2.4289585667442855, 0.5841059970600477] and parameters: {'n_estimators': 210, 'learning_rate': 0.043405347861781816, 'max_depth': 10, 'min_samples_split': 2, 'min_samples_leaf': 6}. \n"
     ]
    },
    {
     "name": "stderr",
     "output_type": "stream",
     "text": [
      "[I 2024-07-02 12:08:46,487] Trial 88 finished with values: [2.3852479424817608, 0.1828267586311082] and parameters: {'n_estimators': 183, 'learning_rate': 0.05556481728861625, 'max_depth': 5, 'min_samples_split': 6, 'min_samples_leaf': 10}. \n"
     ]
    },
    {
     "name": "stdout",
     "output_type": "stream",
     "text": [
      "Trial 88 finished with values: [2.3852479424817608, 0.1828267586311082] and parameters: {'n_estimators': 183, 'learning_rate': 0.05556481728861625, 'max_depth': 5, 'min_samples_split': 6, 'min_samples_leaf': 10}. \n"
     ]
    },
    {
     "name": "stderr",
     "output_type": "stream",
     "text": [
      "[I 2024-07-02 12:10:49,001] Trial 89 finished with values: [2.8231377940254583, 0.05883823696468227] and parameters: {'n_estimators': 151, 'learning_rate': 0.0659662107036751, 'max_depth': 6, 'min_samples_split': 8, 'min_samples_leaf': 4}. \n"
     ]
    },
    {
     "name": "stdout",
     "output_type": "stream",
     "text": [
      "Trial 89 finished with values: [2.8231377940254583, 0.05883823696468227] and parameters: {'n_estimators': 151, 'learning_rate': 0.0659662107036751, 'max_depth': 6, 'min_samples_split': 8, 'min_samples_leaf': 4}. \n"
     ]
    },
    {
     "name": "stderr",
     "output_type": "stream",
     "text": [
      "[I 2024-07-02 12:12:54,217] Trial 90 finished with values: [3.073072979385423, 0.047893855952315545] and parameters: {'n_estimators': 133, 'learning_rate': 0.06827831757654225, 'max_depth': 7, 'min_samples_split': 3, 'min_samples_leaf': 7}. \n"
     ]
    },
    {
     "name": "stdout",
     "output_type": "stream",
     "text": [
      "Trial 90 finished with values: [3.073072979385423, 0.047893855952315545] and parameters: {'n_estimators': 133, 'learning_rate': 0.06827831757654225, 'max_depth': 7, 'min_samples_split': 3, 'min_samples_leaf': 7}. \n"
     ]
    },
    {
     "name": "stderr",
     "output_type": "stream",
     "text": [
      "[I 2024-07-02 12:14:36,355] Trial 91 finished with values: [1.920855748238815, 1.0091685684873046] and parameters: {'n_estimators': 95, 'learning_rate': 0.05006791714551251, 'max_depth': 8, 'min_samples_split': 2, 'min_samples_leaf': 3}. \n"
     ]
    },
    {
     "name": "stdout",
     "output_type": "stream",
     "text": [
      "Trial 91 finished with values: [1.920855748238815, 1.0091685684873046] and parameters: {'n_estimators': 95, 'learning_rate': 0.05006791714551251, 'max_depth': 8, 'min_samples_split': 2, 'min_samples_leaf': 3}. \n"
     ]
    },
    {
     "name": "stderr",
     "output_type": "stream",
     "text": [
      "[I 2024-07-02 12:15:44,131] Trial 92 finished with values: [3.0472359398825355, 0.005973487745317474] and parameters: {'n_estimators': 125, 'learning_rate': 0.09257255681800018, 'max_depth': 4, 'min_samples_split': 10, 'min_samples_leaf': 4}. \n"
     ]
    },
    {
     "name": "stdout",
     "output_type": "stream",
     "text": [
      "Trial 92 finished with values: [3.0472359398825355, 0.005973487745317474] and parameters: {'n_estimators': 125, 'learning_rate': 0.09257255681800018, 'max_depth': 4, 'min_samples_split': 10, 'min_samples_leaf': 4}. \n"
     ]
    },
    {
     "name": "stderr",
     "output_type": "stream",
     "text": [
      "[I 2024-07-02 12:16:33,001] Trial 93 finished with values: [3.500661044614448, 0.5661883205548444] and parameters: {'n_estimators': 90, 'learning_rate': 0.032641214956143805, 'max_depth': 4, 'min_samples_split': 5, 'min_samples_leaf': 4}. \n"
     ]
    },
    {
     "name": "stdout",
     "output_type": "stream",
     "text": [
      "Trial 93 finished with values: [3.500661044614448, 0.5661883205548444] and parameters: {'n_estimators': 90, 'learning_rate': 0.032641214956143805, 'max_depth': 4, 'min_samples_split': 5, 'min_samples_leaf': 4}. \n"
     ]
    },
    {
     "name": "stderr",
     "output_type": "stream",
     "text": [
      "[I 2024-07-02 12:17:55,767] Trial 94 finished with values: [3.0970830715257947, 0.014905862810489223] and parameters: {'n_estimators': 67, 'learning_rate': 0.02115684369239695, 'max_depth': 9, 'min_samples_split': 6, 'min_samples_leaf': 9}. \n"
     ]
    },
    {
     "name": "stdout",
     "output_type": "stream",
     "text": [
      "Trial 94 finished with values: [3.0970830715257947, 0.014905862810489223] and parameters: {'n_estimators': 67, 'learning_rate': 0.02115684369239695, 'max_depth': 9, 'min_samples_split': 6, 'min_samples_leaf': 9}. \n"
     ]
    },
    {
     "name": "stderr",
     "output_type": "stream",
     "text": [
      "[I 2024-07-02 12:22:21,471] Trial 95 finished with values: [1.9765187612113233, 1.1774767506871302] and parameters: {'n_estimators': 245, 'learning_rate': 0.04360807545845966, 'max_depth': 8, 'min_samples_split': 2, 'min_samples_leaf': 3}. \n"
     ]
    },
    {
     "name": "stdout",
     "output_type": "stream",
     "text": [
      "Trial 95 finished with values: [1.9765187612113233, 1.1774767506871302] and parameters: {'n_estimators': 245, 'learning_rate': 0.04360807545845966, 'max_depth': 8, 'min_samples_split': 2, 'min_samples_leaf': 3}. \n"
     ]
    },
    {
     "name": "stderr",
     "output_type": "stream",
     "text": [
      "[I 2024-07-02 12:26:56,416] Trial 96 finished with values: [1.875494046972475, 0.8599853956580552] and parameters: {'n_estimators': 254, 'learning_rate': 0.07368456074641667, 'max_depth': 8, 'min_samples_split': 2, 'min_samples_leaf': 8}. \n"
     ]
    },
    {
     "name": "stdout",
     "output_type": "stream",
     "text": [
      "Trial 96 finished with values: [1.875494046972475, 0.8599853956580552] and parameters: {'n_estimators': 254, 'learning_rate': 0.07368456074641667, 'max_depth': 8, 'min_samples_split': 2, 'min_samples_leaf': 8}. \n"
     ]
    },
    {
     "name": "stderr",
     "output_type": "stream",
     "text": [
      "[I 2024-07-02 12:28:41,464] Trial 97 finished with values: [3.099564749155962, 0.03517003812514208] and parameters: {'n_estimators': 110, 'learning_rate': 0.05359865324127422, 'max_depth': 7, 'min_samples_split': 9, 'min_samples_leaf': 6}. \n"
     ]
    },
    {
     "name": "stdout",
     "output_type": "stream",
     "text": [
      "Trial 97 finished with values: [3.099564749155962, 0.03517003812514208] and parameters: {'n_estimators': 110, 'learning_rate': 0.05359865324127422, 'max_depth': 7, 'min_samples_split': 9, 'min_samples_leaf': 6}. \n"
     ]
    },
    {
     "name": "stderr",
     "output_type": "stream",
     "text": [
      "[I 2024-07-02 12:30:48,257] Trial 98 finished with values: [1.5600509006409726, 1.4610183258857763] and parameters: {'n_estimators': 133, 'learning_rate': 0.08435618116224544, 'max_depth': 7, 'min_samples_split': 7, 'min_samples_leaf': 3}. \n"
     ]
    },
    {
     "name": "stdout",
     "output_type": "stream",
     "text": [
      "Trial 98 finished with values: [1.5600509006409726, 1.4610183258857763] and parameters: {'n_estimators': 133, 'learning_rate': 0.08435618116224544, 'max_depth': 7, 'min_samples_split': 7, 'min_samples_leaf': 3}. \n"
     ]
    },
    {
     "name": "stderr",
     "output_type": "stream",
     "text": [
      "[I 2024-07-02 12:35:16,615] Trial 99 finished with values: [0.7006751920889521, 8.321954955297457] and parameters: {'n_estimators': 286, 'learning_rate': 0.09257255681800018, 'max_depth': 7, 'min_samples_split': 3, 'min_samples_leaf': 1}. \n"
     ]
    },
    {
     "name": "stdout",
     "output_type": "stream",
     "text": [
      "Trial 99 finished with values: [0.7006751920889521, 8.321954955297457] and parameters: {'n_estimators': 286, 'learning_rate': 0.09257255681800018, 'max_depth': 7, 'min_samples_split': 3, 'min_samples_leaf': 1}. \n"
     ]
    },
    {
     "name": "stderr",
     "output_type": "stream",
     "text": [
      "[I 2024-07-02 12:38:20,157] Trial 100 finished with values: [2.3808712451197978, 0.3482640397380583] and parameters: {'n_estimators': 170, 'learning_rate': 0.0771192858585189, 'max_depth': 8, 'min_samples_split': 8, 'min_samples_leaf': 8}. \n"
     ]
    },
    {
     "name": "stdout",
     "output_type": "stream",
     "text": [
      "Trial 100 finished with values: [2.3808712451197978, 0.3482640397380583] and parameters: {'n_estimators': 170, 'learning_rate': 0.0771192858585189, 'max_depth': 8, 'min_samples_split': 8, 'min_samples_leaf': 8}. \n"
     ]
    },
    {
     "name": "stderr",
     "output_type": "stream",
     "text": [
      "[I 2024-07-02 12:39:49,911] Trial 101 finished with values: [3.357533654087623, 0.5742286923046216] and parameters: {'n_estimators': 220, 'learning_rate': 0.026545627362991216, 'max_depth': 3, 'min_samples_split': 6, 'min_samples_leaf': 9}. \n"
     ]
    },
    {
     "name": "stdout",
     "output_type": "stream",
     "text": [
      "Trial 101 finished with values: [3.357533654087623, 0.5742286923046216] and parameters: {'n_estimators': 220, 'learning_rate': 0.026545627362991216, 'max_depth': 3, 'min_samples_split': 6, 'min_samples_leaf': 9}. \n"
     ]
    },
    {
     "name": "stderr",
     "output_type": "stream",
     "text": [
      "[I 2024-07-02 12:42:18,474] Trial 102 finished with values: [3.4525685014483476, 0.5319807872947884] and parameters: {'n_estimators': 220, 'learning_rate': 0.016693899250040754, 'max_depth': 5, 'min_samples_split': 4, 'min_samples_leaf': 8}. \n"
     ]
    },
    {
     "name": "stdout",
     "output_type": "stream",
     "text": [
      "Trial 102 finished with values: [3.4525685014483476, 0.5319807872947884] and parameters: {'n_estimators': 220, 'learning_rate': 0.016693899250040754, 'max_depth': 5, 'min_samples_split': 4, 'min_samples_leaf': 8}. \n"
     ]
    },
    {
     "name": "stderr",
     "output_type": "stream",
     "text": [
      "[I 2024-07-02 12:45:36,146] Trial 103 finished with values: [2.3932409094078917, 0.6406767332295544] and parameters: {'n_estimators': 162, 'learning_rate': 0.032641214956143805, 'max_depth': 9, 'min_samples_split': 5, 'min_samples_leaf': 5}. \n"
     ]
    },
    {
     "name": "stdout",
     "output_type": "stream",
     "text": [
      "Trial 103 finished with values: [2.3932409094078917, 0.6406767332295544] and parameters: {'n_estimators': 162, 'learning_rate': 0.032641214956143805, 'max_depth': 9, 'min_samples_split': 5, 'min_samples_leaf': 5}. \n"
     ]
    },
    {
     "name": "stderr",
     "output_type": "stream",
     "text": [
      "[I 2024-07-02 12:48:26,095] Trial 104 finished with values: [2.1741211607440496, 0.6161529126813448] and parameters: {'n_estimators': 126, 'learning_rate': 0.0897010317075779, 'max_depth': 10, 'min_samples_split': 9, 'min_samples_leaf': 10}. \n"
     ]
    },
    {
     "name": "stdout",
     "output_type": "stream",
     "text": [
      "Trial 104 finished with values: [2.1741211607440496, 0.6161529126813448] and parameters: {'n_estimators': 126, 'learning_rate': 0.0897010317075779, 'max_depth': 10, 'min_samples_split': 9, 'min_samples_leaf': 10}. \n"
     ]
    },
    {
     "name": "stderr",
     "output_type": "stream",
     "text": [
      "[I 2024-07-02 12:54:26,147] Trial 105 finished with values: [2.06821358957338, 1.273481719480594] and parameters: {'n_estimators': 268, 'learning_rate': 0.09072048307888614, 'max_depth': 10, 'min_samples_split': 10, 'min_samples_leaf': 5}. \n"
     ]
    },
    {
     "name": "stdout",
     "output_type": "stream",
     "text": [
      "Trial 105 finished with values: [2.06821358957338, 1.273481719480594] and parameters: {'n_estimators': 268, 'learning_rate': 0.09072048307888614, 'max_depth': 10, 'min_samples_split': 10, 'min_samples_leaf': 5}. \n"
     ]
    },
    {
     "name": "stderr",
     "output_type": "stream",
     "text": [
      "/opt/conda/lib/python3.10/site-packages/numpy/core/fromnumeric.py:59: FutureWarning: 'DataFrame.swapaxes' is deprecated and will be removed in a future version. Please use 'DataFrame.transpose' instead.\n",
      "  return bound(*args, **kwds)\n",
      "[I 2024-07-02 12:56:25,549] A new study created in memory with name: no-name-f91fcd6c-79b6-444d-a0f0-8c0b17ae6b17\n"
     ]
    },
    {
     "name": "stdout",
     "output_type": "stream",
     "text": [
      "A new study created in memory with name: no-name-f91fcd6c-79b6-444d-a0f0-8c0b17ae6b17\n"
     ]
    },
    {
     "name": "stderr",
     "output_type": "stream",
     "text": [
      "[I 2024-07-02 12:58:57,595] Trial 0 finished with values: [0.17583392030778186, 3.936466073444537] and parameters: {'n_estimators': 291, 'learning_rate': 0.013840455108373334, 'max_depth': 4, 'min_samples_split': 5, 'min_samples_leaf': 4}. \n"
     ]
    },
    {
     "name": "stdout",
     "output_type": "stream",
     "text": [
      "Trial 0 finished with values: [0.17583392030778186, 3.936466073444537] and parameters: {'n_estimators': 291, 'learning_rate': 0.013840455108373334, 'max_depth': 4, 'min_samples_split': 5, 'min_samples_leaf': 4}. \n"
     ]
    },
    {
     "name": "stderr",
     "output_type": "stream",
     "text": [
      "[I 2024-07-02 13:00:42,490] Trial 1 finished with values: [-0.27486436504026723, 6.451759966298147] and parameters: {'n_estimators': 115, 'learning_rate': 0.058703850137011696, 'max_depth': 7, 'min_samples_split': 2, 'min_samples_leaf': 8}. \n"
     ]
    },
    {
     "name": "stdout",
     "output_type": "stream",
     "text": [
      "Trial 1 finished with values: [-0.27486436504026723, 6.451759966298147] and parameters: {'n_estimators': 115, 'learning_rate': 0.058703850137011696, 'max_depth': 7, 'min_samples_split': 2, 'min_samples_leaf': 8}. \n"
     ]
    },
    {
     "name": "stderr",
     "output_type": "stream",
     "text": [
      "[I 2024-07-02 13:03:44,554] Trial 2 finished with values: [0.8798254687984526, 3.6635455887454453] and parameters: {'n_estimators': 279, 'learning_rate': 0.0316751948283739, 'max_depth': 5, 'min_samples_split': 7, 'min_samples_leaf': 1}. \n"
     ]
    },
    {
     "name": "stdout",
     "output_type": "stream",
     "text": [
      "Trial 2 finished with values: [0.8798254687984526, 3.6635455887454453] and parameters: {'n_estimators': 279, 'learning_rate': 0.0316751948283739, 'max_depth': 5, 'min_samples_split': 7, 'min_samples_leaf': 1}. \n"
     ]
    },
    {
     "name": "stderr",
     "output_type": "stream",
     "text": [
      "[I 2024-07-02 13:05:25,570] Trial 3 finished with values: [-0.9860437263658898, 1.816988214928759] and parameters: {'n_estimators': 97, 'learning_rate': 0.03862538068465303, 'max_depth': 8, 'min_samples_split': 4, 'min_samples_leaf': 3}. \n"
     ]
    },
    {
     "name": "stdout",
     "output_type": "stream",
     "text": [
      "Trial 3 finished with values: [-0.9860437263658898, 1.816988214928759] and parameters: {'n_estimators': 97, 'learning_rate': 0.03862538068465303, 'max_depth': 8, 'min_samples_split': 4, 'min_samples_leaf': 3}. \n"
     ]
    },
    {
     "name": "stderr",
     "output_type": "stream",
     "text": [
      "[I 2024-07-02 13:08:35,322] Trial 4 finished with values: [-0.2736143462423785, 6.6146572995873365] and parameters: {'n_estimators': 182, 'learning_rate': 0.04837256569816015, 'max_depth': 8, 'min_samples_split': 4, 'min_samples_leaf': 9}. \n"
     ]
    },
    {
     "name": "stdout",
     "output_type": "stream",
     "text": [
      "Trial 4 finished with values: [-0.2736143462423785, 6.6146572995873365] and parameters: {'n_estimators': 182, 'learning_rate': 0.04837256569816015, 'max_depth': 8, 'min_samples_split': 4, 'min_samples_leaf': 9}. \n"
     ]
    },
    {
     "name": "stderr",
     "output_type": "stream",
     "text": [
      "[I 2024-07-02 13:10:51,793] Trial 5 finished with values: [-0.4551913985580098, 2.6464838503609314] and parameters: {'n_estimators': 260, 'learning_rate': 0.04962270112524092, 'max_depth': 4, 'min_samples_split': 5, 'min_samples_leaf': 4}. \n"
     ]
    },
    {
     "name": "stdout",
     "output_type": "stream",
     "text": [
      "Trial 5 finished with values: [-0.4551913985580098, 2.6464838503609314] and parameters: {'n_estimators': 260, 'learning_rate': 0.04962270112524092, 'max_depth': 4, 'min_samples_split': 5, 'min_samples_leaf': 4}. \n"
     ]
    },
    {
     "name": "stderr",
     "output_type": "stream",
     "text": [
      "[I 2024-07-02 13:12:10,919] Trial 6 finished with values: [0.2609972278004103, 2.558221343548303] and parameters: {'n_estimators': 201, 'learning_rate': 0.06503582464971935, 'max_depth': 3, 'min_samples_split': 4, 'min_samples_leaf': 6}. \n"
     ]
    },
    {
     "name": "stdout",
     "output_type": "stream",
     "text": [
      "Trial 6 finished with values: [0.2609972278004103, 2.558221343548303] and parameters: {'n_estimators': 201, 'learning_rate': 0.06503582464971935, 'max_depth': 3, 'min_samples_split': 4, 'min_samples_leaf': 6}. \n"
     ]
    },
    {
     "name": "stderr",
     "output_type": "stream",
     "text": [
      "[I 2024-07-02 13:14:31,408] Trial 7 finished with values: [0.2708987215624063, 9.65815288817191] and parameters: {'n_estimators': 135, 'learning_rate': 0.07349271981211901, 'max_depth': 8, 'min_samples_split': 3, 'min_samples_leaf': 5}. \n"
     ]
    },
    {
     "name": "stdout",
     "output_type": "stream",
     "text": [
      "Trial 7 finished with values: [0.2708987215624063, 9.65815288817191] and parameters: {'n_estimators': 135, 'learning_rate': 0.07349271981211901, 'max_depth': 8, 'min_samples_split': 3, 'min_samples_leaf': 5}. \n"
     ]
    },
    {
     "name": "stderr",
     "output_type": "stream",
     "text": [
      "[I 2024-07-02 13:20:42,150] Trial 8 finished with values: [0.5399681866739013, 6.834156141496109] and parameters: {'n_estimators': 284, 'learning_rate': 0.03272286803015645, 'max_depth': 10, 'min_samples_split': 4, 'min_samples_leaf': 4}. \n"
     ]
    },
    {
     "name": "stdout",
     "output_type": "stream",
     "text": [
      "Trial 8 finished with values: [0.5399681866739013, 6.834156141496109] and parameters: {'n_estimators': 284, 'learning_rate': 0.03272286803015645, 'max_depth': 10, 'min_samples_split': 4, 'min_samples_leaf': 4}. \n"
     ]
    },
    {
     "name": "stderr",
     "output_type": "stream",
     "text": [
      "[I 2024-07-02 13:24:22,152] Trial 9 finished with values: [-1.0641222591214186, 1.3436091802406072] and parameters: {'n_estimators': 211, 'learning_rate': 0.08162476018542492, 'max_depth': 8, 'min_samples_split': 5, 'min_samples_leaf': 10}. \n"
     ]
    },
    {
     "name": "stdout",
     "output_type": "stream",
     "text": [
      "Trial 9 finished with values: [-1.0641222591214186, 1.3436091802406072] and parameters: {'n_estimators': 211, 'learning_rate': 0.08162476018542492, 'max_depth': 8, 'min_samples_split': 5, 'min_samples_leaf': 10}. \n"
     ]
    },
    {
     "name": "stderr",
     "output_type": "stream",
     "text": [
      "[I 2024-07-02 13:25:02,560] Trial 10 finished with values: [0.21190801577141988, 5.509598289474645] and parameters: {'n_estimators': 77, 'learning_rate': 0.07159458018934321, 'max_depth': 4, 'min_samples_split': 7, 'min_samples_leaf': 3}. \n"
     ]
    },
    {
     "name": "stdout",
     "output_type": "stream",
     "text": [
      "Trial 10 finished with values: [0.21190801577141988, 5.509598289474645] and parameters: {'n_estimators': 77, 'learning_rate': 0.07159458018934321, 'max_depth': 4, 'min_samples_split': 7, 'min_samples_leaf': 3}. \n"
     ]
    },
    {
     "name": "stderr",
     "output_type": "stream",
     "text": [
      "[I 2024-07-02 13:28:13,834] Trial 11 finished with values: [0.8762646984328495, 2.6813486171108356] and parameters: {'n_estimators': 147, 'learning_rate': 0.03728220413521061, 'max_depth': 10, 'min_samples_split': 8, 'min_samples_leaf': 5}. \n"
     ]
    },
    {
     "name": "stdout",
     "output_type": "stream",
     "text": [
      "Trial 11 finished with values: [0.8762646984328495, 2.6813486171108356] and parameters: {'n_estimators': 147, 'learning_rate': 0.03728220413521061, 'max_depth': 10, 'min_samples_split': 8, 'min_samples_leaf': 5}. \n"
     ]
    },
    {
     "name": "stderr",
     "output_type": "stream",
     "text": [
      "[I 2024-07-02 13:31:45,659] Trial 12 finished with values: [-1.2660405743436487, 0.6303617997673749] and parameters: {'n_estimators': 277, 'learning_rate': 0.06118863292880984, 'max_depth': 6, 'min_samples_split': 6, 'min_samples_leaf': 8}. \n"
     ]
    },
    {
     "name": "stdout",
     "output_type": "stream",
     "text": [
      "Trial 12 finished with values: [-1.2660405743436487, 0.6303617997673749] and parameters: {'n_estimators': 277, 'learning_rate': 0.06118863292880984, 'max_depth': 6, 'min_samples_split': 6, 'min_samples_leaf': 8}. \n"
     ]
    },
    {
     "name": "stderr",
     "output_type": "stream",
     "text": [
      "[I 2024-07-02 13:32:58,293] Trial 13 finished with values: [-0.30655808103668336, 3.891532727268631] and parameters: {'n_estimators': 145, 'learning_rate': 0.08450440194718761, 'max_depth': 4, 'min_samples_split': 6, 'min_samples_leaf': 5}. \n"
     ]
    },
    {
     "name": "stdout",
     "output_type": "stream",
     "text": [
      "Trial 13 finished with values: [-0.30655808103668336, 3.891532727268631] and parameters: {'n_estimators': 145, 'learning_rate': 0.08450440194718761, 'max_depth': 4, 'min_samples_split': 6, 'min_samples_leaf': 5}. \n"
     ]
    },
    {
     "name": "stderr",
     "output_type": "stream",
     "text": [
      "[I 2024-07-02 13:37:04,005] Trial 14 finished with values: [0.4747751154622355, 3.6702019998687083] and parameters: {'n_estimators': 281, 'learning_rate': 0.011101630507322711, 'max_depth': 7, 'min_samples_split': 4, 'min_samples_leaf': 5}. \n"
     ]
    },
    {
     "name": "stdout",
     "output_type": "stream",
     "text": [
      "Trial 14 finished with values: [0.4747751154622355, 3.6702019998687083] and parameters: {'n_estimators': 281, 'learning_rate': 0.011101630507322711, 'max_depth': 7, 'min_samples_split': 4, 'min_samples_leaf': 5}. \n"
     ]
    },
    {
     "name": "stderr",
     "output_type": "stream",
     "text": [
      "[I 2024-07-02 13:38:33,655] Trial 15 finished with values: [0.7017952106681612, 4.259092809576361] and parameters: {'n_estimators': 72, 'learning_rate': 0.06486859724985619, 'max_depth': 10, 'min_samples_split': 9, 'min_samples_leaf': 2}. \n"
     ]
    },
    {
     "name": "stdout",
     "output_type": "stream",
     "text": [
      "Trial 15 finished with values: [0.7017952106681612, 4.259092809576361] and parameters: {'n_estimators': 72, 'learning_rate': 0.06486859724985619, 'max_depth': 10, 'min_samples_split': 9, 'min_samples_leaf': 2}. \n"
     ]
    },
    {
     "name": "stderr",
     "output_type": "stream",
     "text": [
      "[I 2024-07-02 13:41:21,437] Trial 16 finished with values: [1.1326172096805418, 3.7547848188943442] and parameters: {'n_estimators': 194, 'learning_rate': 0.05906982967806196, 'max_depth': 7, 'min_samples_split': 10, 'min_samples_leaf': 1}. \n"
     ]
    },
    {
     "name": "stdout",
     "output_type": "stream",
     "text": [
      "Trial 16 finished with values: [1.1326172096805418, 3.7547848188943442] and parameters: {'n_estimators': 194, 'learning_rate': 0.05906982967806196, 'max_depth': 7, 'min_samples_split': 10, 'min_samples_leaf': 1}. \n"
     ]
    },
    {
     "name": "stderr",
     "output_type": "stream",
     "text": [
      "[I 2024-07-02 13:41:51,937] Trial 17 finished with values: [0.4333465989290173, 1.1937307874945748] and parameters: {'n_estimators': 60, 'learning_rate': 0.09874025472739986, 'max_depth': 4, 'min_samples_split': 5, 'min_samples_leaf': 8}. \n"
     ]
    },
    {
     "name": "stdout",
     "output_type": "stream",
     "text": [
      "Trial 17 finished with values: [0.4333465989290173, 1.1937307874945748] and parameters: {'n_estimators': 60, 'learning_rate': 0.09874025472739986, 'max_depth': 4, 'min_samples_split': 5, 'min_samples_leaf': 8}. \n"
     ]
    },
    {
     "name": "stderr",
     "output_type": "stream",
     "text": [
      "[I 2024-07-02 13:43:55,594] Trial 18 finished with values: [-1.280604946317588, 0.623780698597975] and parameters: {'n_estimators': 141, 'learning_rate': 0.0622745675562705, 'max_depth': 7, 'min_samples_split': 4, 'min_samples_leaf': 7}. \n"
     ]
    },
    {
     "name": "stdout",
     "output_type": "stream",
     "text": [
      "Trial 18 finished with values: [-1.280604946317588, 0.623780698597975] and parameters: {'n_estimators': 141, 'learning_rate': 0.0622745675562705, 'max_depth': 7, 'min_samples_split': 4, 'min_samples_leaf': 7}. \n"
     ]
    },
    {
     "name": "stderr",
     "output_type": "stream",
     "text": [
      "[I 2024-07-02 13:46:38,029] Trial 19 finished with values: [0.40147745281595554, 3.9849551367427845] and parameters: {'n_estimators': 186, 'learning_rate': 0.02031909515257124, 'max_depth': 7, 'min_samples_split': 3, 'min_samples_leaf': 7}. \n"
     ]
    },
    {
     "name": "stdout",
     "output_type": "stream",
     "text": [
      "Trial 19 finished with values: [0.40147745281595554, 3.9849551367427845] and parameters: {'n_estimators': 186, 'learning_rate': 0.02031909515257124, 'max_depth': 7, 'min_samples_split': 3, 'min_samples_leaf': 7}. \n"
     ]
    },
    {
     "name": "stderr",
     "output_type": "stream",
     "text": [
      "[I 2024-07-02 13:48:13,041] Trial 20 finished with values: [-0.370451054585763, 2.696523093674533] and parameters: {'n_estimators': 152, 'learning_rate': 0.04856550603725319, 'max_depth': 5, 'min_samples_split': 8, 'min_samples_leaf': 8}. \n"
     ]
    },
    {
     "name": "stdout",
     "output_type": "stream",
     "text": [
      "Trial 20 finished with values: [-0.370451054585763, 2.696523093674533] and parameters: {'n_estimators': 152, 'learning_rate': 0.04856550603725319, 'max_depth': 5, 'min_samples_split': 8, 'min_samples_leaf': 8}. \n"
     ]
    },
    {
     "name": "stderr",
     "output_type": "stream",
     "text": [
      "[I 2024-07-02 13:49:31,606] Trial 21 finished with values: [1.09742126877616, 2.1309774696634642] and parameters: {'n_estimators': 63, 'learning_rate': 0.02011145907069486, 'max_depth': 10, 'min_samples_split': 10, 'min_samples_leaf': 1}. \n"
     ]
    },
    {
     "name": "stdout",
     "output_type": "stream",
     "text": [
      "Trial 21 finished with values: [1.09742126877616, 2.1309774696634642] and parameters: {'n_estimators': 63, 'learning_rate': 0.02011145907069486, 'max_depth': 10, 'min_samples_split': 10, 'min_samples_leaf': 1}. \n"
     ]
    },
    {
     "name": "stderr",
     "output_type": "stream",
     "text": [
      "[I 2024-07-02 13:53:17,988] Trial 22 finished with values: [0.508395856000561, 3.6478100311522983] and parameters: {'n_estimators': 226, 'learning_rate': 0.02188511974282227, 'max_depth': 8, 'min_samples_split': 9, 'min_samples_leaf': 6}. \n"
     ]
    },
    {
     "name": "stdout",
     "output_type": "stream",
     "text": [
      "Trial 22 finished with values: [0.508395856000561, 3.6478100311522983] and parameters: {'n_estimators': 226, 'learning_rate': 0.02188511974282227, 'max_depth': 8, 'min_samples_split': 9, 'min_samples_leaf': 6}. \n"
     ]
    },
    {
     "name": "stderr",
     "output_type": "stream",
     "text": [
      "[I 2024-07-02 13:53:47,912] Trial 23 finished with values: [0.1309528321110757, 6.77452767183808] and parameters: {'n_estimators': 79, 'learning_rate': 0.012465907359466295, 'max_depth': 3, 'min_samples_split': 4, 'min_samples_leaf': 8}. \n"
     ]
    },
    {
     "name": "stdout",
     "output_type": "stream",
     "text": [
      "Trial 23 finished with values: [0.1309528321110757, 6.77452767183808] and parameters: {'n_estimators': 79, 'learning_rate': 0.012465907359466295, 'max_depth': 3, 'min_samples_split': 4, 'min_samples_leaf': 8}. \n"
     ]
    },
    {
     "name": "stderr",
     "output_type": "stream",
     "text": [
      "[I 2024-07-02 13:55:04,055] Trial 24 finished with values: [0.4157111791128674, 1.2324546130419765] and parameters: {'n_estimators': 202, 'learning_rate': 0.022577876138649554, 'max_depth': 3, 'min_samples_split': 3, 'min_samples_leaf': 8}. \n"
     ]
    },
    {
     "name": "stdout",
     "output_type": "stream",
     "text": [
      "Trial 24 finished with values: [0.4157111791128674, 1.2324546130419765] and parameters: {'n_estimators': 202, 'learning_rate': 0.022577876138649554, 'max_depth': 3, 'min_samples_split': 3, 'min_samples_leaf': 8}. \n"
     ]
    },
    {
     "name": "stderr",
     "output_type": "stream",
     "text": [
      "[I 2024-07-02 13:56:35,543] Trial 25 finished with values: [0.964229248680625, 1.2098259380193221] and parameters: {'n_estimators': 122, 'learning_rate': 0.039727032768430204, 'max_depth': 6, 'min_samples_split': 7, 'min_samples_leaf': 5}. \n"
     ]
    },
    {
     "name": "stdout",
     "output_type": "stream",
     "text": [
      "Trial 25 finished with values: [0.964229248680625, 1.2098259380193221] and parameters: {'n_estimators': 122, 'learning_rate': 0.039727032768430204, 'max_depth': 6, 'min_samples_split': 7, 'min_samples_leaf': 5}. \n"
     ]
    },
    {
     "name": "stderr",
     "output_type": "stream",
     "text": [
      "[I 2024-07-02 13:58:00,250] Trial 26 finished with values: [0.16506120726300783, 5.268016471189915] and parameters: {'n_estimators': 223, 'learning_rate': 0.019463257998718446, 'max_depth': 3, 'min_samples_split': 10, 'min_samples_leaf': 3}. \n"
     ]
    },
    {
     "name": "stdout",
     "output_type": "stream",
     "text": [
      "Trial 26 finished with values: [0.16506120726300783, 5.268016471189915] and parameters: {'n_estimators': 223, 'learning_rate': 0.019463257998718446, 'max_depth': 3, 'min_samples_split': 10, 'min_samples_leaf': 3}. \n"
     ]
    },
    {
     "name": "stderr",
     "output_type": "stream",
     "text": [
      "[I 2024-07-02 13:58:57,914] Trial 27 finished with values: [0.8121658806348119, 0.9802246673755195] and parameters: {'n_estimators': 153, 'learning_rate': 0.05693218257351024, 'max_depth': 3, 'min_samples_split': 6, 'min_samples_leaf': 3}. \n"
     ]
    },
    {
     "name": "stdout",
     "output_type": "stream",
     "text": [
      "Trial 27 finished with values: [0.8121658806348119, 0.9802246673755195] and parameters: {'n_estimators': 153, 'learning_rate': 0.05693218257351024, 'max_depth': 3, 'min_samples_split': 6, 'min_samples_leaf': 3}. \n"
     ]
    },
    {
     "name": "stderr",
     "output_type": "stream",
     "text": [
      "[I 2024-07-02 14:04:05,249] Trial 28 finished with values: [0.3416984152874928, 16.279293661976837] and parameters: {'n_estimators': 278, 'learning_rate': 0.03988419339560214, 'max_depth': 9, 'min_samples_split': 8, 'min_samples_leaf': 1}. \n"
     ]
    },
    {
     "name": "stdout",
     "output_type": "stream",
     "text": [
      "Trial 28 finished with values: [0.3416984152874928, 16.279293661976837] and parameters: {'n_estimators': 278, 'learning_rate': 0.03988419339560214, 'max_depth': 9, 'min_samples_split': 8, 'min_samples_leaf': 1}. \n"
     ]
    },
    {
     "name": "stderr",
     "output_type": "stream",
     "text": [
      "[I 2024-07-02 14:07:12,386] Trial 29 finished with values: [-0.3523600674377746, 4.6612534363475175] and parameters: {'n_estimators': 249, 'learning_rate': 0.044450403718641555, 'max_depth': 6, 'min_samples_split': 2, 'min_samples_leaf': 9}. \n"
     ]
    },
    {
     "name": "stdout",
     "output_type": "stream",
     "text": [
      "Trial 29 finished with values: [-0.3523600674377746, 4.6612534363475175] and parameters: {'n_estimators': 249, 'learning_rate': 0.044450403718641555, 'max_depth': 6, 'min_samples_split': 2, 'min_samples_leaf': 9}. \n"
     ]
    },
    {
     "name": "stderr",
     "output_type": "stream",
     "text": [
      "[I 2024-07-02 14:08:54,058] Trial 30 finished with values: [-0.02871893276729069, 30.403586491840837] and parameters: {'n_estimators': 203, 'learning_rate': 0.025911650610465894, 'max_depth': 4, 'min_samples_split': 8, 'min_samples_leaf': 10}. \n"
     ]
    },
    {
     "name": "stdout",
     "output_type": "stream",
     "text": [
      "Trial 30 finished with values: [-0.02871893276729069, 30.403586491840837] and parameters: {'n_estimators': 203, 'learning_rate': 0.025911650610465894, 'max_depth': 4, 'min_samples_split': 8, 'min_samples_leaf': 10}. \n"
     ]
    },
    {
     "name": "stderr",
     "output_type": "stream",
     "text": [
      "[I 2024-07-02 14:13:58,602] Trial 31 finished with values: [0.17773397010709766, 13.523725398349162] and parameters: {'n_estimators': 271, 'learning_rate': 0.0374924068254642, 'max_depth': 9, 'min_samples_split': 8, 'min_samples_leaf': 7}. \n"
     ]
    },
    {
     "name": "stdout",
     "output_type": "stream",
     "text": [
      "Trial 31 finished with values: [0.17773397010709766, 13.523725398349162] and parameters: {'n_estimators': 271, 'learning_rate': 0.0374924068254642, 'max_depth': 9, 'min_samples_split': 8, 'min_samples_leaf': 7}. \n"
     ]
    },
    {
     "name": "stderr",
     "output_type": "stream",
     "text": [
      "[I 2024-07-02 14:15:19,839] Trial 32 finished with values: [-0.6288906388836714, 2.9604235883155288] and parameters: {'n_estimators': 81, 'learning_rate': 0.010659797975691386, 'max_depth': 8, 'min_samples_split': 3, 'min_samples_leaf': 9}. \n"
     ]
    },
    {
     "name": "stdout",
     "output_type": "stream",
     "text": [
      "Trial 32 finished with values: [-0.6288906388836714, 2.9604235883155288] and parameters: {'n_estimators': 81, 'learning_rate': 0.010659797975691386, 'max_depth': 8, 'min_samples_split': 3, 'min_samples_leaf': 9}. \n"
     ]
    },
    {
     "name": "stderr",
     "output_type": "stream",
     "text": [
      "[I 2024-07-02 14:17:35,896] Trial 33 finished with values: [0.49463407650758634, 6.13120531102485] and parameters: {'n_estimators': 109, 'learning_rate': 0.06753797375708646, 'max_depth': 10, 'min_samples_split': 8, 'min_samples_leaf': 5}. \n"
     ]
    },
    {
     "name": "stdout",
     "output_type": "stream",
     "text": [
      "Trial 33 finished with values: [0.49463407650758634, 6.13120531102485] and parameters: {'n_estimators': 109, 'learning_rate': 0.06753797375708646, 'max_depth': 10, 'min_samples_split': 8, 'min_samples_leaf': 5}. \n"
     ]
    },
    {
     "name": "stderr",
     "output_type": "stream",
     "text": [
      "[I 2024-07-02 14:22:34,100] Trial 34 finished with values: [0.25246512089176265, 18.10157919811631] and parameters: {'n_estimators': 266, 'learning_rate': 0.04785075549577343, 'max_depth': 9, 'min_samples_split': 9, 'min_samples_leaf': 3}. \n"
     ]
    },
    {
     "name": "stdout",
     "output_type": "stream",
     "text": [
      "Trial 34 finished with values: [0.25246512089176265, 18.10157919811631] and parameters: {'n_estimators': 266, 'learning_rate': 0.04785075549577343, 'max_depth': 9, 'min_samples_split': 9, 'min_samples_leaf': 3}. \n"
     ]
    },
    {
     "name": "stderr",
     "output_type": "stream",
     "text": [
      "[I 2024-07-02 14:24:30,517] Trial 35 finished with values: [0.5466680579856656, 2.645441808713633] and parameters: {'n_estimators': 232, 'learning_rate': 0.08038791851555924, 'max_depth': 4, 'min_samples_split': 6, 'min_samples_leaf': 5}. \n"
     ]
    },
    {
     "name": "stdout",
     "output_type": "stream",
     "text": [
      "Trial 35 finished with values: [0.5466680579856656, 2.645441808713633] and parameters: {'n_estimators': 232, 'learning_rate': 0.08038791851555924, 'max_depth': 4, 'min_samples_split': 6, 'min_samples_leaf': 5}. \n"
     ]
    },
    {
     "name": "stderr",
     "output_type": "stream",
     "text": [
      "[I 2024-07-02 14:26:24,443] Trial 36 finished with values: [0.8035184778517898, 2.275139409717318] and parameters: {'n_estimators': 101, 'learning_rate': 0.04864106668501936, 'max_depth': 9, 'min_samples_split': 2, 'min_samples_leaf': 6}. \n"
     ]
    },
    {
     "name": "stdout",
     "output_type": "stream",
     "text": [
      "Trial 36 finished with values: [0.8035184778517898, 2.275139409717318] and parameters: {'n_estimators': 101, 'learning_rate': 0.04864106668501936, 'max_depth': 9, 'min_samples_split': 2, 'min_samples_leaf': 6}. \n"
     ]
    },
    {
     "name": "stderr",
     "output_type": "stream",
     "text": [
      "[I 2024-07-02 14:28:08,892] Trial 37 finished with values: [-0.5366057463293117, 2.8771429135153057] and parameters: {'n_estimators': 139, 'learning_rate': 0.052980074951641414, 'max_depth': 6, 'min_samples_split': 4, 'min_samples_leaf': 8}. \n"
     ]
    },
    {
     "name": "stdout",
     "output_type": "stream",
     "text": [
      "Trial 37 finished with values: [-0.5366057463293117, 2.8771429135153057] and parameters: {'n_estimators': 139, 'learning_rate': 0.052980074951641414, 'max_depth': 6, 'min_samples_split': 4, 'min_samples_leaf': 8}. \n"
     ]
    },
    {
     "name": "stderr",
     "output_type": "stream",
     "text": [
      "[I 2024-07-02 14:28:57,737] Trial 38 finished with values: [0.6974185457991632, 2.546363340036493] and parameters: {'n_estimators': 65, 'learning_rate': 0.04322175160731627, 'max_depth': 6, 'min_samples_split': 10, 'min_samples_leaf': 1}. \n"
     ]
    },
    {
     "name": "stdout",
     "output_type": "stream",
     "text": [
      "Trial 38 finished with values: [0.6974185457991632, 2.546363340036493] and parameters: {'n_estimators': 65, 'learning_rate': 0.04322175160731627, 'max_depth': 6, 'min_samples_split': 10, 'min_samples_leaf': 1}. \n"
     ]
    },
    {
     "name": "stderr",
     "output_type": "stream",
     "text": [
      "[I 2024-07-02 14:31:06,183] Trial 39 finished with values: [0.2079761384208333, 9.303796629108522] and parameters: {'n_estimators': 256, 'learning_rate': 0.0927984582004591, 'max_depth': 4, 'min_samples_split': 6, 'min_samples_leaf': 4}. \n"
     ]
    },
    {
     "name": "stdout",
     "output_type": "stream",
     "text": [
      "Trial 39 finished with values: [0.2079761384208333, 9.303796629108522] and parameters: {'n_estimators': 256, 'learning_rate': 0.0927984582004591, 'max_depth': 4, 'min_samples_split': 6, 'min_samples_leaf': 4}. \n"
     ]
    },
    {
     "name": "stderr",
     "output_type": "stream",
     "text": [
      "[I 2024-07-02 14:31:52,948] Trial 40 finished with values: [-0.4775263513769258, 1.9112374403651442] and parameters: {'n_estimators': 93, 'learning_rate': 0.0757135574315391, 'max_depth': 4, 'min_samples_split': 7, 'min_samples_leaf': 4}. \n"
     ]
    },
    {
     "name": "stdout",
     "output_type": "stream",
     "text": [
      "Trial 40 finished with values: [-0.4775263513769258, 1.9112374403651442] and parameters: {'n_estimators': 93, 'learning_rate': 0.0757135574315391, 'max_depth': 4, 'min_samples_split': 7, 'min_samples_leaf': 4}. \n"
     ]
    },
    {
     "name": "stderr",
     "output_type": "stream",
     "text": [
      "[I 2024-07-02 14:34:36,945] Trial 41 finished with values: [0.38364388322385856, 7.675257038602444] and parameters: {'n_estimators': 164, 'learning_rate': 0.06053927645771742, 'max_depth': 8, 'min_samples_split': 4, 'min_samples_leaf': 4}. \n"
     ]
    },
    {
     "name": "stdout",
     "output_type": "stream",
     "text": [
      "Trial 41 finished with values: [0.38364388322385856, 7.675257038602444] and parameters: {'n_estimators': 164, 'learning_rate': 0.06053927645771742, 'max_depth': 8, 'min_samples_split': 4, 'min_samples_leaf': 4}. \n"
     ]
    },
    {
     "name": "stderr",
     "output_type": "stream",
     "text": [
      "[I 2024-07-02 14:37:12,786] Trial 42 finished with values: [0.8280415463727725, 3.6048767436027616] and parameters: {'n_estimators': 125, 'learning_rate': 0.04959097044651735, 'max_depth': 10, 'min_samples_split': 6, 'min_samples_leaf': 4}. \n"
     ]
    },
    {
     "name": "stdout",
     "output_type": "stream",
     "text": [
      "Trial 42 finished with values: [0.8280415463727725, 3.6048767436027616] and parameters: {'n_estimators': 125, 'learning_rate': 0.04959097044651735, 'max_depth': 10, 'min_samples_split': 6, 'min_samples_leaf': 4}. \n"
     ]
    },
    {
     "name": "stderr",
     "output_type": "stream",
     "text": [
      "[I 2024-07-02 14:39:34,722] Trial 43 finished with values: [0.8544699994084256, 0.07778374745500738] and parameters: {'n_estimators': 283, 'learning_rate': 0.022963116212811337, 'max_depth': 4, 'min_samples_split': 4, 'min_samples_leaf': 5}. \n"
     ]
    },
    {
     "name": "stdout",
     "output_type": "stream",
     "text": [
      "Trial 43 finished with values: [0.8544699994084256, 0.07778374745500738] and parameters: {'n_estimators': 283, 'learning_rate': 0.022963116212811337, 'max_depth': 4, 'min_samples_split': 4, 'min_samples_leaf': 5}. \n"
     ]
    },
    {
     "name": "stderr",
     "output_type": "stream",
     "text": [
      "[I 2024-07-02 14:40:52,418] Trial 44 finished with values: [0.8058245143314823, 2.4263390356478616] and parameters: {'n_estimators': 69, 'learning_rate': 0.024550933833275036, 'max_depth': 9, 'min_samples_split': 5, 'min_samples_leaf': 4}. \n"
     ]
    },
    {
     "name": "stdout",
     "output_type": "stream",
     "text": [
      "Trial 44 finished with values: [0.8058245143314823, 2.4263390356478616] and parameters: {'n_estimators': 69, 'learning_rate': 0.024550933833275036, 'max_depth': 9, 'min_samples_split': 5, 'min_samples_leaf': 4}. \n"
     ]
    },
    {
     "name": "stderr",
     "output_type": "stream",
     "text": [
      "[I 2024-07-02 14:41:53,553] Trial 45 finished with values: [-0.7473358974800534, 1.1257577241730834] and parameters: {'n_estimators': 81, 'learning_rate': 0.020505599024496793, 'max_depth': 6, 'min_samples_split': 7, 'min_samples_leaf': 9}. \n"
     ]
    },
    {
     "name": "stdout",
     "output_type": "stream",
     "text": [
      "Trial 45 finished with values: [-0.7473358974800534, 1.1257577241730834] and parameters: {'n_estimators': 81, 'learning_rate': 0.020505599024496793, 'max_depth': 6, 'min_samples_split': 7, 'min_samples_leaf': 9}. \n"
     ]
    },
    {
     "name": "stderr",
     "output_type": "stream",
     "text": [
      "[I 2024-07-02 14:43:50,780] Trial 46 finished with values: [1.1911388653347719, 1.5563120824464671] and parameters: {'n_estimators': 94, 'learning_rate': 0.022950240385140652, 'max_depth': 10, 'min_samples_split': 8, 'min_samples_leaf': 5}. \n"
     ]
    },
    {
     "name": "stdout",
     "output_type": "stream",
     "text": [
      "Trial 46 finished with values: [1.1911388653347719, 1.5563120824464671] and parameters: {'n_estimators': 94, 'learning_rate': 0.022950240385140652, 'max_depth': 10, 'min_samples_split': 8, 'min_samples_leaf': 5}. \n"
     ]
    },
    {
     "name": "stderr",
     "output_type": "stream",
     "text": [
      "[I 2024-07-02 14:46:00,567] Trial 47 finished with values: [-0.050036422894572455, 17.01451569776593] and parameters: {'n_estimators': 259, 'learning_rate': 0.06615062899510497, 'max_depth': 4, 'min_samples_split': 2, 'min_samples_leaf': 10}. \n"
     ]
    },
    {
     "name": "stdout",
     "output_type": "stream",
     "text": [
      "Trial 47 finished with values: [-0.050036422894572455, 17.01451569776593] and parameters: {'n_estimators': 259, 'learning_rate': 0.06615062899510497, 'max_depth': 4, 'min_samples_split': 2, 'min_samples_leaf': 10}. \n"
     ]
    },
    {
     "name": "stderr",
     "output_type": "stream",
     "text": [
      "[I 2024-07-02 14:47:44,675] Trial 48 finished with values: [0.10555613635750899, 23.116186127935336] and parameters: {'n_estimators': 104, 'learning_rate': 0.07036731811884396, 'max_depth': 8, 'min_samples_split': 8, 'min_samples_leaf': 6}. \n"
     ]
    },
    {
     "name": "stdout",
     "output_type": "stream",
     "text": [
      "Trial 48 finished with values: [0.10555613635750899, 23.116186127935336] and parameters: {'n_estimators': 104, 'learning_rate': 0.07036731811884396, 'max_depth': 8, 'min_samples_split': 8, 'min_samples_leaf': 6}. \n"
     ]
    },
    {
     "name": "stderr",
     "output_type": "stream",
     "text": [
      "[I 2024-07-02 14:50:57,612] Trial 49 finished with values: [-0.7147450759470968, 2.737645882311643] and parameters: {'n_estimators': 193, 'learning_rate': 0.01309361203991462, 'max_depth': 8, 'min_samples_split': 9, 'min_samples_leaf': 2}. \n"
     ]
    },
    {
     "name": "stdout",
     "output_type": "stream",
     "text": [
      "Trial 49 finished with values: [-0.7147450759470968, 2.737645882311643] and parameters: {'n_estimators': 193, 'learning_rate': 0.01309361203991462, 'max_depth': 8, 'min_samples_split': 9, 'min_samples_leaf': 2}. \n"
     ]
    },
    {
     "name": "stderr",
     "output_type": "stream",
     "text": [
      "[I 2024-07-02 14:55:51,730] Trial 50 finished with values: [0.7074853424009163, 5.128850834065537] and parameters: {'n_estimators': 236, 'learning_rate': 0.04411712083962257, 'max_depth': 10, 'min_samples_split': 6, 'min_samples_leaf': 4}. \n"
     ]
    },
    {
     "name": "stdout",
     "output_type": "stream",
     "text": [
      "Trial 50 finished with values: [0.7074853424009163, 5.128850834065537] and parameters: {'n_estimators': 236, 'learning_rate': 0.04411712083962257, 'max_depth': 10, 'min_samples_split': 6, 'min_samples_leaf': 4}. \n"
     ]
    },
    {
     "name": "stderr",
     "output_type": "stream",
     "text": [
      "[I 2024-07-02 14:57:26,990] Trial 51 finished with values: [-1.0310560625806482, 0.8656666039413647] and parameters: {'n_estimators': 152, 'learning_rate': 0.04856550603725319, 'max_depth': 5, 'min_samples_split': 8, 'min_samples_leaf': 3}. \n"
     ]
    },
    {
     "name": "stdout",
     "output_type": "stream",
     "text": [
      "Trial 51 finished with values: [-1.0310560625806482, 0.8656666039413647] and parameters: {'n_estimators': 152, 'learning_rate': 0.04856550603725319, 'max_depth': 5, 'min_samples_split': 8, 'min_samples_leaf': 3}. \n"
     ]
    },
    {
     "name": "stderr",
     "output_type": "stream",
     "text": [
      "[I 2024-07-02 14:58:27,226] Trial 52 finished with values: [1.148303517300359, 0.8702063957345176] and parameters: {'n_estimators': 60, 'learning_rate': 0.022721264611001546, 'max_depth': 8, 'min_samples_split': 9, 'min_samples_leaf': 8}. \n"
     ]
    },
    {
     "name": "stdout",
     "output_type": "stream",
     "text": [
      "Trial 52 finished with values: [1.148303517300359, 0.8702063957345176] and parameters: {'n_estimators': 60, 'learning_rate': 0.022721264611001546, 'max_depth': 8, 'min_samples_split': 9, 'min_samples_leaf': 8}. \n"
     ]
    },
    {
     "name": "stderr",
     "output_type": "stream",
     "text": [
      "[I 2024-07-02 15:02:53,463] Trial 53 finished with values: [0.9233124640930045, 5.521166678937606] and parameters: {'n_estimators': 216, 'learning_rate': 0.06486859724985619, 'max_depth': 10, 'min_samples_split': 4, 'min_samples_leaf': 2}. \n"
     ]
    },
    {
     "name": "stdout",
     "output_type": "stream",
     "text": [
      "Trial 53 finished with values: [0.9233124640930045, 5.521166678937606] and parameters: {'n_estimators': 216, 'learning_rate': 0.06486859724985619, 'max_depth': 10, 'min_samples_split': 4, 'min_samples_leaf': 2}. \n"
     ]
    },
    {
     "name": "stderr",
     "output_type": "stream",
     "text": [
      "[I 2024-07-02 15:03:44,898] Trial 54 finished with values: [-0.02154060815998972, 49.01057236913112] and parameters: {'n_estimators': 135, 'learning_rate': 0.04645154378676733, 'max_depth': 3, 'min_samples_split': 3, 'min_samples_leaf': 4}. \n"
     ]
    },
    {
     "name": "stdout",
     "output_type": "stream",
     "text": [
      "Trial 54 finished with values: [-0.02154060815998972, 49.01057236913112] and parameters: {'n_estimators': 135, 'learning_rate': 0.04645154378676733, 'max_depth': 3, 'min_samples_split': 3, 'min_samples_leaf': 4}. \n"
     ]
    },
    {
     "name": "stderr",
     "output_type": "stream",
     "text": [
      "[I 2024-07-02 15:06:35,178] Trial 55 finished with values: [0.3902152676657468, 4.648127148957619] and parameters: {'n_estimators': 194, 'learning_rate': 0.06503582464971935, 'max_depth': 7, 'min_samples_split': 4, 'min_samples_leaf': 6}. \n"
     ]
    },
    {
     "name": "stdout",
     "output_type": "stream",
     "text": [
      "Trial 55 finished with values: [0.3902152676657468, 4.648127148957619] and parameters: {'n_estimators': 194, 'learning_rate': 0.06503582464971935, 'max_depth': 7, 'min_samples_split': 4, 'min_samples_leaf': 6}. \n"
     ]
    },
    {
     "name": "stderr",
     "output_type": "stream",
     "text": [
      "[I 2024-07-02 15:08:57,265] Trial 56 finished with values: [0.21910458558650414, 2.9615701325311754] and parameters: {'n_estimators': 283, 'learning_rate': 0.013840455108373334, 'max_depth': 4, 'min_samples_split': 4, 'min_samples_leaf': 4}. \n"
     ]
    },
    {
     "name": "stdout",
     "output_type": "stream",
     "text": [
      "Trial 56 finished with values: [0.21910458558650414, 2.9615701325311754] and parameters: {'n_estimators': 283, 'learning_rate': 0.013840455108373334, 'max_depth': 4, 'min_samples_split': 4, 'min_samples_leaf': 4}. \n"
     ]
    },
    {
     "name": "stderr",
     "output_type": "stream",
     "text": [
      "[I 2024-07-02 15:10:08,029] Trial 57 finished with values: [0.5131353326725921, 2.9902343895521444] and parameters: {'n_estimators': 94, 'learning_rate': 0.039727032768430204, 'max_depth': 6, 'min_samples_split': 8, 'min_samples_leaf': 5}. \n"
     ]
    },
    {
     "name": "stdout",
     "output_type": "stream",
     "text": [
      "Trial 57 finished with values: [0.5131353326725921, 2.9902343895521444] and parameters: {'n_estimators': 94, 'learning_rate': 0.039727032768430204, 'max_depth': 6, 'min_samples_split': 8, 'min_samples_leaf': 5}. \n"
     ]
    },
    {
     "name": "stderr",
     "output_type": "stream",
     "text": [
      "[I 2024-07-02 15:11:31,723] Trial 58 finished with values: [0.9078048373953117, 2.621969906141673] and parameters: {'n_estimators': 67, 'learning_rate': 0.07274486111395334, 'max_depth': 10, 'min_samples_split': 10, 'min_samples_leaf': 5}. \n"
     ]
    },
    {
     "name": "stdout",
     "output_type": "stream",
     "text": [
      "Trial 58 finished with values: [0.9078048373953117, 2.621969906141673] and parameters: {'n_estimators': 67, 'learning_rate': 0.07274486111395334, 'max_depth': 10, 'min_samples_split': 10, 'min_samples_leaf': 5}. \n"
     ]
    },
    {
     "name": "stderr",
     "output_type": "stream",
     "text": [
      "[I 2024-07-02 15:12:34,868] Trial 59 finished with values: [0.3085222587170181, 7.891757161682865] and parameters: {'n_estimators': 63, 'learning_rate': 0.02011145907069486, 'max_depth': 8, 'min_samples_split': 9, 'min_samples_leaf': 1}. \n"
     ]
    },
    {
     "name": "stdout",
     "output_type": "stream",
     "text": [
      "Trial 59 finished with values: [0.3085222587170181, 7.891757161682865] and parameters: {'n_estimators': 63, 'learning_rate': 0.02011145907069486, 'max_depth': 8, 'min_samples_split': 9, 'min_samples_leaf': 1}. \n"
     ]
    },
    {
     "name": "stderr",
     "output_type": "stream",
     "text": [
      "[I 2024-07-02 15:15:39,775] Trial 60 finished with values: [-0.04459002989140794, 59.817469793530655] and parameters: {'n_estimators': 147, 'learning_rate': 0.03728220413521061, 'max_depth': 10, 'min_samples_split': 8, 'min_samples_leaf': 9}. \n"
     ]
    },
    {
     "name": "stdout",
     "output_type": "stream",
     "text": [
      "Trial 60 finished with values: [-0.04459002989140794, 59.817469793530655] and parameters: {'n_estimators': 147, 'learning_rate': 0.03728220413521061, 'max_depth': 10, 'min_samples_split': 8, 'min_samples_leaf': 9}. \n"
     ]
    },
    {
     "name": "stderr",
     "output_type": "stream",
     "text": [
      "[I 2024-07-02 15:17:34,524] Trial 61 finished with values: [1.1054403749596018, 1.3071072692918428] and parameters: {'n_estimators': 101, 'learning_rate': 0.012465907359466295, 'max_depth': 9, 'min_samples_split': 4, 'min_samples_leaf': 8}. \n"
     ]
    },
    {
     "name": "stdout",
     "output_type": "stream",
     "text": [
      "Trial 61 finished with values: [1.1054403749596018, 1.3071072692918428] and parameters: {'n_estimators': 101, 'learning_rate': 0.012465907359466295, 'max_depth': 9, 'min_samples_split': 4, 'min_samples_leaf': 8}. \n"
     ]
    },
    {
     "name": "stderr",
     "output_type": "stream",
     "text": [
      "[I 2024-07-02 15:19:53,828] Trial 62 finished with values: [-0.6142261383124203, 2.3838590943315388] and parameters: {'n_estimators': 159, 'learning_rate': 0.0316751948283739, 'max_depth': 7, 'min_samples_split': 7, 'min_samples_leaf': 8}. \n"
     ]
    },
    {
     "name": "stdout",
     "output_type": "stream",
     "text": [
      "Trial 62 finished with values: [-0.6142261383124203, 2.3838590943315388] and parameters: {'n_estimators': 159, 'learning_rate': 0.0316751948283739, 'max_depth': 7, 'min_samples_split': 7, 'min_samples_leaf': 8}. \n"
     ]
    },
    {
     "name": "stderr",
     "output_type": "stream",
     "text": [
      "[I 2024-07-02 15:22:41,357] Trial 63 finished with values: [1.6037043420438961, 0.918597373974684] and parameters: {'n_estimators': 223, 'learning_rate': 0.03728220413521061, 'max_depth': 6, 'min_samples_split': 8, 'min_samples_leaf': 2}. \n"
     ]
    },
    {
     "name": "stdout",
     "output_type": "stream",
     "text": [
      "Trial 63 finished with values: [1.6037043420438961, 0.918597373974684] and parameters: {'n_estimators': 223, 'learning_rate': 0.03728220413521061, 'max_depth': 6, 'min_samples_split': 8, 'min_samples_leaf': 2}. \n"
     ]
    },
    {
     "name": "stderr",
     "output_type": "stream",
     "text": [
      "[I 2024-07-02 15:24:51,930] Trial 64 finished with values: [-0.17261131294350562, 4.2223097441315955] and parameters: {'n_estimators': 260, 'learning_rate': 0.04962270112524092, 'max_depth': 4, 'min_samples_split': 2, 'min_samples_leaf': 10}. \n"
     ]
    },
    {
     "name": "stdout",
     "output_type": "stream",
     "text": [
      "Trial 64 finished with values: [-0.17261131294350562, 4.2223097441315955] and parameters: {'n_estimators': 260, 'learning_rate': 0.04962270112524092, 'max_depth': 4, 'min_samples_split': 2, 'min_samples_leaf': 10}. \n"
     ]
    },
    {
     "name": "stderr",
     "output_type": "stream",
     "text": [
      "[I 2024-07-02 15:26:09,483] Trial 65 finished with values: [1.0608191268006792, 1.9457069892674874] and parameters: {'n_estimators': 69, 'learning_rate': 0.07325297417848534, 'max_depth': 9, 'min_samples_split': 5, 'min_samples_leaf': 4}. \n"
     ]
    },
    {
     "name": "stdout",
     "output_type": "stream",
     "text": [
      "Trial 65 finished with values: [1.0608191268006792, 1.9457069892674874] and parameters: {'n_estimators': 69, 'learning_rate': 0.07325297417848534, 'max_depth': 9, 'min_samples_split': 5, 'min_samples_leaf': 4}. \n"
     ]
    },
    {
     "name": "stderr",
     "output_type": "stream",
     "text": [
      "[I 2024-07-02 15:27:06,760] Trial 66 finished with values: [0.6044736396284796, 1.5227124820367215] and parameters: {'n_estimators': 152, 'learning_rate': 0.05693218257351024, 'max_depth': 3, 'min_samples_split': 6, 'min_samples_leaf': 3}. \n"
     ]
    },
    {
     "name": "stdout",
     "output_type": "stream",
     "text": [
      "Trial 66 finished with values: [0.6044736396284796, 1.5227124820367215] and parameters: {'n_estimators': 152, 'learning_rate': 0.05693218257351024, 'max_depth': 3, 'min_samples_split': 6, 'min_samples_leaf': 3}. \n"
     ]
    },
    {
     "name": "stderr",
     "output_type": "stream",
     "text": [
      "[I 2024-07-02 15:30:02,594] Trial 67 finished with values: [0.5636677187880683, 5.848285983141893] and parameters: {'n_estimators': 141, 'learning_rate': 0.04540983991069571, 'max_depth': 10, 'min_samples_split': 9, 'min_samples_leaf': 2}. \n"
     ]
    },
    {
     "name": "stdout",
     "output_type": "stream",
     "text": [
      "Trial 67 finished with values: [0.5636677187880683, 5.848285983141893] and parameters: {'n_estimators': 141, 'learning_rate': 0.04540983991069571, 'max_depth': 10, 'min_samples_split': 9, 'min_samples_leaf': 2}. \n"
     ]
    },
    {
     "name": "stderr",
     "output_type": "stream",
     "text": [
      "[I 2024-07-02 15:35:51,409] Trial 68 finished with values: [0.41489281319225363, 7.933144005166074] and parameters: {'n_estimators': 279, 'learning_rate': 0.0622745675562705, 'max_depth': 10, 'min_samples_split': 7, 'min_samples_leaf': 7}. \n"
     ]
    },
    {
     "name": "stdout",
     "output_type": "stream",
     "text": [
      "Trial 68 finished with values: [0.41489281319225363, 7.933144005166074] and parameters: {'n_estimators': 279, 'learning_rate': 0.0622745675562705, 'max_depth': 10, 'min_samples_split': 7, 'min_samples_leaf': 7}. \n"
     ]
    },
    {
     "name": "stderr",
     "output_type": "stream",
     "text": [
      "[I 2024-07-02 15:37:32,968] Trial 69 finished with values: [0.6226828977033665, 4.216958110774491] and parameters: {'n_estimators': 162, 'learning_rate': 0.09817736787203557, 'max_depth': 5, 'min_samples_split': 9, 'min_samples_leaf': 3}. \n"
     ]
    },
    {
     "name": "stdout",
     "output_type": "stream",
     "text": [
      "Trial 69 finished with values: [0.6226828977033665, 4.216958110774491] and parameters: {'n_estimators': 162, 'learning_rate': 0.09817736787203557, 'max_depth': 5, 'min_samples_split': 9, 'min_samples_leaf': 3}. \n"
     ]
    },
    {
     "name": "stderr",
     "output_type": "stream",
     "text": [
      "[I 2024-07-02 15:39:27,417] Trial 70 finished with values: [-1.1186693587658185, 0.6813717250386027] and parameters: {'n_estimators': 152, 'learning_rate': 0.08378281585971932, 'max_depth': 6, 'min_samples_split': 8, 'min_samples_leaf': 7}. \n"
     ]
    },
    {
     "name": "stdout",
     "output_type": "stream",
     "text": [
      "Trial 70 finished with values: [-1.1186693587658185, 0.6813717250386027] and parameters: {'n_estimators': 152, 'learning_rate': 0.08378281585971932, 'max_depth': 6, 'min_samples_split': 8, 'min_samples_leaf': 7}. \n"
     ]
    },
    {
     "name": "stderr",
     "output_type": "stream",
     "text": [
      "[I 2024-07-02 15:40:28,278] Trial 71 finished with values: [0.5766527919486583, 1.8744958576896806] and parameters: {'n_estimators': 81, 'learning_rate': 0.020505599024496793, 'max_depth': 6, 'min_samples_split': 7, 'min_samples_leaf': 7}. \n"
     ]
    },
    {
     "name": "stdout",
     "output_type": "stream",
     "text": [
      "Trial 71 finished with values: [0.5766527919486583, 1.8744958576896806] and parameters: {'n_estimators': 81, 'learning_rate': 0.020505599024496793, 'max_depth': 6, 'min_samples_split': 7, 'min_samples_leaf': 7}. \n"
     ]
    },
    {
     "name": "stderr",
     "output_type": "stream",
     "text": [
      "[W 2024-07-02 15:40:28,310] Trial 72 failed with parameters: {'n_estimators': 182, 'learning_rate': 0.04837256569816015, 'max_depth': 8, 'min_samples_split': 4, 'min_samples_leaf': 9} because of the following error: The value nan is not acceptable.\n"
     ]
    },
    {
     "name": "stdout",
     "output_type": "stream",
     "text": [
      "Trial 72 failed with parameters: {'n_estimators': 182, 'learning_rate': 0.04837256569816015, 'max_depth': 8, 'min_samples_split': 4, 'min_samples_leaf': 9} because of the following error: The value nan is not acceptable.\n"
     ]
    },
    {
     "name": "stderr",
     "output_type": "stream",
     "text": [
      "[W 2024-07-02 15:40:28,312] Trial 72 failed with value nan.\n"
     ]
    },
    {
     "name": "stdout",
     "output_type": "stream",
     "text": [
      "Trial 72 failed with value nan.\n"
     ]
    },
    {
     "name": "stderr",
     "output_type": "stream",
     "text": [
      "[I 2024-07-02 15:42:44,408] Trial 73 finished with values: [0.7458556213132108, 3.6863058024640463] and parameters: {'n_estimators': 109, 'learning_rate': 0.06753797375708646, 'max_depth': 10, 'min_samples_split': 7, 'min_samples_leaf': 5}. \n"
     ]
    },
    {
     "name": "stdout",
     "output_type": "stream",
     "text": [
      "Trial 73 finished with values: [0.7458556213132108, 3.6863058024640463] and parameters: {'n_estimators': 109, 'learning_rate': 0.06753797375708646, 'max_depth': 10, 'min_samples_split': 7, 'min_samples_leaf': 5}. \n"
     ]
    },
    {
     "name": "stderr",
     "output_type": "stream",
     "text": [
      "[I 2024-07-02 15:43:55,331] Trial 74 finished with values: [-0.44200572979007713, 6.7094136691866995] and parameters: {'n_estimators': 141, 'learning_rate': 0.08038791851555924, 'max_depth': 4, 'min_samples_split': 6, 'min_samples_leaf': 1}. \n"
     ]
    },
    {
     "name": "stdout",
     "output_type": "stream",
     "text": [
      "Trial 74 finished with values: [-0.44200572979007713, 6.7094136691866995] and parameters: {'n_estimators': 141, 'learning_rate': 0.08038791851555924, 'max_depth': 4, 'min_samples_split': 6, 'min_samples_leaf': 1}. \n"
     ]
    },
    {
     "name": "stderr",
     "output_type": "stream",
     "text": [
      "[I 2024-07-02 15:44:37,729] Trial 75 finished with values: [0.3979841365715793, 3.331791394152696] and parameters: {'n_estimators': 112, 'learning_rate': 0.08162476018542492, 'max_depth': 3, 'min_samples_split': 6, 'min_samples_leaf': 3}. \n"
     ]
    },
    {
     "name": "stdout",
     "output_type": "stream",
     "text": [
      "Trial 75 finished with values: [0.3979841365715793, 3.331791394152696] and parameters: {'n_estimators': 112, 'learning_rate': 0.08162476018542492, 'max_depth': 3, 'min_samples_split': 6, 'min_samples_leaf': 3}. \n"
     ]
    },
    {
     "name": "stderr",
     "output_type": "stream",
     "text": [
      "[I 2024-07-02 15:45:31,970] Trial 76 finished with values: [0.3351863019904254, 3.920461197263184] and parameters: {'n_estimators': 72, 'learning_rate': 0.02031909515257124, 'max_depth': 6, 'min_samples_split': 2, 'min_samples_leaf': 7}. \n"
     ]
    },
    {
     "name": "stdout",
     "output_type": "stream",
     "text": [
      "Trial 76 finished with values: [0.3351863019904254, 3.920461197263184] and parameters: {'n_estimators': 72, 'learning_rate': 0.02031909515257124, 'max_depth': 6, 'min_samples_split': 2, 'min_samples_leaf': 7}. \n"
     ]
    },
    {
     "name": "stderr",
     "output_type": "stream",
     "text": [
      "[I 2024-07-02 15:48:59,636] Trial 77 finished with values: [-1.5666398863913649, 0.25814884764191026] and parameters: {'n_estimators': 277, 'learning_rate': 0.06118863292880984, 'max_depth': 6, 'min_samples_split': 8, 'min_samples_leaf': 8}. \n"
     ]
    },
    {
     "name": "stdout",
     "output_type": "stream",
     "text": [
      "Trial 77 finished with values: [-1.5666398863913649, 0.25814884764191026] and parameters: {'n_estimators': 277, 'learning_rate': 0.06118863292880984, 'max_depth': 6, 'min_samples_split': 8, 'min_samples_leaf': 8}. \n"
     ]
    },
    {
     "name": "stderr",
     "output_type": "stream",
     "text": [
      "[I 2024-07-02 15:50:12,520] Trial 78 finished with values: [-0.10215037433441289, 8.662728011589168] and parameters: {'n_estimators': 145, 'learning_rate': 0.05906982967806196, 'max_depth': 4, 'min_samples_split': 10, 'min_samples_leaf': 7}. \n"
     ]
    },
    {
     "name": "stdout",
     "output_type": "stream",
     "text": [
      "Trial 78 finished with values: [-0.10215037433441289, 8.662728011589168] and parameters: {'n_estimators': 145, 'learning_rate': 0.05906982967806196, 'max_depth': 4, 'min_samples_split': 10, 'min_samples_leaf': 7}. \n"
     ]
    },
    {
     "name": "stderr",
     "output_type": "stream",
     "text": [
      "[I 2024-07-02 15:53:40,865] Trial 79 finished with values: [1.4786213290384342, 1.3625615371294368] and parameters: {'n_estimators': 277, 'learning_rate': 0.06118863292880984, 'max_depth': 6, 'min_samples_split': 6, 'min_samples_leaf': 4}. \n"
     ]
    },
    {
     "name": "stdout",
     "output_type": "stream",
     "text": [
      "Trial 79 finished with values: [1.4786213290384342, 1.3625615371294368] and parameters: {'n_estimators': 277, 'learning_rate': 0.06118863292880984, 'max_depth': 6, 'min_samples_split': 6, 'min_samples_leaf': 4}. \n"
     ]
    },
    {
     "name": "stderr",
     "output_type": "stream",
     "text": [
      "[I 2024-07-02 15:56:07,585] Trial 80 finished with values: [-0.8174913723220915, 0.9999936114433161] and parameters: {'n_estimators': 291, 'learning_rate': 0.03470763216031496, 'max_depth': 4, 'min_samples_split': 5, 'min_samples_leaf': 4}. \n"
     ]
    },
    {
     "name": "stdout",
     "output_type": "stream",
     "text": [
      "Trial 80 finished with values: [-0.8174913723220915, 0.9999936114433161] and parameters: {'n_estimators': 291, 'learning_rate': 0.03470763216031496, 'max_depth': 4, 'min_samples_split': 5, 'min_samples_leaf': 4}. \n"
     ]
    },
    {
     "name": "stderr",
     "output_type": "stream",
     "text": [
      "[I 2024-07-02 15:58:13,811] Trial 81 finished with values: [0.7647928817370222, 3.2769462256923374] and parameters: {'n_estimators': 202, 'learning_rate': 0.0316751948283739, 'max_depth': 5, 'min_samples_split': 3, 'min_samples_leaf': 1}. \n"
     ]
    },
    {
     "name": "stdout",
     "output_type": "stream",
     "text": [
      "Trial 81 finished with values: [0.7647928817370222, 3.2769462256923374] and parameters: {'n_estimators': 202, 'learning_rate': 0.0316751948283739, 'max_depth': 5, 'min_samples_split': 3, 'min_samples_leaf': 1}. \n"
     ]
    },
    {
     "name": "stderr",
     "output_type": "stream",
     "text": [
      "[I 2024-07-02 16:04:18,137] Trial 82 finished with values: [1.246669658594089, 1.6378981763874338] and parameters: {'n_estimators': 291, 'learning_rate': 0.013840455108373334, 'max_depth': 10, 'min_samples_split': 5, 'min_samples_leaf': 4}. \n"
     ]
    },
    {
     "name": "stdout",
     "output_type": "stream",
     "text": [
      "Trial 82 finished with values: [1.246669658594089, 1.6378981763874338] and parameters: {'n_estimators': 291, 'learning_rate': 0.013840455108373334, 'max_depth': 10, 'min_samples_split': 5, 'min_samples_leaf': 4}. \n"
     ]
    },
    {
     "name": "stderr",
     "output_type": "stream",
     "text": [
      "[I 2024-07-02 16:05:18,636] Trial 83 finished with values: [0.025169260664104742, 38.08675900053593] and parameters: {'n_estimators': 160, 'learning_rate': 0.0622745675562705, 'max_depth': 3, 'min_samples_split': 4, 'min_samples_leaf': 7}. \n"
     ]
    },
    {
     "name": "stdout",
     "output_type": "stream",
     "text": [
      "Trial 83 finished with values: [0.025169260664104742, 38.08675900053593] and parameters: {'n_estimators': 160, 'learning_rate': 0.0622745675562705, 'max_depth': 3, 'min_samples_split': 4, 'min_samples_leaf': 7}. \n"
     ]
    },
    {
     "name": "stderr",
     "output_type": "stream",
     "text": [
      "[I 2024-07-02 16:07:31,246] Trial 84 finished with values: [1.2050026218272696, 1.882914376942796] and parameters: {'n_estimators': 106, 'learning_rate': 0.04959097044651735, 'max_depth': 10, 'min_samples_split': 6, 'min_samples_leaf': 4}. \n"
     ]
    },
    {
     "name": "stdout",
     "output_type": "stream",
     "text": [
      "Trial 84 finished with values: [1.2050026218272696, 1.882914376942796] and parameters: {'n_estimators': 106, 'learning_rate': 0.04959097044651735, 'max_depth': 10, 'min_samples_split': 6, 'min_samples_leaf': 4}. \n"
     ]
    },
    {
     "name": "stderr",
     "output_type": "stream",
     "text": [
      "[I 2024-07-02 16:09:29,049] Trial 85 finished with values: [0.787561019558335, 3.003463870373343] and parameters: {'n_estimators': 94, 'learning_rate': 0.04644405288684079, 'max_depth': 10, 'min_samples_split': 8, 'min_samples_leaf': 5}. \n"
     ]
    },
    {
     "name": "stdout",
     "output_type": "stream",
     "text": [
      "Trial 85 finished with values: [0.787561019558335, 3.003463870373343] and parameters: {'n_estimators': 94, 'learning_rate': 0.04644405288684079, 'max_depth': 10, 'min_samples_split': 8, 'min_samples_leaf': 5}. \n"
     ]
    },
    {
     "name": "stderr",
     "output_type": "stream",
     "text": [
      "[I 2024-07-02 16:10:46,248] Trial 86 finished with values: [0.40281172897495243, 1.364616713126379] and parameters: {'n_estimators': 153, 'learning_rate': 0.09874025472739986, 'max_depth': 4, 'min_samples_split': 5, 'min_samples_leaf': 8}. \n"
     ]
    },
    {
     "name": "stdout",
     "output_type": "stream",
     "text": [
      "Trial 86 finished with values: [0.40281172897495243, 1.364616713126379] and parameters: {'n_estimators': 153, 'learning_rate': 0.09874025472739986, 'max_depth': 4, 'min_samples_split': 5, 'min_samples_leaf': 8}. \n"
     ]
    },
    {
     "name": "stderr",
     "output_type": "stream",
     "text": [
      "[I 2024-07-02 16:14:52,848] Trial 87 finished with values: [-0.24898344076733336, 7.137866181382169] and parameters: {'n_estimators': 281, 'learning_rate': 0.011101630507322711, 'max_depth': 7, 'min_samples_split': 2, 'min_samples_leaf': 9}. \n"
     ]
    },
    {
     "name": "stdout",
     "output_type": "stream",
     "text": [
      "Trial 87 finished with values: [-0.24898344076733336, 7.137866181382169] and parameters: {'n_estimators': 281, 'learning_rate': 0.011101630507322711, 'max_depth': 7, 'min_samples_split': 2, 'min_samples_leaf': 9}. \n"
     ]
    },
    {
     "name": "stderr",
     "output_type": "stream",
     "text": [
      "[I 2024-07-02 16:16:09,969] Trial 88 finished with values: [0.814840787817583, 0.4828218503017332] and parameters: {'n_estimators': 153, 'learning_rate': 0.04962270112524092, 'max_depth': 4, 'min_samples_split': 6, 'min_samples_leaf': 5}. \n"
     ]
    },
    {
     "name": "stdout",
     "output_type": "stream",
     "text": [
      "Trial 88 finished with values: [0.814840787817583, 0.4828218503017332] and parameters: {'n_estimators': 153, 'learning_rate': 0.04962270112524092, 'max_depth': 4, 'min_samples_split': 6, 'min_samples_leaf': 5}. \n"
     ]
    },
    {
     "name": "stderr",
     "output_type": "stream",
     "text": [
      "[I 2024-07-02 16:21:20,440] Trial 89 finished with values: [0.1014622766075154, 57.96438087451945] and parameters: {'n_estimators': 279, 'learning_rate': 0.03988419339560214, 'max_depth': 9, 'min_samples_split': 8, 'min_samples_leaf': 1}. \n"
     ]
    },
    {
     "name": "stdout",
     "output_type": "stream",
     "text": [
      "Trial 89 finished with values: [0.1014622766075154, 57.96438087451945] and parameters: {'n_estimators': 279, 'learning_rate': 0.03988419339560214, 'max_depth': 9, 'min_samples_split': 8, 'min_samples_leaf': 1}. \n"
     ]
    },
    {
     "name": "stderr",
     "output_type": "stream",
     "text": [
      "[W 2024-07-02 16:21:20,484] Trial 90 failed with parameters: {'n_estimators': 115, 'learning_rate': 0.058703850137011696, 'max_depth': 7, 'min_samples_split': 2, 'min_samples_leaf': 8} because of the following error: The value nan is not acceptable.\n"
     ]
    },
    {
     "name": "stdout",
     "output_type": "stream",
     "text": [
      "Trial 90 failed with parameters: {'n_estimators': 115, 'learning_rate': 0.058703850137011696, 'max_depth': 7, 'min_samples_split': 2, 'min_samples_leaf': 8} because of the following error: The value nan is not acceptable.\n"
     ]
    },
    {
     "name": "stderr",
     "output_type": "stream",
     "text": [
      "[W 2024-07-02 16:21:20,486] Trial 90 failed with value nan.\n"
     ]
    },
    {
     "name": "stdout",
     "output_type": "stream",
     "text": [
      "Trial 90 failed with value nan.\n"
     ]
    },
    {
     "name": "stderr",
     "output_type": "stream",
     "text": [
      "[I 2024-07-02 16:23:36,050] Trial 91 finished with values: [0.27708650308558935, 7.992820885845166] and parameters: {'n_estimators': 135, 'learning_rate': 0.0673380362893051, 'max_depth': 8, 'min_samples_split': 4, 'min_samples_leaf': 6}. \n"
     ]
    },
    {
     "name": "stdout",
     "output_type": "stream",
     "text": [
      "Trial 91 finished with values: [0.27708650308558935, 7.992820885845166] and parameters: {'n_estimators': 135, 'learning_rate': 0.0673380362893051, 'max_depth': 8, 'min_samples_split': 4, 'min_samples_leaf': 6}. \n"
     ]
    },
    {
     "name": "stderr",
     "output_type": "stream",
     "text": [
      "[W 2024-07-02 16:23:36,098] Trial 92 failed with parameters: {'n_estimators': 278, 'learning_rate': 0.03988419339560214, 'max_depth': 9, 'min_samples_split': 8, 'min_samples_leaf': 1} because of the following error: The value nan is not acceptable.\n"
     ]
    },
    {
     "name": "stdout",
     "output_type": "stream",
     "text": [
      "Trial 92 failed with parameters: {'n_estimators': 278, 'learning_rate': 0.03988419339560214, 'max_depth': 9, 'min_samples_split': 8, 'min_samples_leaf': 1} because of the following error: The value nan is not acceptable.\n"
     ]
    },
    {
     "name": "stderr",
     "output_type": "stream",
     "text": [
      "[W 2024-07-02 16:23:36,099] Trial 92 failed with value nan.\n"
     ]
    },
    {
     "name": "stdout",
     "output_type": "stream",
     "text": [
      "Trial 92 failed with value nan.\n"
     ]
    },
    {
     "name": "stderr",
     "output_type": "stream",
     "text": [
      "[I 2024-07-02 16:25:52,529] Trial 93 finished with values: [-1.3572246421629455, 1.1037052072722182] and parameters: {'n_estimators': 109, 'learning_rate': 0.06753797375708646, 'max_depth': 10, 'min_samples_split': 8, 'min_samples_leaf': 8}. \n"
     ]
    },
    {
     "name": "stdout",
     "output_type": "stream",
     "text": [
      "Trial 93 finished with values: [-1.3572246421629455, 1.1037052072722182] and parameters: {'n_estimators': 109, 'learning_rate': 0.06753797375708646, 'max_depth': 10, 'min_samples_split': 8, 'min_samples_leaf': 8}. \n"
     ]
    },
    {
     "name": "stderr",
     "output_type": "stream",
     "text": [
      "[I 2024-07-02 16:31:36,251] Trial 94 finished with values: [-0.32065166994700395, 12.22650515898899] and parameters: {'n_estimators': 275, 'learning_rate': 0.04591779894206077, 'max_depth': 10, 'min_samples_split': 8, 'min_samples_leaf': 5}. \n"
     ]
    },
    {
     "name": "stdout",
     "output_type": "stream",
     "text": [
      "Trial 94 finished with values: [-0.32065166994700395, 12.22650515898899] and parameters: {'n_estimators': 275, 'learning_rate': 0.04591779894206077, 'max_depth': 10, 'min_samples_split': 8, 'min_samples_leaf': 5}. \n"
     ]
    },
    {
     "name": "stderr",
     "output_type": "stream",
     "text": [
      "[I 2024-07-02 16:32:33,981] Trial 95 finished with values: [0.5240988804919792, 1.7797408799245589] and parameters: {'n_estimators': 153, 'learning_rate': 0.06503582464971935, 'max_depth': 3, 'min_samples_split': 3, 'min_samples_leaf': 3}. \n"
     ]
    },
    {
     "name": "stdout",
     "output_type": "stream",
     "text": [
      "Trial 95 finished with values: [0.5240988804919792, 1.7797408799245589] and parameters: {'n_estimators': 153, 'learning_rate': 0.06503582464971935, 'max_depth': 3, 'min_samples_split': 3, 'min_samples_leaf': 3}. \n"
     ]
    },
    {
     "name": "stderr",
     "output_type": "stream",
     "text": [
      "[I 2024-07-02 16:34:15,695] Trial 96 finished with values: [-0.14243820129035037, 16.617135375417956] and parameters: {'n_estimators': 101, 'learning_rate': 0.0757135574315391, 'max_depth': 8, 'min_samples_split': 7, 'min_samples_leaf': 6}. \n"
     ]
    },
    {
     "name": "stdout",
     "output_type": "stream",
     "text": [
      "Trial 96 finished with values: [-0.14243820129035037, 16.617135375417956] and parameters: {'n_estimators': 101, 'learning_rate': 0.0757135574315391, 'max_depth': 8, 'min_samples_split': 7, 'min_samples_leaf': 6}. \n"
     ]
    },
    {
     "name": "stderr",
     "output_type": "stream",
     "text": [
      "[I 2024-07-02 16:34:46,017] Trial 97 finished with values: [-0.25897725326922677, 9.758570663979024] and parameters: {'n_estimators': 60, 'learning_rate': 0.09874025472739986, 'max_depth': 4, 'min_samples_split': 7, 'min_samples_leaf': 1}. \n"
     ]
    },
    {
     "name": "stdout",
     "output_type": "stream",
     "text": [
      "Trial 97 finished with values: [-0.25897725326922677, 9.758570663979024] and parameters: {'n_estimators': 60, 'learning_rate': 0.09874025472739986, 'max_depth': 4, 'min_samples_split': 7, 'min_samples_leaf': 1}. \n"
     ]
    },
    {
     "name": "stderr",
     "output_type": "stream",
     "text": [
      "[I 2024-07-02 16:35:48,974] Trial 98 finished with values: [0.40278121834463654, 1.3570691762760219] and parameters: {'n_estimators': 125, 'learning_rate': 0.022577876138649554, 'max_depth': 4, 'min_samples_split': 3, 'min_samples_leaf': 8}. \n"
     ]
    },
    {
     "name": "stdout",
     "output_type": "stream",
     "text": [
      "Trial 98 finished with values: [0.40278121834463654, 1.3570691762760219] and parameters: {'n_estimators': 125, 'learning_rate': 0.022577876138649554, 'max_depth': 4, 'min_samples_split': 3, 'min_samples_leaf': 8}. \n"
     ]
    },
    {
     "name": "stderr",
     "output_type": "stream",
     "text": [
      "[I 2024-07-02 16:37:02,046] Trial 99 finished with values: [-0.1641177669752955, 17.173378620759888] and parameters: {'n_estimators': 194, 'learning_rate': 0.05906982967806196, 'max_depth': 3, 'min_samples_split': 3, 'min_samples_leaf': 1}. \n"
     ]
    },
    {
     "name": "stdout",
     "output_type": "stream",
     "text": [
      "Trial 99 finished with values: [-0.1641177669752955, 17.173378620759888] and parameters: {'n_estimators': 194, 'learning_rate': 0.05906982967806196, 'max_depth': 3, 'min_samples_split': 3, 'min_samples_leaf': 1}. \n"
     ]
    },
    {
     "name": "stderr",
     "output_type": "stream",
     "text": [
      "[I 2024-07-02 16:41:11,804] Trial 100 finished with values: [-0.49874150906196935, 4.061490467292571] and parameters: {'n_estimators': 249, 'learning_rate': 0.01309361203991462, 'max_depth': 8, 'min_samples_split': 5, 'min_samples_leaf': 4}. \n"
     ]
    },
    {
     "name": "stdout",
     "output_type": "stream",
     "text": [
      "Trial 100 finished with values: [-0.49874150906196935, 4.061490467292571] and parameters: {'n_estimators': 249, 'learning_rate': 0.01309361203991462, 'max_depth': 8, 'min_samples_split': 5, 'min_samples_leaf': 4}. \n"
     ]
    },
    {
     "name": "stderr",
     "output_type": "stream",
     "text": [
      "[I 2024-07-02 16:42:25,768] Trial 101 finished with values: [-0.06973584160321537, 34.561188225944846] and parameters: {'n_estimators': 65, 'learning_rate': 0.0316751948283739, 'max_depth': 9, 'min_samples_split': 8, 'min_samples_leaf': 8}. \n"
     ]
    },
    {
     "name": "stdout",
     "output_type": "stream",
     "text": [
      "Trial 101 finished with values: [-0.06973584160321537, 34.561188225944846] and parameters: {'n_estimators': 65, 'learning_rate': 0.0316751948283739, 'max_depth': 9, 'min_samples_split': 8, 'min_samples_leaf': 8}. \n"
     ]
    },
    {
     "name": "stderr",
     "output_type": "stream",
     "text": [
      "[I 2024-07-02 16:43:57,879] Trial 102 finished with values: [0.4066576036372979, 3.7715276913947697] and parameters: {'n_estimators': 122, 'learning_rate': 0.07349271981211901, 'max_depth': 6, 'min_samples_split': 3, 'min_samples_leaf': 5}. \n"
     ]
    },
    {
     "name": "stdout",
     "output_type": "stream",
     "text": [
      "Trial 102 finished with values: [0.4066576036372979, 3.7715276913947697] and parameters: {'n_estimators': 122, 'learning_rate': 0.07349271981211901, 'max_depth': 6, 'min_samples_split': 3, 'min_samples_leaf': 5}. \n"
     ]
    }
   ],
   "source": [
    "best_params_list = []\n",
    "for idx, data_item in enumerate(selected_columns_cluster):\n",
    "    train_cols, _ = split_data(data_item)\n",
    "    optuna_data = scale_data(train_cols)\n",
    "\n",
    "    X_train, X_valid, y_train, y_valid = train_test_split(optuna_data,\n",
    "                                                            train_data['Return'],\n",
    "                                                            test_size=0.5,\n",
    "                                                            shuffle=False)\n",
    "    study = optuna.create_study(directions=['maximize', 'minimize'])\n",
    "\n",
    "    unique_trials = 100\n",
    "    while unique_trials > len(set(str(t.params) for t in study.trials)):\n",
    "        study.optimize(lambda trial: objective_params(trial, X_train, X_valid, y_train, y_valid, train_data['Close']), n_trials=1)\n",
    "\n",
    "    # Retrieve all trials\n",
    "    trials = study.trials\n",
    "\n",
    "    completed_trials = [t for t in study.trials if t.values is not None]\n",
    "\n",
    "    # Sort trials based on objective values\n",
    "    completed_trials.sort(key=lambda trial: trial.values, reverse=True)\n",
    "\n",
    "    # Select top 1 trials\n",
    "    params = completed_trials[0].params\n",
    "    best_params_list.append(params)\n",
    "\n",
    "    model = GradientBoostingRegressor(**params)\n",
    "    model.fit(X_train, y_train)\n",
    "\n",
    "#     model.save_model(f'best_in_cluster_{idx}.json')\n",
    "    with open(f'best_in_cluster_{idx}.pkl', 'wb') as f:\n",
    "        pickle.dump(model, f)"
   ]
  },
  {
   "cell_type": "code",
   "execution_count": 61,
   "id": "12ae1534",
   "metadata": {
    "execution": {
     "iopub.execute_input": "2024-07-02T16:46:45.013905Z",
     "iopub.status.busy": "2024-07-02T16:46:45.013385Z",
     "iopub.status.idle": "2024-07-02T16:46:45.018706Z",
     "shell.execute_reply": "2024-07-02T16:46:45.017608Z"
    },
    "id": "bICDZWmoqnAM",
    "papermill": {
     "duration": 0.11985,
     "end_time": "2024-07-02T16:46:45.021216",
     "exception": false,
     "start_time": "2024-07-02T16:46:44.901366",
     "status": "completed"
    },
    "tags": []
   },
   "outputs": [],
   "source": [
    "# trials = study.trials\n",
    "# trials.sort(key=lambda trial: trial.values, reverse=True)\n",
    "# study.trials_dataframe().sort_values('values_0', ascending=False)"
   ]
  },
  {
   "cell_type": "markdown",
   "id": "26a75d8c",
   "metadata": {
    "id": "ZfJ2jbgfqnAM",
    "papermill": {
     "duration": 0.110008,
     "end_time": "2024-07-02T16:46:45.241369",
     "exception": false,
     "start_time": "2024-07-02T16:46:45.131361",
     "status": "completed"
    },
    "tags": []
   },
   "source": [
    "# Test and save result"
   ]
  },
  {
   "cell_type": "code",
   "execution_count": 62,
   "id": "0a089e85",
   "metadata": {
    "execution": {
     "iopub.execute_input": "2024-07-02T16:46:45.466344Z",
     "iopub.status.busy": "2024-07-02T16:46:45.465377Z",
     "iopub.status.idle": "2024-07-02T16:46:45.748021Z",
     "shell.execute_reply": "2024-07-02T16:46:45.746915Z"
    },
    "id": "FWdWQB46qnAM",
    "papermill": {
     "duration": 0.399416,
     "end_time": "2024-07-02T16:46:45.750944",
     "exception": false,
     "start_time": "2024-07-02T16:46:45.351528",
     "status": "completed"
    },
    "tags": []
   },
   "outputs": [
    {
     "name": "stderr",
     "output_type": "stream",
     "text": [
      "/opt/conda/lib/python3.10/site-packages/numpy/core/fromnumeric.py:59: FutureWarning: 'DataFrame.swapaxes' is deprecated and will be removed in a future version. Please use 'DataFrame.transpose' instead.\n",
      "  return bound(*args, **kwds)\n"
     ]
    }
   ],
   "source": [
    "train_data, hold_out = split_data(data)"
   ]
  },
  {
   "cell_type": "code",
   "execution_count": 63,
   "id": "0907bd46",
   "metadata": {
    "execution": {
     "iopub.execute_input": "2024-07-02T16:46:45.974686Z",
     "iopub.status.busy": "2024-07-02T16:46:45.973678Z",
     "iopub.status.idle": "2024-07-02T16:46:45.981557Z",
     "shell.execute_reply": "2024-07-02T16:46:45.980393Z"
    },
    "id": "IG-_sUBMqnAN",
    "papermill": {
     "duration": 0.122921,
     "end_time": "2024-07-02T16:46:45.983984",
     "exception": false,
     "start_time": "2024-07-02T16:46:45.861063",
     "status": "completed"
    },
    "tags": []
   },
   "outputs": [],
   "source": [
    "def return_result_df(hold_out, y_hold_out, data, train_data, pos, pnl):\n",
    "    result = pd.DataFrame()\n",
    "    result['Close_Holdout'] = hold_out['Close']\n",
    "    result['Ground_value_Holdout'] = hold_out['Return']\n",
    "    result['Predict_diff_Holdout'] = pd.Series(y_hold_out, index=data.index[len(train_data):len(data)])\n",
    "    result['Position_predict_Holdout'] = pd.Series(pos, index=data.index[len(train_data):len(data)])\n",
    "    result['PNL_Holdout'] = pd.Series(pnl)\n",
    "    return result"
   ]
  },
  {
   "cell_type": "code",
   "execution_count": 64,
   "id": "76f68680",
   "metadata": {
    "execution": {
     "iopub.execute_input": "2024-07-02T16:46:46.206794Z",
     "iopub.status.busy": "2024-07-02T16:46:46.206332Z",
     "iopub.status.idle": "2024-07-02T16:46:48.532886Z",
     "shell.execute_reply": "2024-07-02T16:46:48.531695Z"
    },
    "id": "tMF5DfvAqnAN",
    "outputId": "79dd049d-40b4-4f0d-992d-40902be6742c",
    "papermill": {
     "duration": 2.441763,
     "end_time": "2024-07-02T16:46:48.535929",
     "exception": false,
     "start_time": "2024-07-02T16:46:46.094166",
     "status": "completed"
    },
    "tags": []
   },
   "outputs": [
    {
     "name": "stderr",
     "output_type": "stream",
     "text": [
      "/opt/conda/lib/python3.10/site-packages/numpy/core/fromnumeric.py:59: FutureWarning: 'DataFrame.swapaxes' is deprecated and will be removed in a future version. Please use 'DataFrame.transpose' instead.\n",
      "  return bound(*args, **kwds)\n"
     ]
    },
    {
     "name": "stdout",
     "output_type": "stream",
     "text": [
      "Pnl ratio for cluster 0: 237494         NaN\n",
      "237495         NaN\n",
      "237496         NaN\n",
      "237497         NaN\n",
      "237498         NaN\n",
      "            ...   \n",
      "356235    0.285851\n",
      "356236    0.285851\n",
      "356237    0.285851\n",
      "356238    0.285851\n",
      "356239    0.285851\n",
      "Length: 118746, dtype: float64\n"
     ]
    },
    {
     "name": "stderr",
     "output_type": "stream",
     "text": [
      "/opt/conda/lib/python3.10/site-packages/numpy/core/fromnumeric.py:59: FutureWarning: 'DataFrame.swapaxes' is deprecated and will be removed in a future version. Please use 'DataFrame.transpose' instead.\n",
      "  return bound(*args, **kwds)\n",
      "/opt/conda/lib/python3.10/site-packages/numpy/core/fromnumeric.py:59: FutureWarning: 'DataFrame.swapaxes' is deprecated and will be removed in a future version. Please use 'DataFrame.transpose' instead.\n",
      "  return bound(*args, **kwds)\n"
     ]
    },
    {
     "name": "stdout",
     "output_type": "stream",
     "text": [
      "Pnl ratio for cluster 1: 237494         NaN\n",
      "237495         NaN\n",
      "237496         NaN\n",
      "237497         NaN\n",
      "237498         NaN\n",
      "            ...   \n",
      "356235   -0.512207\n",
      "356236   -0.512207\n",
      "356237   -0.512207\n",
      "356238   -0.512207\n",
      "356239   -0.512207\n",
      "Length: 118746, dtype: float64\n"
     ]
    },
    {
     "data": {
      "image/png": "[encoded data removed]",
      "text/plain": [
       "<Figure size 1000x1200 with 2 Axes>"
      ]
     },
     "metadata": {},
     "output_type": "display_data"
    }
   ],
   "source": [
    "pnl_data = []\n",
    "sharpe_list = []\n",
    "result = None\n",
    "trade_threshold  = 0.0005\n",
    "\n",
    "# Create a single figure and set of subplots\n",
    "fig, axes = plt.subplots(len(selected_columns_cluster), figsize=(10, 12))\n",
    "\n",
    "for idx, data_item in enumerate(selected_columns_cluster):\n",
    "#     _, hold_out_cols = split_data(data_item)\n",
    "    train_cols, _ = split_data(data_item)\n",
    "    optuna_data = scale_data(train_cols)\n",
    "    _, hold_out_cols = split_data(data_item)\n",
    "    optuna_data = optuna_data.replace([np.inf, -np.inf], np.nan)\n",
    "    optuna_data = optuna_data.fillna(0).astype(np.float64)\n",
    "    hold_out_cols = hold_out_cols.replace([np.inf, -np.inf], np.nan)\n",
    "    hold_out_cols = hold_out_cols.fillna(0).astype(np.float64)\n",
    "\n",
    "    xbg_reg = GradientBoostingRegressor()\n",
    "    # Create and train model\n",
    "#     xbg_reg.load_model(f\"best_in_cluster_{idx}.json\")\n",
    "    with open(f\"best_in_cluster_{idx}.pkl\", 'rb') as f:\n",
    "        xbg_reg = pickle.load(f)\n",
    "    # Make predictions\n",
    "    hold_out_cols.columns = optuna_data.columns\n",
    "    y_hold_out = xbg_reg.predict(hold_out_cols)\n",
    "    pos, pnl, daily, sharpe = sharpe_for_vn30f(y_hold_out, hold_out['Return'], trade_threshold=trade_threshold, fee_perc=0.01, periods=10)\n",
    "\n",
    "    print(f\"Pnl ratio for cluster {idx}: {pnl}\")\n",
    "    # Append PnL data to the list\n",
    "    pnl_data.append(pnl)\n",
    "    result = return_result_df(hold_out, y_hold_out, data, train_data, pos, pnl)\n",
    "    sharpe_list.append(sharpe)\n",
    "    \n",
    "    # Plot PnL for each cluster\n",
    "    if len(selected_columns_cluster) == 1:\n",
    "        ax = axes\n",
    "    else:\n",
    "        ax = axes[idx]\n",
    "\n",
    "    ax.plot(pnl, label=f'Cluster {idx}')\n",
    "    ax.set_title(f'PnL for Cluster {idx}')\n",
    "    ax.set_xlabel('Date')\n",
    "    ax.set_ylabel('PnL')\n",
    "    ax.legend()\n",
    "    ax.grid(True)\n",
    "\n",
    "# Adjust layout\n",
    "plt.tight_layout()\n",
    "plt.show()"
   ]
  },
  {
   "cell_type": "code",
   "execution_count": 65,
   "id": "421bff74",
   "metadata": {
    "execution": {
     "iopub.execute_input": "2024-07-02T16:46:48.766825Z",
     "iopub.status.busy": "2024-07-02T16:46:48.766374Z",
     "iopub.status.idle": "2024-07-02T16:46:48.773049Z",
     "shell.execute_reply": "2024-07-02T16:46:48.771963Z"
    },
    "id": "MuHQIzsZqnAN",
    "outputId": "33f0b1d4-1ec4-4565-b5be-60293c612b50",
    "papermill": {
     "duration": 0.124395,
     "end_time": "2024-07-02T16:46:48.775497",
     "exception": false,
     "start_time": "2024-07-02T16:46:48.651102",
     "status": "completed"
    },
    "tags": []
   },
   "outputs": [
    {
     "name": "stdout",
     "output_type": "stream",
     "text": [
      "['14 0 6 4 11 2 9 7 12 1', '1 6 0 9 4 8 5 10 13 2']\n"
     ]
    }
   ],
   "source": [
    "#Top 10 feature into list\n",
    "feature=[]\n",
    "for i in top_10_features_per_cluster:\n",
    "    listToStr = ' '.join([str(elem) for elem in i])\n",
    "    feature.append(listToStr)\n",
    "print(feature)"
   ]
  },
  {
   "cell_type": "code",
   "execution_count": 66,
   "id": "5e9011ef",
   "metadata": {
    "execution": {
     "iopub.execute_input": "2024-07-02T16:46:49.004127Z",
     "iopub.status.busy": "2024-07-02T16:46:49.003713Z",
     "iopub.status.idle": "2024-07-02T16:46:49.009114Z",
     "shell.execute_reply": "2024-07-02T16:46:49.008047Z"
    },
    "id": "CYX69HnfqnAN",
    "papermill": {
     "duration": 0.123195,
     "end_time": "2024-07-02T16:46:49.011600",
     "exception": false,
     "start_time": "2024-07-02T16:46:48.888405",
     "status": "completed"
    },
    "tags": []
   },
   "outputs": [],
   "source": [
    "name=[]\n",
    "for i in range(len(selected_columns_cluster)):\n",
    "  name.append( 'Cluster '+ str(i))"
   ]
  },
  {
   "cell_type": "code",
   "execution_count": 67,
   "id": "fdcf1d3d",
   "metadata": {
    "execution": {
     "iopub.execute_input": "2024-07-02T16:46:49.242025Z",
     "iopub.status.busy": "2024-07-02T16:46:49.240955Z",
     "iopub.status.idle": "2024-07-02T16:46:49.255781Z",
     "shell.execute_reply": "2024-07-02T16:46:49.254721Z"
    },
    "id": "zj3kWFscqnAO",
    "outputId": "804b6e0b-c973-4037-d564-f879dacdad14",
    "papermill": {
     "duration": 0.13288,
     "end_time": "2024-07-02T16:46:49.258127",
     "exception": false,
     "start_time": "2024-07-02T16:46:49.125247",
     "status": "completed"
    },
    "tags": []
   },
   "outputs": [
    {
     "data": {
      "text/html": [
       "<div>\n",
       "<style scoped>\n",
       "    .dataframe tbody tr th:only-of-type {\n",
       "        vertical-align: middle;\n",
       "    }\n",
       "\n",
       "    .dataframe tbody tr th {\n",
       "        vertical-align: top;\n",
       "    }\n",
       "\n",
       "    .dataframe thead th {\n",
       "        text-align: right;\n",
       "    }\n",
       "</style>\n",
       "<table border=\"1\" class=\"dataframe\">\n",
       "  <thead>\n",
       "    <tr style=\"text-align: right;\">\n",
       "      <th></th>\n",
       "      <th>Top 10 Feature</th>\n",
       "      <th>Best params</th>\n",
       "      <th>Best sharpe</th>\n",
       "    </tr>\n",
       "  </thead>\n",
       "  <tbody>\n",
       "    <tr>\n",
       "      <th>Cluster 0</th>\n",
       "      <td>14 0 6 4 11 2 9 7 12 1</td>\n",
       "      <td>{'n_estimators': 177, 'learning_rate': 0.01861...</td>\n",
       "      <td>0.809685</td>\n",
       "    </tr>\n",
       "    <tr>\n",
       "      <th>Cluster 1</th>\n",
       "      <td>1 6 0 9 4 8 5 10 13 2</td>\n",
       "      <td>{'n_estimators': 223, 'learning_rate': 0.03728...</td>\n",
       "      <td>-1.270859</td>\n",
       "    </tr>\n",
       "  </tbody>\n",
       "</table>\n",
       "</div>"
      ],
      "text/plain": [
       "                   Top 10 Feature  \\\n",
       "Cluster 0  14 0 6 4 11 2 9 7 12 1   \n",
       "Cluster 1   1 6 0 9 4 8 5 10 13 2   \n",
       "\n",
       "                                                 Best params  Best sharpe  \n",
       "Cluster 0  {'n_estimators': 177, 'learning_rate': 0.01861...     0.809685  \n",
       "Cluster 1  {'n_estimators': 223, 'learning_rate': 0.03728...    -1.270859  "
      ]
     },
     "execution_count": 67,
     "metadata": {},
     "output_type": "execute_result"
    }
   ],
   "source": [
    "dict = {'Top 10 Feature' : feature, 'Best params': best_params_list, 'Best sharpe':sharpe_list}\n",
    "df_result = pd.DataFrame(dict, index=name)\n",
    "df_result"
   ]
  },
  {
   "cell_type": "code",
   "execution_count": 68,
   "id": "c13be049",
   "metadata": {
    "execution": {
     "iopub.execute_input": "2024-07-02T16:46:49.490841Z",
     "iopub.status.busy": "2024-07-02T16:46:49.490422Z",
     "iopub.status.idle": "2024-07-02T16:46:49.508323Z",
     "shell.execute_reply": "2024-07-02T16:46:49.507109Z"
    },
    "id": "gC6RQbaHqnAO",
    "outputId": "b1910dd5-1367-4514-ece4-2c49ef48804c",
    "papermill": {
     "duration": 0.137794,
     "end_time": "2024-07-02T16:46:49.510683",
     "exception": false,
     "start_time": "2024-07-02T16:46:49.372889",
     "status": "completed"
    },
    "tags": []
   },
   "outputs": [
    {
     "data": {
      "text/html": [
       "<div>\n",
       "<style scoped>\n",
       "    .dataframe tbody tr th:only-of-type {\n",
       "        vertical-align: middle;\n",
       "    }\n",
       "\n",
       "    .dataframe tbody tr th {\n",
       "        vertical-align: top;\n",
       "    }\n",
       "\n",
       "    .dataframe thead th {\n",
       "        text-align: right;\n",
       "    }\n",
       "</style>\n",
       "<table border=\"1\" class=\"dataframe\">\n",
       "  <thead>\n",
       "    <tr style=\"text-align: right;\">\n",
       "      <th></th>\n",
       "      <th>Cluster 0</th>\n",
       "      <th>Cluster 1</th>\n",
       "    </tr>\n",
       "  </thead>\n",
       "  <tbody>\n",
       "    <tr>\n",
       "      <th>237494</th>\n",
       "      <td>NaN</td>\n",
       "      <td>NaN</td>\n",
       "    </tr>\n",
       "    <tr>\n",
       "      <th>237495</th>\n",
       "      <td>NaN</td>\n",
       "      <td>NaN</td>\n",
       "    </tr>\n",
       "    <tr>\n",
       "      <th>237496</th>\n",
       "      <td>NaN</td>\n",
       "      <td>NaN</td>\n",
       "    </tr>\n",
       "    <tr>\n",
       "      <th>237497</th>\n",
       "      <td>NaN</td>\n",
       "      <td>NaN</td>\n",
       "    </tr>\n",
       "    <tr>\n",
       "      <th>237498</th>\n",
       "      <td>NaN</td>\n",
       "      <td>NaN</td>\n",
       "    </tr>\n",
       "    <tr>\n",
       "      <th>...</th>\n",
       "      <td>...</td>\n",
       "      <td>...</td>\n",
       "    </tr>\n",
       "    <tr>\n",
       "      <th>356235</th>\n",
       "      <td>0.285851</td>\n",
       "      <td>-0.512207</td>\n",
       "    </tr>\n",
       "    <tr>\n",
       "      <th>356236</th>\n",
       "      <td>0.285851</td>\n",
       "      <td>-0.512207</td>\n",
       "    </tr>\n",
       "    <tr>\n",
       "      <th>356237</th>\n",
       "      <td>0.285851</td>\n",
       "      <td>-0.512207</td>\n",
       "    </tr>\n",
       "    <tr>\n",
       "      <th>356238</th>\n",
       "      <td>0.285851</td>\n",
       "      <td>-0.512207</td>\n",
       "    </tr>\n",
       "    <tr>\n",
       "      <th>356239</th>\n",
       "      <td>0.285851</td>\n",
       "      <td>-0.512207</td>\n",
       "    </tr>\n",
       "  </tbody>\n",
       "</table>\n",
       "<p>118746 rows × 2 columns</p>\n",
       "</div>"
      ],
      "text/plain": [
       "        Cluster 0  Cluster 1\n",
       "237494        NaN        NaN\n",
       "237495        NaN        NaN\n",
       "237496        NaN        NaN\n",
       "237497        NaN        NaN\n",
       "237498        NaN        NaN\n",
       "...           ...        ...\n",
       "356235   0.285851  -0.512207\n",
       "356236   0.285851  -0.512207\n",
       "356237   0.285851  -0.512207\n",
       "356238   0.285851  -0.512207\n",
       "356239   0.285851  -0.512207\n",
       "\n",
       "[118746 rows x 2 columns]"
      ]
     },
     "execution_count": 68,
     "metadata": {},
     "output_type": "execute_result"
    }
   ],
   "source": [
    "#DataFrame of Pnl hold out\n",
    "df_pnl = pd.DataFrame()\n",
    "for i in range(len(selected_columns_cluster)):\n",
    "  df_pnl[name[i]]=pnl_data[i]\n",
    "df_pnl"
   ]
  },
  {
   "cell_type": "code",
   "execution_count": 69,
   "id": "e1f07688",
   "metadata": {
    "execution": {
     "iopub.execute_input": "2024-07-02T16:46:49.741886Z",
     "iopub.status.busy": "2024-07-02T16:46:49.741074Z",
     "iopub.status.idle": "2024-07-02T16:46:49.747590Z",
     "shell.execute_reply": "2024-07-02T16:46:49.746574Z"
    },
    "id": "URgaoxghKDDE",
    "papermill": {
     "duration": 0.125015,
     "end_time": "2024-07-02T16:46:49.749957",
     "exception": false,
     "start_time": "2024-07-02T16:46:49.624942",
     "status": "completed"
    },
    "tags": []
   },
   "outputs": [],
   "source": [
    "df_result.to_csv('gbr_result.csv')"
   ]
  },
  {
   "cell_type": "code",
   "execution_count": 70,
   "id": "eab834cd",
   "metadata": {
    "execution": {
     "iopub.execute_input": "2024-07-02T16:46:49.982485Z",
     "iopub.status.busy": "2024-07-02T16:46:49.981575Z",
     "iopub.status.idle": "2024-07-02T16:46:49.994304Z",
     "shell.execute_reply": "2024-07-02T16:46:49.993143Z"
    },
    "papermill": {
     "duration": 0.132462,
     "end_time": "2024-07-02T16:46:49.996600",
     "exception": false,
     "start_time": "2024-07-02T16:46:49.864138",
     "status": "completed"
    },
    "tags": []
   },
   "outputs": [
    {
     "data": {
      "text/html": [
       "<div>\n",
       "<style scoped>\n",
       "    .dataframe tbody tr th:only-of-type {\n",
       "        vertical-align: middle;\n",
       "    }\n",
       "\n",
       "    .dataframe tbody tr th {\n",
       "        vertical-align: top;\n",
       "    }\n",
       "\n",
       "    .dataframe thead th {\n",
       "        text-align: right;\n",
       "    }\n",
       "</style>\n",
       "<table border=\"1\" class=\"dataframe\">\n",
       "  <thead>\n",
       "    <tr style=\"text-align: right;\">\n",
       "      <th></th>\n",
       "      <th>Top 10 Feature</th>\n",
       "      <th>Best params</th>\n",
       "      <th>Best sharpe</th>\n",
       "    </tr>\n",
       "  </thead>\n",
       "  <tbody>\n",
       "    <tr>\n",
       "      <th>Cluster 0</th>\n",
       "      <td>14 0 6 4 11 2 9 7 12 1</td>\n",
       "      <td>{'n_estimators': 177, 'learning_rate': 0.01861...</td>\n",
       "      <td>0.809685</td>\n",
       "    </tr>\n",
       "    <tr>\n",
       "      <th>Cluster 1</th>\n",
       "      <td>1 6 0 9 4 8 5 10 13 2</td>\n",
       "      <td>{'n_estimators': 223, 'learning_rate': 0.03728...</td>\n",
       "      <td>-1.270859</td>\n",
       "    </tr>\n",
       "  </tbody>\n",
       "</table>\n",
       "</div>"
      ],
      "text/plain": [
       "                   Top 10 Feature  \\\n",
       "Cluster 0  14 0 6 4 11 2 9 7 12 1   \n",
       "Cluster 1   1 6 0 9 4 8 5 10 13 2   \n",
       "\n",
       "                                                 Best params  Best sharpe  \n",
       "Cluster 0  {'n_estimators': 177, 'learning_rate': 0.01861...     0.809685  \n",
       "Cluster 1  {'n_estimators': 223, 'learning_rate': 0.03728...    -1.270859  "
      ]
     },
     "execution_count": 70,
     "metadata": {},
     "output_type": "execute_result"
    }
   ],
   "source": [
    "df_result"
   ]
  },
  {
   "cell_type": "code",
   "execution_count": null,
   "id": "d4d9d56a",
   "metadata": {
    "papermill": {
     "duration": 0.114418,
     "end_time": "2024-07-02T16:46:50.224237",
     "exception": false,
     "start_time": "2024-07-02T16:46:50.109819",
     "status": "completed"
    },
    "tags": []
   },
   "outputs": [],
   "source": []
  }
 ],
 "metadata": {
  "colab": {
   "collapsed_sections": [
    "EhK1f5uMqm_4",
    "1AoNRGHXqm_7",
    "cWnAMLgxqm_9"
   ],
   "provenance": []
  },
  "kaggle": {
   "accelerator": "none",
   "dataSources": [
    {
     "datasetId": 5289951,
     "sourceId": 8797461,
     "sourceType": "datasetVersion"
    }
   ],
   "dockerImageVersionId": 30732,
   "isGpuEnabled": false,
   "isInternetEnabled": true,
   "language": "python",
   "sourceType": "notebook"
  },
  "kernelspec": {
   "display_name": "Python 3",
   "language": "python",
   "name": "python3"
  },
  "language_info": {
   "codemirror_mode": {
    "name": "ipython",
    "version": 3
   },
   "file_extension": ".py",
   "mimetype": "text/x-python",
   "name": "python",
   "nbconvert_exporter": "python",
   "pygments_lexer": "ipython3",
   "version": "3.10.13"
  },
  "papermill": {
   "default_parameters": {},
   "duration": 36366.57719,
   "end_time": "2024-07-02T16:46:51.354807",
   "environment_variables": {},
   "exception": null,
   "input_path": "__notebook__.ipynb",
   "output_path": "__notebook__.ipynb",
   "parameters": {},
   "start_time": "2024-07-02T06:40:44.777617",
   "version": "2.5.0"
  }
 },
 "nbformat": 4,
 "nbformat_minor": 5
}
