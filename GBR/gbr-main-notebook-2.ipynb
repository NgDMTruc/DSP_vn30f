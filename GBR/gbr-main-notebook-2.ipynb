{
 "cells": [
  {
   "cell_type": "markdown",
   "id": "086c8999",
   "metadata": {
    "id": "EhK1f5uMqm_4",
    "papermill": {
     "duration": 0.014982,
     "end_time": "2024-07-01T13:31:23.468467",
     "exception": false,
     "start_time": "2024-07-01T13:31:23.453485",
     "status": "completed"
    },
    "tags": []
   },
   "source": [
    "## Install dependencies"
   ]
  },
  {
   "cell_type": "code",
   "execution_count": 1,
   "id": "12947c2a",
   "metadata": {
    "execution": {
     "iopub.execute_input": "2024-07-01T13:31:23.501826Z",
     "iopub.status.busy": "2024-07-01T13:31:23.501024Z",
     "iopub.status.idle": "2024-07-01T13:31:39.316183Z",
     "shell.execute_reply": "2024-07-01T13:31:39.315101Z"
    },
    "id": "9y1X1vpKq88O",
    "outputId": "e50c0458-a807-49bc-d7f2-cf5088bba55d",
    "papermill": {
     "duration": 15.833875,
     "end_time": "2024-07-01T13:31:39.318639",
     "exception": false,
     "start_time": "2024-07-01T13:31:23.484764",
     "status": "completed"
    },
    "tags": []
   },
   "outputs": [
    {
     "name": "stdout",
     "output_type": "stream",
     "text": [
      "Requirement already satisfied: optuna in /opt/conda/lib/python3.10/site-packages (3.6.1)\r\n",
      "Requirement already satisfied: joblib in /opt/conda/lib/python3.10/site-packages (1.4.2)\r\n",
      "Requirement already satisfied: xgboost in /opt/conda/lib/python3.10/site-packages (2.0.3)\r\n",
      "Collecting ta\r\n",
      "  Downloading ta-0.11.0.tar.gz (25 kB)\r\n",
      "  Preparing metadata (setup.py) ... \u001b[?25l-\b \bdone\r\n",
      "\u001b[?25hCollecting vnstock\r\n",
      "  Downloading vnstock-0.2.9.0-py3-none-any.whl.metadata (7.9 kB)\r\n",
      "Requirement already satisfied: alembic>=1.5.0 in /opt/conda/lib/python3.10/site-packages (from optuna) (1.13.1)\r\n",
      "Requirement already satisfied: colorlog in /opt/conda/lib/python3.10/site-packages (from optuna) (6.8.2)\r\n",
      "Requirement already satisfied: numpy in /opt/conda/lib/python3.10/site-packages (from optuna) (1.26.4)\r\n",
      "Requirement already satisfied: packaging>=20.0 in /opt/conda/lib/python3.10/site-packages (from optuna) (21.3)\r\n",
      "Requirement already satisfied: sqlalchemy>=1.3.0 in /opt/conda/lib/python3.10/site-packages (from optuna) (2.0.25)\r\n",
      "Requirement already satisfied: tqdm in /opt/conda/lib/python3.10/site-packages (from optuna) (4.66.4)\r\n",
      "Requirement already satisfied: PyYAML in /opt/conda/lib/python3.10/site-packages (from optuna) (6.0.1)\r\n",
      "Requirement already satisfied: scipy in /opt/conda/lib/python3.10/site-packages (from xgboost) (1.11.4)\r\n",
      "Requirement already satisfied: pandas in /opt/conda/lib/python3.10/site-packages (from ta) (2.2.2)\r\n",
      "Requirement already satisfied: Mako in /opt/conda/lib/python3.10/site-packages (from alembic>=1.5.0->optuna) (1.3.5)\r\n",
      "Requirement already satisfied: typing-extensions>=4 in /opt/conda/lib/python3.10/site-packages (from alembic>=1.5.0->optuna) (4.9.0)\r\n",
      "Requirement already satisfied: pyparsing!=3.0.5,>=2.0.2 in /opt/conda/lib/python3.10/site-packages (from packaging>=20.0->optuna) (3.1.1)\r\n",
      "Requirement already satisfied: greenlet!=0.4.17 in /opt/conda/lib/python3.10/site-packages (from sqlalchemy>=1.3.0->optuna) (3.0.3)\r\n",
      "Requirement already satisfied: python-dateutil>=2.8.2 in /opt/conda/lib/python3.10/site-packages (from pandas->ta) (2.9.0.post0)\r\n",
      "Requirement already satisfied: pytz>=2020.1 in /opt/conda/lib/python3.10/site-packages (from pandas->ta) (2023.3.post1)\r\n",
      "Requirement already satisfied: tzdata>=2022.7 in /opt/conda/lib/python3.10/site-packages (from pandas->ta) (2023.4)\r\n",
      "Requirement already satisfied: six>=1.5 in /opt/conda/lib/python3.10/site-packages (from python-dateutil>=2.8.2->pandas->ta) (1.16.0)\r\n",
      "Requirement already satisfied: MarkupSafe>=0.9.2 in /opt/conda/lib/python3.10/site-packages (from Mako->alembic>=1.5.0->optuna) (2.1.3)\r\n",
      "Downloading vnstock-0.2.9.0-py3-none-any.whl (37 kB)\r\n",
      "Building wheels for collected packages: ta\r\n",
      "  Building wheel for ta (setup.py) ... \u001b[?25l-\b \b\\\b \bdone\r\n",
      "\u001b[?25h  Created wheel for ta: filename=ta-0.11.0-py3-none-any.whl size=29413 sha256=c0355e1329a16515f3828c233d4484bdb72f4a49dfb32de12f48f90681f5ccd4\r\n",
      "  Stored in directory: /root/.cache/pip/wheels/5f/67/4f/8a9f252836e053e532c6587a3230bc72a4deb16b03a829610b\r\n",
      "Successfully built ta\r\n",
      "Installing collected packages: vnstock, ta\r\n",
      "Successfully installed ta-0.11.0 vnstock-0.2.9.0\r\n"
     ]
    }
   ],
   "source": [
    "!pip install optuna joblib xgboost ta vnstock"
   ]
  },
  {
   "cell_type": "code",
   "execution_count": 2,
   "id": "628d6d12",
   "metadata": {
    "execution": {
     "iopub.execute_input": "2024-07-01T13:31:39.353501Z",
     "iopub.status.busy": "2024-07-01T13:31:39.353123Z",
     "iopub.status.idle": "2024-07-01T13:31:53.966021Z",
     "shell.execute_reply": "2024-07-01T13:31:53.964762Z"
    },
    "id": "gpQcYaNLXb4K",
    "outputId": "206fd270-f538-445e-cc3a-d05a2d9136c3",
    "papermill": {
     "duration": 14.63396,
     "end_time": "2024-07-01T13:31:53.968735",
     "exception": false,
     "start_time": "2024-07-01T13:31:39.334775",
     "status": "completed"
    },
    "tags": []
   },
   "outputs": [
    {
     "name": "stdout",
     "output_type": "stream",
     "text": [
      "Collecting pandas-ta\r\n",
      "  Downloading pandas_ta-0.3.14b.tar.gz (115 kB)\r\n",
      "\u001b[2K     \u001b[90m━━━━━━━━━━━━━━━━━━━━━━━━━━━━━━━━━━━━━━━\u001b[0m \u001b[32m115.1/115.1 kB\u001b[0m \u001b[31m2.7 MB/s\u001b[0m eta \u001b[36m0:00:00\u001b[0m\r\n",
      "\u001b[?25h  Preparing metadata (setup.py) ... \u001b[?25l-\b \b\\\b \bdone\r\n",
      "\u001b[?25hRequirement already satisfied: pandas in /opt/conda/lib/python3.10/site-packages (from pandas-ta) (2.2.2)\r\n",
      "Requirement already satisfied: numpy>=1.22.4 in /opt/conda/lib/python3.10/site-packages (from pandas->pandas-ta) (1.26.4)\r\n",
      "Requirement already satisfied: python-dateutil>=2.8.2 in /opt/conda/lib/python3.10/site-packages (from pandas->pandas-ta) (2.9.0.post0)\r\n",
      "Requirement already satisfied: pytz>=2020.1 in /opt/conda/lib/python3.10/site-packages (from pandas->pandas-ta) (2023.3.post1)\r\n",
      "Requirement already satisfied: tzdata>=2022.7 in /opt/conda/lib/python3.10/site-packages (from pandas->pandas-ta) (2023.4)\r\n",
      "Requirement already satisfied: six>=1.5 in /opt/conda/lib/python3.10/site-packages (from python-dateutil>=2.8.2->pandas->pandas-ta) (1.16.0)\r\n",
      "Building wheels for collected packages: pandas-ta\r\n",
      "  Building wheel for pandas-ta (setup.py) ... \u001b[?25l-\b \b\\\b \b|\b \bdone\r\n",
      "\u001b[?25h  Created wheel for pandas-ta: filename=pandas_ta-0.3.14b0-py3-none-any.whl size=218910 sha256=123bebb9cc10f46d455d2a215b98127ad57ba00f9b7b41c6cb0d06c6c1866894\r\n",
      "  Stored in directory: /root/.cache/pip/wheels/69/00/ac/f7fa862c34b0e2ef320175100c233377b4c558944f12474cf0\r\n",
      "Successfully built pandas-ta\r\n",
      "Installing collected packages: pandas-ta\r\n",
      "Successfully installed pandas-ta-0.3.14b0\r\n"
     ]
    }
   ],
   "source": [
    "!pip install --upgrade pandas-ta"
   ]
  },
  {
   "cell_type": "code",
   "execution_count": 3,
   "id": "9f1209be",
   "metadata": {
    "execution": {
     "iopub.execute_input": "2024-07-01T13:31:54.004669Z",
     "iopub.status.busy": "2024-07-01T13:31:54.004266Z",
     "iopub.status.idle": "2024-07-01T13:31:56.525225Z",
     "shell.execute_reply": "2024-07-01T13:31:56.524203Z"
    },
    "id": "-6lzb3uQqm_5",
    "papermill": {
     "duration": 2.541822,
     "end_time": "2024-07-01T13:31:56.527656",
     "exception": false,
     "start_time": "2024-07-01T13:31:53.985834",
     "status": "completed"
    },
    "tags": []
   },
   "outputs": [],
   "source": [
    "from datetime import datetime, timedelta, timezone\n",
    "import pandas as pd\n",
    "import numpy as np\n",
    "import requests\n",
    "import os\n",
    "import logging\n",
    "import sys\n",
    "import optuna\n",
    "import joblib\n",
    "import xgboost as xgb"
   ]
  },
  {
   "cell_type": "code",
   "execution_count": 4,
   "id": "338c20e6",
   "metadata": {
    "execution": {
     "iopub.execute_input": "2024-07-01T13:31:56.563785Z",
     "iopub.status.busy": "2024-07-01T13:31:56.563254Z",
     "iopub.status.idle": "2024-07-01T13:31:57.086926Z",
     "shell.execute_reply": "2024-07-01T13:31:57.086035Z"
    },
    "id": "BOUmyN92qm_6",
    "papermill": {
     "duration": 0.544277,
     "end_time": "2024-07-01T13:31:57.089453",
     "exception": false,
     "start_time": "2024-07-01T13:31:56.545176",
     "status": "completed"
    },
    "tags": []
   },
   "outputs": [],
   "source": [
    "from sklearn.model_selection import train_test_split\n",
    "from sklearn.preprocessing import StandardScaler\n",
    "from datetime import datetime, timedelta\n",
    "from ta import add_all_ta_features\n",
    "import pandas_ta as ta\n",
    "from sklearn.ensemble import GradientBoostingRegressor"
   ]
  },
  {
   "cell_type": "code",
   "execution_count": 5,
   "id": "1b7123c2",
   "metadata": {
    "execution": {
     "iopub.execute_input": "2024-07-01T13:31:57.127055Z",
     "iopub.status.busy": "2024-07-01T13:31:57.126666Z",
     "iopub.status.idle": "2024-07-01T13:31:57.131072Z",
     "shell.execute_reply": "2024-07-01T13:31:57.129964Z"
    },
    "id": "8WDgqNpBqm_7",
    "papermill": {
     "duration": 0.025389,
     "end_time": "2024-07-01T13:31:57.133203",
     "exception": false,
     "start_time": "2024-07-01T13:31:57.107814",
     "status": "completed"
    },
    "tags": []
   },
   "outputs": [],
   "source": [
    "import matplotlib.pyplot as plt\n",
    "import matplotlib"
   ]
  },
  {
   "cell_type": "markdown",
   "id": "305b8a7e",
   "metadata": {
    "id": "1AoNRGHXqm_7",
    "papermill": {
     "duration": 0.016638,
     "end_time": "2024-07-01T13:31:57.166778",
     "exception": false,
     "start_time": "2024-07-01T13:31:57.150140",
     "status": "completed"
    },
    "tags": []
   },
   "source": [
    "## Variables"
   ]
  },
  {
   "cell_type": "code",
   "execution_count": 6,
   "id": "e4cfd90e",
   "metadata": {
    "execution": {
     "iopub.execute_input": "2024-07-01T13:31:57.202264Z",
     "iopub.status.busy": "2024-07-01T13:31:57.201859Z",
     "iopub.status.idle": "2024-07-01T13:31:57.206805Z",
     "shell.execute_reply": "2024-07-01T13:31:57.205768Z"
    },
    "id": "U_IayMGGqm_7",
    "papermill": {
     "duration": 0.025444,
     "end_time": "2024-07-01T13:31:57.208925",
     "exception": false,
     "start_time": "2024-07-01T13:31:57.183481",
     "status": "completed"
    },
    "tags": []
   },
   "outputs": [],
   "source": [
    "current_storage = os.path.join(\"d:\", \"data\")\n",
    "vn30f_storage = os.path.join(current_storage, 'vn30f')"
   ]
  },
  {
   "cell_type": "code",
   "execution_count": 7,
   "id": "abdec10c",
   "metadata": {
    "execution": {
     "iopub.execute_input": "2024-07-01T13:31:57.245799Z",
     "iopub.status.busy": "2024-07-01T13:31:57.245424Z",
     "iopub.status.idle": "2024-07-01T13:31:57.250316Z",
     "shell.execute_reply": "2024-07-01T13:31:57.249312Z"
    },
    "id": "xEfE2-HKqm_7",
    "papermill": {
     "duration": 0.025868,
     "end_time": "2024-07-01T13:31:57.252449",
     "exception": false,
     "start_time": "2024-07-01T13:31:57.226581",
     "status": "completed"
    },
    "tags": []
   },
   "outputs": [],
   "source": [
    "start_time = 0\n",
    "now_time = 9999999999\n",
    "symbol = 'VN30F1M'\n",
    "rolling_window = 1 # Số phút muốn dự đoán tiếp theo"
   ]
  },
  {
   "cell_type": "code",
   "execution_count": 8,
   "id": "e62101c9",
   "metadata": {
    "execution": {
     "iopub.execute_input": "2024-07-01T13:31:57.288322Z",
     "iopub.status.busy": "2024-07-01T13:31:57.287482Z",
     "iopub.status.idle": "2024-07-01T13:31:57.292757Z",
     "shell.execute_reply": "2024-07-01T13:31:57.291790Z"
    },
    "id": "RpHTaKY6qm_9",
    "papermill": {
     "duration": 0.025456,
     "end_time": "2024-07-01T13:31:57.294831",
     "exception": false,
     "start_time": "2024-07-01T13:31:57.269375",
     "status": "completed"
    },
    "tags": []
   },
   "outputs": [],
   "source": [
    "# Add stream handler of stdout to show the messages\n",
    "optuna.logging.get_logger(\"optuna\").addHandler(logging.StreamHandler(sys.stdout))\n",
    "study_name = \"btc1-study\"  # Unique identifier of the study.\n",
    "storage_name = \"sqlite:///{}.db\".format(study_name)"
   ]
  },
  {
   "cell_type": "markdown",
   "id": "bf83d930",
   "metadata": {
    "id": "cWnAMLgxqm_9",
    "papermill": {
     "duration": 0.016668,
     "end_time": "2024-07-01T13:31:57.328605",
     "exception": false,
     "start_time": "2024-07-01T13:31:57.311937",
     "status": "completed"
    },
    "tags": []
   },
   "source": [
    "## Formulas"
   ]
  },
  {
   "cell_type": "code",
   "execution_count": 9,
   "id": "da455b17",
   "metadata": {
    "execution": {
     "iopub.execute_input": "2024-07-01T13:31:57.364744Z",
     "iopub.status.busy": "2024-07-01T13:31:57.364378Z",
     "iopub.status.idle": "2024-07-01T13:31:57.370054Z",
     "shell.execute_reply": "2024-07-01T13:31:57.369042Z"
    },
    "id": "nkBSamYkqm_9",
    "papermill": {
     "duration": 0.026504,
     "end_time": "2024-07-01T13:31:57.372009",
     "exception": false,
     "start_time": "2024-07-01T13:31:57.345505",
     "status": "completed"
    },
    "tags": []
   },
   "outputs": [],
   "source": [
    "def choose_position(roi, trade_threshold = 0.0005):\n",
    "    pos =0\n",
    "    # Predict position base on change in future\n",
    "    if roi > trade_threshold:\n",
    "        pos = 1\n",
    "    elif roi < -trade_threshold:\n",
    "        pos = -1\n",
    "    else:\n",
    "        pos = 0\n",
    "\n",
    "    return pos"
   ]
  },
  {
   "cell_type": "code",
   "execution_count": 10,
   "id": "5583b557",
   "metadata": {
    "execution": {
     "iopub.execute_input": "2024-07-01T13:31:57.407929Z",
     "iopub.status.busy": "2024-07-01T13:31:57.407099Z",
     "iopub.status.idle": "2024-07-01T13:31:57.413411Z",
     "shell.execute_reply": "2024-07-01T13:31:57.412432Z"
    },
    "id": "DvQTvE_-qm_-",
    "papermill": {
     "duration": 0.026547,
     "end_time": "2024-07-01T13:31:57.415507",
     "exception": false,
     "start_time": "2024-07-01T13:31:57.388960",
     "status": "completed"
    },
    "tags": []
   },
   "outputs": [],
   "source": [
    "def backtest_position_ps(position, price, percentage, periods):\n",
    "    # Shift positions to align with future price changes and handle NaN by filling with 0\n",
    "    pos = pd.Series(position, index=pd.Series(price).index).shift(1).fillna(0)\n",
    "    pos = pd.Series(pos).rolling(periods).sum() #pos for 10 hour predict\n",
    "\n",
    "    price_array = pd.Series(price).shift(1).fillna(0)\n",
    "\n",
    "    pos_diff = pos.diff()\n",
    "    fee = pos_diff*price_array*0.05*0.01\n",
    "\n",
    "    # Calculate price changes over the given periods\n",
    "    ch = pd.Series(price) - price_array\n",
    "\n",
    "    # Calculate total PnL\n",
    "    total_pnl = pos*ch - fee\n",
    "    return total_pnl"
   ]
  },
  {
   "cell_type": "code",
   "execution_count": 11,
   "id": "f866c3a7",
   "metadata": {
    "execution": {
     "iopub.execute_input": "2024-07-01T13:31:57.451512Z",
     "iopub.status.busy": "2024-07-01T13:31:57.450759Z",
     "iopub.status.idle": "2024-07-01T13:31:57.456201Z",
     "shell.execute_reply": "2024-07-01T13:31:57.455176Z"
    },
    "id": "KBSYVj2Eqm_-",
    "papermill": {
     "duration": 0.025647,
     "end_time": "2024-07-01T13:31:57.458250",
     "exception": false,
     "start_time": "2024-07-01T13:31:57.432603",
     "status": "completed"
    },
    "tags": []
   },
   "outputs": [],
   "source": [
    "def calculate_sharpe_ratio(pnl):\n",
    "    pnl = np.diff(pnl)\n",
    "    std = np.std(pnl) if np.std(pnl) != 0 else 0.001\n",
    "    sharpe = np.mean(pnl)/std*np.sqrt(252)\n",
    "    return sharpe"
   ]
  },
  {
   "cell_type": "code",
   "execution_count": 12,
   "id": "8f13355d",
   "metadata": {
    "execution": {
     "iopub.execute_input": "2024-07-01T13:31:57.494694Z",
     "iopub.status.busy": "2024-07-01T13:31:57.493824Z",
     "iopub.status.idle": "2024-07-01T13:31:57.500500Z",
     "shell.execute_reply": "2024-07-01T13:31:57.499544Z"
    },
    "id": "R6Wk1h4Bqm_-",
    "papermill": {
     "duration": 0.027228,
     "end_time": "2024-07-01T13:31:57.502655",
     "exception": false,
     "start_time": "2024-07-01T13:31:57.475427",
     "status": "completed"
    },
    "tags": []
   },
   "outputs": [],
   "source": [
    "def sharpe_for_vn30f(y_pred, y_price, trade_threshold, fee_perc, periods):\n",
    "\n",
    "    # Predict position base on change in future\n",
    "    pos = [choose_position(roi, trade_threshold) for roi in y_pred]\n",
    "    pos = np.array(pos)\n",
    "\n",
    "    # Calculate PNL\n",
    "    pnl = backtest_position_ps(pos, y_price, fee_perc, periods)\n",
    "    pnl = np.cumsum(pnl)\n",
    "\n",
    "    # Standardalize PNL to date\n",
    "    daily_pnl = [pnl.iloc[i] for i in range(0, len(pnl), 241)]\n",
    "    daily_pnl = pd.Series(daily_pnl).fillna(0)\n",
    "\n",
    "    # Calculate Sharpe\n",
    "    sharpe = calculate_sharpe_ratio(daily_pnl)\n",
    "\n",
    "    return pos, pnl, daily_pnl, sharpe"
   ]
  },
  {
   "cell_type": "code",
   "execution_count": 13,
   "id": "10ebc8e6",
   "metadata": {
    "execution": {
     "iopub.execute_input": "2024-07-01T13:31:57.539238Z",
     "iopub.status.busy": "2024-07-01T13:31:57.538841Z",
     "iopub.status.idle": "2024-07-01T13:31:57.544552Z",
     "shell.execute_reply": "2024-07-01T13:31:57.543622Z"
    },
    "id": "tFGU3CMsqm__",
    "papermill": {
     "duration": 0.026915,
     "end_time": "2024-07-01T13:31:57.547071",
     "exception": false,
     "start_time": "2024-07-01T13:31:57.520156",
     "status": "completed"
    },
    "tags": []
   },
   "outputs": [],
   "source": [
    "def calculate_hitrate(pos_predict, pos_true):\n",
    "    if len(pos_predict) != len(pos_true):\n",
    "        raise ValueError(\"Độ dài của hai mảng không khớp\")\n",
    "\n",
    "    # Tính số lượng dự đoán đúng (các phần tử tương ứng giống nhau)\n",
    "    correct_predictions = np.sum(pos_predict == pos_true)\n",
    "\n",
    "    # Tính tỷ lệ hit rate\n",
    "    hit_rate_value = correct_predictions / len(pos_predict)\n",
    "\n",
    "    return hit_rate_value"
   ]
  },
  {
   "cell_type": "markdown",
   "id": "b61f910d",
   "metadata": {
    "id": "fmDF4G5hqm__",
    "papermill": {
     "duration": 0.01702,
     "end_time": "2024-07-01T13:31:57.582506",
     "exception": false,
     "start_time": "2024-07-01T13:31:57.565486",
     "status": "completed"
    },
    "tags": []
   },
   "source": [
    "# Function for data"
   ]
  },
  {
   "cell_type": "code",
   "execution_count": 14,
   "id": "a909e3c6",
   "metadata": {
    "execution": {
     "iopub.execute_input": "2024-07-01T13:31:57.620636Z",
     "iopub.status.busy": "2024-07-01T13:31:57.620282Z",
     "iopub.status.idle": "2024-07-01T13:31:57.626081Z",
     "shell.execute_reply": "2024-07-01T13:31:57.625048Z"
    },
    "id": "aBNzE_Pkqm__",
    "papermill": {
     "duration": 0.028026,
     "end_time": "2024-07-01T13:31:57.628050",
     "exception": false,
     "start_time": "2024-07-01T13:31:57.600024",
     "status": "completed"
    },
    "tags": []
   },
   "outputs": [],
   "source": [
    "def scale_data(data):\n",
    "    scaler = StandardScaler()\n",
    "    data = np.where(np.isinf(data), np.nan, data)\n",
    "    data = pd.DataFrame(data)\n",
    "    data = data.fillna(0)\n",
    "    scaler.fit(data)\n",
    "    data=pd.DataFrame(scaler.transform(data), index=data.index, columns=data.columns)\n",
    "\n",
    "    return data"
   ]
  },
  {
   "cell_type": "code",
   "execution_count": 15,
   "id": "62708379",
   "metadata": {
    "execution": {
     "iopub.execute_input": "2024-07-01T13:31:57.664566Z",
     "iopub.status.busy": "2024-07-01T13:31:57.663736Z",
     "iopub.status.idle": "2024-07-01T13:31:57.673576Z",
     "shell.execute_reply": "2024-07-01T13:31:57.672556Z"
    },
    "id": "rqUtt9Jbqm__",
    "papermill": {
     "duration": 0.03036,
     "end_time": "2024-07-01T13:31:57.675740",
     "exception": false,
     "start_time": "2024-07-01T13:31:57.645380",
     "status": "completed"
    },
    "tags": []
   },
   "outputs": [],
   "source": [
    "def split_data(data):\n",
    "    \"\"\"\n",
    "    Hàm này chia dữ liệu thành 2 phần: tập huấn luyện và tập hold out.\n",
    "\n",
    "    Args:\n",
    "    data (pandas.DataFrame): DataFrame chứa dữ liệu cần chia.\n",
    "\n",
    "    Returns:\n",
    "    pandas.DataFrame: DataFrame chứa dữ liệu tập huấn luyện.\n",
    "    pandas.DataFrame: DataFrame chứa dữ liệu tập giữ lại.\n",
    "    \"\"\"\n",
    "    # Chia dữ liệu thành 3 phần\n",
    "    new_part = np.array_split(data, 3)\n",
    "\n",
    "    # Access each part individually\n",
    "    hold_out = new_part[2]\n",
    "    train_data = pd.concat([new_part[0], new_part[1]], axis=0)\n",
    "\n",
    "    return train_data, hold_out\n",
    "\n",
    "def split_optuna_data(data):\n",
    "    \"\"\"\n",
    "    Hàm này chia dữ liệu thành các tập train và test để sử dụng trong quá trình tối ưu hóa bằng Optuna.\n",
    "\n",
    "    Args:\n",
    "    data (pandas.DataFrame): DataFrame chứa dữ liệu cần chia.\n",
    "\n",
    "    Returns:\n",
    "    pandas.DataFrame: DataFrame chứa dữ liệu train (đã được chuẩn hóa).\n",
    "    pandas.DataFrame: DataFrame chứa dữ liệu test (đã được chuẩn hóa).\n",
    "    pandas.Series: Series chứa nhãn tương ứng với dữ liệu train.\n",
    "    pandas.Series: Series chứa nhãn tương ứng với dữ liệu test.\n",
    "    \"\"\"\n",
    "    # Chia dữ liệu thành tập train và tập hold out\n",
    "    train_data, _ = split_data(data)\n",
    "\n",
    "    # Loại bỏ các cột không cần thiết\n",
    "    if 'Open' in train_data.columns:\n",
    "        optuna_data = train_data.drop(['Open','High','Low','Close','Volume', 'Return', 'Date', 'time'], axis=1)\n",
    "    else:\n",
    "        optuna_data = train_data.drop(['Close', 'Return', 'Date', 'time'], axis=1)\n",
    "\n",
    "    # Chuẩn hóa dữ liệu\n",
    "    optuna_data = scale_data(optuna_data)\n",
    "\n",
    "    # Chia dữ liệu thành tập train và tập test\n",
    "    X_train, X_valid, y_train, y_valid = train_test_split(optuna_data, train_data['Return'], test_size=0.5, shuffle=False)\n",
    "\n",
    "    return X_train, X_valid, y_train, y_valid, train_data"
   ]
  },
  {
   "cell_type": "markdown",
   "id": "4f484ec0",
   "metadata": {
    "id": "cKojL2mzqm__",
    "papermill": {
     "duration": 0.017095,
     "end_time": "2024-07-01T13:31:57.710308",
     "exception": false,
     "start_time": "2024-07-01T13:31:57.693213",
     "status": "completed"
    },
    "tags": []
   },
   "source": [
    "## Get data"
   ]
  },
  {
   "cell_type": "code",
   "execution_count": 16,
   "id": "29c7ca90",
   "metadata": {
    "execution": {
     "iopub.execute_input": "2024-07-01T13:31:57.805903Z",
     "iopub.status.busy": "2024-07-01T13:31:57.805129Z",
     "iopub.status.idle": "2024-07-01T13:31:57.814272Z",
     "shell.execute_reply": "2024-07-01T13:31:57.813281Z"
    },
    "id": "Dwcxd77MRG8v",
    "papermill": {
     "duration": 0.029875,
     "end_time": "2024-07-01T13:31:57.816395",
     "exception": false,
     "start_time": "2024-07-01T13:31:57.786520",
     "status": "completed"
    },
    "tags": []
   },
   "outputs": [],
   "source": [
    "def get_vn30f(start_time, now_time, symbol):\n",
    "    def vn30f():\n",
    "            return requests.get(f\"https://services.entrade.com.vn/chart-api/chart?from={start_time}&resolution=1&symbol={symbol}&to={now_time}\").json()\n",
    "    vn30fm = pd.DataFrame(vn30f()).iloc[:,:6]\n",
    "    vn30fm['t'] = vn30fm['t'].astype(int).apply(lambda x: datetime.utcfromtimestamp(x) + timedelta(hours = 7))\n",
    "    vn30fm.columns = ['Date','Open','High','Low','Close','Volume']\n",
    "    ohlc_dict = {\n",
    "        'Open': 'first',\n",
    "        'High': 'max',\n",
    "        'Low': 'min',\n",
    "        'Close': 'last',\n",
    "        'Volume': 'sum',}\n",
    "    vn30fm = pd.DataFrame(vn30f()).iloc[:,:6]\n",
    "    vn30fm['t'] = vn30fm['t'].astype(int).apply(lambda x: datetime.utcfromtimestamp(x) + timedelta(hours = 7))\n",
    "    vn30fm.columns = ['Date','Open','High','Low','Close','Volume']\n",
    "    dt_object = datetime.utcfromtimestamp(start_time) + timedelta(hours = 7)\n",
    "    now_object = datetime.utcfromtimestamp(now_time) + timedelta(hours = 7)\n",
    "\n",
    "    print(f'===> Data {symbol} from {dt_object} to {now_object} has been appended ')\n",
    "\n",
    "    return vn30fm"
   ]
  },
  {
   "cell_type": "code",
   "execution_count": 17,
   "id": "e6ca96a9",
   "metadata": {
    "execution": {
     "iopub.execute_input": "2024-07-01T13:31:57.852831Z",
     "iopub.status.busy": "2024-07-01T13:31:57.851907Z",
     "iopub.status.idle": "2024-07-01T13:32:04.250272Z",
     "shell.execute_reply": "2024-07-01T13:32:04.248944Z"
    },
    "id": "EptMr4pMcGw9",
    "outputId": "b59357c7-165a-4fd1-8292-3fafe55e556e",
    "papermill": {
     "duration": 6.419219,
     "end_time": "2024-07-01T13:32:04.252825",
     "exception": false,
     "start_time": "2024-07-01T13:31:57.833606",
     "status": "completed"
    },
    "tags": []
   },
   "outputs": [
    {
     "name": "stdout",
     "output_type": "stream",
     "text": [
      "===> Data VN30F1M from 1970-01-01 07:00:00 to 2286-11-21 00:46:39 has been appended \n"
     ]
    }
   ],
   "source": [
    "df = get_vn30f(start_time, now_time, symbol)"
   ]
  },
  {
   "cell_type": "code",
   "execution_count": 18,
   "id": "f5258888",
   "metadata": {
    "execution": {
     "iopub.execute_input": "2024-07-01T13:32:04.291913Z",
     "iopub.status.busy": "2024-07-01T13:32:04.291477Z",
     "iopub.status.idle": "2024-07-01T13:32:04.317402Z",
     "shell.execute_reply": "2024-07-01T13:32:04.316334Z"
    },
    "id": "MmMI3SbSdanN",
    "outputId": "fa2fd769-1cd0-4423-d012-c00badf1d81d",
    "papermill": {
     "duration": 0.048036,
     "end_time": "2024-07-01T13:32:04.319858",
     "exception": false,
     "start_time": "2024-07-01T13:32:04.271822",
     "status": "completed"
    },
    "tags": []
   },
   "outputs": [
    {
     "data": {
      "text/html": [
       "<div>\n",
       "<style scoped>\n",
       "    .dataframe tbody tr th:only-of-type {\n",
       "        vertical-align: middle;\n",
       "    }\n",
       "\n",
       "    .dataframe tbody tr th {\n",
       "        vertical-align: top;\n",
       "    }\n",
       "\n",
       "    .dataframe thead th {\n",
       "        text-align: right;\n",
       "    }\n",
       "</style>\n",
       "<table border=\"1\" class=\"dataframe\">\n",
       "  <thead>\n",
       "    <tr style=\"text-align: right;\">\n",
       "      <th></th>\n",
       "      <th>Date</th>\n",
       "      <th>Open</th>\n",
       "      <th>High</th>\n",
       "      <th>Low</th>\n",
       "      <th>Close</th>\n",
       "      <th>Volume</th>\n",
       "    </tr>\n",
       "  </thead>\n",
       "  <tbody>\n",
       "    <tr>\n",
       "      <th>0</th>\n",
       "      <td>2018-08-13 09:00:00</td>\n",
       "      <td>943.5</td>\n",
       "      <td>943.5</td>\n",
       "      <td>942.9</td>\n",
       "      <td>942.9</td>\n",
       "      <td>975</td>\n",
       "    </tr>\n",
       "    <tr>\n",
       "      <th>1</th>\n",
       "      <td>2018-08-13 09:01:00</td>\n",
       "      <td>943.0</td>\n",
       "      <td>943.1</td>\n",
       "      <td>942.9</td>\n",
       "      <td>943.1</td>\n",
       "      <td>220</td>\n",
       "    </tr>\n",
       "    <tr>\n",
       "      <th>2</th>\n",
       "      <td>2018-08-13 09:02:00</td>\n",
       "      <td>943.0</td>\n",
       "      <td>943.6</td>\n",
       "      <td>943.0</td>\n",
       "      <td>943.5</td>\n",
       "      <td>121</td>\n",
       "    </tr>\n",
       "    <tr>\n",
       "      <th>3</th>\n",
       "      <td>2018-08-13 09:03:00</td>\n",
       "      <td>943.3</td>\n",
       "      <td>943.4</td>\n",
       "      <td>943.3</td>\n",
       "      <td>943.4</td>\n",
       "      <td>135</td>\n",
       "    </tr>\n",
       "    <tr>\n",
       "      <th>4</th>\n",
       "      <td>2018-08-13 09:04:00</td>\n",
       "      <td>943.2</td>\n",
       "      <td>943.2</td>\n",
       "      <td>943.0</td>\n",
       "      <td>943.1</td>\n",
       "      <td>361</td>\n",
       "    </tr>\n",
       "    <tr>\n",
       "      <th>...</th>\n",
       "      <td>...</td>\n",
       "      <td>...</td>\n",
       "      <td>...</td>\n",
       "      <td>...</td>\n",
       "      <td>...</td>\n",
       "      <td>...</td>\n",
       "    </tr>\n",
       "    <tr>\n",
       "      <th>325152</th>\n",
       "      <td>2024-07-01 14:27:00</td>\n",
       "      <td>1284.5</td>\n",
       "      <td>1284.9</td>\n",
       "      <td>1284.1</td>\n",
       "      <td>1284.9</td>\n",
       "      <td>1020</td>\n",
       "    </tr>\n",
       "    <tr>\n",
       "      <th>325153</th>\n",
       "      <td>2024-07-01 14:28:00</td>\n",
       "      <td>1284.7</td>\n",
       "      <td>1285.0</td>\n",
       "      <td>1283.9</td>\n",
       "      <td>1283.9</td>\n",
       "      <td>1805</td>\n",
       "    </tr>\n",
       "    <tr>\n",
       "      <th>325154</th>\n",
       "      <td>2024-07-01 14:29:00</td>\n",
       "      <td>1283.9</td>\n",
       "      <td>1284.8</td>\n",
       "      <td>1283.7</td>\n",
       "      <td>1284.8</td>\n",
       "      <td>1786</td>\n",
       "    </tr>\n",
       "    <tr>\n",
       "      <th>325155</th>\n",
       "      <td>2024-07-01 14:30:00</td>\n",
       "      <td>1284.8</td>\n",
       "      <td>1284.8</td>\n",
       "      <td>1284.8</td>\n",
       "      <td>1284.8</td>\n",
       "      <td>134</td>\n",
       "    </tr>\n",
       "    <tr>\n",
       "      <th>325156</th>\n",
       "      <td>2024-07-01 14:45:00</td>\n",
       "      <td>1285.0</td>\n",
       "      <td>1285.0</td>\n",
       "      <td>1285.0</td>\n",
       "      <td>1285.0</td>\n",
       "      <td>5137</td>\n",
       "    </tr>\n",
       "  </tbody>\n",
       "</table>\n",
       "<p>325157 rows × 6 columns</p>\n",
       "</div>"
      ],
      "text/plain": [
       "                      Date    Open    High     Low   Close  Volume\n",
       "0      2018-08-13 09:00:00   943.5   943.5   942.9   942.9     975\n",
       "1      2018-08-13 09:01:00   943.0   943.1   942.9   943.1     220\n",
       "2      2018-08-13 09:02:00   943.0   943.6   943.0   943.5     121\n",
       "3      2018-08-13 09:03:00   943.3   943.4   943.3   943.4     135\n",
       "4      2018-08-13 09:04:00   943.2   943.2   943.0   943.1     361\n",
       "...                    ...     ...     ...     ...     ...     ...\n",
       "325152 2024-07-01 14:27:00  1284.5  1284.9  1284.1  1284.9    1020\n",
       "325153 2024-07-01 14:28:00  1284.7  1285.0  1283.9  1283.9    1805\n",
       "325154 2024-07-01 14:29:00  1283.9  1284.8  1283.7  1284.8    1786\n",
       "325155 2024-07-01 14:30:00  1284.8  1284.8  1284.8  1284.8     134\n",
       "325156 2024-07-01 14:45:00  1285.0  1285.0  1285.0  1285.0    5137\n",
       "\n",
       "[325157 rows x 6 columns]"
      ]
     },
     "execution_count": 18,
     "metadata": {},
     "output_type": "execute_result"
    }
   ],
   "source": [
    "df"
   ]
  },
  {
   "cell_type": "markdown",
   "id": "16ce10a4",
   "metadata": {
    "id": "IgUSjj0jDRFl",
    "papermill": {
     "duration": 0.020856,
     "end_time": "2024-07-01T13:32:04.359181",
     "exception": false,
     "start_time": "2024-07-01T13:32:04.338325",
     "status": "completed"
    },
    "tags": []
   },
   "source": [
    "Fill missing data"
   ]
  },
  {
   "cell_type": "code",
   "execution_count": 19,
   "id": "ee1eeb18",
   "metadata": {
    "execution": {
     "iopub.execute_input": "2024-07-01T13:32:04.397948Z",
     "iopub.status.busy": "2024-07-01T13:32:04.397522Z",
     "iopub.status.idle": "2024-07-01T13:32:04.895317Z",
     "shell.execute_reply": "2024-07-01T13:32:04.894164Z"
    },
    "id": "H8XyGWJ8qm__",
    "outputId": "7587f5e1-1576-4dca-c832-3319dd3581a7",
    "papermill": {
     "duration": 0.520017,
     "end_time": "2024-07-01T13:32:04.897543",
     "exception": false,
     "start_time": "2024-07-01T13:32:04.377526",
     "status": "completed"
    },
    "tags": []
   },
   "outputs": [
    {
     "name": "stdout",
     "output_type": "stream",
     "text": [
      "The 'end_date' value in the report should be no more than 90 days from today for all resolutions shorter than 1 day. \n",
      "\n"
     ]
    },
    {
     "data": {
      "text/html": [
       "<div>\n",
       "<style scoped>\n",
       "    .dataframe tbody tr th:only-of-type {\n",
       "        vertical-align: middle;\n",
       "    }\n",
       "\n",
       "    .dataframe tbody tr th {\n",
       "        vertical-align: top;\n",
       "    }\n",
       "\n",
       "    .dataframe thead th {\n",
       "        text-align: right;\n",
       "    }\n",
       "</style>\n",
       "<table border=\"1\" class=\"dataframe\">\n",
       "  <thead>\n",
       "    <tr style=\"text-align: right;\">\n",
       "      <th></th>\n",
       "      <th>time</th>\n",
       "      <th>open</th>\n",
       "      <th>high</th>\n",
       "      <th>low</th>\n",
       "      <th>close</th>\n",
       "      <th>volume</th>\n",
       "      <th>ticker</th>\n",
       "    </tr>\n",
       "  </thead>\n",
       "  <tbody>\n",
       "    <tr>\n",
       "      <th>0</th>\n",
       "      <td>2023-04-03 09:00:00</td>\n",
       "      <td>1081.3</td>\n",
       "      <td>1082.6</td>\n",
       "      <td>1080.6</td>\n",
       "      <td>1080.6</td>\n",
       "      <td>10331</td>\n",
       "      <td>VN30F1M</td>\n",
       "    </tr>\n",
       "    <tr>\n",
       "      <th>1</th>\n",
       "      <td>2023-04-03 09:03:00</td>\n",
       "      <td>1080.7</td>\n",
       "      <td>1081.2</td>\n",
       "      <td>1080.4</td>\n",
       "      <td>1080.4</td>\n",
       "      <td>4257</td>\n",
       "      <td>VN30F1M</td>\n",
       "    </tr>\n",
       "    <tr>\n",
       "      <th>2</th>\n",
       "      <td>2023-04-03 09:06:00</td>\n",
       "      <td>1080.4</td>\n",
       "      <td>1080.4</td>\n",
       "      <td>1078.4</td>\n",
       "      <td>1078.9</td>\n",
       "      <td>5101</td>\n",
       "      <td>VN30F1M</td>\n",
       "    </tr>\n",
       "    <tr>\n",
       "      <th>3</th>\n",
       "      <td>2023-04-03 09:09:00</td>\n",
       "      <td>1078.9</td>\n",
       "      <td>1079.0</td>\n",
       "      <td>1077.0</td>\n",
       "      <td>1077.9</td>\n",
       "      <td>5891</td>\n",
       "      <td>VN30F1M</td>\n",
       "    </tr>\n",
       "    <tr>\n",
       "      <th>4</th>\n",
       "      <td>2023-04-03 09:12:00</td>\n",
       "      <td>1077.9</td>\n",
       "      <td>1078.5</td>\n",
       "      <td>1077.5</td>\n",
       "      <td>1078.3</td>\n",
       "      <td>3498</td>\n",
       "      <td>VN30F1M</td>\n",
       "    </tr>\n",
       "    <tr>\n",
       "      <th>...</th>\n",
       "      <td>...</td>\n",
       "      <td>...</td>\n",
       "      <td>...</td>\n",
       "      <td>...</td>\n",
       "      <td>...</td>\n",
       "      <td>...</td>\n",
       "      <td>...</td>\n",
       "    </tr>\n",
       "    <tr>\n",
       "      <th>6884</th>\n",
       "      <td>2023-07-31 14:21:00</td>\n",
       "      <td>1223.2</td>\n",
       "      <td>1225.4</td>\n",
       "      <td>1223.2</td>\n",
       "      <td>1224.7</td>\n",
       "      <td>5733</td>\n",
       "      <td>VN30F1M</td>\n",
       "    </tr>\n",
       "    <tr>\n",
       "      <th>6885</th>\n",
       "      <td>2023-07-31 14:24:00</td>\n",
       "      <td>1224.6</td>\n",
       "      <td>1228.8</td>\n",
       "      <td>1224.2</td>\n",
       "      <td>1228.5</td>\n",
       "      <td>6276</td>\n",
       "      <td>VN30F1M</td>\n",
       "    </tr>\n",
       "    <tr>\n",
       "      <th>6886</th>\n",
       "      <td>2023-07-31 14:27:00</td>\n",
       "      <td>1227.8</td>\n",
       "      <td>1231.8</td>\n",
       "      <td>1227.8</td>\n",
       "      <td>1231.8</td>\n",
       "      <td>6975</td>\n",
       "      <td>VN30F1M</td>\n",
       "    </tr>\n",
       "    <tr>\n",
       "      <th>6887</th>\n",
       "      <td>2023-07-31 14:30:00</td>\n",
       "      <td>1231.9</td>\n",
       "      <td>1232.0</td>\n",
       "      <td>1231.9</td>\n",
       "      <td>1232.0</td>\n",
       "      <td>195</td>\n",
       "      <td>VN30F1M</td>\n",
       "    </tr>\n",
       "    <tr>\n",
       "      <th>6888</th>\n",
       "      <td>2023-07-31 14:45:00</td>\n",
       "      <td>1234.2</td>\n",
       "      <td>1234.2</td>\n",
       "      <td>1234.2</td>\n",
       "      <td>1234.2</td>\n",
       "      <td>7378</td>\n",
       "      <td>VN30F1M</td>\n",
       "    </tr>\n",
       "  </tbody>\n",
       "</table>\n",
       "<p>6889 rows × 7 columns</p>\n",
       "</div>"
      ],
      "text/plain": [
       "                     time    open    high     low   close  volume   ticker\n",
       "0     2023-04-03 09:00:00  1081.3  1082.6  1080.6  1080.6   10331  VN30F1M\n",
       "1     2023-04-03 09:03:00  1080.7  1081.2  1080.4  1080.4    4257  VN30F1M\n",
       "2     2023-04-03 09:06:00  1080.4  1080.4  1078.4  1078.9    5101  VN30F1M\n",
       "3     2023-04-03 09:09:00  1078.9  1079.0  1077.0  1077.9    5891  VN30F1M\n",
       "4     2023-04-03 09:12:00  1077.9  1078.5  1077.5  1078.3    3498  VN30F1M\n",
       "...                   ...     ...     ...     ...     ...     ...      ...\n",
       "6884  2023-07-31 14:21:00  1223.2  1225.4  1223.2  1224.7    5733  VN30F1M\n",
       "6885  2023-07-31 14:24:00  1224.6  1228.8  1224.2  1228.5    6276  VN30F1M\n",
       "6886  2023-07-31 14:27:00  1227.8  1231.8  1227.8  1231.8    6975  VN30F1M\n",
       "6887  2023-07-31 14:30:00  1231.9  1232.0  1231.9  1232.0     195  VN30F1M\n",
       "6888  2023-07-31 14:45:00  1234.2  1234.2  1234.2  1234.2    7378  VN30F1M\n",
       "\n",
       "[6889 rows x 7 columns]"
      ]
     },
     "execution_count": 19,
     "metadata": {},
     "output_type": "execute_result"
    }
   ],
   "source": [
    "from vnstock import stock_historical_data\n",
    "df2 = stock_historical_data(\"VN30F1M\", \"2023-04-01\", \"2023-07-31\", \"3\", 'derivative')\n",
    "df2\n"
   ]
  },
  {
   "cell_type": "code",
   "execution_count": 20,
   "id": "9e32c27b",
   "metadata": {
    "execution": {
     "iopub.execute_input": "2024-07-01T13:32:04.936953Z",
     "iopub.status.busy": "2024-07-01T13:32:04.936403Z",
     "iopub.status.idle": "2024-07-01T13:32:04.958253Z",
     "shell.execute_reply": "2024-07-01T13:32:04.957071Z"
    },
    "id": "WbdOiZFtqnAA",
    "outputId": "08ae9b8d-85ba-40d2-fb33-8393220bf909",
    "papermill": {
     "duration": 0.04435,
     "end_time": "2024-07-01T13:32:04.960665",
     "exception": false,
     "start_time": "2024-07-01T13:32:04.916315",
     "status": "completed"
    },
    "tags": []
   },
   "outputs": [
    {
     "data": {
      "text/html": [
       "<div>\n",
       "<style scoped>\n",
       "    .dataframe tbody tr th:only-of-type {\n",
       "        vertical-align: middle;\n",
       "    }\n",
       "\n",
       "    .dataframe tbody tr th {\n",
       "        vertical-align: top;\n",
       "    }\n",
       "\n",
       "    .dataframe thead th {\n",
       "        text-align: right;\n",
       "    }\n",
       "</style>\n",
       "<table border=\"1\" class=\"dataframe\">\n",
       "  <thead>\n",
       "    <tr style=\"text-align: right;\">\n",
       "      <th></th>\n",
       "      <th>time</th>\n",
       "      <th>open</th>\n",
       "      <th>high</th>\n",
       "      <th>low</th>\n",
       "      <th>close</th>\n",
       "      <th>volume</th>\n",
       "    </tr>\n",
       "  </thead>\n",
       "  <tbody>\n",
       "    <tr>\n",
       "      <th>0</th>\n",
       "      <td>2023-04-03 09:00:00</td>\n",
       "      <td>1081.3</td>\n",
       "      <td>1082.6</td>\n",
       "      <td>1080.6</td>\n",
       "      <td>1080.6</td>\n",
       "      <td>10331</td>\n",
       "    </tr>\n",
       "    <tr>\n",
       "      <th>1</th>\n",
       "      <td>2023-04-03 09:03:00</td>\n",
       "      <td>1080.7</td>\n",
       "      <td>1081.2</td>\n",
       "      <td>1080.4</td>\n",
       "      <td>1080.4</td>\n",
       "      <td>4257</td>\n",
       "    </tr>\n",
       "    <tr>\n",
       "      <th>2</th>\n",
       "      <td>2023-04-03 09:06:00</td>\n",
       "      <td>1080.4</td>\n",
       "      <td>1080.4</td>\n",
       "      <td>1078.4</td>\n",
       "      <td>1078.9</td>\n",
       "      <td>5101</td>\n",
       "    </tr>\n",
       "    <tr>\n",
       "      <th>3</th>\n",
       "      <td>2023-04-03 09:09:00</td>\n",
       "      <td>1078.9</td>\n",
       "      <td>1079.0</td>\n",
       "      <td>1077.0</td>\n",
       "      <td>1077.9</td>\n",
       "      <td>5891</td>\n",
       "    </tr>\n",
       "    <tr>\n",
       "      <th>4</th>\n",
       "      <td>2023-04-03 09:12:00</td>\n",
       "      <td>1077.9</td>\n",
       "      <td>1078.5</td>\n",
       "      <td>1077.5</td>\n",
       "      <td>1078.3</td>\n",
       "      <td>3498</td>\n",
       "    </tr>\n",
       "    <tr>\n",
       "      <th>...</th>\n",
       "      <td>...</td>\n",
       "      <td>...</td>\n",
       "      <td>...</td>\n",
       "      <td>...</td>\n",
       "      <td>...</td>\n",
       "      <td>...</td>\n",
       "    </tr>\n",
       "    <tr>\n",
       "      <th>6884</th>\n",
       "      <td>2023-07-31 14:21:00</td>\n",
       "      <td>1223.2</td>\n",
       "      <td>1225.4</td>\n",
       "      <td>1223.2</td>\n",
       "      <td>1224.7</td>\n",
       "      <td>5733</td>\n",
       "    </tr>\n",
       "    <tr>\n",
       "      <th>6885</th>\n",
       "      <td>2023-07-31 14:24:00</td>\n",
       "      <td>1224.6</td>\n",
       "      <td>1228.8</td>\n",
       "      <td>1224.2</td>\n",
       "      <td>1228.5</td>\n",
       "      <td>6276</td>\n",
       "    </tr>\n",
       "    <tr>\n",
       "      <th>6886</th>\n",
       "      <td>2023-07-31 14:27:00</td>\n",
       "      <td>1227.8</td>\n",
       "      <td>1231.8</td>\n",
       "      <td>1227.8</td>\n",
       "      <td>1231.8</td>\n",
       "      <td>6975</td>\n",
       "    </tr>\n",
       "    <tr>\n",
       "      <th>6887</th>\n",
       "      <td>2023-07-31 14:30:00</td>\n",
       "      <td>1231.9</td>\n",
       "      <td>1232.0</td>\n",
       "      <td>1231.9</td>\n",
       "      <td>1232.0</td>\n",
       "      <td>195</td>\n",
       "    </tr>\n",
       "    <tr>\n",
       "      <th>6888</th>\n",
       "      <td>2023-07-31 14:45:00</td>\n",
       "      <td>1234.2</td>\n",
       "      <td>1234.2</td>\n",
       "      <td>1234.2</td>\n",
       "      <td>1234.2</td>\n",
       "      <td>7378</td>\n",
       "    </tr>\n",
       "  </tbody>\n",
       "</table>\n",
       "<p>6889 rows × 6 columns</p>\n",
       "</div>"
      ],
      "text/plain": [
       "                     time    open    high     low   close  volume\n",
       "0     2023-04-03 09:00:00  1081.3  1082.6  1080.6  1080.6   10331\n",
       "1     2023-04-03 09:03:00  1080.7  1081.2  1080.4  1080.4    4257\n",
       "2     2023-04-03 09:06:00  1080.4  1080.4  1078.4  1078.9    5101\n",
       "3     2023-04-03 09:09:00  1078.9  1079.0  1077.0  1077.9    5891\n",
       "4     2023-04-03 09:12:00  1077.9  1078.5  1077.5  1078.3    3498\n",
       "...                   ...     ...     ...     ...     ...     ...\n",
       "6884  2023-07-31 14:21:00  1223.2  1225.4  1223.2  1224.7    5733\n",
       "6885  2023-07-31 14:24:00  1224.6  1228.8  1224.2  1228.5    6276\n",
       "6886  2023-07-31 14:27:00  1227.8  1231.8  1227.8  1231.8    6975\n",
       "6887  2023-07-31 14:30:00  1231.9  1232.0  1231.9  1232.0     195\n",
       "6888  2023-07-31 14:45:00  1234.2  1234.2  1234.2  1234.2    7378\n",
       "\n",
       "[6889 rows x 6 columns]"
      ]
     },
     "execution_count": 20,
     "metadata": {},
     "output_type": "execute_result"
    }
   ],
   "source": [
    "temp = df2.drop(columns=['ticker'])\n",
    "temp"
   ]
  },
  {
   "cell_type": "code",
   "execution_count": 21,
   "id": "30358dd9",
   "metadata": {
    "execution": {
     "iopub.execute_input": "2024-07-01T13:32:05.000364Z",
     "iopub.status.busy": "2024-07-01T13:32:04.999997Z",
     "iopub.status.idle": "2024-07-01T13:32:05.015093Z",
     "shell.execute_reply": "2024-07-01T13:32:05.013965Z"
    },
    "id": "DPbd-HATYCdC",
    "papermill": {
     "duration": 0.038535,
     "end_time": "2024-07-01T13:32:05.018079",
     "exception": false,
     "start_time": "2024-07-01T13:32:04.979544",
     "status": "completed"
    },
    "tags": []
   },
   "outputs": [],
   "source": [
    "temp['time'] = pd.to_datetime(temp['time'])"
   ]
  },
  {
   "cell_type": "code",
   "execution_count": 22,
   "id": "f6592c91",
   "metadata": {
    "execution": {
     "iopub.execute_input": "2024-07-01T13:32:05.065027Z",
     "iopub.status.busy": "2024-07-01T13:32:05.064151Z",
     "iopub.status.idle": "2024-07-01T13:32:07.153533Z",
     "shell.execute_reply": "2024-07-01T13:32:07.152448Z"
    },
    "id": "O99omUlQOfIJ",
    "outputId": "77443eb2-52c1-4764-e122-7f54c4efd7ce",
    "papermill": {
     "duration": 2.112418,
     "end_time": "2024-07-01T13:32:07.155920",
     "exception": false,
     "start_time": "2024-07-01T13:32:05.043502",
     "status": "completed"
    },
    "tags": []
   },
   "outputs": [
    {
     "name": "stderr",
     "output_type": "stream",
     "text": [
      "/tmp/ipykernel_18/1441089219.py:25: FutureWarning: 'T' is deprecated and will be removed in a future version, please use 'min' instead.\n",
      "  df_resampled = temp.resample('1T').first().reindex(pd.date_range(start=temp.index[0], end=temp.index[-1], freq='1T')).ffill()\n"
     ]
    },
    {
     "data": {
      "text/html": [
       "<div>\n",
       "<style scoped>\n",
       "    .dataframe tbody tr th:only-of-type {\n",
       "        vertical-align: middle;\n",
       "    }\n",
       "\n",
       "    .dataframe tbody tr th {\n",
       "        vertical-align: top;\n",
       "    }\n",
       "\n",
       "    .dataframe thead th {\n",
       "        text-align: right;\n",
       "    }\n",
       "</style>\n",
       "<table border=\"1\" class=\"dataframe\">\n",
       "  <thead>\n",
       "    <tr style=\"text-align: right;\">\n",
       "      <th></th>\n",
       "      <th>Date</th>\n",
       "      <th>Open</th>\n",
       "      <th>High</th>\n",
       "      <th>Low</th>\n",
       "      <th>Close</th>\n",
       "      <th>Volume</th>\n",
       "    </tr>\n",
       "  </thead>\n",
       "  <tbody>\n",
       "    <tr>\n",
       "      <th>0</th>\n",
       "      <td>2023-04-03 09:00:00</td>\n",
       "      <td>1081.3</td>\n",
       "      <td>1082.6</td>\n",
       "      <td>1080.6</td>\n",
       "      <td>1080.6</td>\n",
       "      <td>3444.0</td>\n",
       "    </tr>\n",
       "    <tr>\n",
       "      <th>1</th>\n",
       "      <td>2023-04-03 09:01:00</td>\n",
       "      <td>1081.3</td>\n",
       "      <td>1082.6</td>\n",
       "      <td>1080.6</td>\n",
       "      <td>1080.6</td>\n",
       "      <td>3444.0</td>\n",
       "    </tr>\n",
       "    <tr>\n",
       "      <th>2</th>\n",
       "      <td>2023-04-03 09:02:00</td>\n",
       "      <td>1081.3</td>\n",
       "      <td>1082.6</td>\n",
       "      <td>1080.6</td>\n",
       "      <td>1080.6</td>\n",
       "      <td>3444.0</td>\n",
       "    </tr>\n",
       "    <tr>\n",
       "      <th>3</th>\n",
       "      <td>2023-04-03 09:03:00</td>\n",
       "      <td>1080.7</td>\n",
       "      <td>1081.2</td>\n",
       "      <td>1080.4</td>\n",
       "      <td>1080.4</td>\n",
       "      <td>1419.0</td>\n",
       "    </tr>\n",
       "    <tr>\n",
       "      <th>4</th>\n",
       "      <td>2023-04-03 09:04:00</td>\n",
       "      <td>1080.7</td>\n",
       "      <td>1081.2</td>\n",
       "      <td>1080.4</td>\n",
       "      <td>1080.4</td>\n",
       "      <td>1419.0</td>\n",
       "    </tr>\n",
       "    <tr>\n",
       "      <th>...</th>\n",
       "      <td>...</td>\n",
       "      <td>...</td>\n",
       "      <td>...</td>\n",
       "      <td>...</td>\n",
       "      <td>...</td>\n",
       "      <td>...</td>\n",
       "    </tr>\n",
       "    <tr>\n",
       "      <th>171687</th>\n",
       "      <td>2023-07-31 14:27:00</td>\n",
       "      <td>1227.8</td>\n",
       "      <td>1231.8</td>\n",
       "      <td>1227.8</td>\n",
       "      <td>1231.8</td>\n",
       "      <td>2325.0</td>\n",
       "    </tr>\n",
       "    <tr>\n",
       "      <th>171688</th>\n",
       "      <td>2023-07-31 14:28:00</td>\n",
       "      <td>1227.8</td>\n",
       "      <td>1231.8</td>\n",
       "      <td>1227.8</td>\n",
       "      <td>1231.8</td>\n",
       "      <td>2325.0</td>\n",
       "    </tr>\n",
       "    <tr>\n",
       "      <th>171689</th>\n",
       "      <td>2023-07-31 14:29:00</td>\n",
       "      <td>1227.8</td>\n",
       "      <td>1231.8</td>\n",
       "      <td>1227.8</td>\n",
       "      <td>1231.8</td>\n",
       "      <td>2325.0</td>\n",
       "    </tr>\n",
       "    <tr>\n",
       "      <th>171690</th>\n",
       "      <td>2023-07-31 14:30:00</td>\n",
       "      <td>1231.9</td>\n",
       "      <td>1232.0</td>\n",
       "      <td>1231.9</td>\n",
       "      <td>1232.0</td>\n",
       "      <td>195.0</td>\n",
       "    </tr>\n",
       "    <tr>\n",
       "      <th>171705</th>\n",
       "      <td>2023-07-31 14:45:00</td>\n",
       "      <td>1234.2</td>\n",
       "      <td>1234.2</td>\n",
       "      <td>1234.2</td>\n",
       "      <td>1234.2</td>\n",
       "      <td>7378.0</td>\n",
       "    </tr>\n",
       "  </tbody>\n",
       "</table>\n",
       "<p>29160 rows × 6 columns</p>\n",
       "</div>"
      ],
      "text/plain": [
       "                      Date    Open    High     Low   Close  Volume\n",
       "0      2023-04-03 09:00:00  1081.3  1082.6  1080.6  1080.6  3444.0\n",
       "1      2023-04-03 09:01:00  1081.3  1082.6  1080.6  1080.6  3444.0\n",
       "2      2023-04-03 09:02:00  1081.3  1082.6  1080.6  1080.6  3444.0\n",
       "3      2023-04-03 09:03:00  1080.7  1081.2  1080.4  1080.4  1419.0\n",
       "4      2023-04-03 09:04:00  1080.7  1081.2  1080.4  1080.4  1419.0\n",
       "...                    ...     ...     ...     ...     ...     ...\n",
       "171687 2023-07-31 14:27:00  1227.8  1231.8  1227.8  1231.8  2325.0\n",
       "171688 2023-07-31 14:28:00  1227.8  1231.8  1227.8  1231.8  2325.0\n",
       "171689 2023-07-31 14:29:00  1227.8  1231.8  1227.8  1231.8  2325.0\n",
       "171690 2023-07-31 14:30:00  1231.9  1232.0  1231.9  1232.0   195.0\n",
       "171705 2023-07-31 14:45:00  1234.2  1234.2  1234.2  1234.2  7378.0\n",
       "\n",
       "[29160 rows x 6 columns]"
      ]
     },
     "execution_count": 22,
     "metadata": {},
     "output_type": "execute_result"
    }
   ],
   "source": [
    "morning_start = pd.Timestamp('09:00:00').time()\n",
    "morning_end = pd.Timestamp('11:30:00').time()\n",
    "afternoon_start = pd.Timestamp('13:00:00').time()\n",
    "afternoon_end = pd.Timestamp('14:30:00').time()\n",
    "ATC = pd.Timestamp('14:45:00').time()\n",
    "\n",
    "time_points = []\n",
    "current_time = morning_start\n",
    "\n",
    "while current_time <= morning_end:\n",
    "    time_points.append(current_time)\n",
    "    current_time = (pd.Timestamp.combine(pd.Timestamp.today(), current_time) + pd.Timedelta(minutes=1)).time()\n",
    "\n",
    "current_time = afternoon_start\n",
    "while current_time <= afternoon_end:\n",
    "    time_points.append(current_time)\n",
    "    current_time = (pd.Timestamp.combine(pd.Timestamp.today(), current_time) + pd.Timedelta(minutes=1)).time()\n",
    "\n",
    "current_time = ATC\n",
    "while current_time == ATC:\n",
    "    time_points.append(current_time)\n",
    "    current_time = (pd.Timestamp.combine(pd.Timestamp.today(), current_time) + pd.Timedelta(minutes=1)).time()\n",
    "\n",
    "temp = temp.set_index('time')\n",
    "df_resampled = temp.resample('1T').first().reindex(pd.date_range(start=temp.index[0], end=temp.index[-1], freq='1T')).ffill()\n",
    "\n",
    "df_resampled = df_resampled.reset_index().rename(columns={'index': 'time'})\n",
    "temp = temp.reset_index().rename(columns={'index': 'time'})\n",
    "\n",
    "df_resampled = df_resampled[df_resampled['time'].dt.time.isin(time_points)]\n",
    "df_resampled = df_resampled.rename(columns={\n",
    "    'time': 'Date',\n",
    "    'open': 'Open',\n",
    "    'high': 'High',\n",
    "    'low': 'Low',\n",
    "    'close': 'Close',\n",
    "    'volume': 'Volume'\n",
    "})\n",
    "\n",
    "# Divide the Volume column by 3 and round to the nearest integer\n",
    "df_resampled['Volume'] = df_resampled.apply(\n",
    "    lambda row: round(row['Volume'] / 3) if row['Date'].time() < pd.Timestamp('14:30:00').time() else row['Volume'],\n",
    "    axis=1\n",
    ")\n",
    "\n",
    "df_resampled"
   ]
  },
  {
   "cell_type": "code",
   "execution_count": 23,
   "id": "b8568ef1",
   "metadata": {
    "execution": {
     "iopub.execute_input": "2024-07-01T13:32:07.196783Z",
     "iopub.status.busy": "2024-07-01T13:32:07.196035Z",
     "iopub.status.idle": "2024-07-01T13:32:07.285451Z",
     "shell.execute_reply": "2024-07-01T13:32:07.284300Z"
    },
    "id": "v2xKpEoSR3i9",
    "papermill": {
     "duration": 0.112362,
     "end_time": "2024-07-01T13:32:07.287748",
     "exception": false,
     "start_time": "2024-07-01T13:32:07.175386",
     "status": "completed"
    },
    "tags": []
   },
   "outputs": [
    {
     "name": "stderr",
     "output_type": "stream",
     "text": [
      "/tmp/ipykernel_18/967041502.py:4: FutureWarning: A value is trying to be set on a copy of a DataFrame or Series through chained assignment using an inplace method.\n",
      "The behavior will change in pandas 3.0. This inplace method will never work because the intermediate object on which we are setting values always behaves as a copy.\n",
      "\n",
      "For example, when doing 'df[col].method(value, inplace=True)', try using 'df.method({col: value}, inplace=True)' or df[col] = df[col].method(value) instead, to perform the operation inplace on the original object.\n",
      "\n",
      "\n",
      "  combined_data[column].fillna(combined_data[f'{column}_data1'], inplace=True)\n"
     ]
    }
   ],
   "source": [
    "\n",
    "combined_data = pd.merge(df, df_resampled, on='Date', how='outer', suffixes=('', '_data1'))\n",
    "\n",
    "for column in ['Open', 'High', 'Low', 'Close', 'Volume']:\n",
    "    combined_data[column].fillna(combined_data[f'{column}_data1'], inplace=True)\n",
    "\n",
    "combined_data.drop(columns=[f'{column}_data1' for column in ['Open', 'High', 'Low', 'Close', 'Volume']], inplace=True)\n",
    "\n",
    "\n",
    "combined_data.sort_values('Date', inplace=True)\n",
    "\n",
    "combined_data.reset_index(drop=True, inplace=True)"
   ]
  },
  {
   "cell_type": "code",
   "execution_count": 24,
   "id": "71a7f999",
   "metadata": {
    "execution": {
     "iopub.execute_input": "2024-07-01T13:32:07.328728Z",
     "iopub.status.busy": "2024-07-01T13:32:07.327780Z",
     "iopub.status.idle": "2024-07-01T13:32:07.344995Z",
     "shell.execute_reply": "2024-07-01T13:32:07.343944Z"
    },
    "id": "_2VBuWNrSJQ-",
    "outputId": "e95a0396-21df-4677-ae1e-5e975f9138ec",
    "papermill": {
     "duration": 0.039817,
     "end_time": "2024-07-01T13:32:07.347097",
     "exception": false,
     "start_time": "2024-07-01T13:32:07.307280",
     "status": "completed"
    },
    "tags": []
   },
   "outputs": [
    {
     "data": {
      "text/html": [
       "<div>\n",
       "<style scoped>\n",
       "    .dataframe tbody tr th:only-of-type {\n",
       "        vertical-align: middle;\n",
       "    }\n",
       "\n",
       "    .dataframe tbody tr th {\n",
       "        vertical-align: top;\n",
       "    }\n",
       "\n",
       "    .dataframe thead th {\n",
       "        text-align: right;\n",
       "    }\n",
       "</style>\n",
       "<table border=\"1\" class=\"dataframe\">\n",
       "  <thead>\n",
       "    <tr style=\"text-align: right;\">\n",
       "      <th></th>\n",
       "      <th>Date</th>\n",
       "      <th>Open</th>\n",
       "      <th>High</th>\n",
       "      <th>Low</th>\n",
       "      <th>Close</th>\n",
       "      <th>Volume</th>\n",
       "    </tr>\n",
       "  </thead>\n",
       "  <tbody>\n",
       "    <tr>\n",
       "      <th>0</th>\n",
       "      <td>2018-08-13 09:00:00</td>\n",
       "      <td>943.5</td>\n",
       "      <td>943.5</td>\n",
       "      <td>942.9</td>\n",
       "      <td>942.9</td>\n",
       "      <td>975.0</td>\n",
       "    </tr>\n",
       "    <tr>\n",
       "      <th>1</th>\n",
       "      <td>2018-08-13 09:01:00</td>\n",
       "      <td>943.0</td>\n",
       "      <td>943.1</td>\n",
       "      <td>942.9</td>\n",
       "      <td>943.1</td>\n",
       "      <td>220.0</td>\n",
       "    </tr>\n",
       "    <tr>\n",
       "      <th>2</th>\n",
       "      <td>2018-08-13 09:02:00</td>\n",
       "      <td>943.0</td>\n",
       "      <td>943.6</td>\n",
       "      <td>943.0</td>\n",
       "      <td>943.5</td>\n",
       "      <td>121.0</td>\n",
       "    </tr>\n",
       "    <tr>\n",
       "      <th>3</th>\n",
       "      <td>2018-08-13 09:03:00</td>\n",
       "      <td>943.3</td>\n",
       "      <td>943.4</td>\n",
       "      <td>943.3</td>\n",
       "      <td>943.4</td>\n",
       "      <td>135.0</td>\n",
       "    </tr>\n",
       "    <tr>\n",
       "      <th>4</th>\n",
       "      <td>2018-08-13 09:04:00</td>\n",
       "      <td>943.2</td>\n",
       "      <td>943.2</td>\n",
       "      <td>943.0</td>\n",
       "      <td>943.1</td>\n",
       "      <td>361.0</td>\n",
       "    </tr>\n",
       "    <tr>\n",
       "      <th>...</th>\n",
       "      <td>...</td>\n",
       "      <td>...</td>\n",
       "      <td>...</td>\n",
       "      <td>...</td>\n",
       "      <td>...</td>\n",
       "      <td>...</td>\n",
       "    </tr>\n",
       "    <tr>\n",
       "      <th>354069</th>\n",
       "      <td>2024-07-01 14:27:00</td>\n",
       "      <td>1284.5</td>\n",
       "      <td>1284.9</td>\n",
       "      <td>1284.1</td>\n",
       "      <td>1284.9</td>\n",
       "      <td>1020.0</td>\n",
       "    </tr>\n",
       "    <tr>\n",
       "      <th>354070</th>\n",
       "      <td>2024-07-01 14:28:00</td>\n",
       "      <td>1284.7</td>\n",
       "      <td>1285.0</td>\n",
       "      <td>1283.9</td>\n",
       "      <td>1283.9</td>\n",
       "      <td>1805.0</td>\n",
       "    </tr>\n",
       "    <tr>\n",
       "      <th>354071</th>\n",
       "      <td>2024-07-01 14:29:00</td>\n",
       "      <td>1283.9</td>\n",
       "      <td>1284.8</td>\n",
       "      <td>1283.7</td>\n",
       "      <td>1284.8</td>\n",
       "      <td>1786.0</td>\n",
       "    </tr>\n",
       "    <tr>\n",
       "      <th>354072</th>\n",
       "      <td>2024-07-01 14:30:00</td>\n",
       "      <td>1284.8</td>\n",
       "      <td>1284.8</td>\n",
       "      <td>1284.8</td>\n",
       "      <td>1284.8</td>\n",
       "      <td>134.0</td>\n",
       "    </tr>\n",
       "    <tr>\n",
       "      <th>354073</th>\n",
       "      <td>2024-07-01 14:45:00</td>\n",
       "      <td>1285.0</td>\n",
       "      <td>1285.0</td>\n",
       "      <td>1285.0</td>\n",
       "      <td>1285.0</td>\n",
       "      <td>5137.0</td>\n",
       "    </tr>\n",
       "  </tbody>\n",
       "</table>\n",
       "<p>354074 rows × 6 columns</p>\n",
       "</div>"
      ],
      "text/plain": [
       "                      Date    Open    High     Low   Close  Volume\n",
       "0      2018-08-13 09:00:00   943.5   943.5   942.9   942.9   975.0\n",
       "1      2018-08-13 09:01:00   943.0   943.1   942.9   943.1   220.0\n",
       "2      2018-08-13 09:02:00   943.0   943.6   943.0   943.5   121.0\n",
       "3      2018-08-13 09:03:00   943.3   943.4   943.3   943.4   135.0\n",
       "4      2018-08-13 09:04:00   943.2   943.2   943.0   943.1   361.0\n",
       "...                    ...     ...     ...     ...     ...     ...\n",
       "354069 2024-07-01 14:27:00  1284.5  1284.9  1284.1  1284.9  1020.0\n",
       "354070 2024-07-01 14:28:00  1284.7  1285.0  1283.9  1283.9  1805.0\n",
       "354071 2024-07-01 14:29:00  1283.9  1284.8  1283.7  1284.8  1786.0\n",
       "354072 2024-07-01 14:30:00  1284.8  1284.8  1284.8  1284.8   134.0\n",
       "354073 2024-07-01 14:45:00  1285.0  1285.0  1285.0  1285.0  5137.0\n",
       "\n",
       "[354074 rows x 6 columns]"
      ]
     },
     "execution_count": 24,
     "metadata": {},
     "output_type": "execute_result"
    }
   ],
   "source": [
    "combined_data"
   ]
  },
  {
   "cell_type": "code",
   "execution_count": 25,
   "id": "2d8fa7ef",
   "metadata": {
    "execution": {
     "iopub.execute_input": "2024-07-01T13:32:07.388135Z",
     "iopub.status.busy": "2024-07-01T13:32:07.387641Z",
     "iopub.status.idle": "2024-07-01T13:32:07.392442Z",
     "shell.execute_reply": "2024-07-01T13:32:07.391380Z"
    },
    "id": "Ry5XUuzySfKG",
    "papermill": {
     "duration": 0.02789,
     "end_time": "2024-07-01T13:32:07.394682",
     "exception": false,
     "start_time": "2024-07-01T13:32:07.366792",
     "status": "completed"
    },
    "tags": []
   },
   "outputs": [],
   "source": [
    "data=combined_data"
   ]
  },
  {
   "cell_type": "code",
   "execution_count": 26,
   "id": "64ebb44c",
   "metadata": {
    "execution": {
     "iopub.execute_input": "2024-07-01T13:32:07.435749Z",
     "iopub.status.busy": "2024-07-01T13:32:07.435408Z",
     "iopub.status.idle": "2024-07-01T13:32:07.455435Z",
     "shell.execute_reply": "2024-07-01T13:32:07.454392Z"
    },
    "id": "3CiXOqameGVO",
    "outputId": "3ce99165-e80b-413d-84aa-8e400b3cb69a",
    "papermill": {
     "duration": 0.043259,
     "end_time": "2024-07-01T13:32:07.457732",
     "exception": false,
     "start_time": "2024-07-01T13:32:07.414473",
     "status": "completed"
    },
    "tags": []
   },
   "outputs": [
    {
     "data": {
      "text/html": [
       "<div>\n",
       "<style scoped>\n",
       "    .dataframe tbody tr th:only-of-type {\n",
       "        vertical-align: middle;\n",
       "    }\n",
       "\n",
       "    .dataframe tbody tr th {\n",
       "        vertical-align: top;\n",
       "    }\n",
       "\n",
       "    .dataframe thead th {\n",
       "        text-align: right;\n",
       "    }\n",
       "</style>\n",
       "<table border=\"1\" class=\"dataframe\">\n",
       "  <thead>\n",
       "    <tr style=\"text-align: right;\">\n",
       "      <th></th>\n",
       "      <th>Date</th>\n",
       "      <th>Open</th>\n",
       "      <th>High</th>\n",
       "      <th>Low</th>\n",
       "      <th>Close</th>\n",
       "      <th>Volume</th>\n",
       "    </tr>\n",
       "  </thead>\n",
       "  <tbody>\n",
       "    <tr>\n",
       "      <th>278507</th>\n",
       "      <td>2023-05-31 09:00:00</td>\n",
       "      <td>1067.7</td>\n",
       "      <td>1067.7</td>\n",
       "      <td>1066.8</td>\n",
       "      <td>1067.3</td>\n",
       "      <td>1860</td>\n",
       "    </tr>\n",
       "    <tr>\n",
       "      <th>278508</th>\n",
       "      <td>2023-05-31 09:01:00</td>\n",
       "      <td>1067.2</td>\n",
       "      <td>1067.3</td>\n",
       "      <td>1067.1</td>\n",
       "      <td>1067.2</td>\n",
       "      <td>641</td>\n",
       "    </tr>\n",
       "    <tr>\n",
       "      <th>278509</th>\n",
       "      <td>2023-05-31 09:02:00</td>\n",
       "      <td>1067.2</td>\n",
       "      <td>1068.1</td>\n",
       "      <td>1067.1</td>\n",
       "      <td>1068.1</td>\n",
       "      <td>724</td>\n",
       "    </tr>\n",
       "    <tr>\n",
       "      <th>278510</th>\n",
       "      <td>2023-05-31 09:03:00</td>\n",
       "      <td>1067.9</td>\n",
       "      <td>1068.1</td>\n",
       "      <td>1067.9</td>\n",
       "      <td>1068.0</td>\n",
       "      <td>428</td>\n",
       "    </tr>\n",
       "    <tr>\n",
       "      <th>278511</th>\n",
       "      <td>2023-05-31 09:04:00</td>\n",
       "      <td>1068.0</td>\n",
       "      <td>1068.1</td>\n",
       "      <td>1068.0</td>\n",
       "      <td>1068.1</td>\n",
       "      <td>312</td>\n",
       "    </tr>\n",
       "    <tr>\n",
       "      <th>...</th>\n",
       "      <td>...</td>\n",
       "      <td>...</td>\n",
       "      <td>...</td>\n",
       "      <td>...</td>\n",
       "      <td>...</td>\n",
       "      <td>...</td>\n",
       "    </tr>\n",
       "    <tr>\n",
       "      <th>278745</th>\n",
       "      <td>2023-05-31 14:27:00</td>\n",
       "      <td>1063.0</td>\n",
       "      <td>1063.0</td>\n",
       "      <td>1062.1</td>\n",
       "      <td>1062.2</td>\n",
       "      <td>1400</td>\n",
       "    </tr>\n",
       "    <tr>\n",
       "      <th>278746</th>\n",
       "      <td>2023-05-31 14:28:00</td>\n",
       "      <td>1062.7</td>\n",
       "      <td>1062.8</td>\n",
       "      <td>1062.3</td>\n",
       "      <td>1062.7</td>\n",
       "      <td>1022</td>\n",
       "    </tr>\n",
       "    <tr>\n",
       "      <th>278747</th>\n",
       "      <td>2023-05-31 14:29:00</td>\n",
       "      <td>1062.7</td>\n",
       "      <td>1063.0</td>\n",
       "      <td>1062.0</td>\n",
       "      <td>1062.6</td>\n",
       "      <td>2209</td>\n",
       "    </tr>\n",
       "    <tr>\n",
       "      <th>278748</th>\n",
       "      <td>2023-05-31 14:30:00</td>\n",
       "      <td>1062.2</td>\n",
       "      <td>1062.2</td>\n",
       "      <td>1062.2</td>\n",
       "      <td>1062.2</td>\n",
       "      <td>22</td>\n",
       "    </tr>\n",
       "    <tr>\n",
       "      <th>278749</th>\n",
       "      <td>2023-05-31 14:45:00</td>\n",
       "      <td>1062.6</td>\n",
       "      <td>1062.6</td>\n",
       "      <td>1062.6</td>\n",
       "      <td>1062.6</td>\n",
       "      <td>5649</td>\n",
       "    </tr>\n",
       "  </tbody>\n",
       "</table>\n",
       "<p>243 rows × 6 columns</p>\n",
       "</div>"
      ],
      "text/plain": [
       "                      Date    Open    High     Low   Close  Volume\n",
       "278507 2023-05-31 09:00:00  1067.7  1067.7  1066.8  1067.3    1860\n",
       "278508 2023-05-31 09:01:00  1067.2  1067.3  1067.1  1067.2     641\n",
       "278509 2023-05-31 09:02:00  1067.2  1068.1  1067.1  1068.1     724\n",
       "278510 2023-05-31 09:03:00  1067.9  1068.1  1067.9  1068.0     428\n",
       "278511 2023-05-31 09:04:00  1068.0  1068.1  1068.0  1068.1     312\n",
       "...                    ...     ...     ...     ...     ...     ...\n",
       "278745 2023-05-31 14:27:00  1063.0  1063.0  1062.1  1062.2    1400\n",
       "278746 2023-05-31 14:28:00  1062.7  1062.8  1062.3  1062.7    1022\n",
       "278747 2023-05-31 14:29:00  1062.7  1063.0  1062.0  1062.6    2209\n",
       "278748 2023-05-31 14:30:00  1062.2  1062.2  1062.2  1062.2      22\n",
       "278749 2023-05-31 14:45:00  1062.6  1062.6  1062.6  1062.6    5649\n",
       "\n",
       "[243 rows x 6 columns]"
      ]
     },
     "execution_count": 26,
     "metadata": {},
     "output_type": "execute_result"
    }
   ],
   "source": [
    "df[\n",
    "    (df['Date'] >= '2023-04-01') & (df['Date'] <= '2023-08-01')\n",
    "]"
   ]
  },
  {
   "cell_type": "code",
   "execution_count": 27,
   "id": "42363c70",
   "metadata": {
    "execution": {
     "iopub.execute_input": "2024-07-01T13:32:07.499523Z",
     "iopub.status.busy": "2024-07-01T13:32:07.499144Z",
     "iopub.status.idle": "2024-07-01T13:32:07.519373Z",
     "shell.execute_reply": "2024-07-01T13:32:07.518385Z"
    },
    "id": "-e_nadYJDRFn",
    "outputId": "57eec791-7d6f-4e89-b52c-b1432206f856",
    "papermill": {
     "duration": 0.043676,
     "end_time": "2024-07-01T13:32:07.521667",
     "exception": false,
     "start_time": "2024-07-01T13:32:07.477991",
     "status": "completed"
    },
    "tags": []
   },
   "outputs": [
    {
     "data": {
      "text/html": [
       "<div>\n",
       "<style scoped>\n",
       "    .dataframe tbody tr th:only-of-type {\n",
       "        vertical-align: middle;\n",
       "    }\n",
       "\n",
       "    .dataframe tbody tr th {\n",
       "        vertical-align: top;\n",
       "    }\n",
       "\n",
       "    .dataframe thead th {\n",
       "        text-align: right;\n",
       "    }\n",
       "</style>\n",
       "<table border=\"1\" class=\"dataframe\">\n",
       "  <thead>\n",
       "    <tr style=\"text-align: right;\">\n",
       "      <th></th>\n",
       "      <th>Date</th>\n",
       "      <th>Open</th>\n",
       "      <th>High</th>\n",
       "      <th>Low</th>\n",
       "      <th>Close</th>\n",
       "      <th>Volume</th>\n",
       "    </tr>\n",
       "  </thead>\n",
       "  <tbody>\n",
       "    <tr>\n",
       "      <th>278507</th>\n",
       "      <td>2023-04-03 09:00:00</td>\n",
       "      <td>1081.3</td>\n",
       "      <td>1082.6</td>\n",
       "      <td>1080.6</td>\n",
       "      <td>1080.6</td>\n",
       "      <td>3444.0</td>\n",
       "    </tr>\n",
       "    <tr>\n",
       "      <th>278508</th>\n",
       "      <td>2023-04-03 09:01:00</td>\n",
       "      <td>1081.3</td>\n",
       "      <td>1082.6</td>\n",
       "      <td>1080.6</td>\n",
       "      <td>1080.6</td>\n",
       "      <td>3444.0</td>\n",
       "    </tr>\n",
       "    <tr>\n",
       "      <th>278509</th>\n",
       "      <td>2023-04-03 09:02:00</td>\n",
       "      <td>1081.3</td>\n",
       "      <td>1082.6</td>\n",
       "      <td>1080.6</td>\n",
       "      <td>1080.6</td>\n",
       "      <td>3444.0</td>\n",
       "    </tr>\n",
       "    <tr>\n",
       "      <th>278510</th>\n",
       "      <td>2023-04-03 09:03:00</td>\n",
       "      <td>1080.7</td>\n",
       "      <td>1081.2</td>\n",
       "      <td>1080.4</td>\n",
       "      <td>1080.4</td>\n",
       "      <td>1419.0</td>\n",
       "    </tr>\n",
       "    <tr>\n",
       "      <th>278511</th>\n",
       "      <td>2023-04-03 09:04:00</td>\n",
       "      <td>1080.7</td>\n",
       "      <td>1081.2</td>\n",
       "      <td>1080.4</td>\n",
       "      <td>1080.4</td>\n",
       "      <td>1419.0</td>\n",
       "    </tr>\n",
       "    <tr>\n",
       "      <th>...</th>\n",
       "      <td>...</td>\n",
       "      <td>...</td>\n",
       "      <td>...</td>\n",
       "      <td>...</td>\n",
       "      <td>...</td>\n",
       "      <td>...</td>\n",
       "    </tr>\n",
       "    <tr>\n",
       "      <th>307662</th>\n",
       "      <td>2023-07-31 14:27:00</td>\n",
       "      <td>1227.8</td>\n",
       "      <td>1231.8</td>\n",
       "      <td>1227.8</td>\n",
       "      <td>1231.8</td>\n",
       "      <td>2325.0</td>\n",
       "    </tr>\n",
       "    <tr>\n",
       "      <th>307663</th>\n",
       "      <td>2023-07-31 14:28:00</td>\n",
       "      <td>1227.8</td>\n",
       "      <td>1231.8</td>\n",
       "      <td>1227.8</td>\n",
       "      <td>1231.8</td>\n",
       "      <td>2325.0</td>\n",
       "    </tr>\n",
       "    <tr>\n",
       "      <th>307664</th>\n",
       "      <td>2023-07-31 14:29:00</td>\n",
       "      <td>1227.8</td>\n",
       "      <td>1231.8</td>\n",
       "      <td>1227.8</td>\n",
       "      <td>1231.8</td>\n",
       "      <td>2325.0</td>\n",
       "    </tr>\n",
       "    <tr>\n",
       "      <th>307665</th>\n",
       "      <td>2023-07-31 14:30:00</td>\n",
       "      <td>1231.9</td>\n",
       "      <td>1232.0</td>\n",
       "      <td>1231.9</td>\n",
       "      <td>1232.0</td>\n",
       "      <td>195.0</td>\n",
       "    </tr>\n",
       "    <tr>\n",
       "      <th>307666</th>\n",
       "      <td>2023-07-31 14:45:00</td>\n",
       "      <td>1234.2</td>\n",
       "      <td>1234.2</td>\n",
       "      <td>1234.2</td>\n",
       "      <td>1234.2</td>\n",
       "      <td>7378.0</td>\n",
       "    </tr>\n",
       "  </tbody>\n",
       "</table>\n",
       "<p>29160 rows × 6 columns</p>\n",
       "</div>"
      ],
      "text/plain": [
       "                      Date    Open    High     Low   Close  Volume\n",
       "278507 2023-04-03 09:00:00  1081.3  1082.6  1080.6  1080.6  3444.0\n",
       "278508 2023-04-03 09:01:00  1081.3  1082.6  1080.6  1080.6  3444.0\n",
       "278509 2023-04-03 09:02:00  1081.3  1082.6  1080.6  1080.6  3444.0\n",
       "278510 2023-04-03 09:03:00  1080.7  1081.2  1080.4  1080.4  1419.0\n",
       "278511 2023-04-03 09:04:00  1080.7  1081.2  1080.4  1080.4  1419.0\n",
       "...                    ...     ...     ...     ...     ...     ...\n",
       "307662 2023-07-31 14:27:00  1227.8  1231.8  1227.8  1231.8  2325.0\n",
       "307663 2023-07-31 14:28:00  1227.8  1231.8  1227.8  1231.8  2325.0\n",
       "307664 2023-07-31 14:29:00  1227.8  1231.8  1227.8  1231.8  2325.0\n",
       "307665 2023-07-31 14:30:00  1231.9  1232.0  1231.9  1232.0   195.0\n",
       "307666 2023-07-31 14:45:00  1234.2  1234.2  1234.2  1234.2  7378.0\n",
       "\n",
       "[29160 rows x 6 columns]"
      ]
     },
     "execution_count": 27,
     "metadata": {},
     "output_type": "execute_result"
    }
   ],
   "source": [
    "data[\n",
    "    (data['Date'] >= '2023-04-01') & (data['Date'] <= '2023-08-01')\n",
    "]"
   ]
  },
  {
   "cell_type": "markdown",
   "id": "bf8b1a7e",
   "metadata": {
    "id": "CVnajMk3qnAA",
    "papermill": {
     "duration": 0.020134,
     "end_time": "2024-07-01T13:32:07.562698",
     "exception": false,
     "start_time": "2024-07-01T13:32:07.542564",
     "status": "completed"
    },
    "tags": []
   },
   "source": [
    "## Preprocess"
   ]
  },
  {
   "cell_type": "code",
   "execution_count": 28,
   "id": "5ba07054",
   "metadata": {
    "execution": {
     "iopub.execute_input": "2024-07-01T13:32:07.605367Z",
     "iopub.status.busy": "2024-07-01T13:32:07.604962Z",
     "iopub.status.idle": "2024-07-01T13:32:07.634870Z",
     "shell.execute_reply": "2024-07-01T13:32:07.633843Z"
    },
    "id": "ujwxx5YlqnAA",
    "papermill": {
     "duration": 0.054683,
     "end_time": "2024-07-01T13:32:07.637756",
     "exception": false,
     "start_time": "2024-07-01T13:32:07.583073",
     "status": "completed"
    },
    "tags": []
   },
   "outputs": [],
   "source": [
    "from scipy.stats.mstats import winsorize\n",
    "# Áp dụng Winsorization\n",
    "data['Close'] = winsorize(data['Close'], limits=[0.05, 0.05])"
   ]
  },
  {
   "cell_type": "code",
   "execution_count": 29,
   "id": "e05eb2f0",
   "metadata": {
    "execution": {
     "iopub.execute_input": "2024-07-01T13:32:07.683560Z",
     "iopub.status.busy": "2024-07-01T13:32:07.683163Z",
     "iopub.status.idle": "2024-07-01T13:32:07.690346Z",
     "shell.execute_reply": "2024-07-01T13:32:07.689343Z"
    },
    "id": "gSLYyILZqnAA",
    "papermill": {
     "duration": 0.031554,
     "end_time": "2024-07-01T13:32:07.692541",
     "exception": false,
     "start_time": "2024-07-01T13:32:07.660987",
     "status": "completed"
    },
    "tags": []
   },
   "outputs": [],
   "source": [
    "def process_data(data):\n",
    "    data.set_index('Date', inplace =True)\n",
    "    data.columns = ['Open','High','Low','Close','Volume']\n",
    "\n",
    "    data['Date'] = [str(i)[:10] for i in data.index]\n",
    "    data['time'] = [str(i)[11:] for i in data.index]\n",
    "\n",
    "    data = data[~data.index.duplicated(keep='first')] # Handling duplicate\n",
    "    data_model = data.pivot(index = 'Date', columns = 'time', values = ['Open','High','Low','Close','Volume']).ffill(axis = 1).stack().reset_index() # Handling missing values\n",
    "    # data_model.columns = ['Date','time','Close']\n",
    "\n",
    "    return data_model"
   ]
  },
  {
   "cell_type": "code",
   "execution_count": 30,
   "id": "62a1917f",
   "metadata": {
    "execution": {
     "iopub.execute_input": "2024-07-01T13:32:07.735577Z",
     "iopub.status.busy": "2024-07-01T13:32:07.735204Z",
     "iopub.status.idle": "2024-07-01T13:32:11.364669Z",
     "shell.execute_reply": "2024-07-01T13:32:11.363497Z"
    },
    "id": "rIkgvyquqnAA",
    "papermill": {
     "duration": 3.653963,
     "end_time": "2024-07-01T13:32:11.367220",
     "exception": false,
     "start_time": "2024-07-01T13:32:07.713257",
     "status": "completed"
    },
    "tags": []
   },
   "outputs": [
    {
     "name": "stderr",
     "output_type": "stream",
     "text": [
      "/tmp/ipykernel_18/3085240317.py:9: FutureWarning: The previous implementation of stack is deprecated and will be removed in a future version of pandas. See the What's New notes for pandas 2.1.0 for details. Specify future_stack=True to adopt the new implementation and silence this warning.\n",
      "  data_model = data.pivot(index = 'Date', columns = 'time', values = ['Open','High','Low','Close','Volume']).ffill(axis = 1).stack().reset_index() # Handling missing values\n"
     ]
    }
   ],
   "source": [
    "data = process_data(data)"
   ]
  },
  {
   "cell_type": "code",
   "execution_count": 31,
   "id": "fda7a896",
   "metadata": {
    "execution": {
     "iopub.execute_input": "2024-07-01T13:32:11.411480Z",
     "iopub.status.busy": "2024-07-01T13:32:11.411118Z",
     "iopub.status.idle": "2024-07-01T13:32:11.428408Z",
     "shell.execute_reply": "2024-07-01T13:32:11.427325Z"
    },
    "id": "K6SIVJpGqnAA",
    "outputId": "9cc29c72-3c4c-4798-e63e-71cccd2ec513",
    "papermill": {
     "duration": 0.042319,
     "end_time": "2024-07-01T13:32:11.431117",
     "exception": false,
     "start_time": "2024-07-01T13:32:11.388798",
     "status": "completed"
    },
    "tags": []
   },
   "outputs": [
    {
     "data": {
      "text/html": [
       "<div>\n",
       "<style scoped>\n",
       "    .dataframe tbody tr th:only-of-type {\n",
       "        vertical-align: middle;\n",
       "    }\n",
       "\n",
       "    .dataframe tbody tr th {\n",
       "        vertical-align: top;\n",
       "    }\n",
       "\n",
       "    .dataframe thead th {\n",
       "        text-align: right;\n",
       "    }\n",
       "</style>\n",
       "<table border=\"1\" class=\"dataframe\">\n",
       "  <thead>\n",
       "    <tr style=\"text-align: right;\">\n",
       "      <th></th>\n",
       "      <th>Date</th>\n",
       "      <th>time</th>\n",
       "      <th>Open</th>\n",
       "      <th>High</th>\n",
       "      <th>Low</th>\n",
       "      <th>Close</th>\n",
       "      <th>Volume</th>\n",
       "    </tr>\n",
       "  </thead>\n",
       "  <tbody>\n",
       "    <tr>\n",
       "      <th>0</th>\n",
       "      <td>2018-08-13</td>\n",
       "      <td>09:00:00</td>\n",
       "      <td>943.5</td>\n",
       "      <td>943.5</td>\n",
       "      <td>942.9</td>\n",
       "      <td>942.9</td>\n",
       "      <td>975.0</td>\n",
       "    </tr>\n",
       "    <tr>\n",
       "      <th>1</th>\n",
       "      <td>2018-08-13</td>\n",
       "      <td>09:01:00</td>\n",
       "      <td>943.0</td>\n",
       "      <td>943.1</td>\n",
       "      <td>942.9</td>\n",
       "      <td>943.1</td>\n",
       "      <td>220.0</td>\n",
       "    </tr>\n",
       "    <tr>\n",
       "      <th>2</th>\n",
       "      <td>2018-08-13</td>\n",
       "      <td>09:02:00</td>\n",
       "      <td>943.0</td>\n",
       "      <td>943.6</td>\n",
       "      <td>943.0</td>\n",
       "      <td>943.5</td>\n",
       "      <td>121.0</td>\n",
       "    </tr>\n",
       "    <tr>\n",
       "      <th>3</th>\n",
       "      <td>2018-08-13</td>\n",
       "      <td>09:03:00</td>\n",
       "      <td>943.3</td>\n",
       "      <td>943.4</td>\n",
       "      <td>943.3</td>\n",
       "      <td>943.4</td>\n",
       "      <td>135.0</td>\n",
       "    </tr>\n",
       "    <tr>\n",
       "      <th>4</th>\n",
       "      <td>2018-08-13</td>\n",
       "      <td>09:04:00</td>\n",
       "      <td>943.2</td>\n",
       "      <td>943.2</td>\n",
       "      <td>943.0</td>\n",
       "      <td>943.1</td>\n",
       "      <td>361.0</td>\n",
       "    </tr>\n",
       "    <tr>\n",
       "      <th>...</th>\n",
       "      <td>...</td>\n",
       "      <td>...</td>\n",
       "      <td>...</td>\n",
       "      <td>...</td>\n",
       "      <td>...</td>\n",
       "      <td>...</td>\n",
       "      <td>...</td>\n",
       "    </tr>\n",
       "    <tr>\n",
       "      <th>355991</th>\n",
       "      <td>2024-07-01</td>\n",
       "      <td>14:27:00</td>\n",
       "      <td>1284.5</td>\n",
       "      <td>1284.9</td>\n",
       "      <td>1284.1</td>\n",
       "      <td>1284.9</td>\n",
       "      <td>1020.0</td>\n",
       "    </tr>\n",
       "    <tr>\n",
       "      <th>355992</th>\n",
       "      <td>2024-07-01</td>\n",
       "      <td>14:28:00</td>\n",
       "      <td>1284.7</td>\n",
       "      <td>1285.0</td>\n",
       "      <td>1283.9</td>\n",
       "      <td>1283.9</td>\n",
       "      <td>1805.0</td>\n",
       "    </tr>\n",
       "    <tr>\n",
       "      <th>355993</th>\n",
       "      <td>2024-07-01</td>\n",
       "      <td>14:29:00</td>\n",
       "      <td>1283.9</td>\n",
       "      <td>1284.8</td>\n",
       "      <td>1283.7</td>\n",
       "      <td>1284.8</td>\n",
       "      <td>1786.0</td>\n",
       "    </tr>\n",
       "    <tr>\n",
       "      <th>355994</th>\n",
       "      <td>2024-07-01</td>\n",
       "      <td>14:30:00</td>\n",
       "      <td>1284.8</td>\n",
       "      <td>1284.8</td>\n",
       "      <td>1284.8</td>\n",
       "      <td>1284.8</td>\n",
       "      <td>134.0</td>\n",
       "    </tr>\n",
       "    <tr>\n",
       "      <th>355995</th>\n",
       "      <td>2024-07-01</td>\n",
       "      <td>14:45:00</td>\n",
       "      <td>1285.0</td>\n",
       "      <td>1285.0</td>\n",
       "      <td>1285.0</td>\n",
       "      <td>1285.0</td>\n",
       "      <td>5137.0</td>\n",
       "    </tr>\n",
       "  </tbody>\n",
       "</table>\n",
       "<p>355996 rows × 7 columns</p>\n",
       "</div>"
      ],
      "text/plain": [
       "              Date      time    Open    High     Low   Close  Volume\n",
       "0       2018-08-13  09:00:00   943.5   943.5   942.9   942.9   975.0\n",
       "1       2018-08-13  09:01:00   943.0   943.1   942.9   943.1   220.0\n",
       "2       2018-08-13  09:02:00   943.0   943.6   943.0   943.5   121.0\n",
       "3       2018-08-13  09:03:00   943.3   943.4   943.3   943.4   135.0\n",
       "4       2018-08-13  09:04:00   943.2   943.2   943.0   943.1   361.0\n",
       "...            ...       ...     ...     ...     ...     ...     ...\n",
       "355991  2024-07-01  14:27:00  1284.5  1284.9  1284.1  1284.9  1020.0\n",
       "355992  2024-07-01  14:28:00  1284.7  1285.0  1283.9  1283.9  1805.0\n",
       "355993  2024-07-01  14:29:00  1283.9  1284.8  1283.7  1284.8  1786.0\n",
       "355994  2024-07-01  14:30:00  1284.8  1284.8  1284.8  1284.8   134.0\n",
       "355995  2024-07-01  14:45:00  1285.0  1285.0  1285.0  1285.0  5137.0\n",
       "\n",
       "[355996 rows x 7 columns]"
      ]
     },
     "execution_count": 31,
     "metadata": {},
     "output_type": "execute_result"
    }
   ],
   "source": [
    "data"
   ]
  },
  {
   "cell_type": "markdown",
   "id": "75060749",
   "metadata": {
    "id": "AQlr_9yzqnAA",
    "papermill": {
     "duration": 0.020766,
     "end_time": "2024-07-01T13:32:11.473006",
     "exception": false,
     "start_time": "2024-07-01T13:32:11.452240",
     "status": "completed"
    },
    "tags": []
   },
   "source": [
    "## Create features"
   ]
  },
  {
   "cell_type": "code",
   "execution_count": 32,
   "id": "3f7fd47b",
   "metadata": {
    "execution": {
     "iopub.execute_input": "2024-07-01T13:32:11.516814Z",
     "iopub.status.busy": "2024-07-01T13:32:11.516456Z",
     "iopub.status.idle": "2024-07-01T13:32:11.522085Z",
     "shell.execute_reply": "2024-07-01T13:32:11.520871Z"
    },
    "id": "H06z83k2bpjv",
    "papermill": {
     "duration": 0.030199,
     "end_time": "2024-07-01T13:32:11.524466",
     "exception": false,
     "start_time": "2024-07-01T13:32:11.494267",
     "status": "completed"
    },
    "tags": []
   },
   "outputs": [],
   "source": [
    "def z_score_rolling(series, window=30):\n",
    "    \"\"\"Tính Z-score rolling\"\"\"\n",
    "    mean = series.rolling(window).mean()\n",
    "    std = series.rolling(window).std(ddof=0)\n",
    "    z_score = (series - mean) / std\n",
    "    return z_score"
   ]
  },
  {
   "cell_type": "code",
   "execution_count": 33,
   "id": "9a07f694",
   "metadata": {
    "execution": {
     "iopub.execute_input": "2024-07-01T13:32:11.569987Z",
     "iopub.status.busy": "2024-07-01T13:32:11.569563Z",
     "iopub.status.idle": "2024-07-01T13:32:11.583432Z",
     "shell.execute_reply": "2024-07-01T13:32:11.582340Z"
    },
    "id": "1VS6xEuFqnAB",
    "papermill": {
     "duration": 0.04034,
     "end_time": "2024-07-01T13:32:11.586088",
     "exception": false,
     "start_time": "2024-07-01T13:32:11.545748",
     "status": "completed"
    },
    "tags": []
   },
   "outputs": [],
   "source": [
    "def generate_features(data, shift=1):\n",
    "    \"\"\"\n",
    "    Hàm này tạo ra các features mới từ dữ liệu cổ phiếu.\n",
    "\n",
    "    Args:\n",
    "    df (pandas.DataFrame): DataFrame chứa dữ liệu cần tạo features, có các cột 'open', 'high', 'low', 'close' và 'volume'.\n",
    "\n",
    "    Returns:\n",
    "    pandas.DataFrame: DataFrame đã được mở rộng với các features mới.\n",
    "    \"\"\"\n",
    "    df = data.copy()\n",
    "    # Thêm tất cả các đặc trưng kỹ thuật từ thư viện TA-Lib\n",
    "    # Bollinger Bands\n",
    "    df['BB_Middle'] = df['Close'].rolling(window=20).mean()\n",
    "    df['BB_Std'] = df['Close'].rolling(window=20).std()\n",
    "    df['BB_Upper'] = df['BB_Middle'] + 2 * df['BB_Std']\n",
    "    df['BB_Lower'] = df['BB_Middle'] - 2 * df['BB_Std']\n",
    "\n",
    "    # RSI\n",
    "    df['RSI'] = ta.rsi(df['Close'], length=14)\n",
    "\n",
    "    # MACD\n",
    "    macd = ta.macd(df['Close'], fast=12, slow=26, signal=9)\n",
    "    df['MACD'] = macd['MACD_12_26_9']\n",
    "    df['MACD_Signal'] = macd['MACDs_12_26_9']\n",
    "    df['MACD_Hist'] = macd['MACDh_12_26_9']\n",
    "\n",
    "    # Stochastic Oscillator\n",
    "    stoch = ta.stoch(df['High'], df['Low'], df['Close'])\n",
    "    df['Stoch_K'] = stoch['STOCHk_14_3_3']\n",
    "    df['Stoch_D'] = stoch['STOCHd_14_3_3']\n",
    "\n",
    "    # ATR\n",
    "    df['ATR'] = ta.atr(df['High'], df['Low'], df['Close'], length=14)\n",
    "\n",
    "    # Z-score rolling\n",
    "    df['Z_Score_Rolling'] = z_score_rolling(df['Close'], window=30)\n",
    "\n",
    "    # Percent Change 5 minutes\n",
    "    df['Trend_5min'] = df['Close'].pct_change(periods=5)\n",
    "\n",
    "    # Rolling Standard Deviation 30 minutes\n",
    "    df['Std_Rolling_30min'] = df['Close'].rolling(window=30).std()\n",
    "\n",
    "    # Difference between Close and 30 minutes Moving Average\n",
    "    ma_30min = df['Close'].rolling(window=30).mean()\n",
    "    df['Close_Minus_MA_30min'] = df['Close'] - ma_30min\n",
    "\n",
    "    # Simple Moving Average 10 minutes\n",
    "    df['SMA_10'] = df['Close'].rolling(window=10).mean()\n",
    "\n",
    "    df_ta = df.copy()\n",
    "    df_ta.ta.cores = 0\n",
    "    df_ta.ta.strategy('common')\n",
    "\n",
    "    cols_to_drop = ['Open', 'High', 'Low', 'Close', 'Volume', 'Date', 'time']\n",
    "    df_ta = df_ta.drop(columns=cols_to_drop, errors='ignore')\n",
    "\n",
    "    # Concatenate original dataframe with features from pandas-ta\n",
    "    df = pd.concat([df, df_ta], axis=1)\n",
    "\n",
    "    # Replace infinite values and fill NaN values with 0\n",
    "    df.replace([np.inf, -np.inf], np.nan, inplace=True)\n",
    "    df.fillna(0, inplace=True)\n",
    "\n",
    "    df2 = data.copy()\n",
    "    df2 = add_all_ta_features(df2, open=\"Open\", high=\"High\", low=\"Low\", close=\"Close\", volume=\"Volume\")\n",
    "    df2 = df2.drop(columns=['Date','time', 'Open','High','Low','Close','Volume'])\n",
    "\n",
    "    df3 = pd.concat([df, df2], axis=1)\n",
    "\n",
    "    return df3"
   ]
  },
  {
   "cell_type": "code",
   "execution_count": 34,
   "id": "fda6ce45",
   "metadata": {
    "execution": {
     "iopub.execute_input": "2024-07-01T13:32:11.630456Z",
     "iopub.status.busy": "2024-07-01T13:32:11.630079Z",
     "iopub.status.idle": "2024-07-01T13:34:04.806945Z",
     "shell.execute_reply": "2024-07-01T13:34:04.805957Z"
    },
    "id": "IGxFy81RqnAB",
    "outputId": "9a8f8469-bbdc-4b98-8a24-db0b57ef333e",
    "papermill": {
     "duration": 113.201817,
     "end_time": "2024-07-01T13:34:04.809598",
     "exception": false,
     "start_time": "2024-07-01T13:32:11.607781",
     "status": "completed"
    },
    "tags": []
   },
   "outputs": [
    {
     "name": "stdout",
     "output_type": "stream",
     "text": [
      "[X] Not an available strategy.\n"
     ]
    },
    {
     "name": "stderr",
     "output_type": "stream",
     "text": [
      "/opt/conda/lib/python3.10/site-packages/numpy/core/fromnumeric.py:59: RuntimeWarning: invalid value encountered in accumulate\n",
      "  return bound(*args, **kwds)\n"
     ]
    }
   ],
   "source": [
    "data  = generate_features(data)"
   ]
  },
  {
   "cell_type": "markdown",
   "id": "2debe9ba",
   "metadata": {
    "id": "gQzKrJCjqnAB",
    "papermill": {
     "duration": 0.021801,
     "end_time": "2024-07-01T13:34:04.853259",
     "exception": false,
     "start_time": "2024-07-01T13:34:04.831458",
     "status": "completed"
    },
    "tags": []
   },
   "source": [
    "Thêm các feature khác, ví dụ giá vàng (xem xét phù hợp với thời gian trong data)"
   ]
  },
  {
   "cell_type": "markdown",
   "id": "2b085305",
   "metadata": {
    "id": "nVQerGPmqnAC",
    "papermill": {
     "duration": 0.021444,
     "end_time": "2024-07-01T13:34:04.897712",
     "exception": false,
     "start_time": "2024-07-01T13:34:04.876268",
     "status": "completed"
    },
    "tags": []
   },
   "source": [
    "# Feature Engineering"
   ]
  },
  {
   "cell_type": "code",
   "execution_count": 35,
   "id": "3474915d",
   "metadata": {
    "execution": {
     "iopub.execute_input": "2024-07-01T13:34:04.943174Z",
     "iopub.status.busy": "2024-07-01T13:34:04.942768Z",
     "iopub.status.idle": "2024-07-01T13:34:26.760145Z",
     "shell.execute_reply": "2024-07-01T13:34:26.759062Z"
    },
    "id": "-9nK3_PfqnAC",
    "papermill": {
     "duration": 21.843072,
     "end_time": "2024-07-01T13:34:26.762720",
     "exception": false,
     "start_time": "2024-07-01T13:34:04.919648",
     "status": "completed"
    },
    "tags": []
   },
   "outputs": [],
   "source": [
    "def drop_high_corr_columns(df, threshold=0.6):\n",
    "    ohlcv_columns = {'Date','time', 'Open','High','Low','Close','Volume'}\n",
    "\n",
    "     # Identify non-OHLCV and non-date/time columns\n",
    "    non_corr_columns = [col for col in df.columns if col not in ohlcv_columns]\n",
    "\n",
    "    # Compute the correlation matrix only for non-OHLCV and non-date/time columns\n",
    "    corr_matrix = df[non_corr_columns].corr().abs()\n",
    "\n",
    "    # Create a set to keep track of columns to drop\n",
    "    to_drop = set()\n",
    "\n",
    "    # Iterate over the upper triangle of the correlation matrix\n",
    "    for i in range(len(corr_matrix.columns)):\n",
    "        for j in range(i + 1, len(corr_matrix.columns)):\n",
    "            if corr_matrix.iloc[i, j] > threshold:\n",
    "                # If the correlation is higher than the threshold, mark the column with the higher index to drop\n",
    "                col_to_drop = corr_matrix.columns[j]\n",
    "                if col_to_drop not in ohlcv_columns:\n",
    "                    to_drop.add(col_to_drop)\n",
    "\n",
    "    # Drop the columns from the DataFrame\n",
    "    df_dropped = df.drop(columns=to_drop)\n",
    "    return df_dropped\n",
    "\n",
    "data = drop_high_corr_columns(data)"
   ]
  },
  {
   "cell_type": "markdown",
   "id": "82d9d442",
   "metadata": {
    "id": "9DFSNfJOqnAB",
    "papermill": {
     "duration": 0.021003,
     "end_time": "2024-07-01T13:34:26.805333",
     "exception": false,
     "start_time": "2024-07-01T13:34:26.784330",
     "status": "completed"
    },
    "tags": []
   },
   "source": [
    "# Add Predict Features"
   ]
  },
  {
   "cell_type": "code",
   "execution_count": 36,
   "id": "9699a5e6",
   "metadata": {
    "execution": {
     "iopub.execute_input": "2024-07-01T13:34:26.849335Z",
     "iopub.status.busy": "2024-07-01T13:34:26.848955Z",
     "iopub.status.idle": "2024-07-01T13:34:27.178973Z",
     "shell.execute_reply": "2024-07-01T13:34:27.177920Z"
    },
    "id": "nh3vE-96YUzQ",
    "outputId": "1f7ccdbb-4210-4011-d586-19b532abc0b0",
    "papermill": {
     "duration": 0.354923,
     "end_time": "2024-07-01T13:34:27.181430",
     "exception": false,
     "start_time": "2024-07-01T13:34:26.826507",
     "status": "completed"
    },
    "tags": []
   },
   "outputs": [
    {
     "data": {
      "text/html": [
       "<div>\n",
       "<style scoped>\n",
       "    .dataframe tbody tr th:only-of-type {\n",
       "        vertical-align: middle;\n",
       "    }\n",
       "\n",
       "    .dataframe tbody tr th {\n",
       "        vertical-align: top;\n",
       "    }\n",
       "\n",
       "    .dataframe thead th {\n",
       "        text-align: right;\n",
       "    }\n",
       "</style>\n",
       "<table border=\"1\" class=\"dataframe\">\n",
       "  <thead>\n",
       "    <tr style=\"text-align: right;\">\n",
       "      <th></th>\n",
       "      <th>Date</th>\n",
       "      <th>time</th>\n",
       "      <th>Open</th>\n",
       "      <th>High</th>\n",
       "      <th>Low</th>\n",
       "      <th>Close</th>\n",
       "      <th>Volume</th>\n",
       "      <th>volume_adi</th>\n",
       "      <th>volume_em</th>\n",
       "      <th>volume_sma_em</th>\n",
       "      <th>...</th>\n",
       "      <th>volatility_kcp</th>\n",
       "      <th>trend_mass_index</th>\n",
       "      <th>trend_dpo</th>\n",
       "      <th>trend_adx</th>\n",
       "      <th>trend_psar_up_indicator</th>\n",
       "      <th>trend_psar_down_indicator</th>\n",
       "      <th>momentum_pvo</th>\n",
       "      <th>momentum_pvo_hist</th>\n",
       "      <th>others_dr</th>\n",
       "      <th>Return</th>\n",
       "    </tr>\n",
       "  </thead>\n",
       "  <tbody>\n",
       "    <tr>\n",
       "      <th>1</th>\n",
       "      <td>2018-08-13</td>\n",
       "      <td>09:01:00</td>\n",
       "      <td>943.0</td>\n",
       "      <td>943.1</td>\n",
       "      <td>942.9</td>\n",
       "      <td>943.1</td>\n",
       "      <td>220.0</td>\n",
       "      <td>-755.000000</td>\n",
       "      <td>-18181.818182</td>\n",
       "      <td>0.000000</td>\n",
       "      <td>...</td>\n",
       "      <td>0.541667</td>\n",
       "      <td>0.000000</td>\n",
       "      <td>0.000</td>\n",
       "      <td>0.000000</td>\n",
       "      <td>0.0</td>\n",
       "      <td>0.0</td>\n",
       "      <td>0.000000</td>\n",
       "      <td>0.000000</td>\n",
       "      <td>0.021211</td>\n",
       "      <td>0.000424</td>\n",
       "    </tr>\n",
       "    <tr>\n",
       "      <th>2</th>\n",
       "      <td>2018-08-13</td>\n",
       "      <td>09:02:00</td>\n",
       "      <td>943.0</td>\n",
       "      <td>943.6</td>\n",
       "      <td>943.0</td>\n",
       "      <td>943.5</td>\n",
       "      <td>121.0</td>\n",
       "      <td>-674.333333</td>\n",
       "      <td>148760.330579</td>\n",
       "      <td>0.000000</td>\n",
       "      <td>...</td>\n",
       "      <td>0.857143</td>\n",
       "      <td>0.000000</td>\n",
       "      <td>0.000</td>\n",
       "      <td>0.000000</td>\n",
       "      <td>0.0</td>\n",
       "      <td>1.0</td>\n",
       "      <td>0.000000</td>\n",
       "      <td>0.000000</td>\n",
       "      <td>0.042413</td>\n",
       "      <td>-0.000106</td>\n",
       "    </tr>\n",
       "    <tr>\n",
       "      <th>3</th>\n",
       "      <td>2018-08-13</td>\n",
       "      <td>09:03:00</td>\n",
       "      <td>943.3</td>\n",
       "      <td>943.4</td>\n",
       "      <td>943.3</td>\n",
       "      <td>943.4</td>\n",
       "      <td>135.0</td>\n",
       "      <td>-539.333333</td>\n",
       "      <td>3703.703704</td>\n",
       "      <td>0.000000</td>\n",
       "      <td>...</td>\n",
       "      <td>0.744444</td>\n",
       "      <td>0.000000</td>\n",
       "      <td>0.000</td>\n",
       "      <td>0.000000</td>\n",
       "      <td>0.0</td>\n",
       "      <td>0.0</td>\n",
       "      <td>0.000000</td>\n",
       "      <td>0.000000</td>\n",
       "      <td>-0.010599</td>\n",
       "      <td>-0.000318</td>\n",
       "    </tr>\n",
       "    <tr>\n",
       "      <th>4</th>\n",
       "      <td>2018-08-13</td>\n",
       "      <td>09:04:00</td>\n",
       "      <td>943.2</td>\n",
       "      <td>943.2</td>\n",
       "      <td>943.0</td>\n",
       "      <td>943.1</td>\n",
       "      <td>361.0</td>\n",
       "      <td>-539.333333</td>\n",
       "      <td>-13850.415512</td>\n",
       "      <td>0.000000</td>\n",
       "      <td>...</td>\n",
       "      <td>0.362745</td>\n",
       "      <td>0.000000</td>\n",
       "      <td>0.000</td>\n",
       "      <td>0.000000</td>\n",
       "      <td>0.0</td>\n",
       "      <td>0.0</td>\n",
       "      <td>0.000000</td>\n",
       "      <td>0.000000</td>\n",
       "      <td>-0.031800</td>\n",
       "      <td>-0.000106</td>\n",
       "    </tr>\n",
       "    <tr>\n",
       "      <th>5</th>\n",
       "      <td>2018-08-13</td>\n",
       "      <td>09:05:00</td>\n",
       "      <td>943.1</td>\n",
       "      <td>943.1</td>\n",
       "      <td>942.9</td>\n",
       "      <td>943.0</td>\n",
       "      <td>343.0</td>\n",
       "      <td>-539.333333</td>\n",
       "      <td>-5830.903790</td>\n",
       "      <td>0.000000</td>\n",
       "      <td>...</td>\n",
       "      <td>0.245614</td>\n",
       "      <td>0.000000</td>\n",
       "      <td>0.000</td>\n",
       "      <td>0.000000</td>\n",
       "      <td>0.0</td>\n",
       "      <td>0.0</td>\n",
       "      <td>0.000000</td>\n",
       "      <td>0.000000</td>\n",
       "      <td>-0.010603</td>\n",
       "      <td>0.000106</td>\n",
       "    </tr>\n",
       "    <tr>\n",
       "      <th>...</th>\n",
       "      <td>...</td>\n",
       "      <td>...</td>\n",
       "      <td>...</td>\n",
       "      <td>...</td>\n",
       "      <td>...</td>\n",
       "      <td>...</td>\n",
       "      <td>...</td>\n",
       "      <td>...</td>\n",
       "      <td>...</td>\n",
       "      <td>...</td>\n",
       "      <td>...</td>\n",
       "      <td>...</td>\n",
       "      <td>...</td>\n",
       "      <td>...</td>\n",
       "      <td>...</td>\n",
       "      <td>...</td>\n",
       "      <td>...</td>\n",
       "      <td>...</td>\n",
       "      <td>...</td>\n",
       "      <td>...</td>\n",
       "      <td>...</td>\n",
       "    </tr>\n",
       "    <tr>\n",
       "      <th>355991</th>\n",
       "      <td>2024-07-01</td>\n",
       "      <td>14:27:00</td>\n",
       "      <td>1284.5</td>\n",
       "      <td>1284.9</td>\n",
       "      <td>1284.1</td>\n",
       "      <td>1284.9</td>\n",
       "      <td>1020.0</td>\n",
       "      <td>0.000000</td>\n",
       "      <td>47058.823529</td>\n",
       "      <td>28951.861589</td>\n",
       "      <td>...</td>\n",
       "      <td>1.043678</td>\n",
       "      <td>27.301778</td>\n",
       "      <td>-1.215</td>\n",
       "      <td>37.495319</td>\n",
       "      <td>0.0</td>\n",
       "      <td>0.0</td>\n",
       "      <td>10.810019</td>\n",
       "      <td>-7.271315</td>\n",
       "      <td>0.031141</td>\n",
       "      <td>-0.000778</td>\n",
       "    </tr>\n",
       "    <tr>\n",
       "      <th>355992</th>\n",
       "      <td>2024-07-01</td>\n",
       "      <td>14:28:00</td>\n",
       "      <td>1284.7</td>\n",
       "      <td>1285.0</td>\n",
       "      <td>1283.9</td>\n",
       "      <td>1283.9</td>\n",
       "      <td>1805.0</td>\n",
       "      <td>0.000000</td>\n",
       "      <td>-3047.091413</td>\n",
       "      <td>31289.578471</td>\n",
       "      <td>...</td>\n",
       "      <td>0.589655</td>\n",
       "      <td>27.307636</td>\n",
       "      <td>-0.005</td>\n",
       "      <td>38.276426</td>\n",
       "      <td>0.0</td>\n",
       "      <td>0.0</td>\n",
       "      <td>8.880262</td>\n",
       "      <td>-7.360857</td>\n",
       "      <td>-0.077827</td>\n",
       "      <td>0.000701</td>\n",
       "    </tr>\n",
       "    <tr>\n",
       "      <th>355993</th>\n",
       "      <td>2024-07-01</td>\n",
       "      <td>14:29:00</td>\n",
       "      <td>1283.9</td>\n",
       "      <td>1284.8</td>\n",
       "      <td>1283.7</td>\n",
       "      <td>1284.8</td>\n",
       "      <td>1786.0</td>\n",
       "      <td>0.000000</td>\n",
       "      <td>-12318.029115</td>\n",
       "      <td>23577.951529</td>\n",
       "      <td>...</td>\n",
       "      <td>0.793919</td>\n",
       "      <td>27.354933</td>\n",
       "      <td>-0.825</td>\n",
       "      <td>38.721006</td>\n",
       "      <td>0.0</td>\n",
       "      <td>0.0</td>\n",
       "      <td>7.186517</td>\n",
       "      <td>-7.243682</td>\n",
       "      <td>0.070099</td>\n",
       "      <td>0.000000</td>\n",
       "    </tr>\n",
       "    <tr>\n",
       "      <th>355994</th>\n",
       "      <td>2024-07-01</td>\n",
       "      <td>14:30:00</td>\n",
       "      <td>1284.8</td>\n",
       "      <td>1284.8</td>\n",
       "      <td>1284.8</td>\n",
       "      <td>1284.8</td>\n",
       "      <td>134.0</td>\n",
       "      <td>0.000000</td>\n",
       "      <td>0.000000</td>\n",
       "      <td>15935.388331</td>\n",
       "      <td>...</td>\n",
       "      <td>0.768519</td>\n",
       "      <td>27.231240</td>\n",
       "      <td>-0.310</td>\n",
       "      <td>39.133830</td>\n",
       "      <td>0.0</td>\n",
       "      <td>0.0</td>\n",
       "      <td>-1.419864</td>\n",
       "      <td>-12.680050</td>\n",
       "      <td>0.000000</td>\n",
       "      <td>0.000156</td>\n",
       "    </tr>\n",
       "    <tr>\n",
       "      <th>355995</th>\n",
       "      <td>2024-07-01</td>\n",
       "      <td>14:45:00</td>\n",
       "      <td>1285.0</td>\n",
       "      <td>1285.0</td>\n",
       "      <td>1285.0</td>\n",
       "      <td>1285.0</td>\n",
       "      <td>5137.0</td>\n",
       "      <td>0.000000</td>\n",
       "      <td>0.000000</td>\n",
       "      <td>9803.553890</td>\n",
       "      <td>...</td>\n",
       "      <td>0.785311</td>\n",
       "      <td>27.004277</td>\n",
       "      <td>0.620</td>\n",
       "      <td>39.635279</td>\n",
       "      <td>0.0</td>\n",
       "      <td>0.0</td>\n",
       "      <td>12.618420</td>\n",
       "      <td>1.086587</td>\n",
       "      <td>0.015567</td>\n",
       "      <td>0.000000</td>\n",
       "    </tr>\n",
       "  </tbody>\n",
       "</table>\n",
       "<p>355995 rows × 23 columns</p>\n",
       "</div>"
      ],
      "text/plain": [
       "              Date      time    Open    High     Low   Close  Volume  \\\n",
       "1       2018-08-13  09:01:00   943.0   943.1   942.9   943.1   220.0   \n",
       "2       2018-08-13  09:02:00   943.0   943.6   943.0   943.5   121.0   \n",
       "3       2018-08-13  09:03:00   943.3   943.4   943.3   943.4   135.0   \n",
       "4       2018-08-13  09:04:00   943.2   943.2   943.0   943.1   361.0   \n",
       "5       2018-08-13  09:05:00   943.1   943.1   942.9   943.0   343.0   \n",
       "...            ...       ...     ...     ...     ...     ...     ...   \n",
       "355991  2024-07-01  14:27:00  1284.5  1284.9  1284.1  1284.9  1020.0   \n",
       "355992  2024-07-01  14:28:00  1284.7  1285.0  1283.9  1283.9  1805.0   \n",
       "355993  2024-07-01  14:29:00  1283.9  1284.8  1283.7  1284.8  1786.0   \n",
       "355994  2024-07-01  14:30:00  1284.8  1284.8  1284.8  1284.8   134.0   \n",
       "355995  2024-07-01  14:45:00  1285.0  1285.0  1285.0  1285.0  5137.0   \n",
       "\n",
       "        volume_adi      volume_em  volume_sma_em  ...  volatility_kcp  \\\n",
       "1      -755.000000  -18181.818182       0.000000  ...        0.541667   \n",
       "2      -674.333333  148760.330579       0.000000  ...        0.857143   \n",
       "3      -539.333333    3703.703704       0.000000  ...        0.744444   \n",
       "4      -539.333333  -13850.415512       0.000000  ...        0.362745   \n",
       "5      -539.333333   -5830.903790       0.000000  ...        0.245614   \n",
       "...            ...            ...            ...  ...             ...   \n",
       "355991    0.000000   47058.823529   28951.861589  ...        1.043678   \n",
       "355992    0.000000   -3047.091413   31289.578471  ...        0.589655   \n",
       "355993    0.000000  -12318.029115   23577.951529  ...        0.793919   \n",
       "355994    0.000000       0.000000   15935.388331  ...        0.768519   \n",
       "355995    0.000000       0.000000    9803.553890  ...        0.785311   \n",
       "\n",
       "        trend_mass_index  trend_dpo  trend_adx  trend_psar_up_indicator  \\\n",
       "1               0.000000      0.000   0.000000                      0.0   \n",
       "2               0.000000      0.000   0.000000                      0.0   \n",
       "3               0.000000      0.000   0.000000                      0.0   \n",
       "4               0.000000      0.000   0.000000                      0.0   \n",
       "5               0.000000      0.000   0.000000                      0.0   \n",
       "...                  ...        ...        ...                      ...   \n",
       "355991         27.301778     -1.215  37.495319                      0.0   \n",
       "355992         27.307636     -0.005  38.276426                      0.0   \n",
       "355993         27.354933     -0.825  38.721006                      0.0   \n",
       "355994         27.231240     -0.310  39.133830                      0.0   \n",
       "355995         27.004277      0.620  39.635279                      0.0   \n",
       "\n",
       "        trend_psar_down_indicator  momentum_pvo  momentum_pvo_hist  others_dr  \\\n",
       "1                             0.0      0.000000           0.000000   0.021211   \n",
       "2                             1.0      0.000000           0.000000   0.042413   \n",
       "3                             0.0      0.000000           0.000000  -0.010599   \n",
       "4                             0.0      0.000000           0.000000  -0.031800   \n",
       "5                             0.0      0.000000           0.000000  -0.010603   \n",
       "...                           ...           ...                ...        ...   \n",
       "355991                        0.0     10.810019          -7.271315   0.031141   \n",
       "355992                        0.0      8.880262          -7.360857  -0.077827   \n",
       "355993                        0.0      7.186517          -7.243682   0.070099   \n",
       "355994                        0.0     -1.419864         -12.680050   0.000000   \n",
       "355995                        0.0     12.618420           1.086587   0.015567   \n",
       "\n",
       "          Return  \n",
       "1       0.000424  \n",
       "2      -0.000106  \n",
       "3      -0.000318  \n",
       "4      -0.000106  \n",
       "5       0.000106  \n",
       "...          ...  \n",
       "355991 -0.000778  \n",
       "355992  0.000701  \n",
       "355993  0.000000  \n",
       "355994  0.000156  \n",
       "355995  0.000000  \n",
       "\n",
       "[355995 rows x 23 columns]"
      ]
     },
     "execution_count": 36,
     "metadata": {},
     "output_type": "execute_result"
    }
   ],
   "source": [
    "data['Return'] = (data['Close'].shift(-rolling_window) - data['Close'])/data['Close']\n",
    "data = data.fillna(0)\n",
    "data = data.drop(index=0)\n",
    "data"
   ]
  },
  {
   "cell_type": "markdown",
   "id": "2c0b7249",
   "metadata": {
    "id": "RSoMZtvGYX93",
    "papermill": {
     "duration": 0.021647,
     "end_time": "2024-07-01T13:34:27.225022",
     "exception": false,
     "start_time": "2024-07-01T13:34:27.203375",
     "status": "completed"
    },
    "tags": []
   },
   "source": [
    "# Select features using Optuna"
   ]
  },
  {
   "cell_type": "code",
   "execution_count": 37,
   "id": "07fb0ca4",
   "metadata": {
    "execution": {
     "iopub.execute_input": "2024-07-01T13:34:27.270528Z",
     "iopub.status.busy": "2024-07-01T13:34:27.270158Z",
     "iopub.status.idle": "2024-07-01T13:34:27.481927Z",
     "shell.execute_reply": "2024-07-01T13:34:27.480959Z"
    },
    "id": "M3LHQmLyqnAC",
    "papermill": {
     "duration": 0.237313,
     "end_time": "2024-07-01T13:34:27.484361",
     "exception": false,
     "start_time": "2024-07-01T13:34:27.247048",
     "status": "completed"
    },
    "tags": []
   },
   "outputs": [
    {
     "name": "stderr",
     "output_type": "stream",
     "text": [
      "/opt/conda/lib/python3.10/site-packages/numpy/core/fromnumeric.py:59: FutureWarning: 'DataFrame.swapaxes' is deprecated and will be removed in a future version. Please use 'DataFrame.transpose' instead.\n",
      "  return bound(*args, **kwds)\n"
     ]
    }
   ],
   "source": [
    "def objective(trial, X_train, X_valid, y_train, y_valid, y_price):\n",
    "\n",
    "    # Select features based on Optuna's suggestions\n",
    "    selected_features = []\n",
    "\n",
    "    at_least_one_feature = False\n",
    "\n",
    "    for col in X_train.columns:\n",
    "        select_feature = trial.suggest_categorical(col, [0, 1])\n",
    "        if select_feature:\n",
    "            selected_features.append(col)\n",
    "            at_least_one_feature = True\n",
    "\n",
    "    # If no feature was selected, force selection of at least one feature\n",
    "    if not at_least_one_feature:\n",
    "        # Randomly select one feature to be included\n",
    "        forced_feature = trial.suggest_categorical('forced_feature', X_train.columns.tolist())\n",
    "        selected_features.append(forced_feature)\n",
    "\n",
    "    for t in trial.study.trials:\n",
    "        if t.state != optuna.trial.TrialState.COMPLETE:\n",
    "            continue\n",
    "        if t.params == trial.params:\n",
    "            return np.nan #t.values  # Return the previous value without re-evaluating i\n",
    "\n",
    "    trade_threshold  = 0.0001\n",
    "\n",
    "    # Use only the selected features in training\n",
    "    X_train_selected = X_train[selected_features]\n",
    "    X_valid_selected = X_valid[selected_features]\n",
    "\n",
    "    # Train the model\n",
    "    model = GradientBoostingRegressor()\n",
    "    model.fit(X_train_selected, y_train)\n",
    "\n",
    "    y_pred_train = model.predict(X_train_selected)\n",
    "    y_pred_valid = model.predict(X_valid_selected)\n",
    "\n",
    "    _, pos_is, _, sharpe_is = sharpe_for_vn30f(y_pred_train, y_price[:len(y_pred_train)], trade_threshold=trade_threshold, fee_perc=0.01, periods=10)\n",
    "    _, pos_os, _, sharpe_oos = sharpe_for_vn30f(y_pred_valid, y_price[len(y_pred_train):], trade_threshold=trade_threshold, fee_perc=0.01, periods=10)\n",
    "\n",
    "    print('Trade times in sample:',len(pos_is[pos_is != 0]), 'Trade times out sample:',len(pos_os[pos_os != 0]))\n",
    "\n",
    "    return sharpe_oos, abs((abs(sharpe_is / sharpe_oos))-1)\n",
    "\n",
    "X_train, X_valid, y_train, y_valid, train_data = split_optuna_data(data)"
   ]
  },
  {
   "cell_type": "code",
   "execution_count": 38,
   "id": "c7153af2",
   "metadata": {
    "execution": {
     "iopub.execute_input": "2024-07-01T13:34:27.529902Z",
     "iopub.status.busy": "2024-07-01T13:34:27.529492Z",
     "iopub.status.idle": "2024-07-01T14:59:39.989594Z",
     "shell.execute_reply": "2024-07-01T14:59:39.988519Z"
    },
    "id": "JCMZkqqqqnAC",
    "outputId": "6522c662-7a29-4c96-fa2f-14f17c7b904f",
    "papermill": {
     "duration": 5112.485682,
     "end_time": "2024-07-01T14:59:39.992141",
     "exception": false,
     "start_time": "2024-07-01T13:34:27.506459",
     "status": "completed"
    },
    "tags": []
   },
   "outputs": [
    {
     "name": "stderr",
     "output_type": "stream",
     "text": [
      "[I 2024-07-01 13:34:27,532] A new study created in memory with name: no-name-9e461608-83d8-4785-b563-a5087e42ccaa\n"
     ]
    },
    {
     "name": "stdout",
     "output_type": "stream",
     "text": [
      "A new study created in memory with name: no-name-9e461608-83d8-4785-b563-a5087e42ccaa\n"
     ]
    },
    {
     "name": "stderr",
     "output_type": "stream",
     "text": [
      "[I 2024-07-01 13:34:59,738] Trial 0 finished with values: [-0.5693603601208913, 4.369371122234587] and parameters: {0: 0, 1: 0, 2: 1, 3: 0, 4: 1, 5: 1, 6: 0, 7: 0, 8: 0, 9: 1, 10: 0, 11: 1, 12: 1, 13: 1, 14: 0}. \n"
     ]
    },
    {
     "name": "stdout",
     "output_type": "stream",
     "text": [
      "Trade times in sample: 117822 Trade times out sample: 118037\n",
      "Trial 0 finished with values: [-0.5693603601208913, 4.369371122234587] and parameters: {0: 0, 1: 0, 2: 1, 3: 0, 4: 1, 5: 1, 6: 0, 7: 0, 8: 0, 9: 1, 10: 0, 11: 1, 12: 1, 13: 1, 14: 0}. \n"
     ]
    },
    {
     "name": "stderr",
     "output_type": "stream",
     "text": [
      "[I 2024-07-01 13:35:19,479] Trial 1 finished with values: [0.47554990677166825, 6.962276778863265] and parameters: {0: 0, 1: 0, 2: 0, 3: 0, 4: 0, 5: 1, 6: 1, 7: 0, 8: 1, 9: 0, 10: 0, 11: 1, 12: 1, 13: 0, 14: 1}. \n"
     ]
    },
    {
     "name": "stdout",
     "output_type": "stream",
     "text": [
      "Trade times in sample: 117700 Trade times out sample: 118024\n",
      "Trial 1 finished with values: [0.47554990677166825, 6.962276778863265] and parameters: {0: 0, 1: 0, 2: 0, 3: 0, 4: 0, 5: 1, 6: 1, 7: 0, 8: 1, 9: 0, 10: 0, 11: 1, 12: 1, 13: 0, 14: 1}. \n"
     ]
    },
    {
     "name": "stderr",
     "output_type": "stream",
     "text": [
      "[I 2024-07-01 13:35:41,599] Trial 2 finished with values: [2.959476692421247, 0.41175020072793367] and parameters: {0: 1, 1: 1, 2: 0, 3: 0, 4: 1, 5: 0, 6: 1, 7: 0, 8: 1, 9: 0, 10: 0, 11: 0, 12: 0, 13: 1, 14: 1}. \n"
     ]
    },
    {
     "name": "stdout",
     "output_type": "stream",
     "text": [
      "Trade times in sample: 117944 Trade times out sample: 118034\n",
      "Trial 2 finished with values: [2.959476692421247, 0.41175020072793367] and parameters: {0: 1, 1: 1, 2: 0, 3: 0, 4: 1, 5: 0, 6: 1, 7: 0, 8: 1, 9: 0, 10: 0, 11: 0, 12: 0, 13: 1, 14: 1}. \n"
     ]
    },
    {
     "name": "stderr",
     "output_type": "stream",
     "text": [
      "[I 2024-07-01 13:36:17,564] Trial 3 finished with values: [0.1937677309318965, 22.2887020680945] and parameters: {0: 0, 1: 0, 2: 1, 3: 1, 4: 1, 5: 1, 6: 1, 7: 0, 8: 0, 9: 1, 10: 1, 11: 0, 12: 1, 13: 1, 14: 1}. \n"
     ]
    },
    {
     "name": "stdout",
     "output_type": "stream",
     "text": [
      "Trade times in sample: 117700 Trade times out sample: 118034\n",
      "Trial 3 finished with values: [0.1937677309318965, 22.2887020680945] and parameters: {0: 0, 1: 0, 2: 1, 3: 1, 4: 1, 5: 1, 6: 1, 7: 0, 8: 0, 9: 1, 10: 1, 11: 0, 12: 1, 13: 1, 14: 1}. \n"
     ]
    },
    {
     "name": "stderr",
     "output_type": "stream",
     "text": [
      "[I 2024-07-01 13:36:43,495] Trial 4 finished with values: [-0.07748380497791216, 51.706852814230345] and parameters: {0: 0, 1: 0, 2: 0, 3: 0, 4: 1, 5: 1, 6: 0, 7: 1, 8: 0, 9: 0, 10: 0, 11: 1, 12: 1, 13: 1, 14: 0}. \n"
     ]
    },
    {
     "name": "stdout",
     "output_type": "stream",
     "text": [
      "Trade times in sample: 118650 Trade times out sample: 118057\n",
      "Trial 4 finished with values: [-0.07748380497791216, 51.706852814230345] and parameters: {0: 0, 1: 0, 2: 0, 3: 0, 4: 1, 5: 1, 6: 0, 7: 1, 8: 0, 9: 0, 10: 0, 11: 1, 12: 1, 13: 1, 14: 0}. \n"
     ]
    },
    {
     "name": "stderr",
     "output_type": "stream",
     "text": [
      "[I 2024-07-01 13:37:09,196] Trial 5 finished with values: [-1.19389963608266, 1.3616313995147928] and parameters: {0: 0, 1: 1, 2: 1, 3: 0, 4: 0, 5: 0, 6: 0, 7: 1, 8: 1, 9: 0, 10: 0, 11: 0, 12: 1, 13: 0, 14: 0}. \n"
     ]
    },
    {
     "name": "stdout",
     "output_type": "stream",
     "text": [
      "Trade times in sample: 117937 Trade times out sample: 118015\n",
      "Trial 5 finished with values: [-1.19389963608266, 1.3616313995147928] and parameters: {0: 0, 1: 1, 2: 1, 3: 0, 4: 0, 5: 0, 6: 0, 7: 1, 8: 1, 9: 0, 10: 0, 11: 0, 12: 1, 13: 0, 14: 0}. \n"
     ]
    },
    {
     "name": "stderr",
     "output_type": "stream",
     "text": [
      "[I 2024-07-01 13:37:20,806] Trial 6 finished with values: [1.0266528587498887, 0.6641655343187878] and parameters: {0: 0, 1: 1, 2: 0, 3: 0, 4: 1, 5: 1, 6: 0, 7: 0, 8: 0, 9: 0, 10: 1, 11: 1, 12: 0, 13: 0, 14: 0}. \n"
     ]
    },
    {
     "name": "stdout",
     "output_type": "stream",
     "text": [
      "Trade times in sample: 118664 Trade times out sample: 118604\n",
      "Trial 6 finished with values: [1.0266528587498887, 0.6641655343187878] and parameters: {0: 0, 1: 1, 2: 0, 3: 0, 4: 1, 5: 1, 6: 0, 7: 0, 8: 0, 9: 0, 10: 1, 11: 1, 12: 0, 13: 0, 14: 0}. \n"
     ]
    },
    {
     "name": "stderr",
     "output_type": "stream",
     "text": [
      "[I 2024-07-01 13:37:54,665] Trial 7 finished with values: [0.5665264023791604, 6.74681278094422] and parameters: {0: 1, 1: 0, 2: 1, 3: 1, 4: 0, 5: 1, 6: 0, 7: 0, 8: 0, 9: 1, 10: 0, 11: 0, 12: 0, 13: 1, 14: 1}. \n"
     ]
    },
    {
     "name": "stdout",
     "output_type": "stream",
     "text": [
      "Trade times in sample: 117700 Trade times out sample: 118045\n",
      "Trial 7 finished with values: [0.5665264023791604, 6.74681278094422] and parameters: {0: 1, 1: 0, 2: 1, 3: 1, 4: 0, 5: 1, 6: 0, 7: 0, 8: 0, 9: 1, 10: 0, 11: 0, 12: 0, 13: 1, 14: 1}. \n"
     ]
    },
    {
     "name": "stderr",
     "output_type": "stream",
     "text": [
      "[I 2024-07-01 13:38:12,829] Trial 8 finished with values: [-1.4611299095965524, 0.5319709839393418] and parameters: {0: 1, 1: 0, 2: 1, 3: 0, 4: 0, 5: 0, 6: 1, 7: 0, 8: 0, 9: 1, 10: 0, 11: 0, 12: 0, 13: 0, 14: 0}. \n"
     ]
    },
    {
     "name": "stdout",
     "output_type": "stream",
     "text": [
      "Trade times in sample: 118260 Trade times out sample: 113184\n",
      "Trial 8 finished with values: [-1.4611299095965524, 0.5319709839393418] and parameters: {0: 1, 1: 0, 2: 1, 3: 0, 4: 0, 5: 0, 6: 1, 7: 0, 8: 0, 9: 1, 10: 0, 11: 0, 12: 0, 13: 0, 14: 0}. \n"
     ]
    },
    {
     "name": "stderr",
     "output_type": "stream",
     "text": [
      "[I 2024-07-01 13:38:48,666] Trial 9 finished with values: [0.27596826248996975, 15.378490277167781] and parameters: {0: 0, 1: 1, 2: 1, 3: 1, 4: 0, 5: 1, 6: 1, 7: 1, 8: 1, 9: 0, 10: 1, 11: 1, 12: 0, 13: 1, 14: 1}. \n"
     ]
    },
    {
     "name": "stdout",
     "output_type": "stream",
     "text": [
      "Trade times in sample: 117944 Trade times out sample: 118034\n",
      "Trial 9 finished with values: [0.27596826248996975, 15.378490277167781] and parameters: {0: 0, 1: 1, 2: 1, 3: 1, 4: 0, 5: 1, 6: 1, 7: 1, 8: 1, 9: 0, 10: 1, 11: 1, 12: 0, 13: 1, 14: 1}. \n"
     ]
    },
    {
     "name": "stderr",
     "output_type": "stream",
     "text": [
      "[I 2024-07-01 13:39:06,160] Trial 10 finished with values: [1.194919871886693, 1.8012399302691744] and parameters: {0: 0, 1: 0, 2: 1, 3: 0, 4: 1, 5: 0, 6: 1, 7: 0, 8: 0, 9: 1, 10: 1, 11: 0, 12: 0, 13: 0, 14: 1}. \n"
     ]
    },
    {
     "name": "stdout",
     "output_type": "stream",
     "text": [
      "Trade times in sample: 117944 Trade times out sample: 118024\n",
      "Trial 10 finished with values: [1.194919871886693, 1.8012399302691744] and parameters: {0: 0, 1: 0, 2: 1, 3: 0, 4: 1, 5: 0, 6: 1, 7: 0, 8: 0, 9: 1, 10: 1, 11: 0, 12: 0, 13: 0, 14: 1}. \n"
     ]
    },
    {
     "name": "stderr",
     "output_type": "stream",
     "text": [
      "[I 2024-07-01 13:39:30,207] Trial 11 finished with values: [-1.2874916005932886, 1.357306815356221] and parameters: {0: 1, 1: 0, 2: 1, 3: 0, 4: 0, 5: 0, 6: 0, 7: 0, 8: 0, 9: 1, 10: 0, 11: 0, 12: 1, 13: 0, 14: 0}. \n"
     ]
    },
    {
     "name": "stdout",
     "output_type": "stream",
     "text": [
      "Trade times in sample: 118328 Trade times out sample: 114397\n",
      "Trial 11 finished with values: [-1.2874916005932886, 1.357306815356221] and parameters: {0: 1, 1: 0, 2: 1, 3: 0, 4: 0, 5: 0, 6: 0, 7: 0, 8: 0, 9: 1, 10: 0, 11: 0, 12: 1, 13: 0, 14: 0}. \n"
     ]
    },
    {
     "name": "stderr",
     "output_type": "stream",
     "text": [
      "[I 2024-07-01 13:40:00,618] Trial 12 finished with values: [-1.7242559139008378, 0.5194215571512473] and parameters: {0: 0, 1: 1, 2: 1, 3: 1, 4: 0, 5: 0, 6: 1, 7: 1, 8: 0, 9: 1, 10: 1, 11: 1, 12: 0, 13: 1, 14: 0}. \n"
     ]
    },
    {
     "name": "stdout",
     "output_type": "stream",
     "text": [
      "Trade times in sample: 115127 Trade times out sample: 117557\n",
      "Trial 12 finished with values: [-1.7242559139008378, 0.5194215571512473] and parameters: {0: 0, 1: 1, 2: 1, 3: 1, 4: 0, 5: 0, 6: 1, 7: 1, 8: 0, 9: 1, 10: 1, 11: 1, 12: 0, 13: 1, 14: 0}. \n"
     ]
    },
    {
     "name": "stderr",
     "output_type": "stream",
     "text": [
      "[I 2024-07-01 13:40:16,656] Trial 13 finished with values: [0.2323095696122359, 14.638787211304605] and parameters: {0: 0, 1: 0, 2: 0, 3: 1, 4: 1, 5: 0, 6: 0, 7: 0, 8: 1, 9: 0, 10: 1, 11: 0, 12: 1, 13: 1, 14: 0}. \n"
     ]
    },
    {
     "name": "stdout",
     "output_type": "stream",
     "text": [
      "Trade times in sample: 117944 Trade times out sample: 118027\n",
      "Trial 13 finished with values: [0.2323095696122359, 14.638787211304605] and parameters: {0: 0, 1: 0, 2: 0, 3: 1, 4: 1, 5: 0, 6: 0, 7: 0, 8: 1, 9: 0, 10: 1, 11: 0, 12: 1, 13: 1, 14: 0}. \n"
     ]
    },
    {
     "name": "stderr",
     "output_type": "stream",
     "text": [
      "[I 2024-07-01 13:41:02,924] Trial 14 finished with values: [0.3230722162418234, 12.298015404045046] and parameters: {0: 1, 1: 0, 2: 1, 3: 0, 4: 1, 5: 1, 6: 0, 7: 1, 8: 0, 9: 1, 10: 0, 11: 0, 12: 1, 13: 1, 14: 1}. \n"
     ]
    },
    {
     "name": "stdout",
     "output_type": "stream",
     "text": [
      "Trade times in sample: 117944 Trade times out sample: 118034\n",
      "Trial 14 finished with values: [0.3230722162418234, 12.298015404045046] and parameters: {0: 1, 1: 0, 2: 1, 3: 0, 4: 1, 5: 1, 6: 0, 7: 1, 8: 0, 9: 1, 10: 0, 11: 0, 12: 1, 13: 1, 14: 1}. \n"
     ]
    },
    {
     "name": "stderr",
     "output_type": "stream",
     "text": [
      "[I 2024-07-01 13:41:32,962] Trial 15 finished with values: [0.10109545678527758, 41.72358609089352] and parameters: {0: 1, 1: 0, 2: 1, 3: 0, 4: 1, 5: 1, 6: 0, 7: 0, 8: 1, 9: 0, 10: 0, 11: 0, 12: 0, 13: 1, 14: 1}. \n"
     ]
    },
    {
     "name": "stdout",
     "output_type": "stream",
     "text": [
      "Trade times in sample: 117700 Trade times out sample: 118045\n",
      "Trial 15 finished with values: [0.10109545678527758, 41.72358609089352] and parameters: {0: 1, 1: 0, 2: 1, 3: 0, 4: 1, 5: 1, 6: 0, 7: 0, 8: 1, 9: 0, 10: 0, 11: 0, 12: 0, 13: 1, 14: 1}. \n"
     ]
    },
    {
     "name": "stderr",
     "output_type": "stream",
     "text": [
      "[I 2024-07-01 13:42:13,238] Trial 16 finished with values: [0.6939339164112202, 4.542239984163874] and parameters: {0: 1, 1: 1, 2: 1, 3: 0, 4: 0, 5: 0, 6: 0, 7: 0, 8: 1, 9: 1, 10: 0, 11: 0, 12: 1, 13: 1, 14: 1}. \n"
     ]
    },
    {
     "name": "stdout",
     "output_type": "stream",
     "text": [
      "Trade times in sample: 117944 Trade times out sample: 118024\n",
      "Trial 16 finished with values: [0.6939339164112202, 4.542239984163874] and parameters: {0: 1, 1: 1, 2: 1, 3: 0, 4: 0, 5: 0, 6: 0, 7: 0, 8: 1, 9: 1, 10: 0, 11: 0, 12: 1, 13: 1, 14: 1}. \n"
     ]
    },
    {
     "name": "stderr",
     "output_type": "stream",
     "text": [
      "[I 2024-07-01 13:42:46,977] Trial 17 finished with values: [1.075337597397627, 3.2233605891977044] and parameters: {0: 0, 1: 1, 2: 1, 3: 1, 4: 0, 5: 0, 6: 1, 7: 0, 8: 0, 9: 1, 10: 1, 11: 0, 12: 1, 13: 1, 14: 1}. \n"
     ]
    },
    {
     "name": "stdout",
     "output_type": "stream",
     "text": [
      "Trade times in sample: 117944 Trade times out sample: 118024\n",
      "Trial 17 finished with values: [1.075337597397627, 3.2233605891977044] and parameters: {0: 0, 1: 1, 2: 1, 3: 1, 4: 0, 5: 0, 6: 1, 7: 0, 8: 0, 9: 1, 10: 1, 11: 0, 12: 1, 13: 1, 14: 1}. \n"
     ]
    },
    {
     "name": "stderr",
     "output_type": "stream",
     "text": [
      "[I 2024-07-01 13:42:50,825] Trial 18 finished with values: [-0.056198550938234546, 46.47103558318959] and parameters: {0: 0, 1: 0, 2: 0, 3: 1, 4: 1, 5: 0, 6: 1, 7: 0, 8: 1, 9: 0, 10: 1, 11: 1, 12: 0, 13: 0, 14: 0}. \n"
     ]
    },
    {
     "name": "stdout",
     "output_type": "stream",
     "text": [
      "Trade times in sample: 118335 Trade times out sample: 118024\n",
      "Trial 18 finished with values: [-0.056198550938234546, 46.47103558318959] and parameters: {0: 0, 1: 0, 2: 0, 3: 1, 4: 1, 5: 0, 6: 1, 7: 0, 8: 1, 9: 0, 10: 1, 11: 1, 12: 0, 13: 0, 14: 0}. \n"
     ]
    },
    {
     "name": "stderr",
     "output_type": "stream",
     "text": [
      "[I 2024-07-01 13:43:29,547] Trial 19 finished with values: [0.02165666269610323, 156.38127374951011] and parameters: {0: 0, 1: 1, 2: 0, 3: 1, 4: 0, 5: 1, 6: 0, 7: 1, 8: 1, 9: 1, 10: 1, 11: 0, 12: 1, 13: 1, 14: 0}. \n"
     ]
    },
    {
     "name": "stdout",
     "output_type": "stream",
     "text": [
      "Trade times in sample: 115260 Trade times out sample: 118070\n",
      "Trial 19 finished with values: [0.02165666269610323, 156.38127374951011] and parameters: {0: 0, 1: 1, 2: 0, 3: 1, 4: 0, 5: 1, 6: 0, 7: 1, 8: 1, 9: 1, 10: 1, 11: 0, 12: 1, 13: 1, 14: 0}. \n"
     ]
    },
    {
     "name": "stderr",
     "output_type": "stream",
     "text": [
      "[I 2024-07-01 13:44:02,124] Trial 20 finished with values: [-1.1846497949980868, 1.7341060971251552] and parameters: {0: 0, 1: 1, 2: 1, 3: 1, 4: 0, 5: 0, 6: 0, 7: 0, 8: 1, 9: 1, 10: 0, 11: 1, 12: 1, 13: 1, 14: 0}. \n"
     ]
    },
    {
     "name": "stdout",
     "output_type": "stream",
     "text": [
      "Trade times in sample: 117937 Trade times out sample: 118036\n",
      "Trial 20 finished with values: [-1.1846497949980868, 1.7341060971251552] and parameters: {0: 0, 1: 1, 2: 1, 3: 1, 4: 0, 5: 0, 6: 0, 7: 0, 8: 1, 9: 1, 10: 0, 11: 1, 12: 1, 13: 1, 14: 0}. \n"
     ]
    },
    {
     "name": "stderr",
     "output_type": "stream",
     "text": [
      "[I 2024-07-01 13:44:30,009] Trial 21 finished with values: [1.1016325653166799, 3.2511517069483578] and parameters: {0: 0, 1: 1, 2: 0, 3: 1, 4: 1, 5: 1, 6: 0, 7: 0, 8: 0, 9: 1, 10: 0, 11: 1, 12: 0, 13: 1, 14: 1}. \n"
     ]
    },
    {
     "name": "stdout",
     "output_type": "stream",
     "text": [
      "Trade times in sample: 117944 Trade times out sample: 118035\n",
      "Trial 21 finished with values: [1.1016325653166799, 3.2511517069483578] and parameters: {0: 0, 1: 1, 2: 0, 3: 1, 4: 1, 5: 1, 6: 0, 7: 0, 8: 0, 9: 1, 10: 0, 11: 1, 12: 0, 13: 1, 14: 1}. \n"
     ]
    },
    {
     "name": "stderr",
     "output_type": "stream",
     "text": [
      "[I 2024-07-01 13:44:53,836] Trial 22 finished with values: [2.185315227652752, 0.832981713768894] and parameters: {0: 0, 1: 0, 2: 0, 3: 0, 4: 1, 5: 0, 6: 1, 7: 1, 8: 0, 9: 1, 10: 0, 11: 0, 12: 0, 13: 1, 14: 1}. \n"
     ]
    },
    {
     "name": "stdout",
     "output_type": "stream",
     "text": [
      "Trade times in sample: 117944 Trade times out sample: 118034\n",
      "Trial 22 finished with values: [2.185315227652752, 0.832981713768894] and parameters: {0: 0, 1: 0, 2: 0, 3: 0, 4: 1, 5: 0, 6: 1, 7: 1, 8: 0, 9: 1, 10: 0, 11: 0, 12: 0, 13: 1, 14: 1}. \n"
     ]
    },
    {
     "name": "stderr",
     "output_type": "stream",
     "text": [
      "[I 2024-07-01 13:45:27,111] Trial 23 finished with values: [-0.42327556949545003, 7.201281348481466] and parameters: {0: 1, 1: 0, 2: 1, 3: 0, 4: 1, 5: 1, 6: 1, 7: 0, 8: 1, 9: 0, 10: 0, 11: 1, 12: 1, 13: 1, 14: 0}. \n"
     ]
    },
    {
     "name": "stdout",
     "output_type": "stream",
     "text": [
      "Trade times in sample: 118259 Trade times out sample: 118038\n",
      "Trial 23 finished with values: [-0.42327556949545003, 7.201281348481466] and parameters: {0: 1, 1: 0, 2: 1, 3: 0, 4: 1, 5: 1, 6: 1, 7: 0, 8: 1, 9: 0, 10: 0, 11: 1, 12: 1, 13: 1, 14: 0}. \n"
     ]
    },
    {
     "name": "stderr",
     "output_type": "stream",
     "text": [
      "[I 2024-07-01 13:45:44,746] Trial 24 finished with values: [1.4122844673491952, 2.0952802069390057] and parameters: {0: 0, 1: 1, 2: 0, 3: 1, 4: 0, 5: 0, 6: 1, 7: 0, 8: 1, 9: 0, 10: 0, 11: 0, 12: 0, 13: 1, 14: 1}. \n"
     ]
    },
    {
     "name": "stdout",
     "output_type": "stream",
     "text": [
      "Trade times in sample: 117944 Trade times out sample: 118024\n",
      "Trial 24 finished with values: [1.4122844673491952, 2.0952802069390057] and parameters: {0: 0, 1: 1, 2: 0, 3: 1, 4: 0, 5: 0, 6: 1, 7: 0, 8: 1, 9: 0, 10: 0, 11: 0, 12: 0, 13: 1, 14: 1}. \n"
     ]
    },
    {
     "name": "stderr",
     "output_type": "stream",
     "text": [
      "[I 2024-07-01 13:45:58,821] Trial 25 finished with values: [-2.278394393575453, 0.03876437917593556] and parameters: {0: 0, 1: 0, 2: 1, 3: 1, 4: 1, 5: 1, 6: 1, 7: 0, 8: 0, 9: 0, 10: 1, 11: 0, 12: 0, 13: 0, 14: 0}. \n"
     ]
    },
    {
     "name": "stdout",
     "output_type": "stream",
     "text": [
      "Trade times in sample: 117822 Trade times out sample: 117614\n",
      "Trial 25 finished with values: [-2.278394393575453, 0.03876437917593556] and parameters: {0: 0, 1: 0, 2: 1, 3: 1, 4: 1, 5: 1, 6: 1, 7: 0, 8: 0, 9: 0, 10: 1, 11: 0, 12: 0, 13: 0, 14: 0}. \n"
     ]
    },
    {
     "name": "stderr",
     "output_type": "stream",
     "text": [
      "[I 2024-07-01 13:46:23,178] Trial 26 finished with values: [1.567314225982169, 1.375602821495872] and parameters: {0: 1, 1: 0, 2: 1, 3: 0, 4: 0, 5: 0, 6: 1, 7: 0, 8: 1, 9: 1, 10: 1, 11: 0, 12: 0, 13: 0, 14: 1}. \n"
     ]
    },
    {
     "name": "stdout",
     "output_type": "stream",
     "text": [
      "Trade times in sample: 117943 Trade times out sample: 118024\n",
      "Trial 26 finished with values: [1.567314225982169, 1.375602821495872] and parameters: {0: 1, 1: 0, 2: 1, 3: 0, 4: 0, 5: 0, 6: 1, 7: 0, 8: 1, 9: 1, 10: 1, 11: 0, 12: 0, 13: 0, 14: 1}. \n"
     ]
    },
    {
     "name": "stderr",
     "output_type": "stream",
     "text": [
      "[I 2024-07-01 13:46:34,438] Trial 27 finished with values: [1.2763655514041887, 1.6137917990217874] and parameters: {0: 0, 1: 0, 2: 0, 3: 0, 4: 0, 5: 0, 6: 1, 7: 0, 8: 0, 9: 1, 10: 1, 11: 1, 12: 0, 13: 0, 14: 1}. \n"
     ]
    },
    {
     "name": "stdout",
     "output_type": "stream",
     "text": [
      "Trade times in sample: 117944 Trade times out sample: 118024\n",
      "Trial 27 finished with values: [1.2763655514041887, 1.6137917990217874] and parameters: {0: 0, 1: 0, 2: 0, 3: 0, 4: 0, 5: 0, 6: 1, 7: 0, 8: 0, 9: 1, 10: 1, 11: 1, 12: 0, 13: 0, 14: 1}. \n"
     ]
    },
    {
     "name": "stderr",
     "output_type": "stream",
     "text": [
      "[I 2024-07-01 13:47:04,397] Trial 28 finished with values: [0.2509873678942787, 16.208676626240948] and parameters: {0: 1, 1: 0, 2: 1, 3: 0, 4: 0, 5: 1, 6: 0, 7: 0, 8: 1, 9: 0, 10: 0, 11: 0, 12: 0, 13: 1, 14: 1}. \n"
     ]
    },
    {
     "name": "stdout",
     "output_type": "stream",
     "text": [
      "Trade times in sample: 117700 Trade times out sample: 118045\n",
      "Trial 28 finished with values: [0.2509873678942787, 16.208676626240948] and parameters: {0: 1, 1: 0, 2: 1, 3: 0, 4: 0, 5: 1, 6: 0, 7: 0, 8: 1, 9: 0, 10: 0, 11: 0, 12: 0, 13: 1, 14: 1}. \n"
     ]
    },
    {
     "name": "stderr",
     "output_type": "stream",
     "text": [
      "[I 2024-07-01 13:47:45,483] Trial 29 finished with values: [-0.6505680269929643, 3.191378333888692] and parameters: {0: 1, 1: 1, 2: 1, 3: 0, 4: 1, 5: 1, 6: 1, 7: 1, 8: 0, 9: 1, 10: 1, 11: 1, 12: 1, 13: 0, 14: 0}. \n"
     ]
    },
    {
     "name": "stdout",
     "output_type": "stream",
     "text": [
      "Trade times in sample: 115260 Trade times out sample: 118045\n",
      "Trial 29 finished with values: [-0.6505680269929643, 3.191378333888692] and parameters: {0: 1, 1: 1, 2: 1, 3: 0, 4: 1, 5: 1, 6: 1, 7: 1, 8: 0, 9: 1, 10: 1, 11: 1, 12: 1, 13: 0, 14: 0}. \n"
     ]
    },
    {
     "name": "stderr",
     "output_type": "stream",
     "text": [
      "[I 2024-07-01 13:48:22,433] Trial 30 finished with values: [0.3715119745561686, 6.855294478142879] and parameters: {0: 1, 1: 0, 2: 0, 3: 0, 4: 0, 5: 1, 6: 0, 7: 1, 8: 0, 9: 1, 10: 0, 11: 1, 12: 1, 13: 1, 14: 0}. \n"
     ]
    },
    {
     "name": "stdout",
     "output_type": "stream",
     "text": [
      "Trade times in sample: 116142 Trade times out sample: 118055\n",
      "Trial 30 finished with values: [0.3715119745561686, 6.855294478142879] and parameters: {0: 1, 1: 0, 2: 0, 3: 0, 4: 0, 5: 1, 6: 0, 7: 1, 8: 0, 9: 1, 10: 0, 11: 1, 12: 1, 13: 1, 14: 0}. \n"
     ]
    },
    {
     "name": "stderr",
     "output_type": "stream",
     "text": [
      "[I 2024-07-01 13:49:09,234] Trial 31 finished with values: [0.19613028805059946, 20.520290288685384] and parameters: {0: 1, 1: 0, 2: 1, 3: 0, 4: 0, 5: 1, 6: 0, 7: 1, 8: 0, 9: 1, 10: 1, 11: 1, 12: 1, 13: 1, 14: 1}. \n"
     ]
    },
    {
     "name": "stdout",
     "output_type": "stream",
     "text": [
      "Trade times in sample: 117944 Trade times out sample: 118034\n",
      "Trial 31 finished with values: [0.19613028805059946, 20.520290288685384] and parameters: {0: 1, 1: 0, 2: 1, 3: 0, 4: 0, 5: 1, 6: 0, 7: 1, 8: 0, 9: 1, 10: 1, 11: 1, 12: 1, 13: 1, 14: 1}. \n"
     ]
    },
    {
     "name": "stderr",
     "output_type": "stream",
     "text": [
      "[I 2024-07-01 13:49:26,031] Trial 32 finished with values: [0.722724394528603, 3.6768574562177605] and parameters: {0: 0, 1: 0, 2: 0, 3: 1, 4: 1, 5: 0, 6: 1, 7: 0, 8: 1, 9: 0, 10: 0, 11: 1, 12: 1, 13: 1, 14: 0}. \n"
     ]
    },
    {
     "name": "stdout",
     "output_type": "stream",
     "text": [
      "Trade times in sample: 117944 Trade times out sample: 118027\n",
      "Trial 32 finished with values: [0.722724394528603, 3.6768574562177605] and parameters: {0: 0, 1: 0, 2: 0, 3: 1, 4: 1, 5: 0, 6: 1, 7: 0, 8: 1, 9: 0, 10: 0, 11: 1, 12: 1, 13: 1, 14: 0}. \n"
     ]
    },
    {
     "name": "stderr",
     "output_type": "stream",
     "text": [
      "[I 2024-07-01 13:50:06,610] Trial 33 finished with values: [1.4704930284384032, 1.8714020402562048] and parameters: {0: 1, 1: 1, 2: 1, 3: 0, 4: 1, 5: 0, 6: 1, 7: 1, 8: 1, 9: 0, 10: 0, 11: 0, 12: 1, 13: 1, 14: 1}. \n"
     ]
    },
    {
     "name": "stdout",
     "output_type": "stream",
     "text": [
      "Trade times in sample: 118651 Trade times out sample: 118034\n",
      "Trial 33 finished with values: [1.4704930284384032, 1.8714020402562048] and parameters: {0: 1, 1: 1, 2: 1, 3: 0, 4: 1, 5: 0, 6: 1, 7: 1, 8: 1, 9: 0, 10: 0, 11: 0, 12: 1, 13: 1, 14: 1}. \n"
     ]
    },
    {
     "name": "stderr",
     "output_type": "stream",
     "text": [
      "[I 2024-07-01 13:50:22,217] Trial 34 finished with values: [1.3113260124764898, 2.240442116344301] and parameters: {0: 0, 1: 1, 2: 0, 3: 1, 4: 1, 5: 0, 6: 1, 7: 0, 8: 0, 9: 0, 10: 0, 11: 1, 12: 0, 13: 1, 14: 1}. \n"
     ]
    },
    {
     "name": "stdout",
     "output_type": "stream",
     "text": [
      "Trade times in sample: 117944 Trade times out sample: 118035\n",
      "Trial 34 finished with values: [1.3113260124764898, 2.240442116344301] and parameters: {0: 0, 1: 1, 2: 0, 3: 1, 4: 1, 5: 0, 6: 1, 7: 0, 8: 0, 9: 0, 10: 0, 11: 1, 12: 0, 13: 1, 14: 1}. \n"
     ]
    },
    {
     "name": "stderr",
     "output_type": "stream",
     "text": [
      "[I 2024-07-01 13:50:58,711] Trial 35 finished with values: [0.3228193659302351, 11.531026530033204] and parameters: {0: 1, 1: 0, 2: 1, 3: 1, 4: 1, 5: 1, 6: 0, 7: 1, 8: 1, 9: 0, 10: 0, 11: 1, 12: 0, 13: 1, 14: 1}. \n"
     ]
    },
    {
     "name": "stdout",
     "output_type": "stream",
     "text": [
      "Trade times in sample: 118651 Trade times out sample: 118034\n",
      "Trial 35 finished with values: [0.3228193659302351, 11.531026530033204] and parameters: {0: 1, 1: 0, 2: 1, 3: 1, 4: 1, 5: 1, 6: 0, 7: 1, 8: 1, 9: 0, 10: 0, 11: 1, 12: 0, 13: 1, 14: 1}. \n"
     ]
    },
    {
     "name": "stderr",
     "output_type": "stream",
     "text": [
      "[I 2024-07-01 13:51:15,209] Trial 36 finished with values: [-0.7083074145482238, 4.9723395432715956] and parameters: {0: 0, 1: 0, 2: 0, 3: 0, 4: 1, 5: 0, 6: 0, 7: 1, 8: 1, 9: 0, 10: 1, 11: 1, 12: 1, 13: 0, 14: 0}. \n"
     ]
    },
    {
     "name": "stdout",
     "output_type": "stream",
     "text": [
      "Trade times in sample: 118650 Trade times out sample: 118045\n",
      "Trial 36 finished with values: [-0.7083074145482238, 4.9723395432715956] and parameters: {0: 0, 1: 0, 2: 0, 3: 0, 4: 1, 5: 0, 6: 0, 7: 1, 8: 1, 9: 0, 10: 1, 11: 1, 12: 1, 13: 0, 14: 0}. \n"
     ]
    },
    {
     "name": "stderr",
     "output_type": "stream",
     "text": [
      "[I 2024-07-01 13:51:24,540] Trial 37 finished with values: [1.7771561969715752, 1.288971403693036] and parameters: {0: 1, 1: 0, 2: 0, 3: 0, 4: 1, 5: 0, 6: 0, 7: 0, 8: 0, 9: 0, 10: 0, 11: 1, 12: 0, 13: 0, 14: 1}. \n"
     ]
    },
    {
     "name": "stdout",
     "output_type": "stream",
     "text": [
      "Trade times in sample: 117944 Trade times out sample: 118024\n",
      "Trial 37 finished with values: [1.7771561969715752, 1.288971403693036] and parameters: {0: 1, 1: 0, 2: 0, 3: 0, 4: 1, 5: 0, 6: 0, 7: 0, 8: 0, 9: 0, 10: 0, 11: 1, 12: 0, 13: 0, 14: 1}. \n"
     ]
    },
    {
     "name": "stderr",
     "output_type": "stream",
     "text": [
      "[I 2024-07-01 13:51:55,441] Trial 38 finished with values: [-0.10127489241785004, 32.196592298892206] and parameters: {0: 1, 1: 0, 2: 1, 3: 0, 4: 0, 5: 1, 6: 1, 7: 0, 8: 0, 9: 1, 10: 0, 11: 0, 12: 0, 13: 1, 14: 0}. \n"
     ]
    },
    {
     "name": "stdout",
     "output_type": "stream",
     "text": [
      "Trade times in sample: 118076 Trade times out sample: 118047\n",
      "Trial 38 finished with values: [-0.10127489241785004, 32.196592298892206] and parameters: {0: 1, 1: 0, 2: 1, 3: 0, 4: 0, 5: 1, 6: 1, 7: 0, 8: 0, 9: 1, 10: 0, 11: 0, 12: 0, 13: 1, 14: 0}. \n"
     ]
    },
    {
     "name": "stderr",
     "output_type": "stream",
     "text": [
      "[I 2024-07-01 13:52:26,336] Trial 39 finished with values: [0.35869949717761573, 10.158663639603583] and parameters: {0: 1, 1: 0, 2: 0, 3: 1, 4: 0, 5: 1, 6: 1, 7: 1, 8: 1, 9: 0, 10: 1, 11: 0, 12: 1, 13: 0, 14: 1}. \n"
     ]
    },
    {
     "name": "stdout",
     "output_type": "stream",
     "text": [
      "Trade times in sample: 117700 Trade times out sample: 118034\n",
      "Trial 39 finished with values: [0.35869949717761573, 10.158663639603583] and parameters: {0: 1, 1: 0, 2: 0, 3: 1, 4: 0, 5: 1, 6: 1, 7: 1, 8: 1, 9: 0, 10: 1, 11: 0, 12: 1, 13: 0, 14: 1}. \n"
     ]
    },
    {
     "name": "stderr",
     "output_type": "stream",
     "text": [
      "[I 2024-07-01 13:53:02,736] Trial 40 finished with values: [0.49327949151149053, 6.54575439836281] and parameters: {0: 1, 1: 0, 2: 1, 3: 0, 4: 0, 5: 1, 6: 0, 7: 1, 8: 1, 9: 1, 10: 0, 11: 0, 12: 0, 13: 0, 14: 1}. \n"
     ]
    },
    {
     "name": "stdout",
     "output_type": "stream",
     "text": [
      "Trade times in sample: 117944 Trade times out sample: 118024\n",
      "Trial 40 finished with values: [0.49327949151149053, 6.54575439836281] and parameters: {0: 1, 1: 0, 2: 1, 3: 0, 4: 0, 5: 1, 6: 0, 7: 1, 8: 1, 9: 1, 10: 0, 11: 0, 12: 0, 13: 0, 14: 1}. \n"
     ]
    },
    {
     "name": "stderr",
     "output_type": "stream",
     "text": [
      "[I 2024-07-01 13:53:34,267] Trial 41 finished with values: [-1.334041225846602, 1.108577488783253] and parameters: {0: 1, 1: 1, 2: 1, 3: 1, 4: 1, 5: 0, 6: 1, 7: 0, 8: 1, 9: 1, 10: 1, 11: 1, 12: 1, 13: 0, 14: 0}. \n"
     ]
    },
    {
     "name": "stdout",
     "output_type": "stream",
     "text": [
      "Trade times in sample: 117944 Trade times out sample: 118034\n",
      "Trial 41 finished with values: [-1.334041225846602, 1.108577488783253] and parameters: {0: 1, 1: 1, 2: 1, 3: 1, 4: 1, 5: 0, 6: 1, 7: 0, 8: 1, 9: 1, 10: 1, 11: 1, 12: 1, 13: 0, 14: 0}. \n"
     ]
    },
    {
     "name": "stderr",
     "output_type": "stream",
     "text": [
      "[I 2024-07-01 13:54:10,404] Trial 42 finished with values: [0.4246474757314124, 9.042900424615414] and parameters: {0: 0, 1: 0, 2: 1, 3: 1, 4: 0, 5: 1, 6: 1, 7: 1, 8: 0, 9: 0, 10: 0, 11: 0, 12: 1, 13: 1, 14: 1}. \n"
     ]
    },
    {
     "name": "stdout",
     "output_type": "stream",
     "text": [
      "Trade times in sample: 117944 Trade times out sample: 118044\n",
      "Trial 42 finished with values: [0.4246474757314124, 9.042900424615414] and parameters: {0: 0, 1: 0, 2: 1, 3: 1, 4: 0, 5: 1, 6: 1, 7: 1, 8: 0, 9: 0, 10: 0, 11: 0, 12: 1, 13: 1, 14: 1}. \n"
     ]
    },
    {
     "name": "stderr",
     "output_type": "stream",
     "text": [
      "[I 2024-07-01 13:54:46,995] Trial 43 finished with values: [1.9344209373558483, 1.1383418861199321] and parameters: {0: 1, 1: 0, 2: 1, 3: 1, 4: 1, 5: 0, 6: 0, 7: 1, 8: 1, 9: 0, 10: 0, 11: 0, 12: 1, 13: 1, 14: 1}. \n"
     ]
    },
    {
     "name": "stdout",
     "output_type": "stream",
     "text": [
      "Trade times in sample: 117700 Trade times out sample: 118034\n",
      "Trial 43 finished with values: [1.9344209373558483, 1.1383418861199321] and parameters: {0: 1, 1: 0, 2: 1, 3: 1, 4: 1, 5: 0, 6: 0, 7: 1, 8: 1, 9: 0, 10: 0, 11: 0, 12: 1, 13: 1, 14: 1}. \n"
     ]
    },
    {
     "name": "stderr",
     "output_type": "stream",
     "text": [
      "[I 2024-07-01 13:55:20,253] Trial 44 finished with values: [-0.27373646870347323, 11.244821262430285] and parameters: {0: 1, 1: 0, 2: 1, 3: 0, 4: 0, 5: 1, 6: 1, 7: 0, 8: 1, 9: 0, 10: 1, 11: 0, 12: 1, 13: 1, 14: 0}. \n"
     ]
    },
    {
     "name": "stdout",
     "output_type": "stream",
     "text": [
      "Trade times in sample: 117932 Trade times out sample: 118037\n",
      "Trial 44 finished with values: [-0.27373646870347323, 11.244821262430285] and parameters: {0: 1, 1: 0, 2: 1, 3: 0, 4: 0, 5: 1, 6: 1, 7: 0, 8: 1, 9: 0, 10: 1, 11: 0, 12: 1, 13: 1, 14: 0}. \n"
     ]
    },
    {
     "name": "stderr",
     "output_type": "stream",
     "text": [
      "[I 2024-07-01 13:55:44,686] Trial 45 finished with values: [0.3359825042590001, 10.293795967040278] and parameters: {0: 1, 1: 0, 2: 0, 3: 1, 4: 1, 5: 1, 6: 0, 7: 1, 8: 1, 9: 0, 10: 1, 11: 1, 12: 0, 13: 0, 14: 1}. \n"
     ]
    },
    {
     "name": "stdout",
     "output_type": "stream",
     "text": [
      "Trade times in sample: 118664 Trade times out sample: 118024\n",
      "Trial 45 finished with values: [0.3359825042590001, 10.293795967040278] and parameters: {0: 1, 1: 0, 2: 0, 3: 1, 4: 1, 5: 1, 6: 0, 7: 1, 8: 1, 9: 0, 10: 1, 11: 1, 12: 0, 13: 0, 14: 1}. \n"
     ]
    },
    {
     "name": "stderr",
     "output_type": "stream",
     "text": [
      "[I 2024-07-01 13:56:11,237] Trial 46 finished with values: [0.08355654010214751, 47.46224036893779] and parameters: {0: 0, 1: 1, 2: 0, 3: 0, 4: 1, 5: 1, 6: 1, 7: 1, 8: 1, 9: 0, 10: 0, 11: 1, 12: 0, 13: 1, 14: 0}. \n"
     ]
    },
    {
     "name": "stdout",
     "output_type": "stream",
     "text": [
      "Trade times in sample: 117944 Trade times out sample: 118554\n",
      "Trial 46 finished with values: [0.08355654010214751, 47.46224036893779] and parameters: {0: 0, 1: 1, 2: 0, 3: 0, 4: 1, 5: 1, 6: 1, 7: 1, 8: 1, 9: 0, 10: 0, 11: 1, 12: 0, 13: 1, 14: 0}. \n"
     ]
    },
    {
     "name": "stderr",
     "output_type": "stream",
     "text": [
      "[I 2024-07-01 13:56:39,937] Trial 47 finished with values: [-0.6877134207668821, 2.964501185282135] and parameters: {0: 0, 1: 0, 2: 1, 3: 1, 4: 1, 5: 1, 6: 1, 7: 1, 8: 1, 9: 0, 10: 0, 11: 0, 12: 1, 13: 0, 14: 0}. \n"
     ]
    },
    {
     "name": "stdout",
     "output_type": "stream",
     "text": [
      "Trade times in sample: 118650 Trade times out sample: 116032\n",
      "Trial 47 finished with values: [-0.6877134207668821, 2.964501185282135] and parameters: {0: 0, 1: 0, 2: 1, 3: 1, 4: 1, 5: 1, 6: 1, 7: 1, 8: 1, 9: 0, 10: 0, 11: 0, 12: 1, 13: 0, 14: 0}. \n"
     ]
    },
    {
     "name": "stderr",
     "output_type": "stream",
     "text": [
      "[I 2024-07-01 13:57:12,073] Trial 48 finished with values: [1.5451200200107675, 1.9506365584769028] and parameters: {0: 1, 1: 1, 2: 0, 3: 1, 4: 0, 5: 1, 6: 1, 7: 0, 8: 0, 9: 0, 10: 1, 11: 0, 12: 1, 13: 1, 14: 1}. \n"
     ]
    },
    {
     "name": "stdout",
     "output_type": "stream",
     "text": [
      "Trade times in sample: 117944 Trade times out sample: 118046\n",
      "Trial 48 finished with values: [1.5451200200107675, 1.9506365584769028] and parameters: {0: 1, 1: 1, 2: 0, 3: 1, 4: 0, 5: 1, 6: 1, 7: 0, 8: 0, 9: 0, 10: 1, 11: 0, 12: 1, 13: 1, 14: 1}. \n"
     ]
    },
    {
     "name": "stderr",
     "output_type": "stream",
     "text": [
      "[I 2024-07-01 13:57:51,772] Trial 49 finished with values: [0.6427967530624425, 6.016271765369009] and parameters: {0: 0, 1: 1, 2: 1, 3: 0, 4: 1, 5: 0, 6: 1, 7: 1, 8: 0, 9: 1, 10: 1, 11: 1, 12: 1, 13: 1, 14: 1}. \n"
     ]
    },
    {
     "name": "stdout",
     "output_type": "stream",
     "text": [
      "Trade times in sample: 118651 Trade times out sample: 118034\n",
      "Trial 49 finished with values: [0.6427967530624425, 6.016271765369009] and parameters: {0: 0, 1: 1, 2: 1, 3: 0, 4: 1, 5: 0, 6: 1, 7: 1, 8: 0, 9: 1, 10: 1, 11: 1, 12: 1, 13: 1, 14: 1}. \n"
     ]
    },
    {
     "name": "stderr",
     "output_type": "stream",
     "text": [
      "[I 2024-07-01 13:58:19,482] Trial 50 finished with values: [0.5770785726737843, 5.485885070377353] and parameters: {0: 0, 1: 1, 2: 0, 3: 1, 4: 1, 5: 1, 6: 1, 7: 1, 8: 0, 9: 0, 10: 1, 11: 0, 12: 1, 13: 0, 14: 1}. \n"
     ]
    },
    {
     "name": "stdout",
     "output_type": "stream",
     "text": [
      "Trade times in sample: 117944 Trade times out sample: 118024\n",
      "Trial 50 finished with values: [0.5770785726737843, 5.485885070377353] and parameters: {0: 0, 1: 1, 2: 0, 3: 1, 4: 1, 5: 1, 6: 1, 7: 1, 8: 0, 9: 0, 10: 1, 11: 0, 12: 1, 13: 0, 14: 1}. \n"
     ]
    },
    {
     "name": "stderr",
     "output_type": "stream",
     "text": [
      "[I 2024-07-01 13:58:29,946] Trial 51 finished with values: [0.15905955496830587, 18.900076544631595] and parameters: {0: 0, 1: 0, 2: 0, 3: 1, 4: 1, 5: 0, 6: 1, 7: 1, 8: 1, 9: 0, 10: 1, 11: 1, 12: 0, 13: 0, 14: 0}. \n"
     ]
    },
    {
     "name": "stdout",
     "output_type": "stream",
     "text": [
      "Trade times in sample: 117944 Trade times out sample: 118034\n",
      "Trial 51 finished with values: [0.15905955496830587, 18.900076544631595] and parameters: {0: 0, 1: 0, 2: 0, 3: 1, 4: 1, 5: 0, 6: 1, 7: 1, 8: 1, 9: 0, 10: 1, 11: 1, 12: 0, 13: 0, 14: 0}. \n"
     ]
    },
    {
     "name": "stderr",
     "output_type": "stream",
     "text": [
      "[I 2024-07-01 13:58:53,476] Trial 52 finished with values: [1.2164622459300136, 2.681218053170062] and parameters: {0: 0, 1: 1, 2: 0, 3: 0, 4: 1, 5: 0, 6: 1, 7: 1, 8: 1, 9: 0, 10: 0, 11: 0, 12: 0, 13: 1, 14: 1}. \n"
     ]
    },
    {
     "name": "stdout",
     "output_type": "stream",
     "text": [
      "Trade times in sample: 117944 Trade times out sample: 118024\n",
      "Trial 52 finished with values: [1.2164622459300136, 2.681218053170062] and parameters: {0: 0, 1: 1, 2: 0, 3: 0, 4: 1, 5: 0, 6: 1, 7: 1, 8: 1, 9: 0, 10: 0, 11: 0, 12: 0, 13: 1, 14: 1}. \n"
     ]
    },
    {
     "name": "stderr",
     "output_type": "stream",
     "text": [
      "[I 2024-07-01 13:59:02,364] Trial 53 finished with values: [1.753394934700356, 0.8708771132600208] and parameters: {0: 0, 1: 1, 2: 0, 3: 0, 4: 1, 5: 0, 6: 1, 7: 0, 8: 0, 9: 0, 10: 0, 11: 0, 12: 0, 13: 0, 14: 1}. \n"
     ]
    },
    {
     "name": "stdout",
     "output_type": "stream",
     "text": [
      "Trade times in sample: 117944 Trade times out sample: 118024\n",
      "Trial 53 finished with values: [1.753394934700356, 0.8708771132600208] and parameters: {0: 0, 1: 1, 2: 0, 3: 0, 4: 1, 5: 0, 6: 1, 7: 0, 8: 0, 9: 0, 10: 0, 11: 0, 12: 0, 13: 0, 14: 1}. \n"
     ]
    },
    {
     "name": "stderr",
     "output_type": "stream",
     "text": [
      "[I 2024-07-01 13:59:26,143] Trial 54 finished with values: [1.6720721006944386, 1.4706165247181167] and parameters: {0: 0, 1: 0, 2: 0, 3: 1, 4: 0, 5: 0, 6: 1, 7: 1, 8: 0, 9: 1, 10: 0, 11: 1, 12: 0, 13: 1, 14: 1}. \n"
     ]
    },
    {
     "name": "stdout",
     "output_type": "stream",
     "text": [
      "Trade times in sample: 117944 Trade times out sample: 118024\n",
      "Trial 54 finished with values: [1.6720721006944386, 1.4706165247181167] and parameters: {0: 0, 1: 0, 2: 0, 3: 1, 4: 0, 5: 0, 6: 1, 7: 1, 8: 0, 9: 1, 10: 0, 11: 1, 12: 0, 13: 1, 14: 1}. \n"
     ]
    },
    {
     "name": "stderr",
     "output_type": "stream",
     "text": [
      "[I 2024-07-01 14:00:00,774] Trial 55 finished with values: [1.6069235997973377, 1.5235012078470476] and parameters: {0: 1, 1: 1, 2: 0, 3: 1, 4: 1, 5: 0, 6: 1, 7: 1, 8: 1, 9: 1, 10: 1, 11: 0, 12: 0, 13: 1, 14: 1}. \n"
     ]
    },
    {
     "name": "stdout",
     "output_type": "stream",
     "text": [
      "Trade times in sample: 117944 Trade times out sample: 118034\n",
      "Trial 55 finished with values: [1.6069235997973377, 1.5235012078470476] and parameters: {0: 1, 1: 1, 2: 0, 3: 1, 4: 1, 5: 0, 6: 1, 7: 1, 8: 1, 9: 1, 10: 1, 11: 0, 12: 0, 13: 1, 14: 1}. \n"
     ]
    },
    {
     "name": "stderr",
     "output_type": "stream",
     "text": [
      "[I 2024-07-01 14:00:24,564] Trial 56 finished with values: [1.3010573337858105, 2.4227264773701678] and parameters: {0: 1, 1: 0, 2: 0, 3: 0, 4: 1, 5: 0, 6: 0, 7: 0, 8: 1, 9: 0, 10: 0, 11: 0, 12: 1, 13: 1, 14: 1}. \n"
     ]
    },
    {
     "name": "stdout",
     "output_type": "stream",
     "text": [
      "Trade times in sample: 117944 Trade times out sample: 118034\n",
      "Trial 56 finished with values: [1.3010573337858105, 2.4227264773701678] and parameters: {0: 1, 1: 0, 2: 0, 3: 0, 4: 1, 5: 0, 6: 0, 7: 0, 8: 1, 9: 0, 10: 0, 11: 0, 12: 1, 13: 1, 14: 1}. \n"
     ]
    },
    {
     "name": "stderr",
     "output_type": "stream",
     "text": [
      "[W 2024-07-01 14:00:24,747] Trial 57 failed with parameters: {0: 1, 1: 0, 2: 1, 3: 0, 4: 0, 5: 0, 6: 1, 7: 0, 8: 1, 9: 1, 10: 1, 11: 0, 12: 0, 13: 0, 14: 1} because of the following error: The value nan is not acceptable.\n"
     ]
    },
    {
     "name": "stdout",
     "output_type": "stream",
     "text": [
      "Trial 57 failed with parameters: {0: 1, 1: 0, 2: 1, 3: 0, 4: 0, 5: 0, 6: 1, 7: 0, 8: 1, 9: 1, 10: 1, 11: 0, 12: 0, 13: 0, 14: 1} because of the following error: The value nan is not acceptable.\n"
     ]
    },
    {
     "name": "stderr",
     "output_type": "stream",
     "text": [
      "[W 2024-07-01 14:00:24,749] Trial 57 failed with value nan.\n"
     ]
    },
    {
     "name": "stdout",
     "output_type": "stream",
     "text": [
      "Trial 57 failed with value nan.\n"
     ]
    },
    {
     "name": "stderr",
     "output_type": "stream",
     "text": [
      "[I 2024-07-01 14:00:54,612] Trial 58 finished with values: [0.08845387342099265, 47.82952305329968] and parameters: {0: 1, 1: 0, 2: 1, 3: 1, 4: 0, 5: 1, 6: 0, 7: 0, 8: 1, 9: 0, 10: 0, 11: 0, 12: 0, 13: 1, 14: 1}. \n"
     ]
    },
    {
     "name": "stdout",
     "output_type": "stream",
     "text": [
      "Trade times in sample: 117700 Trade times out sample: 118045\n",
      "Trial 58 finished with values: [0.08845387342099265, 47.82952305329968] and parameters: {0: 1, 1: 0, 2: 1, 3: 1, 4: 0, 5: 1, 6: 0, 7: 0, 8: 1, 9: 0, 10: 0, 11: 0, 12: 0, 13: 1, 14: 1}. \n"
     ]
    },
    {
     "name": "stderr",
     "output_type": "stream",
     "text": [
      "[I 2024-07-01 14:01:41,312] Trial 59 finished with values: [-2.5603018560417956, 0.17173090581782846] and parameters: {0: 1, 1: 1, 2: 1, 3: 0, 4: 1, 5: 1, 6: 1, 7: 1, 8: 0, 9: 1, 10: 1, 11: 0, 12: 1, 13: 1, 14: 0}. \n"
     ]
    },
    {
     "name": "stdout",
     "output_type": "stream",
     "text": [
      "Trade times in sample: 117832 Trade times out sample: 117559\n",
      "Trial 59 finished with values: [-2.5603018560417956, 0.17173090581782846] and parameters: {0: 1, 1: 1, 2: 1, 3: 0, 4: 1, 5: 1, 6: 1, 7: 1, 8: 0, 9: 1, 10: 1, 11: 0, 12: 1, 13: 1, 14: 0}. \n"
     ]
    },
    {
     "name": "stderr",
     "output_type": "stream",
     "text": [
      "[I 2024-07-01 14:02:17,260] Trial 60 finished with values: [0.9030903550278566, 3.074056929766914] and parameters: {0: 1, 1: 0, 2: 1, 3: 1, 4: 0, 5: 0, 6: 0, 7: 1, 8: 1, 9: 1, 10: 0, 11: 0, 12: 1, 13: 0, 14: 1}. \n"
     ]
    },
    {
     "name": "stdout",
     "output_type": "stream",
     "text": [
      "Trade times in sample: 117943 Trade times out sample: 118024\n",
      "Trial 60 finished with values: [0.9030903550278566, 3.074056929766914] and parameters: {0: 1, 1: 0, 2: 1, 3: 1, 4: 0, 5: 0, 6: 0, 7: 1, 8: 1, 9: 1, 10: 0, 11: 0, 12: 1, 13: 0, 14: 1}. \n"
     ]
    },
    {
     "name": "stderr",
     "output_type": "stream",
     "text": [
      "[I 2024-07-01 14:02:33,598] Trial 61 finished with values: [-0.892703849046258, 3.565028115836035] and parameters: {0: 0, 1: 0, 2: 0, 3: 0, 4: 1, 5: 0, 6: 1, 7: 1, 8: 1, 9: 0, 10: 1, 11: 0, 12: 1, 13: 0, 14: 0}. \n"
     ]
    },
    {
     "name": "stdout",
     "output_type": "stream",
     "text": [
      "Trade times in sample: 118650 Trade times out sample: 118047\n",
      "Trial 61 finished with values: [-0.892703849046258, 3.565028115836035] and parameters: {0: 0, 1: 0, 2: 0, 3: 0, 4: 1, 5: 0, 6: 1, 7: 1, 8: 1, 9: 0, 10: 1, 11: 0, 12: 1, 13: 0, 14: 0}. \n"
     ]
    },
    {
     "name": "stderr",
     "output_type": "stream",
     "text": [
      "[I 2024-07-01 14:02:57,580] Trial 62 finished with values: [-0.9382467762027245, 1.1815071649574866] and parameters: {0: 0, 1: 1, 2: 1, 3: 0, 4: 1, 5: 1, 6: 0, 7: 0, 8: 0, 9: 1, 10: 1, 11: 1, 12: 0, 13: 0, 14: 0}. \n"
     ]
    },
    {
     "name": "stdout",
     "output_type": "stream",
     "text": [
      "Trade times in sample: 114768 Trade times out sample: 117544\n",
      "Trial 62 finished with values: [-0.9382467762027245, 1.1815071649574866] and parameters: {0: 0, 1: 1, 2: 1, 3: 0, 4: 1, 5: 1, 6: 0, 7: 0, 8: 0, 9: 1, 10: 1, 11: 1, 12: 0, 13: 0, 14: 0}. \n"
     ]
    },
    {
     "name": "stderr",
     "output_type": "stream",
     "text": [
      "[I 2024-07-01 14:03:33,566] Trial 63 finished with values: [0.21383295502682287, 20.13773110151277] and parameters: {0: 0, 1: 1, 2: 1, 3: 1, 4: 0, 5: 1, 6: 1, 7: 1, 8: 1, 9: 0, 10: 0, 11: 1, 12: 0, 13: 1, 14: 1}. \n"
     ]
    },
    {
     "name": "stdout",
     "output_type": "stream",
     "text": [
      "Trade times in sample: 117944 Trade times out sample: 118034\n",
      "Trial 63 finished with values: [0.21383295502682287, 20.13773110151277] and parameters: {0: 0, 1: 1, 2: 1, 3: 1, 4: 0, 5: 1, 6: 1, 7: 1, 8: 1, 9: 0, 10: 0, 11: 1, 12: 0, 13: 1, 14: 1}. \n"
     ]
    },
    {
     "name": "stderr",
     "output_type": "stream",
     "text": [
      "[I 2024-07-01 14:03:55,419] Trial 64 finished with values: [-0.7543933915534685, 3.6183322722517683] and parameters: {0: 0, 1: 0, 2: 1, 3: 1, 4: 0, 5: 0, 6: 0, 7: 0, 8: 1, 9: 0, 10: 0, 11: 0, 12: 1, 13: 1, 14: 0}. \n"
     ]
    },
    {
     "name": "stdout",
     "output_type": "stream",
     "text": [
      "Trade times in sample: 117932 Trade times out sample: 116844\n",
      "Trial 64 finished with values: [-0.7543933915534685, 3.6183322722517683] and parameters: {0: 0, 1: 0, 2: 1, 3: 1, 4: 0, 5: 0, 6: 0, 7: 0, 8: 1, 9: 0, 10: 0, 11: 0, 12: 1, 13: 1, 14: 0}. \n"
     ]
    },
    {
     "name": "stderr",
     "output_type": "stream",
     "text": [
      "[I 2024-07-01 14:04:13,676] Trial 65 finished with values: [2.642002026868779, 0.6137754765363672] and parameters: {0: 1, 1: 0, 2: 0, 3: 0, 4: 1, 5: 0, 6: 1, 7: 0, 8: 1, 9: 0, 10: 0, 11: 1, 12: 0, 13: 1, 14: 1}. \n"
     ]
    },
    {
     "name": "stdout",
     "output_type": "stream",
     "text": [
      "Trade times in sample: 117944 Trade times out sample: 118045\n",
      "Trial 65 finished with values: [2.642002026868779, 0.6137754765363672] and parameters: {0: 1, 1: 0, 2: 0, 3: 0, 4: 1, 5: 0, 6: 1, 7: 0, 8: 1, 9: 0, 10: 0, 11: 1, 12: 0, 13: 1, 14: 1}. \n"
     ]
    },
    {
     "name": "stderr",
     "output_type": "stream",
     "text": [
      "[I 2024-07-01 14:04:41,945] Trial 66 finished with values: [-0.8921517511339342, 1.9483266126769134] and parameters: {0: 0, 1: 0, 2: 1, 3: 0, 4: 0, 5: 1, 6: 1, 7: 0, 8: 1, 9: 1, 10: 0, 11: 0, 12: 1, 13: 0, 14: 0}. \n"
     ]
    },
    {
     "name": "stdout",
     "output_type": "stream",
     "text": [
      "Trade times in sample: 115260 Trade times out sample: 116030\n",
      "Trial 66 finished with values: [-0.8921517511339342, 1.9483266126769134] and parameters: {0: 0, 1: 0, 2: 1, 3: 0, 4: 0, 5: 1, 6: 1, 7: 0, 8: 1, 9: 1, 10: 0, 11: 0, 12: 1, 13: 0, 14: 0}. \n"
     ]
    },
    {
     "name": "stderr",
     "output_type": "stream",
     "text": [
      "[I 2024-07-01 14:05:12,219] Trial 67 finished with values: [0.982714195980796, 2.3587504445508523] and parameters: {0: 1, 1: 0, 2: 0, 3: 0, 4: 0, 5: 0, 6: 1, 7: 1, 8: 1, 9: 1, 10: 1, 11: 0, 12: 1, 13: 0, 14: 1}. \n"
     ]
    },
    {
     "name": "stdout",
     "output_type": "stream",
     "text": [
      "Trade times in sample: 117944 Trade times out sample: 118024\n",
      "Trial 67 finished with values: [0.982714195980796, 2.3587504445508523] and parameters: {0: 1, 1: 0, 2: 0, 3: 0, 4: 0, 5: 0, 6: 1, 7: 1, 8: 1, 9: 1, 10: 1, 11: 0, 12: 1, 13: 0, 14: 1}. \n"
     ]
    },
    {
     "name": "stderr",
     "output_type": "stream",
     "text": [
      "[I 2024-07-01 14:05:37,894] Trial 68 finished with values: [1.7468978461582076, 1.5024096948931258] and parameters: {0: 1, 1: 1, 2: 0, 3: 0, 4: 1, 5: 1, 6: 1, 7: 0, 8: 0, 9: 0, 10: 0, 11: 0, 12: 0, 13: 1, 14: 1}. \n"
     ]
    },
    {
     "name": "stdout",
     "output_type": "stream",
     "text": [
      "Trade times in sample: 117944 Trade times out sample: 118045\n",
      "Trial 68 finished with values: [1.7468978461582076, 1.5024096948931258] and parameters: {0: 1, 1: 1, 2: 0, 3: 0, 4: 1, 5: 1, 6: 1, 7: 0, 8: 0, 9: 0, 10: 0, 11: 0, 12: 0, 13: 1, 14: 1}. \n"
     ]
    },
    {
     "name": "stderr",
     "output_type": "stream",
     "text": [
      "[I 2024-07-01 14:06:22,659] Trial 69 finished with values: [0.14930766311774318, 25.801666927679435] and parameters: {0: 1, 1: 1, 2: 1, 3: 1, 4: 1, 5: 1, 6: 1, 7: 1, 8: 0, 9: 1, 10: 0, 11: 1, 12: 0, 13: 1, 14: 1}. \n"
     ]
    },
    {
     "name": "stdout",
     "output_type": "stream",
     "text": [
      "Trade times in sample: 117944 Trade times out sample: 118034\n",
      "Trial 69 finished with values: [0.14930766311774318, 25.801666927679435] and parameters: {0: 1, 1: 1, 2: 1, 3: 1, 4: 1, 5: 1, 6: 1, 7: 1, 8: 0, 9: 1, 10: 0, 11: 1, 12: 0, 13: 1, 14: 1}. \n"
     ]
    },
    {
     "name": "stderr",
     "output_type": "stream",
     "text": [
      "[W 2024-07-01 14:06:22,759] Trial 70 failed with parameters: {0: 1, 1: 0, 2: 0, 3: 1, 4: 1, 5: 1, 6: 0, 7: 1, 8: 1, 9: 0, 10: 1, 11: 1, 12: 0, 13: 0, 14: 1} because of the following error: The value nan is not acceptable.\n"
     ]
    },
    {
     "name": "stdout",
     "output_type": "stream",
     "text": [
      "Trial 70 failed with parameters: {0: 1, 1: 0, 2: 0, 3: 1, 4: 1, 5: 1, 6: 0, 7: 1, 8: 1, 9: 0, 10: 1, 11: 1, 12: 0, 13: 0, 14: 1} because of the following error: The value nan is not acceptable.\n"
     ]
    },
    {
     "name": "stderr",
     "output_type": "stream",
     "text": [
      "[W 2024-07-01 14:06:22,760] Trial 70 failed with value nan.\n"
     ]
    },
    {
     "name": "stdout",
     "output_type": "stream",
     "text": [
      "Trial 70 failed with value nan.\n"
     ]
    },
    {
     "name": "stderr",
     "output_type": "stream",
     "text": [
      "[I 2024-07-01 14:06:58,776] Trial 71 finished with values: [0.4810146218024396, 6.738155398992743] and parameters: {0: 1, 1: 0, 2: 1, 3: 0, 4: 0, 5: 1, 6: 1, 7: 1, 8: 1, 9: 1, 10: 0, 11: 0, 12: 0, 13: 0, 14: 1}. \n"
     ]
    },
    {
     "name": "stdout",
     "output_type": "stream",
     "text": [
      "Trade times in sample: 117944 Trade times out sample: 118024\n",
      "Trial 71 finished with values: [0.4810146218024396, 6.738155398992743] and parameters: {0: 1, 1: 0, 2: 1, 3: 0, 4: 0, 5: 1, 6: 1, 7: 1, 8: 1, 9: 1, 10: 0, 11: 0, 12: 0, 13: 0, 14: 1}. \n"
     ]
    },
    {
     "name": "stderr",
     "output_type": "stream",
     "text": [
      "[I 2024-07-01 14:07:20,245] Trial 72 finished with values: [1.5776825642570866, 1.7672346646543362] and parameters: {0: 0, 1: 1, 2: 0, 3: 0, 4: 1, 5: 0, 6: 0, 7: 1, 8: 0, 9: 0, 10: 1, 11: 0, 12: 0, 13: 1, 14: 1}. \n"
     ]
    },
    {
     "name": "stdout",
     "output_type": "stream",
     "text": [
      "Trade times in sample: 117944 Trade times out sample: 118024\n",
      "Trial 72 finished with values: [1.5776825642570866, 1.7672346646543362] and parameters: {0: 0, 1: 1, 2: 0, 3: 0, 4: 1, 5: 0, 6: 0, 7: 1, 8: 0, 9: 0, 10: 1, 11: 0, 12: 0, 13: 1, 14: 1}. \n"
     ]
    },
    {
     "name": "stderr",
     "output_type": "stream",
     "text": [
      "[I 2024-07-01 14:07:41,106] Trial 73 finished with values: [-2.3003969624246783, 0.37292360305147043] and parameters: {0: 0, 1: 0, 2: 1, 3: 1, 4: 1, 5: 1, 6: 1, 7: 0, 8: 0, 9: 0, 10: 0, 11: 1, 12: 0, 13: 1, 14: 0}. \n"
     ]
    },
    {
     "name": "stdout",
     "output_type": "stream",
     "text": [
      "Trade times in sample: 118260 Trade times out sample: 118077\n",
      "Trial 73 finished with values: [-2.3003969624246783, 0.37292360305147043] and parameters: {0: 0, 1: 0, 2: 1, 3: 1, 4: 1, 5: 1, 6: 1, 7: 0, 8: 0, 9: 0, 10: 0, 11: 1, 12: 0, 13: 1, 14: 0}. \n"
     ]
    },
    {
     "name": "stderr",
     "output_type": "stream",
     "text": [
      "[I 2024-07-01 14:08:19,297] Trial 74 finished with values: [0.1664474539490821, 26.083155420025676] and parameters: {0: 0, 1: 0, 2: 1, 3: 1, 4: 0, 5: 1, 6: 1, 7: 1, 8: 1, 9: 0, 10: 1, 11: 1, 12: 1, 13: 1, 14: 1}. \n"
     ]
    },
    {
     "name": "stdout",
     "output_type": "stream",
     "text": [
      "Trade times in sample: 117944 Trade times out sample: 118034\n",
      "Trial 74 finished with values: [0.1664474539490821, 26.083155420025676] and parameters: {0: 0, 1: 0, 2: 1, 3: 1, 4: 0, 5: 1, 6: 1, 7: 1, 8: 1, 9: 0, 10: 1, 11: 1, 12: 1, 13: 1, 14: 1}. \n"
     ]
    },
    {
     "name": "stderr",
     "output_type": "stream",
     "text": [
      "[I 2024-07-01 14:08:49,781] Trial 75 finished with values: [-0.49216415512172534, 5.614240780633845] and parameters: {0: 0, 1: 1, 2: 0, 3: 1, 4: 1, 5: 1, 6: 0, 7: 0, 8: 0, 9: 1, 10: 1, 11: 1, 12: 1, 13: 1, 14: 0}. \n"
     ]
    },
    {
     "name": "stdout",
     "output_type": "stream",
     "text": [
      "Trade times in sample: 115260 Trade times out sample: 118079\n",
      "Trial 75 finished with values: [-0.49216415512172534, 5.614240780633845] and parameters: {0: 0, 1: 1, 2: 0, 3: 1, 4: 1, 5: 1, 6: 0, 7: 0, 8: 0, 9: 1, 10: 1, 11: 1, 12: 1, 13: 1, 14: 0}. \n"
     ]
    },
    {
     "name": "stderr",
     "output_type": "stream",
     "text": [
      "[I 2024-07-01 14:09:17,543] Trial 76 finished with values: [1.2184448032656985, 1.9939637736539844] and parameters: {0: 0, 1: 1, 2: 1, 3: 1, 4: 0, 5: 1, 6: 1, 7: 1, 8: 0, 9: 0, 10: 1, 11: 1, 12: 0, 13: 0, 14: 1}. \n"
     ]
    },
    {
     "name": "stdout",
     "output_type": "stream",
     "text": [
      "Trade times in sample: 117944 Trade times out sample: 118024\n",
      "Trial 76 finished with values: [1.2184448032656985, 1.9939637736539844] and parameters: {0: 0, 1: 1, 2: 1, 3: 1, 4: 0, 5: 1, 6: 1, 7: 1, 8: 0, 9: 0, 10: 1, 11: 1, 12: 0, 13: 0, 14: 1}. \n"
     ]
    },
    {
     "name": "stderr",
     "output_type": "stream",
     "text": [
      "[I 2024-07-01 14:09:37,889] Trial 77 finished with values: [-1.8832116044029439, 0.23875011496793563] and parameters: {0: 0, 1: 0, 2: 1, 3: 1, 4: 1, 5: 1, 6: 1, 7: 1, 8: 0, 9: 0, 10: 1, 11: 0, 12: 0, 13: 0, 14: 0}. \n"
     ]
    },
    {
     "name": "stdout",
     "output_type": "stream",
     "text": [
      "Trade times in sample: 117932 Trade times out sample: 117160\n",
      "Trial 77 finished with values: [-1.8832116044029439, 0.23875011496793563] and parameters: {0: 0, 1: 0, 2: 1, 3: 1, 4: 1, 5: 1, 6: 1, 7: 1, 8: 0, 9: 0, 10: 1, 11: 0, 12: 0, 13: 0, 14: 0}. \n"
     ]
    },
    {
     "name": "stderr",
     "output_type": "stream",
     "text": [
      "[I 2024-07-01 14:10:22,715] Trial 78 finished with values: [1.621277369291017, 1.6294772984979655] and parameters: {0: 1, 1: 1, 2: 0, 3: 1, 4: 1, 5: 1, 6: 0, 7: 1, 8: 0, 9: 1, 10: 1, 11: 1, 12: 1, 13: 1, 14: 1}. \n"
     ]
    },
    {
     "name": "stdout",
     "output_type": "stream",
     "text": [
      "Trade times in sample: 117944 Trade times out sample: 118046\n",
      "Trial 78 finished with values: [1.621277369291017, 1.6294772984979655] and parameters: {0: 1, 1: 1, 2: 0, 3: 1, 4: 1, 5: 1, 6: 0, 7: 1, 8: 0, 9: 1, 10: 1, 11: 1, 12: 1, 13: 1, 14: 1}. \n"
     ]
    },
    {
     "name": "stderr",
     "output_type": "stream",
     "text": [
      "[I 2024-07-01 14:10:58,501] Trial 79 finished with values: [0.9196216695755031, 4.064284470917445] and parameters: {0: 0, 1: 1, 2: 1, 3: 1, 4: 0, 5: 0, 6: 1, 7: 1, 8: 1, 9: 1, 10: 1, 11: 0, 12: 0, 13: 1, 14: 1}. \n"
     ]
    },
    {
     "name": "stdout",
     "output_type": "stream",
     "text": [
      "Trade times in sample: 117944 Trade times out sample: 118024\n",
      "Trial 79 finished with values: [0.9196216695755031, 4.064284470917445] and parameters: {0: 0, 1: 1, 2: 1, 3: 1, 4: 0, 5: 0, 6: 1, 7: 1, 8: 1, 9: 1, 10: 1, 11: 0, 12: 0, 13: 1, 14: 1}. \n"
     ]
    },
    {
     "name": "stderr",
     "output_type": "stream",
     "text": [
      "[I 2024-07-01 14:11:32,517] Trial 80 finished with values: [0.5329158213549505, 7.235398160134693] and parameters: {0: 1, 1: 0, 2: 1, 3: 0, 4: 0, 5: 1, 6: 1, 7: 0, 8: 0, 9: 1, 10: 0, 11: 0, 12: 0, 13: 1, 14: 1}. \n"
     ]
    },
    {
     "name": "stdout",
     "output_type": "stream",
     "text": [
      "Trade times in sample: 117700 Trade times out sample: 118045\n",
      "Trial 80 finished with values: [0.5329158213549505, 7.235398160134693] and parameters: {0: 1, 1: 0, 2: 1, 3: 0, 4: 0, 5: 1, 6: 1, 7: 0, 8: 0, 9: 1, 10: 0, 11: 0, 12: 0, 13: 1, 14: 1}. \n"
     ]
    },
    {
     "name": "stderr",
     "output_type": "stream",
     "text": [
      "[I 2024-07-01 14:12:07,278] Trial 81 finished with values: [-1.70509240632776, 0.7629583888194944] and parameters: {0: 1, 1: 1, 2: 1, 3: 0, 4: 1, 5: 0, 6: 1, 7: 1, 8: 0, 9: 1, 10: 1, 11: 1, 12: 1, 13: 0, 14: 0}. \n"
     ]
    },
    {
     "name": "stdout",
     "output_type": "stream",
     "text": [
      "Trade times in sample: 116968 Trade times out sample: 118035\n",
      "Trial 81 finished with values: [-1.70509240632776, 0.7629583888194944] and parameters: {0: 1, 1: 1, 2: 1, 3: 0, 4: 1, 5: 0, 6: 1, 7: 1, 8: 0, 9: 1, 10: 1, 11: 1, 12: 1, 13: 0, 14: 0}. \n"
     ]
    },
    {
     "name": "stderr",
     "output_type": "stream",
     "text": [
      "[I 2024-07-01 14:12:23,116] Trial 82 finished with values: [-0.9524846075291492, 3.0570168530283413] and parameters: {0: 0, 1: 0, 2: 0, 3: 0, 4: 0, 5: 1, 6: 0, 7: 0, 8: 1, 9: 0, 10: 1, 11: 1, 12: 1, 13: 0, 14: 0}. \n"
     ]
    },
    {
     "name": "stdout",
     "output_type": "stream",
     "text": [
      "Trade times in sample: 116963 Trade times out sample: 118024\n",
      "Trial 82 finished with values: [-0.9524846075291492, 3.0570168530283413] and parameters: {0: 0, 1: 0, 2: 0, 3: 0, 4: 0, 5: 1, 6: 0, 7: 0, 8: 1, 9: 0, 10: 1, 11: 1, 12: 1, 13: 0, 14: 0}. \n"
     ]
    },
    {
     "name": "stderr",
     "output_type": "stream",
     "text": [
      "[I 2024-07-01 14:12:47,695] Trial 83 finished with values: [-1.695092564141874, 1.1110361563576143] and parameters: {0: 1, 1: 0, 2: 1, 3: 1, 4: 1, 5: 0, 6: 0, 7: 1, 8: 0, 9: 0, 10: 0, 11: 1, 12: 0, 13: 1, 14: 0}. \n"
     ]
    },
    {
     "name": "stdout",
     "output_type": "stream",
     "text": [
      "Trade times in sample: 117834 Trade times out sample: 117601\n",
      "Trial 83 finished with values: [-1.695092564141874, 1.1110361563576143] and parameters: {0: 1, 1: 0, 2: 1, 3: 1, 4: 1, 5: 0, 6: 0, 7: 1, 8: 0, 9: 0, 10: 0, 11: 1, 12: 0, 13: 1, 14: 0}. \n"
     ]
    },
    {
     "name": "stderr",
     "output_type": "stream",
     "text": [
      "[I 2024-07-01 14:13:11,180] Trial 84 finished with values: [1.4840048387438975, 1.8793693069605641] and parameters: {0: 0, 1: 0, 2: 1, 3: 0, 4: 1, 5: 0, 6: 0, 7: 0, 8: 0, 9: 1, 10: 1, 11: 0, 12: 0, 13: 1, 14: 1}. \n"
     ]
    },
    {
     "name": "stdout",
     "output_type": "stream",
     "text": [
      "Trade times in sample: 117944 Trade times out sample: 118024\n",
      "Trial 84 finished with values: [1.4840048387438975, 1.8793693069605641] and parameters: {0: 0, 1: 0, 2: 1, 3: 0, 4: 1, 5: 0, 6: 0, 7: 0, 8: 0, 9: 1, 10: 1, 11: 0, 12: 0, 13: 1, 14: 1}. \n"
     ]
    },
    {
     "name": "stderr",
     "output_type": "stream",
     "text": [
      "[I 2024-07-01 14:13:33,176] Trial 85 finished with values: [1.583947869115718, 1.3585649163867015] and parameters: {0: 1, 1: 0, 2: 1, 3: 0, 4: 0, 5: 0, 6: 1, 7: 0, 8: 0, 9: 0, 10: 1, 11: 1, 12: 1, 13: 0, 14: 1}. \n"
     ]
    },
    {
     "name": "stdout",
     "output_type": "stream",
     "text": [
      "Trade times in sample: 117944 Trade times out sample: 118024\n",
      "Trial 85 finished with values: [1.583947869115718, 1.3585649163867015] and parameters: {0: 1, 1: 0, 2: 1, 3: 0, 4: 0, 5: 0, 6: 1, 7: 0, 8: 0, 9: 0, 10: 1, 11: 1, 12: 1, 13: 0, 14: 1}. \n"
     ]
    },
    {
     "name": "stderr",
     "output_type": "stream",
     "text": [
      "[I 2024-07-01 14:14:08,864] Trial 86 finished with values: [1.6164884848200558, 1.68002333688651] and parameters: {0: 0, 1: 0, 2: 1, 3: 0, 4: 1, 5: 0, 6: 1, 7: 1, 8: 0, 9: 1, 10: 1, 11: 1, 12: 1, 13: 1, 14: 1}. \n"
     ]
    },
    {
     "name": "stdout",
     "output_type": "stream",
     "text": [
      "Trade times in sample: 117805 Trade times out sample: 118024\n",
      "Trial 86 finished with values: [1.6164884848200558, 1.68002333688651] and parameters: {0: 0, 1: 0, 2: 1, 3: 0, 4: 1, 5: 0, 6: 1, 7: 1, 8: 0, 9: 1, 10: 1, 11: 1, 12: 1, 13: 1, 14: 1}. \n"
     ]
    },
    {
     "name": "stderr",
     "output_type": "stream",
     "text": [
      "[I 2024-07-01 14:14:22,238] Trial 87 finished with values: [2.305836785539967, 0.4474192375513253] and parameters: {0: 1, 1: 1, 2: 0, 3: 0, 4: 1, 5: 0, 6: 0, 7: 0, 8: 0, 9: 0, 10: 1, 11: 0, 12: 0, 13: 0, 14: 1}. \n"
     ]
    },
    {
     "name": "stdout",
     "output_type": "stream",
     "text": [
      "Trade times in sample: 117944 Trade times out sample: 118024\n",
      "Trial 87 finished with values: [2.305836785539967, 0.4474192375513253] and parameters: {0: 1, 1: 1, 2: 0, 3: 0, 4: 1, 5: 0, 6: 0, 7: 0, 8: 0, 9: 0, 10: 1, 11: 0, 12: 0, 13: 0, 14: 1}. \n"
     ]
    },
    {
     "name": "stderr",
     "output_type": "stream",
     "text": [
      "[I 2024-07-01 14:14:55,021] Trial 88 finished with values: [-0.8682464061806874, 2.6259825599428184] and parameters: {0: 0, 1: 1, 2: 1, 3: 1, 4: 1, 5: 0, 6: 1, 7: 1, 8: 1, 9: 1, 10: 1, 11: 1, 12: 1, 13: 0, 14: 0}. \n"
     ]
    },
    {
     "name": "stdout",
     "output_type": "stream",
     "text": [
      "Trade times in sample: 117944 Trade times out sample: 118024\n",
      "Trial 88 finished with values: [-0.8682464061806874, 2.6259825599428184] and parameters: {0: 0, 1: 1, 2: 1, 3: 1, 4: 1, 5: 0, 6: 1, 7: 1, 8: 1, 9: 1, 10: 1, 11: 1, 12: 1, 13: 0, 14: 0}. \n"
     ]
    },
    {
     "name": "stderr",
     "output_type": "stream",
     "text": [
      "[I 2024-07-01 14:15:44,794] Trial 89 finished with values: [0.6819418991809783, 5.661610085757627] and parameters: {0: 1, 1: 1, 2: 1, 3: 1, 4: 0, 5: 1, 6: 0, 7: 1, 8: 0, 9: 1, 10: 0, 11: 1, 12: 1, 13: 1, 14: 1}. \n"
     ]
    },
    {
     "name": "stdout",
     "output_type": "stream",
     "text": [
      "Trade times in sample: 118651 Trade times out sample: 118044\n",
      "Trial 89 finished with values: [0.6819418991809783, 5.661610085757627] and parameters: {0: 1, 1: 1, 2: 1, 3: 1, 4: 0, 5: 1, 6: 0, 7: 1, 8: 0, 9: 1, 10: 0, 11: 1, 12: 1, 13: 1, 14: 1}. \n"
     ]
    },
    {
     "name": "stderr",
     "output_type": "stream",
     "text": [
      "[I 2024-07-01 14:16:08,285] Trial 90 finished with values: [0.8876214972807737, 3.8994866414075986] and parameters: {0: 0, 1: 0, 2: 1, 3: 1, 4: 1, 5: 1, 6: 0, 7: 0, 8: 0, 9: 0, 10: 0, 11: 1, 12: 1, 13: 0, 14: 1}. \n"
     ]
    },
    {
     "name": "stdout",
     "output_type": "stream",
     "text": [
      "Trade times in sample: 117944 Trade times out sample: 118024\n",
      "Trial 90 finished with values: [0.8876214972807737, 3.8994866414075986] and parameters: {0: 0, 1: 0, 2: 1, 3: 1, 4: 1, 5: 1, 6: 0, 7: 0, 8: 0, 9: 0, 10: 0, 11: 1, 12: 1, 13: 0, 14: 1}. \n"
     ]
    },
    {
     "name": "stderr",
     "output_type": "stream",
     "text": [
      "[I 2024-07-01 14:16:25,493] Trial 91 finished with values: [1.14776090277632, 1.9176892315507303] and parameters: {0: 0, 1: 0, 2: 1, 3: 0, 4: 0, 5: 0, 6: 0, 7: 0, 8: 0, 9: 1, 10: 1, 11: 1, 12: 0, 13: 0, 14: 1}. \n"
     ]
    },
    {
     "name": "stdout",
     "output_type": "stream",
     "text": [
      "Trade times in sample: 117944 Trade times out sample: 118024\n",
      "Trial 91 finished with values: [1.14776090277632, 1.9176892315507303] and parameters: {0: 0, 1: 0, 2: 1, 3: 0, 4: 0, 5: 0, 6: 0, 7: 0, 8: 0, 9: 1, 10: 1, 11: 1, 12: 0, 13: 0, 14: 1}. \n"
     ]
    },
    {
     "name": "stderr",
     "output_type": "stream",
     "text": [
      "[I 2024-07-01 14:17:02,317] Trial 92 finished with values: [0.7028815494799927, 4.815642295898478] and parameters: {0: 1, 1: 0, 2: 0, 3: 1, 4: 1, 5: 1, 6: 1, 7: 1, 8: 1, 9: 0, 10: 1, 11: 0, 12: 1, 13: 1, 14: 1}. \n"
     ]
    },
    {
     "name": "stdout",
     "output_type": "stream",
     "text": [
      "Trade times in sample: 117944 Trade times out sample: 118046\n",
      "Trial 92 finished with values: [0.7028815494799927, 4.815642295898478] and parameters: {0: 1, 1: 0, 2: 0, 3: 1, 4: 1, 5: 1, 6: 1, 7: 1, 8: 1, 9: 0, 10: 1, 11: 0, 12: 1, 13: 1, 14: 1}. \n"
     ]
    },
    {
     "name": "stderr",
     "output_type": "stream",
     "text": [
      "[I 2024-07-01 14:17:33,452] Trial 93 finished with values: [-0.9686271957002878, 1.9400318069916302] and parameters: {0: 1, 1: 1, 2: 1, 3: 1, 4: 0, 5: 1, 6: 1, 7: 0, 8: 1, 9: 0, 10: 1, 11: 0, 12: 0, 13: 1, 14: 0}. \n"
     ]
    },
    {
     "name": "stdout",
     "output_type": "stream",
     "text": [
      "Trade times in sample: 117937 Trade times out sample: 118034\n",
      "Trial 93 finished with values: [-0.9686271957002878, 1.9400318069916302] and parameters: {0: 1, 1: 1, 2: 1, 3: 1, 4: 0, 5: 1, 6: 1, 7: 0, 8: 1, 9: 0, 10: 1, 11: 0, 12: 0, 13: 1, 14: 0}. \n"
     ]
    },
    {
     "name": "stderr",
     "output_type": "stream",
     "text": [
      "[I 2024-07-01 14:18:11,287] Trial 94 finished with values: [1.0049472719207257, 3.0353617302316724] and parameters: {0: 1, 1: 1, 2: 1, 3: 0, 4: 1, 5: 0, 6: 0, 7: 0, 8: 0, 9: 1, 10: 1, 11: 1, 12: 1, 13: 1, 14: 1}. \n"
     ]
    },
    {
     "name": "stdout",
     "output_type": "stream",
     "text": [
      "Trade times in sample: 117700 Trade times out sample: 118035\n",
      "Trial 94 finished with values: [1.0049472719207257, 3.0353617302316724] and parameters: {0: 1, 1: 1, 2: 1, 3: 0, 4: 1, 5: 0, 6: 0, 7: 0, 8: 0, 9: 1, 10: 1, 11: 1, 12: 1, 13: 1, 14: 1}. \n"
     ]
    },
    {
     "name": "stderr",
     "output_type": "stream",
     "text": [
      "[I 2024-07-01 14:18:45,517] Trial 95 finished with values: [2.2714493904402127, 0.6056367292180109] and parameters: {0: 1, 1: 0, 2: 0, 3: 0, 4: 1, 5: 0, 6: 0, 7: 1, 8: 0, 9: 1, 10: 0, 11: 0, 12: 1, 13: 1, 14: 1}. \n"
     ]
    },
    {
     "name": "stdout",
     "output_type": "stream",
     "text": [
      "Trade times in sample: 117944 Trade times out sample: 118044\n",
      "Trial 95 finished with values: [2.2714493904402127, 0.6056367292180109] and parameters: {0: 1, 1: 0, 2: 0, 3: 0, 4: 1, 5: 0, 6: 0, 7: 1, 8: 0, 9: 1, 10: 0, 11: 0, 12: 1, 13: 1, 14: 1}. \n"
     ]
    },
    {
     "name": "stderr",
     "output_type": "stream",
     "text": [
      "[I 2024-07-01 14:18:56,778] Trial 96 finished with values: [1.725592680220445, 0.971827031512905] and parameters: {0: 0, 1: 0, 2: 0, 3: 0, 4: 1, 5: 0, 6: 0, 7: 0, 8: 0, 9: 1, 10: 1, 11: 0, 12: 0, 13: 0, 14: 1}. \n"
     ]
    },
    {
     "name": "stdout",
     "output_type": "stream",
     "text": [
      "Trade times in sample: 117944 Trade times out sample: 118024\n",
      "Trial 96 finished with values: [1.725592680220445, 0.971827031512905] and parameters: {0: 0, 1: 0, 2: 0, 3: 0, 4: 1, 5: 0, 6: 0, 7: 0, 8: 0, 9: 1, 10: 1, 11: 0, 12: 0, 13: 0, 14: 1}. \n"
     ]
    },
    {
     "name": "stderr",
     "output_type": "stream",
     "text": [
      "[I 2024-07-01 14:19:18,230] Trial 97 finished with values: [1.8877865934577411, 1.3689145169697121] and parameters: {0: 0, 1: 1, 2: 0, 3: 0, 4: 1, 5: 0, 6: 0, 7: 0, 8: 0, 9: 1, 10: 0, 11: 1, 12: 0, 13: 1, 14: 1}. \n"
     ]
    },
    {
     "name": "stdout",
     "output_type": "stream",
     "text": [
      "Trade times in sample: 117944 Trade times out sample: 118034\n",
      "Trial 97 finished with values: [1.8877865934577411, 1.3689145169697121] and parameters: {0: 0, 1: 1, 2: 0, 3: 0, 4: 1, 5: 0, 6: 0, 7: 0, 8: 0, 9: 1, 10: 0, 11: 1, 12: 0, 13: 1, 14: 1}. \n"
     ]
    },
    {
     "name": "stderr",
     "output_type": "stream",
     "text": [
      "[I 2024-07-01 14:19:53,009] Trial 98 finished with values: [0.7794362490397064, 4.1982552781074265] and parameters: {0: 1, 1: 1, 2: 1, 3: 1, 4: 1, 5: 0, 6: 1, 7: 1, 8: 1, 9: 0, 10: 1, 11: 0, 12: 0, 13: 1, 14: 1}. \n"
     ]
    },
    {
     "name": "stdout",
     "output_type": "stream",
     "text": [
      "Trade times in sample: 117944 Trade times out sample: 118044\n",
      "Trial 98 finished with values: [0.7794362490397064, 4.1982552781074265] and parameters: {0: 1, 1: 1, 2: 1, 3: 1, 4: 1, 5: 0, 6: 1, 7: 1, 8: 1, 9: 0, 10: 1, 11: 0, 12: 0, 13: 1, 14: 1}. \n"
     ]
    },
    {
     "name": "stderr",
     "output_type": "stream",
     "text": [
      "[I 2024-07-01 14:20:04,737] Trial 99 finished with values: [0.30249749343932597, 10.33380668922049] and parameters: {0: 0, 1: 1, 2: 0, 3: 0, 4: 0, 5: 0, 6: 1, 7: 0, 8: 1, 9: 0, 10: 1, 11: 1, 12: 0, 13: 0, 14: 1}. \n"
     ]
    },
    {
     "name": "stdout",
     "output_type": "stream",
     "text": [
      "Trade times in sample: 117944 Trade times out sample: 118024\n",
      "Trial 99 finished with values: [0.30249749343932597, 10.33380668922049] and parameters: {0: 0, 1: 1, 2: 0, 3: 0, 4: 0, 5: 0, 6: 1, 7: 0, 8: 1, 9: 0, 10: 1, 11: 1, 12: 0, 13: 0, 14: 1}. \n"
     ]
    },
    {
     "name": "stderr",
     "output_type": "stream",
     "text": [
      "[W 2024-07-01 14:20:04,873] Trial 100 failed with parameters: {0: 1, 1: 0, 2: 1, 3: 0, 4: 0, 5: 1, 6: 1, 7: 0, 8: 1, 9: 0, 10: 1, 11: 0, 12: 1, 13: 1, 14: 0} because of the following error: The value nan is not acceptable.\n"
     ]
    },
    {
     "name": "stdout",
     "output_type": "stream",
     "text": [
      "Trial 100 failed with parameters: {0: 1, 1: 0, 2: 1, 3: 0, 4: 0, 5: 1, 6: 1, 7: 0, 8: 1, 9: 0, 10: 1, 11: 0, 12: 1, 13: 1, 14: 0} because of the following error: The value nan is not acceptable.\n"
     ]
    },
    {
     "name": "stderr",
     "output_type": "stream",
     "text": [
      "[W 2024-07-01 14:20:04,874] Trial 100 failed with value nan.\n"
     ]
    },
    {
     "name": "stdout",
     "output_type": "stream",
     "text": [
      "Trial 100 failed with value nan.\n"
     ]
    },
    {
     "name": "stderr",
     "output_type": "stream",
     "text": [
      "[I 2024-07-01 14:20:42,934] Trial 101 finished with values: [0.6947294460834148, 4.9042077288295225] and parameters: {0: 1, 1: 1, 2: 1, 3: 0, 4: 1, 5: 0, 6: 0, 7: 1, 8: 0, 9: 0, 10: 1, 11: 1, 12: 1, 13: 1, 14: 1}. \n"
     ]
    },
    {
     "name": "stdout",
     "output_type": "stream",
     "text": [
      "Trade times in sample: 117944 Trade times out sample: 118024\n",
      "Trial 101 finished with values: [0.6947294460834148, 4.9042077288295225] and parameters: {0: 1, 1: 1, 2: 1, 3: 0, 4: 1, 5: 0, 6: 0, 7: 1, 8: 0, 9: 0, 10: 1, 11: 1, 12: 1, 13: 1, 14: 1}. \n"
     ]
    },
    {
     "name": "stderr",
     "output_type": "stream",
     "text": [
      "[I 2024-07-01 14:21:04,453] Trial 102 finished with values: [1.6164695948303165, 1.5281916601241563] and parameters: {0: 0, 1: 1, 2: 0, 3: 0, 4: 0, 5: 0, 6: 1, 7: 0, 8: 0, 9: 1, 10: 0, 11: 1, 12: 0, 13: 1, 14: 1}. \n"
     ]
    },
    {
     "name": "stdout",
     "output_type": "stream",
     "text": [
      "Trade times in sample: 117944 Trade times out sample: 118024\n",
      "Trial 102 finished with values: [1.6164695948303165, 1.5281916601241563] and parameters: {0: 0, 1: 1, 2: 0, 3: 0, 4: 0, 5: 0, 6: 1, 7: 0, 8: 0, 9: 1, 10: 0, 11: 1, 12: 0, 13: 1, 14: 1}. \n"
     ]
    },
    {
     "name": "stderr",
     "output_type": "stream",
     "text": [
      "[I 2024-07-01 14:21:28,537] Trial 103 finished with values: [1.3466589280297787, 2.012348745225805] and parameters: {0: 0, 1: 0, 2: 1, 3: 1, 4: 1, 5: 0, 6: 1, 7: 0, 8: 0, 9: 0, 10: 1, 11: 1, 12: 1, 13: 1, 14: 1}. \n"
     ]
    },
    {
     "name": "stdout",
     "output_type": "stream",
     "text": [
      "Trade times in sample: 117944 Trade times out sample: 118024\n",
      "Trial 103 finished with values: [1.3466589280297787, 2.012348745225805] and parameters: {0: 0, 1: 0, 2: 1, 3: 1, 4: 1, 5: 0, 6: 1, 7: 0, 8: 0, 9: 0, 10: 1, 11: 1, 12: 1, 13: 1, 14: 1}. \n"
     ]
    },
    {
     "name": "stderr",
     "output_type": "stream",
     "text": [
      "[I 2024-07-01 14:21:50,599] Trial 104 finished with values: [1.3720251632595593, 1.6248419407865295] and parameters: {0: 1, 1: 1, 2: 0, 3: 0, 4: 1, 5: 0, 6: 1, 7: 0, 8: 1, 9: 0, 10: 0, 11: 0, 12: 1, 13: 0, 14: 1}. \n"
     ]
    },
    {
     "name": "stdout",
     "output_type": "stream",
     "text": [
      "Trade times in sample: 117944 Trade times out sample: 118024\n",
      "Trial 104 finished with values: [1.3720251632595593, 1.6248419407865295] and parameters: {0: 1, 1: 1, 2: 0, 3: 0, 4: 1, 5: 0, 6: 1, 7: 0, 8: 1, 9: 0, 10: 0, 11: 0, 12: 1, 13: 0, 14: 1}. \n"
     ]
    },
    {
     "name": "stderr",
     "output_type": "stream",
     "text": [
      "[I 2024-07-01 14:22:08,281] Trial 105 finished with values: [-1.2080888065368345, 0.9634338017864577] and parameters: {0: 0, 1: 1, 2: 1, 3: 0, 4: 0, 5: 0, 6: 0, 7: 1, 8: 0, 9: 0, 10: 0, 11: 0, 12: 0, 13: 0, 14: 0}. \n"
     ]
    },
    {
     "name": "stdout",
     "output_type": "stream",
     "text": [
      "Trade times in sample: 118647 Trade times out sample: 116653\n",
      "Trial 105 finished with values: [-1.2080888065368345, 0.9634338017864577] and parameters: {0: 0, 1: 1, 2: 1, 3: 0, 4: 0, 5: 0, 6: 0, 7: 1, 8: 0, 9: 0, 10: 0, 11: 0, 12: 0, 13: 0, 14: 0}. \n"
     ]
    },
    {
     "name": "stderr",
     "output_type": "stream",
     "text": [
      "[I 2024-07-01 14:22:40,994] Trial 106 finished with values: [-1.321525410501899, 0.4436147711143099] and parameters: {0: 0, 1: 1, 2: 1, 3: 0, 4: 0, 5: 1, 6: 1, 7: 1, 8: 1, 9: 1, 10: 1, 11: 1, 12: 0, 13: 0, 14: 0}. \n"
     ]
    },
    {
     "name": "stdout",
     "output_type": "stream",
     "text": [
      "Trade times in sample: 117936 Trade times out sample: 118034\n",
      "Trial 106 finished with values: [-1.321525410501899, 0.4436147711143099] and parameters: {0: 0, 1: 1, 2: 1, 3: 0, 4: 0, 5: 1, 6: 1, 7: 1, 8: 1, 9: 1, 10: 1, 11: 1, 12: 0, 13: 0, 14: 0}. \n"
     ]
    },
    {
     "name": "stderr",
     "output_type": "stream",
     "text": [
      "[I 2024-07-01 14:22:48,665] Trial 107 finished with values: [1.1105929869748046, 2.8977575870453567] and parameters: {0: 0, 1: 0, 2: 0, 3: 0, 4: 1, 5: 0, 6: 0, 7: 0, 8: 0, 9: 0, 10: 1, 11: 0, 12: 0, 13: 1, 14: 0}. \n"
     ]
    },
    {
     "name": "stdout",
     "output_type": "stream",
     "text": [
      "Trade times in sample: 116968 Trade times out sample: 118037\n",
      "Trial 107 finished with values: [1.1105929869748046, 2.8977575870453567] and parameters: {0: 0, 1: 0, 2: 0, 3: 0, 4: 1, 5: 0, 6: 0, 7: 0, 8: 0, 9: 0, 10: 1, 11: 0, 12: 0, 13: 1, 14: 0}. \n"
     ]
    },
    {
     "name": "stderr",
     "output_type": "stream",
     "text": [
      "[I 2024-07-01 14:23:08,542] Trial 108 finished with values: [2.639364416361934, 0.6491879088538401] and parameters: {0: 1, 1: 1, 2: 0, 3: 0, 4: 1, 5: 0, 6: 1, 7: 0, 8: 0, 9: 0, 10: 0, 11: 0, 12: 0, 13: 1, 14: 1}. \n"
     ]
    },
    {
     "name": "stdout",
     "output_type": "stream",
     "text": [
      "Trade times in sample: 117944 Trade times out sample: 118024\n",
      "Trial 108 finished with values: [2.639364416361934, 0.6491879088538401] and parameters: {0: 1, 1: 1, 2: 0, 3: 0, 4: 1, 5: 0, 6: 1, 7: 0, 8: 0, 9: 0, 10: 0, 11: 0, 12: 0, 13: 1, 14: 1}. \n"
     ]
    },
    {
     "name": "stderr",
     "output_type": "stream",
     "text": [
      "[I 2024-07-01 14:23:53,657] Trial 109 finished with values: [1.628785671137132, 1.6173560540613994] and parameters: {0: 1, 1: 1, 2: 0, 3: 1, 4: 1, 5: 1, 6: 1, 7: 1, 8: 0, 9: 1, 10: 1, 11: 1, 12: 1, 13: 1, 14: 1}. \n"
     ]
    },
    {
     "name": "stdout",
     "output_type": "stream",
     "text": [
      "Trade times in sample: 117944 Trade times out sample: 118046\n",
      "Trial 109 finished with values: [1.628785671137132, 1.6173560540613994] and parameters: {0: 1, 1: 1, 2: 0, 3: 1, 4: 1, 5: 1, 6: 1, 7: 1, 8: 0, 9: 1, 10: 1, 11: 1, 12: 1, 13: 1, 14: 1}. \n"
     ]
    },
    {
     "name": "stderr",
     "output_type": "stream",
     "text": [
      "[I 2024-07-01 14:24:13,434] Trial 110 finished with values: [1.0216502681119894, 2.459379155214151] and parameters: {0: 1, 1: 1, 2: 1, 3: 0, 4: 0, 5: 0, 6: 0, 7: 0, 8: 0, 9: 0, 10: 1, 11: 1, 12: 0, 13: 0, 14: 1}. \n"
     ]
    },
    {
     "name": "stdout",
     "output_type": "stream",
     "text": [
      "Trade times in sample: 117944 Trade times out sample: 118024\n",
      "Trial 110 finished with values: [1.0216502681119894, 2.459379155214151] and parameters: {0: 1, 1: 1, 2: 1, 3: 0, 4: 0, 5: 0, 6: 0, 7: 0, 8: 0, 9: 0, 10: 1, 11: 1, 12: 0, 13: 0, 14: 1}. \n"
     ]
    },
    {
     "name": "stderr",
     "output_type": "stream",
     "text": [
      "[I 2024-07-01 14:24:34,524] Trial 111 finished with values: [0.9217899995731479, 3.091101509014324] and parameters: {0: 0, 1: 1, 2: 1, 3: 0, 4: 0, 5: 0, 6: 1, 7: 0, 8: 0, 9: 0, 10: 0, 11: 0, 12: 1, 13: 0, 14: 1}. \n"
     ]
    },
    {
     "name": "stdout",
     "output_type": "stream",
     "text": [
      "Trade times in sample: 117944 Trade times out sample: 118024\n",
      "Trial 111 finished with values: [0.9217899995731479, 3.091101509014324] and parameters: {0: 0, 1: 1, 2: 1, 3: 0, 4: 0, 5: 0, 6: 1, 7: 0, 8: 0, 9: 0, 10: 0, 11: 0, 12: 1, 13: 0, 14: 1}. \n"
     ]
    },
    {
     "name": "stderr",
     "output_type": "stream",
     "text": [
      "[I 2024-07-01 14:24:58,270] Trial 112 finished with values: [1.860150974565122, 1.2053454279804283] and parameters: {0: 0, 1: 0, 2: 1, 3: 1, 4: 1, 5: 0, 6: 1, 7: 1, 8: 0, 9: 0, 10: 1, 11: 0, 12: 1, 13: 0, 14: 1}. \n"
     ]
    },
    {
     "name": "stdout",
     "output_type": "stream",
     "text": [
      "Trade times in sample: 117944 Trade times out sample: 118024\n",
      "Trial 112 finished with values: [1.860150974565122, 1.2053454279804283] and parameters: {0: 0, 1: 0, 2: 1, 3: 1, 4: 1, 5: 0, 6: 1, 7: 1, 8: 0, 9: 0, 10: 1, 11: 0, 12: 1, 13: 0, 14: 1}. \n"
     ]
    },
    {
     "name": "stderr",
     "output_type": "stream",
     "text": [
      "[I 2024-07-01 14:25:11,840] Trial 113 finished with values: [2.0174696213908048, 0.6633238845538962] and parameters: {0: 1, 1: 1, 2: 0, 3: 0, 4: 1, 5: 0, 6: 0, 7: 0, 8: 0, 9: 0, 10: 0, 11: 0, 12: 0, 13: 0, 14: 1}. \n"
     ]
    },
    {
     "name": "stdout",
     "output_type": "stream",
     "text": [
      "Trade times in sample: 117944 Trade times out sample: 118024\n",
      "Trial 113 finished with values: [2.0174696213908048, 0.6633238845538962] and parameters: {0: 1, 1: 1, 2: 0, 3: 0, 4: 1, 5: 0, 6: 0, 7: 0, 8: 0, 9: 0, 10: 0, 11: 0, 12: 0, 13: 0, 14: 1}. \n"
     ]
    },
    {
     "name": "stderr",
     "output_type": "stream",
     "text": [
      "[I 2024-07-01 14:25:33,874] Trial 114 finished with values: [0.007568013403107952, 467.12979840599456] and parameters: {0: 1, 1: 1, 2: 0, 3: 0, 4: 0, 5: 0, 6: 0, 7: 1, 8: 0, 9: 0, 10: 0, 11: 0, 12: 0, 13: 1, 14: 0}. \n"
     ]
    },
    {
     "name": "stdout",
     "output_type": "stream",
     "text": [
      "Trade times in sample: 115260 Trade times out sample: 117559\n",
      "Trial 114 finished with values: [0.007568013403107952, 467.12979840599456] and parameters: {0: 1, 1: 1, 2: 0, 3: 0, 4: 0, 5: 0, 6: 0, 7: 1, 8: 0, 9: 0, 10: 0, 11: 0, 12: 0, 13: 1, 14: 0}. \n"
     ]
    },
    {
     "name": "stderr",
     "output_type": "stream",
     "text": [
      "[I 2024-07-01 14:25:49,115] Trial 115 finished with values: [1.2000438934429773, 1.7091081072848708] and parameters: {0: 0, 1: 1, 2: 0, 3: 1, 4: 1, 5: 1, 6: 1, 7: 0, 8: 0, 9: 0, 10: 0, 11: 0, 12: 0, 13: 0, 14: 1}. \n"
     ]
    },
    {
     "name": "stdout",
     "output_type": "stream",
     "text": [
      "Trade times in sample: 117944 Trade times out sample: 118024\n",
      "Trial 115 finished with values: [1.2000438934429773, 1.7091081072848708] and parameters: {0: 0, 1: 1, 2: 0, 3: 1, 4: 1, 5: 1, 6: 1, 7: 0, 8: 0, 9: 0, 10: 0, 11: 0, 12: 0, 13: 0, 14: 1}. \n"
     ]
    },
    {
     "name": "stderr",
     "output_type": "stream",
     "text": [
      "[I 2024-07-01 14:26:08,554] Trial 116 finished with values: [2.059554330610463, 0.6059353256027837] and parameters: {0: 1, 1: 1, 2: 0, 3: 0, 4: 1, 5: 0, 6: 0, 7: 0, 8: 0, 9: 0, 10: 0, 11: 0, 12: 1, 13: 0, 14: 1}. \n"
     ]
    },
    {
     "name": "stdout",
     "output_type": "stream",
     "text": [
      "Trade times in sample: 117944 Trade times out sample: 118024\n",
      "Trial 116 finished with values: [2.059554330610463, 0.6059353256027837] and parameters: {0: 1, 1: 1, 2: 0, 3: 0, 4: 1, 5: 0, 6: 0, 7: 0, 8: 0, 9: 0, 10: 0, 11: 0, 12: 1, 13: 0, 14: 1}. \n"
     ]
    },
    {
     "name": "stderr",
     "output_type": "stream",
     "text": [
      "[W 2024-07-01 14:26:08,713] Trial 117 failed with parameters: {0: 1, 1: 1, 2: 1, 3: 0, 4: 1, 5: 1, 6: 1, 7: 1, 8: 0, 9: 1, 10: 1, 11: 0, 12: 1, 13: 1, 14: 0} because of the following error: The value nan is not acceptable.\n"
     ]
    },
    {
     "name": "stdout",
     "output_type": "stream",
     "text": [
      "Trial 117 failed with parameters: {0: 1, 1: 1, 2: 1, 3: 0, 4: 1, 5: 1, 6: 1, 7: 1, 8: 0, 9: 1, 10: 1, 11: 0, 12: 1, 13: 1, 14: 0} because of the following error: The value nan is not acceptable.\n"
     ]
    },
    {
     "name": "stderr",
     "output_type": "stream",
     "text": [
      "[W 2024-07-01 14:26:08,714] Trial 117 failed with value nan.\n"
     ]
    },
    {
     "name": "stdout",
     "output_type": "stream",
     "text": [
      "Trial 117 failed with value nan.\n"
     ]
    },
    {
     "name": "stderr",
     "output_type": "stream",
     "text": [
      "[I 2024-07-01 14:26:20,540] Trial 118 finished with values: [-1.4970014732451842, 0.3103304937923701] and parameters: {0: 0, 1: 1, 2: 0, 3: 0, 4: 1, 5: 0, 6: 0, 7: 0, 8: 0, 9: 1, 10: 1, 11: 1, 12: 0, 13: 0, 14: 0}. \n"
     ]
    },
    {
     "name": "stdout",
     "output_type": "stream",
     "text": [
      "Trade times in sample: 114727 Trade times out sample: 118024\n",
      "Trial 118 finished with values: [-1.4970014732451842, 0.3103304937923701] and parameters: {0: 0, 1: 1, 2: 0, 3: 0, 4: 1, 5: 0, 6: 0, 7: 0, 8: 0, 9: 1, 10: 1, 11: 1, 12: 0, 13: 0, 14: 0}. \n"
     ]
    },
    {
     "name": "stderr",
     "output_type": "stream",
     "text": [
      "[I 2024-07-01 14:26:44,653] Trial 119 finished with values: [-2.188439037433582, 0.2443331616690816] and parameters: {0: 0, 1: 1, 2: 1, 3: 1, 4: 1, 5: 1, 6: 1, 7: 0, 8: 0, 9: 0, 10: 0, 11: 0, 12: 0, 13: 1, 14: 0}. \n"
     ]
    },
    {
     "name": "stdout",
     "output_type": "stream",
     "text": [
      "Trade times in sample: 117832 Trade times out sample: 117549\n",
      "Trial 119 finished with values: [-2.188439037433582, 0.2443331616690816] and parameters: {0: 0, 1: 1, 2: 1, 3: 1, 4: 1, 5: 1, 6: 1, 7: 0, 8: 0, 9: 0, 10: 0, 11: 0, 12: 0, 13: 1, 14: 0}. \n"
     ]
    },
    {
     "name": "stderr",
     "output_type": "stream",
     "text": [
      "[I 2024-07-01 14:27:05,579] Trial 120 finished with values: [-0.6648640371760282, 2.4163788585445873] and parameters: {0: 1, 1: 0, 2: 1, 3: 0, 4: 1, 5: 0, 6: 1, 7: 0, 8: 1, 9: 1, 10: 1, 11: 0, 12: 0, 13: 0, 14: 0}. \n"
     ]
    },
    {
     "name": "stdout",
     "output_type": "stream",
     "text": [
      "Trade times in sample: 117944 Trade times out sample: 118024\n",
      "Trial 120 finished with values: [-0.6648640371760282, 2.4163788585445873] and parameters: {0: 1, 1: 0, 2: 1, 3: 0, 4: 1, 5: 0, 6: 1, 7: 0, 8: 1, 9: 1, 10: 1, 11: 0, 12: 0, 13: 0, 14: 0}. \n"
     ]
    },
    {
     "name": "stderr",
     "output_type": "stream",
     "text": [
      "[I 2024-07-01 14:27:17,086] Trial 121 finished with values: [2.4845021907785947, 1.1599911069729631] and parameters: {0: 0, 1: 0, 2: 0, 3: 0, 4: 1, 5: 0, 6: 1, 7: 0, 8: 0, 9: 0, 10: 1, 11: 1, 12: 0, 13: 1, 14: 1}. \n"
     ]
    },
    {
     "name": "stdout",
     "output_type": "stream",
     "text": [
      "Trade times in sample: 117944 Trade times out sample: 118034\n",
      "Trial 121 finished with values: [2.4845021907785947, 1.1599911069729631] and parameters: {0: 0, 1: 0, 2: 0, 3: 0, 4: 1, 5: 0, 6: 1, 7: 0, 8: 0, 9: 0, 10: 1, 11: 1, 12: 0, 13: 1, 14: 1}. \n"
     ]
    },
    {
     "name": "stderr",
     "output_type": "stream",
     "text": [
      "[I 2024-07-01 14:27:54,270] Trial 122 finished with values: [-1.2687482889333808, 1.7284554299035975] and parameters: {0: 1, 1: 0, 2: 1, 3: 0, 4: 1, 5: 1, 6: 1, 7: 1, 8: 0, 9: 0, 10: 1, 11: 0, 12: 1, 13: 1, 14: 0}. \n"
     ]
    },
    {
     "name": "stdout",
     "output_type": "stream",
     "text": [
      "Trade times in sample: 118649 Trade times out sample: 118027\n",
      "Trial 122 finished with values: [-1.2687482889333808, 1.7284554299035975] and parameters: {0: 1, 1: 0, 2: 1, 3: 0, 4: 1, 5: 1, 6: 1, 7: 1, 8: 0, 9: 0, 10: 1, 11: 0, 12: 1, 13: 1, 14: 0}. \n"
     ]
    },
    {
     "name": "stderr",
     "output_type": "stream",
     "text": [
      "[W 2024-07-01 14:27:54,439] Trial 123 failed with parameters: {0: 0, 1: 1, 2: 0, 3: 0, 4: 1, 5: 0, 6: 0, 7: 1, 8: 0, 9: 0, 10: 1, 11: 0, 12: 0, 13: 1, 14: 1} because of the following error: The value nan is not acceptable.\n"
     ]
    },
    {
     "name": "stdout",
     "output_type": "stream",
     "text": [
      "Trial 123 failed with parameters: {0: 0, 1: 1, 2: 0, 3: 0, 4: 1, 5: 0, 6: 0, 7: 1, 8: 0, 9: 0, 10: 1, 11: 0, 12: 0, 13: 1, 14: 1} because of the following error: The value nan is not acceptable.\n"
     ]
    },
    {
     "name": "stderr",
     "output_type": "stream",
     "text": [
      "[W 2024-07-01 14:27:54,441] Trial 123 failed with value nan.\n"
     ]
    },
    {
     "name": "stdout",
     "output_type": "stream",
     "text": [
      "Trial 123 failed with value nan.\n"
     ]
    },
    {
     "name": "stderr",
     "output_type": "stream",
     "text": [
      "[I 2024-07-01 14:28:02,246] Trial 124 finished with values: [-1.504429596932396, 0.4829760735731472] and parameters: {0: 0, 1: 0, 2: 1, 3: 0, 4: 0, 5: 0, 6: 0, 7: 0, 8: 0, 9: 0, 10: 1, 11: 1, 12: 0, 13: 0, 14: 0}. \n"
     ]
    },
    {
     "name": "stdout",
     "output_type": "stream",
     "text": [
      "Trade times in sample: 118188 Trade times out sample: 117101\n",
      "Trial 124 finished with values: [-1.504429596932396, 0.4829760735731472] and parameters: {0: 0, 1: 0, 2: 1, 3: 0, 4: 0, 5: 0, 6: 0, 7: 0, 8: 0, 9: 0, 10: 1, 11: 1, 12: 0, 13: 0, 14: 0}. \n"
     ]
    },
    {
     "name": "stderr",
     "output_type": "stream",
     "text": [
      "[W 2024-07-01 14:28:02,414] Trial 125 failed with parameters: {0: 1, 1: 1, 2: 0, 3: 1, 4: 0, 5: 1, 6: 1, 7: 0, 8: 0, 9: 0, 10: 1, 11: 0, 12: 1, 13: 1, 14: 1} because of the following error: The value nan is not acceptable.\n"
     ]
    },
    {
     "name": "stdout",
     "output_type": "stream",
     "text": [
      "Trial 125 failed with parameters: {0: 1, 1: 1, 2: 0, 3: 1, 4: 0, 5: 1, 6: 1, 7: 0, 8: 0, 9: 0, 10: 1, 11: 0, 12: 1, 13: 1, 14: 1} because of the following error: The value nan is not acceptable.\n"
     ]
    },
    {
     "name": "stderr",
     "output_type": "stream",
     "text": [
      "[W 2024-07-01 14:28:02,416] Trial 125 failed with value nan.\n"
     ]
    },
    {
     "name": "stdout",
     "output_type": "stream",
     "text": [
      "Trial 125 failed with value nan.\n"
     ]
    },
    {
     "name": "stderr",
     "output_type": "stream",
     "text": [
      "[I 2024-07-01 14:28:20,058] Trial 126 finished with values: [2.3600980432427106, 0.82088015322532] and parameters: {0: 0, 1: 0, 2: 0, 3: 0, 4: 1, 5: 0, 6: 1, 7: 1, 8: 0, 9: 0, 10: 0, 11: 1, 12: 0, 13: 1, 14: 1}. \n"
     ]
    },
    {
     "name": "stdout",
     "output_type": "stream",
     "text": [
      "Trade times in sample: 117944 Trade times out sample: 118034\n",
      "Trial 126 finished with values: [2.3600980432427106, 0.82088015322532] and parameters: {0: 0, 1: 0, 2: 0, 3: 0, 4: 1, 5: 0, 6: 1, 7: 1, 8: 0, 9: 0, 10: 0, 11: 1, 12: 0, 13: 1, 14: 1}. \n"
     ]
    },
    {
     "name": "stderr",
     "output_type": "stream",
     "text": [
      "[I 2024-07-01 14:28:31,232] Trial 127 finished with values: [0.5568784473341136, 5.6414343280276675] and parameters: {0: 0, 1: 1, 2: 0, 3: 0, 4: 1, 5: 0, 6: 0, 7: 0, 8: 1, 9: 0, 10: 0, 11: 1, 12: 0, 13: 0, 14: 1}. \n"
     ]
    },
    {
     "name": "stdout",
     "output_type": "stream",
     "text": [
      "Trade times in sample: 117944 Trade times out sample: 118024\n",
      "Trial 127 finished with values: [0.5568784473341136, 5.6414343280276675] and parameters: {0: 0, 1: 1, 2: 0, 3: 0, 4: 1, 5: 0, 6: 0, 7: 0, 8: 1, 9: 0, 10: 0, 11: 1, 12: 0, 13: 0, 14: 1}. \n"
     ]
    },
    {
     "name": "stderr",
     "output_type": "stream",
     "text": [
      "[I 2024-07-01 14:28:45,567] Trial 128 finished with values: [0.08905982126067212, 39.31042869932188] and parameters: {0: 0, 1: 1, 2: 0, 3: 0, 4: 1, 5: 0, 6: 1, 7: 0, 8: 1, 9: 0, 10: 0, 11: 1, 12: 0, 13: 1, 14: 0}. \n"
     ]
    },
    {
     "name": "stdout",
     "output_type": "stream",
     "text": [
      "Trade times in sample: 117944 Trade times out sample: 118027\n",
      "Trial 128 finished with values: [0.08905982126067212, 39.31042869932188] and parameters: {0: 0, 1: 1, 2: 0, 3: 0, 4: 1, 5: 0, 6: 1, 7: 0, 8: 1, 9: 0, 10: 0, 11: 1, 12: 0, 13: 1, 14: 0}. \n"
     ]
    },
    {
     "name": "stderr",
     "output_type": "stream",
     "text": [
      "[W 2024-07-01 14:28:45,741] Trial 129 failed with parameters: {0: 0, 1: 0, 2: 1, 3: 1, 4: 1, 5: 1, 6: 1, 7: 1, 8: 0, 9: 0, 10: 1, 11: 0, 12: 0, 13: 0, 14: 0} because of the following error: The value nan is not acceptable.\n"
     ]
    },
    {
     "name": "stdout",
     "output_type": "stream",
     "text": [
      "Trial 129 failed with parameters: {0: 0, 1: 0, 2: 1, 3: 1, 4: 1, 5: 1, 6: 1, 7: 1, 8: 0, 9: 0, 10: 1, 11: 0, 12: 0, 13: 0, 14: 0} because of the following error: The value nan is not acceptable.\n"
     ]
    },
    {
     "name": "stderr",
     "output_type": "stream",
     "text": [
      "[W 2024-07-01 14:28:45,743] Trial 129 failed with value nan.\n"
     ]
    },
    {
     "name": "stdout",
     "output_type": "stream",
     "text": [
      "Trial 129 failed with value nan.\n"
     ]
    },
    {
     "name": "stderr",
     "output_type": "stream",
     "text": [
      "[I 2024-07-01 14:29:00,175] Trial 130 finished with values: [1.6086061299629486, 1.9528253404589515] and parameters: {0: 1, 1: 0, 2: 0, 3: 0, 4: 0, 5: 0, 6: 1, 7: 0, 8: 1, 9: 0, 10: 0, 11: 0, 12: 0, 13: 1, 14: 0}. \n"
     ]
    },
    {
     "name": "stdout",
     "output_type": "stream",
     "text": [
      "Trade times in sample: 117990 Trade times out sample: 118035\n",
      "Trial 130 finished with values: [1.6086061299629486, 1.9528253404589515] and parameters: {0: 1, 1: 0, 2: 0, 3: 0, 4: 0, 5: 0, 6: 1, 7: 0, 8: 1, 9: 0, 10: 0, 11: 0, 12: 0, 13: 1, 14: 0}. \n"
     ]
    },
    {
     "name": "stderr",
     "output_type": "stream",
     "text": [
      "[I 2024-07-01 14:29:24,022] Trial 131 finished with values: [-1.3752379116162763, 0.38227807748352216] and parameters: {0: 0, 1: 1, 2: 1, 3: 0, 4: 0, 5: 1, 6: 0, 7: 0, 8: 0, 9: 1, 10: 1, 11: 1, 12: 0, 13: 0, 14: 0}. \n"
     ]
    },
    {
     "name": "stdout",
     "output_type": "stream",
     "text": [
      "Trade times in sample: 115035 Trade times out sample: 117545\n",
      "Trial 131 finished with values: [-1.3752379116162763, 0.38227807748352216] and parameters: {0: 0, 1: 1, 2: 1, 3: 0, 4: 0, 5: 1, 6: 0, 7: 0, 8: 0, 9: 1, 10: 1, 11: 1, 12: 0, 13: 0, 14: 0}. \n"
     ]
    },
    {
     "name": "stderr",
     "output_type": "stream",
     "text": [
      "[I 2024-07-01 14:29:47,748] Trial 132 finished with values: [-0.21702909072595727, 11.033405453288621] and parameters: {0: 0, 1: 1, 2: 0, 3: 0, 4: 1, 5: 1, 6: 0, 7: 0, 8: 0, 9: 1, 10: 1, 11: 0, 12: 1, 13: 0, 14: 0}. \n"
     ]
    },
    {
     "name": "stdout",
     "output_type": "stream",
     "text": [
      "Trade times in sample: 115260 Trade times out sample: 118074\n",
      "Trial 132 finished with values: [-0.21702909072595727, 11.033405453288621] and parameters: {0: 0, 1: 1, 2: 0, 3: 0, 4: 1, 5: 1, 6: 0, 7: 0, 8: 0, 9: 1, 10: 1, 11: 0, 12: 1, 13: 0, 14: 0}. \n"
     ]
    },
    {
     "name": "stderr",
     "output_type": "stream",
     "text": [
      "[I 2024-07-01 14:30:08,835] Trial 133 finished with values: [0.5187499165155559, 6.027604504698404] and parameters: {0: 0, 1: 1, 2: 1, 3: 0, 4: 1, 5: 0, 6: 0, 7: 0, 8: 0, 9: 1, 10: 1, 11: 0, 12: 0, 13: 0, 14: 1}. \n"
     ]
    },
    {
     "name": "stdout",
     "output_type": "stream",
     "text": [
      "Trade times in sample: 117944 Trade times out sample: 118024\n",
      "Trial 133 finished with values: [0.5187499165155559, 6.027604504698404] and parameters: {0: 0, 1: 1, 2: 1, 3: 0, 4: 1, 5: 0, 6: 0, 7: 0, 8: 0, 9: 1, 10: 1, 11: 0, 12: 0, 13: 0, 14: 1}. \n"
     ]
    },
    {
     "name": "stderr",
     "output_type": "stream",
     "text": [
      "[I 2024-07-01 14:30:41,088] Trial 134 finished with values: [-1.1025460682217862, 0.8514501450526528] and parameters: {0: 0, 1: 1, 2: 1, 3: 1, 4: 1, 5: 1, 6: 0, 7: 1, 8: 1, 9: 1, 10: 0, 11: 0, 12: 0, 13: 0, 14: 0}. \n"
     ]
    },
    {
     "name": "stdout",
     "output_type": "stream",
     "text": [
      "Trade times in sample: 117944 Trade times out sample: 118025\n",
      "Trial 134 finished with values: [-1.1025460682217862, 0.8514501450526528] and parameters: {0: 0, 1: 1, 2: 1, 3: 1, 4: 1, 5: 1, 6: 0, 7: 1, 8: 1, 9: 1, 10: 0, 11: 0, 12: 0, 13: 0, 14: 0}. \n"
     ]
    },
    {
     "name": "stderr",
     "output_type": "stream",
     "text": [
      "[I 2024-07-01 14:31:09,445] Trial 135 finished with values: [-1.1693167472539385, 1.3782092372624763] and parameters: {0: 0, 1: 0, 2: 1, 3: 0, 4: 0, 5: 1, 6: 1, 7: 0, 8: 1, 9: 1, 10: 0, 11: 1, 12: 1, 13: 0, 14: 0}. \n"
     ]
    },
    {
     "name": "stdout",
     "output_type": "stream",
     "text": [
      "Trade times in sample: 116963 Trade times out sample: 116040\n",
      "Trial 135 finished with values: [-1.1693167472539385, 1.3782092372624763] and parameters: {0: 0, 1: 0, 2: 1, 3: 0, 4: 0, 5: 1, 6: 1, 7: 0, 8: 1, 9: 1, 10: 0, 11: 1, 12: 1, 13: 0, 14: 0}. \n"
     ]
    },
    {
     "name": "stderr",
     "output_type": "stream",
     "text": [
      "[I 2024-07-01 14:31:35,076] Trial 136 finished with values: [1.7806726292877575, 1.3836342907742947] and parameters: {0: 0, 1: 0, 2: 1, 3: 1, 4: 0, 5: 0, 6: 1, 7: 1, 8: 1, 9: 0, 10: 0, 11: 1, 12: 0, 13: 1, 14: 1}. \n"
     ]
    },
    {
     "name": "stdout",
     "output_type": "stream",
     "text": [
      "Trade times in sample: 118651 Trade times out sample: 118034\n",
      "Trial 136 finished with values: [1.7806726292877575, 1.3836342907742947] and parameters: {0: 0, 1: 0, 2: 1, 3: 1, 4: 0, 5: 0, 6: 1, 7: 1, 8: 1, 9: 0, 10: 0, 11: 1, 12: 0, 13: 1, 14: 1}. \n"
     ]
    },
    {
     "name": "stderr",
     "output_type": "stream",
     "text": [
      "[I 2024-07-01 14:31:55,193] Trial 137 finished with values: [-1.4158890014133476, 1.046073774418423] and parameters: {0: 0, 1: 0, 2: 1, 3: 1, 4: 1, 5: 1, 6: 1, 7: 0, 8: 0, 9: 0, 10: 0, 11: 1, 12: 1, 13: 0, 14: 0}. \n"
     ]
    },
    {
     "name": "stdout",
     "output_type": "stream",
     "text": [
      "Trade times in sample: 115686 Trade times out sample: 118288\n",
      "Trial 137 finished with values: [-1.4158890014133476, 1.046073774418423] and parameters: {0: 0, 1: 0, 2: 1, 3: 1, 4: 1, 5: 1, 6: 1, 7: 0, 8: 0, 9: 0, 10: 0, 11: 1, 12: 1, 13: 0, 14: 0}. \n"
     ]
    },
    {
     "name": "stderr",
     "output_type": "stream",
     "text": [
      "[I 2024-07-01 14:32:13,536] Trial 138 finished with values: [-0.8681654681484452, 1.5783202711825584] and parameters: {0: 1, 1: 0, 2: 1, 3: 0, 4: 0, 5: 0, 6: 0, 7: 0, 8: 0, 9: 1, 10: 0, 11: 0, 12: 0, 13: 0, 14: 0}. \n"
     ]
    },
    {
     "name": "stdout",
     "output_type": "stream",
     "text": [
      "Trade times in sample: 118260 Trade times out sample: 113184\n",
      "Trial 138 finished with values: [-0.8681654681484452, 1.5783202711825584] and parameters: {0: 1, 1: 0, 2: 1, 3: 0, 4: 0, 5: 0, 6: 0, 7: 0, 8: 0, 9: 1, 10: 0, 11: 0, 12: 0, 13: 0, 14: 0}. \n"
     ]
    },
    {
     "name": "stderr",
     "output_type": "stream",
     "text": [
      "[I 2024-07-01 14:32:31,795] Trial 139 finished with values: [-1.419997702235759, 1.5067667324651537] and parameters: {0: 1, 1: 0, 2: 1, 3: 1, 4: 1, 5: 0, 6: 0, 7: 0, 8: 0, 9: 0, 10: 0, 11: 0, 12: 0, 13: 1, 14: 0}. \n"
     ]
    },
    {
     "name": "stdout",
     "output_type": "stream",
     "text": [
      "Trade times in sample: 118260 Trade times out sample: 117598\n",
      "Trial 139 finished with values: [-1.419997702235759, 1.5067667324651537] and parameters: {0: 1, 1: 0, 2: 1, 3: 1, 4: 1, 5: 0, 6: 0, 7: 0, 8: 0, 9: 0, 10: 0, 11: 0, 12: 0, 13: 1, 14: 0}. \n"
     ]
    },
    {
     "name": "stderr",
     "output_type": "stream",
     "text": [
      "[I 2024-07-01 14:33:03,923] Trial 140 finished with values: [2.5148949052779153, 0.7704389679351988] and parameters: {0: 1, 1: 1, 2: 0, 3: 0, 4: 1, 5: 1, 6: 0, 7: 0, 8: 0, 9: 1, 10: 1, 11: 1, 12: 0, 13: 1, 14: 1}. \n"
     ]
    },
    {
     "name": "stdout",
     "output_type": "stream",
     "text": [
      "Trade times in sample: 117944 Trade times out sample: 118045\n",
      "Trial 140 finished with values: [2.5148949052779153, 0.7704389679351988] and parameters: {0: 1, 1: 1, 2: 0, 3: 0, 4: 1, 5: 1, 6: 0, 7: 0, 8: 0, 9: 1, 10: 1, 11: 1, 12: 0, 13: 1, 14: 1}. \n"
     ]
    },
    {
     "name": "stderr",
     "output_type": "stream",
     "text": [
      "[W 2024-07-01 14:33:04,112] Trial 141 failed with parameters: {0: 0, 1: 1, 2: 1, 3: 1, 4: 1, 5: 0, 6: 1, 7: 1, 8: 1, 9: 1, 10: 1, 11: 1, 12: 1, 13: 0, 14: 0} because of the following error: The value nan is not acceptable.\n"
     ]
    },
    {
     "name": "stdout",
     "output_type": "stream",
     "text": [
      "Trial 141 failed with parameters: {0: 0, 1: 1, 2: 1, 3: 1, 4: 1, 5: 0, 6: 1, 7: 1, 8: 1, 9: 1, 10: 1, 11: 1, 12: 1, 13: 0, 14: 0} because of the following error: The value nan is not acceptable.\n"
     ]
    },
    {
     "name": "stderr",
     "output_type": "stream",
     "text": [
      "[W 2024-07-01 14:33:04,113] Trial 141 failed with value nan.\n"
     ]
    },
    {
     "name": "stdout",
     "output_type": "stream",
     "text": [
      "Trial 141 failed with value nan.\n"
     ]
    },
    {
     "name": "stderr",
     "output_type": "stream",
     "text": [
      "[I 2024-07-01 14:33:27,920] Trial 142 finished with values: [2.211069667044038, 0.8717604363227711] and parameters: {0: 0, 1: 0, 2: 0, 3: 1, 4: 0, 5: 0, 6: 1, 7: 1, 8: 0, 9: 1, 10: 0, 11: 0, 12: 0, 13: 1, 14: 1}. \n"
     ]
    },
    {
     "name": "stdout",
     "output_type": "stream",
     "text": [
      "Trade times in sample: 117944 Trade times out sample: 118024\n",
      "Trial 142 finished with values: [2.211069667044038, 0.8717604363227711] and parameters: {0: 0, 1: 0, 2: 0, 3: 1, 4: 0, 5: 0, 6: 1, 7: 1, 8: 0, 9: 1, 10: 0, 11: 0, 12: 0, 13: 1, 14: 1}. \n"
     ]
    },
    {
     "name": "stderr",
     "output_type": "stream",
     "text": [
      "[I 2024-07-01 14:33:39,910] Trial 143 finished with values: [1.8185111039939166, 0.4303182921341129] and parameters: {0: 1, 1: 0, 2: 0, 3: 0, 4: 1, 5: 1, 6: 1, 7: 0, 8: 0, 9: 0, 10: 0, 11: 0, 12: 0, 13: 0, 14: 0}. \n"
     ]
    },
    {
     "name": "stdout",
     "output_type": "stream",
     "text": [
      "Trade times in sample: 111374 Trade times out sample: 118658\n",
      "Trial 143 finished with values: [1.8185111039939166, 0.4303182921341129] and parameters: {0: 1, 1: 0, 2: 0, 3: 0, 4: 1, 5: 1, 6: 1, 7: 0, 8: 0, 9: 0, 10: 0, 11: 0, 12: 0, 13: 0, 14: 0}. \n"
     ]
    },
    {
     "name": "stderr",
     "output_type": "stream",
     "text": [
      "[I 2024-07-01 14:33:57,237] Trial 144 finished with values: [2.9628327877188863, 0.5429128946143498] and parameters: {0: 0, 1: 0, 2: 0, 3: 0, 4: 1, 5: 0, 6: 0, 7: 0, 8: 0, 9: 0, 10: 0, 11: 1, 12: 1, 13: 1, 14: 1}. \n"
     ]
    },
    {
     "name": "stdout",
     "output_type": "stream",
     "text": [
      "Trade times in sample: 117805 Trade times out sample: 118034\n",
      "Trial 144 finished with values: [2.9628327877188863, 0.5429128946143498] and parameters: {0: 0, 1: 0, 2: 0, 3: 0, 4: 1, 5: 0, 6: 0, 7: 0, 8: 0, 9: 0, 10: 0, 11: 1, 12: 1, 13: 1, 14: 1}. \n"
     ]
    },
    {
     "name": "stderr",
     "output_type": "stream",
     "text": [
      "[I 2024-07-01 14:34:14,991] Trial 145 finished with values: [-0.6667357281168538, 3.602127387253833] and parameters: {0: 0, 1: 1, 2: 0, 3: 0, 4: 1, 5: 1, 6: 0, 7: 0, 8: 0, 9: 0, 10: 1, 11: 1, 12: 0, 13: 1, 14: 0}. \n"
     ]
    },
    {
     "name": "stdout",
     "output_type": "stream",
     "text": [
      "Trade times in sample: 117457 Trade times out sample: 118077\n",
      "Trial 145 finished with values: [-0.6667357281168538, 3.602127387253833] and parameters: {0: 0, 1: 1, 2: 0, 3: 0, 4: 1, 5: 1, 6: 0, 7: 0, 8: 0, 9: 0, 10: 1, 11: 1, 12: 0, 13: 1, 14: 0}. \n"
     ]
    },
    {
     "name": "stderr",
     "output_type": "stream",
     "text": [
      "[I 2024-07-01 14:34:43,022] Trial 146 finished with values: [1.6619790831208894, 0.9041368331667852] and parameters: {0: 1, 1: 0, 2: 0, 3: 0, 4: 1, 5: 0, 6: 0, 7: 1, 8: 0, 9: 1, 10: 1, 11: 1, 12: 1, 13: 0, 14: 1}. \n"
     ]
    },
    {
     "name": "stdout",
     "output_type": "stream",
     "text": [
      "Trade times in sample: 117944 Trade times out sample: 118024\n",
      "Trial 146 finished with values: [1.6619790831208894, 0.9041368331667852] and parameters: {0: 1, 1: 0, 2: 0, 3: 0, 4: 1, 5: 0, 6: 0, 7: 1, 8: 0, 9: 1, 10: 1, 11: 1, 12: 1, 13: 0, 14: 1}. \n"
     ]
    },
    {
     "name": "stderr",
     "output_type": "stream",
     "text": [
      "[I 2024-07-01 14:35:04,430] Trial 147 finished with values: [1.1486622493965741, 1.7692868637305836] and parameters: {0: 0, 1: 1, 2: 0, 3: 0, 4: 1, 5: 0, 6: 0, 7: 1, 8: 0, 9: 1, 10: 1, 11: 1, 12: 0, 13: 0, 14: 1}. \n"
     ]
    },
    {
     "name": "stdout",
     "output_type": "stream",
     "text": [
      "Trade times in sample: 117944 Trade times out sample: 118024\n",
      "Trial 147 finished with values: [1.1486622493965741, 1.7692868637305836] and parameters: {0: 0, 1: 1, 2: 0, 3: 0, 4: 1, 5: 0, 6: 0, 7: 1, 8: 0, 9: 1, 10: 1, 11: 1, 12: 0, 13: 0, 14: 1}. \n"
     ]
    },
    {
     "name": "stderr",
     "output_type": "stream",
     "text": [
      "[I 2024-07-01 14:35:28,329] Trial 148 finished with values: [0.6974035502352229, 4.443335004904536] and parameters: {0: 0, 1: 0, 2: 1, 3: 1, 4: 0, 5: 1, 6: 1, 7: 1, 8: 0, 9: 0, 10: 1, 11: 0, 12: 0, 13: 0, 14: 1}. \n"
     ]
    },
    {
     "name": "stdout",
     "output_type": "stream",
     "text": [
      "Trade times in sample: 118664 Trade times out sample: 118024\n",
      "Trial 148 finished with values: [0.6974035502352229, 4.443335004904536] and parameters: {0: 0, 1: 0, 2: 1, 3: 1, 4: 0, 5: 1, 6: 1, 7: 1, 8: 0, 9: 0, 10: 1, 11: 0, 12: 0, 13: 0, 14: 1}. \n"
     ]
    },
    {
     "name": "stderr",
     "output_type": "stream",
     "text": [
      "[I 2024-07-01 14:35:52,711] Trial 149 finished with values: [-0.5801131967230366, 4.864459277774806] and parameters: {0: 0, 1: 1, 2: 0, 3: 1, 4: 1, 5: 0, 6: 1, 7: 0, 8: 0, 9: 1, 10: 0, 11: 1, 12: 1, 13: 1, 14: 0}. \n"
     ]
    },
    {
     "name": "stdout",
     "output_type": "stream",
     "text": [
      "Trade times in sample: 117833 Trade times out sample: 118037\n",
      "Trial 149 finished with values: [-0.5801131967230366, 4.864459277774806] and parameters: {0: 0, 1: 1, 2: 0, 3: 1, 4: 1, 5: 0, 6: 1, 7: 0, 8: 0, 9: 1, 10: 0, 11: 1, 12: 1, 13: 1, 14: 0}. \n"
     ]
    },
    {
     "name": "stderr",
     "output_type": "stream",
     "text": [
      "[I 2024-07-01 14:36:29,298] Trial 150 finished with values: [0.24160269939488505, 16.352476567293564] and parameters: {0: 1, 1: 0, 2: 1, 3: 1, 4: 0, 5: 1, 6: 1, 7: 0, 8: 1, 9: 0, 10: 0, 11: 0, 12: 1, 13: 1, 14: 1}. \n"
     ]
    },
    {
     "name": "stdout",
     "output_type": "stream",
     "text": [
      "Trade times in sample: 117700 Trade times out sample: 118024\n",
      "Trial 150 finished with values: [0.24160269939488505, 16.352476567293564] and parameters: {0: 1, 1: 0, 2: 1, 3: 1, 4: 0, 5: 1, 6: 1, 7: 0, 8: 1, 9: 0, 10: 0, 11: 0, 12: 1, 13: 1, 14: 1}. \n"
     ]
    },
    {
     "name": "stderr",
     "output_type": "stream",
     "text": [
      "[I 2024-07-01 14:36:42,747] Trial 151 finished with values: [2.204508347897129, 0.47505732635254816] and parameters: {0: 1, 1: 1, 2: 0, 3: 0, 4: 0, 5: 0, 6: 0, 7: 0, 8: 0, 9: 0, 10: 0, 11: 1, 12: 0, 13: 0, 14: 1}. \n"
     ]
    },
    {
     "name": "stdout",
     "output_type": "stream",
     "text": [
      "Trade times in sample: 117944 Trade times out sample: 118024\n",
      "Trial 151 finished with values: [2.204508347897129, 0.47505732635254816] and parameters: {0: 1, 1: 1, 2: 0, 3: 0, 4: 0, 5: 0, 6: 0, 7: 0, 8: 0, 9: 0, 10: 0, 11: 1, 12: 0, 13: 0, 14: 1}. \n"
     ]
    },
    {
     "name": "stderr",
     "output_type": "stream",
     "text": [
      "[I 2024-07-01 14:37:19,308] Trial 152 finished with values: [0.9678087571865223, 3.2672227627731294] and parameters: {0: 0, 1: 1, 2: 1, 3: 1, 4: 1, 5: 0, 6: 1, 7: 1, 8: 1, 9: 1, 10: 1, 11: 1, 12: 1, 13: 0, 14: 1}. \n"
     ]
    },
    {
     "name": "stdout",
     "output_type": "stream",
     "text": [
      "Trade times in sample: 117944 Trade times out sample: 118024\n",
      "Trial 152 finished with values: [0.9678087571865223, 3.2672227627731294] and parameters: {0: 0, 1: 1, 2: 1, 3: 1, 4: 1, 5: 0, 6: 1, 7: 1, 8: 1, 9: 1, 10: 1, 11: 1, 12: 1, 13: 0, 14: 1}. \n"
     ]
    },
    {
     "name": "stderr",
     "output_type": "stream",
     "text": [
      "[I 2024-07-01 14:37:47,447] Trial 153 finished with values: [2.234408598994941, 1.0562177690629109] and parameters: {0: 1, 1: 0, 2: 0, 3: 1, 4: 1, 5: 0, 6: 0, 7: 1, 8: 0, 9: 0, 10: 0, 11: 0, 12: 1, 13: 1, 14: 1}. \n"
     ]
    },
    {
     "name": "stdout",
     "output_type": "stream",
     "text": [
      "Trade times in sample: 118651 Trade times out sample: 118036\n",
      "Trial 153 finished with values: [2.234408598994941, 1.0562177690629109] and parameters: {0: 1, 1: 0, 2: 0, 3: 1, 4: 1, 5: 0, 6: 0, 7: 1, 8: 0, 9: 0, 10: 0, 11: 0, 12: 1, 13: 1, 14: 1}. \n"
     ]
    },
    {
     "name": "stderr",
     "output_type": "stream",
     "text": [
      "[I 2024-07-01 14:38:05,179] Trial 154 finished with values: [2.1937259783074934, 0.838693811657212] and parameters: {0: 0, 1: 0, 2: 0, 3: 1, 4: 1, 5: 0, 6: 0, 7: 0, 8: 0, 9: 1, 10: 1, 11: 1, 12: 0, 13: 1, 14: 1}. \n"
     ]
    },
    {
     "name": "stdout",
     "output_type": "stream",
     "text": [
      "Trade times in sample: 117944 Trade times out sample: 118034\n",
      "Trial 154 finished with values: [2.1937259783074934, 0.838693811657212] and parameters: {0: 0, 1: 0, 2: 0, 3: 1, 4: 1, 5: 0, 6: 0, 7: 0, 8: 0, 9: 1, 10: 1, 11: 1, 12: 0, 13: 1, 14: 1}. \n"
     ]
    },
    {
     "name": "stderr",
     "output_type": "stream",
     "text": [
      "[I 2024-07-01 14:38:45,354] Trial 155 finished with values: [1.7612956431368363, 1.5240151917514209] and parameters: {0: 1, 1: 0, 2: 1, 3: 1, 4: 1, 5: 0, 6: 0, 7: 1, 8: 0, 9: 1, 10: 0, 11: 1, 12: 1, 13: 1, 14: 1}. \n"
     ]
    },
    {
     "name": "stdout",
     "output_type": "stream",
     "text": [
      "Trade times in sample: 117944 Trade times out sample: 118024\n",
      "Trial 155 finished with values: [1.7612956431368363, 1.5240151917514209] and parameters: {0: 1, 1: 0, 2: 1, 3: 1, 4: 1, 5: 0, 6: 0, 7: 1, 8: 0, 9: 1, 10: 0, 11: 1, 12: 1, 13: 1, 14: 1}. \n"
     ]
    },
    {
     "name": "stderr",
     "output_type": "stream",
     "text": [
      "[I 2024-07-01 14:39:10,457] Trial 156 finished with values: [-1.1841103839022027, 2.0032499480325776] and parameters: {0: 1, 1: 0, 2: 1, 3: 0, 4: 1, 5: 1, 6: 1, 7: 0, 8: 0, 9: 0, 10: 1, 11: 0, 12: 0, 13: 1, 14: 0}. \n"
     ]
    },
    {
     "name": "stdout",
     "output_type": "stream",
     "text": [
      "Trade times in sample: 117833 Trade times out sample: 117569\n",
      "Trial 156 finished with values: [-1.1841103839022027, 2.0032499480325776] and parameters: {0: 1, 1: 0, 2: 1, 3: 0, 4: 1, 5: 1, 6: 1, 7: 0, 8: 0, 9: 0, 10: 1, 11: 0, 12: 0, 13: 1, 14: 0}. \n"
     ]
    },
    {
     "name": "stderr",
     "output_type": "stream",
     "text": [
      "[I 2024-07-01 14:39:44,578] Trial 157 finished with values: [2.2774404100373533, 0.6014129519159843] and parameters: {0: 1, 1: 0, 2: 0, 3: 0, 4: 1, 5: 0, 6: 0, 7: 1, 8: 0, 9: 1, 10: 0, 11: 1, 12: 1, 13: 1, 14: 1}. \n"
     ]
    },
    {
     "name": "stdout",
     "output_type": "stream",
     "text": [
      "Trade times in sample: 117944 Trade times out sample: 118044\n",
      "Trial 157 finished with values: [2.2774404100373533, 0.6014129519159843] and parameters: {0: 1, 1: 0, 2: 0, 3: 0, 4: 1, 5: 0, 6: 0, 7: 1, 8: 0, 9: 1, 10: 0, 11: 1, 12: 1, 13: 1, 14: 1}. \n"
     ]
    },
    {
     "name": "stderr",
     "output_type": "stream",
     "text": [
      "[I 2024-07-01 14:40:08,248] Trial 158 finished with values: [1.4088471497050028, 1.982664524412427] and parameters: {0: 0, 1: 1, 2: 0, 3: 0, 4: 1, 5: 0, 6: 0, 7: 0, 8: 1, 9: 1, 10: 0, 11: 0, 12: 0, 13: 1, 14: 1}. \n"
     ]
    },
    {
     "name": "stdout",
     "output_type": "stream",
     "text": [
      "Trade times in sample: 117944 Trade times out sample: 118034\n",
      "Trial 158 finished with values: [1.4088471497050028, 1.982664524412427] and parameters: {0: 0, 1: 1, 2: 0, 3: 0, 4: 1, 5: 0, 6: 0, 7: 0, 8: 1, 9: 1, 10: 0, 11: 0, 12: 0, 13: 1, 14: 1}. \n"
     ]
    },
    {
     "name": "stderr",
     "output_type": "stream",
     "text": [
      "[I 2024-07-01 14:40:19,722] Trial 159 finished with values: [1.343186935598619, 2.2250051065473992] and parameters: {0: 0, 1: 0, 2: 0, 3: 1, 4: 1, 5: 0, 6: 1, 7: 0, 8: 0, 9: 0, 10: 0, 11: 0, 12: 1, 13: 0, 14: 1}. \n"
     ]
    },
    {
     "name": "stdout",
     "output_type": "stream",
     "text": [
      "Trade times in sample: 117944 Trade times out sample: 118024\n",
      "Trial 159 finished with values: [1.343186935598619, 2.2250051065473992] and parameters: {0: 0, 1: 0, 2: 0, 3: 1, 4: 1, 5: 0, 6: 1, 7: 0, 8: 0, 9: 0, 10: 0, 11: 0, 12: 1, 13: 0, 14: 1}. \n"
     ]
    },
    {
     "name": "stderr",
     "output_type": "stream",
     "text": [
      "[I 2024-07-01 14:40:39,816] Trial 160 finished with values: [-1.7520771564327917, 0.3142158887551916] and parameters: {0: 0, 1: 0, 2: 1, 3: 0, 4: 1, 5: 1, 6: 1, 7: 1, 8: 0, 9: 0, 10: 0, 11: 0, 12: 0, 13: 0, 14: 0}. \n"
     ]
    },
    {
     "name": "stdout",
     "output_type": "stream",
     "text": [
      "Trade times in sample: 118646 Trade times out sample: 117101\n",
      "Trial 160 finished with values: [-1.7520771564327917, 0.3142158887551916] and parameters: {0: 0, 1: 0, 2: 1, 3: 0, 4: 1, 5: 1, 6: 1, 7: 1, 8: 0, 9: 0, 10: 0, 11: 0, 12: 0, 13: 0, 14: 0}. \n"
     ]
    },
    {
     "name": "stderr",
     "output_type": "stream",
     "text": [
      "[I 2024-07-01 14:41:04,359] Trial 161 finished with values: [1.1624776300518251, 2.8321347343231875] and parameters: {0: 1, 1: 0, 2: 0, 3: 0, 4: 1, 5: 1, 6: 1, 7: 0, 8: 1, 9: 0, 10: 0, 11: 1, 12: 0, 13: 1, 14: 1}. \n"
     ]
    },
    {
     "name": "stdout",
     "output_type": "stream",
     "text": [
      "Trade times in sample: 117944 Trade times out sample: 118034\n",
      "Trial 161 finished with values: [1.1624776300518251, 2.8321347343231875] and parameters: {0: 1, 1: 0, 2: 0, 3: 0, 4: 1, 5: 1, 6: 1, 7: 0, 8: 1, 9: 0, 10: 0, 11: 1, 12: 0, 13: 1, 14: 1}. \n"
     ]
    },
    {
     "name": "stderr",
     "output_type": "stream",
     "text": [
      "[I 2024-07-01 14:41:30,315] Trial 162 finished with values: [2.079407528601094, 1.0150419695794355] and parameters: {0: 1, 1: 1, 2: 0, 3: 0, 4: 1, 5: 0, 6: 1, 7: 0, 8: 0, 9: 1, 10: 1, 11: 0, 12: 0, 13: 1, 14: 1}. \n"
     ]
    },
    {
     "name": "stdout",
     "output_type": "stream",
     "text": [
      "Trade times in sample: 117944 Trade times out sample: 118025\n",
      "Trial 162 finished with values: [2.079407528601094, 1.0150419695794355] and parameters: {0: 1, 1: 1, 2: 0, 3: 0, 4: 1, 5: 0, 6: 1, 7: 0, 8: 0, 9: 1, 10: 1, 11: 0, 12: 0, 13: 1, 14: 1}. \n"
     ]
    },
    {
     "name": "stderr",
     "output_type": "stream",
     "text": [
      "[I 2024-07-01 14:42:00,695] Trial 163 finished with values: [1.4234065879797486, 1.70355120573099] and parameters: {0: 0, 1: 1, 2: 0, 3: 1, 4: 0, 5: 0, 6: 1, 7: 1, 8: 1, 9: 1, 10: 0, 11: 1, 12: 0, 13: 1, 14: 1}. \n"
     ]
    },
    {
     "name": "stdout",
     "output_type": "stream",
     "text": [
      "Trade times in sample: 117944 Trade times out sample: 118024\n",
      "Trial 163 finished with values: [1.4234065879797486, 1.70355120573099] and parameters: {0: 0, 1: 1, 2: 0, 3: 1, 4: 0, 5: 0, 6: 1, 7: 1, 8: 1, 9: 1, 10: 0, 11: 1, 12: 0, 13: 1, 14: 1}. \n"
     ]
    },
    {
     "name": "stderr",
     "output_type": "stream",
     "text": [
      "[I 2024-07-01 14:42:14,196] Trial 164 finished with values: [2.0311311667369476, 0.6521362394395429] and parameters: {0: 1, 1: 1, 2: 0, 3: 0, 4: 1, 5: 0, 6: 0, 7: 0, 8: 0, 9: 0, 10: 0, 11: 1, 12: 0, 13: 0, 14: 1}. \n"
     ]
    },
    {
     "name": "stdout",
     "output_type": "stream",
     "text": [
      "Trade times in sample: 117944 Trade times out sample: 118024\n",
      "Trial 164 finished with values: [2.0311311667369476, 0.6521362394395429] and parameters: {0: 1, 1: 1, 2: 0, 3: 0, 4: 1, 5: 0, 6: 0, 7: 0, 8: 0, 9: 0, 10: 0, 11: 1, 12: 0, 13: 0, 14: 1}. \n"
     ]
    },
    {
     "name": "stderr",
     "output_type": "stream",
     "text": [
      "[I 2024-07-01 14:42:55,931] Trial 165 finished with values: [0.6464757883551137, 5.7784502420804165] and parameters: {0: 0, 1: 0, 2: 1, 3: 0, 4: 1, 5: 1, 6: 1, 7: 1, 8: 0, 9: 1, 10: 1, 11: 0, 12: 1, 13: 1, 14: 1}. \n"
     ]
    },
    {
     "name": "stdout",
     "output_type": "stream",
     "text": [
      "Trade times in sample: 117944 Trade times out sample: 118034\n",
      "Trial 165 finished with values: [0.6464757883551137, 5.7784502420804165] and parameters: {0: 0, 1: 0, 2: 1, 3: 0, 4: 1, 5: 1, 6: 1, 7: 1, 8: 0, 9: 1, 10: 1, 11: 0, 12: 1, 13: 1, 14: 1}. \n"
     ]
    },
    {
     "name": "stderr",
     "output_type": "stream",
     "text": [
      "[W 2024-07-01 14:42:56,157] Trial 166 failed with parameters: {0: 1, 1: 0, 2: 0, 3: 0, 4: 1, 5: 0, 6: 0, 7: 1, 8: 0, 9: 1, 10: 0, 11: 1, 12: 1, 13: 1, 14: 1} because of the following error: The value nan is not acceptable.\n"
     ]
    },
    {
     "name": "stdout",
     "output_type": "stream",
     "text": [
      "Trial 166 failed with parameters: {0: 1, 1: 0, 2: 0, 3: 0, 4: 1, 5: 0, 6: 0, 7: 1, 8: 0, 9: 1, 10: 0, 11: 1, 12: 1, 13: 1, 14: 1} because of the following error: The value nan is not acceptable.\n"
     ]
    },
    {
     "name": "stderr",
     "output_type": "stream",
     "text": [
      "[W 2024-07-01 14:42:56,159] Trial 166 failed with value nan.\n"
     ]
    },
    {
     "name": "stdout",
     "output_type": "stream",
     "text": [
      "Trial 166 failed with value nan.\n"
     ]
    },
    {
     "name": "stderr",
     "output_type": "stream",
     "text": [
      "[I 2024-07-01 14:43:31,222] Trial 167 finished with values: [-1.6368960222115463, 0.9011664982652117] and parameters: {0: 1, 1: 1, 2: 1, 3: 0, 4: 0, 5: 0, 6: 1, 7: 1, 8: 0, 9: 1, 10: 1, 11: 1, 12: 1, 13: 0, 14: 0}. \n"
     ]
    },
    {
     "name": "stdout",
     "output_type": "stream",
     "text": [
      "Trade times in sample: 116968 Trade times out sample: 118045\n",
      "Trial 167 finished with values: [-1.6368960222115463, 0.9011664982652117] and parameters: {0: 1, 1: 1, 2: 1, 3: 0, 4: 0, 5: 0, 6: 1, 7: 1, 8: 0, 9: 1, 10: 1, 11: 1, 12: 1, 13: 0, 14: 0}. \n"
     ]
    },
    {
     "name": "stderr",
     "output_type": "stream",
     "text": [
      "[I 2024-07-01 14:43:56,168] Trial 168 finished with values: [0.41971093336749526, 8.076597000770539] and parameters: {0: 1, 1: 1, 2: 0, 3: 0, 4: 1, 5: 0, 6: 1, 7: 0, 8: 1, 9: 1, 10: 0, 11: 0, 12: 0, 13: 1, 14: 0}. \n"
     ]
    },
    {
     "name": "stdout",
     "output_type": "stream",
     "text": [
      "Trade times in sample: 117944 Trade times out sample: 118037\n",
      "Trial 168 finished with values: [0.41971093336749526, 8.076597000770539] and parameters: {0: 1, 1: 1, 2: 0, 3: 0, 4: 1, 5: 0, 6: 1, 7: 0, 8: 1, 9: 1, 10: 0, 11: 0, 12: 0, 13: 1, 14: 0}. \n"
     ]
    },
    {
     "name": "stderr",
     "output_type": "stream",
     "text": [
      "[I 2024-07-01 14:44:07,437] Trial 169 finished with values: [2.3519128660100783, 1.1863381051987298] and parameters: {0: 0, 1: 0, 2: 0, 3: 0, 4: 1, 5: 0, 6: 1, 7: 0, 8: 0, 9: 0, 10: 0, 11: 1, 12: 0, 13: 1, 14: 1}. \n"
     ]
    },
    {
     "name": "stdout",
     "output_type": "stream",
     "text": [
      "Trade times in sample: 117944 Trade times out sample: 118034\n",
      "Trial 169 finished with values: [2.3519128660100783, 1.1863381051987298] and parameters: {0: 0, 1: 0, 2: 0, 3: 0, 4: 1, 5: 0, 6: 1, 7: 0, 8: 0, 9: 0, 10: 0, 11: 1, 12: 0, 13: 1, 14: 1}. \n"
     ]
    },
    {
     "name": "stderr",
     "output_type": "stream",
     "text": [
      "[I 2024-07-01 14:44:35,201] Trial 170 finished with values: [1.2505436678809956, 1.8107336243239134] and parameters: {0: 1, 1: 0, 2: 1, 3: 1, 4: 1, 5: 0, 6: 1, 7: 0, 8: 0, 9: 1, 10: 0, 11: 0, 12: 1, 13: 0, 14: 1}. \n"
     ]
    },
    {
     "name": "stdout",
     "output_type": "stream",
     "text": [
      "Trade times in sample: 117944 Trade times out sample: 118024\n",
      "Trial 170 finished with values: [1.2505436678809956, 1.8107336243239134] and parameters: {0: 1, 1: 0, 2: 1, 3: 1, 4: 1, 5: 0, 6: 1, 7: 0, 8: 0, 9: 1, 10: 0, 11: 0, 12: 1, 13: 0, 14: 1}. \n"
     ]
    },
    {
     "name": "stderr",
     "output_type": "stream",
     "text": [
      "[W 2024-07-01 14:44:35,423] Trial 171 failed with parameters: {0: 1, 1: 1, 2: 0, 3: 0, 4: 1, 5: 0, 6: 0, 7: 0, 8: 0, 9: 0, 10: 0, 11: 0, 12: 0, 13: 0, 14: 1} because of the following error: The value nan is not acceptable.\n"
     ]
    },
    {
     "name": "stdout",
     "output_type": "stream",
     "text": [
      "Trial 171 failed with parameters: {0: 1, 1: 1, 2: 0, 3: 0, 4: 1, 5: 0, 6: 0, 7: 0, 8: 0, 9: 0, 10: 0, 11: 0, 12: 0, 13: 0, 14: 1} because of the following error: The value nan is not acceptable.\n"
     ]
    },
    {
     "name": "stderr",
     "output_type": "stream",
     "text": [
      "[W 2024-07-01 14:44:35,425] Trial 171 failed with value nan.\n"
     ]
    },
    {
     "name": "stdout",
     "output_type": "stream",
     "text": [
      "Trial 171 failed with value nan.\n"
     ]
    },
    {
     "name": "stderr",
     "output_type": "stream",
     "text": [
      "[I 2024-07-01 14:44:49,494] Trial 172 finished with values: [-1.564923623075795, 0.3748322365848009] and parameters: {0: 0, 1: 0, 2: 1, 3: 1, 4: 1, 5: 0, 6: 1, 7: 0, 8: 0, 9: 1, 10: 1, 11: 1, 12: 0, 13: 0, 14: 0}. \n"
     ]
    },
    {
     "name": "stdout",
     "output_type": "stream",
     "text": [
      "Trade times in sample: 118260 Trade times out sample: 117103\n",
      "Trial 172 finished with values: [-1.564923623075795, 0.3748322365848009] and parameters: {0: 0, 1: 0, 2: 1, 3: 1, 4: 1, 5: 0, 6: 1, 7: 0, 8: 0, 9: 1, 10: 1, 11: 1, 12: 0, 13: 0, 14: 0}. \n"
     ]
    },
    {
     "name": "stderr",
     "output_type": "stream",
     "text": [
      "[I 2024-07-01 14:45:08,761] Trial 173 finished with values: [2.618676772591267, 0.6311407670836191] and parameters: {0: 1, 1: 1, 2: 0, 3: 0, 4: 0, 5: 0, 6: 0, 7: 0, 8: 0, 9: 0, 10: 0, 11: 0, 12: 0, 13: 1, 14: 1}. \n"
     ]
    },
    {
     "name": "stdout",
     "output_type": "stream",
     "text": [
      "Trade times in sample: 117944 Trade times out sample: 118035\n",
      "Trial 173 finished with values: [2.618676772591267, 0.6311407670836191] and parameters: {0: 1, 1: 1, 2: 0, 3: 0, 4: 0, 5: 0, 6: 0, 7: 0, 8: 0, 9: 0, 10: 0, 11: 0, 12: 0, 13: 1, 14: 1}. \n"
     ]
    },
    {
     "name": "stderr",
     "output_type": "stream",
     "text": [
      "[I 2024-07-01 14:45:34,103] Trial 174 finished with values: [1.7350695907896942, 1.5194690342216237] and parameters: {0: 1, 1: 1, 2: 0, 3: 0, 4: 1, 5: 1, 6: 0, 7: 0, 8: 0, 9: 0, 10: 0, 11: 0, 12: 0, 13: 1, 14: 1}. \n"
     ]
    },
    {
     "name": "stdout",
     "output_type": "stream",
     "text": [
      "Trade times in sample: 117944 Trade times out sample: 118045\n",
      "Trial 174 finished with values: [1.7350695907896942, 1.5194690342216237] and parameters: {0: 1, 1: 1, 2: 0, 3: 0, 4: 1, 5: 1, 6: 0, 7: 0, 8: 0, 9: 0, 10: 0, 11: 0, 12: 0, 13: 1, 14: 1}. \n"
     ]
    },
    {
     "name": "stderr",
     "output_type": "stream",
     "text": [
      "[I 2024-07-01 14:45:52,122] Trial 175 finished with values: [-1.712637568705268, 0.4767680990237031] and parameters: {0: 1, 1: 0, 2: 1, 3: 0, 4: 0, 5: 1, 6: 0, 7: 0, 8: 0, 9: 0, 10: 0, 11: 1, 12: 0, 13: 0, 14: 0}. \n"
     ]
    },
    {
     "name": "stdout",
     "output_type": "stream",
     "text": [
      "Trade times in sample: 117822 Trade times out sample: 117584\n",
      "Trial 175 finished with values: [-1.712637568705268, 0.4767680990237031] and parameters: {0: 1, 1: 0, 2: 1, 3: 0, 4: 0, 5: 1, 6: 0, 7: 0, 8: 0, 9: 0, 10: 0, 11: 1, 12: 0, 13: 0, 14: 0}. \n"
     ]
    },
    {
     "name": "stderr",
     "output_type": "stream",
     "text": [
      "[I 2024-07-01 14:46:03,709] Trial 176 finished with values: [-0.6977226327763021, 2.120875157532945] and parameters: {0: 0, 1: 1, 2: 0, 3: 0, 4: 0, 5: 0, 6: 0, 7: 1, 8: 0, 9: 0, 10: 0, 11: 0, 12: 0, 13: 0, 14: 0}. \n"
     ]
    },
    {
     "name": "stdout",
     "output_type": "stream",
     "text": [
      "Trade times in sample: 118464 Trade times out sample: 116091\n",
      "Trial 176 finished with values: [-0.6977226327763021, 2.120875157532945] and parameters: {0: 0, 1: 1, 2: 0, 3: 0, 4: 0, 5: 0, 6: 0, 7: 1, 8: 0, 9: 0, 10: 0, 11: 0, 12: 0, 13: 0, 14: 0}. \n"
     ]
    },
    {
     "name": "stderr",
     "output_type": "stream",
     "text": [
      "[I 2024-07-01 14:46:38,184] Trial 177 finished with values: [-0.9886450393649634, 1.9799627277980818] and parameters: {0: 1, 1: 1, 2: 1, 3: 1, 4: 1, 5: 1, 6: 1, 7: 1, 8: 0, 9: 0, 10: 1, 11: 1, 12: 0, 13: 1, 14: 0}. \n"
     ]
    },
    {
     "name": "stdout",
     "output_type": "stream",
     "text": [
      "Trade times in sample: 114546 Trade times out sample: 117551\n",
      "Trial 177 finished with values: [-0.9886450393649634, 1.9799627277980818] and parameters: {0: 1, 1: 1, 2: 1, 3: 1, 4: 1, 5: 1, 6: 1, 7: 1, 8: 0, 9: 0, 10: 1, 11: 1, 12: 0, 13: 1, 14: 0}. \n"
     ]
    },
    {
     "name": "stderr",
     "output_type": "stream",
     "text": [
      "[I 2024-07-01 14:47:04,101] Trial 178 finished with values: [-1.199871593484449, 0.7555085581570669] and parameters: {0: 0, 1: 0, 2: 1, 3: 1, 4: 1, 5: 1, 6: 1, 7: 1, 8: 0, 9: 1, 10: 0, 11: 0, 12: 0, 13: 0, 14: 0}. \n"
     ]
    },
    {
     "name": "stdout",
     "output_type": "stream",
     "text": [
      "Trade times in sample: 114768 Trade times out sample: 116040\n",
      "Trial 178 finished with values: [-1.199871593484449, 0.7555085581570669] and parameters: {0: 0, 1: 0, 2: 1, 3: 1, 4: 1, 5: 1, 6: 1, 7: 1, 8: 0, 9: 1, 10: 0, 11: 0, 12: 0, 13: 0, 14: 0}. \n"
     ]
    },
    {
     "name": "stderr",
     "output_type": "stream",
     "text": [
      "[I 2024-07-01 14:47:17,885] Trial 179 finished with values: [-0.3501758419238605, 4.886544756965536] and parameters: {0: 0, 1: 0, 2: 0, 3: 0, 4: 0, 5: 0, 6: 1, 7: 1, 8: 0, 9: 1, 10: 0, 11: 1, 12: 0, 13: 0, 14: 0}. \n"
     ]
    },
    {
     "name": "stdout",
     "output_type": "stream",
     "text": [
      "Trade times in sample: 117875 Trade times out sample: 116108\n",
      "Trial 179 finished with values: [-0.3501758419238605, 4.886544756965536] and parameters: {0: 0, 1: 0, 2: 0, 3: 0, 4: 0, 5: 0, 6: 1, 7: 1, 8: 0, 9: 1, 10: 0, 11: 1, 12: 0, 13: 0, 14: 0}. \n"
     ]
    },
    {
     "name": "stderr",
     "output_type": "stream",
     "text": [
      "[W 2024-07-01 14:47:18,120] Trial 180 failed with parameters: {0: 1, 1: 1, 2: 0, 3: 0, 4: 1, 5: 0, 6: 0, 7: 0, 8: 0, 9: 0, 10: 1, 11: 0, 12: 0, 13: 0, 14: 1} because of the following error: The value nan is not acceptable.\n"
     ]
    },
    {
     "name": "stdout",
     "output_type": "stream",
     "text": [
      "Trial 180 failed with parameters: {0: 1, 1: 1, 2: 0, 3: 0, 4: 1, 5: 0, 6: 0, 7: 0, 8: 0, 9: 0, 10: 1, 11: 0, 12: 0, 13: 0, 14: 1} because of the following error: The value nan is not acceptable.\n"
     ]
    },
    {
     "name": "stderr",
     "output_type": "stream",
     "text": [
      "[W 2024-07-01 14:47:18,122] Trial 180 failed with value nan.\n"
     ]
    },
    {
     "name": "stdout",
     "output_type": "stream",
     "text": [
      "Trial 180 failed with value nan.\n"
     ]
    },
    {
     "name": "stderr",
     "output_type": "stream",
     "text": [
      "[I 2024-07-01 14:47:42,748] Trial 181 finished with values: [-2.120938801631143, 0.5134872800487718] and parameters: {0: 1, 1: 0, 2: 1, 3: 1, 4: 1, 5: 1, 6: 1, 7: 0, 8: 0, 9: 0, 10: 0, 11: 1, 12: 0, 13: 1, 14: 0}. \n"
     ]
    },
    {
     "name": "stdout",
     "output_type": "stream",
     "text": [
      "Trade times in sample: 118077 Trade times out sample: 118065\n",
      "Trial 181 finished with values: [-2.120938801631143, 0.5134872800487718] and parameters: {0: 1, 1: 0, 2: 1, 3: 1, 4: 1, 5: 1, 6: 1, 7: 0, 8: 0, 9: 0, 10: 0, 11: 1, 12: 0, 13: 1, 14: 0}. \n"
     ]
    },
    {
     "name": "stderr",
     "output_type": "stream",
     "text": [
      "[I 2024-07-01 14:48:06,755] Trial 182 finished with values: [1.9372449198865487, 1.4319080810824674] and parameters: {0: 0, 1: 0, 2: 0, 3: 1, 4: 1, 5: 1, 6: 1, 7: 0, 8: 0, 9: 1, 10: 1, 11: 1, 12: 0, 13: 1, 14: 1}. \n"
     ]
    },
    {
     "name": "stdout",
     "output_type": "stream",
     "text": [
      "Trade times in sample: 117944 Trade times out sample: 118045\n",
      "Trial 182 finished with values: [1.9372449198865487, 1.4319080810824674] and parameters: {0: 0, 1: 0, 2: 0, 3: 1, 4: 1, 5: 1, 6: 1, 7: 0, 8: 0, 9: 1, 10: 1, 11: 1, 12: 0, 13: 1, 14: 1}. \n"
     ]
    },
    {
     "name": "stderr",
     "output_type": "stream",
     "text": [
      "[I 2024-07-01 14:48:25,175] Trial 183 finished with values: [-0.14905856285977326, 23.586540682144] and parameters: {0: 1, 1: 1, 2: 0, 3: 0, 4: 1, 5: 0, 6: 0, 7: 0, 8: 1, 9: 0, 10: 1, 11: 1, 12: 0, 13: 1, 14: 0}. \n"
     ]
    },
    {
     "name": "stdout",
     "output_type": "stream",
     "text": [
      "Trade times in sample: 117944 Trade times out sample: 118037\n",
      "Trial 183 finished with values: [-0.14905856285977326, 23.586540682144] and parameters: {0: 1, 1: 1, 2: 0, 3: 0, 4: 1, 5: 0, 6: 0, 7: 0, 8: 1, 9: 0, 10: 1, 11: 1, 12: 0, 13: 1, 14: 0}. \n"
     ]
    },
    {
     "name": "stderr",
     "output_type": "stream",
     "text": [
      "[I 2024-07-01 14:48:30,030] Trial 184 finished with values: [1.8059890222580517, 0.8046419915182348] and parameters: {0: 0, 1: 0, 2: 0, 3: 0, 4: 1, 5: 0, 6: 0, 7: 0, 8: 0, 9: 0, 10: 1, 11: 1, 12: 0, 13: 0, 14: 1}. \n"
     ]
    },
    {
     "name": "stdout",
     "output_type": "stream",
     "text": [
      "Trade times in sample: 117944 Trade times out sample: 118024\n",
      "Trial 184 finished with values: [1.8059890222580517, 0.8046419915182348] and parameters: {0: 0, 1: 0, 2: 0, 3: 0, 4: 1, 5: 0, 6: 0, 7: 0, 8: 0, 9: 0, 10: 1, 11: 1, 12: 0, 13: 0, 14: 1}. \n"
     ]
    },
    {
     "name": "stderr",
     "output_type": "stream",
     "text": [
      "[I 2024-07-01 14:48:47,232] Trial 185 finished with values: [1.1600264886814966, 2.405655698065861] and parameters: {0: 0, 1: 0, 2: 1, 3: 0, 4: 1, 5: 0, 6: 0, 7: 0, 8: 0, 9: 0, 10: 1, 11: 1, 12: 1, 13: 0, 14: 1}. \n"
     ]
    },
    {
     "name": "stdout",
     "output_type": "stream",
     "text": [
      "Trade times in sample: 117944 Trade times out sample: 118024\n",
      "Trial 185 finished with values: [1.1600264886814966, 2.405655698065861] and parameters: {0: 0, 1: 0, 2: 1, 3: 0, 4: 1, 5: 0, 6: 0, 7: 0, 8: 0, 9: 0, 10: 1, 11: 1, 12: 1, 13: 0, 14: 1}. \n"
     ]
    },
    {
     "name": "stderr",
     "output_type": "stream",
     "text": [
      "[W 2024-07-01 14:48:47,475] Trial 186 failed with parameters: {0: 1, 1: 1, 2: 0, 3: 0, 4: 1, 5: 1, 6: 1, 7: 0, 8: 0, 9: 0, 10: 0, 11: 0, 12: 0, 13: 1, 14: 1} because of the following error: The value nan is not acceptable.\n"
     ]
    },
    {
     "name": "stdout",
     "output_type": "stream",
     "text": [
      "Trial 186 failed with parameters: {0: 1, 1: 1, 2: 0, 3: 0, 4: 1, 5: 1, 6: 1, 7: 0, 8: 0, 9: 0, 10: 0, 11: 0, 12: 0, 13: 1, 14: 1} because of the following error: The value nan is not acceptable.\n"
     ]
    },
    {
     "name": "stderr",
     "output_type": "stream",
     "text": [
      "[W 2024-07-01 14:48:47,477] Trial 186 failed with value nan.\n"
     ]
    },
    {
     "name": "stdout",
     "output_type": "stream",
     "text": [
      "Trial 186 failed with value nan.\n"
     ]
    },
    {
     "name": "stderr",
     "output_type": "stream",
     "text": [
      "[I 2024-07-01 14:49:03,670] Trial 187 finished with values: [-0.851507509786389, 2.0015098715461397] and parameters: {0: 0, 1: 0, 2: 1, 3: 1, 4: 1, 5: 0, 6: 1, 7: 1, 8: 1, 9: 0, 10: 0, 11: 0, 12: 0, 13: 0, 14: 0}. \n"
     ]
    },
    {
     "name": "stdout",
     "output_type": "stream",
     "text": [
      "Trade times in sample: 118645 Trade times out sample: 116670\n",
      "Trial 187 finished with values: [-0.851507509786389, 2.0015098715461397] and parameters: {0: 0, 1: 0, 2: 1, 3: 1, 4: 1, 5: 0, 6: 1, 7: 1, 8: 1, 9: 0, 10: 0, 11: 0, 12: 0, 13: 0, 14: 0}. \n"
     ]
    },
    {
     "name": "stderr",
     "output_type": "stream",
     "text": [
      "[I 2024-07-01 14:49:41,752] Trial 188 finished with values: [0.5983810844466299, 5.781084688391996] and parameters: {0: 1, 1: 1, 2: 1, 3: 1, 4: 1, 5: 0, 6: 1, 7: 1, 8: 0, 9: 1, 10: 1, 11: 0, 12: 0, 13: 1, 14: 1}. \n"
     ]
    },
    {
     "name": "stdout",
     "output_type": "stream",
     "text": [
      "Trade times in sample: 117944 Trade times out sample: 118026\n",
      "Trial 188 finished with values: [0.5983810844466299, 5.781084688391996] and parameters: {0: 1, 1: 1, 2: 1, 3: 1, 4: 1, 5: 0, 6: 1, 7: 1, 8: 0, 9: 1, 10: 1, 11: 0, 12: 0, 13: 1, 14: 1}. \n"
     ]
    },
    {
     "name": "stderr",
     "output_type": "stream",
     "text": [
      "[I 2024-07-01 14:49:59,560] Trial 189 finished with values: [-0.7020737536190178, 3.904698176010787] and parameters: {0: 0, 1: 1, 2: 0, 3: 0, 4: 1, 5: 0, 6: 0, 7: 1, 8: 0, 9: 0, 10: 0, 11: 0, 12: 0, 13: 1, 14: 0}. \n"
     ]
    },
    {
     "name": "stdout",
     "output_type": "stream",
     "text": [
      "Trade times in sample: 115260 Trade times out sample: 117567\n",
      "Trial 189 finished with values: [-0.7020737536190178, 3.904698176010787] and parameters: {0: 0, 1: 1, 2: 0, 3: 0, 4: 1, 5: 0, 6: 0, 7: 1, 8: 0, 9: 0, 10: 0, 11: 0, 12: 0, 13: 1, 14: 0}. \n"
     ]
    },
    {
     "name": "stderr",
     "output_type": "stream",
     "text": [
      "[I 2024-07-01 14:50:19,749] Trial 190 finished with values: [-1.2376618203077934, 0.984743799710935] and parameters: {0: 0, 1: 1, 2: 0, 3: 1, 4: 1, 5: 1, 6: 0, 7: 1, 8: 1, 9: 0, 10: 1, 11: 0, 12: 0, 13: 0, 14: 0}. \n"
     ]
    },
    {
     "name": "stdout",
     "output_type": "stream",
     "text": [
      "Trade times in sample: 117944 Trade times out sample: 118097\n",
      "Trial 190 finished with values: [-1.2376618203077934, 0.984743799710935] and parameters: {0: 0, 1: 1, 2: 0, 3: 1, 4: 1, 5: 1, 6: 0, 7: 1, 8: 1, 9: 0, 10: 1, 11: 0, 12: 0, 13: 0, 14: 0}. \n"
     ]
    },
    {
     "name": "stderr",
     "output_type": "stream",
     "text": [
      "[I 2024-07-01 14:50:46,039] Trial 191 finished with values: [-1.2295203046721184, 1.1099829028793011] and parameters: {0: 0, 1: 1, 2: 1, 3: 0, 4: 0, 5: 1, 6: 1, 7: 0, 8: 1, 9: 0, 10: 0, 11: 1, 12: 0, 13: 1, 14: 0}. \n"
     ]
    },
    {
     "name": "stdout",
     "output_type": "stream",
     "text": [
      "Trade times in sample: 117937 Trade times out sample: 118024\n",
      "Trial 191 finished with values: [-1.2295203046721184, 1.1099829028793011] and parameters: {0: 0, 1: 1, 2: 1, 3: 0, 4: 0, 5: 1, 6: 1, 7: 0, 8: 1, 9: 0, 10: 0, 11: 1, 12: 0, 13: 1, 14: 0}. \n"
     ]
    },
    {
     "name": "stderr",
     "output_type": "stream",
     "text": [
      "[I 2024-07-01 14:51:04,898] Trial 192 finished with values: [0.8355132355929402, 4.047959177808376] and parameters: {0: 1, 1: 0, 2: 0, 3: 0, 4: 1, 5: 0, 6: 1, 7: 1, 8: 0, 9: 0, 10: 1, 11: 1, 12: 1, 13: 0, 14: 0}. \n"
     ]
    },
    {
     "name": "stdout",
     "output_type": "stream",
     "text": [
      "Trade times in sample: 118650 Trade times out sample: 118046\n",
      "Trial 192 finished with values: [0.8355132355929402, 4.047959177808376] and parameters: {0: 1, 1: 0, 2: 0, 3: 0, 4: 1, 5: 0, 6: 1, 7: 1, 8: 0, 9: 0, 10: 1, 11: 1, 12: 1, 13: 0, 14: 0}. \n"
     ]
    },
    {
     "name": "stderr",
     "output_type": "stream",
     "text": [
      "[I 2024-07-01 14:51:49,673] Trial 193 finished with values: [0.7981749250342943, 4.133176035700804] and parameters: {0: 1, 1: 1, 2: 1, 3: 1, 4: 0, 5: 0, 6: 1, 7: 1, 8: 0, 9: 1, 10: 0, 11: 1, 12: 1, 13: 1, 14: 1}. \n"
     ]
    },
    {
     "name": "stdout",
     "output_type": "stream",
     "text": [
      "Trade times in sample: 117805 Trade times out sample: 118024\n",
      "Trial 193 finished with values: [0.7981749250342943, 4.133176035700804] and parameters: {0: 1, 1: 1, 2: 1, 3: 1, 4: 0, 5: 0, 6: 1, 7: 1, 8: 0, 9: 1, 10: 0, 11: 1, 12: 1, 13: 1, 14: 1}. \n"
     ]
    },
    {
     "name": "stderr",
     "output_type": "stream",
     "text": [
      "[I 2024-07-01 14:52:08,832] Trial 194 finished with values: [-0.5656220609875482, 2.2200155058671043] and parameters: {0: 1, 1: 1, 2: 0, 3: 1, 4: 1, 5: 0, 6: 0, 7: 0, 8: 1, 9: 1, 10: 1, 11: 1, 12: 0, 13: 0, 14: 0}. \n"
     ]
    },
    {
     "name": "stdout",
     "output_type": "stream",
     "text": [
      "Trade times in sample: 117944 Trade times out sample: 118024\n",
      "Trial 194 finished with values: [-0.5656220609875482, 2.2200155058671043] and parameters: {0: 1, 1: 1, 2: 0, 3: 1, 4: 1, 5: 0, 6: 0, 7: 0, 8: 1, 9: 1, 10: 1, 11: 1, 12: 0, 13: 0, 14: 0}. \n"
     ]
    },
    {
     "name": "stderr",
     "output_type": "stream",
     "text": [
      "[I 2024-07-01 14:52:28,638] Trial 195 finished with values: [2.1883146965820517, 0.4420654705110907] and parameters: {0: 1, 1: 1, 2: 0, 3: 0, 4: 0, 5: 0, 6: 0, 7: 0, 8: 0, 9: 1, 10: 0, 11: 1, 12: 0, 13: 0, 14: 1}. \n"
     ]
    },
    {
     "name": "stdout",
     "output_type": "stream",
     "text": [
      "Trade times in sample: 117944 Trade times out sample: 118024\n",
      "Trial 195 finished with values: [2.1883146965820517, 0.4420654705110907] and parameters: {0: 1, 1: 1, 2: 0, 3: 0, 4: 0, 5: 0, 6: 0, 7: 0, 8: 0, 9: 1, 10: 0, 11: 1, 12: 0, 13: 0, 14: 1}. \n"
     ]
    },
    {
     "name": "stderr",
     "output_type": "stream",
     "text": [
      "[I 2024-07-01 14:53:05,819] Trial 196 finished with values: [-2.0521508682856293, 0.7751744732205037] and parameters: {0: 1, 1: 0, 2: 1, 3: 0, 4: 0, 5: 0, 6: 0, 7: 1, 8: 0, 9: 1, 10: 1, 11: 1, 12: 1, 13: 1, 14: 0}. \n"
     ]
    },
    {
     "name": "stdout",
     "output_type": "stream",
     "text": [
      "Trade times in sample: 117822 Trade times out sample: 117549\n",
      "Trial 196 finished with values: [-2.0521508682856293, 0.7751744732205037] and parameters: {0: 1, 1: 0, 2: 1, 3: 0, 4: 0, 5: 0, 6: 0, 7: 1, 8: 0, 9: 1, 10: 1, 11: 1, 12: 1, 13: 1, 14: 0}. \n"
     ]
    },
    {
     "name": "stderr",
     "output_type": "stream",
     "text": [
      "[I 2024-07-01 14:53:17,799] Trial 197 finished with values: [-0.6843961124502683, 3.894648520871379] and parameters: {0: 0, 1: 1, 2: 0, 3: 0, 4: 1, 5: 0, 6: 0, 7: 0, 8: 0, 9: 0, 10: 1, 11: 0, 12: 1, 13: 0, 14: 0}. \n"
     ]
    },
    {
     "name": "stdout",
     "output_type": "stream",
     "text": [
      "Trade times in sample: 117451 Trade times out sample: 118024\n",
      "Trial 197 finished with values: [-0.6843961124502683, 3.894648520871379] and parameters: {0: 0, 1: 1, 2: 0, 3: 0, 4: 1, 5: 0, 6: 0, 7: 0, 8: 0, 9: 0, 10: 1, 11: 0, 12: 1, 13: 0, 14: 0}. \n"
     ]
    },
    {
     "name": "stderr",
     "output_type": "stream",
     "text": [
      "[I 2024-07-01 14:53:46,057] Trial 198 finished with values: [2.1016444738409277, 1.0685513054279716] and parameters: {0: 0, 1: 1, 2: 0, 3: 0, 4: 1, 5: 0, 6: 1, 7: 1, 8: 0, 9: 1, 10: 0, 11: 0, 12: 0, 13: 1, 14: 1}. \n"
     ]
    },
    {
     "name": "stdout",
     "output_type": "stream",
     "text": [
      "Trade times in sample: 117944 Trade times out sample: 118034\n",
      "Trial 198 finished with values: [2.1016444738409277, 1.0685513054279716] and parameters: {0: 0, 1: 1, 2: 0, 3: 0, 4: 1, 5: 0, 6: 1, 7: 1, 8: 0, 9: 1, 10: 0, 11: 0, 12: 0, 13: 1, 14: 1}. \n"
     ]
    },
    {
     "name": "stderr",
     "output_type": "stream",
     "text": [
      "[W 2024-07-01 14:53:46,317] Trial 199 failed with parameters: {0: 1, 1: 1, 2: 0, 3: 0, 4: 1, 5: 0, 6: 1, 7: 0, 8: 1, 9: 0, 10: 0, 11: 0, 12: 0, 13: 1, 14: 1} because of the following error: The value nan is not acceptable.\n"
     ]
    },
    {
     "name": "stdout",
     "output_type": "stream",
     "text": [
      "Trial 199 failed with parameters: {0: 1, 1: 1, 2: 0, 3: 0, 4: 1, 5: 0, 6: 1, 7: 0, 8: 1, 9: 0, 10: 0, 11: 0, 12: 0, 13: 1, 14: 1} because of the following error: The value nan is not acceptable.\n"
     ]
    },
    {
     "name": "stderr",
     "output_type": "stream",
     "text": [
      "[W 2024-07-01 14:53:46,319] Trial 199 failed with value nan.\n"
     ]
    },
    {
     "name": "stdout",
     "output_type": "stream",
     "text": [
      "Trial 199 failed with value nan.\n"
     ]
    },
    {
     "name": "stderr",
     "output_type": "stream",
     "text": [
      "[I 2024-07-01 14:54:03,791] Trial 200 finished with values: [3.385017349839336, 0.35226621927038493] and parameters: {0: 0, 1: 0, 2: 0, 3: 0, 4: 0, 5: 0, 6: 0, 7: 0, 8: 0, 9: 0, 10: 0, 11: 1, 12: 1, 13: 1, 14: 1}. \n"
     ]
    },
    {
     "name": "stdout",
     "output_type": "stream",
     "text": [
      "Trade times in sample: 117805 Trade times out sample: 118034\n",
      "Trial 200 finished with values: [3.385017349839336, 0.35226621927038493] and parameters: {0: 0, 1: 0, 2: 0, 3: 0, 4: 0, 5: 0, 6: 0, 7: 0, 8: 0, 9: 0, 10: 0, 11: 1, 12: 1, 13: 1, 14: 1}. \n"
     ]
    },
    {
     "name": "stderr",
     "output_type": "stream",
     "text": [
      "[I 2024-07-01 14:54:28,471] Trial 201 finished with values: [-0.5117940706673716, 2.840229853762649] and parameters: {0: 0, 1: 1, 2: 1, 3: 0, 4: 0, 5: 0, 6: 1, 7: 1, 8: 0, 9: 1, 10: 1, 11: 1, 12: 0, 13: 0, 14: 0}. \n"
     ]
    },
    {
     "name": "stdout",
     "output_type": "stream",
     "text": [
      "Trade times in sample: 117700 Trade times out sample: 117072\n",
      "Trial 201 finished with values: [-0.5117940706673716, 2.840229853762649] and parameters: {0: 0, 1: 1, 2: 1, 3: 0, 4: 0, 5: 0, 6: 1, 7: 1, 8: 0, 9: 1, 10: 1, 11: 1, 12: 0, 13: 0, 14: 0}. \n"
     ]
    },
    {
     "name": "stderr",
     "output_type": "stream",
     "text": [
      "[I 2024-07-01 14:54:57,181] Trial 202 finished with values: [0.9903845543484913, 2.193303229903311] and parameters: {0: 1, 1: 1, 2: 0, 3: 0, 4: 1, 5: 1, 6: 0, 7: 0, 8: 0, 9: 1, 10: 1, 11: 1, 12: 0, 13: 1, 14: 0}. \n"
     ]
    },
    {
     "name": "stdout",
     "output_type": "stream",
     "text": [
      "Trade times in sample: 115260 Trade times out sample: 118045\n",
      "Trial 202 finished with values: [0.9903845543484913, 2.193303229903311] and parameters: {0: 1, 1: 1, 2: 0, 3: 0, 4: 1, 5: 1, 6: 0, 7: 0, 8: 0, 9: 1, 10: 1, 11: 1, 12: 0, 13: 1, 14: 0}. \n"
     ]
    },
    {
     "name": "stderr",
     "output_type": "stream",
     "text": [
      "[I 2024-07-01 14:55:26,936] Trial 203 finished with values: [1.9742057159174027, 1.3147256250542783] and parameters: {0: 0, 1: 0, 2: 1, 3: 1, 4: 0, 5: 0, 6: 0, 7: 0, 8: 0, 9: 1, 10: 1, 11: 1, 12: 1, 13: 1, 14: 1}. \n"
     ]
    },
    {
     "name": "stdout",
     "output_type": "stream",
     "text": [
      "Trade times in sample: 117805 Trade times out sample: 118034\n",
      "Trial 203 finished with values: [1.9742057159174027, 1.3147256250542783] and parameters: {0: 0, 1: 0, 2: 1, 3: 1, 4: 0, 5: 0, 6: 0, 7: 0, 8: 0, 9: 1, 10: 1, 11: 1, 12: 1, 13: 1, 14: 1}. \n"
     ]
    },
    {
     "name": "stderr",
     "output_type": "stream",
     "text": [
      "[I 2024-07-01 14:55:48,119] Trial 204 finished with values: [1.965228978873558, 1.275564381686522] and parameters: {0: 0, 1: 1, 2: 0, 3: 0, 4: 1, 5: 0, 6: 0, 7: 0, 8: 0, 9: 1, 10: 0, 11: 0, 12: 0, 13: 1, 14: 1}. \n"
     ]
    },
    {
     "name": "stdout",
     "output_type": "stream",
     "text": [
      "Trade times in sample: 117944 Trade times out sample: 118034\n",
      "Trial 204 finished with values: [1.965228978873558, 1.275564381686522] and parameters: {0: 0, 1: 1, 2: 0, 3: 0, 4: 1, 5: 0, 6: 0, 7: 0, 8: 0, 9: 1, 10: 0, 11: 0, 12: 0, 13: 1, 14: 1}. \n"
     ]
    },
    {
     "name": "stderr",
     "output_type": "stream",
     "text": [
      "[I 2024-07-01 14:56:22,394] Trial 205 finished with values: [0.38415196235384325, 8.927323551819018] and parameters: {0: 0, 1: 1, 2: 1, 3: 1, 4: 0, 5: 0, 6: 1, 7: 1, 8: 0, 9: 1, 10: 1, 11: 0, 12: 1, 13: 0, 14: 1}. \n"
     ]
    },
    {
     "name": "stdout",
     "output_type": "stream",
     "text": [
      "Trade times in sample: 117944 Trade times out sample: 118024\n",
      "Trial 205 finished with values: [0.38415196235384325, 8.927323551819018] and parameters: {0: 0, 1: 1, 2: 1, 3: 1, 4: 0, 5: 0, 6: 1, 7: 1, 8: 0, 9: 1, 10: 1, 11: 0, 12: 1, 13: 0, 14: 1}. \n"
     ]
    },
    {
     "name": "stderr",
     "output_type": "stream",
     "text": [
      "[I 2024-07-01 14:56:52,433] Trial 206 finished with values: [0.9050720604526, 3.6352895926392783] and parameters: {0: 0, 1: 0, 2: 1, 3: 1, 4: 1, 5: 1, 6: 1, 7: 1, 8: 0, 9: 0, 10: 1, 11: 0, 12: 1, 13: 0, 14: 1}. \n"
     ]
    },
    {
     "name": "stdout",
     "output_type": "stream",
     "text": [
      "Trade times in sample: 117944 Trade times out sample: 118024\n",
      "Trial 206 finished with values: [0.9050720604526, 3.6352895926392783] and parameters: {0: 0, 1: 0, 2: 1, 3: 1, 4: 1, 5: 1, 6: 1, 7: 1, 8: 0, 9: 0, 10: 1, 11: 0, 12: 1, 13: 0, 14: 1}. \n"
     ]
    },
    {
     "name": "stderr",
     "output_type": "stream",
     "text": [
      "[I 2024-07-01 14:57:25,354] Trial 207 finished with values: [0.21604102300017095, 13.885951214801242] and parameters: {0: 1, 1: 0, 2: 1, 3: 1, 4: 1, 5: 0, 6: 0, 7: 1, 8: 1, 9: 0, 10: 0, 11: 0, 12: 1, 13: 1, 14: 0}. \n"
     ]
    },
    {
     "name": "stdout",
     "output_type": "stream",
     "text": [
      "Trade times in sample: 118650 Trade times out sample: 118036\n",
      "Trial 207 finished with values: [0.21604102300017095, 13.885951214801242] and parameters: {0: 1, 1: 0, 2: 1, 3: 1, 4: 1, 5: 0, 6: 0, 7: 1, 8: 1, 9: 0, 10: 0, 11: 0, 12: 1, 13: 1, 14: 0}. \n"
     ]
    },
    {
     "name": "stderr",
     "output_type": "stream",
     "text": [
      "[I 2024-07-01 14:57:47,143] Trial 208 finished with values: [1.5782877123291974, 1.815568302130945] and parameters: {0: 0, 1: 1, 2: 0, 3: 1, 4: 1, 5: 0, 6: 1, 7: 1, 8: 0, 9: 0, 10: 0, 11: 1, 12: 0, 13: 1, 14: 1}. \n"
     ]
    },
    {
     "name": "stdout",
     "output_type": "stream",
     "text": [
      "Trade times in sample: 117944 Trade times out sample: 118024\n",
      "Trial 208 finished with values: [1.5782877123291974, 1.815568302130945] and parameters: {0: 0, 1: 1, 2: 0, 3: 1, 4: 1, 5: 0, 6: 1, 7: 1, 8: 0, 9: 0, 10: 0, 11: 1, 12: 0, 13: 1, 14: 1}. \n"
     ]
    },
    {
     "name": "stderr",
     "output_type": "stream",
     "text": [
      "[I 2024-07-01 14:58:23,520] Trial 209 finished with values: [-1.727113568397461, 0.6852728194758375] and parameters: {0: 0, 1: 1, 2: 1, 3: 1, 4: 0, 5: 0, 6: 1, 7: 1, 8: 0, 9: 1, 10: 1, 11: 1, 12: 1, 13: 1, 14: 0}. \n"
     ]
    },
    {
     "name": "stdout",
     "output_type": "stream",
     "text": [
      "Trade times in sample: 117832 Trade times out sample: 117549\n",
      "Trial 209 finished with values: [-1.727113568397461, 0.6852728194758375] and parameters: {0: 0, 1: 1, 2: 1, 3: 1, 4: 0, 5: 0, 6: 1, 7: 1, 8: 0, 9: 1, 10: 1, 11: 1, 12: 1, 13: 1, 14: 0}. \n"
     ]
    },
    {
     "name": "stderr",
     "output_type": "stream",
     "text": [
      "[I 2024-07-01 14:58:52,310] Trial 210 finished with values: [2.9051306167328965, 0.6391095863248057] and parameters: {0: 1, 1: 0, 2: 0, 3: 1, 4: 1, 5: 0, 6: 1, 7: 1, 8: 0, 9: 0, 10: 1, 11: 1, 12: 1, 13: 1, 14: 1}. \n"
     ]
    },
    {
     "name": "stdout",
     "output_type": "stream",
     "text": [
      "Trade times in sample: 118651 Trade times out sample: 118034\n",
      "Trial 210 finished with values: [2.9051306167328965, 0.6391095863248057] and parameters: {0: 1, 1: 0, 2: 0, 3: 1, 4: 1, 5: 0, 6: 1, 7: 1, 8: 0, 9: 0, 10: 1, 11: 1, 12: 1, 13: 1, 14: 1}. \n"
     ]
    },
    {
     "name": "stderr",
     "output_type": "stream",
     "text": [
      "[I 2024-07-01 14:59:20,625] Trial 211 finished with values: [0.20789740923611982, 20.80053025000558] and parameters: {0: 1, 1: 0, 2: 1, 3: 0, 4: 1, 5: 1, 6: 1, 7: 0, 8: 0, 9: 0, 10: 0, 11: 0, 12: 0, 13: 1, 14: 1}. \n"
     ]
    },
    {
     "name": "stdout",
     "output_type": "stream",
     "text": [
      "Trade times in sample: 117805 Trade times out sample: 118045\n",
      "Trial 211 finished with values: [0.20789740923611982, 20.80053025000558] and parameters: {0: 1, 1: 0, 2: 1, 3: 0, 4: 1, 5: 1, 6: 1, 7: 0, 8: 0, 9: 0, 10: 0, 11: 0, 12: 0, 13: 1, 14: 1}. \n"
     ]
    },
    {
     "name": "stderr",
     "output_type": "stream",
     "text": [
      "[I 2024-07-01 14:59:39,768] Trial 212 finished with values: [-0.24168099210362898, 15.464366279197609] and parameters: {0: 1, 1: 0, 2: 0, 3: 0, 4: 1, 5: 0, 6: 1, 7: 0, 8: 0, 9: 1, 10: 1, 11: 1, 12: 0, 13: 1, 14: 0}. \n"
     ]
    },
    {
     "name": "stdout",
     "output_type": "stream",
     "text": [
      "Trade times in sample: 116142 Trade times out sample: 118037\n",
      "Trial 212 finished with values: [-0.24168099210362898, 15.464366279197609] and parameters: {0: 1, 1: 0, 2: 0, 3: 0, 4: 1, 5: 0, 6: 1, 7: 0, 8: 0, 9: 1, 10: 1, 11: 1, 12: 0, 13: 1, 14: 0}. \n"
     ]
    }
   ],
   "source": [
    "\"\"\"## Define number of trials (no 2)\"\"\"\n",
    "\n",
    "# Create a study object and optimize the objective function\n",
    "study = optuna.create_study(directions=['maximize', 'minimize'])\n",
    "unique_trials = 200\n",
    "\n",
    "while unique_trials > len(set(str(t.params) for t in study.trials)):\n",
    "    study.optimize(lambda trial: objective(trial, X_train, X_valid, y_train, y_valid, train_data['Close']), n_trials=1)\n",
    "    study.trials_dataframe().sort_values('values_0').to_csv('gbr_feature_trials.csv')\n",
    "    joblib.dump(study, 'gbrmodel.pkl')\n"
   ]
  },
  {
   "cell_type": "markdown",
   "id": "5423eda6",
   "metadata": {
    "id": "DYFKKBhpqnAC",
    "papermill": {
     "duration": 0.051045,
     "end_time": "2024-07-01T14:59:40.095080",
     "exception": false,
     "start_time": "2024-07-01T14:59:40.044035",
     "status": "completed"
    },
    "tags": []
   },
   "source": [
    "# Retrieve Top PNL"
   ]
  },
  {
   "cell_type": "code",
   "execution_count": 39,
   "id": "2a7d01f5",
   "metadata": {
    "execution": {
     "iopub.execute_input": "2024-07-01T14:59:40.203297Z",
     "iopub.status.busy": "2024-07-01T14:59:40.202287Z",
     "iopub.status.idle": "2024-07-01T14:59:40.259408Z",
     "shell.execute_reply": "2024-07-01T14:59:40.258349Z"
    },
    "id": "2GOEnQ0GXb4V",
    "papermill": {
     "duration": 0.112239,
     "end_time": "2024-07-01T14:59:40.261810",
     "exception": false,
     "start_time": "2024-07-01T14:59:40.149571",
     "status": "completed"
    },
    "tags": []
   },
   "outputs": [],
   "source": [
    "# study = joblib.load(open(\"rabmodel.pkl\", \"rb\"))\n",
    "trials = study.trials"
   ]
  },
  {
   "cell_type": "code",
   "execution_count": 40,
   "id": "67e41b8d",
   "metadata": {
    "execution": {
     "iopub.execute_input": "2024-07-01T14:59:40.366704Z",
     "iopub.status.busy": "2024-07-01T14:59:40.366342Z",
     "iopub.status.idle": "2024-07-01T14:59:40.486590Z",
     "shell.execute_reply": "2024-07-01T14:59:40.485376Z"
    },
    "id": "oWzuIq5PqnAC",
    "papermill": {
     "duration": 0.175209,
     "end_time": "2024-07-01T14:59:40.488970",
     "exception": false,
     "start_time": "2024-07-01T14:59:40.313761",
     "status": "completed"
    },
    "tags": []
   },
   "outputs": [],
   "source": [
    "completed_trials = [t for t in study.trials if t.values is not None]\n",
    "\n",
    "# Sort the completed trials based on their objective values\n",
    "completed_trials.sort(key=lambda trial: trial.values, reverse=True)\n",
    "\n",
    "# Define top pnl to take for clustering\n",
    "top_trials = completed_trials\n",
    "\n",
    "new_df_no_close_col = data.drop(['Date','time', 'Open','High','Low','Close','Volume', 'Return' ], axis=1)\n",
    "\n",
    "# Extract hyperparameters from top trials\n",
    "top_features_list = []\n",
    "\n",
    "for trial in top_trials:\n",
    "  best_selected_features = [col for idx, col  in enumerate(new_df_no_close_col.columns) if trial.params[idx] == 1] # if bug try change from idx to col\n",
    "  top_features_list.append(best_selected_features)"
   ]
  },
  {
   "cell_type": "code",
   "execution_count": 41,
   "id": "8374e769",
   "metadata": {
    "execution": {
     "iopub.execute_input": "2024-07-01T14:59:40.599606Z",
     "iopub.status.busy": "2024-07-01T14:59:40.598743Z",
     "iopub.status.idle": "2024-07-01T16:24:38.988462Z",
     "shell.execute_reply": "2024-07-01T16:24:38.987329Z"
    },
    "id": "cutCw_EwqnAD",
    "papermill": {
     "duration": 5098.44966,
     "end_time": "2024-07-01T16:24:38.990965",
     "exception": false,
     "start_time": "2024-07-01T14:59:40.541305",
     "status": "completed"
    },
    "tags": []
   },
   "outputs": [
    {
     "name": "stderr",
     "output_type": "stream",
     "text": [
      "/opt/conda/lib/python3.10/site-packages/numpy/core/fromnumeric.py:59: FutureWarning: 'DataFrame.swapaxes' is deprecated and will be removed in a future version. Please use 'DataFrame.transpose' instead.\n",
      "  return bound(*args, **kwds)\n",
      "/opt/conda/lib/python3.10/site-packages/numpy/core/fromnumeric.py:59: FutureWarning: 'DataFrame.swapaxes' is deprecated and will be removed in a future version. Please use 'DataFrame.transpose' instead.\n",
      "  return bound(*args, **kwds)\n",
      "/opt/conda/lib/python3.10/site-packages/numpy/core/fromnumeric.py:59: FutureWarning: 'DataFrame.swapaxes' is deprecated and will be removed in a future version. Please use 'DataFrame.transpose' instead.\n",
      "  return bound(*args, **kwds)\n",
      "/opt/conda/lib/python3.10/site-packages/numpy/core/fromnumeric.py:59: FutureWarning: 'DataFrame.swapaxes' is deprecated and will be removed in a future version. Please use 'DataFrame.transpose' instead.\n",
      "  return bound(*args, **kwds)\n",
      "/opt/conda/lib/python3.10/site-packages/numpy/core/fromnumeric.py:59: FutureWarning: 'DataFrame.swapaxes' is deprecated and will be removed in a future version. Please use 'DataFrame.transpose' instead.\n",
      "  return bound(*args, **kwds)\n",
      "/opt/conda/lib/python3.10/site-packages/numpy/core/fromnumeric.py:59: FutureWarning: 'DataFrame.swapaxes' is deprecated and will be removed in a future version. Please use 'DataFrame.transpose' instead.\n",
      "  return bound(*args, **kwds)\n",
      "/opt/conda/lib/python3.10/site-packages/numpy/core/fromnumeric.py:59: FutureWarning: 'DataFrame.swapaxes' is deprecated and will be removed in a future version. Please use 'DataFrame.transpose' instead.\n",
      "  return bound(*args, **kwds)\n",
      "/opt/conda/lib/python3.10/site-packages/numpy/core/fromnumeric.py:59: FutureWarning: 'DataFrame.swapaxes' is deprecated and will be removed in a future version. Please use 'DataFrame.transpose' instead.\n",
      "  return bound(*args, **kwds)\n",
      "/opt/conda/lib/python3.10/site-packages/numpy/core/fromnumeric.py:59: FutureWarning: 'DataFrame.swapaxes' is deprecated and will be removed in a future version. Please use 'DataFrame.transpose' instead.\n",
      "  return bound(*args, **kwds)\n",
      "/opt/conda/lib/python3.10/site-packages/numpy/core/fromnumeric.py:59: FutureWarning: 'DataFrame.swapaxes' is deprecated and will be removed in a future version. Please use 'DataFrame.transpose' instead.\n",
      "  return bound(*args, **kwds)\n",
      "/opt/conda/lib/python3.10/site-packages/numpy/core/fromnumeric.py:59: FutureWarning: 'DataFrame.swapaxes' is deprecated and will be removed in a future version. Please use 'DataFrame.transpose' instead.\n",
      "  return bound(*args, **kwds)\n",
      "/opt/conda/lib/python3.10/site-packages/numpy/core/fromnumeric.py:59: FutureWarning: 'DataFrame.swapaxes' is deprecated and will be removed in a future version. Please use 'DataFrame.transpose' instead.\n",
      "  return bound(*args, **kwds)\n",
      "/opt/conda/lib/python3.10/site-packages/numpy/core/fromnumeric.py:59: FutureWarning: 'DataFrame.swapaxes' is deprecated and will be removed in a future version. Please use 'DataFrame.transpose' instead.\n",
      "  return bound(*args, **kwds)\n",
      "/opt/conda/lib/python3.10/site-packages/numpy/core/fromnumeric.py:59: FutureWarning: 'DataFrame.swapaxes' is deprecated and will be removed in a future version. Please use 'DataFrame.transpose' instead.\n",
      "  return bound(*args, **kwds)\n",
      "/opt/conda/lib/python3.10/site-packages/numpy/core/fromnumeric.py:59: FutureWarning: 'DataFrame.swapaxes' is deprecated and will be removed in a future version. Please use 'DataFrame.transpose' instead.\n",
      "  return bound(*args, **kwds)\n",
      "/opt/conda/lib/python3.10/site-packages/numpy/core/fromnumeric.py:59: FutureWarning: 'DataFrame.swapaxes' is deprecated and will be removed in a future version. Please use 'DataFrame.transpose' instead.\n",
      "  return bound(*args, **kwds)\n",
      "/opt/conda/lib/python3.10/site-packages/numpy/core/fromnumeric.py:59: FutureWarning: 'DataFrame.swapaxes' is deprecated and will be removed in a future version. Please use 'DataFrame.transpose' instead.\n",
      "  return bound(*args, **kwds)\n",
      "/opt/conda/lib/python3.10/site-packages/numpy/core/fromnumeric.py:59: FutureWarning: 'DataFrame.swapaxes' is deprecated and will be removed in a future version. Please use 'DataFrame.transpose' instead.\n",
      "  return bound(*args, **kwds)\n",
      "/opt/conda/lib/python3.10/site-packages/numpy/core/fromnumeric.py:59: FutureWarning: 'DataFrame.swapaxes' is deprecated and will be removed in a future version. Please use 'DataFrame.transpose' instead.\n",
      "  return bound(*args, **kwds)\n",
      "/opt/conda/lib/python3.10/site-packages/numpy/core/fromnumeric.py:59: FutureWarning: 'DataFrame.swapaxes' is deprecated and will be removed in a future version. Please use 'DataFrame.transpose' instead.\n",
      "  return bound(*args, **kwds)\n",
      "/opt/conda/lib/python3.10/site-packages/numpy/core/fromnumeric.py:59: FutureWarning: 'DataFrame.swapaxes' is deprecated and will be removed in a future version. Please use 'DataFrame.transpose' instead.\n",
      "  return bound(*args, **kwds)\n",
      "/opt/conda/lib/python3.10/site-packages/numpy/core/fromnumeric.py:59: FutureWarning: 'DataFrame.swapaxes' is deprecated and will be removed in a future version. Please use 'DataFrame.transpose' instead.\n",
      "  return bound(*args, **kwds)\n",
      "/opt/conda/lib/python3.10/site-packages/numpy/core/fromnumeric.py:59: FutureWarning: 'DataFrame.swapaxes' is deprecated and will be removed in a future version. Please use 'DataFrame.transpose' instead.\n",
      "  return bound(*args, **kwds)\n",
      "/opt/conda/lib/python3.10/site-packages/numpy/core/fromnumeric.py:59: FutureWarning: 'DataFrame.swapaxes' is deprecated and will be removed in a future version. Please use 'DataFrame.transpose' instead.\n",
      "  return bound(*args, **kwds)\n",
      "/opt/conda/lib/python3.10/site-packages/numpy/core/fromnumeric.py:59: FutureWarning: 'DataFrame.swapaxes' is deprecated and will be removed in a future version. Please use 'DataFrame.transpose' instead.\n",
      "  return bound(*args, **kwds)\n",
      "/opt/conda/lib/python3.10/site-packages/numpy/core/fromnumeric.py:59: FutureWarning: 'DataFrame.swapaxes' is deprecated and will be removed in a future version. Please use 'DataFrame.transpose' instead.\n",
      "  return bound(*args, **kwds)\n",
      "/opt/conda/lib/python3.10/site-packages/numpy/core/fromnumeric.py:59: FutureWarning: 'DataFrame.swapaxes' is deprecated and will be removed in a future version. Please use 'DataFrame.transpose' instead.\n",
      "  return bound(*args, **kwds)\n",
      "/opt/conda/lib/python3.10/site-packages/numpy/core/fromnumeric.py:59: FutureWarning: 'DataFrame.swapaxes' is deprecated and will be removed in a future version. Please use 'DataFrame.transpose' instead.\n",
      "  return bound(*args, **kwds)\n",
      "/opt/conda/lib/python3.10/site-packages/numpy/core/fromnumeric.py:59: FutureWarning: 'DataFrame.swapaxes' is deprecated and will be removed in a future version. Please use 'DataFrame.transpose' instead.\n",
      "  return bound(*args, **kwds)\n",
      "/opt/conda/lib/python3.10/site-packages/numpy/core/fromnumeric.py:59: FutureWarning: 'DataFrame.swapaxes' is deprecated and will be removed in a future version. Please use 'DataFrame.transpose' instead.\n",
      "  return bound(*args, **kwds)\n",
      "/opt/conda/lib/python3.10/site-packages/numpy/core/fromnumeric.py:59: FutureWarning: 'DataFrame.swapaxes' is deprecated and will be removed in a future version. Please use 'DataFrame.transpose' instead.\n",
      "  return bound(*args, **kwds)\n",
      "/opt/conda/lib/python3.10/site-packages/numpy/core/fromnumeric.py:59: FutureWarning: 'DataFrame.swapaxes' is deprecated and will be removed in a future version. Please use 'DataFrame.transpose' instead.\n",
      "  return bound(*args, **kwds)\n",
      "/opt/conda/lib/python3.10/site-packages/numpy/core/fromnumeric.py:59: FutureWarning: 'DataFrame.swapaxes' is deprecated and will be removed in a future version. Please use 'DataFrame.transpose' instead.\n",
      "  return bound(*args, **kwds)\n",
      "/opt/conda/lib/python3.10/site-packages/numpy/core/fromnumeric.py:59: FutureWarning: 'DataFrame.swapaxes' is deprecated and will be removed in a future version. Please use 'DataFrame.transpose' instead.\n",
      "  return bound(*args, **kwds)\n",
      "/opt/conda/lib/python3.10/site-packages/numpy/core/fromnumeric.py:59: FutureWarning: 'DataFrame.swapaxes' is deprecated and will be removed in a future version. Please use 'DataFrame.transpose' instead.\n",
      "  return bound(*args, **kwds)\n",
      "/opt/conda/lib/python3.10/site-packages/numpy/core/fromnumeric.py:59: FutureWarning: 'DataFrame.swapaxes' is deprecated and will be removed in a future version. Please use 'DataFrame.transpose' instead.\n",
      "  return bound(*args, **kwds)\n",
      "/opt/conda/lib/python3.10/site-packages/numpy/core/fromnumeric.py:59: FutureWarning: 'DataFrame.swapaxes' is deprecated and will be removed in a future version. Please use 'DataFrame.transpose' instead.\n",
      "  return bound(*args, **kwds)\n",
      "/opt/conda/lib/python3.10/site-packages/numpy/core/fromnumeric.py:59: FutureWarning: 'DataFrame.swapaxes' is deprecated and will be removed in a future version. Please use 'DataFrame.transpose' instead.\n",
      "  return bound(*args, **kwds)\n",
      "/opt/conda/lib/python3.10/site-packages/numpy/core/fromnumeric.py:59: FutureWarning: 'DataFrame.swapaxes' is deprecated and will be removed in a future version. Please use 'DataFrame.transpose' instead.\n",
      "  return bound(*args, **kwds)\n",
      "/opt/conda/lib/python3.10/site-packages/numpy/core/fromnumeric.py:59: FutureWarning: 'DataFrame.swapaxes' is deprecated and will be removed in a future version. Please use 'DataFrame.transpose' instead.\n",
      "  return bound(*args, **kwds)\n",
      "/opt/conda/lib/python3.10/site-packages/numpy/core/fromnumeric.py:59: FutureWarning: 'DataFrame.swapaxes' is deprecated and will be removed in a future version. Please use 'DataFrame.transpose' instead.\n",
      "  return bound(*args, **kwds)\n",
      "/opt/conda/lib/python3.10/site-packages/numpy/core/fromnumeric.py:59: FutureWarning: 'DataFrame.swapaxes' is deprecated and will be removed in a future version. Please use 'DataFrame.transpose' instead.\n",
      "  return bound(*args, **kwds)\n",
      "/opt/conda/lib/python3.10/site-packages/numpy/core/fromnumeric.py:59: FutureWarning: 'DataFrame.swapaxes' is deprecated and will be removed in a future version. Please use 'DataFrame.transpose' instead.\n",
      "  return bound(*args, **kwds)\n",
      "/opt/conda/lib/python3.10/site-packages/numpy/core/fromnumeric.py:59: FutureWarning: 'DataFrame.swapaxes' is deprecated and will be removed in a future version. Please use 'DataFrame.transpose' instead.\n",
      "  return bound(*args, **kwds)\n",
      "/opt/conda/lib/python3.10/site-packages/numpy/core/fromnumeric.py:59: FutureWarning: 'DataFrame.swapaxes' is deprecated and will be removed in a future version. Please use 'DataFrame.transpose' instead.\n",
      "  return bound(*args, **kwds)\n",
      "/opt/conda/lib/python3.10/site-packages/numpy/core/fromnumeric.py:59: FutureWarning: 'DataFrame.swapaxes' is deprecated and will be removed in a future version. Please use 'DataFrame.transpose' instead.\n",
      "  return bound(*args, **kwds)\n",
      "/opt/conda/lib/python3.10/site-packages/numpy/core/fromnumeric.py:59: FutureWarning: 'DataFrame.swapaxes' is deprecated and will be removed in a future version. Please use 'DataFrame.transpose' instead.\n",
      "  return bound(*args, **kwds)\n",
      "/opt/conda/lib/python3.10/site-packages/numpy/core/fromnumeric.py:59: FutureWarning: 'DataFrame.swapaxes' is deprecated and will be removed in a future version. Please use 'DataFrame.transpose' instead.\n",
      "  return bound(*args, **kwds)\n",
      "/opt/conda/lib/python3.10/site-packages/numpy/core/fromnumeric.py:59: FutureWarning: 'DataFrame.swapaxes' is deprecated and will be removed in a future version. Please use 'DataFrame.transpose' instead.\n",
      "  return bound(*args, **kwds)\n",
      "/opt/conda/lib/python3.10/site-packages/numpy/core/fromnumeric.py:59: FutureWarning: 'DataFrame.swapaxes' is deprecated and will be removed in a future version. Please use 'DataFrame.transpose' instead.\n",
      "  return bound(*args, **kwds)\n",
      "/opt/conda/lib/python3.10/site-packages/numpy/core/fromnumeric.py:59: FutureWarning: 'DataFrame.swapaxes' is deprecated and will be removed in a future version. Please use 'DataFrame.transpose' instead.\n",
      "  return bound(*args, **kwds)\n",
      "/opt/conda/lib/python3.10/site-packages/numpy/core/fromnumeric.py:59: FutureWarning: 'DataFrame.swapaxes' is deprecated and will be removed in a future version. Please use 'DataFrame.transpose' instead.\n",
      "  return bound(*args, **kwds)\n",
      "/opt/conda/lib/python3.10/site-packages/numpy/core/fromnumeric.py:59: FutureWarning: 'DataFrame.swapaxes' is deprecated and will be removed in a future version. Please use 'DataFrame.transpose' instead.\n",
      "  return bound(*args, **kwds)\n",
      "/opt/conda/lib/python3.10/site-packages/numpy/core/fromnumeric.py:59: FutureWarning: 'DataFrame.swapaxes' is deprecated and will be removed in a future version. Please use 'DataFrame.transpose' instead.\n",
      "  return bound(*args, **kwds)\n",
      "/opt/conda/lib/python3.10/site-packages/numpy/core/fromnumeric.py:59: FutureWarning: 'DataFrame.swapaxes' is deprecated and will be removed in a future version. Please use 'DataFrame.transpose' instead.\n",
      "  return bound(*args, **kwds)\n",
      "/opt/conda/lib/python3.10/site-packages/numpy/core/fromnumeric.py:59: FutureWarning: 'DataFrame.swapaxes' is deprecated and will be removed in a future version. Please use 'DataFrame.transpose' instead.\n",
      "  return bound(*args, **kwds)\n",
      "/opt/conda/lib/python3.10/site-packages/numpy/core/fromnumeric.py:59: FutureWarning: 'DataFrame.swapaxes' is deprecated and will be removed in a future version. Please use 'DataFrame.transpose' instead.\n",
      "  return bound(*args, **kwds)\n",
      "/opt/conda/lib/python3.10/site-packages/numpy/core/fromnumeric.py:59: FutureWarning: 'DataFrame.swapaxes' is deprecated and will be removed in a future version. Please use 'DataFrame.transpose' instead.\n",
      "  return bound(*args, **kwds)\n",
      "/opt/conda/lib/python3.10/site-packages/numpy/core/fromnumeric.py:59: FutureWarning: 'DataFrame.swapaxes' is deprecated and will be removed in a future version. Please use 'DataFrame.transpose' instead.\n",
      "  return bound(*args, **kwds)\n",
      "/opt/conda/lib/python3.10/site-packages/numpy/core/fromnumeric.py:59: FutureWarning: 'DataFrame.swapaxes' is deprecated and will be removed in a future version. Please use 'DataFrame.transpose' instead.\n",
      "  return bound(*args, **kwds)\n",
      "/opt/conda/lib/python3.10/site-packages/numpy/core/fromnumeric.py:59: FutureWarning: 'DataFrame.swapaxes' is deprecated and will be removed in a future version. Please use 'DataFrame.transpose' instead.\n",
      "  return bound(*args, **kwds)\n",
      "/opt/conda/lib/python3.10/site-packages/numpy/core/fromnumeric.py:59: FutureWarning: 'DataFrame.swapaxes' is deprecated and will be removed in a future version. Please use 'DataFrame.transpose' instead.\n",
      "  return bound(*args, **kwds)\n",
      "/opt/conda/lib/python3.10/site-packages/numpy/core/fromnumeric.py:59: FutureWarning: 'DataFrame.swapaxes' is deprecated and will be removed in a future version. Please use 'DataFrame.transpose' instead.\n",
      "  return bound(*args, **kwds)\n",
      "/opt/conda/lib/python3.10/site-packages/numpy/core/fromnumeric.py:59: FutureWarning: 'DataFrame.swapaxes' is deprecated and will be removed in a future version. Please use 'DataFrame.transpose' instead.\n",
      "  return bound(*args, **kwds)\n",
      "/opt/conda/lib/python3.10/site-packages/numpy/core/fromnumeric.py:59: FutureWarning: 'DataFrame.swapaxes' is deprecated and will be removed in a future version. Please use 'DataFrame.transpose' instead.\n",
      "  return bound(*args, **kwds)\n",
      "/opt/conda/lib/python3.10/site-packages/numpy/core/fromnumeric.py:59: FutureWarning: 'DataFrame.swapaxes' is deprecated and will be removed in a future version. Please use 'DataFrame.transpose' instead.\n",
      "  return bound(*args, **kwds)\n",
      "/opt/conda/lib/python3.10/site-packages/numpy/core/fromnumeric.py:59: FutureWarning: 'DataFrame.swapaxes' is deprecated and will be removed in a future version. Please use 'DataFrame.transpose' instead.\n",
      "  return bound(*args, **kwds)\n",
      "/opt/conda/lib/python3.10/site-packages/numpy/core/fromnumeric.py:59: FutureWarning: 'DataFrame.swapaxes' is deprecated and will be removed in a future version. Please use 'DataFrame.transpose' instead.\n",
      "  return bound(*args, **kwds)\n",
      "/opt/conda/lib/python3.10/site-packages/numpy/core/fromnumeric.py:59: FutureWarning: 'DataFrame.swapaxes' is deprecated and will be removed in a future version. Please use 'DataFrame.transpose' instead.\n",
      "  return bound(*args, **kwds)\n",
      "/opt/conda/lib/python3.10/site-packages/numpy/core/fromnumeric.py:59: FutureWarning: 'DataFrame.swapaxes' is deprecated and will be removed in a future version. Please use 'DataFrame.transpose' instead.\n",
      "  return bound(*args, **kwds)\n",
      "/opt/conda/lib/python3.10/site-packages/numpy/core/fromnumeric.py:59: FutureWarning: 'DataFrame.swapaxes' is deprecated and will be removed in a future version. Please use 'DataFrame.transpose' instead.\n",
      "  return bound(*args, **kwds)\n",
      "/opt/conda/lib/python3.10/site-packages/numpy/core/fromnumeric.py:59: FutureWarning: 'DataFrame.swapaxes' is deprecated and will be removed in a future version. Please use 'DataFrame.transpose' instead.\n",
      "  return bound(*args, **kwds)\n",
      "/opt/conda/lib/python3.10/site-packages/numpy/core/fromnumeric.py:59: FutureWarning: 'DataFrame.swapaxes' is deprecated and will be removed in a future version. Please use 'DataFrame.transpose' instead.\n",
      "  return bound(*args, **kwds)\n",
      "/opt/conda/lib/python3.10/site-packages/numpy/core/fromnumeric.py:59: FutureWarning: 'DataFrame.swapaxes' is deprecated and will be removed in a future version. Please use 'DataFrame.transpose' instead.\n",
      "  return bound(*args, **kwds)\n",
      "/opt/conda/lib/python3.10/site-packages/numpy/core/fromnumeric.py:59: FutureWarning: 'DataFrame.swapaxes' is deprecated and will be removed in a future version. Please use 'DataFrame.transpose' instead.\n",
      "  return bound(*args, **kwds)\n",
      "/opt/conda/lib/python3.10/site-packages/numpy/core/fromnumeric.py:59: FutureWarning: 'DataFrame.swapaxes' is deprecated and will be removed in a future version. Please use 'DataFrame.transpose' instead.\n",
      "  return bound(*args, **kwds)\n",
      "/opt/conda/lib/python3.10/site-packages/numpy/core/fromnumeric.py:59: FutureWarning: 'DataFrame.swapaxes' is deprecated and will be removed in a future version. Please use 'DataFrame.transpose' instead.\n",
      "  return bound(*args, **kwds)\n",
      "/opt/conda/lib/python3.10/site-packages/numpy/core/fromnumeric.py:59: FutureWarning: 'DataFrame.swapaxes' is deprecated and will be removed in a future version. Please use 'DataFrame.transpose' instead.\n",
      "  return bound(*args, **kwds)\n",
      "/opt/conda/lib/python3.10/site-packages/numpy/core/fromnumeric.py:59: FutureWarning: 'DataFrame.swapaxes' is deprecated and will be removed in a future version. Please use 'DataFrame.transpose' instead.\n",
      "  return bound(*args, **kwds)\n",
      "/opt/conda/lib/python3.10/site-packages/numpy/core/fromnumeric.py:59: FutureWarning: 'DataFrame.swapaxes' is deprecated and will be removed in a future version. Please use 'DataFrame.transpose' instead.\n",
      "  return bound(*args, **kwds)\n",
      "/opt/conda/lib/python3.10/site-packages/numpy/core/fromnumeric.py:59: FutureWarning: 'DataFrame.swapaxes' is deprecated and will be removed in a future version. Please use 'DataFrame.transpose' instead.\n",
      "  return bound(*args, **kwds)\n",
      "/opt/conda/lib/python3.10/site-packages/numpy/core/fromnumeric.py:59: FutureWarning: 'DataFrame.swapaxes' is deprecated and will be removed in a future version. Please use 'DataFrame.transpose' instead.\n",
      "  return bound(*args, **kwds)\n",
      "/opt/conda/lib/python3.10/site-packages/numpy/core/fromnumeric.py:59: FutureWarning: 'DataFrame.swapaxes' is deprecated and will be removed in a future version. Please use 'DataFrame.transpose' instead.\n",
      "  return bound(*args, **kwds)\n",
      "/opt/conda/lib/python3.10/site-packages/numpy/core/fromnumeric.py:59: FutureWarning: 'DataFrame.swapaxes' is deprecated and will be removed in a future version. Please use 'DataFrame.transpose' instead.\n",
      "  return bound(*args, **kwds)\n",
      "/opt/conda/lib/python3.10/site-packages/numpy/core/fromnumeric.py:59: FutureWarning: 'DataFrame.swapaxes' is deprecated and will be removed in a future version. Please use 'DataFrame.transpose' instead.\n",
      "  return bound(*args, **kwds)\n",
      "/opt/conda/lib/python3.10/site-packages/numpy/core/fromnumeric.py:59: FutureWarning: 'DataFrame.swapaxes' is deprecated and will be removed in a future version. Please use 'DataFrame.transpose' instead.\n",
      "  return bound(*args, **kwds)\n",
      "/opt/conda/lib/python3.10/site-packages/numpy/core/fromnumeric.py:59: FutureWarning: 'DataFrame.swapaxes' is deprecated and will be removed in a future version. Please use 'DataFrame.transpose' instead.\n",
      "  return bound(*args, **kwds)\n",
      "/opt/conda/lib/python3.10/site-packages/numpy/core/fromnumeric.py:59: FutureWarning: 'DataFrame.swapaxes' is deprecated and will be removed in a future version. Please use 'DataFrame.transpose' instead.\n",
      "  return bound(*args, **kwds)\n",
      "/opt/conda/lib/python3.10/site-packages/numpy/core/fromnumeric.py:59: FutureWarning: 'DataFrame.swapaxes' is deprecated and will be removed in a future version. Please use 'DataFrame.transpose' instead.\n",
      "  return bound(*args, **kwds)\n",
      "/opt/conda/lib/python3.10/site-packages/numpy/core/fromnumeric.py:59: FutureWarning: 'DataFrame.swapaxes' is deprecated and will be removed in a future version. Please use 'DataFrame.transpose' instead.\n",
      "  return bound(*args, **kwds)\n",
      "/opt/conda/lib/python3.10/site-packages/numpy/core/fromnumeric.py:59: FutureWarning: 'DataFrame.swapaxes' is deprecated and will be removed in a future version. Please use 'DataFrame.transpose' instead.\n",
      "  return bound(*args, **kwds)\n",
      "/opt/conda/lib/python3.10/site-packages/numpy/core/fromnumeric.py:59: FutureWarning: 'DataFrame.swapaxes' is deprecated and will be removed in a future version. Please use 'DataFrame.transpose' instead.\n",
      "  return bound(*args, **kwds)\n",
      "/opt/conda/lib/python3.10/site-packages/numpy/core/fromnumeric.py:59: FutureWarning: 'DataFrame.swapaxes' is deprecated and will be removed in a future version. Please use 'DataFrame.transpose' instead.\n",
      "  return bound(*args, **kwds)\n",
      "/opt/conda/lib/python3.10/site-packages/numpy/core/fromnumeric.py:59: FutureWarning: 'DataFrame.swapaxes' is deprecated and will be removed in a future version. Please use 'DataFrame.transpose' instead.\n",
      "  return bound(*args, **kwds)\n",
      "/opt/conda/lib/python3.10/site-packages/numpy/core/fromnumeric.py:59: FutureWarning: 'DataFrame.swapaxes' is deprecated and will be removed in a future version. Please use 'DataFrame.transpose' instead.\n",
      "  return bound(*args, **kwds)\n",
      "/opt/conda/lib/python3.10/site-packages/numpy/core/fromnumeric.py:59: FutureWarning: 'DataFrame.swapaxes' is deprecated and will be removed in a future version. Please use 'DataFrame.transpose' instead.\n",
      "  return bound(*args, **kwds)\n",
      "/opt/conda/lib/python3.10/site-packages/numpy/core/fromnumeric.py:59: FutureWarning: 'DataFrame.swapaxes' is deprecated and will be removed in a future version. Please use 'DataFrame.transpose' instead.\n",
      "  return bound(*args, **kwds)\n",
      "/opt/conda/lib/python3.10/site-packages/numpy/core/fromnumeric.py:59: FutureWarning: 'DataFrame.swapaxes' is deprecated and will be removed in a future version. Please use 'DataFrame.transpose' instead.\n",
      "  return bound(*args, **kwds)\n",
      "/opt/conda/lib/python3.10/site-packages/numpy/core/fromnumeric.py:59: FutureWarning: 'DataFrame.swapaxes' is deprecated and will be removed in a future version. Please use 'DataFrame.transpose' instead.\n",
      "  return bound(*args, **kwds)\n",
      "/opt/conda/lib/python3.10/site-packages/numpy/core/fromnumeric.py:59: FutureWarning: 'DataFrame.swapaxes' is deprecated and will be removed in a future version. Please use 'DataFrame.transpose' instead.\n",
      "  return bound(*args, **kwds)\n",
      "/opt/conda/lib/python3.10/site-packages/numpy/core/fromnumeric.py:59: FutureWarning: 'DataFrame.swapaxes' is deprecated and will be removed in a future version. Please use 'DataFrame.transpose' instead.\n",
      "  return bound(*args, **kwds)\n",
      "/opt/conda/lib/python3.10/site-packages/numpy/core/fromnumeric.py:59: FutureWarning: 'DataFrame.swapaxes' is deprecated and will be removed in a future version. Please use 'DataFrame.transpose' instead.\n",
      "  return bound(*args, **kwds)\n",
      "/opt/conda/lib/python3.10/site-packages/numpy/core/fromnumeric.py:59: FutureWarning: 'DataFrame.swapaxes' is deprecated and will be removed in a future version. Please use 'DataFrame.transpose' instead.\n",
      "  return bound(*args, **kwds)\n",
      "/opt/conda/lib/python3.10/site-packages/numpy/core/fromnumeric.py:59: FutureWarning: 'DataFrame.swapaxes' is deprecated and will be removed in a future version. Please use 'DataFrame.transpose' instead.\n",
      "  return bound(*args, **kwds)\n",
      "/opt/conda/lib/python3.10/site-packages/numpy/core/fromnumeric.py:59: FutureWarning: 'DataFrame.swapaxes' is deprecated and will be removed in a future version. Please use 'DataFrame.transpose' instead.\n",
      "  return bound(*args, **kwds)\n",
      "/opt/conda/lib/python3.10/site-packages/numpy/core/fromnumeric.py:59: FutureWarning: 'DataFrame.swapaxes' is deprecated and will be removed in a future version. Please use 'DataFrame.transpose' instead.\n",
      "  return bound(*args, **kwds)\n",
      "/opt/conda/lib/python3.10/site-packages/numpy/core/fromnumeric.py:59: FutureWarning: 'DataFrame.swapaxes' is deprecated and will be removed in a future version. Please use 'DataFrame.transpose' instead.\n",
      "  return bound(*args, **kwds)\n",
      "/opt/conda/lib/python3.10/site-packages/numpy/core/fromnumeric.py:59: FutureWarning: 'DataFrame.swapaxes' is deprecated and will be removed in a future version. Please use 'DataFrame.transpose' instead.\n",
      "  return bound(*args, **kwds)\n",
      "/opt/conda/lib/python3.10/site-packages/numpy/core/fromnumeric.py:59: FutureWarning: 'DataFrame.swapaxes' is deprecated and will be removed in a future version. Please use 'DataFrame.transpose' instead.\n",
      "  return bound(*args, **kwds)\n",
      "/opt/conda/lib/python3.10/site-packages/numpy/core/fromnumeric.py:59: FutureWarning: 'DataFrame.swapaxes' is deprecated and will be removed in a future version. Please use 'DataFrame.transpose' instead.\n",
      "  return bound(*args, **kwds)\n",
      "/opt/conda/lib/python3.10/site-packages/numpy/core/fromnumeric.py:59: FutureWarning: 'DataFrame.swapaxes' is deprecated and will be removed in a future version. Please use 'DataFrame.transpose' instead.\n",
      "  return bound(*args, **kwds)\n",
      "/opt/conda/lib/python3.10/site-packages/numpy/core/fromnumeric.py:59: FutureWarning: 'DataFrame.swapaxes' is deprecated and will be removed in a future version. Please use 'DataFrame.transpose' instead.\n",
      "  return bound(*args, **kwds)\n",
      "/opt/conda/lib/python3.10/site-packages/numpy/core/fromnumeric.py:59: FutureWarning: 'DataFrame.swapaxes' is deprecated and will be removed in a future version. Please use 'DataFrame.transpose' instead.\n",
      "  return bound(*args, **kwds)\n",
      "/opt/conda/lib/python3.10/site-packages/numpy/core/fromnumeric.py:59: FutureWarning: 'DataFrame.swapaxes' is deprecated and will be removed in a future version. Please use 'DataFrame.transpose' instead.\n",
      "  return bound(*args, **kwds)\n",
      "/opt/conda/lib/python3.10/site-packages/numpy/core/fromnumeric.py:59: FutureWarning: 'DataFrame.swapaxes' is deprecated and will be removed in a future version. Please use 'DataFrame.transpose' instead.\n",
      "  return bound(*args, **kwds)\n",
      "/opt/conda/lib/python3.10/site-packages/numpy/core/fromnumeric.py:59: FutureWarning: 'DataFrame.swapaxes' is deprecated and will be removed in a future version. Please use 'DataFrame.transpose' instead.\n",
      "  return bound(*args, **kwds)\n",
      "/opt/conda/lib/python3.10/site-packages/numpy/core/fromnumeric.py:59: FutureWarning: 'DataFrame.swapaxes' is deprecated and will be removed in a future version. Please use 'DataFrame.transpose' instead.\n",
      "  return bound(*args, **kwds)\n",
      "/opt/conda/lib/python3.10/site-packages/numpy/core/fromnumeric.py:59: FutureWarning: 'DataFrame.swapaxes' is deprecated and will be removed in a future version. Please use 'DataFrame.transpose' instead.\n",
      "  return bound(*args, **kwds)\n",
      "/opt/conda/lib/python3.10/site-packages/numpy/core/fromnumeric.py:59: FutureWarning: 'DataFrame.swapaxes' is deprecated and will be removed in a future version. Please use 'DataFrame.transpose' instead.\n",
      "  return bound(*args, **kwds)\n",
      "/opt/conda/lib/python3.10/site-packages/numpy/core/fromnumeric.py:59: FutureWarning: 'DataFrame.swapaxes' is deprecated and will be removed in a future version. Please use 'DataFrame.transpose' instead.\n",
      "  return bound(*args, **kwds)\n",
      "/opt/conda/lib/python3.10/site-packages/numpy/core/fromnumeric.py:59: FutureWarning: 'DataFrame.swapaxes' is deprecated and will be removed in a future version. Please use 'DataFrame.transpose' instead.\n",
      "  return bound(*args, **kwds)\n",
      "/opt/conda/lib/python3.10/site-packages/numpy/core/fromnumeric.py:59: FutureWarning: 'DataFrame.swapaxes' is deprecated and will be removed in a future version. Please use 'DataFrame.transpose' instead.\n",
      "  return bound(*args, **kwds)\n",
      "/opt/conda/lib/python3.10/site-packages/numpy/core/fromnumeric.py:59: FutureWarning: 'DataFrame.swapaxes' is deprecated and will be removed in a future version. Please use 'DataFrame.transpose' instead.\n",
      "  return bound(*args, **kwds)\n",
      "/opt/conda/lib/python3.10/site-packages/numpy/core/fromnumeric.py:59: FutureWarning: 'DataFrame.swapaxes' is deprecated and will be removed in a future version. Please use 'DataFrame.transpose' instead.\n",
      "  return bound(*args, **kwds)\n",
      "/opt/conda/lib/python3.10/site-packages/numpy/core/fromnumeric.py:59: FutureWarning: 'DataFrame.swapaxes' is deprecated and will be removed in a future version. Please use 'DataFrame.transpose' instead.\n",
      "  return bound(*args, **kwds)\n",
      "/opt/conda/lib/python3.10/site-packages/numpy/core/fromnumeric.py:59: FutureWarning: 'DataFrame.swapaxes' is deprecated and will be removed in a future version. Please use 'DataFrame.transpose' instead.\n",
      "  return bound(*args, **kwds)\n",
      "/opt/conda/lib/python3.10/site-packages/numpy/core/fromnumeric.py:59: FutureWarning: 'DataFrame.swapaxes' is deprecated and will be removed in a future version. Please use 'DataFrame.transpose' instead.\n",
      "  return bound(*args, **kwds)\n",
      "/opt/conda/lib/python3.10/site-packages/numpy/core/fromnumeric.py:59: FutureWarning: 'DataFrame.swapaxes' is deprecated and will be removed in a future version. Please use 'DataFrame.transpose' instead.\n",
      "  return bound(*args, **kwds)\n",
      "/opt/conda/lib/python3.10/site-packages/numpy/core/fromnumeric.py:59: FutureWarning: 'DataFrame.swapaxes' is deprecated and will be removed in a future version. Please use 'DataFrame.transpose' instead.\n",
      "  return bound(*args, **kwds)\n",
      "/opt/conda/lib/python3.10/site-packages/numpy/core/fromnumeric.py:59: FutureWarning: 'DataFrame.swapaxes' is deprecated and will be removed in a future version. Please use 'DataFrame.transpose' instead.\n",
      "  return bound(*args, **kwds)\n",
      "/opt/conda/lib/python3.10/site-packages/numpy/core/fromnumeric.py:59: FutureWarning: 'DataFrame.swapaxes' is deprecated and will be removed in a future version. Please use 'DataFrame.transpose' instead.\n",
      "  return bound(*args, **kwds)\n",
      "/opt/conda/lib/python3.10/site-packages/numpy/core/fromnumeric.py:59: FutureWarning: 'DataFrame.swapaxes' is deprecated and will be removed in a future version. Please use 'DataFrame.transpose' instead.\n",
      "  return bound(*args, **kwds)\n",
      "/opt/conda/lib/python3.10/site-packages/numpy/core/fromnumeric.py:59: FutureWarning: 'DataFrame.swapaxes' is deprecated and will be removed in a future version. Please use 'DataFrame.transpose' instead.\n",
      "  return bound(*args, **kwds)\n",
      "/opt/conda/lib/python3.10/site-packages/numpy/core/fromnumeric.py:59: FutureWarning: 'DataFrame.swapaxes' is deprecated and will be removed in a future version. Please use 'DataFrame.transpose' instead.\n",
      "  return bound(*args, **kwds)\n",
      "/opt/conda/lib/python3.10/site-packages/numpy/core/fromnumeric.py:59: FutureWarning: 'DataFrame.swapaxes' is deprecated and will be removed in a future version. Please use 'DataFrame.transpose' instead.\n",
      "  return bound(*args, **kwds)\n",
      "/opt/conda/lib/python3.10/site-packages/numpy/core/fromnumeric.py:59: FutureWarning: 'DataFrame.swapaxes' is deprecated and will be removed in a future version. Please use 'DataFrame.transpose' instead.\n",
      "  return bound(*args, **kwds)\n",
      "/opt/conda/lib/python3.10/site-packages/numpy/core/fromnumeric.py:59: FutureWarning: 'DataFrame.swapaxes' is deprecated and will be removed in a future version. Please use 'DataFrame.transpose' instead.\n",
      "  return bound(*args, **kwds)\n",
      "/opt/conda/lib/python3.10/site-packages/numpy/core/fromnumeric.py:59: FutureWarning: 'DataFrame.swapaxes' is deprecated and will be removed in a future version. Please use 'DataFrame.transpose' instead.\n",
      "  return bound(*args, **kwds)\n",
      "/opt/conda/lib/python3.10/site-packages/numpy/core/fromnumeric.py:59: FutureWarning: 'DataFrame.swapaxes' is deprecated and will be removed in a future version. Please use 'DataFrame.transpose' instead.\n",
      "  return bound(*args, **kwds)\n",
      "/opt/conda/lib/python3.10/site-packages/numpy/core/fromnumeric.py:59: FutureWarning: 'DataFrame.swapaxes' is deprecated and will be removed in a future version. Please use 'DataFrame.transpose' instead.\n",
      "  return bound(*args, **kwds)\n",
      "/opt/conda/lib/python3.10/site-packages/numpy/core/fromnumeric.py:59: FutureWarning: 'DataFrame.swapaxes' is deprecated and will be removed in a future version. Please use 'DataFrame.transpose' instead.\n",
      "  return bound(*args, **kwds)\n",
      "/opt/conda/lib/python3.10/site-packages/numpy/core/fromnumeric.py:59: FutureWarning: 'DataFrame.swapaxes' is deprecated and will be removed in a future version. Please use 'DataFrame.transpose' instead.\n",
      "  return bound(*args, **kwds)\n",
      "/opt/conda/lib/python3.10/site-packages/numpy/core/fromnumeric.py:59: FutureWarning: 'DataFrame.swapaxes' is deprecated and will be removed in a future version. Please use 'DataFrame.transpose' instead.\n",
      "  return bound(*args, **kwds)\n",
      "/opt/conda/lib/python3.10/site-packages/numpy/core/fromnumeric.py:59: FutureWarning: 'DataFrame.swapaxes' is deprecated and will be removed in a future version. Please use 'DataFrame.transpose' instead.\n",
      "  return bound(*args, **kwds)\n",
      "/opt/conda/lib/python3.10/site-packages/numpy/core/fromnumeric.py:59: FutureWarning: 'DataFrame.swapaxes' is deprecated and will be removed in a future version. Please use 'DataFrame.transpose' instead.\n",
      "  return bound(*args, **kwds)\n",
      "/opt/conda/lib/python3.10/site-packages/numpy/core/fromnumeric.py:59: FutureWarning: 'DataFrame.swapaxes' is deprecated and will be removed in a future version. Please use 'DataFrame.transpose' instead.\n",
      "  return bound(*args, **kwds)\n",
      "/opt/conda/lib/python3.10/site-packages/numpy/core/fromnumeric.py:59: FutureWarning: 'DataFrame.swapaxes' is deprecated and will be removed in a future version. Please use 'DataFrame.transpose' instead.\n",
      "  return bound(*args, **kwds)\n",
      "/opt/conda/lib/python3.10/site-packages/numpy/core/fromnumeric.py:59: FutureWarning: 'DataFrame.swapaxes' is deprecated and will be removed in a future version. Please use 'DataFrame.transpose' instead.\n",
      "  return bound(*args, **kwds)\n",
      "/opt/conda/lib/python3.10/site-packages/numpy/core/fromnumeric.py:59: FutureWarning: 'DataFrame.swapaxes' is deprecated and will be removed in a future version. Please use 'DataFrame.transpose' instead.\n",
      "  return bound(*args, **kwds)\n",
      "/opt/conda/lib/python3.10/site-packages/numpy/core/fromnumeric.py:59: FutureWarning: 'DataFrame.swapaxes' is deprecated and will be removed in a future version. Please use 'DataFrame.transpose' instead.\n",
      "  return bound(*args, **kwds)\n",
      "/opt/conda/lib/python3.10/site-packages/numpy/core/fromnumeric.py:59: FutureWarning: 'DataFrame.swapaxes' is deprecated and will be removed in a future version. Please use 'DataFrame.transpose' instead.\n",
      "  return bound(*args, **kwds)\n",
      "/opt/conda/lib/python3.10/site-packages/numpy/core/fromnumeric.py:59: FutureWarning: 'DataFrame.swapaxes' is deprecated and will be removed in a future version. Please use 'DataFrame.transpose' instead.\n",
      "  return bound(*args, **kwds)\n",
      "/opt/conda/lib/python3.10/site-packages/numpy/core/fromnumeric.py:59: FutureWarning: 'DataFrame.swapaxes' is deprecated and will be removed in a future version. Please use 'DataFrame.transpose' instead.\n",
      "  return bound(*args, **kwds)\n",
      "/opt/conda/lib/python3.10/site-packages/numpy/core/fromnumeric.py:59: FutureWarning: 'DataFrame.swapaxes' is deprecated and will be removed in a future version. Please use 'DataFrame.transpose' instead.\n",
      "  return bound(*args, **kwds)\n",
      "/opt/conda/lib/python3.10/site-packages/numpy/core/fromnumeric.py:59: FutureWarning: 'DataFrame.swapaxes' is deprecated and will be removed in a future version. Please use 'DataFrame.transpose' instead.\n",
      "  return bound(*args, **kwds)\n",
      "/opt/conda/lib/python3.10/site-packages/numpy/core/fromnumeric.py:59: FutureWarning: 'DataFrame.swapaxes' is deprecated and will be removed in a future version. Please use 'DataFrame.transpose' instead.\n",
      "  return bound(*args, **kwds)\n",
      "/opt/conda/lib/python3.10/site-packages/numpy/core/fromnumeric.py:59: FutureWarning: 'DataFrame.swapaxes' is deprecated and will be removed in a future version. Please use 'DataFrame.transpose' instead.\n",
      "  return bound(*args, **kwds)\n",
      "/opt/conda/lib/python3.10/site-packages/numpy/core/fromnumeric.py:59: FutureWarning: 'DataFrame.swapaxes' is deprecated and will be removed in a future version. Please use 'DataFrame.transpose' instead.\n",
      "  return bound(*args, **kwds)\n",
      "/opt/conda/lib/python3.10/site-packages/numpy/core/fromnumeric.py:59: FutureWarning: 'DataFrame.swapaxes' is deprecated and will be removed in a future version. Please use 'DataFrame.transpose' instead.\n",
      "  return bound(*args, **kwds)\n",
      "/opt/conda/lib/python3.10/site-packages/numpy/core/fromnumeric.py:59: FutureWarning: 'DataFrame.swapaxes' is deprecated and will be removed in a future version. Please use 'DataFrame.transpose' instead.\n",
      "  return bound(*args, **kwds)\n",
      "/opt/conda/lib/python3.10/site-packages/numpy/core/fromnumeric.py:59: FutureWarning: 'DataFrame.swapaxes' is deprecated and will be removed in a future version. Please use 'DataFrame.transpose' instead.\n",
      "  return bound(*args, **kwds)\n",
      "/opt/conda/lib/python3.10/site-packages/numpy/core/fromnumeric.py:59: FutureWarning: 'DataFrame.swapaxes' is deprecated and will be removed in a future version. Please use 'DataFrame.transpose' instead.\n",
      "  return bound(*args, **kwds)\n",
      "/opt/conda/lib/python3.10/site-packages/numpy/core/fromnumeric.py:59: FutureWarning: 'DataFrame.swapaxes' is deprecated and will be removed in a future version. Please use 'DataFrame.transpose' instead.\n",
      "  return bound(*args, **kwds)\n",
      "/opt/conda/lib/python3.10/site-packages/numpy/core/fromnumeric.py:59: FutureWarning: 'DataFrame.swapaxes' is deprecated and will be removed in a future version. Please use 'DataFrame.transpose' instead.\n",
      "  return bound(*args, **kwds)\n",
      "/opt/conda/lib/python3.10/site-packages/numpy/core/fromnumeric.py:59: FutureWarning: 'DataFrame.swapaxes' is deprecated and will be removed in a future version. Please use 'DataFrame.transpose' instead.\n",
      "  return bound(*args, **kwds)\n",
      "/opt/conda/lib/python3.10/site-packages/numpy/core/fromnumeric.py:59: FutureWarning: 'DataFrame.swapaxes' is deprecated and will be removed in a future version. Please use 'DataFrame.transpose' instead.\n",
      "  return bound(*args, **kwds)\n",
      "/opt/conda/lib/python3.10/site-packages/numpy/core/fromnumeric.py:59: FutureWarning: 'DataFrame.swapaxes' is deprecated and will be removed in a future version. Please use 'DataFrame.transpose' instead.\n",
      "  return bound(*args, **kwds)\n",
      "/opt/conda/lib/python3.10/site-packages/numpy/core/fromnumeric.py:59: FutureWarning: 'DataFrame.swapaxes' is deprecated and will be removed in a future version. Please use 'DataFrame.transpose' instead.\n",
      "  return bound(*args, **kwds)\n",
      "/opt/conda/lib/python3.10/site-packages/numpy/core/fromnumeric.py:59: FutureWarning: 'DataFrame.swapaxes' is deprecated and will be removed in a future version. Please use 'DataFrame.transpose' instead.\n",
      "  return bound(*args, **kwds)\n",
      "/opt/conda/lib/python3.10/site-packages/numpy/core/fromnumeric.py:59: FutureWarning: 'DataFrame.swapaxes' is deprecated and will be removed in a future version. Please use 'DataFrame.transpose' instead.\n",
      "  return bound(*args, **kwds)\n",
      "/opt/conda/lib/python3.10/site-packages/numpy/core/fromnumeric.py:59: FutureWarning: 'DataFrame.swapaxes' is deprecated and will be removed in a future version. Please use 'DataFrame.transpose' instead.\n",
      "  return bound(*args, **kwds)\n",
      "/opt/conda/lib/python3.10/site-packages/numpy/core/fromnumeric.py:59: FutureWarning: 'DataFrame.swapaxes' is deprecated and will be removed in a future version. Please use 'DataFrame.transpose' instead.\n",
      "  return bound(*args, **kwds)\n",
      "/opt/conda/lib/python3.10/site-packages/numpy/core/fromnumeric.py:59: FutureWarning: 'DataFrame.swapaxes' is deprecated and will be removed in a future version. Please use 'DataFrame.transpose' instead.\n",
      "  return bound(*args, **kwds)\n",
      "/opt/conda/lib/python3.10/site-packages/numpy/core/fromnumeric.py:59: FutureWarning: 'DataFrame.swapaxes' is deprecated and will be removed in a future version. Please use 'DataFrame.transpose' instead.\n",
      "  return bound(*args, **kwds)\n",
      "/opt/conda/lib/python3.10/site-packages/numpy/core/fromnumeric.py:59: FutureWarning: 'DataFrame.swapaxes' is deprecated and will be removed in a future version. Please use 'DataFrame.transpose' instead.\n",
      "  return bound(*args, **kwds)\n",
      "/opt/conda/lib/python3.10/site-packages/numpy/core/fromnumeric.py:59: FutureWarning: 'DataFrame.swapaxes' is deprecated and will be removed in a future version. Please use 'DataFrame.transpose' instead.\n",
      "  return bound(*args, **kwds)\n",
      "/opt/conda/lib/python3.10/site-packages/numpy/core/fromnumeric.py:59: FutureWarning: 'DataFrame.swapaxes' is deprecated and will be removed in a future version. Please use 'DataFrame.transpose' instead.\n",
      "  return bound(*args, **kwds)\n",
      "/opt/conda/lib/python3.10/site-packages/numpy/core/fromnumeric.py:59: FutureWarning: 'DataFrame.swapaxes' is deprecated and will be removed in a future version. Please use 'DataFrame.transpose' instead.\n",
      "  return bound(*args, **kwds)\n",
      "/opt/conda/lib/python3.10/site-packages/numpy/core/fromnumeric.py:59: FutureWarning: 'DataFrame.swapaxes' is deprecated and will be removed in a future version. Please use 'DataFrame.transpose' instead.\n",
      "  return bound(*args, **kwds)\n",
      "/opt/conda/lib/python3.10/site-packages/numpy/core/fromnumeric.py:59: FutureWarning: 'DataFrame.swapaxes' is deprecated and will be removed in a future version. Please use 'DataFrame.transpose' instead.\n",
      "  return bound(*args, **kwds)\n",
      "/opt/conda/lib/python3.10/site-packages/numpy/core/fromnumeric.py:59: FutureWarning: 'DataFrame.swapaxes' is deprecated and will be removed in a future version. Please use 'DataFrame.transpose' instead.\n",
      "  return bound(*args, **kwds)\n",
      "/opt/conda/lib/python3.10/site-packages/numpy/core/fromnumeric.py:59: FutureWarning: 'DataFrame.swapaxes' is deprecated and will be removed in a future version. Please use 'DataFrame.transpose' instead.\n",
      "  return bound(*args, **kwds)\n",
      "/opt/conda/lib/python3.10/site-packages/numpy/core/fromnumeric.py:59: FutureWarning: 'DataFrame.swapaxes' is deprecated and will be removed in a future version. Please use 'DataFrame.transpose' instead.\n",
      "  return bound(*args, **kwds)\n",
      "/opt/conda/lib/python3.10/site-packages/numpy/core/fromnumeric.py:59: FutureWarning: 'DataFrame.swapaxes' is deprecated and will be removed in a future version. Please use 'DataFrame.transpose' instead.\n",
      "  return bound(*args, **kwds)\n",
      "/opt/conda/lib/python3.10/site-packages/numpy/core/fromnumeric.py:59: FutureWarning: 'DataFrame.swapaxes' is deprecated and will be removed in a future version. Please use 'DataFrame.transpose' instead.\n",
      "  return bound(*args, **kwds)\n",
      "/opt/conda/lib/python3.10/site-packages/numpy/core/fromnumeric.py:59: FutureWarning: 'DataFrame.swapaxes' is deprecated and will be removed in a future version. Please use 'DataFrame.transpose' instead.\n",
      "  return bound(*args, **kwds)\n",
      "/opt/conda/lib/python3.10/site-packages/numpy/core/fromnumeric.py:59: FutureWarning: 'DataFrame.swapaxes' is deprecated and will be removed in a future version. Please use 'DataFrame.transpose' instead.\n",
      "  return bound(*args, **kwds)\n",
      "/opt/conda/lib/python3.10/site-packages/numpy/core/fromnumeric.py:59: FutureWarning: 'DataFrame.swapaxes' is deprecated and will be removed in a future version. Please use 'DataFrame.transpose' instead.\n",
      "  return bound(*args, **kwds)\n",
      "/opt/conda/lib/python3.10/site-packages/numpy/core/fromnumeric.py:59: FutureWarning: 'DataFrame.swapaxes' is deprecated and will be removed in a future version. Please use 'DataFrame.transpose' instead.\n",
      "  return bound(*args, **kwds)\n",
      "/opt/conda/lib/python3.10/site-packages/numpy/core/fromnumeric.py:59: FutureWarning: 'DataFrame.swapaxes' is deprecated and will be removed in a future version. Please use 'DataFrame.transpose' instead.\n",
      "  return bound(*args, **kwds)\n",
      "/opt/conda/lib/python3.10/site-packages/numpy/core/fromnumeric.py:59: FutureWarning: 'DataFrame.swapaxes' is deprecated and will be removed in a future version. Please use 'DataFrame.transpose' instead.\n",
      "  return bound(*args, **kwds)\n",
      "/opt/conda/lib/python3.10/site-packages/numpy/core/fromnumeric.py:59: FutureWarning: 'DataFrame.swapaxes' is deprecated and will be removed in a future version. Please use 'DataFrame.transpose' instead.\n",
      "  return bound(*args, **kwds)\n",
      "/opt/conda/lib/python3.10/site-packages/numpy/core/fromnumeric.py:59: FutureWarning: 'DataFrame.swapaxes' is deprecated and will be removed in a future version. Please use 'DataFrame.transpose' instead.\n",
      "  return bound(*args, **kwds)\n",
      "/opt/conda/lib/python3.10/site-packages/numpy/core/fromnumeric.py:59: FutureWarning: 'DataFrame.swapaxes' is deprecated and will be removed in a future version. Please use 'DataFrame.transpose' instead.\n",
      "  return bound(*args, **kwds)\n",
      "/opt/conda/lib/python3.10/site-packages/numpy/core/fromnumeric.py:59: FutureWarning: 'DataFrame.swapaxes' is deprecated and will be removed in a future version. Please use 'DataFrame.transpose' instead.\n",
      "  return bound(*args, **kwds)\n",
      "/opt/conda/lib/python3.10/site-packages/numpy/core/fromnumeric.py:59: FutureWarning: 'DataFrame.swapaxes' is deprecated and will be removed in a future version. Please use 'DataFrame.transpose' instead.\n",
      "  return bound(*args, **kwds)\n",
      "/opt/conda/lib/python3.10/site-packages/numpy/core/fromnumeric.py:59: FutureWarning: 'DataFrame.swapaxes' is deprecated and will be removed in a future version. Please use 'DataFrame.transpose' instead.\n",
      "  return bound(*args, **kwds)\n",
      "/opt/conda/lib/python3.10/site-packages/numpy/core/fromnumeric.py:59: FutureWarning: 'DataFrame.swapaxes' is deprecated and will be removed in a future version. Please use 'DataFrame.transpose' instead.\n",
      "  return bound(*args, **kwds)\n",
      "/opt/conda/lib/python3.10/site-packages/numpy/core/fromnumeric.py:59: FutureWarning: 'DataFrame.swapaxes' is deprecated and will be removed in a future version. Please use 'DataFrame.transpose' instead.\n",
      "  return bound(*args, **kwds)\n",
      "/opt/conda/lib/python3.10/site-packages/numpy/core/fromnumeric.py:59: FutureWarning: 'DataFrame.swapaxes' is deprecated and will be removed in a future version. Please use 'DataFrame.transpose' instead.\n",
      "  return bound(*args, **kwds)\n"
     ]
    }
   ],
   "source": [
    "top_pnl = []\n",
    "trade_threshold  = 0.0005\n",
    "\n",
    "for best_selected_features in top_features_list:\n",
    "\n",
    "    new_df_selected = data[['Close', 'Return']+best_selected_features]\n",
    "    train_select_col_data, _ = split_data(new_df_selected)\n",
    "\n",
    "    retrain_data = train_select_col_data.drop(['Close', 'Return'], axis=1)\n",
    "    retrain_data = scale_data(retrain_data)\n",
    "\n",
    "    X_train, X_valid, y_train, y_valid = train_test_split(retrain_data,\n",
    "                                                      train_select_col_data['Return'],\n",
    "                                                      test_size=0.5,shuffle=False)\n",
    "\n",
    "    # Create and train model\n",
    "    model = GradientBoostingRegressor()\n",
    "    model.fit(X_train, y_train)\n",
    "\n",
    "    # Make predictions\n",
    "    y_pred_valid = model.predict(X_valid)\n",
    "    _, pnl_valid, _, _ = sharpe_for_vn30f(y_pred_valid, y_valid, trade_threshold=trade_threshold, fee_perc=0.01, periods=10)\n",
    "    pnl_valid_no_nan = np.nan_to_num(pnl_valid, nan=0)\n",
    "    top_pnl.append(pnl_valid_no_nan)"
   ]
  },
  {
   "cell_type": "markdown",
   "id": "cf16681f",
   "metadata": {
    "id": "w2BQiJlWXb4W",
    "papermill": {
     "duration": 0.064514,
     "end_time": "2024-07-01T16:24:39.120661",
     "exception": false,
     "start_time": "2024-07-01T16:24:39.056147",
     "status": "completed"
    },
    "tags": []
   },
   "source": [
    "Drop too high correlation PNL array"
   ]
  },
  {
   "cell_type": "code",
   "execution_count": 42,
   "id": "b8e2cef8",
   "metadata": {
    "execution": {
     "iopub.execute_input": "2024-07-01T16:24:39.252861Z",
     "iopub.status.busy": "2024-07-01T16:24:39.251655Z",
     "iopub.status.idle": "2024-07-01T16:26:01.378696Z",
     "shell.execute_reply": "2024-07-01T16:26:01.377529Z"
    },
    "id": "Q1wekTJXXb4W",
    "outputId": "71cbe74d-b9e6-49f5-eb82-ccc398a560d9",
    "papermill": {
     "duration": 82.260917,
     "end_time": "2024-07-01T16:26:01.446504",
     "exception": false,
     "start_time": "2024-07-01T16:24:39.185587",
     "status": "completed"
    },
    "tags": []
   },
   "outputs": [
    {
     "name": "stdout",
     "output_type": "stream",
     "text": [
      "Columns to drop: [1, 2, 3, 4, 5, 6, 7, 8, 9, 10, 11, 12, 13, 14, 15, 16, 17, 18, 19, 20, 21, 22, 23, 24, 25, 26, 27, 28, 29, 30, 31, 32, 33, 34, 35, 36, 37, 38, 39, 40, 41, 42, 43, 44, 45, 47, 48, 49, 50, 51, 52, 53, 54, 55, 56, 57, 58, 59, 60, 61, 62, 63, 64, 65, 66, 67, 68, 69, 70, 71, 72, 73, 74, 75, 77, 78, 79, 80, 81, 82, 83, 84, 85, 86, 87, 88, 89, 91, 92, 93, 94, 95, 96, 97, 98, 99, 100, 101, 102, 103, 104, 105, 106, 107, 109, 110, 111, 112, 113, 114, 115, 116, 117, 118, 119, 120, 121, 122, 123, 124, 125, 127, 128, 130, 131, 133, 135, 138, 139, 140, 142, 143, 146, 147, 152, 154, 156, 157, 160, 161, 165, 169, 170, 171, 173, 175, 183, 185, 186, 187, 190, 191, 192, 193, 194, 196, 199]\n",
      "DataFrame after dropping columns:\n",
      "             0         46        76        90        108       126       129  \\\n",
      "0       0.000000  0.000000  0.000000  0.000000  0.000000  0.000000  0.000000   \n",
      "1       0.000000  0.000000  0.000000  0.000000  0.000000  0.000000  0.000000   \n",
      "2       0.000000  0.000000  0.000000  0.000000  0.000000  0.000000  0.000000   \n",
      "3       0.000000  0.000000  0.000000  0.000000  0.000000  0.000000  0.000000   \n",
      "4       0.000000  0.000000  0.000000  0.000000  0.000000  0.000000  0.000000   \n",
      "...          ...       ...       ...       ...       ...       ...       ...   \n",
      "118660 -1.094063 -0.061064 -0.042222 -0.066108  0.057087 -0.089282  0.001848   \n",
      "118661 -1.094063 -0.061064 -0.042222 -0.066108  0.057087 -0.089282  0.001848   \n",
      "118662 -1.094063 -0.061064 -0.042222 -0.066108  0.057087 -0.089282  0.001848   \n",
      "118663 -1.094063 -0.061064 -0.042222 -0.066108  0.057087 -0.089282  0.001848   \n",
      "118664 -1.094063 -0.061064 -0.042222 -0.066108  0.057087 -0.089282  0.001848   \n",
      "\n",
      "             132       134       136  ...       179       180       181  \\\n",
      "0       0.000000  0.000000  0.000000  ...  0.000000  0.000000  0.000000   \n",
      "1       0.000000  0.000000  0.000000  ...  0.000000  0.000000  0.000000   \n",
      "2       0.000000  0.000000  0.000000  ...  0.000000  0.000000  0.000000   \n",
      "3       0.000000  0.000000  0.000000  ...  0.000000  0.000000  0.000000   \n",
      "4       0.000000  0.000000  0.000000  ...  0.000000  0.000000  0.000000   \n",
      "...          ...       ...       ...  ...       ...       ...       ...   \n",
      "118660 -0.107267 -0.050142 -0.003649  ... -0.018357 -0.043392 -0.044646   \n",
      "118661 -0.107267 -0.050142 -0.003649  ... -0.018357 -0.043392 -0.044646   \n",
      "118662 -0.107267 -0.050142 -0.003649  ... -0.018357 -0.043392 -0.044646   \n",
      "118663 -0.107267 -0.050142 -0.003649  ... -0.018357 -0.043392 -0.044646   \n",
      "118664 -0.107267 -0.050142 -0.003649  ... -0.018357 -0.043392 -0.044646   \n",
      "\n",
      "             182       184       188       189       195       197       198  \n",
      "0       0.000000  0.000000  0.000000  0.000000  0.000000  0.000000  0.000000  \n",
      "1       0.000000  0.000000  0.000000  0.000000  0.000000  0.000000  0.000000  \n",
      "2       0.000000  0.000000  0.000000  0.000000  0.000000  0.000000  0.000000  \n",
      "3       0.000000  0.000000  0.000000  0.000000  0.000000  0.000000  0.000000  \n",
      "4       0.000000  0.000000  0.000000  0.000000  0.000000  0.000000  0.000000  \n",
      "...          ...       ...       ...       ...       ...       ...       ...  \n",
      "118660 -0.003318  0.018238 -0.048375  0.007883 -0.010005 -0.029007 -0.017117  \n",
      "118661 -0.003318  0.018238 -0.048375  0.007883 -0.010005 -0.029007 -0.017117  \n",
      "118662 -0.003318  0.018238 -0.048375  0.007883 -0.010005 -0.029007 -0.017117  \n",
      "118663 -0.003318  0.018238 -0.048375  0.007883 -0.010005 -0.029007 -0.017117  \n",
      "118664 -0.003318  0.018238 -0.048375  0.007883 -0.010005 -0.029007 -0.017117  \n",
      "\n",
      "[118665 rows x 43 columns]\n"
     ]
    }
   ],
   "source": [
    "pnl = pd.DataFrame(top_pnl)\n",
    "pnl = pnl.transpose()\n",
    "\n",
    "# Calculate the correlation matrix\n",
    "corr_matrix = pnl.corr().abs()\n",
    "\n",
    "# Create a mask to only look at the upper triangle (to avoid duplicate checks)\n",
    "upper_triangle_mask = corr_matrix.where(np.triu(np.ones(corr_matrix.shape), k=1).astype(bool))\n",
    "\n",
    "# Identify columns to drop\n",
    "to_drop = [column for column in upper_triangle_mask.columns if any(upper_triangle_mask[column] > 0.95)]\n",
    "\n",
    "# Drop the columns with high correlation\n",
    "pnl_dropped = pnl.drop(columns=to_drop)\n",
    "\n",
    "print(\"Columns to drop:\", to_drop)\n",
    "print(\"DataFrame after dropping columns:\")\n",
    "print(pnl_dropped)"
   ]
  },
  {
   "cell_type": "code",
   "execution_count": 43,
   "id": "6ddf8160",
   "metadata": {
    "execution": {
     "iopub.execute_input": "2024-07-01T16:26:01.579651Z",
     "iopub.status.busy": "2024-07-01T16:26:01.579296Z",
     "iopub.status.idle": "2024-07-01T16:26:01.592476Z",
     "shell.execute_reply": "2024-07-01T16:26:01.591575Z"
    },
    "id": "pf9Imd4uXb4W",
    "papermill": {
     "duration": 0.082376,
     "end_time": "2024-07-01T16:26:01.594557",
     "exception": false,
     "start_time": "2024-07-01T16:26:01.512181",
     "status": "completed"
    },
    "tags": []
   },
   "outputs": [],
   "source": [
    "pnl_array = np.array(pnl_dropped.transpose())\n",
    "pnl_array = pnl_array[:100]"
   ]
  },
  {
   "cell_type": "code",
   "execution_count": 44,
   "id": "ca91ae68",
   "metadata": {
    "execution": {
     "iopub.execute_input": "2024-07-01T16:26:01.726397Z",
     "iopub.status.busy": "2024-07-01T16:26:01.726017Z",
     "iopub.status.idle": "2024-07-01T16:26:01.745354Z",
     "shell.execute_reply": "2024-07-01T16:26:01.744478Z"
    },
    "id": "N33x29M6Xb4W",
    "papermill": {
     "duration": 0.08772,
     "end_time": "2024-07-01T16:26:01.747793",
     "exception": false,
     "start_time": "2024-07-01T16:26:01.660073",
     "status": "completed"
    },
    "tags": []
   },
   "outputs": [],
   "source": [
    "# Identify columns with all zero values\n",
    "cols_to_keep = ~np.all(pnl_array == 0, axis=0)\n",
    "\n",
    "# Drop columns with all zero values\n",
    "pnl_array = pnl_array[:, cols_to_keep]"
   ]
  },
  {
   "cell_type": "markdown",
   "id": "e6beb4cb",
   "metadata": {
    "id": "l8vKyBBgqnAH",
    "papermill": {
     "duration": 0.064962,
     "end_time": "2024-07-01T16:26:01.877286",
     "exception": false,
     "start_time": "2024-07-01T16:26:01.812324",
     "status": "completed"
    },
    "tags": []
   },
   "source": [
    "# ONC"
   ]
  },
  {
   "cell_type": "code",
   "execution_count": 45,
   "id": "ec705b7a",
   "metadata": {
    "execution": {
     "iopub.execute_input": "2024-07-01T16:26:02.008383Z",
     "iopub.status.busy": "2024-07-01T16:26:02.008050Z",
     "iopub.status.idle": "2024-07-01T16:26:02.086708Z",
     "shell.execute_reply": "2024-07-01T16:26:02.085805Z"
    },
    "id": "TPd5wBN9qnAH",
    "papermill": {
     "duration": 0.147442,
     "end_time": "2024-07-01T16:26:02.089286",
     "exception": false,
     "start_time": "2024-07-01T16:26:01.941844",
     "status": "completed"
    },
    "tags": []
   },
   "outputs": [],
   "source": [
    "from sklearn.cluster import KMeans\n",
    "from sklearn.metrics import silhouette_samples, silhouette_score\n",
    "from sklearn.impute import SimpleImputer"
   ]
  },
  {
   "cell_type": "code",
   "execution_count": 46,
   "id": "359e864c",
   "metadata": {
    "execution": {
     "iopub.execute_input": "2024-07-01T16:26:02.224826Z",
     "iopub.status.busy": "2024-07-01T16:26:02.224473Z",
     "iopub.status.idle": "2024-07-01T16:26:02.248135Z",
     "shell.execute_reply": "2024-07-01T16:26:02.246825Z"
    },
    "id": "0st2dHHbqnAH",
    "papermill": {
     "duration": 0.092771,
     "end_time": "2024-07-01T16:26:02.250717",
     "exception": false,
     "start_time": "2024-07-01T16:26:02.157946",
     "status": "completed"
    },
    "tags": []
   },
   "outputs": [],
   "source": [
    "def cov2corr(cov):\n",
    "    # Derive the correlation matrix from a covariance matrix\n",
    "    std = np.sqrt(np.diag(cov))\n",
    "    corr = cov/np.outer(std,std)\n",
    "    corr[corr<-1], corr[corr>1] = -1,1 #for numerical errors\n",
    "    return corr\n",
    "\n",
    "def clusterKMeansBase(corr0, maxNumClusters=10, n_init=10, debug=False):\n",
    "    corr0[corr0 > 1] = 1\n",
    "    dist_matrix = ((1 - corr0) / 2.)**.5\n",
    "\n",
    "    # Check and handle NaNs before starting the clustering process\n",
    "    if np.any(np.isnan(dist_matrix)):\n",
    "        imputer = SimpleImputer(strategy='mean')\n",
    "        dist_matrix = imputer.fit_transform(dist_matrix)\n",
    "    \n",
    "    silh_coef_optimal = pd.Series(dtype='float64')  # observations matrix\n",
    "    kmeans, stat = None, None\n",
    "    maxNumClusters = min(maxNumClusters, int(np.floor(dist_matrix.shape[0] / 2)))\n",
    "    print(\"maxNumClusters: \" + str(maxNumClusters))\n",
    "    \n",
    "    for init in range(n_init):\n",
    "        for num_clusters in range(2, maxNumClusters + 1):\n",
    "            kmeans_ = KMeans(n_clusters=num_clusters, n_init=10)\n",
    "            kmeans_ = kmeans_.fit(dist_matrix)\n",
    "            silh_coef = silhouette_samples(dist_matrix, kmeans_.labels_)\n",
    "            stat = (silh_coef.mean() / silh_coef.std(), silh_coef_optimal.mean() / silh_coef_optimal.std())\n",
    "\n",
    "            if np.isnan(stat[1]) or stat[0] > stat[1]:\n",
    "                silh_coef_optimal = silh_coef\n",
    "                kmeans = kmeans_\n",
    "                if debug:\n",
    "                    print(kmeans)\n",
    "                    print(stat)\n",
    "                    silhouette_avg = silhouette_score(dist_matrix, kmeans_.labels_)\n",
    "                    print(f\"For n_clusters = {num_clusters} the average silhouette_score is: {silhouette_avg}\")\n",
    "                    print(\"********\")\n",
    "    \n",
    "    if kmeans is None:\n",
    "        raise ValueError(\"KMeans clustering did not produce a valid model.\")\n",
    "    \n",
    "    newIdx = np.argsort(kmeans.labels_)\n",
    "    corr1 = corr0.iloc[newIdx]  # reorder rows\n",
    "    corr1 = corr1.iloc[:, newIdx]  # reorder columns\n",
    "    clstrs = {i: corr0.columns[np.where(kmeans.labels_ == i)[0]].tolist() for i in np.unique(kmeans.labels_)}  # cluster members\n",
    "    silh_coef_optimal = pd.Series(silh_coef_optimal, index=dist_matrix.index)\n",
    "\n",
    "    return corr1, clstrs, silh_coef_optimal\n",
    "\n",
    "def makeNewOutputs(corr0, clstrs, clstrs2):\n",
    "    clstrsNew, newIdx = {}, []\n",
    "    for i in clstrs.keys():\n",
    "        clstrsNew[len(clstrsNew.keys())] = list(clstrs[i])\n",
    "    for i in clstrs2.keys():\n",
    "        clstrsNew[len(clstrsNew.keys())] = list(clstrs2[i])\n",
    "    newIdx = [j for i in clstrsNew for j in clstrsNew[i]]\n",
    "    corrNew = corr0.loc[newIdx, newIdx]\n",
    "    dist = ((1 - corr0) / 2.)**.5\n",
    "    kmeans_labels = np.zeros(len(dist.columns))\n",
    "    for i in clstrsNew.keys():\n",
    "        idxs = [dist.index.get_loc(k) for k in clstrsNew[i]]\n",
    "        kmeans_labels[idxs] = i\n",
    "    silhNew = pd.Series(silhouette_samples(dist, kmeans_labels), index=dist.index)\n",
    "    return corrNew, clstrsNew, silhNew\n",
    "\n",
    "def clusterKMeansTop(corr0: pd.DataFrame, maxNumClusters=None, n_init=10):\n",
    "    if maxNumClusters is None:\n",
    "        maxNumClusters = corr0.shape[1] - 1\n",
    "    corr1, clstrs, silh = clusterKMeansBase(corr0, maxNumClusters=min(maxNumClusters, corr0.shape[1] - 1), n_init=n_init)\n",
    "    print(\"clstrs length: \" + str(len(clstrs.keys())))\n",
    "    print(\"best clustr: \" + str(len(clstrs.keys())))\n",
    "    clusterTstats = {i: np.mean(silh[clstrs[i]]) / np.std(silh[clstrs[i]]) for i in clstrs.keys()}\n",
    "    tStatMean = np.sum(list(clusterTstats.values())) / len(clusterTstats)\n",
    "    redoClusters = [i for i in clusterTstats.keys() if clusterTstats[i] < tStatMean]\n",
    "    if len(redoClusters) <= 2:\n",
    "        print(\"If 2 or less clusters have a quality rating less than the average then stop.\")\n",
    "        print(\"redoCluster <= 1: \" + str(redoClusters) + \" clstrs len: \" + str(len(clstrs.keys())))\n",
    "        return corr1, clstrs, silh\n",
    "    else:\n",
    "        keysRedo = [j for i in redoClusters for j in clstrs[i]]\n",
    "        corrTmp = corr0.loc[keysRedo, keysRedo]\n",
    "        _, clstrs2, _ = clusterKMeansTop(corrTmp, maxNumClusters=min(maxNumClusters, corrTmp.shape[1] - 1), n_init=n_init)\n",
    "        print(\"clstrs2.len, stat: \" + str(len(clstrs2.keys())))\n",
    "        dict_redo_clstrs = {i: clstrs[i] for i in clstrs.keys() if i not in redoClusters}\n",
    "        corrNew, clstrsNew, silhNew = makeNewOutputs(corr0, dict_redo_clstrs, clstrs2)\n",
    "        newTstatMean = np.mean([np.mean(silhNew[clstrsNew[i]]) / np.std(silhNew[clstrsNew[i]]) for i in clstrsNew.keys()])\n",
    "        if newTstatMean <= tStatMean:\n",
    "            print(f\"newTstatMean <= tStatMean: {newTstatMean} (len:newClst) {len(clstrsNew.keys())} <= {tStatMean} (len:Clst) {len(clstrs.keys())}\")\n",
    "            return corr1, clstrs, silh\n",
    "        else:\n",
    "            print(f\"newTstatMean > tStatMean: {newTstatMean} (len:newClst) {len(clstrsNew.keys())} > {tStatMean} (len:Clst) {len(clstrs.keys())}\")\n",
    "            return corrNew, clstrsNew, silhNew"
   ]
  },
  {
   "cell_type": "code",
   "execution_count": 47,
   "id": "332ec8e4",
   "metadata": {
    "execution": {
     "iopub.execute_input": "2024-07-01T16:26:02.390045Z",
     "iopub.status.busy": "2024-07-01T16:26:02.389229Z",
     "iopub.status.idle": "2024-07-01T16:26:02.700415Z",
     "shell.execute_reply": "2024-07-01T16:26:02.699233Z"
    },
    "id": "7FqBCm3aqnAI",
    "papermill": {
     "duration": 0.382976,
     "end_time": "2024-07-01T16:26:02.703575",
     "exception": false,
     "start_time": "2024-07-01T16:26:02.320599",
     "status": "completed"
    },
    "tags": []
   },
   "outputs": [],
   "source": [
    "# FREQUENCY FEATURE TABLE\n",
    "correlation_matrix = np.corrcoef(top_pnl)\n",
    "corr = pd.DataFrame(correlation_matrix)"
   ]
  },
  {
   "cell_type": "code",
   "execution_count": 48,
   "id": "d6ad6b6d",
   "metadata": {
    "execution": {
     "iopub.execute_input": "2024-07-01T16:26:02.884527Z",
     "iopub.status.busy": "2024-07-01T16:26:02.884174Z",
     "iopub.status.idle": "2024-07-01T16:32:44.439645Z",
     "shell.execute_reply": "2024-07-01T16:32:44.438615Z"
    },
    "id": "T5xhYDxSqnAI",
    "outputId": "8e320ecd-3068-4cc2-8563-29ea82274ec2",
    "papermill": {
     "duration": 401.626783,
     "end_time": "2024-07-01T16:32:44.442413",
     "exception": false,
     "start_time": "2024-07-01T16:26:02.815630",
     "status": "completed"
    },
    "tags": []
   },
   "outputs": [
    {
     "data": {
      "image/png": "[encoded data removed]",
      "text/plain": [
       "<Figure size 480x480 with 2 Axes>"
      ]
     },
     "metadata": {},
     "output_type": "display_data"
    },
    {
     "name": "stdout",
     "output_type": "stream",
     "text": [
      "maxNumClusters: 100\n",
      "clstrs length: 2\n",
      "best clustr: 2\n",
      "If 2 or less clusters have a quality rating less than the average then stop.\n",
      "redoCluster <= 1: [0] clstrs len: 2\n"
     ]
    },
    {
     "data": {
      "image/png": "[encoded data removed]",
      "text/plain": [
       "<Figure size 480x480 with 2 Axes>"
      ]
     },
     "metadata": {},
     "output_type": "display_data"
    }
   ],
   "source": [
    "#Draw ground truth\n",
    "matplotlib.pyplot.matshow(corr) #invert y-axis to get origo at lower left corner\n",
    "matplotlib.pyplot.gca().xaxis.tick_bottom()\n",
    "matplotlib.pyplot.gca().invert_yaxis()\n",
    "matplotlib.pyplot.colorbar()\n",
    "matplotlib.pyplot.show()\n",
    "\n",
    "#draw prediction based on ONC\n",
    "corrNew, clstrsNew, silhNew = clusterKMeansTop(corr)\n",
    "matplotlib.pyplot.matshow(corrNew)\n",
    "matplotlib.pyplot.gca().xaxis.tick_bottom()\n",
    "matplotlib.pyplot.gca().invert_yaxis()\n",
    "matplotlib.pyplot.colorbar()\n",
    "matplotlib.pyplot.show()"
   ]
  },
  {
   "cell_type": "code",
   "execution_count": 49,
   "id": "1ab2e15e",
   "metadata": {
    "execution": {
     "iopub.execute_input": "2024-07-01T16:32:44.582702Z",
     "iopub.status.busy": "2024-07-01T16:32:44.581835Z",
     "iopub.status.idle": "2024-07-01T16:32:44.588824Z",
     "shell.execute_reply": "2024-07-01T16:32:44.587807Z"
    },
    "id": "WqXnwhndqnAJ",
    "outputId": "9d773038-928f-4d8e-ca6e-92b8e6c48bd9",
    "papermill": {
     "duration": 0.079684,
     "end_time": "2024-07-01T16:32:44.590967",
     "exception": false,
     "start_time": "2024-07-01T16:32:44.511283",
     "status": "completed"
    },
    "tags": []
   },
   "outputs": [
    {
     "name": "stdout",
     "output_type": "stream",
     "text": [
      "Cluster 0: [6, 202, 192, 168, 51, 128, 18, 38, 183, 132, 179, 201, 194, 29, 120, 145, 197, 176, 36, 138, 66, 61, 62, 134, 135, 156, 105, 11, 106, 8, 118, 124, 167, 81, 175, 181, 119, 73]\n",
      "Cluster 1: [200, 144, 2, 210, 65, 108, 173, 140, 121, 126, 169, 87, 157, 95, 153, 142, 151, 154, 195, 22, 198, 162, 116, 164, 113, 203, 204, 182, 43, 97, 112, 143, 184, 136, 37, 155, 53, 68, 174, 96, 54, 146, 109, 78, 86, 102, 130, 55, 85, 208, 72, 26, 48, 84, 33, 163, 24, 158, 104, 103, 159, 34, 56, 27, 170, 76, 52, 115, 10, 161, 185, 147, 91, 107, 21, 17, 110, 94, 67, 152, 111, 79, 206, 60, 90, 193, 98, 32, 92, 148, 101, 16, 89, 165, 49, 188, 50, 7, 127, 80, 133, 40, 71, 1, 42, 205, 30, 39, 45, 14, 35, 99, 9, 28, 150, 13, 207, 63, 211, 31, 3, 74, 69, 15, 58, 46, 19, 114, 4, 212, 44, 23, 75, 0, 149, 47, 189, 64, 187, 88, 82, 93, 177, 20, 5, 178, 191, 190, 122, 41, 131, 137, 139, 172, 83, 12, 209, 160, 77, 196, 25, 59]\n"
     ]
    }
   ],
   "source": [
    "cluster_lists = []\n",
    "\n",
    "# Iterate through each cluster and its members\n",
    "for cluster_number, cluster_indices in clstrsNew.items():\n",
    "    cluster_list = []\n",
    "\n",
    "    # Iterate through each index in the cluster\n",
    "    for idx in cluster_indices:\n",
    "        trial_number = top_trials[idx].number\n",
    "        cluster_list.append(trial_number)\n",
    "\n",
    "    cluster_lists.append(cluster_list)\n",
    "\n",
    "# Print the lists for each cluster\n",
    "for i, cluster_list in enumerate(cluster_lists):\n",
    "    print(f\"Cluster {i}: {cluster_list}\")"
   ]
  },
  {
   "cell_type": "code",
   "execution_count": 50,
   "id": "959bd666",
   "metadata": {
    "execution": {
     "iopub.execute_input": "2024-07-01T16:32:44.730777Z",
     "iopub.status.busy": "2024-07-01T16:32:44.730435Z",
     "iopub.status.idle": "2024-07-01T16:32:44.739131Z",
     "shell.execute_reply": "2024-07-01T16:32:44.738102Z"
    },
    "id": "mWNyvwA_qnAJ",
    "outputId": "d7fe29f8-120f-4418-8bed-0c959bcc54c2",
    "papermill": {
     "duration": 0.0811,
     "end_time": "2024-07-01T16:32:44.741577",
     "exception": false,
     "start_time": "2024-07-01T16:32:44.660477",
     "status": "completed"
    },
    "tags": []
   },
   "outputs": [
    {
     "name": "stdout",
     "output_type": "stream",
     "text": [
      "Top 10 features for Cluster 0: [4, 11, 10, 6, 2, 1, 9, 5, 0, 7]\n",
      "Top 10 features for Cluster 1: [14, 13, 4, 6, 2, 11, 0, 3, 7, 1]\n"
     ]
    }
   ],
   "source": [
    "top_10_features_per_cluster = []\n",
    "\n",
    "for cluster_number, cluster_indices in clstrsNew.items():\n",
    "    cluster_frequency = {}\n",
    "\n",
    "    for idx in cluster_indices:\n",
    "        trial_params = top_trials[idx].params\n",
    "        for key, value in trial_params.items():\n",
    "            if value == 1:\n",
    "                cluster_frequency[key] = cluster_frequency.get(key, 0) + 1\n",
    "\n",
    "    sorted_cluster_frequency = sorted(cluster_frequency.items(), key=lambda x: x[1], reverse=True)\n",
    "    top_10_features_cluster = [feature for feature, _ in sorted_cluster_frequency[:10]]\n",
    "    top_10_features_per_cluster.append(top_10_features_cluster)\n",
    "    print(f\"Top 10 features for Cluster {cluster_number}: {top_10_features_cluster}\")"
   ]
  },
  {
   "cell_type": "code",
   "execution_count": 51,
   "id": "d773c77d",
   "metadata": {
    "execution": {
     "iopub.execute_input": "2024-07-01T16:32:44.881232Z",
     "iopub.status.busy": "2024-07-01T16:32:44.880461Z",
     "iopub.status.idle": "2024-07-01T16:32:44.886921Z",
     "shell.execute_reply": "2024-07-01T16:32:44.885967Z"
    },
    "id": "mrqWExveqnAJ",
    "outputId": "d389b5ae-50a9-4df1-a572-52518f381b94",
    "papermill": {
     "duration": 0.078686,
     "end_time": "2024-07-01T16:32:44.889095",
     "exception": false,
     "start_time": "2024-07-01T16:32:44.810409",
     "status": "completed"
    },
    "tags": []
   },
   "outputs": [
    {
     "data": {
      "text/plain": [
       "[[4, 11, 10, 6, 2, 1, 9, 5, 0, 7], [14, 13, 4, 6, 2, 11, 0, 3, 7, 1]]"
      ]
     },
     "execution_count": 51,
     "metadata": {},
     "output_type": "execute_result"
    }
   ],
   "source": [
    "top_10_features_per_cluster"
   ]
  },
  {
   "cell_type": "code",
   "execution_count": 52,
   "id": "d9ca588c",
   "metadata": {
    "execution": {
     "iopub.execute_input": "2024-07-01T16:32:45.033286Z",
     "iopub.status.busy": "2024-07-01T16:32:45.032854Z",
     "iopub.status.idle": "2024-07-01T16:32:45.038331Z",
     "shell.execute_reply": "2024-07-01T16:32:45.037262Z"
    },
    "id": "RbGe0Y6FqnAK",
    "papermill": {
     "duration": 0.080364,
     "end_time": "2024-07-01T16:32:45.040405",
     "exception": false,
     "start_time": "2024-07-01T16:32:44.960041",
     "status": "completed"
    },
    "tags": []
   },
   "outputs": [],
   "source": [
    "top10_feat = pd.DataFrame(top_10_features_per_cluster)"
   ]
  },
  {
   "cell_type": "code",
   "execution_count": 53,
   "id": "4e50307d",
   "metadata": {
    "execution": {
     "iopub.execute_input": "2024-07-01T16:32:45.180524Z",
     "iopub.status.busy": "2024-07-01T16:32:45.180168Z",
     "iopub.status.idle": "2024-07-01T16:32:45.239018Z",
     "shell.execute_reply": "2024-07-01T16:32:45.238116Z"
    },
    "id": "2_DrQbneqnAK",
    "papermill": {
     "duration": 0.132386,
     "end_time": "2024-07-01T16:32:45.241357",
     "exception": false,
     "start_time": "2024-07-01T16:32:45.108971",
     "status": "completed"
    },
    "tags": []
   },
   "outputs": [],
   "source": [
    "selected_columns_cluster = []\n",
    "for item in top_10_features_per_cluster:\n",
    "  selected_columns = new_df_no_close_col.iloc[:, item]\n",
    "  selected_columns_cluster.append(selected_columns)"
   ]
  },
  {
   "cell_type": "code",
   "execution_count": 54,
   "id": "1161a86e",
   "metadata": {
    "execution": {
     "iopub.execute_input": "2024-07-01T16:32:45.385010Z",
     "iopub.status.busy": "2024-07-01T16:32:45.384048Z",
     "iopub.status.idle": "2024-07-01T16:32:45.402798Z",
     "shell.execute_reply": "2024-07-01T16:32:45.401822Z"
    },
    "id": "tMmpd-7pLkrQ",
    "outputId": "2b40d40e-9967-4f72-a89c-397850f580c2",
    "papermill": {
     "duration": 0.092261,
     "end_time": "2024-07-01T16:32:45.404840",
     "exception": false,
     "start_time": "2024-07-01T16:32:45.312579",
     "status": "completed"
    },
    "tags": []
   },
   "outputs": [
    {
     "data": {
      "text/plain": [
       "[        volatility_bbli  trend_psar_down_indicator  trend_psar_up_indicator  \\\n",
       " 1                   0.0                        0.0                      0.0   \n",
       " 2                   0.0                        1.0                      0.0   \n",
       " 3                   0.0                        0.0                      0.0   \n",
       " 4                   0.0                        0.0                      0.0   \n",
       " 5                   0.0                        0.0                      0.0   \n",
       " ...                 ...                        ...                      ...   \n",
       " 355991              0.0                        0.0                      0.0   \n",
       " 355992              0.0                        0.0                      0.0   \n",
       " 355993              0.0                        0.0                      0.0   \n",
       " 355994              0.0                        0.0                      0.0   \n",
       " 355995              0.0                        0.0                      0.0   \n",
       " \n",
       "         volatility_kcp  volume_sma_em      volume_em  trend_adx  \\\n",
       " 1             0.541667       0.000000  -18181.818182   0.000000   \n",
       " 2             0.857143       0.000000  148760.330579   0.000000   \n",
       " 3             0.744444       0.000000    3703.703704   0.000000   \n",
       " 4             0.362745       0.000000  -13850.415512   0.000000   \n",
       " 5             0.245614       0.000000   -5830.903790   0.000000   \n",
       " ...                ...            ...            ...        ...   \n",
       " 355991        1.043678   28951.861589   47058.823529  37.495319   \n",
       " 355992        0.589655   31289.578471   -3047.091413  38.276426   \n",
       " 355993        0.793919   23577.951529  -12318.029115  38.721006   \n",
       " 355994        0.768519   15935.388331       0.000000  39.133830   \n",
       " 355995        0.785311    9803.553890       0.000000  39.635279   \n",
       " \n",
       "         volatility_kcw  volume_adi  trend_mass_index  \n",
       " 1             0.000000 -755.000000          0.000000  \n",
       " 2             0.000000 -674.333333          0.000000  \n",
       " 3             0.000000 -539.333333          0.000000  \n",
       " 4             0.000000 -539.333333          0.000000  \n",
       " 5             0.000000 -539.333333          0.000000  \n",
       " ...                ...         ...               ...  \n",
       " 355991        0.225976    0.000000         27.301778  \n",
       " 355992        0.225920    0.000000         27.307636  \n",
       " 355993        0.230542    0.000000         27.354933  \n",
       " 355994        0.196243    0.000000         27.231240  \n",
       " 355995        0.183754    0.000000         27.004277  \n",
       " \n",
       " [355995 rows x 10 columns],\n",
       "         others_dr  momentum_pvo_hist  volatility_bbli  volatility_kcp  \\\n",
       " 1        0.021211           0.000000              0.0        0.541667   \n",
       " 2        0.042413           0.000000              0.0        0.857143   \n",
       " 3       -0.010599           0.000000              0.0        0.744444   \n",
       " 4       -0.031800           0.000000              0.0        0.362745   \n",
       " 5       -0.010603           0.000000              0.0        0.245614   \n",
       " ...           ...                ...              ...             ...   \n",
       " 355991   0.031141          -7.271315              0.0        1.043678   \n",
       " 355992  -0.077827          -7.360857              0.0        0.589655   \n",
       " 355993   0.070099          -7.243682              0.0        0.793919   \n",
       " 355994   0.000000         -12.680050              0.0        0.768519   \n",
       " 355995   0.015567           1.086587              0.0        0.785311   \n",
       " \n",
       "         volume_sma_em  trend_psar_down_indicator  volume_adi  volatility_bbhi  \\\n",
       " 1            0.000000                        0.0 -755.000000              0.0   \n",
       " 2            0.000000                        1.0 -674.333333              0.0   \n",
       " 3            0.000000                        0.0 -539.333333              0.0   \n",
       " 4            0.000000                        0.0 -539.333333              0.0   \n",
       " 5            0.000000                        0.0 -539.333333              0.0   \n",
       " ...               ...                        ...         ...              ...   \n",
       " 355991   28951.861589                        0.0    0.000000              0.0   \n",
       " 355992   31289.578471                        0.0    0.000000              0.0   \n",
       " 355993   23577.951529                        0.0    0.000000              0.0   \n",
       " 355994   15935.388331                        0.0    0.000000              0.0   \n",
       " 355995    9803.553890                        0.0    0.000000              0.0   \n",
       " \n",
       "         trend_mass_index      volume_em  \n",
       " 1               0.000000  -18181.818182  \n",
       " 2               0.000000  148760.330579  \n",
       " 3               0.000000    3703.703704  \n",
       " 4               0.000000  -13850.415512  \n",
       " 5               0.000000   -5830.903790  \n",
       " ...                  ...            ...  \n",
       " 355991         27.301778   47058.823529  \n",
       " 355992         27.307636   -3047.091413  \n",
       " 355993         27.354933  -12318.029115  \n",
       " 355994         27.231240       0.000000  \n",
       " 355995         27.004277       0.000000  \n",
       " \n",
       " [355995 rows x 10 columns]]"
      ]
     },
     "execution_count": 54,
     "metadata": {},
     "output_type": "execute_result"
    }
   ],
   "source": [
    "selected_columns_cluster"
   ]
  },
  {
   "cell_type": "markdown",
   "id": "e8f55309",
   "metadata": {
    "id": "tuOGlO_tqnAK",
    "papermill": {
     "duration": 0.069617,
     "end_time": "2024-07-01T16:32:45.544296",
     "exception": false,
     "start_time": "2024-07-01T16:32:45.474679",
     "status": "completed"
    },
    "tags": []
   },
   "source": [
    "# Model selection"
   ]
  },
  {
   "cell_type": "markdown",
   "id": "95f4ee24",
   "metadata": {
    "id": "rxwojZV6qnAK",
    "papermill": {
     "duration": 0.069934,
     "end_time": "2024-07-01T16:32:45.683845",
     "exception": false,
     "start_time": "2024-07-01T16:32:45.613911",
     "status": "completed"
    },
    "tags": []
   },
   "source": [
    "## Custom Early Stopping"
   ]
  },
  {
   "cell_type": "code",
   "execution_count": 55,
   "id": "2f02435b",
   "metadata": {
    "execution": {
     "iopub.execute_input": "2024-07-01T16:32:45.825530Z",
     "iopub.status.busy": "2024-07-01T16:32:45.824679Z",
     "iopub.status.idle": "2024-07-01T16:32:45.829209Z",
     "shell.execute_reply": "2024-07-01T16:32:45.828173Z"
    },
    "id": "FSf9W4XzqnAL",
    "papermill": {
     "duration": 0.078108,
     "end_time": "2024-07-01T16:32:45.831191",
     "exception": false,
     "start_time": "2024-07-01T16:32:45.753083",
     "status": "completed"
    },
    "tags": []
   },
   "outputs": [],
   "source": [
    "from xgboost import callback"
   ]
  },
  {
   "cell_type": "code",
   "execution_count": 56,
   "id": "42767a80",
   "metadata": {
    "execution": {
     "iopub.execute_input": "2024-07-01T16:32:45.972096Z",
     "iopub.status.busy": "2024-07-01T16:32:45.971346Z",
     "iopub.status.idle": "2024-07-01T16:32:45.979778Z",
     "shell.execute_reply": "2024-07-01T16:32:45.978825Z"
    },
    "id": "CUVrgTA4qnAL",
    "papermill": {
     "duration": 0.082047,
     "end_time": "2024-07-01T16:32:45.981833",
     "exception": false,
     "start_time": "2024-07-01T16:32:45.899786",
     "status": "completed"
    },
    "tags": []
   },
   "outputs": [],
   "source": [
    "min_delta = 0.0001\n",
    "patience = 30\n",
    "\n",
    "\n",
    "class CustomEarlyStopping(callback.TrainingCallback):\n",
    "    def __init__(self, min_delta, patience, verbose=False):\n",
    "        super().__init__()\n",
    "        self.min_delta = min_delta\n",
    "        self.patience = patience\n",
    "        self.verbose = verbose\n",
    "        self.best_score = np.inf\n",
    "        self.wait = 0\n",
    "        self.stopped_epoch = 0\n",
    "\n",
    "    def after_iteration(self, model, epoch, evals_log):\n",
    "        if not evals_log:\n",
    "            return False\n",
    "        metric_name = next(iter(evals_log['validation_0']))\n",
    "        score = evals_log['validation_0'][metric_name][-1]\n",
    "        if score < (self.best_score - self.min_delta):\n",
    "            self.best_score = score\n",
    "            self.wait = 0\n",
    "        else:\n",
    "            self.wait += 1\n",
    "            if self.wait >= self.patience:\n",
    "                if self.verbose:\n",
    "                    print(f\"\\nStopping. Best score: {self.best_score}\")\n",
    "                self.stopped_epoch = epoch\n",
    "                return True\n",
    "        return False\n",
    "\n",
    "    def get_best_score(self):\n",
    "        return self.best_score"
   ]
  },
  {
   "cell_type": "markdown",
   "id": "f9ab98fa",
   "metadata": {
    "id": "VNG_94woqnAL",
    "papermill": {
     "duration": 0.08135,
     "end_time": "2024-07-01T16:32:46.142596",
     "exception": false,
     "start_time": "2024-07-01T16:32:46.061246",
     "status": "completed"
    },
    "tags": []
   },
   "source": [
    "## Hyperparameter Tuning"
   ]
  },
  {
   "cell_type": "code",
   "execution_count": 57,
   "id": "205feb5c",
   "metadata": {
    "execution": {
     "iopub.execute_input": "2024-07-01T16:32:46.291374Z",
     "iopub.status.busy": "2024-07-01T16:32:46.290997Z",
     "iopub.status.idle": "2024-07-01T16:32:46.300675Z",
     "shell.execute_reply": "2024-07-01T16:32:46.299471Z"
    },
    "id": "T0bcD4ZRqnAL",
    "papermill": {
     "duration": 0.089922,
     "end_time": "2024-07-01T16:32:46.302998",
     "exception": false,
     "start_time": "2024-07-01T16:32:46.213076",
     "status": "completed"
    },
    "tags": []
   },
   "outputs": [],
   "source": [
    "def objective_params(trial, X_train, X_valid, y_train, y_valid, y_close):\n",
    "    # Define the hyperparameter search space\n",
    "    params = {\n",
    "        'n_estimators': trial.suggest_int('n_estimators', 50, 300),\n",
    "        'learning_rate': trial.suggest_float('learning_rate', 0.01, 0.1),\n",
    "        'max_depth': trial.suggest_int('max_depth', 3, 10),\n",
    "        'min_samples_split' : trial.suggest_int('min_samples_split', 2, 10),\n",
    "        'min_samples_leaf': trial.suggest_int('min_samples_leaf', 1, 10)\n",
    "        }\n",
    "    trade_threshold  = 0.0005\n",
    "\n",
    "    # Check duplication and skip if it's detected.\n",
    "    for t in trial.study.trials:\n",
    "        if t.state != optuna.trial.TrialState.COMPLETE:\n",
    "            continue\n",
    "        if t.params == trial.params:\n",
    "            return np.nan #t.values  # Return the previous value without re-evaluating i\n",
    "\n",
    "\n",
    "    custom_early_stopping_instance = CustomEarlyStopping(min_delta=min_delta, patience=patience, verbose=True)\n",
    "\n",
    "    # Train the model\n",
    "    model = GradientBoostingRegressor(**params)\n",
    "    model.fit(X_train, y_train)\n",
    "\n",
    "    y_pred_train = model.predict(X_train)\n",
    "    y_pred_valid = model.predict(X_valid)\n",
    "\n",
    "\n",
    "    pos, pnl, daily_pnl, sharpe_is = sharpe_for_vn30f(y_pred_train, y_close[:len(y_pred_train)], trade_threshold=trade_threshold, fee_perc=0.01, periods=10)\n",
    "    _, _, _, sharpe_oos = sharpe_for_vn30f(y_pred_valid, y_close[len(y_pred_train):], trade_threshold=trade_threshold, fee_perc=0.01, periods=10)\n",
    "\n",
    "    return sharpe_oos, abs((abs(sharpe_is / sharpe_oos))-1)"
   ]
  },
  {
   "cell_type": "code",
   "execution_count": 58,
   "id": "8fb9334a",
   "metadata": {
    "execution": {
     "iopub.execute_input": "2024-07-01T16:32:46.451686Z",
     "iopub.status.busy": "2024-07-01T16:32:46.450871Z",
     "iopub.status.idle": "2024-07-01T16:32:46.455858Z",
     "shell.execute_reply": "2024-07-01T16:32:46.454954Z"
    },
    "papermill": {
     "duration": 0.085061,
     "end_time": "2024-07-01T16:32:46.458509",
     "exception": false,
     "start_time": "2024-07-01T16:32:46.373448",
     "status": "completed"
    },
    "tags": []
   },
   "outputs": [],
   "source": [
    "import pickle"
   ]
  },
  {
   "cell_type": "code",
   "execution_count": 59,
   "id": "7c7711c6",
   "metadata": {
    "execution": {
     "iopub.execute_input": "2024-07-01T16:32:46.614980Z",
     "iopub.status.busy": "2024-07-01T16:32:46.613986Z",
     "iopub.status.idle": "2024-07-01T23:21:17.079639Z",
     "shell.execute_reply": "2024-07-01T23:21:17.078184Z"
    },
    "id": "gKNvShYMqnAM",
    "outputId": "a8eb0472-b604-4434-87c3-18351bbca671",
    "papermill": {
     "duration": 24510.545578,
     "end_time": "2024-07-01T23:21:17.082704",
     "exception": false,
     "start_time": "2024-07-01T16:32:46.537126",
     "status": "completed"
    },
    "tags": []
   },
   "outputs": [
    {
     "name": "stderr",
     "output_type": "stream",
     "text": [
      "/opt/conda/lib/python3.10/site-packages/numpy/core/fromnumeric.py:59: FutureWarning: 'DataFrame.swapaxes' is deprecated and will be removed in a future version. Please use 'DataFrame.transpose' instead.\n",
      "  return bound(*args, **kwds)\n",
      "[I 2024-07-01 16:32:46,698] A new study created in memory with name: no-name-6303a6bc-2165-4d27-939f-8781eb34b90e\n"
     ]
    },
    {
     "name": "stdout",
     "output_type": "stream",
     "text": [
      "A new study created in memory with name: no-name-6303a6bc-2165-4d27-939f-8781eb34b90e\n"
     ]
    },
    {
     "name": "stderr",
     "output_type": "stream",
     "text": [
      "[I 2024-07-01 16:34:32,379] Trial 0 finished with values: [0.39324270612329865, 2.596848953592262] and parameters: {'n_estimators': 128, 'learning_rate': 0.03496470490769911, 'max_depth': 7, 'min_samples_split': 9, 'min_samples_leaf': 9}. \n"
     ]
    },
    {
     "name": "stdout",
     "output_type": "stream",
     "text": [
      "Trial 0 finished with values: [0.39324270612329865, 2.596848953592262] and parameters: {'n_estimators': 128, 'learning_rate': 0.03496470490769911, 'max_depth': 7, 'min_samples_split': 9, 'min_samples_leaf': 9}. \n"
     ]
    },
    {
     "name": "stderr",
     "output_type": "stream",
     "text": [
      "[I 2024-07-01 16:37:17,678] Trial 1 finished with values: [0.25660352479863596, 5.339730943258025] and parameters: {'n_estimators': 158, 'learning_rate': 0.012208283956934823, 'max_depth': 9, 'min_samples_split': 9, 'min_samples_leaf': 9}. \n"
     ]
    },
    {
     "name": "stdout",
     "output_type": "stream",
     "text": [
      "Trial 1 finished with values: [0.25660352479863596, 5.339730943258025] and parameters: {'n_estimators': 158, 'learning_rate': 0.012208283956934823, 'max_depth': 9, 'min_samples_split': 9, 'min_samples_leaf': 9}. \n"
     ]
    },
    {
     "name": "stderr",
     "output_type": "stream",
     "text": [
      "[I 2024-07-01 16:39:06,367] Trial 2 finished with values: [1.1943181769266031, 0.5204416559246303] and parameters: {'n_estimators': 155, 'learning_rate': 0.07274558334023173, 'max_depth': 6, 'min_samples_split': 2, 'min_samples_leaf': 3}. \n"
     ]
    },
    {
     "name": "stdout",
     "output_type": "stream",
     "text": [
      "Trial 2 finished with values: [1.1943181769266031, 0.5204416559246303] and parameters: {'n_estimators': 155, 'learning_rate': 0.07274558334023173, 'max_depth': 6, 'min_samples_split': 2, 'min_samples_leaf': 3}. \n"
     ]
    },
    {
     "name": "stderr",
     "output_type": "stream",
     "text": [
      "[I 2024-07-01 16:39:27,823] Trial 3 finished with values: [0.7812681820013708, 0.4452032062050588] and parameters: {'n_estimators': 61, 'learning_rate': 0.04605106642870503, 'max_depth': 3, 'min_samples_split': 6, 'min_samples_leaf': 9}. \n"
     ]
    },
    {
     "name": "stdout",
     "output_type": "stream",
     "text": [
      "Trial 3 finished with values: [0.7812681820013708, 0.4452032062050588] and parameters: {'n_estimators': 61, 'learning_rate': 0.04605106642870503, 'max_depth': 3, 'min_samples_split': 6, 'min_samples_leaf': 9}. \n"
     ]
    },
    {
     "name": "stderr",
     "output_type": "stream",
     "text": [
      "[I 2024-07-01 16:41:03,785] Trial 4 finished with values: [0.012876074088714943, 110.31469359924917] and parameters: {'n_estimators': 164, 'learning_rate': 0.07891571283117634, 'max_depth': 5, 'min_samples_split': 5, 'min_samples_leaf': 7}. \n"
     ]
    },
    {
     "name": "stdout",
     "output_type": "stream",
     "text": [
      "Trial 4 finished with values: [0.012876074088714943, 110.31469359924917] and parameters: {'n_estimators': 164, 'learning_rate': 0.07891571283117634, 'max_depth': 5, 'min_samples_split': 5, 'min_samples_leaf': 7}. \n"
     ]
    },
    {
     "name": "stderr",
     "output_type": "stream",
     "text": [
      "[I 2024-07-01 16:43:23,309] Trial 5 finished with values: [1.0437453873781706, 2.36208457617946] and parameters: {'n_estimators': 241, 'learning_rate': 0.05978210572013906, 'max_depth': 5, 'min_samples_split': 4, 'min_samples_leaf': 1}. \n"
     ]
    },
    {
     "name": "stdout",
     "output_type": "stream",
     "text": [
      "Trial 5 finished with values: [1.0437453873781706, 2.36208457617946] and parameters: {'n_estimators': 241, 'learning_rate': 0.05978210572013906, 'max_depth': 5, 'min_samples_split': 4, 'min_samples_leaf': 1}. \n"
     ]
    },
    {
     "name": "stderr",
     "output_type": "stream",
     "text": [
      "[I 2024-07-01 16:46:07,268] Trial 6 finished with values: [0.48923036535652753, 1.7413738001264059] and parameters: {'n_estimators': 282, 'learning_rate': 0.013403045432114923, 'max_depth': 5, 'min_samples_split': 8, 'min_samples_leaf': 7}. \n"
     ]
    },
    {
     "name": "stdout",
     "output_type": "stream",
     "text": [
      "Trial 6 finished with values: [0.48923036535652753, 1.7413738001264059] and parameters: {'n_estimators': 282, 'learning_rate': 0.013403045432114923, 'max_depth': 5, 'min_samples_split': 8, 'min_samples_leaf': 7}. \n"
     ]
    },
    {
     "name": "stderr",
     "output_type": "stream",
     "text": [
      "[I 2024-07-01 16:49:38,415] Trial 7 finished with values: [0.15960501660923712, 8.724184458889123] and parameters: {'n_estimators': 200, 'learning_rate': 0.016756981198327046, 'max_depth': 9, 'min_samples_split': 4, 'min_samples_leaf': 8}. \n"
     ]
    },
    {
     "name": "stdout",
     "output_type": "stream",
     "text": [
      "Trial 7 finished with values: [0.15960501660923712, 8.724184458889123] and parameters: {'n_estimators': 200, 'learning_rate': 0.016756981198327046, 'max_depth': 9, 'min_samples_split': 4, 'min_samples_leaf': 8}. \n"
     ]
    },
    {
     "name": "stderr",
     "output_type": "stream",
     "text": [
      "[I 2024-07-01 16:50:53,942] Trial 8 finished with values: [-0.5622786685608522, 4.6014179166777645] and parameters: {'n_estimators': 163, 'learning_rate': 0.08970212556184229, 'max_depth': 4, 'min_samples_split': 5, 'min_samples_leaf': 1}. \n"
     ]
    },
    {
     "name": "stdout",
     "output_type": "stream",
     "text": [
      "Trial 8 finished with values: [-0.5622786685608522, 4.6014179166777645] and parameters: {'n_estimators': 163, 'learning_rate': 0.08970212556184229, 'max_depth': 4, 'min_samples_split': 5, 'min_samples_leaf': 1}. \n"
     ]
    },
    {
     "name": "stderr",
     "output_type": "stream",
     "text": [
      "[I 2024-07-01 16:51:53,523] Trial 9 finished with values: [0.018122755509876305, 122.80012663002739] and parameters: {'n_estimators': 128, 'learning_rate': 0.062114095208012456, 'max_depth': 4, 'min_samples_split': 9, 'min_samples_leaf': 1}. \n"
     ]
    },
    {
     "name": "stdout",
     "output_type": "stream",
     "text": [
      "Trial 9 finished with values: [0.018122755509876305, 122.80012663002739] and parameters: {'n_estimators': 128, 'learning_rate': 0.062114095208012456, 'max_depth': 4, 'min_samples_split': 9, 'min_samples_leaf': 1}. \n"
     ]
    },
    {
     "name": "stderr",
     "output_type": "stream",
     "text": [
      "[I 2024-07-01 16:52:57,489] Trial 10 finished with values: [-0.3702859195394051, 2.6678263316138344] and parameters: {'n_estimators': 109, 'learning_rate': 0.06253985609647109, 'max_depth': 5, 'min_samples_split': 2, 'min_samples_leaf': 10}. \n"
     ]
    },
    {
     "name": "stdout",
     "output_type": "stream",
     "text": [
      "Trial 10 finished with values: [-0.3702859195394051, 2.6678263316138344] and parameters: {'n_estimators': 109, 'learning_rate': 0.06253985609647109, 'max_depth': 5, 'min_samples_split': 2, 'min_samples_leaf': 10}. \n"
     ]
    },
    {
     "name": "stderr",
     "output_type": "stream",
     "text": [
      "[I 2024-07-01 16:54:58,313] Trial 11 finished with values: [0.3883611155726211, 2.5899781157253026] and parameters: {'n_estimators': 258, 'learning_rate': 0.07173196389790681, 'max_depth': 4, 'min_samples_split': 5, 'min_samples_leaf': 7}. \n"
     ]
    },
    {
     "name": "stdout",
     "output_type": "stream",
     "text": [
      "Trial 11 finished with values: [0.3883611155726211, 2.5899781157253026] and parameters: {'n_estimators': 258, 'learning_rate': 0.07173196389790681, 'max_depth': 4, 'min_samples_split': 5, 'min_samples_leaf': 7}. \n"
     ]
    },
    {
     "name": "stderr",
     "output_type": "stream",
     "text": [
      "[I 2024-07-01 16:58:04,080] Trial 12 finished with values: [0.45105082441032446, 5.425049176515441] and parameters: {'n_estimators': 267, 'learning_rate': 0.024688203604256706, 'max_depth': 6, 'min_samples_split': 10, 'min_samples_leaf': 1}. \n"
     ]
    },
    {
     "name": "stdout",
     "output_type": "stream",
     "text": [
      "Trial 12 finished with values: [0.45105082441032446, 5.425049176515441] and parameters: {'n_estimators': 267, 'learning_rate': 0.024688203604256706, 'max_depth': 6, 'min_samples_split': 10, 'min_samples_leaf': 1}. \n"
     ]
    },
    {
     "name": "stderr",
     "output_type": "stream",
     "text": [
      "[I 2024-07-01 16:58:58,527] Trial 13 finished with values: [0.96638982060324, 0.11995120596645426] and parameters: {'n_estimators': 116, 'learning_rate': 0.07093848785841447, 'max_depth': 4, 'min_samples_split': 3, 'min_samples_leaf': 9}. \n"
     ]
    },
    {
     "name": "stdout",
     "output_type": "stream",
     "text": [
      "Trial 13 finished with values: [0.96638982060324, 0.11995120596645426] and parameters: {'n_estimators': 116, 'learning_rate': 0.07093848785841447, 'max_depth': 4, 'min_samples_split': 3, 'min_samples_leaf': 9}. \n"
     ]
    },
    {
     "name": "stderr",
     "output_type": "stream",
     "text": [
      "[I 2024-07-01 17:00:24,745] Trial 14 finished with values: [0.4622298339694569, 4.880132263025427] and parameters: {'n_estimators': 246, 'learning_rate': 0.09036324347537743, 'max_depth': 3, 'min_samples_split': 6, 'min_samples_leaf': 1}. \n"
     ]
    },
    {
     "name": "stdout",
     "output_type": "stream",
     "text": [
      "Trial 14 finished with values: [0.4622298339694569, 4.880132263025427] and parameters: {'n_estimators': 246, 'learning_rate': 0.09036324347537743, 'max_depth': 3, 'min_samples_split': 6, 'min_samples_leaf': 1}. \n"
     ]
    },
    {
     "name": "stderr",
     "output_type": "stream",
     "text": [
      "[I 2024-07-01 17:03:22,323] Trial 15 finished with values: [0.9052502867820359, 2.137636161662672] and parameters: {'n_estimators': 216, 'learning_rate': 0.08021288378876498, 'max_depth': 7, 'min_samples_split': 7, 'min_samples_leaf': 3}. \n"
     ]
    },
    {
     "name": "stdout",
     "output_type": "stream",
     "text": [
      "Trial 15 finished with values: [0.9052502867820359, 2.137636161662672] and parameters: {'n_estimators': 216, 'learning_rate': 0.08021288378876498, 'max_depth': 7, 'min_samples_split': 7, 'min_samples_leaf': 3}. \n"
     ]
    },
    {
     "name": "stderr",
     "output_type": "stream",
     "text": [
      "[I 2024-07-01 17:06:03,159] Trial 16 finished with values: [0.5558558948343375, 7.811985703723499] and parameters: {'n_estimators': 199, 'learning_rate': 0.05653766591079317, 'max_depth': 7, 'min_samples_split': 2, 'min_samples_leaf': 1}. \n"
     ]
    },
    {
     "name": "stdout",
     "output_type": "stream",
     "text": [
      "Trial 16 finished with values: [0.5558558948343375, 7.811985703723499] and parameters: {'n_estimators': 199, 'learning_rate': 0.05653766591079317, 'max_depth': 7, 'min_samples_split': 2, 'min_samples_leaf': 1}. \n"
     ]
    },
    {
     "name": "stderr",
     "output_type": "stream",
     "text": [
      "[I 2024-07-01 17:08:25,067] Trial 17 finished with values: [-0.16916787794952662, 7.201601267657649] and parameters: {'n_estimators': 241, 'learning_rate': 0.08452603700741693, 'max_depth': 5, 'min_samples_split': 2, 'min_samples_leaf': 9}. \n"
     ]
    },
    {
     "name": "stdout",
     "output_type": "stream",
     "text": [
      "Trial 17 finished with values: [-0.16916787794952662, 7.201601267657649] and parameters: {'n_estimators': 241, 'learning_rate': 0.08452603700741693, 'max_depth': 5, 'min_samples_split': 2, 'min_samples_leaf': 9}. \n"
     ]
    },
    {
     "name": "stderr",
     "output_type": "stream",
     "text": [
      "[I 2024-07-01 17:11:37,762] Trial 18 finished with values: [0.13820761148220256, 10.344132204125367] and parameters: {'n_estimators': 182, 'learning_rate': 0.017499527427962184, 'max_depth': 9, 'min_samples_split': 4, 'min_samples_leaf': 8}. \n"
     ]
    },
    {
     "name": "stdout",
     "output_type": "stream",
     "text": [
      "Trial 18 finished with values: [0.13820761148220256, 10.344132204125367] and parameters: {'n_estimators': 182, 'learning_rate': 0.017499527427962184, 'max_depth': 9, 'min_samples_split': 4, 'min_samples_leaf': 8}. \n"
     ]
    },
    {
     "name": "stderr",
     "output_type": "stream",
     "text": [
      "[I 2024-07-01 17:13:59,961] Trial 19 finished with values: [-0.20725065367653298, 7.867736939216783] and parameters: {'n_estimators': 134, 'learning_rate': 0.05799653611756489, 'max_depth': 9, 'min_samples_split': 9, 'min_samples_leaf': 5}. \n"
     ]
    },
    {
     "name": "stdout",
     "output_type": "stream",
     "text": [
      "Trial 19 finished with values: [-0.20725065367653298, 7.867736939216783] and parameters: {'n_estimators': 134, 'learning_rate': 0.05799653611756489, 'max_depth': 9, 'min_samples_split': 9, 'min_samples_leaf': 5}. \n"
     ]
    },
    {
     "name": "stderr",
     "output_type": "stream",
     "text": [
      "[I 2024-07-01 17:16:46,755] Trial 20 finished with values: [0.3655988219972219, 3.330282934734532] and parameters: {'n_estimators': 158, 'learning_rate': 0.014244758271488626, 'max_depth': 9, 'min_samples_split': 8, 'min_samples_leaf': 8}. \n"
     ]
    },
    {
     "name": "stdout",
     "output_type": "stream",
     "text": [
      "Trial 20 finished with values: [0.3655988219972219, 3.330282934734532] and parameters: {'n_estimators': 158, 'learning_rate': 0.014244758271488626, 'max_depth': 9, 'min_samples_split': 8, 'min_samples_leaf': 8}. \n"
     ]
    },
    {
     "name": "stderr",
     "output_type": "stream",
     "text": [
      "[I 2024-07-01 17:21:50,953] Trial 21 finished with values: [-1.4477067421167777, 1.0805940907364793] and parameters: {'n_estimators': 257, 'learning_rate': 0.011914072693541526, 'max_depth': 10, 'min_samples_split': 9, 'min_samples_leaf': 1}. \n"
     ]
    },
    {
     "name": "stdout",
     "output_type": "stream",
     "text": [
      "Trial 21 finished with values: [-1.4477067421167777, 1.0805940907364793] and parameters: {'n_estimators': 257, 'learning_rate': 0.011914072693541526, 'max_depth': 10, 'min_samples_split': 9, 'min_samples_leaf': 1}. \n"
     ]
    },
    {
     "name": "stderr",
     "output_type": "stream",
     "text": [
      "[I 2024-07-01 17:26:36,668] Trial 22 finished with values: [-0.19739268778031868, 20.28449138891027] and parameters: {'n_estimators': 268, 'learning_rate': 0.07892755160654004, 'max_depth': 9, 'min_samples_split': 8, 'min_samples_leaf': 3}. \n"
     ]
    },
    {
     "name": "stdout",
     "output_type": "stream",
     "text": [
      "Trial 22 finished with values: [-0.19739268778031868, 20.28449138891027] and parameters: {'n_estimators': 268, 'learning_rate': 0.07892755160654004, 'max_depth': 9, 'min_samples_split': 8, 'min_samples_leaf': 3}. \n"
     ]
    },
    {
     "name": "stderr",
     "output_type": "stream",
     "text": [
      "[I 2024-07-01 17:29:43,246] Trial 23 finished with values: [0.38207002450151845, 2.916030194198333] and parameters: {'n_estimators': 259, 'learning_rate': 0.047484387097059606, 'max_depth': 6, 'min_samples_split': 7, 'min_samples_leaf': 7}. \n"
     ]
    },
    {
     "name": "stdout",
     "output_type": "stream",
     "text": [
      "Trial 23 finished with values: [0.38207002450151845, 2.916030194198333] and parameters: {'n_estimators': 259, 'learning_rate': 0.047484387097059606, 'max_depth': 6, 'min_samples_split': 7, 'min_samples_leaf': 7}. \n"
     ]
    },
    {
     "name": "stderr",
     "output_type": "stream",
     "text": [
      "[I 2024-07-01 17:30:14,851] Trial 24 finished with values: [0.2939598413586262, 2.178052584030213] and parameters: {'n_estimators': 67, 'learning_rate': 0.044790841150301054, 'max_depth': 4, 'min_samples_split': 4, 'min_samples_leaf': 7}. \n"
     ]
    },
    {
     "name": "stdout",
     "output_type": "stream",
     "text": [
      "Trial 24 finished with values: [0.2939598413586262, 2.178052584030213] and parameters: {'n_estimators': 67, 'learning_rate': 0.044790841150301054, 'max_depth': 4, 'min_samples_split': 4, 'min_samples_leaf': 7}. \n"
     ]
    },
    {
     "name": "stderr",
     "output_type": "stream",
     "text": [
      "[I 2024-07-01 17:32:46,921] Trial 25 finished with values: [0.5332612280355215, 1.8047334385918687] and parameters: {'n_estimators': 185, 'learning_rate': 0.08771221834512935, 'max_depth': 7, 'min_samples_split': 3, 'min_samples_leaf': 7}. \n"
     ]
    },
    {
     "name": "stdout",
     "output_type": "stream",
     "text": [
      "Trial 25 finished with values: [0.5332612280355215, 1.8047334385918687] and parameters: {'n_estimators': 185, 'learning_rate': 0.08771221834512935, 'max_depth': 7, 'min_samples_split': 3, 'min_samples_leaf': 7}. \n"
     ]
    },
    {
     "name": "stderr",
     "output_type": "stream",
     "text": [
      "[I 2024-07-01 17:34:34,469] Trial 26 finished with values: [0.5594033612270732, 2.5404084852491855] and parameters: {'n_estimators': 115, 'learning_rate': 0.07069324290140072, 'max_depth': 8, 'min_samples_split': 7, 'min_samples_leaf': 4}. \n"
     ]
    },
    {
     "name": "stdout",
     "output_type": "stream",
     "text": [
      "Trial 26 finished with values: [0.5594033612270732, 2.5404084852491855] and parameters: {'n_estimators': 115, 'learning_rate': 0.07069324290140072, 'max_depth': 8, 'min_samples_split': 7, 'min_samples_leaf': 4}. \n"
     ]
    },
    {
     "name": "stderr",
     "output_type": "stream",
     "text": [
      "[I 2024-07-01 17:35:29,581] Trial 27 finished with values: [0.3570251955959908, 3.035053767742074] and parameters: {'n_estimators': 78, 'learning_rate': 0.08260797614122564, 'max_depth': 6, 'min_samples_split': 5, 'min_samples_leaf': 9}. \n"
     ]
    },
    {
     "name": "stdout",
     "output_type": "stream",
     "text": [
      "Trial 27 finished with values: [0.3570251955959908, 3.035053767742074] and parameters: {'n_estimators': 78, 'learning_rate': 0.08260797614122564, 'max_depth': 6, 'min_samples_split': 5, 'min_samples_leaf': 9}. \n"
     ]
    },
    {
     "name": "stderr",
     "output_type": "stream",
     "text": [
      "[I 2024-07-01 17:38:05,309] Trial 28 finished with values: [1.3173367253109363, 0.9955463448035551] and parameters: {'n_estimators': 220, 'learning_rate': 0.09309706870128952, 'max_depth': 6, 'min_samples_split': 3, 'min_samples_leaf': 4}. \n"
     ]
    },
    {
     "name": "stdout",
     "output_type": "stream",
     "text": [
      "Trial 28 finished with values: [1.3173367253109363, 0.9955463448035551] and parameters: {'n_estimators': 220, 'learning_rate': 0.09309706870128952, 'max_depth': 6, 'min_samples_split': 3, 'min_samples_leaf': 4}. \n"
     ]
    },
    {
     "name": "stderr",
     "output_type": "stream",
     "text": [
      "[I 2024-07-01 17:41:31,573] Trial 29 finished with values: [0.9482596407526053, 0.987272524122963] and parameters: {'n_estimators': 293, 'learning_rate': 0.07459756900163494, 'max_depth': 6, 'min_samples_split': 9, 'min_samples_leaf': 5}. \n"
     ]
    },
    {
     "name": "stdout",
     "output_type": "stream",
     "text": [
      "Trial 29 finished with values: [0.9482596407526053, 0.987272524122963] and parameters: {'n_estimators': 293, 'learning_rate': 0.07459756900163494, 'max_depth': 6, 'min_samples_split': 9, 'min_samples_leaf': 5}. \n"
     ]
    },
    {
     "name": "stderr",
     "output_type": "stream",
     "text": [
      "[I 2024-07-01 17:42:54,856] Trial 30 finished with values: [-0.10351610377012295, 33.84518823659639] and parameters: {'n_estimators': 181, 'learning_rate': 0.09443315599301981, 'max_depth': 4, 'min_samples_split': 5, 'min_samples_leaf': 1}. \n"
     ]
    },
    {
     "name": "stdout",
     "output_type": "stream",
     "text": [
      "Trial 30 finished with values: [-0.10351610377012295, 33.84518823659639] and parameters: {'n_estimators': 181, 'learning_rate': 0.09443315599301981, 'max_depth': 4, 'min_samples_split': 5, 'min_samples_leaf': 1}. \n"
     ]
    },
    {
     "name": "stderr",
     "output_type": "stream",
     "text": [
      "[I 2024-07-01 17:43:51,822] Trial 31 finished with values: [0.3317935844183311, 2.8533416067327866] and parameters: {'n_estimators': 97, 'learning_rate': 0.014244669831322974, 'max_depth': 5, 'min_samples_split': 6, 'min_samples_leaf': 7}. \n"
     ]
    },
    {
     "name": "stdout",
     "output_type": "stream",
     "text": [
      "Trial 31 finished with values: [0.3317935844183311, 2.8533416067327866] and parameters: {'n_estimators': 97, 'learning_rate': 0.014244669831322974, 'max_depth': 5, 'min_samples_split': 6, 'min_samples_leaf': 7}. \n"
     ]
    },
    {
     "name": "stderr",
     "output_type": "stream",
     "text": [
      "[I 2024-07-01 17:47:52,683] Trial 32 finished with values: [1.2120101702847081, 1.7152659316202148] and parameters: {'n_estimators': 297, 'learning_rate': 0.095246142671286, 'max_depth': 7, 'min_samples_split': 9, 'min_samples_leaf': 4}. \n"
     ]
    },
    {
     "name": "stdout",
     "output_type": "stream",
     "text": [
      "Trial 32 finished with values: [1.2120101702847081, 1.7152659316202148] and parameters: {'n_estimators': 297, 'learning_rate': 0.095246142671286, 'max_depth': 7, 'min_samples_split': 9, 'min_samples_leaf': 4}. \n"
     ]
    },
    {
     "name": "stderr",
     "output_type": "stream",
     "text": [
      "[I 2024-07-01 17:49:00,526] Trial 33 finished with values: [0.47397943686315436, 1.8690138174479087] and parameters: {'n_estimators': 116, 'learning_rate': 0.05827735987964395, 'max_depth': 5, 'min_samples_split': 8, 'min_samples_leaf': 8}. \n"
     ]
    },
    {
     "name": "stdout",
     "output_type": "stream",
     "text": [
      "Trial 33 finished with values: [0.47397943686315436, 1.8690138174479087] and parameters: {'n_estimators': 116, 'learning_rate': 0.05827735987964395, 'max_depth': 5, 'min_samples_split': 8, 'min_samples_leaf': 8}. \n"
     ]
    },
    {
     "name": "stderr",
     "output_type": "stream",
     "text": [
      "[I 2024-07-01 17:50:37,129] Trial 34 finished with values: [-1.5998941039927737, 0.10213488232482548] and parameters: {'n_estimators': 207, 'learning_rate': 0.0633804739089168, 'max_depth': 4, 'min_samples_split': 5, 'min_samples_leaf': 5}. \n"
     ]
    },
    {
     "name": "stdout",
     "output_type": "stream",
     "text": [
      "Trial 34 finished with values: [-1.5998941039927737, 0.10213488232482548] and parameters: {'n_estimators': 207, 'learning_rate': 0.0633804739089168, 'max_depth': 4, 'min_samples_split': 5, 'min_samples_leaf': 5}. \n"
     ]
    },
    {
     "name": "stderr",
     "output_type": "stream",
     "text": [
      "[I 2024-07-01 17:51:45,613] Trial 35 finished with values: [0.3882610479397277, 1.7887020022584315] and parameters: {'n_estimators': 146, 'learning_rate': 0.015001550339892578, 'max_depth': 4, 'min_samples_split': 7, 'min_samples_leaf': 2}. \n"
     ]
    },
    {
     "name": "stdout",
     "output_type": "stream",
     "text": [
      "Trial 35 finished with values: [0.3882610479397277, 1.7887020022584315] and parameters: {'n_estimators': 146, 'learning_rate': 0.015001550339892578, 'max_depth': 4, 'min_samples_split': 7, 'min_samples_leaf': 2}. \n"
     ]
    },
    {
     "name": "stderr",
     "output_type": "stream",
     "text": [
      "[I 2024-07-01 17:53:09,393] Trial 36 finished with values: [1.1179739586764936, 0.2174176137147652] and parameters: {'n_estimators': 141, 'learning_rate': 0.03921180149486321, 'max_depth': 5, 'min_samples_split': 9, 'min_samples_leaf': 6}. \n"
     ]
    },
    {
     "name": "stdout",
     "output_type": "stream",
     "text": [
      "Trial 36 finished with values: [1.1179739586764936, 0.2174176137147652] and parameters: {'n_estimators': 141, 'learning_rate': 0.03921180149486321, 'max_depth': 5, 'min_samples_split': 9, 'min_samples_leaf': 6}. \n"
     ]
    },
    {
     "name": "stderr",
     "output_type": "stream",
     "text": [
      "[I 2024-07-01 17:55:39,579] Trial 37 finished with values: [0.1502379721456007, 11.1067604959181] and parameters: {'n_estimators': 256, 'learning_rate': 0.016765014342592657, 'max_depth': 5, 'min_samples_split': 9, 'min_samples_leaf': 1}. \n"
     ]
    },
    {
     "name": "stdout",
     "output_type": "stream",
     "text": [
      "Trial 37 finished with values: [0.1502379721456007, 11.1067604959181] and parameters: {'n_estimators': 256, 'learning_rate': 0.016765014342592657, 'max_depth': 5, 'min_samples_split': 9, 'min_samples_leaf': 1}. \n"
     ]
    },
    {
     "name": "stderr",
     "output_type": "stream",
     "text": [
      "[I 2024-07-01 17:57:37,051] Trial 38 finished with values: [0.35657284066433553, 3.0139578530511404] and parameters: {'n_estimators': 166, 'learning_rate': 0.04315042885945458, 'max_depth': 6, 'min_samples_split': 10, 'min_samples_leaf': 9}. \n"
     ]
    },
    {
     "name": "stdout",
     "output_type": "stream",
     "text": [
      "Trial 38 finished with values: [0.35657284066433553, 3.0139578530511404] and parameters: {'n_estimators': 166, 'learning_rate': 0.04315042885945458, 'max_depth': 6, 'min_samples_split': 10, 'min_samples_leaf': 9}. \n"
     ]
    },
    {
     "name": "stderr",
     "output_type": "stream",
     "text": [
      "[I 2024-07-01 17:59:38,638] Trial 39 finished with values: [-0.12680324011002006, 27.121871160720836] and parameters: {'n_estimators': 210, 'learning_rate': 0.07344132578379947, 'max_depth': 5, 'min_samples_split': 8, 'min_samples_leaf': 1}. \n"
     ]
    },
    {
     "name": "stdout",
     "output_type": "stream",
     "text": [
      "Trial 39 finished with values: [-0.12680324011002006, 27.121871160720836] and parameters: {'n_estimators': 210, 'learning_rate': 0.07344132578379947, 'max_depth': 5, 'min_samples_split': 8, 'min_samples_leaf': 1}. \n"
     ]
    },
    {
     "name": "stderr",
     "output_type": "stream",
     "text": [
      "[I 2024-07-01 18:04:13,258] Trial 40 finished with values: [-0.14600814589673905, 22.189521425310737] and parameters: {'n_estimators': 234, 'learning_rate': 0.04990356136418594, 'max_depth': 10, 'min_samples_split': 3, 'min_samples_leaf': 3}. \n"
     ]
    },
    {
     "name": "stdout",
     "output_type": "stream",
     "text": [
      "Trial 40 finished with values: [-0.14600814589673905, 22.189521425310737] and parameters: {'n_estimators': 234, 'learning_rate': 0.04990356136418594, 'max_depth': 10, 'min_samples_split': 3, 'min_samples_leaf': 3}. \n"
     ]
    },
    {
     "name": "stderr",
     "output_type": "stream",
     "text": [
      "[I 2024-07-01 18:05:59,822] Trial 41 finished with values: [0.02592352878984351, 54.61717783889357] and parameters: {'n_estimators': 151, 'learning_rate': 0.06397398842897493, 'max_depth': 6, 'min_samples_split': 4, 'min_samples_leaf': 8}. \n"
     ]
    },
    {
     "name": "stdout",
     "output_type": "stream",
     "text": [
      "Trial 41 finished with values: [0.02592352878984351, 54.61717783889357] and parameters: {'n_estimators': 151, 'learning_rate': 0.06397398842897493, 'max_depth': 6, 'min_samples_split': 4, 'min_samples_leaf': 8}. \n"
     ]
    },
    {
     "name": "stderr",
     "output_type": "stream",
     "text": [
      "[I 2024-07-01 18:09:45,026] Trial 42 finished with values: [0.661467216001866, 1.274388110229288] and parameters: {'n_estimators': 215, 'learning_rate': 0.02869246478064081, 'max_depth': 9, 'min_samples_split': 10, 'min_samples_leaf': 9}. \n"
     ]
    },
    {
     "name": "stdout",
     "output_type": "stream",
     "text": [
      "Trial 42 finished with values: [0.661467216001866, 1.274388110229288] and parameters: {'n_estimators': 215, 'learning_rate': 0.02869246478064081, 'max_depth': 9, 'min_samples_split': 10, 'min_samples_leaf': 9}. \n"
     ]
    },
    {
     "name": "stderr",
     "output_type": "stream",
     "text": [
      "[I 2024-07-01 18:12:13,542] Trial 43 finished with values: [1.455791717359032, 0.4545332970801459] and parameters: {'n_estimators': 212, 'learning_rate': 0.06795605942667865, 'max_depth': 6, 'min_samples_split': 3, 'min_samples_leaf': 3}. \n"
     ]
    },
    {
     "name": "stdout",
     "output_type": "stream",
     "text": [
      "Trial 43 finished with values: [1.455791717359032, 0.4545332970801459] and parameters: {'n_estimators': 212, 'learning_rate': 0.06795605942667865, 'max_depth': 6, 'min_samples_split': 3, 'min_samples_leaf': 3}. \n"
     ]
    },
    {
     "name": "stderr",
     "output_type": "stream",
     "text": [
      "[I 2024-07-01 18:15:48,280] Trial 44 finished with values: [0.16915699936192105, 8.174618084368177] and parameters: {'n_estimators': 260, 'learning_rate': 0.01982935009811923, 'max_depth': 7, 'min_samples_split': 6, 'min_samples_leaf': 5}. \n"
     ]
    },
    {
     "name": "stdout",
     "output_type": "stream",
     "text": [
      "Trial 44 finished with values: [0.16915699936192105, 8.174618084368177] and parameters: {'n_estimators': 260, 'learning_rate': 0.01982935009811923, 'max_depth': 7, 'min_samples_split': 6, 'min_samples_leaf': 5}. \n"
     ]
    },
    {
     "name": "stderr",
     "output_type": "stream",
     "text": [
      "[I 2024-07-01 18:16:51,068] Trial 45 finished with values: [0.8981970501396287, 0.27285106598831343] and parameters: {'n_estimators': 177, 'learning_rate': 0.04440065914692332, 'max_depth': 3, 'min_samples_split': 9, 'min_samples_leaf': 9}. \n"
     ]
    },
    {
     "name": "stdout",
     "output_type": "stream",
     "text": [
      "Trial 45 finished with values: [0.8981970501396287, 0.27285106598831343] and parameters: {'n_estimators': 177, 'learning_rate': 0.04440065914692332, 'max_depth': 3, 'min_samples_split': 9, 'min_samples_leaf': 9}. \n"
     ]
    },
    {
     "name": "stderr",
     "output_type": "stream",
     "text": [
      "[I 2024-07-01 18:18:09,180] Trial 46 finished with values: [0.5210362588821277, 3.785169401626627] and parameters: {'n_estimators': 221, 'learning_rate': 0.07831585097522824, 'max_depth': 3, 'min_samples_split': 10, 'min_samples_leaf': 1}. \n"
     ]
    },
    {
     "name": "stdout",
     "output_type": "stream",
     "text": [
      "Trial 46 finished with values: [0.5210362588821277, 3.785169401626627] and parameters: {'n_estimators': 221, 'learning_rate': 0.07831585097522824, 'max_depth': 3, 'min_samples_split': 10, 'min_samples_leaf': 1}. \n"
     ]
    },
    {
     "name": "stderr",
     "output_type": "stream",
     "text": [
      "[I 2024-07-01 18:20:04,221] Trial 47 finished with values: [1.1802364979665787, 0.15021380387829653] and parameters: {'n_estimators': 195, 'learning_rate': 0.029786247965036095, 'max_depth': 5, 'min_samples_split': 2, 'min_samples_leaf': 6}. \n"
     ]
    },
    {
     "name": "stdout",
     "output_type": "stream",
     "text": [
      "Trial 47 finished with values: [1.1802364979665787, 0.15021380387829653] and parameters: {'n_estimators': 195, 'learning_rate': 0.029786247965036095, 'max_depth': 5, 'min_samples_split': 2, 'min_samples_leaf': 6}. \n"
     ]
    },
    {
     "name": "stderr",
     "output_type": "stream",
     "text": [
      "[I 2024-07-01 18:21:29,484] Trial 48 finished with values: [0.06033067349543398, 14.306805759249627] and parameters: {'n_estimators': 241, 'learning_rate': 0.08643252359527055, 'max_depth': 3, 'min_samples_split': 8, 'min_samples_leaf': 10}. \n"
     ]
    },
    {
     "name": "stdout",
     "output_type": "stream",
     "text": [
      "Trial 48 finished with values: [0.06033067349543398, 14.306805759249627] and parameters: {'n_estimators': 241, 'learning_rate': 0.08643252359527055, 'max_depth': 3, 'min_samples_split': 8, 'min_samples_leaf': 10}. \n"
     ]
    },
    {
     "name": "stderr",
     "output_type": "stream",
     "text": [
      "[I 2024-07-01 18:24:36,133] Trial 49 finished with values: [0.6898178278240502, 6.938411746372767] and parameters: {'n_estimators': 228, 'learning_rate': 0.08052504383072238, 'max_depth': 7, 'min_samples_split': 4, 'min_samples_leaf': 1}. \n"
     ]
    },
    {
     "name": "stdout",
     "output_type": "stream",
     "text": [
      "Trial 49 finished with values: [0.6898178278240502, 6.938411746372767] and parameters: {'n_estimators': 228, 'learning_rate': 0.08052504383072238, 'max_depth': 7, 'min_samples_split': 4, 'min_samples_leaf': 1}. \n"
     ]
    },
    {
     "name": "stderr",
     "output_type": "stream",
     "text": [
      "[I 2024-07-01 18:25:59,018] Trial 50 finished with values: [0.40644069087782847, 2.092489631077958] and parameters: {'n_estimators': 141, 'learning_rate': 0.013403045432114923, 'max_depth': 5, 'min_samples_split': 2, 'min_samples_leaf': 7}. \n"
     ]
    },
    {
     "name": "stdout",
     "output_type": "stream",
     "text": [
      "Trial 50 finished with values: [0.40644069087782847, 2.092489631077958] and parameters: {'n_estimators': 141, 'learning_rate': 0.013403045432114923, 'max_depth': 5, 'min_samples_split': 2, 'min_samples_leaf': 7}. \n"
     ]
    },
    {
     "name": "stderr",
     "output_type": "stream",
     "text": [
      "[I 2024-07-01 18:29:10,901] Trial 51 finished with values: [-0.2122181479367037, 6.623980079962638] and parameters: {'n_estimators': 182, 'learning_rate': 0.04440065914692332, 'max_depth': 9, 'min_samples_split': 9, 'min_samples_leaf': 8}. \n"
     ]
    },
    {
     "name": "stdout",
     "output_type": "stream",
     "text": [
      "Trial 51 finished with values: [-0.2122181479367037, 6.623980079962638] and parameters: {'n_estimators': 182, 'learning_rate': 0.04440065914692332, 'max_depth': 9, 'min_samples_split': 9, 'min_samples_leaf': 8}. \n"
     ]
    },
    {
     "name": "stderr",
     "output_type": "stream",
     "text": [
      "[I 2024-07-01 18:31:59,781] Trial 52 finished with values: [1.1060559862090942, 1.080949877424414] and parameters: {'n_estimators': 241, 'learning_rate': 0.05978210572013906, 'max_depth': 6, 'min_samples_split': 5, 'min_samples_leaf': 3}. \n"
     ]
    },
    {
     "name": "stdout",
     "output_type": "stream",
     "text": [
      "Trial 52 finished with values: [1.1060559862090942, 1.080949877424414] and parameters: {'n_estimators': 241, 'learning_rate': 0.05978210572013906, 'max_depth': 6, 'min_samples_split': 5, 'min_samples_leaf': 3}. \n"
     ]
    },
    {
     "name": "stderr",
     "output_type": "stream",
     "text": [
      "[I 2024-07-01 18:35:14,065] Trial 53 finished with values: [-0.665395147101952, 1.2844105368482284] and parameters: {'n_estimators': 237, 'learning_rate': 0.08771221834512935, 'max_depth': 7, 'min_samples_split': 3, 'min_samples_leaf': 7}. \n"
     ]
    },
    {
     "name": "stdout",
     "output_type": "stream",
     "text": [
      "Trial 53 finished with values: [-0.665395147101952, 1.2844105368482284] and parameters: {'n_estimators': 237, 'learning_rate': 0.08771221834512935, 'max_depth': 7, 'min_samples_split': 3, 'min_samples_leaf': 7}. \n"
     ]
    },
    {
     "name": "stderr",
     "output_type": "stream",
     "text": [
      "[I 2024-07-01 18:36:27,360] Trial 54 finished with values: [-0.30715642560292, 3.2134221699959786] and parameters: {'n_estimators': 90, 'learning_rate': 0.095246142671286, 'max_depth': 7, 'min_samples_split': 9, 'min_samples_leaf': 10}. \n"
     ]
    },
    {
     "name": "stdout",
     "output_type": "stream",
     "text": [
      "Trial 54 finished with values: [-0.30715642560292, 3.2134221699959786] and parameters: {'n_estimators': 90, 'learning_rate': 0.095246142671286, 'max_depth': 7, 'min_samples_split': 9, 'min_samples_leaf': 10}. \n"
     ]
    },
    {
     "name": "stderr",
     "output_type": "stream",
     "text": [
      "[I 2024-07-01 18:38:04,893] Trial 55 finished with values: [0.041883080839288774, 21.396981310022056] and parameters: {'n_estimators': 207, 'learning_rate': 0.0633804739089168, 'max_depth': 4, 'min_samples_split': 8, 'min_samples_leaf': 10}. \n"
     ]
    },
    {
     "name": "stdout",
     "output_type": "stream",
     "text": [
      "Trial 55 finished with values: [0.041883080839288774, 21.396981310022056] and parameters: {'n_estimators': 207, 'learning_rate': 0.0633804739089168, 'max_depth': 4, 'min_samples_split': 8, 'min_samples_leaf': 10}. \n"
     ]
    },
    {
     "name": "stderr",
     "output_type": "stream",
     "text": [
      "[I 2024-07-01 18:41:11,919] Trial 56 finished with values: [0.6001231497192058, 1.5490039431782745] and parameters: {'n_estimators': 228, 'learning_rate': 0.030270718193462942, 'max_depth': 7, 'min_samples_split': 4, 'min_samples_leaf': 4}. \n"
     ]
    },
    {
     "name": "stdout",
     "output_type": "stream",
     "text": [
      "Trial 56 finished with values: [0.6001231497192058, 1.5490039431782745] and parameters: {'n_estimators': 228, 'learning_rate': 0.030270718193462942, 'max_depth': 7, 'min_samples_split': 4, 'min_samples_leaf': 4}. \n"
     ]
    },
    {
     "name": "stderr",
     "output_type": "stream",
     "text": [
      "[I 2024-07-01 18:42:27,263] Trial 57 finished with values: [0.7574381536257747, 0.24797091295421758] and parameters: {'n_estimators': 163, 'learning_rate': 0.016756981198327046, 'max_depth': 4, 'min_samples_split': 4, 'min_samples_leaf': 8}. \n"
     ]
    },
    {
     "name": "stdout",
     "output_type": "stream",
     "text": [
      "Trial 57 finished with values: [0.7574381536257747, 0.24797091295421758] and parameters: {'n_estimators': 163, 'learning_rate': 0.016756981198327046, 'max_depth': 4, 'min_samples_split': 4, 'min_samples_leaf': 8}. \n"
     ]
    },
    {
     "name": "stderr",
     "output_type": "stream",
     "text": [
      "[I 2024-07-01 18:46:29,302] Trial 58 finished with values: [-0.14465663297710146, 7.137178525437614] and parameters: {'n_estimators': 297, 'learning_rate': 0.08087590477432618, 'max_depth': 7, 'min_samples_split': 9, 'min_samples_leaf': 10}. \n"
     ]
    },
    {
     "name": "stdout",
     "output_type": "stream",
     "text": [
      "Trial 58 finished with values: [-0.14465663297710146, 7.137178525437614] and parameters: {'n_estimators': 297, 'learning_rate': 0.08087590477432618, 'max_depth': 7, 'min_samples_split': 9, 'min_samples_leaf': 10}. \n"
     ]
    },
    {
     "name": "stderr",
     "output_type": "stream",
     "text": [
      "[I 2024-07-01 18:48:51,380] Trial 59 finished with values: [0.5487752036273242, 1.8100289881200191] and parameters: {'n_estimators': 201, 'learning_rate': 0.03970731877338592, 'max_depth': 6, 'min_samples_split': 9, 'min_samples_leaf': 4}. \n"
     ]
    },
    {
     "name": "stdout",
     "output_type": "stream",
     "text": [
      "Trial 59 finished with values: [0.5487752036273242, 1.8100289881200191] and parameters: {'n_estimators': 201, 'learning_rate': 0.03970731877338592, 'max_depth': 6, 'min_samples_split': 9, 'min_samples_leaf': 4}. \n"
     ]
    },
    {
     "name": "stderr",
     "output_type": "stream",
     "text": [
      "[I 2024-07-01 18:50:03,522] Trial 60 finished with values: [0.8926295278875804, 3.4230412385442115] and parameters: {'n_estimators': 90, 'learning_rate': 0.07180495977047106, 'max_depth': 7, 'min_samples_split': 2, 'min_samples_leaf': 1}. \n"
     ]
    },
    {
     "name": "stdout",
     "output_type": "stream",
     "text": [
      "Trial 60 finished with values: [0.8926295278875804, 3.4230412385442115] and parameters: {'n_estimators': 90, 'learning_rate': 0.07180495977047106, 'max_depth': 7, 'min_samples_split': 2, 'min_samples_leaf': 1}. \n"
     ]
    },
    {
     "name": "stderr",
     "output_type": "stream",
     "text": [
      "[I 2024-07-01 18:52:05,542] Trial 61 finished with values: [0.2407782404057661, 5.512218405615167] and parameters: {'n_estimators': 116, 'learning_rate': 0.02869246478064081, 'max_depth': 9, 'min_samples_split': 7, 'min_samples_leaf': 8}. \n"
     ]
    },
    {
     "name": "stdout",
     "output_type": "stream",
     "text": [
      "Trial 61 finished with values: [0.2407782404057661, 5.512218405615167] and parameters: {'n_estimators': 116, 'learning_rate': 0.02869246478064081, 'max_depth': 9, 'min_samples_split': 7, 'min_samples_leaf': 8}. \n"
     ]
    },
    {
     "name": "stderr",
     "output_type": "stream",
     "text": [
      "[W 2024-07-01 18:52:05,561] Trial 62 failed with parameters: {'n_estimators': 185, 'learning_rate': 0.08771221834512935, 'max_depth': 7, 'min_samples_split': 3, 'min_samples_leaf': 7} because of the following error: The value nan is not acceptable.\n"
     ]
    },
    {
     "name": "stdout",
     "output_type": "stream",
     "text": [
      "Trial 62 failed with parameters: {'n_estimators': 185, 'learning_rate': 0.08771221834512935, 'max_depth': 7, 'min_samples_split': 3, 'min_samples_leaf': 7} because of the following error: The value nan is not acceptable.\n"
     ]
    },
    {
     "name": "stderr",
     "output_type": "stream",
     "text": [
      "[W 2024-07-01 18:52:05,563] Trial 62 failed with value nan.\n"
     ]
    },
    {
     "name": "stdout",
     "output_type": "stream",
     "text": [
      "Trial 62 failed with value nan.\n"
     ]
    },
    {
     "name": "stderr",
     "output_type": "stream",
     "text": [
      "[I 2024-07-01 18:53:14,941] Trial 63 finished with values: [1.033912246063633, 0.06126484333908433] and parameters: {'n_estimators': 147, 'learning_rate': 0.03496470490769911, 'max_depth': 4, 'min_samples_split': 9, 'min_samples_leaf': 9}. \n"
     ]
    },
    {
     "name": "stdout",
     "output_type": "stream",
     "text": [
      "Trial 63 finished with values: [1.033912246063633, 0.06126484333908433] and parameters: {'n_estimators': 147, 'learning_rate': 0.03496470490769911, 'max_depth': 4, 'min_samples_split': 9, 'min_samples_leaf': 9}. \n"
     ]
    },
    {
     "name": "stderr",
     "output_type": "stream",
     "text": [
      "[I 2024-07-01 18:54:37,311] Trial 64 finished with values: [1.5674595441060375, 0.06539762442995567] and parameters: {'n_estimators': 116, 'learning_rate': 0.09309706870128952, 'max_depth': 6, 'min_samples_split': 8, 'min_samples_leaf': 4}. \n"
     ]
    },
    {
     "name": "stdout",
     "output_type": "stream",
     "text": [
      "Trial 64 finished with values: [1.5674595441060375, 0.06539762442995567] and parameters: {'n_estimators': 116, 'learning_rate': 0.09309706870128952, 'max_depth': 6, 'min_samples_split': 8, 'min_samples_leaf': 4}. \n"
     ]
    },
    {
     "name": "stderr",
     "output_type": "stream",
     "text": [
      "[I 2024-07-01 18:55:35,185] Trial 65 finished with values: [0.3317935844183311, 2.8533416067327866] and parameters: {'n_estimators': 97, 'learning_rate': 0.014244669831322974, 'max_depth': 5, 'min_samples_split': 3, 'min_samples_leaf': 7}. \n"
     ]
    },
    {
     "name": "stdout",
     "output_type": "stream",
     "text": [
      "Trial 65 finished with values: [0.3317935844183311, 2.8533416067327866] and parameters: {'n_estimators': 97, 'learning_rate': 0.014244669831322974, 'max_depth': 5, 'min_samples_split': 3, 'min_samples_leaf': 7}. \n"
     ]
    },
    {
     "name": "stderr",
     "output_type": "stream",
     "text": [
      "[I 2024-07-01 18:57:02,999] Trial 66 finished with values: [-0.7179661301574944, 1.1111447903958096] and parameters: {'n_estimators': 246, 'learning_rate': 0.06795605942667865, 'max_depth': 3, 'min_samples_split': 6, 'min_samples_leaf': 3}. \n"
     ]
    },
    {
     "name": "stdout",
     "output_type": "stream",
     "text": [
      "Trial 66 finished with values: [-0.7179661301574944, 1.1111447903958096] and parameters: {'n_estimators': 246, 'learning_rate': 0.06795605942667865, 'max_depth': 3, 'min_samples_split': 6, 'min_samples_leaf': 3}. \n"
     ]
    },
    {
     "name": "stderr",
     "output_type": "stream",
     "text": [
      "[I 2024-07-01 18:59:50,981] Trial 67 finished with values: [0.7876372312292854, 1.2968579339388207] and parameters: {'n_estimators': 158, 'learning_rate': 0.014244758271488626, 'max_depth': 9, 'min_samples_split': 7, 'min_samples_leaf': 3}. \n"
     ]
    },
    {
     "name": "stdout",
     "output_type": "stream",
     "text": [
      "Trial 67 finished with values: [0.7876372312292854, 1.2968579339388207] and parameters: {'n_estimators': 158, 'learning_rate': 0.014244758271488626, 'max_depth': 9, 'min_samples_split': 7, 'min_samples_leaf': 3}. \n"
     ]
    },
    {
     "name": "stderr",
     "output_type": "stream",
     "text": [
      "[I 2024-07-01 19:03:37,935] Trial 68 finished with values: [-0.37266497617695177, 13.957833190299988] and parameters: {'n_estimators': 219, 'learning_rate': 0.05653766591079317, 'max_depth': 9, 'min_samples_split': 9, 'min_samples_leaf': 1}. \n"
     ]
    },
    {
     "name": "stdout",
     "output_type": "stream",
     "text": [
      "Trial 68 finished with values: [-0.37266497617695177, 13.957833190299988] and parameters: {'n_estimators': 219, 'learning_rate': 0.05653766591079317, 'max_depth': 9, 'min_samples_split': 9, 'min_samples_leaf': 1}. \n"
     ]
    },
    {
     "name": "stderr",
     "output_type": "stream",
     "text": [
      "[W 2024-07-01 19:03:37,955] Trial 69 failed with parameters: {'n_estimators': 61, 'learning_rate': 0.04605106642870503, 'max_depth': 3, 'min_samples_split': 6, 'min_samples_leaf': 9} because of the following error: The value nan is not acceptable.\n"
     ]
    },
    {
     "name": "stdout",
     "output_type": "stream",
     "text": [
      "Trial 69 failed with parameters: {'n_estimators': 61, 'learning_rate': 0.04605106642870503, 'max_depth': 3, 'min_samples_split': 6, 'min_samples_leaf': 9} because of the following error: The value nan is not acceptable.\n"
     ]
    },
    {
     "name": "stderr",
     "output_type": "stream",
     "text": [
      "[W 2024-07-01 19:03:37,957] Trial 69 failed with value nan.\n"
     ]
    },
    {
     "name": "stdout",
     "output_type": "stream",
     "text": [
      "Trial 69 failed with value nan.\n"
     ]
    },
    {
     "name": "stderr",
     "output_type": "stream",
     "text": [
      "[I 2024-07-01 19:06:21,751] Trial 70 finished with values: [1.127136744460595, 2.992100839824977] and parameters: {'n_estimators': 199, 'learning_rate': 0.05653766591079317, 'max_depth': 7, 'min_samples_split': 9, 'min_samples_leaf': 1}. \n"
     ]
    },
    {
     "name": "stdout",
     "output_type": "stream",
     "text": [
      "Trial 70 finished with values: [1.127136744460595, 2.992100839824977] and parameters: {'n_estimators': 199, 'learning_rate': 0.05653766591079317, 'max_depth': 7, 'min_samples_split': 9, 'min_samples_leaf': 1}. \n"
     ]
    },
    {
     "name": "stderr",
     "output_type": "stream",
     "text": [
      "[I 2024-07-01 19:07:30,379] Trial 71 finished with values: [1.0859928600854207, 0.45787145896406933] and parameters: {'n_estimators': 116, 'learning_rate': 0.06795605942667865, 'max_depth': 5, 'min_samples_split': 3, 'min_samples_leaf': 3}. \n"
     ]
    },
    {
     "name": "stdout",
     "output_type": "stream",
     "text": [
      "Trial 71 finished with values: [1.0859928600854207, 0.45787145896406933] and parameters: {'n_estimators': 116, 'learning_rate': 0.06795605942667865, 'max_depth': 5, 'min_samples_split': 3, 'min_samples_leaf': 3}. \n"
     ]
    },
    {
     "name": "stderr",
     "output_type": "stream",
     "text": [
      "[I 2024-07-01 19:08:46,984] Trial 72 finished with values: [0.7370856816882532, 0.5220971519187592] and parameters: {'n_estimators': 216, 'learning_rate': 0.013101253187756942, 'max_depth': 3, 'min_samples_split': 8, 'min_samples_leaf': 1}. \n"
     ]
    },
    {
     "name": "stdout",
     "output_type": "stream",
     "text": [
      "Trial 72 finished with values: [0.7370856816882532, 0.5220971519187592] and parameters: {'n_estimators': 216, 'learning_rate': 0.013101253187756942, 'max_depth': 3, 'min_samples_split': 8, 'min_samples_leaf': 1}. \n"
     ]
    },
    {
     "name": "stderr",
     "output_type": "stream",
     "text": [
      "[I 2024-07-01 19:09:51,540] Trial 73 finished with values: [0.8452829490568181, 0.5922939706725301] and parameters: {'n_estimators': 109, 'learning_rate': 0.03921180149486321, 'max_depth': 5, 'min_samples_split': 9, 'min_samples_leaf': 6}. \n"
     ]
    },
    {
     "name": "stdout",
     "output_type": "stream",
     "text": [
      "Trial 73 finished with values: [0.8452829490568181, 0.5922939706725301] and parameters: {'n_estimators': 109, 'learning_rate': 0.03921180149486321, 'max_depth': 5, 'min_samples_split': 9, 'min_samples_leaf': 6}. \n"
     ]
    },
    {
     "name": "stderr",
     "output_type": "stream",
     "text": [
      "[I 2024-07-01 19:11:31,765] Trial 74 finished with values: [0.9407206062486618, 0.1214949616159049] and parameters: {'n_estimators': 282, 'learning_rate': 0.07445056648525852, 'max_depth': 3, 'min_samples_split': 8, 'min_samples_leaf': 7}. \n"
     ]
    },
    {
     "name": "stdout",
     "output_type": "stream",
     "text": [
      "Trial 74 finished with values: [0.9407206062486618, 0.1214949616159049] and parameters: {'n_estimators': 282, 'learning_rate': 0.07445056648525852, 'max_depth': 3, 'min_samples_split': 8, 'min_samples_leaf': 7}. \n"
     ]
    },
    {
     "name": "stderr",
     "output_type": "stream",
     "text": [
      "[W 2024-07-01 19:11:31,787] Trial 75 failed with parameters: {'n_estimators': 241, 'learning_rate': 0.05978210572013906, 'max_depth': 5, 'min_samples_split': 4, 'min_samples_leaf': 1} because of the following error: The value nan is not acceptable.\n"
     ]
    },
    {
     "name": "stdout",
     "output_type": "stream",
     "text": [
      "Trial 75 failed with parameters: {'n_estimators': 241, 'learning_rate': 0.05978210572013906, 'max_depth': 5, 'min_samples_split': 4, 'min_samples_leaf': 1} because of the following error: The value nan is not acceptable.\n"
     ]
    },
    {
     "name": "stderr",
     "output_type": "stream",
     "text": [
      "[W 2024-07-01 19:11:31,789] Trial 75 failed with value nan.\n"
     ]
    },
    {
     "name": "stdout",
     "output_type": "stream",
     "text": [
      "Trial 75 failed with value nan.\n"
     ]
    },
    {
     "name": "stderr",
     "output_type": "stream",
     "text": [
      "[I 2024-07-01 19:13:27,300] Trial 76 finished with values: [0.7684726361956331, 0.7416035131938843] and parameters: {'n_estimators': 195, 'learning_rate': 0.029786247965036095, 'max_depth': 5, 'min_samples_split': 4, 'min_samples_leaf': 4}. \n"
     ]
    },
    {
     "name": "stdout",
     "output_type": "stream",
     "text": [
      "Trial 76 finished with values: [0.7684726361956331, 0.7416035131938843] and parameters: {'n_estimators': 195, 'learning_rate': 0.029786247965036095, 'max_depth': 5, 'min_samples_split': 4, 'min_samples_leaf': 4}. \n"
     ]
    },
    {
     "name": "stderr",
     "output_type": "stream",
     "text": [
      "[I 2024-07-01 19:15:58,476] Trial 77 finished with values: [1.3042876731821471, 0.17952640041614187] and parameters: {'n_estimators': 256, 'learning_rate': 0.02363779609284249, 'max_depth': 5, 'min_samples_split': 9, 'min_samples_leaf': 2}. \n"
     ]
    },
    {
     "name": "stdout",
     "output_type": "stream",
     "text": [
      "Trial 77 finished with values: [1.3042876731821471, 0.17952640041614187] and parameters: {'n_estimators': 256, 'learning_rate': 0.02363779609284249, 'max_depth': 5, 'min_samples_split': 9, 'min_samples_leaf': 2}. \n"
     ]
    },
    {
     "name": "stderr",
     "output_type": "stream",
     "text": [
      "[I 2024-07-01 19:17:53,103] Trial 78 finished with values: [-0.7821052341785676, 0.9860829710720451] and parameters: {'n_estimators': 241, 'learning_rate': 0.08452603700741693, 'max_depth': 4, 'min_samples_split': 4, 'min_samples_leaf': 7}. \n"
     ]
    },
    {
     "name": "stdout",
     "output_type": "stream",
     "text": [
      "Trial 78 finished with values: [-0.7821052341785676, 0.9860829710720451] and parameters: {'n_estimators': 241, 'learning_rate': 0.08452603700741693, 'max_depth': 4, 'min_samples_split': 4, 'min_samples_leaf': 7}. \n"
     ]
    },
    {
     "name": "stderr",
     "output_type": "stream",
     "text": [
      "[I 2024-07-01 19:19:48,663] Trial 79 finished with values: [0.7225616647601377, 0.855655811752629] and parameters: {'n_estimators': 195, 'learning_rate': 0.029786247965036095, 'max_depth': 5, 'min_samples_split': 2, 'min_samples_leaf': 5}. \n"
     ]
    },
    {
     "name": "stdout",
     "output_type": "stream",
     "text": [
      "Trial 79 finished with values: [0.7225616647601377, 0.855655811752629] and parameters: {'n_estimators': 195, 'learning_rate': 0.029786247965036095, 'max_depth': 5, 'min_samples_split': 2, 'min_samples_leaf': 5}. \n"
     ]
    },
    {
     "name": "stderr",
     "output_type": "stream",
     "text": [
      "[I 2024-07-01 19:22:22,090] Trial 80 finished with values: [0.5293242628817724, 1.6069694545047777] and parameters: {'n_estimators': 185, 'learning_rate': 0.08452603700741693, 'max_depth': 7, 'min_samples_split': 2, 'min_samples_leaf': 9}. \n"
     ]
    },
    {
     "name": "stdout",
     "output_type": "stream",
     "text": [
      "Trial 80 finished with values: [0.5293242628817724, 1.6069694545047777] and parameters: {'n_estimators': 185, 'learning_rate': 0.08452603700741693, 'max_depth': 7, 'min_samples_split': 2, 'min_samples_leaf': 9}. \n"
     ]
    },
    {
     "name": "stderr",
     "output_type": "stream",
     "text": [
      "[I 2024-07-01 19:25:30,759] Trial 81 finished with values: [0.33160998752344223, 8.915491497393452] and parameters: {'n_estimators': 267, 'learning_rate': 0.024688203604256706, 'max_depth': 6, 'min_samples_split': 9, 'min_samples_leaf': 1}. \n"
     ]
    },
    {
     "name": "stdout",
     "output_type": "stream",
     "text": [
      "Trial 81 finished with values: [0.33160998752344223, 8.915491497393452] and parameters: {'n_estimators': 267, 'learning_rate': 0.024688203604256706, 'max_depth': 6, 'min_samples_split': 9, 'min_samples_leaf': 1}. \n"
     ]
    },
    {
     "name": "stderr",
     "output_type": "stream",
     "text": [
      "[I 2024-07-01 19:27:32,914] Trial 82 finished with values: [1.3923995246167427, 0.3338900922854746] and parameters: {'n_estimators': 257, 'learning_rate': 0.09443315599301981, 'max_depth': 4, 'min_samples_split': 4, 'min_samples_leaf': 3}. \n"
     ]
    },
    {
     "name": "stdout",
     "output_type": "stream",
     "text": [
      "Trial 82 finished with values: [1.3923995246167427, 0.3338900922854746] and parameters: {'n_estimators': 257, 'learning_rate': 0.09443315599301981, 'max_depth': 4, 'min_samples_split': 4, 'min_samples_leaf': 3}. \n"
     ]
    },
    {
     "name": "stderr",
     "output_type": "stream",
     "text": [
      "[I 2024-07-01 19:32:42,846] Trial 83 finished with values: [0.21507239119150673, 6.216937695290148] and parameters: {'n_estimators': 291, 'learning_rate': 0.014244758271488626, 'max_depth': 9, 'min_samples_split': 8, 'min_samples_leaf': 8}. \n"
     ]
    },
    {
     "name": "stdout",
     "output_type": "stream",
     "text": [
      "Trial 83 finished with values: [0.21507239119150673, 6.216937695290148] and parameters: {'n_estimators': 291, 'learning_rate': 0.014244758271488626, 'max_depth': 9, 'min_samples_split': 8, 'min_samples_leaf': 8}. \n"
     ]
    },
    {
     "name": "stderr",
     "output_type": "stream",
     "text": [
      "[I 2024-07-01 19:33:28,614] Trial 84 finished with values: [0.8034746531574619, 0.6038713437159748] and parameters: {'n_estimators': 77, 'learning_rate': 0.05827735987964395, 'max_depth': 5, 'min_samples_split': 8, 'min_samples_leaf': 4}. \n"
     ]
    },
    {
     "name": "stdout",
     "output_type": "stream",
     "text": [
      "Trial 84 finished with values: [0.8034746531574619, 0.6038713437159748] and parameters: {'n_estimators': 77, 'learning_rate': 0.05827735987964395, 'max_depth': 5, 'min_samples_split': 8, 'min_samples_leaf': 4}. \n"
     ]
    },
    {
     "name": "stderr",
     "output_type": "stream",
     "text": [
      "[I 2024-07-01 19:34:37,634] Trial 85 finished with values: [0.5509610180716654, 1.987110284535495] and parameters: {'n_estimators': 83, 'learning_rate': 0.08021288378876498, 'max_depth': 7, 'min_samples_split': 9, 'min_samples_leaf': 4}. \n"
     ]
    },
    {
     "name": "stdout",
     "output_type": "stream",
     "text": [
      "Trial 85 finished with values: [0.5509610180716654, 1.987110284535495] and parameters: {'n_estimators': 83, 'learning_rate': 0.08021288378876498, 'max_depth': 7, 'min_samples_split': 9, 'min_samples_leaf': 4}. \n"
     ]
    },
    {
     "name": "stderr",
     "output_type": "stream",
     "text": [
      "[I 2024-07-01 19:36:27,194] Trial 86 finished with values: [0.34319041659906224, 3.2438625833775356] and parameters: {'n_estimators': 132, 'learning_rate': 0.013403045432114923, 'max_depth': 7, 'min_samples_split': 8, 'min_samples_leaf': 7}. \n"
     ]
    },
    {
     "name": "stdout",
     "output_type": "stream",
     "text": [
      "Trial 86 finished with values: [0.34319041659906224, 3.2438625833775356] and parameters: {'n_estimators': 132, 'learning_rate': 0.013403045432114923, 'max_depth': 7, 'min_samples_split': 8, 'min_samples_leaf': 7}. \n"
     ]
    },
    {
     "name": "stderr",
     "output_type": "stream",
     "text": [
      "[I 2024-07-01 19:38:29,616] Trial 87 finished with values: [0.007183164196003565, 214.88768433482085] and parameters: {'n_estimators': 115, 'learning_rate': 0.08771221834512935, 'max_depth': 9, 'min_samples_split': 7, 'min_samples_leaf': 7}. \n"
     ]
    },
    {
     "name": "stdout",
     "output_type": "stream",
     "text": [
      "Trial 87 finished with values: [0.007183164196003565, 214.88768433482085] and parameters: {'n_estimators': 115, 'learning_rate': 0.08771221834512935, 'max_depth': 9, 'min_samples_split': 7, 'min_samples_leaf': 7}. \n"
     ]
    },
    {
     "name": "stderr",
     "output_type": "stream",
     "text": [
      "[I 2024-07-01 19:40:07,867] Trial 88 finished with values: [0.932804267776397, 0.5036692063534103] and parameters: {'n_estimators': 207, 'learning_rate': 0.0633804739089168, 'max_depth': 4, 'min_samples_split': 7, 'min_samples_leaf': 4}. \n"
     ]
    },
    {
     "name": "stdout",
     "output_type": "stream",
     "text": [
      "Trial 88 finished with values: [0.932804267776397, 0.5036692063534103] and parameters: {'n_estimators': 207, 'learning_rate': 0.0633804739089168, 'max_depth': 4, 'min_samples_split': 7, 'min_samples_leaf': 4}. \n"
     ]
    },
    {
     "name": "stderr",
     "output_type": "stream",
     "text": [
      "[I 2024-07-01 19:41:46,123] Trial 89 finished with values: [-0.35856518322786807, 3.2201961405677615] and parameters: {'n_estimators': 207, 'learning_rate': 0.08660130619604815, 'max_depth': 4, 'min_samples_split': 9, 'min_samples_leaf': 5}. \n"
     ]
    },
    {
     "name": "stdout",
     "output_type": "stream",
     "text": [
      "Trial 89 finished with values: [-0.35856518322786807, 3.2201961405677615] and parameters: {'n_estimators': 207, 'learning_rate': 0.08660130619604815, 'max_depth': 4, 'min_samples_split': 9, 'min_samples_leaf': 5}. \n"
     ]
    },
    {
     "name": "stderr",
     "output_type": "stream",
     "text": [
      "[I 2024-07-01 19:43:13,962] Trial 90 finished with values: [0.2994740608155453, 2.1863031528649692] and parameters: {'n_estimators': 185, 'learning_rate': 0.015001550339892578, 'max_depth': 4, 'min_samples_split': 3, 'min_samples_leaf': 7}. \n"
     ]
    },
    {
     "name": "stdout",
     "output_type": "stream",
     "text": [
      "Trial 90 finished with values: [0.2994740608155453, 2.1863031528649692] and parameters: {'n_estimators': 185, 'learning_rate': 0.015001550339892578, 'max_depth': 4, 'min_samples_split': 3, 'min_samples_leaf': 7}. \n"
     ]
    },
    {
     "name": "stderr",
     "output_type": "stream",
     "text": [
      "[W 2024-07-01 19:43:14,001] Trial 91 failed with parameters: {'n_estimators': 177, 'learning_rate': 0.04440065914692332, 'max_depth': 3, 'min_samples_split': 9, 'min_samples_leaf': 9} because of the following error: The value nan is not acceptable.\n"
     ]
    },
    {
     "name": "stdout",
     "output_type": "stream",
     "text": [
      "Trial 91 failed with parameters: {'n_estimators': 177, 'learning_rate': 0.04440065914692332, 'max_depth': 3, 'min_samples_split': 9, 'min_samples_leaf': 9} because of the following error: The value nan is not acceptable.\n"
     ]
    },
    {
     "name": "stderr",
     "output_type": "stream",
     "text": [
      "[W 2024-07-01 19:43:14,003] Trial 91 failed with value nan.\n"
     ]
    },
    {
     "name": "stdout",
     "output_type": "stream",
     "text": [
      "Trial 91 failed with value nan.\n"
     ]
    },
    {
     "name": "stderr",
     "output_type": "stream",
     "text": [
      "[I 2024-07-01 19:44:18,174] Trial 92 finished with values: [-0.12837654495894096, 26.49802140111399] and parameters: {'n_estimators': 78, 'learning_rate': 0.08260797614122564, 'max_depth': 7, 'min_samples_split': 8, 'min_samples_leaf': 1}. \n"
     ]
    },
    {
     "name": "stdout",
     "output_type": "stream",
     "text": [
      "Trial 92 finished with values: [-0.12837654495894096, 26.49802140111399] and parameters: {'n_estimators': 78, 'learning_rate': 0.08260797614122564, 'max_depth': 7, 'min_samples_split': 8, 'min_samples_leaf': 1}. \n"
     ]
    },
    {
     "name": "stderr",
     "output_type": "stream",
     "text": [
      "[I 2024-07-01 19:44:52,130] Trial 93 finished with values: [1.020384344198374, 0.054481924599016684] and parameters: {'n_estimators': 95, 'learning_rate': 0.04605106642870503, 'max_depth': 3, 'min_samples_split': 6, 'min_samples_leaf': 9}. \n"
     ]
    },
    {
     "name": "stdout",
     "output_type": "stream",
     "text": [
      "Trial 93 finished with values: [1.020384344198374, 0.054481924599016684] and parameters: {'n_estimators': 95, 'learning_rate': 0.04605106642870503, 'max_depth': 3, 'min_samples_split': 6, 'min_samples_leaf': 9}. \n"
     ]
    },
    {
     "name": "stderr",
     "output_type": "stream",
     "text": [
      "[I 2024-07-01 19:48:13,845] Trial 94 finished with values: [0.9450432274502335, 3.397857631829412] and parameters: {'n_estimators': 246, 'learning_rate': 0.03496470490769911, 'max_depth': 7, 'min_samples_split': 6, 'min_samples_leaf': 1}. \n"
     ]
    },
    {
     "name": "stdout",
     "output_type": "stream",
     "text": [
      "Trial 94 finished with values: [0.9450432274502335, 3.397857631829412] and parameters: {'n_estimators': 246, 'learning_rate': 0.03496470490769911, 'max_depth': 7, 'min_samples_split': 6, 'min_samples_leaf': 1}. \n"
     ]
    },
    {
     "name": "stderr",
     "output_type": "stream",
     "text": [
      "[I 2024-07-01 19:52:08,523] Trial 95 finished with values: [-0.11443945840933083, 12.664309231094721] and parameters: {'n_estimators': 215, 'learning_rate': 0.02869246478064081, 'max_depth': 9, 'min_samples_split': 7, 'min_samples_leaf': 8}. \n"
     ]
    },
    {
     "name": "stdout",
     "output_type": "stream",
     "text": [
      "Trial 95 finished with values: [-0.11443945840933083, 12.664309231094721] and parameters: {'n_estimators': 215, 'learning_rate': 0.02869246478064081, 'max_depth': 9, 'min_samples_split': 7, 'min_samples_leaf': 8}. \n"
     ]
    },
    {
     "name": "stderr",
     "output_type": "stream",
     "text": [
      "[W 2024-07-01 19:52:08,551] Trial 96 failed with parameters: {'n_estimators': 257, 'learning_rate': 0.011914072693541526, 'max_depth': 10, 'min_samples_split': 9, 'min_samples_leaf': 1} because of the following error: The value nan is not acceptable.\n"
     ]
    },
    {
     "name": "stdout",
     "output_type": "stream",
     "text": [
      "Trial 96 failed with parameters: {'n_estimators': 257, 'learning_rate': 0.011914072693541526, 'max_depth': 10, 'min_samples_split': 9, 'min_samples_leaf': 1} because of the following error: The value nan is not acceptable.\n"
     ]
    },
    {
     "name": "stderr",
     "output_type": "stream",
     "text": [
      "[W 2024-07-01 19:52:08,553] Trial 96 failed with value nan.\n"
     ]
    },
    {
     "name": "stdout",
     "output_type": "stream",
     "text": [
      "Trial 96 failed with value nan.\n"
     ]
    },
    {
     "name": "stderr",
     "output_type": "stream",
     "text": [
      "[I 2024-07-01 19:53:37,048] Trial 97 finished with values: [0.8950369453594812, 0.5600093525404122] and parameters: {'n_estimators': 150, 'learning_rate': 0.09036324347537743, 'max_depth': 5, 'min_samples_split': 6, 'min_samples_leaf': 7}. \n"
     ]
    },
    {
     "name": "stdout",
     "output_type": "stream",
     "text": [
      "Trial 97 finished with values: [0.8950369453594812, 0.5600093525404122] and parameters: {'n_estimators': 150, 'learning_rate': 0.09036324347537743, 'max_depth': 5, 'min_samples_split': 6, 'min_samples_leaf': 7}. \n"
     ]
    },
    {
     "name": "stderr",
     "output_type": "stream",
     "text": [
      "[I 2024-07-01 19:57:42,835] Trial 98 finished with values: [0.35803211663707507, 2.887301627906907] and parameters: {'n_estimators': 297, 'learning_rate': 0.02869246478064081, 'max_depth': 7, 'min_samples_split': 9, 'min_samples_leaf': 9}. \n"
     ]
    },
    {
     "name": "stdout",
     "output_type": "stream",
     "text": [
      "Trial 98 finished with values: [0.35803211663707507, 2.887301627906907] and parameters: {'n_estimators': 297, 'learning_rate': 0.02869246478064081, 'max_depth': 7, 'min_samples_split': 9, 'min_samples_leaf': 9}. \n"
     ]
    },
    {
     "name": "stderr",
     "output_type": "stream",
     "text": [
      "[I 2024-07-01 19:59:50,805] Trial 99 finished with values: [-1.2504303657726723, 0.23844040340322614] and parameters: {'n_estimators': 271, 'learning_rate': 0.07173196389790681, 'max_depth': 4, 'min_samples_split': 10, 'min_samples_leaf': 7}. \n"
     ]
    },
    {
     "name": "stdout",
     "output_type": "stream",
     "text": [
      "Trial 99 finished with values: [-1.2504303657726723, 0.23844040340322614] and parameters: {'n_estimators': 271, 'learning_rate': 0.07173196389790681, 'max_depth': 4, 'min_samples_split': 10, 'min_samples_leaf': 7}. \n"
     ]
    },
    {
     "name": "stderr",
     "output_type": "stream",
     "text": [
      "[I 2024-07-01 20:01:19,879] Trial 100 finished with values: [0.49680932093401814, 2.257899510832057] and parameters: {'n_estimators': 108, 'learning_rate': 0.06782331148745342, 'max_depth': 7, 'min_samples_split': 6, 'min_samples_leaf': 5}. \n"
     ]
    },
    {
     "name": "stdout",
     "output_type": "stream",
     "text": [
      "Trial 100 finished with values: [0.49680932093401814, 2.257899510832057] and parameters: {'n_estimators': 108, 'learning_rate': 0.06782331148745342, 'max_depth': 7, 'min_samples_split': 6, 'min_samples_leaf': 5}. \n"
     ]
    },
    {
     "name": "stderr",
     "output_type": "stream",
     "text": [
      "[I 2024-07-01 20:03:52,972] Trial 101 finished with values: [0.3907404941327565, 2.9506173992766738] and parameters: {'n_estimators': 145, 'learning_rate': 0.02869246478064081, 'max_depth': 9, 'min_samples_split': 10, 'min_samples_leaf': 9}. \n"
     ]
    },
    {
     "name": "stdout",
     "output_type": "stream",
     "text": [
      "Trial 101 finished with values: [0.3907404941327565, 2.9506173992766738] and parameters: {'n_estimators': 145, 'learning_rate': 0.02869246478064081, 'max_depth': 9, 'min_samples_split': 10, 'min_samples_leaf': 9}. \n"
     ]
    },
    {
     "name": "stderr",
     "output_type": "stream",
     "text": [
      "[I 2024-07-01 20:07:12,040] Trial 102 finished with values: [0.6793920595653584, 3.559898580589789] and parameters: {'n_estimators': 285, 'learning_rate': 0.024688203604256706, 'max_depth': 6, 'min_samples_split': 10, 'min_samples_leaf': 1}. \n"
     ]
    },
    {
     "name": "stdout",
     "output_type": "stream",
     "text": [
      "Trial 102 finished with values: [0.6793920595653584, 3.559898580589789] and parameters: {'n_estimators': 285, 'learning_rate': 0.024688203604256706, 'max_depth': 6, 'min_samples_split': 10, 'min_samples_leaf': 1}. \n"
     ]
    },
    {
     "name": "stderr",
     "output_type": "stream",
     "text": [
      "[I 2024-07-01 20:08:16,239] Trial 103 finished with values: [-0.3702859195394051, 2.6325244882191594] and parameters: {'n_estimators': 109, 'learning_rate': 0.07459756900163494, 'max_depth': 5, 'min_samples_split': 4, 'min_samples_leaf': 10}. \n"
     ]
    },
    {
     "name": "stdout",
     "output_type": "stream",
     "text": [
      "Trial 103 finished with values: [-0.3702859195394051, 2.6325244882191594] and parameters: {'n_estimators': 109, 'learning_rate': 0.07459756900163494, 'max_depth': 5, 'min_samples_split': 4, 'min_samples_leaf': 10}. \n"
     ]
    },
    {
     "name": "stderr",
     "output_type": "stream",
     "text": [
      "[I 2024-07-01 20:09:07,560] Trial 104 finished with values: [0.03804380579020365, 23.28566579113869] and parameters: {'n_estimators': 109, 'learning_rate': 0.06253985609647109, 'max_depth': 4, 'min_samples_split': 9, 'min_samples_leaf': 10}. \n"
     ]
    },
    {
     "name": "stdout",
     "output_type": "stream",
     "text": [
      "Trial 104 finished with values: [0.03804380579020365, 23.28566579113869] and parameters: {'n_estimators': 109, 'learning_rate': 0.06253985609647109, 'max_depth': 4, 'min_samples_split': 9, 'min_samples_leaf': 10}. \n"
     ]
    },
    {
     "name": "stderr",
     "output_type": "stream",
     "text": [
      "/opt/conda/lib/python3.10/site-packages/numpy/core/fromnumeric.py:59: FutureWarning: 'DataFrame.swapaxes' is deprecated and will be removed in a future version. Please use 'DataFrame.transpose' instead.\n",
      "  return bound(*args, **kwds)\n",
      "[I 2024-07-01 20:10:29,463] A new study created in memory with name: no-name-6bd671b8-baef-40fe-99d5-68e07613d3a8\n"
     ]
    },
    {
     "name": "stdout",
     "output_type": "stream",
     "text": [
      "A new study created in memory with name: no-name-6bd671b8-baef-40fe-99d5-68e07613d3a8\n"
     ]
    },
    {
     "name": "stderr",
     "output_type": "stream",
     "text": [
      "[I 2024-07-01 20:12:43,849] Trial 0 finished with values: [1.427435045537293, 1.825397578009425] and parameters: {'n_estimators': 124, 'learning_rate': 0.03034535781004869, 'max_depth': 10, 'min_samples_split': 8, 'min_samples_leaf': 7}. \n"
     ]
    },
    {
     "name": "stdout",
     "output_type": "stream",
     "text": [
      "Trial 0 finished with values: [1.427435045537293, 1.825397578009425] and parameters: {'n_estimators': 124, 'learning_rate': 0.03034535781004869, 'max_depth': 10, 'min_samples_split': 8, 'min_samples_leaf': 7}. \n"
     ]
    },
    {
     "name": "stderr",
     "output_type": "stream",
     "text": [
      "[I 2024-07-01 20:13:26,892] Trial 1 finished with values: [2.6901634966295047, 0.47601258224501486] and parameters: {'n_estimators': 132, 'learning_rate': 0.03938032182794442, 'max_depth': 3, 'min_samples_split': 6, 'min_samples_leaf': 5}. \n"
     ]
    },
    {
     "name": "stdout",
     "output_type": "stream",
     "text": [
      "Trial 1 finished with values: [2.6901634966295047, 0.47601258224501486] and parameters: {'n_estimators': 132, 'learning_rate': 0.03938032182794442, 'max_depth': 3, 'min_samples_split': 6, 'min_samples_leaf': 5}. \n"
     ]
    },
    {
     "name": "stderr",
     "output_type": "stream",
     "text": [
      "[I 2024-07-01 20:17:37,347] Trial 2 finished with values: [1.4906926621951153, 1.3918109985954104] and parameters: {'n_estimators': 288, 'learning_rate': 0.017216152606071282, 'max_depth': 8, 'min_samples_split': 2, 'min_samples_leaf': 7}. \n"
     ]
    },
    {
     "name": "stdout",
     "output_type": "stream",
     "text": [
      "Trial 2 finished with values: [1.4906926621951153, 1.3918109985954104] and parameters: {'n_estimators': 288, 'learning_rate': 0.017216152606071282, 'max_depth': 8, 'min_samples_split': 2, 'min_samples_leaf': 7}. \n"
     ]
    },
    {
     "name": "stderr",
     "output_type": "stream",
     "text": [
      "[I 2024-07-01 20:19:13,984] Trial 3 finished with values: [2.2549483615376027, 0.5076539509782403] and parameters: {'n_estimators': 295, 'learning_rate': 0.09600815005130751, 'max_depth': 3, 'min_samples_split': 5, 'min_samples_leaf': 7}. \n"
     ]
    },
    {
     "name": "stdout",
     "output_type": "stream",
     "text": [
      "Trial 3 finished with values: [2.2549483615376027, 0.5076539509782403] and parameters: {'n_estimators': 295, 'learning_rate': 0.09600815005130751, 'max_depth': 3, 'min_samples_split': 5, 'min_samples_leaf': 7}. \n"
     ]
    },
    {
     "name": "stderr",
     "output_type": "stream",
     "text": [
      "[I 2024-07-01 20:20:59,134] Trial 4 finished with values: [2.1904619856289247, 0.13653317254108355] and parameters: {'n_estimators': 241, 'learning_rate': 0.0581401416717704, 'max_depth': 4, 'min_samples_split': 3, 'min_samples_leaf': 10}. \n"
     ]
    },
    {
     "name": "stdout",
     "output_type": "stream",
     "text": [
      "Trial 4 finished with values: [2.1904619856289247, 0.13653317254108355] and parameters: {'n_estimators': 241, 'learning_rate': 0.0581401416717704, 'max_depth': 4, 'min_samples_split': 3, 'min_samples_leaf': 10}. \n"
     ]
    },
    {
     "name": "stderr",
     "output_type": "stream",
     "text": [
      "[I 2024-07-01 20:22:13,644] Trial 5 finished with values: [3.0694373732002456, 0.42016970470007087] and parameters: {'n_estimators': 229, 'learning_rate': 0.035942149339840745, 'max_depth': 3, 'min_samples_split': 3, 'min_samples_leaf': 4}. \n"
     ]
    },
    {
     "name": "stdout",
     "output_type": "stream",
     "text": [
      "Trial 5 finished with values: [3.0694373732002456, 0.42016970470007087] and parameters: {'n_estimators': 229, 'learning_rate': 0.035942149339840745, 'max_depth': 3, 'min_samples_split': 3, 'min_samples_leaf': 4}. \n"
     ]
    },
    {
     "name": "stderr",
     "output_type": "stream",
     "text": [
      "[I 2024-07-01 20:23:39,607] Trial 6 finished with values: [2.2627384323653263, 0.1976771269067501] and parameters: {'n_estimators': 99, 'learning_rate': 0.016912607758777905, 'max_depth': 8, 'min_samples_split': 9, 'min_samples_leaf': 8}. \n"
     ]
    },
    {
     "name": "stdout",
     "output_type": "stream",
     "text": [
      "Trial 6 finished with values: [2.2627384323653263, 0.1976771269067501] and parameters: {'n_estimators': 99, 'learning_rate': 0.016912607758777905, 'max_depth': 8, 'min_samples_split': 9, 'min_samples_leaf': 8}. \n"
     ]
    },
    {
     "name": "stderr",
     "output_type": "stream",
     "text": [
      "[I 2024-07-01 20:24:17,089] Trial 7 finished with values: [2.800582590794898, 0.5007974261258175] and parameters: {'n_estimators': 69, 'learning_rate': 0.012496481085596596, 'max_depth': 5, 'min_samples_split': 6, 'min_samples_leaf': 3}. \n"
     ]
    },
    {
     "name": "stdout",
     "output_type": "stream",
     "text": [
      "Trial 7 finished with values: [2.800582590794898, 0.5007974261258175] and parameters: {'n_estimators': 69, 'learning_rate': 0.012496481085596596, 'max_depth': 5, 'min_samples_split': 6, 'min_samples_leaf': 3}. \n"
     ]
    },
    {
     "name": "stderr",
     "output_type": "stream",
     "text": [
      "[I 2024-07-01 20:25:44,664] Trial 8 finished with values: [2.5242445580417536, 0.04803733498494944] and parameters: {'n_estimators': 196, 'learning_rate': 0.06742958698478892, 'max_depth': 4, 'min_samples_split': 6, 'min_samples_leaf': 8}. \n"
     ]
    },
    {
     "name": "stdout",
     "output_type": "stream",
     "text": [
      "Trial 8 finished with values: [2.5242445580417536, 0.04803733498494944] and parameters: {'n_estimators': 196, 'learning_rate': 0.06742958698478892, 'max_depth': 4, 'min_samples_split': 6, 'min_samples_leaf': 8}. \n"
     ]
    },
    {
     "name": "stderr",
     "output_type": "stream",
     "text": [
      "[I 2024-07-01 20:29:20,733] Trial 9 finished with values: [1.9319095010929959, 0.5921755563182616] and parameters: {'n_estimators': 285, 'learning_rate': 0.019335360708947657, 'max_depth': 7, 'min_samples_split': 9, 'min_samples_leaf': 5}. \n"
     ]
    },
    {
     "name": "stdout",
     "output_type": "stream",
     "text": [
      "Trial 9 finished with values: [1.9319095010929959, 0.5921755563182616] and parameters: {'n_estimators': 285, 'learning_rate': 0.019335360708947657, 'max_depth': 7, 'min_samples_split': 9, 'min_samples_leaf': 5}. \n"
     ]
    },
    {
     "name": "stderr",
     "output_type": "stream",
     "text": [
      "[I 2024-07-01 20:30:38,181] Trial 10 finished with values: [2.6351544894157715, 0.11307711526524333] and parameters: {'n_estimators': 118, 'learning_rate': 0.03970828552511593, 'max_depth': 6, 'min_samples_split': 2, 'min_samples_leaf': 4}. \n"
     ]
    },
    {
     "name": "stdout",
     "output_type": "stream",
     "text": [
      "Trial 10 finished with values: [2.6351544894157715, 0.11307711526524333] and parameters: {'n_estimators': 118, 'learning_rate': 0.03970828552511593, 'max_depth': 6, 'min_samples_split': 2, 'min_samples_leaf': 4}. \n"
     ]
    },
    {
     "name": "stderr",
     "output_type": "stream",
     "text": [
      "[I 2024-07-01 20:32:34,455] Trial 11 finished with values: [0.22333838278768117, 23.269222320515457] and parameters: {'n_estimators': 133, 'learning_rate': 0.06598706788047409, 'max_depth': 8, 'min_samples_split': 7, 'min_samples_leaf': 2}. \n"
     ]
    },
    {
     "name": "stdout",
     "output_type": "stream",
     "text": [
      "Trial 11 finished with values: [0.22333838278768117, 23.269222320515457] and parameters: {'n_estimators': 133, 'learning_rate': 0.06598706788047409, 'max_depth': 8, 'min_samples_split': 7, 'min_samples_leaf': 2}. \n"
     ]
    },
    {
     "name": "stderr",
     "output_type": "stream",
     "text": [
      "[I 2024-07-01 20:33:21,149] Trial 12 finished with values: [2.5886913892220225, 0.45856597935203447] and parameters: {'n_estimators': 85, 'learning_rate': 0.02557323767619591, 'max_depth': 5, 'min_samples_split': 4, 'min_samples_leaf': 3}. \n"
     ]
    },
    {
     "name": "stdout",
     "output_type": "stream",
     "text": [
      "Trial 12 finished with values: [2.5886913892220225, 0.45856597935203447] and parameters: {'n_estimators': 85, 'learning_rate': 0.02557323767619591, 'max_depth': 5, 'min_samples_split': 4, 'min_samples_leaf': 3}. \n"
     ]
    },
    {
     "name": "stderr",
     "output_type": "stream",
     "text": [
      "[I 2024-07-01 20:37:14,647] Trial 13 finished with values: [2.14089799209598, 1.3131965353924069] and parameters: {'n_estimators': 214, 'learning_rate': 0.06309162183682064, 'max_depth': 10, 'min_samples_split': 10, 'min_samples_leaf': 4}. \n"
     ]
    },
    {
     "name": "stdout",
     "output_type": "stream",
     "text": [
      "Trial 13 finished with values: [2.14089799209598, 1.3131965353924069] and parameters: {'n_estimators': 214, 'learning_rate': 0.06309162183682064, 'max_depth': 10, 'min_samples_split': 10, 'min_samples_leaf': 4}. \n"
     ]
    },
    {
     "name": "stderr",
     "output_type": "stream",
     "text": [
      "[I 2024-07-01 20:39:56,468] Trial 14 finished with values: [1.3582448728964476, 1.4896849634812268] and parameters: {'n_estimators': 186, 'learning_rate': 0.018564280394162518, 'max_depth': 8, 'min_samples_split': 7, 'min_samples_leaf': 10}. \n"
     ]
    },
    {
     "name": "stdout",
     "output_type": "stream",
     "text": [
      "Trial 14 finished with values: [1.3582448728964476, 1.4896849634812268] and parameters: {'n_estimators': 186, 'learning_rate': 0.018564280394162518, 'max_depth': 8, 'min_samples_split': 7, 'min_samples_leaf': 10}. \n"
     ]
    },
    {
     "name": "stderr",
     "output_type": "stream",
     "text": [
      "[I 2024-07-01 20:41:46,322] Trial 15 finished with values: [2.645182202354579, 0.4524347056278164] and parameters: {'n_estimators': 101, 'learning_rate': 0.017445278976504622, 'max_depth': 10, 'min_samples_split': 10, 'min_samples_leaf': 4}. \n"
     ]
    },
    {
     "name": "stdout",
     "output_type": "stream",
     "text": [
      "Trial 15 finished with values: [2.645182202354579, 0.4524347056278164] and parameters: {'n_estimators': 101, 'learning_rate': 0.017445278976504622, 'max_depth': 10, 'min_samples_split': 10, 'min_samples_leaf': 4}. \n"
     ]
    },
    {
     "name": "stderr",
     "output_type": "stream",
     "text": [
      "[I 2024-07-01 20:44:28,996] Trial 16 finished with values: [1.4665275829382243, 1.7473564065267033] and parameters: {'n_estimators': 147, 'learning_rate': 0.06472678530793612, 'max_depth': 10, 'min_samples_split': 9, 'min_samples_leaf': 10}. \n"
     ]
    },
    {
     "name": "stdout",
     "output_type": "stream",
     "text": [
      "Trial 16 finished with values: [1.4665275829382243, 1.7473564065267033] and parameters: {'n_estimators': 147, 'learning_rate': 0.06472678530793612, 'max_depth': 10, 'min_samples_split': 9, 'min_samples_leaf': 10}. \n"
     ]
    },
    {
     "name": "stderr",
     "output_type": "stream",
     "text": [
      "[I 2024-07-01 20:46:37,015] Trial 17 finished with values: [2.051201856027195, 0.3601058529174421] and parameters: {'n_estimators': 196, 'learning_rate': 0.07135947930753028, 'max_depth': 6, 'min_samples_split': 9, 'min_samples_leaf': 6}. \n"
     ]
    },
    {
     "name": "stdout",
     "output_type": "stream",
     "text": [
      "Trial 17 finished with values: [2.051201856027195, 0.3601058529174421] and parameters: {'n_estimators': 196, 'learning_rate': 0.07135947930753028, 'max_depth': 6, 'min_samples_split': 9, 'min_samples_leaf': 6}. \n"
     ]
    },
    {
     "name": "stderr",
     "output_type": "stream",
     "text": [
      "[I 2024-07-01 20:48:27,856] Trial 18 finished with values: [2.507167506754833, 0.8421291104291999] and parameters: {'n_estimators': 203, 'learning_rate': 0.07719493749003965, 'max_depth': 5, 'min_samples_split': 3, 'min_samples_leaf': 3}. \n"
     ]
    },
    {
     "name": "stdout",
     "output_type": "stream",
     "text": [
      "Trial 18 finished with values: [2.507167506754833, 0.8421291104291999] and parameters: {'n_estimators': 203, 'learning_rate': 0.07719493749003965, 'max_depth': 5, 'min_samples_split': 3, 'min_samples_leaf': 3}. \n"
     ]
    },
    {
     "name": "stderr",
     "output_type": "stream",
     "text": [
      "[I 2024-07-01 20:51:38,995] Trial 19 finished with values: [1.993932481169249, 0.3405090487162419] and parameters: {'n_estimators': 292, 'learning_rate': 0.039166785818059054, 'max_depth': 6, 'min_samples_split': 6, 'min_samples_leaf': 8}. \n"
     ]
    },
    {
     "name": "stdout",
     "output_type": "stream",
     "text": [
      "Trial 19 finished with values: [1.993932481169249, 0.3405090487162419] and parameters: {'n_estimators': 292, 'learning_rate': 0.039166785818059054, 'max_depth': 6, 'min_samples_split': 6, 'min_samples_leaf': 8}. \n"
     ]
    },
    {
     "name": "stderr",
     "output_type": "stream",
     "text": [
      "[I 2024-07-01 20:52:47,748] Trial 20 finished with values: [2.437038010814371, 0.16731032161357584] and parameters: {'n_estimators': 105, 'learning_rate': 0.061003744559229876, 'max_depth': 6, 'min_samples_split': 5, 'min_samples_leaf': 4}. \n"
     ]
    },
    {
     "name": "stdout",
     "output_type": "stream",
     "text": [
      "Trial 20 finished with values: [2.437038010814371, 0.16731032161357584] and parameters: {'n_estimators': 105, 'learning_rate': 0.061003744559229876, 'max_depth': 6, 'min_samples_split': 5, 'min_samples_leaf': 4}. \n"
     ]
    },
    {
     "name": "stderr",
     "output_type": "stream",
     "text": [
      "[I 2024-07-01 20:53:11,136] Trial 21 finished with values: [2.169639957328465, 0.31178307195035204] and parameters: {'n_estimators': 71, 'learning_rate': 0.098079224331478, 'max_depth': 3, 'min_samples_split': 9, 'min_samples_leaf': 1}. \n"
     ]
    },
    {
     "name": "stdout",
     "output_type": "stream",
     "text": [
      "Trial 21 finished with values: [2.169639957328465, 0.31178307195035204] and parameters: {'n_estimators': 71, 'learning_rate': 0.098079224331478, 'max_depth': 3, 'min_samples_split': 9, 'min_samples_leaf': 1}. \n"
     ]
    },
    {
     "name": "stderr",
     "output_type": "stream",
     "text": [
      "[I 2024-07-01 20:54:01,824] Trial 22 finished with values: [2.42057808420182, 0.4113479333087109] and parameters: {'n_estimators': 116, 'learning_rate': 0.01949922042896944, 'max_depth': 4, 'min_samples_split': 6, 'min_samples_leaf': 1}. \n"
     ]
    },
    {
     "name": "stdout",
     "output_type": "stream",
     "text": [
      "Trial 22 finished with values: [2.42057808420182, 0.4113479333087109] and parameters: {'n_estimators': 116, 'learning_rate': 0.01949922042896944, 'max_depth': 4, 'min_samples_split': 6, 'min_samples_leaf': 1}. \n"
     ]
    },
    {
     "name": "stderr",
     "output_type": "stream",
     "text": [
      "[I 2024-07-01 20:57:23,806] Trial 23 finished with values: [2.5296902552340774, 0.11819014112381532] and parameters: {'n_estimators': 265, 'learning_rate': 0.01654556570474572, 'max_depth': 7, 'min_samples_split': 8, 'min_samples_leaf': 5}. \n"
     ]
    },
    {
     "name": "stdout",
     "output_type": "stream",
     "text": [
      "Trial 23 finished with values: [2.5296902552340774, 0.11819014112381532] and parameters: {'n_estimators': 265, 'learning_rate': 0.01654556570474572, 'max_depth': 7, 'min_samples_split': 8, 'min_samples_leaf': 5}. \n"
     ]
    },
    {
     "name": "stderr",
     "output_type": "stream",
     "text": [
      "[I 2024-07-01 20:59:31,674] Trial 24 finished with values: [2.8901477119935524, 0.1274898078914115] and parameters: {'n_estimators': 195, 'learning_rate': 0.028919294368332037, 'max_depth': 6, 'min_samples_split': 6, 'min_samples_leaf': 5}. \n"
     ]
    },
    {
     "name": "stdout",
     "output_type": "stream",
     "text": [
      "Trial 24 finished with values: [2.8901477119935524, 0.1274898078914115] and parameters: {'n_estimators': 195, 'learning_rate': 0.028919294368332037, 'max_depth': 6, 'min_samples_split': 6, 'min_samples_leaf': 5}. \n"
     ]
    },
    {
     "name": "stderr",
     "output_type": "stream",
     "text": [
      "[I 2024-07-01 21:04:56,032] Trial 25 finished with values: [0.5130077399689452, 11.340767283549216] and parameters: {'n_estimators': 299, 'learning_rate': 0.07249793979303126, 'max_depth': 10, 'min_samples_split': 2, 'min_samples_leaf': 2}. \n"
     ]
    },
    {
     "name": "stdout",
     "output_type": "stream",
     "text": [
      "Trial 25 finished with values: [0.5130077399689452, 11.340767283549216] and parameters: {'n_estimators': 299, 'learning_rate': 0.07249793979303126, 'max_depth': 10, 'min_samples_split': 2, 'min_samples_leaf': 2}. \n"
     ]
    },
    {
     "name": "stderr",
     "output_type": "stream",
     "text": [
      "[I 2024-07-01 21:07:01,493] Trial 26 finished with values: [1.755872852313543, 1.3803767547397436] and parameters: {'n_estimators': 129, 'learning_rate': 0.04771218517440538, 'max_depth': 9, 'min_samples_split': 10, 'min_samples_leaf': 10}. \n"
     ]
    },
    {
     "name": "stdout",
     "output_type": "stream",
     "text": [
      "Trial 26 finished with values: [1.755872852313543, 1.3803767547397436] and parameters: {'n_estimators': 129, 'learning_rate': 0.04771218517440538, 'max_depth': 9, 'min_samples_split': 10, 'min_samples_leaf': 10}. \n"
     ]
    },
    {
     "name": "stderr",
     "output_type": "stream",
     "text": [
      "[I 2024-07-01 21:07:42,627] Trial 27 finished with values: [2.433553821265951, 0.17245460245713073] and parameters: {'n_estimators': 95, 'learning_rate': 0.08111022021208383, 'max_depth': 4, 'min_samples_split': 2, 'min_samples_leaf': 3}. \n"
     ]
    },
    {
     "name": "stdout",
     "output_type": "stream",
     "text": [
      "Trial 27 finished with values: [2.433553821265951, 0.17245460245713073] and parameters: {'n_estimators': 95, 'learning_rate': 0.08111022021208383, 'max_depth': 4, 'min_samples_split': 2, 'min_samples_leaf': 3}. \n"
     ]
    },
    {
     "name": "stderr",
     "output_type": "stream",
     "text": [
      "[I 2024-07-01 21:10:11,950] Trial 28 finished with values: [2.2482051810342067, 0.46490089585086225] and parameters: {'n_estimators': 197, 'learning_rate': 0.05782983248191659, 'max_depth': 7, 'min_samples_split': 9, 'min_samples_leaf': 5}. \n"
     ]
    },
    {
     "name": "stdout",
     "output_type": "stream",
     "text": [
      "Trial 28 finished with values: [2.2482051810342067, 0.46490089585086225] and parameters: {'n_estimators': 197, 'learning_rate': 0.05782983248191659, 'max_depth': 7, 'min_samples_split': 9, 'min_samples_leaf': 5}. \n"
     ]
    },
    {
     "name": "stderr",
     "output_type": "stream",
     "text": [
      "[I 2024-07-01 21:10:58,124] Trial 29 finished with values: [2.5280278469607596, 0.4341070817147735] and parameters: {'n_estimators': 142, 'learning_rate': 0.01083837550122271, 'max_depth': 3, 'min_samples_split': 8, 'min_samples_leaf': 3}. \n"
     ]
    },
    {
     "name": "stdout",
     "output_type": "stream",
     "text": [
      "Trial 29 finished with values: [2.5280278469607596, 0.4341070817147735] and parameters: {'n_estimators': 142, 'learning_rate': 0.01083837550122271, 'max_depth': 3, 'min_samples_split': 8, 'min_samples_leaf': 3}. \n"
     ]
    },
    {
     "name": "stderr",
     "output_type": "stream",
     "text": [
      "[I 2024-07-01 21:13:13,285] Trial 30 finished with values: [2.0602590744851943, 1.1060780137936286] and parameters: {'n_estimators': 139, 'learning_rate': 0.07788901353770916, 'max_depth': 9, 'min_samples_split': 9, 'min_samples_leaf': 4}. \n"
     ]
    },
    {
     "name": "stdout",
     "output_type": "stream",
     "text": [
      "Trial 30 finished with values: [2.0602590744851943, 1.1060780137936286] and parameters: {'n_estimators': 139, 'learning_rate': 0.07788901353770916, 'max_depth': 9, 'min_samples_split': 9, 'min_samples_leaf': 4}. \n"
     ]
    },
    {
     "name": "stderr",
     "output_type": "stream",
     "text": [
      "[I 2024-07-01 21:14:42,862] Trial 31 finished with values: [2.3071506314299706, 0.39001739630375787] and parameters: {'n_estimators': 275, 'learning_rate': 0.06497491649343669, 'max_depth': 3, 'min_samples_split': 6, 'min_samples_leaf': 5}. \n"
     ]
    },
    {
     "name": "stdout",
     "output_type": "stream",
     "text": [
      "Trial 31 finished with values: [2.3071506314299706, 0.39001739630375787] and parameters: {'n_estimators': 275, 'learning_rate': 0.06497491649343669, 'max_depth': 3, 'min_samples_split': 6, 'min_samples_leaf': 5}. \n"
     ]
    },
    {
     "name": "stderr",
     "output_type": "stream",
     "text": [
      "[I 2024-07-01 21:16:26,179] Trial 32 finished with values: [1.478520583978541, 1.6129315373354962] and parameters: {'n_estimators': 106, 'learning_rate': 0.04466131817456185, 'max_depth': 9, 'min_samples_split': 9, 'min_samples_leaf': 3}. \n"
     ]
    },
    {
     "name": "stdout",
     "output_type": "stream",
     "text": [
      "Trial 32 finished with values: [1.478520583978541, 1.6129315373354962] and parameters: {'n_estimators': 106, 'learning_rate': 0.04466131817456185, 'max_depth': 9, 'min_samples_split': 9, 'min_samples_leaf': 3}. \n"
     ]
    },
    {
     "name": "stderr",
     "output_type": "stream",
     "text": [
      "[I 2024-07-01 21:17:47,066] Trial 33 finished with values: [2.20806864432501, 0.5995767321655623] and parameters: {'n_estimators': 107, 'learning_rate': 0.09878783211687817, 'max_depth': 7, 'min_samples_split': 7, 'min_samples_leaf': 5}. \n"
     ]
    },
    {
     "name": "stdout",
     "output_type": "stream",
     "text": [
      "Trial 33 finished with values: [2.20806864432501, 0.5995767321655623] and parameters: {'n_estimators': 107, 'learning_rate': 0.09878783211687817, 'max_depth': 7, 'min_samples_split': 7, 'min_samples_leaf': 5}. \n"
     ]
    },
    {
     "name": "stderr",
     "output_type": "stream",
     "text": [
      "[I 2024-07-01 21:18:36,503] Trial 34 finished with values: [2.1885554337040642, 0.12879450760389366] and parameters: {'n_estimators': 91, 'learning_rate': 0.09471170174914373, 'max_depth': 5, 'min_samples_split': 6, 'min_samples_leaf': 7}. \n"
     ]
    },
    {
     "name": "stdout",
     "output_type": "stream",
     "text": [
      "Trial 34 finished with values: [2.1885554337040642, 0.12879450760389366] and parameters: {'n_estimators': 91, 'learning_rate': 0.09471170174914373, 'max_depth': 5, 'min_samples_split': 6, 'min_samples_leaf': 7}. \n"
     ]
    },
    {
     "name": "stderr",
     "output_type": "stream",
     "text": [
      "[I 2024-07-01 21:20:24,271] Trial 35 finished with values: [1.7699550199471117, 1.7838962488246333] and parameters: {'n_estimators': 166, 'learning_rate': 0.08650073303954171, 'max_depth': 6, 'min_samples_split': 3, 'min_samples_leaf': 3}. \n"
     ]
    },
    {
     "name": "stdout",
     "output_type": "stream",
     "text": [
      "Trial 35 finished with values: [1.7699550199471117, 1.7838962488246333] and parameters: {'n_estimators': 166, 'learning_rate': 0.08650073303954171, 'max_depth': 6, 'min_samples_split': 3, 'min_samples_leaf': 3}. \n"
     ]
    },
    {
     "name": "stderr",
     "output_type": "stream",
     "text": [
      "[I 2024-07-01 21:21:17,616] Trial 36 finished with values: [1.3936985475503922, 1.5480898158235386] and parameters: {'n_estimators': 60, 'learning_rate': 0.09789981406433348, 'max_depth': 8, 'min_samples_split': 2, 'min_samples_leaf': 8}. \n"
     ]
    },
    {
     "name": "stdout",
     "output_type": "stream",
     "text": [
      "Trial 36 finished with values: [1.3936985475503922, 1.5480898158235386] and parameters: {'n_estimators': 60, 'learning_rate': 0.09789981406433348, 'max_depth': 8, 'min_samples_split': 2, 'min_samples_leaf': 8}. \n"
     ]
    },
    {
     "name": "stderr",
     "output_type": "stream",
     "text": [
      "[I 2024-07-01 21:23:53,286] Trial 37 finished with values: [2.0961618266414015, 1.0852601925011909] and parameters: {'n_estimators': 202, 'learning_rate': 0.08394237565676278, 'max_depth': 7, 'min_samples_split': 2, 'min_samples_leaf': 4}. \n"
     ]
    },
    {
     "name": "stdout",
     "output_type": "stream",
     "text": [
      "Trial 37 finished with values: [2.0961618266414015, 1.0852601925011909] and parameters: {'n_estimators': 202, 'learning_rate': 0.08394237565676278, 'max_depth': 7, 'min_samples_split': 2, 'min_samples_leaf': 4}. \n"
     ]
    },
    {
     "name": "stderr",
     "output_type": "stream",
     "text": [
      "[I 2024-07-01 21:25:59,488] Trial 38 finished with values: [2.927777064462494, 0.138892881300411] and parameters: {'n_estimators': 191, 'learning_rate': 0.02910339908785852, 'max_depth': 6, 'min_samples_split': 9, 'min_samples_leaf': 5}. \n"
     ]
    },
    {
     "name": "stdout",
     "output_type": "stream",
     "text": [
      "Trial 38 finished with values: [2.927777064462494, 0.138892881300411] and parameters: {'n_estimators': 191, 'learning_rate': 0.02910339908785852, 'max_depth': 6, 'min_samples_split': 9, 'min_samples_leaf': 5}. \n"
     ]
    },
    {
     "name": "stderr",
     "output_type": "stream",
     "text": [
      "[I 2024-07-01 21:26:34,353] Trial 39 finished with values: [3.020883714510754, 0.4794765387185217] and parameters: {'n_estimators': 105, 'learning_rate': 0.06531049423866093, 'max_depth': 3, 'min_samples_split': 10, 'min_samples_leaf': 6}. \n"
     ]
    },
    {
     "name": "stdout",
     "output_type": "stream",
     "text": [
      "Trial 39 finished with values: [3.020883714510754, 0.4794765387185217] and parameters: {'n_estimators': 105, 'learning_rate': 0.06531049423866093, 'max_depth': 3, 'min_samples_split': 10, 'min_samples_leaf': 6}. \n"
     ]
    },
    {
     "name": "stderr",
     "output_type": "stream",
     "text": [
      "[I 2024-07-01 21:28:17,620] Trial 40 finished with values: [1.8724811385616964, 0.4010529215537191] and parameters: {'n_estimators': 136, 'learning_rate': 0.017932729304118065, 'max_depth': 7, 'min_samples_split': 5, 'min_samples_leaf': 9}. \n"
     ]
    },
    {
     "name": "stdout",
     "output_type": "stream",
     "text": [
      "Trial 40 finished with values: [1.8724811385616964, 0.4010529215537191] and parameters: {'n_estimators': 136, 'learning_rate': 0.017932729304118065, 'max_depth': 7, 'min_samples_split': 5, 'min_samples_leaf': 9}. \n"
     ]
    },
    {
     "name": "stderr",
     "output_type": "stream",
     "text": [
      "[I 2024-07-01 21:29:50,050] Trial 41 finished with values: [1.3076729674229401, 1.7883101478179029] and parameters: {'n_estimators': 213, 'learning_rate': 0.056913505381639716, 'max_depth': 4, 'min_samples_split': 5, 'min_samples_leaf': 3}. \n"
     ]
    },
    {
     "name": "stdout",
     "output_type": "stream",
     "text": [
      "Trial 41 finished with values: [1.3076729674229401, 1.7883101478179029] and parameters: {'n_estimators': 213, 'learning_rate': 0.056913505381639716, 'max_depth': 4, 'min_samples_split': 5, 'min_samples_leaf': 3}. \n"
     ]
    },
    {
     "name": "stderr",
     "output_type": "stream",
     "text": [
      "[I 2024-07-01 21:32:48,555] Trial 42 finished with values: [1.5777603371694364, 1.495154686334093] and parameters: {'n_estimators': 206, 'learning_rate': 0.06830129372670832, 'max_depth': 8, 'min_samples_split': 8, 'min_samples_leaf': 8}. \n"
     ]
    },
    {
     "name": "stdout",
     "output_type": "stream",
     "text": [
      "Trial 42 finished with values: [1.5777603371694364, 1.495154686334093] and parameters: {'n_estimators': 206, 'learning_rate': 0.06830129372670832, 'max_depth': 8, 'min_samples_split': 8, 'min_samples_leaf': 8}. \n"
     ]
    },
    {
     "name": "stderr",
     "output_type": "stream",
     "text": [
      "[I 2024-07-01 21:33:37,359] Trial 43 finished with values: [1.8115769618599793, 1.0889791181275053] and parameters: {'n_estimators': 50, 'learning_rate': 0.04226158213087945, 'max_depth': 9, 'min_samples_split': 5, 'min_samples_leaf': 2}. \n"
     ]
    },
    {
     "name": "stdout",
     "output_type": "stream",
     "text": [
      "Trial 43 finished with values: [1.8115769618599793, 1.0889791181275053] and parameters: {'n_estimators': 50, 'learning_rate': 0.04226158213087945, 'max_depth': 9, 'min_samples_split': 5, 'min_samples_leaf': 2}. \n"
     ]
    },
    {
     "name": "stderr",
     "output_type": "stream",
     "text": [
      "[I 2024-07-01 21:37:07,534] Trial 44 finished with values: [1.4535495826588742, 1.6925067091229735] and parameters: {'n_estimators': 238, 'learning_rate': 0.0836719703825442, 'max_depth': 8, 'min_samples_split': 2, 'min_samples_leaf': 9}. \n"
     ]
    },
    {
     "name": "stdout",
     "output_type": "stream",
     "text": [
      "Trial 44 finished with values: [1.4535495826588742, 1.6925067091229735] and parameters: {'n_estimators': 238, 'learning_rate': 0.0836719703825442, 'max_depth': 8, 'min_samples_split': 2, 'min_samples_leaf': 9}. \n"
     ]
    },
    {
     "name": "stderr",
     "output_type": "stream",
     "text": [
      "[I 2024-07-01 21:40:12,251] Trial 45 finished with values: [1.848838089913616, 1.4128385791815519] and parameters: {'n_estimators': 279, 'learning_rate': 0.017586429698331865, 'max_depth': 6, 'min_samples_split': 4, 'min_samples_leaf': 1}. \n"
     ]
    },
    {
     "name": "stdout",
     "output_type": "stream",
     "text": [
      "Trial 45 finished with values: [1.848838089913616, 1.4128385791815519] and parameters: {'n_estimators': 279, 'learning_rate': 0.017586429698331865, 'max_depth': 6, 'min_samples_split': 4, 'min_samples_leaf': 1}. \n"
     ]
    },
    {
     "name": "stderr",
     "output_type": "stream",
     "text": [
      "[I 2024-07-01 21:43:26,264] Trial 46 finished with values: [0.9236465773177771, 4.801219356895589] and parameters: {'n_estimators': 225, 'learning_rate': 0.08218064935817986, 'max_depth': 8, 'min_samples_split': 9, 'min_samples_leaf': 2}. \n"
     ]
    },
    {
     "name": "stdout",
     "output_type": "stream",
     "text": [
      "Trial 46 finished with values: [0.9236465773177771, 4.801219356895589] and parameters: {'n_estimators': 225, 'learning_rate': 0.08218064935817986, 'max_depth': 8, 'min_samples_split': 9, 'min_samples_leaf': 2}. \n"
     ]
    },
    {
     "name": "stderr",
     "output_type": "stream",
     "text": [
      "[I 2024-07-01 21:44:22,833] Trial 47 finished with values: [2.777505812970493, 0.4918260421192052] and parameters: {'n_estimators': 174, 'learning_rate': 0.02156293219995206, 'max_depth': 3, 'min_samples_split': 3, 'min_samples_leaf': 6}. \n"
     ]
    },
    {
     "name": "stdout",
     "output_type": "stream",
     "text": [
      "Trial 47 finished with values: [2.777505812970493, 0.4918260421192052] and parameters: {'n_estimators': 174, 'learning_rate': 0.02156293219995206, 'max_depth': 3, 'min_samples_split': 3, 'min_samples_leaf': 6}. \n"
     ]
    },
    {
     "name": "stderr",
     "output_type": "stream",
     "text": [
      "[I 2024-07-01 21:46:01,493] Trial 48 finished with values: [3.836584679021093, 0.6215816726308852] and parameters: {'n_estimators': 228, 'learning_rate': 0.014838245916176992, 'max_depth': 4, 'min_samples_split': 7, 'min_samples_leaf': 5}. \n"
     ]
    },
    {
     "name": "stdout",
     "output_type": "stream",
     "text": [
      "Trial 48 finished with values: [3.836584679021093, 0.6215816726308852] and parameters: {'n_estimators': 228, 'learning_rate': 0.014838245916176992, 'max_depth': 4, 'min_samples_split': 7, 'min_samples_leaf': 5}. \n"
     ]
    },
    {
     "name": "stderr",
     "output_type": "stream",
     "text": [
      "[I 2024-07-01 21:50:32,850] Trial 49 finished with values: [1.8096746651930964, 1.4203348922799086] and parameters: {'n_estimators': 253, 'learning_rate': 0.05218708705215421, 'max_depth': 10, 'min_samples_split': 10, 'min_samples_leaf': 4}. \n"
     ]
    },
    {
     "name": "stdout",
     "output_type": "stream",
     "text": [
      "Trial 49 finished with values: [1.8096746651930964, 1.4203348922799086] and parameters: {'n_estimators': 253, 'learning_rate': 0.05218708705215421, 'max_depth': 10, 'min_samples_split': 10, 'min_samples_leaf': 4}. \n"
     ]
    },
    {
     "name": "stderr",
     "output_type": "stream",
     "text": [
      "[I 2024-07-01 21:52:02,679] Trial 50 finished with values: [1.737255409832835, 0.7093894978752227] and parameters: {'n_estimators': 118, 'learning_rate': 0.03970828552511593, 'max_depth': 7, 'min_samples_split': 2, 'min_samples_leaf': 9}. \n"
     ]
    },
    {
     "name": "stdout",
     "output_type": "stream",
     "text": [
      "Trial 50 finished with values: [1.737255409832835, 0.7093894978752227] and parameters: {'n_estimators': 118, 'learning_rate': 0.03970828552511593, 'max_depth': 7, 'min_samples_split': 2, 'min_samples_leaf': 9}. \n"
     ]
    },
    {
     "name": "stderr",
     "output_type": "stream",
     "text": [
      "[I 2024-07-01 21:52:44,056] Trial 51 finished with values: [3.319848857646516, 0.5554967085690451] and parameters: {'n_estimators': 95, 'learning_rate': 0.035942149339840745, 'max_depth': 4, 'min_samples_split': 3, 'min_samples_leaf': 4}. \n"
     ]
    },
    {
     "name": "stdout",
     "output_type": "stream",
     "text": [
      "Trial 51 finished with values: [3.319848857646516, 0.5554967085690451] and parameters: {'n_estimators': 95, 'learning_rate': 0.035942149339840745, 'max_depth': 4, 'min_samples_split': 3, 'min_samples_leaf': 4}. \n"
     ]
    },
    {
     "name": "stderr",
     "output_type": "stream",
     "text": [
      "[W 2024-07-01 21:52:44,074] Trial 52 failed with parameters: {'n_estimators': 106, 'learning_rate': 0.04466131817456185, 'max_depth': 9, 'min_samples_split': 9, 'min_samples_leaf': 3} because of the following error: The value nan is not acceptable.\n"
     ]
    },
    {
     "name": "stdout",
     "output_type": "stream",
     "text": [
      "Trial 52 failed with parameters: {'n_estimators': 106, 'learning_rate': 0.04466131817456185, 'max_depth': 9, 'min_samples_split': 9, 'min_samples_leaf': 3} because of the following error: The value nan is not acceptable.\n"
     ]
    },
    {
     "name": "stderr",
     "output_type": "stream",
     "text": [
      "[W 2024-07-01 21:52:44,076] Trial 52 failed with value nan.\n"
     ]
    },
    {
     "name": "stdout",
     "output_type": "stream",
     "text": [
      "Trial 52 failed with value nan.\n"
     ]
    },
    {
     "name": "stderr",
     "output_type": "stream",
     "text": [
      "[I 2024-07-01 21:54:09,768] Trial 53 finished with values: [2.1694934344341172, 0.4808582717957339] and parameters: {'n_estimators': 196, 'learning_rate': 0.098079224331478, 'max_depth': 4, 'min_samples_split': 10, 'min_samples_leaf': 8}. \n"
     ]
    },
    {
     "name": "stdout",
     "output_type": "stream",
     "text": [
      "Trial 53 finished with values: [2.1694934344341172, 0.4808582717957339] and parameters: {'n_estimators': 196, 'learning_rate': 0.098079224331478, 'max_depth': 4, 'min_samples_split': 10, 'min_samples_leaf': 8}. \n"
     ]
    },
    {
     "name": "stderr",
     "output_type": "stream",
     "text": [
      "[I 2024-07-01 21:55:37,868] Trial 54 finished with values: [3.412459631060313, 0.048747376004175] and parameters: {'n_estimators': 271, 'learning_rate': 0.06488115013825133, 'max_depth': 3, 'min_samples_split': 2, 'min_samples_leaf': 4}. \n"
     ]
    },
    {
     "name": "stdout",
     "output_type": "stream",
     "text": [
      "Trial 54 finished with values: [3.412459631060313, 0.048747376004175] and parameters: {'n_estimators': 271, 'learning_rate': 0.06488115013825133, 'max_depth': 3, 'min_samples_split': 2, 'min_samples_leaf': 4}. \n"
     ]
    },
    {
     "name": "stderr",
     "output_type": "stream",
     "text": [
      "[I 2024-07-01 21:56:33,248] Trial 55 finished with values: [2.620996345036765, 0.42415790326817526] and parameters: {'n_estimators': 127, 'learning_rate': 0.02231971294312078, 'max_depth': 4, 'min_samples_split': 9, 'min_samples_leaf': 1}. \n"
     ]
    },
    {
     "name": "stdout",
     "output_type": "stream",
     "text": [
      "Trial 55 finished with values: [2.620996345036765, 0.42415790326817526] and parameters: {'n_estimators': 127, 'learning_rate': 0.02231971294312078, 'max_depth': 4, 'min_samples_split': 9, 'min_samples_leaf': 1}. \n"
     ]
    },
    {
     "name": "stderr",
     "output_type": "stream",
     "text": [
      "[I 2024-07-01 22:00:23,862] Trial 56 finished with values: [1.9178375197288773, 1.3096625914656639] and parameters: {'n_estimators': 214, 'learning_rate': 0.03970828552511593, 'max_depth': 10, 'min_samples_split': 2, 'min_samples_leaf': 3}. \n"
     ]
    },
    {
     "name": "stdout",
     "output_type": "stream",
     "text": [
      "Trial 56 finished with values: [1.9178375197288773, 1.3096625914656639] and parameters: {'n_estimators': 214, 'learning_rate': 0.03970828552511593, 'max_depth': 10, 'min_samples_split': 2, 'min_samples_leaf': 3}. \n"
     ]
    },
    {
     "name": "stderr",
     "output_type": "stream",
     "text": [
      "[I 2024-07-01 22:00:46,500] Trial 57 finished with values: [2.699345709755614, 0.4712674903750246] and parameters: {'n_estimators': 69, 'learning_rate': 0.012496481085596596, 'max_depth': 3, 'min_samples_split': 8, 'min_samples_leaf': 3}. \n"
     ]
    },
    {
     "name": "stdout",
     "output_type": "stream",
     "text": [
      "Trial 57 finished with values: [2.699345709755614, 0.4712674903750246] and parameters: {'n_estimators': 69, 'learning_rate': 0.012496481085596596, 'max_depth': 3, 'min_samples_split': 8, 'min_samples_leaf': 3}. \n"
     ]
    },
    {
     "name": "stderr",
     "output_type": "stream",
     "text": [
      "[I 2024-07-01 22:02:03,438] Trial 58 finished with values: [2.1898668263194816, 0.173648928960908] and parameters: {'n_estimators': 118, 'learning_rate': 0.05014703093621372, 'max_depth': 6, 'min_samples_split': 2, 'min_samples_leaf': 4}. \n"
     ]
    },
    {
     "name": "stdout",
     "output_type": "stream",
     "text": [
      "Trial 58 finished with values: [2.1898668263194816, 0.173648928960908] and parameters: {'n_estimators': 118, 'learning_rate': 0.05014703093621372, 'max_depth': 6, 'min_samples_split': 2, 'min_samples_leaf': 4}. \n"
     ]
    },
    {
     "name": "stderr",
     "output_type": "stream",
     "text": [
      "[W 2024-07-01 22:02:03,456] Trial 59 failed with parameters: {'n_estimators': 124, 'learning_rate': 0.03034535781004869, 'max_depth': 10, 'min_samples_split': 8, 'min_samples_leaf': 7} because of the following error: The value nan is not acceptable.\n"
     ]
    },
    {
     "name": "stdout",
     "output_type": "stream",
     "text": [
      "Trial 59 failed with parameters: {'n_estimators': 124, 'learning_rate': 0.03034535781004869, 'max_depth': 10, 'min_samples_split': 8, 'min_samples_leaf': 7} because of the following error: The value nan is not acceptable.\n"
     ]
    },
    {
     "name": "stderr",
     "output_type": "stream",
     "text": [
      "[W 2024-07-01 22:02:03,458] Trial 59 failed with value nan.\n"
     ]
    },
    {
     "name": "stdout",
     "output_type": "stream",
     "text": [
      "Trial 59 failed with value nan.\n"
     ]
    },
    {
     "name": "stderr",
     "output_type": "stream",
     "text": [
      "[I 2024-07-01 22:04:09,213] Trial 60 finished with values: [1.0540043166543969, 2.2964692280932364] and parameters: {'n_estimators': 129, 'learning_rate': 0.039166785818059054, 'max_depth': 9, 'min_samples_split': 10, 'min_samples_leaf': 8}. \n"
     ]
    },
    {
     "name": "stdout",
     "output_type": "stream",
     "text": [
      "Trial 60 finished with values: [1.0540043166543969, 2.2964692280932364] and parameters: {'n_estimators': 129, 'learning_rate': 0.039166785818059054, 'max_depth': 9, 'min_samples_split': 10, 'min_samples_leaf': 8}. \n"
     ]
    },
    {
     "name": "stderr",
     "output_type": "stream",
     "text": [
      "[I 2024-07-01 22:04:41,479] Trial 61 finished with values: [2.5783010342832204, 0.4284776565998023] and parameters: {'n_estimators': 74, 'learning_rate': 0.012496481085596596, 'max_depth': 4, 'min_samples_split': 6, 'min_samples_leaf': 10}. \n"
     ]
    },
    {
     "name": "stdout",
     "output_type": "stream",
     "text": [
      "Trial 61 finished with values: [2.5783010342832204, 0.4284776565998023] and parameters: {'n_estimators': 74, 'learning_rate': 0.012496481085596596, 'max_depth': 4, 'min_samples_split': 6, 'min_samples_leaf': 10}. \n"
     ]
    },
    {
     "name": "stderr",
     "output_type": "stream",
     "text": [
      "[I 2024-07-01 22:05:50,310] Trial 62 finished with values: [1.8162326111742415, 0.4773189752722544] and parameters: {'n_estimators': 91, 'learning_rate': 0.09471170174914373, 'max_depth': 7, 'min_samples_split': 6, 'min_samples_leaf': 9}. \n"
     ]
    },
    {
     "name": "stdout",
     "output_type": "stream",
     "text": [
      "Trial 62 finished with values: [1.8162326111742415, 0.4773189752722544] and parameters: {'n_estimators': 91, 'learning_rate': 0.09471170174914373, 'max_depth': 7, 'min_samples_split': 6, 'min_samples_leaf': 9}. \n"
     ]
    },
    {
     "name": "stderr",
     "output_type": "stream",
     "text": [
      "[I 2024-07-01 22:08:55,778] Trial 63 finished with values: [1.6430360060516305, 0.7578730606856623] and parameters: {'n_estimators': 286, 'learning_rate': 0.0772789930710489, 'max_depth': 6, 'min_samples_split': 9, 'min_samples_leaf': 7}. \n"
     ]
    },
    {
     "name": "stdout",
     "output_type": "stream",
     "text": [
      "Trial 63 finished with values: [1.6430360060516305, 0.7578730606856623] and parameters: {'n_estimators': 286, 'learning_rate': 0.0772789930710489, 'max_depth': 6, 'min_samples_split': 9, 'min_samples_leaf': 7}. \n"
     ]
    },
    {
     "name": "stderr",
     "output_type": "stream",
     "text": [
      "[I 2024-07-01 22:14:06,102] Trial 64 finished with values: [1.967605490273089, 1.2947662031010845] and parameters: {'n_estimators': 287, 'learning_rate': 0.07249793979303126, 'max_depth': 10, 'min_samples_split': 4, 'min_samples_leaf': 10}. \n"
     ]
    },
    {
     "name": "stdout",
     "output_type": "stream",
     "text": [
      "Trial 64 finished with values: [1.967605490273089, 1.2947662031010845] and parameters: {'n_estimators': 287, 'learning_rate': 0.07249793979303126, 'max_depth': 10, 'min_samples_split': 4, 'min_samples_leaf': 10}. \n"
     ]
    },
    {
     "name": "stderr",
     "output_type": "stream",
     "text": [
      "[I 2024-07-01 22:15:31,711] Trial 65 finished with values: [2.8769816915278357, 0.38150874904037213] and parameters: {'n_estimators': 197, 'learning_rate': 0.05782983248191659, 'max_depth': 4, 'min_samples_split': 9, 'min_samples_leaf': 8}. \n"
     ]
    },
    {
     "name": "stdout",
     "output_type": "stream",
     "text": [
      "Trial 65 finished with values: [2.8769816915278357, 0.38150874904037213] and parameters: {'n_estimators': 197, 'learning_rate': 0.05782983248191659, 'max_depth': 4, 'min_samples_split': 9, 'min_samples_leaf': 8}. \n"
     ]
    },
    {
     "name": "stderr",
     "output_type": "stream",
     "text": [
      "[I 2024-07-01 22:16:59,764] Trial 66 finished with values: [2.1084818391413265, 0.15970429895996063] and parameters: {'n_estimators': 135, 'learning_rate': 0.039166785818059054, 'max_depth': 6, 'min_samples_split': 9, 'min_samples_leaf': 8}. \n"
     ]
    },
    {
     "name": "stdout",
     "output_type": "stream",
     "text": [
      "Trial 66 finished with values: [2.1084818391413265, 0.15970429895996063] and parameters: {'n_estimators': 135, 'learning_rate': 0.039166785818059054, 'max_depth': 6, 'min_samples_split': 9, 'min_samples_leaf': 8}. \n"
     ]
    },
    {
     "name": "stderr",
     "output_type": "stream",
     "text": [
      "[I 2024-07-01 22:20:07,842] Trial 67 finished with values: [1.6331562800132295, 1.474004875767494] and parameters: {'n_estimators': 174, 'learning_rate': 0.04771218517440538, 'max_depth': 10, 'min_samples_split': 3, 'min_samples_leaf': 10}. \n"
     ]
    },
    {
     "name": "stdout",
     "output_type": "stream",
     "text": [
      "Trial 67 finished with values: [1.6331562800132295, 1.474004875767494] and parameters: {'n_estimators': 174, 'learning_rate': 0.04771218517440538, 'max_depth': 10, 'min_samples_split': 3, 'min_samples_leaf': 10}. \n"
     ]
    },
    {
     "name": "stderr",
     "output_type": "stream",
     "text": [
      "[I 2024-07-01 22:21:56,903] Trial 68 finished with values: [2.283823294636316, 0.04757702931935959] and parameters: {'n_estimators': 168, 'learning_rate': 0.016912607758777905, 'max_depth': 6, 'min_samples_split': 8, 'min_samples_leaf': 3}. \n"
     ]
    },
    {
     "name": "stdout",
     "output_type": "stream",
     "text": [
      "Trial 68 finished with values: [2.283823294636316, 0.04757702931935959] and parameters: {'n_estimators': 168, 'learning_rate': 0.016912607758777905, 'max_depth': 6, 'min_samples_split': 8, 'min_samples_leaf': 3}. \n"
     ]
    },
    {
     "name": "stderr",
     "output_type": "stream",
     "text": [
      "[I 2024-07-01 22:22:50,312] Trial 69 finished with values: [2.282816010808971, 0.04702606949764365] and parameters: {'n_estimators': 82, 'learning_rate': 0.03034535781004869, 'max_depth': 6, 'min_samples_split': 8, 'min_samples_leaf': 3}. \n"
     ]
    },
    {
     "name": "stdout",
     "output_type": "stream",
     "text": [
      "Trial 69 finished with values: [2.282816010808971, 0.04702606949764365] and parameters: {'n_estimators': 82, 'learning_rate': 0.03034535781004869, 'max_depth': 6, 'min_samples_split': 8, 'min_samples_leaf': 3}. \n"
     ]
    },
    {
     "name": "stderr",
     "output_type": "stream",
     "text": [
      "[I 2024-07-01 22:24:30,241] Trial 70 finished with values: [1.7397634675337101, 1.866209839077602] and parameters: {'n_estimators': 132, 'learning_rate': 0.03938032182794442, 'max_depth': 7, 'min_samples_split': 7, 'min_samples_leaf': 1}. \n"
     ]
    },
    {
     "name": "stdout",
     "output_type": "stream",
     "text": [
      "Trial 70 finished with values: [1.7397634675337101, 1.866209839077602] and parameters: {'n_estimators': 132, 'learning_rate': 0.03938032182794442, 'max_depth': 7, 'min_samples_split': 7, 'min_samples_leaf': 1}. \n"
     ]
    },
    {
     "name": "stderr",
     "output_type": "stream",
     "text": [
      "[I 2024-07-01 22:26:12,531] Trial 71 finished with values: [3.0746211563412422, 0.529414542023874] and parameters: {'n_estimators': 299, 'learning_rate': 0.012496481085596596, 'max_depth': 3, 'min_samples_split': 6, 'min_samples_leaf': 9}. \n"
     ]
    },
    {
     "name": "stdout",
     "output_type": "stream",
     "text": [
      "Trial 71 finished with values: [3.0746211563412422, 0.529414542023874] and parameters: {'n_estimators': 299, 'learning_rate': 0.012496481085596596, 'max_depth': 3, 'min_samples_split': 6, 'min_samples_leaf': 9}. \n"
     ]
    },
    {
     "name": "stderr",
     "output_type": "stream",
     "text": [
      "[I 2024-07-01 22:27:35,618] Trial 72 finished with values: [3.0035985588340925, 0.42970510223835423] and parameters: {'n_estimators': 191, 'learning_rate': 0.017932729304118065, 'max_depth': 4, 'min_samples_split': 5, 'min_samples_leaf': 8}. \n"
     ]
    },
    {
     "name": "stdout",
     "output_type": "stream",
     "text": [
      "Trial 72 finished with values: [3.0035985588340925, 0.42970510223835423] and parameters: {'n_estimators': 191, 'learning_rate': 0.017932729304118065, 'max_depth': 4, 'min_samples_split': 5, 'min_samples_leaf': 8}. \n"
     ]
    },
    {
     "name": "stderr",
     "output_type": "stream",
     "text": [
      "[I 2024-07-01 22:28:25,728] Trial 73 finished with values: [3.057587785863216, 0.4521550597963395] and parameters: {'n_estimators': 153, 'learning_rate': 0.035942149339840745, 'max_depth': 3, 'min_samples_split': 3, 'min_samples_leaf': 4}. \n"
     ]
    },
    {
     "name": "stdout",
     "output_type": "stream",
     "text": [
      "Trial 73 finished with values: [3.057587785863216, 0.4521550597963395] and parameters: {'n_estimators': 153, 'learning_rate': 0.035942149339840745, 'max_depth': 3, 'min_samples_split': 3, 'min_samples_leaf': 4}. \n"
     ]
    },
    {
     "name": "stderr",
     "output_type": "stream",
     "text": [
      "[I 2024-07-01 22:30:55,347] Trial 74 finished with values: [3.206751392008534, 0.21240760540621628] and parameters: {'n_estimators': 197, 'learning_rate': 0.01654556570474572, 'max_depth': 7, 'min_samples_split': 5, 'min_samples_leaf': 5}. \n"
     ]
    },
    {
     "name": "stdout",
     "output_type": "stream",
     "text": [
      "Trial 74 finished with values: [3.206751392008534, 0.21240760540621628] and parameters: {'n_estimators': 197, 'learning_rate': 0.01654556570474572, 'max_depth': 7, 'min_samples_split': 5, 'min_samples_leaf': 5}. \n"
     ]
    },
    {
     "name": "stderr",
     "output_type": "stream",
     "text": [
      "[I 2024-07-01 22:32:20,419] Trial 75 finished with values: [1.6858734196424927, 1.7592500840776668] and parameters: {'n_estimators': 196, 'learning_rate': 0.06742958698478892, 'max_depth': 4, 'min_samples_split': 6, 'min_samples_leaf': 1}. \n"
     ]
    },
    {
     "name": "stdout",
     "output_type": "stream",
     "text": [
      "Trial 75 finished with values: [1.6858734196424927, 1.7592500840776668] and parameters: {'n_estimators': 196, 'learning_rate': 0.06742958698478892, 'max_depth': 4, 'min_samples_split': 6, 'min_samples_leaf': 1}. \n"
     ]
    },
    {
     "name": "stderr",
     "output_type": "stream",
     "text": [
      "[I 2024-07-01 22:32:48,190] Trial 76 finished with values: [2.777125380574414, 0.4695098753478977] and parameters: {'n_estimators': 85, 'learning_rate': 0.02557323767619591, 'max_depth': 3, 'min_samples_split': 5, 'min_samples_leaf': 7}. \n"
     ]
    },
    {
     "name": "stdout",
     "output_type": "stream",
     "text": [
      "Trial 76 finished with values: [2.777125380574414, 0.4695098753478977] and parameters: {'n_estimators': 85, 'learning_rate': 0.02557323767619591, 'max_depth': 3, 'min_samples_split': 5, 'min_samples_leaf': 7}. \n"
     ]
    },
    {
     "name": "stderr",
     "output_type": "stream",
     "text": [
      "[W 2024-07-01 22:32:48,220] Trial 77 failed with parameters: {'n_estimators': 105, 'learning_rate': 0.06531049423866093, 'max_depth': 3, 'min_samples_split': 10, 'min_samples_leaf': 6} because of the following error: The value nan is not acceptable.\n"
     ]
    },
    {
     "name": "stdout",
     "output_type": "stream",
     "text": [
      "Trial 77 failed with parameters: {'n_estimators': 105, 'learning_rate': 0.06531049423866093, 'max_depth': 3, 'min_samples_split': 10, 'min_samples_leaf': 6} because of the following error: The value nan is not acceptable.\n"
     ]
    },
    {
     "name": "stderr",
     "output_type": "stream",
     "text": [
      "[W 2024-07-01 22:32:48,221] Trial 77 failed with value nan.\n"
     ]
    },
    {
     "name": "stdout",
     "output_type": "stream",
     "text": [
      "Trial 77 failed with value nan.\n"
     ]
    },
    {
     "name": "stderr",
     "output_type": "stream",
     "text": [
      "[I 2024-07-01 22:35:24,918] Trial 78 finished with values: [2.6435780357195307, 0.16076165587569147] and parameters: {'n_estimators': 241, 'learning_rate': 0.05989383252977463, 'max_depth': 6, 'min_samples_split': 3, 'min_samples_leaf': 6}. \n"
     ]
    },
    {
     "name": "stdout",
     "output_type": "stream",
     "text": [
      "Trial 78 finished with values: [2.6435780357195307, 0.16076165587569147] and parameters: {'n_estimators': 241, 'learning_rate': 0.05989383252977463, 'max_depth': 6, 'min_samples_split': 3, 'min_samples_leaf': 6}. \n"
     ]
    },
    {
     "name": "stderr",
     "output_type": "stream",
     "text": [
      "[I 2024-07-01 22:36:28,643] Trial 79 finished with values: [2.768216548745447, 0.18996657504733938] and parameters: {'n_estimators': 196, 'learning_rate': 0.07135947930753028, 'max_depth': 3, 'min_samples_split': 8, 'min_samples_leaf': 3}. \n"
     ]
    },
    {
     "name": "stdout",
     "output_type": "stream",
     "text": [
      "Trial 79 finished with values: [2.768216548745447, 0.18996657504733938] and parameters: {'n_estimators': 196, 'learning_rate': 0.07135947930753028, 'max_depth': 3, 'min_samples_split': 8, 'min_samples_leaf': 3}. \n"
     ]
    },
    {
     "name": "stderr",
     "output_type": "stream",
     "text": [
      "[I 2024-07-01 22:37:47,980] Trial 80 finished with values: [2.2502803959104964, 0.11234036746041243] and parameters: {'n_estimators': 183, 'learning_rate': 0.06742958698478892, 'max_depth': 4, 'min_samples_split': 6, 'min_samples_leaf': 6}. \n"
     ]
    },
    {
     "name": "stdout",
     "output_type": "stream",
     "text": [
      "Trial 80 finished with values: [2.2502803959104964, 0.11234036746041243] and parameters: {'n_estimators': 183, 'learning_rate': 0.06742958698478892, 'max_depth': 4, 'min_samples_split': 6, 'min_samples_leaf': 6}. \n"
     ]
    },
    {
     "name": "stderr",
     "output_type": "stream",
     "text": [
      "[I 2024-07-01 22:39:02,792] Trial 81 finished with values: [2.928197878671104, 0.17502627401442028] and parameters: {'n_estimators': 229, 'learning_rate': 0.06173317376574046, 'max_depth': 3, 'min_samples_split': 3, 'min_samples_leaf': 5}. \n"
     ]
    },
    {
     "name": "stdout",
     "output_type": "stream",
     "text": [
      "Trial 81 finished with values: [2.928197878671104, 0.17502627401442028] and parameters: {'n_estimators': 229, 'learning_rate': 0.06173317376574046, 'max_depth': 3, 'min_samples_split': 3, 'min_samples_leaf': 5}. \n"
     ]
    },
    {
     "name": "stderr",
     "output_type": "stream",
     "text": [
      "[I 2024-07-01 22:40:46,713] Trial 82 finished with values: [2.004436161851457, 0.19344466233311874] and parameters: {'n_estimators': 241, 'learning_rate': 0.0581401416717704, 'max_depth': 4, 'min_samples_split': 2, 'min_samples_leaf': 7}. \n"
     ]
    },
    {
     "name": "stdout",
     "output_type": "stream",
     "text": [
      "Trial 82 finished with values: [2.004436161851457, 0.19344466233311874] and parameters: {'n_estimators': 241, 'learning_rate': 0.0581401416717704, 'max_depth': 4, 'min_samples_split': 2, 'min_samples_leaf': 7}. \n"
     ]
    },
    {
     "name": "stderr",
     "output_type": "stream",
     "text": [
      "[I 2024-07-01 22:45:15,580] Trial 83 finished with values: [1.733024636073305, 1.3243485567557105] and parameters: {'n_estimators': 278, 'learning_rate': 0.04771218517440538, 'max_depth': 9, 'min_samples_split': 3, 'min_samples_leaf': 4}. \n"
     ]
    },
    {
     "name": "stdout",
     "output_type": "stream",
     "text": [
      "Trial 83 finished with values: [1.733024636073305, 1.3243485567557105] and parameters: {'n_estimators': 278, 'learning_rate': 0.04771218517440538, 'max_depth': 9, 'min_samples_split': 3, 'min_samples_leaf': 4}. \n"
     ]
    },
    {
     "name": "stderr",
     "output_type": "stream",
     "text": [
      "[I 2024-07-01 22:46:22,418] Trial 84 finished with values: [2.7330131181637674, 0.14238329181882292] and parameters: {'n_estimators': 206, 'learning_rate': 0.09471170174914373, 'max_depth': 3, 'min_samples_split': 6, 'min_samples_leaf': 7}. \n"
     ]
    },
    {
     "name": "stdout",
     "output_type": "stream",
     "text": [
      "Trial 84 finished with values: [2.7330131181637674, 0.14238329181882292] and parameters: {'n_estimators': 206, 'learning_rate': 0.09471170174914373, 'max_depth': 3, 'min_samples_split': 6, 'min_samples_leaf': 7}. \n"
     ]
    },
    {
     "name": "stderr",
     "output_type": "stream",
     "text": [
      "[I 2024-07-01 22:48:43,058] Trial 85 finished with values: [1.9191006191670539, 1.3445146206971073] and parameters: {'n_estimators': 132, 'learning_rate': 0.04947910938862077, 'max_depth': 10, 'min_samples_split': 3, 'min_samples_leaf': 5}. \n"
     ]
    },
    {
     "name": "stdout",
     "output_type": "stream",
     "text": [
      "Trial 85 finished with values: [1.9191006191670539, 1.3445146206971073] and parameters: {'n_estimators': 132, 'learning_rate': 0.04947910938862077, 'max_depth': 10, 'min_samples_split': 3, 'min_samples_leaf': 5}. \n"
     ]
    },
    {
     "name": "stderr",
     "output_type": "stream",
     "text": [
      "[I 2024-07-01 22:49:17,033] Trial 86 finished with values: [2.114746933100621, 0.38712264118478523] and parameters: {'n_estimators': 105, 'learning_rate': 0.06531049423866093, 'max_depth': 3, 'min_samples_split': 6, 'min_samples_leaf': 1}. \n"
     ]
    },
    {
     "name": "stdout",
     "output_type": "stream",
     "text": [
      "Trial 86 finished with values: [2.114746933100621, 0.38712264118478523] and parameters: {'n_estimators': 105, 'learning_rate': 0.06531049423866093, 'max_depth': 3, 'min_samples_split': 6, 'min_samples_leaf': 1}. \n"
     ]
    },
    {
     "name": "stderr",
     "output_type": "stream",
     "text": [
      "[I 2024-07-01 22:51:09,556] Trial 87 finished with values: [1.985280173498594, 0.7506285007133102] and parameters: {'n_estimators': 151, 'learning_rate': 0.06309162183682064, 'max_depth': 7, 'min_samples_split': 6, 'min_samples_leaf': 7}. \n"
     ]
    },
    {
     "name": "stdout",
     "output_type": "stream",
     "text": [
      "Trial 87 finished with values: [1.985280173498594, 0.7506285007133102] and parameters: {'n_estimators': 151, 'learning_rate': 0.06309162183682064, 'max_depth': 7, 'min_samples_split': 6, 'min_samples_leaf': 7}. \n"
     ]
    },
    {
     "name": "stderr",
     "output_type": "stream",
     "text": [
      "[I 2024-07-01 22:52:57,784] Trial 88 finished with values: [1.6957728034215347, 1.728528757353982] and parameters: {'n_estimators': 203, 'learning_rate': 0.07719493749003965, 'max_depth': 5, 'min_samples_split': 5, 'min_samples_leaf': 3}. \n"
     ]
    },
    {
     "name": "stdout",
     "output_type": "stream",
     "text": [
      "Trial 88 finished with values: [1.6957728034215347, 1.728528757353982] and parameters: {'n_estimators': 203, 'learning_rate': 0.07719493749003965, 'max_depth': 5, 'min_samples_split': 5, 'min_samples_leaf': 3}. \n"
     ]
    },
    {
     "name": "stderr",
     "output_type": "stream",
     "text": [
      "[I 2024-07-01 22:54:42,499] Trial 89 finished with values: [2.344591482286505, 0.5232541147811376] and parameters: {'n_estimators': 246, 'learning_rate': 0.09789981406433348, 'max_depth': 4, 'min_samples_split': 4, 'min_samples_leaf': 8}. \n"
     ]
    },
    {
     "name": "stdout",
     "output_type": "stream",
     "text": [
      "Trial 89 finished with values: [2.344591482286505, 0.5232541147811376] and parameters: {'n_estimators': 246, 'learning_rate': 0.09789981406433348, 'max_depth': 4, 'min_samples_split': 4, 'min_samples_leaf': 8}. \n"
     ]
    },
    {
     "name": "stderr",
     "output_type": "stream",
     "text": [
      "[I 2024-07-01 22:56:28,493] Trial 90 finished with values: [1.2184524734145916, 1.6177081751353497] and parameters: {'n_estimators': 248, 'learning_rate': 0.06742958698478892, 'max_depth': 4, 'min_samples_split': 6, 'min_samples_leaf': 5}. \n"
     ]
    },
    {
     "name": "stdout",
     "output_type": "stream",
     "text": [
      "Trial 90 finished with values: [1.2184524734145916, 1.6177081751353497] and parameters: {'n_estimators': 248, 'learning_rate': 0.06742958698478892, 'max_depth': 4, 'min_samples_split': 6, 'min_samples_leaf': 5}. \n"
     ]
    },
    {
     "name": "stderr",
     "output_type": "stream",
     "text": [
      "[I 2024-07-01 22:57:38,222] Trial 91 finished with values: [3.3321319557424363, 0.5715866521938322] and parameters: {'n_estimators': 131, 'learning_rate': 0.012496481085596596, 'max_depth': 5, 'min_samples_split': 6, 'min_samples_leaf': 5}. \n"
     ]
    },
    {
     "name": "stdout",
     "output_type": "stream",
     "text": [
      "Trial 91 finished with values: [3.3321319557424363, 0.5715866521938322] and parameters: {'n_estimators': 131, 'learning_rate': 0.012496481085596596, 'max_depth': 5, 'min_samples_split': 6, 'min_samples_leaf': 5}. \n"
     ]
    },
    {
     "name": "stderr",
     "output_type": "stream",
     "text": [
      "[I 2024-07-01 22:59:02,020] Trial 92 finished with values: [3.505352160906561, 0.5717567649684222] and parameters: {'n_estimators': 196, 'learning_rate': 0.02910339908785852, 'max_depth': 4, 'min_samples_split': 6, 'min_samples_leaf': 5}. \n"
     ]
    },
    {
     "name": "stdout",
     "output_type": "stream",
     "text": [
      "Trial 92 finished with values: [3.505352160906561, 0.5717567649684222] and parameters: {'n_estimators': 196, 'learning_rate': 0.02910339908785852, 'max_depth': 4, 'min_samples_split': 6, 'min_samples_leaf': 5}. \n"
     ]
    },
    {
     "name": "stderr",
     "output_type": "stream",
     "text": [
      "[I 2024-07-01 23:02:20,394] Trial 93 finished with values: [2.079517506795039, 0.3993042367804478] and parameters: {'n_estimators': 265, 'learning_rate': 0.02557323767619591, 'max_depth': 7, 'min_samples_split': 8, 'min_samples_leaf': 5}. \n"
     ]
    },
    {
     "name": "stdout",
     "output_type": "stream",
     "text": [
      "Trial 93 finished with values: [2.079517506795039, 0.3993042367804478] and parameters: {'n_estimators': 265, 'learning_rate': 0.02557323767619591, 'max_depth': 7, 'min_samples_split': 8, 'min_samples_leaf': 5}. \n"
     ]
    },
    {
     "name": "stderr",
     "output_type": "stream",
     "text": [
      "[I 2024-07-01 23:04:01,119] Trial 94 finished with values: [1.6075337547474529, 1.3282427573566684] and parameters: {'n_estimators': 118, 'learning_rate': 0.06830129372670832, 'max_depth': 8, 'min_samples_split': 2, 'min_samples_leaf': 6}. \n"
     ]
    },
    {
     "name": "stdout",
     "output_type": "stream",
     "text": [
      "Trial 94 finished with values: [1.6075337547474529, 1.3282427573566684] and parameters: {'n_estimators': 118, 'learning_rate': 0.06830129372670832, 'max_depth': 8, 'min_samples_split': 2, 'min_samples_leaf': 6}. \n"
     ]
    },
    {
     "name": "stderr",
     "output_type": "stream",
     "text": [
      "[I 2024-07-01 23:06:59,568] Trial 95 finished with values: [0.12819450136530708, 38.870560297193705] and parameters: {'n_estimators': 210, 'learning_rate': 0.0581787809789505, 'max_depth': 8, 'min_samples_split': 9, 'min_samples_leaf': 2}. \n"
     ]
    },
    {
     "name": "stdout",
     "output_type": "stream",
     "text": [
      "Trial 95 finished with values: [0.12819450136530708, 38.870560297193705] and parameters: {'n_estimators': 210, 'learning_rate': 0.0581787809789505, 'max_depth': 8, 'min_samples_split': 9, 'min_samples_leaf': 2}. \n"
     ]
    },
    {
     "name": "stderr",
     "output_type": "stream",
     "text": [
      "[I 2024-07-01 23:08:25,507] Trial 96 finished with values: [3.2132753342961746, 0.21351901993532607] and parameters: {'n_estimators': 197, 'learning_rate': 0.05782983248191659, 'max_depth': 4, 'min_samples_split': 5, 'min_samples_leaf': 5}. \n"
     ]
    },
    {
     "name": "stdout",
     "output_type": "stream",
     "text": [
      "Trial 96 finished with values: [3.2132753342961746, 0.21351901993532607] and parameters: {'n_estimators': 197, 'learning_rate': 0.05782983248191659, 'max_depth': 4, 'min_samples_split': 5, 'min_samples_leaf': 5}. \n"
     ]
    },
    {
     "name": "stderr",
     "output_type": "stream",
     "text": [
      "[I 2024-07-01 23:09:33,516] Trial 97 finished with values: [2.1668603227237906, 0.3706995175773409] and parameters: {'n_estimators': 105, 'learning_rate': 0.06531049423866093, 'max_depth': 6, 'min_samples_split': 5, 'min_samples_leaf': 4}. \n"
     ]
    },
    {
     "name": "stdout",
     "output_type": "stream",
     "text": [
      "Trial 97 finished with values: [2.1668603227237906, 0.3706995175773409] and parameters: {'n_estimators': 105, 'learning_rate': 0.06531049423866093, 'max_depth': 6, 'min_samples_split': 5, 'min_samples_leaf': 4}. \n"
     ]
    },
    {
     "name": "stderr",
     "output_type": "stream",
     "text": [
      "[I 2024-07-01 23:11:36,575] Trial 98 finished with values: [3.5426760435096156, 0.6050698724822227] and parameters: {'n_estimators': 285, 'learning_rate': 0.012496481085596596, 'max_depth': 4, 'min_samples_split': 9, 'min_samples_leaf': 5}. \n"
     ]
    },
    {
     "name": "stdout",
     "output_type": "stream",
     "text": [
      "Trial 98 finished with values: [3.5426760435096156, 0.6050698724822227] and parameters: {'n_estimators': 285, 'learning_rate': 0.012496481085596596, 'max_depth': 4, 'min_samples_split': 9, 'min_samples_leaf': 5}. \n"
     ]
    },
    {
     "name": "stderr",
     "output_type": "stream",
     "text": [
      "[I 2024-07-01 23:12:22,391] Trial 99 finished with values: [2.309486125853402, 0.11131120302238529] and parameters: {'n_estimators': 71, 'learning_rate': 0.098079224331478, 'max_depth': 6, 'min_samples_split': 9, 'min_samples_leaf': 5}. \n"
     ]
    },
    {
     "name": "stdout",
     "output_type": "stream",
     "text": [
      "Trial 99 finished with values: [2.309486125853402, 0.11131120302238529] and parameters: {'n_estimators': 71, 'learning_rate': 0.098079224331478, 'max_depth': 6, 'min_samples_split': 9, 'min_samples_leaf': 5}. \n"
     ]
    },
    {
     "name": "stderr",
     "output_type": "stream",
     "text": [
      "[I 2024-07-01 23:16:17,883] Trial 100 finished with values: [1.9903536370158048, 1.0632977486390929] and parameters: {'n_estimators': 275, 'learning_rate': 0.06531049423866093, 'max_depth': 8, 'min_samples_split': 10, 'min_samples_leaf': 6}. \n"
     ]
    },
    {
     "name": "stdout",
     "output_type": "stream",
     "text": [
      "Trial 100 finished with values: [1.9903536370158048, 1.0632977486390929] and parameters: {'n_estimators': 275, 'learning_rate': 0.06531049423866093, 'max_depth': 8, 'min_samples_split': 10, 'min_samples_leaf': 6}. \n"
     ]
    },
    {
     "name": "stderr",
     "output_type": "stream",
     "text": [
      "[I 2024-07-01 23:18:23,212] Trial 101 finished with values: [2.445893261393539, 0.32222132826921723] and parameters: {'n_estimators': 195, 'learning_rate': 0.017586429698331865, 'max_depth': 6, 'min_samples_split': 9, 'min_samples_leaf': 1}. \n"
     ]
    },
    {
     "name": "stdout",
     "output_type": "stream",
     "text": [
      "Trial 101 finished with values: [2.445893261393539, 0.32222132826921723] and parameters: {'n_estimators': 195, 'learning_rate': 0.017586429698331865, 'max_depth': 6, 'min_samples_split': 9, 'min_samples_leaf': 1}. \n"
     ]
    },
    {
     "name": "stderr",
     "output_type": "stream",
     "text": [
      "[I 2024-07-01 23:19:39,442] Trial 102 finished with values: [2.2891348680765042, 0.1691744874841261] and parameters: {'n_estimators': 118, 'learning_rate': 0.04466131817456185, 'max_depth': 6, 'min_samples_split': 2, 'min_samples_leaf': 3}. \n"
     ]
    },
    {
     "name": "stdout",
     "output_type": "stream",
     "text": [
      "Trial 102 finished with values: [2.2891348680765042, 0.1691744874841261] and parameters: {'n_estimators': 118, 'learning_rate': 0.04466131817456185, 'max_depth': 6, 'min_samples_split': 2, 'min_samples_leaf': 3}. \n"
     ]
    }
   ],
   "source": [
    "best_params_list = []\n",
    "for idx, data_item in enumerate(selected_columns_cluster):\n",
    "    train_cols, _ = split_data(data_item)\n",
    "    optuna_data = scale_data(train_cols)\n",
    "\n",
    "    X_train, X_valid, y_train, y_valid = train_test_split(optuna_data,\n",
    "                                                            train_data['Return'],\n",
    "                                                            test_size=0.5,\n",
    "                                                            shuffle=False)\n",
    "    study = optuna.create_study(directions=['maximize', 'minimize'])\n",
    "\n",
    "    unique_trials = 100\n",
    "    while unique_trials > len(set(str(t.params) for t in study.trials)):\n",
    "        study.optimize(lambda trial: objective_params(trial, X_train, X_valid, y_train, y_valid, train_data['Close']), n_trials=1)\n",
    "\n",
    "    # Retrieve all trials\n",
    "    trials = study.trials\n",
    "\n",
    "    completed_trials = [t for t in study.trials if t.values is not None]\n",
    "\n",
    "    # Sort trials based on objective values\n",
    "    completed_trials.sort(key=lambda trial: trial.values, reverse=True)\n",
    "\n",
    "    # Select top 1 trials\n",
    "    params = completed_trials[0].params\n",
    "    best_params_list.append(params)\n",
    "\n",
    "    model = GradientBoostingRegressor(**params)\n",
    "    model.fit(X_train, y_train)\n",
    "\n",
    "#     model.save_model(f'best_in_cluster_{idx}.json')\n",
    "    with open(f'best_in_cluster_{idx}.pkl', 'wb') as f:\n",
    "        pickle.dump(model, f)"
   ]
  },
  {
   "cell_type": "code",
   "execution_count": 60,
   "id": "ae597fdd",
   "metadata": {
    "execution": {
     "iopub.execute_input": "2024-07-01T23:21:17.283084Z",
     "iopub.status.busy": "2024-07-01T23:21:17.282613Z",
     "iopub.status.idle": "2024-07-01T23:21:17.288704Z",
     "shell.execute_reply": "2024-07-01T23:21:17.287789Z"
    },
    "id": "bICDZWmoqnAM",
    "papermill": {
     "duration": 0.110184,
     "end_time": "2024-07-01T23:21:17.290783",
     "exception": false,
     "start_time": "2024-07-01T23:21:17.180599",
     "status": "completed"
    },
    "tags": []
   },
   "outputs": [],
   "source": [
    "# trials = study.trials\n",
    "# trials.sort(key=lambda trial: trial.values, reverse=True)\n",
    "# study.trials_dataframe().sort_values('values_0', ascending=False)"
   ]
  },
  {
   "cell_type": "markdown",
   "id": "97fb68a6",
   "metadata": {
    "id": "ZfJ2jbgfqnAM",
    "papermill": {
     "duration": 0.10222,
     "end_time": "2024-07-01T23:21:17.492264",
     "exception": false,
     "start_time": "2024-07-01T23:21:17.390044",
     "status": "completed"
    },
    "tags": []
   },
   "source": [
    "# Test and save result"
   ]
  },
  {
   "cell_type": "code",
   "execution_count": 61,
   "id": "7914f326",
   "metadata": {
    "execution": {
     "iopub.execute_input": "2024-07-01T23:21:17.820679Z",
     "iopub.status.busy": "2024-07-01T23:21:17.819774Z",
     "iopub.status.idle": "2024-07-01T23:21:18.295363Z",
     "shell.execute_reply": "2024-07-01T23:21:18.294443Z"
    },
    "id": "FWdWQB46qnAM",
    "papermill": {
     "duration": 0.707197,
     "end_time": "2024-07-01T23:21:18.297738",
     "exception": false,
     "start_time": "2024-07-01T23:21:17.590541",
     "status": "completed"
    },
    "tags": []
   },
   "outputs": [
    {
     "name": "stderr",
     "output_type": "stream",
     "text": [
      "/opt/conda/lib/python3.10/site-packages/numpy/core/fromnumeric.py:59: FutureWarning: 'DataFrame.swapaxes' is deprecated and will be removed in a future version. Please use 'DataFrame.transpose' instead.\n",
      "  return bound(*args, **kwds)\n"
     ]
    }
   ],
   "source": [
    "train_data, hold_out = split_data(data)"
   ]
  },
  {
   "cell_type": "code",
   "execution_count": 62,
   "id": "d7e74ad3",
   "metadata": {
    "execution": {
     "iopub.execute_input": "2024-07-01T23:21:18.498742Z",
     "iopub.status.busy": "2024-07-01T23:21:18.497815Z",
     "iopub.status.idle": "2024-07-01T23:21:18.504465Z",
     "shell.execute_reply": "2024-07-01T23:21:18.503480Z"
    },
    "id": "IG-_sUBMqnAN",
    "papermill": {
     "duration": 0.110068,
     "end_time": "2024-07-01T23:21:18.506550",
     "exception": false,
     "start_time": "2024-07-01T23:21:18.396482",
     "status": "completed"
    },
    "tags": []
   },
   "outputs": [],
   "source": [
    "def return_result_df(hold_out, y_hold_out, data, train_data, pos, pnl):\n",
    "    result = pd.DataFrame()\n",
    "    result['Close_Holdout'] = hold_out['Close']\n",
    "    result['Ground_value_Holdout'] = hold_out['Return']\n",
    "    result['Predict_diff_Holdout'] = pd.Series(y_hold_out, index=data.index[len(train_data):len(data)])\n",
    "    result['Position_predict_Holdout'] = pd.Series(pos, index=data.index[len(train_data):len(data)])\n",
    "    result['PNL_Holdout'] = pd.Series(pnl)\n",
    "    return result"
   ]
  },
  {
   "cell_type": "code",
   "execution_count": 63,
   "id": "b96f2adb",
   "metadata": {
    "execution": {
     "iopub.execute_input": "2024-07-01T23:21:18.715275Z",
     "iopub.status.busy": "2024-07-01T23:21:18.714745Z",
     "iopub.status.idle": "2024-07-01T23:21:20.786621Z",
     "shell.execute_reply": "2024-07-01T23:21:20.785641Z"
    },
    "id": "tMF5DfvAqnAN",
    "outputId": "79dd049d-40b4-4f0d-992d-40902be6742c",
    "papermill": {
     "duration": 2.181247,
     "end_time": "2024-07-01T23:21:20.789504",
     "exception": false,
     "start_time": "2024-07-01T23:21:18.608257",
     "status": "completed"
    },
    "tags": []
   },
   "outputs": [
    {
     "name": "stderr",
     "output_type": "stream",
     "text": [
      "/opt/conda/lib/python3.10/site-packages/numpy/core/fromnumeric.py:59: FutureWarning: 'DataFrame.swapaxes' is deprecated and will be removed in a future version. Please use 'DataFrame.transpose' instead.\n",
      "  return bound(*args, **kwds)\n"
     ]
    },
    {
     "name": "stdout",
     "output_type": "stream",
     "text": [
      "Pnl ratio for cluster 0: 237331         NaN\n",
      "237332         NaN\n",
      "237333         NaN\n",
      "237334         NaN\n",
      "237335         NaN\n",
      "            ...   \n",
      "355991   -0.073918\n",
      "355992   -0.085752\n",
      "355993   -0.080846\n",
      "355994   -0.081780\n",
      "355995   -0.080846\n",
      "Length: 118665, dtype: float64\n"
     ]
    },
    {
     "name": "stderr",
     "output_type": "stream",
     "text": [
      "/opt/conda/lib/python3.10/site-packages/numpy/core/fromnumeric.py:59: FutureWarning: 'DataFrame.swapaxes' is deprecated and will be removed in a future version. Please use 'DataFrame.transpose' instead.\n",
      "  return bound(*args, **kwds)\n",
      "/opt/conda/lib/python3.10/site-packages/numpy/core/fromnumeric.py:59: FutureWarning: 'DataFrame.swapaxes' is deprecated and will be removed in a future version. Please use 'DataFrame.transpose' instead.\n",
      "  return bound(*args, **kwds)\n"
     ]
    },
    {
     "name": "stdout",
     "output_type": "stream",
     "text": [
      "Pnl ratio for cluster 1: 237331         NaN\n",
      "237332         NaN\n",
      "237333         NaN\n",
      "237334         NaN\n",
      "237335         NaN\n",
      "            ...   \n",
      "355991   -0.073208\n",
      "355992   -0.085043\n",
      "355993   -0.080136\n",
      "355994   -0.081070\n",
      "355995   -0.080292\n",
      "Length: 118665, dtype: float64\n"
     ]
    },
    {
     "data": {
      "image/png": "[encoded data removed]",
      "text/plain": [
       "<Figure size 1000x1200 with 2 Axes>"
      ]
     },
     "metadata": {},
     "output_type": "display_data"
    }
   ],
   "source": [
    "pnl_data = []\n",
    "sharpe_list = []\n",
    "result = None\n",
    "trade_threshold  = 0.0005\n",
    "\n",
    "# Create a single figure and set of subplots\n",
    "fig, axes = plt.subplots(len(selected_columns_cluster), figsize=(10, 12))\n",
    "\n",
    "for idx, data_item in enumerate(selected_columns_cluster):\n",
    "#     _, hold_out_cols = split_data(data_item)\n",
    "    train_cols, _ = split_data(data_item)\n",
    "    optuna_data = scale_data(train_cols)\n",
    "    _, hold_out_cols = split_data(data_item)\n",
    "    optuna_data = optuna_data.replace([np.inf, -np.inf], np.nan)\n",
    "    optuna_data = optuna_data.fillna(0).astype(np.float64)\n",
    "    hold_out_cols = hold_out_cols.replace([np.inf, -np.inf], np.nan)\n",
    "    hold_out_cols = hold_out_cols.fillna(0).astype(np.float64)\n",
    "\n",
    "    xbg_reg = GradientBoostingRegressor()\n",
    "    # Create and train model\n",
    "#     xbg_reg.load_model(f\"best_in_cluster_{idx}.json\")\n",
    "    with open(f\"best_in_cluster_{idx}.pkl\", 'rb') as f:\n",
    "        xbg_reg = pickle.load(f)\n",
    "    # Make predictions\n",
    "    hold_out_cols.columns = optuna_data.columns\n",
    "    y_hold_out = xbg_reg.predict(hold_out_cols)\n",
    "    pos, pnl, daily, sharpe = sharpe_for_vn30f(y_hold_out, hold_out['Return'], trade_threshold=trade_threshold, fee_perc=0.01, periods=10)\n",
    "\n",
    "    print(f\"Pnl ratio for cluster {idx}: {pnl}\")\n",
    "    # Append PnL data to the list\n",
    "    pnl_data.append(pnl)\n",
    "    result = return_result_df(hold_out, y_hold_out, data, train_data, pos, pnl)\n",
    "    sharpe_list.append(sharpe)\n",
    "    \n",
    "    # Plot PnL for each cluster\n",
    "    if len(selected_columns_cluster) == 1:\n",
    "        ax = axes\n",
    "    else:\n",
    "        ax = axes[idx]\n",
    "\n",
    "    ax.plot(pnl, label=f'Cluster {idx}')\n",
    "    ax.set_title(f'PnL for Cluster {idx}')\n",
    "    ax.set_xlabel('Date')\n",
    "    ax.set_ylabel('PnL')\n",
    "    ax.legend()\n",
    "    ax.grid(True)\n",
    "\n",
    "# Adjust layout\n",
    "plt.tight_layout()\n",
    "plt.show()"
   ]
  },
  {
   "cell_type": "code",
   "execution_count": 64,
   "id": "ba139695",
   "metadata": {
    "execution": {
     "iopub.execute_input": "2024-07-01T23:21:20.992831Z",
     "iopub.status.busy": "2024-07-01T23:21:20.992052Z",
     "iopub.status.idle": "2024-07-01T23:21:20.997549Z",
     "shell.execute_reply": "2024-07-01T23:21:20.996620Z"
    },
    "id": "MuHQIzsZqnAN",
    "outputId": "33f0b1d4-1ec4-4565-b5be-60293c612b50",
    "papermill": {
     "duration": 0.110156,
     "end_time": "2024-07-01T23:21:21.000020",
     "exception": false,
     "start_time": "2024-07-01T23:21:20.889864",
     "status": "completed"
    },
    "tags": []
   },
   "outputs": [
    {
     "name": "stdout",
     "output_type": "stream",
     "text": [
      "['4 11 10 6 2 1 9 5 0 7', '14 13 4 6 2 11 0 3 7 1']\n"
     ]
    }
   ],
   "source": [
    "#Top 10 feature into list\n",
    "feature=[]\n",
    "for i in top_10_features_per_cluster:\n",
    "    listToStr = ' '.join([str(elem) for elem in i])\n",
    "    feature.append(listToStr)\n",
    "print(feature)"
   ]
  },
  {
   "cell_type": "code",
   "execution_count": 65,
   "id": "9ebd79e2",
   "metadata": {
    "execution": {
     "iopub.execute_input": "2024-07-01T23:21:21.204475Z",
     "iopub.status.busy": "2024-07-01T23:21:21.203736Z",
     "iopub.status.idle": "2024-07-01T23:21:21.208613Z",
     "shell.execute_reply": "2024-07-01T23:21:21.207635Z"
    },
    "id": "CYX69HnfqnAN",
    "papermill": {
     "duration": 0.109416,
     "end_time": "2024-07-01T23:21:21.210724",
     "exception": false,
     "start_time": "2024-07-01T23:21:21.101308",
     "status": "completed"
    },
    "tags": []
   },
   "outputs": [],
   "source": [
    "name=[]\n",
    "for i in range(len(selected_columns_cluster)):\n",
    "  name.append( 'Cluster '+ str(i))"
   ]
  },
  {
   "cell_type": "code",
   "execution_count": 66,
   "id": "4fe351ed",
   "metadata": {
    "execution": {
     "iopub.execute_input": "2024-07-01T23:21:21.415905Z",
     "iopub.status.busy": "2024-07-01T23:21:21.414937Z",
     "iopub.status.idle": "2024-07-01T23:21:21.428444Z",
     "shell.execute_reply": "2024-07-01T23:21:21.427600Z"
    },
    "id": "zj3kWFscqnAO",
    "outputId": "804b6e0b-c973-4037-d564-f879dacdad14",
    "papermill": {
     "duration": 0.118417,
     "end_time": "2024-07-01T23:21:21.430463",
     "exception": false,
     "start_time": "2024-07-01T23:21:21.312046",
     "status": "completed"
    },
    "tags": []
   },
   "outputs": [
    {
     "data": {
      "text/html": [
       "<div>\n",
       "<style scoped>\n",
       "    .dataframe tbody tr th:only-of-type {\n",
       "        vertical-align: middle;\n",
       "    }\n",
       "\n",
       "    .dataframe tbody tr th {\n",
       "        vertical-align: top;\n",
       "    }\n",
       "\n",
       "    .dataframe thead th {\n",
       "        text-align: right;\n",
       "    }\n",
       "</style>\n",
       "<table border=\"1\" class=\"dataframe\">\n",
       "  <thead>\n",
       "    <tr style=\"text-align: right;\">\n",
       "      <th></th>\n",
       "      <th>Top 10 Feature</th>\n",
       "      <th>Best params</th>\n",
       "      <th>Best sharpe</th>\n",
       "    </tr>\n",
       "  </thead>\n",
       "  <tbody>\n",
       "    <tr>\n",
       "      <th>Cluster 0</th>\n",
       "      <td>4 11 10 6 2 1 9 5 0 7</td>\n",
       "      <td>{'n_estimators': 116, 'learning_rate': 0.09309...</td>\n",
       "      <td>-0.247826</td>\n",
       "    </tr>\n",
       "    <tr>\n",
       "      <th>Cluster 1</th>\n",
       "      <td>14 13 4 6 2 11 0 3 7 1</td>\n",
       "      <td>{'n_estimators': 228, 'learning_rate': 0.01483...</td>\n",
       "      <td>-0.228393</td>\n",
       "    </tr>\n",
       "  </tbody>\n",
       "</table>\n",
       "</div>"
      ],
      "text/plain": [
       "                   Top 10 Feature  \\\n",
       "Cluster 0   4 11 10 6 2 1 9 5 0 7   \n",
       "Cluster 1  14 13 4 6 2 11 0 3 7 1   \n",
       "\n",
       "                                                 Best params  Best sharpe  \n",
       "Cluster 0  {'n_estimators': 116, 'learning_rate': 0.09309...    -0.247826  \n",
       "Cluster 1  {'n_estimators': 228, 'learning_rate': 0.01483...    -0.228393  "
      ]
     },
     "execution_count": 66,
     "metadata": {},
     "output_type": "execute_result"
    }
   ],
   "source": [
    "dict = {'Top 10 Feature' : feature, 'Best params': best_params_list, 'Best sharpe':sharpe_list}\n",
    "df_result = pd.DataFrame(dict, index=name)\n",
    "df_result"
   ]
  },
  {
   "cell_type": "code",
   "execution_count": 67,
   "id": "44dc3931",
   "metadata": {
    "execution": {
     "iopub.execute_input": "2024-07-01T23:21:21.636542Z",
     "iopub.status.busy": "2024-07-01T23:21:21.635674Z",
     "iopub.status.idle": "2024-07-01T23:21:21.651573Z",
     "shell.execute_reply": "2024-07-01T23:21:21.650635Z"
    },
    "id": "gC6RQbaHqnAO",
    "outputId": "b1910dd5-1367-4514-ece4-2c49ef48804c",
    "papermill": {
     "duration": 0.121793,
     "end_time": "2024-07-01T23:21:21.653518",
     "exception": false,
     "start_time": "2024-07-01T23:21:21.531725",
     "status": "completed"
    },
    "tags": []
   },
   "outputs": [
    {
     "data": {
      "text/html": [
       "<div>\n",
       "<style scoped>\n",
       "    .dataframe tbody tr th:only-of-type {\n",
       "        vertical-align: middle;\n",
       "    }\n",
       "\n",
       "    .dataframe tbody tr th {\n",
       "        vertical-align: top;\n",
       "    }\n",
       "\n",
       "    .dataframe thead th {\n",
       "        text-align: right;\n",
       "    }\n",
       "</style>\n",
       "<table border=\"1\" class=\"dataframe\">\n",
       "  <thead>\n",
       "    <tr style=\"text-align: right;\">\n",
       "      <th></th>\n",
       "      <th>Cluster 0</th>\n",
       "      <th>Cluster 1</th>\n",
       "    </tr>\n",
       "  </thead>\n",
       "  <tbody>\n",
       "    <tr>\n",
       "      <th>237331</th>\n",
       "      <td>NaN</td>\n",
       "      <td>NaN</td>\n",
       "    </tr>\n",
       "    <tr>\n",
       "      <th>237332</th>\n",
       "      <td>NaN</td>\n",
       "      <td>NaN</td>\n",
       "    </tr>\n",
       "    <tr>\n",
       "      <th>237333</th>\n",
       "      <td>NaN</td>\n",
       "      <td>NaN</td>\n",
       "    </tr>\n",
       "    <tr>\n",
       "      <th>237334</th>\n",
       "      <td>NaN</td>\n",
       "      <td>NaN</td>\n",
       "    </tr>\n",
       "    <tr>\n",
       "      <th>237335</th>\n",
       "      <td>NaN</td>\n",
       "      <td>NaN</td>\n",
       "    </tr>\n",
       "    <tr>\n",
       "      <th>...</th>\n",
       "      <td>...</td>\n",
       "      <td>...</td>\n",
       "    </tr>\n",
       "    <tr>\n",
       "      <th>355991</th>\n",
       "      <td>-0.073918</td>\n",
       "      <td>-0.073208</td>\n",
       "    </tr>\n",
       "    <tr>\n",
       "      <th>355992</th>\n",
       "      <td>-0.085752</td>\n",
       "      <td>-0.085043</td>\n",
       "    </tr>\n",
       "    <tr>\n",
       "      <th>355993</th>\n",
       "      <td>-0.080846</td>\n",
       "      <td>-0.080136</td>\n",
       "    </tr>\n",
       "    <tr>\n",
       "      <th>355994</th>\n",
       "      <td>-0.081780</td>\n",
       "      <td>-0.081070</td>\n",
       "    </tr>\n",
       "    <tr>\n",
       "      <th>355995</th>\n",
       "      <td>-0.080846</td>\n",
       "      <td>-0.080292</td>\n",
       "    </tr>\n",
       "  </tbody>\n",
       "</table>\n",
       "<p>118665 rows × 2 columns</p>\n",
       "</div>"
      ],
      "text/plain": [
       "        Cluster 0  Cluster 1\n",
       "237331        NaN        NaN\n",
       "237332        NaN        NaN\n",
       "237333        NaN        NaN\n",
       "237334        NaN        NaN\n",
       "237335        NaN        NaN\n",
       "...           ...        ...\n",
       "355991  -0.073918  -0.073208\n",
       "355992  -0.085752  -0.085043\n",
       "355993  -0.080846  -0.080136\n",
       "355994  -0.081780  -0.081070\n",
       "355995  -0.080846  -0.080292\n",
       "\n",
       "[118665 rows x 2 columns]"
      ]
     },
     "execution_count": 67,
     "metadata": {},
     "output_type": "execute_result"
    }
   ],
   "source": [
    "#DataFrame of Pnl hold out\n",
    "df_pnl = pd.DataFrame()\n",
    "for i in range(len(selected_columns_cluster)):\n",
    "  df_pnl[name[i]]=pnl_data[i]\n",
    "df_pnl"
   ]
  },
  {
   "cell_type": "code",
   "execution_count": 68,
   "id": "30dbe9e0",
   "metadata": {
    "execution": {
     "iopub.execute_input": "2024-07-01T23:21:21.861984Z",
     "iopub.status.busy": "2024-07-01T23:21:21.861587Z",
     "iopub.status.idle": "2024-07-01T23:21:21.868436Z",
     "shell.execute_reply": "2024-07-01T23:21:21.867430Z"
    },
    "id": "URgaoxghKDDE",
    "papermill": {
     "duration": 0.114568,
     "end_time": "2024-07-01T23:21:21.870567",
     "exception": false,
     "start_time": "2024-07-01T23:21:21.755999",
     "status": "completed"
    },
    "tags": []
   },
   "outputs": [],
   "source": [
    "df_result.to_csv('gbr_result.csv')"
   ]
  },
  {
   "cell_type": "code",
   "execution_count": null,
   "id": "1eae6acc",
   "metadata": {
    "papermill": {
     "duration": 0.102603,
     "end_time": "2024-07-01T23:21:22.075226",
     "exception": false,
     "start_time": "2024-07-01T23:21:21.972623",
     "status": "completed"
    },
    "tags": []
   },
   "outputs": [],
   "source": []
  }
 ],
 "metadata": {
  "colab": {
   "collapsed_sections": [
    "EhK1f5uMqm_4",
    "1AoNRGHXqm_7",
    "cWnAMLgxqm_9"
   ],
   "provenance": []
  },
  "kaggle": {
   "accelerator": "none",
   "dataSources": [
    {
     "datasetId": 5289951,
     "sourceId": 8797461,
     "sourceType": "datasetVersion"
    }
   ],
   "dockerImageVersionId": 30732,
   "isGpuEnabled": false,
   "isInternetEnabled": true,
   "language": "python",
   "sourceType": "notebook"
  },
  "kernelspec": {
   "display_name": "Python 3",
   "language": "python",
   "name": "python3"
  },
  "language_info": {
   "codemirror_mode": {
    "name": "ipython",
    "version": 3
   },
   "file_extension": ".py",
   "mimetype": "text/x-python",
   "name": "python",
   "nbconvert_exporter": "python",
   "pygments_lexer": "ipython3",
   "version": "3.10.13"
  },
  "papermill": {
   "default_parameters": {},
   "duration": 35402.38369,
   "end_time": "2024-07-01T23:21:23.158267",
   "environment_variables": {},
   "exception": null,
   "input_path": "__notebook__.ipynb",
   "output_path": "__notebook__.ipynb",
   "parameters": {},
   "start_time": "2024-07-01T13:31:20.774577",
   "version": "2.5.0"
  }
 },
 "nbformat": 4,
 "nbformat_minor": 5
}
