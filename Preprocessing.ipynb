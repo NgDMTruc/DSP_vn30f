{
 "cells": [
  {
   "cell_type": "code",
   "execution_count": 13,
   "metadata": {},
   "outputs": [],
   "source": [
    "import pandas as pd\n",
    "import numpy as np\n",
    "import matplotlib.pyplot as plt"
   ]
  },
  {
   "cell_type": "code",
   "execution_count": 3,
   "metadata": {},
   "outputs": [],
   "source": [
    "df = pd.read_csv('raw_data.csv')"
   ]
  },
  {
   "cell_type": "markdown",
   "metadata": {},
   "source": [
    "## Data Cleaning and Preprocessing"
   ]
  },
  {
   "cell_type": "markdown",
   "metadata": {},
   "source": [
    "### Handling Missing Values"
   ]
  },
  {
   "cell_type": "code",
   "execution_count": 4,
   "metadata": {},
   "outputs": [
    {
     "data": {
      "text/plain": [
       "Unnamed: 0    0\n",
       "Date          0\n",
       "Open          0\n",
       "High          0\n",
       "Low           0\n",
       "Close         0\n",
       "Volume        0\n",
       "dtype: int64"
      ]
     },
     "execution_count": 4,
     "metadata": {},
     "output_type": "execute_result"
    }
   ],
   "source": [
    "# Check for missing values in each column\n",
    "missing_values = df.isnull().sum()\n",
    "missing_values"
   ]
  },
  {
   "cell_type": "code",
   "execution_count": 9,
   "metadata": {},
   "outputs": [],
   "source": [
    "df.set_index('Date', inplace=True)"
   ]
  },
  {
   "cell_type": "markdown",
   "metadata": {},
   "source": [
    "There is no missing values to handle due to directly crawling from Entrade api"
   ]
  },
  {
   "cell_type": "markdown",
   "metadata": {},
   "source": [
    "### Handling Outliers"
   ]
  },
  {
   "cell_type": "code",
   "execution_count": 11,
   "metadata": {},
   "outputs": [],
   "source": [
    "columns = ['Open', 'High', 'Low', 'Close', 'Volume']"
   ]
  },
  {
   "cell_type": "code",
   "execution_count": 12,
   "metadata": {},
   "outputs": [
    {
     "name": "stdout",
     "output_type": "stream",
     "text": [
      "Open: 0 outliers\n",
      "High: 0 outliers\n",
      "Low: 0 outliers\n",
      "Close: 0 outliers\n",
      "Volume: 3741 outliers\n"
     ]
    }
   ],
   "source": [
    "# Calculate z-scores to identify outliers\n",
    "from scipy.stats import zscore\n",
    "outliers_dfd = {}\n",
    "for column in columns:\n",
    "    z_scores = zscore(df[column])\n",
    "    outliers = (z_scores > 3) | (z_scores < -3)\n",
    "    outliers_df = df[outliers]\n",
    "    outliers_dfd[column] = outliers_df.copy()\n",
    "    print(f'{column}: {outliers_df.shape[0]} outliers')"
   ]
  },
  {
   "cell_type": "code",
   "execution_count": 14,
   "metadata": {},
   "outputs": [
    {
     "data": {
      "image/png": "[encoded data removed]",
      "text/plain": [
       "<Figure size 640x480 with 1 Axes>"
      ]
     },
     "metadata": {},
     "output_type": "display_data"
    }
   ],
   "source": [
    "# Use box plots to visualize outliers\n",
    "import seaborn as sns\n",
    "sns.boxplot(x=df['Volume'])\n",
    "plt.show()"
   ]
  },
  {
   "cell_type": "markdown",
   "metadata": {},
   "source": [
    "Winsorization là gì?\n",
    "Winsorization là một kỹ thuật biến đổi dữ liệu để giảm tác động của các giá trị outliers bằng cách giới hạn các giá trị cực đại và cực tiểu của dữ liệu vào một ngưỡng nhất định. Trong Python, bạn có thể sử dụng hàm winsorize từ thư viện scipy.stats.mstats để thực hiện điều này."
   ]
  },
  {
   "cell_type": "code",
   "execution_count": 15,
   "metadata": {},
   "outputs": [
    {
     "name": "stdout",
     "output_type": "stream",
     "text": [
      "Số lượng outliers sau Winsorization: 0\n"
     ]
    }
   ],
   "source": [
    "from scipy.stats.mstats import winsorize\n",
    "# Áp dụng Winsorization\n",
    "new_df = df.copy()\n",
    "new_df['Volume'] = winsorize(new_df['Volume'], limits=[0.05, 0.05])\n",
    "\n",
    "# Tính toán z-scores và outliers sau khi Winsorization\n",
    "z_scores_new = zscore(new_df['Volume'])\n",
    "outliers_new = (z_scores_new > 3) | (z_scores_new < -3)\n",
    "outliers_df_new = new_df[outliers_new]\n",
    "\n",
    "print(\"Số lượng outliers sau Winsorization:\", len(outliers_df_new))"
   ]
  },
  {
   "cell_type": "markdown",
   "metadata": {},
   "source": [
    "Lợi Nhuận (Returns)\n",
    "Lợi nhuận, hay \"Returns\", là một chỉ số quan trọng trong phân tích tài chính và dự đoán. Nó giúp đo lường mức độ thay đổi của giá trị tài sản qua thời gian, từ đó đánh giá hiệu suất đầu tư. Trong bối cảnh dự đoán chứng khoán phái sinh, lợi nhuận giúp ích như sau:\n",
    "\n",
    "Đánh giá Hiệu Suất Lịch Sử: Bằng cách tính toán lợi nhuận lịch sử, bạn có thể hiểu được xu hướng giá và biến động của tài sản trong quá khứ.\n",
    "Làm Dữ Liệu Trở Nên Stationary: Nhiều mô hình dự đoán yêu cầu dữ liệu phải stationary (không có xu hướng), lợi nhuận giúp loại bỏ xu hướng của giá và biến chuỗi dữ liệu trở nên stationary.\n",
    "So Sánh Tương Quan Giữa Các Tài Sản: Lợi nhuận cho phép so sánh hiệu suất giữa các tài sản khác nhau, dù giá trị tuyệt đối của chúng khác nhau."
   ]
  },
  {
   "cell_type": "code",
   "execution_count": 17,
   "metadata": {},
   "outputs": [],
   "source": [
    "new_df['Returns'] = new_df['Close'].pct_change()"
   ]
  },
  {
   "cell_type": "markdown",
   "metadata": {},
   "source": [
    "SMA (Simple Moving Average)\n",
    "SMA là trung bình cộng của giá trong một khoảng thời gian cụ thể. Nó giúp làm mượt chuỗi dữ liệu và loại bỏ nhiễu, từ đó giúp nhận biết xu hướng tổng quát của giá.\n",
    "\n",
    "Làm Mượt Dữ Liệu: SMA giúp làm mượt chuỗi giá, từ đó dễ dàng nhận biết xu hướng dài hạn hơn.\n",
    "Xác Định Xu Hướng: SMA thường được dùng để xác định xu hướng tăng hoặc giảm. Khi giá nằm trên SMA, xu hướng có thể được coi là tăng; ngược lại, khi giá nằm dưới SMA, xu hướng có thể được coi là giảm.\n",
    "Tín Hiệu Giao Dịch: Các điểm cắt giữa SMA ngắn hạn và dài hạn có thể được dùng làm tín hiệu mua/bán."
   ]
  },
  {
   "cell_type": "code",
   "execution_count": 18,
   "metadata": {},
   "outputs": [],
   "source": [
    "new_df['SMA_10'] = new_df['Close'].rolling(window=10).mean()\n",
    "new_df['SMA_50'] = new_df['Close'].rolling(window=50).mean()"
   ]
  },
  {
   "cell_type": "markdown",
   "metadata": {},
   "source": [
    "Bollinger Bands\n",
    "Bollinger Bands gồm một dải giữa (SMA) và hai dải trên/dưới (Upper/Lower Bands) cách nhau một số lần độ lệch chuẩn. Bollinger Bands giúp đo lường độ biến động và xác định các điều kiện quá mua/quá bán.\n",
    "\n",
    "- Đo Lường Độ Biến Động: Khoảng cách giữa Upper Band và Lower Band cho biết mức độ biến động của giá. Khi khoảng cách này mở rộng, biến động cao; khi thu hẹp, biến động thấp.\n",
    "- Tín Hiệu Quá Mua/Quá Bán: Khi giá chạm hoặc vượt Upper Band, nó có thể báo hiệu tình trạng quá mua (giá cao và có thể giảm). Ngược lại, khi giá chạm hoặc vượt Lower Band, nó có thể báo hiệu tình trạng quá bán (giá thấp và có thể tăng).\n",
    "- Xác Định Xu Hướng Tiềm Năng: Khi giá liên tục chạm vào Upper Band trong một thời gian dài, nó có thể cho thấy xu hướng tăng mạnh. Ngược lại, khi giá liên tục chạm vào Lower Band, nó có thể cho thấy xu hướng giảm mạnh."
   ]
  },
  {
   "cell_type": "code",
   "execution_count": 19,
   "metadata": {},
   "outputs": [],
   "source": [
    "new_df['Middle_Band'] = new_df['Close'].rolling(window=20).mean()\n",
    "new_df['Upper_Band'] = new_df['Middle_Band'] + 2 * new_df['Close'].rolling(window=20).std()\n",
    "new_df['Lower_Band'] = new_df['Middle_Band'] - 2 * new_df['Close'].rolling(window=20).std()"
   ]
  },
  {
   "cell_type": "code",
   "execution_count": 20,
   "metadata": {},
   "outputs": [
    {
     "data": {
      "text/plain": [
       "Open            0\n",
       "High            0\n",
       "Low             0\n",
       "Close           0\n",
       "Volume          0\n",
       "Returns         1\n",
       "SMA_10          9\n",
       "SMA_50         49\n",
       "Middle_Band    19\n",
       "Upper_Band     19\n",
       "Lower_Band     19\n",
       "dtype: int64"
      ]
     },
     "execution_count": 20,
     "metadata": {},
     "output_type": "execute_result"
    }
   ],
   "source": [
    "new_df.isnull().sum()"
   ]
  },
  {
   "cell_type": "code",
   "execution_count": 21,
   "metadata": {},
   "outputs": [
    {
     "data": {
      "text/plain": [
       "Open           0\n",
       "High           0\n",
       "Low            0\n",
       "Close          0\n",
       "Volume         0\n",
       "Returns        0\n",
       "SMA_10         0\n",
       "SMA_50         0\n",
       "Middle_Band    0\n",
       "Upper_Band     0\n",
       "Lower_Band     0\n",
       "dtype: int64"
      ]
     },
     "execution_count": 21,
     "metadata": {},
     "output_type": "execute_result"
    }
   ],
   "source": [
    "new_df = new_df.iloc[50:]\n",
    "new_df.isnull().sum()"
   ]
  },
  {
   "cell_type": "code",
   "execution_count": 22,
   "metadata": {},
   "outputs": [
    {
     "data": {
      "text/html": [
       "<div>\n",
       "<style scoped>\n",
       "    .dataframe tbody tr th:only-of-type {\n",
       "        vertical-align: middle;\n",
       "    }\n",
       "\n",
       "    .dataframe tbody tr th {\n",
       "        vertical-align: top;\n",
       "    }\n",
       "\n",
       "    .dataframe thead th {\n",
       "        text-align: right;\n",
       "    }\n",
       "</style>\n",
       "<table border=\"1\" class=\"dataframe\">\n",
       "  <thead>\n",
       "    <tr style=\"text-align: right;\">\n",
       "      <th></th>\n",
       "      <th>Open</th>\n",
       "      <th>High</th>\n",
       "      <th>Low</th>\n",
       "      <th>Close</th>\n",
       "      <th>Volume</th>\n",
       "      <th>Returns</th>\n",
       "      <th>SMA_10</th>\n",
       "      <th>SMA_50</th>\n",
       "      <th>Middle_Band</th>\n",
       "      <th>Upper_Band</th>\n",
       "      <th>Lower_Band</th>\n",
       "    </tr>\n",
       "    <tr>\n",
       "      <th>Date</th>\n",
       "      <th></th>\n",
       "      <th></th>\n",
       "      <th></th>\n",
       "      <th></th>\n",
       "      <th></th>\n",
       "      <th></th>\n",
       "      <th></th>\n",
       "      <th></th>\n",
       "      <th></th>\n",
       "      <th></th>\n",
       "      <th></th>\n",
       "    </tr>\n",
       "  </thead>\n",
       "  <tbody>\n",
       "    <tr>\n",
       "      <th>2018-08-13 09:50:00</th>\n",
       "      <td>945.0</td>\n",
       "      <td>945.0</td>\n",
       "      <td>944.4</td>\n",
       "      <td>944.4</td>\n",
       "      <td>366</td>\n",
       "      <td>-0.000635</td>\n",
       "      <td>944.55</td>\n",
       "      <td>943.758</td>\n",
       "      <td>944.325</td>\n",
       "      <td>945.163231</td>\n",
       "      <td>943.486769</td>\n",
       "    </tr>\n",
       "    <tr>\n",
       "      <th>2018-08-13 09:51:00</th>\n",
       "      <td>944.5</td>\n",
       "      <td>944.5</td>\n",
       "      <td>944.3</td>\n",
       "      <td>944.5</td>\n",
       "      <td>218</td>\n",
       "      <td>0.000106</td>\n",
       "      <td>944.61</td>\n",
       "      <td>943.786</td>\n",
       "      <td>944.315</td>\n",
       "      <td>945.139046</td>\n",
       "      <td>943.490954</td>\n",
       "    </tr>\n",
       "    <tr>\n",
       "      <th>2018-08-13 09:52:00</th>\n",
       "      <td>944.5</td>\n",
       "      <td>945.0</td>\n",
       "      <td>944.4</td>\n",
       "      <td>945.0</td>\n",
       "      <td>124</td>\n",
       "      <td>0.000529</td>\n",
       "      <td>944.68</td>\n",
       "      <td>943.816</td>\n",
       "      <td>944.330</td>\n",
       "      <td>945.193530</td>\n",
       "      <td>943.466470</td>\n",
       "    </tr>\n",
       "    <tr>\n",
       "      <th>2018-08-13 09:53:00</th>\n",
       "      <td>945.0</td>\n",
       "      <td>945.4</td>\n",
       "      <td>945.0</td>\n",
       "      <td>945.4</td>\n",
       "      <td>172</td>\n",
       "      <td>0.000423</td>\n",
       "      <td>944.77</td>\n",
       "      <td>943.856</td>\n",
       "      <td>944.380</td>\n",
       "      <td>945.367501</td>\n",
       "      <td>943.392499</td>\n",
       "    </tr>\n",
       "    <tr>\n",
       "      <th>2018-08-13 09:54:00</th>\n",
       "      <td>945.4</td>\n",
       "      <td>946.0</td>\n",
       "      <td>945.4</td>\n",
       "      <td>946.0</td>\n",
       "      <td>333</td>\n",
       "      <td>0.000635</td>\n",
       "      <td>944.92</td>\n",
       "      <td>943.914</td>\n",
       "      <td>944.480</td>\n",
       "      <td>945.686299</td>\n",
       "      <td>943.273701</td>\n",
       "    </tr>\n",
       "    <tr>\n",
       "      <th>...</th>\n",
       "      <td>...</td>\n",
       "      <td>...</td>\n",
       "      <td>...</td>\n",
       "      <td>...</td>\n",
       "      <td>...</td>\n",
       "      <td>...</td>\n",
       "      <td>...</td>\n",
       "      <td>...</td>\n",
       "      <td>...</td>\n",
       "      <td>...</td>\n",
       "      <td>...</td>\n",
       "    </tr>\n",
       "    <tr>\n",
       "      <th>2024-05-24 14:27:00</th>\n",
       "      <td>1277.9</td>\n",
       "      <td>1279.6</td>\n",
       "      <td>1277.9</td>\n",
       "      <td>1279.5</td>\n",
       "      <td>1785</td>\n",
       "      <td>0.001409</td>\n",
       "      <td>1277.72</td>\n",
       "      <td>1280.240</td>\n",
       "      <td>1277.555</td>\n",
       "      <td>1282.422713</td>\n",
       "      <td>1272.687287</td>\n",
       "    </tr>\n",
       "    <tr>\n",
       "      <th>2024-05-24 14:28:00</th>\n",
       "      <td>1279.5</td>\n",
       "      <td>1280.5</td>\n",
       "      <td>1279.1</td>\n",
       "      <td>1280.5</td>\n",
       "      <td>1503</td>\n",
       "      <td>0.000782</td>\n",
       "      <td>1278.38</td>\n",
       "      <td>1280.206</td>\n",
       "      <td>1277.610</td>\n",
       "      <td>1282.589072</td>\n",
       "      <td>1272.630928</td>\n",
       "    </tr>\n",
       "    <tr>\n",
       "      <th>2024-05-24 14:29:00</th>\n",
       "      <td>1280.8</td>\n",
       "      <td>1280.8</td>\n",
       "      <td>1279.1</td>\n",
       "      <td>1279.1</td>\n",
       "      <td>2078</td>\n",
       "      <td>-0.001093</td>\n",
       "      <td>1278.71</td>\n",
       "      <td>1280.140</td>\n",
       "      <td>1277.510</td>\n",
       "      <td>1282.269434</td>\n",
       "      <td>1272.750566</td>\n",
       "    </tr>\n",
       "    <tr>\n",
       "      <th>2024-05-24 14:30:00</th>\n",
       "      <td>1278.4</td>\n",
       "      <td>1278.4</td>\n",
       "      <td>1278.4</td>\n",
       "      <td>1278.4</td>\n",
       "      <td>126</td>\n",
       "      <td>-0.000547</td>\n",
       "      <td>1278.89</td>\n",
       "      <td>1280.074</td>\n",
       "      <td>1277.425</td>\n",
       "      <td>1282.048453</td>\n",
       "      <td>1272.801547</td>\n",
       "    </tr>\n",
       "    <tr>\n",
       "      <th>2024-05-24 14:45:00</th>\n",
       "      <td>1277.7</td>\n",
       "      <td>1277.7</td>\n",
       "      <td>1277.7</td>\n",
       "      <td>1277.7</td>\n",
       "      <td>2207</td>\n",
       "      <td>-0.000548</td>\n",
       "      <td>1278.88</td>\n",
       "      <td>1280.018</td>\n",
       "      <td>1277.295</td>\n",
       "      <td>1281.720036</td>\n",
       "      <td>1272.869964</td>\n",
       "    </tr>\n",
       "  </tbody>\n",
       "</table>\n",
       "<p>318789 rows × 11 columns</p>\n",
       "</div>"
      ],
      "text/plain": [
       "                       Open    High     Low   Close  Volume   Returns   \n",
       "Date                                                                    \n",
       "2018-08-13 09:50:00   945.0   945.0   944.4   944.4     366 -0.000635  \\\n",
       "2018-08-13 09:51:00   944.5   944.5   944.3   944.5     218  0.000106   \n",
       "2018-08-13 09:52:00   944.5   945.0   944.4   945.0     124  0.000529   \n",
       "2018-08-13 09:53:00   945.0   945.4   945.0   945.4     172  0.000423   \n",
       "2018-08-13 09:54:00   945.4   946.0   945.4   946.0     333  0.000635   \n",
       "...                     ...     ...     ...     ...     ...       ...   \n",
       "2024-05-24 14:27:00  1277.9  1279.6  1277.9  1279.5    1785  0.001409   \n",
       "2024-05-24 14:28:00  1279.5  1280.5  1279.1  1280.5    1503  0.000782   \n",
       "2024-05-24 14:29:00  1280.8  1280.8  1279.1  1279.1    2078 -0.001093   \n",
       "2024-05-24 14:30:00  1278.4  1278.4  1278.4  1278.4     126 -0.000547   \n",
       "2024-05-24 14:45:00  1277.7  1277.7  1277.7  1277.7    2207 -0.000548   \n",
       "\n",
       "                      SMA_10    SMA_50  Middle_Band   Upper_Band   Lower_Band  \n",
       "Date                                                                           \n",
       "2018-08-13 09:50:00   944.55   943.758      944.325   945.163231   943.486769  \n",
       "2018-08-13 09:51:00   944.61   943.786      944.315   945.139046   943.490954  \n",
       "2018-08-13 09:52:00   944.68   943.816      944.330   945.193530   943.466470  \n",
       "2018-08-13 09:53:00   944.77   943.856      944.380   945.367501   943.392499  \n",
       "2018-08-13 09:54:00   944.92   943.914      944.480   945.686299   943.273701  \n",
       "...                      ...       ...          ...          ...          ...  \n",
       "2024-05-24 14:27:00  1277.72  1280.240     1277.555  1282.422713  1272.687287  \n",
       "2024-05-24 14:28:00  1278.38  1280.206     1277.610  1282.589072  1272.630928  \n",
       "2024-05-24 14:29:00  1278.71  1280.140     1277.510  1282.269434  1272.750566  \n",
       "2024-05-24 14:30:00  1278.89  1280.074     1277.425  1282.048453  1272.801547  \n",
       "2024-05-24 14:45:00  1278.88  1280.018     1277.295  1281.720036  1272.869964  \n",
       "\n",
       "[318789 rows x 11 columns]"
      ]
     },
     "execution_count": 22,
     "metadata": {},
     "output_type": "execute_result"
    }
   ],
   "source": [
    "new_df"
   ]
  },
  {
   "cell_type": "code",
   "execution_count": 25,
   "metadata": {},
   "outputs": [
    {
     "data": {
      "text/html": [
       "<div>\n",
       "<style scoped>\n",
       "    .dataframe tbody tr th:only-of-type {\n",
       "        vertical-align: middle;\n",
       "    }\n",
       "\n",
       "    .dataframe tbody tr th {\n",
       "        vertical-align: top;\n",
       "    }\n",
       "\n",
       "    .dataframe thead th {\n",
       "        text-align: right;\n",
       "    }\n",
       "</style>\n",
       "<table border=\"1\" class=\"dataframe\">\n",
       "  <thead>\n",
       "    <tr style=\"text-align: right;\">\n",
       "      <th></th>\n",
       "      <th>Skewness</th>\n",
       "      <th>Skewness Interpretation</th>\n",
       "      <th>Kurtosis</th>\n",
       "      <th>Kurtosis Interpretation</th>\n",
       "    </tr>\n",
       "  </thead>\n",
       "  <tbody>\n",
       "    <tr>\n",
       "      <th>Returns</th>\n",
       "      <td>8.605521</td>\n",
       "      <td>Strongly positively skewed</td>\n",
       "      <td>2184.966545</td>\n",
       "      <td>Strongly leptokurtic (heavier tails)</td>\n",
       "    </tr>\n",
       "    <tr>\n",
       "      <th>Volume</th>\n",
       "      <td>1.213706</td>\n",
       "      <td>Strongly positively skewed</td>\n",
       "      <td>0.671162</td>\n",
       "      <td>Moderately leptokurtic (heavier tails)</td>\n",
       "    </tr>\n",
       "    <tr>\n",
       "      <th>Close</th>\n",
       "      <td>0.399251</td>\n",
       "      <td>Slightly positively skewed</td>\n",
       "      <td>-1.013124</td>\n",
       "      <td>Strongly platykurtic (lighter tails)</td>\n",
       "    </tr>\n",
       "  </tbody>\n",
       "</table>\n",
       "</div>"
      ],
      "text/plain": [
       "         Skewness     Skewness Interpretation     Kurtosis   \n",
       "Returns  8.605521  Strongly positively skewed  2184.966545  \\\n",
       "Volume   1.213706  Strongly positively skewed     0.671162   \n",
       "Close    0.399251  Slightly positively skewed    -1.013124   \n",
       "\n",
       "                        Kurtosis Interpretation  \n",
       "Returns    Strongly leptokurtic (heavier tails)  \n",
       "Volume   Moderately leptokurtic (heavier tails)  \n",
       "Close      Strongly platykurtic (lighter tails)  "
      ]
     },
     "execution_count": 25,
     "metadata": {},
     "output_type": "execute_result"
    }
   ],
   "source": [
    "def interpret_skewness(value):\n",
    "    if value < -1:\n",
    "        return 'Strongly negatively skewed'\n",
    "    elif -1 <= value < -0.5:\n",
    "        return 'Moderately negatively skewed'\n",
    "    elif -0.5 <= value < 0:\n",
    "        return 'Slightly negatively skewed'\n",
    "    elif 0 <= value < 0.5:\n",
    "        return 'Slightly positively skewed'\n",
    "    elif 0.5 <= value < 1:\n",
    "        return 'Moderately positively skewed'\n",
    "    else:\n",
    "        return 'Strongly positively skewed'\n",
    "\n",
    "def interpret_kurtosis(value):\n",
    "    if value < -1:\n",
    "        return 'Strongly platykurtic (lighter tails)'\n",
    "    elif -1 <= value < -0.5:\n",
    "        return 'Moderately platykurtic (lighter tails)'\n",
    "    elif -0.5 <= value < 0:\n",
    "        return 'Slightly platykurtic (lighter tails)'\n",
    "    elif 0 <= value < 0.5:\n",
    "        return 'Slightly leptokurtic (heavier tails)'\n",
    "    elif 0.5 <= value < 1:\n",
    "        return 'Moderately leptokurtic (heavier tails)'\n",
    "    else:\n",
    "        return 'Strongly leptokurtic (heavier tails)'\n",
    "\n",
    "def analyze_skewness_kurtosis(df):\n",
    "    skewness = df[['Returns', 'Volume', 'Close']].skew()\n",
    "    kurtosis = df[['Returns', 'Volume', 'Close']].kurtosis()\n",
    "\n",
    "    skewness_interpretation = skewness.apply(interpret_skewness)\n",
    "    kurtosis_interpretation = kurtosis.apply(interpret_kurtosis)\n",
    "\n",
    "    results = pd.DataFrame({\n",
    "        'Skewness': skewness,\n",
    "        'Skewness Interpretation': skewness_interpretation,\n",
    "        'Kurtosis': kurtosis,\n",
    "        'Kurtosis Interpretation': kurtosis_interpretation\n",
    "    })\n",
    "\n",
    "    return results\n",
    "\n",
    "results = analyze_skewness_kurtosis(new_df)\n",
    "results\n"
   ]
  }
 ],
 "metadata": {
  "kernelspec": {
   "display_name": "Python 3",
   "language": "python",
   "name": "python3"
  },
  "language_info": {
   "codemirror_mode": {
    "name": "ipython",
    "version": 3
   },
   "file_extension": ".py",
   "mimetype": "text/x-python",
   "name": "python",
   "nbconvert_exporter": "python",
   "pygments_lexer": "ipython3",
   "version": "3.11.3"
  }
 },
 "nbformat": 4,
 "nbformat_minor": 2
}
